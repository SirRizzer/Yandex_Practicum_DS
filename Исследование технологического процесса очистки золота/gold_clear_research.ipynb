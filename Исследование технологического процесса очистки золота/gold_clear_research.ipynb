{
 "cells": [
  {
   "cell_type": "markdown",
   "metadata": {
    "toc": true
   },
   "source": [
    "<h1>Содержание<span class=\"tocSkip\"></span></h1>\n",
    "<div class=\"toc\"><ul class=\"toc-item\"><li><span><a href=\"#Подготовка-данных\" data-toc-modified-id=\"Подготовка-данных-1\"><span class=\"toc-item-num\">1&nbsp;&nbsp;</span>Подготовка данных</a></span><ul class=\"toc-item\"><li><span><a href=\"#Вывод\" data-toc-modified-id=\"Вывод-1.1\"><span class=\"toc-item-num\">1.1&nbsp;&nbsp;</span>Вывод</a></span></li></ul></li><li><span><a href=\"#Анализ-данных\" data-toc-modified-id=\"Анализ-данных-2\"><span class=\"toc-item-num\">2&nbsp;&nbsp;</span>Анализ данных</a></span><ul class=\"toc-item\"><li><span><a href=\"#Посмотрите,-как-меняется-концентрация-металлов-(Au,-Ag,-Pb)-на-различных-этапах-очистки.\" data-toc-modified-id=\"Посмотрите,-как-меняется-концентрация-металлов-(Au,-Ag,-Pb)-на-различных-этапах-очистки.-2.1\"><span class=\"toc-item-num\">2.1&nbsp;&nbsp;</span>Посмотрите, как меняется концентрация металлов (Au, Ag, Pb) на различных этапах очистки.</a></span><ul class=\"toc-item\"><li><span><a href=\"#Вывод\" data-toc-modified-id=\"Вывод-2.1.1\"><span class=\"toc-item-num\">2.1.1&nbsp;&nbsp;</span>Вывод</a></span></li></ul></li><li><span><a href=\"#Сравните-распределения-размеров-гранул-сырья-на-обучающей-и-тестовой-выборках\" data-toc-modified-id=\"Сравните-распределения-размеров-гранул-сырья-на-обучающей-и-тестовой-выборках-2.2\"><span class=\"toc-item-num\">2.2&nbsp;&nbsp;</span>Сравните распределения размеров гранул сырья на обучающей и тестовой выборках</a></span></li><li><span><a href=\"#Исследуйте-суммарную-концентрацию-всех-веществ-на-разных-стадиях\" data-toc-modified-id=\"Исследуйте-суммарную-концентрацию-всех-веществ-на-разных-стадиях-2.3\"><span class=\"toc-item-num\">2.3&nbsp;&nbsp;</span>Исследуйте суммарную концентрацию всех веществ на разных стадиях</a></span></li><li><span><a href=\"#Вывод\" data-toc-modified-id=\"Вывод-2.4\"><span class=\"toc-item-num\">2.4&nbsp;&nbsp;</span>Вывод</a></span></li></ul></li><li><span><a href=\"#Модель\" data-toc-modified-id=\"Модель-3\"><span class=\"toc-item-num\">3&nbsp;&nbsp;</span>Модель</a></span><ul class=\"toc-item\"><li><span><a href=\"#Подготовка\" data-toc-modified-id=\"Подготовка-3.1\"><span class=\"toc-item-num\">3.1&nbsp;&nbsp;</span>Подготовка</a></span></li><li><span><a href=\"#LinearRegression\" data-toc-modified-id=\"LinearRegression-3.2\"><span class=\"toc-item-num\">3.2&nbsp;&nbsp;</span>LinearRegression</a></span></li><li><span><a href=\"#RandomForestRegressor\" data-toc-modified-id=\"RandomForestRegressor-3.3\"><span class=\"toc-item-num\">3.3&nbsp;&nbsp;</span>RandomForestRegressor</a></span></li><li><span><a href=\"#DecisionTreeRegressor\" data-toc-modified-id=\"DecisionTreeRegressor-3.4\"><span class=\"toc-item-num\">3.4&nbsp;&nbsp;</span>DecisionTreeRegressor</a></span></li><li><span><a href=\"#Вывод\" data-toc-modified-id=\"Вывод-3.5\"><span class=\"toc-item-num\">3.5&nbsp;&nbsp;</span>Вывод</a></span></li></ul></li><li><span><a href=\"#Вывод\" data-toc-modified-id=\"Вывод-4\"><span class=\"toc-item-num\">4&nbsp;&nbsp;</span>Вывод</a></span></li><li><span><a href=\"#Чек-лист-готовности-проекта\" data-toc-modified-id=\"Чек-лист-готовности-проекта-5\"><span class=\"toc-item-num\">5&nbsp;&nbsp;</span>Чек-лист готовности проекта</a></span></li></ul></div>"
   ]
  },
  {
   "cell_type": "markdown",
   "metadata": {},
   "source": [
    "# Восстановление золота из руды"
   ]
  },
  {
   "cell_type": "markdown",
   "metadata": {},
   "source": [
    "Подготовьте прототип модели машинного обучения для «Цифры». Компания разрабатывает решения для эффективной работы промышленных предприятий.\n",
    "\n",
    "Модель должна предсказать коэффициент восстановления золота из золотосодержащей руды. Используйте данные с параметрами добычи и очистки. \n",
    "\n",
    "Модель поможет оптимизировать производство, чтобы не запускать предприятие с убыточными характеристиками.\n",
    "\n",
    "Вам нужно:\n",
    "\n",
    "1. Подготовить данные;\n",
    "2. Провести исследовательский анализ данных;\n",
    "3. Построить и обучить модель.\n",
    "\n",
    "Чтобы выполнить проект, обращайтесь к библиотекам *pandas*, *matplotlib* и *sklearn.* Вам поможет их документация."
   ]
  },
  {
   "cell_type": "markdown",
   "metadata": {},
   "source": [
    "## Подготовка данных"
   ]
  },
  {
   "cell_type": "code",
   "execution_count": 1,
   "metadata": {},
   "outputs": [],
   "source": [
    "import pandas as pd\n",
    "import matplotlib.pyplot as plt\n",
    "import numpy as np\n",
    "import seaborn as sns\n",
    "from sklearn.metrics import mean_absolute_error as mae\n",
    "from sklearn.metrics import make_scorer\n",
    "from sklearn.ensemble import RandomForestRegressor\n",
    "from sklearn.linear_model import LinearRegression\n",
    "from sklearn.model_selection import cross_val_score\n",
    "from sklearn.dummy import DummyRegressor\n",
    "from sklearn.tree import DecisionTreeRegressor\n",
    "from sklearn.model_selection import GridSearchCV\n",
    "import warnings\n",
    "warnings.filterwarnings(\"ignore\")\n"
   ]
  },
  {
   "cell_type": "code",
   "execution_count": 2,
   "metadata": {},
   "outputs": [],
   "source": [
    "train = pd.read_csv('/datasets/gold_recovery_train_new.csv')\n",
    "data = pd.read_csv('/datasets/gold_recovery_full_new.csv')\n",
    "test = pd.read_csv('/datasets/gold_recovery_test_new.csv')"
   ]
  },
  {
   "cell_type": "code",
   "execution_count": 3,
   "metadata": {},
   "outputs": [],
   "source": [
    "#Функция информации о таблицах\n",
    "def check(df):\n",
    "\n",
    "    print('Первые пять строк: \\n', df.head())\n",
    "    print('########################')\n",
    "    print('Информация о талице: \\n', df.info())\n",
    "    print('########################')\n",
    "    \n",
    "    display(pd.DataFrame(round((df.isna().mean()*100),2), columns=['NaNs, %']).sort_values(by='NaNs, %', ascending=False).style.format(\n",
    "    '{:.2f}').background_gradient('coolwarm'))\n",
    "    print('########################')\n",
    "    print('Количество дупликатов в таблице: \\n', df.duplicated().sum())\n",
    "    print('########################')"
   ]
  },
  {
   "cell_type": "code",
   "execution_count": 4,
   "metadata": {},
   "outputs": [
    {
     "name": "stdout",
     "output_type": "stream",
     "text": [
      "Первые пять строк: \n",
      "                   date  final.output.concentrate_ag  \\\n",
      "0  2016-01-15 00:00:00                     6.055403   \n",
      "1  2016-01-15 01:00:00                     6.029369   \n",
      "2  2016-01-15 02:00:00                     6.055926   \n",
      "3  2016-01-15 03:00:00                     6.047977   \n",
      "4  2016-01-15 04:00:00                     6.148599   \n",
      "\n",
      "   final.output.concentrate_pb  final.output.concentrate_sol  \\\n",
      "0                     9.889648                      5.507324   \n",
      "1                     9.968944                      5.257781   \n",
      "2                    10.213995                      5.383759   \n",
      "3                     9.977019                      4.858634   \n",
      "4                    10.142511                      4.939416   \n",
      "\n",
      "   final.output.concentrate_au  final.output.recovery  final.output.tail_ag  \\\n",
      "0                    42.192020              70.541216             10.411962   \n",
      "1                    42.701629              69.266198             10.462676   \n",
      "2                    42.657501              68.116445             10.507046   \n",
      "3                    42.689819              68.347543             10.422762   \n",
      "4                    42.774141              66.927016             10.360302   \n",
      "\n",
      "   final.output.tail_pb  final.output.tail_sol  final.output.tail_au  ...  \\\n",
      "0              0.895447              16.904297              2.143149  ...   \n",
      "1              0.927452              16.634514              2.224930  ...   \n",
      "2              0.953716              16.208849              2.257889  ...   \n",
      "3              0.883763              16.532835              2.146849  ...   \n",
      "4              0.792826              16.525686              2.055292  ...   \n",
      "\n",
      "   secondary_cleaner.state.floatbank4_a_air  \\\n",
      "0                                 14.016835   \n",
      "1                                 13.992281   \n",
      "2                                 14.015015   \n",
      "3                                 14.036510   \n",
      "4                                 14.027298   \n",
      "\n",
      "   secondary_cleaner.state.floatbank4_a_level  \\\n",
      "0                                 -502.488007   \n",
      "1                                 -505.503262   \n",
      "2                                 -502.520901   \n",
      "3                                 -500.857308   \n",
      "4                                 -499.838632   \n",
      "\n",
      "   secondary_cleaner.state.floatbank4_b_air  \\\n",
      "0                                 12.099931   \n",
      "1                                 11.950531   \n",
      "2                                 11.912783   \n",
      "3                                 11.999550   \n",
      "4                                 11.953070   \n",
      "\n",
      "   secondary_cleaner.state.floatbank4_b_level  \\\n",
      "0                                 -504.715942   \n",
      "1                                 -501.331529   \n",
      "2                                 -501.133383   \n",
      "3                                 -501.193686   \n",
      "4                                 -501.053894   \n",
      "\n",
      "   secondary_cleaner.state.floatbank5_a_air  \\\n",
      "0                                  9.925633   \n",
      "1                                 10.039245   \n",
      "2                                 10.070913   \n",
      "3                                  9.970366   \n",
      "4                                  9.925709   \n",
      "\n",
      "   secondary_cleaner.state.floatbank5_a_level  \\\n",
      "0                                 -498.310211   \n",
      "1                                 -500.169983   \n",
      "2                                 -500.129135   \n",
      "3                                 -499.201640   \n",
      "4                                 -501.686727   \n",
      "\n",
      "   secondary_cleaner.state.floatbank5_b_air  \\\n",
      "0                                  8.079666   \n",
      "1                                  7.984757   \n",
      "2                                  8.013877   \n",
      "3                                  7.977324   \n",
      "4                                  7.894242   \n",
      "\n",
      "   secondary_cleaner.state.floatbank5_b_level  \\\n",
      "0                                 -500.470978   \n",
      "1                                 -500.582168   \n",
      "2                                 -500.517572   \n",
      "3                                 -500.255908   \n",
      "4                                 -500.356035   \n",
      "\n",
      "   secondary_cleaner.state.floatbank6_a_air  \\\n",
      "0                                 14.151341   \n",
      "1                                 13.998353   \n",
      "2                                 14.028663   \n",
      "3                                 14.005551   \n",
      "4                                 13.996647   \n",
      "\n",
      "   secondary_cleaner.state.floatbank6_a_level  \n",
      "0                                 -605.841980  \n",
      "1                                 -599.787184  \n",
      "2                                 -601.427363  \n",
      "3                                 -599.996129  \n",
      "4                                 -601.496691  \n",
      "\n",
      "[5 rows x 87 columns]\n",
      "########################\n",
      "<class 'pandas.core.frame.DataFrame'>\n",
      "RangeIndex: 14149 entries, 0 to 14148\n",
      "Data columns (total 87 columns):\n",
      " #   Column                                              Non-Null Count  Dtype  \n",
      "---  ------                                              --------------  -----  \n",
      " 0   date                                                14149 non-null  object \n",
      " 1   final.output.concentrate_ag                         14148 non-null  float64\n",
      " 2   final.output.concentrate_pb                         14148 non-null  float64\n",
      " 3   final.output.concentrate_sol                        13938 non-null  float64\n",
      " 4   final.output.concentrate_au                         14149 non-null  float64\n",
      " 5   final.output.recovery                               14149 non-null  float64\n",
      " 6   final.output.tail_ag                                14149 non-null  float64\n",
      " 7   final.output.tail_pb                                14049 non-null  float64\n",
      " 8   final.output.tail_sol                               14144 non-null  float64\n",
      " 9   final.output.tail_au                                14149 non-null  float64\n",
      " 10  primary_cleaner.input.sulfate                       14129 non-null  float64\n",
      " 11  primary_cleaner.input.depressant                    14117 non-null  float64\n",
      " 12  primary_cleaner.input.feed_size                     14149 non-null  float64\n",
      " 13  primary_cleaner.input.xanthate                      14049 non-null  float64\n",
      " 14  primary_cleaner.output.concentrate_ag               14149 non-null  float64\n",
      " 15  primary_cleaner.output.concentrate_pb               14063 non-null  float64\n",
      " 16  primary_cleaner.output.concentrate_sol              13863 non-null  float64\n",
      " 17  primary_cleaner.output.concentrate_au               14149 non-null  float64\n",
      " 18  primary_cleaner.output.tail_ag                      14148 non-null  float64\n",
      " 19  primary_cleaner.output.tail_pb                      14134 non-null  float64\n",
      " 20  primary_cleaner.output.tail_sol                     14103 non-null  float64\n",
      " 21  primary_cleaner.output.tail_au                      14149 non-null  float64\n",
      " 22  primary_cleaner.state.floatbank8_a_air              14145 non-null  float64\n",
      " 23  primary_cleaner.state.floatbank8_a_level            14148 non-null  float64\n",
      " 24  primary_cleaner.state.floatbank8_b_air              14145 non-null  float64\n",
      " 25  primary_cleaner.state.floatbank8_b_level            14148 non-null  float64\n",
      " 26  primary_cleaner.state.floatbank8_c_air              14147 non-null  float64\n",
      " 27  primary_cleaner.state.floatbank8_c_level            14148 non-null  float64\n",
      " 28  primary_cleaner.state.floatbank8_d_air              14146 non-null  float64\n",
      " 29  primary_cleaner.state.floatbank8_d_level            14148 non-null  float64\n",
      " 30  rougher.calculation.sulfate_to_au_concentrate       14148 non-null  float64\n",
      " 31  rougher.calculation.floatbank10_sulfate_to_au_feed  14148 non-null  float64\n",
      " 32  rougher.calculation.floatbank11_sulfate_to_au_feed  14148 non-null  float64\n",
      " 33  rougher.calculation.au_pb_ratio                     14149 non-null  float64\n",
      " 34  rougher.input.feed_ag                               14149 non-null  float64\n",
      " 35  rougher.input.feed_pb                               14049 non-null  float64\n",
      " 36  rougher.input.feed_rate                             14141 non-null  float64\n",
      " 37  rougher.input.feed_size                             14005 non-null  float64\n",
      " 38  rougher.input.feed_sol                              14071 non-null  float64\n",
      " 39  rougher.input.feed_au                               14149 non-null  float64\n",
      " 40  rougher.input.floatbank10_sulfate                   14120 non-null  float64\n",
      " 41  rougher.input.floatbank10_xanthate                  14141 non-null  float64\n",
      " 42  rougher.input.floatbank11_sulfate                   14113 non-null  float64\n",
      " 43  rougher.input.floatbank11_xanthate                  13721 non-null  float64\n",
      " 44  rougher.output.concentrate_ag                       14149 non-null  float64\n",
      " 45  rougher.output.concentrate_pb                       14149 non-null  float64\n",
      " 46  rougher.output.concentrate_sol                      14127 non-null  float64\n",
      " 47  rougher.output.concentrate_au                       14149 non-null  float64\n",
      " 48  rougher.output.recovery                             14149 non-null  float64\n",
      " 49  rougher.output.tail_ag                              14148 non-null  float64\n",
      " 50  rougher.output.tail_pb                              14149 non-null  float64\n",
      " 51  rougher.output.tail_sol                             14149 non-null  float64\n",
      " 52  rougher.output.tail_au                              14149 non-null  float64\n",
      " 53  rougher.state.floatbank10_a_air                     14148 non-null  float64\n",
      " 54  rougher.state.floatbank10_a_level                   14148 non-null  float64\n",
      " 55  rougher.state.floatbank10_b_air                     14148 non-null  float64\n",
      " 56  rougher.state.floatbank10_b_level                   14148 non-null  float64\n",
      " 57  rougher.state.floatbank10_c_air                     14148 non-null  float64\n",
      " 58  rougher.state.floatbank10_c_level                   14148 non-null  float64\n",
      " 59  rougher.state.floatbank10_d_air                     14149 non-null  float64\n",
      " 60  rougher.state.floatbank10_d_level                   14149 non-null  float64\n",
      " 61  rougher.state.floatbank10_e_air                     13713 non-null  float64\n",
      " 62  rougher.state.floatbank10_e_level                   14149 non-null  float64\n",
      " 63  rougher.state.floatbank10_f_air                     14149 non-null  float64\n",
      " 64  rougher.state.floatbank10_f_level                   14149 non-null  float64\n",
      " 65  secondary_cleaner.output.tail_ag                    14147 non-null  float64\n",
      " 66  secondary_cleaner.output.tail_pb                    14139 non-null  float64\n",
      " 67  secondary_cleaner.output.tail_sol                   12544 non-null  float64\n",
      " 68  secondary_cleaner.output.tail_au                    14149 non-null  float64\n",
      " 69  secondary_cleaner.state.floatbank2_a_air            13932 non-null  float64\n",
      " 70  secondary_cleaner.state.floatbank2_a_level          14148 non-null  float64\n",
      " 71  secondary_cleaner.state.floatbank2_b_air            14128 non-null  float64\n",
      " 72  secondary_cleaner.state.floatbank2_b_level          14148 non-null  float64\n",
      " 73  secondary_cleaner.state.floatbank3_a_air            14145 non-null  float64\n",
      " 74  secondary_cleaner.state.floatbank3_a_level          14148 non-null  float64\n",
      " 75  secondary_cleaner.state.floatbank3_b_air            14148 non-null  float64\n",
      " 76  secondary_cleaner.state.floatbank3_b_level          14148 non-null  float64\n",
      " 77  secondary_cleaner.state.floatbank4_a_air            14143 non-null  float64\n",
      " 78  secondary_cleaner.state.floatbank4_a_level          14148 non-null  float64\n",
      " 79  secondary_cleaner.state.floatbank4_b_air            14148 non-null  float64\n",
      " 80  secondary_cleaner.state.floatbank4_b_level          14148 non-null  float64\n",
      " 81  secondary_cleaner.state.floatbank5_a_air            14148 non-null  float64\n",
      " 82  secondary_cleaner.state.floatbank5_a_level          14148 non-null  float64\n",
      " 83  secondary_cleaner.state.floatbank5_b_air            14148 non-null  float64\n",
      " 84  secondary_cleaner.state.floatbank5_b_level          14148 non-null  float64\n",
      " 85  secondary_cleaner.state.floatbank6_a_air            14147 non-null  float64\n",
      " 86  secondary_cleaner.state.floatbank6_a_level          14148 non-null  float64\n",
      "dtypes: float64(86), object(1)\n",
      "memory usage: 9.4+ MB\n",
      "Информация о талице: \n",
      " None\n",
      "########################\n"
     ]
    },
    {
     "data": {
      "text/html": [
       "<style  type=\"text/css\" >\n",
       "#T_d2b11_row0_col0{\n",
       "            background-color:  #b40426;\n",
       "            color:  #f1f1f1;\n",
       "        }#T_d2b11_row1_col0{\n",
       "            background-color:  #94b6ff;\n",
       "            color:  #000000;\n",
       "        }#T_d2b11_row2_col0{\n",
       "            background-color:  #93b5fe;\n",
       "            color:  #000000;\n",
       "        }#T_d2b11_row3_col0{\n",
       "            background-color:  #7396f5;\n",
       "            color:  #000000;\n",
       "        }#T_d2b11_row4_col0{\n",
       "            background-color:  #6485ec;\n",
       "            color:  #000000;\n",
       "        }#T_d2b11_row5_col0{\n",
       "            background-color:  #6384eb;\n",
       "            color:  #000000;\n",
       "        }#T_d2b11_row6_col0{\n",
       "            background-color:  #5673e0;\n",
       "            color:  #000000;\n",
       "        }#T_d2b11_row7_col0,#T_d2b11_row8_col0,#T_d2b11_row9_col0{\n",
       "            background-color:  #4e68d8;\n",
       "            color:  #000000;\n",
       "        }#T_d2b11_row10_col0{\n",
       "            background-color:  #4a63d3;\n",
       "            color:  #f1f1f1;\n",
       "        }#T_d2b11_row11_col0{\n",
       "            background-color:  #4961d2;\n",
       "            color:  #f1f1f1;\n",
       "        }#T_d2b11_row12_col0{\n",
       "            background-color:  #4358cb;\n",
       "            color:  #f1f1f1;\n",
       "        }#T_d2b11_row13_col0,#T_d2b11_row14_col0{\n",
       "            background-color:  #4055c8;\n",
       "            color:  #f1f1f1;\n",
       "        }#T_d2b11_row15_col0{\n",
       "            background-color:  #3f53c6;\n",
       "            color:  #f1f1f1;\n",
       "        }#T_d2b11_row16_col0,#T_d2b11_row17_col0,#T_d2b11_row18_col0{\n",
       "            background-color:  #3e51c5;\n",
       "            color:  #f1f1f1;\n",
       "        }#T_d2b11_row19_col0{\n",
       "            background-color:  #3d50c3;\n",
       "            color:  #f1f1f1;\n",
       "        }#T_d2b11_row20_col0,#T_d2b11_row21_col0,#T_d2b11_row22_col0{\n",
       "            background-color:  #3c4ec2;\n",
       "            color:  #f1f1f1;\n",
       "        }#T_d2b11_row23_col0,#T_d2b11_row24_col0,#T_d2b11_row25_col0,#T_d2b11_row26_col0,#T_d2b11_row27_col0,#T_d2b11_row28_col0,#T_d2b11_row29_col0,#T_d2b11_row30_col0,#T_d2b11_row31_col0,#T_d2b11_row32_col0,#T_d2b11_row33_col0,#T_d2b11_row34_col0,#T_d2b11_row35_col0,#T_d2b11_row36_col0,#T_d2b11_row37_col0,#T_d2b11_row38_col0,#T_d2b11_row39_col0,#T_d2b11_row40_col0,#T_d2b11_row41_col0,#T_d2b11_row42_col0,#T_d2b11_row43_col0,#T_d2b11_row44_col0,#T_d2b11_row45_col0,#T_d2b11_row46_col0,#T_d2b11_row47_col0,#T_d2b11_row48_col0,#T_d2b11_row49_col0,#T_d2b11_row50_col0,#T_d2b11_row51_col0,#T_d2b11_row52_col0,#T_d2b11_row53_col0,#T_d2b11_row54_col0,#T_d2b11_row55_col0,#T_d2b11_row56_col0,#T_d2b11_row57_col0,#T_d2b11_row58_col0,#T_d2b11_row59_col0,#T_d2b11_row60_col0,#T_d2b11_row61_col0,#T_d2b11_row62_col0,#T_d2b11_row63_col0,#T_d2b11_row64_col0,#T_d2b11_row65_col0,#T_d2b11_row66_col0,#T_d2b11_row67_col0,#T_d2b11_row68_col0,#T_d2b11_row69_col0,#T_d2b11_row70_col0,#T_d2b11_row71_col0,#T_d2b11_row72_col0,#T_d2b11_row73_col0,#T_d2b11_row74_col0,#T_d2b11_row75_col0,#T_d2b11_row76_col0,#T_d2b11_row77_col0,#T_d2b11_row78_col0,#T_d2b11_row79_col0,#T_d2b11_row80_col0,#T_d2b11_row81_col0,#T_d2b11_row82_col0,#T_d2b11_row83_col0,#T_d2b11_row84_col0,#T_d2b11_row85_col0,#T_d2b11_row86_col0{\n",
       "            background-color:  #3b4cc0;\n",
       "            color:  #f1f1f1;\n",
       "        }</style><table id=\"T_d2b11_\" ><thead>    <tr>        <th class=\"blank level0\" ></th>        <th class=\"col_heading level0 col0\" >NaNs, %</th>    </tr></thead><tbody>\n",
       "                <tr>\n",
       "                        <th id=\"T_d2b11_level0_row0\" class=\"row_heading level0 row0\" >secondary_cleaner.output.tail_sol</th>\n",
       "                        <td id=\"T_d2b11_row0_col0\" class=\"data row0 col0\" >11.34</td>\n",
       "            </tr>\n",
       "            <tr>\n",
       "                        <th id=\"T_d2b11_level0_row1\" class=\"row_heading level0 row1\" >rougher.state.floatbank10_e_air</th>\n",
       "                        <td id=\"T_d2b11_row1_col0\" class=\"data row1 col0\" >3.08</td>\n",
       "            </tr>\n",
       "            <tr>\n",
       "                        <th id=\"T_d2b11_level0_row2\" class=\"row_heading level0 row2\" >rougher.input.floatbank11_xanthate</th>\n",
       "                        <td id=\"T_d2b11_row2_col0\" class=\"data row2 col0\" >3.02</td>\n",
       "            </tr>\n",
       "            <tr>\n",
       "                        <th id=\"T_d2b11_level0_row3\" class=\"row_heading level0 row3\" >primary_cleaner.output.concentrate_sol</th>\n",
       "                        <td id=\"T_d2b11_row3_col0\" class=\"data row3 col0\" >2.02</td>\n",
       "            </tr>\n",
       "            <tr>\n",
       "                        <th id=\"T_d2b11_level0_row4\" class=\"row_heading level0 row4\" >secondary_cleaner.state.floatbank2_a_air</th>\n",
       "                        <td id=\"T_d2b11_row4_col0\" class=\"data row4 col0\" >1.53</td>\n",
       "            </tr>\n",
       "            <tr>\n",
       "                        <th id=\"T_d2b11_level0_row5\" class=\"row_heading level0 row5\" >final.output.concentrate_sol</th>\n",
       "                        <td id=\"T_d2b11_row5_col0\" class=\"data row5 col0\" >1.49</td>\n",
       "            </tr>\n",
       "            <tr>\n",
       "                        <th id=\"T_d2b11_level0_row6\" class=\"row_heading level0 row6\" >rougher.input.feed_size</th>\n",
       "                        <td id=\"T_d2b11_row6_col0\" class=\"data row6 col0\" >1.02</td>\n",
       "            </tr>\n",
       "            <tr>\n",
       "                        <th id=\"T_d2b11_level0_row7\" class=\"row_heading level0 row7\" >rougher.input.feed_pb</th>\n",
       "                        <td id=\"T_d2b11_row7_col0\" class=\"data row7 col0\" >0.71</td>\n",
       "            </tr>\n",
       "            <tr>\n",
       "                        <th id=\"T_d2b11_level0_row8\" class=\"row_heading level0 row8\" >primary_cleaner.input.xanthate</th>\n",
       "                        <td id=\"T_d2b11_row8_col0\" class=\"data row8 col0\" >0.71</td>\n",
       "            </tr>\n",
       "            <tr>\n",
       "                        <th id=\"T_d2b11_level0_row9\" class=\"row_heading level0 row9\" >final.output.tail_pb</th>\n",
       "                        <td id=\"T_d2b11_row9_col0\" class=\"data row9 col0\" >0.71</td>\n",
       "            </tr>\n",
       "            <tr>\n",
       "                        <th id=\"T_d2b11_level0_row10\" class=\"row_heading level0 row10\" >primary_cleaner.output.concentrate_pb</th>\n",
       "                        <td id=\"T_d2b11_row10_col0\" class=\"data row10 col0\" >0.61</td>\n",
       "            </tr>\n",
       "            <tr>\n",
       "                        <th id=\"T_d2b11_level0_row11\" class=\"row_heading level0 row11\" >rougher.input.feed_sol</th>\n",
       "                        <td id=\"T_d2b11_row11_col0\" class=\"data row11 col0\" >0.55</td>\n",
       "            </tr>\n",
       "            <tr>\n",
       "                        <th id=\"T_d2b11_level0_row12\" class=\"row_heading level0 row12\" >primary_cleaner.output.tail_sol</th>\n",
       "                        <td id=\"T_d2b11_row12_col0\" class=\"data row12 col0\" >0.33</td>\n",
       "            </tr>\n",
       "            <tr>\n",
       "                        <th id=\"T_d2b11_level0_row13\" class=\"row_heading level0 row13\" >rougher.input.floatbank11_sulfate</th>\n",
       "                        <td id=\"T_d2b11_row13_col0\" class=\"data row13 col0\" >0.25</td>\n",
       "            </tr>\n",
       "            <tr>\n",
       "                        <th id=\"T_d2b11_level0_row14\" class=\"row_heading level0 row14\" >primary_cleaner.input.depressant</th>\n",
       "                        <td id=\"T_d2b11_row14_col0\" class=\"data row14 col0\" >0.23</td>\n",
       "            </tr>\n",
       "            <tr>\n",
       "                        <th id=\"T_d2b11_level0_row15\" class=\"row_heading level0 row15\" >rougher.input.floatbank10_sulfate</th>\n",
       "                        <td id=\"T_d2b11_row15_col0\" class=\"data row15 col0\" >0.20</td>\n",
       "            </tr>\n",
       "            <tr>\n",
       "                        <th id=\"T_d2b11_level0_row16\" class=\"row_heading level0 row16\" >rougher.output.concentrate_sol</th>\n",
       "                        <td id=\"T_d2b11_row16_col0\" class=\"data row16 col0\" >0.16</td>\n",
       "            </tr>\n",
       "            <tr>\n",
       "                        <th id=\"T_d2b11_level0_row17\" class=\"row_heading level0 row17\" >secondary_cleaner.state.floatbank2_b_air</th>\n",
       "                        <td id=\"T_d2b11_row17_col0\" class=\"data row17 col0\" >0.15</td>\n",
       "            </tr>\n",
       "            <tr>\n",
       "                        <th id=\"T_d2b11_level0_row18\" class=\"row_heading level0 row18\" >primary_cleaner.input.sulfate</th>\n",
       "                        <td id=\"T_d2b11_row18_col0\" class=\"data row18 col0\" >0.14</td>\n",
       "            </tr>\n",
       "            <tr>\n",
       "                        <th id=\"T_d2b11_level0_row19\" class=\"row_heading level0 row19\" >primary_cleaner.output.tail_pb</th>\n",
       "                        <td id=\"T_d2b11_row19_col0\" class=\"data row19 col0\" >0.11</td>\n",
       "            </tr>\n",
       "            <tr>\n",
       "                        <th id=\"T_d2b11_level0_row20\" class=\"row_heading level0 row20\" >secondary_cleaner.output.tail_pb</th>\n",
       "                        <td id=\"T_d2b11_row20_col0\" class=\"data row20 col0\" >0.07</td>\n",
       "            </tr>\n",
       "            <tr>\n",
       "                        <th id=\"T_d2b11_level0_row21\" class=\"row_heading level0 row21\" >rougher.input.feed_rate</th>\n",
       "                        <td id=\"T_d2b11_row21_col0\" class=\"data row21 col0\" >0.06</td>\n",
       "            </tr>\n",
       "            <tr>\n",
       "                        <th id=\"T_d2b11_level0_row22\" class=\"row_heading level0 row22\" >rougher.input.floatbank10_xanthate</th>\n",
       "                        <td id=\"T_d2b11_row22_col0\" class=\"data row22 col0\" >0.06</td>\n",
       "            </tr>\n",
       "            <tr>\n",
       "                        <th id=\"T_d2b11_level0_row23\" class=\"row_heading level0 row23\" >secondary_cleaner.state.floatbank4_a_air</th>\n",
       "                        <td id=\"T_d2b11_row23_col0\" class=\"data row23 col0\" >0.04</td>\n",
       "            </tr>\n",
       "            <tr>\n",
       "                        <th id=\"T_d2b11_level0_row24\" class=\"row_heading level0 row24\" >final.output.tail_sol</th>\n",
       "                        <td id=\"T_d2b11_row24_col0\" class=\"data row24 col0\" >0.04</td>\n",
       "            </tr>\n",
       "            <tr>\n",
       "                        <th id=\"T_d2b11_level0_row25\" class=\"row_heading level0 row25\" >secondary_cleaner.state.floatbank3_a_air</th>\n",
       "                        <td id=\"T_d2b11_row25_col0\" class=\"data row25 col0\" >0.03</td>\n",
       "            </tr>\n",
       "            <tr>\n",
       "                        <th id=\"T_d2b11_level0_row26\" class=\"row_heading level0 row26\" >primary_cleaner.state.floatbank8_b_air</th>\n",
       "                        <td id=\"T_d2b11_row26_col0\" class=\"data row26 col0\" >0.03</td>\n",
       "            </tr>\n",
       "            <tr>\n",
       "                        <th id=\"T_d2b11_level0_row27\" class=\"row_heading level0 row27\" >primary_cleaner.state.floatbank8_a_air</th>\n",
       "                        <td id=\"T_d2b11_row27_col0\" class=\"data row27 col0\" >0.03</td>\n",
       "            </tr>\n",
       "            <tr>\n",
       "                        <th id=\"T_d2b11_level0_row28\" class=\"row_heading level0 row28\" >primary_cleaner.state.floatbank8_d_air</th>\n",
       "                        <td id=\"T_d2b11_row28_col0\" class=\"data row28 col0\" >0.02</td>\n",
       "            </tr>\n",
       "            <tr>\n",
       "                        <th id=\"T_d2b11_level0_row29\" class=\"row_heading level0 row29\" >secondary_cleaner.state.floatbank2_b_level</th>\n",
       "                        <td id=\"T_d2b11_row29_col0\" class=\"data row29 col0\" >0.01</td>\n",
       "            </tr>\n",
       "            <tr>\n",
       "                        <th id=\"T_d2b11_level0_row30\" class=\"row_heading level0 row30\" >secondary_cleaner.state.floatbank5_a_air</th>\n",
       "                        <td id=\"T_d2b11_row30_col0\" class=\"data row30 col0\" >0.01</td>\n",
       "            </tr>\n",
       "            <tr>\n",
       "                        <th id=\"T_d2b11_level0_row31\" class=\"row_heading level0 row31\" >rougher.state.floatbank10_b_air</th>\n",
       "                        <td id=\"T_d2b11_row31_col0\" class=\"data row31 col0\" >0.01</td>\n",
       "            </tr>\n",
       "            <tr>\n",
       "                        <th id=\"T_d2b11_level0_row32\" class=\"row_heading level0 row32\" >secondary_cleaner.state.floatbank6_a_air</th>\n",
       "                        <td id=\"T_d2b11_row32_col0\" class=\"data row32 col0\" >0.01</td>\n",
       "            </tr>\n",
       "            <tr>\n",
       "                        <th id=\"T_d2b11_level0_row33\" class=\"row_heading level0 row33\" >rougher.state.floatbank10_b_level</th>\n",
       "                        <td id=\"T_d2b11_row33_col0\" class=\"data row33 col0\" >0.01</td>\n",
       "            </tr>\n",
       "            <tr>\n",
       "                        <th id=\"T_d2b11_level0_row34\" class=\"row_heading level0 row34\" >rougher.state.floatbank10_c_air</th>\n",
       "                        <td id=\"T_d2b11_row34_col0\" class=\"data row34 col0\" >0.01</td>\n",
       "            </tr>\n",
       "            <tr>\n",
       "                        <th id=\"T_d2b11_level0_row35\" class=\"row_heading level0 row35\" >rougher.state.floatbank10_c_level</th>\n",
       "                        <td id=\"T_d2b11_row35_col0\" class=\"data row35 col0\" >0.01</td>\n",
       "            </tr>\n",
       "            <tr>\n",
       "                        <th id=\"T_d2b11_level0_row36\" class=\"row_heading level0 row36\" >secondary_cleaner.state.floatbank5_b_level</th>\n",
       "                        <td id=\"T_d2b11_row36_col0\" class=\"data row36 col0\" >0.01</td>\n",
       "            </tr>\n",
       "            <tr>\n",
       "                        <th id=\"T_d2b11_level0_row37\" class=\"row_heading level0 row37\" >secondary_cleaner.state.floatbank5_b_air</th>\n",
       "                        <td id=\"T_d2b11_row37_col0\" class=\"data row37 col0\" >0.01</td>\n",
       "            </tr>\n",
       "            <tr>\n",
       "                        <th id=\"T_d2b11_level0_row38\" class=\"row_heading level0 row38\" >secondary_cleaner.state.floatbank5_a_level</th>\n",
       "                        <td id=\"T_d2b11_row38_col0\" class=\"data row38 col0\" >0.01</td>\n",
       "            </tr>\n",
       "            <tr>\n",
       "                        <th id=\"T_d2b11_level0_row39\" class=\"row_heading level0 row39\" >secondary_cleaner.state.floatbank4_b_level</th>\n",
       "                        <td id=\"T_d2b11_row39_col0\" class=\"data row39 col0\" >0.01</td>\n",
       "            </tr>\n",
       "            <tr>\n",
       "                        <th id=\"T_d2b11_level0_row40\" class=\"row_heading level0 row40\" >secondary_cleaner.state.floatbank4_b_air</th>\n",
       "                        <td id=\"T_d2b11_row40_col0\" class=\"data row40 col0\" >0.01</td>\n",
       "            </tr>\n",
       "            <tr>\n",
       "                        <th id=\"T_d2b11_level0_row41\" class=\"row_heading level0 row41\" >secondary_cleaner.state.floatbank4_a_level</th>\n",
       "                        <td id=\"T_d2b11_row41_col0\" class=\"data row41 col0\" >0.01</td>\n",
       "            </tr>\n",
       "            <tr>\n",
       "                        <th id=\"T_d2b11_level0_row42\" class=\"row_heading level0 row42\" >secondary_cleaner.state.floatbank3_b_level</th>\n",
       "                        <td id=\"T_d2b11_row42_col0\" class=\"data row42 col0\" >0.01</td>\n",
       "            </tr>\n",
       "            <tr>\n",
       "                        <th id=\"T_d2b11_level0_row43\" class=\"row_heading level0 row43\" >secondary_cleaner.output.tail_ag</th>\n",
       "                        <td id=\"T_d2b11_row43_col0\" class=\"data row43 col0\" >0.01</td>\n",
       "            </tr>\n",
       "            <tr>\n",
       "                        <th id=\"T_d2b11_level0_row44\" class=\"row_heading level0 row44\" >secondary_cleaner.state.floatbank3_b_air</th>\n",
       "                        <td id=\"T_d2b11_row44_col0\" class=\"data row44 col0\" >0.01</td>\n",
       "            </tr>\n",
       "            <tr>\n",
       "                        <th id=\"T_d2b11_level0_row45\" class=\"row_heading level0 row45\" >rougher.state.floatbank10_a_air</th>\n",
       "                        <td id=\"T_d2b11_row45_col0\" class=\"data row45 col0\" >0.01</td>\n",
       "            </tr>\n",
       "            <tr>\n",
       "                        <th id=\"T_d2b11_level0_row46\" class=\"row_heading level0 row46\" >secondary_cleaner.state.floatbank2_a_level</th>\n",
       "                        <td id=\"T_d2b11_row46_col0\" class=\"data row46 col0\" >0.01</td>\n",
       "            </tr>\n",
       "            <tr>\n",
       "                        <th id=\"T_d2b11_level0_row47\" class=\"row_heading level0 row47\" >secondary_cleaner.state.floatbank3_a_level</th>\n",
       "                        <td id=\"T_d2b11_row47_col0\" class=\"data row47 col0\" >0.01</td>\n",
       "            </tr>\n",
       "            <tr>\n",
       "                        <th id=\"T_d2b11_level0_row48\" class=\"row_heading level0 row48\" >rougher.state.floatbank10_a_level</th>\n",
       "                        <td id=\"T_d2b11_row48_col0\" class=\"data row48 col0\" >0.01</td>\n",
       "            </tr>\n",
       "            <tr>\n",
       "                        <th id=\"T_d2b11_level0_row49\" class=\"row_heading level0 row49\" >secondary_cleaner.state.floatbank6_a_level</th>\n",
       "                        <td id=\"T_d2b11_row49_col0\" class=\"data row49 col0\" >0.01</td>\n",
       "            </tr>\n",
       "            <tr>\n",
       "                        <th id=\"T_d2b11_level0_row50\" class=\"row_heading level0 row50\" >rougher.calculation.sulfate_to_au_concentrate</th>\n",
       "                        <td id=\"T_d2b11_row50_col0\" class=\"data row50 col0\" >0.01</td>\n",
       "            </tr>\n",
       "            <tr>\n",
       "                        <th id=\"T_d2b11_level0_row51\" class=\"row_heading level0 row51\" >final.output.concentrate_pb</th>\n",
       "                        <td id=\"T_d2b11_row51_col0\" class=\"data row51 col0\" >0.01</td>\n",
       "            </tr>\n",
       "            <tr>\n",
       "                        <th id=\"T_d2b11_level0_row52\" class=\"row_heading level0 row52\" >rougher.output.tail_ag</th>\n",
       "                        <td id=\"T_d2b11_row52_col0\" class=\"data row52 col0\" >0.01</td>\n",
       "            </tr>\n",
       "            <tr>\n",
       "                        <th id=\"T_d2b11_level0_row53\" class=\"row_heading level0 row53\" >rougher.calculation.floatbank10_sulfate_to_au_feed</th>\n",
       "                        <td id=\"T_d2b11_row53_col0\" class=\"data row53 col0\" >0.01</td>\n",
       "            </tr>\n",
       "            <tr>\n",
       "                        <th id=\"T_d2b11_level0_row54\" class=\"row_heading level0 row54\" >primary_cleaner.state.floatbank8_c_level</th>\n",
       "                        <td id=\"T_d2b11_row54_col0\" class=\"data row54 col0\" >0.01</td>\n",
       "            </tr>\n",
       "            <tr>\n",
       "                        <th id=\"T_d2b11_level0_row55\" class=\"row_heading level0 row55\" >rougher.calculation.floatbank11_sulfate_to_au_feed</th>\n",
       "                        <td id=\"T_d2b11_row55_col0\" class=\"data row55 col0\" >0.01</td>\n",
       "            </tr>\n",
       "            <tr>\n",
       "                        <th id=\"T_d2b11_level0_row56\" class=\"row_heading level0 row56\" >primary_cleaner.state.floatbank8_c_air</th>\n",
       "                        <td id=\"T_d2b11_row56_col0\" class=\"data row56 col0\" >0.01</td>\n",
       "            </tr>\n",
       "            <tr>\n",
       "                        <th id=\"T_d2b11_level0_row57\" class=\"row_heading level0 row57\" >final.output.concentrate_ag</th>\n",
       "                        <td id=\"T_d2b11_row57_col0\" class=\"data row57 col0\" >0.01</td>\n",
       "            </tr>\n",
       "            <tr>\n",
       "                        <th id=\"T_d2b11_level0_row58\" class=\"row_heading level0 row58\" >primary_cleaner.state.floatbank8_b_level</th>\n",
       "                        <td id=\"T_d2b11_row58_col0\" class=\"data row58 col0\" >0.01</td>\n",
       "            </tr>\n",
       "            <tr>\n",
       "                        <th id=\"T_d2b11_level0_row59\" class=\"row_heading level0 row59\" >primary_cleaner.state.floatbank8_d_level</th>\n",
       "                        <td id=\"T_d2b11_row59_col0\" class=\"data row59 col0\" >0.01</td>\n",
       "            </tr>\n",
       "            <tr>\n",
       "                        <th id=\"T_d2b11_level0_row60\" class=\"row_heading level0 row60\" >primary_cleaner.state.floatbank8_a_level</th>\n",
       "                        <td id=\"T_d2b11_row60_col0\" class=\"data row60 col0\" >0.01</td>\n",
       "            </tr>\n",
       "            <tr>\n",
       "                        <th id=\"T_d2b11_level0_row61\" class=\"row_heading level0 row61\" >primary_cleaner.output.tail_ag</th>\n",
       "                        <td id=\"T_d2b11_row61_col0\" class=\"data row61 col0\" >0.01</td>\n",
       "            </tr>\n",
       "            <tr>\n",
       "                        <th id=\"T_d2b11_level0_row62\" class=\"row_heading level0 row62\" >primary_cleaner.output.tail_au</th>\n",
       "                        <td id=\"T_d2b11_row62_col0\" class=\"data row62 col0\" >0.00</td>\n",
       "            </tr>\n",
       "            <tr>\n",
       "                        <th id=\"T_d2b11_level0_row63\" class=\"row_heading level0 row63\" >rougher.output.tail_pb</th>\n",
       "                        <td id=\"T_d2b11_row63_col0\" class=\"data row63 col0\" >0.00</td>\n",
       "            </tr>\n",
       "            <tr>\n",
       "                        <th id=\"T_d2b11_level0_row64\" class=\"row_heading level0 row64\" >primary_cleaner.output.concentrate_au</th>\n",
       "                        <td id=\"T_d2b11_row64_col0\" class=\"data row64 col0\" >0.00</td>\n",
       "            </tr>\n",
       "            <tr>\n",
       "                        <th id=\"T_d2b11_level0_row65\" class=\"row_heading level0 row65\" >primary_cleaner.input.feed_size</th>\n",
       "                        <td id=\"T_d2b11_row65_col0\" class=\"data row65 col0\" >0.00</td>\n",
       "            </tr>\n",
       "            <tr>\n",
       "                        <th id=\"T_d2b11_level0_row66\" class=\"row_heading level0 row66\" >final.output.tail_au</th>\n",
       "                        <td id=\"T_d2b11_row66_col0\" class=\"data row66 col0\" >0.00</td>\n",
       "            </tr>\n",
       "            <tr>\n",
       "                        <th id=\"T_d2b11_level0_row67\" class=\"row_heading level0 row67\" >final.output.tail_ag</th>\n",
       "                        <td id=\"T_d2b11_row67_col0\" class=\"data row67 col0\" >0.00</td>\n",
       "            </tr>\n",
       "            <tr>\n",
       "                        <th id=\"T_d2b11_level0_row68\" class=\"row_heading level0 row68\" >final.output.recovery</th>\n",
       "                        <td id=\"T_d2b11_row68_col0\" class=\"data row68 col0\" >0.00</td>\n",
       "            </tr>\n",
       "            <tr>\n",
       "                        <th id=\"T_d2b11_level0_row69\" class=\"row_heading level0 row69\" >final.output.concentrate_au</th>\n",
       "                        <td id=\"T_d2b11_row69_col0\" class=\"data row69 col0\" >0.00</td>\n",
       "            </tr>\n",
       "            <tr>\n",
       "                        <th id=\"T_d2b11_level0_row70\" class=\"row_heading level0 row70\" >primary_cleaner.output.concentrate_ag</th>\n",
       "                        <td id=\"T_d2b11_row70_col0\" class=\"data row70 col0\" >0.00</td>\n",
       "            </tr>\n",
       "            <tr>\n",
       "                        <th id=\"T_d2b11_level0_row71\" class=\"row_heading level0 row71\" >secondary_cleaner.output.tail_au</th>\n",
       "                        <td id=\"T_d2b11_row71_col0\" class=\"data row71 col0\" >0.00</td>\n",
       "            </tr>\n",
       "            <tr>\n",
       "                        <th id=\"T_d2b11_level0_row72\" class=\"row_heading level0 row72\" >rougher.output.tail_sol</th>\n",
       "                        <td id=\"T_d2b11_row72_col0\" class=\"data row72 col0\" >0.00</td>\n",
       "            </tr>\n",
       "            <tr>\n",
       "                        <th id=\"T_d2b11_level0_row73\" class=\"row_heading level0 row73\" >rougher.calculation.au_pb_ratio</th>\n",
       "                        <td id=\"T_d2b11_row73_col0\" class=\"data row73 col0\" >0.00</td>\n",
       "            </tr>\n",
       "            <tr>\n",
       "                        <th id=\"T_d2b11_level0_row74\" class=\"row_heading level0 row74\" >rougher.input.feed_ag</th>\n",
       "                        <td id=\"T_d2b11_row74_col0\" class=\"data row74 col0\" >0.00</td>\n",
       "            </tr>\n",
       "            <tr>\n",
       "                        <th id=\"T_d2b11_level0_row75\" class=\"row_heading level0 row75\" >rougher.state.floatbank10_f_level</th>\n",
       "                        <td id=\"T_d2b11_row75_col0\" class=\"data row75 col0\" >0.00</td>\n",
       "            </tr>\n",
       "            <tr>\n",
       "                        <th id=\"T_d2b11_level0_row76\" class=\"row_heading level0 row76\" >rougher.state.floatbank10_f_air</th>\n",
       "                        <td id=\"T_d2b11_row76_col0\" class=\"data row76 col0\" >0.00</td>\n",
       "            </tr>\n",
       "            <tr>\n",
       "                        <th id=\"T_d2b11_level0_row77\" class=\"row_heading level0 row77\" >rougher.state.floatbank10_e_level</th>\n",
       "                        <td id=\"T_d2b11_row77_col0\" class=\"data row77 col0\" >0.00</td>\n",
       "            </tr>\n",
       "            <tr>\n",
       "                        <th id=\"T_d2b11_level0_row78\" class=\"row_heading level0 row78\" >rougher.input.feed_au</th>\n",
       "                        <td id=\"T_d2b11_row78_col0\" class=\"data row78 col0\" >0.00</td>\n",
       "            </tr>\n",
       "            <tr>\n",
       "                        <th id=\"T_d2b11_level0_row79\" class=\"row_heading level0 row79\" >rougher.state.floatbank10_d_level</th>\n",
       "                        <td id=\"T_d2b11_row79_col0\" class=\"data row79 col0\" >0.00</td>\n",
       "            </tr>\n",
       "            <tr>\n",
       "                        <th id=\"T_d2b11_level0_row80\" class=\"row_heading level0 row80\" >rougher.state.floatbank10_d_air</th>\n",
       "                        <td id=\"T_d2b11_row80_col0\" class=\"data row80 col0\" >0.00</td>\n",
       "            </tr>\n",
       "            <tr>\n",
       "                        <th id=\"T_d2b11_level0_row81\" class=\"row_heading level0 row81\" >rougher.output.concentrate_ag</th>\n",
       "                        <td id=\"T_d2b11_row81_col0\" class=\"data row81 col0\" >0.00</td>\n",
       "            </tr>\n",
       "            <tr>\n",
       "                        <th id=\"T_d2b11_level0_row82\" class=\"row_heading level0 row82\" >rougher.output.concentrate_pb</th>\n",
       "                        <td id=\"T_d2b11_row82_col0\" class=\"data row82 col0\" >0.00</td>\n",
       "            </tr>\n",
       "            <tr>\n",
       "                        <th id=\"T_d2b11_level0_row83\" class=\"row_heading level0 row83\" >rougher.output.concentrate_au</th>\n",
       "                        <td id=\"T_d2b11_row83_col0\" class=\"data row83 col0\" >0.00</td>\n",
       "            </tr>\n",
       "            <tr>\n",
       "                        <th id=\"T_d2b11_level0_row84\" class=\"row_heading level0 row84\" >rougher.output.recovery</th>\n",
       "                        <td id=\"T_d2b11_row84_col0\" class=\"data row84 col0\" >0.00</td>\n",
       "            </tr>\n",
       "            <tr>\n",
       "                        <th id=\"T_d2b11_level0_row85\" class=\"row_heading level0 row85\" >rougher.output.tail_au</th>\n",
       "                        <td id=\"T_d2b11_row85_col0\" class=\"data row85 col0\" >0.00</td>\n",
       "            </tr>\n",
       "            <tr>\n",
       "                        <th id=\"T_d2b11_level0_row86\" class=\"row_heading level0 row86\" >date</th>\n",
       "                        <td id=\"T_d2b11_row86_col0\" class=\"data row86 col0\" >0.00</td>\n",
       "            </tr>\n",
       "    </tbody></table>"
      ],
      "text/plain": [
       "<pandas.io.formats.style.Styler at 0x7f2d10444a90>"
      ]
     },
     "metadata": {},
     "output_type": "display_data"
    },
    {
     "name": "stdout",
     "output_type": "stream",
     "text": [
      "########################\n",
      "Количество дупликатов в таблице: \n",
      " 0\n",
      "########################\n"
     ]
    }
   ],
   "source": [
    "check(train)"
   ]
  },
  {
   "cell_type": "code",
   "execution_count": 5,
   "metadata": {},
   "outputs": [
    {
     "name": "stdout",
     "output_type": "stream",
     "text": [
      "Первые пять строк: \n",
      "                   date  primary_cleaner.input.sulfate  \\\n",
      "0  2016-09-01 00:59:59                     210.800909   \n",
      "1  2016-09-01 01:59:59                     215.392455   \n",
      "2  2016-09-01 02:59:59                     215.259946   \n",
      "3  2016-09-01 03:59:59                     215.336236   \n",
      "4  2016-09-01 04:59:59                     199.099327   \n",
      "\n",
      "   primary_cleaner.input.depressant  primary_cleaner.input.feed_size  \\\n",
      "0                         14.993118                         8.080000   \n",
      "1                         14.987471                         8.080000   \n",
      "2                         12.884934                         7.786667   \n",
      "3                         12.006805                         7.640000   \n",
      "4                         10.682530                         7.530000   \n",
      "\n",
      "   primary_cleaner.input.xanthate  primary_cleaner.state.floatbank8_a_air  \\\n",
      "0                        1.005021                             1398.981301   \n",
      "1                        0.990469                             1398.777912   \n",
      "2                        0.996043                             1398.493666   \n",
      "3                        0.863514                             1399.618111   \n",
      "4                        0.805575                             1401.268123   \n",
      "\n",
      "   primary_cleaner.state.floatbank8_a_level  \\\n",
      "0                               -500.225577   \n",
      "1                               -500.057435   \n",
      "2                               -500.868360   \n",
      "3                               -498.863574   \n",
      "4                               -500.808305   \n",
      "\n",
      "   primary_cleaner.state.floatbank8_b_air  \\\n",
      "0                             1399.144926   \n",
      "1                             1398.055362   \n",
      "2                             1398.860436   \n",
      "3                             1397.440120   \n",
      "4                             1398.128818   \n",
      "\n",
      "   primary_cleaner.state.floatbank8_b_level  \\\n",
      "0                               -499.919735   \n",
      "1                               -499.778182   \n",
      "2                               -499.764529   \n",
      "3                               -499.211024   \n",
      "4                               -499.504543   \n",
      "\n",
      "   primary_cleaner.state.floatbank8_c_air  ...  \\\n",
      "0                             1400.102998  ...   \n",
      "1                             1396.151033  ...   \n",
      "2                             1398.075709  ...   \n",
      "3                             1400.129303  ...   \n",
      "4                             1402.172226  ...   \n",
      "\n",
      "   secondary_cleaner.state.floatbank4_a_air  \\\n",
      "0                                 12.023554   \n",
      "1                                 12.058140   \n",
      "2                                 11.962366   \n",
      "3                                 12.033091   \n",
      "4                                 12.025367   \n",
      "\n",
      "   secondary_cleaner.state.floatbank4_a_level  \\\n",
      "0                                 -497.795834   \n",
      "1                                 -498.695773   \n",
      "2                                 -498.767484   \n",
      "3                                 -498.350935   \n",
      "4                                 -500.786497   \n",
      "\n",
      "   secondary_cleaner.state.floatbank4_b_air  \\\n",
      "0                                  8.016656   \n",
      "1                                  8.130979   \n",
      "2                                  8.096893   \n",
      "3                                  8.074946   \n",
      "4                                  8.054678   \n",
      "\n",
      "   secondary_cleaner.state.floatbank4_b_level  \\\n",
      "0                                 -501.289139   \n",
      "1                                 -499.634209   \n",
      "2                                 -500.827423   \n",
      "3                                 -499.474407   \n",
      "4                                 -500.397500   \n",
      "\n",
      "   secondary_cleaner.state.floatbank5_a_air  \\\n",
      "0                                  7.946562   \n",
      "1                                  7.958270   \n",
      "2                                  8.071056   \n",
      "3                                  7.897085   \n",
      "4                                  8.107890   \n",
      "\n",
      "   secondary_cleaner.state.floatbank5_a_level  \\\n",
      "0                                 -432.317850   \n",
      "1                                 -525.839648   \n",
      "2                                 -500.801673   \n",
      "3                                 -500.868509   \n",
      "4                                 -509.526725   \n",
      "\n",
      "   secondary_cleaner.state.floatbank5_b_air  \\\n",
      "0                                  4.872511   \n",
      "1                                  4.878850   \n",
      "2                                  4.905125   \n",
      "3                                  4.931400   \n",
      "4                                  4.957674   \n",
      "\n",
      "   secondary_cleaner.state.floatbank5_b_level  \\\n",
      "0                                 -500.037437   \n",
      "1                                 -500.162375   \n",
      "2                                 -499.828510   \n",
      "3                                 -499.963623   \n",
      "4                                 -500.360026   \n",
      "\n",
      "   secondary_cleaner.state.floatbank6_a_air  \\\n",
      "0                                 26.705889   \n",
      "1                                 25.019940   \n",
      "2                                 24.994862   \n",
      "3                                 24.948919   \n",
      "4                                 25.003331   \n",
      "\n",
      "   secondary_cleaner.state.floatbank6_a_level  \n",
      "0                                 -499.709414  \n",
      "1                                 -499.819438  \n",
      "2                                 -500.622559  \n",
      "3                                 -498.709987  \n",
      "4                                 -500.856333  \n",
      "\n",
      "[5 rows x 53 columns]\n",
      "########################\n",
      "<class 'pandas.core.frame.DataFrame'>\n",
      "RangeIndex: 5290 entries, 0 to 5289\n",
      "Data columns (total 53 columns):\n",
      " #   Column                                      Non-Null Count  Dtype  \n",
      "---  ------                                      --------------  -----  \n",
      " 0   date                                        5290 non-null   object \n",
      " 1   primary_cleaner.input.sulfate               5286 non-null   float64\n",
      " 2   primary_cleaner.input.depressant            5285 non-null   float64\n",
      " 3   primary_cleaner.input.feed_size             5290 non-null   float64\n",
      " 4   primary_cleaner.input.xanthate              5286 non-null   float64\n",
      " 5   primary_cleaner.state.floatbank8_a_air      5290 non-null   float64\n",
      " 6   primary_cleaner.state.floatbank8_a_level    5290 non-null   float64\n",
      " 7   primary_cleaner.state.floatbank8_b_air      5290 non-null   float64\n",
      " 8   primary_cleaner.state.floatbank8_b_level    5290 non-null   float64\n",
      " 9   primary_cleaner.state.floatbank8_c_air      5290 non-null   float64\n",
      " 10  primary_cleaner.state.floatbank8_c_level    5290 non-null   float64\n",
      " 11  primary_cleaner.state.floatbank8_d_air      5290 non-null   float64\n",
      " 12  primary_cleaner.state.floatbank8_d_level    5290 non-null   float64\n",
      " 13  rougher.input.feed_ag                       5290 non-null   float64\n",
      " 14  rougher.input.feed_pb                       5290 non-null   float64\n",
      " 15  rougher.input.feed_rate                     5287 non-null   float64\n",
      " 16  rougher.input.feed_size                     5289 non-null   float64\n",
      " 17  rougher.input.feed_sol                      5269 non-null   float64\n",
      " 18  rougher.input.feed_au                       5290 non-null   float64\n",
      " 19  rougher.input.floatbank10_sulfate           5285 non-null   float64\n",
      " 20  rougher.input.floatbank10_xanthate          5290 non-null   float64\n",
      " 21  rougher.input.floatbank11_sulfate           5282 non-null   float64\n",
      " 22  rougher.input.floatbank11_xanthate          5265 non-null   float64\n",
      " 23  rougher.state.floatbank10_a_air             5290 non-null   float64\n",
      " 24  rougher.state.floatbank10_a_level           5290 non-null   float64\n",
      " 25  rougher.state.floatbank10_b_air             5290 non-null   float64\n",
      " 26  rougher.state.floatbank10_b_level           5290 non-null   float64\n",
      " 27  rougher.state.floatbank10_c_air             5290 non-null   float64\n",
      " 28  rougher.state.floatbank10_c_level           5290 non-null   float64\n",
      " 29  rougher.state.floatbank10_d_air             5290 non-null   float64\n",
      " 30  rougher.state.floatbank10_d_level           5290 non-null   float64\n",
      " 31  rougher.state.floatbank10_e_air             5290 non-null   float64\n",
      " 32  rougher.state.floatbank10_e_level           5290 non-null   float64\n",
      " 33  rougher.state.floatbank10_f_air             5290 non-null   float64\n",
      " 34  rougher.state.floatbank10_f_level           5290 non-null   float64\n",
      " 35  secondary_cleaner.state.floatbank2_a_air    5287 non-null   float64\n",
      " 36  secondary_cleaner.state.floatbank2_a_level  5290 non-null   float64\n",
      " 37  secondary_cleaner.state.floatbank2_b_air    5288 non-null   float64\n",
      " 38  secondary_cleaner.state.floatbank2_b_level  5290 non-null   float64\n",
      " 39  secondary_cleaner.state.floatbank3_a_air    5281 non-null   float64\n",
      " 40  secondary_cleaner.state.floatbank3_a_level  5290 non-null   float64\n",
      " 41  secondary_cleaner.state.floatbank3_b_air    5290 non-null   float64\n",
      " 42  secondary_cleaner.state.floatbank3_b_level  5290 non-null   float64\n",
      " 43  secondary_cleaner.state.floatbank4_a_air    5290 non-null   float64\n",
      " 44  secondary_cleaner.state.floatbank4_a_level  5290 non-null   float64\n",
      " 45  secondary_cleaner.state.floatbank4_b_air    5290 non-null   float64\n",
      " 46  secondary_cleaner.state.floatbank4_b_level  5290 non-null   float64\n",
      " 47  secondary_cleaner.state.floatbank5_a_air    5290 non-null   float64\n",
      " 48  secondary_cleaner.state.floatbank5_a_level  5290 non-null   float64\n",
      " 49  secondary_cleaner.state.floatbank5_b_air    5290 non-null   float64\n",
      " 50  secondary_cleaner.state.floatbank5_b_level  5290 non-null   float64\n",
      " 51  secondary_cleaner.state.floatbank6_a_air    5290 non-null   float64\n",
      " 52  secondary_cleaner.state.floatbank6_a_level  5290 non-null   float64\n",
      "dtypes: float64(52), object(1)\n",
      "memory usage: 2.1+ MB\n",
      "Информация о талице: \n",
      " None\n",
      "########################\n"
     ]
    },
    {
     "data": {
      "text/html": [
       "<style  type=\"text/css\" >\n",
       "#T_ec19c_row0_col0{\n",
       "            background-color:  #b40426;\n",
       "            color:  #f1f1f1;\n",
       "        }#T_ec19c_row1_col0{\n",
       "            background-color:  #e36c55;\n",
       "            color:  #000000;\n",
       "        }#T_ec19c_row2_col0{\n",
       "            background-color:  #b3cdfb;\n",
       "            color:  #000000;\n",
       "        }#T_ec19c_row3_col0{\n",
       "            background-color:  #a5c3fe;\n",
       "            color:  #000000;\n",
       "        }#T_ec19c_row4_col0,#T_ec19c_row5_col0{\n",
       "            background-color:  #799cf8;\n",
       "            color:  #000000;\n",
       "        }#T_ec19c_row6_col0,#T_ec19c_row7_col0{\n",
       "            background-color:  #7093f3;\n",
       "            color:  #000000;\n",
       "        }#T_ec19c_row8_col0,#T_ec19c_row9_col0{\n",
       "            background-color:  #6282ea;\n",
       "            color:  #000000;\n",
       "        }#T_ec19c_row10_col0{\n",
       "            background-color:  #5470de;\n",
       "            color:  #000000;\n",
       "        }#T_ec19c_row11_col0{\n",
       "            background-color:  #465ecf;\n",
       "            color:  #f1f1f1;\n",
       "        }#T_ec19c_row12_col0,#T_ec19c_row13_col0,#T_ec19c_row14_col0,#T_ec19c_row15_col0,#T_ec19c_row16_col0,#T_ec19c_row17_col0,#T_ec19c_row18_col0,#T_ec19c_row19_col0,#T_ec19c_row20_col0,#T_ec19c_row21_col0,#T_ec19c_row22_col0,#T_ec19c_row23_col0,#T_ec19c_row24_col0,#T_ec19c_row25_col0,#T_ec19c_row26_col0,#T_ec19c_row27_col0,#T_ec19c_row28_col0,#T_ec19c_row29_col0,#T_ec19c_row30_col0,#T_ec19c_row31_col0,#T_ec19c_row32_col0,#T_ec19c_row33_col0,#T_ec19c_row34_col0,#T_ec19c_row35_col0,#T_ec19c_row36_col0,#T_ec19c_row37_col0,#T_ec19c_row38_col0,#T_ec19c_row39_col0,#T_ec19c_row40_col0,#T_ec19c_row41_col0,#T_ec19c_row42_col0,#T_ec19c_row43_col0,#T_ec19c_row44_col0,#T_ec19c_row45_col0,#T_ec19c_row46_col0,#T_ec19c_row47_col0,#T_ec19c_row48_col0,#T_ec19c_row49_col0,#T_ec19c_row50_col0,#T_ec19c_row51_col0,#T_ec19c_row52_col0{\n",
       "            background-color:  #3b4cc0;\n",
       "            color:  #f1f1f1;\n",
       "        }</style><table id=\"T_ec19c_\" ><thead>    <tr>        <th class=\"blank level0\" ></th>        <th class=\"col_heading level0 col0\" >NaNs, %</th>    </tr></thead><tbody>\n",
       "                <tr>\n",
       "                        <th id=\"T_ec19c_level0_row0\" class=\"row_heading level0 row0\" >rougher.input.floatbank11_xanthate</th>\n",
       "                        <td id=\"T_ec19c_row0_col0\" class=\"data row0 col0\" >0.47</td>\n",
       "            </tr>\n",
       "            <tr>\n",
       "                        <th id=\"T_ec19c_level0_row1\" class=\"row_heading level0 row1\" >rougher.input.feed_sol</th>\n",
       "                        <td id=\"T_ec19c_row1_col0\" class=\"data row1 col0\" >0.40</td>\n",
       "            </tr>\n",
       "            <tr>\n",
       "                        <th id=\"T_ec19c_level0_row2\" class=\"row_heading level0 row2\" >secondary_cleaner.state.floatbank3_a_air</th>\n",
       "                        <td id=\"T_ec19c_row2_col0\" class=\"data row2 col0\" >0.17</td>\n",
       "            </tr>\n",
       "            <tr>\n",
       "                        <th id=\"T_ec19c_level0_row3\" class=\"row_heading level0 row3\" >rougher.input.floatbank11_sulfate</th>\n",
       "                        <td id=\"T_ec19c_row3_col0\" class=\"data row3 col0\" >0.15</td>\n",
       "            </tr>\n",
       "            <tr>\n",
       "                        <th id=\"T_ec19c_level0_row4\" class=\"row_heading level0 row4\" >primary_cleaner.input.depressant</th>\n",
       "                        <td id=\"T_ec19c_row4_col0\" class=\"data row4 col0\" >0.09</td>\n",
       "            </tr>\n",
       "            <tr>\n",
       "                        <th id=\"T_ec19c_level0_row5\" class=\"row_heading level0 row5\" >rougher.input.floatbank10_sulfate</th>\n",
       "                        <td id=\"T_ec19c_row5_col0\" class=\"data row5 col0\" >0.09</td>\n",
       "            </tr>\n",
       "            <tr>\n",
       "                        <th id=\"T_ec19c_level0_row6\" class=\"row_heading level0 row6\" >primary_cleaner.input.xanthate</th>\n",
       "                        <td id=\"T_ec19c_row6_col0\" class=\"data row6 col0\" >0.08</td>\n",
       "            </tr>\n",
       "            <tr>\n",
       "                        <th id=\"T_ec19c_level0_row7\" class=\"row_heading level0 row7\" >primary_cleaner.input.sulfate</th>\n",
       "                        <td id=\"T_ec19c_row7_col0\" class=\"data row7 col0\" >0.08</td>\n",
       "            </tr>\n",
       "            <tr>\n",
       "                        <th id=\"T_ec19c_level0_row8\" class=\"row_heading level0 row8\" >rougher.input.feed_rate</th>\n",
       "                        <td id=\"T_ec19c_row8_col0\" class=\"data row8 col0\" >0.06</td>\n",
       "            </tr>\n",
       "            <tr>\n",
       "                        <th id=\"T_ec19c_level0_row9\" class=\"row_heading level0 row9\" >secondary_cleaner.state.floatbank2_a_air</th>\n",
       "                        <td id=\"T_ec19c_row9_col0\" class=\"data row9 col0\" >0.06</td>\n",
       "            </tr>\n",
       "            <tr>\n",
       "                        <th id=\"T_ec19c_level0_row10\" class=\"row_heading level0 row10\" >secondary_cleaner.state.floatbank2_b_air</th>\n",
       "                        <td id=\"T_ec19c_row10_col0\" class=\"data row10 col0\" >0.04</td>\n",
       "            </tr>\n",
       "            <tr>\n",
       "                        <th id=\"T_ec19c_level0_row11\" class=\"row_heading level0 row11\" >rougher.input.feed_size</th>\n",
       "                        <td id=\"T_ec19c_row11_col0\" class=\"data row11 col0\" >0.02</td>\n",
       "            </tr>\n",
       "            <tr>\n",
       "                        <th id=\"T_ec19c_level0_row12\" class=\"row_heading level0 row12\" >secondary_cleaner.state.floatbank2_b_level</th>\n",
       "                        <td id=\"T_ec19c_row12_col0\" class=\"data row12 col0\" >0.00</td>\n",
       "            </tr>\n",
       "            <tr>\n",
       "                        <th id=\"T_ec19c_level0_row13\" class=\"row_heading level0 row13\" >rougher.state.floatbank10_f_level</th>\n",
       "                        <td id=\"T_ec19c_row13_col0\" class=\"data row13 col0\" >0.00</td>\n",
       "            </tr>\n",
       "            <tr>\n",
       "                        <th id=\"T_ec19c_level0_row14\" class=\"row_heading level0 row14\" >rougher.state.floatbank10_f_air</th>\n",
       "                        <td id=\"T_ec19c_row14_col0\" class=\"data row14 col0\" >0.00</td>\n",
       "            </tr>\n",
       "            <tr>\n",
       "                        <th id=\"T_ec19c_level0_row15\" class=\"row_heading level0 row15\" >secondary_cleaner.state.floatbank3_a_level</th>\n",
       "                        <td id=\"T_ec19c_row15_col0\" class=\"data row15 col0\" >0.00</td>\n",
       "            </tr>\n",
       "            <tr>\n",
       "                        <th id=\"T_ec19c_level0_row16\" class=\"row_heading level0 row16\" >secondary_cleaner.state.floatbank2_a_level</th>\n",
       "                        <td id=\"T_ec19c_row16_col0\" class=\"data row16 col0\" >0.00</td>\n",
       "            </tr>\n",
       "            <tr>\n",
       "                        <th id=\"T_ec19c_level0_row17\" class=\"row_heading level0 row17\" >date</th>\n",
       "                        <td id=\"T_ec19c_row17_col0\" class=\"data row17 col0\" >0.00</td>\n",
       "            </tr>\n",
       "            <tr>\n",
       "                        <th id=\"T_ec19c_level0_row18\" class=\"row_heading level0 row18\" >rougher.state.floatbank10_e_air</th>\n",
       "                        <td id=\"T_ec19c_row18_col0\" class=\"data row18 col0\" >0.00</td>\n",
       "            </tr>\n",
       "            <tr>\n",
       "                        <th id=\"T_ec19c_level0_row19\" class=\"row_heading level0 row19\" >secondary_cleaner.state.floatbank3_b_air</th>\n",
       "                        <td id=\"T_ec19c_row19_col0\" class=\"data row19 col0\" >0.00</td>\n",
       "            </tr>\n",
       "            <tr>\n",
       "                        <th id=\"T_ec19c_level0_row20\" class=\"row_heading level0 row20\" >secondary_cleaner.state.floatbank3_b_level</th>\n",
       "                        <td id=\"T_ec19c_row20_col0\" class=\"data row20 col0\" >0.00</td>\n",
       "            </tr>\n",
       "            <tr>\n",
       "                        <th id=\"T_ec19c_level0_row21\" class=\"row_heading level0 row21\" >secondary_cleaner.state.floatbank4_a_air</th>\n",
       "                        <td id=\"T_ec19c_row21_col0\" class=\"data row21 col0\" >0.00</td>\n",
       "            </tr>\n",
       "            <tr>\n",
       "                        <th id=\"T_ec19c_level0_row22\" class=\"row_heading level0 row22\" >secondary_cleaner.state.floatbank4_a_level</th>\n",
       "                        <td id=\"T_ec19c_row22_col0\" class=\"data row22 col0\" >0.00</td>\n",
       "            </tr>\n",
       "            <tr>\n",
       "                        <th id=\"T_ec19c_level0_row23\" class=\"row_heading level0 row23\" >secondary_cleaner.state.floatbank4_b_air</th>\n",
       "                        <td id=\"T_ec19c_row23_col0\" class=\"data row23 col0\" >0.00</td>\n",
       "            </tr>\n",
       "            <tr>\n",
       "                        <th id=\"T_ec19c_level0_row24\" class=\"row_heading level0 row24\" >secondary_cleaner.state.floatbank4_b_level</th>\n",
       "                        <td id=\"T_ec19c_row24_col0\" class=\"data row24 col0\" >0.00</td>\n",
       "            </tr>\n",
       "            <tr>\n",
       "                        <th id=\"T_ec19c_level0_row25\" class=\"row_heading level0 row25\" >secondary_cleaner.state.floatbank5_a_air</th>\n",
       "                        <td id=\"T_ec19c_row25_col0\" class=\"data row25 col0\" >0.00</td>\n",
       "            </tr>\n",
       "            <tr>\n",
       "                        <th id=\"T_ec19c_level0_row26\" class=\"row_heading level0 row26\" >secondary_cleaner.state.floatbank5_a_level</th>\n",
       "                        <td id=\"T_ec19c_row26_col0\" class=\"data row26 col0\" >0.00</td>\n",
       "            </tr>\n",
       "            <tr>\n",
       "                        <th id=\"T_ec19c_level0_row27\" class=\"row_heading level0 row27\" >secondary_cleaner.state.floatbank5_b_air</th>\n",
       "                        <td id=\"T_ec19c_row27_col0\" class=\"data row27 col0\" >0.00</td>\n",
       "            </tr>\n",
       "            <tr>\n",
       "                        <th id=\"T_ec19c_level0_row28\" class=\"row_heading level0 row28\" >secondary_cleaner.state.floatbank5_b_level</th>\n",
       "                        <td id=\"T_ec19c_row28_col0\" class=\"data row28 col0\" >0.00</td>\n",
       "            </tr>\n",
       "            <tr>\n",
       "                        <th id=\"T_ec19c_level0_row29\" class=\"row_heading level0 row29\" >secondary_cleaner.state.floatbank6_a_air</th>\n",
       "                        <td id=\"T_ec19c_row29_col0\" class=\"data row29 col0\" >0.00</td>\n",
       "            </tr>\n",
       "            <tr>\n",
       "                        <th id=\"T_ec19c_level0_row30\" class=\"row_heading level0 row30\" >rougher.state.floatbank10_e_level</th>\n",
       "                        <td id=\"T_ec19c_row30_col0\" class=\"data row30 col0\" >0.00</td>\n",
       "            </tr>\n",
       "            <tr>\n",
       "                        <th id=\"T_ec19c_level0_row31\" class=\"row_heading level0 row31\" >rougher.state.floatbank10_b_level</th>\n",
       "                        <td id=\"T_ec19c_row31_col0\" class=\"data row31 col0\" >0.00</td>\n",
       "            </tr>\n",
       "            <tr>\n",
       "                        <th id=\"T_ec19c_level0_row32\" class=\"row_heading level0 row32\" >rougher.state.floatbank10_d_level</th>\n",
       "                        <td id=\"T_ec19c_row32_col0\" class=\"data row32 col0\" >0.00</td>\n",
       "            </tr>\n",
       "            <tr>\n",
       "                        <th id=\"T_ec19c_level0_row33\" class=\"row_heading level0 row33\" >primary_cleaner.state.floatbank8_d_level</th>\n",
       "                        <td id=\"T_ec19c_row33_col0\" class=\"data row33 col0\" >0.00</td>\n",
       "            </tr>\n",
       "            <tr>\n",
       "                        <th id=\"T_ec19c_level0_row34\" class=\"row_heading level0 row34\" >primary_cleaner.input.feed_size</th>\n",
       "                        <td id=\"T_ec19c_row34_col0\" class=\"data row34 col0\" >0.00</td>\n",
       "            </tr>\n",
       "            <tr>\n",
       "                        <th id=\"T_ec19c_level0_row35\" class=\"row_heading level0 row35\" >primary_cleaner.state.floatbank8_a_air</th>\n",
       "                        <td id=\"T_ec19c_row35_col0\" class=\"data row35 col0\" >0.00</td>\n",
       "            </tr>\n",
       "            <tr>\n",
       "                        <th id=\"T_ec19c_level0_row36\" class=\"row_heading level0 row36\" >primary_cleaner.state.floatbank8_a_level</th>\n",
       "                        <td id=\"T_ec19c_row36_col0\" class=\"data row36 col0\" >0.00</td>\n",
       "            </tr>\n",
       "            <tr>\n",
       "                        <th id=\"T_ec19c_level0_row37\" class=\"row_heading level0 row37\" >primary_cleaner.state.floatbank8_b_air</th>\n",
       "                        <td id=\"T_ec19c_row37_col0\" class=\"data row37 col0\" >0.00</td>\n",
       "            </tr>\n",
       "            <tr>\n",
       "                        <th id=\"T_ec19c_level0_row38\" class=\"row_heading level0 row38\" >primary_cleaner.state.floatbank8_b_level</th>\n",
       "                        <td id=\"T_ec19c_row38_col0\" class=\"data row38 col0\" >0.00</td>\n",
       "            </tr>\n",
       "            <tr>\n",
       "                        <th id=\"T_ec19c_level0_row39\" class=\"row_heading level0 row39\" >primary_cleaner.state.floatbank8_c_air</th>\n",
       "                        <td id=\"T_ec19c_row39_col0\" class=\"data row39 col0\" >0.00</td>\n",
       "            </tr>\n",
       "            <tr>\n",
       "                        <th id=\"T_ec19c_level0_row40\" class=\"row_heading level0 row40\" >primary_cleaner.state.floatbank8_c_level</th>\n",
       "                        <td id=\"T_ec19c_row40_col0\" class=\"data row40 col0\" >0.00</td>\n",
       "            </tr>\n",
       "            <tr>\n",
       "                        <th id=\"T_ec19c_level0_row41\" class=\"row_heading level0 row41\" >primary_cleaner.state.floatbank8_d_air</th>\n",
       "                        <td id=\"T_ec19c_row41_col0\" class=\"data row41 col0\" >0.00</td>\n",
       "            </tr>\n",
       "            <tr>\n",
       "                        <th id=\"T_ec19c_level0_row42\" class=\"row_heading level0 row42\" >rougher.input.feed_ag</th>\n",
       "                        <td id=\"T_ec19c_row42_col0\" class=\"data row42 col0\" >0.00</td>\n",
       "            </tr>\n",
       "            <tr>\n",
       "                        <th id=\"T_ec19c_level0_row43\" class=\"row_heading level0 row43\" >rougher.state.floatbank10_d_air</th>\n",
       "                        <td id=\"T_ec19c_row43_col0\" class=\"data row43 col0\" >0.00</td>\n",
       "            </tr>\n",
       "            <tr>\n",
       "                        <th id=\"T_ec19c_level0_row44\" class=\"row_heading level0 row44\" >rougher.input.feed_pb</th>\n",
       "                        <td id=\"T_ec19c_row44_col0\" class=\"data row44 col0\" >0.00</td>\n",
       "            </tr>\n",
       "            <tr>\n",
       "                        <th id=\"T_ec19c_level0_row45\" class=\"row_heading level0 row45\" >rougher.input.feed_au</th>\n",
       "                        <td id=\"T_ec19c_row45_col0\" class=\"data row45 col0\" >0.00</td>\n",
       "            </tr>\n",
       "            <tr>\n",
       "                        <th id=\"T_ec19c_level0_row46\" class=\"row_heading level0 row46\" >rougher.input.floatbank10_xanthate</th>\n",
       "                        <td id=\"T_ec19c_row46_col0\" class=\"data row46 col0\" >0.00</td>\n",
       "            </tr>\n",
       "            <tr>\n",
       "                        <th id=\"T_ec19c_level0_row47\" class=\"row_heading level0 row47\" >rougher.state.floatbank10_a_air</th>\n",
       "                        <td id=\"T_ec19c_row47_col0\" class=\"data row47 col0\" >0.00</td>\n",
       "            </tr>\n",
       "            <tr>\n",
       "                        <th id=\"T_ec19c_level0_row48\" class=\"row_heading level0 row48\" >rougher.state.floatbank10_a_level</th>\n",
       "                        <td id=\"T_ec19c_row48_col0\" class=\"data row48 col0\" >0.00</td>\n",
       "            </tr>\n",
       "            <tr>\n",
       "                        <th id=\"T_ec19c_level0_row49\" class=\"row_heading level0 row49\" >rougher.state.floatbank10_b_air</th>\n",
       "                        <td id=\"T_ec19c_row49_col0\" class=\"data row49 col0\" >0.00</td>\n",
       "            </tr>\n",
       "            <tr>\n",
       "                        <th id=\"T_ec19c_level0_row50\" class=\"row_heading level0 row50\" >rougher.state.floatbank10_c_air</th>\n",
       "                        <td id=\"T_ec19c_row50_col0\" class=\"data row50 col0\" >0.00</td>\n",
       "            </tr>\n",
       "            <tr>\n",
       "                        <th id=\"T_ec19c_level0_row51\" class=\"row_heading level0 row51\" >rougher.state.floatbank10_c_level</th>\n",
       "                        <td id=\"T_ec19c_row51_col0\" class=\"data row51 col0\" >0.00</td>\n",
       "            </tr>\n",
       "            <tr>\n",
       "                        <th id=\"T_ec19c_level0_row52\" class=\"row_heading level0 row52\" >secondary_cleaner.state.floatbank6_a_level</th>\n",
       "                        <td id=\"T_ec19c_row52_col0\" class=\"data row52 col0\" >0.00</td>\n",
       "            </tr>\n",
       "    </tbody></table>"
      ],
      "text/plain": [
       "<pandas.io.formats.style.Styler at 0x7f2d1044b160>"
      ]
     },
     "metadata": {},
     "output_type": "display_data"
    },
    {
     "name": "stdout",
     "output_type": "stream",
     "text": [
      "########################\n",
      "Количество дупликатов в таблице: \n",
      " 0\n",
      "########################\n"
     ]
    }
   ],
   "source": [
    "check(test)"
   ]
  },
  {
   "cell_type": "markdown",
   "metadata": {},
   "source": [
    "В таблице train 87 колонок, 14149 строк, есть пропуски. В таблице test 53 колонки, 5290 строк, ест. пропуски"
   ]
  },
  {
   "cell_type": "code",
   "execution_count": 6,
   "metadata": {},
   "outputs": [],
   "source": [
    "#Переменные для расчёта эффективности обогащения\n",
    "F = train['rougher.input.feed_au']\n",
    "C = train['rougher.output.concentrate_au']\n",
    "T = train['rougher.output.tail_au']"
   ]
  },
  {
   "cell_type": "code",
   "execution_count": 7,
   "metadata": {
    "scrolled": true
   },
   "outputs": [
    {
     "name": "stdout",
     "output_type": "stream",
     "text": [
      "0        87.107763\n",
      "1        86.843261\n",
      "2        86.842308\n",
      "3        87.226430\n",
      "4        86.688794\n",
      "           ...    \n",
      "14144    89.574376\n",
      "14145    87.724007\n",
      "14146    88.890579\n",
      "14147    89.858126\n",
      "14148    89.514960\n",
      "Length: 14149, dtype: float64\n"
     ]
    }
   ],
   "source": [
    "recovery = C*(F-T)/(F*(C-T))*100\n",
    "print(recovery)"
   ]
  },
  {
   "cell_type": "code",
   "execution_count": 8,
   "metadata": {},
   "outputs": [
    {
     "name": "stdout",
     "output_type": "stream",
     "text": [
      "MAE: 9.73512347450521e-15\n"
     ]
    }
   ],
   "source": [
    "error = mae(train['rougher.output.recovery'], recovery)\n",
    "print('MAE:', error)"
   ]
  },
  {
   "cell_type": "markdown",
   "metadata": {},
   "source": [
    "Среднее абсолютное отклонение очень маленькое, следовательно формулу и расчеты можно считать верными"
   ]
  },
  {
   "cell_type": "code",
   "execution_count": 9,
   "metadata": {},
   "outputs": [
    {
     "data": {
      "text/plain": [
       "['final.output.concentrate_ag',\n",
       " 'final.output.concentrate_pb',\n",
       " 'final.output.concentrate_sol',\n",
       " 'final.output.concentrate_au',\n",
       " 'final.output.recovery',\n",
       " 'final.output.tail_ag',\n",
       " 'final.output.tail_pb',\n",
       " 'final.output.tail_sol',\n",
       " 'final.output.tail_au',\n",
       " 'primary_cleaner.output.concentrate_ag',\n",
       " 'primary_cleaner.output.concentrate_pb',\n",
       " 'primary_cleaner.output.concentrate_sol',\n",
       " 'primary_cleaner.output.concentrate_au',\n",
       " 'primary_cleaner.output.tail_ag',\n",
       " 'primary_cleaner.output.tail_pb',\n",
       " 'primary_cleaner.output.tail_sol',\n",
       " 'primary_cleaner.output.tail_au',\n",
       " 'rougher.calculation.sulfate_to_au_concentrate',\n",
       " 'rougher.calculation.floatbank10_sulfate_to_au_feed',\n",
       " 'rougher.calculation.floatbank11_sulfate_to_au_feed',\n",
       " 'rougher.calculation.au_pb_ratio',\n",
       " 'rougher.output.concentrate_ag',\n",
       " 'rougher.output.concentrate_pb',\n",
       " 'rougher.output.concentrate_sol',\n",
       " 'rougher.output.concentrate_au',\n",
       " 'rougher.output.recovery',\n",
       " 'rougher.output.tail_ag',\n",
       " 'rougher.output.tail_pb',\n",
       " 'rougher.output.tail_sol',\n",
       " 'rougher.output.tail_au',\n",
       " 'secondary_cleaner.output.tail_ag',\n",
       " 'secondary_cleaner.output.tail_pb',\n",
       " 'secondary_cleaner.output.tail_sol',\n",
       " 'secondary_cleaner.output.tail_au']"
      ]
     },
     "execution_count": 9,
     "metadata": {},
     "output_type": "execute_result"
    }
   ],
   "source": [
    "unavailable = [i for i in train.columns if i not in test.columns]\n",
    "unavailable"
   ]
  },
  {
   "cell_type": "markdown",
   "metadata": {},
   "source": [
    "### Вывод\n",
    "- Из 34 пропущенных признаков 30 относятся к параметрам продукта и только 4 к расчетным характеристикам\n",
    "- 9 пропущенных признаков этапа final, 8 primary_cleaner, 9 rougher, 4 secondary_cleaner относятся к параметрам продукта\n",
    "- 4 пропущенных признака этапа rougher относятся к расчетным характеристикам\n",
    "- В test на всех этапах отсутствует информация о хвостовых частях \n",
    "- В test у всех этапах, кроме повторной очистки отсутствует информация о доле металлов\n",
    "- В test у финального этапа и этапа флотации отсутствуют признаки обогащения\n",
    "- В test так же отсутствуют данные о некоторых реагентах на этапе флотации\n",
    "- Резюме: в test отсутствуют данные, которые к моменту начала процесса, когда мы хотим получить прогноз, мы не имеем. Если у нас уже будут эти данные, то там прогнозировать уже ничего не нужно, можно просто посчитать по формуле."
   ]
  },
  {
   "cell_type": "markdown",
   "metadata": {},
   "source": [
    "Так как в условии сказано, что соседние по времени параметры часто похожи, то заполним пропуски соседними значениями. Столбец date не влияет на модель обучения, поэтому его можно удалить(см. пункт 3.1)"
   ]
  },
  {
   "cell_type": "code",
   "execution_count": 10,
   "metadata": {},
   "outputs": [],
   "source": [
    "train = train.sort_values(by = 'date').ffill()\n",
    "test = test.sort_values(by = 'date').ffill()"
   ]
  },
  {
   "cell_type": "markdown",
   "metadata": {},
   "source": [
    "## Анализ данных"
   ]
  },
  {
   "cell_type": "markdown",
   "metadata": {},
   "source": [
    "### Посмотрите, как меняется концентрация металлов (Au, Ag, Pb) на различных этапах очистки."
   ]
  },
  {
   "cell_type": "code",
   "execution_count": 11,
   "metadata": {},
   "outputs": [
    {
     "name": "stdout",
     "output_type": "stream",
     "text": [
      "Концентрация металлов до флотации \n",
      "\n",
      "Концентрация золота: 7.87 % Концентрация серебра: 8.58 % Концентрация sol: 36.29 % Концентрация свинца: 3.51 % \n",
      "\n",
      "Концентрация металлов после флотации \n",
      "\n",
      "Концентрация золота: 19.44 % Концентрация серебра: 11.78 % Концентрация sol: 28.29 % Концентрация свинца: 7.66 % \n",
      "\n",
      "Концентрация металлов после первой очистки \n",
      "\n",
      "Концентрация золота: 32.39 % Концентрация серебра: 8.2 % Концентрация sol: 10.02 % Концентрация свинца: 9.57 % \n",
      "\n",
      "Концентрация металлов после второй очистки \n",
      "\n",
      "Концентрация золота: 44.0 % Концентрация серебра: 5.14 % Концентрация sol: 9.11 % Концентрация свинца: 10.13 %\n"
     ]
    }
   ],
   "source": [
    "print('Концентрация металлов до флотации \\n')\n",
    "print('Концентрация золота:', round(train['rougher.input.feed_au'].mean(), 2), '%',\n",
    "     'Концентрация серебра:', round(train['rougher.input.feed_ag'].mean(), 2), '%',\n",
    "      'Концентрация sol:', round(train['rougher.input.feed_sol'].mean(), 2), '%',\n",
    "     'Концентрация свинца:', round(train['rougher.input.feed_pb'].mean(), 2), '% \\n')\n",
    "print('Концентрация металлов после флотации \\n')\n",
    "print('Концентрация золота:', round(train['rougher.output.concentrate_au'].mean(), 2), '%',\n",
    "     'Концентрация серебра:', round(train['rougher.output.concentrate_ag'].mean(), 2), '%',\n",
    "      'Концентрация sol:', round(train['rougher.output.concentrate_sol'].mean(), 2), '%',\n",
    "     'Концентрация свинца:', round(train['rougher.output.concentrate_pb'].mean(), 2), '% \\n')\n",
    "print('Концентрация металлов после первой очистки \\n')\n",
    "print('Концентрация золота:', round(train['primary_cleaner.output.concentrate_au'].mean(), 2), '%',\n",
    "     'Концентрация серебра:', round(train['primary_cleaner.output.concentrate_ag'].mean(), 2), '%',\n",
    "      'Концентрация sol:', round(train['primary_cleaner.output.concentrate_sol'].mean(), 2), '%',\n",
    "     'Концентрация свинца:', round(train['primary_cleaner.output.concentrate_pb'].mean(), 2), '% \\n')\n",
    "print('Концентрация металлов после второй очистки \\n')\n",
    "print('Концентрация золота:', round(train['final.output.concentrate_au'].mean(), 2), '%',\n",
    "     'Концентрация серебра:', round(train['final.output.concentrate_ag'].mean(), 2), '%',\n",
    "     'Концентрация sol:', round(train['final.output.concentrate_sol'].mean(), 2), '%',\n",
    "     'Концентрация свинца:', round(train['final.output.concentrate_pb'].mean(), 2), '%')"
   ]
  },
  {
   "cell_type": "code",
   "execution_count": 12,
   "metadata": {},
   "outputs": [
    {
     "data": {
      "image/png": "[encoded data removed]",
      "text/plain": [
       "<Figure size 720x432 with 1 Axes>"
      ]
     },
     "metadata": {
      "needs_background": "light"
     },
     "output_type": "display_data"
    }
   ],
   "source": [
    "#Распределение концентрации золота на различных этапах\n",
    "plt.figure(figsize=(10,6))\n",
    "sns.histplot(train['rougher.input.feed_au'], kde = True, label = 'flotation')\n",
    "sns.histplot(train['rougher.output.concentrate_au'], kde = True,label = 'draft', color ='r')\n",
    "sns.histplot(train['primary_cleaner.output.concentrate_au'], kde = True,label = 'first', color = 'g')\n",
    "sns.histplot(train['final.output.concentrate_au'], kde = True,label = 'final', color ='b')\n",
    "plt.title('Распределение концентрации золота')\n",
    "plt.legend(prop={'size': 12}, title = 'Frame')\n",
    "plt.show()"
   ]
  },
  {
   "cell_type": "code",
   "execution_count": 13,
   "metadata": {},
   "outputs": [
    {
     "data": {
      "image/png": "[encoded data removed]",
      "text/plain": [
       "<Figure size 720x432 with 1 Axes>"
      ]
     },
     "metadata": {
      "needs_background": "light"
     },
     "output_type": "display_data"
    }
   ],
   "source": [
    "#Распределение концентрации серебра на различных этапах\n",
    "plt.figure(figsize=(10,6))\n",
    "sns.histplot(train['rougher.input.feed_ag'], kde = True, label = 'flotation')\n",
    "sns.histplot(train['rougher.output.concentrate_ag'], kde = True,label = 'draft', color ='r')\n",
    "sns.histplot(train['primary_cleaner.output.concentrate_ag'], kde = True,label = 'first', color = 'g')\n",
    "sns.histplot(train['final.output.concentrate_ag'], kde = True,label = 'final', color ='b')\n",
    "plt.title('Распределение концентрации серебра')\n",
    "plt.legend(prop={'size': 12}, title = 'Frame')\n",
    "plt.show()"
   ]
  },
  {
   "cell_type": "code",
   "execution_count": 14,
   "metadata": {},
   "outputs": [
    {
     "data": {
      "image/png": "[encoded data removed]",
      "text/plain": [
       "<Figure size 720x432 with 1 Axes>"
      ]
     },
     "metadata": {
      "needs_background": "light"
     },
     "output_type": "display_data"
    }
   ],
   "source": [
    "#Распределение концентрации свинца на различных этапах\n",
    "plt.figure(figsize=(10,6))\n",
    "sns.histplot(train['rougher.input.feed_pb'], kde = True, label = 'flotation')\n",
    "sns.histplot(train['rougher.output.concentrate_pb'], kde = True,label = 'draft', color ='r')\n",
    "sns.histplot(train['primary_cleaner.output.concentrate_pb'], kde = True,label = 'first', color = 'g')\n",
    "sns.histplot(train['final.output.concentrate_pb'], kde = True,label = 'final', color ='b')\n",
    "plt.title('Распределение концентрации свинца')\n",
    "plt.legend(prop={'size': 12}, title = 'Frame')\n",
    "plt.show()"
   ]
  },
  {
   "cell_type": "markdown",
   "metadata": {},
   "source": [
    "#### Вывод"
   ]
  },
  {
   "cell_type": "markdown",
   "metadata": {},
   "source": [
    "Концентрация золота увеличивается после всех этапов обработки. Концентрация серебра сначала увеличивается после флотации, затем уменьшается послей первой очистки. Концентрация свинца увеличивается после всех этапов обработки. Концентрация sol уменьшается. У концентрации каждого вещества есть выбросы в 0."
   ]
  },
  {
   "cell_type": "markdown",
   "metadata": {},
   "source": [
    "### Сравните распределения размеров гранул сырья на обучающей и тестовой выборках"
   ]
  },
  {
   "cell_type": "code",
   "execution_count": 15,
   "metadata": {},
   "outputs": [
    {
     "data": {
      "image/png": "[encoded data removed]",
      "text/plain": [
       "<Figure size 720x432 with 1 Axes>"
      ]
     },
     "metadata": {
      "needs_background": "light"
     },
     "output_type": "display_data"
    }
   ],
   "source": [
    "#Распределения размеров гранул сырья на обучающей и тестовой выборках до флотации\n",
    "plt.figure(figsize=(10,6))\n",
    "sns.distplot(train['rougher.input.feed_size'], hist = False, kde = True, label = 'train')\n",
    "sns.distplot(test['rougher.input.feed_size'], hist = False, kde = True,label = 'test')\n",
    "plt.title('Размер гранул')\n",
    "plt.legend(prop={'size': 14}, title = 'Frame')\n",
    "plt.show()"
   ]
  },
  {
   "cell_type": "code",
   "execution_count": 16,
   "metadata": {
    "scrolled": true
   },
   "outputs": [
    {
     "data": {
      "image/png": "[encoded data removed]",
      "text/plain": [
       "<Figure size 720x432 with 1 Axes>"
      ]
     },
     "metadata": {
      "needs_background": "light"
     },
     "output_type": "display_data"
    }
   ],
   "source": [
    "#Распределения размеров гранул сырья на обучающей и тестовой выборках перед первой очисткой\n",
    "plt.figure(figsize=(10,6))\n",
    "sns.distplot(train['primary_cleaner.input.feed_size'], hist = False, kde = True, label = 'train')\n",
    "sns.distplot(test['primary_cleaner.input.feed_size'], hist = False, kde = True,label = 'test')\n",
    "plt.title('Размер гранул')\n",
    "plt.legend(prop={'size': 14}, title = 'Frame')\n",
    "plt.show()"
   ]
  },
  {
   "cell_type": "markdown",
   "metadata": {},
   "source": [
    "Графики почти идентичны, такую модель можно обучать"
   ]
  },
  {
   "cell_type": "markdown",
   "metadata": {},
   "source": [
    "### Исследуйте суммарную концентрацию всех веществ на разных стадиях"
   ]
  },
  {
   "cell_type": "code",
   "execution_count": 17,
   "metadata": {},
   "outputs": [
    {
     "name": "stdout",
     "output_type": "stream",
     "text": [
      "Суммарная концентрация металлов в сырье \n",
      "\n",
      "Суммарная концентрация золота: 111304.2 Суммарная концентрация серебра: 121387.03 \n",
      " Суммарная концентрация свинца: 49598.82 Суммарная концентрация всех веществ: 282290.05\n",
      "\n",
      " Концентрация металлов в черновом концентрате \n",
      "\n",
      "Суммарная концентрация золота: 275055.96 Суммарная концентрация серебра: 166615.97 \n",
      " Суммарная концентрация свинца: 108445.79 Суммарная концентрация всех веществ: 550117.72\n",
      "\n",
      " Концентрация металлов в финальном концентрате \n",
      "\n",
      "Суммарная концентрация золота: 622609.65 Суммарная концентрация серебра: 72753.04 \n",
      " Суммарная концентрация свинца: 143369.66 Суммарная концентрация всех веществ: 838732.35\n"
     ]
    }
   ],
   "source": [
    "#Суммарная концентрация\n",
    "print('Суммарная концентрация металлов в сырье \\n')\n",
    "print('Суммарная концентрация золота:', round(train['rougher.input.feed_au'].sum(), 2),\n",
    "     'Суммарная концентрация серебра:', round(train['rougher.input.feed_ag'].sum(), 2),\n",
    "     '\\n Суммарная концентрация свинца:', round(train['rougher.input.feed_pb'].sum(), 2), \n",
    "      'Суммарная концентрация всех веществ:',  round(train['rougher.input.feed_au'].sum() + \n",
    "                                                    train['rougher.input.feed_ag'].sum() + \n",
    "                                                     train['rougher.input.feed_pb'].sum(), 2))\n",
    "print('\\n Концентрация металлов в черновом концентрате \\n', )\n",
    "print('Суммарная концентрация золота:', round(train['rougher.output.concentrate_au'].sum(), 2),\n",
    "     'Суммарная концентрация серебра:', round(train['rougher.output.concentrate_ag'].sum(), 2),\n",
    "     '\\n Суммарная концентрация свинца:', round(train['rougher.output.concentrate_pb'].sum(), 2), \n",
    "      'Суммарная концентрация всех веществ:',  round(train['rougher.output.concentrate_au'].sum() + \n",
    "                                                    train['rougher.output.concentrate_ag'].sum() + \n",
    "                                                     train['rougher.output.concentrate_pb'].sum(), 2))\n",
    "print('\\n Концентрация металлов в финальном концентрате \\n')\n",
    "print('Суммарная концентрация золота:', round(train['final.output.concentrate_au'].sum(), 2), \n",
    "     'Суммарная концентрация серебра:', round(train['final.output.concentrate_ag'].sum(), 2), \n",
    "     '\\n Суммарная концентрация свинца:', round(train['final.output.concentrate_pb'].sum(), 2), \n",
    "     'Суммарная концентрация всех веществ:',  round(train['final.output.concentrate_au'].sum() + \n",
    "                                                    train['final.output.concentrate_ag'].sum() + \n",
    "                                                     train['final.output.concentrate_pb'].sum(), 2))"
   ]
  },
  {
   "cell_type": "code",
   "execution_count": 18,
   "metadata": {},
   "outputs": [],
   "source": [
    "def summa(df):\n",
    "    crude = []\n",
    "    draft = []\n",
    "    final = []\n",
    "    sum_val = pd.DataFrame()\n",
    "    for i in range(0, df.shape[0]):\n",
    " \n",
    "        crude.append(df['rougher.input.feed_au'][i] + df['rougher.input.feed_ag'][i] + \\\n",
    "        df['rougher.input.feed_pb'][i] + df['rougher.input.feed_sol'][i])\n",
    "        draft.append(df['rougher.output.concentrate_au'][i] + df['rougher.output.concentrate_ag'][i] + \\\n",
    "        df['rougher.output.concentrate_pb'][i] + df['rougher.output.concentrate_sol'][i])\n",
    "        final.append(df['final.output.concentrate_au'][i] + df['final.output.concentrate_ag'][i] + \\\n",
    "        df['final.output.concentrate_pb'][i] + df['final.output.concentrate_sol'][i])\n",
    "    sum_val['crude'] = pd.Series(crude)\n",
    "    sum_val['draft'] = pd.Series(draft)\n",
    "    sum_val['final'] = pd.Series(final)\n",
    "    display(summa)\n",
    "    plt.figure(figsize=(20, 44))\n",
    "    plt.subplot(6, 1, 1) \n",
    "    plt.title('Ящик с усами сырья')\n",
    "    plt.boxplot(sum_val['crude'])\n",
    "    plt.subplot(6, 1, 2)\n",
    "    plt.title('Ящик с усами в черновом концентрате')\n",
    "    plt.boxplot(sum_val['draft'])\n",
    "    plt.subplot(6, 1, 3)\n",
    "    plt.title('Ящик с усами в финальном концентрате')\n",
    "    plt.boxplot(sum_val['final'])\n",
    "    plt.subplot(6, 1, 4)\n",
    "    plt.title('Гистограмма распределения суммы концентратов в сырье')\n",
    "    plt.hist(sum_val['crude'], bins = 40)\n",
    "    plt.subplot(6, 1, 5)\n",
    "    plt.title('Гистограмма распределения суммы концентратов в черновом концентрате')\n",
    "    plt.hist(sum_val['draft'], bins = 40)\n",
    "    plt.subplot(6, 1, 6)\n",
    "    plt.title('Гистограмма распределения суммы концентратов в финальном концентрате')\n",
    "    plt.hist(sum_val['final'], bins = 40)\n",
    "    \n",
    "    plt.show()\n",
    "    return sum_val"
   ]
  },
  {
   "cell_type": "code",
   "execution_count": 19,
   "metadata": {},
   "outputs": [
    {
     "data": {
      "text/plain": [
       "<function __main__.summa(df)>"
      ]
     },
     "metadata": {},
     "output_type": "display_data"
    },
    {
     "data": {
      "image/png": "[encoded data removed]",
      "text/plain": [
       "<Figure size 1440x3168 with 6 Axes>"
      ]
     },
     "metadata": {
      "needs_background": "light"
     },
     "output_type": "display_data"
    },
    {
     "data": {
      "text/html": [
       "<div>\n",
       "<style scoped>\n",
       "    .dataframe tbody tr th:only-of-type {\n",
       "        vertical-align: middle;\n",
       "    }\n",
       "\n",
       "    .dataframe tbody tr th {\n",
       "        vertical-align: top;\n",
       "    }\n",
       "\n",
       "    .dataframe thead th {\n",
       "        text-align: right;\n",
       "    }\n",
       "</style>\n",
       "<table border=\"1\" class=\"dataframe\">\n",
       "  <thead>\n",
       "    <tr style=\"text-align: right;\">\n",
       "      <th></th>\n",
       "      <th>crude</th>\n",
       "      <th>draft</th>\n",
       "      <th>final</th>\n",
       "    </tr>\n",
       "  </thead>\n",
       "  <tbody>\n",
       "    <tr>\n",
       "      <th>0</th>\n",
       "      <td>51.680034</td>\n",
       "      <td>66.424950</td>\n",
       "      <td>63.644396</td>\n",
       "    </tr>\n",
       "    <tr>\n",
       "      <th>1</th>\n",
       "      <td>50.659114</td>\n",
       "      <td>67.012710</td>\n",
       "      <td>63.957723</td>\n",
       "    </tr>\n",
       "    <tr>\n",
       "      <th>2</th>\n",
       "      <td>50.609929</td>\n",
       "      <td>66.103793</td>\n",
       "      <td>64.311180</td>\n",
       "    </tr>\n",
       "    <tr>\n",
       "      <th>3</th>\n",
       "      <td>51.061546</td>\n",
       "      <td>65.752751</td>\n",
       "      <td>63.573449</td>\n",
       "    </tr>\n",
       "    <tr>\n",
       "      <th>4</th>\n",
       "      <td>47.859163</td>\n",
       "      <td>65.908382</td>\n",
       "      <td>64.004667</td>\n",
       "    </tr>\n",
       "    <tr>\n",
       "      <th>...</th>\n",
       "      <td>...</td>\n",
       "      <td>...</td>\n",
       "      <td>...</td>\n",
       "    </tr>\n",
       "    <tr>\n",
       "      <th>14144</th>\n",
       "      <td>53.415050</td>\n",
       "      <td>70.781325</td>\n",
       "      <td>68.098589</td>\n",
       "    </tr>\n",
       "    <tr>\n",
       "      <th>14145</th>\n",
       "      <td>53.696482</td>\n",
       "      <td>70.539603</td>\n",
       "      <td>68.274362</td>\n",
       "    </tr>\n",
       "    <tr>\n",
       "      <th>14146</th>\n",
       "      <td>54.589604</td>\n",
       "      <td>55.376330</td>\n",
       "      <td>68.226068</td>\n",
       "    </tr>\n",
       "    <tr>\n",
       "      <th>14147</th>\n",
       "      <td>54.027355</td>\n",
       "      <td>69.201689</td>\n",
       "      <td>68.200449</td>\n",
       "    </tr>\n",
       "    <tr>\n",
       "      <th>14148</th>\n",
       "      <td>53.535054</td>\n",
       "      <td>69.544003</td>\n",
       "      <td>68.353154</td>\n",
       "    </tr>\n",
       "  </tbody>\n",
       "</table>\n",
       "<p>14149 rows × 3 columns</p>\n",
       "</div>"
      ],
      "text/plain": [
       "           crude      draft      final\n",
       "0      51.680034  66.424950  63.644396\n",
       "1      50.659114  67.012710  63.957723\n",
       "2      50.609929  66.103793  64.311180\n",
       "3      51.061546  65.752751  63.573449\n",
       "4      47.859163  65.908382  64.004667\n",
       "...          ...        ...        ...\n",
       "14144  53.415050  70.781325  68.098589\n",
       "14145  53.696482  70.539603  68.274362\n",
       "14146  54.589604  55.376330  68.226068\n",
       "14147  54.027355  69.201689  68.200449\n",
       "14148  53.535054  69.544003  68.353154\n",
       "\n",
       "[14149 rows x 3 columns]"
      ]
     },
     "execution_count": 19,
     "metadata": {},
     "output_type": "execute_result"
    }
   ],
   "source": [
    "summa(train)"
   ]
  },
  {
   "cell_type": "markdown",
   "metadata": {},
   "source": [
    "Можно заметить, что во всех распределениях присутствует пик около нулевого значения. Он очень далек от общего распределения, его следует удалить"
   ]
  },
  {
   "cell_type": "code",
   "execution_count": 20,
   "metadata": {},
   "outputs": [],
   "source": [
    "def clr(data):\n",
    "    data_clr = data.drop(data[data['rougher.input.feed_au'] < 1].index, axis = 0)\n",
    "    data_clr = data_clr.drop(data_clr[data_clr['rougher.input.feed_ag'] < 1].index, axis = 0)\n",
    "    data_clr = data_clr.drop(data_clr[data_clr['rougher.input.feed_pb'] < 1].index, axis = 0)\n",
    "    data_clr = data_clr.drop(data_clr[data_clr['rougher.input.feed_sol'] < 1].index, axis = 0)\n",
    "\n",
    "    data_clr = data_clr.drop(data_clr[data_clr['rougher.output.concentrate_au'] < 1].index, axis = 0)\n",
    "    data_clr = data_clr.drop(data_clr[data_clr['rougher.output.concentrate_ag'] < 1].index, axis = 0)\n",
    "    data_clr = data_clr.drop(data_clr[data_clr['rougher.output.concentrate_pb'] < 1].index, axis = 0)\n",
    "    data_clr = data_clr.drop(data_clr[data_clr['rougher.output.concentrate_sol'] < 1].index, axis = 0)\n",
    "    \n",
    "    data_clr = data_clr.drop(data_clr[data_clr['primary_cleaner.output.concentrate_au'] < 1].index, axis = 0)\n",
    "    data_clr = data_clr.drop(data_clr[data_clr['primary_cleaner.output.concentrate_ag'] < 1].index, axis = 0)\n",
    "    data_clr = data_clr.drop(data_clr[data_clr['primary_cleaner.output.concentrate_pb'] < 1].index, axis = 0)\n",
    "    data_clr = data_clr.drop(data_clr[data_clr['primary_cleaner.output.concentrate_sol'] < 1].index, axis = 0)\n",
    "\n",
    "    data_clr = data_clr.drop(data_clr[data_clr['final.output.concentrate_au'] < 1].index, axis = 0)\n",
    "    data_clr = data_clr.drop(data_clr[data_clr['final.output.concentrate_ag'] < 1].index, axis = 0)\n",
    "    data_clr = data_clr.drop(data_clr[data_clr['final.output.concentrate_pb'] < 1].index, axis = 0)\n",
    "    data_clr = data_clr.drop(data_clr[data_clr['final.output.concentrate_sol'] < 1].index, axis = 0).reset_index()\n",
    "    data_clr = data_clr.drop('index', axis = 1)\n",
    "    return data_clr"
   ]
  },
  {
   "cell_type": "code",
   "execution_count": 21,
   "metadata": {},
   "outputs": [],
   "source": [
    "train_clr = clr(train)"
   ]
  },
  {
   "cell_type": "code",
   "execution_count": 22,
   "metadata": {
    "scrolled": true
   },
   "outputs": [
    {
     "data": {
      "text/plain": [
       "<function __main__.summa(df)>"
      ]
     },
     "metadata": {},
     "output_type": "display_data"
    },
    {
     "data": {
      "image/png": "[encoded data removed]",
      "text/plain": [
       "<Figure size 1440x3168 with 6 Axes>"
      ]
     },
     "metadata": {
      "needs_background": "light"
     },
     "output_type": "display_data"
    },
    {
     "data": {
      "text/html": [
       "<div>\n",
       "<style scoped>\n",
       "    .dataframe tbody tr th:only-of-type {\n",
       "        vertical-align: middle;\n",
       "    }\n",
       "\n",
       "    .dataframe tbody tr th {\n",
       "        vertical-align: top;\n",
       "    }\n",
       "\n",
       "    .dataframe thead th {\n",
       "        text-align: right;\n",
       "    }\n",
       "</style>\n",
       "<table border=\"1\" class=\"dataframe\">\n",
       "  <thead>\n",
       "    <tr style=\"text-align: right;\">\n",
       "      <th></th>\n",
       "      <th>crude</th>\n",
       "      <th>draft</th>\n",
       "      <th>final</th>\n",
       "    </tr>\n",
       "  </thead>\n",
       "  <tbody>\n",
       "    <tr>\n",
       "      <th>0</th>\n",
       "      <td>51.680034</td>\n",
       "      <td>66.424950</td>\n",
       "      <td>63.644396</td>\n",
       "    </tr>\n",
       "    <tr>\n",
       "      <th>1</th>\n",
       "      <td>50.659114</td>\n",
       "      <td>67.012710</td>\n",
       "      <td>63.957723</td>\n",
       "    </tr>\n",
       "    <tr>\n",
       "      <th>2</th>\n",
       "      <td>50.609929</td>\n",
       "      <td>66.103793</td>\n",
       "      <td>64.311180</td>\n",
       "    </tr>\n",
       "    <tr>\n",
       "      <th>3</th>\n",
       "      <td>51.061546</td>\n",
       "      <td>65.752751</td>\n",
       "      <td>63.573449</td>\n",
       "    </tr>\n",
       "    <tr>\n",
       "      <th>4</th>\n",
       "      <td>47.859163</td>\n",
       "      <td>65.908382</td>\n",
       "      <td>64.004667</td>\n",
       "    </tr>\n",
       "    <tr>\n",
       "      <th>...</th>\n",
       "      <td>...</td>\n",
       "      <td>...</td>\n",
       "      <td>...</td>\n",
       "    </tr>\n",
       "    <tr>\n",
       "      <th>13299</th>\n",
       "      <td>53.415050</td>\n",
       "      <td>70.781325</td>\n",
       "      <td>68.098589</td>\n",
       "    </tr>\n",
       "    <tr>\n",
       "      <th>13300</th>\n",
       "      <td>53.696482</td>\n",
       "      <td>70.539603</td>\n",
       "      <td>68.274362</td>\n",
       "    </tr>\n",
       "    <tr>\n",
       "      <th>13301</th>\n",
       "      <td>54.589604</td>\n",
       "      <td>55.376330</td>\n",
       "      <td>68.226068</td>\n",
       "    </tr>\n",
       "    <tr>\n",
       "      <th>13302</th>\n",
       "      <td>54.027355</td>\n",
       "      <td>69.201689</td>\n",
       "      <td>68.200449</td>\n",
       "    </tr>\n",
       "    <tr>\n",
       "      <th>13303</th>\n",
       "      <td>53.535054</td>\n",
       "      <td>69.544003</td>\n",
       "      <td>68.353154</td>\n",
       "    </tr>\n",
       "  </tbody>\n",
       "</table>\n",
       "<p>13304 rows × 3 columns</p>\n",
       "</div>"
      ],
      "text/plain": [
       "           crude      draft      final\n",
       "0      51.680034  66.424950  63.644396\n",
       "1      50.659114  67.012710  63.957723\n",
       "2      50.609929  66.103793  64.311180\n",
       "3      51.061546  65.752751  63.573449\n",
       "4      47.859163  65.908382  64.004667\n",
       "...          ...        ...        ...\n",
       "13299  53.415050  70.781325  68.098589\n",
       "13300  53.696482  70.539603  68.274362\n",
       "13301  54.589604  55.376330  68.226068\n",
       "13302  54.027355  69.201689  68.200449\n",
       "13303  53.535054  69.544003  68.353154\n",
       "\n",
       "[13304 rows x 3 columns]"
      ]
     },
     "execution_count": 22,
     "metadata": {},
     "output_type": "execute_result"
    }
   ],
   "source": [
    "summa(train_clr)"
   ]
  },
  {
   "cell_type": "markdown",
   "metadata": {},
   "source": [
    "### Вывод"
   ]
  },
  {
   "cell_type": "markdown",
   "metadata": {},
   "source": [
    "- Концентрация золота увеличивается после всех этапов обработки. Концентрация серебра сначала увеличивается после флотации, затем уменьшается послей первой очистки. Концентрация свинца увеличивается после всех этапов обработки. Концентрация sol уменьшается\n",
    "- Распределения размеров гранул сырья на обучающей и тестовой выборках почти одинаковы, значит предобработка выполнена корректно\n",
    "- Суммарная концентрация увеличивается на каждом этапе обработки\n",
    "- В результате исследования данных были найдены аномалии и удалены"
   ]
  },
  {
   "cell_type": "markdown",
   "metadata": {},
   "source": [
    "## Модель"
   ]
  },
  {
   "cell_type": "markdown",
   "metadata": {},
   "source": [
    "### Подготовка"
   ]
  },
  {
   "cell_type": "code",
   "execution_count": 23,
   "metadata": {},
   "outputs": [],
   "source": [
    "def calculate_smape(target_actual, target_predictions):\n",
    " \n",
    "    error = 1 / len(target_actual) * np.sum(np.abs(target_actual - target_predictions) / ((np.abs(target_actual) + np.abs(target_predictions)) / 2)) * 100 \n",
    "    return error"
   ]
  },
  {
   "cell_type": "code",
   "execution_count": 24,
   "metadata": {},
   "outputs": [],
   "source": [
    "def calculate_final_smape(target_actual, target_predictions):\n",
    "    target_actual_rougher = target_actual['rougher.output.recovery']\n",
    "    target_actual_final = target_actual['final.output.recovery']\n",
    "    \n",
    "    target_predictions_rougher = target_predictions[:, 0]\n",
    "    target_predictions_final = target_predictions[:, 1]\n",
    "    \n",
    "    return 0.25 * calculate_smape(target_actual_rougher, target_predictions_rougher) \\\n",
    "        + 0.75 * calculate_smape(target_actual_final, target_predictions_final)"
   ]
  },
  {
   "cell_type": "code",
   "execution_count": 25,
   "metadata": {},
   "outputs": [],
   "source": [
    "smape_scorer = make_scorer(calculate_final_smape, greater_is_better=False)"
   ]
  },
  {
   "cell_type": "markdown",
   "metadata": {},
   "source": [
    "Удалим лишние признаки из train, которых нет в test и добавим в test целевые признаки из data по 'date'"
   ]
  },
  {
   "cell_type": "code",
   "execution_count": 26,
   "metadata": {},
   "outputs": [],
   "source": [
    "#Добавление в test целевых признаков\n",
    "test = test.merge(data[['date', 'rougher.output.recovery', 'final.output.recovery']], on = 'date', how = 'left')"
   ]
  },
  {
   "cell_type": "code",
   "execution_count": 27,
   "metadata": {},
   "outputs": [],
   "source": [
    "test_features = test.drop(['date', 'rougher.output.recovery', 'final.output.recovery'], axis = 1)\n",
    "test_target = test[['rougher.output.recovery', 'final.output.recovery']]"
   ]
  },
  {
   "cell_type": "code",
   "execution_count": 28,
   "metadata": {},
   "outputs": [
    {
     "data": {
      "text/plain": [
       "((5290, 2), (5290, 52))"
      ]
     },
     "execution_count": 28,
     "metadata": {},
     "output_type": "execute_result"
    }
   ],
   "source": [
    "test_target.shape, test_features.shape"
   ]
  },
  {
   "cell_type": "code",
   "execution_count": 29,
   "metadata": {},
   "outputs": [],
   "source": [
    "train_clr = train_clr.drop('date', axis =1)\n",
    "train_features = train_clr.drop(unavailable, axis = 1)\n",
    "train_target = train_clr[['rougher.output.recovery', 'final.output.recovery']]"
   ]
  },
  {
   "cell_type": "code",
   "execution_count": 30,
   "metadata": {},
   "outputs": [
    {
     "data": {
      "text/plain": [
       "((13304, 52), (13304, 2))"
      ]
     },
     "execution_count": 30,
     "metadata": {},
     "output_type": "execute_result"
    }
   ],
   "source": [
    "train_features.shape, train_target.shape"
   ]
  },
  {
   "cell_type": "markdown",
   "metadata": {},
   "source": [
    "### LinearRegression"
   ]
  },
  {
   "cell_type": "code",
   "execution_count": 31,
   "metadata": {},
   "outputs": [
    {
     "name": "stdout",
     "output_type": "stream",
     "text": [
      "Mean R2 from CV of LinearRegression = -0.3183326211688747\n",
      "Mean sMAPE from CV of LinearRegression = -9.82786784526738\n",
      "Результат модели: 0.45213067138985436\n",
      "      rougher.output.recovery  final.output.recovery      rough      final\n",
      "0                   89.993421              70.273583  88.838087  73.147782\n",
      "1                   88.089657              68.910432  88.872339  72.735487\n",
      "2                   88.412756              68.143213  88.997212  73.091408\n",
      "3                   87.360133              67.776393  88.131907  73.352534\n",
      "4                   83.236367              61.467078  86.392559  71.400499\n",
      "...                       ...                    ...        ...        ...\n",
      "5285                95.172585              68.919891  95.272704  74.138417\n",
      "5286                94.575036              68.440582  93.365606  73.194436\n",
      "5287                93.018138              67.092759  92.542304  74.581144\n",
      "5288                92.599042              68.061186  93.532999  75.823357\n",
      "5289                91.177695              71.699976  92.308879  75.016475\n",
      "\n",
      "[5290 rows x 4 columns]\n",
      "CPU times: user 1.69 s, sys: 3.96 s, total: 5.65 s\n",
      "Wall time: 5.62 s\n"
     ]
    }
   ],
   "source": [
    "%%time\n",
    "\n",
    "model = LinearRegression()\n",
    "model.fit(train_features, train_target)\n",
    "predictions_lr = model.predict(test_features)\n",
    "print('Mean R2 from CV of LinearRegression =', cross_val_score(model, train_features, train_target, cv=5).mean())\n",
    "print('Mean sMAPE from CV of LinearRegression =', cross_val_score(model, train_features, train_target, cv=5, scoring = smape_scorer).mean())\n",
    "print('Результат модели:', model.score(train_features, train_target))\n",
    "lr_pred = pd.DataFrame(predictions_lr, columns = ['rough', 'final']) \n",
    "print(pd.concat([test_target.reset_index(drop=True), lr_pred], axis = 1))"
   ]
  },
  {
   "cell_type": "markdown",
   "metadata": {},
   "source": [
    "### RandomForestRegressor"
   ]
  },
  {
   "cell_type": "code",
   "execution_count": 32,
   "metadata": {},
   "outputs": [],
   "source": [
    "rfr = RandomForestRegressor(random_state = 12345)"
   ]
  },
  {
   "cell_type": "code",
   "execution_count": 33,
   "metadata": {},
   "outputs": [],
   "source": [
    "param_grid =  {'n_estimators' : [10,20,30],\n",
    "              'max_depth' : [2,4,6]\n",
    "              }"
   ]
  },
  {
   "cell_type": "code",
   "execution_count": 34,
   "metadata": {},
   "outputs": [
    {
     "data": {
      "text/plain": [
       "GridSearchCV(cv=5, estimator=RandomForestRegressor(random_state=12345),\n",
       "             param_grid={'max_depth': [2, 4, 6], 'n_estimators': [10, 20, 30]},\n",
       "             scoring=make_scorer(calculate_final_smape, greater_is_better=False))"
      ]
     },
     "execution_count": 34,
     "metadata": {},
     "output_type": "execute_result"
    }
   ],
   "source": [
    "cv_rfc = GridSearchCV(estimator = rfr, param_grid = param_grid, cv = 5, scoring = smape_scorer)\n",
    "cv_rfc.fit(train_features, train_target)"
   ]
  },
  {
   "cell_type": "code",
   "execution_count": 35,
   "metadata": {},
   "outputs": [
    {
     "data": {
      "text/plain": [
       "RandomForestRegressor(max_depth=4, n_estimators=30, random_state=12345)"
      ]
     },
     "execution_count": 35,
     "metadata": {},
     "output_type": "execute_result"
    }
   ],
   "source": [
    "cv_rfc.best_estimator_"
   ]
  },
  {
   "cell_type": "code",
   "execution_count": 36,
   "metadata": {},
   "outputs": [
    {
     "name": "stdout",
     "output_type": "stream",
     "text": [
      "Mean R2 from CV of RandomForestRegressor = -0.052580960992703096\n",
      "Mean sMAPE from CV of RandomForestRegressor = -8.506754122574826\n",
      "Результат модели: 0.4450658664284182\n",
      "      rougher.output.recovery  final.output.recovery      rough      final\n",
      "0                   89.993421              70.273583  85.788061  70.336130\n",
      "1                   88.089657              68.910432  85.650957  70.188870\n",
      "2                   88.412756              68.143213  85.650957  70.188870\n",
      "3                   87.360133              67.776393  85.650957  70.188870\n",
      "4                   83.236367              61.467078  85.650957  70.188870\n",
      "...                       ...                    ...        ...        ...\n",
      "5285                95.172585              68.919891  81.744790  65.359622\n",
      "5286                94.575036              68.440582  87.529808  70.453903\n",
      "5287                93.018138              67.092759  92.181669  74.082132\n",
      "5288                92.599042              68.061186  92.181669  74.082132\n",
      "5289                91.177695              71.699976  92.181669  74.082132\n",
      "\n",
      "[5290 rows x 4 columns]\n",
      "CPU times: user 47.7 s, sys: 31.6 ms, total: 47.8 s\n",
      "Wall time: 48.7 s\n"
     ]
    }
   ],
   "source": [
    "%%time\n",
    "\n",
    "model = RandomForestRegressor(n_estimators = 30, max_depth = 4)\n",
    "model.fit(train_features, train_target)\n",
    "predictions_rf = model.predict(test_features)\n",
    "print('Mean R2 from CV of RandomForestRegressor =', cross_val_score(model, train_features, train_target, cv=5).mean())\n",
    "print('Mean sMAPE from CV of RandomForestRegressor =', cross_val_score(model, train_features, train_target, cv=5, scoring = smape_scorer).mean())\n",
    "print('Результат модели:', model.score(train_features, train_target))\n",
    "rf_pred = pd.DataFrame(predictions_rf, columns = ['rough', 'final']) \n",
    "print(pd.concat([test_target.reset_index(drop=True), rf_pred], axis = 1))"
   ]
  },
  {
   "cell_type": "markdown",
   "metadata": {},
   "source": [
    "### DecisionTreeRegressor"
   ]
  },
  {
   "cell_type": "code",
   "execution_count": 37,
   "metadata": {},
   "outputs": [],
   "source": [
    "dtr = DecisionTreeRegressor(random_state = 12345)"
   ]
  },
  {
   "cell_type": "code",
   "execution_count": 38,
   "metadata": {},
   "outputs": [],
   "source": [
    "parameters={\"splitter\":[\"best\",\"random\"],\n",
    "            \"max_depth\" : [2,4,6],\n",
    "           \"min_samples_leaf\":[1,2,3,4,5],\n",
    "           \"max_leaf_nodes\":[None,10,20,30] }"
   ]
  },
  {
   "cell_type": "code",
   "execution_count": 39,
   "metadata": {},
   "outputs": [],
   "source": [
    "tuning_model=GridSearchCV(dtr,param_grid=parameters, scoring= smape_scorer,cv=5)"
   ]
  },
  {
   "cell_type": "code",
   "execution_count": 40,
   "metadata": {},
   "outputs": [
    {
     "data": {
      "text/plain": [
       "GridSearchCV(cv=5, estimator=DecisionTreeRegressor(random_state=12345),\n",
       "             param_grid={'max_depth': [2, 4, 6],\n",
       "                         'max_leaf_nodes': [None, 10, 20, 30],\n",
       "                         'min_samples_leaf': [1, 2, 3, 4, 5],\n",
       "                         'splitter': ['best', 'random']},\n",
       "             scoring=make_scorer(calculate_final_smape, greater_is_better=False))"
      ]
     },
     "execution_count": 40,
     "metadata": {},
     "output_type": "execute_result"
    }
   ],
   "source": [
    "tuning_model.fit(train_features, train_target)"
   ]
  },
  {
   "cell_type": "code",
   "execution_count": 41,
   "metadata": {},
   "outputs": [
    {
     "data": {
      "text/plain": [
       "{'max_depth': 4,\n",
       " 'max_leaf_nodes': 20,\n",
       " 'min_samples_leaf': 1,\n",
       " 'splitter': 'best'}"
      ]
     },
     "execution_count": 41,
     "metadata": {},
     "output_type": "execute_result"
    }
   ],
   "source": [
    "tuning_model.best_params_"
   ]
  },
  {
   "cell_type": "code",
   "execution_count": 42,
   "metadata": {
    "scrolled": true
   },
   "outputs": [
    {
     "name": "stdout",
     "output_type": "stream",
     "text": [
      "Mean R2 from CV of DecisionTreeRegressor = -0.16613788349417763\n",
      "Mean sMAPE from CV of DecisionTreeRegressor = -9.064986256662305\n",
      "Результат модели: 0.411022026514794\n",
      "      rougher.output.recovery  final.output.recovery      rough      final\n",
      "0                   89.993421              70.273583  85.689879  70.643656\n",
      "1                   88.089657              68.910432  85.689879  70.643656\n",
      "2                   88.412756              68.143213  85.689879  70.643656\n",
      "3                   87.360133              67.776393  85.689879  70.643656\n",
      "4                   83.236367              61.467078  85.689879  70.643656\n",
      "...                       ...                    ...        ...        ...\n",
      "5285                95.172585              68.919891  81.551699  66.029621\n",
      "5286                94.575036              68.440582  92.398710  73.987287\n",
      "5287                93.018138              67.092759  92.398710  73.987287\n",
      "5288                92.599042              68.061186  92.398710  73.987287\n",
      "5289                91.177695              71.699976  92.398710  73.987287\n",
      "\n",
      "[5290 rows x 4 columns]\n",
      "CPU times: user 2.8 s, sys: 0 ns, total: 2.8 s\n",
      "Wall time: 2.8 s\n"
     ]
    }
   ],
   "source": [
    "%%time\n",
    "\n",
    "model = DecisionTreeRegressor (max_depth = 4, max_leaf_nodes = 20, min_samples_leaf = 1, splitter = 'best')\n",
    "model.fit(train_features, train_target)\n",
    "predictions_dt = model.predict(test_features)\n",
    "print('Mean R2 from CV of DecisionTreeRegressor =', cross_val_score(model, train_features, train_target, cv=5).mean())\n",
    "print('Mean sMAPE from CV of DecisionTreeRegressor =', cross_val_score(model, train_features, train_target, cv=5, scoring=smape_scorer).mean())\n",
    "print('Результат модели:', model.score(train_features, train_target))\n",
    "dt_pred = pd.DataFrame(predictions_dt, columns = ['rough', 'final']) \n",
    "print(pd.concat([test_target.reset_index(drop=True), dt_pred], axis = 1))"
   ]
  },
  {
   "cell_type": "code",
   "execution_count": 43,
   "metadata": {},
   "outputs": [
    {
     "name": "stdout",
     "output_type": "stream",
     "text": [
      "dummy sMAPE: 9.74499284619471\n"
     ]
    }
   ],
   "source": [
    "dummy_regr = DummyRegressor(strategy=\"mean\")\n",
    "dummy_regr.fit(train_features, train_target)\n",
    "dummy_pred = dummy_regr.predict(test_features)\n",
    "print('dummy sMAPE:', calculate_final_smape(test_target, dummy_pred))"
   ]
  },
  {
   "cell_type": "markdown",
   "metadata": {},
   "source": [
    "### Вывод"
   ]
  },
  {
   "cell_type": "markdown",
   "metadata": {},
   "source": [
    "- Итоговое sMAPE для LinearRegression 9.82786784526738\n",
    "- Итоговое sMAPE для RandomForestRegressor 8.506754122574826\n",
    "- Итоговое sMAPE для DecisionTreeRegressor 9.064986256662305\n",
    "- Итоговое sMAPE для DummyRegressor 9.74499284619471\n",
    "- Лучше всех показал себя RandomForestRegressor с sMape 8.506754122574826"
   ]
  },
  {
   "cell_type": "markdown",
   "metadata": {},
   "source": [
    "## Вывод"
   ]
  },
  {
   "cell_type": "markdown",
   "metadata": {},
   "source": [
    "- В test отсутствуют данные, которые к моменту начала процесса, когда мы хотим получить прогноз, мы не имеем. Если у нас уже будут эти данные, то там прогнозировать уже ничего не нужно, можно просто посчитать по формуле.\n",
    "- Были исследованы распределения концентрации металлов во время различных этапов\n",
    "- Концентрация золота увеличивается после всех этапов обработки\n",
    "- Были выявлены и удалены аномалии в данных\n",
    "- Выделение и добавление целевых признаков\n",
    "- Распределения размеров гранул сырья на обучающей и тестовой выборках почти одинаковы\n",
    "- Суммарная концентрация увеличивается на каждом этапе обработки\n",
    "- Был рассчитан smape\n",
    "- Проведено исследование разных моделей машинного обучения с различными гиперпараметрами\n",
    "- Была выявлена лучшая модель, которая показала результаты лучше, чем константная модель\n",
    "- Для данной задачи лучше всего подходит RandomForestRegressor"
   ]
  }
 ],
 "metadata": {
  "ExecuteTimeLog": [
   {
    "duration": 1731,
    "start_time": "2022-07-26T06:25:21.036Z"
   },
   {
    "duration": 3079,
    "start_time": "2022-07-26T06:26:28.864Z"
   },
   {
    "duration": 6,
    "start_time": "2022-07-26T06:26:56.602Z"
   },
   {
    "duration": 972,
    "start_time": "2022-07-26T06:27:47.683Z"
   },
   {
    "duration": 923,
    "start_time": "2022-07-26T06:31:43.643Z"
   },
   {
    "duration": 5,
    "start_time": "2022-07-26T06:31:51.093Z"
   },
   {
    "duration": 117,
    "start_time": "2022-07-26T06:31:51.777Z"
   },
   {
    "duration": 141,
    "start_time": "2022-07-26T06:32:26.041Z"
   },
   {
    "duration": 37,
    "start_time": "2022-07-26T06:32:48.973Z"
   },
   {
    "duration": 3,
    "start_time": "2022-07-26T06:34:53.536Z"
   },
   {
    "duration": 12,
    "start_time": "2022-07-26T06:34:54.105Z"
   },
   {
    "duration": 4,
    "start_time": "2022-07-26T06:35:26.359Z"
   },
   {
    "duration": 649,
    "start_time": "2022-07-26T06:35:27.367Z"
   },
   {
    "duration": 4,
    "start_time": "2022-07-26T06:35:28.018Z"
   },
   {
    "duration": 11,
    "start_time": "2022-07-26T06:35:28.790Z"
   },
   {
    "duration": 64,
    "start_time": "2022-07-26T06:35:57.239Z"
   },
   {
    "duration": 4,
    "start_time": "2022-07-26T06:36:02.542Z"
   },
   {
    "duration": 11,
    "start_time": "2022-07-26T06:36:02.954Z"
   },
   {
    "duration": 4,
    "start_time": "2022-07-26T06:36:23.099Z"
   },
   {
    "duration": 4,
    "start_time": "2022-07-26T06:36:26.658Z"
   },
   {
    "duration": 110,
    "start_time": "2022-07-26T06:36:27.072Z"
   },
   {
    "duration": 4,
    "start_time": "2022-07-26T06:40:22.486Z"
   },
   {
    "duration": 327,
    "start_time": "2022-07-26T06:40:23.498Z"
   },
   {
    "duration": 4,
    "start_time": "2022-07-26T06:40:49.748Z"
   },
   {
    "duration": 114,
    "start_time": "2022-07-26T06:41:13.279Z"
   },
   {
    "duration": 129,
    "start_time": "2022-07-26T06:44:15.846Z"
   },
   {
    "duration": 9,
    "start_time": "2022-07-26T06:46:14.531Z"
   },
   {
    "duration": 57,
    "start_time": "2022-07-26T06:47:56.060Z"
   },
   {
    "duration": 125,
    "start_time": "2022-07-26T06:47:57.389Z"
   },
   {
    "duration": 4,
    "start_time": "2022-07-26T06:48:40.027Z"
   },
   {
    "duration": 182,
    "start_time": "2022-07-26T06:48:40.528Z"
   },
   {
    "duration": 62,
    "start_time": "2022-07-26T09:25:19.976Z"
   },
   {
    "duration": 1728,
    "start_time": "2022-07-26T09:25:23.900Z"
   },
   {
    "duration": 3587,
    "start_time": "2022-07-26T09:25:25.630Z"
   },
   {
    "duration": 12,
    "start_time": "2022-07-26T09:25:30.573Z"
   },
   {
    "duration": 232,
    "start_time": "2022-07-26T09:25:32.225Z"
   },
   {
    "duration": 6,
    "start_time": "2022-07-26T09:25:33.104Z"
   },
   {
    "duration": 956,
    "start_time": "2022-07-26T09:32:42.487Z"
   },
   {
    "duration": 6,
    "start_time": "2022-07-26T09:32:45.942Z"
   },
   {
    "duration": 6,
    "start_time": "2022-07-26T09:41:02.347Z"
   },
   {
    "duration": 6,
    "start_time": "2022-07-26T09:44:50.910Z"
   },
   {
    "duration": 7,
    "start_time": "2022-07-26T09:47:09.885Z"
   },
   {
    "duration": 7,
    "start_time": "2022-07-26T09:47:16.938Z"
   },
   {
    "duration": 6,
    "start_time": "2022-07-26T09:47:29.492Z"
   },
   {
    "duration": 7,
    "start_time": "2022-07-26T09:51:54.078Z"
   },
   {
    "duration": 4,
    "start_time": "2022-07-26T09:52:03.611Z"
   },
   {
    "duration": 4,
    "start_time": "2022-07-26T09:52:08.147Z"
   },
   {
    "duration": 6,
    "start_time": "2022-07-26T09:52:11.950Z"
   },
   {
    "duration": 5,
    "start_time": "2022-07-26T09:53:37.392Z"
   },
   {
    "duration": 3,
    "start_time": "2022-07-26T09:54:21.900Z"
   },
   {
    "duration": 5,
    "start_time": "2022-07-26T09:55:25.333Z"
   },
   {
    "duration": 5,
    "start_time": "2022-07-26T09:55:33.344Z"
   },
   {
    "duration": 6,
    "start_time": "2022-07-26T09:55:59.443Z"
   },
   {
    "duration": 3,
    "start_time": "2022-07-26T09:57:37.712Z"
   },
   {
    "duration": 7,
    "start_time": "2022-07-26T09:57:52.396Z"
   },
   {
    "duration": 3,
    "start_time": "2022-07-26T09:58:54.780Z"
   },
   {
    "duration": 3,
    "start_time": "2022-07-26T09:59:38.187Z"
   },
   {
    "duration": 4,
    "start_time": "2022-07-26T09:59:47.736Z"
   },
   {
    "duration": 59,
    "start_time": "2022-07-26T10:05:21.588Z"
   },
   {
    "duration": 5,
    "start_time": "2022-07-26T10:06:15.347Z"
   },
   {
    "duration": 175,
    "start_time": "2022-07-26T10:06:16.921Z"
   },
   {
    "duration": 54,
    "start_time": "2022-07-26T10:06:28.729Z"
   },
   {
    "duration": 3,
    "start_time": "2022-07-26T10:07:45.196Z"
   },
   {
    "duration": 4,
    "start_time": "2022-07-26T10:07:48.784Z"
   },
   {
    "duration": 9,
    "start_time": "2022-07-26T10:13:45.868Z"
   },
   {
    "duration": 2,
    "start_time": "2022-07-26T10:18:23.514Z"
   },
   {
    "duration": 3,
    "start_time": "2022-07-26T10:18:24.518Z"
   },
   {
    "duration": 6,
    "start_time": "2022-07-26T10:18:33.077Z"
   },
   {
    "duration": 40,
    "start_time": "2022-07-26T12:34:12.748Z"
   },
   {
    "duration": 8,
    "start_time": "2022-07-26T12:34:17.583Z"
   },
   {
    "duration": 1443,
    "start_time": "2022-07-26T12:34:25.638Z"
   },
   {
    "duration": 1749,
    "start_time": "2022-07-26T12:34:27.083Z"
   },
   {
    "duration": 5,
    "start_time": "2022-07-26T12:34:28.834Z"
   },
   {
    "duration": 196,
    "start_time": "2022-07-26T12:34:28.840Z"
   },
   {
    "duration": 3,
    "start_time": "2022-07-26T12:34:29.038Z"
   },
   {
    "duration": 12,
    "start_time": "2022-07-26T12:34:29.042Z"
   },
   {
    "duration": 4,
    "start_time": "2022-07-26T12:34:29.056Z"
   },
   {
    "duration": 75,
    "start_time": "2022-07-26T12:34:29.061Z"
   },
   {
    "duration": 5,
    "start_time": "2022-07-26T12:34:29.138Z"
   },
   {
    "duration": 24,
    "start_time": "2022-07-26T12:34:29.144Z"
   },
   {
    "duration": 8,
    "start_time": "2022-07-26T12:34:51.589Z"
   },
   {
    "duration": 43,
    "start_time": "2022-07-26T12:35:16.555Z"
   },
   {
    "duration": 38,
    "start_time": "2022-07-26T12:35:24.863Z"
   },
   {
    "duration": 11,
    "start_time": "2022-07-26T12:35:47.827Z"
   },
   {
    "duration": 12,
    "start_time": "2022-07-26T12:35:53.103Z"
   },
   {
    "duration": 9,
    "start_time": "2022-07-26T12:35:59.669Z"
   },
   {
    "duration": 110,
    "start_time": "2022-07-26T12:36:11.423Z"
   },
   {
    "duration": 17,
    "start_time": "2022-07-26T12:36:18.094Z"
   },
   {
    "duration": 9,
    "start_time": "2022-07-26T12:36:23.670Z"
   },
   {
    "duration": 8,
    "start_time": "2022-07-26T12:36:31.607Z"
   },
   {
    "duration": 26,
    "start_time": "2022-07-26T12:36:46.228Z"
   },
   {
    "duration": 10,
    "start_time": "2022-07-26T12:39:10.331Z"
   },
   {
    "duration": 12,
    "start_time": "2022-07-26T12:39:16.250Z"
   },
   {
    "duration": 1273,
    "start_time": "2022-07-26T12:39:36.067Z"
   },
   {
    "duration": 9,
    "start_time": "2022-07-26T12:39:39.715Z"
   },
   {
    "duration": 8,
    "start_time": "2022-07-26T12:39:49.691Z"
   },
   {
    "duration": 14,
    "start_time": "2022-07-26T12:41:09.455Z"
   },
   {
    "duration": 8,
    "start_time": "2022-07-26T12:41:22.965Z"
   },
   {
    "duration": 10,
    "start_time": "2022-07-26T12:41:44.614Z"
   },
   {
    "duration": 11,
    "start_time": "2022-07-26T12:42:05.827Z"
   },
   {
    "duration": 4,
    "start_time": "2022-07-26T12:42:10.294Z"
   },
   {
    "duration": 3,
    "start_time": "2022-07-26T12:42:13.126Z"
   },
   {
    "duration": 9,
    "start_time": "2022-07-26T12:42:18.241Z"
   },
   {
    "duration": 1260,
    "start_time": "2022-07-26T12:42:49.927Z"
   },
   {
    "duration": 1173,
    "start_time": "2022-07-26T12:42:59.843Z"
   },
   {
    "duration": 1219,
    "start_time": "2022-07-26T12:43:06.023Z"
   },
   {
    "duration": 1221,
    "start_time": "2022-07-26T12:43:21.319Z"
   },
   {
    "duration": 3020,
    "start_time": "2022-07-26T12:45:54.182Z"
   },
   {
    "duration": 880,
    "start_time": "2022-07-26T12:46:30.439Z"
   },
   {
    "duration": 14,
    "start_time": "2022-07-26T12:51:24.761Z"
   },
   {
    "duration": 12,
    "start_time": "2022-07-26T12:52:03.869Z"
   },
   {
    "duration": 60,
    "start_time": "2022-07-26T12:52:49.283Z"
   },
   {
    "duration": 6,
    "start_time": "2022-07-26T12:58:26.348Z"
   },
   {
    "duration": 40,
    "start_time": "2022-07-26T12:58:27.072Z"
   },
   {
    "duration": 4,
    "start_time": "2022-07-26T12:58:36.627Z"
   },
   {
    "duration": 37,
    "start_time": "2022-07-26T12:58:37.104Z"
   },
   {
    "duration": 4,
    "start_time": "2022-07-26T12:59:12.180Z"
   },
   {
    "duration": 138,
    "start_time": "2022-07-26T12:59:12.894Z"
   },
   {
    "duration": 43,
    "start_time": "2022-07-26T12:59:30.837Z"
   },
   {
    "duration": 4,
    "start_time": "2022-07-26T13:06:55.099Z"
   },
   {
    "duration": 9,
    "start_time": "2022-07-26T13:06:58.495Z"
   },
   {
    "duration": 5,
    "start_time": "2022-07-26T13:07:04.859Z"
   },
   {
    "duration": 9,
    "start_time": "2022-07-26T13:09:17.759Z"
   },
   {
    "duration": 9,
    "start_time": "2022-07-26T13:09:37.675Z"
   },
   {
    "duration": 78,
    "start_time": "2022-07-26T13:09:59.948Z"
   },
   {
    "duration": 12,
    "start_time": "2022-07-26T13:10:27.039Z"
   },
   {
    "duration": 21,
    "start_time": "2022-07-26T13:11:15.275Z"
   },
   {
    "duration": 1280,
    "start_time": "2022-07-26T13:11:21.060Z"
   },
   {
    "duration": 655,
    "start_time": "2022-07-26T13:11:22.341Z"
   },
   {
    "duration": 9,
    "start_time": "2022-07-26T13:11:22.998Z"
   },
   {
    "duration": 193,
    "start_time": "2022-07-26T13:11:23.015Z"
   },
   {
    "duration": 3,
    "start_time": "2022-07-26T13:11:23.210Z"
   },
   {
    "duration": 13,
    "start_time": "2022-07-26T13:11:23.216Z"
   },
   {
    "duration": 4,
    "start_time": "2022-07-26T13:11:23.230Z"
   },
   {
    "duration": 45,
    "start_time": "2022-07-26T13:11:23.236Z"
   },
   {
    "duration": 5,
    "start_time": "2022-07-26T13:11:23.283Z"
   },
   {
    "duration": 34,
    "start_time": "2022-07-26T13:11:23.302Z"
   },
   {
    "duration": 32,
    "start_time": "2022-07-26T13:11:26.391Z"
   },
   {
    "duration": 121,
    "start_time": "2022-07-26T13:12:41.742Z"
   },
   {
    "duration": 143,
    "start_time": "2022-07-26T13:13:08.003Z"
   },
   {
    "duration": 45,
    "start_time": "2022-07-26T13:13:10.720Z"
   },
   {
    "duration": 112,
    "start_time": "2022-07-26T13:15:53.415Z"
   },
   {
    "duration": 45,
    "start_time": "2022-07-26T13:16:02.323Z"
   },
   {
    "duration": 49,
    "start_time": "2022-07-26T13:16:11.436Z"
   },
   {
    "duration": 44,
    "start_time": "2022-07-26T13:19:11.589Z"
   },
   {
    "duration": 1286,
    "start_time": "2022-07-26T13:19:22.182Z"
   },
   {
    "duration": 616,
    "start_time": "2022-07-26T13:19:23.469Z"
   },
   {
    "duration": 55,
    "start_time": "2022-07-26T13:19:29.489Z"
   },
   {
    "duration": 26,
    "start_time": "2022-07-26T13:19:44.233Z"
   },
   {
    "duration": 301,
    "start_time": "2022-07-26T13:20:18.071Z"
   },
   {
    "duration": 1272,
    "start_time": "2022-07-26T13:21:01.956Z"
   },
   {
    "duration": 644,
    "start_time": "2022-07-26T13:21:03.230Z"
   },
   {
    "duration": 4,
    "start_time": "2022-07-26T13:21:03.876Z"
   },
   {
    "duration": 189,
    "start_time": "2022-07-26T13:21:03.882Z"
   },
   {
    "duration": 55,
    "start_time": "2022-07-26T13:21:04.073Z"
   },
   {
    "duration": 2,
    "start_time": "2022-07-26T13:21:04.129Z"
   },
   {
    "duration": 9,
    "start_time": "2022-07-26T13:21:04.133Z"
   },
   {
    "duration": 4,
    "start_time": "2022-07-26T13:21:04.144Z"
   },
   {
    "duration": 5,
    "start_time": "2022-07-26T13:21:04.149Z"
   },
   {
    "duration": 276,
    "start_time": "2022-07-26T13:21:04.156Z"
   },
   {
    "duration": 28,
    "start_time": "2022-07-26T13:21:04.434Z"
   },
   {
    "duration": 4,
    "start_time": "2022-07-26T13:21:49.911Z"
   },
   {
    "duration": 139,
    "start_time": "2022-07-26T13:21:50.833Z"
   },
   {
    "duration": 60,
    "start_time": "2022-07-26T13:21:51.134Z"
   },
   {
    "duration": 3,
    "start_time": "2022-07-26T13:21:52.023Z"
   },
   {
    "duration": 6,
    "start_time": "2022-07-26T13:21:52.335Z"
   },
   {
    "duration": 4,
    "start_time": "2022-07-26T13:21:52.697Z"
   },
   {
    "duration": 4,
    "start_time": "2022-07-26T13:21:53.273Z"
   },
   {
    "duration": 414,
    "start_time": "2022-07-26T13:21:54.316Z"
   },
   {
    "duration": 24,
    "start_time": "2022-07-26T13:21:55.121Z"
   },
   {
    "duration": 94,
    "start_time": "2022-07-26T13:24:37.011Z"
   },
   {
    "duration": 9,
    "start_time": "2022-07-26T13:24:40.173Z"
   },
   {
    "duration": 12621,
    "start_time": "2022-07-26T13:27:28.193Z"
   },
   {
    "duration": 534,
    "start_time": "2022-07-26T13:28:24.308Z"
   },
   {
    "duration": 70685,
    "start_time": "2022-07-26T13:30:24.949Z"
   },
   {
    "duration": 0,
    "start_time": "2022-07-26T13:38:09.375Z"
   },
   {
    "duration": 9,
    "start_time": "2022-07-26T13:41:14.581Z"
   },
   {
    "duration": 105,
    "start_time": "2022-07-26T13:41:20.079Z"
   },
   {
    "duration": 104,
    "start_time": "2022-07-26T13:43:02.031Z"
   },
   {
    "duration": 5,
    "start_time": "2022-07-26T13:44:41.439Z"
   },
   {
    "duration": 2005,
    "start_time": "2022-07-26T13:45:01.819Z"
   },
   {
    "duration": 12,
    "start_time": "2022-07-26T13:45:16.440Z"
   },
   {
    "duration": 14,
    "start_time": "2022-07-26T13:45:30.463Z"
   },
   {
    "duration": 11,
    "start_time": "2022-07-26T13:46:12.464Z"
   },
   {
    "duration": 31912,
    "start_time": "2022-07-26T13:47:19.872Z"
   },
   {
    "duration": 31902,
    "start_time": "2022-07-26T13:49:39.188Z"
   },
   {
    "duration": 107,
    "start_time": "2022-07-26T13:50:45.836Z"
   },
   {
    "duration": 51,
    "start_time": "2022-07-26T19:00:44.466Z"
   },
   {
    "duration": 1861,
    "start_time": "2022-07-26T19:00:53.991Z"
   },
   {
    "duration": 2009,
    "start_time": "2022-07-26T19:00:55.855Z"
   },
   {
    "duration": 7,
    "start_time": "2022-07-26T19:00:57.867Z"
   },
   {
    "duration": 238,
    "start_time": "2022-07-26T19:00:57.877Z"
   },
   {
    "duration": 59,
    "start_time": "2022-07-26T19:00:58.117Z"
   },
   {
    "duration": 3,
    "start_time": "2022-07-26T19:00:58.178Z"
   },
   {
    "duration": 32,
    "start_time": "2022-07-26T19:00:58.183Z"
   },
   {
    "duration": 7,
    "start_time": "2022-07-26T19:00:58.218Z"
   },
   {
    "duration": 6,
    "start_time": "2022-07-26T19:00:58.228Z"
   },
   {
    "duration": 446,
    "start_time": "2022-07-26T19:00:58.237Z"
   },
   {
    "duration": 42,
    "start_time": "2022-07-26T19:00:58.688Z"
   },
   {
    "duration": 160,
    "start_time": "2022-07-26T19:00:58.733Z"
   },
   {
    "duration": 21,
    "start_time": "2022-07-26T19:00:58.895Z"
   },
   {
    "duration": 85,
    "start_time": "2022-07-26T19:00:58.918Z"
   },
   {
    "duration": 0,
    "start_time": "2022-07-26T19:00:59.005Z"
   },
   {
    "duration": 101,
    "start_time": "2022-07-26T19:01:20.845Z"
   },
   {
    "duration": 132,
    "start_time": "2022-07-26T19:01:25.088Z"
   },
   {
    "duration": 143,
    "start_time": "2022-07-26T19:02:45.064Z"
   },
   {
    "duration": 216,
    "start_time": "2022-07-26T19:02:56.544Z"
   },
   {
    "duration": 11,
    "start_time": "2022-07-26T19:07:12.072Z"
   },
   {
    "duration": 14,
    "start_time": "2022-07-26T19:07:18.929Z"
   },
   {
    "duration": 35,
    "start_time": "2022-07-26T19:07:23.001Z"
   },
   {
    "duration": 18,
    "start_time": "2022-07-26T19:07:32.642Z"
   },
   {
    "duration": 8,
    "start_time": "2022-07-26T19:07:43.563Z"
   },
   {
    "duration": 5,
    "start_time": "2022-07-26T19:07:44.141Z"
   },
   {
    "duration": 5,
    "start_time": "2022-07-26T19:07:44.948Z"
   },
   {
    "duration": 178,
    "start_time": "2022-07-26T19:07:46.280Z"
   },
   {
    "duration": 20,
    "start_time": "2022-07-26T19:07:50.451Z"
   },
   {
    "duration": 146,
    "start_time": "2022-07-26T19:08:09.396Z"
   },
   {
    "duration": 282,
    "start_time": "2022-07-26T19:09:27.045Z"
   },
   {
    "duration": 192,
    "start_time": "2022-07-26T19:09:51.356Z"
   },
   {
    "duration": 269,
    "start_time": "2022-07-26T19:10:00.255Z"
   },
   {
    "duration": 10,
    "start_time": "2022-07-26T19:10:29.492Z"
   },
   {
    "duration": 258,
    "start_time": "2022-07-26T19:10:37.839Z"
   },
   {
    "duration": 101,
    "start_time": "2022-07-26T19:10:42.836Z"
   },
   {
    "duration": 194,
    "start_time": "2022-07-26T19:11:12.554Z"
   },
   {
    "duration": 159,
    "start_time": "2022-07-26T19:13:03.896Z"
   },
   {
    "duration": 148,
    "start_time": "2022-07-26T19:13:22.508Z"
   },
   {
    "duration": 147,
    "start_time": "2022-07-26T19:13:25.991Z"
   },
   {
    "duration": 187,
    "start_time": "2022-07-26T19:13:29.327Z"
   },
   {
    "duration": 157,
    "start_time": "2022-07-26T19:13:34.831Z"
   },
   {
    "duration": 147,
    "start_time": "2022-07-26T19:13:41.324Z"
   },
   {
    "duration": 14,
    "start_time": "2022-07-26T19:14:33.304Z"
   },
   {
    "duration": 23642,
    "start_time": "2022-07-26T19:14:51.072Z"
   },
   {
    "duration": 26534,
    "start_time": "2022-07-26T19:16:51.736Z"
   },
   {
    "duration": 26652,
    "start_time": "2022-07-26T19:17:22.997Z"
   },
   {
    "duration": 1624,
    "start_time": "2022-07-26T19:24:33.169Z"
   },
   {
    "duration": 12,
    "start_time": "2022-07-26T19:25:09.826Z"
   },
   {
    "duration": 7,
    "start_time": "2022-07-26T19:25:33.301Z"
   },
   {
    "duration": 10,
    "start_time": "2022-07-26T19:26:57.132Z"
   },
   {
    "duration": 7,
    "start_time": "2022-07-26T19:27:24.453Z"
   },
   {
    "duration": 10,
    "start_time": "2022-07-26T19:28:27.249Z"
   },
   {
    "duration": 8,
    "start_time": "2022-07-26T19:28:45.061Z"
   },
   {
    "duration": 10,
    "start_time": "2022-07-26T19:30:10.070Z"
   },
   {
    "duration": 17,
    "start_time": "2022-07-26T19:32:29.929Z"
   },
   {
    "duration": 16,
    "start_time": "2022-07-26T19:32:43.893Z"
   },
   {
    "duration": 2,
    "start_time": "2022-07-26T19:33:29.442Z"
   },
   {
    "duration": 946,
    "start_time": "2022-07-26T19:38:28.182Z"
   },
   {
    "duration": 4416,
    "start_time": "2022-07-26T19:38:42.358Z"
   },
   {
    "duration": 161,
    "start_time": "2022-07-26T19:38:49.143Z"
   },
   {
    "duration": 1026,
    "start_time": "2022-07-26T19:39:16.202Z"
   },
   {
    "duration": 561,
    "start_time": "2022-07-26T19:39:44.739Z"
   },
   {
    "duration": 370,
    "start_time": "2022-07-26T19:39:48.570Z"
   },
   {
    "duration": 571,
    "start_time": "2022-07-26T19:39:53.542Z"
   },
   {
    "duration": 1171,
    "start_time": "2022-07-26T19:39:57.553Z"
   },
   {
    "duration": 554,
    "start_time": "2022-07-26T19:40:01.398Z"
   },
   {
    "duration": 471,
    "start_time": "2022-07-26T19:41:03.793Z"
   },
   {
    "duration": 512,
    "start_time": "2022-07-26T19:41:10.835Z"
   },
   {
    "duration": 11,
    "start_time": "2022-07-26T19:41:52.566Z"
   },
   {
    "duration": 10,
    "start_time": "2022-07-26T19:42:03.386Z"
   },
   {
    "duration": 594,
    "start_time": "2022-07-26T19:42:08.586Z"
   },
   {
    "duration": 388,
    "start_time": "2022-07-26T19:42:35.203Z"
   },
   {
    "duration": 391,
    "start_time": "2022-07-26T19:42:40.279Z"
   },
   {
    "duration": 447,
    "start_time": "2022-07-26T19:44:34.387Z"
   },
   {
    "duration": 436,
    "start_time": "2022-07-26T19:45:05.198Z"
   },
   {
    "duration": 17,
    "start_time": "2022-07-26T19:45:29.535Z"
   },
   {
    "duration": 16,
    "start_time": "2022-07-26T19:45:34.302Z"
   },
   {
    "duration": 483,
    "start_time": "2022-07-26T19:46:20.067Z"
   },
   {
    "duration": 415,
    "start_time": "2022-07-26T19:46:28.874Z"
   },
   {
    "duration": 14,
    "start_time": "2022-07-26T19:49:16.575Z"
   },
   {
    "duration": 14,
    "start_time": "2022-07-26T19:49:49.357Z"
   },
   {
    "duration": 379,
    "start_time": "2022-07-26T19:50:13.949Z"
   },
   {
    "duration": 460,
    "start_time": "2022-07-26T19:52:06.288Z"
   },
   {
    "duration": 393,
    "start_time": "2022-07-26T19:52:14.748Z"
   },
   {
    "duration": 411,
    "start_time": "2022-07-26T19:52:23.625Z"
   },
   {
    "duration": 246,
    "start_time": "2022-07-26T19:52:38.936Z"
   },
   {
    "duration": 433,
    "start_time": "2022-07-26T19:52:48.872Z"
   },
   {
    "duration": 476,
    "start_time": "2022-07-26T19:52:59.181Z"
   },
   {
    "duration": 426,
    "start_time": "2022-07-26T19:53:12.857Z"
   },
   {
    "duration": 633,
    "start_time": "2022-07-26T19:56:09.722Z"
   },
   {
    "duration": 18,
    "start_time": "2022-07-26T21:20:05.531Z"
   },
   {
    "duration": 1622,
    "start_time": "2022-07-26T21:20:27.708Z"
   },
   {
    "duration": 841,
    "start_time": "2022-07-26T21:20:29.332Z"
   },
   {
    "duration": 5,
    "start_time": "2022-07-26T21:20:30.177Z"
   },
   {
    "duration": 266,
    "start_time": "2022-07-26T21:20:30.184Z"
   },
   {
    "duration": 79,
    "start_time": "2022-07-26T21:20:30.451Z"
   },
   {
    "duration": 5,
    "start_time": "2022-07-26T21:20:30.538Z"
   },
   {
    "duration": 37,
    "start_time": "2022-07-26T21:20:30.545Z"
   },
   {
    "duration": 14,
    "start_time": "2022-07-26T21:20:30.584Z"
   },
   {
    "duration": 50,
    "start_time": "2022-07-26T21:20:30.600Z"
   },
   {
    "duration": 373,
    "start_time": "2022-07-26T21:20:30.652Z"
   },
   {
    "duration": 139,
    "start_time": "2022-07-26T21:20:31.027Z"
   },
   {
    "duration": 0,
    "start_time": "2022-07-26T21:20:31.168Z"
   },
   {
    "duration": 0,
    "start_time": "2022-07-26T21:20:31.170Z"
   },
   {
    "duration": 0,
    "start_time": "2022-07-26T21:20:31.171Z"
   },
   {
    "duration": 0,
    "start_time": "2022-07-26T21:20:31.172Z"
   },
   {
    "duration": 0,
    "start_time": "2022-07-26T21:20:31.173Z"
   },
   {
    "duration": 62,
    "start_time": "2022-07-26T21:21:27.970Z"
   },
   {
    "duration": 1467,
    "start_time": "2022-07-26T21:21:35.472Z"
   },
   {
    "duration": 847,
    "start_time": "2022-07-26T21:21:36.942Z"
   },
   {
    "duration": 4,
    "start_time": "2022-07-26T21:21:37.792Z"
   },
   {
    "duration": 265,
    "start_time": "2022-07-26T21:21:37.799Z"
   },
   {
    "duration": 86,
    "start_time": "2022-07-26T21:21:38.066Z"
   },
   {
    "duration": 3,
    "start_time": "2022-07-26T21:21:38.153Z"
   },
   {
    "duration": 9,
    "start_time": "2022-07-26T21:21:38.158Z"
   },
   {
    "duration": 6,
    "start_time": "2022-07-26T21:21:38.169Z"
   },
   {
    "duration": 6,
    "start_time": "2022-07-26T21:21:38.177Z"
   },
   {
    "duration": 387,
    "start_time": "2022-07-26T21:21:38.186Z"
   },
   {
    "duration": 180,
    "start_time": "2022-07-26T21:21:38.574Z"
   },
   {
    "duration": 0,
    "start_time": "2022-07-26T21:21:38.756Z"
   },
   {
    "duration": 0,
    "start_time": "2022-07-26T21:21:38.758Z"
   },
   {
    "duration": 0,
    "start_time": "2022-07-26T21:21:38.759Z"
   },
   {
    "duration": 0,
    "start_time": "2022-07-26T21:21:38.760Z"
   },
   {
    "duration": 0,
    "start_time": "2022-07-26T21:21:38.761Z"
   },
   {
    "duration": 43,
    "start_time": "2022-07-26T21:21:58.590Z"
   },
   {
    "duration": 51,
    "start_time": "2022-07-26T21:22:32.905Z"
   },
   {
    "duration": 26,
    "start_time": "2022-07-26T21:22:35.049Z"
   },
   {
    "duration": 15,
    "start_time": "2022-07-26T21:22:42.882Z"
   },
   {
    "duration": 511,
    "start_time": "2022-07-26T21:22:47.382Z"
   },
   {
    "duration": 496,
    "start_time": "2022-07-26T21:22:54.408Z"
   },
   {
    "duration": 15,
    "start_time": "2022-07-26T21:26:04.033Z"
   },
   {
    "duration": 13,
    "start_time": "2022-07-26T21:27:16.639Z"
   },
   {
    "duration": 15,
    "start_time": "2022-07-26T21:29:16.548Z"
   },
   {
    "duration": 14,
    "start_time": "2022-07-26T21:29:38.260Z"
   },
   {
    "duration": 1656,
    "start_time": "2022-07-26T21:32:37.833Z"
   },
   {
    "duration": 16,
    "start_time": "2022-07-26T21:33:02.861Z"
   },
   {
    "duration": 22,
    "start_time": "2022-07-26T21:34:47.810Z"
   },
   {
    "duration": 12,
    "start_time": "2022-07-26T21:34:59.469Z"
   },
   {
    "duration": 13,
    "start_time": "2022-07-26T21:35:20.258Z"
   },
   {
    "duration": 1821,
    "start_time": "2022-07-27T06:19:35.270Z"
   },
   {
    "duration": 1971,
    "start_time": "2022-07-27T06:19:37.093Z"
   },
   {
    "duration": 6,
    "start_time": "2022-07-27T06:19:39.065Z"
   },
   {
    "duration": 249,
    "start_time": "2022-07-27T06:19:39.074Z"
   },
   {
    "duration": 84,
    "start_time": "2022-07-27T06:19:39.325Z"
   },
   {
    "duration": 3,
    "start_time": "2022-07-27T06:19:39.411Z"
   },
   {
    "duration": 11,
    "start_time": "2022-07-27T06:19:39.416Z"
   },
   {
    "duration": 5,
    "start_time": "2022-07-27T06:19:39.429Z"
   },
   {
    "duration": 7,
    "start_time": "2022-07-27T06:19:39.436Z"
   },
   {
    "duration": 357,
    "start_time": "2022-07-27T06:19:39.446Z"
   },
   {
    "duration": 47,
    "start_time": "2022-07-27T06:19:40.268Z"
   },
   {
    "duration": 32,
    "start_time": "2022-07-27T06:19:41.065Z"
   },
   {
    "duration": 16,
    "start_time": "2022-07-27T06:19:46.284Z"
   },
   {
    "duration": 450,
    "start_time": "2022-07-27T06:19:48.484Z"
   },
   {
    "duration": 15,
    "start_time": "2022-07-27T06:20:12.797Z"
   },
   {
    "duration": 4,
    "start_time": "2022-07-27T06:22:02.875Z"
   },
   {
    "duration": 5,
    "start_time": "2022-07-27T06:22:05.057Z"
   },
   {
    "duration": 17,
    "start_time": "2022-07-27T06:27:09.926Z"
   },
   {
    "duration": 19,
    "start_time": "2022-07-27T06:28:05.758Z"
   },
   {
    "duration": 82,
    "start_time": "2022-07-27T06:29:45.900Z"
   },
   {
    "duration": 83,
    "start_time": "2022-07-27T06:29:49.769Z"
   },
   {
    "duration": 82,
    "start_time": "2022-07-27T06:30:04.016Z"
   },
   {
    "duration": 81,
    "start_time": "2022-07-27T06:30:39.040Z"
   },
   {
    "duration": 96,
    "start_time": "2022-07-27T06:30:49.300Z"
   },
   {
    "duration": 6,
    "start_time": "2022-07-27T06:31:12.449Z"
   },
   {
    "duration": 7,
    "start_time": "2022-07-27T06:32:25.947Z"
   },
   {
    "duration": 5,
    "start_time": "2022-07-27T06:33:14.993Z"
   },
   {
    "duration": 1709,
    "start_time": "2022-07-27T06:33:16.112Z"
   },
   {
    "duration": 9,
    "start_time": "2022-07-27T06:33:46.630Z"
   },
   {
    "duration": 1314,
    "start_time": "2022-07-27T06:33:47.393Z"
   },
   {
    "duration": 7,
    "start_time": "2022-07-27T06:37:29.071Z"
   },
   {
    "duration": 1068,
    "start_time": "2022-07-27T06:37:29.881Z"
   },
   {
    "duration": 82,
    "start_time": "2022-07-27T06:39:27.286Z"
   },
   {
    "duration": 1314,
    "start_time": "2022-07-27T06:39:28.057Z"
   },
   {
    "duration": 95,
    "start_time": "2022-07-27T06:39:41.772Z"
   },
   {
    "duration": 1184,
    "start_time": "2022-07-27T06:39:42.484Z"
   },
   {
    "duration": 9,
    "start_time": "2022-07-27T06:40:28.039Z"
   },
   {
    "duration": 1341,
    "start_time": "2022-07-27T06:40:29.153Z"
   },
   {
    "duration": 7,
    "start_time": "2022-07-27T06:41:25.297Z"
   },
   {
    "duration": 1185,
    "start_time": "2022-07-27T06:41:26.139Z"
   },
   {
    "duration": 10,
    "start_time": "2022-07-27T06:41:45.978Z"
   },
   {
    "duration": 1125,
    "start_time": "2022-07-27T06:41:47.108Z"
   },
   {
    "duration": 7,
    "start_time": "2022-07-27T06:41:58.796Z"
   },
   {
    "duration": 1137,
    "start_time": "2022-07-27T06:41:59.255Z"
   },
   {
    "duration": 9,
    "start_time": "2022-07-27T06:45:04.181Z"
   },
   {
    "duration": 1857,
    "start_time": "2022-07-27T06:45:04.749Z"
   },
   {
    "duration": 8,
    "start_time": "2022-07-27T06:45:21.076Z"
   },
   {
    "duration": 1643,
    "start_time": "2022-07-27T06:45:21.711Z"
   },
   {
    "duration": 8,
    "start_time": "2022-07-27T06:45:46.484Z"
   },
   {
    "duration": 1663,
    "start_time": "2022-07-27T06:45:47.100Z"
   },
   {
    "duration": 9,
    "start_time": "2022-07-27T06:49:41.569Z"
   },
   {
    "duration": 1639,
    "start_time": "2022-07-27T06:49:42.050Z"
   },
   {
    "duration": 8,
    "start_time": "2022-07-27T06:49:52.012Z"
   },
   {
    "duration": 1794,
    "start_time": "2022-07-27T06:49:52.503Z"
   },
   {
    "duration": 9,
    "start_time": "2022-07-27T06:50:04.622Z"
   },
   {
    "duration": 1732,
    "start_time": "2022-07-27T06:50:05.032Z"
   },
   {
    "duration": 9,
    "start_time": "2022-07-27T06:50:13.004Z"
   },
   {
    "duration": 1694,
    "start_time": "2022-07-27T06:50:13.549Z"
   },
   {
    "duration": 10,
    "start_time": "2022-07-27T06:50:33.127Z"
   },
   {
    "duration": 10,
    "start_time": "2022-07-27T06:50:48.318Z"
   },
   {
    "duration": 1749,
    "start_time": "2022-07-27T06:50:49.320Z"
   },
   {
    "duration": 9,
    "start_time": "2022-07-27T06:51:17.569Z"
   },
   {
    "duration": 1801,
    "start_time": "2022-07-27T06:51:18.964Z"
   },
   {
    "duration": 9,
    "start_time": "2022-07-27T06:52:07.682Z"
   },
   {
    "duration": 1660,
    "start_time": "2022-07-27T06:52:08.284Z"
   },
   {
    "duration": 10,
    "start_time": "2022-07-27T06:54:10.250Z"
   },
   {
    "duration": 1493,
    "start_time": "2022-07-27T06:54:10.873Z"
   },
   {
    "duration": 188,
    "start_time": "2022-07-27T06:55:36.081Z"
   },
   {
    "duration": 1586,
    "start_time": "2022-07-27T06:55:36.503Z"
   },
   {
    "duration": 8,
    "start_time": "2022-07-27T06:56:02.918Z"
   },
   {
    "duration": 1451,
    "start_time": "2022-07-27T06:56:03.505Z"
   },
   {
    "duration": 11,
    "start_time": "2022-07-27T06:58:14.369Z"
   },
   {
    "duration": 1339,
    "start_time": "2022-07-27T06:58:14.960Z"
   },
   {
    "duration": 9,
    "start_time": "2022-07-27T06:58:37.317Z"
   },
   {
    "duration": 1775,
    "start_time": "2022-07-27T06:58:38.477Z"
   },
   {
    "duration": 8,
    "start_time": "2022-07-27T06:58:51.969Z"
   },
   {
    "duration": 1413,
    "start_time": "2022-07-27T06:58:52.309Z"
   },
   {
    "duration": 9,
    "start_time": "2022-07-27T06:59:04.052Z"
   },
   {
    "duration": 1657,
    "start_time": "2022-07-27T06:59:04.612Z"
   },
   {
    "duration": 11,
    "start_time": "2022-07-27T06:59:15.937Z"
   },
   {
    "duration": 2220,
    "start_time": "2022-07-27T06:59:16.573Z"
   },
   {
    "duration": 9,
    "start_time": "2022-07-27T06:59:31.900Z"
   },
   {
    "duration": 1810,
    "start_time": "2022-07-27T06:59:32.352Z"
   },
   {
    "duration": 10,
    "start_time": "2022-07-27T07:00:27.576Z"
   },
   {
    "duration": 1925,
    "start_time": "2022-07-27T07:00:27.955Z"
   },
   {
    "duration": 10,
    "start_time": "2022-07-27T07:00:41.372Z"
   },
   {
    "duration": 2078,
    "start_time": "2022-07-27T07:00:42.401Z"
   },
   {
    "duration": 1590,
    "start_time": "2022-07-27T07:04:30.643Z"
   },
   {
    "duration": 8,
    "start_time": "2022-07-27T07:04:48.093Z"
   },
   {
    "duration": 2016,
    "start_time": "2022-07-27T07:04:49.280Z"
   },
   {
    "duration": 1495,
    "start_time": "2022-07-27T07:04:54.195Z"
   },
   {
    "duration": 26,
    "start_time": "2022-07-27T07:10:48.546Z"
   },
   {
    "duration": 181,
    "start_time": "2022-07-27T07:11:46.009Z"
   },
   {
    "duration": 871,
    "start_time": "2022-07-27T07:11:46.615Z"
   },
   {
    "duration": 10,
    "start_time": "2022-07-27T07:12:38.548Z"
   },
   {
    "duration": 1977,
    "start_time": "2022-07-27T07:12:39.395Z"
   },
   {
    "duration": 5,
    "start_time": "2022-07-27T07:12:56.193Z"
   },
   {
    "duration": 31,
    "start_time": "2022-07-27T07:14:11.096Z"
   },
   {
    "duration": 1009,
    "start_time": "2022-07-27T07:14:20.866Z"
   },
   {
    "duration": 11,
    "start_time": "2022-07-27T07:14:42.245Z"
   },
   {
    "duration": 14,
    "start_time": "2022-07-27T07:16:52.566Z"
   },
   {
    "duration": 34,
    "start_time": "2022-07-27T07:16:59.971Z"
   },
   {
    "duration": 20,
    "start_time": "2022-07-27T07:18:07.315Z"
   },
   {
    "duration": 19,
    "start_time": "2022-07-27T07:18:21.719Z"
   },
   {
    "duration": 7,
    "start_time": "2022-07-27T07:18:32.417Z"
   },
   {
    "duration": 8,
    "start_time": "2022-07-27T07:18:39.016Z"
   },
   {
    "duration": 1875,
    "start_time": "2022-07-27T07:20:05.060Z"
   },
   {
    "duration": 823,
    "start_time": "2022-07-27T07:20:06.938Z"
   },
   {
    "duration": 6,
    "start_time": "2022-07-27T07:20:07.763Z"
   },
   {
    "duration": 292,
    "start_time": "2022-07-27T07:20:07.772Z"
   },
   {
    "duration": 79,
    "start_time": "2022-07-27T07:20:08.067Z"
   },
   {
    "duration": 4,
    "start_time": "2022-07-27T07:20:08.149Z"
   },
   {
    "duration": 18,
    "start_time": "2022-07-27T07:20:08.155Z"
   },
   {
    "duration": 28,
    "start_time": "2022-07-27T07:20:08.176Z"
   },
   {
    "duration": 6,
    "start_time": "2022-07-27T07:20:08.207Z"
   },
   {
    "duration": 322,
    "start_time": "2022-07-27T07:20:08.215Z"
   },
   {
    "duration": 42,
    "start_time": "2022-07-27T07:20:08.539Z"
   },
   {
    "duration": 47,
    "start_time": "2022-07-27T07:20:08.583Z"
   },
   {
    "duration": 20,
    "start_time": "2022-07-27T07:20:08.632Z"
   },
   {
    "duration": 500,
    "start_time": "2022-07-27T07:20:08.655Z"
   },
   {
    "duration": 485,
    "start_time": "2022-07-27T07:20:09.158Z"
   },
   {
    "duration": 15,
    "start_time": "2022-07-27T07:20:09.645Z"
   },
   {
    "duration": 12,
    "start_time": "2022-07-27T07:20:09.662Z"
   },
   {
    "duration": 5034,
    "start_time": "2022-07-27T07:20:09.676Z"
   },
   {
    "duration": 0,
    "start_time": "2022-07-27T07:20:14.712Z"
   },
   {
    "duration": 0,
    "start_time": "2022-07-27T07:20:14.714Z"
   },
   {
    "duration": 95,
    "start_time": "2022-07-27T07:21:19.699Z"
   },
   {
    "duration": 1979,
    "start_time": "2022-07-27T07:21:20.452Z"
   },
   {
    "duration": 1452,
    "start_time": "2022-07-27T07:21:24.697Z"
   },
   {
    "duration": 36,
    "start_time": "2022-07-27T07:21:31.425Z"
   },
   {
    "duration": 61,
    "start_time": "2022-07-27T07:24:56.037Z"
   },
   {
    "duration": 30,
    "start_time": "2022-07-27T07:25:00.690Z"
   },
   {
    "duration": 1390,
    "start_time": "2022-07-27T07:29:08.487Z"
   },
   {
    "duration": 8,
    "start_time": "2022-07-27T07:30:25.517Z"
   },
   {
    "duration": 1275,
    "start_time": "2022-07-27T07:30:26.590Z"
   },
   {
    "duration": 1537,
    "start_time": "2022-07-27T07:30:37.370Z"
   },
   {
    "duration": 771,
    "start_time": "2022-07-27T07:30:38.909Z"
   },
   {
    "duration": 5,
    "start_time": "2022-07-27T07:30:39.682Z"
   },
   {
    "duration": 239,
    "start_time": "2022-07-27T07:30:39.690Z"
   },
   {
    "duration": 78,
    "start_time": "2022-07-27T07:30:39.931Z"
   },
   {
    "duration": 3,
    "start_time": "2022-07-27T07:30:40.011Z"
   },
   {
    "duration": 25,
    "start_time": "2022-07-27T07:30:40.017Z"
   },
   {
    "duration": 6,
    "start_time": "2022-07-27T07:30:40.045Z"
   },
   {
    "duration": 11,
    "start_time": "2022-07-27T07:30:40.053Z"
   },
   {
    "duration": 362,
    "start_time": "2022-07-27T07:30:40.067Z"
   },
   {
    "duration": 42,
    "start_time": "2022-07-27T07:30:40.431Z"
   },
   {
    "duration": 44,
    "start_time": "2022-07-27T07:30:40.474Z"
   },
   {
    "duration": 20,
    "start_time": "2022-07-27T07:30:40.520Z"
   },
   {
    "duration": 483,
    "start_time": "2022-07-27T07:30:40.542Z"
   },
   {
    "duration": 525,
    "start_time": "2022-07-27T07:30:41.027Z"
   },
   {
    "duration": 17,
    "start_time": "2022-07-27T07:30:41.554Z"
   },
   {
    "duration": 33,
    "start_time": "2022-07-27T07:30:41.573Z"
   },
   {
    "duration": 2035,
    "start_time": "2022-07-27T07:30:41.608Z"
   },
   {
    "duration": 1376,
    "start_time": "2022-07-27T07:30:43.645Z"
   },
   {
    "duration": 82,
    "start_time": "2022-07-27T07:30:45.023Z"
   },
   {
    "duration": 1350,
    "start_time": "2022-07-27T07:30:45.107Z"
   },
   {
    "duration": 1394,
    "start_time": "2022-07-27T07:31:16.301Z"
   },
   {
    "duration": 1624,
    "start_time": "2022-07-27T07:32:31.606Z"
   },
   {
    "duration": 720,
    "start_time": "2022-07-27T07:32:33.232Z"
   },
   {
    "duration": 5,
    "start_time": "2022-07-27T07:32:33.954Z"
   },
   {
    "duration": 279,
    "start_time": "2022-07-27T07:32:33.962Z"
   },
   {
    "duration": 69,
    "start_time": "2022-07-27T07:32:34.243Z"
   },
   {
    "duration": 3,
    "start_time": "2022-07-27T07:32:34.314Z"
   },
   {
    "duration": 20,
    "start_time": "2022-07-27T07:32:34.319Z"
   },
   {
    "duration": 34,
    "start_time": "2022-07-27T07:32:34.341Z"
   },
   {
    "duration": 16,
    "start_time": "2022-07-27T07:32:34.377Z"
   },
   {
    "duration": 344,
    "start_time": "2022-07-27T07:32:34.396Z"
   },
   {
    "duration": 41,
    "start_time": "2022-07-27T07:32:34.742Z"
   },
   {
    "duration": 43,
    "start_time": "2022-07-27T07:32:34.785Z"
   },
   {
    "duration": 22,
    "start_time": "2022-07-27T07:32:34.830Z"
   },
   {
    "duration": 498,
    "start_time": "2022-07-27T07:32:34.853Z"
   },
   {
    "duration": 499,
    "start_time": "2022-07-27T07:32:35.354Z"
   },
   {
    "duration": 13,
    "start_time": "2022-07-27T07:32:35.855Z"
   },
   {
    "duration": 10,
    "start_time": "2022-07-27T07:32:35.870Z"
   },
   {
    "duration": 2169,
    "start_time": "2022-07-27T07:32:35.882Z"
   },
   {
    "duration": 1514,
    "start_time": "2022-07-27T07:32:38.054Z"
   },
   {
    "duration": 66,
    "start_time": "2022-07-27T07:32:39.570Z"
   },
   {
    "duration": 1467,
    "start_time": "2022-07-27T07:32:39.638Z"
   },
   {
    "duration": 1415,
    "start_time": "2022-07-27T07:32:44.089Z"
   },
   {
    "duration": 30,
    "start_time": "2022-07-27T07:32:58.411Z"
   },
   {
    "duration": 215,
    "start_time": "2022-07-27T07:33:56.726Z"
   },
   {
    "duration": 28,
    "start_time": "2022-07-27T07:33:59.098Z"
   },
   {
    "duration": 1264,
    "start_time": "2022-07-27T07:34:05.239Z"
   },
   {
    "duration": 6,
    "start_time": "2022-07-27T07:34:27.197Z"
   },
   {
    "duration": 1880,
    "start_time": "2022-07-27T07:35:09.281Z"
   },
   {
    "duration": 713,
    "start_time": "2022-07-27T07:35:11.164Z"
   },
   {
    "duration": 6,
    "start_time": "2022-07-27T07:35:11.879Z"
   },
   {
    "duration": 251,
    "start_time": "2022-07-27T07:35:11.887Z"
   },
   {
    "duration": 90,
    "start_time": "2022-07-27T07:35:12.141Z"
   },
   {
    "duration": 3,
    "start_time": "2022-07-27T07:35:12.233Z"
   },
   {
    "duration": 11,
    "start_time": "2022-07-27T07:35:12.238Z"
   },
   {
    "duration": 6,
    "start_time": "2022-07-27T07:35:12.250Z"
   },
   {
    "duration": 9,
    "start_time": "2022-07-27T07:35:12.258Z"
   },
   {
    "duration": 357,
    "start_time": "2022-07-27T07:35:12.308Z"
   },
   {
    "duration": 48,
    "start_time": "2022-07-27T07:35:12.667Z"
   },
   {
    "duration": 30,
    "start_time": "2022-07-27T07:35:12.717Z"
   },
   {
    "duration": 20,
    "start_time": "2022-07-27T07:35:13.002Z"
   },
   {
    "duration": 454,
    "start_time": "2022-07-27T07:35:14.597Z"
   },
   {
    "duration": 522,
    "start_time": "2022-07-27T07:35:15.054Z"
   },
   {
    "duration": 32,
    "start_time": "2022-07-27T07:35:15.578Z"
   },
   {
    "duration": 9,
    "start_time": "2022-07-27T07:35:17.734Z"
   },
   {
    "duration": 2106,
    "start_time": "2022-07-27T07:35:19.737Z"
   },
   {
    "duration": 1395,
    "start_time": "2022-07-27T07:35:21.845Z"
   },
   {
    "duration": 7,
    "start_time": "2022-07-27T07:35:23.242Z"
   },
   {
    "duration": 6,
    "start_time": "2022-07-27T07:35:27.260Z"
   },
   {
    "duration": 14,
    "start_time": "2022-07-27T07:35:59.012Z"
   },
   {
    "duration": 5,
    "start_time": "2022-07-27T07:36:00.208Z"
   },
   {
    "duration": 1560,
    "start_time": "2022-07-27T07:36:33.965Z"
   },
   {
    "duration": 703,
    "start_time": "2022-07-27T07:36:35.527Z"
   },
   {
    "duration": 5,
    "start_time": "2022-07-27T07:36:36.232Z"
   },
   {
    "duration": 242,
    "start_time": "2022-07-27T07:36:36.239Z"
   },
   {
    "duration": 88,
    "start_time": "2022-07-27T07:36:36.484Z"
   },
   {
    "duration": 5,
    "start_time": "2022-07-27T07:36:36.574Z"
   },
   {
    "duration": 32,
    "start_time": "2022-07-27T07:36:36.581Z"
   },
   {
    "duration": 10,
    "start_time": "2022-07-27T07:36:36.616Z"
   },
   {
    "duration": 15,
    "start_time": "2022-07-27T07:36:36.629Z"
   },
   {
    "duration": 344,
    "start_time": "2022-07-27T07:36:36.648Z"
   },
   {
    "duration": 53,
    "start_time": "2022-07-27T07:36:36.994Z"
   },
   {
    "duration": 31,
    "start_time": "2022-07-27T07:36:37.049Z"
   },
   {
    "duration": 35,
    "start_time": "2022-07-27T07:36:37.081Z"
   },
   {
    "duration": 422,
    "start_time": "2022-07-27T07:36:37.118Z"
   },
   {
    "duration": 496,
    "start_time": "2022-07-27T07:36:37.542Z"
   },
   {
    "duration": 15,
    "start_time": "2022-07-27T07:36:38.040Z"
   },
   {
    "duration": 9,
    "start_time": "2022-07-27T07:36:38.057Z"
   },
   {
    "duration": 1983,
    "start_time": "2022-07-27T07:36:38.068Z"
   },
   {
    "duration": 1382,
    "start_time": "2022-07-27T07:36:40.053Z"
   },
   {
    "duration": 77,
    "start_time": "2022-07-27T07:36:41.436Z"
   },
   {
    "duration": 12,
    "start_time": "2022-07-27T07:36:41.515Z"
   },
   {
    "duration": 1781,
    "start_time": "2022-07-27T07:36:58.706Z"
   },
   {
    "duration": 33,
    "start_time": "2022-07-27T07:37:26.996Z"
   },
   {
    "duration": 230,
    "start_time": "2022-07-27T07:39:21.056Z"
   },
   {
    "duration": 1791,
    "start_time": "2022-07-27T07:39:22.318Z"
   },
   {
    "duration": 29,
    "start_time": "2022-07-27T07:39:26.073Z"
   },
   {
    "duration": 1503,
    "start_time": "2022-07-27T07:41:52.918Z"
   },
   {
    "duration": 734,
    "start_time": "2022-07-27T07:41:54.423Z"
   },
   {
    "duration": 5,
    "start_time": "2022-07-27T07:41:55.159Z"
   },
   {
    "duration": 273,
    "start_time": "2022-07-27T07:41:55.166Z"
   },
   {
    "duration": 85,
    "start_time": "2022-07-27T07:41:55.442Z"
   },
   {
    "duration": 4,
    "start_time": "2022-07-27T07:41:55.529Z"
   },
   {
    "duration": 16,
    "start_time": "2022-07-27T07:41:55.535Z"
   },
   {
    "duration": 7,
    "start_time": "2022-07-27T07:41:55.553Z"
   },
   {
    "duration": 11,
    "start_time": "2022-07-27T07:41:55.562Z"
   },
   {
    "duration": 352,
    "start_time": "2022-07-27T07:41:55.576Z"
   },
   {
    "duration": 41,
    "start_time": "2022-07-27T07:41:55.930Z"
   },
   {
    "duration": 46,
    "start_time": "2022-07-27T07:41:55.973Z"
   },
   {
    "duration": 20,
    "start_time": "2022-07-27T07:41:56.021Z"
   },
   {
    "duration": 500,
    "start_time": "2022-07-27T07:41:56.044Z"
   },
   {
    "duration": 499,
    "start_time": "2022-07-27T07:41:56.547Z"
   },
   {
    "duration": 14,
    "start_time": "2022-07-27T07:41:57.048Z"
   },
   {
    "duration": 9,
    "start_time": "2022-07-27T07:41:57.064Z"
   },
   {
    "duration": 1992,
    "start_time": "2022-07-27T07:41:57.075Z"
   },
   {
    "duration": 1352,
    "start_time": "2022-07-27T07:41:59.068Z"
   },
   {
    "duration": 88,
    "start_time": "2022-07-27T07:42:00.422Z"
   },
   {
    "duration": 1774,
    "start_time": "2022-07-27T07:42:00.511Z"
   },
   {
    "duration": 308,
    "start_time": "2022-07-27T08:01:01.986Z"
   },
   {
    "duration": 370,
    "start_time": "2022-07-27T08:04:38.101Z"
   },
   {
    "duration": 630,
    "start_time": "2022-07-27T08:05:31.945Z"
   },
   {
    "duration": 1043,
    "start_time": "2022-07-27T08:06:57.761Z"
   },
   {
    "duration": 1487,
    "start_time": "2022-07-27T08:07:25.844Z"
   },
   {
    "duration": 1075,
    "start_time": "2022-07-27T08:07:47.030Z"
   },
   {
    "duration": 1760,
    "start_time": "2022-07-27T08:09:10.629Z"
   },
   {
    "duration": 2611,
    "start_time": "2022-07-27T08:09:37.897Z"
   },
   {
    "duration": 1143,
    "start_time": "2022-07-27T08:10:30.556Z"
   },
   {
    "duration": 824,
    "start_time": "2022-07-27T08:10:54.242Z"
   },
   {
    "duration": 2743,
    "start_time": "2022-07-27T08:12:03.306Z"
   },
   {
    "duration": 2662,
    "start_time": "2022-07-27T08:17:21.218Z"
   },
   {
    "duration": 2226,
    "start_time": "2022-07-27T08:17:43.434Z"
   },
   {
    "duration": 2293,
    "start_time": "2022-07-27T08:19:20.743Z"
   },
   {
    "duration": 2233,
    "start_time": "2022-07-27T08:19:31.760Z"
   },
   {
    "duration": 1945,
    "start_time": "2022-07-27T08:19:57.330Z"
   },
   {
    "duration": 98,
    "start_time": "2022-07-27T08:20:17.198Z"
   },
   {
    "duration": 2579,
    "start_time": "2022-07-27T08:20:24.769Z"
   },
   {
    "duration": 2505,
    "start_time": "2022-07-27T08:20:42.239Z"
   },
   {
    "duration": 2381,
    "start_time": "2022-07-27T08:20:57.574Z"
   },
   {
    "duration": 2235,
    "start_time": "2022-07-27T08:21:36.790Z"
   },
   {
    "duration": 2098,
    "start_time": "2022-07-27T08:22:04.750Z"
   },
   {
    "duration": 1772,
    "start_time": "2022-07-27T08:23:08.218Z"
   },
   {
    "duration": 88,
    "start_time": "2022-07-27T08:25:06.170Z"
   },
   {
    "duration": 9,
    "start_time": "2022-07-27T08:25:15.237Z"
   },
   {
    "duration": 100,
    "start_time": "2022-07-27T08:25:21.349Z"
   },
   {
    "duration": 1811,
    "start_time": "2022-07-27T08:25:23.601Z"
   },
   {
    "duration": 1310,
    "start_time": "2022-07-27T08:25:44.770Z"
   },
   {
    "duration": 3,
    "start_time": "2022-07-27T08:38:23.745Z"
   },
   {
    "duration": 3,
    "start_time": "2022-07-27T08:42:48.511Z"
   },
   {
    "duration": 3,
    "start_time": "2022-07-27T08:43:00.549Z"
   },
   {
    "duration": 4,
    "start_time": "2022-07-27T08:46:10.774Z"
   },
   {
    "duration": 4,
    "start_time": "2022-07-27T08:46:12.158Z"
   },
   {
    "duration": 12,
    "start_time": "2022-07-27T08:49:50.850Z"
   },
   {
    "duration": 10,
    "start_time": "2022-07-27T08:50:06.570Z"
   },
   {
    "duration": 4,
    "start_time": "2022-07-27T08:55:27.205Z"
   },
   {
    "duration": 59,
    "start_time": "2022-07-27T08:55:34.582Z"
   },
   {
    "duration": 44,
    "start_time": "2022-07-27T08:56:00.077Z"
   },
   {
    "duration": 4,
    "start_time": "2022-07-27T08:57:12.439Z"
   },
   {
    "duration": 35,
    "start_time": "2022-07-27T08:57:16.869Z"
   },
   {
    "duration": 1581,
    "start_time": "2022-07-27T09:01:28.887Z"
   },
   {
    "duration": 874,
    "start_time": "2022-07-27T09:01:30.470Z"
   },
   {
    "duration": 59,
    "start_time": "2022-07-27T09:01:31.346Z"
   },
   {
    "duration": 503,
    "start_time": "2022-07-27T09:01:31.408Z"
   },
   {
    "duration": 120,
    "start_time": "2022-07-27T09:01:31.913Z"
   },
   {
    "duration": 3,
    "start_time": "2022-07-27T09:01:32.035Z"
   },
   {
    "duration": 281,
    "start_time": "2022-07-27T09:01:32.040Z"
   },
   {
    "duration": 0,
    "start_time": "2022-07-27T09:01:32.324Z"
   },
   {
    "duration": 0,
    "start_time": "2022-07-27T09:01:32.325Z"
   },
   {
    "duration": 0,
    "start_time": "2022-07-27T09:01:32.326Z"
   },
   {
    "duration": 0,
    "start_time": "2022-07-27T09:01:32.328Z"
   },
   {
    "duration": 0,
    "start_time": "2022-07-27T09:01:32.329Z"
   },
   {
    "duration": 0,
    "start_time": "2022-07-27T09:01:32.330Z"
   },
   {
    "duration": 0,
    "start_time": "2022-07-27T09:01:32.331Z"
   },
   {
    "duration": 0,
    "start_time": "2022-07-27T09:01:32.332Z"
   },
   {
    "duration": 0,
    "start_time": "2022-07-27T09:01:32.333Z"
   },
   {
    "duration": 0,
    "start_time": "2022-07-27T09:01:32.334Z"
   },
   {
    "duration": 0,
    "start_time": "2022-07-27T09:01:32.336Z"
   },
   {
    "duration": 0,
    "start_time": "2022-07-27T09:01:32.337Z"
   },
   {
    "duration": 0,
    "start_time": "2022-07-27T09:01:32.338Z"
   },
   {
    "duration": 0,
    "start_time": "2022-07-27T09:01:32.339Z"
   },
   {
    "duration": 0,
    "start_time": "2022-07-27T09:01:32.340Z"
   },
   {
    "duration": 0,
    "start_time": "2022-07-27T09:01:32.341Z"
   },
   {
    "duration": 0,
    "start_time": "2022-07-27T09:01:32.342Z"
   },
   {
    "duration": 0,
    "start_time": "2022-07-27T09:01:32.343Z"
   },
   {
    "duration": 0,
    "start_time": "2022-07-27T09:01:32.404Z"
   },
   {
    "duration": 0,
    "start_time": "2022-07-27T09:01:32.405Z"
   },
   {
    "duration": 0,
    "start_time": "2022-07-27T09:01:32.406Z"
   },
   {
    "duration": 0,
    "start_time": "2022-07-27T09:01:32.407Z"
   },
   {
    "duration": 0,
    "start_time": "2022-07-27T09:01:32.408Z"
   },
   {
    "duration": 9,
    "start_time": "2022-07-27T09:01:44.219Z"
   },
   {
    "duration": 13,
    "start_time": "2022-07-27T09:01:53.500Z"
   },
   {
    "duration": 5,
    "start_time": "2022-07-27T09:02:24.234Z"
   },
   {
    "duration": 13,
    "start_time": "2022-07-27T09:02:29.151Z"
   },
   {
    "duration": 5,
    "start_time": "2022-07-27T09:02:37.837Z"
   },
   {
    "duration": 4,
    "start_time": "2022-07-27T09:02:42.000Z"
   },
   {
    "duration": 5,
    "start_time": "2022-07-27T09:02:44.784Z"
   },
   {
    "duration": 317,
    "start_time": "2022-07-27T09:02:52.204Z"
   },
   {
    "duration": 35,
    "start_time": "2022-07-27T09:02:57.251Z"
   },
   {
    "duration": 30,
    "start_time": "2022-07-27T09:02:57.928Z"
   },
   {
    "duration": 21,
    "start_time": "2022-07-27T09:03:00.390Z"
   },
   {
    "duration": 2327,
    "start_time": "2022-07-27T09:03:01.083Z"
   },
   {
    "duration": 1800,
    "start_time": "2022-07-27T09:03:03.412Z"
   },
   {
    "duration": 2058,
    "start_time": "2022-07-27T09:03:08.175Z"
   },
   {
    "duration": 411,
    "start_time": "2022-07-27T09:03:12.720Z"
   },
   {
    "duration": 479,
    "start_time": "2022-07-27T09:03:14.775Z"
   },
   {
    "duration": 15,
    "start_time": "2022-07-27T09:03:21.524Z"
   },
   {
    "duration": 16,
    "start_time": "2022-07-27T09:03:26.536Z"
   },
   {
    "duration": 2018,
    "start_time": "2022-07-27T09:03:27.413Z"
   },
   {
    "duration": 1593,
    "start_time": "2022-07-27T09:03:29.434Z"
   },
   {
    "duration": 10,
    "start_time": "2022-07-27T09:03:31.030Z"
   },
   {
    "duration": 109,
    "start_time": "2022-07-27T09:03:32.527Z"
   },
   {
    "duration": 1771,
    "start_time": "2022-07-27T09:03:33.269Z"
   },
   {
    "duration": 1362,
    "start_time": "2022-07-27T09:03:35.043Z"
   },
   {
    "duration": 4,
    "start_time": "2022-07-27T09:03:41.979Z"
   },
   {
    "duration": 3,
    "start_time": "2022-07-27T09:03:42.487Z"
   },
   {
    "duration": 9,
    "start_time": "2022-07-27T09:03:44.605Z"
   },
   {
    "duration": 21,
    "start_time": "2022-07-27T09:03:46.043Z"
   },
   {
    "duration": 7,
    "start_time": "2022-07-27T09:04:37.412Z"
   },
   {
    "duration": 27,
    "start_time": "2022-07-27T09:05:55.492Z"
   },
   {
    "duration": 28,
    "start_time": "2022-07-27T09:06:12.728Z"
   },
   {
    "duration": 5,
    "start_time": "2022-07-27T09:06:44.113Z"
   },
   {
    "duration": 5,
    "start_time": "2022-07-27T09:06:59.160Z"
   },
   {
    "duration": 30,
    "start_time": "2022-07-27T09:07:03.396Z"
   },
   {
    "duration": 177,
    "start_time": "2022-07-27T09:11:34.116Z"
   },
   {
    "duration": 214,
    "start_time": "2022-07-27T09:12:00.352Z"
   },
   {
    "duration": 64,
    "start_time": "2022-07-27T09:12:06.022Z"
   },
   {
    "duration": 14,
    "start_time": "2022-07-27T09:22:07.223Z"
   },
   {
    "duration": 68,
    "start_time": "2022-07-27T09:22:22.801Z"
   },
   {
    "duration": 1752,
    "start_time": "2022-07-27T09:29:01.406Z"
   },
   {
    "duration": 741,
    "start_time": "2022-07-27T09:29:03.160Z"
   },
   {
    "duration": 4,
    "start_time": "2022-07-27T09:29:03.903Z"
   },
   {
    "duration": 246,
    "start_time": "2022-07-27T09:29:03.909Z"
   },
   {
    "duration": 80,
    "start_time": "2022-07-27T09:29:04.157Z"
   },
   {
    "duration": 3,
    "start_time": "2022-07-27T09:29:04.239Z"
   },
   {
    "duration": 10,
    "start_time": "2022-07-27T09:29:04.244Z"
   },
   {
    "duration": 10,
    "start_time": "2022-07-27T09:29:04.255Z"
   },
   {
    "duration": 38,
    "start_time": "2022-07-27T09:29:04.267Z"
   },
   {
    "duration": 36,
    "start_time": "2022-07-27T09:29:04.308Z"
   },
   {
    "duration": 28,
    "start_time": "2022-07-27T09:29:04.346Z"
   },
   {
    "duration": 42,
    "start_time": "2022-07-27T09:29:04.376Z"
   },
   {
    "duration": 2422,
    "start_time": "2022-07-27T09:29:04.420Z"
   },
   {
    "duration": 1851,
    "start_time": "2022-07-27T09:29:06.844Z"
   },
   {
    "duration": 2003,
    "start_time": "2022-07-27T09:29:08.698Z"
   },
   {
    "duration": 430,
    "start_time": "2022-07-27T09:29:10.704Z"
   },
   {
    "duration": 410,
    "start_time": "2022-07-27T09:29:11.136Z"
   },
   {
    "duration": 14,
    "start_time": "2022-07-27T09:29:11.548Z"
   },
   {
    "duration": 9,
    "start_time": "2022-07-27T09:29:11.565Z"
   },
   {
    "duration": 1906,
    "start_time": "2022-07-27T09:29:11.576Z"
   },
   {
    "duration": 1479,
    "start_time": "2022-07-27T09:29:13.484Z"
   },
   {
    "duration": 0,
    "start_time": "2022-07-27T09:29:14.965Z"
   },
   {
    "duration": 0,
    "start_time": "2022-07-27T09:29:14.967Z"
   },
   {
    "duration": 0,
    "start_time": "2022-07-27T09:29:14.969Z"
   },
   {
    "duration": 0,
    "start_time": "2022-07-27T09:29:14.970Z"
   },
   {
    "duration": 0,
    "start_time": "2022-07-27T09:29:14.972Z"
   },
   {
    "duration": 0,
    "start_time": "2022-07-27T09:29:14.973Z"
   },
   {
    "duration": 0,
    "start_time": "2022-07-27T09:29:14.975Z"
   },
   {
    "duration": 0,
    "start_time": "2022-07-27T09:29:14.976Z"
   },
   {
    "duration": 0,
    "start_time": "2022-07-27T09:29:14.977Z"
   },
   {
    "duration": 0,
    "start_time": "2022-07-27T09:29:14.978Z"
   },
   {
    "duration": 159,
    "start_time": "2022-07-27T09:29:40.671Z"
   },
   {
    "duration": 1582,
    "start_time": "2022-07-27T09:29:45.546Z"
   },
   {
    "duration": 27,
    "start_time": "2022-07-27T09:29:59.246Z"
   },
   {
    "duration": 5,
    "start_time": "2022-07-27T09:30:05.169Z"
   },
   {
    "duration": 1827,
    "start_time": "2022-07-27T09:30:17.317Z"
   },
   {
    "duration": 75,
    "start_time": "2022-07-27T09:30:22.244Z"
   },
   {
    "duration": 2024,
    "start_time": "2022-07-27T09:30:26.043Z"
   },
   {
    "duration": 5,
    "start_time": "2022-07-27T09:30:36.622Z"
   },
   {
    "duration": 3,
    "start_time": "2022-07-27T09:30:37.270Z"
   },
   {
    "duration": 7,
    "start_time": "2022-07-27T09:32:04.359Z"
   },
   {
    "duration": 16,
    "start_time": "2022-07-27T09:32:09.471Z"
   },
   {
    "duration": 4,
    "start_time": "2022-07-27T09:32:13.846Z"
   },
   {
    "duration": 4,
    "start_time": "2022-07-27T09:33:37.670Z"
   },
   {
    "duration": 11,
    "start_time": "2022-07-27T09:34:10.414Z"
   },
   {
    "duration": 5,
    "start_time": "2022-07-27T09:34:30.454Z"
   },
   {
    "duration": 4981,
    "start_time": "2022-07-27T09:34:35.430Z"
   },
   {
    "duration": 4343,
    "start_time": "2022-07-27T09:35:32.382Z"
   },
   {
    "duration": 15,
    "start_time": "2022-07-27T09:44:44.842Z"
   },
   {
    "duration": 4641,
    "start_time": "2022-07-27T09:44:54.865Z"
   },
   {
    "duration": 4152,
    "start_time": "2022-07-27T09:45:35.664Z"
   },
   {
    "duration": 4770,
    "start_time": "2022-07-27T09:46:59.446Z"
   },
   {
    "duration": 217345,
    "start_time": "2022-07-27T09:48:38.954Z"
   },
   {
    "duration": 1653,
    "start_time": "2022-07-28T07:25:01.618Z"
   },
   {
    "duration": 1823,
    "start_time": "2022-07-28T07:25:03.273Z"
   },
   {
    "duration": 4,
    "start_time": "2022-07-28T07:25:06.574Z"
   },
   {
    "duration": 191,
    "start_time": "2022-07-28T07:25:07.166Z"
   },
   {
    "duration": 47,
    "start_time": "2022-07-28T07:25:07.555Z"
   },
   {
    "duration": 4,
    "start_time": "2022-07-28T07:25:12.203Z"
   },
   {
    "duration": 7,
    "start_time": "2022-07-28T07:25:12.900Z"
   },
   {
    "duration": 4,
    "start_time": "2022-07-28T07:25:15.294Z"
   },
   {
    "duration": 5,
    "start_time": "2022-07-28T07:25:16.708Z"
   },
   {
    "duration": 31,
    "start_time": "2022-07-28T07:25:30.018Z"
   },
   {
    "duration": 31,
    "start_time": "2022-07-28T07:25:36.020Z"
   },
   {
    "duration": 4,
    "start_time": "2022-07-28T07:25:42.419Z"
   },
   {
    "duration": 3,
    "start_time": "2022-07-28T07:25:51.420Z"
   },
   {
    "duration": 4,
    "start_time": "2022-07-28T07:26:07.958Z"
   },
   {
    "duration": 4,
    "start_time": "2022-07-28T07:27:40.377Z"
   },
   {
    "duration": 96,
    "start_time": "2022-07-28T07:28:44.003Z"
   },
   {
    "duration": 8,
    "start_time": "2022-07-28T07:28:53.506Z"
   },
   {
    "duration": 64,
    "start_time": "2022-07-28T07:28:55.332Z"
   },
   {
    "duration": 8,
    "start_time": "2022-07-28T07:28:56.687Z"
   },
   {
    "duration": 7,
    "start_time": "2022-07-28T07:29:01.052Z"
   },
   {
    "duration": 5,
    "start_time": "2022-07-28T07:29:07.781Z"
   },
   {
    "duration": 6,
    "start_time": "2022-07-28T07:29:28.206Z"
   },
   {
    "duration": 5,
    "start_time": "2022-07-28T07:29:33.718Z"
   },
   {
    "duration": 25,
    "start_time": "2022-07-28T07:29:51.738Z"
   },
   {
    "duration": 4,
    "start_time": "2022-07-28T07:29:59.023Z"
   },
   {
    "duration": 23,
    "start_time": "2022-07-28T07:31:01.496Z"
   },
   {
    "duration": 688,
    "start_time": "2022-07-28T07:32:13.763Z"
   },
   {
    "duration": 624,
    "start_time": "2022-07-28T07:32:23.283Z"
   },
   {
    "duration": 37,
    "start_time": "2022-07-28T07:32:45.991Z"
   },
   {
    "duration": 12,
    "start_time": "2022-07-28T07:32:59.226Z"
   },
   {
    "duration": 12,
    "start_time": "2022-07-28T07:33:11.536Z"
   },
   {
    "duration": 1289,
    "start_time": "2022-07-28T07:34:43.322Z"
   },
   {
    "duration": 27,
    "start_time": "2022-07-28T07:35:28.501Z"
   },
   {
    "duration": 6,
    "start_time": "2022-07-28T07:35:40.648Z"
   },
   {
    "duration": 17,
    "start_time": "2022-07-28T07:36:20.575Z"
   },
   {
    "duration": 5,
    "start_time": "2022-07-28T07:36:23.771Z"
   },
   {
    "duration": 5,
    "start_time": "2022-07-28T07:36:29.694Z"
   },
   {
    "duration": 6,
    "start_time": "2022-07-28T07:36:36.879Z"
   },
   {
    "duration": 29,
    "start_time": "2022-07-28T07:37:46.744Z"
   },
   {
    "duration": 5,
    "start_time": "2022-07-28T07:37:51.171Z"
   },
   {
    "duration": 19,
    "start_time": "2022-07-28T07:38:02.401Z"
   },
   {
    "duration": 5,
    "start_time": "2022-07-28T07:38:05.131Z"
   },
   {
    "duration": 3,
    "start_time": "2022-07-28T07:38:11.586Z"
   },
   {
    "duration": 197,
    "start_time": "2022-07-28T07:41:14.959Z"
   },
   {
    "duration": 3116,
    "start_time": "2022-07-28T07:41:23.340Z"
   },
   {
    "duration": 2756,
    "start_time": "2022-07-28T07:43:27.797Z"
   },
   {
    "duration": 52,
    "start_time": "2022-07-28T07:45:08.562Z"
   },
   {
    "duration": 2603,
    "start_time": "2022-07-28T07:45:22.190Z"
   },
   {
    "duration": 2613,
    "start_time": "2022-07-28T07:45:55.948Z"
   },
   {
    "duration": 5,
    "start_time": "2022-07-28T07:46:30.860Z"
   },
   {
    "duration": 4,
    "start_time": "2022-07-28T07:46:35.829Z"
   },
   {
    "duration": 2673,
    "start_time": "2022-07-28T07:46:47.980Z"
   },
   {
    "duration": 2360,
    "start_time": "2022-07-28T07:47:28.405Z"
   },
   {
    "duration": 2753,
    "start_time": "2022-07-28T07:48:56.400Z"
   },
   {
    "duration": 57,
    "start_time": "2022-07-28T07:52:54.562Z"
   },
   {
    "duration": 3048,
    "start_time": "2022-07-28T07:53:08.046Z"
   },
   {
    "duration": 3,
    "start_time": "2022-07-28T07:53:19.524Z"
   },
   {
    "duration": 5,
    "start_time": "2022-07-28T07:53:20.621Z"
   },
   {
    "duration": 2970,
    "start_time": "2022-07-28T07:53:24.293Z"
   },
   {
    "duration": 82,
    "start_time": "2022-07-28T07:56:51.290Z"
   },
   {
    "duration": 150414,
    "start_time": "2022-07-28T07:56:57.571Z"
   },
   {
    "duration": 79021,
    "start_time": "2022-07-28T07:59:55.618Z"
   },
   {
    "duration": 65979,
    "start_time": "2022-07-28T08:01:21.700Z"
   },
   {
    "duration": 21,
    "start_time": "2022-07-28T08:39:05.708Z"
   },
   {
    "duration": 3424,
    "start_time": "2022-07-28T08:45:31.040Z"
   },
   {
    "duration": 3420,
    "start_time": "2022-07-28T08:47:02.869Z"
   },
   {
    "duration": 10,
    "start_time": "2022-07-28T08:47:31.435Z"
   },
   {
    "duration": 5,
    "start_time": "2022-07-28T08:47:40.998Z"
   },
   {
    "duration": 584584,
    "start_time": "2022-07-28T08:49:11.905Z"
   },
   {
    "duration": 5361,
    "start_time": "2022-07-28T08:58:56.492Z"
   },
   {
    "duration": 4,
    "start_time": "2022-07-28T09:01:42.119Z"
   },
   {
    "duration": 6,
    "start_time": "2022-07-28T09:01:50.132Z"
   },
   {
    "duration": 53193,
    "start_time": "2022-07-28T09:01:51.544Z"
   },
   {
    "duration": 5,
    "start_time": "2022-07-28T09:02:54.520Z"
   },
   {
    "duration": 146506,
    "start_time": "2022-07-28T09:02:55.220Z"
   },
   {
    "duration": 0,
    "start_time": "2022-07-28T09:05:21.728Z"
   },
   {
    "duration": 10,
    "start_time": "2022-07-28T09:05:27.402Z"
   },
   {
    "duration": 4,
    "start_time": "2022-07-28T09:05:34.081Z"
   },
   {
    "duration": 5,
    "start_time": "2022-07-28T09:05:39.313Z"
   },
   {
    "duration": 4,
    "start_time": "2022-07-28T09:05:40.093Z"
   },
   {
    "duration": 15354,
    "start_time": "2022-07-28T09:07:00.776Z"
   },
   {
    "duration": 4,
    "start_time": "2022-07-28T09:08:27.389Z"
   },
   {
    "duration": 4,
    "start_time": "2022-07-28T09:08:28.144Z"
   },
   {
    "duration": 227692,
    "start_time": "2022-07-28T09:08:34.534Z"
   },
   {
    "duration": 3,
    "start_time": "2022-07-28T09:12:52.801Z"
   },
   {
    "duration": 3,
    "start_time": "2022-07-28T09:12:53.760Z"
   },
   {
    "duration": 67060,
    "start_time": "2022-07-28T09:12:54.680Z"
   },
   {
    "duration": 3,
    "start_time": "2022-07-28T09:15:18.526Z"
   },
   {
    "duration": 64446,
    "start_time": "2022-07-28T09:15:19.656Z"
   },
   {
    "duration": 17880,
    "start_time": "2022-07-28T09:18:25.536Z"
   },
   {
    "duration": 28498,
    "start_time": "2022-07-28T09:19:25.174Z"
   },
   {
    "duration": 17701,
    "start_time": "2022-07-28T09:20:29.954Z"
   },
   {
    "duration": 3,
    "start_time": "2022-07-28T09:23:59.553Z"
   },
   {
    "duration": 3713,
    "start_time": "2022-07-28T09:24:03.142Z"
   },
   {
    "duration": 2970,
    "start_time": "2022-07-28T09:24:20.890Z"
   },
   {
    "duration": 4,
    "start_time": "2022-07-28T09:24:30.965Z"
   },
   {
    "duration": 3,
    "start_time": "2022-07-28T09:26:03.246Z"
   },
   {
    "duration": 17868,
    "start_time": "2022-07-28T09:26:49.301Z"
   },
   {
    "duration": 3529,
    "start_time": "2022-07-28T09:27:21.955Z"
   },
   {
    "duration": 764,
    "start_time": "2022-07-28T09:27:31.306Z"
   },
   {
    "duration": 1567,
    "start_time": "2022-07-28T09:27:34.327Z"
   },
   {
    "duration": 2048,
    "start_time": "2022-07-28T09:27:39.468Z"
   },
   {
    "duration": 766,
    "start_time": "2022-07-28T09:27:48.616Z"
   },
   {
    "duration": 7819,
    "start_time": "2022-07-28T09:27:52.362Z"
   },
   {
    "duration": 1151,
    "start_time": "2022-07-28T09:28:50.063Z"
   },
   {
    "duration": 2254,
    "start_time": "2022-07-28T09:28:54.362Z"
   },
   {
    "duration": 2617,
    "start_time": "2022-07-28T09:29:01.126Z"
   },
   {
    "duration": 3422,
    "start_time": "2022-07-28T09:29:07.578Z"
   },
   {
    "duration": 90,
    "start_time": "2022-07-28T09:29:40.887Z"
   },
   {
    "duration": 20,
    "start_time": "2022-07-28T09:29:43.863Z"
   },
   {
    "duration": 74827,
    "start_time": "2022-07-28T09:29:49.908Z"
   },
   {
    "duration": 92,
    "start_time": "2022-07-28T09:31:28.058Z"
   },
   {
    "duration": 1621,
    "start_time": "2022-07-28T09:31:44.150Z"
   },
   {
    "duration": 9098,
    "start_time": "2022-07-28T09:32:33.967Z"
   },
   {
    "duration": 164703,
    "start_time": "2022-07-28T09:33:06.102Z"
   },
   {
    "duration": 266,
    "start_time": "2022-07-28T09:36:06.003Z"
   },
   {
    "duration": 162243,
    "start_time": "2022-07-28T09:37:01.245Z"
   },
   {
    "duration": 2529,
    "start_time": "2022-07-28T09:40:03.160Z"
   },
   {
    "duration": 2521,
    "start_time": "2022-07-28T09:41:02.824Z"
   },
   {
    "duration": 1893,
    "start_time": "2022-07-28T09:42:39.658Z"
   },
   {
    "duration": 2737,
    "start_time": "2022-07-28T09:42:47.553Z"
   },
   {
    "duration": 152089,
    "start_time": "2022-07-28T09:43:51.739Z"
   },
   {
    "duration": 2624,
    "start_time": "2022-07-28T09:46:23.830Z"
   },
   {
    "duration": 3,
    "start_time": "2022-07-28T09:46:26.456Z"
   },
   {
    "duration": 1512,
    "start_time": "2022-07-28T09:46:32.093Z"
   },
   {
    "duration": 2492,
    "start_time": "2022-07-28T09:46:37.474Z"
   },
   {
    "duration": 4,
    "start_time": "2022-07-28T09:49:56.664Z"
   },
   {
    "duration": 23,
    "start_time": "2022-07-28T09:50:02.061Z"
   },
   {
    "duration": 9,
    "start_time": "2022-07-28T09:51:48.187Z"
   },
   {
    "duration": 3,
    "start_time": "2022-07-28T09:52:03.910Z"
   },
   {
    "duration": 5,
    "start_time": "2022-07-28T09:52:11.934Z"
   },
   {
    "duration": 0,
    "start_time": "2022-07-28T10:01:44.397Z"
   },
   {
    "duration": 9,
    "start_time": "2022-07-28T10:02:02.779Z"
   },
   {
    "duration": 3,
    "start_time": "2022-07-28T10:02:09.584Z"
   },
   {
    "duration": 90,
    "start_time": "2022-07-28T10:02:16.187Z"
   },
   {
    "duration": 3781,
    "start_time": "2022-07-28T10:02:24.899Z"
   },
   {
    "duration": 3229,
    "start_time": "2022-07-28T10:03:39.287Z"
   },
   {
    "duration": 5644,
    "start_time": "2022-07-28T10:04:02.671Z"
   },
   {
    "duration": 9591,
    "start_time": "2022-07-28T10:04:14.740Z"
   },
   {
    "duration": 4529,
    "start_time": "2022-07-28T10:05:19.400Z"
   },
   {
    "duration": 7471,
    "start_time": "2022-07-28T10:06:01.331Z"
   },
   {
    "duration": 5066,
    "start_time": "2022-07-28T10:06:49.855Z"
   },
   {
    "duration": 4886,
    "start_time": "2022-07-28T10:07:27.447Z"
   },
   {
    "duration": 4638,
    "start_time": "2022-07-28T10:07:35.304Z"
   },
   {
    "duration": 7398,
    "start_time": "2022-07-28T10:07:58.257Z"
   },
   {
    "duration": 3,
    "start_time": "2022-07-28T10:08:26.716Z"
   },
   {
    "duration": 3480,
    "start_time": "2022-07-28T10:08:59.384Z"
   },
   {
    "duration": 2530,
    "start_time": "2022-07-28T10:09:20.285Z"
   },
   {
    "duration": 4084,
    "start_time": "2022-07-28T10:09:33.948Z"
   },
   {
    "duration": 4,
    "start_time": "2022-07-28T10:09:41.776Z"
   },
   {
    "duration": 3,
    "start_time": "2022-07-28T10:10:09.493Z"
   },
   {
    "duration": 1350,
    "start_time": "2022-07-28T10:15:17.310Z"
   },
   {
    "duration": 572,
    "start_time": "2022-07-28T10:15:18.662Z"
   },
   {
    "duration": 3,
    "start_time": "2022-07-28T10:15:19.236Z"
   },
   {
    "duration": 203,
    "start_time": "2022-07-28T10:15:19.241Z"
   },
   {
    "duration": 52,
    "start_time": "2022-07-28T10:15:19.445Z"
   },
   {
    "duration": 2,
    "start_time": "2022-07-28T10:15:19.499Z"
   },
   {
    "duration": 27,
    "start_time": "2022-07-28T10:15:19.503Z"
   },
   {
    "duration": 16,
    "start_time": "2022-07-28T10:15:19.532Z"
   },
   {
    "duration": 6,
    "start_time": "2022-07-28T10:15:19.552Z"
   },
   {
    "duration": 31,
    "start_time": "2022-07-28T10:15:19.560Z"
   },
   {
    "duration": 16,
    "start_time": "2022-07-28T10:15:19.593Z"
   },
   {
    "duration": 1889,
    "start_time": "2022-07-28T10:15:19.610Z"
   },
   {
    "duration": 1685,
    "start_time": "2022-07-28T10:15:21.502Z"
   },
   {
    "duration": 1754,
    "start_time": "2022-07-28T10:15:23.189Z"
   },
   {
    "duration": 399,
    "start_time": "2022-07-28T10:15:24.945Z"
   },
   {
    "duration": 431,
    "start_time": "2022-07-28T10:15:25.346Z"
   },
   {
    "duration": 15,
    "start_time": "2022-07-28T10:15:25.778Z"
   },
   {
    "duration": 8,
    "start_time": "2022-07-28T10:15:25.795Z"
   },
   {
    "duration": 1650,
    "start_time": "2022-07-28T10:15:25.805Z"
   },
   {
    "duration": 108,
    "start_time": "2022-07-28T10:15:27.458Z"
   },
   {
    "duration": 57,
    "start_time": "2022-07-28T10:15:27.568Z"
   },
   {
    "duration": 1468,
    "start_time": "2022-07-28T10:15:27.627Z"
   },
   {
    "duration": 4,
    "start_time": "2022-07-28T10:15:29.096Z"
   },
   {
    "duration": 7,
    "start_time": "2022-07-28T10:15:29.101Z"
   },
   {
    "duration": 104,
    "start_time": "2022-07-28T10:15:47.223Z"
   },
   {
    "duration": 32,
    "start_time": "2022-07-28T10:15:58.226Z"
   },
   {
    "duration": 13,
    "start_time": "2022-07-28T10:16:51.629Z"
   },
   {
    "duration": 16,
    "start_time": "2022-07-28T10:17:51.650Z"
   },
   {
    "duration": 8,
    "start_time": "2022-07-28T10:17:56.512Z"
   },
   {
    "duration": 3170,
    "start_time": "2022-07-28T10:18:38.732Z"
   },
   {
    "duration": 663,
    "start_time": "2022-07-28T10:19:48.009Z"
   },
   {
    "duration": 10,
    "start_time": "2022-07-28T10:19:54.090Z"
   },
   {
    "duration": 3114,
    "start_time": "2022-07-28T10:20:08.107Z"
   },
   {
    "duration": 5,
    "start_time": "2022-07-28T10:20:57.956Z"
   },
   {
    "duration": 5,
    "start_time": "2022-07-28T10:21:00.913Z"
   },
   {
    "duration": 3200,
    "start_time": "2022-07-28T10:21:38.667Z"
   },
   {
    "duration": 10,
    "start_time": "2022-07-28T10:22:09.038Z"
   },
   {
    "duration": 5,
    "start_time": "2022-07-28T10:22:12.404Z"
   },
   {
    "duration": 2760,
    "start_time": "2022-07-28T10:22:22.001Z"
   },
   {
    "duration": 2886,
    "start_time": "2022-07-28T10:22:34.469Z"
   },
   {
    "duration": 3056,
    "start_time": "2022-07-28T10:23:07.100Z"
   },
   {
    "duration": 3021,
    "start_time": "2022-07-28T10:23:51.586Z"
   },
   {
    "duration": 2903,
    "start_time": "2022-07-28T10:25:09.961Z"
   },
   {
    "duration": 6,
    "start_time": "2022-07-28T10:25:36.451Z"
   },
   {
    "duration": 2885,
    "start_time": "2022-07-28T10:25:55.767Z"
   },
   {
    "duration": 5,
    "start_time": "2022-07-28T10:26:29.175Z"
   },
   {
    "duration": 2836,
    "start_time": "2022-07-28T10:26:42.522Z"
   },
   {
    "duration": 0,
    "start_time": "2022-07-28T10:30:39.584Z"
   },
   {
    "duration": 173457,
    "start_time": "2022-07-28T10:31:05.149Z"
   },
   {
    "duration": 2712,
    "start_time": "2022-07-28T10:33:58.608Z"
   },
   {
    "duration": 1279,
    "start_time": "2022-07-28T10:35:51.273Z"
   },
   {
    "duration": 16473,
    "start_time": "2022-07-28T10:35:59.328Z"
   },
   {
    "duration": 81,
    "start_time": "2022-07-28T10:37:09.270Z"
   },
   {
    "duration": 10345,
    "start_time": "2022-07-28T10:37:18.480Z"
   },
   {
    "duration": 1328,
    "start_time": "2022-07-28T10:39:10.675Z"
   },
   {
    "duration": 663,
    "start_time": "2022-07-28T10:39:12.005Z"
   },
   {
    "duration": 5,
    "start_time": "2022-07-28T10:39:12.669Z"
   },
   {
    "duration": 212,
    "start_time": "2022-07-28T10:39:12.676Z"
   },
   {
    "duration": 67,
    "start_time": "2022-07-28T10:39:12.890Z"
   },
   {
    "duration": 3,
    "start_time": "2022-07-28T10:39:12.958Z"
   },
   {
    "duration": 8,
    "start_time": "2022-07-28T10:39:12.963Z"
   },
   {
    "duration": 5,
    "start_time": "2022-07-28T10:39:12.973Z"
   },
   {
    "duration": 6,
    "start_time": "2022-07-28T10:39:12.979Z"
   },
   {
    "duration": 32,
    "start_time": "2022-07-28T10:39:12.989Z"
   },
   {
    "duration": 42,
    "start_time": "2022-07-28T10:39:13.023Z"
   },
   {
    "duration": 2391,
    "start_time": "2022-07-28T10:39:13.067Z"
   },
   {
    "duration": 1584,
    "start_time": "2022-07-28T10:39:15.460Z"
   },
   {
    "duration": 1696,
    "start_time": "2022-07-28T10:39:17.051Z"
   },
   {
    "duration": 383,
    "start_time": "2022-07-28T10:39:18.749Z"
   },
   {
    "duration": 427,
    "start_time": "2022-07-28T10:39:19.134Z"
   },
   {
    "duration": 13,
    "start_time": "2022-07-28T10:39:19.563Z"
   },
   {
    "duration": 7,
    "start_time": "2022-07-28T10:39:19.577Z"
   },
   {
    "duration": 1565,
    "start_time": "2022-07-28T10:39:19.587Z"
   },
   {
    "duration": 115,
    "start_time": "2022-07-28T10:39:21.154Z"
   },
   {
    "duration": 83,
    "start_time": "2022-07-28T10:39:21.271Z"
   },
   {
    "duration": 1435,
    "start_time": "2022-07-28T10:39:21.356Z"
   },
   {
    "duration": 3,
    "start_time": "2022-07-28T10:39:22.793Z"
   },
   {
    "duration": 9,
    "start_time": "2022-07-28T10:39:22.798Z"
   },
   {
    "duration": 33,
    "start_time": "2022-07-28T10:39:22.809Z"
   },
   {
    "duration": 3016,
    "start_time": "2022-07-28T10:39:22.844Z"
   },
   {
    "duration": 176844,
    "start_time": "2022-07-28T10:39:25.862Z"
   },
   {
    "duration": 2888,
    "start_time": "2022-07-28T10:42:22.709Z"
   },
   {
    "duration": 17254,
    "start_time": "2022-07-28T10:42:25.598Z"
   },
   {
    "duration": 10991,
    "start_time": "2022-07-28T10:42:42.854Z"
   },
   {
    "duration": 55,
    "start_time": "2022-07-28T15:56:43.920Z"
   },
   {
    "duration": 1560,
    "start_time": "2022-07-28T15:56:56.923Z"
   },
   {
    "duration": 3037,
    "start_time": "2022-07-28T15:56:58.485Z"
   },
   {
    "duration": 5,
    "start_time": "2022-07-28T15:57:01.523Z"
   },
   {
    "duration": 225,
    "start_time": "2022-07-28T15:57:01.530Z"
   },
   {
    "duration": 52,
    "start_time": "2022-07-28T15:57:01.756Z"
   },
   {
    "duration": 3,
    "start_time": "2022-07-28T15:57:01.809Z"
   },
   {
    "duration": 7,
    "start_time": "2022-07-28T15:57:01.836Z"
   },
   {
    "duration": 9,
    "start_time": "2022-07-28T15:57:01.845Z"
   },
   {
    "duration": 7,
    "start_time": "2022-07-28T15:57:01.856Z"
   },
   {
    "duration": 29,
    "start_time": "2022-07-28T15:57:01.866Z"
   },
   {
    "duration": 44,
    "start_time": "2022-07-28T15:57:01.896Z"
   },
   {
    "duration": 2181,
    "start_time": "2022-07-28T15:57:01.941Z"
   },
   {
    "duration": 1730,
    "start_time": "2022-07-28T15:57:04.123Z"
   },
   {
    "duration": 1901,
    "start_time": "2022-07-28T15:57:05.855Z"
   },
   {
    "duration": 469,
    "start_time": "2022-07-28T15:57:07.758Z"
   },
   {
    "duration": 423,
    "start_time": "2022-07-28T15:57:08.228Z"
   },
   {
    "duration": 12,
    "start_time": "2022-07-28T15:57:08.653Z"
   },
   {
    "duration": 38,
    "start_time": "2022-07-28T15:57:08.667Z"
   },
   {
    "duration": 1803,
    "start_time": "2022-07-28T15:57:08.707Z"
   },
   {
    "duration": 113,
    "start_time": "2022-07-28T15:57:10.512Z"
   },
   {
    "duration": 75,
    "start_time": "2022-07-28T15:57:10.627Z"
   },
   {
    "duration": 1560,
    "start_time": "2022-07-28T15:57:10.704Z"
   },
   {
    "duration": 3,
    "start_time": "2022-07-28T15:57:12.266Z"
   },
   {
    "duration": 3,
    "start_time": "2022-07-28T15:57:15.054Z"
   },
   {
    "duration": 1763,
    "start_time": "2022-07-28T15:57:19.670Z"
   },
   {
    "duration": 1639,
    "start_time": "2022-07-28T15:58:02.847Z"
   },
   {
    "duration": 5,
    "start_time": "2022-07-28T15:58:07.909Z"
   },
   {
    "duration": 15,
    "start_time": "2022-07-28T15:58:28.729Z"
   },
   {
    "duration": 17,
    "start_time": "2022-07-28T15:58:57.018Z"
   },
   {
    "duration": 59,
    "start_time": "2022-07-28T15:59:07.614Z"
   },
   {
    "duration": 5,
    "start_time": "2022-07-28T15:59:12.718Z"
   },
   {
    "duration": 4,
    "start_time": "2022-07-28T15:59:16.567Z"
   },
   {
    "duration": 15,
    "start_time": "2022-07-28T15:59:36.422Z"
   },
   {
    "duration": 11,
    "start_time": "2022-07-28T15:59:50.530Z"
   },
   {
    "duration": 37,
    "start_time": "2022-07-28T16:00:29.895Z"
   },
   {
    "duration": 13,
    "start_time": "2022-07-28T16:01:33.853Z"
   },
   {
    "duration": 37,
    "start_time": "2022-07-28T16:01:47.801Z"
   },
   {
    "duration": 36,
    "start_time": "2022-07-28T16:02:09.568Z"
   },
   {
    "duration": 40,
    "start_time": "2022-07-28T16:03:04.599Z"
   },
   {
    "duration": 17,
    "start_time": "2022-07-28T16:03:14.331Z"
   },
   {
    "duration": 589,
    "start_time": "2022-07-28T16:03:33.457Z"
   },
   {
    "duration": 11,
    "start_time": "2022-07-28T16:05:29.615Z"
   },
   {
    "duration": 7,
    "start_time": "2022-07-28T16:05:41.434Z"
   },
   {
    "duration": 1347,
    "start_time": "2022-07-28T16:06:23.863Z"
   },
   {
    "duration": 672,
    "start_time": "2022-07-28T16:06:25.212Z"
   },
   {
    "duration": 5,
    "start_time": "2022-07-28T16:06:25.886Z"
   },
   {
    "duration": 203,
    "start_time": "2022-07-28T16:06:25.893Z"
   },
   {
    "duration": 67,
    "start_time": "2022-07-28T16:06:26.098Z"
   },
   {
    "duration": 3,
    "start_time": "2022-07-28T16:06:26.167Z"
   },
   {
    "duration": 8,
    "start_time": "2022-07-28T16:06:26.172Z"
   },
   {
    "duration": 7,
    "start_time": "2022-07-28T16:06:26.181Z"
   },
   {
    "duration": 7,
    "start_time": "2022-07-28T16:06:26.189Z"
   },
   {
    "duration": 48,
    "start_time": "2022-07-28T16:06:26.199Z"
   },
   {
    "duration": 15,
    "start_time": "2022-07-28T16:06:26.249Z"
   },
   {
    "duration": 2159,
    "start_time": "2022-07-28T16:06:26.266Z"
   },
   {
    "duration": 1709,
    "start_time": "2022-07-28T16:06:28.426Z"
   },
   {
    "duration": 1914,
    "start_time": "2022-07-28T16:06:30.137Z"
   },
   {
    "duration": 369,
    "start_time": "2022-07-28T16:06:32.053Z"
   },
   {
    "duration": 429,
    "start_time": "2022-07-28T16:06:32.424Z"
   },
   {
    "duration": 14,
    "start_time": "2022-07-28T16:06:32.855Z"
   },
   {
    "duration": 8,
    "start_time": "2022-07-28T16:06:32.871Z"
   },
   {
    "duration": 1663,
    "start_time": "2022-07-28T16:06:32.881Z"
   },
   {
    "duration": 122,
    "start_time": "2022-07-28T16:06:34.546Z"
   },
   {
    "duration": 80,
    "start_time": "2022-07-28T16:06:34.671Z"
   },
   {
    "duration": 1519,
    "start_time": "2022-07-28T16:06:34.753Z"
   },
   {
    "duration": 3,
    "start_time": "2022-07-28T16:06:36.273Z"
   },
   {
    "duration": 6,
    "start_time": "2022-07-28T16:06:36.278Z"
   },
   {
    "duration": 32,
    "start_time": "2022-07-28T16:06:36.285Z"
   },
   {
    "duration": 11,
    "start_time": "2022-07-28T16:06:36.319Z"
   },
   {
    "duration": 10,
    "start_time": "2022-07-28T16:06:38.860Z"
   },
   {
    "duration": 15,
    "start_time": "2022-07-28T16:07:15.458Z"
   },
   {
    "duration": 33,
    "start_time": "2022-07-28T16:07:25.033Z"
   },
   {
    "duration": 1342,
    "start_time": "2022-07-28T16:08:50.643Z"
   },
   {
    "duration": 706,
    "start_time": "2022-07-28T16:08:51.987Z"
   },
   {
    "duration": 4,
    "start_time": "2022-07-28T16:08:52.695Z"
   },
   {
    "duration": 214,
    "start_time": "2022-07-28T16:08:52.701Z"
   },
   {
    "duration": 100,
    "start_time": "2022-07-28T16:08:52.917Z"
   },
   {
    "duration": 18,
    "start_time": "2022-07-28T16:08:53.020Z"
   },
   {
    "duration": 14,
    "start_time": "2022-07-28T16:08:53.040Z"
   },
   {
    "duration": 8,
    "start_time": "2022-07-28T16:08:53.056Z"
   },
   {
    "duration": 7,
    "start_time": "2022-07-28T16:08:53.066Z"
   },
   {
    "duration": 32,
    "start_time": "2022-07-28T16:08:53.077Z"
   },
   {
    "duration": 37,
    "start_time": "2022-07-28T16:08:53.111Z"
   },
   {
    "duration": 2138,
    "start_time": "2022-07-28T16:08:53.149Z"
   },
   {
    "duration": 1749,
    "start_time": "2022-07-28T16:08:55.288Z"
   },
   {
    "duration": 1820,
    "start_time": "2022-07-28T16:08:57.039Z"
   },
   {
    "duration": 387,
    "start_time": "2022-07-28T16:08:58.862Z"
   },
   {
    "duration": 393,
    "start_time": "2022-07-28T16:08:59.251Z"
   },
   {
    "duration": 11,
    "start_time": "2022-07-28T16:08:59.646Z"
   },
   {
    "duration": 7,
    "start_time": "2022-07-28T16:08:59.659Z"
   },
   {
    "duration": 1621,
    "start_time": "2022-07-28T16:08:59.668Z"
   },
   {
    "duration": 115,
    "start_time": "2022-07-28T16:09:01.290Z"
   },
   {
    "duration": 79,
    "start_time": "2022-07-28T16:09:01.406Z"
   },
   {
    "duration": 1525,
    "start_time": "2022-07-28T16:09:01.487Z"
   },
   {
    "duration": 3,
    "start_time": "2022-07-28T16:09:03.013Z"
   },
   {
    "duration": 6,
    "start_time": "2022-07-28T16:09:03.018Z"
   },
   {
    "duration": 24,
    "start_time": "2022-07-28T16:09:03.025Z"
   },
   {
    "duration": 20,
    "start_time": "2022-07-28T16:11:52.777Z"
   },
   {
    "duration": 25,
    "start_time": "2022-07-28T16:11:55.578Z"
   },
   {
    "duration": 1337,
    "start_time": "2022-07-28T16:12:58.909Z"
   },
   {
    "duration": 657,
    "start_time": "2022-07-28T16:13:00.248Z"
   },
   {
    "duration": 4,
    "start_time": "2022-07-28T16:13:00.907Z"
   },
   {
    "duration": 202,
    "start_time": "2022-07-28T16:13:00.913Z"
   },
   {
    "duration": 59,
    "start_time": "2022-07-28T16:13:01.117Z"
   },
   {
    "duration": 3,
    "start_time": "2022-07-28T16:13:01.177Z"
   },
   {
    "duration": 14,
    "start_time": "2022-07-28T16:13:01.181Z"
   },
   {
    "duration": 10,
    "start_time": "2022-07-28T16:13:01.197Z"
   },
   {
    "duration": 18,
    "start_time": "2022-07-28T16:13:01.209Z"
   },
   {
    "duration": 41,
    "start_time": "2022-07-28T16:13:01.229Z"
   },
   {
    "duration": 17,
    "start_time": "2022-07-28T16:13:01.272Z"
   },
   {
    "duration": 2230,
    "start_time": "2022-07-28T16:13:01.291Z"
   },
   {
    "duration": 1747,
    "start_time": "2022-07-28T16:13:03.522Z"
   },
   {
    "duration": 1883,
    "start_time": "2022-07-28T16:13:05.272Z"
   },
   {
    "duration": 372,
    "start_time": "2022-07-28T16:13:07.157Z"
   },
   {
    "duration": 406,
    "start_time": "2022-07-28T16:13:07.531Z"
   },
   {
    "duration": 11,
    "start_time": "2022-07-28T16:13:07.939Z"
   },
   {
    "duration": 26,
    "start_time": "2022-07-28T16:13:07.952Z"
   },
   {
    "duration": 1728,
    "start_time": "2022-07-28T16:13:07.980Z"
   },
   {
    "duration": 112,
    "start_time": "2022-07-28T16:13:09.710Z"
   },
   {
    "duration": 72,
    "start_time": "2022-07-28T16:13:09.824Z"
   },
   {
    "duration": 1492,
    "start_time": "2022-07-28T16:13:09.897Z"
   },
   {
    "duration": 4,
    "start_time": "2022-07-28T16:13:11.391Z"
   },
   {
    "duration": 6,
    "start_time": "2022-07-28T16:13:11.396Z"
   },
   {
    "duration": 18,
    "start_time": "2022-07-28T16:13:11.403Z"
   },
   {
    "duration": 13,
    "start_time": "2022-07-28T16:13:15.065Z"
   },
   {
    "duration": 26,
    "start_time": "2022-07-28T16:13:16.446Z"
   },
   {
    "duration": 106,
    "start_time": "2022-07-28T16:14:31.371Z"
   },
   {
    "duration": 17,
    "start_time": "2022-07-28T16:14:39.807Z"
   },
   {
    "duration": 5,
    "start_time": "2022-07-28T16:14:50.394Z"
   },
   {
    "duration": 25,
    "start_time": "2022-07-28T16:15:00.839Z"
   },
   {
    "duration": 27,
    "start_time": "2022-07-28T16:16:20.591Z"
   },
   {
    "duration": 963,
    "start_time": "2022-07-28T16:16:43.529Z"
   },
   {
    "duration": 5,
    "start_time": "2022-07-28T16:17:45.449Z"
   },
   {
    "duration": 1363,
    "start_time": "2022-07-28T16:19:04.401Z"
   },
   {
    "duration": 690,
    "start_time": "2022-07-28T16:19:05.765Z"
   },
   {
    "duration": 5,
    "start_time": "2022-07-28T16:19:06.456Z"
   },
   {
    "duration": 201,
    "start_time": "2022-07-28T16:19:06.463Z"
   },
   {
    "duration": 51,
    "start_time": "2022-07-28T16:19:06.666Z"
   },
   {
    "duration": 2,
    "start_time": "2022-07-28T16:19:06.737Z"
   },
   {
    "duration": 8,
    "start_time": "2022-07-28T16:19:06.741Z"
   },
   {
    "duration": 4,
    "start_time": "2022-07-28T16:19:06.751Z"
   },
   {
    "duration": 6,
    "start_time": "2022-07-28T16:19:06.756Z"
   },
   {
    "duration": 26,
    "start_time": "2022-07-28T16:19:06.764Z"
   },
   {
    "duration": 45,
    "start_time": "2022-07-28T16:19:06.792Z"
   },
   {
    "duration": 2118,
    "start_time": "2022-07-28T16:19:06.839Z"
   },
   {
    "duration": 1780,
    "start_time": "2022-07-28T16:19:08.958Z"
   },
   {
    "duration": 1827,
    "start_time": "2022-07-28T16:19:10.740Z"
   },
   {
    "duration": 373,
    "start_time": "2022-07-28T16:19:12.569Z"
   },
   {
    "duration": 497,
    "start_time": "2022-07-28T16:19:12.944Z"
   },
   {
    "duration": 12,
    "start_time": "2022-07-28T16:19:13.442Z"
   },
   {
    "duration": 7,
    "start_time": "2022-07-28T16:19:13.455Z"
   },
   {
    "duration": 1654,
    "start_time": "2022-07-28T16:19:13.463Z"
   },
   {
    "duration": 109,
    "start_time": "2022-07-28T16:19:15.118Z"
   },
   {
    "duration": 67,
    "start_time": "2022-07-28T16:19:15.228Z"
   },
   {
    "duration": 1587,
    "start_time": "2022-07-28T16:19:15.297Z"
   },
   {
    "duration": 3,
    "start_time": "2022-07-28T16:19:16.885Z"
   },
   {
    "duration": 5,
    "start_time": "2022-07-28T16:19:16.890Z"
   },
   {
    "duration": 13,
    "start_time": "2022-07-28T16:19:32.652Z"
   },
   {
    "duration": 8,
    "start_time": "2022-07-28T16:19:46.327Z"
   },
   {
    "duration": 9,
    "start_time": "2022-07-28T16:19:49.730Z"
   },
   {
    "duration": 3,
    "start_time": "2022-07-28T16:20:04.630Z"
   },
   {
    "duration": 9,
    "start_time": "2022-07-28T16:20:20.599Z"
   },
   {
    "duration": 4,
    "start_time": "2022-07-28T16:20:32.627Z"
   },
   {
    "duration": 4,
    "start_time": "2022-07-28T16:24:02.710Z"
   },
   {
    "duration": 120,
    "start_time": "2022-07-28T16:24:20.246Z"
   },
   {
    "duration": 4,
    "start_time": "2022-07-28T16:25:07.570Z"
   },
   {
    "duration": 3,
    "start_time": "2022-07-28T16:25:14.972Z"
   },
   {
    "duration": 3352,
    "start_time": "2022-07-28T16:26:06.790Z"
   },
   {
    "duration": 2929,
    "start_time": "2022-07-28T16:28:46.616Z"
   },
   {
    "duration": 8200,
    "start_time": "2022-07-28T16:29:08.938Z"
   },
   {
    "duration": 5787,
    "start_time": "2022-07-28T16:30:31.804Z"
   },
   {
    "duration": 5626,
    "start_time": "2022-07-28T16:30:46.916Z"
   },
   {
    "duration": 17,
    "start_time": "2022-07-28T16:34:38.354Z"
   },
   {
    "duration": 10,
    "start_time": "2022-07-28T16:35:21.044Z"
   },
   {
    "duration": 1664,
    "start_time": "2022-07-28T20:59:02.732Z"
   },
   {
    "duration": 1956,
    "start_time": "2022-07-28T20:59:04.398Z"
   },
   {
    "duration": 4,
    "start_time": "2022-07-28T20:59:06.356Z"
   },
   {
    "duration": 244,
    "start_time": "2022-07-28T20:59:06.362Z"
   },
   {
    "duration": 74,
    "start_time": "2022-07-28T20:59:06.609Z"
   },
   {
    "duration": 4,
    "start_time": "2022-07-28T20:59:06.705Z"
   },
   {
    "duration": 18,
    "start_time": "2022-07-28T20:59:06.711Z"
   },
   {
    "duration": 9,
    "start_time": "2022-07-28T20:59:06.731Z"
   },
   {
    "duration": 4,
    "start_time": "2022-07-28T20:59:07.839Z"
   },
   {
    "duration": 27,
    "start_time": "2022-07-28T20:59:08.398Z"
   },
   {
    "duration": 19,
    "start_time": "2022-07-28T20:59:09.027Z"
   },
   {
    "duration": 2232,
    "start_time": "2022-07-28T20:59:09.130Z"
   },
   {
    "duration": 1821,
    "start_time": "2022-07-28T20:59:11.364Z"
   },
   {
    "duration": 2058,
    "start_time": "2022-07-28T20:59:13.187Z"
   },
   {
    "duration": 475,
    "start_time": "2022-07-28T20:59:15.248Z"
   },
   {
    "duration": 435,
    "start_time": "2022-07-28T20:59:15.725Z"
   },
   {
    "duration": 18,
    "start_time": "2022-07-28T20:59:16.162Z"
   },
   {
    "duration": 26,
    "start_time": "2022-07-28T20:59:16.185Z"
   },
   {
    "duration": 1949,
    "start_time": "2022-07-28T20:59:16.213Z"
   },
   {
    "duration": 148,
    "start_time": "2022-07-28T20:59:18.164Z"
   },
   {
    "duration": 97,
    "start_time": "2022-07-28T20:59:18.315Z"
   },
   {
    "duration": 1803,
    "start_time": "2022-07-28T20:59:18.414Z"
   },
   {
    "duration": 4,
    "start_time": "2022-07-28T20:59:20.219Z"
   },
   {
    "duration": 11,
    "start_time": "2022-07-28T20:59:20.225Z"
   },
   {
    "duration": 8,
    "start_time": "2022-07-28T20:59:20.238Z"
   },
   {
    "duration": 19,
    "start_time": "2022-07-28T20:59:20.248Z"
   },
   {
    "duration": 35,
    "start_time": "2022-07-28T20:59:20.269Z"
   },
   {
    "duration": 6,
    "start_time": "2022-07-28T20:59:20.306Z"
   },
   {
    "duration": 11,
    "start_time": "2022-07-28T20:59:20.314Z"
   },
   {
    "duration": 7,
    "start_time": "2022-07-28T20:59:20.326Z"
   },
   {
    "duration": 2982,
    "start_time": "2022-07-28T20:59:23.983Z"
   },
   {
    "duration": 3165,
    "start_time": "2022-07-28T20:59:57.149Z"
   },
   {
    "duration": 3058,
    "start_time": "2022-07-28T21:00:27.552Z"
   },
   {
    "duration": 3713,
    "start_time": "2022-07-28T21:00:35.088Z"
   },
   {
    "duration": 3,
    "start_time": "2022-07-28T21:11:34.772Z"
   },
   {
    "duration": 3,
    "start_time": "2022-07-28T21:12:41.864Z"
   },
   {
    "duration": 4,
    "start_time": "2022-07-28T21:12:42.622Z"
   },
   {
    "duration": 11,
    "start_time": "2022-07-28T21:15:42.581Z"
   },
   {
    "duration": 5,
    "start_time": "2022-07-28T21:16:40.750Z"
   },
   {
    "duration": 1889,
    "start_time": "2022-07-28T21:17:43.478Z"
   },
   {
    "duration": 3,
    "start_time": "2022-07-28T21:20:36.567Z"
   },
   {
    "duration": 73290,
    "start_time": "2022-07-28T21:20:37.543Z"
   },
   {
    "duration": 3,
    "start_time": "2022-07-28T21:21:52.025Z"
   },
   {
    "duration": 18984,
    "start_time": "2022-07-28T21:22:03.708Z"
   },
   {
    "duration": 5,
    "start_time": "2022-07-28T21:22:56.563Z"
   },
   {
    "duration": 11,
    "start_time": "2022-07-28T21:22:57.775Z"
   },
   {
    "duration": 131149,
    "start_time": "2022-07-28T21:23:21.335Z"
   },
   {
    "duration": 5,
    "start_time": "2022-07-28T21:27:31.226Z"
   },
   {
    "duration": 47997,
    "start_time": "2022-07-28T21:28:05.660Z"
   },
   {
    "duration": 2825,
    "start_time": "2022-07-28T21:29:47.886Z"
   },
   {
    "duration": 76,
    "start_time": "2022-07-28T21:32:59.117Z"
   },
   {
    "duration": 4,
    "start_time": "2022-07-28T21:33:04.172Z"
   },
   {
    "duration": 3,
    "start_time": "2022-07-28T21:34:10.046Z"
   },
   {
    "duration": 4,
    "start_time": "2022-07-28T21:34:11.177Z"
   },
   {
    "duration": 3,
    "start_time": "2022-07-28T21:34:11.256Z"
   },
   {
    "duration": 74484,
    "start_time": "2022-07-28T21:35:15.814Z"
   },
   {
    "duration": 4,
    "start_time": "2022-07-28T21:36:47.034Z"
   },
   {
    "duration": 2693,
    "start_time": "2022-07-28T21:37:33.601Z"
   },
   {
    "duration": 10,
    "start_time": "2022-07-28T21:41:11.113Z"
   },
   {
    "duration": 21,
    "start_time": "2022-07-28T21:41:51.994Z"
   },
   {
    "duration": 26,
    "start_time": "2022-07-28T21:41:59.191Z"
   },
   {
    "duration": 1592,
    "start_time": "2022-07-28T21:51:16.185Z"
   },
   {
    "duration": 743,
    "start_time": "2022-07-28T21:51:17.779Z"
   },
   {
    "duration": 4,
    "start_time": "2022-07-28T21:51:18.524Z"
   },
   {
    "duration": 242,
    "start_time": "2022-07-28T21:51:18.530Z"
   },
   {
    "duration": 73,
    "start_time": "2022-07-28T21:51:18.774Z"
   },
   {
    "duration": 4,
    "start_time": "2022-07-28T21:51:18.849Z"
   },
   {
    "duration": 10,
    "start_time": "2022-07-28T21:51:18.854Z"
   },
   {
    "duration": 5,
    "start_time": "2022-07-28T21:51:18.866Z"
   },
   {
    "duration": 36,
    "start_time": "2022-07-28T21:51:18.873Z"
   },
   {
    "duration": 33,
    "start_time": "2022-07-28T21:51:18.913Z"
   },
   {
    "duration": 19,
    "start_time": "2022-07-28T21:51:18.948Z"
   },
   {
    "duration": 2370,
    "start_time": "2022-07-28T21:51:18.969Z"
   },
   {
    "duration": 1964,
    "start_time": "2022-07-28T21:51:21.341Z"
   },
   {
    "duration": 2029,
    "start_time": "2022-07-28T21:51:23.308Z"
   },
   {
    "duration": 440,
    "start_time": "2022-07-28T21:51:25.340Z"
   },
   {
    "duration": 504,
    "start_time": "2022-07-28T21:51:25.782Z"
   },
   {
    "duration": 24,
    "start_time": "2022-07-28T21:51:26.288Z"
   },
   {
    "duration": 15,
    "start_time": "2022-07-28T21:51:26.316Z"
   },
   {
    "duration": 2137,
    "start_time": "2022-07-28T21:51:26.332Z"
   },
   {
    "duration": 162,
    "start_time": "2022-07-28T21:51:28.470Z"
   },
   {
    "duration": 93,
    "start_time": "2022-07-28T21:51:28.634Z"
   },
   {
    "duration": 1767,
    "start_time": "2022-07-28T21:51:28.730Z"
   },
   {
    "duration": 6,
    "start_time": "2022-07-28T21:51:30.499Z"
   },
   {
    "duration": 21,
    "start_time": "2022-07-28T21:51:30.509Z"
   },
   {
    "duration": 15,
    "start_time": "2022-07-28T21:51:30.533Z"
   },
   {
    "duration": 33,
    "start_time": "2022-07-28T21:51:30.549Z"
   },
   {
    "duration": 7,
    "start_time": "2022-07-28T21:51:30.584Z"
   },
   {
    "duration": 11,
    "start_time": "2022-07-28T21:51:30.594Z"
   },
   {
    "duration": 21,
    "start_time": "2022-07-28T21:51:30.608Z"
   },
   {
    "duration": 39,
    "start_time": "2022-07-28T21:51:30.631Z"
   },
   {
    "duration": 5649,
    "start_time": "2022-07-28T21:51:30.672Z"
   },
   {
    "duration": 81,
    "start_time": "2022-07-28T21:51:36.323Z"
   },
   {
    "duration": 24,
    "start_time": "2022-07-28T21:51:36.406Z"
   },
   {
    "duration": 135296,
    "start_time": "2022-07-28T21:51:36.433Z"
   },
   {
    "duration": 5,
    "start_time": "2022-07-28T21:53:51.730Z"
   },
   {
    "duration": 48742,
    "start_time": "2022-07-28T21:53:51.736Z"
   },
   {
    "duration": 3,
    "start_time": "2022-07-28T21:54:40.480Z"
   },
   {
    "duration": 19,
    "start_time": "2022-07-28T21:54:40.485Z"
   },
   {
    "duration": 7,
    "start_time": "2022-07-28T21:54:40.506Z"
   },
   {
    "duration": 73906,
    "start_time": "2022-07-28T21:54:40.515Z"
   },
   {
    "duration": 5,
    "start_time": "2022-07-28T21:55:54.423Z"
   },
   {
    "duration": 2837,
    "start_time": "2022-07-28T21:55:54.430Z"
   },
   {
    "duration": 9,
    "start_time": "2022-07-28T21:55:57.269Z"
   }
  ],
  "kernelspec": {
   "display_name": "Python 3 (ipykernel)",
   "language": "python",
   "name": "python3"
  },
  "language_info": {
   "codemirror_mode": {
    "name": "ipython",
    "version": 3
   },
   "file_extension": ".py",
   "mimetype": "text/x-python",
   "name": "python",
   "nbconvert_exporter": "python",
   "pygments_lexer": "ipython3",
   "version": "3.9.5"
  },
  "toc": {
   "base_numbering": 1,
   "nav_menu": {},
   "number_sections": true,
   "sideBar": true,
   "skip_h1_title": true,
   "title_cell": "Содержание",
   "title_sidebar": "Contents",
   "toc_cell": true,
   "toc_position": {
    "height": "calc(100% - 180px)",
    "left": "10px",
    "top": "150px",
    "width": "261.648px"
   },
   "toc_section_display": true,
   "toc_window_display": true
  }
 },
 "nbformat": 4,
 "nbformat_minor": 2
}
