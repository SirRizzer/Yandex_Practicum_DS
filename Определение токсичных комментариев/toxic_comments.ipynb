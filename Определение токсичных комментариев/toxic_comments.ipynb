{
 "cells": [
  {
   "cell_type": "markdown",
   "metadata": {
    "toc": true
   },
   "source": [
    "<h1>Содержание<span class=\"tocSkip\"></span></h1>\n",
    "<div class=\"toc\"><ul class=\"toc-item\"><li><span><a href=\"#Подготовка\" data-toc-modified-id=\"Подготовка-1\"><span class=\"toc-item-num\">1&nbsp;&nbsp;</span>Подготовка</a></span></li><li><span><a href=\"#Обучение\" data-toc-modified-id=\"Обучение-2\"><span class=\"toc-item-num\">2&nbsp;&nbsp;</span>Обучение</a></span></li><li><span><a href=\"#Выводы\" data-toc-modified-id=\"Выводы-3\"><span class=\"toc-item-num\">3&nbsp;&nbsp;</span>Выводы</a></span></li><li><span><a href=\"#Чек-лист-проверки\" data-toc-modified-id=\"Чек-лист-проверки-4\"><span class=\"toc-item-num\">4&nbsp;&nbsp;</span>Чек-лист проверки</a></span></li></ul></div>"
   ]
  },
  {
   "cell_type": "markdown",
   "metadata": {},
   "source": [
    "# Проект для «Викишоп»"
   ]
  },
  {
   "cell_type": "markdown",
   "metadata": {},
   "source": [
    "Интернет-магазин «Викишоп» запускает новый сервис. Теперь пользователи могут редактировать и дополнять описания товаров, как в вики-сообществах. То есть клиенты предлагают свои правки и комментируют изменения других. Магазину нужен инструмент, который будет искать токсичные комментарии и отправлять их на модерацию. \n",
    "\n",
    "Обучите модель классифицировать комментарии на позитивные и негативные. В вашем распоряжении набор данных с разметкой о токсичности правок.\n",
    "\n",
    "Постройте модель со значением метрики качества *F1* не меньше 0.75. \n",
    "\n",
    "**Инструкция по выполнению проекта**\n",
    "\n",
    "1. Загрузите и подготовьте данные.\n",
    "2. Обучите разные модели. \n",
    "3. Сделайте выводы.\n",
    "\n",
    "**Описание данных**\n",
    "\n",
    "Данные находятся в файле `toxic_comments.csv`. Столбец *text* в нём содержит текст комментария, а *toxic* — целевой признак."
   ]
  },
  {
   "cell_type": "markdown",
   "metadata": {},
   "source": [
    "## Подготовка"
   ]
  },
  {
   "cell_type": "code",
   "execution_count": 1,
   "metadata": {},
   "outputs": [],
   "source": [
    "import pandas as pd\n",
    "import numpy as np\n",
    "import re\n",
    "import nltk\n",
    "import matplotlib.pyplot as plt\n",
    "from sklearn.pipeline import Pipeline\n",
    "from catboost import CatBoostClassifier\n",
    "from sklearn.tree import DecisionTreeClassifier\n",
    "from nltk.tokenize import word_tokenize \n",
    "from nltk.stem import WordNetLemmatizer \n",
    "from sklearn.model_selection import train_test_split\n",
    "from sklearn.feature_extraction.text import TfidfVectorizer\n",
    "from sklearn.linear_model import LogisticRegression\n",
    "from sklearn.metrics import f1_score\n",
    "from nltk.corpus import stopwords \n",
    "from sklearn.model_selection import GridSearchCV\n",
    "import warnings\n",
    "warnings.filterwarnings(\"ignore\")"
   ]
  },
  {
   "cell_type": "code",
   "execution_count": 2,
   "metadata": {},
   "outputs": [],
   "source": [
    "data = pd.read_csv('/datasets/toxic_comments.csv', index_col = 0)"
   ]
  },
  {
   "cell_type": "code",
   "execution_count": 3,
   "metadata": {},
   "outputs": [
    {
     "name": "stdout",
     "output_type": "stream",
     "text": [
      "<class 'pandas.core.frame.DataFrame'>\n",
      "Int64Index: 159292 entries, 0 to 159450\n",
      "Data columns (total 2 columns):\n",
      " #   Column  Non-Null Count   Dtype \n",
      "---  ------  --------------   ----- \n",
      " 0   text    159292 non-null  object\n",
      " 1   toxic   159292 non-null  int64 \n",
      "dtypes: int64(1), object(1)\n",
      "memory usage: 3.6+ MB\n"
     ]
    }
   ],
   "source": [
    "data.info()"
   ]
  },
  {
   "cell_type": "code",
   "execution_count": 4,
   "metadata": {},
   "outputs": [
    {
     "data": {
      "text/plain": [
       "text     0\n",
       "toxic    0\n",
       "dtype: int64"
      ]
     },
     "execution_count": 4,
     "metadata": {},
     "output_type": "execute_result"
    }
   ],
   "source": [
    "data.isnull().sum()"
   ]
  },
  {
   "cell_type": "code",
   "execution_count": 5,
   "metadata": {},
   "outputs": [
    {
     "data": {
      "text/html": [
       "<div>\n",
       "<style scoped>\n",
       "    .dataframe tbody tr th:only-of-type {\n",
       "        vertical-align: middle;\n",
       "    }\n",
       "\n",
       "    .dataframe tbody tr th {\n",
       "        vertical-align: top;\n",
       "    }\n",
       "\n",
       "    .dataframe thead th {\n",
       "        text-align: right;\n",
       "    }\n",
       "</style>\n",
       "<table border=\"1\" class=\"dataframe\">\n",
       "  <thead>\n",
       "    <tr style=\"text-align: right;\">\n",
       "      <th></th>\n",
       "      <th>text</th>\n",
       "      <th>toxic</th>\n",
       "    </tr>\n",
       "  </thead>\n",
       "  <tbody>\n",
       "    <tr>\n",
       "      <th>0</th>\n",
       "      <td>Explanation\\nWhy the edits made under my usern...</td>\n",
       "      <td>0</td>\n",
       "    </tr>\n",
       "    <tr>\n",
       "      <th>1</th>\n",
       "      <td>D'aww! He matches this background colour I'm s...</td>\n",
       "      <td>0</td>\n",
       "    </tr>\n",
       "    <tr>\n",
       "      <th>2</th>\n",
       "      <td>Hey man, I'm really not trying to edit war. It...</td>\n",
       "      <td>0</td>\n",
       "    </tr>\n",
       "    <tr>\n",
       "      <th>3</th>\n",
       "      <td>\"\\nMore\\nI can't make any real suggestions on ...</td>\n",
       "      <td>0</td>\n",
       "    </tr>\n",
       "    <tr>\n",
       "      <th>4</th>\n",
       "      <td>You, sir, are my hero. Any chance you remember...</td>\n",
       "      <td>0</td>\n",
       "    </tr>\n",
       "  </tbody>\n",
       "</table>\n",
       "</div>"
      ],
      "text/plain": [
       "                                                text  toxic\n",
       "0  Explanation\\nWhy the edits made under my usern...      0\n",
       "1  D'aww! He matches this background colour I'm s...      0\n",
       "2  Hey man, I'm really not trying to edit war. It...      0\n",
       "3  \"\\nMore\\nI can't make any real suggestions on ...      0\n",
       "4  You, sir, are my hero. Any chance you remember...      0"
      ]
     },
     "execution_count": 5,
     "metadata": {},
     "output_type": "execute_result"
    }
   ],
   "source": [
    "data.head()"
   ]
  },
  {
   "cell_type": "code",
   "execution_count": 6,
   "metadata": {
    "scrolled": true
   },
   "outputs": [
    {
     "data": {
      "image/png": "[encoded data removed]",
      "text/plain": [
       "<Figure size 432x288 with 1 Axes>"
      ]
     },
     "metadata": {
      "needs_background": "light"
     },
     "output_type": "display_data"
    }
   ],
   "source": [
    "data['toxic'].hist();"
   ]
  },
  {
   "cell_type": "code",
   "execution_count": 7,
   "metadata": {},
   "outputs": [
    {
     "name": "stderr",
     "output_type": "stream",
     "text": [
      "[nltk_data] Downloading package stopwords to /home/jovyan/nltk_data...\n",
      "[nltk_data]   Package stopwords is already up-to-date!\n"
     ]
    },
    {
     "data": {
      "text/plain": [
       "True"
      ]
     },
     "execution_count": 7,
     "metadata": {},
     "output_type": "execute_result"
    }
   ],
   "source": [
    "nltk.download('stopwords') "
   ]
  },
  {
   "cell_type": "code",
   "execution_count": 8,
   "metadata": {},
   "outputs": [],
   "source": [
    "stop_words = set(stopwords.words('english'))"
   ]
  },
  {
   "cell_type": "code",
   "execution_count": 9,
   "metadata": {},
   "outputs": [],
   "source": [
    "lemmatizer = WordNetLemmatizer()"
   ]
  },
  {
   "cell_type": "code",
   "execution_count": 10,
   "metadata": {},
   "outputs": [],
   "source": [
    "def predproc(text):\n",
    "    text = re.sub(r'[^a-zA-z ]', ' ', text)\n",
    "    text = text.lower()\n",
    "    token = nltk.word_tokenize(text)\n",
    "    text = [word for word in token if word not in stop_words]\n",
    "    text = [lemmatizer.lemmatize(word) for word in text]\n",
    "    text = ' '.join(text)\n",
    "    return text"
   ]
  },
  {
   "cell_type": "code",
   "execution_count": 11,
   "metadata": {},
   "outputs": [],
   "source": [
    "data['predproc'] = data['text'].apply(predproc)"
   ]
  },
  {
   "cell_type": "code",
   "execution_count": 12,
   "metadata": {
    "scrolled": false
   },
   "outputs": [
    {
     "data": {
      "text/html": [
       "<div>\n",
       "<style scoped>\n",
       "    .dataframe tbody tr th:only-of-type {\n",
       "        vertical-align: middle;\n",
       "    }\n",
       "\n",
       "    .dataframe tbody tr th {\n",
       "        vertical-align: top;\n",
       "    }\n",
       "\n",
       "    .dataframe thead th {\n",
       "        text-align: right;\n",
       "    }\n",
       "</style>\n",
       "<table border=\"1\" class=\"dataframe\">\n",
       "  <thead>\n",
       "    <tr style=\"text-align: right;\">\n",
       "      <th></th>\n",
       "      <th>text</th>\n",
       "      <th>toxic</th>\n",
       "      <th>predproc</th>\n",
       "    </tr>\n",
       "  </thead>\n",
       "  <tbody>\n",
       "    <tr>\n",
       "      <th>0</th>\n",
       "      <td>Explanation\\nWhy the edits made under my usern...</td>\n",
       "      <td>0</td>\n",
       "      <td>explanation edits made username hardcore metal...</td>\n",
       "    </tr>\n",
       "    <tr>\n",
       "      <th>1</th>\n",
       "      <td>D'aww! He matches this background colour I'm s...</td>\n",
       "      <td>0</td>\n",
       "      <td>aww match background colour seemingly stuck th...</td>\n",
       "    </tr>\n",
       "    <tr>\n",
       "      <th>2</th>\n",
       "      <td>Hey man, I'm really not trying to edit war. It...</td>\n",
       "      <td>0</td>\n",
       "      <td>hey man really trying edit war guy constantly ...</td>\n",
       "    </tr>\n",
       "    <tr>\n",
       "      <th>3</th>\n",
       "      <td>\"\\nMore\\nI can't make any real suggestions on ...</td>\n",
       "      <td>0</td>\n",
       "      <td>make real suggestion improvement wondered sect...</td>\n",
       "    </tr>\n",
       "    <tr>\n",
       "      <th>4</th>\n",
       "      <td>You, sir, are my hero. Any chance you remember...</td>\n",
       "      <td>0</td>\n",
       "      <td>sir hero chance remember page</td>\n",
       "    </tr>\n",
       "  </tbody>\n",
       "</table>\n",
       "</div>"
      ],
      "text/plain": [
       "                                                text  toxic  \\\n",
       "0  Explanation\\nWhy the edits made under my usern...      0   \n",
       "1  D'aww! He matches this background colour I'm s...      0   \n",
       "2  Hey man, I'm really not trying to edit war. It...      0   \n",
       "3  \"\\nMore\\nI can't make any real suggestions on ...      0   \n",
       "4  You, sir, are my hero. Any chance you remember...      0   \n",
       "\n",
       "                                            predproc  \n",
       "0  explanation edits made username hardcore metal...  \n",
       "1  aww match background colour seemingly stuck th...  \n",
       "2  hey man really trying edit war guy constantly ...  \n",
       "3  make real suggestion improvement wondered sect...  \n",
       "4                      sir hero chance remember page  "
      ]
     },
     "execution_count": 12,
     "metadata": {},
     "output_type": "execute_result"
    }
   ],
   "source": [
    "data.head()"
   ]
  },
  {
   "cell_type": "code",
   "execution_count": 13,
   "metadata": {},
   "outputs": [],
   "source": [
    "df = data.copy()\n",
    "y = df['toxic']\n",
    "df = df.drop(['toxic'], axis = 1)"
   ]
  },
  {
   "cell_type": "code",
   "execution_count": 14,
   "metadata": {},
   "outputs": [],
   "source": [
    "x_train, x_test, y_train, y_test = train_test_split(df, y, test_size = 0.3, stratify = y)"
   ]
  },
  {
   "cell_type": "code",
   "execution_count": 15,
   "metadata": {},
   "outputs": [
    {
     "name": "stdout",
     "output_type": "stream",
     "text": [
      "Train data shape: (111504, 2) (111504,)\n",
      "Test data shape: (47788, 2) (47788,)\n"
     ]
    }
   ],
   "source": [
    "print('Train data shape:', x_train.shape, y_train.shape)\n",
    "print('Test data shape:', x_test.shape, y_test.shape)"
   ]
  },
  {
   "cell_type": "markdown",
   "metadata": {},
   "source": [
    "Данные обработаны, очищены от лишних символов, лемматизированы, векторизированы"
   ]
  },
  {
   "cell_type": "markdown",
   "metadata": {},
   "source": [
    "## Обучение"
   ]
  },
  {
   "cell_type": "code",
   "execution_count": 16,
   "metadata": {},
   "outputs": [],
   "source": [
    "def training(model, params):\n",
    "    pipeline = Pipeline([\n",
    "        ('tfidf', TfidfVectorizer(min_df = 1)),\n",
    "        ('model', model)])\n",
    "    grid = GridSearchCV(pipeline, cv = 5, n_jobs = -1, param_grid = params ,scoring = 'f1', verbose = False)\n",
    "    grid.fit(x_train['predproc'], y_train)\n",
    "    print('Лучший результат:', grid.best_score_)\n",
    "    print('Лучшие параметры:', grid.best_params_)\n",
    "    return grid"
   ]
  },
  {
   "cell_type": "code",
   "execution_count": 17,
   "metadata": {
    "scrolled": true
   },
   "outputs": [
    {
     "name": "stdout",
     "output_type": "stream",
     "text": [
      "Лучший результат: 0.7766703989633029\n",
      "Лучшие параметры: {'model__C': 10.0, 'model__penalty': 'l2'}\n"
     ]
    }
   ],
   "source": [
    "lr_mod = training(LogisticRegression(), {\"model__C\":[0.1, 1.0, 10.0], \"model__penalty\":[\"l2\"]})"
   ]
  },
  {
   "cell_type": "code",
   "execution_count": 18,
   "metadata": {},
   "outputs": [
    {
     "name": "stdout",
     "output_type": "stream",
     "text": [
      "Лучший результат: 0.5376744940681708\n",
      "Лучшие параметры: {'model__criterion': 'entropy', 'model__max_depth': 6}\n"
     ]
    }
   ],
   "source": [
    "dtc_mod = training(DecisionTreeClassifier(), {'model__criterion':['gini','entropy'],'model__max_depth':[2,4,6]})"
   ]
  },
  {
   "cell_type": "code",
   "execution_count": 19,
   "metadata": {},
   "outputs": [
    {
     "name": "stdout",
     "output_type": "stream",
     "text": [
      "Лучший результат: 0.5218616543829252\n",
      "Лучшие параметры: {'model__depth': 6, 'model__iterations': 50, 'model__learning_rate': 0.03}\n"
     ]
    }
   ],
   "source": [
    "cat_mod = training(CatBoostClassifier(logging_level='Silent'), {'model__depth': [4,6],\n",
    "                 'model__learning_rate' : [0.01,0.03],\n",
    "                  'model__iterations' : [10, 50]})"
   ]
  },
  {
   "cell_type": "markdown",
   "metadata": {},
   "source": [
    "На тренировочной выборке лучший результат у LogisticRegression, поэтому протестируем её на тестовой выборке"
   ]
  },
  {
   "cell_type": "code",
   "execution_count": 21,
   "metadata": {},
   "outputs": [],
   "source": [
    "res = f1_score(y_test, lr_mod.predict(x_test['predproc']))"
   ]
  },
  {
   "cell_type": "code",
   "execution_count": 22,
   "metadata": {},
   "outputs": [
    {
     "name": "stdout",
     "output_type": "stream",
     "text": [
      "Результат LogisticRegression 0.7781099103242125\n"
     ]
    }
   ],
   "source": [
    "print(\"Результат LogisticRegression\", res)"
   ]
  },
  {
   "cell_type": "markdown",
   "metadata": {},
   "source": [
    "## Выводы"
   ]
  },
  {
   "cell_type": "markdown",
   "metadata": {},
   "source": [
    "Самый высокий f1 у LogisticRegression"
   ]
  }
 ],
 "metadata": {
  "ExecuteTimeLog": [
   {
    "duration": 394,
    "start_time": "2022-09-19T09:20:25.718Z"
   },
   {
    "duration": 70,
    "start_time": "2022-09-19T09:20:26.595Z"
   },
   {
    "duration": 2402,
    "start_time": "2022-09-19T09:20:31.199Z"
   },
   {
    "duration": 26,
    "start_time": "2022-09-19T09:20:34.925Z"
   },
   {
    "duration": 12,
    "start_time": "2022-09-19T09:20:51.803Z"
   },
   {
    "duration": 4,
    "start_time": "2022-09-19T09:21:23.344Z"
   },
   {
    "duration": 3,
    "start_time": "2022-09-19T09:21:23.599Z"
   },
   {
    "duration": 1648,
    "start_time": "2022-09-19T09:21:56.814Z"
   },
   {
    "duration": 2,
    "start_time": "2022-09-19T09:22:29.423Z"
   },
   {
    "duration": 751,
    "start_time": "2022-09-19T09:22:40.428Z"
   },
   {
    "duration": 6,
    "start_time": "2022-09-19T09:22:50.719Z"
   },
   {
    "duration": 9,
    "start_time": "2022-09-19T09:22:59.660Z"
   },
   {
    "duration": 10,
    "start_time": "2022-09-19T09:24:42.003Z"
   },
   {
    "duration": 296,
    "start_time": "2022-09-19T09:24:54.558Z"
   },
   {
    "duration": 3,
    "start_time": "2022-09-19T09:25:06.130Z"
   },
   {
    "duration": 55148,
    "start_time": "2022-09-19T09:25:08.328Z"
   },
   {
    "duration": 843,
    "start_time": "2022-09-19T09:28:36.446Z"
   },
   {
    "duration": 188,
    "start_time": "2022-09-19T09:28:39.860Z"
   },
   {
    "duration": 5,
    "start_time": "2022-09-19T09:28:56.599Z"
   },
   {
    "duration": 2,
    "start_time": "2022-09-19T09:29:09.399Z"
   },
   {
    "duration": 61,
    "start_time": "2022-09-19T09:30:21.591Z"
   },
   {
    "duration": 1287,
    "start_time": "2022-09-19T09:30:34.591Z"
   },
   {
    "duration": 896,
    "start_time": "2022-09-19T09:30:35.880Z"
   },
   {
    "duration": 30,
    "start_time": "2022-09-19T09:30:36.778Z"
   },
   {
    "duration": 32,
    "start_time": "2022-09-19T09:30:36.810Z"
   },
   {
    "duration": 236,
    "start_time": "2022-09-19T09:30:36.844Z"
   },
   {
    "duration": 3,
    "start_time": "2022-09-19T09:30:37.082Z"
   },
   {
    "duration": 3,
    "start_time": "2022-09-19T09:30:37.531Z"
   },
   {
    "duration": 1529,
    "start_time": "2022-09-19T09:31:00.158Z"
   },
   {
    "duration": 1632,
    "start_time": "2022-09-19T09:40:20.807Z"
   },
   {
    "duration": 4,
    "start_time": "2022-09-19T09:40:25.095Z"
   },
   {
    "duration": 3,
    "start_time": "2022-09-19T09:50:31.912Z"
   },
   {
    "duration": 2,
    "start_time": "2022-09-19T09:50:35.500Z"
   },
   {
    "duration": 1681,
    "start_time": "2022-09-19T13:17:30.914Z"
   },
   {
    "duration": 2262,
    "start_time": "2022-09-19T13:17:32.597Z"
   },
   {
    "duration": 3,
    "start_time": "2022-09-19T13:17:34.861Z"
   },
   {
    "duration": 1692,
    "start_time": "2022-09-19T13:17:34.865Z"
   },
   {
    "duration": 26,
    "start_time": "2022-09-19T13:17:36.560Z"
   },
   {
    "duration": 26,
    "start_time": "2022-09-19T13:17:36.587Z"
   },
   {
    "duration": 151,
    "start_time": "2022-09-19T13:17:36.615Z"
   },
   {
    "duration": 6,
    "start_time": "2022-09-19T13:17:36.768Z"
   },
   {
    "duration": 4,
    "start_time": "2022-09-19T13:17:36.776Z"
   },
   {
    "duration": 9,
    "start_time": "2022-09-19T13:17:36.782Z"
   },
   {
    "duration": 134,
    "start_time": "2022-09-19T13:18:27.056Z"
   },
   {
    "duration": 3,
    "start_time": "2022-09-19T13:39:13.614Z"
   },
   {
    "duration": 3,
    "start_time": "2022-09-19T13:39:13.973Z"
   },
   {
    "duration": 12,
    "start_time": "2022-09-19T13:39:14.695Z"
   },
   {
    "duration": 3,
    "start_time": "2022-09-19T13:39:54.496Z"
   },
   {
    "duration": 2,
    "start_time": "2022-09-19T13:39:55.021Z"
   },
   {
    "duration": 8976,
    "start_time": "2022-09-19T13:39:55.573Z"
   },
   {
    "duration": 4,
    "start_time": "2022-09-19T13:40:24.928Z"
   },
   {
    "duration": 60,
    "start_time": "2022-09-19T20:46:46.909Z"
   },
   {
    "duration": 1302,
    "start_time": "2022-09-19T20:46:49.604Z"
   },
   {
    "duration": 3103,
    "start_time": "2022-09-19T20:46:51.493Z"
   },
   {
    "duration": 1882,
    "start_time": "2022-09-19T20:46:55.359Z"
   },
   {
    "duration": 32,
    "start_time": "2022-09-19T20:46:58.791Z"
   },
   {
    "duration": 17,
    "start_time": "2022-09-19T20:47:00.699Z"
   },
   {
    "duration": 82,
    "start_time": "2022-09-19T20:47:49.013Z"
   },
   {
    "duration": 11,
    "start_time": "2022-09-19T20:47:56.097Z"
   },
   {
    "duration": 9,
    "start_time": "2022-09-19T20:48:38.481Z"
   },
   {
    "duration": 13,
    "start_time": "2022-09-19T20:48:55.480Z"
   },
   {
    "duration": 4,
    "start_time": "2022-09-19T20:49:21.709Z"
   },
   {
    "duration": 13,
    "start_time": "2022-09-19T20:49:41.197Z"
   },
   {
    "duration": 37,
    "start_time": "2022-09-19T20:50:21.593Z"
   },
   {
    "duration": 55,
    "start_time": "2022-09-19T20:50:22.682Z"
   },
   {
    "duration": 12,
    "start_time": "2022-09-19T20:50:37.056Z"
   },
   {
    "duration": 3,
    "start_time": "2022-09-19T20:50:43.478Z"
   },
   {
    "duration": 4,
    "start_time": "2022-09-19T20:50:47.702Z"
   },
   {
    "duration": 75,
    "start_time": "2022-09-19T20:52:28.798Z"
   },
   {
    "duration": 9,
    "start_time": "2022-09-19T20:53:01.705Z"
   },
   {
    "duration": 1342,
    "start_time": "2022-09-19T20:53:08.365Z"
   },
   {
    "duration": 19,
    "start_time": "2022-09-19T20:53:15.469Z"
   },
   {
    "duration": 12,
    "start_time": "2022-09-19T20:53:34.133Z"
   },
   {
    "duration": 1329,
    "start_time": "2022-09-19T20:53:46.981Z"
   },
   {
    "duration": 11,
    "start_time": "2022-09-19T20:53:49.821Z"
   },
   {
    "duration": 1273,
    "start_time": "2022-09-19T20:54:28.778Z"
   },
   {
    "duration": 792,
    "start_time": "2022-09-19T20:54:30.053Z"
   },
   {
    "duration": 7,
    "start_time": "2022-09-19T20:54:31.733Z"
   },
   {
    "duration": 1355,
    "start_time": "2022-09-19T20:54:33.016Z"
   },
   {
    "duration": 14,
    "start_time": "2022-09-19T20:54:34.936Z"
   },
   {
    "duration": 30,
    "start_time": "2022-09-19T20:55:06.917Z"
   },
   {
    "duration": 7,
    "start_time": "2022-09-19T20:55:07.820Z"
   },
   {
    "duration": 8,
    "start_time": "2022-09-19T20:55:08.445Z"
   },
   {
    "duration": 1328,
    "start_time": "2022-09-19T20:55:11.707Z"
   },
   {
    "duration": 8,
    "start_time": "2022-09-19T20:55:13.652Z"
   },
   {
    "duration": 7,
    "start_time": "2022-09-19T20:55:28.980Z"
   },
   {
    "duration": 142,
    "start_time": "2022-09-19T20:56:08.892Z"
   },
   {
    "duration": 125,
    "start_time": "2022-09-19T20:56:12.626Z"
   },
   {
    "duration": 413,
    "start_time": "2022-09-19T20:56:47.391Z"
   },
   {
    "duration": 0,
    "start_time": "2022-09-19T20:58:42.271Z"
   },
   {
    "duration": 0,
    "start_time": "2022-09-19T20:58:42.272Z"
   },
   {
    "duration": 483,
    "start_time": "2022-09-19T20:59:36.193Z"
   },
   {
    "duration": 949,
    "start_time": "2022-09-19T20:59:52.753Z"
   },
   {
    "duration": 816,
    "start_time": "2022-09-19T20:59:55.387Z"
   },
   {
    "duration": 31,
    "start_time": "2022-09-19T20:59:56.613Z"
   },
   {
    "duration": 9,
    "start_time": "2022-09-19T20:59:57.309Z"
   },
   {
    "duration": 6,
    "start_time": "2022-09-19T20:59:58.600Z"
   },
   {
    "duration": 1366,
    "start_time": "2022-09-19T21:00:00.836Z"
   },
   {
    "duration": 59,
    "start_time": "2022-09-19T21:00:26.734Z"
   },
   {
    "duration": 139,
    "start_time": "2022-09-19T21:00:50.554Z"
   },
   {
    "duration": 11,
    "start_time": "2022-09-19T21:01:49.169Z"
   },
   {
    "duration": 223,
    "start_time": "2022-09-19T21:01:50.930Z"
   },
   {
    "duration": 13,
    "start_time": "2022-09-19T21:01:52.853Z"
   },
   {
    "duration": 3,
    "start_time": "2022-09-19T21:02:36.274Z"
   },
   {
    "duration": 3,
    "start_time": "2022-09-19T21:02:41.244Z"
   },
   {
    "duration": 1791,
    "start_time": "2022-09-19T21:03:07.583Z"
   },
   {
    "duration": 8244,
    "start_time": "2022-09-19T21:03:13.037Z"
   },
   {
    "duration": 4,
    "start_time": "2022-09-19T21:03:51.477Z"
   },
   {
    "duration": 18,
    "start_time": "2022-09-19T21:09:06.511Z"
   },
   {
    "duration": 5,
    "start_time": "2022-09-19T21:23:00.921Z"
   },
   {
    "duration": 12,
    "start_time": "2022-09-19T21:23:04.492Z"
   },
   {
    "duration": 1548,
    "start_time": "2022-09-19T21:26:35.503Z"
   },
   {
    "duration": 3221,
    "start_time": "2022-09-19T21:26:37.052Z"
   },
   {
    "duration": 28,
    "start_time": "2022-09-19T21:26:40.275Z"
   },
   {
    "duration": 9,
    "start_time": "2022-09-19T21:26:40.304Z"
   },
   {
    "duration": 16,
    "start_time": "2022-09-19T21:26:40.314Z"
   },
   {
    "duration": 1396,
    "start_time": "2022-09-19T21:26:44.209Z"
   },
   {
    "duration": 1875,
    "start_time": "2022-09-19T21:26:45.607Z"
   },
   {
    "duration": 150,
    "start_time": "2022-09-19T21:26:47.484Z"
   },
   {
    "duration": 238,
    "start_time": "2022-09-19T21:26:47.635Z"
   },
   {
    "duration": 4,
    "start_time": "2022-09-19T21:26:51.275Z"
   },
   {
    "duration": 8145,
    "start_time": "2022-09-19T21:27:03.816Z"
   },
   {
    "duration": 4,
    "start_time": "2022-09-19T21:27:11.963Z"
   },
   {
    "duration": 109,
    "start_time": "2022-09-19T21:27:52.500Z"
   },
   {
    "duration": 23,
    "start_time": "2022-09-19T21:27:57.319Z"
   },
   {
    "duration": 8425,
    "start_time": "2022-09-19T21:28:00.979Z"
   },
   {
    "duration": 4,
    "start_time": "2022-09-19T21:29:26.588Z"
   },
   {
    "duration": 4,
    "start_time": "2022-09-19T21:43:56.739Z"
   },
   {
    "duration": 3,
    "start_time": "2022-09-19T21:45:30.272Z"
   },
   {
    "duration": 28,
    "start_time": "2022-09-19T21:45:53.042Z"
   },
   {
    "duration": 4,
    "start_time": "2022-09-19T21:46:03.116Z"
   },
   {
    "duration": 6,
    "start_time": "2022-09-19T21:46:13.467Z"
   },
   {
    "duration": 15,
    "start_time": "2022-09-19T21:46:31.436Z"
   },
   {
    "duration": 15,
    "start_time": "2022-09-19T21:46:38.201Z"
   },
   {
    "duration": 2571,
    "start_time": "2022-09-19T21:50:25.035Z"
   },
   {
    "duration": 1556,
    "start_time": "2022-09-19T21:50:40.593Z"
   },
   {
    "duration": 9761,
    "start_time": "2022-09-19T21:50:52.209Z"
   },
   {
    "duration": 1553,
    "start_time": "2022-09-19T21:53:42.592Z"
   },
   {
    "duration": 3364,
    "start_time": "2022-09-19T21:53:44.147Z"
   },
   {
    "duration": 32,
    "start_time": "2022-09-19T21:53:47.513Z"
   },
   {
    "duration": 9,
    "start_time": "2022-09-19T21:53:47.547Z"
   },
   {
    "duration": 8,
    "start_time": "2022-09-19T21:53:47.557Z"
   },
   {
    "duration": 81421,
    "start_time": "2022-09-19T21:53:47.566Z"
   },
   {
    "duration": 154,
    "start_time": "2022-09-19T21:55:08.989Z"
   },
   {
    "duration": 1420,
    "start_time": "2022-09-19T21:55:09.145Z"
   },
   {
    "duration": 225,
    "start_time": "2022-09-19T21:55:10.567Z"
   },
   {
    "duration": 3,
    "start_time": "2022-09-19T21:55:10.794Z"
   },
   {
    "duration": 117,
    "start_time": "2022-09-19T21:55:10.798Z"
   },
   {
    "duration": 0,
    "start_time": "2022-09-19T21:55:10.916Z"
   },
   {
    "duration": 0,
    "start_time": "2022-09-19T21:55:10.917Z"
   },
   {
    "duration": 3,
    "start_time": "2022-09-19T21:57:14.389Z"
   },
   {
    "duration": 4,
    "start_time": "2022-09-19T22:24:48.565Z"
   },
   {
    "duration": 2,
    "start_time": "2022-09-19T22:29:19.554Z"
   },
   {
    "duration": 6019,
    "start_time": "2022-09-19T22:35:37.566Z"
   },
   {
    "duration": 4,
    "start_time": "2022-09-19T22:35:47.790Z"
   },
   {
    "duration": 64770,
    "start_time": "2022-09-19T22:36:58.158Z"
   },
   {
    "duration": 10,
    "start_time": "2022-09-19T22:40:09.378Z"
   },
   {
    "duration": 7,
    "start_time": "2022-09-19T22:41:42.319Z"
   },
   {
    "duration": 1491,
    "start_time": "2022-09-19T22:43:28.845Z"
   },
   {
    "duration": 830,
    "start_time": "2022-09-19T22:43:30.338Z"
   },
   {
    "duration": 23,
    "start_time": "2022-09-19T22:43:31.170Z"
   },
   {
    "duration": 8,
    "start_time": "2022-09-19T22:43:31.195Z"
   },
   {
    "duration": 27,
    "start_time": "2022-09-19T22:43:31.204Z"
   },
   {
    "duration": 152,
    "start_time": "2022-09-19T22:43:31.233Z"
   },
   {
    "duration": 240,
    "start_time": "2022-09-19T22:43:31.386Z"
   },
   {
    "duration": 4,
    "start_time": "2022-09-19T22:43:31.628Z"
   },
   {
    "duration": 16,
    "start_time": "2022-09-19T22:43:31.640Z"
   },
   {
    "duration": 6,
    "start_time": "2022-09-19T22:43:31.658Z"
   },
   {
    "duration": 67092,
    "start_time": "2022-09-19T22:43:31.666Z"
   },
   {
    "duration": 7,
    "start_time": "2022-09-19T22:44:38.760Z"
   },
   {
    "duration": 5,
    "start_time": "2022-09-19T22:44:38.769Z"
   },
   {
    "duration": 23,
    "start_time": "2022-09-19T22:47:02.738Z"
   },
   {
    "duration": 23,
    "start_time": "2022-09-19T22:47:44.643Z"
   },
   {
    "duration": 26,
    "start_time": "2022-09-19T22:47:48.749Z"
   },
   {
    "duration": 20,
    "start_time": "2022-09-19T22:47:53.210Z"
   },
   {
    "duration": 21,
    "start_time": "2022-09-19T22:48:07.365Z"
   },
   {
    "duration": 19,
    "start_time": "2022-09-19T22:48:15.189Z"
   },
   {
    "duration": 18,
    "start_time": "2022-09-19T22:48:17.579Z"
   },
   {
    "duration": 2,
    "start_time": "2022-09-19T22:48:20.004Z"
   },
   {
    "duration": 143,
    "start_time": "2022-09-19T22:48:45.464Z"
   },
   {
    "duration": 26,
    "start_time": "2022-09-19T22:48:58.465Z"
   },
   {
    "duration": 11,
    "start_time": "2022-09-19T22:49:07.965Z"
   },
   {
    "duration": 20,
    "start_time": "2022-09-19T22:49:20.815Z"
   },
   {
    "duration": 1444,
    "start_time": "2022-09-19T22:49:49.699Z"
   },
   {
    "duration": 801,
    "start_time": "2022-09-19T22:49:51.144Z"
   },
   {
    "duration": 25,
    "start_time": "2022-09-19T22:49:51.947Z"
   },
   {
    "duration": 9,
    "start_time": "2022-09-19T22:49:51.974Z"
   },
   {
    "duration": 150,
    "start_time": "2022-09-19T22:49:51.984Z"
   },
   {
    "duration": 338,
    "start_time": "2022-09-19T22:49:52.136Z"
   },
   {
    "duration": 3,
    "start_time": "2022-09-19T22:49:52.476Z"
   },
   {
    "duration": 11,
    "start_time": "2022-09-19T22:49:52.480Z"
   },
   {
    "duration": 14,
    "start_time": "2022-09-19T22:49:52.492Z"
   },
   {
    "duration": 67087,
    "start_time": "2022-09-19T22:49:52.508Z"
   },
   {
    "duration": 7,
    "start_time": "2022-09-19T22:50:59.596Z"
   },
   {
    "duration": 51,
    "start_time": "2022-09-19T22:50:59.605Z"
   },
   {
    "duration": 9,
    "start_time": "2022-09-19T22:50:59.657Z"
   },
   {
    "duration": 58,
    "start_time": "2022-09-19T22:52:45.552Z"
   },
   {
    "duration": 3,
    "start_time": "2022-09-19T23:09:54.269Z"
   },
   {
    "duration": 62081,
    "start_time": "2022-09-19T23:21:51.201Z"
   },
   {
    "duration": 5,
    "start_time": "2022-09-19T23:23:00.497Z"
   },
   {
    "duration": 7,
    "start_time": "2022-09-19T23:23:03.789Z"
   },
   {
    "duration": 22,
    "start_time": "2022-09-19T23:23:59.117Z"
   },
   {
    "duration": 4,
    "start_time": "2022-09-19T23:24:13.733Z"
   },
   {
    "duration": 116,
    "start_time": "2022-09-19T23:24:51.597Z"
   },
   {
    "duration": 2,
    "start_time": "2022-09-19T23:25:02.078Z"
   },
   {
    "duration": 1556,
    "start_time": "2022-09-19T23:26:15.078Z"
   },
   {
    "duration": 1875,
    "start_time": "2022-09-19T23:26:29.855Z"
   },
   {
    "duration": 9,
    "start_time": "2022-09-19T23:26:44.106Z"
   },
   {
    "duration": 8,
    "start_time": "2022-09-19T23:26:54.255Z"
   },
   {
    "duration": 4,
    "start_time": "2022-09-19T23:27:13.166Z"
   },
   {
    "duration": 62109,
    "start_time": "2022-09-19T23:27:13.602Z"
   },
   {
    "duration": 24,
    "start_time": "2022-09-19T23:28:15.713Z"
   },
   {
    "duration": 81,
    "start_time": "2022-09-19T23:28:15.739Z"
   },
   {
    "duration": 73,
    "start_time": "2022-09-19T23:28:15.822Z"
   },
   {
    "duration": 4,
    "start_time": "2022-09-19T23:28:15.897Z"
   },
   {
    "duration": 7,
    "start_time": "2022-09-19T23:28:15.903Z"
   },
   {
    "duration": 4088,
    "start_time": "2022-09-19T23:28:15.912Z"
   },
   {
    "duration": 8,
    "start_time": "2022-09-19T23:28:20.002Z"
   },
   {
    "duration": 4377,
    "start_time": "2022-09-19T23:29:20.995Z"
   },
   {
    "duration": 4262,
    "start_time": "2022-09-19T23:29:26.807Z"
   },
   {
    "duration": 4,
    "start_time": "2022-09-19T23:30:59.209Z"
   },
   {
    "duration": 18,
    "start_time": "2022-09-19T23:31:43.319Z"
   },
   {
    "duration": 29263,
    "start_time": "2022-09-19T23:31:54.375Z"
   },
   {
    "duration": 83,
    "start_time": "2022-09-19T23:32:23.640Z"
   },
   {
    "duration": 14,
    "start_time": "2022-09-19T23:32:51.743Z"
   },
   {
    "duration": 11,
    "start_time": "2022-09-19T23:36:19.833Z"
   },
   {
    "duration": 5,
    "start_time": "2022-09-19T23:36:27.196Z"
   },
   {
    "duration": 9,
    "start_time": "2022-09-19T23:36:31.753Z"
   },
   {
    "duration": 130,
    "start_time": "2022-09-19T23:36:46.248Z"
   },
   {
    "duration": 166606,
    "start_time": "2022-09-19T23:37:13.540Z"
   },
   {
    "duration": 1641,
    "start_time": "2022-09-20T05:58:39.942Z"
   },
   {
    "duration": 3246,
    "start_time": "2022-09-20T05:58:44.844Z"
   },
   {
    "duration": 33,
    "start_time": "2022-09-20T05:58:48.649Z"
   },
   {
    "duration": 28,
    "start_time": "2022-09-20T05:58:49.794Z"
   },
   {
    "duration": 9,
    "start_time": "2022-09-20T05:58:51.609Z"
   },
   {
    "duration": 144,
    "start_time": "2022-09-20T05:58:57.106Z"
   },
   {
    "duration": 238,
    "start_time": "2022-09-20T05:59:01.154Z"
   },
   {
    "duration": 7,
    "start_time": "2022-09-20T05:59:03.634Z"
   },
   {
    "duration": 3,
    "start_time": "2022-09-20T05:59:05.382Z"
   },
   {
    "duration": 4,
    "start_time": "2022-09-20T05:59:25.277Z"
   },
   {
    "duration": 117,
    "start_time": "2022-09-20T05:59:26.074Z"
   },
   {
    "duration": 67318,
    "start_time": "2022-09-20T05:59:35.818Z"
   },
   {
    "duration": 8,
    "start_time": "2022-09-20T06:01:02.273Z"
   },
   {
    "duration": 57,
    "start_time": "2022-09-20T06:01:06.060Z"
   },
   {
    "duration": 64,
    "start_time": "2022-09-20T06:01:07.164Z"
   },
   {
    "duration": 5,
    "start_time": "2022-09-20T06:01:08.296Z"
   },
   {
    "duration": 3,
    "start_time": "2022-09-20T06:01:08.952Z"
   },
   {
    "duration": 4376,
    "start_time": "2022-09-20T06:01:09.699Z"
   },
   {
    "duration": 3,
    "start_time": "2022-09-20T06:01:14.077Z"
   },
   {
    "duration": 4296,
    "start_time": "2022-09-20T06:01:18.112Z"
   },
   {
    "duration": 10,
    "start_time": "2022-09-20T06:04:18.770Z"
   },
   {
    "duration": 4,
    "start_time": "2022-09-20T06:04:28.138Z"
   },
   {
    "duration": 3,
    "start_time": "2022-09-20T06:04:33.920Z"
   },
   {
    "duration": 3,
    "start_time": "2022-09-20T06:04:38.163Z"
   },
   {
    "duration": 1262,
    "start_time": "2022-09-20T06:04:50.718Z"
   },
   {
    "duration": 4,
    "start_time": "2022-09-20T06:06:12.913Z"
   },
   {
    "duration": 5,
    "start_time": "2022-09-20T06:06:17.475Z"
   },
   {
    "duration": 1196,
    "start_time": "2022-09-20T06:06:21.163Z"
   },
   {
    "duration": 4,
    "start_time": "2022-09-20T06:06:38.424Z"
   },
   {
    "duration": 3,
    "start_time": "2022-09-20T06:06:39.284Z"
   },
   {
    "duration": 1345,
    "start_time": "2022-09-20T06:06:42.285Z"
   },
   {
    "duration": 4,
    "start_time": "2022-09-20T06:06:58.288Z"
   },
   {
    "duration": 3,
    "start_time": "2022-09-20T06:06:58.586Z"
   },
   {
    "duration": 610,
    "start_time": "2022-09-20T06:06:59.090Z"
   },
   {
    "duration": 3,
    "start_time": "2022-09-20T06:07:13.741Z"
   },
   {
    "duration": 12,
    "start_time": "2022-09-20T06:07:14.440Z"
   },
   {
    "duration": 615,
    "start_time": "2022-09-20T06:07:15.056Z"
   },
   {
    "duration": 3,
    "start_time": "2022-09-20T06:07:27.365Z"
   },
   {
    "duration": 3,
    "start_time": "2022-09-20T06:07:38.984Z"
   },
   {
    "duration": 625,
    "start_time": "2022-09-20T06:07:47.022Z"
   },
   {
    "duration": 3,
    "start_time": "2022-09-20T06:09:56.310Z"
   },
   {
    "duration": 1004097,
    "start_time": "2022-09-20T06:10:26.710Z"
   },
   {
    "duration": 21,
    "start_time": "2022-09-20T06:29:56.472Z"
   },
   {
    "duration": 2,
    "start_time": "2022-09-20T06:35:26.761Z"
   },
   {
    "duration": 24,
    "start_time": "2022-09-20T06:36:51.121Z"
   },
   {
    "duration": 13,
    "start_time": "2022-09-20T06:42:53.396Z"
   },
   {
    "duration": 1611,
    "start_time": "2022-09-20T06:43:39.101Z"
   },
   {
    "duration": 854,
    "start_time": "2022-09-20T06:43:40.715Z"
   },
   {
    "duration": 48,
    "start_time": "2022-09-20T06:43:41.574Z"
   },
   {
    "duration": 33,
    "start_time": "2022-09-20T06:43:41.623Z"
   },
   {
    "duration": 13,
    "start_time": "2022-09-20T06:43:41.658Z"
   },
   {
    "duration": 191,
    "start_time": "2022-09-20T06:43:41.696Z"
   },
   {
    "duration": 323,
    "start_time": "2022-09-20T06:43:41.889Z"
   },
   {
    "duration": 4,
    "start_time": "2022-09-20T06:43:42.214Z"
   },
   {
    "duration": 4,
    "start_time": "2022-09-20T06:43:42.221Z"
   },
   {
    "duration": 6,
    "start_time": "2022-09-20T06:43:42.227Z"
   },
   {
    "duration": 71272,
    "start_time": "2022-09-20T06:43:42.235Z"
   },
   {
    "duration": 8,
    "start_time": "2022-09-20T06:44:53.509Z"
   },
   {
    "duration": 62,
    "start_time": "2022-09-20T06:44:53.520Z"
   },
   {
    "duration": 69,
    "start_time": "2022-09-20T06:44:53.594Z"
   },
   {
    "duration": 5,
    "start_time": "2022-09-20T06:44:53.665Z"
   },
   {
    "duration": 23,
    "start_time": "2022-09-20T06:44:53.672Z"
   },
   {
    "duration": 4551,
    "start_time": "2022-09-20T06:44:53.698Z"
   },
   {
    "duration": 3,
    "start_time": "2022-09-20T06:44:58.251Z"
   },
   {
    "duration": 5007,
    "start_time": "2022-09-20T06:44:58.256Z"
   },
   {
    "duration": 4,
    "start_time": "2022-09-20T06:45:03.265Z"
   },
   {
    "duration": 20,
    "start_time": "2022-09-20T06:45:03.270Z"
   },
   {
    "duration": 1028219,
    "start_time": "2022-09-20T06:45:03.292Z"
   },
   {
    "duration": 227,
    "start_time": "2022-09-20T07:02:11.514Z"
   },
   {
    "duration": 0,
    "start_time": "2022-09-20T07:02:11.743Z"
   },
   {
    "duration": 0,
    "start_time": "2022-09-20T07:02:11.744Z"
   },
   {
    "duration": 0,
    "start_time": "2022-09-20T07:02:11.745Z"
   },
   {
    "duration": 10,
    "start_time": "2022-09-20T07:02:28.351Z"
   },
   {
    "duration": 42262,
    "start_time": "2022-09-20T07:02:38.645Z"
   },
   {
    "duration": 9,
    "start_time": "2022-09-20T07:04:25.690Z"
   },
   {
    "duration": 16,
    "start_time": "2022-09-20T07:04:30.657Z"
   },
   {
    "duration": 3,
    "start_time": "2022-09-20T07:04:35.185Z"
   },
   {
    "duration": 13,
    "start_time": "2022-09-20T07:04:37.604Z"
   },
   {
    "duration": 5,
    "start_time": "2022-09-20T07:04:50.671Z"
   },
   {
    "duration": 10,
    "start_time": "2022-09-20T07:04:58.409Z"
   },
   {
    "duration": 3,
    "start_time": "2022-09-20T07:05:57.109Z"
   },
   {
    "duration": 222247,
    "start_time": "2022-09-20T07:07:42.109Z"
   },
   {
    "duration": 3042,
    "start_time": "2022-09-20T07:12:02.082Z"
   },
   {
    "duration": 8,
    "start_time": "2022-09-20T07:12:15.452Z"
   },
   {
    "duration": 16,
    "start_time": "2022-09-20T07:12:18.911Z"
   },
   {
    "duration": 24,
    "start_time": "2022-09-20T07:12:27.736Z"
   },
   {
    "duration": 17,
    "start_time": "2022-09-20T07:12:28.547Z"
   },
   {
    "duration": 9,
    "start_time": "2022-09-20T07:34:03.635Z"
   },
   {
    "duration": 1563,
    "start_time": "2022-09-20T07:34:12.625Z"
   },
   {
    "duration": 782,
    "start_time": "2022-09-20T07:34:14.190Z"
   },
   {
    "duration": 39,
    "start_time": "2022-09-20T07:34:14.974Z"
   },
   {
    "duration": 41,
    "start_time": "2022-09-20T07:34:15.016Z"
   },
   {
    "duration": 9,
    "start_time": "2022-09-20T07:34:15.058Z"
   },
   {
    "duration": 259,
    "start_time": "2022-09-20T07:34:15.069Z"
   },
   {
    "duration": 236,
    "start_time": "2022-09-20T07:34:15.330Z"
   },
   {
    "duration": 4,
    "start_time": "2022-09-20T07:34:15.568Z"
   },
   {
    "duration": 5,
    "start_time": "2022-09-20T07:34:15.574Z"
   },
   {
    "duration": 8,
    "start_time": "2022-09-20T07:34:15.582Z"
   },
   {
    "duration": 68478,
    "start_time": "2022-09-20T07:34:15.878Z"
   },
   {
    "duration": 8,
    "start_time": "2022-09-20T07:35:24.358Z"
   },
   {
    "duration": 61,
    "start_time": "2022-09-20T07:35:24.367Z"
   },
   {
    "duration": 66,
    "start_time": "2022-09-20T07:35:24.430Z"
   },
   {
    "duration": 5,
    "start_time": "2022-09-20T07:35:24.497Z"
   },
   {
    "duration": 9,
    "start_time": "2022-09-20T07:35:24.504Z"
   },
   {
    "duration": 4652,
    "start_time": "2022-09-20T07:35:24.515Z"
   },
   {
    "duration": 3,
    "start_time": "2022-09-20T07:35:29.168Z"
   },
   {
    "duration": 4658,
    "start_time": "2022-09-20T07:35:29.172Z"
   },
   {
    "duration": 4,
    "start_time": "2022-09-20T07:35:33.833Z"
   },
   {
    "duration": 1078411,
    "start_time": "2022-09-20T07:36:36.833Z"
   },
   {
    "duration": 0,
    "start_time": "2022-09-20T07:54:35.246Z"
   },
   {
    "duration": 0,
    "start_time": "2022-09-20T07:54:35.247Z"
   },
   {
    "duration": 5,
    "start_time": "2022-09-20T08:01:06.764Z"
   },
   {
    "duration": 1019072,
    "start_time": "2022-09-20T08:01:08.434Z"
   },
   {
    "duration": 5,
    "start_time": "2022-09-20T08:18:57.121Z"
   },
   {
    "duration": 616450,
    "start_time": "2022-09-20T08:18:57.988Z"
   },
   {
    "duration": 247068,
    "start_time": "2022-09-20T08:36:53.571Z"
   },
   {
    "duration": 19080,
    "start_time": "2022-09-20T08:44:08.691Z"
   },
   {
    "duration": 94968,
    "start_time": "2022-09-20T08:48:11.713Z"
   },
   {
    "duration": 0,
    "start_time": "2022-09-20T08:52:37.924Z"
   },
   {
    "duration": 3195212,
    "start_time": "2022-09-20T08:52:43.324Z"
   },
   {
    "duration": 4,
    "start_time": "2022-09-20T09:55:07.375Z"
   },
   {
    "duration": 1150646,
    "start_time": "2022-09-20T09:55:37.924Z"
   },
   {
    "duration": 0,
    "start_time": "2022-09-20T11:50:28.815Z"
   },
   {
    "duration": 0,
    "start_time": "2022-09-20T12:03:00.739Z"
   },
   {
    "duration": 11,
    "start_time": "2022-09-20T12:06:43.142Z"
   },
   {
    "duration": 62,
    "start_time": "2022-09-20T12:06:47.342Z"
   },
   {
    "duration": 0,
    "start_time": "2022-09-20T12:09:12.227Z"
   },
   {
    "duration": 0,
    "start_time": "2022-09-20T12:09:12.228Z"
   },
   {
    "duration": 12,
    "start_time": "2022-09-20T12:10:49.015Z"
   },
   {
    "duration": 14,
    "start_time": "2022-09-20T12:10:58.963Z"
   },
   {
    "duration": 384332,
    "start_time": "2022-09-20T12:11:03.468Z"
   },
   {
    "duration": 1135876,
    "start_time": "2022-09-20T12:17:29.602Z"
   },
   {
    "duration": 49,
    "start_time": "2022-09-20T13:03:59.846Z"
   },
   {
    "duration": 1679,
    "start_time": "2022-09-20T13:04:30.783Z"
   },
   {
    "duration": 873,
    "start_time": "2022-09-20T13:04:32.464Z"
   },
   {
    "duration": 30,
    "start_time": "2022-09-20T13:04:33.338Z"
   },
   {
    "duration": 40,
    "start_time": "2022-09-20T13:04:33.370Z"
   },
   {
    "duration": 11,
    "start_time": "2022-09-20T13:04:33.413Z"
   },
   {
    "duration": 246,
    "start_time": "2022-09-20T13:04:33.425Z"
   },
   {
    "duration": 242,
    "start_time": "2022-09-20T13:04:33.673Z"
   },
   {
    "duration": 5,
    "start_time": "2022-09-20T13:04:33.917Z"
   },
   {
    "duration": 5,
    "start_time": "2022-09-20T13:04:33.923Z"
   },
   {
    "duration": 8,
    "start_time": "2022-09-20T13:04:33.929Z"
   },
   {
    "duration": 76504,
    "start_time": "2022-09-20T13:04:33.938Z"
   },
   {
    "duration": 9,
    "start_time": "2022-09-20T13:05:50.443Z"
   },
   {
    "duration": 71,
    "start_time": "2022-09-20T13:05:50.454Z"
   },
   {
    "duration": 74,
    "start_time": "2022-09-20T13:05:50.527Z"
   },
   {
    "duration": 7,
    "start_time": "2022-09-20T13:05:50.605Z"
   },
   {
    "duration": 12,
    "start_time": "2022-09-20T13:05:50.614Z"
   },
   {
    "duration": 4969,
    "start_time": "2022-09-20T13:05:50.628Z"
   },
   {
    "duration": 4,
    "start_time": "2022-09-20T13:05:55.600Z"
   },
   {
    "duration": 5189,
    "start_time": "2022-09-20T13:05:55.606Z"
   },
   {
    "duration": 7,
    "start_time": "2022-09-20T13:06:00.797Z"
   },
   {
    "duration": 582720,
    "start_time": "2022-09-20T13:06:00.806Z"
   },
   {
    "duration": 220553,
    "start_time": "2022-09-20T13:15:43.528Z"
   },
   {
    "duration": 1600,
    "start_time": "2022-09-20T13:52:07.806Z"
   },
   {
    "duration": 806,
    "start_time": "2022-09-20T13:52:09.408Z"
   },
   {
    "duration": 32,
    "start_time": "2022-09-20T13:52:10.215Z"
   },
   {
    "duration": 48,
    "start_time": "2022-09-20T13:52:10.248Z"
   },
   {
    "duration": 8,
    "start_time": "2022-09-20T13:52:10.297Z"
   },
   {
    "duration": 238,
    "start_time": "2022-09-20T13:52:10.306Z"
   },
   {
    "duration": 189,
    "start_time": "2022-09-20T13:52:10.545Z"
   },
   {
    "duration": 5,
    "start_time": "2022-09-20T13:52:10.735Z"
   },
   {
    "duration": 5,
    "start_time": "2022-09-20T13:52:10.742Z"
   },
   {
    "duration": 5,
    "start_time": "2022-09-20T13:52:10.749Z"
   },
   {
    "duration": 68802,
    "start_time": "2022-09-20T13:52:10.756Z"
   },
   {
    "duration": 7,
    "start_time": "2022-09-20T13:53:19.560Z"
   },
   {
    "duration": 65,
    "start_time": "2022-09-20T13:53:19.569Z"
   },
   {
    "duration": 68,
    "start_time": "2022-09-20T13:53:19.636Z"
   },
   {
    "duration": 4,
    "start_time": "2022-09-20T13:53:19.706Z"
   },
   {
    "duration": 8,
    "start_time": "2022-09-20T13:53:19.712Z"
   },
   {
    "duration": 4619,
    "start_time": "2022-09-20T13:53:19.721Z"
   },
   {
    "duration": 3,
    "start_time": "2022-09-20T13:53:24.342Z"
   },
   {
    "duration": 4756,
    "start_time": "2022-09-20T13:53:24.346Z"
   },
   {
    "duration": 4,
    "start_time": "2022-09-20T13:53:29.104Z"
   },
   {
    "duration": 1679,
    "start_time": "2022-09-20T15:52:24.337Z"
   },
   {
    "duration": 849,
    "start_time": "2022-09-20T15:52:26.018Z"
   },
   {
    "duration": 37,
    "start_time": "2022-09-20T15:52:26.869Z"
   },
   {
    "duration": 31,
    "start_time": "2022-09-20T15:52:26.908Z"
   },
   {
    "duration": 17,
    "start_time": "2022-09-20T15:52:26.941Z"
   },
   {
    "duration": 274,
    "start_time": "2022-09-20T15:52:26.959Z"
   },
   {
    "duration": 163,
    "start_time": "2022-09-20T15:52:27.235Z"
   },
   {
    "duration": 5,
    "start_time": "2022-09-20T15:52:27.400Z"
   },
   {
    "duration": 12,
    "start_time": "2022-09-20T15:52:27.406Z"
   },
   {
    "duration": 8,
    "start_time": "2022-09-20T15:52:27.420Z"
   },
   {
    "duration": 70878,
    "start_time": "2022-09-20T15:52:27.430Z"
   },
   {
    "duration": 9,
    "start_time": "2022-09-20T15:53:38.310Z"
   },
   {
    "duration": 55,
    "start_time": "2022-09-20T15:53:38.320Z"
   },
   {
    "duration": 84,
    "start_time": "2022-09-20T15:53:38.377Z"
   },
   {
    "duration": 5,
    "start_time": "2022-09-20T15:53:38.462Z"
   },
   {
    "duration": 12,
    "start_time": "2022-09-20T15:53:38.468Z"
   },
   {
    "duration": 4627,
    "start_time": "2022-09-20T15:53:38.481Z"
   },
   {
    "duration": 3,
    "start_time": "2022-09-20T15:53:43.110Z"
   },
   {
    "duration": 4843,
    "start_time": "2022-09-20T15:53:43.115Z"
   },
   {
    "duration": 4,
    "start_time": "2022-09-20T15:53:47.960Z"
   },
   {
    "duration": 557930,
    "start_time": "2022-09-20T15:53:47.965Z"
   },
   {
    "duration": 215841,
    "start_time": "2022-09-20T16:03:05.897Z"
   },
   {
    "duration": 3051912,
    "start_time": "2022-09-20T16:06:41.740Z"
   },
   {
    "duration": 11111,
    "start_time": "2022-10-03T01:14:11.101Z"
   },
   {
    "duration": 15082,
    "start_time": "2022-10-03T01:14:22.219Z"
   },
   {
    "duration": 214,
    "start_time": "2022-10-03T01:14:37.303Z"
   },
   {
    "duration": 209,
    "start_time": "2022-10-03T01:14:37.602Z"
   },
   {
    "duration": 394,
    "start_time": "2022-10-03T01:14:37.814Z"
   },
   {
    "duration": 2296,
    "start_time": "2022-10-03T01:14:38.209Z"
   },
   {
    "duration": 610,
    "start_time": "2022-10-03T01:14:40.599Z"
   },
   {
    "duration": 90,
    "start_time": "2022-10-03T01:14:41.210Z"
   },
   {
    "duration": 205,
    "start_time": "2022-10-03T01:14:41.302Z"
   },
   {
    "duration": 192,
    "start_time": "2022-10-03T01:14:41.509Z"
   },
   {
    "duration": 645909,
    "start_time": "2022-10-03T01:14:41.702Z"
   },
   {
    "duration": 188,
    "start_time": "2022-10-03T01:25:27.613Z"
   },
   {
    "duration": 508,
    "start_time": "2022-10-03T01:25:27.803Z"
   },
   {
    "duration": 497,
    "start_time": "2022-10-03T01:25:28.314Z"
   },
   {
    "duration": 99,
    "start_time": "2022-10-03T01:25:28.901Z"
   },
   {
    "duration": 298,
    "start_time": "2022-10-03T01:25:29.003Z"
   },
   {
    "duration": 45109,
    "start_time": "2022-10-03T01:25:29.302Z"
   },
   {
    "duration": 91,
    "start_time": "2022-10-03T01:26:14.413Z"
   },
   {
    "duration": 723203,
    "start_time": "2022-10-03T01:26:14.508Z"
   },
   {
    "duration": 1940287,
    "start_time": "2022-10-03T01:38:17.718Z"
   },
   {
    "duration": 101,
    "start_time": "2022-10-03T02:24:52.901Z"
   },
   {
    "duration": 11000,
    "start_time": "2022-10-03T02:32:02.101Z"
   },
   {
    "duration": 17896,
    "start_time": "2022-10-03T02:32:13.105Z"
   },
   {
    "duration": 299,
    "start_time": "2022-10-03T02:32:31.003Z"
   },
   {
    "duration": 296,
    "start_time": "2022-10-03T02:32:31.404Z"
   },
   {
    "duration": 10,
    "start_time": "2022-10-03T02:32:31.801Z"
   },
   {
    "duration": 2091,
    "start_time": "2022-10-03T02:32:31.813Z"
   },
   {
    "duration": 903,
    "start_time": "2022-10-03T02:32:33.906Z"
   },
   {
    "duration": 5,
    "start_time": "2022-10-03T02:32:34.901Z"
   },
   {
    "duration": 292,
    "start_time": "2022-10-03T02:32:34.910Z"
   },
   {
    "duration": 197,
    "start_time": "2022-10-03T02:32:35.204Z"
   },
   {
    "duration": 304238,
    "start_time": "2022-10-03T02:32:35.402Z"
   },
   {
    "duration": 61,
    "start_time": "2022-10-03T02:37:39.641Z"
   },
   {
    "duration": 98,
    "start_time": "2022-10-03T02:37:39.704Z"
   },
   {
    "duration": 119,
    "start_time": "2022-10-03T02:37:39.804Z"
   },
   {
    "duration": 4,
    "start_time": "2022-10-03T02:37:39.924Z"
   },
   {
    "duration": 4,
    "start_time": "2022-10-03T02:37:39.930Z"
   },
   {
    "duration": 8385,
    "start_time": "2022-10-03T02:37:39.936Z"
   },
   {
    "duration": 4,
    "start_time": "2022-10-03T02:37:48.323Z"
   },
   {
    "duration": 597573,
    "start_time": "2022-10-03T02:37:48.328Z"
   },
   {
    "duration": 380425,
    "start_time": "2022-10-03T02:47:45.903Z"
   },
   {
    "duration": 41,
    "start_time": "2022-10-03T03:43:05.701Z"
   },
   {
    "duration": 1456,
    "start_time": "2022-10-03T03:43:44.764Z"
   },
   {
    "duration": 1418,
    "start_time": "2022-10-03T03:45:06.319Z"
   },
   {
    "duration": 2415,
    "start_time": "2022-10-03T03:45:07.739Z"
   },
   {
    "duration": 31,
    "start_time": "2022-10-03T03:45:10.156Z"
   },
   {
    "duration": 28,
    "start_time": "2022-10-03T03:45:10.189Z"
   },
   {
    "duration": 7,
    "start_time": "2022-10-03T03:45:10.219Z"
   },
   {
    "duration": 215,
    "start_time": "2022-10-03T03:45:10.227Z"
   },
   {
    "duration": 112,
    "start_time": "2022-10-03T03:45:10.443Z"
   },
   {
    "duration": 4,
    "start_time": "2022-10-03T03:45:10.556Z"
   },
   {
    "duration": 4,
    "start_time": "2022-10-03T03:45:10.561Z"
   },
   {
    "duration": 4,
    "start_time": "2022-10-03T03:45:10.567Z"
   },
   {
    "duration": 59399,
    "start_time": "2022-10-03T03:45:10.572Z"
   },
   {
    "duration": 7,
    "start_time": "2022-10-03T03:46:09.972Z"
   },
   {
    "duration": 62,
    "start_time": "2022-10-03T03:46:09.982Z"
   },
   {
    "duration": 67,
    "start_time": "2022-10-03T03:46:10.046Z"
   },
   {
    "duration": 5,
    "start_time": "2022-10-03T03:46:10.114Z"
   },
   {
    "duration": 3,
    "start_time": "2022-10-03T03:46:18.828Z"
   },
   {
    "duration": 112,
    "start_time": "2022-10-03T03:46:21.352Z"
   },
   {
    "duration": 3,
    "start_time": "2022-10-03T03:46:27.457Z"
   },
   {
    "duration": 35,
    "start_time": "2022-10-03T03:47:02.257Z"
   },
   {
    "duration": 3,
    "start_time": "2022-10-03T03:48:32.290Z"
   },
   {
    "duration": 3,
    "start_time": "2022-10-03T03:48:32.861Z"
   },
   {
    "duration": 272,
    "start_time": "2022-10-03T03:48:33.442Z"
   },
   {
    "duration": 4,
    "start_time": "2022-10-03T03:49:45.542Z"
   },
   {
    "duration": 8,
    "start_time": "2022-10-03T03:50:03.171Z"
   },
   {
    "duration": 3,
    "start_time": "2022-10-03T03:50:12.699Z"
   },
   {
    "duration": 42,
    "start_time": "2022-10-03T03:50:44.649Z"
   },
   {
    "duration": 60,
    "start_time": "2022-10-03T03:50:45.253Z"
   },
   {
    "duration": 5,
    "start_time": "2022-10-03T03:50:50.593Z"
   },
   {
    "duration": 4,
    "start_time": "2022-10-03T03:51:05.441Z"
   },
   {
    "duration": 3,
    "start_time": "2022-10-03T03:51:14.646Z"
   },
   {
    "duration": 256,
    "start_time": "2022-10-03T03:51:16.806Z"
   },
   {
    "duration": 878,
    "start_time": "2022-10-03T03:51:34.414Z"
   },
   {
    "duration": 5,
    "start_time": "2022-10-03T03:51:43.856Z"
   },
   {
    "duration": 124280,
    "start_time": "2022-10-03T03:51:50.746Z"
   },
   {
    "duration": 2059,
    "start_time": "2022-10-03T08:03:29.086Z"
   },
   {
    "duration": 3151,
    "start_time": "2022-10-03T08:03:31.147Z"
   },
   {
    "duration": 28,
    "start_time": "2022-10-03T08:03:34.300Z"
   },
   {
    "duration": 25,
    "start_time": "2022-10-03T08:03:34.329Z"
   },
   {
    "duration": 11,
    "start_time": "2022-10-03T08:03:34.356Z"
   },
   {
    "duration": 199,
    "start_time": "2022-10-03T08:03:34.368Z"
   },
   {
    "duration": 174,
    "start_time": "2022-10-03T08:05:14.159Z"
   },
   {
    "duration": 6,
    "start_time": "2022-10-03T08:05:14.481Z"
   },
   {
    "duration": 2,
    "start_time": "2022-10-03T08:05:15.166Z"
   },
   {
    "duration": 4,
    "start_time": "2022-10-03T08:05:16.051Z"
   },
   {
    "duration": 59783,
    "start_time": "2022-10-03T08:05:17.007Z"
   },
   {
    "duration": 7,
    "start_time": "2022-10-03T08:06:16.792Z"
   },
   {
    "duration": 49,
    "start_time": "2022-10-03T08:06:16.800Z"
   },
   {
    "duration": 57,
    "start_time": "2022-10-03T08:06:16.851Z"
   },
   {
    "duration": 3,
    "start_time": "2022-10-03T08:06:16.910Z"
   },
   {
    "duration": 3,
    "start_time": "2022-10-03T08:08:55.411Z"
   },
   {
    "duration": 4,
    "start_time": "2022-10-03T08:08:57.679Z"
   },
   {
    "duration": 619289,
    "start_time": "2022-10-03T08:08:58.834Z"
   },
   {
    "duration": 8,
    "start_time": "2022-10-03T08:28:28.571Z"
   },
   {
    "duration": 6,
    "start_time": "2022-10-03T08:29:31.949Z"
   },
   {
    "duration": 125,
    "start_time": "2022-10-03T08:29:54.431Z"
   },
   {
    "duration": 5,
    "start_time": "2022-10-03T08:34:03.100Z"
   },
   {
    "duration": 4,
    "start_time": "2022-10-03T08:34:06.737Z"
   },
   {
    "duration": 5,
    "start_time": "2022-10-03T08:34:35.247Z"
   },
   {
    "duration": 4,
    "start_time": "2022-10-03T08:34:35.896Z"
   },
   {
    "duration": 10,
    "start_time": "2022-10-03T08:35:31.923Z"
   },
   {
    "duration": 10,
    "start_time": "2022-10-03T08:36:15.939Z"
   },
   {
    "duration": 22,
    "start_time": "2022-10-03T08:36:26.837Z"
   },
   {
    "duration": 9,
    "start_time": "2022-10-03T08:36:50.468Z"
   },
   {
    "duration": 17,
    "start_time": "2022-10-03T08:36:55.980Z"
   },
   {
    "duration": 7,
    "start_time": "2022-10-03T08:55:54.872Z"
   },
   {
    "duration": 214,
    "start_time": "2022-10-03T08:57:30.632Z"
   },
   {
    "duration": 4,
    "start_time": "2022-10-03T08:57:39.029Z"
   },
   {
    "duration": 40772,
    "start_time": "2022-10-03T08:57:40.783Z"
   },
   {
    "duration": 617339,
    "start_time": "2022-10-03T08:59:07.790Z"
   },
   {
    "duration": 4207,
    "start_time": "2022-10-03T09:14:07.623Z"
   },
   {
    "duration": 4,
    "start_time": "2022-10-03T09:14:17.454Z"
   },
   {
    "duration": 140976,
    "start_time": "2022-10-03T09:14:17.958Z"
   },
   {
    "duration": 3,
    "start_time": "2022-10-03T09:19:55.880Z"
   },
   {
    "duration": 13,
    "start_time": "2022-10-03T09:20:26.159Z"
   },
   {
    "duration": 79,
    "start_time": "2022-10-03T09:20:47.483Z"
   },
   {
    "duration": 231808,
    "start_time": "2022-10-03T09:22:11.630Z"
   },
   {
    "duration": 1497,
    "start_time": "2022-10-03T09:26:53.257Z"
   },
   {
    "duration": 716,
    "start_time": "2022-10-03T09:26:54.924Z"
   },
   {
    "duration": 37,
    "start_time": "2022-10-03T09:26:56.093Z"
   },
   {
    "duration": 28,
    "start_time": "2022-10-03T09:26:56.301Z"
   },
   {
    "duration": 9,
    "start_time": "2022-10-03T09:26:56.877Z"
   },
   {
    "duration": 211,
    "start_time": "2022-10-03T09:26:58.922Z"
   },
   {
    "duration": 221,
    "start_time": "2022-10-03T09:27:01.476Z"
   },
   {
    "duration": 5,
    "start_time": "2022-10-03T09:27:02.301Z"
   },
   {
    "duration": 3,
    "start_time": "2022-10-03T09:27:03.952Z"
   },
   {
    "duration": 3,
    "start_time": "2022-10-03T09:27:04.297Z"
   },
   {
    "duration": 62897,
    "start_time": "2022-10-03T09:27:05.161Z"
   },
   {
    "duration": 7,
    "start_time": "2022-10-03T09:28:08.060Z"
   },
   {
    "duration": 109,
    "start_time": "2022-10-03T09:28:08.069Z"
   },
   {
    "duration": 56,
    "start_time": "2022-10-03T09:28:08.180Z"
   },
   {
    "duration": 3,
    "start_time": "2022-10-03T09:28:08.238Z"
   },
   {
    "duration": 8,
    "start_time": "2022-10-03T09:28:08.242Z"
   },
   {
    "duration": 652666,
    "start_time": "2022-10-03T09:29:16.166Z"
   },
   {
    "duration": 230492,
    "start_time": "2022-10-03T09:40:08.834Z"
   },
   {
    "duration": 119,
    "start_time": "2022-10-03T09:43:59.328Z"
   },
   {
    "duration": 238401,
    "start_time": "2022-10-03T09:45:42.170Z"
   },
   {
    "duration": 0,
    "start_time": "2022-10-03T09:49:40.574Z"
   },
   {
    "duration": 3,
    "start_time": "2022-10-03T09:50:10.167Z"
   },
   {
    "duration": 37,
    "start_time": "2022-10-03T09:50:16.659Z"
   },
   {
    "duration": 626,
    "start_time": "2022-10-03T09:50:39.379Z"
   },
   {
    "duration": 8,
    "start_time": "2022-10-03T09:51:04.182Z"
   },
   {
    "duration": 5,
    "start_time": "2022-10-03T09:51:24.872Z"
   },
   {
    "duration": 137221,
    "start_time": "2022-10-03T09:51:28.648Z"
   },
   {
    "duration": 5,
    "start_time": "2022-10-03T09:54:09.715Z"
   },
   {
    "duration": 7,
    "start_time": "2022-10-03T09:54:23.098Z"
   },
   {
    "duration": 2046,
    "start_time": "2022-10-03T09:54:29.983Z"
   },
   {
    "duration": 2060,
    "start_time": "2022-10-03T09:54:58.504Z"
   },
   {
    "duration": 1209,
    "start_time": "2022-10-03T09:55:10.978Z"
   },
   {
    "duration": 9,
    "start_time": "2022-10-03T10:01:51.823Z"
   },
   {
    "duration": 1470,
    "start_time": "2022-10-03T10:04:01.284Z"
   },
   {
    "duration": 775,
    "start_time": "2022-10-03T10:04:02.756Z"
   },
   {
    "duration": 32,
    "start_time": "2022-10-03T10:04:03.533Z"
   },
   {
    "duration": 31,
    "start_time": "2022-10-03T10:04:03.567Z"
   },
   {
    "duration": 28,
    "start_time": "2022-10-03T10:04:03.602Z"
   },
   {
    "duration": 232,
    "start_time": "2022-10-03T10:04:03.632Z"
   },
   {
    "duration": 228,
    "start_time": "2022-10-03T10:04:03.866Z"
   },
   {
    "duration": 4,
    "start_time": "2022-10-03T10:04:04.095Z"
   },
   {
    "duration": 5,
    "start_time": "2022-10-03T10:04:04.101Z"
   },
   {
    "duration": 8,
    "start_time": "2022-10-03T10:04:04.107Z"
   },
   {
    "duration": 60549,
    "start_time": "2022-10-03T10:04:04.117Z"
   },
   {
    "duration": 8,
    "start_time": "2022-10-03T10:05:04.667Z"
   },
   {
    "duration": 55,
    "start_time": "2022-10-03T10:05:04.676Z"
   },
   {
    "duration": 64,
    "start_time": "2022-10-03T10:05:04.733Z"
   },
   {
    "duration": 3,
    "start_time": "2022-10-03T10:05:04.798Z"
   },
   {
    "duration": 7,
    "start_time": "2022-10-03T10:05:04.802Z"
   },
   {
    "duration": 4067,
    "start_time": "2022-10-03T10:05:04.821Z"
   },
   {
    "duration": 5,
    "start_time": "2022-10-03T10:05:08.889Z"
   },
   {
    "duration": 13,
    "start_time": "2022-10-03T10:05:08.895Z"
   },
   {
    "duration": 145,
    "start_time": "2022-10-03T10:05:08.909Z"
   },
   {
    "duration": 0,
    "start_time": "2022-10-03T10:05:09.055Z"
   },
   {
    "duration": 0,
    "start_time": "2022-10-03T10:05:09.056Z"
   },
   {
    "duration": 518705,
    "start_time": "2022-10-03T11:21:08.220Z"
   },
   {
    "duration": 137495,
    "start_time": "2022-10-03T11:29:46.927Z"
   },
   {
    "duration": 2694888,
    "start_time": "2022-10-03T11:32:04.423Z"
   },
   {
    "duration": 214598,
    "start_time": "2022-10-03T12:37:58.827Z"
   },
   {
    "duration": 6572,
    "start_time": "2022-10-03T12:41:51.452Z"
   },
   {
    "duration": 43976,
    "start_time": "2022-10-03T12:42:03.245Z"
   },
   {
    "duration": 9,
    "start_time": "2022-10-03T12:50:20.733Z"
   },
   {
    "duration": 6,
    "start_time": "2022-10-03T12:50:24.267Z"
   },
   {
    "duration": 1174,
    "start_time": "2022-10-03T12:50:46.671Z"
   },
   {
    "duration": 1501,
    "start_time": "2022-10-03T12:55:30.396Z"
   },
   {
    "duration": 705,
    "start_time": "2022-10-03T12:55:31.898Z"
   },
   {
    "duration": 25,
    "start_time": "2022-10-03T12:55:32.605Z"
   },
   {
    "duration": 29,
    "start_time": "2022-10-03T12:55:32.632Z"
   },
   {
    "duration": 18,
    "start_time": "2022-10-03T12:55:32.663Z"
   },
   {
    "duration": 202,
    "start_time": "2022-10-03T12:55:32.682Z"
   },
   {
    "duration": 149,
    "start_time": "2022-10-03T12:55:32.885Z"
   },
   {
    "duration": 5,
    "start_time": "2022-10-03T12:55:33.036Z"
   },
   {
    "duration": 20,
    "start_time": "2022-10-03T12:55:33.042Z"
   },
   {
    "duration": 17,
    "start_time": "2022-10-03T12:55:33.065Z"
   },
   {
    "duration": 60289,
    "start_time": "2022-10-03T12:55:33.083Z"
   },
   {
    "duration": 8,
    "start_time": "2022-10-03T12:56:33.375Z"
   },
   {
    "duration": 67,
    "start_time": "2022-10-03T12:56:33.384Z"
   },
   {
    "duration": 60,
    "start_time": "2022-10-03T12:56:33.452Z"
   },
   {
    "duration": 9,
    "start_time": "2022-10-03T12:56:33.514Z"
   },
   {
    "duration": 11,
    "start_time": "2022-10-03T12:56:33.525Z"
   },
   {
    "duration": 1456,
    "start_time": "2022-10-03T13:02:29.570Z"
   },
   {
    "duration": 719,
    "start_time": "2022-10-03T13:02:31.029Z"
   },
   {
    "duration": 25,
    "start_time": "2022-10-03T13:02:31.750Z"
   },
   {
    "duration": 24,
    "start_time": "2022-10-03T13:02:31.777Z"
   },
   {
    "duration": 25,
    "start_time": "2022-10-03T13:02:31.803Z"
   },
   {
    "duration": 215,
    "start_time": "2022-10-03T13:02:31.829Z"
   },
   {
    "duration": 150,
    "start_time": "2022-10-03T13:02:32.046Z"
   },
   {
    "duration": 4,
    "start_time": "2022-10-03T13:02:32.197Z"
   },
   {
    "duration": 9,
    "start_time": "2022-10-03T13:02:32.202Z"
   },
   {
    "duration": 11,
    "start_time": "2022-10-03T13:02:32.213Z"
   },
   {
    "duration": 60955,
    "start_time": "2022-10-03T13:02:32.225Z"
   },
   {
    "duration": 7,
    "start_time": "2022-10-03T13:03:33.182Z"
   },
   {
    "duration": 54,
    "start_time": "2022-10-03T13:03:33.190Z"
   },
   {
    "duration": 62,
    "start_time": "2022-10-03T13:03:33.245Z"
   },
   {
    "duration": 12,
    "start_time": "2022-10-03T13:03:33.309Z"
   },
   {
    "duration": 9,
    "start_time": "2022-10-03T13:03:33.323Z"
   },
   {
    "duration": 499002,
    "start_time": "2022-10-03T13:03:33.334Z"
   },
   {
    "duration": 136834,
    "start_time": "2022-10-03T13:11:52.422Z"
   },
   {
    "duration": 2649245,
    "start_time": "2022-10-03T13:14:09.258Z"
   },
   {
    "duration": 132,
    "start_time": "2022-10-03T13:58:18.505Z"
   },
   {
    "duration": 0,
    "start_time": "2022-10-03T13:58:18.639Z"
   },
   {
    "duration": 1144,
    "start_time": "2022-10-03T14:00:07.915Z"
   },
   {
    "duration": 3,
    "start_time": "2022-10-03T14:00:11.610Z"
   }
  ],
  "kernelspec": {
   "display_name": "Python 3 (ipykernel)",
   "language": "python",
   "name": "python3"
  },
  "language_info": {
   "codemirror_mode": {
    "name": "ipython",
    "version": 3
   },
   "file_extension": ".py",
   "mimetype": "text/x-python",
   "name": "python",
   "nbconvert_exporter": "python",
   "pygments_lexer": "ipython3",
   "version": "3.9.5"
  },
  "toc": {
   "base_numbering": 1,
   "nav_menu": {},
   "number_sections": true,
   "sideBar": true,
   "skip_h1_title": true,
   "title_cell": "Содержание",
   "title_sidebar": "Contents",
   "toc_cell": true,
   "toc_position": {
    "height": "calc(100% - 180px)",
    "left": "10px",
    "top": "150px",
    "width": "302.391px"
   },
   "toc_section_display": true,
   "toc_window_display": false
  }
 },
 "nbformat": 4,
 "nbformat_minor": 2
}
