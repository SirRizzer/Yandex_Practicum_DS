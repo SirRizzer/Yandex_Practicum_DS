{
 "cells": [
  {
   "cell_type": "markdown",
   "metadata": {
    "toc": true
   },
   "source": [
    "<h1>Содержание<span class=\"tocSkip\"></span></h1>\n",
    "<div class=\"toc\"><ul class=\"toc-item\"><li><span><a href=\"#Загрузка-и-подготовка-данных\" data-toc-modified-id=\"Загрузка-и-подготовка-данных-1\"><span class=\"toc-item-num\">1&nbsp;&nbsp;</span>Загрузка и подготовка данных</a></span><ul class=\"toc-item\"><li><span><a href=\"#Вывод\" data-toc-modified-id=\"Вывод-1.1\"><span class=\"toc-item-num\">1.1&nbsp;&nbsp;</span>Вывод</a></span></li></ul></li><li><span><a href=\"#Обучение-и-проверка-модели\" data-toc-modified-id=\"Обучение-и-проверка-модели-2\"><span class=\"toc-item-num\">2&nbsp;&nbsp;</span>Обучение и проверка модели</a></span><ul class=\"toc-item\"><li><span><a href=\"#Вывод\" data-toc-modified-id=\"Вывод-2.1\"><span class=\"toc-item-num\">2.1&nbsp;&nbsp;</span>Вывод</a></span></li></ul></li><li><span><a href=\"#Подготовка-к-расчёту-прибыли\" data-toc-modified-id=\"Подготовка-к-расчёту-прибыли-3\"><span class=\"toc-item-num\">3&nbsp;&nbsp;</span>Подготовка к расчёту прибыли</a></span><ul class=\"toc-item\"><li><span><a href=\"#Вывод\" data-toc-modified-id=\"Вывод-3.1\"><span class=\"toc-item-num\">3.1&nbsp;&nbsp;</span>Вывод</a></span></li></ul></li><li><span><a href=\"#Расчёт-прибыли-и-рисков\" data-toc-modified-id=\"Расчёт-прибыли-и-рисков-4\"><span class=\"toc-item-num\">4&nbsp;&nbsp;</span>Расчёт прибыли и рисков</a></span><ul class=\"toc-item\"><li><span><a href=\"#Вывод\" data-toc-modified-id=\"Вывод-4.1\"><span class=\"toc-item-num\">4.1&nbsp;&nbsp;</span>Вывод</a></span></li></ul></li><li><span><a href=\"#Вывод\" data-toc-modified-id=\"Вывод-5\"><span class=\"toc-item-num\">5&nbsp;&nbsp;</span>Вывод</a></span></li></ul></div>"
   ]
  },
  {
   "cell_type": "markdown",
   "metadata": {},
   "source": [
    "# Выбор локации для скважины"
   ]
  },
  {
   "cell_type": "markdown",
   "metadata": {},
   "source": [
    "Допустим, вы работаете в добывающей компании «ГлавРосГосНефть». Нужно решить, где бурить новую скважину.\n",
    "\n",
    "Вам предоставлены пробы нефти в трёх регионах: в каждом 10 000 месторождений, где измерили качество нефти и объём её запасов. Постройте модель машинного обучения, которая поможет определить регион, где добыча принесёт наибольшую прибыль. Проанализируйте возможную прибыль и риски техникой *Bootstrap.*\n",
    "\n",
    "Шаги для выбора локации:\n",
    "\n",
    "- В избранном регионе ищут месторождения, для каждого определяют значения признаков;\n",
    "- Строят модель и оценивают объём запасов;\n",
    "- Выбирают месторождения с самым высокими оценками значений. Количество месторождений зависит от бюджета компании и стоимости разработки одной скважины;\n",
    "- Прибыль равна суммарной прибыли отобранных месторождений."
   ]
  },
  {
   "cell_type": "markdown",
   "metadata": {},
   "source": [
    "## Загрузка и подготовка данных"
   ]
  },
  {
   "cell_type": "code",
   "execution_count": 1,
   "metadata": {},
   "outputs": [],
   "source": [
    "import pandas as pd\n",
    "import matplotlib.pyplot as plt\n",
    "from sklearn.model_selection import train_test_split\n",
    "from sklearn.linear_model import LinearRegression\n",
    "from sklearn.metrics import mean_squared_error\n",
    "from sklearn.preprocessing import MinMaxScaler\n",
    "import numpy as np\n",
    "import seaborn as sns\n",
    "import warnings\n",
    "warnings.filterwarnings(\"ignore\")"
   ]
  },
  {
   "cell_type": "code",
   "execution_count": 2,
   "metadata": {},
   "outputs": [],
   "source": [
    "#constants\n",
    "COUNT = 200\n",
    "MONEY = 10**10\n",
    "REVENUE = 45*(10**4)\n",
    "STATE = np.random.RandomState(12345)"
   ]
  },
  {
   "cell_type": "code",
   "execution_count": 3,
   "metadata": {},
   "outputs": [],
   "source": [
    "df1 = pd.read_csv('/datasets/geo_data_0.csv')\n",
    "df2 = pd.read_csv('/datasets/geo_data_1.csv')\n",
    "df3 = pd.read_csv('/datasets/geo_data_2.csv')"
   ]
  },
  {
   "cell_type": "markdown",
   "metadata": {},
   "source": [
    "В каждой таблице 100000 строк и 5 колонок, тип данных: id - object, остальные колонки - float64"
   ]
  },
  {
   "cell_type": "code",
   "execution_count": 4,
   "metadata": {},
   "outputs": [],
   "source": [
    "#Функция информации о таблицах\n",
    "def check(df):\n",
    "    dup_list = []\n",
    "    print('Первые пять строк: \\n', df.head())\n",
    "    print('########################')\n",
    "    print('Информация о талице: \\n', df.info())\n",
    "    print('########################')\n",
    "    print('Количество пропусков в таблице: \\n', df.isna().sum())\n",
    "    print('########################')\n",
    "    print('Количество дупликатов в таблице: \\n', df.duplicated().sum())\n",
    "    print('########################')\n",
    "    for i in df[df['id'].duplicated()]['id']:\n",
    "        if i not in dup_list:\n",
    "            dup_list.append(i)\n",
    "    print('Поиск неявных дупликатов: \\n', df[df['id'].duplicated()]['id'].values)\n",
    "    print('########################')\n",
    "    print('Графики')\n",
    "    plt.figure(figsize=(12, 4))\n",
    "\n",
    "    plt.subplot(1, 2, 1) \n",
    "    plt.title('Ящик с усами')\n",
    "    \n",
    "    plt.ylabel('Объём')\n",
    "    plt.boxplot (x = df['product'])\n",
    "    plt.subplot(1, 2, 2)\n",
    "    plt.title('Гистограмма распределения объёма')\n",
    "    plt.xlabel('Объём')\n",
    "    plt.ylabel('Количество')\n",
    "    plt.hist(x = df['product'], bins=35, range = (0, 200))\n",
    "    plt.show()\n",
    "    return dup_list"
   ]
  },
  {
   "cell_type": "code",
   "execution_count": 5,
   "metadata": {
    "scrolled": true
   },
   "outputs": [
    {
     "name": "stdout",
     "output_type": "stream",
     "text": [
      "Первые пять строк: \n",
      "       id        f0        f1        f2     product\n",
      "0  txEyH  0.705745 -0.497823  1.221170  105.280062\n",
      "1  2acmU  1.334711 -0.340164  4.365080   73.037750\n",
      "2  409Wp  1.022732  0.151990  1.419926   85.265647\n",
      "3  iJLyR -0.032172  0.139033  2.978566  168.620776\n",
      "4  Xdl7t  1.988431  0.155413  4.751769  154.036647\n",
      "########################\n",
      "<class 'pandas.core.frame.DataFrame'>\n",
      "RangeIndex: 100000 entries, 0 to 99999\n",
      "Data columns (total 5 columns):\n",
      " #   Column   Non-Null Count   Dtype  \n",
      "---  ------   --------------   -----  \n",
      " 0   id       100000 non-null  object \n",
      " 1   f0       100000 non-null  float64\n",
      " 2   f1       100000 non-null  float64\n",
      " 3   f2       100000 non-null  float64\n",
      " 4   product  100000 non-null  float64\n",
      "dtypes: float64(4), object(1)\n",
      "memory usage: 3.8+ MB\n",
      "Информация о талице: \n",
      " None\n",
      "########################\n",
      "Количество пропусков в таблице: \n",
      " id         0\n",
      "f0         0\n",
      "f1         0\n",
      "f2         0\n",
      "product    0\n",
      "dtype: int64\n",
      "########################\n",
      "Количество дупликатов в таблице: \n",
      " 0\n",
      "########################\n",
      "Поиск неявных дупликатов: \n",
      " ['HZww2' 'bxg6G' 'A5aEY' 'QcMuo' '74z30' 'AGS9W' 'Tdehs' 'fiKDv' 'TtcGQ'\n",
      " 'bsk9y']\n",
      "########################\n",
      "Графики\n"
     ]
    },
    {
     "data": {
      "image/png": "[encoded data removed]",
      "text/plain": [
       "<Figure size 864x288 with 2 Axes>"
      ]
     },
     "metadata": {
      "needs_background": "light"
     },
     "output_type": "display_data"
    }
   ],
   "source": [
    "dup_1 = check(df1)"
   ]
  },
  {
   "cell_type": "code",
   "execution_count": 6,
   "metadata": {
    "scrolled": true
   },
   "outputs": [
    {
     "name": "stdout",
     "output_type": "stream",
     "text": [
      "Первые пять строк: \n",
      "       id         f0         f1        f2     product\n",
      "0  kBEdx -15.001348  -8.276000 -0.005876    3.179103\n",
      "1  62mP7  14.272088  -3.475083  0.999183   26.953261\n",
      "2  vyE1P   6.263187  -5.948386  5.001160  134.766305\n",
      "3  KcrkZ -13.081196 -11.506057  4.999415  137.945408\n",
      "4  AHL4O  12.702195  -8.147433  5.004363  134.766305\n",
      "########################\n",
      "<class 'pandas.core.frame.DataFrame'>\n",
      "RangeIndex: 100000 entries, 0 to 99999\n",
      "Data columns (total 5 columns):\n",
      " #   Column   Non-Null Count   Dtype  \n",
      "---  ------   --------------   -----  \n",
      " 0   id       100000 non-null  object \n",
      " 1   f0       100000 non-null  float64\n",
      " 2   f1       100000 non-null  float64\n",
      " 3   f2       100000 non-null  float64\n",
      " 4   product  100000 non-null  float64\n",
      "dtypes: float64(4), object(1)\n",
      "memory usage: 3.8+ MB\n",
      "Информация о талице: \n",
      " None\n",
      "########################\n",
      "Количество пропусков в таблице: \n",
      " id         0\n",
      "f0         0\n",
      "f1         0\n",
      "f2         0\n",
      "product    0\n",
      "dtype: int64\n",
      "########################\n",
      "Количество дупликатов в таблице: \n",
      " 0\n",
      "########################\n",
      "Поиск неявных дупликатов: \n",
      " ['LHZR0' 'bfPNe' 'wt4Uk' '5ltQ6']\n",
      "########################\n",
      "Графики\n"
     ]
    },
    {
     "data": {
      "image/png": "[encoded data removed]",
      "text/plain": [
       "<Figure size 864x288 with 2 Axes>"
      ]
     },
     "metadata": {
      "needs_background": "light"
     },
     "output_type": "display_data"
    }
   ],
   "source": [
    "dup_2 = check(df2)"
   ]
  },
  {
   "cell_type": "code",
   "execution_count": 7,
   "metadata": {
    "scrolled": true
   },
   "outputs": [
    {
     "name": "stdout",
     "output_type": "stream",
     "text": [
      "Первые пять строк: \n",
      "       id        f0        f1        f2     product\n",
      "0  fwXo0 -1.146987  0.963328 -0.828965   27.758673\n",
      "1  WJtFt  0.262778  0.269839 -2.530187   56.069697\n",
      "2  ovLUW  0.194587  0.289035 -5.586433   62.871910\n",
      "3  q6cA6  2.236060 -0.553760  0.930038  114.572842\n",
      "4  WPMUX -0.515993  1.716266  5.899011  149.600746\n",
      "########################\n",
      "<class 'pandas.core.frame.DataFrame'>\n",
      "RangeIndex: 100000 entries, 0 to 99999\n",
      "Data columns (total 5 columns):\n",
      " #   Column   Non-Null Count   Dtype  \n",
      "---  ------   --------------   -----  \n",
      " 0   id       100000 non-null  object \n",
      " 1   f0       100000 non-null  float64\n",
      " 2   f1       100000 non-null  float64\n",
      " 3   f2       100000 non-null  float64\n",
      " 4   product  100000 non-null  float64\n",
      "dtypes: float64(4), object(1)\n",
      "memory usage: 3.8+ MB\n",
      "Информация о талице: \n",
      " None\n",
      "########################\n",
      "Количество пропусков в таблице: \n",
      " id         0\n",
      "f0         0\n",
      "f1         0\n",
      "f2         0\n",
      "product    0\n",
      "dtype: int64\n",
      "########################\n",
      "Количество дупликатов в таблице: \n",
      " 0\n",
      "########################\n",
      "Поиск неявных дупликатов: \n",
      " ['xCHr8' 'VF7Jo' 'KUPhW' 'Vcm5J']\n",
      "########################\n",
      "Графики\n"
     ]
    },
    {
     "data": {
      "image/png": "[encoded data removed]",
      "text/plain": [
       "<Figure size 864x288 with 2 Axes>"
      ]
     },
     "metadata": {
      "needs_background": "light"
     },
     "output_type": "display_data"
    }
   ],
   "source": [
    "dup_3 = check(df3)"
   ]
  },
  {
   "cell_type": "markdown",
   "metadata": {},
   "source": [
    "### Вывод"
   ]
  },
  {
   "cell_type": "markdown",
   "metadata": {},
   "source": [
    "Пропусков нет, явных дупликатов нет, есть дупликаты в столбце id, но неизвестно, какой именно нужно убрать. Из графика распределения объёма по второй таблице видно, что много пустых скважин и много заполненных скважин, скорее всего, добыча там больше не осуществляется"
   ]
  },
  {
   "cell_type": "markdown",
   "metadata": {},
   "source": [
    "## Обучение и проверка модели"
   ]
  },
  {
   "cell_type": "markdown",
   "metadata": {},
   "source": [
    "В данных отсутсвуют пропуски. Удалим из каждого датафрейма столбец id. Он не несет значимости для для модели"
   ]
  },
  {
   "cell_type": "code",
   "execution_count": 8,
   "metadata": {},
   "outputs": [],
   "source": [
    "data1 = df1.drop(['id'], axis=1)\n",
    "data2 = df2.drop(['id'], axis=1)\n",
    "data3 = df3.drop(['id'], axis=1)"
   ]
  },
  {
   "cell_type": "code",
   "execution_count": 9,
   "metadata": {},
   "outputs": [
    {
     "data": {
      "image/png": "[encoded data removed]",
      "text/plain": [
       "<Figure size 864x288 with 2 Axes>"
      ]
     },
     "metadata": {
      "needs_background": "light"
     },
     "output_type": "display_data"
    },
    {
     "data": {
      "image/png": "[encoded data removed]",
      "text/plain": [
       "<Figure size 864x288 with 2 Axes>"
      ]
     },
     "metadata": {
      "needs_background": "light"
     },
     "output_type": "display_data"
    },
    {
     "data": {
      "image/png": "[encoded data removed]",
      "text/plain": [
       "<Figure size 864x288 with 2 Axes>"
      ]
     },
     "metadata": {
      "needs_background": "light"
     },
     "output_type": "display_data"
    }
   ],
   "source": [
    "#Карта корреляций\n",
    "for i in [df1,df2,df3]:\n",
    "    plt.figure(figsize=(12, 4))\n",
    "\n",
    "    plt.subplot(1, 1, 1) \n",
    "    sns.heatmap(i.corr(), annot = True);"
   ]
  },
  {
   "cell_type": "code",
   "execution_count": 10,
   "metadata": {},
   "outputs": [],
   "source": [
    "#Функция берет на вход датасет.Оставляет только нужные признаки,Делит df на train и test, шкалирует, обучает линейную модель,\n",
    "#Возвращает tuple с предсказаниями, labelы, RMSE\n",
    "def split_and_train(data):\n",
    " \n",
    "    features = data.drop(\"product\", axis=1)\n",
    "    target = data[\"product\"]\n",
    "    features_train, features_valid, target_train, target_valid = train_test_split(features, \n",
    "                                                                                  target, \n",
    "                                                                                  test_size=0.25, \n",
    "                                                                                  random_state=12345)\n",
    "    scaler = MinMaxScaler()\n",
    "    features_train = scaler.fit_transform(features_train)\n",
    "    features_valid = scaler.transform(features_valid)\n",
    "    \n",
    "    lr = LinearRegression(normalize=False)\n",
    "    lr.fit(features_train, target_train)\n",
    "    predictions = lr.predict(features_valid)\n",
    "    predictions = pd.Series(predictions)\n",
    "    rmse = (mean_squared_error(predictions, target_valid))**(0.5)\n",
    "    average_product = sum(predictions) / len(predictions)\n",
    "    \n",
    "    print(\"RMSE: {0:.2f}\".format(rmse))\n",
    "    print(\"Average product: {0:.2f}\".format(average_product))\n",
    "    \n",
    "    return (predictions, target_valid.reset_index(drop=True), rmse, average_product)"
   ]
  },
  {
   "cell_type": "code",
   "execution_count": 11,
   "metadata": {},
   "outputs": [
    {
     "name": "stdout",
     "output_type": "stream",
     "text": [
      "RMSE: 37.58\n",
      "Average product: 92.59\n",
      "RMSE: 0.89\n",
      "Average product: 68.73\n",
      "RMSE: 40.03\n",
      "Average product: 94.97\n"
     ]
    }
   ],
   "source": [
    "predictions_1, target_1, rmse_1, avg_1 = split_and_train(data1)\n",
    "predictions_2, target_2, rmse_2, avg_2 = split_and_train(data2)\n",
    "predictions_3, target_3, rmse_3, avg_3 = split_and_train(data3)"
   ]
  },
  {
   "cell_type": "markdown",
   "metadata": {},
   "source": [
    "### Вывод"
   ]
  },
  {
   "cell_type": "markdown",
   "metadata": {},
   "source": [
    "В третьем регионе средний запас сырья и RMSE выше, чем в остальных. С точки зрения ошибки прогноза привлекательнее второй регион"
   ]
  },
  {
   "cell_type": "markdown",
   "metadata": {},
   "source": [
    "## Подготовка к расчёту прибыли"
   ]
  },
  {
   "cell_type": "code",
   "execution_count": 12,
   "metadata": {},
   "outputs": [
    {
     "name": "stdout",
     "output_type": "stream",
     "text": [
      "Достаточный объём для безубыточной разработки новой скважины: 111.11111111111111\n"
     ]
    }
   ],
   "source": [
    "volume = MONEY/COUNT/REVENUE\n",
    "print('Достаточный объём для безубыточной разработки новой скважины:', volume)"
   ]
  },
  {
   "cell_type": "markdown",
   "metadata": {},
   "source": [
    "### Вывод"
   ]
  },
  {
   "cell_type": "markdown",
   "metadata": {},
   "source": [
    "Средний объём скважен в регионах меньше, чем достаточный объём для безубыточности"
   ]
  },
  {
   "cell_type": "markdown",
   "metadata": {},
   "source": [
    "## Расчёт прибыли и рисков "
   ]
  },
  {
   "cell_type": "code",
   "execution_count": 13,
   "metadata": {},
   "outputs": [],
   "source": [
    "#функция для расчёта прибыли по выбранным скважинам и предсказаниям модели\n",
    "def revenue(target, probabilities, count):\n",
    "    # Выберите скважины с максимальными значениями предсказаний.\n",
    "    probs_sorted = probabilities.sort_values(ascending=False)\n",
    "    selected = target[probs_sorted.index][:count]\n",
    "    return REVENUE * selected.sum() - MONEY"
   ]
  },
  {
   "cell_type": "code",
   "execution_count": 14,
   "metadata": {},
   "outputs": [],
   "source": [
    "region = ['Первый регион', 'Второй регион', 'Третий регион']\n",
    "def riskfunc(tgt, pred, num):\n",
    "    values = []\n",
    "    for j in range(1000):\n",
    "        target_subsample = tgt.sample(n = 500, replace = True, random_state = STATE)\n",
    "        probs_subsample = pred.loc[target_subsample.index]\n",
    "\n",
    "        values.append(revenue(target_subsample, probs_subsample, COUNT))\n",
    "\n",
    "    values = pd.Series(values)\n",
    "    lower = values.quantile(0.025)\n",
    "    upper = values.quantile(0.975)\n",
    "    risk = values[values < 0].count()/values.count()*100\n",
    "    mean = values.mean()\n",
    "    print(region[num])\n",
    "    print(\"Средняя выручка:\", round(mean/10**6, 2), 'млн.руб')\n",
    "    print(\"Доверительный интервал от:\", round(lower/10**6, 2),'млн.руб.', 'до:', round(upper/10**6, 2),'млн.руб')\n",
    "    print(\"Риск:\", round(risk, 2), '%')"
   ]
  },
  {
   "cell_type": "code",
   "execution_count": 15,
   "metadata": {},
   "outputs": [
    {
     "name": "stdout",
     "output_type": "stream",
     "text": [
      "Первый регион\n",
      "Средняя выручка: 425.94 млн.руб\n",
      "Доверительный интервал от: -102.09 млн.руб. до: 947.98 млн.руб\n",
      "Риск: 6.0 %\n"
     ]
    }
   ],
   "source": [
    "riskfunc(target_1, predictions_1, 0)"
   ]
  },
  {
   "cell_type": "code",
   "execution_count": 16,
   "metadata": {
    "scrolled": true
   },
   "outputs": [
    {
     "name": "stdout",
     "output_type": "stream",
     "text": [
      "Второй регион\n",
      "Средняя выручка: 518.26 млн.руб\n",
      "Доверительный интервал от: 128.12 млн.руб. до: 953.61 млн.руб\n",
      "Риск: 0.3 %\n"
     ]
    }
   ],
   "source": [
    "riskfunc(target_2, predictions_2, 1)"
   ]
  },
  {
   "cell_type": "code",
   "execution_count": 17,
   "metadata": {
    "scrolled": false
   },
   "outputs": [
    {
     "name": "stdout",
     "output_type": "stream",
     "text": [
      "Третий регион\n",
      "Средняя выручка: 420.19 млн.руб\n",
      "Доверительный интервал от: -115.85 млн.руб. до: 989.63 млн.руб\n",
      "Риск: 6.2 %\n"
     ]
    }
   ],
   "source": [
    "riskfunc(target_3, predictions_3, 2)"
   ]
  },
  {
   "cell_type": "markdown",
   "metadata": {},
   "source": [
    "### Вывод"
   ]
  },
  {
   "cell_type": "markdown",
   "metadata": {},
   "source": [
    "- Самая высокая средняя выручка во втором регионе\n",
    "- Самый низкий процент риска во втором регионе\n",
    "- Самый низкий риск убытка у второго региона - 0.3%\n",
    "- Самый высокий риск, самый большой интервал, самая низкая средняя выручка в третьем регионе"
   ]
  },
  {
   "cell_type": "markdown",
   "metadata": {},
   "source": [
    "## Вывод"
   ]
  },
  {
   "cell_type": "markdown",
   "metadata": {},
   "source": [
    "- В третьем регионе средний запас сырья и RMSE выше, чем в остальных\n",
    "- С точки зрения ошибки прогноза привлекательнее второй регион\n",
    "- Средний прогнозируемый объём скважен в регионах меньше, чем достаточный объём для безубыточности\n",
    "- Самая высокая средняя выручка во втором регионе\n",
    "- Самый низкий риск убытка у второго региона - 0.3%\n",
    "- Самый высокий риск, самый большой интервал, самая низкая средняя выручка в третьем регионе\n",
    "- Регион для разработки месторождения - второй регион"
   ]
  }
 ],
 "metadata": {
  "ExecuteTimeLog": [
   {
    "duration": 1467,
    "start_time": "2022-07-23T12:01:40.368Z"
   },
   {
    "duration": 746,
    "start_time": "2022-07-23T12:02:41.764Z"
   },
   {
    "duration": 14,
    "start_time": "2022-07-23T12:02:54.983Z"
   },
   {
    "duration": 2,
    "start_time": "2022-07-23T12:05:18.737Z"
   },
   {
    "duration": 11,
    "start_time": "2022-07-23T12:05:35.876Z"
   },
   {
    "duration": 34,
    "start_time": "2022-07-23T12:05:50.035Z"
   },
   {
    "duration": 18,
    "start_time": "2022-07-23T12:06:40.458Z"
   },
   {
    "duration": 114,
    "start_time": "2022-07-23T12:07:04.775Z"
   },
   {
    "duration": 10,
    "start_time": "2022-07-23T12:07:31.977Z"
   },
   {
    "duration": 31,
    "start_time": "2022-07-23T12:07:39.575Z"
   },
   {
    "duration": 20,
    "start_time": "2022-07-23T12:07:40.700Z"
   },
   {
    "duration": 118,
    "start_time": "2022-07-23T12:07:42.411Z"
   },
   {
    "duration": 4,
    "start_time": "2022-07-23T12:31:50.789Z"
   },
   {
    "duration": 11,
    "start_time": "2022-07-23T12:31:56.149Z"
   },
   {
    "duration": 9,
    "start_time": "2022-07-23T12:32:36.366Z"
   },
   {
    "duration": 39,
    "start_time": "2022-07-23T12:35:01.839Z"
   },
   {
    "duration": 106,
    "start_time": "2022-07-23T12:38:37.469Z"
   },
   {
    "duration": 21,
    "start_time": "2022-07-23T12:41:51.138Z"
   },
   {
    "duration": 16,
    "start_time": "2022-07-23T12:43:15.400Z"
   },
   {
    "duration": 10,
    "start_time": "2022-07-23T12:43:27.981Z"
   },
   {
    "duration": 18,
    "start_time": "2022-07-23T12:43:43.099Z"
   },
   {
    "duration": 15,
    "start_time": "2022-07-23T12:45:01.284Z"
   },
   {
    "duration": 5,
    "start_time": "2022-07-23T12:45:05.488Z"
   },
   {
    "duration": 14,
    "start_time": "2022-07-23T12:48:04.283Z"
   },
   {
    "duration": 18,
    "start_time": "2022-07-23T13:15:16.216Z"
   },
   {
    "duration": 12,
    "start_time": "2022-07-23T13:15:17.099Z"
   },
   {
    "duration": 3,
    "start_time": "2022-07-23T13:15:41.043Z"
   },
   {
    "duration": 22,
    "start_time": "2022-07-23T13:16:23.371Z"
   },
   {
    "duration": 14,
    "start_time": "2022-07-23T13:17:11.335Z"
   },
   {
    "duration": 5,
    "start_time": "2022-07-23T13:17:48.927Z"
   },
   {
    "duration": 35,
    "start_time": "2022-07-23T13:17:49.855Z"
   },
   {
    "duration": 4,
    "start_time": "2022-07-23T13:19:09.192Z"
   },
   {
    "duration": 57,
    "start_time": "2022-07-23T13:22:02.792Z"
   },
   {
    "duration": 1647,
    "start_time": "2022-07-23T13:28:53.809Z"
   },
   {
    "duration": 394,
    "start_time": "2022-07-23T13:28:55.457Z"
   },
   {
    "duration": 3,
    "start_time": "2022-07-23T13:28:55.853Z"
   },
   {
    "duration": 18,
    "start_time": "2022-07-23T13:28:55.858Z"
   },
   {
    "duration": 61,
    "start_time": "2022-07-23T13:28:55.878Z"
   },
   {
    "duration": 30,
    "start_time": "2022-07-23T13:28:55.941Z"
   },
   {
    "duration": 159,
    "start_time": "2022-07-23T13:28:55.973Z"
   },
   {
    "duration": 14,
    "start_time": "2022-07-23T13:28:56.137Z"
   },
   {
    "duration": 6,
    "start_time": "2022-07-23T13:28:56.153Z"
   },
   {
    "duration": 6,
    "start_time": "2022-07-23T13:28:56.161Z"
   },
   {
    "duration": 138,
    "start_time": "2022-07-23T13:28:56.168Z"
   },
   {
    "duration": 1460,
    "start_time": "2022-07-23T13:29:18.595Z"
   },
   {
    "duration": 405,
    "start_time": "2022-07-23T13:29:20.057Z"
   },
   {
    "duration": 4,
    "start_time": "2022-07-23T13:29:20.468Z"
   },
   {
    "duration": 24,
    "start_time": "2022-07-23T13:29:20.475Z"
   },
   {
    "duration": 67,
    "start_time": "2022-07-23T13:29:20.502Z"
   },
   {
    "duration": 20,
    "start_time": "2022-07-23T13:29:20.570Z"
   },
   {
    "duration": 169,
    "start_time": "2022-07-23T13:29:20.591Z"
   },
   {
    "duration": 13,
    "start_time": "2022-07-23T13:29:20.762Z"
   },
   {
    "duration": 8,
    "start_time": "2022-07-23T13:29:20.777Z"
   },
   {
    "duration": 6,
    "start_time": "2022-07-23T13:29:20.787Z"
   },
   {
    "duration": 233,
    "start_time": "2022-07-23T13:29:20.795Z"
   },
   {
    "duration": 5,
    "start_time": "2022-07-23T13:30:42.640Z"
   },
   {
    "duration": 28,
    "start_time": "2022-07-23T13:30:43.389Z"
   },
   {
    "duration": 6,
    "start_time": "2022-07-23T13:30:54.978Z"
   },
   {
    "duration": 97,
    "start_time": "2022-07-23T13:31:01.950Z"
   },
   {
    "duration": 157,
    "start_time": "2022-07-23T13:31:21.786Z"
   },
   {
    "duration": 56,
    "start_time": "2022-07-23T13:32:21.451Z"
   },
   {
    "duration": 1398,
    "start_time": "2022-07-23T13:32:29.844Z"
   },
   {
    "duration": 375,
    "start_time": "2022-07-23T13:32:31.244Z"
   },
   {
    "duration": 3,
    "start_time": "2022-07-23T13:32:31.620Z"
   },
   {
    "duration": 18,
    "start_time": "2022-07-23T13:32:31.625Z"
   },
   {
    "duration": 34,
    "start_time": "2022-07-23T13:32:31.645Z"
   },
   {
    "duration": 45,
    "start_time": "2022-07-23T13:32:31.681Z"
   },
   {
    "duration": 146,
    "start_time": "2022-07-23T13:32:31.728Z"
   },
   {
    "duration": 12,
    "start_time": "2022-07-23T13:32:31.876Z"
   },
   {
    "duration": 7,
    "start_time": "2022-07-23T13:32:31.890Z"
   },
   {
    "duration": 178,
    "start_time": "2022-07-23T13:32:31.898Z"
   },
   {
    "duration": 61,
    "start_time": "2022-07-23T13:33:16.413Z"
   },
   {
    "duration": 76,
    "start_time": "2022-07-23T13:33:36.649Z"
   },
   {
    "duration": 410,
    "start_time": "2022-07-23T13:34:26.222Z"
   },
   {
    "duration": 43,
    "start_time": "2022-07-23T13:36:42.982Z"
   },
   {
    "duration": 31,
    "start_time": "2022-07-23T13:37:01.793Z"
   },
   {
    "duration": 32,
    "start_time": "2022-07-23T13:37:16.942Z"
   },
   {
    "duration": 6,
    "start_time": "2022-07-23T13:37:36.370Z"
   },
   {
    "duration": 6,
    "start_time": "2022-07-23T13:37:44.257Z"
   },
   {
    "duration": 4,
    "start_time": "2022-07-23T13:37:51.157Z"
   },
   {
    "duration": 56,
    "start_time": "2022-07-23T13:38:06.974Z"
   },
   {
    "duration": 5,
    "start_time": "2022-07-23T13:38:08.381Z"
   },
   {
    "duration": 6,
    "start_time": "2022-07-23T13:38:13.131Z"
   },
   {
    "duration": 6,
    "start_time": "2022-07-23T13:38:25.554Z"
   },
   {
    "duration": 10,
    "start_time": "2022-07-23T13:38:32.141Z"
   },
   {
    "duration": 70,
    "start_time": "2022-07-23T13:38:35.254Z"
   },
   {
    "duration": 6,
    "start_time": "2022-07-23T13:38:36.273Z"
   },
   {
    "duration": 5,
    "start_time": "2022-07-23T13:38:39.185Z"
   },
   {
    "duration": 109,
    "start_time": "2022-07-23T13:38:44.723Z"
   },
   {
    "duration": 124,
    "start_time": "2022-07-23T13:38:59.609Z"
   },
   {
    "duration": 85,
    "start_time": "2022-07-23T13:39:11.546Z"
   },
   {
    "duration": 5,
    "start_time": "2022-07-23T13:39:13.803Z"
   },
   {
    "duration": 35,
    "start_time": "2022-07-23T13:39:14.644Z"
   },
   {
    "duration": 4,
    "start_time": "2022-07-23T13:39:17.222Z"
   },
   {
    "duration": 8,
    "start_time": "2022-07-23T13:39:19.677Z"
   },
   {
    "duration": 33,
    "start_time": "2022-07-23T13:39:25.197Z"
   },
   {
    "duration": 5,
    "start_time": "2022-07-23T13:39:26.205Z"
   },
   {
    "duration": 40,
    "start_time": "2022-07-23T13:40:32.793Z"
   },
   {
    "duration": 127,
    "start_time": "2022-07-23T13:43:40.497Z"
   },
   {
    "duration": 356,
    "start_time": "2022-07-23T13:44:24.382Z"
   },
   {
    "duration": 5,
    "start_time": "2022-07-23T13:44:27.981Z"
   },
   {
    "duration": 64,
    "start_time": "2022-07-23T13:44:42.078Z"
   },
   {
    "duration": 9,
    "start_time": "2022-07-23T13:44:50.602Z"
   },
   {
    "duration": 4,
    "start_time": "2022-07-23T13:45:03.423Z"
   },
   {
    "duration": 50,
    "start_time": "2022-07-23T13:45:22.142Z"
   },
   {
    "duration": 5,
    "start_time": "2022-07-23T13:45:25.642Z"
   },
   {
    "duration": 5,
    "start_time": "2022-07-23T13:45:51.144Z"
   },
   {
    "duration": 4,
    "start_time": "2022-07-23T14:00:12.901Z"
   },
   {
    "duration": 4,
    "start_time": "2022-07-23T14:00:17.723Z"
   },
   {
    "duration": 4,
    "start_time": "2022-07-23T14:01:22.099Z"
   },
   {
    "duration": 4,
    "start_time": "2022-07-23T14:01:26.350Z"
   },
   {
    "duration": 4,
    "start_time": "2022-07-23T14:01:52.386Z"
   },
   {
    "duration": 3,
    "start_time": "2022-07-23T14:02:20.996Z"
   },
   {
    "duration": 7,
    "start_time": "2022-07-23T14:06:23.402Z"
   },
   {
    "duration": 8,
    "start_time": "2022-07-23T14:06:32.174Z"
   },
   {
    "duration": 16,
    "start_time": "2022-07-23T14:10:06.082Z"
   },
   {
    "duration": 9,
    "start_time": "2022-07-23T14:10:12.374Z"
   },
   {
    "duration": 21,
    "start_time": "2022-07-23T14:12:56.210Z"
   },
   {
    "duration": 8,
    "start_time": "2022-07-23T14:13:10.658Z"
   },
   {
    "duration": 960,
    "start_time": "2022-07-23T14:17:12.579Z"
   },
   {
    "duration": 1094,
    "start_time": "2022-07-23T14:17:21.383Z"
   },
   {
    "duration": 48,
    "start_time": "2022-07-23T14:17:27.471Z"
   },
   {
    "duration": 16,
    "start_time": "2022-07-23T14:17:38.810Z"
   },
   {
    "duration": 5,
    "start_time": "2022-07-23T14:17:44.267Z"
   },
   {
    "duration": 19,
    "start_time": "2022-07-23T14:17:53.747Z"
   },
   {
    "duration": 19,
    "start_time": "2022-07-23T14:18:06.587Z"
   },
   {
    "duration": 9,
    "start_time": "2022-07-23T14:18:13.245Z"
   },
   {
    "duration": 10,
    "start_time": "2022-07-23T14:18:16.883Z"
   },
   {
    "duration": 9,
    "start_time": "2022-07-23T14:18:28.790Z"
   },
   {
    "duration": 8,
    "start_time": "2022-07-23T14:18:36.083Z"
   },
   {
    "duration": 9,
    "start_time": "2022-07-23T14:19:24.008Z"
   },
   {
    "duration": 5,
    "start_time": "2022-07-23T14:19:26.883Z"
   },
   {
    "duration": 13,
    "start_time": "2022-07-23T14:19:37.142Z"
   },
   {
    "duration": 10,
    "start_time": "2022-07-23T14:20:18.359Z"
   },
   {
    "duration": 11,
    "start_time": "2022-07-23T14:20:25.844Z"
   },
   {
    "duration": 9,
    "start_time": "2022-07-23T14:20:37.360Z"
   },
   {
    "duration": 9,
    "start_time": "2022-07-23T14:20:51.367Z"
   },
   {
    "duration": 11,
    "start_time": "2022-07-23T14:21:53.955Z"
   },
   {
    "duration": 9,
    "start_time": "2022-07-23T14:22:07.506Z"
   },
   {
    "duration": 11,
    "start_time": "2022-07-23T14:22:13.151Z"
   },
   {
    "duration": 37,
    "start_time": "2022-07-23T14:22:26.072Z"
   },
   {
    "duration": 12,
    "start_time": "2022-07-23T14:22:59.345Z"
   },
   {
    "duration": 9,
    "start_time": "2022-07-23T14:24:05.100Z"
   },
   {
    "duration": 11,
    "start_time": "2022-07-23T14:24:10.611Z"
   },
   {
    "duration": 11,
    "start_time": "2022-07-23T14:24:23.555Z"
   },
   {
    "duration": 7,
    "start_time": "2022-07-23T14:24:28.099Z"
   },
   {
    "duration": 6,
    "start_time": "2022-07-23T14:24:30.879Z"
   },
   {
    "duration": 11,
    "start_time": "2022-07-23T14:24:34.053Z"
   },
   {
    "duration": 7,
    "start_time": "2022-07-23T14:24:35.563Z"
   },
   {
    "duration": 4,
    "start_time": "2022-07-23T15:06:58.504Z"
   },
   {
    "duration": 4,
    "start_time": "2022-07-23T15:07:13.721Z"
   },
   {
    "duration": 4,
    "start_time": "2022-07-23T15:08:03.863Z"
   },
   {
    "duration": 3,
    "start_time": "2022-07-23T15:10:00.497Z"
   },
   {
    "duration": 18,
    "start_time": "2022-07-23T15:11:17.219Z"
   },
   {
    "duration": 4,
    "start_time": "2022-07-23T15:12:31.347Z"
   },
   {
    "duration": 11,
    "start_time": "2022-07-23T15:12:31.791Z"
   },
   {
    "duration": 4,
    "start_time": "2022-07-23T15:20:43.769Z"
   },
   {
    "duration": 11,
    "start_time": "2022-07-23T15:20:45.600Z"
   },
   {
    "duration": 8,
    "start_time": "2022-07-23T15:20:54.467Z"
   },
   {
    "duration": 9,
    "start_time": "2022-07-23T15:21:11.818Z"
   },
   {
    "duration": 14,
    "start_time": "2022-07-23T15:21:12.769Z"
   },
   {
    "duration": 12,
    "start_time": "2022-07-23T15:24:14.161Z"
   },
   {
    "duration": 3,
    "start_time": "2022-07-23T15:24:17.296Z"
   },
   {
    "duration": 13,
    "start_time": "2022-07-23T15:24:18.893Z"
   },
   {
    "duration": 100,
    "start_time": "2022-07-23T23:01:39.894Z"
   },
   {
    "duration": 11,
    "start_time": "2022-07-23T23:01:47.116Z"
   },
   {
    "duration": 3,
    "start_time": "2022-07-23T23:02:07.967Z"
   },
   {
    "duration": 3,
    "start_time": "2022-07-23T23:02:17.915Z"
   },
   {
    "duration": 3,
    "start_time": "2022-07-23T23:02:25.979Z"
   },
   {
    "duration": 9,
    "start_time": "2022-07-23T23:02:28.175Z"
   },
   {
    "duration": 9,
    "start_time": "2022-07-23T23:02:28.734Z"
   },
   {
    "duration": 9,
    "start_time": "2022-07-23T23:02:29.191Z"
   },
   {
    "duration": 12,
    "start_time": "2022-07-23T23:02:30.595Z"
   },
   {
    "duration": 3911,
    "start_time": "2022-07-23T23:06:58.760Z"
   },
   {
    "duration": 12,
    "start_time": "2022-07-23T23:18:16.192Z"
   },
   {
    "duration": 3706,
    "start_time": "2022-07-23T23:18:43.343Z"
   },
   {
    "duration": 110,
    "start_time": "2022-07-24T22:42:13.082Z"
   },
   {
    "duration": 1207,
    "start_time": "2022-07-24T23:03:49.123Z"
   },
   {
    "duration": 825,
    "start_time": "2022-07-24T23:03:50.332Z"
   },
   {
    "duration": 2,
    "start_time": "2022-07-24T23:03:51.159Z"
   },
   {
    "duration": 19,
    "start_time": "2022-07-24T23:03:51.163Z"
   },
   {
    "duration": 36,
    "start_time": "2022-07-24T23:03:51.183Z"
   },
   {
    "duration": 28,
    "start_time": "2022-07-24T23:03:51.220Z"
   },
   {
    "duration": 141,
    "start_time": "2022-07-24T23:03:51.250Z"
   },
   {
    "duration": 13,
    "start_time": "2022-07-24T23:03:51.393Z"
   },
   {
    "duration": 6,
    "start_time": "2022-07-24T23:03:51.407Z"
   },
   {
    "duration": 530,
    "start_time": "2022-07-24T23:03:51.415Z"
   },
   {
    "duration": 7,
    "start_time": "2022-07-24T23:03:51.948Z"
   },
   {
    "duration": 107,
    "start_time": "2022-07-24T23:03:51.957Z"
   },
   {
    "duration": 114,
    "start_time": "2022-07-24T23:03:52.066Z"
   },
   {
    "duration": 0,
    "start_time": "2022-07-24T23:03:52.182Z"
   },
   {
    "duration": 0,
    "start_time": "2022-07-24T23:03:52.183Z"
   },
   {
    "duration": 0,
    "start_time": "2022-07-24T23:03:52.185Z"
   },
   {
    "duration": 0,
    "start_time": "2022-07-24T23:03:52.186Z"
   },
   {
    "duration": 0,
    "start_time": "2022-07-24T23:03:52.187Z"
   },
   {
    "duration": 8,
    "start_time": "2022-07-24T23:10:59.811Z"
   },
   {
    "duration": 5,
    "start_time": "2022-07-24T23:11:09.485Z"
   },
   {
    "duration": 4,
    "start_time": "2022-07-24T23:11:25.788Z"
   },
   {
    "duration": 13,
    "start_time": "2022-07-24T23:12:36.167Z"
   },
   {
    "duration": 4,
    "start_time": "2022-07-24T23:17:40.539Z"
   },
   {
    "duration": 3,
    "start_time": "2022-07-24T23:17:56.864Z"
   },
   {
    "duration": 3,
    "start_time": "2022-07-24T23:18:03.651Z"
   },
   {
    "duration": 1179,
    "start_time": "2022-07-24T23:18:10.476Z"
   },
   {
    "duration": 368,
    "start_time": "2022-07-24T23:18:11.657Z"
   },
   {
    "duration": 3,
    "start_time": "2022-07-24T23:18:12.028Z"
   },
   {
    "duration": 18,
    "start_time": "2022-07-24T23:18:12.033Z"
   },
   {
    "duration": 39,
    "start_time": "2022-07-24T23:18:12.053Z"
   },
   {
    "duration": 23,
    "start_time": "2022-07-24T23:18:12.094Z"
   },
   {
    "duration": 153,
    "start_time": "2022-07-24T23:18:12.119Z"
   },
   {
    "duration": 13,
    "start_time": "2022-07-24T23:18:12.274Z"
   },
   {
    "duration": 6,
    "start_time": "2022-07-24T23:18:12.289Z"
   },
   {
    "duration": 367,
    "start_time": "2022-07-24T23:18:12.298Z"
   },
   {
    "duration": 84,
    "start_time": "2022-07-24T23:18:12.667Z"
   },
   {
    "duration": 99,
    "start_time": "2022-07-24T23:18:12.754Z"
   },
   {
    "duration": 12,
    "start_time": "2022-07-24T23:18:12.854Z"
   },
   {
    "duration": 7,
    "start_time": "2022-07-24T23:18:12.868Z"
   },
   {
    "duration": 11,
    "start_time": "2022-07-24T23:18:12.877Z"
   },
   {
    "duration": 8,
    "start_time": "2022-07-24T23:18:12.889Z"
   },
   {
    "duration": 7,
    "start_time": "2022-07-24T23:18:12.898Z"
   },
   {
    "duration": 3688,
    "start_time": "2022-07-24T23:18:12.907Z"
   },
   {
    "duration": 103,
    "start_time": "2022-07-24T23:18:22.686Z"
   },
   {
    "duration": 80,
    "start_time": "2022-07-24T23:18:51.937Z"
   },
   {
    "duration": 1291,
    "start_time": "2022-07-24T23:22:58.554Z"
   },
   {
    "duration": 395,
    "start_time": "2022-07-24T23:22:59.847Z"
   },
   {
    "duration": 3,
    "start_time": "2022-07-24T23:23:00.244Z"
   },
   {
    "duration": 19,
    "start_time": "2022-07-24T23:23:00.249Z"
   },
   {
    "duration": 38,
    "start_time": "2022-07-24T23:23:00.270Z"
   },
   {
    "duration": 36,
    "start_time": "2022-07-24T23:23:00.310Z"
   },
   {
    "duration": 140,
    "start_time": "2022-07-24T23:23:00.348Z"
   },
   {
    "duration": 12,
    "start_time": "2022-07-24T23:23:00.490Z"
   },
   {
    "duration": 18,
    "start_time": "2022-07-24T23:23:00.504Z"
   },
   {
    "duration": 438,
    "start_time": "2022-07-24T23:23:00.524Z"
   },
   {
    "duration": 10,
    "start_time": "2022-07-24T23:23:01.045Z"
   },
   {
    "duration": 18,
    "start_time": "2022-07-24T23:23:01.146Z"
   },
   {
    "duration": 102,
    "start_time": "2022-07-24T23:23:01.166Z"
   },
   {
    "duration": 0,
    "start_time": "2022-07-24T23:23:01.270Z"
   },
   {
    "duration": 0,
    "start_time": "2022-07-24T23:23:01.271Z"
   },
   {
    "duration": 0,
    "start_time": "2022-07-24T23:23:01.272Z"
   },
   {
    "duration": 0,
    "start_time": "2022-07-24T23:23:01.273Z"
   },
   {
    "duration": 0,
    "start_time": "2022-07-24T23:23:01.274Z"
   },
   {
    "duration": 1223,
    "start_time": "2022-07-24T23:23:13.404Z"
   },
   {
    "duration": 363,
    "start_time": "2022-07-24T23:23:14.628Z"
   },
   {
    "duration": 3,
    "start_time": "2022-07-24T23:23:14.992Z"
   },
   {
    "duration": 27,
    "start_time": "2022-07-24T23:23:14.997Z"
   },
   {
    "duration": 34,
    "start_time": "2022-07-24T23:23:15.025Z"
   },
   {
    "duration": 20,
    "start_time": "2022-07-24T23:23:15.061Z"
   },
   {
    "duration": 135,
    "start_time": "2022-07-24T23:23:15.083Z"
   },
   {
    "duration": 13,
    "start_time": "2022-07-24T23:23:15.219Z"
   },
   {
    "duration": 13,
    "start_time": "2022-07-24T23:23:15.234Z"
   },
   {
    "duration": 422,
    "start_time": "2022-07-24T23:23:15.248Z"
   },
   {
    "duration": 7,
    "start_time": "2022-07-24T23:23:15.745Z"
   },
   {
    "duration": 98,
    "start_time": "2022-07-24T23:23:15.754Z"
   },
   {
    "duration": 6,
    "start_time": "2022-07-24T23:23:15.854Z"
   },
   {
    "duration": 7,
    "start_time": "2022-07-24T23:23:15.861Z"
   },
   {
    "duration": 9,
    "start_time": "2022-07-24T23:23:15.870Z"
   },
   {
    "duration": 7,
    "start_time": "2022-07-24T23:23:15.881Z"
   },
   {
    "duration": 7,
    "start_time": "2022-07-24T23:23:15.890Z"
   },
   {
    "duration": 3597,
    "start_time": "2022-07-24T23:23:15.899Z"
   },
   {
    "duration": 14,
    "start_time": "2022-07-24T23:28:28.857Z"
   },
   {
    "duration": 7,
    "start_time": "2022-07-24T23:28:38.869Z"
   },
   {
    "duration": 34,
    "start_time": "2022-07-24T23:29:26.339Z"
   },
   {
    "duration": 5,
    "start_time": "2022-07-24T23:29:30.112Z"
   },
   {
    "duration": 4,
    "start_time": "2022-07-24T23:29:36.169Z"
   },
   {
    "duration": 5,
    "start_time": "2022-07-24T23:30:25.036Z"
   },
   {
    "duration": 7,
    "start_time": "2022-07-24T23:38:38.857Z"
   },
   {
    "duration": 3,
    "start_time": "2022-07-24T23:38:47.714Z"
   },
   {
    "duration": 7,
    "start_time": "2022-07-24T23:38:56.505Z"
   },
   {
    "duration": 6,
    "start_time": "2022-07-24T23:39:24.396Z"
   },
   {
    "duration": 5,
    "start_time": "2022-07-24T23:39:29.150Z"
   },
   {
    "duration": 6,
    "start_time": "2022-07-24T23:39:34.701Z"
   },
   {
    "duration": 5,
    "start_time": "2022-07-24T23:39:39.864Z"
   },
   {
    "duration": 5,
    "start_time": "2022-07-24T23:39:44.454Z"
   },
   {
    "duration": 3653,
    "start_time": "2022-07-24T23:40:58.369Z"
   },
   {
    "duration": 3569,
    "start_time": "2022-07-24T23:41:06.997Z"
   },
   {
    "duration": 3544,
    "start_time": "2022-07-24T23:41:18.391Z"
   },
   {
    "duration": 1208,
    "start_time": "2022-07-24T23:50:45.622Z"
   },
   {
    "duration": 366,
    "start_time": "2022-07-24T23:50:46.831Z"
   },
   {
    "duration": 3,
    "start_time": "2022-07-24T23:50:47.198Z"
   },
   {
    "duration": 15,
    "start_time": "2022-07-24T23:50:47.203Z"
   },
   {
    "duration": 48,
    "start_time": "2022-07-24T23:50:47.219Z"
   },
   {
    "duration": 19,
    "start_time": "2022-07-24T23:50:47.269Z"
   },
   {
    "duration": 133,
    "start_time": "2022-07-24T23:50:47.289Z"
   },
   {
    "duration": 22,
    "start_time": "2022-07-24T23:50:47.423Z"
   },
   {
    "duration": 5,
    "start_time": "2022-07-24T23:50:47.447Z"
   },
   {
    "duration": 400,
    "start_time": "2022-07-24T23:50:47.454Z"
   },
   {
    "duration": 94,
    "start_time": "2022-07-24T23:50:47.855Z"
   },
   {
    "duration": 101,
    "start_time": "2022-07-24T23:50:47.951Z"
   },
   {
    "duration": 93,
    "start_time": "2022-07-24T23:50:48.053Z"
   },
   {
    "duration": 0,
    "start_time": "2022-07-24T23:50:48.148Z"
   },
   {
    "duration": 0,
    "start_time": "2022-07-24T23:50:48.149Z"
   },
   {
    "duration": 0,
    "start_time": "2022-07-24T23:50:48.151Z"
   },
   {
    "duration": 0,
    "start_time": "2022-07-24T23:50:48.152Z"
   },
   {
    "duration": 0,
    "start_time": "2022-07-24T23:50:48.153Z"
   },
   {
    "duration": 57,
    "start_time": "2022-07-25T08:35:35.689Z"
   },
   {
    "duration": 1105,
    "start_time": "2022-07-25T08:35:43.046Z"
   },
   {
    "duration": 1019,
    "start_time": "2022-07-25T08:35:44.549Z"
   },
   {
    "duration": 3,
    "start_time": "2022-07-25T08:35:45.570Z"
   },
   {
    "duration": 17,
    "start_time": "2022-07-25T08:35:46.352Z"
   },
   {
    "duration": 41,
    "start_time": "2022-07-25T08:35:49.798Z"
   },
   {
    "duration": 20,
    "start_time": "2022-07-25T08:35:55.044Z"
   },
   {
    "duration": 136,
    "start_time": "2022-07-25T08:35:58.145Z"
   },
   {
    "duration": 94,
    "start_time": "2022-07-25T08:36:00.921Z"
   },
   {
    "duration": 34,
    "start_time": "2022-07-25T08:37:09.025Z"
   },
   {
    "duration": 21,
    "start_time": "2022-07-25T08:37:13.770Z"
   },
   {
    "duration": 1105,
    "start_time": "2022-07-25T08:37:19.160Z"
   },
   {
    "duration": 20,
    "start_time": "2022-07-25T08:37:29.595Z"
   },
   {
    "duration": 78,
    "start_time": "2022-07-25T08:37:59.509Z"
   },
   {
    "duration": 3,
    "start_time": "2022-07-25T08:40:33.138Z"
   },
   {
    "duration": 140,
    "start_time": "2022-07-25T08:40:42.223Z"
   },
   {
    "duration": 4,
    "start_time": "2022-07-25T08:42:11.647Z"
   },
   {
    "duration": 145,
    "start_time": "2022-07-25T08:42:12.660Z"
   },
   {
    "duration": 4,
    "start_time": "2022-07-25T08:42:42.209Z"
   },
   {
    "duration": 225,
    "start_time": "2022-07-25T08:42:43.050Z"
   },
   {
    "duration": 6,
    "start_time": "2022-07-25T08:42:53.196Z"
   },
   {
    "duration": 4,
    "start_time": "2022-07-25T08:43:01.535Z"
   },
   {
    "duration": 4,
    "start_time": "2022-07-25T08:43:23.232Z"
   },
   {
    "duration": 136,
    "start_time": "2022-07-25T08:43:23.879Z"
   },
   {
    "duration": 11,
    "start_time": "2022-07-25T08:44:28.950Z"
   },
   {
    "duration": 115,
    "start_time": "2022-07-25T08:44:32.502Z"
   },
   {
    "duration": 156,
    "start_time": "2022-07-25T08:44:36.533Z"
   },
   {
    "duration": 212,
    "start_time": "2022-07-25T08:44:46.660Z"
   },
   {
    "duration": 233,
    "start_time": "2022-07-25T08:45:02.016Z"
   },
   {
    "duration": 10,
    "start_time": "2022-07-25T08:45:14.464Z"
   },
   {
    "duration": 13617,
    "start_time": "2022-07-25T08:45:17.641Z"
   },
   {
    "duration": 120,
    "start_time": "2022-07-25T08:48:04.882Z"
   },
   {
    "duration": 218,
    "start_time": "2022-07-25T08:48:19.841Z"
   },
   {
    "duration": 99,
    "start_time": "2022-07-25T08:48:36.646Z"
   },
   {
    "duration": 39,
    "start_time": "2022-07-25T08:48:39.266Z"
   },
   {
    "duration": 7,
    "start_time": "2022-07-25T08:49:21.397Z"
   },
   {
    "duration": 8,
    "start_time": "2022-07-25T08:49:26.712Z"
   },
   {
    "duration": 10,
    "start_time": "2022-07-25T08:49:34.897Z"
   },
   {
    "duration": 253,
    "start_time": "2022-07-25T08:50:30.715Z"
   },
   {
    "duration": 119,
    "start_time": "2022-07-25T09:13:50.141Z"
   },
   {
    "duration": 7,
    "start_time": "2022-07-25T09:13:52.435Z"
   },
   {
    "duration": 13,
    "start_time": "2022-07-25T09:21:15.340Z"
   },
   {
    "duration": 60,
    "start_time": "2022-07-25T09:21:59.355Z"
   },
   {
    "duration": 111,
    "start_time": "2022-07-25T09:22:03.654Z"
   },
   {
    "duration": 114,
    "start_time": "2022-07-25T09:22:10.162Z"
   },
   {
    "duration": 67,
    "start_time": "2022-07-25T09:22:17.624Z"
   },
   {
    "duration": 66,
    "start_time": "2022-07-25T09:22:44.203Z"
   },
   {
    "duration": 51,
    "start_time": "2022-07-25T09:24:50.362Z"
   },
   {
    "duration": 8,
    "start_time": "2022-07-25T09:25:00.466Z"
   },
   {
    "duration": 20,
    "start_time": "2022-07-25T09:25:06.626Z"
   },
   {
    "duration": 6,
    "start_time": "2022-07-25T09:28:11.901Z"
   },
   {
    "duration": 10304,
    "start_time": "2022-07-25T09:28:17.921Z"
   },
   {
    "duration": 11,
    "start_time": "2022-07-25T09:30:05.377Z"
   },
   {
    "duration": 142,
    "start_time": "2022-07-25T09:30:09.329Z"
   },
   {
    "duration": 112,
    "start_time": "2022-07-25T09:30:16.117Z"
   },
   {
    "duration": 104,
    "start_time": "2022-07-25T09:30:26.297Z"
   },
   {
    "duration": 127,
    "start_time": "2022-07-25T09:30:58.931Z"
   },
   {
    "duration": 108,
    "start_time": "2022-07-25T09:31:02.034Z"
   },
   {
    "duration": 5,
    "start_time": "2022-07-25T09:32:08.314Z"
   },
   {
    "duration": 5,
    "start_time": "2022-07-25T09:32:20.409Z"
   },
   {
    "duration": 99,
    "start_time": "2022-07-25T09:32:33.097Z"
   },
   {
    "duration": 50,
    "start_time": "2022-07-25T09:32:39.366Z"
   },
   {
    "duration": 87,
    "start_time": "2022-07-25T09:32:42.954Z"
   },
   {
    "duration": 91,
    "start_time": "2022-07-25T09:33:20.908Z"
   },
   {
    "duration": 117,
    "start_time": "2022-07-25T09:33:33.146Z"
   },
   {
    "duration": 13059,
    "start_time": "2022-07-25T09:36:05.114Z"
   },
   {
    "duration": 777,
    "start_time": "2022-07-25T09:36:39.786Z"
   },
   {
    "duration": 121,
    "start_time": "2022-07-25T09:36:43.363Z"
   },
   {
    "duration": 132,
    "start_time": "2022-07-25T09:37:05.771Z"
   },
   {
    "duration": 88,
    "start_time": "2022-07-25T09:37:55.085Z"
   },
   {
    "duration": 146,
    "start_time": "2022-07-25T09:42:35.427Z"
   },
   {
    "duration": 124,
    "start_time": "2022-07-25T09:43:31.301Z"
   },
   {
    "duration": 127,
    "start_time": "2022-07-25T09:43:55.984Z"
   },
   {
    "duration": 70,
    "start_time": "2022-07-25T09:44:04.047Z"
   },
   {
    "duration": 65,
    "start_time": "2022-07-25T09:44:23.246Z"
   },
   {
    "duration": 6,
    "start_time": "2022-07-25T09:44:28.211Z"
   },
   {
    "duration": 84,
    "start_time": "2022-07-25T09:45:02.399Z"
   },
   {
    "duration": 4,
    "start_time": "2022-07-25T09:45:03.249Z"
   },
   {
    "duration": 5,
    "start_time": "2022-07-25T09:45:20.101Z"
   },
   {
    "duration": 13,
    "start_time": "2022-07-25T09:45:25.615Z"
   },
   {
    "duration": 4,
    "start_time": "2022-07-25T09:45:36.150Z"
   },
   {
    "duration": 36,
    "start_time": "2022-07-25T09:46:56.546Z"
   },
   {
    "duration": 28,
    "start_time": "2022-07-25T09:49:54.366Z"
   },
   {
    "duration": 41,
    "start_time": "2022-07-25T09:50:17.534Z"
   },
   {
    "duration": 57,
    "start_time": "2022-07-25T09:50:41.485Z"
   },
   {
    "duration": 11222,
    "start_time": "2022-07-25T09:51:37.950Z"
   },
   {
    "duration": 3,
    "start_time": "2022-07-25T09:53:19.152Z"
   },
   {
    "duration": 71007,
    "start_time": "2022-07-25T09:53:20.117Z"
   },
   {
    "duration": 41,
    "start_time": "2022-07-25T09:58:22.430Z"
   },
   {
    "duration": 26,
    "start_time": "2022-07-25T09:58:42.510Z"
   },
   {
    "duration": 27,
    "start_time": "2022-07-25T09:58:47.622Z"
   },
   {
    "duration": 201,
    "start_time": "2022-07-25T09:59:57.477Z"
   },
   {
    "duration": 5,
    "start_time": "2022-07-25T10:00:05.023Z"
   },
   {
    "duration": 126,
    "start_time": "2022-07-25T10:00:07.914Z"
   },
   {
    "duration": 138,
    "start_time": "2022-07-25T10:00:18.620Z"
   },
   {
    "duration": 5,
    "start_time": "2022-07-25T10:02:00.705Z"
   },
   {
    "duration": 127,
    "start_time": "2022-07-25T10:02:03.058Z"
   },
   {
    "duration": 126,
    "start_time": "2022-07-25T10:02:05.187Z"
   },
   {
    "duration": 7,
    "start_time": "2022-07-25T10:03:17.792Z"
   },
   {
    "duration": 155,
    "start_time": "2022-07-25T10:03:18.298Z"
   },
   {
    "duration": 151,
    "start_time": "2022-07-25T10:03:21.030Z"
   },
   {
    "duration": 137,
    "start_time": "2022-07-25T10:03:29.473Z"
   },
   {
    "duration": 8,
    "start_time": "2022-07-25T10:03:37.751Z"
   },
   {
    "duration": 9,
    "start_time": "2022-07-25T10:04:13.929Z"
   },
   {
    "duration": 94,
    "start_time": "2022-07-25T10:04:14.442Z"
   },
   {
    "duration": 101,
    "start_time": "2022-07-25T10:04:19.699Z"
   },
   {
    "duration": 107,
    "start_time": "2022-07-25T10:04:23.157Z"
   },
   {
    "duration": 9,
    "start_time": "2022-07-25T10:04:25.000Z"
   },
   {
    "duration": 6,
    "start_time": "2022-07-25T10:04:31.583Z"
   },
   {
    "duration": 1134,
    "start_time": "2022-07-25T10:04:45.365Z"
   },
   {
    "duration": 523,
    "start_time": "2022-07-25T10:04:46.502Z"
   },
   {
    "duration": 4,
    "start_time": "2022-07-25T10:04:47.026Z"
   },
   {
    "duration": 17,
    "start_time": "2022-07-25T10:04:47.032Z"
   },
   {
    "duration": 78,
    "start_time": "2022-07-25T10:04:47.052Z"
   },
   {
    "duration": 22,
    "start_time": "2022-07-25T10:04:47.132Z"
   },
   {
    "duration": 237,
    "start_time": "2022-07-25T10:04:47.156Z"
   },
   {
    "duration": 7,
    "start_time": "2022-07-25T10:04:47.395Z"
   },
   {
    "duration": 136,
    "start_time": "2022-07-25T10:04:47.404Z"
   },
   {
    "duration": 119,
    "start_time": "2022-07-25T10:04:47.543Z"
   },
   {
    "duration": 132,
    "start_time": "2022-07-25T10:04:47.664Z"
   },
   {
    "duration": 11,
    "start_time": "2022-07-25T10:04:47.798Z"
   },
   {
    "duration": 32,
    "start_time": "2022-07-25T10:04:47.811Z"
   },
   {
    "duration": 10,
    "start_time": "2022-07-25T10:04:47.845Z"
   },
   {
    "duration": 474,
    "start_time": "2022-07-25T10:04:47.857Z"
   },
   {
    "duration": 89,
    "start_time": "2022-07-25T10:04:48.333Z"
   },
   {
    "duration": 4,
    "start_time": "2022-07-25T10:04:48.425Z"
   },
   {
    "duration": 147,
    "start_time": "2022-07-25T10:04:48.432Z"
   },
   {
    "duration": 0,
    "start_time": "2022-07-25T10:04:48.581Z"
   },
   {
    "duration": 0,
    "start_time": "2022-07-25T10:04:48.582Z"
   },
   {
    "duration": 0,
    "start_time": "2022-07-25T10:04:48.584Z"
   },
   {
    "duration": 0,
    "start_time": "2022-07-25T10:04:48.585Z"
   },
   {
    "duration": 0,
    "start_time": "2022-07-25T10:04:48.586Z"
   },
   {
    "duration": 13,
    "start_time": "2022-07-25T10:05:13.279Z"
   },
   {
    "duration": 9,
    "start_time": "2022-07-25T10:05:18.318Z"
   },
   {
    "duration": 5,
    "start_time": "2022-07-25T10:05:30.134Z"
   },
   {
    "duration": 5,
    "start_time": "2022-07-25T10:06:02.670Z"
   },
   {
    "duration": 7,
    "start_time": "2022-07-25T10:06:06.187Z"
   },
   {
    "duration": 13,
    "start_time": "2022-07-25T10:06:07.986Z"
   },
   {
    "duration": 6,
    "start_time": "2022-07-25T10:06:11.466Z"
   },
   {
    "duration": 13,
    "start_time": "2022-07-25T10:06:40.294Z"
   },
   {
    "duration": 18,
    "start_time": "2022-07-25T10:06:44.989Z"
   },
   {
    "duration": 5,
    "start_time": "2022-07-25T10:07:07.235Z"
   },
   {
    "duration": 157,
    "start_time": "2022-07-25T10:07:07.732Z"
   },
   {
    "duration": 108,
    "start_time": "2022-07-25T10:07:08.547Z"
   },
   {
    "duration": 127,
    "start_time": "2022-07-25T10:07:09.005Z"
   },
   {
    "duration": 5,
    "start_time": "2022-07-25T10:07:15.566Z"
   },
   {
    "duration": 10,
    "start_time": "2022-07-25T10:07:32.092Z"
   },
   {
    "duration": 6,
    "start_time": "2022-07-25T10:07:42.527Z"
   },
   {
    "duration": 8,
    "start_time": "2022-07-25T10:07:51.849Z"
   },
   {
    "duration": 5,
    "start_time": "2022-07-25T10:08:13.027Z"
   },
   {
    "duration": 146,
    "start_time": "2022-07-25T10:08:13.573Z"
   },
   {
    "duration": 97,
    "start_time": "2022-07-25T10:08:13.946Z"
   },
   {
    "duration": 145,
    "start_time": "2022-07-25T10:08:14.350Z"
   },
   {
    "duration": 5,
    "start_time": "2022-07-25T10:08:22.631Z"
   },
   {
    "duration": 6,
    "start_time": "2022-07-25T10:09:01.732Z"
   },
   {
    "duration": 91,
    "start_time": "2022-07-25T10:09:02.311Z"
   },
   {
    "duration": 101,
    "start_time": "2022-07-25T10:09:02.684Z"
   },
   {
    "duration": 101,
    "start_time": "2022-07-25T10:09:03.285Z"
   },
   {
    "duration": 5,
    "start_time": "2022-07-25T10:09:06.081Z"
   },
   {
    "duration": 5,
    "start_time": "2022-07-25T10:10:14.207Z"
   },
   {
    "duration": 113,
    "start_time": "2022-07-25T10:10:14.994Z"
   },
   {
    "duration": 126,
    "start_time": "2022-07-25T10:10:26.630Z"
   },
   {
    "duration": 159,
    "start_time": "2022-07-25T10:10:42.970Z"
   },
   {
    "duration": 4,
    "start_time": "2022-07-25T10:10:52.706Z"
   },
   {
    "duration": 130,
    "start_time": "2022-07-25T10:11:04.006Z"
   },
   {
    "duration": 102,
    "start_time": "2022-07-25T10:11:09.542Z"
   },
   {
    "duration": 21,
    "start_time": "2022-07-25T10:12:43.082Z"
   },
   {
    "duration": 39,
    "start_time": "2022-07-25T10:14:49.299Z"
   },
   {
    "duration": 72,
    "start_time": "2022-07-25T10:16:41.877Z"
   },
   {
    "duration": 1078,
    "start_time": "2022-07-25T10:16:46.669Z"
   },
   {
    "duration": 432,
    "start_time": "2022-07-25T10:16:47.750Z"
   },
   {
    "duration": 4,
    "start_time": "2022-07-25T10:16:48.185Z"
   },
   {
    "duration": 51,
    "start_time": "2022-07-25T10:16:48.192Z"
   },
   {
    "duration": 53,
    "start_time": "2022-07-25T10:16:48.246Z"
   },
   {
    "duration": 29,
    "start_time": "2022-07-25T10:16:48.301Z"
   },
   {
    "duration": 219,
    "start_time": "2022-07-25T10:16:48.333Z"
   },
   {
    "duration": 5,
    "start_time": "2022-07-25T10:16:48.554Z"
   },
   {
    "duration": 118,
    "start_time": "2022-07-25T10:16:48.561Z"
   },
   {
    "duration": 158,
    "start_time": "2022-07-25T10:16:48.683Z"
   },
   {
    "duration": 158,
    "start_time": "2022-07-25T10:16:48.843Z"
   },
   {
    "duration": 12,
    "start_time": "2022-07-25T10:16:49.003Z"
   },
   {
    "duration": 51,
    "start_time": "2022-07-25T10:16:49.025Z"
   },
   {
    "duration": 41,
    "start_time": "2022-07-25T10:16:49.078Z"
   },
   {
    "duration": 402,
    "start_time": "2022-07-25T10:16:49.122Z"
   },
   {
    "duration": 12,
    "start_time": "2022-07-25T10:16:49.527Z"
   },
   {
    "duration": 87,
    "start_time": "2022-07-25T10:16:49.543Z"
   },
   {
    "duration": 93,
    "start_time": "2022-07-25T10:16:49.632Z"
   },
   {
    "duration": 0,
    "start_time": "2022-07-25T10:16:49.726Z"
   },
   {
    "duration": 0,
    "start_time": "2022-07-25T10:16:49.728Z"
   },
   {
    "duration": 0,
    "start_time": "2022-07-25T10:16:49.729Z"
   },
   {
    "duration": 0,
    "start_time": "2022-07-25T10:16:49.731Z"
   },
   {
    "duration": 0,
    "start_time": "2022-07-25T10:16:49.732Z"
   },
   {
    "duration": 7,
    "start_time": "2022-07-25T10:17:05.413Z"
   },
   {
    "duration": 384,
    "start_time": "2022-07-25T10:17:12.914Z"
   },
   {
    "duration": 408,
    "start_time": "2022-07-25T10:17:19.201Z"
   },
   {
    "duration": 20,
    "start_time": "2022-07-25T10:17:44.304Z"
   },
   {
    "duration": 97,
    "start_time": "2022-07-25T10:17:52.873Z"
   },
   {
    "duration": 30,
    "start_time": "2022-07-25T10:19:01.207Z"
   },
   {
    "duration": 146,
    "start_time": "2022-07-25T10:19:11.688Z"
   },
   {
    "duration": 1289,
    "start_time": "2022-07-25T10:20:19.485Z"
   },
   {
    "duration": 142,
    "start_time": "2022-07-25T10:20:30.234Z"
   },
   {
    "duration": 788,
    "start_time": "2022-07-25T10:22:13.437Z"
   },
   {
    "duration": 210,
    "start_time": "2022-07-25T10:22:26.561Z"
   },
   {
    "duration": 6,
    "start_time": "2022-07-25T10:23:16.217Z"
   },
   {
    "duration": 251,
    "start_time": "2022-07-25T10:23:16.617Z"
   },
   {
    "duration": 7,
    "start_time": "2022-07-25T10:23:54.834Z"
   },
   {
    "duration": 328,
    "start_time": "2022-07-25T10:23:55.515Z"
   },
   {
    "duration": 271,
    "start_time": "2022-07-25T10:24:01.221Z"
   },
   {
    "duration": 469,
    "start_time": "2022-07-25T10:24:11.869Z"
   },
   {
    "duration": 7,
    "start_time": "2022-07-25T10:30:06.338Z"
   },
   {
    "duration": 291,
    "start_time": "2022-07-25T10:30:06.949Z"
   },
   {
    "duration": 336,
    "start_time": "2022-07-25T10:30:15.923Z"
   },
   {
    "duration": 264,
    "start_time": "2022-07-25T10:30:31.461Z"
   },
   {
    "duration": 287,
    "start_time": "2022-07-25T10:30:49.684Z"
   },
   {
    "duration": 6,
    "start_time": "2022-07-25T10:32:44.853Z"
   },
   {
    "duration": 339,
    "start_time": "2022-07-25T10:32:45.831Z"
   },
   {
    "duration": 4,
    "start_time": "2022-07-25T10:33:14.349Z"
   },
   {
    "duration": 297,
    "start_time": "2022-07-25T10:33:20.060Z"
   },
   {
    "duration": 78,
    "start_time": "2022-07-25T10:34:25.475Z"
   },
   {
    "duration": 52,
    "start_time": "2022-07-25T10:34:46.505Z"
   },
   {
    "duration": 18,
    "start_time": "2022-07-25T10:34:49.785Z"
   },
   {
    "duration": 11,
    "start_time": "2022-07-25T10:34:54.481Z"
   },
   {
    "duration": 5104,
    "start_time": "2022-07-25T10:34:58.259Z"
   },
   {
    "duration": 6,
    "start_time": "2022-07-25T10:36:13.821Z"
   },
   {
    "duration": 9,
    "start_time": "2022-07-25T10:36:20.908Z"
   },
   {
    "duration": 7,
    "start_time": "2022-07-25T10:36:27.412Z"
   },
   {
    "duration": 253,
    "start_time": "2022-07-25T11:03:01.107Z"
   },
   {
    "duration": 283,
    "start_time": "2022-07-25T11:03:22.808Z"
   },
   {
    "duration": 253,
    "start_time": "2022-07-25T11:03:25.555Z"
   },
   {
    "duration": 405,
    "start_time": "2022-07-25T11:03:33.272Z"
   },
   {
    "duration": 301,
    "start_time": "2022-07-25T11:03:59.048Z"
   },
   {
    "duration": 236,
    "start_time": "2022-07-25T11:04:20.111Z"
   },
   {
    "duration": 75,
    "start_time": "2022-07-25T11:09:20.354Z"
   },
   {
    "duration": 262,
    "start_time": "2022-07-25T11:09:28.958Z"
   },
   {
    "duration": 72,
    "start_time": "2022-07-25T11:12:45.483Z"
   },
   {
    "duration": 224,
    "start_time": "2022-07-25T11:12:49.995Z"
   },
   {
    "duration": 233,
    "start_time": "2022-07-25T11:12:55.684Z"
   },
   {
    "duration": 247,
    "start_time": "2022-07-25T11:13:35.791Z"
   },
   {
    "duration": 292,
    "start_time": "2022-07-25T11:15:45.069Z"
   },
   {
    "duration": 309,
    "start_time": "2022-07-25T11:16:21.658Z"
   },
   {
    "duration": 461,
    "start_time": "2022-07-25T11:17:00.879Z"
   },
   {
    "duration": 387,
    "start_time": "2022-07-25T11:17:34.754Z"
   },
   {
    "duration": 350,
    "start_time": "2022-07-25T11:18:01.011Z"
   },
   {
    "duration": 427,
    "start_time": "2022-07-25T11:18:44.845Z"
   },
   {
    "duration": 474,
    "start_time": "2022-07-25T11:20:57.845Z"
   },
   {
    "duration": 5,
    "start_time": "2022-07-25T11:22:33.160Z"
   },
   {
    "duration": 356,
    "start_time": "2022-07-25T11:22:34.309Z"
   },
   {
    "duration": 512,
    "start_time": "2022-07-25T11:22:45.418Z"
   },
   {
    "duration": 363,
    "start_time": "2022-07-25T11:22:51.606Z"
   },
   {
    "duration": 220,
    "start_time": "2022-07-25T11:23:55.877Z"
   },
   {
    "duration": 557,
    "start_time": "2022-07-25T11:24:00.019Z"
   },
   {
    "duration": 376,
    "start_time": "2022-07-25T11:24:06.495Z"
   },
   {
    "duration": 343,
    "start_time": "2022-07-25T11:24:11.750Z"
   },
   {
    "duration": 323,
    "start_time": "2022-07-25T11:24:18.909Z"
   },
   {
    "duration": 310,
    "start_time": "2022-07-25T11:24:25.119Z"
   },
   {
    "duration": 194,
    "start_time": "2022-07-25T11:24:59.252Z"
   },
   {
    "duration": 419,
    "start_time": "2022-07-25T11:24:59.994Z"
   },
   {
    "duration": 478,
    "start_time": "2022-07-25T11:25:09.559Z"
   },
   {
    "duration": 450,
    "start_time": "2022-07-25T11:25:13.343Z"
   },
   {
    "duration": 5,
    "start_time": "2022-07-25T11:29:53.187Z"
   },
   {
    "duration": 24,
    "start_time": "2022-07-25T11:30:21.234Z"
   },
   {
    "duration": 14,
    "start_time": "2022-07-25T11:30:36.350Z"
   },
   {
    "duration": 6,
    "start_time": "2022-07-25T11:30:41.549Z"
   },
   {
    "duration": 5,
    "start_time": "2022-07-25T11:31:21.366Z"
   },
   {
    "duration": 9,
    "start_time": "2022-07-25T12:40:06.375Z"
   },
   {
    "duration": 5,
    "start_time": "2022-07-25T12:41:13.101Z"
   },
   {
    "duration": 5264,
    "start_time": "2022-07-25T12:43:55.589Z"
   },
   {
    "duration": 1965,
    "start_time": "2022-07-25T12:44:05.706Z"
   },
   {
    "duration": 469,
    "start_time": "2022-07-25T12:44:07.674Z"
   },
   {
    "duration": 6,
    "start_time": "2022-07-25T12:44:08.145Z"
   },
   {
    "duration": 37,
    "start_time": "2022-07-25T12:44:08.153Z"
   },
   {
    "duration": 53,
    "start_time": "2022-07-25T12:44:08.192Z"
   },
   {
    "duration": 33,
    "start_time": "2022-07-25T12:44:08.249Z"
   },
   {
    "duration": 209,
    "start_time": "2022-07-25T12:44:08.284Z"
   },
   {
    "duration": 9,
    "start_time": "2022-07-25T12:44:08.495Z"
   },
   {
    "duration": 578,
    "start_time": "2022-07-25T12:44:08.507Z"
   },
   {
    "duration": 604,
    "start_time": "2022-07-25T12:44:09.089Z"
   },
   {
    "duration": 723,
    "start_time": "2022-07-25T12:44:09.696Z"
   },
   {
    "duration": 5783,
    "start_time": "2022-07-25T12:44:10.421Z"
   },
   {
    "duration": 31,
    "start_time": "2022-07-25T12:44:16.207Z"
   },
   {
    "duration": 23,
    "start_time": "2022-07-25T12:44:16.241Z"
   },
   {
    "duration": 486,
    "start_time": "2022-07-25T12:44:16.266Z"
   },
   {
    "duration": 9,
    "start_time": "2022-07-25T12:44:16.757Z"
   },
   {
    "duration": 129,
    "start_time": "2022-07-25T12:44:16.829Z"
   },
   {
    "duration": 12,
    "start_time": "2022-07-25T12:44:16.961Z"
   },
   {
    "duration": 14,
    "start_time": "2022-07-25T12:44:16.975Z"
   },
   {
    "duration": 16,
    "start_time": "2022-07-25T12:44:16.992Z"
   },
   {
    "duration": 12,
    "start_time": "2022-07-25T12:44:17.010Z"
   },
   {
    "duration": 155,
    "start_time": "2022-07-25T12:44:17.031Z"
   },
   {
    "duration": 7,
    "start_time": "2022-07-25T12:45:05.046Z"
   },
   {
    "duration": 3,
    "start_time": "2022-07-25T12:45:18.588Z"
   },
   {
    "duration": 5152,
    "start_time": "2022-07-25T12:45:21.845Z"
   },
   {
    "duration": 13,
    "start_time": "2022-07-25T12:46:20.738Z"
   },
   {
    "duration": 8,
    "start_time": "2022-07-25T12:46:25.003Z"
   },
   {
    "duration": 5160,
    "start_time": "2022-07-25T12:47:32.508Z"
   },
   {
    "duration": 10,
    "start_time": "2022-07-25T12:49:10.113Z"
   },
   {
    "duration": 9,
    "start_time": "2022-07-25T12:49:21.102Z"
   },
   {
    "duration": 14,
    "start_time": "2022-07-25T12:49:41.456Z"
   },
   {
    "duration": 8,
    "start_time": "2022-07-25T12:49:47.573Z"
   },
   {
    "duration": 4,
    "start_time": "2022-07-25T12:50:01.648Z"
   },
   {
    "duration": 6,
    "start_time": "2022-07-25T12:52:18.301Z"
   },
   {
    "duration": 6,
    "start_time": "2022-07-25T12:55:08.184Z"
   },
   {
    "duration": 18,
    "start_time": "2022-07-25T12:55:18.161Z"
   },
   {
    "duration": 6,
    "start_time": "2022-07-25T12:55:34.247Z"
   },
   {
    "duration": 1816,
    "start_time": "2022-07-25T12:55:35.593Z"
   },
   {
    "duration": 4,
    "start_time": "2022-07-25T12:55:50.247Z"
   },
   {
    "duration": 23,
    "start_time": "2022-07-25T12:55:50.616Z"
   },
   {
    "duration": 11,
    "start_time": "2022-07-25T12:55:54.301Z"
   },
   {
    "duration": 5,
    "start_time": "2022-07-25T12:56:16.149Z"
   },
   {
    "duration": 25,
    "start_time": "2022-07-25T12:56:16.668Z"
   },
   {
    "duration": 6,
    "start_time": "2022-07-25T12:56:40.862Z"
   },
   {
    "duration": 1873,
    "start_time": "2022-07-25T12:56:41.900Z"
   },
   {
    "duration": 5,
    "start_time": "2022-07-25T12:57:02.744Z"
   },
   {
    "duration": 1629,
    "start_time": "2022-07-25T12:57:03.772Z"
   },
   {
    "duration": 1697,
    "start_time": "2022-07-25T12:57:29.862Z"
   },
   {
    "duration": 114,
    "start_time": "2022-07-25T13:01:07.486Z"
   },
   {
    "duration": 7,
    "start_time": "2022-07-25T13:01:11.377Z"
   },
   {
    "duration": 8,
    "start_time": "2022-07-25T13:01:38.709Z"
   },
   {
    "duration": 1768,
    "start_time": "2022-07-25T13:01:54.167Z"
   },
   {
    "duration": 2331,
    "start_time": "2022-07-25T13:02:16.008Z"
   },
   {
    "duration": 7,
    "start_time": "2022-07-25T13:02:26.458Z"
   },
   {
    "duration": 1964,
    "start_time": "2022-07-25T13:02:45.523Z"
   },
   {
    "duration": 2239,
    "start_time": "2022-07-25T13:02:50.363Z"
   },
   {
    "duration": 2034,
    "start_time": "2022-07-25T13:03:13.270Z"
   },
   {
    "duration": 9,
    "start_time": "2022-07-25T13:06:45.090Z"
   },
   {
    "duration": 1870,
    "start_time": "2022-07-25T13:06:45.568Z"
   },
   {
    "duration": 6,
    "start_time": "2022-07-25T13:08:00.408Z"
   },
   {
    "duration": 2018,
    "start_time": "2022-07-25T13:08:01.553Z"
   },
   {
    "duration": 6,
    "start_time": "2022-07-25T13:09:00.273Z"
   },
   {
    "duration": 2361,
    "start_time": "2022-07-25T13:09:01.770Z"
   },
   {
    "duration": 8,
    "start_time": "2022-07-25T13:09:29.787Z"
   },
   {
    "duration": 2017,
    "start_time": "2022-07-25T13:09:30.963Z"
   },
   {
    "duration": 9,
    "start_time": "2022-07-25T13:09:42.158Z"
   },
   {
    "duration": 2270,
    "start_time": "2022-07-25T13:09:42.863Z"
   },
   {
    "duration": 2166,
    "start_time": "2022-07-25T13:09:58.801Z"
   },
   {
    "duration": 9,
    "start_time": "2022-07-25T13:10:13.470Z"
   },
   {
    "duration": 2249,
    "start_time": "2022-07-25T13:10:13.866Z"
   },
   {
    "duration": 2139,
    "start_time": "2022-07-25T13:10:17.269Z"
   },
   {
    "duration": 2212,
    "start_time": "2022-07-25T13:10:21.551Z"
   },
   {
    "duration": 1801,
    "start_time": "2022-07-25T13:26:19.159Z"
   },
   {
    "duration": 593,
    "start_time": "2022-07-25T13:26:20.980Z"
   },
   {
    "duration": 4,
    "start_time": "2022-07-25T13:26:21.575Z"
   },
   {
    "duration": 40,
    "start_time": "2022-07-25T13:26:21.582Z"
   },
   {
    "duration": 72,
    "start_time": "2022-07-25T13:26:21.625Z"
   },
   {
    "duration": 52,
    "start_time": "2022-07-25T13:26:21.700Z"
   },
   {
    "duration": 189,
    "start_time": "2022-07-25T13:26:21.766Z"
   },
   {
    "duration": 10,
    "start_time": "2022-07-25T13:26:21.962Z"
   },
   {
    "duration": 624,
    "start_time": "2022-07-25T13:26:21.978Z"
   },
   {
    "duration": 500,
    "start_time": "2022-07-25T13:26:22.605Z"
   },
   {
    "duration": 711,
    "start_time": "2022-07-25T13:26:23.107Z"
   },
   {
    "duration": 6511,
    "start_time": "2022-07-25T13:26:23.827Z"
   },
   {
    "duration": 24,
    "start_time": "2022-07-25T13:26:30.343Z"
   },
   {
    "duration": 24,
    "start_time": "2022-07-25T13:26:30.369Z"
   },
   {
    "duration": 381,
    "start_time": "2022-07-25T13:26:30.396Z"
   },
   {
    "duration": 17,
    "start_time": "2022-07-25T13:26:30.825Z"
   },
   {
    "duration": 45,
    "start_time": "2022-07-25T13:26:30.862Z"
   },
   {
    "duration": 98,
    "start_time": "2022-07-25T13:26:30.910Z"
   },
   {
    "duration": 170,
    "start_time": "2022-07-25T13:26:31.010Z"
   },
   {
    "duration": 110,
    "start_time": "2022-07-25T13:26:31.183Z"
   },
   {
    "duration": 87,
    "start_time": "2022-07-25T13:26:31.295Z"
   },
   {
    "duration": 46,
    "start_time": "2022-07-25T13:26:31.384Z"
   },
   {
    "duration": 2125,
    "start_time": "2022-07-25T13:26:31.433Z"
   },
   {
    "duration": 1876,
    "start_time": "2022-07-25T13:26:33.560Z"
   },
   {
    "duration": 1809,
    "start_time": "2022-07-25T13:26:35.447Z"
   },
   {
    "duration": 1531,
    "start_time": "2022-07-25T13:30:12.947Z"
   },
   {
    "duration": 438,
    "start_time": "2022-07-25T13:30:14.481Z"
   },
   {
    "duration": 6,
    "start_time": "2022-07-25T13:30:14.922Z"
   },
   {
    "duration": 41,
    "start_time": "2022-07-25T13:30:14.930Z"
   },
   {
    "duration": 41,
    "start_time": "2022-07-25T13:30:14.975Z"
   },
   {
    "duration": 31,
    "start_time": "2022-07-25T13:30:15.018Z"
   },
   {
    "duration": 200,
    "start_time": "2022-07-25T13:30:15.052Z"
   },
   {
    "duration": 11,
    "start_time": "2022-07-25T13:30:15.254Z"
   },
   {
    "duration": 482,
    "start_time": "2022-07-25T13:30:15.267Z"
   },
   {
    "duration": 500,
    "start_time": "2022-07-25T13:30:15.752Z"
   },
   {
    "duration": 516,
    "start_time": "2022-07-25T13:30:16.255Z"
   },
   {
    "duration": 5641,
    "start_time": "2022-07-25T13:30:16.774Z"
   },
   {
    "duration": 21,
    "start_time": "2022-07-25T13:30:22.417Z"
   },
   {
    "duration": 14,
    "start_time": "2022-07-25T13:30:22.445Z"
   },
   {
    "duration": 381,
    "start_time": "2022-07-25T13:30:22.461Z"
   },
   {
    "duration": 74,
    "start_time": "2022-07-25T13:30:22.851Z"
   },
   {
    "duration": 44,
    "start_time": "2022-07-25T13:30:22.930Z"
   },
   {
    "duration": 37,
    "start_time": "2022-07-25T13:30:22.977Z"
   },
   {
    "duration": 30,
    "start_time": "2022-07-25T13:30:23.017Z"
   },
   {
    "duration": 11,
    "start_time": "2022-07-25T13:30:23.049Z"
   },
   {
    "duration": 8,
    "start_time": "2022-07-25T13:30:23.062Z"
   },
   {
    "duration": 11,
    "start_time": "2022-07-25T13:30:23.073Z"
   },
   {
    "duration": 1603,
    "start_time": "2022-07-25T13:30:23.085Z"
   },
   {
    "duration": 1653,
    "start_time": "2022-07-25T13:30:24.690Z"
   },
   {
    "duration": 1548,
    "start_time": "2022-07-25T13:30:26.346Z"
   },
   {
    "duration": 57,
    "start_time": "2022-07-25T16:06:07.975Z"
   },
   {
    "duration": 7,
    "start_time": "2022-07-25T16:11:08.199Z"
   },
   {
    "duration": 9,
    "start_time": "2022-07-25T16:11:08.771Z"
   },
   {
    "duration": 1593,
    "start_time": "2022-07-25T16:11:19.758Z"
   },
   {
    "duration": 4,
    "start_time": "2022-07-25T16:11:22.792Z"
   },
   {
    "duration": 1955,
    "start_time": "2022-07-25T16:11:23.168Z"
   },
   {
    "duration": 7,
    "start_time": "2022-07-25T16:11:29.597Z"
   },
   {
    "duration": 364,
    "start_time": "2022-07-25T16:11:30.844Z"
   },
   {
    "duration": 9,
    "start_time": "2022-07-25T16:11:56.086Z"
   },
   {
    "duration": 351,
    "start_time": "2022-07-25T16:11:57.077Z"
   },
   {
    "duration": 6,
    "start_time": "2022-07-25T16:12:19.993Z"
   },
   {
    "duration": 6,
    "start_time": "2022-07-25T16:12:33.779Z"
   },
   {
    "duration": 469,
    "start_time": "2022-07-25T16:12:34.410Z"
   },
   {
    "duration": 8,
    "start_time": "2022-07-25T16:13:09.143Z"
   },
   {
    "duration": 458,
    "start_time": "2022-07-25T16:13:09.579Z"
   },
   {
    "duration": 390,
    "start_time": "2022-07-25T16:13:13.884Z"
   },
   {
    "duration": 407,
    "start_time": "2022-07-25T16:13:18.593Z"
   },
   {
    "duration": 16,
    "start_time": "2022-07-25T16:13:33.271Z"
   },
   {
    "duration": 458,
    "start_time": "2022-07-25T16:13:34.590Z"
   },
   {
    "duration": 459,
    "start_time": "2022-07-25T16:13:35.050Z"
   },
   {
    "duration": 487,
    "start_time": "2022-07-25T16:13:35.512Z"
   },
   {
    "duration": 7,
    "start_time": "2022-07-25T16:14:16.212Z"
   },
   {
    "duration": 378,
    "start_time": "2022-07-25T16:14:17.379Z"
   },
   {
    "duration": 392,
    "start_time": "2022-07-25T16:14:20.144Z"
   },
   {
    "duration": 427,
    "start_time": "2022-07-25T16:14:22.197Z"
   },
   {
    "duration": 151,
    "start_time": "2022-07-25T16:16:23.629Z"
   },
   {
    "duration": 13,
    "start_time": "2022-07-25T16:16:47.766Z"
   },
   {
    "duration": 12,
    "start_time": "2022-07-25T16:18:20.285Z"
   },
   {
    "duration": 467,
    "start_time": "2022-07-25T16:18:26.280Z"
   },
   {
    "duration": 854,
    "start_time": "2022-07-25T16:20:30.979Z"
   },
   {
    "duration": 1100,
    "start_time": "2022-07-25T16:20:59.402Z"
   },
   {
    "duration": 976,
    "start_time": "2022-07-25T16:21:12.155Z"
   },
   {
    "duration": 1107,
    "start_time": "2022-07-25T16:21:18.994Z"
   },
   {
    "duration": 1082,
    "start_time": "2022-07-25T16:21:53.389Z"
   },
   {
    "duration": 1012,
    "start_time": "2022-07-25T16:21:56.263Z"
   },
   {
    "duration": 1438,
    "start_time": "2022-07-25T16:22:32.576Z"
   },
   {
    "duration": 3,
    "start_time": "2022-07-25T16:22:34.016Z"
   },
   {
    "duration": 382,
    "start_time": "2022-07-25T16:22:34.020Z"
   },
   {
    "duration": 6,
    "start_time": "2022-07-25T16:22:34.404Z"
   },
   {
    "duration": 431,
    "start_time": "2022-07-25T16:22:34.412Z"
   },
   {
    "duration": 438,
    "start_time": "2022-07-25T16:22:34.844Z"
   },
   {
    "duration": 460,
    "start_time": "2022-07-25T16:22:35.285Z"
   },
   {
    "duration": 23,
    "start_time": "2022-07-25T16:22:35.762Z"
   },
   {
    "duration": 1065,
    "start_time": "2022-07-25T16:22:35.787Z"
   },
   {
    "duration": 13,
    "start_time": "2022-07-25T16:22:36.855Z"
   },
   {
    "duration": 411,
    "start_time": "2022-07-25T16:22:36.875Z"
   },
   {
    "duration": 4,
    "start_time": "2022-07-25T16:22:37.360Z"
   },
   {
    "duration": 100,
    "start_time": "2022-07-25T16:22:37.367Z"
   },
   {
    "duration": 18,
    "start_time": "2022-07-25T16:22:37.470Z"
   },
   {
    "duration": 1603,
    "start_time": "2022-07-25T16:22:37.490Z"
   },
   {
    "duration": 1536,
    "start_time": "2022-07-25T16:22:39.095Z"
   },
   {
    "duration": 1455,
    "start_time": "2022-07-25T16:22:40.633Z"
   },
   {
    "duration": 1308,
    "start_time": "2022-07-25T16:26:12.839Z"
   },
   {
    "duration": 4,
    "start_time": "2022-07-25T16:26:14.148Z"
   },
   {
    "duration": 344,
    "start_time": "2022-07-25T16:26:14.154Z"
   },
   {
    "duration": 6,
    "start_time": "2022-07-25T16:26:14.500Z"
   },
   {
    "duration": 362,
    "start_time": "2022-07-25T16:26:14.507Z"
   },
   {
    "duration": 393,
    "start_time": "2022-07-25T16:26:14.871Z"
   },
   {
    "duration": 460,
    "start_time": "2022-07-25T16:26:15.266Z"
   },
   {
    "duration": 12,
    "start_time": "2022-07-25T16:26:15.728Z"
   },
   {
    "duration": 1030,
    "start_time": "2022-07-25T16:26:15.742Z"
   },
   {
    "duration": 6,
    "start_time": "2022-07-25T16:26:16.775Z"
   },
   {
    "duration": 376,
    "start_time": "2022-07-25T16:26:16.782Z"
   },
   {
    "duration": 9,
    "start_time": "2022-07-25T16:26:17.162Z"
   },
   {
    "duration": 93,
    "start_time": "2022-07-25T16:26:17.173Z"
   },
   {
    "duration": 10,
    "start_time": "2022-07-25T16:26:17.270Z"
   },
   {
    "duration": 1335,
    "start_time": "2022-07-25T16:26:17.282Z"
   },
   {
    "duration": 1394,
    "start_time": "2022-07-25T16:26:18.618Z"
   },
   {
    "duration": 1448,
    "start_time": "2022-07-25T16:26:20.014Z"
   }
  ],
  "kernelspec": {
   "display_name": "Python 3 (ipykernel)",
   "language": "python",
   "name": "python3"
  },
  "language_info": {
   "codemirror_mode": {
    "name": "ipython",
    "version": 3
   },
   "file_extension": ".py",
   "mimetype": "text/x-python",
   "name": "python",
   "nbconvert_exporter": "python",
   "pygments_lexer": "ipython3",
   "version": "3.9.5"
  },
  "toc": {
   "base_numbering": 1,
   "nav_menu": {
    "height": "215px",
    "width": "337px"
   },
   "number_sections": true,
   "sideBar": true,
   "skip_h1_title": true,
   "title_cell": "Содержание",
   "title_sidebar": "Contents",
   "toc_cell": true,
   "toc_position": {
    "height": "calc(100% - 180px)",
    "left": "10px",
    "top": "150px",
    "width": "261.67px"
   },
   "toc_section_display": true,
   "toc_window_display": true
  }
 },
 "nbformat": 4,
 "nbformat_minor": 2
}
