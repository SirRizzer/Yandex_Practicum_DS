{
 "cells": [
  {
   "cell_type": "markdown",
   "metadata": {
    "toc": true
   },
   "source": [
    "<h1>Содержание<span class=\"tocSkip\"></span></h1>\n",
    "<div class=\"toc\"><ul class=\"toc-item\"><li><span><a href=\"#Загрузка-данных\" data-toc-modified-id=\"Загрузка-данных-1\"><span class=\"toc-item-num\">1&nbsp;&nbsp;</span>Загрузка данных</a></span><ul class=\"toc-item\"><li><span><a href=\"#Вывод\" data-toc-modified-id=\"Вывод-1.1\"><span class=\"toc-item-num\">1.1&nbsp;&nbsp;</span>Вывод</a></span></li></ul></li><li><span><a href=\"#Умножение-матриц\" data-toc-modified-id=\"Умножение-матриц-2\"><span class=\"toc-item-num\">2&nbsp;&nbsp;</span>Умножение матриц</a></span><ul class=\"toc-item\"><li><span><a href=\"#Вывод\" data-toc-modified-id=\"Вывод-2.1\"><span class=\"toc-item-num\">2.1&nbsp;&nbsp;</span>Вывод</a></span></li></ul></li><li><span><a href=\"#Алгоритм-преобразования\" data-toc-modified-id=\"Алгоритм-преобразования-3\"><span class=\"toc-item-num\">3&nbsp;&nbsp;</span>Алгоритм преобразования</a></span><ul class=\"toc-item\"><li><span><a href=\"#Вывод\" data-toc-modified-id=\"Вывод-3.1\"><span class=\"toc-item-num\">3.1&nbsp;&nbsp;</span>Вывод</a></span></li></ul></li><li><span><a href=\"#Проверка-алгоритма\" data-toc-modified-id=\"Проверка-алгоритма-4\"><span class=\"toc-item-num\">4&nbsp;&nbsp;</span>Проверка алгоритма</a></span><ul class=\"toc-item\"><li><span><a href=\"#Вывод\" data-toc-modified-id=\"Вывод-4.1\"><span class=\"toc-item-num\">4.1&nbsp;&nbsp;</span>Вывод</a></span></li></ul></li><li><span><a href=\"#Чек-лист-проверки\" data-toc-modified-id=\"Чек-лист-проверки-5\"><span class=\"toc-item-num\">5&nbsp;&nbsp;</span>Чек-лист проверки</a></span></li></ul></div>"
   ]
  },
  {
   "cell_type": "markdown",
   "metadata": {},
   "source": [
    "# Защита персональных данных клиентов"
   ]
  },
  {
   "cell_type": "markdown",
   "metadata": {},
   "source": [
    "Вам нужно защитить данные клиентов страховой компании «Хоть потоп». Разработайте такой метод преобразования данных, чтобы по ним было сложно восстановить персональную информацию. Обоснуйте корректность его работы.\n",
    "\n",
    "Нужно защитить данные, чтобы при преобразовании качество моделей машинного обучения не ухудшилось. Подбирать наилучшую модель не требуется."
   ]
  },
  {
   "cell_type": "markdown",
   "metadata": {},
   "source": [
    "## Загрузка данных"
   ]
  },
  {
   "cell_type": "code",
   "execution_count": 1,
   "metadata": {},
   "outputs": [],
   "source": [
    "import pandas as pd\n",
    "import matplotlib.pyplot as plt\n",
    "import numpy as np\n",
    "from sklearn.metrics import r2_score\n",
    "from sklearn.linear_model import LinearRegression\n",
    "\n",
    "import warnings\n",
    "warnings.filterwarnings(\"ignore\")"
   ]
  },
  {
   "cell_type": "code",
   "execution_count": 2,
   "metadata": {},
   "outputs": [],
   "source": [
    "data = pd.read_csv('/datasets/insurance.csv')"
   ]
  },
  {
   "cell_type": "code",
   "execution_count": 3,
   "metadata": {},
   "outputs": [],
   "source": [
    "#Функция информации о таблицах\n",
    "def check(df):\n",
    "\n",
    "    print('Первые пять строк: \\n', df.head())\n",
    "    print('########################')\n",
    "    print('Информация о талице: \\n', df.info())\n",
    "    print('########################')\n",
    "    \n",
    "    display(pd.DataFrame(round((df.isna().mean()*100),2), columns=['NaNs, %']).sort_values(by='NaNs, %', ascending=False).style.format(\n",
    "    '{:.2f}').background_gradient('coolwarm'))\n",
    "    print('########################')\n",
    "    print('Количество дупликатов в таблице: \\n', df.duplicated().sum())\n",
    "    print('########################')"
   ]
  },
  {
   "cell_type": "code",
   "execution_count": 4,
   "metadata": {},
   "outputs": [
    {
     "name": "stdout",
     "output_type": "stream",
     "text": [
      "Первые пять строк: \n",
      "    Пол  Возраст  Зарплата  Члены семьи  Страховые выплаты\n",
      "0    1     41.0   49600.0            1                  0\n",
      "1    0     46.0   38000.0            1                  1\n",
      "2    0     29.0   21000.0            0                  0\n",
      "3    0     21.0   41700.0            2                  0\n",
      "4    1     28.0   26100.0            0                  0\n",
      "########################\n",
      "<class 'pandas.core.frame.DataFrame'>\n",
      "RangeIndex: 5000 entries, 0 to 4999\n",
      "Data columns (total 5 columns):\n",
      " #   Column             Non-Null Count  Dtype  \n",
      "---  ------             --------------  -----  \n",
      " 0   Пол                5000 non-null   int64  \n",
      " 1   Возраст            5000 non-null   float64\n",
      " 2   Зарплата           5000 non-null   float64\n",
      " 3   Члены семьи        5000 non-null   int64  \n",
      " 4   Страховые выплаты  5000 non-null   int64  \n",
      "dtypes: float64(2), int64(3)\n",
      "memory usage: 195.4 KB\n",
      "Информация о талице: \n",
      " None\n",
      "########################\n"
     ]
    },
    {
     "data": {
      "text/html": [
       "<style  type=\"text/css\" >\n",
       "#T_3b8c9_row0_col0,#T_3b8c9_row1_col0,#T_3b8c9_row2_col0,#T_3b8c9_row3_col0,#T_3b8c9_row4_col0{\n",
       "            background-color:  #3b4cc0;\n",
       "            color:  #f1f1f1;\n",
       "        }</style><table id=\"T_3b8c9_\" ><thead>    <tr>        <th class=\"blank level0\" ></th>        <th class=\"col_heading level0 col0\" >NaNs, %</th>    </tr></thead><tbody>\n",
       "                <tr>\n",
       "                        <th id=\"T_3b8c9_level0_row0\" class=\"row_heading level0 row0\" >Пол</th>\n",
       "                        <td id=\"T_3b8c9_row0_col0\" class=\"data row0 col0\" >0.00</td>\n",
       "            </tr>\n",
       "            <tr>\n",
       "                        <th id=\"T_3b8c9_level0_row1\" class=\"row_heading level0 row1\" >Возраст</th>\n",
       "                        <td id=\"T_3b8c9_row1_col0\" class=\"data row1 col0\" >0.00</td>\n",
       "            </tr>\n",
       "            <tr>\n",
       "                        <th id=\"T_3b8c9_level0_row2\" class=\"row_heading level0 row2\" >Зарплата</th>\n",
       "                        <td id=\"T_3b8c9_row2_col0\" class=\"data row2 col0\" >0.00</td>\n",
       "            </tr>\n",
       "            <tr>\n",
       "                        <th id=\"T_3b8c9_level0_row3\" class=\"row_heading level0 row3\" >Члены семьи</th>\n",
       "                        <td id=\"T_3b8c9_row3_col0\" class=\"data row3 col0\" >0.00</td>\n",
       "            </tr>\n",
       "            <tr>\n",
       "                        <th id=\"T_3b8c9_level0_row4\" class=\"row_heading level0 row4\" >Страховые выплаты</th>\n",
       "                        <td id=\"T_3b8c9_row4_col0\" class=\"data row4 col0\" >0.00</td>\n",
       "            </tr>\n",
       "    </tbody></table>"
      ],
      "text/plain": [
       "<pandas.io.formats.style.Styler at 0x7f1ed7ad18e0>"
      ]
     },
     "metadata": {},
     "output_type": "display_data"
    },
    {
     "name": "stdout",
     "output_type": "stream",
     "text": [
      "########################\n",
      "Количество дупликатов в таблице: \n",
      " 153\n",
      "########################\n"
     ]
    }
   ],
   "source": [
    "check(data)"
   ]
  },
  {
   "cell_type": "code",
   "execution_count": 5,
   "metadata": {},
   "outputs": [],
   "source": [
    "#Удалим дупликаты\n",
    "data = data.drop_duplicates()"
   ]
  },
  {
   "cell_type": "code",
   "execution_count": 6,
   "metadata": {},
   "outputs": [
    {
     "data": {
      "image/png": "[encoded data removed]",
      "text/plain": [
       "<Figure size 432x288 with 1 Axes>"
      ]
     },
     "metadata": {
      "needs_background": "light"
     },
     "output_type": "display_data"
    }
   ],
   "source": [
    "plt.boxplot(data['Возраст'])\n",
    "plt.show()"
   ]
  },
  {
   "cell_type": "markdown",
   "metadata": {},
   "source": [
    "Аномальных значений в колонке возраст нет"
   ]
  },
  {
   "cell_type": "code",
   "execution_count": 7,
   "metadata": {},
   "outputs": [
    {
     "data": {
      "text/plain": [
       "<AxesSubplot:>"
      ]
     },
     "execution_count": 7,
     "metadata": {},
     "output_type": "execute_result"
    },
    {
     "data": {
      "image/png": "[encoded data removed]",
      "text/plain": [
       "<Figure size 432x288 with 1 Axes>"
      ]
     },
     "metadata": {
      "needs_background": "light"
     },
     "output_type": "display_data"
    }
   ],
   "source": [
    "data['Члены семьи'].hist(bins = 30)"
   ]
  },
  {
   "cell_type": "markdown",
   "metadata": {},
   "source": [
    "Аномальных значений в колонке члены семьи нет"
   ]
  },
  {
   "cell_type": "code",
   "execution_count": 8,
   "metadata": {},
   "outputs": [
    {
     "data": {
      "text/plain": [
       "<AxesSubplot:>"
      ]
     },
     "execution_count": 8,
     "metadata": {},
     "output_type": "execute_result"
    },
    {
     "data": {
      "image/png": "[encoded data removed]",
      "text/plain": [
       "<Figure size 432x288 with 1 Axes>"
      ]
     },
     "metadata": {
      "needs_background": "light"
     },
     "output_type": "display_data"
    }
   ],
   "source": [
    "data['Страховые выплаты'].hist(bins = 30)"
   ]
  },
  {
   "cell_type": "markdown",
   "metadata": {},
   "source": [
    "Аномальных значений в колонке члены семьи нет"
   ]
  },
  {
   "cell_type": "markdown",
   "metadata": {},
   "source": [
    "Изменим тип данных в столбцах Возраст и Зарплата на целочисленный"
   ]
  },
  {
   "cell_type": "code",
   "execution_count": 9,
   "metadata": {
    "scrolled": false
   },
   "outputs": [
    {
     "name": "stdout",
     "output_type": "stream",
     "text": [
      "<class 'pandas.core.frame.DataFrame'>\n",
      "Int64Index: 4847 entries, 0 to 4999\n",
      "Data columns (total 5 columns):\n",
      " #   Column             Non-Null Count  Dtype\n",
      "---  ------             --------------  -----\n",
      " 0   Пол                4847 non-null   int64\n",
      " 1   Возраст            4847 non-null   int64\n",
      " 2   Зарплата           4847 non-null   int64\n",
      " 3   Члены семьи        4847 non-null   int64\n",
      " 4   Страховые выплаты  4847 non-null   int64\n",
      "dtypes: int64(5)\n",
      "memory usage: 227.2 KB\n"
     ]
    }
   ],
   "source": [
    "data['Возраст'] = data['Возраст'].astype('int')\n",
    "data['Зарплата'] = data['Зарплата'].astype('int')\n",
    "data.info()"
   ]
  },
  {
   "cell_type": "markdown",
   "metadata": {},
   "source": [
    "### Вывод"
   ]
  },
  {
   "cell_type": "markdown",
   "metadata": {},
   "source": [
    "Были загружены и исследованы данные, проверены на пропуски, аномалии, дупликаты. 153 дупликата было удалено."
   ]
  },
  {
   "cell_type": "markdown",
   "metadata": {},
   "source": [
    "## Умножение матриц"
   ]
  },
  {
   "cell_type": "markdown",
   "metadata": {},
   "source": [
    "В этом задании вы можете записывать формулы в *Jupyter Notebook.*\n",
    "\n",
    "Чтобы записать формулу внутри текста, окружите её символами доллара \\\\$; если снаружи —  двойными символами \\\\$\\\\$. Эти формулы записываются на языке вёрстки *LaTeX.* \n",
    "\n",
    "Для примера мы записали формулы линейной регрессии. Можете их скопировать и отредактировать, чтобы решить задачу.\n",
    "\n",
    "Работать в *LaTeX* необязательно."
   ]
  },
  {
   "cell_type": "markdown",
   "metadata": {},
   "source": [
    "Обозначения:\n",
    "\n",
    "- $X$ — матрица признаков (нулевой столбец состоит из единиц)\n",
    "\n",
    "- $y$ — вектор целевого признака\n",
    "\n",
    "- $P$ — матрица, на которую умножаются признаки\n",
    "\n",
    "- $w$ — вектор весов линейной регрессии (нулевой элемент равен сдвигу)"
   ]
  },
  {
   "cell_type": "markdown",
   "metadata": {},
   "source": [
    "Предсказания:\n",
    "\n",
    "$$\n",
    "a = Xw\n",
    "$$\n",
    "\n",
    "Задача обучения:\n",
    "\n",
    "$$\n",
    "w = \\arg\\min_w MSE(Xw, y)\n",
    "$$\n",
    "\n",
    "Формула обучения:\n",
    "\n",
    "$$\n",
    "w = (X^T X)^{-1} X^T y\n",
    "$$"
   ]
  },
  {
   "cell_type": "markdown",
   "metadata": {},
   "source": [
    "**Ответ:** b - не изменится\n",
    "\n",
    "**Обоснование:** ниже"
   ]
  },
  {
   "cell_type": "markdown",
   "metadata": {},
   "source": [
    "Так как в задании сказано, что матрица признаков умножается на обратимую матрицу, то матрица P - квадратная.\n",
    "Согласно заданию вектор предсказаний равен:"
   ]
  },
  {
   "cell_type": "markdown",
   "metadata": {},
   "source": [
    "$$\n",
    "a1 = X*w1 = ((XP)^T XP)^{-1} (XP)^T y\n",
    "$$"
   ]
  },
  {
   "cell_type": "markdown",
   "metadata": {},
   "source": [
    "Раскроем транспонирование по формуле: $$(A*B)^T = B^T * A^T$$"
   ]
  },
  {
   "cell_type": "markdown",
   "metadata": {},
   "source": [
    "Получаем:\n",
    "$$\n",
    "a1 = X*w1 = (P^T*X^TXP)^{-1} P^T*X^T y\n",
    "$$"
   ]
  },
  {
   "cell_type": "markdown",
   "metadata": {},
   "source": [
    "Так как умножение матриц ассоциативно:\n",
    "$$\n",
    "a1 = X*w1 = X*P*(P^T*(X^TX)*P)^{-1} P^T*X^T y\n",
    "$$"
   ]
  },
  {
   "cell_type": "markdown",
   "metadata": {},
   "source": [
    "P - по условию квадратная матрица => $P^T$ - квадратная матрица. Пусть матрица X размера mxn. Рассмотрим произведение $X^T*X$. Так как $X^T$ - транспонированная матрица X, размер которой mxn, то размер $X^T$ - nxm.\n",
    "Получается произведение матрицы размером mxn и матрицы nxm. В результате произведения $X^T*X$ получим квадратную матрицу размером mxm => квадратную матрицу. Получается, что произведение матриц $P^T*(X^TX)*P$ - произведение квадратных матриц => $(P^T*(X^TX)*P)^{-1}$ можно раскрыть как $P^{-1}*(X^T*X)^{-1}*(P^T)^{-1}$"
   ]
  },
  {
   "cell_type": "markdown",
   "metadata": {},
   "source": [
    "Получаем:\n",
    "$$\n",
    "a1 = X*P*P^{-1}*(X^T*X)^{-1}*(P^T)^{-1}* P^T*X^T*y\n",
    "$$"
   ]
  },
  {
   "cell_type": "markdown",
   "metadata": {},
   "source": [
    " Так как P - квадратная матрица, то $P*P^{-1} = E$ и $(P^T)^{-1}*P^T = E$<br>\n",
    " Подставим:<br>\n",
    "$$ a1 = X*E*(X^T*X)^{-1}*E*X^T*y$$"
   ]
  },
  {
   "cell_type": "markdown",
   "metadata": {},
   "source": [
    "При умножении матрицы на единичную матрицу получается та же самая матрица:\n",
    "$$ a1 = X*(X^T*X)^{-1}*X^T*y$$"
   ]
  },
  {
   "cell_type": "markdown",
   "metadata": {},
   "source": [
    "Получается, что a = a1"
   ]
  },
  {
   "cell_type": "markdown",
   "metadata": {},
   "source": [
    "### Вывод"
   ]
  },
  {
   "cell_type": "markdown",
   "metadata": {},
   "source": [
    "При умножении признаков на обратимую матрицу качество линейной регрессии не изменится. Зависимость между параметрами линейная."
   ]
  },
  {
   "cell_type": "markdown",
   "metadata": {},
   "source": [
    "## Алгоритм преобразования"
   ]
  },
  {
   "cell_type": "markdown",
   "metadata": {},
   "source": [
    "**Алгоритм**\n",
    "\n",
    "..."
   ]
  },
  {
   "cell_type": "markdown",
   "metadata": {},
   "source": [
    "Умножим матрицу признаков X размера mxn на случайную квадратную матрицу P размера nxn. Затем объединим полученную матрицу с столбцом целевых признаков и получим преобразованные данные в формате датесета."
   ]
  },
  {
   "cell_type": "code",
   "execution_count": 10,
   "metadata": {},
   "outputs": [],
   "source": [
    "def test(column):\n",
    "    global new_data\n",
    "    global matr\n",
    "    par = len(data.columns) - len([column])\n",
    "    matr = np.random.normal(size = (par, par))\n",
    "    if np.linalg.det(matr)!=0:\n",
    "        new_data = np.array(data.drop(column, axis = 1)) @ matr\n",
    "        new_data = pd.DataFrame(new_data, data.index, columns=[i for i in data.columns.drop(column)])\n",
    "        full_data = new_data.merge(data[column], how ='left', left_index=True, right_index=True)\n",
    "        return full_data\n",
    "    else:\n",
    "        return print('Матрица вырожденна')\n"
   ]
  },
  {
   "cell_type": "code",
   "execution_count": 11,
   "metadata": {
    "scrolled": true
   },
   "outputs": [
    {
     "data": {
      "text/html": [
       "<div>\n",
       "<style scoped>\n",
       "    .dataframe tbody tr th:only-of-type {\n",
       "        vertical-align: middle;\n",
       "    }\n",
       "\n",
       "    .dataframe tbody tr th {\n",
       "        vertical-align: top;\n",
       "    }\n",
       "\n",
       "    .dataframe thead th {\n",
       "        text-align: right;\n",
       "    }\n",
       "</style>\n",
       "<table border=\"1\" class=\"dataframe\">\n",
       "  <thead>\n",
       "    <tr style=\"text-align: right;\">\n",
       "      <th></th>\n",
       "      <th>Пол</th>\n",
       "      <th>Возраст</th>\n",
       "      <th>Зарплата</th>\n",
       "      <th>Члены семьи</th>\n",
       "      <th>Страховые выплаты</th>\n",
       "    </tr>\n",
       "  </thead>\n",
       "  <tbody>\n",
       "    <tr>\n",
       "      <th>0</th>\n",
       "      <td>21673.280774</td>\n",
       "      <td>10732.983739</td>\n",
       "      <td>5054.312420</td>\n",
       "      <td>-34467.624828</td>\n",
       "      <td>0</td>\n",
       "    </tr>\n",
       "    <tr>\n",
       "      <th>1</th>\n",
       "      <td>16623.551492</td>\n",
       "      <td>8222.510906</td>\n",
       "      <td>3875.170681</td>\n",
       "      <td>-26413.566607</td>\n",
       "      <td>1</td>\n",
       "    </tr>\n",
       "    <tr>\n",
       "      <th>2</th>\n",
       "      <td>9190.944804</td>\n",
       "      <td>4545.300279</td>\n",
       "      <td>2141.621404</td>\n",
       "      <td>-14598.194205</td>\n",
       "      <td>0</td>\n",
       "    </tr>\n",
       "    <tr>\n",
       "      <th>3</th>\n",
       "      <td>18205.798753</td>\n",
       "      <td>9017.485408</td>\n",
       "      <td>4247.271922</td>\n",
       "      <td>-28970.194710</td>\n",
       "      <td>0</td>\n",
       "    </tr>\n",
       "    <tr>\n",
       "      <th>4</th>\n",
       "      <td>11412.015510</td>\n",
       "      <td>5650.841403</td>\n",
       "      <td>2660.673858</td>\n",
       "      <td>-18141.023073</td>\n",
       "      <td>0</td>\n",
       "    </tr>\n",
       "  </tbody>\n",
       "</table>\n",
       "</div>"
      ],
      "text/plain": [
       "            Пол       Возраст     Зарплата   Члены семьи  Страховые выплаты\n",
       "0  21673.280774  10732.983739  5054.312420 -34467.624828                  0\n",
       "1  16623.551492   8222.510906  3875.170681 -26413.566607                  1\n",
       "2   9190.944804   4545.300279  2141.621404 -14598.194205                  0\n",
       "3  18205.798753   9017.485408  4247.271922 -28970.194710                  0\n",
       "4  11412.015510   5650.841403  2660.673858 -18141.023073                  0"
      ]
     },
     "execution_count": 11,
     "metadata": {},
     "output_type": "execute_result"
    }
   ],
   "source": [
    "df = test('Страховые выплаты')\n",
    "df.head()"
   ]
  },
  {
   "cell_type": "markdown",
   "metadata": {},
   "source": [
    "**Обоснование**\n",
    "\n",
    "..."
   ]
  },
  {
   "cell_type": "markdown",
   "metadata": {},
   "source": [
    "Как было доказано в прошлой главе: при умножении признаков на обратимую матрицу, качество линейной регрессии не изменится, значит мы можем записать данные в виде результата произведения признаков и обратимой матрицы."
   ]
  },
  {
   "cell_type": "markdown",
   "metadata": {},
   "source": [
    "### Вывод"
   ]
  },
  {
   "cell_type": "markdown",
   "metadata": {},
   "source": [
    "Написан и описан алгоритм преобразования исходных данных, чтобы по ним было сложно восстановить персональную информацию, без ухудшения качества моделей машинного обучения"
   ]
  },
  {
   "cell_type": "markdown",
   "metadata": {},
   "source": [
    "## Проверка алгоритма"
   ]
  },
  {
   "cell_type": "code",
   "execution_count": 12,
   "metadata": {},
   "outputs": [],
   "source": [
    "#Создадим выборки\n",
    "futures = data.drop('Страховые выплаты', axis = 1)\n",
    "target = data['Страховые выплаты']\n",
    "new_data_futures = new_data"
   ]
  },
  {
   "cell_type": "code",
   "execution_count": 13,
   "metadata": {},
   "outputs": [],
   "source": [
    "def pred_score(x,y):\n",
    "    model = LinearRegression()\n",
    "    model.fit(x, y)\n",
    "    predictions = model.predict(x)\n",
    "    return predictions"
   ]
  },
  {
   "cell_type": "code",
   "execution_count": 14,
   "metadata": {
    "scrolled": true
   },
   "outputs": [
    {
     "name": "stdout",
     "output_type": "stream",
     "text": [
      "Качество модели до преобразований: 0.4302010046633359\n",
      "Качество модели после преобразований: 0.43020100466334277\n"
     ]
    }
   ],
   "source": [
    "print('Качество модели до преобразований:', r2_score(target, pred_score(futures, target)))\n",
    "print('Качество модели после преобразований:', r2_score(target, pred_score(new_data_futures, target)))"
   ]
  },
  {
   "cell_type": "markdown",
   "metadata": {},
   "source": [
    "### Вывод"
   ]
  },
  {
   "cell_type": "markdown",
   "metadata": {},
   "source": [
    "Проверка пройдена успешно, качество модели до преобразований и после - не отличается. Метод умножения признаков на обратимую матрицу для защиты данных пользователей проверен, разработан и протестирован алгоритм."
   ]
  }
 ],
 "metadata": {
  "ExecuteTimeLog": [
   {
    "duration": 1803,
    "start_time": "2022-08-12T07:50:35.201Z"
   },
   {
    "duration": 124,
    "start_time": "2022-08-12T07:50:56.617Z"
   },
   {
    "duration": 10,
    "start_time": "2022-08-12T07:51:16.580Z"
   },
   {
    "duration": 12,
    "start_time": "2022-08-12T07:51:53.876Z"
   },
   {
    "duration": 5,
    "start_time": "2022-08-12T07:52:26.955Z"
   },
   {
    "duration": 84,
    "start_time": "2022-08-12T07:52:35.579Z"
   },
   {
    "duration": 7,
    "start_time": "2022-08-12T07:53:42.927Z"
   },
   {
    "duration": 12,
    "start_time": "2022-08-12T07:53:46.168Z"
   },
   {
    "duration": 148,
    "start_time": "2022-08-12T07:55:41.433Z"
   },
   {
    "duration": 132,
    "start_time": "2022-08-12T07:55:51.387Z"
   },
   {
    "duration": 136,
    "start_time": "2022-08-12T07:56:08.020Z"
   },
   {
    "duration": 12,
    "start_time": "2022-08-12T07:56:23.115Z"
   },
   {
    "duration": 121,
    "start_time": "2022-08-12T07:57:00.844Z"
   },
   {
    "duration": 95,
    "start_time": "2022-08-12T07:57:17.264Z"
   },
   {
    "duration": 211,
    "start_time": "2022-08-12T07:57:28.564Z"
   },
   {
    "duration": 171,
    "start_time": "2022-08-12T07:57:35.237Z"
   },
   {
    "duration": 19,
    "start_time": "2022-08-12T07:58:02.241Z"
   },
   {
    "duration": 6,
    "start_time": "2022-08-12T07:59:18.270Z"
   },
   {
    "duration": 7,
    "start_time": "2022-08-12T07:59:26.872Z"
   },
   {
    "duration": 182,
    "start_time": "2022-08-12T08:01:01.482Z"
   },
   {
    "duration": 1521,
    "start_time": "2022-08-12T11:07:32.148Z"
   },
   {
    "duration": 109,
    "start_time": "2022-08-12T11:07:33.671Z"
   },
   {
    "duration": 4,
    "start_time": "2022-08-12T11:07:33.781Z"
   },
   {
    "duration": 69,
    "start_time": "2022-08-12T11:07:33.787Z"
   },
   {
    "duration": 4,
    "start_time": "2022-08-12T11:07:33.858Z"
   },
   {
    "duration": 41,
    "start_time": "2022-08-12T11:07:33.863Z"
   },
   {
    "duration": 89,
    "start_time": "2022-08-12T11:07:33.905Z"
   },
   {
    "duration": 159,
    "start_time": "2022-08-12T11:07:33.996Z"
   },
   {
    "duration": 7,
    "start_time": "2022-08-12T11:07:34.157Z"
   },
   {
    "duration": 165,
    "start_time": "2022-08-12T11:07:34.167Z"
   },
   {
    "duration": 1746,
    "start_time": "2022-08-12T15:26:46.577Z"
   },
   {
    "duration": 137,
    "start_time": "2022-08-12T15:26:48.325Z"
   },
   {
    "duration": 5,
    "start_time": "2022-08-12T15:26:48.464Z"
   },
   {
    "duration": 74,
    "start_time": "2022-08-12T15:26:48.471Z"
   },
   {
    "duration": 5,
    "start_time": "2022-08-12T15:26:48.547Z"
   },
   {
    "duration": 15,
    "start_time": "2022-08-12T15:26:48.554Z"
   },
   {
    "duration": 106,
    "start_time": "2022-08-12T15:26:48.571Z"
   },
   {
    "duration": 194,
    "start_time": "2022-08-12T15:26:48.679Z"
   },
   {
    "duration": 19,
    "start_time": "2022-08-12T15:26:48.874Z"
   },
   {
    "duration": 179,
    "start_time": "2022-08-12T15:26:48.894Z"
   },
   {
    "duration": 5,
    "start_time": "2022-08-12T15:26:49.074Z"
   },
   {
    "duration": 13,
    "start_time": "2022-08-12T15:26:58.731Z"
   },
   {
    "duration": 56,
    "start_time": "2022-08-14T14:41:56.076Z"
   },
   {
    "duration": 1682,
    "start_time": "2022-08-14T14:42:11.571Z"
   },
   {
    "duration": 104,
    "start_time": "2022-08-14T14:42:13.255Z"
   },
   {
    "duration": 5,
    "start_time": "2022-08-14T14:42:13.361Z"
   },
   {
    "duration": 95,
    "start_time": "2022-08-14T14:42:13.369Z"
   },
   {
    "duration": 7,
    "start_time": "2022-08-14T14:42:13.466Z"
   },
   {
    "duration": 103,
    "start_time": "2022-08-14T14:42:13.474Z"
   },
   {
    "duration": 173,
    "start_time": "2022-08-14T14:42:13.579Z"
   },
   {
    "duration": 6,
    "start_time": "2022-08-14T14:42:13.754Z"
   },
   {
    "duration": 186,
    "start_time": "2022-08-14T14:42:13.762Z"
   },
   {
    "duration": 12,
    "start_time": "2022-08-14T14:42:13.951Z"
   },
   {
    "duration": 13,
    "start_time": "2022-08-14T14:43:30.635Z"
   },
   {
    "duration": 12,
    "start_time": "2022-08-14T14:47:36.836Z"
   },
   {
    "duration": 129,
    "start_time": "2022-08-14T14:48:03.927Z"
   },
   {
    "duration": 22,
    "start_time": "2022-08-14T14:48:12.765Z"
   },
   {
    "duration": 4,
    "start_time": "2022-08-14T14:48:25.228Z"
   },
   {
    "duration": 14,
    "start_time": "2022-08-14T14:48:29.009Z"
   },
   {
    "duration": 13,
    "start_time": "2022-08-14T14:48:48.564Z"
   },
   {
    "duration": 4,
    "start_time": "2022-08-14T14:56:06.524Z"
   },
   {
    "duration": 13,
    "start_time": "2022-08-14T14:56:16.669Z"
   },
   {
    "duration": 1299,
    "start_time": "2022-08-14T14:56:26.022Z"
   },
   {
    "duration": 29,
    "start_time": "2022-08-14T14:56:27.324Z"
   },
   {
    "duration": 4,
    "start_time": "2022-08-14T14:56:27.355Z"
   },
   {
    "duration": 81,
    "start_time": "2022-08-14T14:56:27.360Z"
   },
   {
    "duration": 4,
    "start_time": "2022-08-14T14:56:27.444Z"
   },
   {
    "duration": 98,
    "start_time": "2022-08-14T14:56:27.449Z"
   },
   {
    "duration": 151,
    "start_time": "2022-08-14T14:56:27.548Z"
   },
   {
    "duration": 145,
    "start_time": "2022-08-14T14:56:27.700Z"
   },
   {
    "duration": 11,
    "start_time": "2022-08-14T14:56:27.846Z"
   },
   {
    "duration": 5,
    "start_time": "2022-08-14T14:56:27.858Z"
   },
   {
    "duration": 131,
    "start_time": "2022-08-14T14:56:27.864Z"
   },
   {
    "duration": 3,
    "start_time": "2022-08-14T14:56:36.960Z"
   },
   {
    "duration": 13,
    "start_time": "2022-08-14T14:56:37.624Z"
   },
   {
    "duration": 2,
    "start_time": "2022-08-14T14:57:10.127Z"
   },
   {
    "duration": 11,
    "start_time": "2022-08-14T14:57:10.545Z"
   },
   {
    "duration": 3,
    "start_time": "2022-08-14T14:57:35.965Z"
   },
   {
    "duration": 12,
    "start_time": "2022-08-14T14:57:36.284Z"
   },
   {
    "duration": 3,
    "start_time": "2022-08-14T14:58:12.389Z"
   },
   {
    "duration": 5,
    "start_time": "2022-08-14T14:58:13.140Z"
   },
   {
    "duration": 13,
    "start_time": "2022-08-14T14:59:50.765Z"
   },
   {
    "duration": 5,
    "start_time": "2022-08-14T14:59:58.724Z"
   },
   {
    "duration": 66,
    "start_time": "2022-08-14T15:01:24.538Z"
   },
   {
    "duration": 19,
    "start_time": "2022-08-14T15:02:47.648Z"
   },
   {
    "duration": 12,
    "start_time": "2022-08-14T15:03:10.758Z"
   },
   {
    "duration": 3,
    "start_time": "2022-08-14T15:04:03.853Z"
   },
   {
    "duration": 60,
    "start_time": "2022-08-14T15:04:04.411Z"
   },
   {
    "duration": 13,
    "start_time": "2022-08-14T15:04:07.669Z"
   },
   {
    "duration": 5,
    "start_time": "2022-08-14T15:04:21.890Z"
   },
   {
    "duration": 18,
    "start_time": "2022-08-14T15:04:22.324Z"
   },
   {
    "duration": 4,
    "start_time": "2022-08-14T15:04:28.360Z"
   },
   {
    "duration": 22,
    "start_time": "2022-08-14T15:04:28.807Z"
   },
   {
    "duration": 3,
    "start_time": "2022-08-14T15:07:31.782Z"
   },
   {
    "duration": 21,
    "start_time": "2022-08-14T15:07:32.481Z"
   },
   {
    "duration": 4,
    "start_time": "2022-08-14T15:09:08.630Z"
   },
   {
    "duration": 31,
    "start_time": "2022-08-14T15:09:09.109Z"
   },
   {
    "duration": 9,
    "start_time": "2022-08-14T15:09:55.527Z"
   },
   {
    "duration": 1209,
    "start_time": "2022-08-14T15:10:18.386Z"
   },
   {
    "duration": 132,
    "start_time": "2022-08-14T15:10:22.831Z"
   },
   {
    "duration": 211,
    "start_time": "2022-08-14T15:10:37.524Z"
   },
   {
    "duration": 146,
    "start_time": "2022-08-14T15:11:01.195Z"
   },
   {
    "duration": 176,
    "start_time": "2022-08-14T15:11:11.829Z"
   },
   {
    "duration": 1268,
    "start_time": "2022-08-14T15:11:40.341Z"
   },
   {
    "duration": 36,
    "start_time": "2022-08-14T15:11:41.614Z"
   },
   {
    "duration": 5,
    "start_time": "2022-08-14T15:11:41.651Z"
   },
   {
    "duration": 69,
    "start_time": "2022-08-14T15:11:41.658Z"
   },
   {
    "duration": 4,
    "start_time": "2022-08-14T15:11:41.729Z"
   },
   {
    "duration": 102,
    "start_time": "2022-08-14T15:11:41.734Z"
   },
   {
    "duration": 154,
    "start_time": "2022-08-14T15:11:41.837Z"
   },
   {
    "duration": 159,
    "start_time": "2022-08-14T15:11:41.992Z"
   },
   {
    "duration": 14,
    "start_time": "2022-08-14T15:11:42.153Z"
   },
   {
    "duration": 5,
    "start_time": "2022-08-14T15:11:42.170Z"
   },
   {
    "duration": 279,
    "start_time": "2022-08-14T15:11:42.177Z"
   },
   {
    "duration": 186,
    "start_time": "2022-08-14T15:11:42.459Z"
   },
   {
    "duration": 12,
    "start_time": "2022-08-14T15:11:55.961Z"
   },
   {
    "duration": 4,
    "start_time": "2022-08-14T15:12:21.437Z"
   },
   {
    "duration": 4,
    "start_time": "2022-08-14T15:13:16.880Z"
   },
   {
    "duration": 188,
    "start_time": "2022-08-14T15:13:17.829Z"
   },
   {
    "duration": 15,
    "start_time": "2022-08-14T15:13:21.508Z"
   },
   {
    "duration": 8,
    "start_time": "2022-08-14T15:13:32.227Z"
   },
   {
    "duration": 16,
    "start_time": "2022-08-14T15:14:04.809Z"
   },
   {
    "duration": 11,
    "start_time": "2022-08-14T15:14:18.228Z"
   },
   {
    "duration": 77,
    "start_time": "2022-08-14T15:19:02.924Z"
   },
   {
    "duration": 12,
    "start_time": "2022-08-14T15:19:03.286Z"
   },
   {
    "duration": 4,
    "start_time": "2022-08-14T15:19:24.218Z"
   },
   {
    "duration": 12,
    "start_time": "2022-08-14T15:19:25.189Z"
   },
   {
    "duration": 22,
    "start_time": "2022-08-14T15:19:39.106Z"
   },
   {
    "duration": 11,
    "start_time": "2022-08-14T15:19:41.895Z"
   },
   {
    "duration": 4,
    "start_time": "2022-08-14T15:19:51.798Z"
   },
   {
    "duration": 20,
    "start_time": "2022-08-14T15:19:55.408Z"
   },
   {
    "duration": 3,
    "start_time": "2022-08-14T15:20:02.470Z"
   },
   {
    "duration": 3,
    "start_time": "2022-08-14T15:24:21.167Z"
   },
   {
    "duration": 140,
    "start_time": "2022-08-14T15:25:14.711Z"
   },
   {
    "duration": 19,
    "start_time": "2022-08-14T15:25:20.314Z"
   },
   {
    "duration": 9,
    "start_time": "2022-08-14T15:26:08.551Z"
   },
   {
    "duration": 7,
    "start_time": "2022-08-14T15:32:32.924Z"
   },
   {
    "duration": 5,
    "start_time": "2022-08-14T15:34:02.612Z"
   },
   {
    "duration": 5,
    "start_time": "2022-08-14T15:36:51.172Z"
   },
   {
    "duration": 15,
    "start_time": "2022-08-14T15:39:38.012Z"
   },
   {
    "duration": 11,
    "start_time": "2022-08-14T15:39:42.211Z"
   },
   {
    "duration": 20,
    "start_time": "2022-08-14T15:40:13.904Z"
   },
   {
    "duration": 2,
    "start_time": "2022-08-14T15:40:36.376Z"
   },
   {
    "duration": 11,
    "start_time": "2022-08-14T15:40:36.828Z"
   },
   {
    "duration": 6,
    "start_time": "2022-08-14T15:46:13.524Z"
   },
   {
    "duration": 9,
    "start_time": "2022-08-14T15:46:14.891Z"
   },
   {
    "duration": 13,
    "start_time": "2022-08-14T15:46:25.012Z"
   },
   {
    "duration": 4,
    "start_time": "2022-08-14T15:47:05.349Z"
   },
   {
    "duration": 4,
    "start_time": "2022-08-14T15:47:05.843Z"
   },
   {
    "duration": 5,
    "start_time": "2022-08-14T15:49:47.131Z"
   },
   {
    "duration": 3,
    "start_time": "2022-08-14T15:49:47.640Z"
   },
   {
    "duration": 4,
    "start_time": "2022-08-14T15:51:19.777Z"
   },
   {
    "duration": 4,
    "start_time": "2022-08-14T15:51:20.527Z"
   },
   {
    "duration": 4,
    "start_time": "2022-08-14T15:52:47.354Z"
   },
   {
    "duration": 13,
    "start_time": "2022-08-14T15:52:47.836Z"
   },
   {
    "duration": 4,
    "start_time": "2022-08-14T15:53:21.935Z"
   },
   {
    "duration": 78,
    "start_time": "2022-08-14T15:53:22.608Z"
   },
   {
    "duration": 5,
    "start_time": "2022-08-14T15:53:50.648Z"
   },
   {
    "duration": 83,
    "start_time": "2022-08-14T15:53:51.290Z"
   },
   {
    "duration": 5,
    "start_time": "2022-08-14T15:54:40.040Z"
   },
   {
    "duration": 5,
    "start_time": "2022-08-14T15:55:27.357Z"
   },
   {
    "duration": 6,
    "start_time": "2022-08-14T15:55:37.860Z"
   },
   {
    "duration": 115,
    "start_time": "2022-08-14T15:55:38.645Z"
   },
   {
    "duration": 16,
    "start_time": "2022-08-14T15:56:01.705Z"
   },
   {
    "duration": 64,
    "start_time": "2022-08-14T15:56:24.445Z"
   },
   {
    "duration": 51,
    "start_time": "2022-08-14T15:56:38.436Z"
   },
   {
    "duration": 54,
    "start_time": "2022-08-14T15:57:04.781Z"
   },
   {
    "duration": 9,
    "start_time": "2022-08-14T15:57:21.204Z"
   },
   {
    "duration": 6,
    "start_time": "2022-08-14T15:57:28.523Z"
   },
   {
    "duration": 13,
    "start_time": "2022-08-14T15:57:32.184Z"
   },
   {
    "duration": 4,
    "start_time": "2022-08-14T15:58:48.225Z"
   },
   {
    "duration": 13,
    "start_time": "2022-08-14T15:58:49.036Z"
   },
   {
    "duration": 8,
    "start_time": "2022-08-14T15:58:56.924Z"
   },
   {
    "duration": 4,
    "start_time": "2022-08-14T15:59:17.477Z"
   },
   {
    "duration": 13,
    "start_time": "2022-08-14T15:59:17.908Z"
   },
   {
    "duration": 4,
    "start_time": "2022-08-14T15:59:28.284Z"
   },
   {
    "duration": 2,
    "start_time": "2022-08-14T15:59:29.069Z"
   },
   {
    "duration": 16,
    "start_time": "2022-08-14T15:59:33.477Z"
   },
   {
    "duration": 3,
    "start_time": "2022-08-14T16:00:07.153Z"
   },
   {
    "duration": 19,
    "start_time": "2022-08-14T16:00:07.705Z"
   },
   {
    "duration": 1329,
    "start_time": "2022-08-14T16:00:18.948Z"
   },
   {
    "duration": 30,
    "start_time": "2022-08-14T16:00:20.279Z"
   },
   {
    "duration": 26,
    "start_time": "2022-08-14T16:00:20.310Z"
   },
   {
    "duration": 100,
    "start_time": "2022-08-14T16:00:20.339Z"
   },
   {
    "duration": 5,
    "start_time": "2022-08-14T16:00:20.441Z"
   },
   {
    "duration": 103,
    "start_time": "2022-08-14T16:00:20.447Z"
   },
   {
    "duration": 148,
    "start_time": "2022-08-14T16:00:20.551Z"
   },
   {
    "duration": 158,
    "start_time": "2022-08-14T16:00:20.700Z"
   },
   {
    "duration": 11,
    "start_time": "2022-08-14T16:00:20.860Z"
   },
   {
    "duration": 14,
    "start_time": "2022-08-14T16:00:20.873Z"
   },
   {
    "duration": 45,
    "start_time": "2022-08-14T16:00:20.889Z"
   },
   {
    "duration": 15,
    "start_time": "2022-08-14T16:00:20.936Z"
   },
   {
    "duration": 14,
    "start_time": "2022-08-14T16:00:20.953Z"
   },
   {
    "duration": 135,
    "start_time": "2022-08-14T16:00:20.968Z"
   },
   {
    "duration": 0,
    "start_time": "2022-08-14T16:00:21.104Z"
   },
   {
    "duration": 0,
    "start_time": "2022-08-14T16:00:21.105Z"
   },
   {
    "duration": 0,
    "start_time": "2022-08-14T16:00:21.114Z"
   },
   {
    "duration": 35,
    "start_time": "2022-08-14T16:00:41.008Z"
   },
   {
    "duration": 15,
    "start_time": "2022-08-14T16:01:49.194Z"
   },
   {
    "duration": 15,
    "start_time": "2022-08-14T16:02:14.462Z"
   },
   {
    "duration": 18,
    "start_time": "2022-08-14T16:02:38.449Z"
   },
   {
    "duration": 21,
    "start_time": "2022-08-14T16:03:08.144Z"
   },
   {
    "duration": 8,
    "start_time": "2022-08-14T16:03:13.073Z"
   },
   {
    "duration": 19,
    "start_time": "2022-08-14T16:03:45.536Z"
   },
   {
    "duration": 2,
    "start_time": "2022-08-14T16:04:06.753Z"
   },
   {
    "duration": 14,
    "start_time": "2022-08-14T16:04:07.561Z"
   },
   {
    "duration": 1377,
    "start_time": "2022-08-14T16:04:21.292Z"
   },
   {
    "duration": 37,
    "start_time": "2022-08-14T16:04:22.671Z"
   },
   {
    "duration": 16,
    "start_time": "2022-08-14T16:04:22.709Z"
   },
   {
    "duration": 119,
    "start_time": "2022-08-14T16:04:22.727Z"
   },
   {
    "duration": 8,
    "start_time": "2022-08-14T16:04:22.848Z"
   },
   {
    "duration": 111,
    "start_time": "2022-08-14T16:04:22.857Z"
   },
   {
    "duration": 198,
    "start_time": "2022-08-14T16:04:22.971Z"
   },
   {
    "duration": 167,
    "start_time": "2022-08-14T16:04:23.171Z"
   },
   {
    "duration": 15,
    "start_time": "2022-08-14T16:04:23.343Z"
   },
   {
    "duration": 4,
    "start_time": "2022-08-14T16:04:23.360Z"
   },
   {
    "duration": 14,
    "start_time": "2022-08-14T16:04:23.366Z"
   },
   {
    "duration": 3,
    "start_time": "2022-08-14T16:04:23.382Z"
   },
   {
    "duration": 5,
    "start_time": "2022-08-14T16:04:23.387Z"
   },
   {
    "duration": 117,
    "start_time": "2022-08-14T16:04:23.393Z"
   },
   {
    "duration": 222,
    "start_time": "2022-08-14T16:04:23.515Z"
   },
   {
    "duration": 0,
    "start_time": "2022-08-14T16:04:23.739Z"
   },
   {
    "duration": 3,
    "start_time": "2022-08-14T16:06:54.050Z"
   },
   {
    "duration": 17,
    "start_time": "2022-08-14T16:07:37.339Z"
   },
   {
    "duration": 13,
    "start_time": "2022-08-14T16:08:02.040Z"
   },
   {
    "duration": 1431,
    "start_time": "2022-08-14T16:08:11.900Z"
   },
   {
    "duration": 33,
    "start_time": "2022-08-14T16:08:13.342Z"
   },
   {
    "duration": 6,
    "start_time": "2022-08-14T16:08:13.377Z"
   },
   {
    "duration": 86,
    "start_time": "2022-08-14T16:08:13.385Z"
   },
   {
    "duration": 5,
    "start_time": "2022-08-14T16:08:13.473Z"
   },
   {
    "duration": 93,
    "start_time": "2022-08-14T16:08:13.479Z"
   },
   {
    "duration": 169,
    "start_time": "2022-08-14T16:08:13.574Z"
   },
   {
    "duration": 163,
    "start_time": "2022-08-14T16:08:13.745Z"
   },
   {
    "duration": 17,
    "start_time": "2022-08-14T16:08:13.910Z"
   },
   {
    "duration": 22,
    "start_time": "2022-08-14T16:08:13.929Z"
   },
   {
    "duration": 20,
    "start_time": "2022-08-14T16:08:13.952Z"
   },
   {
    "duration": 127,
    "start_time": "2022-08-14T16:08:13.974Z"
   },
   {
    "duration": 0,
    "start_time": "2022-08-14T16:08:14.102Z"
   },
   {
    "duration": 0,
    "start_time": "2022-08-14T16:08:14.104Z"
   },
   {
    "duration": 0,
    "start_time": "2022-08-14T16:08:14.105Z"
   },
   {
    "duration": 4,
    "start_time": "2022-08-14T16:08:45.559Z"
   },
   {
    "duration": 17,
    "start_time": "2022-08-14T16:09:14.028Z"
   },
   {
    "duration": 16,
    "start_time": "2022-08-14T16:09:29.605Z"
   },
   {
    "duration": 5,
    "start_time": "2022-08-14T16:09:53.465Z"
   },
   {
    "duration": 11,
    "start_time": "2022-08-14T16:09:53.833Z"
   },
   {
    "duration": 11,
    "start_time": "2022-08-14T16:10:06.906Z"
   },
   {
    "duration": 18,
    "start_time": "2022-08-14T16:11:02.566Z"
   },
   {
    "duration": 11,
    "start_time": "2022-08-14T16:11:15.170Z"
   },
   {
    "duration": 6,
    "start_time": "2022-08-14T16:11:37.745Z"
   },
   {
    "duration": 84,
    "start_time": "2022-08-14T16:12:48.806Z"
   },
   {
    "duration": 4,
    "start_time": "2022-08-14T16:13:11.539Z"
   },
   {
    "duration": 3,
    "start_time": "2022-08-14T16:13:11.577Z"
   },
   {
    "duration": 68,
    "start_time": "2022-08-14T16:13:12.261Z"
   },
   {
    "duration": 1325,
    "start_time": "2022-08-14T16:13:26.736Z"
   },
   {
    "duration": 29,
    "start_time": "2022-08-14T16:13:28.063Z"
   },
   {
    "duration": 4,
    "start_time": "2022-08-14T16:13:28.093Z"
   },
   {
    "duration": 89,
    "start_time": "2022-08-14T16:13:28.099Z"
   },
   {
    "duration": 6,
    "start_time": "2022-08-14T16:13:28.190Z"
   },
   {
    "duration": 89,
    "start_time": "2022-08-14T16:13:28.197Z"
   },
   {
    "duration": 188,
    "start_time": "2022-08-14T16:13:28.288Z"
   },
   {
    "duration": 169,
    "start_time": "2022-08-14T16:13:28.477Z"
   },
   {
    "duration": 11,
    "start_time": "2022-08-14T16:13:28.648Z"
   },
   {
    "duration": 6,
    "start_time": "2022-08-14T16:13:28.661Z"
   },
   {
    "duration": 16,
    "start_time": "2022-08-14T16:13:28.668Z"
   },
   {
    "duration": 4,
    "start_time": "2022-08-14T16:13:28.685Z"
   },
   {
    "duration": 27,
    "start_time": "2022-08-14T16:13:28.690Z"
   },
   {
    "duration": 110,
    "start_time": "2022-08-14T16:13:28.720Z"
   },
   {
    "duration": 1770,
    "start_time": "2022-08-14T16:23:37.170Z"
   },
   {
    "duration": 97,
    "start_time": "2022-08-14T16:23:38.943Z"
   },
   {
    "duration": 4,
    "start_time": "2022-08-14T16:23:39.042Z"
   },
   {
    "duration": 68,
    "start_time": "2022-08-14T16:23:39.047Z"
   },
   {
    "duration": 10,
    "start_time": "2022-08-14T16:23:39.119Z"
   },
   {
    "duration": 96,
    "start_time": "2022-08-14T16:23:39.131Z"
   },
   {
    "duration": 178,
    "start_time": "2022-08-14T16:23:39.229Z"
   },
   {
    "duration": 167,
    "start_time": "2022-08-14T16:23:39.413Z"
   },
   {
    "duration": 12,
    "start_time": "2022-08-14T16:23:39.581Z"
   },
   {
    "duration": 22,
    "start_time": "2022-08-14T16:23:39.594Z"
   },
   {
    "duration": 20,
    "start_time": "2022-08-14T16:23:39.617Z"
   },
   {
    "duration": 4,
    "start_time": "2022-08-14T16:23:39.639Z"
   },
   {
    "duration": 18,
    "start_time": "2022-08-14T16:23:39.644Z"
   },
   {
    "duration": 76,
    "start_time": "2022-08-14T16:23:39.664Z"
   },
   {
    "duration": 1628,
    "start_time": "2022-08-14T20:26:15.706Z"
   },
   {
    "duration": 130,
    "start_time": "2022-08-14T20:26:19.083Z"
   },
   {
    "duration": 5,
    "start_time": "2022-08-14T20:26:21.246Z"
   },
   {
    "duration": 81,
    "start_time": "2022-08-14T20:26:22.087Z"
   },
   {
    "duration": 6,
    "start_time": "2022-08-14T20:26:25.987Z"
   },
   {
    "duration": 99,
    "start_time": "2022-08-14T20:26:27.717Z"
   },
   {
    "duration": 188,
    "start_time": "2022-08-14T20:26:30.522Z"
   },
   {
    "duration": 167,
    "start_time": "2022-08-14T20:26:32.521Z"
   },
   {
    "duration": 14,
    "start_time": "2022-08-14T20:26:36.354Z"
   },
   {
    "duration": 5,
    "start_time": "2022-08-14T20:29:06.419Z"
   },
   {
    "duration": 21,
    "start_time": "2022-08-14T20:29:07.778Z"
   },
   {
    "duration": 4,
    "start_time": "2022-08-14T20:29:14.675Z"
   },
   {
    "duration": 4,
    "start_time": "2022-08-14T20:29:15.146Z"
   },
   {
    "duration": 56,
    "start_time": "2022-08-14T20:29:16.542Z"
   },
   {
    "duration": 1386,
    "start_time": "2022-08-14T20:31:05.341Z"
   },
   {
    "duration": 30,
    "start_time": "2022-08-14T20:31:06.729Z"
   },
   {
    "duration": 5,
    "start_time": "2022-08-14T20:31:06.761Z"
   },
   {
    "duration": 79,
    "start_time": "2022-08-14T20:31:06.769Z"
   },
   {
    "duration": 6,
    "start_time": "2022-08-14T20:31:06.850Z"
   },
   {
    "duration": 138,
    "start_time": "2022-08-14T20:31:06.858Z"
   },
   {
    "duration": 200,
    "start_time": "2022-08-14T20:31:06.998Z"
   },
   {
    "duration": 192,
    "start_time": "2022-08-14T20:31:07.200Z"
   },
   {
    "duration": 14,
    "start_time": "2022-08-14T20:31:07.393Z"
   },
   {
    "duration": 6,
    "start_time": "2022-08-14T20:31:07.409Z"
   },
   {
    "duration": 21,
    "start_time": "2022-08-14T20:31:07.416Z"
   },
   {
    "duration": 4,
    "start_time": "2022-08-14T20:31:07.439Z"
   },
   {
    "duration": 10,
    "start_time": "2022-08-14T20:31:07.445Z"
   },
   {
    "duration": 135,
    "start_time": "2022-08-14T20:31:07.456Z"
   }
  ],
  "kernelspec": {
   "display_name": "Python 3 (ipykernel)",
   "language": "python",
   "name": "python3"
  },
  "language_info": {
   "codemirror_mode": {
    "name": "ipython",
    "version": 3
   },
   "file_extension": ".py",
   "mimetype": "text/x-python",
   "name": "python",
   "nbconvert_exporter": "python",
   "pygments_lexer": "ipython3",
   "version": "3.9.5"
  },
  "toc": {
   "base_numbering": 1,
   "nav_menu": {},
   "number_sections": true,
   "sideBar": true,
   "skip_h1_title": true,
   "title_cell": "Содержание",
   "title_sidebar": "Contents",
   "toc_cell": true,
   "toc_position": {
    "height": "calc(100% - 180px)",
    "left": "10px",
    "top": "150px",
    "width": "261.67px"
   },
   "toc_section_display": true,
   "toc_window_display": true
  }
 },
 "nbformat": 4,
 "nbformat_minor": 2
}
