{
 "cells": [
  {
   "cell_type": "markdown",
   "id": "63b4c35b",
   "metadata": {},
   "source": [
    "# Исследование надежности заемщиков.\n",
    "\n",
    "**Цель исследования**\n",
    "\n",
    "Проверить, влияет ли семейное положение и количество детей клиента на факт погашения кредита в срок?\n",
    "Есть ли зависимость между количеством детей и возвратом кредита в срок?\n",
    "Есть ли зависимость между семейным положением и возвратом кредита в срок?\n",
    "Есть ли зависимость между уровнем дохода и возвратом кредита в срок?\n",
    "Как разные цели кредита влияют на его возврат в срок?\n",
    "\n",
    "**Ход исследования**\n",
    "\n",
    "Данные берутся из файла data.csv. О качестве данных ничего не известно. Поэтому перед проверкой гипотез понадобится обзор данных.\n",
    "\n",
    "Нужно проверить данные на ошибки и оценить их влияние на исследование. \n",
    "\n",
    "Таким образом, исследование пройдёт в три этапа:\n",
    "\n",
    "Обзор данных.\n",
    "Предобработка данных.\n",
    "Проверка гипотез."
   ]
  },
  {
   "cell_type": "markdown",
   "id": "7064e624",
   "metadata": {},
   "source": [
    "### Шаг 1. Обзор данных"
   ]
  },
  {
   "cell_type": "code",
   "execution_count": 1,
   "id": "511d7e03",
   "metadata": {},
   "outputs": [],
   "source": [
    "# импорт библиотеки pandas\n",
    "import pandas as pd"
   ]
  },
  {
   "cell_type": "code",
   "execution_count": 2,
   "id": "93159acc",
   "metadata": {},
   "outputs": [],
   "source": [
    "# чтение файла с данными и сохранение в df\n",
    "df = pd.read_csv('/datasets/data.csv')"
   ]
  },
  {
   "cell_type": "code",
   "execution_count": 3,
   "id": "205cf6dc",
   "metadata": {},
   "outputs": [
    {
     "data": {
      "text/html": [
       "<div>\n",
       "<style scoped>\n",
       "    .dataframe tbody tr th:only-of-type {\n",
       "        vertical-align: middle;\n",
       "    }\n",
       "\n",
       "    .dataframe tbody tr th {\n",
       "        vertical-align: top;\n",
       "    }\n",
       "\n",
       "    .dataframe thead th {\n",
       "        text-align: right;\n",
       "    }\n",
       "</style>\n",
       "<table border=\"1\" class=\"dataframe\">\n",
       "  <thead>\n",
       "    <tr style=\"text-align: right;\">\n",
       "      <th></th>\n",
       "      <th>children</th>\n",
       "      <th>days_employed</th>\n",
       "      <th>dob_years</th>\n",
       "      <th>education</th>\n",
       "      <th>education_id</th>\n",
       "      <th>family_status</th>\n",
       "      <th>family_status_id</th>\n",
       "      <th>gender</th>\n",
       "      <th>income_type</th>\n",
       "      <th>debt</th>\n",
       "      <th>total_income</th>\n",
       "      <th>purpose</th>\n",
       "    </tr>\n",
       "  </thead>\n",
       "  <tbody>\n",
       "    <tr>\n",
       "      <th>0</th>\n",
       "      <td>1</td>\n",
       "      <td>-8437.673028</td>\n",
       "      <td>42</td>\n",
       "      <td>высшее</td>\n",
       "      <td>0</td>\n",
       "      <td>женат / замужем</td>\n",
       "      <td>0</td>\n",
       "      <td>F</td>\n",
       "      <td>сотрудник</td>\n",
       "      <td>0</td>\n",
       "      <td>253875.639453</td>\n",
       "      <td>покупка жилья</td>\n",
       "    </tr>\n",
       "    <tr>\n",
       "      <th>1</th>\n",
       "      <td>1</td>\n",
       "      <td>-4024.803754</td>\n",
       "      <td>36</td>\n",
       "      <td>среднее</td>\n",
       "      <td>1</td>\n",
       "      <td>женат / замужем</td>\n",
       "      <td>0</td>\n",
       "      <td>F</td>\n",
       "      <td>сотрудник</td>\n",
       "      <td>0</td>\n",
       "      <td>112080.014102</td>\n",
       "      <td>приобретение автомобиля</td>\n",
       "    </tr>\n",
       "    <tr>\n",
       "      <th>2</th>\n",
       "      <td>0</td>\n",
       "      <td>-5623.422610</td>\n",
       "      <td>33</td>\n",
       "      <td>Среднее</td>\n",
       "      <td>1</td>\n",
       "      <td>женат / замужем</td>\n",
       "      <td>0</td>\n",
       "      <td>M</td>\n",
       "      <td>сотрудник</td>\n",
       "      <td>0</td>\n",
       "      <td>145885.952297</td>\n",
       "      <td>покупка жилья</td>\n",
       "    </tr>\n",
       "    <tr>\n",
       "      <th>3</th>\n",
       "      <td>3</td>\n",
       "      <td>-4124.747207</td>\n",
       "      <td>32</td>\n",
       "      <td>среднее</td>\n",
       "      <td>1</td>\n",
       "      <td>женат / замужем</td>\n",
       "      <td>0</td>\n",
       "      <td>M</td>\n",
       "      <td>сотрудник</td>\n",
       "      <td>0</td>\n",
       "      <td>267628.550329</td>\n",
       "      <td>дополнительное образование</td>\n",
       "    </tr>\n",
       "    <tr>\n",
       "      <th>4</th>\n",
       "      <td>0</td>\n",
       "      <td>340266.072047</td>\n",
       "      <td>53</td>\n",
       "      <td>среднее</td>\n",
       "      <td>1</td>\n",
       "      <td>гражданский брак</td>\n",
       "      <td>1</td>\n",
       "      <td>F</td>\n",
       "      <td>пенсионер</td>\n",
       "      <td>0</td>\n",
       "      <td>158616.077870</td>\n",
       "      <td>сыграть свадьбу</td>\n",
       "    </tr>\n",
       "    <tr>\n",
       "      <th>5</th>\n",
       "      <td>0</td>\n",
       "      <td>-926.185831</td>\n",
       "      <td>27</td>\n",
       "      <td>высшее</td>\n",
       "      <td>0</td>\n",
       "      <td>гражданский брак</td>\n",
       "      <td>1</td>\n",
       "      <td>M</td>\n",
       "      <td>компаньон</td>\n",
       "      <td>0</td>\n",
       "      <td>255763.565419</td>\n",
       "      <td>покупка жилья</td>\n",
       "    </tr>\n",
       "    <tr>\n",
       "      <th>6</th>\n",
       "      <td>0</td>\n",
       "      <td>-2879.202052</td>\n",
       "      <td>43</td>\n",
       "      <td>высшее</td>\n",
       "      <td>0</td>\n",
       "      <td>женат / замужем</td>\n",
       "      <td>0</td>\n",
       "      <td>F</td>\n",
       "      <td>компаньон</td>\n",
       "      <td>0</td>\n",
       "      <td>240525.971920</td>\n",
       "      <td>операции с жильем</td>\n",
       "    </tr>\n",
       "    <tr>\n",
       "      <th>7</th>\n",
       "      <td>0</td>\n",
       "      <td>-152.779569</td>\n",
       "      <td>50</td>\n",
       "      <td>СРЕДНЕЕ</td>\n",
       "      <td>1</td>\n",
       "      <td>женат / замужем</td>\n",
       "      <td>0</td>\n",
       "      <td>M</td>\n",
       "      <td>сотрудник</td>\n",
       "      <td>0</td>\n",
       "      <td>135823.934197</td>\n",
       "      <td>образование</td>\n",
       "    </tr>\n",
       "    <tr>\n",
       "      <th>8</th>\n",
       "      <td>2</td>\n",
       "      <td>-6929.865299</td>\n",
       "      <td>35</td>\n",
       "      <td>ВЫСШЕЕ</td>\n",
       "      <td>0</td>\n",
       "      <td>гражданский брак</td>\n",
       "      <td>1</td>\n",
       "      <td>F</td>\n",
       "      <td>сотрудник</td>\n",
       "      <td>0</td>\n",
       "      <td>95856.832424</td>\n",
       "      <td>на проведение свадьбы</td>\n",
       "    </tr>\n",
       "    <tr>\n",
       "      <th>9</th>\n",
       "      <td>0</td>\n",
       "      <td>-2188.756445</td>\n",
       "      <td>41</td>\n",
       "      <td>среднее</td>\n",
       "      <td>1</td>\n",
       "      <td>женат / замужем</td>\n",
       "      <td>0</td>\n",
       "      <td>M</td>\n",
       "      <td>сотрудник</td>\n",
       "      <td>0</td>\n",
       "      <td>144425.938277</td>\n",
       "      <td>покупка жилья для семьи</td>\n",
       "    </tr>\n",
       "  </tbody>\n",
       "</table>\n",
       "</div>"
      ],
      "text/plain": [
       "   children  days_employed  dob_years education  education_id  \\\n",
       "0         1   -8437.673028         42    высшее             0   \n",
       "1         1   -4024.803754         36   среднее             1   \n",
       "2         0   -5623.422610         33   Среднее             1   \n",
       "3         3   -4124.747207         32   среднее             1   \n",
       "4         0  340266.072047         53   среднее             1   \n",
       "5         0    -926.185831         27    высшее             0   \n",
       "6         0   -2879.202052         43    высшее             0   \n",
       "7         0    -152.779569         50   СРЕДНЕЕ             1   \n",
       "8         2   -6929.865299         35    ВЫСШЕЕ             0   \n",
       "9         0   -2188.756445         41   среднее             1   \n",
       "\n",
       "      family_status  family_status_id gender income_type  debt   total_income  \\\n",
       "0   женат / замужем                 0      F   сотрудник     0  253875.639453   \n",
       "1   женат / замужем                 0      F   сотрудник     0  112080.014102   \n",
       "2   женат / замужем                 0      M   сотрудник     0  145885.952297   \n",
       "3   женат / замужем                 0      M   сотрудник     0  267628.550329   \n",
       "4  гражданский брак                 1      F   пенсионер     0  158616.077870   \n",
       "5  гражданский брак                 1      M   компаньон     0  255763.565419   \n",
       "6   женат / замужем                 0      F   компаньон     0  240525.971920   \n",
       "7   женат / замужем                 0      M   сотрудник     0  135823.934197   \n",
       "8  гражданский брак                 1      F   сотрудник     0   95856.832424   \n",
       "9   женат / замужем                 0      M   сотрудник     0  144425.938277   \n",
       "\n",
       "                      purpose  \n",
       "0               покупка жилья  \n",
       "1     приобретение автомобиля  \n",
       "2               покупка жилья  \n",
       "3  дополнительное образование  \n",
       "4             сыграть свадьбу  \n",
       "5               покупка жилья  \n",
       "6           операции с жильем  \n",
       "7                 образование  \n",
       "8       на проведение свадьбы  \n",
       "9     покупка жилья для семьи  "
      ]
     },
     "execution_count": 3,
     "metadata": {},
     "output_type": "execute_result"
    }
   ],
   "source": [
    "# получение первых 10 строк таблицы df\n",
    "df.head(10)"
   ]
  },
  {
   "cell_type": "code",
   "execution_count": 4,
   "id": "3575aa5a",
   "metadata": {
    "scrolled": true
   },
   "outputs": [
    {
     "data": {
      "text/html": [
       "<div>\n",
       "<style scoped>\n",
       "    .dataframe tbody tr th:only-of-type {\n",
       "        vertical-align: middle;\n",
       "    }\n",
       "\n",
       "    .dataframe tbody tr th {\n",
       "        vertical-align: top;\n",
       "    }\n",
       "\n",
       "    .dataframe thead th {\n",
       "        text-align: right;\n",
       "    }\n",
       "</style>\n",
       "<table border=\"1\" class=\"dataframe\">\n",
       "  <thead>\n",
       "    <tr style=\"text-align: right;\">\n",
       "      <th></th>\n",
       "      <th>children</th>\n",
       "      <th>days_employed</th>\n",
       "      <th>dob_years</th>\n",
       "      <th>education</th>\n",
       "      <th>education_id</th>\n",
       "      <th>family_status</th>\n",
       "      <th>family_status_id</th>\n",
       "      <th>gender</th>\n",
       "      <th>income_type</th>\n",
       "      <th>debt</th>\n",
       "      <th>total_income</th>\n",
       "      <th>purpose</th>\n",
       "    </tr>\n",
       "  </thead>\n",
       "  <tbody>\n",
       "    <tr>\n",
       "      <th>21520</th>\n",
       "      <td>1</td>\n",
       "      <td>-4529.316663</td>\n",
       "      <td>43</td>\n",
       "      <td>среднее</td>\n",
       "      <td>1</td>\n",
       "      <td>гражданский брак</td>\n",
       "      <td>1</td>\n",
       "      <td>F</td>\n",
       "      <td>компаньон</td>\n",
       "      <td>0</td>\n",
       "      <td>224791.862382</td>\n",
       "      <td>операции с жильем</td>\n",
       "    </tr>\n",
       "    <tr>\n",
       "      <th>21521</th>\n",
       "      <td>0</td>\n",
       "      <td>343937.404131</td>\n",
       "      <td>67</td>\n",
       "      <td>среднее</td>\n",
       "      <td>1</td>\n",
       "      <td>женат / замужем</td>\n",
       "      <td>0</td>\n",
       "      <td>F</td>\n",
       "      <td>пенсионер</td>\n",
       "      <td>0</td>\n",
       "      <td>155999.806512</td>\n",
       "      <td>сделка с автомобилем</td>\n",
       "    </tr>\n",
       "    <tr>\n",
       "      <th>21522</th>\n",
       "      <td>1</td>\n",
       "      <td>-2113.346888</td>\n",
       "      <td>38</td>\n",
       "      <td>среднее</td>\n",
       "      <td>1</td>\n",
       "      <td>гражданский брак</td>\n",
       "      <td>1</td>\n",
       "      <td>M</td>\n",
       "      <td>сотрудник</td>\n",
       "      <td>1</td>\n",
       "      <td>89672.561153</td>\n",
       "      <td>недвижимость</td>\n",
       "    </tr>\n",
       "    <tr>\n",
       "      <th>21523</th>\n",
       "      <td>3</td>\n",
       "      <td>-3112.481705</td>\n",
       "      <td>38</td>\n",
       "      <td>среднее</td>\n",
       "      <td>1</td>\n",
       "      <td>женат / замужем</td>\n",
       "      <td>0</td>\n",
       "      <td>M</td>\n",
       "      <td>сотрудник</td>\n",
       "      <td>1</td>\n",
       "      <td>244093.050500</td>\n",
       "      <td>на покупку своего автомобиля</td>\n",
       "    </tr>\n",
       "    <tr>\n",
       "      <th>21524</th>\n",
       "      <td>2</td>\n",
       "      <td>-1984.507589</td>\n",
       "      <td>40</td>\n",
       "      <td>среднее</td>\n",
       "      <td>1</td>\n",
       "      <td>женат / замужем</td>\n",
       "      <td>0</td>\n",
       "      <td>F</td>\n",
       "      <td>сотрудник</td>\n",
       "      <td>0</td>\n",
       "      <td>82047.418899</td>\n",
       "      <td>на покупку автомобиля</td>\n",
       "    </tr>\n",
       "  </tbody>\n",
       "</table>\n",
       "</div>"
      ],
      "text/plain": [
       "       children  days_employed  dob_years education  education_id  \\\n",
       "21520         1   -4529.316663         43   среднее             1   \n",
       "21521         0  343937.404131         67   среднее             1   \n",
       "21522         1   -2113.346888         38   среднее             1   \n",
       "21523         3   -3112.481705         38   среднее             1   \n",
       "21524         2   -1984.507589         40   среднее             1   \n",
       "\n",
       "          family_status  family_status_id gender income_type  debt  \\\n",
       "21520  гражданский брак                 1      F   компаньон     0   \n",
       "21521   женат / замужем                 0      F   пенсионер     0   \n",
       "21522  гражданский брак                 1      M   сотрудник     1   \n",
       "21523   женат / замужем                 0      M   сотрудник     1   \n",
       "21524   женат / замужем                 0      F   сотрудник     0   \n",
       "\n",
       "        total_income                       purpose  \n",
       "21520  224791.862382             операции с жильем  \n",
       "21521  155999.806512          сделка с автомобилем  \n",
       "21522   89672.561153                  недвижимость  \n",
       "21523  244093.050500  на покупку своего автомобиля  \n",
       "21524   82047.418899         на покупку автомобиля  "
      ]
     },
     "execution_count": 4,
     "metadata": {},
     "output_type": "execute_result"
    }
   ],
   "source": [
    "df.tail(5)"
   ]
  },
  {
   "cell_type": "code",
   "execution_count": 5,
   "id": "a7d4f059",
   "metadata": {},
   "outputs": [
    {
     "name": "stdout",
     "output_type": "stream",
     "text": [
      "<class 'pandas.core.frame.DataFrame'>\n",
      "RangeIndex: 21525 entries, 0 to 21524\n",
      "Data columns (total 12 columns):\n",
      " #   Column            Non-Null Count  Dtype  \n",
      "---  ------            --------------  -----  \n",
      " 0   children          21525 non-null  int64  \n",
      " 1   days_employed     19351 non-null  float64\n",
      " 2   dob_years         21525 non-null  int64  \n",
      " 3   education         21525 non-null  object \n",
      " 4   education_id      21525 non-null  int64  \n",
      " 5   family_status     21525 non-null  object \n",
      " 6   family_status_id  21525 non-null  int64  \n",
      " 7   gender            21525 non-null  object \n",
      " 8   income_type       21525 non-null  object \n",
      " 9   debt              21525 non-null  int64  \n",
      " 10  total_income      19351 non-null  float64\n",
      " 11  purpose           21525 non-null  object \n",
      "dtypes: float64(2), int64(5), object(5)\n",
      "memory usage: 2.0+ MB\n"
     ]
    }
   ],
   "source": [
    "# получение общей информации о данных в таблице df\n",
    "df.info()"
   ]
  },
  {
   "cell_type": "markdown",
   "id": "0c4e0204",
   "metadata": {},
   "source": [
    "Итак, в таблице одиннадцать столбцов. Тип данных в столбцах - object, int64, float64\n",
    "\n",
    "Согласно документации к данным:\n",
    "* `children` — количество детей в семье;\n",
    "* `days_employed` — общий трудовой стаж в днях;  \n",
    "* `dob_years` — возраст клиента в годах;\n",
    "* `education` — уровень образования клиента;\n",
    "* `education_id` — идентификатор уровня образования;\n",
    "* `family_status` — семейное положение;\n",
    "* `family_status_id` — идентификатор семейного положения;\n",
    "* `gender` — пол клиента;  \n",
    "* `income_type` — тип занятости;\n",
    "* `debt` — имел ли задолженность по возврату кредитов;\n",
    "* `total_income` — ежемесячный доход;\n",
    "* `purpose` — цель получения кредита.\n",
    "\n",
    "Количество значений в столбцах `total_income` и `days_employed` отличается от других. Значит, в данных есть пропущенные значения. В столбце `days_employed` есть отрицательные значения, которые являются ошибочными данными."
   ]
  },
  {
   "cell_type": "markdown",
   "id": "ba6d9847",
   "metadata": {},
   "source": [
    "### Шаг 2.1 Заполнение пропусков"
   ]
  },
  {
   "cell_type": "code",
   "execution_count": 6,
   "id": "a52819ed",
   "metadata": {},
   "outputs": [
    {
     "data": {
      "text/plain": [
       "children               0\n",
       "days_employed       2174\n",
       "dob_years              0\n",
       "education              0\n",
       "education_id           0\n",
       "family_status          0\n",
       "family_status_id       0\n",
       "gender                 0\n",
       "income_type            0\n",
       "debt                   0\n",
       "total_income        2174\n",
       "purpose                0\n",
       "dtype: int64"
      ]
     },
     "execution_count": 6,
     "metadata": {},
     "output_type": "execute_result"
    }
   ],
   "source": [
    "# подсчёт пропусков\n",
    "df.isna().sum()"
   ]
  },
  {
   "cell_type": "code",
   "execution_count": 7,
   "id": "ffc7f252",
   "metadata": {},
   "outputs": [
    {
     "data": {
      "text/html": [
       "<div>\n",
       "<style scoped>\n",
       "    .dataframe tbody tr th:only-of-type {\n",
       "        vertical-align: middle;\n",
       "    }\n",
       "\n",
       "    .dataframe tbody tr th {\n",
       "        vertical-align: top;\n",
       "    }\n",
       "\n",
       "    .dataframe thead th {\n",
       "        text-align: right;\n",
       "    }\n",
       "</style>\n",
       "<table border=\"1\" class=\"dataframe\">\n",
       "  <thead>\n",
       "    <tr style=\"text-align: right;\">\n",
       "      <th></th>\n",
       "      <th>children</th>\n",
       "      <th>days_employed</th>\n",
       "      <th>dob_years</th>\n",
       "      <th>education</th>\n",
       "      <th>education_id</th>\n",
       "      <th>family_status</th>\n",
       "      <th>family_status_id</th>\n",
       "      <th>gender</th>\n",
       "      <th>income_type</th>\n",
       "      <th>debt</th>\n",
       "      <th>total_income</th>\n",
       "      <th>purpose</th>\n",
       "    </tr>\n",
       "  </thead>\n",
       "  <tbody>\n",
       "    <tr>\n",
       "      <th>12</th>\n",
       "      <td>0</td>\n",
       "      <td>NaN</td>\n",
       "      <td>65</td>\n",
       "      <td>среднее</td>\n",
       "      <td>1</td>\n",
       "      <td>гражданский брак</td>\n",
       "      <td>1</td>\n",
       "      <td>M</td>\n",
       "      <td>пенсионер</td>\n",
       "      <td>0</td>\n",
       "      <td>NaN</td>\n",
       "      <td>сыграть свадьбу</td>\n",
       "    </tr>\n",
       "    <tr>\n",
       "      <th>26</th>\n",
       "      <td>0</td>\n",
       "      <td>NaN</td>\n",
       "      <td>41</td>\n",
       "      <td>среднее</td>\n",
       "      <td>1</td>\n",
       "      <td>женат / замужем</td>\n",
       "      <td>0</td>\n",
       "      <td>M</td>\n",
       "      <td>госслужащий</td>\n",
       "      <td>0</td>\n",
       "      <td>NaN</td>\n",
       "      <td>образование</td>\n",
       "    </tr>\n",
       "    <tr>\n",
       "      <th>29</th>\n",
       "      <td>0</td>\n",
       "      <td>NaN</td>\n",
       "      <td>63</td>\n",
       "      <td>среднее</td>\n",
       "      <td>1</td>\n",
       "      <td>Не женат / не замужем</td>\n",
       "      <td>4</td>\n",
       "      <td>F</td>\n",
       "      <td>пенсионер</td>\n",
       "      <td>0</td>\n",
       "      <td>NaN</td>\n",
       "      <td>строительство жилой недвижимости</td>\n",
       "    </tr>\n",
       "    <tr>\n",
       "      <th>41</th>\n",
       "      <td>0</td>\n",
       "      <td>NaN</td>\n",
       "      <td>50</td>\n",
       "      <td>среднее</td>\n",
       "      <td>1</td>\n",
       "      <td>женат / замужем</td>\n",
       "      <td>0</td>\n",
       "      <td>F</td>\n",
       "      <td>госслужащий</td>\n",
       "      <td>0</td>\n",
       "      <td>NaN</td>\n",
       "      <td>сделка с подержанным автомобилем</td>\n",
       "    </tr>\n",
       "    <tr>\n",
       "      <th>55</th>\n",
       "      <td>0</td>\n",
       "      <td>NaN</td>\n",
       "      <td>54</td>\n",
       "      <td>среднее</td>\n",
       "      <td>1</td>\n",
       "      <td>гражданский брак</td>\n",
       "      <td>1</td>\n",
       "      <td>F</td>\n",
       "      <td>пенсионер</td>\n",
       "      <td>1</td>\n",
       "      <td>NaN</td>\n",
       "      <td>сыграть свадьбу</td>\n",
       "    </tr>\n",
       "  </tbody>\n",
       "</table>\n",
       "</div>"
      ],
      "text/plain": [
       "    children  days_employed  dob_years education  education_id  \\\n",
       "12         0            NaN         65   среднее             1   \n",
       "26         0            NaN         41   среднее             1   \n",
       "29         0            NaN         63   среднее             1   \n",
       "41         0            NaN         50   среднее             1   \n",
       "55         0            NaN         54   среднее             1   \n",
       "\n",
       "            family_status  family_status_id gender  income_type  debt  \\\n",
       "12       гражданский брак                 1      M    пенсионер     0   \n",
       "26        женат / замужем                 0      M  госслужащий     0   \n",
       "29  Не женат / не замужем                 4      F    пенсионер     0   \n",
       "41        женат / замужем                 0      F  госслужащий     0   \n",
       "55       гражданский брак                 1      F    пенсионер     1   \n",
       "\n",
       "    total_income                           purpose  \n",
       "12           NaN                   сыграть свадьбу  \n",
       "26           NaN                       образование  \n",
       "29           NaN  строительство жилой недвижимости  \n",
       "41           NaN  сделка с подержанным автомобилем  \n",
       "55           NaN                   сыграть свадьбу  "
      ]
     },
     "execution_count": 7,
     "metadata": {},
     "output_type": "execute_result"
    }
   ],
   "source": [
    "# Методом isna() найдём все строки с пропусками в столбце total_income и просмотрим первые пять.\n",
    "# Можно сделать вывод, что NaN в 'days_employed' значит, что человек сейчас без работы, следовательно, он не может платить по кредиту\n",
    "df[df['total_income'].isna()].head()"
   ]
  },
  {
   "cell_type": "markdown",
   "id": "3e31ea53",
   "metadata": {},
   "source": [
    "Можно сделать вывод, что NaN в 'days_employed' значит, что человек сейчас без работы, следовательно, он не может платить по кредиту. \n"
   ]
  },
  {
   "cell_type": "code",
   "execution_count": 8,
   "id": "c8490f79",
   "metadata": {},
   "outputs": [
    {
     "name": "stdout",
     "output_type": "stream",
     "text": [
      "Доля пропусков в столбце total_income: 10.099883855981417\n",
      "Доля пропусков в столбце days_employed: 10.099883855981417\n"
     ]
    }
   ],
   "source": [
    "# Доля пропущенных значений в столбце 'total_income' соответствует доле пропущенных значений в столбце 'days_employed'. \n",
    "nan_share_income = len(df[df['total_income'].isna()])/len(df['total_income'])*100\n",
    "nan_share_employ = len(df[df['days_employed'].isna()])/len(df['days_employed'])*100\n",
    "print('Доля пропусков в столбце total_income:', nan_share_income)\n",
    "print('Доля пропусков в столбце days_employed:', nan_share_employ)"
   ]
  },
  {
   "cell_type": "markdown",
   "id": "c8e86985",
   "metadata": {},
   "source": [
    "Заполним пропуски медианным значением, так как среднее значение некорректно характеризует данные, \n",
    "когда некоторые значения сильно выделяются среди большинства"
   ]
  },
  {
   "cell_type": "code",
   "execution_count": 9,
   "id": "0d273db4",
   "metadata": {},
   "outputs": [],
   "source": [
    "# Заполнение пропусков медианными значениями в столбце 'total_income'\n",
    "df['total_income'] = df['total_income'].fillna(df['total_income'].median())"
   ]
  },
  {
   "cell_type": "code",
   "execution_count": 10,
   "id": "1d4bb330",
   "metadata": {},
   "outputs": [
    {
     "data": {
      "text/plain": [
       "0"
      ]
     },
     "execution_count": 10,
     "metadata": {},
     "output_type": "execute_result"
    }
   ],
   "source": [
    "# подсчёт пропусков\n",
    "df['total_income'].isna().sum()"
   ]
  },
  {
   "cell_type": "markdown",
   "id": "82fc70df",
   "metadata": {},
   "source": [
    "### Шаг 2.2 Проверка данных на аномалии и исправления."
   ]
  },
  {
   "cell_type": "markdown",
   "id": "86f682ac",
   "metadata": {},
   "source": [
    "В столбце 'days_employed' есть отрицательные значения, которые могли возникнуть в результате того, что перепутались местами время начала и конца работы. Также есть большие значения, которые равны стажу более 300 лет, чего не может быть, поэтому приведём их к более правдоподобному виду, разделив значения больше нуля на 20"
   ]
  },
  {
   "cell_type": "code",
   "execution_count": 11,
   "id": "ea6e10dc",
   "metadata": {},
   "outputs": [
    {
     "data": {
      "text/html": [
       "<div>\n",
       "<style scoped>\n",
       "    .dataframe tbody tr th:only-of-type {\n",
       "        vertical-align: middle;\n",
       "    }\n",
       "\n",
       "    .dataframe tbody tr th {\n",
       "        vertical-align: top;\n",
       "    }\n",
       "\n",
       "    .dataframe thead th {\n",
       "        text-align: right;\n",
       "    }\n",
       "</style>\n",
       "<table border=\"1\" class=\"dataframe\">\n",
       "  <thead>\n",
       "    <tr style=\"text-align: right;\">\n",
       "      <th></th>\n",
       "      <th>children</th>\n",
       "      <th>days_employed</th>\n",
       "      <th>dob_years</th>\n",
       "      <th>education</th>\n",
       "      <th>education_id</th>\n",
       "      <th>family_status</th>\n",
       "      <th>family_status_id</th>\n",
       "      <th>gender</th>\n",
       "      <th>income_type</th>\n",
       "      <th>debt</th>\n",
       "      <th>total_income</th>\n",
       "      <th>purpose</th>\n",
       "    </tr>\n",
       "  </thead>\n",
       "  <tbody>\n",
       "    <tr>\n",
       "      <th>0</th>\n",
       "      <td>1</td>\n",
       "      <td>-8437.673028</td>\n",
       "      <td>42</td>\n",
       "      <td>высшее</td>\n",
       "      <td>0</td>\n",
       "      <td>женат / замужем</td>\n",
       "      <td>0</td>\n",
       "      <td>F</td>\n",
       "      <td>сотрудник</td>\n",
       "      <td>0</td>\n",
       "      <td>253875.639453</td>\n",
       "      <td>покупка жилья</td>\n",
       "    </tr>\n",
       "    <tr>\n",
       "      <th>1</th>\n",
       "      <td>1</td>\n",
       "      <td>-4024.803754</td>\n",
       "      <td>36</td>\n",
       "      <td>среднее</td>\n",
       "      <td>1</td>\n",
       "      <td>женат / замужем</td>\n",
       "      <td>0</td>\n",
       "      <td>F</td>\n",
       "      <td>сотрудник</td>\n",
       "      <td>0</td>\n",
       "      <td>112080.014102</td>\n",
       "      <td>приобретение автомобиля</td>\n",
       "    </tr>\n",
       "    <tr>\n",
       "      <th>2</th>\n",
       "      <td>0</td>\n",
       "      <td>-5623.422610</td>\n",
       "      <td>33</td>\n",
       "      <td>Среднее</td>\n",
       "      <td>1</td>\n",
       "      <td>женат / замужем</td>\n",
       "      <td>0</td>\n",
       "      <td>M</td>\n",
       "      <td>сотрудник</td>\n",
       "      <td>0</td>\n",
       "      <td>145885.952297</td>\n",
       "      <td>покупка жилья</td>\n",
       "    </tr>\n",
       "    <tr>\n",
       "      <th>3</th>\n",
       "      <td>3</td>\n",
       "      <td>-4124.747207</td>\n",
       "      <td>32</td>\n",
       "      <td>среднее</td>\n",
       "      <td>1</td>\n",
       "      <td>женат / замужем</td>\n",
       "      <td>0</td>\n",
       "      <td>M</td>\n",
       "      <td>сотрудник</td>\n",
       "      <td>0</td>\n",
       "      <td>267628.550329</td>\n",
       "      <td>дополнительное образование</td>\n",
       "    </tr>\n",
       "    <tr>\n",
       "      <th>4</th>\n",
       "      <td>0</td>\n",
       "      <td>17013.303602</td>\n",
       "      <td>53</td>\n",
       "      <td>среднее</td>\n",
       "      <td>1</td>\n",
       "      <td>гражданский брак</td>\n",
       "      <td>1</td>\n",
       "      <td>F</td>\n",
       "      <td>пенсионер</td>\n",
       "      <td>0</td>\n",
       "      <td>158616.077870</td>\n",
       "      <td>сыграть свадьбу</td>\n",
       "    </tr>\n",
       "    <tr>\n",
       "      <th>...</th>\n",
       "      <td>...</td>\n",
       "      <td>...</td>\n",
       "      <td>...</td>\n",
       "      <td>...</td>\n",
       "      <td>...</td>\n",
       "      <td>...</td>\n",
       "      <td>...</td>\n",
       "      <td>...</td>\n",
       "      <td>...</td>\n",
       "      <td>...</td>\n",
       "      <td>...</td>\n",
       "      <td>...</td>\n",
       "    </tr>\n",
       "    <tr>\n",
       "      <th>21520</th>\n",
       "      <td>1</td>\n",
       "      <td>-4529.316663</td>\n",
       "      <td>43</td>\n",
       "      <td>среднее</td>\n",
       "      <td>1</td>\n",
       "      <td>гражданский брак</td>\n",
       "      <td>1</td>\n",
       "      <td>F</td>\n",
       "      <td>компаньон</td>\n",
       "      <td>0</td>\n",
       "      <td>224791.862382</td>\n",
       "      <td>операции с жильем</td>\n",
       "    </tr>\n",
       "    <tr>\n",
       "      <th>21521</th>\n",
       "      <td>0</td>\n",
       "      <td>17196.870207</td>\n",
       "      <td>67</td>\n",
       "      <td>среднее</td>\n",
       "      <td>1</td>\n",
       "      <td>женат / замужем</td>\n",
       "      <td>0</td>\n",
       "      <td>F</td>\n",
       "      <td>пенсионер</td>\n",
       "      <td>0</td>\n",
       "      <td>155999.806512</td>\n",
       "      <td>сделка с автомобилем</td>\n",
       "    </tr>\n",
       "    <tr>\n",
       "      <th>21522</th>\n",
       "      <td>1</td>\n",
       "      <td>-2113.346888</td>\n",
       "      <td>38</td>\n",
       "      <td>среднее</td>\n",
       "      <td>1</td>\n",
       "      <td>гражданский брак</td>\n",
       "      <td>1</td>\n",
       "      <td>M</td>\n",
       "      <td>сотрудник</td>\n",
       "      <td>1</td>\n",
       "      <td>89672.561153</td>\n",
       "      <td>недвижимость</td>\n",
       "    </tr>\n",
       "    <tr>\n",
       "      <th>21523</th>\n",
       "      <td>3</td>\n",
       "      <td>-3112.481705</td>\n",
       "      <td>38</td>\n",
       "      <td>среднее</td>\n",
       "      <td>1</td>\n",
       "      <td>женат / замужем</td>\n",
       "      <td>0</td>\n",
       "      <td>M</td>\n",
       "      <td>сотрудник</td>\n",
       "      <td>1</td>\n",
       "      <td>244093.050500</td>\n",
       "      <td>на покупку своего автомобиля</td>\n",
       "    </tr>\n",
       "    <tr>\n",
       "      <th>21524</th>\n",
       "      <td>2</td>\n",
       "      <td>-1984.507589</td>\n",
       "      <td>40</td>\n",
       "      <td>среднее</td>\n",
       "      <td>1</td>\n",
       "      <td>женат / замужем</td>\n",
       "      <td>0</td>\n",
       "      <td>F</td>\n",
       "      <td>сотрудник</td>\n",
       "      <td>0</td>\n",
       "      <td>82047.418899</td>\n",
       "      <td>на покупку автомобиля</td>\n",
       "    </tr>\n",
       "  </tbody>\n",
       "</table>\n",
       "<p>21525 rows × 12 columns</p>\n",
       "</div>"
      ],
      "text/plain": [
       "       children  days_employed  dob_years education  education_id  \\\n",
       "0             1   -8437.673028         42    высшее             0   \n",
       "1             1   -4024.803754         36   среднее             1   \n",
       "2             0   -5623.422610         33   Среднее             1   \n",
       "3             3   -4124.747207         32   среднее             1   \n",
       "4             0   17013.303602         53   среднее             1   \n",
       "...         ...            ...        ...       ...           ...   \n",
       "21520         1   -4529.316663         43   среднее             1   \n",
       "21521         0   17196.870207         67   среднее             1   \n",
       "21522         1   -2113.346888         38   среднее             1   \n",
       "21523         3   -3112.481705         38   среднее             1   \n",
       "21524         2   -1984.507589         40   среднее             1   \n",
       "\n",
       "          family_status  family_status_id gender income_type  debt  \\\n",
       "0       женат / замужем                 0      F   сотрудник     0   \n",
       "1       женат / замужем                 0      F   сотрудник     0   \n",
       "2       женат / замужем                 0      M   сотрудник     0   \n",
       "3       женат / замужем                 0      M   сотрудник     0   \n",
       "4      гражданский брак                 1      F   пенсионер     0   \n",
       "...                 ...               ...    ...         ...   ...   \n",
       "21520  гражданский брак                 1      F   компаньон     0   \n",
       "21521   женат / замужем                 0      F   пенсионер     0   \n",
       "21522  гражданский брак                 1      M   сотрудник     1   \n",
       "21523   женат / замужем                 0      M   сотрудник     1   \n",
       "21524   женат / замужем                 0      F   сотрудник     0   \n",
       "\n",
       "        total_income                       purpose  \n",
       "0      253875.639453                 покупка жилья  \n",
       "1      112080.014102       приобретение автомобиля  \n",
       "2      145885.952297                 покупка жилья  \n",
       "3      267628.550329    дополнительное образование  \n",
       "4      158616.077870               сыграть свадьбу  \n",
       "...              ...                           ...  \n",
       "21520  224791.862382             операции с жильем  \n",
       "21521  155999.806512          сделка с автомобилем  \n",
       "21522   89672.561153                  недвижимость  \n",
       "21523  244093.050500  на покупку своего автомобиля  \n",
       "21524   82047.418899         на покупку автомобиля  \n",
       "\n",
       "[21525 rows x 12 columns]"
      ]
     },
     "metadata": {},
     "output_type": "display_data"
    }
   ],
   "source": [
    "# Нормируем значения \n",
    "df.loc[df['days_employed']>=0, 'days_employed'] = df.loc[df['days_employed']>=0, 'days_employed']/20\n",
    "display(df)"
   ]
  },
  {
   "cell_type": "code",
   "execution_count": 12,
   "id": "32f2f5f4",
   "metadata": {},
   "outputs": [],
   "source": [
    "# Приведём все отрицательные значения к положительным\n",
    "df['days_employed'] = df['days_employed'].abs()"
   ]
  },
  {
   "cell_type": "code",
   "execution_count": 13,
   "id": "e3c1d8fa",
   "metadata": {},
   "outputs": [],
   "source": [
    "# Заполним пропуски медианными значениям\n",
    "df['days_employed'] = df['days_employed'].fillna(df['days_employed'].median())"
   ]
  },
  {
   "cell_type": "code",
   "execution_count": 14,
   "id": "68d453e9",
   "metadata": {},
   "outputs": [
    {
     "data": {
      "text/html": [
       "<div>\n",
       "<style scoped>\n",
       "    .dataframe tbody tr th:only-of-type {\n",
       "        vertical-align: middle;\n",
       "    }\n",
       "\n",
       "    .dataframe tbody tr th {\n",
       "        vertical-align: top;\n",
       "    }\n",
       "\n",
       "    .dataframe thead th {\n",
       "        text-align: right;\n",
       "    }\n",
       "</style>\n",
       "<table border=\"1\" class=\"dataframe\">\n",
       "  <thead>\n",
       "    <tr style=\"text-align: right;\">\n",
       "      <th></th>\n",
       "      <th>children</th>\n",
       "      <th>days_employed</th>\n",
       "      <th>dob_years</th>\n",
       "      <th>education</th>\n",
       "      <th>education_id</th>\n",
       "      <th>family_status</th>\n",
       "      <th>family_status_id</th>\n",
       "      <th>gender</th>\n",
       "      <th>income_type</th>\n",
       "      <th>debt</th>\n",
       "      <th>total_income</th>\n",
       "      <th>purpose</th>\n",
       "    </tr>\n",
       "  </thead>\n",
       "  <tbody>\n",
       "    <tr>\n",
       "      <th>0</th>\n",
       "      <td>1</td>\n",
       "      <td>8437.673028</td>\n",
       "      <td>42</td>\n",
       "      <td>высшее</td>\n",
       "      <td>0</td>\n",
       "      <td>женат / замужем</td>\n",
       "      <td>0</td>\n",
       "      <td>F</td>\n",
       "      <td>сотрудник</td>\n",
       "      <td>0</td>\n",
       "      <td>253875.639453</td>\n",
       "      <td>покупка жилья</td>\n",
       "    </tr>\n",
       "    <tr>\n",
       "      <th>1</th>\n",
       "      <td>1</td>\n",
       "      <td>4024.803754</td>\n",
       "      <td>36</td>\n",
       "      <td>среднее</td>\n",
       "      <td>1</td>\n",
       "      <td>женат / замужем</td>\n",
       "      <td>0</td>\n",
       "      <td>F</td>\n",
       "      <td>сотрудник</td>\n",
       "      <td>0</td>\n",
       "      <td>112080.014102</td>\n",
       "      <td>приобретение автомобиля</td>\n",
       "    </tr>\n",
       "    <tr>\n",
       "      <th>2</th>\n",
       "      <td>0</td>\n",
       "      <td>5623.422610</td>\n",
       "      <td>33</td>\n",
       "      <td>Среднее</td>\n",
       "      <td>1</td>\n",
       "      <td>женат / замужем</td>\n",
       "      <td>0</td>\n",
       "      <td>M</td>\n",
       "      <td>сотрудник</td>\n",
       "      <td>0</td>\n",
       "      <td>145885.952297</td>\n",
       "      <td>покупка жилья</td>\n",
       "    </tr>\n",
       "    <tr>\n",
       "      <th>3</th>\n",
       "      <td>3</td>\n",
       "      <td>4124.747207</td>\n",
       "      <td>32</td>\n",
       "      <td>среднее</td>\n",
       "      <td>1</td>\n",
       "      <td>женат / замужем</td>\n",
       "      <td>0</td>\n",
       "      <td>M</td>\n",
       "      <td>сотрудник</td>\n",
       "      <td>0</td>\n",
       "      <td>267628.550329</td>\n",
       "      <td>дополнительное образование</td>\n",
       "    </tr>\n",
       "    <tr>\n",
       "      <th>4</th>\n",
       "      <td>0</td>\n",
       "      <td>17013.303602</td>\n",
       "      <td>53</td>\n",
       "      <td>среднее</td>\n",
       "      <td>1</td>\n",
       "      <td>гражданский брак</td>\n",
       "      <td>1</td>\n",
       "      <td>F</td>\n",
       "      <td>пенсионер</td>\n",
       "      <td>0</td>\n",
       "      <td>158616.077870</td>\n",
       "      <td>сыграть свадьбу</td>\n",
       "    </tr>\n",
       "  </tbody>\n",
       "</table>\n",
       "</div>"
      ],
      "text/plain": [
       "   children  days_employed  dob_years education  education_id  \\\n",
       "0         1    8437.673028         42    высшее             0   \n",
       "1         1    4024.803754         36   среднее             1   \n",
       "2         0    5623.422610         33   Среднее             1   \n",
       "3         3    4124.747207         32   среднее             1   \n",
       "4         0   17013.303602         53   среднее             1   \n",
       "\n",
       "      family_status  family_status_id gender income_type  debt   total_income  \\\n",
       "0   женат / замужем                 0      F   сотрудник     0  253875.639453   \n",
       "1   женат / замужем                 0      F   сотрудник     0  112080.014102   \n",
       "2   женат / замужем                 0      M   сотрудник     0  145885.952297   \n",
       "3   женат / замужем                 0      M   сотрудник     0  267628.550329   \n",
       "4  гражданский брак                 1      F   пенсионер     0  158616.077870   \n",
       "\n",
       "                      purpose  \n",
       "0               покупка жилья  \n",
       "1     приобретение автомобиля  \n",
       "2               покупка жилья  \n",
       "3  дополнительное образование  \n",
       "4             сыграть свадьбу  "
      ]
     },
     "execution_count": 14,
     "metadata": {},
     "output_type": "execute_result"
    }
   ],
   "source": [
    "# Проверка результата обработки\n",
    "df.head()"
   ]
  },
  {
   "cell_type": "code",
   "execution_count": 15,
   "id": "df0ee97c",
   "metadata": {},
   "outputs": [
    {
     "data": {
      "text/plain": [
       " 0     14149\n",
       " 1      4818\n",
       " 2      2055\n",
       " 3       330\n",
       " 20       76\n",
       "-1        47\n",
       " 4        41\n",
       " 5         9\n",
       "Name: children, dtype: int64"
      ]
     },
     "metadata": {},
     "output_type": "display_data"
    },
    {
     "data": {
      "text/plain": [
       "35    617\n",
       "40    609\n",
       "41    607\n",
       "34    603\n",
       "38    598\n",
       "42    597\n",
       "33    581\n",
       "39    573\n",
       "31    560\n",
       "36    555\n",
       "44    547\n",
       "29    545\n",
       "30    540\n",
       "48    538\n",
       "37    537\n",
       "50    514\n",
       "43    513\n",
       "32    510\n",
       "49    508\n",
       "28    503\n",
       "45    497\n",
       "27    493\n",
       "56    487\n",
       "52    484\n",
       "47    480\n",
       "54    479\n",
       "46    475\n",
       "58    461\n",
       "57    460\n",
       "53    459\n",
       "51    448\n",
       "59    444\n",
       "55    443\n",
       "26    408\n",
       "60    377\n",
       "25    357\n",
       "61    355\n",
       "62    352\n",
       "63    269\n",
       "64    265\n",
       "24    264\n",
       "23    254\n",
       "65    194\n",
       "66    183\n",
       "22    183\n",
       "67    167\n",
       "21    111\n",
       "0     101\n",
       "68     99\n",
       "69     85\n",
       "70     65\n",
       "71     58\n",
       "20     51\n",
       "72     33\n",
       "19     14\n",
       "73      8\n",
       "74      6\n",
       "75      1\n",
       "Name: dob_years, dtype: int64"
      ]
     },
     "metadata": {},
     "output_type": "display_data"
    },
    {
     "data": {
      "text/plain": [
       "1    15233\n",
       "0     5260\n",
       "2      744\n",
       "3      282\n",
       "4        6\n",
       "Name: education_id, dtype: int64"
      ]
     },
     "metadata": {},
     "output_type": "display_data"
    },
    {
     "data": {
      "text/plain": [
       "женат / замужем          12380\n",
       "гражданский брак          4177\n",
       "Не женат / не замужем     2813\n",
       "в разводе                 1195\n",
       "вдовец / вдова             960\n",
       "Name: family_status, dtype: int64"
      ]
     },
     "metadata": {},
     "output_type": "display_data"
    },
    {
     "data": {
      "text/plain": [
       "F      14236\n",
       "M       7288\n",
       "XNA        1\n",
       "Name: gender, dtype: int64"
      ]
     },
     "metadata": {},
     "output_type": "display_data"
    },
    {
     "data": {
      "text/plain": [
       "сотрудник          11119\n",
       "компаньон           5085\n",
       "пенсионер           3856\n",
       "госслужащий         1459\n",
       "предприниматель        2\n",
       "безработный            2\n",
       "студент                1\n",
       "в декрете              1\n",
       "Name: income_type, dtype: int64"
      ]
     },
     "metadata": {},
     "output_type": "display_data"
    },
    {
     "data": {
      "text/plain": [
       "0    19784\n",
       "1     1741\n",
       "Name: debt, dtype: int64"
      ]
     },
     "metadata": {},
     "output_type": "display_data"
    },
    {
     "data": {
      "text/plain": [
       "свадьба                                   797\n",
       "на проведение свадьбы                     777\n",
       "сыграть свадьбу                           774\n",
       "операции с недвижимостью                  676\n",
       "покупка коммерческой недвижимости         664\n",
       "операции с жильем                         653\n",
       "покупка жилья для сдачи                   653\n",
       "операции с коммерческой недвижимостью     651\n",
       "покупка жилья                             647\n",
       "жилье                                     647\n",
       "покупка жилья для семьи                   641\n",
       "строительство собственной недвижимости    635\n",
       "недвижимость                              634\n",
       "операции со своей недвижимостью           630\n",
       "строительство жилой недвижимости          626\n",
       "покупка недвижимости                      624\n",
       "покупка своего жилья                      620\n",
       "строительство недвижимости                620\n",
       "ремонт жилью                              612\n",
       "покупка жилой недвижимости                607\n",
       "на покупку своего автомобиля              505\n",
       "заняться высшим образованием              496\n",
       "автомобиль                                495\n",
       "сделка с подержанным автомобилем          489\n",
       "свой автомобиль                           480\n",
       "на покупку подержанного автомобиля        479\n",
       "автомобили                                478\n",
       "на покупку автомобиля                     472\n",
       "дополнительное образование                462\n",
       "приобретение автомобиля                   462\n",
       "сделка с автомобилем                      455\n",
       "высшее образование                        453\n",
       "образование                               447\n",
       "получение дополнительного образования     447\n",
       "получение образования                     443\n",
       "профильное образование                    436\n",
       "получение высшего образования             426\n",
       "заняться образованием                     412\n",
       "Name: purpose, dtype: int64"
      ]
     },
     "metadata": {},
     "output_type": "display_data"
    },
    {
     "data": {
      "text/plain": [
       "145017.937533    2175\n",
       "106196.235958       1\n",
       "45654.214129        1\n",
       "132775.748481       1\n",
       "127240.919486       1\n",
       "                 ... \n",
       "239154.168013       1\n",
       "165009.733021       1\n",
       "94270.049769        1\n",
       "68166.012050        1\n",
       "189255.286637       1\n",
       "Name: total_income, Length: 19351, dtype: int64"
      ]
     },
     "metadata": {},
     "output_type": "display_data"
    }
   ],
   "source": [
    "# Проверка столбцов\n",
    "display(df['children'].value_counts())\n",
    "display(df['dob_years'].value_counts())\n",
    "display(df['education_id'].value_counts())\n",
    "display(df['family_status'].value_counts())\n",
    "display(df['gender'].value_counts())\n",
    "display(df['income_type'].value_counts())\n",
    "display(df['debt'].value_counts())\n",
    "display(df['purpose'].value_counts())\n",
    "display(df['total_income'].value_counts())"
   ]
  },
  {
   "cell_type": "markdown",
   "id": "1efa1df1",
   "metadata": {},
   "source": [
    "В столбце gender есть одна ошибка \"XNA\", это не окажет сильного результата на иследование. В столбце \"children\" количество детей -1 и 20, чего быть не может."
   ]
  },
  {
   "cell_type": "code",
   "execution_count": 16,
   "id": "6a3e084a",
   "metadata": {},
   "outputs": [
    {
     "data": {
      "text/plain": [
       "0    14149\n",
       "1     4865\n",
       "2     2131\n",
       "3      330\n",
       "4       41\n",
       "5        9\n",
       "Name: children, dtype: int64"
      ]
     },
     "execution_count": 16,
     "metadata": {},
     "output_type": "execute_result"
    }
   ],
   "source": [
    "# Исправление значений в стобце children\n",
    "df['children'] = df['children'].astype('str')\n",
    "df.loc[df['children'] == '20', 'children'] = '2'\n",
    "df['children'] = df['children'].astype('int')\n",
    "df['children'] = df['children'].abs()\n",
    "df['children'].value_counts()"
   ]
  },
  {
   "cell_type": "markdown",
   "id": "98fe94f4",
   "metadata": {},
   "source": [
    "### Шаг 2.3. Изменение типов данных."
   ]
  },
  {
   "cell_type": "code",
   "execution_count": 17,
   "id": "f36e0779",
   "metadata": {},
   "outputs": [],
   "source": [
    "# Заменим вещественный тип данных в столбце total_income на целочисленный\n",
    "df['total_income'] = df['total_income'].astype('float32')\n",
    "df['days_employed'] = df['days_employed'].astype('float32')"
   ]
  },
  {
   "cell_type": "code",
   "execution_count": 18,
   "id": "16679707",
   "metadata": {},
   "outputs": [
    {
     "name": "stdout",
     "output_type": "stream",
     "text": [
      "<class 'pandas.core.frame.DataFrame'>\n",
      "RangeIndex: 21525 entries, 0 to 21524\n",
      "Data columns (total 12 columns):\n",
      " #   Column            Non-Null Count  Dtype  \n",
      "---  ------            --------------  -----  \n",
      " 0   children          21525 non-null  int64  \n",
      " 1   days_employed     21525 non-null  float32\n",
      " 2   dob_years         21525 non-null  int64  \n",
      " 3   education         21525 non-null  object \n",
      " 4   education_id      21525 non-null  int64  \n",
      " 5   family_status     21525 non-null  object \n",
      " 6   family_status_id  21525 non-null  int64  \n",
      " 7   gender            21525 non-null  object \n",
      " 8   income_type       21525 non-null  object \n",
      " 9   debt              21525 non-null  int64  \n",
      " 10  total_income      21525 non-null  float32\n",
      " 11  purpose           21525 non-null  object \n",
      "dtypes: float32(2), int64(5), object(5)\n",
      "memory usage: 1.8+ MB\n"
     ]
    }
   ],
   "source": [
    "df.info()"
   ]
  },
  {
   "cell_type": "markdown",
   "id": "741cff3d",
   "metadata": {},
   "source": [
    "### Шаг 2.4. Удаление дубликатов."
   ]
  },
  {
   "cell_type": "code",
   "execution_count": 19,
   "id": "e4dfed7f",
   "metadata": {},
   "outputs": [
    {
     "data": {
      "text/plain": [
       "54"
      ]
     },
     "execution_count": 19,
     "metadata": {},
     "output_type": "execute_result"
    }
   ],
   "source": [
    "# подсчёт явных дубликатов\n",
    "df.duplicated().sum()"
   ]
  },
  {
   "cell_type": "code",
   "execution_count": 20,
   "id": "a50cdbc0",
   "metadata": {
    "scrolled": true
   },
   "outputs": [
    {
     "data": {
      "text/plain": [
       "array(['ВЫСШЕЕ', 'Высшее', 'НАЧАЛЬНОЕ', 'НЕОКОНЧЕННОЕ ВЫСШЕЕ',\n",
       "       'Начальное', 'Неоконченное высшее', 'СРЕДНЕЕ', 'Среднее',\n",
       "       'УЧЕНАЯ СТЕПЕНЬ', 'Ученая степень', 'высшее', 'начальное',\n",
       "       'неоконченное высшее', 'среднее', 'ученая степень'], dtype=object)"
      ]
     },
     "execution_count": 20,
     "metadata": {},
     "output_type": "execute_result"
    }
   ],
   "source": [
    "# Просмотр уникальных уровней образования\n",
    "df['education'].sort_values().unique()"
   ]
  },
  {
   "cell_type": "code",
   "execution_count": 21,
   "id": "55ec6b7b",
   "metadata": {},
   "outputs": [],
   "source": [
    "# Приведем все строки в столбце 'education' к нижднем регистру\n",
    "df['education'] = df['education'].str.lower()"
   ]
  },
  {
   "cell_type": "code",
   "execution_count": 22,
   "id": "6be45d02",
   "metadata": {},
   "outputs": [
    {
     "data": {
      "text/plain": [
       "array(['высшее', 'начальное', 'неоконченное высшее', 'среднее',\n",
       "       'ученая степень'], dtype=object)"
      ]
     },
     "execution_count": 22,
     "metadata": {},
     "output_type": "execute_result"
    }
   ],
   "source": [
    "# Проверка на уникальные значения\n",
    "df['education'].sort_values().unique()"
   ]
  },
  {
   "cell_type": "markdown",
   "id": "a9be3df1",
   "metadata": {},
   "source": [
    "Можно сделать вывод, что дубликаты были из-за разного регистра. Сначала были выявлены явные дубликаты с помощью duplicated(). Затем были выявлены неявные дубликаты с помощью unique()"
   ]
  },
  {
   "cell_type": "code",
   "execution_count": 23,
   "id": "c5fd20c6",
   "metadata": {},
   "outputs": [
    {
     "data": {
      "text/plain": [
       "array(['Не женат / не замужем', 'в разводе', 'вдовец / вдова',\n",
       "       'гражданский брак', 'женат / замужем'], dtype=object)"
      ]
     },
     "execution_count": 23,
     "metadata": {},
     "output_type": "execute_result"
    }
   ],
   "source": [
    "# Проверка неявных дубликатов в стобце family_status\n",
    "df['family_status'].sort_values().unique()"
   ]
  },
  {
   "cell_type": "code",
   "execution_count": 24,
   "id": "30185bf5",
   "metadata": {
    "scrolled": true
   },
   "outputs": [
    {
     "data": {
      "text/plain": [
       "array(['безработный', 'в декрете', 'госслужащий', 'компаньон',\n",
       "       'пенсионер', 'предприниматель', 'сотрудник', 'студент'],\n",
       "      dtype=object)"
      ]
     },
     "execution_count": 24,
     "metadata": {},
     "output_type": "execute_result"
    }
   ],
   "source": [
    "# Проверка неявных дубликатов в стобце income_type\n",
    "df['income_type'].sort_values().unique()"
   ]
  },
  {
   "cell_type": "code",
   "execution_count": 25,
   "id": "6459c315",
   "metadata": {},
   "outputs": [
    {
     "data": {
      "text/plain": [
       "71"
      ]
     },
     "execution_count": 25,
     "metadata": {},
     "output_type": "execute_result"
    }
   ],
   "source": [
    "# подсчёт явных дубликатов\n",
    "df.duplicated().sum()"
   ]
  },
  {
   "cell_type": "code",
   "execution_count": 26,
   "id": "5c0744cf",
   "metadata": {},
   "outputs": [],
   "source": [
    "# удаление явных дубликатов (с удалением старых индексов и формированием новых)\n",
    "df = df.drop_duplicates().reset_index(drop=True)"
   ]
  },
  {
   "cell_type": "code",
   "execution_count": 27,
   "id": "21162fb4",
   "metadata": {},
   "outputs": [
    {
     "data": {
      "text/plain": [
       "0"
      ]
     },
     "execution_count": 27,
     "metadata": {},
     "output_type": "execute_result"
    }
   ],
   "source": [
    "# проверка на отсутствие дубликатов\n",
    "df.duplicated().sum()"
   ]
  },
  {
   "cell_type": "code",
   "execution_count": 28,
   "id": "817eb506",
   "metadata": {},
   "outputs": [
    {
     "data": {
      "text/plain": [
       "children            0\n",
       "days_employed       0\n",
       "dob_years           0\n",
       "education           0\n",
       "education_id        0\n",
       "family_status       0\n",
       "family_status_id    0\n",
       "gender              0\n",
       "income_type         0\n",
       "debt                0\n",
       "total_income        0\n",
       "purpose             0\n",
       "dtype: int64"
      ]
     },
     "execution_count": 28,
     "metadata": {},
     "output_type": "execute_result"
    }
   ],
   "source": [
    "# Просмотр исходной таблицы\n",
    "df.isna().sum()"
   ]
  },
  {
   "cell_type": "markdown",
   "id": "8fb08508",
   "metadata": {},
   "source": [
    "### Шаг 2.5. Формирование дополнительных датафреймов словарей, декомпозиция исходного датафрейма."
   ]
  },
  {
   "cell_type": "markdown",
   "id": "627d9bd9",
   "metadata": {},
   "source": [
    "Создадим два новых датафрейма, в которых:\n",
    "каждому уникальному значению из education соответствует уникальное значение education_id — в первом;\n",
    "каждому уникальному значению из family_status соответствует уникальное значение family_status_id — во втором.\n",
    "Это делается для того, чтобы в будущих таблицах обращаться уже не к длинной строке, а к её числовому обозначению."
   ]
  },
  {
   "cell_type": "code",
   "execution_count": 29,
   "id": "177e9ff8",
   "metadata": {},
   "outputs": [],
   "source": [
    "# Создание таблицы с видом образования и его id\n",
    "edu_df = df[['education','education_id']]"
   ]
  },
  {
   "cell_type": "code",
   "execution_count": 30,
   "id": "fa227d77",
   "metadata": {},
   "outputs": [],
   "source": [
    "# удаление явных дубликатов (с удалением старых индексов и формированием новых) \n",
    "edu_df = edu_df.drop_duplicates().reset_index(drop=True)"
   ]
  },
  {
   "cell_type": "code",
   "execution_count": 31,
   "id": "f8711b7c",
   "metadata": {},
   "outputs": [
    {
     "data": {
      "text/html": [
       "<div>\n",
       "<style scoped>\n",
       "    .dataframe tbody tr th:only-of-type {\n",
       "        vertical-align: middle;\n",
       "    }\n",
       "\n",
       "    .dataframe tbody tr th {\n",
       "        vertical-align: top;\n",
       "    }\n",
       "\n",
       "    .dataframe thead th {\n",
       "        text-align: right;\n",
       "    }\n",
       "</style>\n",
       "<table border=\"1\" class=\"dataframe\">\n",
       "  <thead>\n",
       "    <tr style=\"text-align: right;\">\n",
       "      <th></th>\n",
       "      <th>education</th>\n",
       "      <th>education_id</th>\n",
       "    </tr>\n",
       "  </thead>\n",
       "  <tbody>\n",
       "    <tr>\n",
       "      <th>0</th>\n",
       "      <td>высшее</td>\n",
       "      <td>0</td>\n",
       "    </tr>\n",
       "    <tr>\n",
       "      <th>1</th>\n",
       "      <td>среднее</td>\n",
       "      <td>1</td>\n",
       "    </tr>\n",
       "    <tr>\n",
       "      <th>2</th>\n",
       "      <td>неоконченное высшее</td>\n",
       "      <td>2</td>\n",
       "    </tr>\n",
       "    <tr>\n",
       "      <th>3</th>\n",
       "      <td>начальное</td>\n",
       "      <td>3</td>\n",
       "    </tr>\n",
       "    <tr>\n",
       "      <th>4</th>\n",
       "      <td>ученая степень</td>\n",
       "      <td>4</td>\n",
       "    </tr>\n",
       "  </tbody>\n",
       "</table>\n",
       "</div>"
      ],
      "text/plain": [
       "             education  education_id\n",
       "0               высшее             0\n",
       "1              среднее             1\n",
       "2  неоконченное высшее             2\n",
       "3            начальное             3\n",
       "4       ученая степень             4"
      ]
     },
     "execution_count": 31,
     "metadata": {},
     "output_type": "execute_result"
    }
   ],
   "source": [
    "# Просмотр результата\n",
    "edu_df"
   ]
  },
  {
   "cell_type": "code",
   "execution_count": 32,
   "id": "304d6478",
   "metadata": {},
   "outputs": [],
   "source": [
    "# Создание таблицы с семейным статусом и его id\n",
    "family_df = df[['family_status','family_status_id']]"
   ]
  },
  {
   "cell_type": "code",
   "execution_count": 33,
   "id": "84ae012c",
   "metadata": {},
   "outputs": [],
   "source": [
    "# удаление явных дубликатов (с удалением старых индексов и формированием новых) \n",
    "family_df = family_df.drop_duplicates().reset_index(drop=True)"
   ]
  },
  {
   "cell_type": "code",
   "execution_count": 34,
   "id": "708bd24a",
   "metadata": {},
   "outputs": [
    {
     "data": {
      "text/html": [
       "<div>\n",
       "<style scoped>\n",
       "    .dataframe tbody tr th:only-of-type {\n",
       "        vertical-align: middle;\n",
       "    }\n",
       "\n",
       "    .dataframe tbody tr th {\n",
       "        vertical-align: top;\n",
       "    }\n",
       "\n",
       "    .dataframe thead th {\n",
       "        text-align: right;\n",
       "    }\n",
       "</style>\n",
       "<table border=\"1\" class=\"dataframe\">\n",
       "  <thead>\n",
       "    <tr style=\"text-align: right;\">\n",
       "      <th></th>\n",
       "      <th>family_status</th>\n",
       "      <th>family_status_id</th>\n",
       "    </tr>\n",
       "  </thead>\n",
       "  <tbody>\n",
       "    <tr>\n",
       "      <th>0</th>\n",
       "      <td>женат / замужем</td>\n",
       "      <td>0</td>\n",
       "    </tr>\n",
       "    <tr>\n",
       "      <th>1</th>\n",
       "      <td>гражданский брак</td>\n",
       "      <td>1</td>\n",
       "    </tr>\n",
       "    <tr>\n",
       "      <th>2</th>\n",
       "      <td>вдовец / вдова</td>\n",
       "      <td>2</td>\n",
       "    </tr>\n",
       "    <tr>\n",
       "      <th>3</th>\n",
       "      <td>в разводе</td>\n",
       "      <td>3</td>\n",
       "    </tr>\n",
       "    <tr>\n",
       "      <th>4</th>\n",
       "      <td>Не женат / не замужем</td>\n",
       "      <td>4</td>\n",
       "    </tr>\n",
       "  </tbody>\n",
       "</table>\n",
       "</div>"
      ],
      "text/plain": [
       "           family_status  family_status_id\n",
       "0        женат / замужем                 0\n",
       "1       гражданский брак                 1\n",
       "2         вдовец / вдова                 2\n",
       "3              в разводе                 3\n",
       "4  Не женат / не замужем                 4"
      ]
     },
     "execution_count": 34,
     "metadata": {},
     "output_type": "execute_result"
    }
   ],
   "source": [
    "family_df"
   ]
  },
  {
   "cell_type": "code",
   "execution_count": 35,
   "id": "c86062b9",
   "metadata": {
    "scrolled": false
   },
   "outputs": [],
   "source": [
    "# удаление столбцов из исходной таблицы\n",
    "df = df.drop(['family_status', 'education'], axis = 1)"
   ]
  },
  {
   "cell_type": "markdown",
   "id": "01e177da",
   "metadata": {},
   "source": [
    "### Шаг 2.6. Категоризация дохода."
   ]
  },
  {
   "cell_type": "markdown",
   "id": "a1503f52",
   "metadata": {},
   "source": [
    "На основании диапазонов, указанных ниже, создадим столбец total_income_category с категориями:\n",
    "0–30000 — 'E';\n",
    "30001–50000 — 'D';\n",
    "50001–200000 — 'C';\n",
    "200001–1000000 — 'B';\n",
    "1000001 и выше — 'A'."
   ]
  },
  {
   "cell_type": "code",
   "execution_count": 36,
   "id": "f64581ea",
   "metadata": {},
   "outputs": [],
   "source": [
    "# Создание функции категоризации дохода, которая на вход принимает значения из стобца 'total_income' и возвращает категорию\n",
    "def cat_income(income):\n",
    "    if 0 <= income <= 30000:\n",
    "        return 'E'\n",
    "    elif 30001 <= income <= 50000:\n",
    "        return 'D'\n",
    "    elif 50001 <= income <= 200000:\n",
    "        return 'C'\n",
    "    elif 200001 <= income <= 1000000:\n",
    "        return 'B'\n",
    "    elif income >= 1000001:\n",
    "        return 'A'\n",
    "    return 'Укажите корректный доход'\n"
   ]
  },
  {
   "cell_type": "code",
   "execution_count": 37,
   "id": "5ad01dd5",
   "metadata": {},
   "outputs": [],
   "source": [
    "# Создадим новый столбец и запишем в него результат применения функции cat_income к столбцу 'total_income'\n",
    "df['total_income_category'] = df['total_income'].apply(cat_income)"
   ]
  },
  {
   "cell_type": "code",
   "execution_count": 38,
   "id": "03bbcba9",
   "metadata": {},
   "outputs": [
    {
     "data": {
      "text/html": [
       "<div>\n",
       "<style scoped>\n",
       "    .dataframe tbody tr th:only-of-type {\n",
       "        vertical-align: middle;\n",
       "    }\n",
       "\n",
       "    .dataframe tbody tr th {\n",
       "        vertical-align: top;\n",
       "    }\n",
       "\n",
       "    .dataframe thead th {\n",
       "        text-align: right;\n",
       "    }\n",
       "</style>\n",
       "<table border=\"1\" class=\"dataframe\">\n",
       "  <thead>\n",
       "    <tr style=\"text-align: right;\">\n",
       "      <th></th>\n",
       "      <th>children</th>\n",
       "      <th>days_employed</th>\n",
       "      <th>dob_years</th>\n",
       "      <th>education_id</th>\n",
       "      <th>family_status_id</th>\n",
       "      <th>gender</th>\n",
       "      <th>income_type</th>\n",
       "      <th>debt</th>\n",
       "      <th>total_income</th>\n",
       "      <th>purpose</th>\n",
       "      <th>total_income_category</th>\n",
       "    </tr>\n",
       "  </thead>\n",
       "  <tbody>\n",
       "    <tr>\n",
       "      <th>0</th>\n",
       "      <td>1</td>\n",
       "      <td>8437.672852</td>\n",
       "      <td>42</td>\n",
       "      <td>0</td>\n",
       "      <td>0</td>\n",
       "      <td>F</td>\n",
       "      <td>сотрудник</td>\n",
       "      <td>0</td>\n",
       "      <td>253875.640625</td>\n",
       "      <td>покупка жилья</td>\n",
       "      <td>B</td>\n",
       "    </tr>\n",
       "    <tr>\n",
       "      <th>1</th>\n",
       "      <td>1</td>\n",
       "      <td>4024.803711</td>\n",
       "      <td>36</td>\n",
       "      <td>1</td>\n",
       "      <td>0</td>\n",
       "      <td>F</td>\n",
       "      <td>сотрудник</td>\n",
       "      <td>0</td>\n",
       "      <td>112080.015625</td>\n",
       "      <td>приобретение автомобиля</td>\n",
       "      <td>C</td>\n",
       "    </tr>\n",
       "    <tr>\n",
       "      <th>2</th>\n",
       "      <td>0</td>\n",
       "      <td>5623.422852</td>\n",
       "      <td>33</td>\n",
       "      <td>1</td>\n",
       "      <td>0</td>\n",
       "      <td>M</td>\n",
       "      <td>сотрудник</td>\n",
       "      <td>0</td>\n",
       "      <td>145885.953125</td>\n",
       "      <td>покупка жилья</td>\n",
       "      <td>C</td>\n",
       "    </tr>\n",
       "    <tr>\n",
       "      <th>3</th>\n",
       "      <td>3</td>\n",
       "      <td>4124.747070</td>\n",
       "      <td>32</td>\n",
       "      <td>1</td>\n",
       "      <td>0</td>\n",
       "      <td>M</td>\n",
       "      <td>сотрудник</td>\n",
       "      <td>0</td>\n",
       "      <td>267628.562500</td>\n",
       "      <td>дополнительное образование</td>\n",
       "      <td>B</td>\n",
       "    </tr>\n",
       "    <tr>\n",
       "      <th>4</th>\n",
       "      <td>0</td>\n",
       "      <td>17013.302734</td>\n",
       "      <td>53</td>\n",
       "      <td>1</td>\n",
       "      <td>1</td>\n",
       "      <td>F</td>\n",
       "      <td>пенсионер</td>\n",
       "      <td>0</td>\n",
       "      <td>158616.078125</td>\n",
       "      <td>сыграть свадьбу</td>\n",
       "      <td>C</td>\n",
       "    </tr>\n",
       "  </tbody>\n",
       "</table>\n",
       "</div>"
      ],
      "text/plain": [
       "   children  days_employed  dob_years  education_id  family_status_id gender  \\\n",
       "0         1    8437.672852         42             0                 0      F   \n",
       "1         1    4024.803711         36             1                 0      F   \n",
       "2         0    5623.422852         33             1                 0      M   \n",
       "3         3    4124.747070         32             1                 0      M   \n",
       "4         0   17013.302734         53             1                 1      F   \n",
       "\n",
       "  income_type  debt   total_income                     purpose  \\\n",
       "0   сотрудник     0  253875.640625               покупка жилья   \n",
       "1   сотрудник     0  112080.015625     приобретение автомобиля   \n",
       "2   сотрудник     0  145885.953125               покупка жилья   \n",
       "3   сотрудник     0  267628.562500  дополнительное образование   \n",
       "4   пенсионер     0  158616.078125             сыграть свадьбу   \n",
       "\n",
       "  total_income_category  \n",
       "0                     B  \n",
       "1                     C  \n",
       "2                     C  \n",
       "3                     B  \n",
       "4                     C  "
      ]
     },
     "execution_count": 38,
     "metadata": {},
     "output_type": "execute_result"
    }
   ],
   "source": [
    "# Просмотр результата\n",
    "df.head()"
   ]
  },
  {
   "cell_type": "markdown",
   "id": "27ee3a8d",
   "metadata": {},
   "source": [
    "### Шаг 2.7. Категоризация целей кредита."
   ]
  },
  {
   "cell_type": "markdown",
   "id": "cbfdb7cd",
   "metadata": {},
   "source": [
    "Создадим функцию, которая на основании данных из столбца purpose сформирует новый столбец purpose_category, в который войдут следующие категории:\n",
    "'операции с автомобилем',\n",
    "'операции с недвижимостью',\n",
    "'проведение свадьбы',\n",
    "'получение образования'."
   ]
  },
  {
   "cell_type": "code",
   "execution_count": 39,
   "id": "9c66a6c8",
   "metadata": {},
   "outputs": [
    {
     "data": {
      "text/plain": [
       "array(['автомобили', 'автомобиль', 'высшее образование',\n",
       "       'дополнительное образование', 'жилье',\n",
       "       'заняться высшим образованием', 'заняться образованием',\n",
       "       'на покупку автомобиля', 'на покупку подержанного автомобиля',\n",
       "       'на покупку своего автомобиля', 'на проведение свадьбы',\n",
       "       'недвижимость', 'образование', 'операции с жильем',\n",
       "       'операции с коммерческой недвижимостью',\n",
       "       'операции с недвижимостью', 'операции со своей недвижимостью',\n",
       "       'покупка жилой недвижимости', 'покупка жилья',\n",
       "       'покупка жилья для сдачи', 'покупка жилья для семьи',\n",
       "       'покупка коммерческой недвижимости', 'покупка недвижимости',\n",
       "       'покупка своего жилья', 'получение высшего образования',\n",
       "       'получение дополнительного образования', 'получение образования',\n",
       "       'приобретение автомобиля', 'профильное образование',\n",
       "       'ремонт жилью', 'свадьба', 'свой автомобиль',\n",
       "       'сделка с автомобилем', 'сделка с подержанным автомобилем',\n",
       "       'строительство жилой недвижимости', 'строительство недвижимости',\n",
       "       'строительство собственной недвижимости', 'сыграть свадьбу'],\n",
       "      dtype=object)"
      ]
     },
     "execution_count": 39,
     "metadata": {},
     "output_type": "execute_result"
    }
   ],
   "source": [
    "# Просмотр целей кредитов\n",
    "df['purpose'].sort_values().unique()"
   ]
  },
  {
   "cell_type": "code",
   "execution_count": 40,
   "id": "1ed93611",
   "metadata": {},
   "outputs": [],
   "source": [
    "# Создание функции категоризации цели кредита, которая на вход принимает значения из стобца 'purpose' и возвращает категорию\n",
    "def purpose_group(category):\n",
    "    if 'автомобил' in category:\n",
    "        return 'операции с автомобилем'\n",
    "    elif ('недвижимост' in category) or ('жиль' in category):\n",
    "        return 'операции с недвижимостью'\n",
    "    elif 'свадьб' in category:\n",
    "        return 'проведение свадьбы'\n",
    "    elif 'образован' in category:\n",
    "        return 'получение образования'\n",
    "df['purpose_category'] = df['purpose'].apply(purpose_group)"
   ]
  },
  {
   "cell_type": "markdown",
   "id": "fd1332dd",
   "metadata": {},
   "source": [
    "### Ответы на вопросы."
   ]
  },
  {
   "cell_type": "markdown",
   "id": "3467fa16",
   "metadata": {},
   "source": [
    "##### Вопрос 1:"
   ]
  },
  {
   "cell_type": "markdown",
   "id": "dc0fec04",
   "metadata": {},
   "source": [
    "Создадим сводную таблицу с количеством детей и наличием просрочки по кредиту и найдем процент должников"
   ]
  },
  {
   "cell_type": "code",
   "execution_count": 41,
   "id": "9e6c3d90",
   "metadata": {},
   "outputs": [
    {
     "data": {
      "text/html": [
       "<div>\n",
       "<style scoped>\n",
       "    .dataframe tbody tr th:only-of-type {\n",
       "        vertical-align: middle;\n",
       "    }\n",
       "\n",
       "    .dataframe tbody tr th {\n",
       "        vertical-align: top;\n",
       "    }\n",
       "\n",
       "    .dataframe thead tr th {\n",
       "        text-align: left;\n",
       "    }\n",
       "\n",
       "    .dataframe thead tr:last-of-type th {\n",
       "        text-align: right;\n",
       "    }\n",
       "</style>\n",
       "<table border=\"1\" class=\"dataframe\">\n",
       "  <thead>\n",
       "    <tr>\n",
       "      <th></th>\n",
       "      <th colspan=\"10\" halign=\"left\">count</th>\n",
       "      <th>...</th>\n",
       "      <th colspan=\"9\" halign=\"left\">mean</th>\n",
       "      <th>%_debt</th>\n",
       "    </tr>\n",
       "    <tr>\n",
       "      <th></th>\n",
       "      <th colspan=\"2\" halign=\"left\">days_employed</th>\n",
       "      <th colspan=\"2\" halign=\"left\">dob_years</th>\n",
       "      <th colspan=\"2\" halign=\"left\">education_id</th>\n",
       "      <th colspan=\"2\" halign=\"left\">family_status_id</th>\n",
       "      <th colspan=\"2\" halign=\"left\">gender</th>\n",
       "      <th>...</th>\n",
       "      <th>days_employed</th>\n",
       "      <th colspan=\"2\" halign=\"left\">dob_years</th>\n",
       "      <th colspan=\"2\" halign=\"left\">education_id</th>\n",
       "      <th colspan=\"2\" halign=\"left\">family_status_id</th>\n",
       "      <th colspan=\"2\" halign=\"left\">total_income</th>\n",
       "      <th></th>\n",
       "    </tr>\n",
       "    <tr>\n",
       "      <th>debt</th>\n",
       "      <th>0</th>\n",
       "      <th>1</th>\n",
       "      <th>0</th>\n",
       "      <th>1</th>\n",
       "      <th>0</th>\n",
       "      <th>1</th>\n",
       "      <th>0</th>\n",
       "      <th>1</th>\n",
       "      <th>0</th>\n",
       "      <th>1</th>\n",
       "      <th>...</th>\n",
       "      <th>1</th>\n",
       "      <th>0</th>\n",
       "      <th>1</th>\n",
       "      <th>0</th>\n",
       "      <th>1</th>\n",
       "      <th>0</th>\n",
       "      <th>1</th>\n",
       "      <th>0</th>\n",
       "      <th>1</th>\n",
       "      <th></th>\n",
       "    </tr>\n",
       "    <tr>\n",
       "      <th>children</th>\n",
       "      <th></th>\n",
       "      <th></th>\n",
       "      <th></th>\n",
       "      <th></th>\n",
       "      <th></th>\n",
       "      <th></th>\n",
       "      <th></th>\n",
       "      <th></th>\n",
       "      <th></th>\n",
       "      <th></th>\n",
       "      <th></th>\n",
       "      <th></th>\n",
       "      <th></th>\n",
       "      <th></th>\n",
       "      <th></th>\n",
       "      <th></th>\n",
       "      <th></th>\n",
       "      <th></th>\n",
       "      <th></th>\n",
       "      <th></th>\n",
       "      <th></th>\n",
       "    </tr>\n",
       "  </thead>\n",
       "  <tbody>\n",
       "    <tr>\n",
       "      <th>0</th>\n",
       "      <td>13028.0</td>\n",
       "      <td>1063.0</td>\n",
       "      <td>13028.0</td>\n",
       "      <td>1063.0</td>\n",
       "      <td>13028.0</td>\n",
       "      <td>1063.0</td>\n",
       "      <td>13028.0</td>\n",
       "      <td>1063.0</td>\n",
       "      <td>13028.0</td>\n",
       "      <td>1063.0</td>\n",
       "      <td>...</td>\n",
       "      <td>4497.440430</td>\n",
       "      <td>46.495855</td>\n",
       "      <td>43.000000</td>\n",
       "      <td>0.825223</td>\n",
       "      <td>0.900282</td>\n",
       "      <td>1.111759</td>\n",
       "      <td>1.260583</td>\n",
       "      <td>163410.609375</td>\n",
       "      <td>160193.859375</td>\n",
       "      <td>0.075438</td>\n",
       "    </tr>\n",
       "    <tr>\n",
       "      <th>1</th>\n",
       "      <td>4410.0</td>\n",
       "      <td>445.0</td>\n",
       "      <td>4410.0</td>\n",
       "      <td>445.0</td>\n",
       "      <td>4410.0</td>\n",
       "      <td>445.0</td>\n",
       "      <td>4410.0</td>\n",
       "      <td>445.0</td>\n",
       "      <td>4410.0</td>\n",
       "      <td>445.0</td>\n",
       "      <td>...</td>\n",
       "      <td>2241.438721</td>\n",
       "      <td>38.602268</td>\n",
       "      <td>36.559551</td>\n",
       "      <td>0.773469</td>\n",
       "      <td>0.928090</td>\n",
       "      <td>0.798866</td>\n",
       "      <td>0.905618</td>\n",
       "      <td>169072.406250</td>\n",
       "      <td>163309.328125</td>\n",
       "      <td>0.091658</td>\n",
       "    </tr>\n",
       "    <tr>\n",
       "      <th>2</th>\n",
       "      <td>1926.0</td>\n",
       "      <td>202.0</td>\n",
       "      <td>1926.0</td>\n",
       "      <td>202.0</td>\n",
       "      <td>1926.0</td>\n",
       "      <td>202.0</td>\n",
       "      <td>1926.0</td>\n",
       "      <td>202.0</td>\n",
       "      <td>1926.0</td>\n",
       "      <td>202.0</td>\n",
       "      <td>...</td>\n",
       "      <td>1927.446899</td>\n",
       "      <td>36.057632</td>\n",
       "      <td>35.297030</td>\n",
       "      <td>0.773105</td>\n",
       "      <td>0.960396</td>\n",
       "      <td>0.459502</td>\n",
       "      <td>0.509901</td>\n",
       "      <td>169572.671875</td>\n",
       "      <td>164651.265625</td>\n",
       "      <td>0.094925</td>\n",
       "    </tr>\n",
       "    <tr>\n",
       "      <th>3</th>\n",
       "      <td>303.0</td>\n",
       "      <td>27.0</td>\n",
       "      <td>303.0</td>\n",
       "      <td>27.0</td>\n",
       "      <td>303.0</td>\n",
       "      <td>27.0</td>\n",
       "      <td>303.0</td>\n",
       "      <td>27.0</td>\n",
       "      <td>303.0</td>\n",
       "      <td>27.0</td>\n",
       "      <td>...</td>\n",
       "      <td>2364.405029</td>\n",
       "      <td>36.313531</td>\n",
       "      <td>36.000000</td>\n",
       "      <td>0.815182</td>\n",
       "      <td>0.925926</td>\n",
       "      <td>0.389439</td>\n",
       "      <td>0.555556</td>\n",
       "      <td>181796.234375</td>\n",
       "      <td>148766.984375</td>\n",
       "      <td>0.081818</td>\n",
       "    </tr>\n",
       "    <tr>\n",
       "      <th>4</th>\n",
       "      <td>37.0</td>\n",
       "      <td>4.0</td>\n",
       "      <td>37.0</td>\n",
       "      <td>4.0</td>\n",
       "      <td>37.0</td>\n",
       "      <td>4.0</td>\n",
       "      <td>37.0</td>\n",
       "      <td>4.0</td>\n",
       "      <td>37.0</td>\n",
       "      <td>4.0</td>\n",
       "      <td>...</td>\n",
       "      <td>1589.043945</td>\n",
       "      <td>35.729730</td>\n",
       "      <td>39.000000</td>\n",
       "      <td>0.756757</td>\n",
       "      <td>1.000000</td>\n",
       "      <td>0.459459</td>\n",
       "      <td>1.000000</td>\n",
       "      <td>166611.765625</td>\n",
       "      <td>162394.812500</td>\n",
       "      <td>0.097561</td>\n",
       "    </tr>\n",
       "    <tr>\n",
       "      <th>5</th>\n",
       "      <td>9.0</td>\n",
       "      <td>NaN</td>\n",
       "      <td>9.0</td>\n",
       "      <td>NaN</td>\n",
       "      <td>9.0</td>\n",
       "      <td>NaN</td>\n",
       "      <td>9.0</td>\n",
       "      <td>NaN</td>\n",
       "      <td>9.0</td>\n",
       "      <td>NaN</td>\n",
       "      <td>...</td>\n",
       "      <td>NaN</td>\n",
       "      <td>38.777778</td>\n",
       "      <td>NaN</td>\n",
       "      <td>1.222222</td>\n",
       "      <td>NaN</td>\n",
       "      <td>0.222222</td>\n",
       "      <td>NaN</td>\n",
       "      <td>167606.703125</td>\n",
       "      <td>NaN</td>\n",
       "      <td>NaN</td>\n",
       "    </tr>\n",
       "  </tbody>\n",
       "</table>\n",
       "<p>6 rows × 41 columns</p>\n",
       "</div>"
      ],
      "text/plain": [
       "                 count                                                 \\\n",
       "         days_employed         dob_years         education_id           \n",
       "debt                 0       1         0       1            0       1   \n",
       "children                                                                \n",
       "0              13028.0  1063.0   13028.0  1063.0      13028.0  1063.0   \n",
       "1               4410.0   445.0    4410.0   445.0       4410.0   445.0   \n",
       "2               1926.0   202.0    1926.0   202.0       1926.0   202.0   \n",
       "3                303.0    27.0     303.0    27.0        303.0    27.0   \n",
       "4                 37.0     4.0      37.0     4.0         37.0     4.0   \n",
       "5                  9.0     NaN       9.0     NaN          9.0     NaN   \n",
       "\n",
       "                                                    ...          mean  \\\n",
       "         family_status_id           gender          ... days_employed   \n",
       "debt                    0       1        0       1  ...             1   \n",
       "children                                            ...                 \n",
       "0                 13028.0  1063.0  13028.0  1063.0  ...   4497.440430   \n",
       "1                  4410.0   445.0   4410.0   445.0  ...   2241.438721   \n",
       "2                  1926.0   202.0   1926.0   202.0  ...   1927.446899   \n",
       "3                   303.0    27.0    303.0    27.0  ...   2364.405029   \n",
       "4                    37.0     4.0     37.0     4.0  ...   1589.043945   \n",
       "5                     9.0     NaN      9.0     NaN  ...           NaN   \n",
       "\n",
       "                                                                        \\\n",
       "          dob_years            education_id           family_status_id   \n",
       "debt              0          1            0         1                0   \n",
       "children                                                                 \n",
       "0         46.495855  43.000000     0.825223  0.900282         1.111759   \n",
       "1         38.602268  36.559551     0.773469  0.928090         0.798866   \n",
       "2         36.057632  35.297030     0.773105  0.960396         0.459502   \n",
       "3         36.313531  36.000000     0.815182  0.925926         0.389439   \n",
       "4         35.729730  39.000000     0.756757  1.000000         0.459459   \n",
       "5         38.777778        NaN     1.222222       NaN         0.222222   \n",
       "\n",
       "                                                    %_debt  \n",
       "                     total_income                           \n",
       "debt             1              0              1            \n",
       "children                                                    \n",
       "0         1.260583  163410.609375  160193.859375  0.075438  \n",
       "1         0.905618  169072.406250  163309.328125  0.091658  \n",
       "2         0.509901  169572.671875  164651.265625  0.094925  \n",
       "3         0.555556  181796.234375  148766.984375  0.081818  \n",
       "4         1.000000  166611.765625  162394.812500  0.097561  \n",
       "5              NaN  167606.703125            NaN       NaN  \n",
       "\n",
       "[6 rows x 41 columns]"
      ]
     },
     "metadata": {},
     "output_type": "display_data"
    }
   ],
   "source": [
    "children_debt = df.pivot_table(index=['children'], columns=['debt'], aggfunc=['count','sum','mean'])\n",
    "children_debt['%_debt'] = children_debt['count']['days_employed'][1] / (children_debt['count']['days_employed'][0] \n",
    "                                                                        + children_debt['count']['days_employed'][1])\n",
    "display(children_debt)"
   ]
  },
  {
   "cell_type": "markdown",
   "id": "4b8d8447",
   "metadata": {},
   "source": [
    "##### Вывод 1:"
   ]
  },
  {
   "cell_type": "markdown",
   "id": "482530c8",
   "metadata": {},
   "source": [
    "Чем больше детей в семье, тем выше процент должников"
   ]
  },
  {
   "cell_type": "markdown",
   "id": "9c61e75a",
   "metadata": {},
   "source": [
    "##### Вопрос 2:"
   ]
  },
  {
   "cell_type": "markdown",
   "id": "70028137",
   "metadata": {},
   "source": [
    "Создадим сводную таблицу с идентификатором семейного статуса и наличием просрочки по кредиту, обратимся к ранее созданному словарю с идентификатором, объединим эти таблицы и найдём зависимость между семейным статусом и наличием просрочки по кредиту"
   ]
  },
  {
   "cell_type": "code",
   "execution_count": 42,
   "id": "c85621f0",
   "metadata": {
    "scrolled": true
   },
   "outputs": [
    {
     "data": {
      "text/html": [
       "<div>\n",
       "<style scoped>\n",
       "    .dataframe tbody tr th:only-of-type {\n",
       "        vertical-align: middle;\n",
       "    }\n",
       "\n",
       "    .dataframe tbody tr th {\n",
       "        vertical-align: top;\n",
       "    }\n",
       "\n",
       "    .dataframe thead th {\n",
       "        text-align: right;\n",
       "    }\n",
       "</style>\n",
       "<table border=\"1\" class=\"dataframe\">\n",
       "  <thead>\n",
       "    <tr style=\"text-align: right;\">\n",
       "      <th></th>\n",
       "      <th>family_status</th>\n",
       "      <th>0</th>\n",
       "      <th>1</th>\n",
       "      <th>%_debt</th>\n",
       "    </tr>\n",
       "  </thead>\n",
       "  <tbody>\n",
       "    <tr>\n",
       "      <th>0</th>\n",
       "      <td>женат / замужем</td>\n",
       "      <td>11408</td>\n",
       "      <td>931</td>\n",
       "      <td>0.075452</td>\n",
       "    </tr>\n",
       "    <tr>\n",
       "      <th>1</th>\n",
       "      <td>гражданский брак</td>\n",
       "      <td>3763</td>\n",
       "      <td>388</td>\n",
       "      <td>0.093471</td>\n",
       "    </tr>\n",
       "    <tr>\n",
       "      <th>2</th>\n",
       "      <td>вдовец / вдова</td>\n",
       "      <td>896</td>\n",
       "      <td>63</td>\n",
       "      <td>0.065693</td>\n",
       "    </tr>\n",
       "    <tr>\n",
       "      <th>3</th>\n",
       "      <td>в разводе</td>\n",
       "      <td>1110</td>\n",
       "      <td>85</td>\n",
       "      <td>0.071130</td>\n",
       "    </tr>\n",
       "    <tr>\n",
       "      <th>4</th>\n",
       "      <td>Не женат / не замужем</td>\n",
       "      <td>2536</td>\n",
       "      <td>274</td>\n",
       "      <td>0.097509</td>\n",
       "    </tr>\n",
       "  </tbody>\n",
       "</table>\n",
       "</div>"
      ],
      "text/plain": [
       "           family_status      0    1    %_debt\n",
       "0        женат / замужем  11408  931  0.075452\n",
       "1       гражданский брак   3763  388  0.093471\n",
       "2         вдовец / вдова    896   63  0.065693\n",
       "3              в разводе   1110   85  0.071130\n",
       "4  Не женат / не замужем   2536  274  0.097509"
      ]
     },
     "metadata": {},
     "output_type": "display_data"
    }
   ],
   "source": [
    "fam_status_debt = df.pivot_table(index=['family_status_id'], columns=['debt'], aggfunc='count')['days_employed']\n",
    "fam_status_debt['%_debt'] = fam_status_debt[1] / (fam_status_debt[0] + fam_status_debt[1])\n",
    "data_fam = family_df.merge(fam_status_debt, on='family_status_id', how='left').drop('family_status_id', axis = 1)\n",
    "display(data_fam)"
   ]
  },
  {
   "cell_type": "markdown",
   "id": "a9cc123b",
   "metadata": {},
   "source": [
    "##### Вывод 2:"
   ]
  },
  {
   "cell_type": "markdown",
   "id": "b1135113",
   "metadata": {},
   "source": [
    "Зависимость есть: среди одиноких людей, которые уже были в браке, процент должников ниже, чем у тех кто состоит в браке или не состоял"
   ]
  },
  {
   "cell_type": "markdown",
   "id": "b04bfe79",
   "metadata": {},
   "source": [
    "##### Вопрос 3:"
   ]
  },
  {
   "cell_type": "markdown",
   "id": "e59d11ca",
   "metadata": {},
   "source": [
    "Создадим сводную таблицу с категорией дохода и наличием просрочки по кредиту и найдем процент должников"
   ]
  },
  {
   "cell_type": "code",
   "execution_count": 43,
   "id": "a11e5f3c",
   "metadata": {},
   "outputs": [
    {
     "data": {
      "text/html": [
       "<div>\n",
       "<style scoped>\n",
       "    .dataframe tbody tr th:only-of-type {\n",
       "        vertical-align: middle;\n",
       "    }\n",
       "\n",
       "    .dataframe tbody tr th {\n",
       "        vertical-align: top;\n",
       "    }\n",
       "\n",
       "    .dataframe thead th {\n",
       "        text-align: right;\n",
       "    }\n",
       "</style>\n",
       "<table border=\"1\" class=\"dataframe\">\n",
       "  <thead>\n",
       "    <tr style=\"text-align: right;\">\n",
       "      <th>debt</th>\n",
       "      <th>0</th>\n",
       "      <th>1</th>\n",
       "      <th>%_debt</th>\n",
       "    </tr>\n",
       "    <tr>\n",
       "      <th>total_income_category</th>\n",
       "      <th></th>\n",
       "      <th></th>\n",
       "      <th></th>\n",
       "    </tr>\n",
       "  </thead>\n",
       "  <tbody>\n",
       "    <tr>\n",
       "      <th>A</th>\n",
       "      <td>23</td>\n",
       "      <td>2</td>\n",
       "      <td>0.080000</td>\n",
       "    </tr>\n",
       "    <tr>\n",
       "      <th>B</th>\n",
       "      <td>4685</td>\n",
       "      <td>356</td>\n",
       "      <td>0.070621</td>\n",
       "    </tr>\n",
       "    <tr>\n",
       "      <th>C</th>\n",
       "      <td>14656</td>\n",
       "      <td>1360</td>\n",
       "      <td>0.084915</td>\n",
       "    </tr>\n",
       "    <tr>\n",
       "      <th>D</th>\n",
       "      <td>329</td>\n",
       "      <td>21</td>\n",
       "      <td>0.060000</td>\n",
       "    </tr>\n",
       "    <tr>\n",
       "      <th>E</th>\n",
       "      <td>20</td>\n",
       "      <td>2</td>\n",
       "      <td>0.090909</td>\n",
       "    </tr>\n",
       "  </tbody>\n",
       "</table>\n",
       "</div>"
      ],
      "text/plain": [
       "debt                       0     1    %_debt\n",
       "total_income_category                       \n",
       "A                         23     2  0.080000\n",
       "B                       4685   356  0.070621\n",
       "C                      14656  1360  0.084915\n",
       "D                        329    21  0.060000\n",
       "E                         20     2  0.090909"
      ]
     },
     "metadata": {},
     "output_type": "display_data"
    }
   ],
   "source": [
    "income_status_debt = df.pivot_table(index=['total_income_category'], columns=['debt'], aggfunc='count')['days_employed']\n",
    "income_status_debt['%_debt'] = income_status_debt[1] / (income_status_debt[0] + income_status_debt[1])\n",
    "display(income_status_debt)"
   ]
  },
  {
   "cell_type": "markdown",
   "id": "1b64b40c",
   "metadata": {},
   "source": [
    "##### Вывод 3:"
   ]
  },
  {
   "cell_type": "markdown",
   "id": "e4adc9f2",
   "metadata": {},
   "source": [
    "Самый низкий процент должников у людей с доходом от 30001 до 50000, самый высокий у самых бедных с доходом менее 30000. Меньше всего кредитов взяли самые бедные и самые богатые. Больше всего кредитов у среднего класса с доходом от 50001 до 200000"
   ]
  },
  {
   "cell_type": "markdown",
   "id": "761d7bce",
   "metadata": {},
   "source": [
    "##### Вопрос 4:"
   ]
  },
  {
   "cell_type": "markdown",
   "id": "201b1f07",
   "metadata": {},
   "source": [
    "Создадим сводную таблицу с категорией цели кредита и наличием просрочки по кредиту и найдем процент должников"
   ]
  },
  {
   "cell_type": "code",
   "execution_count": 44,
   "id": "c05d2dca",
   "metadata": {},
   "outputs": [
    {
     "data": {
      "text/html": [
       "<div>\n",
       "<style scoped>\n",
       "    .dataframe tbody tr th:only-of-type {\n",
       "        vertical-align: middle;\n",
       "    }\n",
       "\n",
       "    .dataframe tbody tr th {\n",
       "        vertical-align: top;\n",
       "    }\n",
       "\n",
       "    .dataframe thead th {\n",
       "        text-align: right;\n",
       "    }\n",
       "</style>\n",
       "<table border=\"1\" class=\"dataframe\">\n",
       "  <thead>\n",
       "    <tr style=\"text-align: right;\">\n",
       "      <th>debt</th>\n",
       "      <th>0</th>\n",
       "      <th>1</th>\n",
       "      <th>%_debt</th>\n",
       "    </tr>\n",
       "    <tr>\n",
       "      <th>purpose_category</th>\n",
       "      <th></th>\n",
       "      <th></th>\n",
       "      <th></th>\n",
       "    </tr>\n",
       "  </thead>\n",
       "  <tbody>\n",
       "    <tr>\n",
       "      <th>операции с автомобилем</th>\n",
       "      <td>3903</td>\n",
       "      <td>403</td>\n",
       "      <td>0.093590</td>\n",
       "    </tr>\n",
       "    <tr>\n",
       "      <th>операции с недвижимостью</th>\n",
       "      <td>10029</td>\n",
       "      <td>782</td>\n",
       "      <td>0.072334</td>\n",
       "    </tr>\n",
       "    <tr>\n",
       "      <th>получение образования</th>\n",
       "      <td>3643</td>\n",
       "      <td>370</td>\n",
       "      <td>0.092200</td>\n",
       "    </tr>\n",
       "    <tr>\n",
       "      <th>проведение свадьбы</th>\n",
       "      <td>2138</td>\n",
       "      <td>186</td>\n",
       "      <td>0.080034</td>\n",
       "    </tr>\n",
       "  </tbody>\n",
       "</table>\n",
       "</div>"
      ],
      "text/plain": [
       "debt                          0    1    %_debt\n",
       "purpose_category                              \n",
       "операции с автомобилем     3903  403  0.093590\n",
       "операции с недвижимостью  10029  782  0.072334\n",
       "получение образования      3643  370  0.092200\n",
       "проведение свадьбы         2138  186  0.080034"
      ]
     },
     "metadata": {},
     "output_type": "display_data"
    }
   ],
   "source": [
    "aim_debt = df.pivot_table(index=['purpose_category'], columns=['debt'], aggfunc='count')['days_employed']\n",
    "aim_debt['%_debt'] = aim_debt[1] / (aim_debt[0] + aim_debt[1])\n",
    "display(aim_debt)"
   ]
  },
  {
   "cell_type": "markdown",
   "id": "0b1d1ae2",
   "metadata": {},
   "source": [
    "##### Вывод 4:"
   ]
  },
  {
   "cell_type": "markdown",
   "id": "199dbcd3",
   "metadata": {},
   "source": [
    "Самый высокий процент должников среди тех, кто берёт кредит на операции с автомобилем, самый низкий на операции с недвижимостью"
   ]
  },
  {
   "cell_type": "markdown",
   "id": "9f339f44",
   "metadata": {},
   "source": [
    "## Общий вывод:"
   ]
  },
  {
   "cell_type": "markdown",
   "id": "6ab27c6c",
   "metadata": {},
   "source": [
    "В ходе данного иследования были выполнены следующие действия: предобработка данных (удаление дубликатов явных и неявных, заполение пропущенных значений, исправление аномальных данных), типизация и категоризация данных.\n",
    "В ходе анализа полученных данных был сделан вывод, что на погашение кредита в срок вляет множество факторов: количество детей в семье, цель кредита, ежемесячный доход, семейное положение. Соответственно, при построении скоринговой модели особое внимание стоит уделить количеству детей в семье, ежемесячному доходу, семейному положению и цели кредита.\n"
   ]
  }
 ],
 "metadata": {
  "ExecuteTimeLog": [
   {
    "duration": 456,
    "start_time": "2022-04-27T20:18:42.537Z"
   },
   {
    "duration": 65,
    "start_time": "2022-04-27T20:18:43.541Z"
   },
   {
    "duration": 26,
    "start_time": "2022-04-27T20:18:46.343Z"
   },
   {
    "duration": 12,
    "start_time": "2022-04-27T20:35:56.127Z"
   },
   {
    "duration": 12,
    "start_time": "2022-04-27T20:36:05.041Z"
   },
   {
    "duration": 16,
    "start_time": "2022-04-27T20:36:38.268Z"
   },
   {
    "duration": 6,
    "start_time": "2022-04-27T20:38:07.408Z"
   },
   {
    "duration": 98,
    "start_time": "2022-04-27T20:39:59.629Z"
   },
   {
    "duration": 79,
    "start_time": "2022-04-27T20:40:22.113Z"
   },
   {
    "duration": 77,
    "start_time": "2022-04-27T20:40:33.798Z"
   },
   {
    "duration": 72,
    "start_time": "2022-04-30T23:54:39.440Z"
   },
   {
    "duration": 490,
    "start_time": "2022-04-30T23:54:43.084Z"
   },
   {
    "duration": 81,
    "start_time": "2022-04-30T23:54:44.482Z"
   },
   {
    "duration": 31,
    "start_time": "2022-04-30T23:54:47.239Z"
   },
   {
    "duration": 18,
    "start_time": "2022-04-30T23:54:49.872Z"
   },
   {
    "duration": 23,
    "start_time": "2022-04-30T23:54:52.068Z"
   },
   {
    "duration": 14,
    "start_time": "2022-04-30T23:54:55.363Z"
   },
   {
    "duration": 14,
    "start_time": "2022-04-30T23:56:45.940Z"
   },
   {
    "duration": 20,
    "start_time": "2022-04-30T23:57:10.273Z"
   },
   {
    "duration": 20,
    "start_time": "2022-04-30T23:57:16.484Z"
   },
   {
    "duration": 19,
    "start_time": "2022-05-01T00:00:49.876Z"
   },
   {
    "duration": 8,
    "start_time": "2022-05-01T00:02:00.383Z"
   },
   {
    "duration": 9,
    "start_time": "2022-05-01T00:02:40.669Z"
   },
   {
    "duration": 9,
    "start_time": "2022-05-01T00:02:51.145Z"
   },
   {
    "duration": 10,
    "start_time": "2022-05-01T00:04:50.659Z"
   },
   {
    "duration": 10,
    "start_time": "2022-05-01T00:05:47.816Z"
   },
   {
    "duration": 4,
    "start_time": "2022-05-01T00:11:46.747Z"
   },
   {
    "duration": 166,
    "start_time": "2022-05-01T00:12:33.533Z"
   },
   {
    "duration": 127,
    "start_time": "2022-05-01T00:13:22.044Z"
   },
   {
    "duration": 11,
    "start_time": "2022-05-01T00:16:05.236Z"
   },
   {
    "duration": 8,
    "start_time": "2022-05-01T00:16:12.574Z"
   },
   {
    "duration": 7,
    "start_time": "2022-05-01T00:16:54.683Z"
   },
   {
    "duration": 5,
    "start_time": "2022-05-01T00:16:57.588Z"
   },
   {
    "duration": 12,
    "start_time": "2022-05-01T00:24:39.851Z"
   },
   {
    "duration": 135,
    "start_time": "2022-05-01T00:24:46.482Z"
   },
   {
    "duration": 12,
    "start_time": "2022-05-01T00:24:51.555Z"
   },
   {
    "duration": 1190,
    "start_time": "2022-05-01T00:25:11.931Z"
   },
   {
    "duration": 1172,
    "start_time": "2022-05-01T00:25:13.614Z"
   },
   {
    "duration": 1158,
    "start_time": "2022-05-01T00:25:15.202Z"
   },
   {
    "duration": 1199,
    "start_time": "2022-05-01T00:25:22.682Z"
   },
   {
    "duration": 17,
    "start_time": "2022-05-01T00:25:37.390Z"
   },
   {
    "duration": 17,
    "start_time": "2022-05-01T00:25:43.590Z"
   },
   {
    "duration": 8,
    "start_time": "2022-05-01T00:27:26.175Z"
   },
   {
    "duration": 33,
    "start_time": "2022-05-01T00:28:23.010Z"
   },
   {
    "duration": 6,
    "start_time": "2022-05-01T00:30:43.466Z"
   },
   {
    "duration": 7,
    "start_time": "2022-05-01T00:31:04.714Z"
   },
   {
    "duration": 41,
    "start_time": "2022-05-01T00:31:19.286Z"
   },
   {
    "duration": 17,
    "start_time": "2022-05-01T00:31:26.807Z"
   },
   {
    "duration": 5,
    "start_time": "2022-05-01T00:31:46.987Z"
   },
   {
    "duration": 6,
    "start_time": "2022-05-01T00:31:48.646Z"
   },
   {
    "duration": 9,
    "start_time": "2022-05-01T00:31:50.178Z"
   },
   {
    "duration": 5,
    "start_time": "2022-05-01T00:34:15.115Z"
   },
   {
    "duration": 7,
    "start_time": "2022-05-01T00:34:24.778Z"
   },
   {
    "duration": 33,
    "start_time": "2022-05-01T00:34:32.786Z"
   },
   {
    "duration": 7,
    "start_time": "2022-05-01T00:35:03.190Z"
   },
   {
    "duration": 515,
    "start_time": "2022-05-01T00:36:01.029Z"
   },
   {
    "duration": 79,
    "start_time": "2022-05-01T00:36:01.546Z"
   },
   {
    "duration": 31,
    "start_time": "2022-05-01T00:36:01.627Z"
   },
   {
    "duration": 22,
    "start_time": "2022-05-01T00:36:01.661Z"
   },
   {
    "duration": 51,
    "start_time": "2022-05-01T00:36:01.686Z"
   },
   {
    "duration": 33,
    "start_time": "2022-05-01T00:36:01.740Z"
   },
   {
    "duration": 27,
    "start_time": "2022-05-01T00:36:01.775Z"
   },
   {
    "duration": 27,
    "start_time": "2022-05-01T00:36:01.804Z"
   },
   {
    "duration": 22,
    "start_time": "2022-05-01T00:36:01.834Z"
   },
   {
    "duration": 18,
    "start_time": "2022-05-01T00:36:01.859Z"
   },
   {
    "duration": 48,
    "start_time": "2022-05-01T00:36:01.879Z"
   },
   {
    "duration": 5,
    "start_time": "2022-05-01T00:36:01.929Z"
   },
   {
    "duration": 23,
    "start_time": "2022-05-01T00:36:01.936Z"
   },
   {
    "duration": 18,
    "start_time": "2022-05-01T00:36:52.069Z"
   },
   {
    "duration": 36,
    "start_time": "2022-05-01T00:39:08.882Z"
   },
   {
    "duration": 537,
    "start_time": "2022-05-01T00:39:15.997Z"
   },
   {
    "duration": 77,
    "start_time": "2022-05-01T00:39:16.537Z"
   },
   {
    "duration": 35,
    "start_time": "2022-05-01T00:39:16.616Z"
   },
   {
    "duration": 18,
    "start_time": "2022-05-01T00:39:16.653Z"
   },
   {
    "duration": 49,
    "start_time": "2022-05-01T00:39:16.675Z"
   },
   {
    "duration": 13,
    "start_time": "2022-05-01T00:39:16.727Z"
   },
   {
    "duration": 20,
    "start_time": "2022-05-01T00:39:16.742Z"
   },
   {
    "duration": 10,
    "start_time": "2022-05-01T00:39:16.764Z"
   },
   {
    "duration": 7,
    "start_time": "2022-05-01T00:39:16.776Z"
   },
   {
    "duration": 7,
    "start_time": "2022-05-01T00:39:16.824Z"
   },
   {
    "duration": 36,
    "start_time": "2022-05-01T00:39:16.833Z"
   },
   {
    "duration": 5,
    "start_time": "2022-05-01T00:39:16.872Z"
   },
   {
    "duration": 14,
    "start_time": "2022-05-01T00:39:16.879Z"
   },
   {
    "duration": 18,
    "start_time": "2022-05-01T00:39:16.925Z"
   },
   {
    "duration": 33,
    "start_time": "2022-05-01T00:40:33.080Z"
   },
   {
    "duration": 4,
    "start_time": "2022-05-01T00:40:46.402Z"
   },
   {
    "duration": 6,
    "start_time": "2022-05-01T00:41:28.830Z"
   },
   {
    "duration": 29,
    "start_time": "2022-05-01T00:41:47.429Z"
   },
   {
    "duration": 31,
    "start_time": "2022-05-01T00:42:02.069Z"
   },
   {
    "duration": 26,
    "start_time": "2022-05-01T00:42:12.701Z"
   },
   {
    "duration": 27,
    "start_time": "2022-05-01T00:42:18.979Z"
   },
   {
    "duration": 25,
    "start_time": "2022-05-01T00:42:24.890Z"
   },
   {
    "duration": 29,
    "start_time": "2022-05-01T00:42:30.134Z"
   },
   {
    "duration": 26,
    "start_time": "2022-05-01T00:42:43.534Z"
   },
   {
    "duration": 43,
    "start_time": "2022-05-01T00:42:59.326Z"
   },
   {
    "duration": 25,
    "start_time": "2022-05-01T00:44:01.554Z"
   },
   {
    "duration": 19,
    "start_time": "2022-05-01T00:44:42.566Z"
   },
   {
    "duration": 57,
    "start_time": "2022-05-01T00:45:20.593Z"
   },
   {
    "duration": 10,
    "start_time": "2022-05-01T00:46:01.565Z"
   },
   {
    "duration": 19,
    "start_time": "2022-05-01T00:46:56.179Z"
   },
   {
    "duration": 24,
    "start_time": "2022-05-01T00:47:02.115Z"
   },
   {
    "duration": 15,
    "start_time": "2022-05-01T00:47:20.670Z"
   },
   {
    "duration": 11,
    "start_time": "2022-05-01T00:47:24.098Z"
   },
   {
    "duration": 55,
    "start_time": "2022-05-01T00:48:14.242Z"
   },
   {
    "duration": 98,
    "start_time": "2022-05-01T00:48:34.442Z"
   },
   {
    "duration": 32,
    "start_time": "2022-05-01T00:48:45.678Z"
   },
   {
    "duration": 10,
    "start_time": "2022-05-01T00:48:52.207Z"
   },
   {
    "duration": 27,
    "start_time": "2022-05-01T00:53:21.522Z"
   },
   {
    "duration": 17,
    "start_time": "2022-05-01T00:54:46.633Z"
   },
   {
    "duration": 17,
    "start_time": "2022-05-01T00:54:55.134Z"
   },
   {
    "duration": 17,
    "start_time": "2022-05-01T00:55:19.438Z"
   },
   {
    "duration": 7,
    "start_time": "2022-05-01T00:55:26.849Z"
   },
   {
    "duration": 10,
    "start_time": "2022-05-01T00:55:37.737Z"
   },
   {
    "duration": 6,
    "start_time": "2022-05-01T00:56:09.918Z"
   },
   {
    "duration": 10,
    "start_time": "2022-05-01T00:56:21.110Z"
   },
   {
    "duration": 10,
    "start_time": "2022-05-01T00:56:27.272Z"
   },
   {
    "duration": 7,
    "start_time": "2022-05-01T01:00:19.329Z"
   },
   {
    "duration": 18,
    "start_time": "2022-05-01T01:00:22.181Z"
   },
   {
    "duration": 21,
    "start_time": "2022-05-01T01:00:37.894Z"
   },
   {
    "duration": 6,
    "start_time": "2022-05-01T01:08:44.203Z"
   },
   {
    "duration": 5,
    "start_time": "2022-05-01T01:08:48.930Z"
   },
   {
    "duration": 5,
    "start_time": "2022-05-01T01:09:09.122Z"
   },
   {
    "duration": 6,
    "start_time": "2022-05-01T01:09:18.710Z"
   },
   {
    "duration": 6,
    "start_time": "2022-05-01T01:09:25.654Z"
   },
   {
    "duration": 9,
    "start_time": "2022-05-01T01:10:35.039Z"
   },
   {
    "duration": 9,
    "start_time": "2022-05-01T01:10:38.114Z"
   },
   {
    "duration": 15,
    "start_time": "2022-05-01T01:10:44.894Z"
   },
   {
    "duration": 16,
    "start_time": "2022-05-01T01:10:56.450Z"
   },
   {
    "duration": 22,
    "start_time": "2022-05-01T01:11:48.205Z"
   },
   {
    "duration": 24,
    "start_time": "2022-05-01T01:11:52.457Z"
   },
   {
    "duration": 25,
    "start_time": "2022-05-01T01:12:28.226Z"
   },
   {
    "duration": 25,
    "start_time": "2022-05-01T01:12:33.918Z"
   },
   {
    "duration": 12,
    "start_time": "2022-05-01T01:21:14.874Z"
   },
   {
    "duration": 14,
    "start_time": "2022-05-01T01:21:59.439Z"
   },
   {
    "duration": 416,
    "start_time": "2022-05-01T15:27:16.377Z"
   },
   {
    "duration": 57,
    "start_time": "2022-05-01T15:27:20.604Z"
   },
   {
    "duration": 30,
    "start_time": "2022-05-01T15:27:22.512Z"
   },
   {
    "duration": 16,
    "start_time": "2022-05-01T15:27:32.189Z"
   },
   {
    "duration": 10,
    "start_time": "2022-05-01T15:27:41.877Z"
   },
   {
    "duration": 8,
    "start_time": "2022-05-01T15:28:32.764Z"
   },
   {
    "duration": 6,
    "start_time": "2022-05-01T15:28:42.760Z"
   },
   {
    "duration": 5,
    "start_time": "2022-05-01T15:28:44.452Z"
   },
   {
    "duration": 23,
    "start_time": "2022-05-01T15:32:45.145Z"
   },
   {
    "duration": 4,
    "start_time": "2022-05-01T15:33:28.136Z"
   },
   {
    "duration": 5,
    "start_time": "2022-05-01T15:33:44.324Z"
   },
   {
    "duration": 6,
    "start_time": "2022-05-01T15:35:02.176Z"
   },
   {
    "duration": 19,
    "start_time": "2022-05-01T15:35:15.753Z"
   },
   {
    "duration": 20,
    "start_time": "2022-05-01T15:35:25.068Z"
   },
   {
    "duration": 17,
    "start_time": "2022-05-01T15:35:26.968Z"
   },
   {
    "duration": 23,
    "start_time": "2022-05-01T15:35:30.485Z"
   },
   {
    "duration": 12,
    "start_time": "2022-05-01T15:35:53.644Z"
   },
   {
    "duration": 8,
    "start_time": "2022-05-01T15:35:55.413Z"
   },
   {
    "duration": 21,
    "start_time": "2022-05-01T15:37:21.508Z"
   },
   {
    "duration": 15,
    "start_time": "2022-05-01T15:39:40.433Z"
   },
   {
    "duration": 1381,
    "start_time": "2022-05-01T15:40:27.384Z"
   },
   {
    "duration": 16,
    "start_time": "2022-05-01T15:40:40.130Z"
   },
   {
    "duration": 5,
    "start_time": "2022-05-01T15:44:49.388Z"
   },
   {
    "duration": 6,
    "start_time": "2022-05-01T15:45:18.225Z"
   },
   {
    "duration": 7,
    "start_time": "2022-05-01T15:45:29.788Z"
   },
   {
    "duration": 5,
    "start_time": "2022-05-01T15:45:51.966Z"
   },
   {
    "duration": 8,
    "start_time": "2022-05-01T15:45:57.600Z"
   },
   {
    "duration": 5,
    "start_time": "2022-05-01T15:46:31.651Z"
   },
   {
    "duration": 15,
    "start_time": "2022-05-01T15:46:46.139Z"
   },
   {
    "duration": 4,
    "start_time": "2022-05-01T15:48:39.180Z"
   },
   {
    "duration": 21,
    "start_time": "2022-05-01T15:49:36.372Z"
   },
   {
    "duration": 16,
    "start_time": "2022-05-01T15:49:47.457Z"
   },
   {
    "duration": 27,
    "start_time": "2022-05-01T15:51:50.844Z"
   },
   {
    "duration": 18,
    "start_time": "2022-05-01T15:53:02.682Z"
   },
   {
    "duration": 46,
    "start_time": "2022-05-01T15:57:33.564Z"
   },
   {
    "duration": 79,
    "start_time": "2022-05-01T15:58:07.062Z"
   },
   {
    "duration": 28,
    "start_time": "2022-05-01T15:58:10.710Z"
   },
   {
    "duration": 22,
    "start_time": "2022-05-01T15:59:31.902Z"
   },
   {
    "duration": 6,
    "start_time": "2022-05-01T16:00:26.889Z"
   },
   {
    "duration": 11,
    "start_time": "2022-05-01T16:00:41.106Z"
   },
   {
    "duration": 49,
    "start_time": "2022-05-01T16:00:57.216Z"
   },
   {
    "duration": 9,
    "start_time": "2022-05-01T16:03:01.954Z"
   },
   {
    "duration": 1288,
    "start_time": "2022-05-01T16:03:08.702Z"
   },
   {
    "duration": 28,
    "start_time": "2022-05-01T16:03:42.737Z"
   },
   {
    "duration": 26,
    "start_time": "2022-05-01T16:04:10.860Z"
   },
   {
    "duration": 24,
    "start_time": "2022-05-01T16:05:27.973Z"
   },
   {
    "duration": 26,
    "start_time": "2022-05-01T16:05:40.197Z"
   },
   {
    "duration": 23,
    "start_time": "2022-05-01T16:08:50.421Z"
   },
   {
    "duration": 1369,
    "start_time": "2022-05-01T16:09:35.538Z"
   },
   {
    "duration": 126,
    "start_time": "2022-05-01T16:10:15.745Z"
   },
   {
    "duration": 1395,
    "start_time": "2022-05-01T16:10:22.621Z"
   },
   {
    "duration": 26,
    "start_time": "2022-05-01T16:10:38.297Z"
   },
   {
    "duration": 1380,
    "start_time": "2022-05-01T16:13:27.361Z"
   },
   {
    "duration": 28,
    "start_time": "2022-05-01T16:13:48.745Z"
   },
   {
    "duration": 28,
    "start_time": "2022-05-01T16:14:15.104Z"
   },
   {
    "duration": 26,
    "start_time": "2022-05-01T16:15:45.612Z"
   },
   {
    "duration": 77,
    "start_time": "2022-05-01T16:20:57.889Z"
   },
   {
    "duration": 26,
    "start_time": "2022-05-01T16:22:54.566Z"
   },
   {
    "duration": 4,
    "start_time": "2022-05-01T16:24:41.114Z"
   },
   {
    "duration": 25,
    "start_time": "2022-05-01T16:29:02.101Z"
   },
   {
    "duration": 426,
    "start_time": "2022-05-05T22:14:56.188Z"
   },
   {
    "duration": 66,
    "start_time": "2022-05-05T22:14:58.039Z"
   },
   {
    "duration": 21,
    "start_time": "2022-05-05T22:14:59.731Z"
   },
   {
    "duration": 13,
    "start_time": "2022-05-05T22:15:02.502Z"
   },
   {
    "duration": 25,
    "start_time": "2022-05-05T22:15:05.951Z"
   },
   {
    "duration": 11,
    "start_time": "2022-05-05T22:15:09.672Z"
   },
   {
    "duration": 21,
    "start_time": "2022-05-05T22:15:11.829Z"
   },
   {
    "duration": 10,
    "start_time": "2022-05-05T22:15:15.535Z"
   },
   {
    "duration": 6,
    "start_time": "2022-05-05T22:15:24.550Z"
   },
   {
    "duration": 5,
    "start_time": "2022-05-05T22:15:26.239Z"
   },
   {
    "duration": 29,
    "start_time": "2022-05-05T22:15:29.348Z"
   },
   {
    "duration": 4,
    "start_time": "2022-05-05T22:15:33.776Z"
   },
   {
    "duration": 5,
    "start_time": "2022-05-05T22:15:35.668Z"
   },
   {
    "duration": 18,
    "start_time": "2022-05-05T22:15:37.431Z"
   },
   {
    "duration": 52,
    "start_time": "2022-05-05T22:15:48.850Z"
   },
   {
    "duration": 3,
    "start_time": "2022-05-05T22:15:57.041Z"
   },
   {
    "duration": 63,
    "start_time": "2022-05-05T22:16:04.143Z"
   },
   {
    "duration": 31,
    "start_time": "2022-05-05T22:16:22.412Z"
   },
   {
    "duration": 42,
    "start_time": "2022-05-05T22:16:40.496Z"
   },
   {
    "duration": 6,
    "start_time": "2022-05-05T22:16:58.147Z"
   },
   {
    "duration": 8,
    "start_time": "2022-05-05T22:17:47.539Z"
   },
   {
    "duration": 10,
    "start_time": "2022-05-05T22:18:04.635Z"
   },
   {
    "duration": 31,
    "start_time": "2022-05-05T22:19:50.416Z"
   },
   {
    "duration": 36,
    "start_time": "2022-05-05T22:20:27.492Z"
   },
   {
    "duration": 40,
    "start_time": "2022-05-05T22:21:05.892Z"
   },
   {
    "duration": 78,
    "start_time": "2022-05-05T22:21:50.355Z"
   },
   {
    "duration": 12,
    "start_time": "2022-05-05T22:21:57.466Z"
   },
   {
    "duration": 14,
    "start_time": "2022-05-05T22:22:15.356Z"
   },
   {
    "duration": 134,
    "start_time": "2022-05-05T22:22:38.571Z"
   },
   {
    "duration": 54,
    "start_time": "2022-05-05T22:22:44.713Z"
   },
   {
    "duration": 35,
    "start_time": "2022-05-05T22:23:05.568Z"
   },
   {
    "duration": 6,
    "start_time": "2022-05-05T22:25:44.861Z"
   },
   {
    "duration": 35,
    "start_time": "2022-05-05T22:27:10.189Z"
   },
   {
    "duration": 5,
    "start_time": "2022-05-05T22:32:46.941Z"
   },
   {
    "duration": 15,
    "start_time": "2022-05-05T22:33:02.389Z"
   },
   {
    "duration": 18,
    "start_time": "2022-05-05T22:37:34.633Z"
   },
   {
    "duration": 27,
    "start_time": "2022-05-05T22:37:38.547Z"
   },
   {
    "duration": 18,
    "start_time": "2022-05-05T22:37:40.084Z"
   },
   {
    "duration": 16,
    "start_time": "2022-05-05T22:37:42.219Z"
   },
   {
    "duration": 12,
    "start_time": "2022-05-05T22:37:45.028Z"
   },
   {
    "duration": 32,
    "start_time": "2022-05-05T22:37:49.853Z"
   },
   {
    "duration": 17,
    "start_time": "2022-05-05T22:37:51.968Z"
   },
   {
    "duration": 16,
    "start_time": "2022-05-05T22:37:53.829Z"
   },
   {
    "duration": 8,
    "start_time": "2022-05-05T22:38:47.824Z"
   },
   {
    "duration": 6,
    "start_time": "2022-05-05T22:38:54.788Z"
   },
   {
    "duration": 6,
    "start_time": "2022-05-05T22:39:24.116Z"
   },
   {
    "duration": 16,
    "start_time": "2022-05-05T22:41:18.562Z"
   },
   {
    "duration": 21,
    "start_time": "2022-05-05T22:41:28.042Z"
   },
   {
    "duration": 8,
    "start_time": "2022-05-05T22:43:02.948Z"
   },
   {
    "duration": 5,
    "start_time": "2022-05-05T22:43:39.791Z"
   },
   {
    "duration": 9,
    "start_time": "2022-05-05T22:43:41.462Z"
   },
   {
    "duration": 7,
    "start_time": "2022-05-05T22:43:42.872Z"
   },
   {
    "duration": 5,
    "start_time": "2022-05-05T22:43:44.889Z"
   },
   {
    "duration": 10,
    "start_time": "2022-05-05T22:43:46.416Z"
   },
   {
    "duration": 8,
    "start_time": "2022-05-05T22:43:48.450Z"
   },
   {
    "duration": 6,
    "start_time": "2022-05-05T22:43:50.569Z"
   },
   {
    "duration": 15,
    "start_time": "2022-05-05T22:44:03.990Z"
   },
   {
    "duration": 24,
    "start_time": "2022-05-05T22:45:22.252Z"
   },
   {
    "duration": 22,
    "start_time": "2022-05-05T22:45:36.268Z"
   },
   {
    "duration": 25,
    "start_time": "2022-05-05T22:45:38.379Z"
   },
   {
    "duration": 5,
    "start_time": "2022-05-05T22:47:07.111Z"
   },
   {
    "duration": 5,
    "start_time": "2022-05-05T22:50:14.037Z"
   },
   {
    "duration": 7,
    "start_time": "2022-05-05T22:50:18.817Z"
   },
   {
    "duration": 8,
    "start_time": "2022-05-05T22:50:36.052Z"
   },
   {
    "duration": 11,
    "start_time": "2022-05-05T22:51:43.801Z"
   },
   {
    "duration": 7,
    "start_time": "2022-05-05T22:52:57.976Z"
   },
   {
    "duration": 7,
    "start_time": "2022-05-05T22:53:00.493Z"
   },
   {
    "duration": 11,
    "start_time": "2022-05-05T22:54:41.591Z"
   },
   {
    "duration": 15,
    "start_time": "2022-05-05T22:54:51.800Z"
   },
   {
    "duration": 11,
    "start_time": "2022-05-05T22:56:00.530Z"
   },
   {
    "duration": 19,
    "start_time": "2022-05-05T22:56:17.645Z"
   },
   {
    "duration": 12,
    "start_time": "2022-05-05T22:56:24.840Z"
   },
   {
    "duration": 416,
    "start_time": "2022-05-05T22:56:55.310Z"
   },
   {
    "duration": 92,
    "start_time": "2022-05-05T22:56:56.494Z"
   },
   {
    "duration": 29,
    "start_time": "2022-05-05T22:56:56.897Z"
   },
   {
    "duration": 13,
    "start_time": "2022-05-05T22:56:58.237Z"
   },
   {
    "duration": 17,
    "start_time": "2022-05-05T22:57:00.266Z"
   },
   {
    "duration": 12,
    "start_time": "2022-05-05T22:57:04.367Z"
   },
   {
    "duration": 15,
    "start_time": "2022-05-05T22:57:04.989Z"
   },
   {
    "duration": 8,
    "start_time": "2022-05-05T22:57:07.023Z"
   },
   {
    "duration": 5,
    "start_time": "2022-05-05T22:57:08.608Z"
   },
   {
    "duration": 6,
    "start_time": "2022-05-05T22:57:09.555Z"
   },
   {
    "duration": 35,
    "start_time": "2022-05-05T22:57:11.393Z"
   },
   {
    "duration": 4,
    "start_time": "2022-05-05T22:57:14.934Z"
   },
   {
    "duration": 6,
    "start_time": "2022-05-05T22:57:15.342Z"
   },
   {
    "duration": 18,
    "start_time": "2022-05-05T22:57:15.641Z"
   },
   {
    "duration": 54,
    "start_time": "2022-05-05T22:57:18.421Z"
   },
   {
    "duration": 7,
    "start_time": "2022-05-05T22:57:27.453Z"
   },
   {
    "duration": 16,
    "start_time": "2022-05-05T22:57:28.082Z"
   },
   {
    "duration": 24,
    "start_time": "2022-05-05T22:57:36.890Z"
   },
   {
    "duration": 12,
    "start_time": "2022-05-05T22:57:38.025Z"
   },
   {
    "duration": 23,
    "start_time": "2022-05-05T22:57:40.221Z"
   },
   {
    "duration": 20,
    "start_time": "2022-05-05T22:57:42.369Z"
   },
   {
    "duration": 16,
    "start_time": "2022-05-05T22:57:43.077Z"
   },
   {
    "duration": 24,
    "start_time": "2022-05-05T22:57:47.674Z"
   },
   {
    "duration": 13,
    "start_time": "2022-05-05T22:58:08.226Z"
   },
   {
    "duration": 15,
    "start_time": "2022-05-05T22:58:32.939Z"
   },
   {
    "duration": 34,
    "start_time": "2022-05-05T22:58:42.453Z"
   },
   {
    "duration": 8,
    "start_time": "2022-05-05T22:58:50.541Z"
   },
   {
    "duration": 7,
    "start_time": "2022-05-05T22:58:50.905Z"
   },
   {
    "duration": 7,
    "start_time": "2022-05-05T22:58:51.213Z"
   },
   {
    "duration": 4,
    "start_time": "2022-05-05T22:58:51.488Z"
   },
   {
    "duration": 7,
    "start_time": "2022-05-05T22:58:52.838Z"
   },
   {
    "duration": 7,
    "start_time": "2022-05-05T22:58:53.180Z"
   },
   {
    "duration": 4,
    "start_time": "2022-05-05T22:58:55.052Z"
   },
   {
    "duration": 17,
    "start_time": "2022-05-05T22:58:55.972Z"
   },
   {
    "duration": 17,
    "start_time": "2022-05-05T22:59:06.576Z"
   },
   {
    "duration": 20,
    "start_time": "2022-05-05T22:59:07.050Z"
   },
   {
    "duration": 11,
    "start_time": "2022-05-05T22:59:07.989Z"
   },
   {
    "duration": 4,
    "start_time": "2022-05-05T22:59:13.350Z"
   },
   {
    "duration": 16,
    "start_time": "2022-05-05T22:59:14.949Z"
   },
   {
    "duration": 18,
    "start_time": "2022-05-05T22:59:15.229Z"
   },
   {
    "duration": 27,
    "start_time": "2022-05-05T22:59:28.205Z"
   },
   {
    "duration": 10,
    "start_time": "2022-05-05T22:59:30.314Z"
   },
   {
    "duration": 30,
    "start_time": "2022-05-05T22:59:32.736Z"
   },
   {
    "duration": 65,
    "start_time": "2022-05-05T23:00:33.567Z"
   },
   {
    "duration": 16,
    "start_time": "2022-05-05T23:00:51.333Z"
   },
   {
    "duration": 117,
    "start_time": "2022-05-05T23:01:29.039Z"
   },
   {
    "duration": 1906,
    "start_time": "2022-05-05T23:01:52.591Z"
   },
   {
    "duration": 75,
    "start_time": "2022-05-05T23:02:02.722Z"
   },
   {
    "duration": 1888,
    "start_time": "2022-05-05T23:02:17.454Z"
   },
   {
    "duration": 22,
    "start_time": "2022-05-05T23:02:46.768Z"
   },
   {
    "duration": 2031,
    "start_time": "2022-05-05T23:04:06.438Z"
   },
   {
    "duration": 1843,
    "start_time": "2022-05-05T23:04:24.409Z"
   },
   {
    "duration": 116,
    "start_time": "2022-05-05T23:04:34.749Z"
   },
   {
    "duration": 73,
    "start_time": "2022-05-05T23:07:35.642Z"
   },
   {
    "duration": 2348,
    "start_time": "2022-05-05T23:12:30.051Z"
   },
   {
    "duration": 1940,
    "start_time": "2022-05-05T23:12:44.331Z"
   },
   {
    "duration": 70,
    "start_time": "2022-05-05T23:12:56.271Z"
   },
   {
    "duration": 41,
    "start_time": "2022-05-05T23:13:16.007Z"
   },
   {
    "duration": 25,
    "start_time": "2022-05-05T23:13:21.968Z"
   },
   {
    "duration": 17,
    "start_time": "2022-05-05T23:16:39.638Z"
   },
   {
    "duration": 24,
    "start_time": "2022-05-05T23:17:40.135Z"
   },
   {
    "duration": 19,
    "start_time": "2022-05-05T23:23:09.886Z"
   },
   {
    "duration": 30,
    "start_time": "2022-05-05T23:23:20.603Z"
   },
   {
    "duration": 25,
    "start_time": "2022-05-05T23:23:30.094Z"
   },
   {
    "duration": 12,
    "start_time": "2022-05-05T23:23:39.383Z"
   },
   {
    "duration": 407,
    "start_time": "2022-09-30T19:35:19.215Z"
   },
   {
    "duration": 309,
    "start_time": "2022-09-30T19:35:19.624Z"
   },
   {
    "duration": 20,
    "start_time": "2022-09-30T19:35:19.935Z"
   },
   {
    "duration": 12,
    "start_time": "2022-09-30T19:35:19.957Z"
   },
   {
    "duration": 31,
    "start_time": "2022-09-30T19:35:19.971Z"
   },
   {
    "duration": 25,
    "start_time": "2022-09-30T19:35:20.004Z"
   },
   {
    "duration": 19,
    "start_time": "2022-09-30T19:35:20.031Z"
   },
   {
    "duration": 11,
    "start_time": "2022-09-30T19:35:20.052Z"
   },
   {
    "duration": 14,
    "start_time": "2022-09-30T19:35:20.065Z"
   },
   {
    "duration": 13,
    "start_time": "2022-09-30T19:35:20.083Z"
   },
   {
    "duration": 36,
    "start_time": "2022-09-30T19:35:20.097Z"
   },
   {
    "duration": 4,
    "start_time": "2022-09-30T19:35:20.134Z"
   },
   {
    "duration": 14,
    "start_time": "2022-09-30T19:35:20.139Z"
   },
   {
    "duration": 23,
    "start_time": "2022-09-30T19:35:20.155Z"
   },
   {
    "duration": 34,
    "start_time": "2022-09-30T19:35:20.180Z"
   },
   {
    "duration": 40,
    "start_time": "2022-09-30T19:35:20.215Z"
   },
   {
    "duration": 5,
    "start_time": "2022-09-30T19:35:20.256Z"
   },
   {
    "duration": 16,
    "start_time": "2022-09-30T19:35:20.263Z"
   },
   {
    "duration": 18,
    "start_time": "2022-09-30T19:35:20.281Z"
   },
   {
    "duration": 15,
    "start_time": "2022-09-30T19:35:20.300Z"
   },
   {
    "duration": 71,
    "start_time": "2022-09-30T19:35:20.317Z"
   },
   {
    "duration": 38,
    "start_time": "2022-09-30T19:35:20.390Z"
   },
   {
    "duration": 35,
    "start_time": "2022-09-30T19:35:20.430Z"
   },
   {
    "duration": 41,
    "start_time": "2022-09-30T19:35:20.467Z"
   },
   {
    "duration": 22,
    "start_time": "2022-09-30T19:35:20.510Z"
   },
   {
    "duration": 25,
    "start_time": "2022-09-30T19:35:20.534Z"
   },
   {
    "duration": 19,
    "start_time": "2022-09-30T19:35:20.561Z"
   },
   {
    "duration": 12,
    "start_time": "2022-09-30T19:35:20.585Z"
   },
   {
    "duration": 13,
    "start_time": "2022-09-30T19:35:20.599Z"
   },
   {
    "duration": 17,
    "start_time": "2022-09-30T19:35:20.614Z"
   },
   {
    "duration": 25,
    "start_time": "2022-09-30T19:35:20.634Z"
   },
   {
    "duration": 11,
    "start_time": "2022-09-30T19:35:20.661Z"
   },
   {
    "duration": 19,
    "start_time": "2022-09-30T19:35:20.673Z"
   },
   {
    "duration": 21,
    "start_time": "2022-09-30T19:35:20.694Z"
   },
   {
    "duration": 19,
    "start_time": "2022-09-30T19:35:20.717Z"
   },
   {
    "duration": 23,
    "start_time": "2022-09-30T19:35:20.737Z"
   },
   {
    "duration": 27,
    "start_time": "2022-09-30T19:35:20.762Z"
   },
   {
    "duration": 24,
    "start_time": "2022-09-30T19:35:20.792Z"
   },
   {
    "duration": 25,
    "start_time": "2022-09-30T19:35:20.817Z"
   },
   {
    "duration": 16,
    "start_time": "2022-09-30T19:35:20.844Z"
   },
   {
    "duration": 97,
    "start_time": "2022-09-30T19:35:20.863Z"
   },
   {
    "duration": 28,
    "start_time": "2022-09-30T19:35:20.962Z"
   },
   {
    "duration": 26,
    "start_time": "2022-09-30T19:35:20.992Z"
   },
   {
    "duration": 44,
    "start_time": "2022-09-30T19:35:21.020Z"
   },
   {
    "duration": 383,
    "start_time": "2022-09-30T19:40:04.206Z"
   },
   {
    "duration": 76,
    "start_time": "2022-09-30T19:40:04.591Z"
   },
   {
    "duration": 23,
    "start_time": "2022-09-30T19:40:04.670Z"
   },
   {
    "duration": 12,
    "start_time": "2022-09-30T19:40:04.695Z"
   },
   {
    "duration": 18,
    "start_time": "2022-09-30T19:40:04.709Z"
   },
   {
    "duration": 26,
    "start_time": "2022-09-30T19:40:04.729Z"
   },
   {
    "duration": 15,
    "start_time": "2022-09-30T19:40:04.757Z"
   },
   {
    "duration": 18,
    "start_time": "2022-09-30T19:40:04.774Z"
   },
   {
    "duration": 10,
    "start_time": "2022-09-30T19:40:04.793Z"
   },
   {
    "duration": 10,
    "start_time": "2022-09-30T19:40:04.805Z"
   },
   {
    "duration": 36,
    "start_time": "2022-09-30T19:40:04.818Z"
   },
   {
    "duration": 3,
    "start_time": "2022-09-30T19:40:04.856Z"
   },
   {
    "duration": 23,
    "start_time": "2022-09-30T19:40:04.861Z"
   },
   {
    "duration": 19,
    "start_time": "2022-09-30T19:40:04.886Z"
   },
   {
    "duration": 35,
    "start_time": "2022-09-30T19:40:04.906Z"
   },
   {
    "duration": 26,
    "start_time": "2022-09-30T19:40:04.954Z"
   },
   {
    "duration": 4,
    "start_time": "2022-09-30T19:40:04.982Z"
   },
   {
    "duration": 20,
    "start_time": "2022-09-30T19:40:04.987Z"
   },
   {
    "duration": 26,
    "start_time": "2022-09-30T19:40:05.009Z"
   },
   {
    "duration": 29,
    "start_time": "2022-09-30T19:40:05.037Z"
   },
   {
    "duration": 10,
    "start_time": "2022-09-30T19:40:05.068Z"
   },
   {
    "duration": 37,
    "start_time": "2022-09-30T19:40:05.080Z"
   },
   {
    "duration": 15,
    "start_time": "2022-09-30T19:40:05.119Z"
   },
   {
    "duration": 29,
    "start_time": "2022-09-30T19:40:05.136Z"
   },
   {
    "duration": 20,
    "start_time": "2022-09-30T19:40:05.167Z"
   },
   {
    "duration": 27,
    "start_time": "2022-09-30T19:40:05.188Z"
   },
   {
    "duration": 39,
    "start_time": "2022-09-30T19:40:05.216Z"
   },
   {
    "duration": 10,
    "start_time": "2022-09-30T19:40:05.258Z"
   },
   {
    "duration": 8,
    "start_time": "2022-09-30T19:40:05.270Z"
   },
   {
    "duration": 21,
    "start_time": "2022-09-30T19:40:05.280Z"
   },
   {
    "duration": 21,
    "start_time": "2022-09-30T19:40:05.303Z"
   },
   {
    "duration": 26,
    "start_time": "2022-09-30T19:40:05.325Z"
   },
   {
    "duration": 16,
    "start_time": "2022-09-30T19:40:05.353Z"
   },
   {
    "duration": 7,
    "start_time": "2022-09-30T19:40:05.370Z"
   },
   {
    "duration": 20,
    "start_time": "2022-09-30T19:40:05.379Z"
   },
   {
    "duration": 9,
    "start_time": "2022-09-30T19:40:05.400Z"
   },
   {
    "duration": 19,
    "start_time": "2022-09-30T19:40:05.410Z"
   },
   {
    "duration": 17,
    "start_time": "2022-09-30T19:40:05.431Z"
   },
   {
    "duration": 19,
    "start_time": "2022-09-30T19:40:05.450Z"
   },
   {
    "duration": 10,
    "start_time": "2022-09-30T19:40:05.471Z"
   },
   {
    "duration": 1218,
    "start_time": "2022-09-30T19:40:05.483Z"
   },
   {
    "duration": 0,
    "start_time": "2022-09-30T19:40:06.703Z"
   },
   {
    "duration": 0,
    "start_time": "2022-09-30T19:40:06.704Z"
   },
   {
    "duration": 0,
    "start_time": "2022-09-30T19:40:06.705Z"
   },
   {
    "duration": 89,
    "start_time": "2022-09-30T19:40:44.356Z"
   },
   {
    "duration": 28,
    "start_time": "2022-09-30T19:42:29.678Z"
   },
   {
    "duration": 855,
    "start_time": "2022-09-30T19:43:47.411Z"
   },
   {
    "duration": 83,
    "start_time": "2022-09-30T19:52:01.010Z"
   },
   {
    "duration": 76,
    "start_time": "2022-09-30T19:52:28.042Z"
   },
   {
    "duration": 77,
    "start_time": "2022-09-30T19:52:39.504Z"
   },
   {
    "duration": 55,
    "start_time": "2022-09-30T19:54:03.261Z"
   },
   {
    "duration": 61,
    "start_time": "2022-09-30T19:54:09.209Z"
   },
   {
    "duration": 54,
    "start_time": "2022-09-30T19:55:07.389Z"
   },
   {
    "duration": 92,
    "start_time": "2022-09-30T19:55:29.374Z"
   },
   {
    "duration": 93,
    "start_time": "2022-09-30T19:55:53.102Z"
   },
   {
    "duration": 102,
    "start_time": "2022-09-30T19:56:04.038Z"
   },
   {
    "duration": 438,
    "start_time": "2022-09-30T19:57:09.536Z"
   },
   {
    "duration": 78,
    "start_time": "2022-09-30T19:57:09.976Z"
   },
   {
    "duration": 22,
    "start_time": "2022-09-30T19:57:10.056Z"
   },
   {
    "duration": 13,
    "start_time": "2022-09-30T19:57:10.080Z"
   },
   {
    "duration": 29,
    "start_time": "2022-09-30T19:57:10.095Z"
   },
   {
    "duration": 11,
    "start_time": "2022-09-30T19:57:10.126Z"
   },
   {
    "duration": 15,
    "start_time": "2022-09-30T19:57:10.154Z"
   },
   {
    "duration": 9,
    "start_time": "2022-09-30T19:57:10.171Z"
   },
   {
    "duration": 7,
    "start_time": "2022-09-30T19:57:10.181Z"
   },
   {
    "duration": 5,
    "start_time": "2022-09-30T19:57:10.191Z"
   },
   {
    "duration": 25,
    "start_time": "2022-09-30T19:57:10.197Z"
   },
   {
    "duration": 32,
    "start_time": "2022-09-30T19:57:10.224Z"
   },
   {
    "duration": 7,
    "start_time": "2022-09-30T19:57:10.258Z"
   },
   {
    "duration": 17,
    "start_time": "2022-09-30T19:57:10.266Z"
   },
   {
    "duration": 70,
    "start_time": "2022-09-30T19:57:10.285Z"
   },
   {
    "duration": 25,
    "start_time": "2022-09-30T19:57:10.357Z"
   },
   {
    "duration": 4,
    "start_time": "2022-09-30T19:57:10.384Z"
   },
   {
    "duration": 18,
    "start_time": "2022-09-30T19:57:10.390Z"
   },
   {
    "duration": 19,
    "start_time": "2022-09-30T19:57:10.409Z"
   },
   {
    "duration": 15,
    "start_time": "2022-09-30T19:57:10.453Z"
   },
   {
    "duration": 11,
    "start_time": "2022-09-30T19:57:10.470Z"
   },
   {
    "duration": 25,
    "start_time": "2022-09-30T19:57:10.482Z"
   },
   {
    "duration": 16,
    "start_time": "2022-09-30T19:57:10.508Z"
   },
   {
    "duration": 40,
    "start_time": "2022-09-30T19:57:10.525Z"
   },
   {
    "duration": 20,
    "start_time": "2022-09-30T19:57:10.567Z"
   },
   {
    "duration": 21,
    "start_time": "2022-09-30T19:57:10.589Z"
   },
   {
    "duration": 46,
    "start_time": "2022-09-30T19:57:10.612Z"
   },
   {
    "duration": 10,
    "start_time": "2022-09-30T19:57:10.662Z"
   },
   {
    "duration": 11,
    "start_time": "2022-09-30T19:57:10.673Z"
   },
   {
    "duration": 21,
    "start_time": "2022-09-30T19:57:10.686Z"
   },
   {
    "duration": 16,
    "start_time": "2022-09-30T19:57:10.709Z"
   },
   {
    "duration": 27,
    "start_time": "2022-09-30T19:57:10.727Z"
   },
   {
    "duration": 27,
    "start_time": "2022-09-30T19:57:10.755Z"
   },
   {
    "duration": 17,
    "start_time": "2022-09-30T19:57:10.784Z"
   },
   {
    "duration": 17,
    "start_time": "2022-09-30T19:57:10.802Z"
   },
   {
    "duration": 22,
    "start_time": "2022-09-30T19:57:10.821Z"
   },
   {
    "duration": 23,
    "start_time": "2022-09-30T19:57:10.845Z"
   },
   {
    "duration": 18,
    "start_time": "2022-09-30T19:57:10.870Z"
   },
   {
    "duration": 25,
    "start_time": "2022-09-30T19:57:10.890Z"
   },
   {
    "duration": 14,
    "start_time": "2022-09-30T19:57:10.917Z"
   },
   {
    "duration": 95,
    "start_time": "2022-09-30T19:57:10.933Z"
   },
   {
    "duration": 30,
    "start_time": "2022-09-30T19:57:11.030Z"
   },
   {
    "duration": 25,
    "start_time": "2022-09-30T19:57:11.062Z"
   },
   {
    "duration": 25,
    "start_time": "2022-09-30T19:57:11.089Z"
   }
  ],
  "kernelspec": {
   "display_name": "Python 3 (ipykernel)",
   "language": "python",
   "name": "python3"
  },
  "language_info": {
   "codemirror_mode": {
    "name": "ipython",
    "version": 3
   },
   "file_extension": ".py",
   "mimetype": "text/x-python",
   "name": "python",
   "nbconvert_exporter": "python",
   "pygments_lexer": "ipython3",
   "version": "3.9.5"
  },
  "toc": {
   "base_numbering": 1,
   "nav_menu": {
    "height": "275px",
    "width": "324px"
   },
   "number_sections": true,
   "sideBar": true,
   "skip_h1_title": true,
   "title_cell": "Table of Contents",
   "title_sidebar": "Contents",
   "toc_cell": false,
   "toc_position": {},
   "toc_section_display": true,
   "toc_window_display": true
  }
 },
 "nbformat": 4,
 "nbformat_minor": 5
}
