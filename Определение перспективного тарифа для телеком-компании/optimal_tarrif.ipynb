{
 "cells": [
  {
   "cell_type": "markdown",
   "metadata": {},
   "source": [
    "# Определение перспективного тарифа для телеком-компании\n",
    "Клиентам предлагают два тарифных плана: «Смарт» и «Ультра». Чтобы скорректировать рекламный бюджет, коммерческий департамент хочет понять, какой тариф приносит больше денег.\n",
    "Вам предстоит сделать предварительный анализ тарифов на небольшой выборке клиентов. В вашем распоряжении данные 500 пользователей «Мегалайна»: кто они, откуда, каким тарифом пользуются, сколько звонков и сообщений каждый отправил за 2018 год. Нужно проанализировать поведение клиентов и сделать вывод — какой тариф лучше.\n",
    "\n",
    "План:\n",
    "1) Изучение данных из файлов\n",
    "2) Подготовка данных\n",
    "3) Анализ данных\n",
    "4) Проверка гипотез\n",
    "5) Общие выводы\n",
    "\n",
    "Задачи:\n",
    "1) Привести данные к нужным типам и найти и исправить ошибки в данных, если они есть.\n",
    "2) Посчитать для каждого пользователя:\n",
    "    количество сделанных звонков и израсходованных минут разговора по месяцам;\n",
    "    количество отправленных сообщений по месяцам;\n",
    "    объем израсходованного интернет-трафика по месяцам;\n",
    "    помесячную выручку с каждого пользователя\n",
    "3) Описание поведение клиентов, исходя из выборок и расчётов\n",
    "4) Проверка гипотез:\n",
    "    средняя выручка пользователей тарифов «Ультра» и «Смарт» различаются;\n",
    "    средняя выручка пользователей из Москвы отличается от выручки пользователей из других регионов."
   ]
  },
  {
   "cell_type": "markdown",
   "metadata": {},
   "source": [
    "## Изучение данных из файла\n"
   ]
  },
  {
   "cell_type": "code",
   "execution_count": 1,
   "metadata": {},
   "outputs": [],
   "source": [
    "# импорт библиотеки pandas\n",
    "import pandas as pd"
   ]
  },
  {
   "cell_type": "code",
   "execution_count": 2,
   "metadata": {},
   "outputs": [],
   "source": [
    "from scipy import stats as st"
   ]
  },
  {
   "cell_type": "code",
   "execution_count": 3,
   "metadata": {},
   "outputs": [],
   "source": [
    "import warnings\n",
    "warnings.filterwarnings(\"ignore\")"
   ]
  },
  {
   "cell_type": "code",
   "execution_count": 4,
   "metadata": {},
   "outputs": [],
   "source": [
    "import matplotlib.pyplot as plt"
   ]
  },
  {
   "cell_type": "code",
   "execution_count": 5,
   "metadata": {},
   "outputs": [],
   "source": [
    "import seaborn"
   ]
  },
  {
   "cell_type": "code",
   "execution_count": 6,
   "metadata": {},
   "outputs": [],
   "source": [
    "import math"
   ]
  },
  {
   "cell_type": "code",
   "execution_count": 7,
   "metadata": {},
   "outputs": [],
   "source": [
    "import numpy as np"
   ]
  },
  {
   "cell_type": "code",
   "execution_count": 8,
   "metadata": {},
   "outputs": [],
   "source": [
    "# чтение файлов с данными и сохранение\n",
    "calls = pd.read_csv('/datasets/calls.csv')\n",
    "internet = pd.read_csv('/datasets/internet.csv')\n",
    "messages = pd.read_csv('/datasets/messages.csv')\n",
    "tarrifs = pd.read_csv('/datasets/tariffs.csv')\n",
    "users = pd.read_csv('/datasets/users.csv')"
   ]
  },
  {
   "cell_type": "code",
   "execution_count": 9,
   "metadata": {},
   "outputs": [],
   "source": [
    "tbl_list = [calls, internet, messages, tarrifs, users]"
   ]
  },
  {
   "cell_type": "code",
   "execution_count": 10,
   "metadata": {},
   "outputs": [],
   "source": [
    "date_list = [calls['call_date'], internet['session_date'], messages['message_date'], users['reg_date']]"
   ]
  },
  {
   "cell_type": "code",
   "execution_count": 11,
   "metadata": {},
   "outputs": [
    {
     "name": "stdout",
     "output_type": "stream",
     "text": [
      "       id   call_date  duration  user_id\n",
      "0  1000_0  2018-07-25      0.00     1000\n",
      "1  1000_1  2018-08-17      0.00     1000\n",
      "2  1000_2  2018-06-11      2.85     1000\n",
      "3  1000_3  2018-09-21     13.80     1000\n",
      "4  1000_4  2018-12-15      5.18     1000\n",
      "5  1000_5  2018-11-02      0.00     1000\n",
      "6  1000_6  2018-10-18      0.00     1000\n",
      "7  1000_7  2018-08-22     18.31     1000\n",
      "8  1000_8  2018-09-15     18.44     1000\n",
      "9  1000_9  2018-08-15      0.00     1000\n",
      "   Unnamed: 0      id  mb_used session_date  user_id\n",
      "0           0  1000_0   112.95   2018-11-25     1000\n",
      "1           1  1000_1  1052.81   2018-09-07     1000\n",
      "2           2  1000_2  1197.26   2018-06-25     1000\n",
      "3           3  1000_3   550.27   2018-08-22     1000\n",
      "4           4  1000_4   302.56   2018-09-24     1000\n",
      "5           5  1000_5   399.97   2018-10-02     1000\n",
      "6           6  1000_6   540.08   2018-09-07     1000\n",
      "7           7  1000_7   415.70   2018-07-11     1000\n",
      "8           8  1000_8   505.40   2018-10-08     1000\n",
      "9           9  1000_9   345.54   2018-09-03     1000\n",
      "       id message_date  user_id\n",
      "0  1000_0   2018-06-27     1000\n",
      "1  1000_1   2018-10-08     1000\n",
      "2  1000_2   2018-08-04     1000\n",
      "3  1000_3   2018-06-16     1000\n",
      "4  1000_4   2018-12-05     1000\n",
      "5  1000_5   2018-06-20     1000\n",
      "6  1000_6   2018-11-19     1000\n",
      "7  1000_7   2018-10-29     1000\n",
      "8  1000_8   2018-06-25     1000\n",
      "9  1000_9   2018-12-18     1000\n",
      "   messages_included  mb_per_month_included  minutes_included  \\\n",
      "0                 50                  15360               500   \n",
      "1               1000                  30720              3000   \n",
      "\n",
      "   rub_monthly_fee  rub_per_gb  rub_per_message  rub_per_minute tariff_name  \n",
      "0              550         200                3               3       smart  \n",
      "1             1950         150                1               1       ultra  \n",
      "   user_id  age churn_date              city first_name  last_name  \\\n",
      "0     1000   52        NaN         Краснодар     Рафаил  Верещагин   \n",
      "1     1001   41        NaN            Москва       Иван       Ежов   \n",
      "2     1002   59        NaN       Стерлитамак    Евгений  Абрамович   \n",
      "3     1003   23        NaN            Москва      Белла   Белякова   \n",
      "4     1004   68        NaN       Новокузнецк    Татьяна   Авдеенко   \n",
      "5     1005   67        NaN  Набережные Челны   Афанасий     Горлов   \n",
      "6     1006   21        NaN         Ульяновск     Леонид   Ермолаев   \n",
      "7     1007   65        NaN            Москва        Юна   Березина   \n",
      "8     1008   63        NaN         Челябинск     Рустэм  Пономарёв   \n",
      "9     1009   24        NaN             Пермь   Василиса    Блинова   \n",
      "\n",
      "     reg_date tariff  \n",
      "0  2018-05-25  ultra  \n",
      "1  2018-11-01  smart  \n",
      "2  2018-06-17  smart  \n",
      "3  2018-08-17  ultra  \n",
      "4  2018-05-14  ultra  \n",
      "5  2018-01-25  smart  \n",
      "6  2018-02-26  smart  \n",
      "7  2018-04-19  smart  \n",
      "8  2018-12-19  smart  \n",
      "9  2018-03-22  smart  \n"
     ]
    }
   ],
   "source": [
    "# получение первых 10 строк таблиц\n",
    "for i in tbl_list:\n",
    "    print(i.head(10))"
   ]
  },
  {
   "cell_type": "code",
   "execution_count": 12,
   "metadata": {},
   "outputs": [
    {
     "name": "stdout",
     "output_type": "stream",
     "text": [
      "<class 'pandas.core.frame.DataFrame'>\n",
      "RangeIndex: 202607 entries, 0 to 202606\n",
      "Data columns (total 4 columns):\n",
      " #   Column     Non-Null Count   Dtype  \n",
      "---  ------     --------------   -----  \n",
      " 0   id         202607 non-null  object \n",
      " 1   call_date  202607 non-null  object \n",
      " 2   duration   202607 non-null  float64\n",
      " 3   user_id    202607 non-null  int64  \n",
      "dtypes: float64(1), int64(1), object(2)\n",
      "memory usage: 6.2+ MB\n",
      "None\n",
      "<class 'pandas.core.frame.DataFrame'>\n",
      "RangeIndex: 149396 entries, 0 to 149395\n",
      "Data columns (total 5 columns):\n",
      " #   Column        Non-Null Count   Dtype  \n",
      "---  ------        --------------   -----  \n",
      " 0   Unnamed: 0    149396 non-null  int64  \n",
      " 1   id            149396 non-null  object \n",
      " 2   mb_used       149396 non-null  float64\n",
      " 3   session_date  149396 non-null  object \n",
      " 4   user_id       149396 non-null  int64  \n",
      "dtypes: float64(1), int64(2), object(2)\n",
      "memory usage: 5.7+ MB\n",
      "None\n",
      "<class 'pandas.core.frame.DataFrame'>\n",
      "RangeIndex: 123036 entries, 0 to 123035\n",
      "Data columns (total 3 columns):\n",
      " #   Column        Non-Null Count   Dtype \n",
      "---  ------        --------------   ----- \n",
      " 0   id            123036 non-null  object\n",
      " 1   message_date  123036 non-null  object\n",
      " 2   user_id       123036 non-null  int64 \n",
      "dtypes: int64(1), object(2)\n",
      "memory usage: 2.8+ MB\n",
      "None\n",
      "<class 'pandas.core.frame.DataFrame'>\n",
      "RangeIndex: 2 entries, 0 to 1\n",
      "Data columns (total 8 columns):\n",
      " #   Column                 Non-Null Count  Dtype \n",
      "---  ------                 --------------  ----- \n",
      " 0   messages_included      2 non-null      int64 \n",
      " 1   mb_per_month_included  2 non-null      int64 \n",
      " 2   minutes_included       2 non-null      int64 \n",
      " 3   rub_monthly_fee        2 non-null      int64 \n",
      " 4   rub_per_gb             2 non-null      int64 \n",
      " 5   rub_per_message        2 non-null      int64 \n",
      " 6   rub_per_minute         2 non-null      int64 \n",
      " 7   tariff_name            2 non-null      object\n",
      "dtypes: int64(7), object(1)\n",
      "memory usage: 256.0+ bytes\n",
      "None\n",
      "<class 'pandas.core.frame.DataFrame'>\n",
      "RangeIndex: 500 entries, 0 to 499\n",
      "Data columns (total 8 columns):\n",
      " #   Column      Non-Null Count  Dtype \n",
      "---  ------      --------------  ----- \n",
      " 0   user_id     500 non-null    int64 \n",
      " 1   age         500 non-null    int64 \n",
      " 2   churn_date  38 non-null     object\n",
      " 3   city        500 non-null    object\n",
      " 4   first_name  500 non-null    object\n",
      " 5   last_name   500 non-null    object\n",
      " 6   reg_date    500 non-null    object\n",
      " 7   tariff      500 non-null    object\n",
      "dtypes: int64(2), object(6)\n",
      "memory usage: 31.4+ KB\n",
      "None\n"
     ]
    }
   ],
   "source": [
    "# получение информации о таблицах\n",
    "for i in tbl_list:\n",
    "    print(i.info())"
   ]
  },
  {
   "cell_type": "code",
   "execution_count": 13,
   "metadata": {},
   "outputs": [
    {
     "name": "stdout",
     "output_type": "stream",
     "text": [
      "Index(['id', 'call_date', 'duration', 'user_id'], dtype='object')\n",
      "Index(['Unnamed: 0', 'id', 'mb_used', 'session_date', 'user_id'], dtype='object')\n",
      "Index(['id', 'message_date', 'user_id'], dtype='object')\n",
      "Index(['messages_included', 'mb_per_month_included', 'minutes_included',\n",
      "       'rub_monthly_fee', 'rub_per_gb', 'rub_per_message', 'rub_per_minute',\n",
      "       'tariff_name'],\n",
      "      dtype='object')\n",
      "Index(['user_id', 'age', 'churn_date', 'city', 'first_name', 'last_name',\n",
      "       'reg_date', 'tariff'],\n",
      "      dtype='object')\n"
     ]
    }
   ],
   "source": [
    "for i in tbl_list:\n",
    "    print(i.columns)"
   ]
  },
  {
   "cell_type": "markdown",
   "metadata": {},
   "source": [
    "Таблица users (информация о пользователях):</br>\n",
    "user_id — уникальный идентификатор пользователя </br>\n",
    "first_name — имя пользователя</br>\n",
    "last_name — фамилия пользователя</br>\n",
    "age — возраст пользователя (годы)</br>\n",
    "reg_date — дата подключения тарифа (день, месяц, год)</br>\n",
    "churn_date — дата прекращения пользования тарифом (если значение пропущено, то тариф ещё действовал на момент выгрузки данных)</br>\n",
    "city — город проживания пользователя</br>\n",
    "tariff — название тарифного плана</br>\n",
    "Таблица calls (информация о звонках):</br>\n",
    "id — уникальный номер звонка</br>\n",
    "call_date — дата звонка</br>\n",
    "duration — длительность звонка в минутах</br>\n",
    "user_id — идентификатор пользователя, сделавшего звонок</br>\n",
    "Таблица messages (информация о сообщениях):</br>\n",
    "id — уникальный номер сообщения</br>\n",
    "message_date — дата сообщения</br>\n",
    "user_id — идентификатор пользователя, отправившего сообщение</br>\n",
    "Таблица internet (информация об интернет-сессиях):</br>\n",
    "id — уникальный номер сессии</br>\n",
    "mb_used — объём потраченного за сессию интернет-трафика (в мегабайтах)</br>\n",
    "session_date — дата интернет-сессии</br>\n",
    "user_id — идентификатор пользователя</br>\n",
    "Таблица tariffs (информация о тарифах):</br>\n",
    "tariff_name — название тарифа</br>\n",
    "rub_monthly_fee — ежемесячная абонентская плата в рублях</br>\n",
    "minutes_included — количество минут разговора в месяц, включённых в абонентскую плату</br>\n",
    "messages_included — количество сообщений в месяц, включённых в абонентскую плату</br>\n",
    "mb_per_month_included — объём интернет-трафика, включённого в абонентскую плату (в мегабайтах)</br>\n",
    "rub_per_minute — стоимость минуты разговора сверх тарифного пакета (например, если в тарифе 100 минут разговора в месяц, то со 101 минуты будет взиматься плата)</br>\n",
    "rub_per_message — стоимость отправки сообщения сверх тарифного пакета</br>\n",
    "rub_per_gb — стоимость дополнительного гигабайта интернет-трафика сверх тарифного пакета (1 гигабайт = 1024 мегабайта)</br>"
   ]
  },
  {
   "cell_type": "code",
   "execution_count": 14,
   "metadata": {},
   "outputs": [
    {
     "data": {
      "text/plain": [
       "<AxesSubplot:>"
      ]
     },
     "execution_count": 14,
     "metadata": {},
     "output_type": "execute_result"
    },
    {
     "data": {
      "image/png": "[encoded data removed]",
      "text/plain": [
       "<Figure size 432x288 with 1 Axes>"
      ]
     },
     "metadata": {
      "needs_background": "light"
     },
     "output_type": "display_data"
    }
   ],
   "source": [
    "internet['mb_used'].hist(bins = 35, range = (0,1500))"
   ]
  },
  {
   "cell_type": "code",
   "execution_count": 15,
   "metadata": {},
   "outputs": [
    {
     "data": {
      "text/plain": [
       "<AxesSubplot:>"
      ]
     },
     "execution_count": 15,
     "metadata": {},
     "output_type": "execute_result"
    },
    {
     "data": {
      "image/png": "[encoded data removed]",
      "text/plain": [
       "<Figure size 432x288 with 1 Axes>"
      ]
     },
     "metadata": {
      "needs_background": "light"
     },
     "output_type": "display_data"
    }
   ],
   "source": [
    "internet['mb_used'].hist(bins = 35, range = (0,100))"
   ]
  },
  {
   "cell_type": "code",
   "execution_count": 16,
   "metadata": {},
   "outputs": [
    {
     "data": {
      "text/plain": [
       "492"
      ]
     },
     "execution_count": 16,
     "metadata": {},
     "output_type": "execute_result"
    }
   ],
   "source": [
    "len(calls['user_id'].unique())"
   ]
  },
  {
   "cell_type": "code",
   "execution_count": 17,
   "metadata": {},
   "outputs": [
    {
     "data": {
      "text/plain": [
       "426"
      ]
     },
     "execution_count": 17,
     "metadata": {},
     "output_type": "execute_result"
    }
   ],
   "source": [
    "len(messages['user_id'].unique())"
   ]
  },
  {
   "cell_type": "code",
   "execution_count": 18,
   "metadata": {},
   "outputs": [
    {
     "data": {
      "text/plain": [
       "497"
      ]
     },
     "execution_count": 18,
     "metadata": {},
     "output_type": "execute_result"
    }
   ],
   "source": [
    "len(internet['user_id'].unique())"
   ]
  },
  {
   "cell_type": "markdown",
   "metadata": {},
   "source": [
    "### Вывод"
   ]
  },
  {
   "cell_type": "markdown",
   "metadata": {},
   "source": [
    "Нужно перевести даты в формат datetime. В таблице internet лишний столбец unnamed:0. В столбце duration из таблицы calls данные указаны в минутах, но есть строки, где дробная часть больше 60. Согласно примечанию нужно окргулить данные в столбце duration из таблицы calls до минут и в столбце mb_used до гигабайт. Много нулевых значений в интернет трафике. 8 абонентов не совершали звонков, 74 не отправляли сообщения, 3 не пользовались интернетом."
   ]
  },
  {
   "cell_type": "markdown",
   "metadata": {},
   "source": [
    "## Подготовка данных"
   ]
  },
  {
   "cell_type": "code",
   "execution_count": 19,
   "metadata": {},
   "outputs": [],
   "source": [
    "# Удаление столбца unnamed:0\n",
    "del internet['Unnamed: 0']"
   ]
  },
  {
   "cell_type": "code",
   "execution_count": 20,
   "metadata": {
    "scrolled": true
   },
   "outputs": [
    {
     "name": "stdout",
     "output_type": "stream",
     "text": [
      "id           0\n",
      "call_date    0\n",
      "duration     0\n",
      "user_id      0\n",
      "dtype: int64\n",
      "id              0\n",
      "mb_used         0\n",
      "session_date    0\n",
      "user_id         0\n",
      "dtype: int64\n",
      "id              0\n",
      "message_date    0\n",
      "user_id         0\n",
      "dtype: int64\n",
      "messages_included        0\n",
      "mb_per_month_included    0\n",
      "minutes_included         0\n",
      "rub_monthly_fee          0\n",
      "rub_per_gb               0\n",
      "rub_per_message          0\n",
      "rub_per_minute           0\n",
      "tariff_name              0\n",
      "dtype: int64\n",
      "user_id         0\n",
      "age             0\n",
      "churn_date    462\n",
      "city            0\n",
      "first_name      0\n",
      "last_name       0\n",
      "reg_date        0\n",
      "tariff          0\n",
      "dtype: int64\n"
     ]
    }
   ],
   "source": [
    "# Функция для подсчета пропущенных значений в таблицах \n",
    "def df_nul(df):\n",
    "    for i in df:\n",
    "        print(i.isna().sum())\n",
    "df_nul(tbl_list)"
   ]
  },
  {
   "cell_type": "markdown",
   "metadata": {},
   "source": [
    "38 Абонентов прекратили пользоваться своим тарифом"
   ]
  },
  {
   "cell_type": "code",
   "execution_count": 21,
   "metadata": {
    "scrolled": false
   },
   "outputs": [
    {
     "data": {
      "text/plain": [
       "1168_1597    1\n",
       "1299_543     1\n",
       "1196_1075    1\n",
       "1078_440     1\n",
       "1130_477     1\n",
       "            ..\n",
       "1227_792     1\n",
       "1118_569     1\n",
       "1461_36      1\n",
       "1021_781     1\n",
       "1312_340     1\n",
       "Name: id, Length: 202607, dtype: int64"
      ]
     },
     "metadata": {},
     "output_type": "display_data"
    },
    {
     "data": {
      "text/plain": [
       "2018-12-31    1435\n",
       "2018-12-29    1202\n",
       "2018-12-30    1192\n",
       "2018-12-22    1158\n",
       "2018-12-26    1149\n",
       "              ... \n",
       "2018-01-05      20\n",
       "2018-01-07      18\n",
       "2018-01-02       9\n",
       "2018-01-03       7\n",
       "2018-01-01       5\n",
       "Name: call_date, Length: 365, dtype: int64"
      ]
     },
     "metadata": {},
     "output_type": "display_data"
    },
    {
     "data": {
      "text/plain": [
       "0.00     39613\n",
       "5.50       142\n",
       "4.49       142\n",
       "6.15       141\n",
       "6.38       141\n",
       "         ...  \n",
       "26.32        1\n",
       "24.51        1\n",
       "27.24        1\n",
       "29.89        1\n",
       "27.43        1\n",
       "Name: duration, Length: 2871, dtype: int64"
      ]
     },
     "metadata": {},
     "output_type": "display_data"
    },
    {
     "data": {
      "text/plain": [
       "1377    1760\n",
       "1168    1692\n",
       "1375    1560\n",
       "1453    1440\n",
       "1196    1240\n",
       "        ... \n",
       "1397      33\n",
       "1442      28\n",
       "1373      24\n",
       "1016      20\n",
       "1257      14\n",
       "Name: user_id, Length: 492, dtype: int64"
      ]
     },
     "metadata": {},
     "output_type": "display_data"
    },
    {
     "data": {
      "text/plain": [
       "1469_175    1\n",
       "1315_225    1\n",
       "1032_460    1\n",
       "1053_69     1\n",
       "1119_294    1\n",
       "           ..\n",
       "1057_35     1\n",
       "1447_184    1\n",
       "1331_135    1\n",
       "1045_94     1\n",
       "1045_197    1\n",
       "Name: id, Length: 149396, dtype: int64"
      ]
     },
     "metadata": {},
     "output_type": "display_data"
    },
    {
     "data": {
      "text/plain": [
       "0.00      19598\n",
       "335.91        9\n",
       "447.30        9\n",
       "197.56        9\n",
       "199.11        8\n",
       "          ...  \n",
       "182.69        1\n",
       "726.03        1\n",
       "315.12        1\n",
       "898.99        1\n",
       "677.66        1\n",
       "Name: mb_used, Length: 70003, dtype: int64"
      ]
     },
     "metadata": {},
     "output_type": "display_data"
    },
    {
     "data": {
      "text/plain": [
       "2018-12-31    1057\n",
       "2018-12-30     903\n",
       "2018-12-25     859\n",
       "2018-12-26     844\n",
       "2018-12-22     834\n",
       "              ... \n",
       "2018-01-05      14\n",
       "2018-01-04       9\n",
       "2018-01-03       6\n",
       "2018-01-01       3\n",
       "2018-01-02       3\n",
       "Name: session_date, Length: 365, dtype: int64"
      ]
     },
     "metadata": {},
     "output_type": "display_data"
    },
    {
     "data": {
      "text/plain": [
       "1496    834\n",
       "1227    812\n",
       "1204    789\n",
       "1240    764\n",
       "1251    759\n",
       "       ... \n",
       "1151     35\n",
       "1467     27\n",
       "1343     26\n",
       "1192     22\n",
       "1399      8\n",
       "Name: user_id, Length: 497, dtype: int64"
      ]
     },
     "metadata": {},
     "output_type": "display_data"
    },
    {
     "data": {
      "text/plain": [
       "1082_189    1\n",
       "1482_172    1\n",
       "1288_112    1\n",
       "1274_595    1\n",
       "1134_594    1\n",
       "           ..\n",
       "1282_645    1\n",
       "1353_227    1\n",
       "1288_70     1\n",
       "1100_149    1\n",
       "1045_197    1\n",
       "Name: id, Length: 123036, dtype: int64"
      ]
     },
     "metadata": {},
     "output_type": "display_data"
    },
    {
     "data": {
      "text/plain": [
       "2018-12-31    859\n",
       "2018-12-30    765\n",
       "2018-12-21    712\n",
       "2018-12-29    702\n",
       "2018-12-26    699\n",
       "             ... \n",
       "2018-01-11     12\n",
       "2018-01-05     10\n",
       "2018-01-04     10\n",
       "2018-01-02     10\n",
       "2018-01-03      4\n",
       "Name: message_date, Length: 364, dtype: int64"
      ]
     },
     "metadata": {},
     "output_type": "display_data"
    },
    {
     "data": {
      "text/plain": [
       "1277    1463\n",
       "1089    1408\n",
       "1231    1384\n",
       "1385    1380\n",
       "1356    1224\n",
       "        ... \n",
       "1111       6\n",
       "1279       5\n",
       "1074       3\n",
       "1159       2\n",
       "1141       1\n",
       "Name: user_id, Length: 426, dtype: int64"
      ]
     },
     "metadata": {},
     "output_type": "display_data"
    },
    {
     "data": {
      "text/plain": [
       "1000    1\n",
       "50      1\n",
       "Name: messages_included, dtype: int64"
      ]
     },
     "metadata": {},
     "output_type": "display_data"
    },
    {
     "data": {
      "text/plain": [
       "15360    1\n",
       "30720    1\n",
       "Name: mb_per_month_included, dtype: int64"
      ]
     },
     "metadata": {},
     "output_type": "display_data"
    },
    {
     "data": {
      "text/plain": [
       "500     1\n",
       "3000    1\n",
       "Name: minutes_included, dtype: int64"
      ]
     },
     "metadata": {},
     "output_type": "display_data"
    },
    {
     "data": {
      "text/plain": [
       "1950    1\n",
       "550     1\n",
       "Name: rub_monthly_fee, dtype: int64"
      ]
     },
     "metadata": {},
     "output_type": "display_data"
    },
    {
     "data": {
      "text/plain": [
       "200    1\n",
       "150    1\n",
       "Name: rub_per_gb, dtype: int64"
      ]
     },
     "metadata": {},
     "output_type": "display_data"
    },
    {
     "data": {
      "text/plain": [
       "1    1\n",
       "3    1\n",
       "Name: rub_per_message, dtype: int64"
      ]
     },
     "metadata": {},
     "output_type": "display_data"
    },
    {
     "data": {
      "text/plain": [
       "1    1\n",
       "3    1\n",
       "Name: rub_per_minute, dtype: int64"
      ]
     },
     "metadata": {},
     "output_type": "display_data"
    },
    {
     "data": {
      "text/plain": [
       "ultra    1\n",
       "smart    1\n",
       "Name: tariff_name, dtype: int64"
      ]
     },
     "metadata": {},
     "output_type": "display_data"
    },
    {
     "data": {
      "text/plain": [
       "1024    1\n",
       "1353    1\n",
       "1366    1\n",
       "1365    1\n",
       "1364    1\n",
       "       ..\n",
       "1185    1\n",
       "1184    1\n",
       "1183    1\n",
       "1182    1\n",
       "1023    1\n",
       "Name: user_id, Length: 500, dtype: int64"
      ]
     },
     "metadata": {},
     "output_type": "display_data"
    },
    {
     "data": {
      "text/plain": [
       "53    14\n",
       "42    14\n",
       "63    13\n",
       "64    13\n",
       "71    13\n",
       "21    12\n",
       "40    12\n",
       "73    12\n",
       "29    11\n",
       "39    11\n",
       "37    11\n",
       "47    11\n",
       "26    11\n",
       "41    10\n",
       "45    10\n",
       "58    10\n",
       "36    10\n",
       "70    10\n",
       "52    10\n",
       "65     9\n",
       "66     9\n",
       "56     9\n",
       "68     9\n",
       "20     9\n",
       "51     9\n",
       "50     9\n",
       "48     9\n",
       "30     9\n",
       "19     9\n",
       "24     9\n",
       "28     9\n",
       "27     9\n",
       "23     9\n",
       "62     8\n",
       "60     8\n",
       "55     8\n",
       "69     8\n",
       "44     8\n",
       "25     7\n",
       "31     7\n",
       "35     7\n",
       "67     7\n",
       "74     7\n",
       "43     7\n",
       "32     7\n",
       "46     7\n",
       "18     6\n",
       "59     6\n",
       "54     6\n",
       "75     6\n",
       "38     5\n",
       "34     5\n",
       "72     5\n",
       "33     5\n",
       "22     5\n",
       "57     4\n",
       "49     4\n",
       "61     3\n",
       "Name: age, dtype: int64"
      ]
     },
     "metadata": {},
     "output_type": "display_data"
    },
    {
     "data": {
      "text/plain": [
       "2018-12-03    2\n",
       "2018-12-09    2\n",
       "2018-10-03    2\n",
       "2018-10-14    2\n",
       "2018-12-21    2\n",
       "2018-10-05    1\n",
       "2018-10-04    1\n",
       "2018-12-14    1\n",
       "2018-11-07    1\n",
       "2018-10-28    1\n",
       "2018-12-26    1\n",
       "2018-12-20    1\n",
       "2018-09-02    1\n",
       "2018-11-22    1\n",
       "2018-08-31    1\n",
       "2018-11-30    1\n",
       "2018-12-24    1\n",
       "2018-09-27    1\n",
       "2018-10-25    1\n",
       "2018-11-26    1\n",
       "2018-12-30    1\n",
       "2018-11-21    1\n",
       "2018-12-18    1\n",
       "2018-10-27    1\n",
       "2018-08-17    1\n",
       "2018-12-16    1\n",
       "2018-11-16    1\n",
       "2018-09-26    1\n",
       "2018-11-27    1\n",
       "2018-12-23    1\n",
       "2018-12-11    1\n",
       "2018-12-25    1\n",
       "2018-11-13    1\n",
       "Name: churn_date, dtype: int64"
      ]
     },
     "metadata": {},
     "output_type": "display_data"
    },
    {
     "data": {
      "text/plain": [
       "Москва             99\n",
       "Санкт-Петербург    39\n",
       "Новосибирск        16\n",
       "Омск               14\n",
       "Казань             14\n",
       "                   ..\n",
       "Иваново             1\n",
       "Архангельск         1\n",
       "Подольск            1\n",
       "Нижневартовск       1\n",
       "Химки               1\n",
       "Name: city, Length: 76, dtype: int64"
      ]
     },
     "metadata": {},
     "output_type": "display_data"
    },
    {
     "data": {
      "text/plain": [
       "Радим       6\n",
       "Леонид      5\n",
       "Пётр        5\n",
       "Руслан      4\n",
       "Алиса       4\n",
       "           ..\n",
       "Ангелина    1\n",
       "Людмила     1\n",
       "Илья        1\n",
       "Инга        1\n",
       "Дебора      1\n",
       "Name: first_name, Length: 246, dtype: int64"
      ]
     },
     "metadata": {},
     "output_type": "display_data"
    },
    {
     "data": {
      "text/plain": [
       "Андреенко     5\n",
       "Аничкина      3\n",
       "Березина      3\n",
       "Абашкина      3\n",
       "Булгаков      3\n",
       "             ..\n",
       "Кулагина      1\n",
       "Авдонюшкин    1\n",
       "Акимчин       1\n",
       "Сухарева      1\n",
       "Нечаева       1\n",
       "Name: last_name, Length: 419, dtype: int64"
      ]
     },
     "metadata": {},
     "output_type": "display_data"
    },
    {
     "data": {
      "text/plain": [
       "2018-05-28    8\n",
       "2018-11-16    5\n",
       "2018-04-03    5\n",
       "2018-01-04    5\n",
       "2018-07-16    5\n",
       "             ..\n",
       "2018-05-14    1\n",
       "2018-01-20    1\n",
       "2018-11-18    1\n",
       "2018-04-28    1\n",
       "2018-06-04    1\n",
       "Name: reg_date, Length: 270, dtype: int64"
      ]
     },
     "metadata": {},
     "output_type": "display_data"
    },
    {
     "data": {
      "text/plain": [
       "smart    351\n",
       "ultra    149\n",
       "Name: tariff, dtype: int64"
      ]
     },
     "metadata": {},
     "output_type": "display_data"
    }
   ],
   "source": [
    "# Проверка столбцов\n",
    "def col_chk(col):\n",
    "    for i in col:\n",
    "        for j in i:\n",
    "            display(i[j].value_counts())\n",
    "col_chk(tbl_list)"
   ]
  },
  {
   "cell_type": "markdown",
   "metadata": {},
   "source": [
    "Количество абонентов на начало года тарифа смарт: 351, ультра: 149"
   ]
  },
  {
   "cell_type": "markdown",
   "metadata": {},
   "source": [
    "#### Преобразование типов данных"
   ]
  },
  {
   "cell_type": "code",
   "execution_count": 22,
   "metadata": {},
   "outputs": [],
   "source": [
    "calls['call_date'] = pd.to_datetime(calls['call_date'], format = '%Y-%m-%d')"
   ]
  },
  {
   "cell_type": "code",
   "execution_count": 23,
   "metadata": {},
   "outputs": [],
   "source": [
    "internet['session_date'] = pd.to_datetime(internet['session_date'], format = '%Y-%m-%d')"
   ]
  },
  {
   "cell_type": "code",
   "execution_count": 24,
   "metadata": {},
   "outputs": [],
   "source": [
    "messages['message_date'] = pd.to_datetime(messages['message_date'], format = '%Y-%m-%d')"
   ]
  },
  {
   "cell_type": "code",
   "execution_count": 25,
   "metadata": {},
   "outputs": [],
   "source": [
    "users['reg_date'] = pd.to_datetime(users['reg_date'], format = '%Y-%m-%d')"
   ]
  },
  {
   "cell_type": "code",
   "execution_count": 26,
   "metadata": {},
   "outputs": [],
   "source": [
    "users['churn_date'] = pd.to_datetime(users['churn_date'], format = '%Y-%m-%d')"
   ]
  },
  {
   "cell_type": "code",
   "execution_count": 27,
   "metadata": {},
   "outputs": [],
   "source": [
    "#округлим значения времени звонков вверх\n",
    "calls['duration'] = np.ceil(calls['duration']).astype('int')"
   ]
  },
  {
   "cell_type": "code",
   "execution_count": 28,
   "metadata": {},
   "outputs": [
    {
     "name": "stdout",
     "output_type": "stream",
     "text": [
      "0\n",
      "0\n",
      "0\n",
      "0\n",
      "0\n"
     ]
    }
   ],
   "source": [
    "# Функция для подсчета дубликатов в таблицах \n",
    "def df_dup(dup):\n",
    "    for i in dup:\n",
    "        print(i.duplicated().sum())\n",
    "df_dup(tbl_list)"
   ]
  },
  {
   "cell_type": "code",
   "execution_count": 29,
   "metadata": {},
   "outputs": [],
   "source": [
    "#создадим доп столбец с месяцем\n",
    "calls['month'] = pd.DatetimeIndex(calls['call_date']).month"
   ]
  },
  {
   "cell_type": "code",
   "execution_count": 30,
   "metadata": {},
   "outputs": [],
   "source": [
    "#создадим доп столбец с месяцем\n",
    "internet['month'] = pd.DatetimeIndex(internet['session_date']).month"
   ]
  },
  {
   "cell_type": "code",
   "execution_count": 31,
   "metadata": {},
   "outputs": [],
   "source": [
    "#создадим доп столбец с месяцем\n",
    "messages['month'] = pd.DatetimeIndex(messages['message_date']).month"
   ]
  },
  {
   "cell_type": "code",
   "execution_count": 32,
   "metadata": {},
   "outputs": [],
   "source": [
    "#округлим значения мегабайт до гигабайтов\n",
    "#internet['gb_used'] = internet['mb_used']/1024\n",
    "#internet['gb_used'] = np.ceil(internet['gb_used']).astype('int')"
   ]
  },
  {
   "cell_type": "code",
   "execution_count": 33,
   "metadata": {},
   "outputs": [],
   "source": [
    "#Корректируем название столбца с тарифом для корректного слияния:\n",
    "tarrifs.rename(columns={'tariff_name': 'tariff'}, inplace=True)"
   ]
  },
  {
   "cell_type": "code",
   "execution_count": 34,
   "metadata": {},
   "outputs": [
    {
     "data": {
      "text/html": [
       "<div>\n",
       "<style scoped>\n",
       "    .dataframe tbody tr th:only-of-type {\n",
       "        vertical-align: middle;\n",
       "    }\n",
       "\n",
       "    .dataframe tbody tr th {\n",
       "        vertical-align: top;\n",
       "    }\n",
       "\n",
       "    .dataframe thead th {\n",
       "        text-align: right;\n",
       "    }\n",
       "</style>\n",
       "<table border=\"1\" class=\"dataframe\">\n",
       "  <thead>\n",
       "    <tr style=\"text-align: right;\">\n",
       "      <th></th>\n",
       "      <th>messages_included</th>\n",
       "      <th>mb_per_month_included</th>\n",
       "      <th>minutes_included</th>\n",
       "      <th>rub_monthly_fee</th>\n",
       "      <th>rub_per_gb</th>\n",
       "      <th>rub_per_message</th>\n",
       "      <th>rub_per_minute</th>\n",
       "      <th>tariff</th>\n",
       "      <th>gb_per_month_included</th>\n",
       "    </tr>\n",
       "  </thead>\n",
       "  <tbody>\n",
       "    <tr>\n",
       "      <th>0</th>\n",
       "      <td>50</td>\n",
       "      <td>15360</td>\n",
       "      <td>500</td>\n",
       "      <td>550</td>\n",
       "      <td>200</td>\n",
       "      <td>3</td>\n",
       "      <td>3</td>\n",
       "      <td>smart</td>\n",
       "      <td>15</td>\n",
       "    </tr>\n",
       "    <tr>\n",
       "      <th>1</th>\n",
       "      <td>1000</td>\n",
       "      <td>30720</td>\n",
       "      <td>3000</td>\n",
       "      <td>1950</td>\n",
       "      <td>150</td>\n",
       "      <td>1</td>\n",
       "      <td>1</td>\n",
       "      <td>ultra</td>\n",
       "      <td>30</td>\n",
       "    </tr>\n",
       "  </tbody>\n",
       "</table>\n",
       "</div>"
      ],
      "text/plain": [
       "   messages_included  mb_per_month_included  minutes_included  \\\n",
       "0                 50                  15360               500   \n",
       "1               1000                  30720              3000   \n",
       "\n",
       "   rub_monthly_fee  rub_per_gb  rub_per_message  rub_per_minute tariff  \\\n",
       "0              550         200                3               3  smart   \n",
       "1             1950         150                1               1  ultra   \n",
       "\n",
       "   gb_per_month_included  \n",
       "0                     15  \n",
       "1                     30  "
      ]
     },
     "execution_count": 34,
     "metadata": {},
     "output_type": "execute_result"
    }
   ],
   "source": [
    "# Добавим столбец с лимитом трафика в ГБ на месяц\n",
    "tarrifs['gb_per_month_included'] = (tarrifs['mb_per_month_included']/1024).astype('int')\n",
    "tarrifs"
   ]
  },
  {
   "cell_type": "markdown",
   "metadata": {},
   "source": [
    "#### Расчеты"
   ]
  },
  {
   "cell_type": "code",
   "execution_count": 35,
   "metadata": {},
   "outputs": [],
   "source": [
    "# функция создания сводной таблицы - количества ресурсов по месяцам \n",
    "def month_amount(data_in, column_values, func):\n",
    "    data_out = data_in.pivot_table(index = [\"user_id\", 'month'], values = column_values, aggfunc = func)\n",
    "    data_out.reset_index(inplace = True)\n",
    "    return data_out"
   ]
  },
  {
   "cell_type": "code",
   "execution_count": 36,
   "metadata": {},
   "outputs": [
    {
     "data": {
      "text/html": [
       "<div>\n",
       "<style scoped>\n",
       "    .dataframe tbody tr th:only-of-type {\n",
       "        vertical-align: middle;\n",
       "    }\n",
       "\n",
       "    .dataframe tbody tr th {\n",
       "        vertical-align: top;\n",
       "    }\n",
       "\n",
       "    .dataframe thead th {\n",
       "        text-align: right;\n",
       "    }\n",
       "</style>\n",
       "<table border=\"1\" class=\"dataframe\">\n",
       "  <thead>\n",
       "    <tr style=\"text-align: right;\">\n",
       "      <th></th>\n",
       "      <th>user_id</th>\n",
       "      <th>month</th>\n",
       "      <th>duration_count</th>\n",
       "    </tr>\n",
       "  </thead>\n",
       "  <tbody>\n",
       "    <tr>\n",
       "      <th>0</th>\n",
       "      <td>1000</td>\n",
       "      <td>5</td>\n",
       "      <td>22</td>\n",
       "    </tr>\n",
       "    <tr>\n",
       "      <th>1</th>\n",
       "      <td>1000</td>\n",
       "      <td>6</td>\n",
       "      <td>43</td>\n",
       "    </tr>\n",
       "    <tr>\n",
       "      <th>2</th>\n",
       "      <td>1000</td>\n",
       "      <td>7</td>\n",
       "      <td>47</td>\n",
       "    </tr>\n",
       "    <tr>\n",
       "      <th>3</th>\n",
       "      <td>1000</td>\n",
       "      <td>8</td>\n",
       "      <td>52</td>\n",
       "    </tr>\n",
       "    <tr>\n",
       "      <th>4</th>\n",
       "      <td>1000</td>\n",
       "      <td>9</td>\n",
       "      <td>58</td>\n",
       "    </tr>\n",
       "    <tr>\n",
       "      <th>...</th>\n",
       "      <td>...</td>\n",
       "      <td>...</td>\n",
       "      <td>...</td>\n",
       "    </tr>\n",
       "    <tr>\n",
       "      <th>3169</th>\n",
       "      <td>1498</td>\n",
       "      <td>10</td>\n",
       "      <td>41</td>\n",
       "    </tr>\n",
       "    <tr>\n",
       "      <th>3170</th>\n",
       "      <td>1499</td>\n",
       "      <td>9</td>\n",
       "      <td>9</td>\n",
       "    </tr>\n",
       "    <tr>\n",
       "      <th>3171</th>\n",
       "      <td>1499</td>\n",
       "      <td>10</td>\n",
       "      <td>68</td>\n",
       "    </tr>\n",
       "    <tr>\n",
       "      <th>3172</th>\n",
       "      <td>1499</td>\n",
       "      <td>11</td>\n",
       "      <td>74</td>\n",
       "    </tr>\n",
       "    <tr>\n",
       "      <th>3173</th>\n",
       "      <td>1499</td>\n",
       "      <td>12</td>\n",
       "      <td>69</td>\n",
       "    </tr>\n",
       "  </tbody>\n",
       "</table>\n",
       "<p>3174 rows × 3 columns</p>\n",
       "</div>"
      ],
      "text/plain": [
       "      user_id  month  duration_count\n",
       "0        1000      5              22\n",
       "1        1000      6              43\n",
       "2        1000      7              47\n",
       "3        1000      8              52\n",
       "4        1000      9              58\n",
       "...       ...    ...             ...\n",
       "3169     1498     10              41\n",
       "3170     1499      9               9\n",
       "3171     1499     10              68\n",
       "3172     1499     11              74\n",
       "3173     1499     12              69\n",
       "\n",
       "[3174 rows x 3 columns]"
      ]
     },
     "execution_count": 36,
     "metadata": {},
     "output_type": "execute_result"
    }
   ],
   "source": [
    "#Количество звонков за месяц\n",
    "calls_made = month_amount(calls, 'duration', 'count')\n",
    "calls_made.rename(columns={'duration': 'duration_count'}, inplace=True)\n",
    "calls_made"
   ]
  },
  {
   "cell_type": "code",
   "execution_count": 37,
   "metadata": {},
   "outputs": [
    {
     "data": {
      "text/html": [
       "<div>\n",
       "<style scoped>\n",
       "    .dataframe tbody tr th:only-of-type {\n",
       "        vertical-align: middle;\n",
       "    }\n",
       "\n",
       "    .dataframe tbody tr th {\n",
       "        vertical-align: top;\n",
       "    }\n",
       "\n",
       "    .dataframe thead th {\n",
       "        text-align: right;\n",
       "    }\n",
       "</style>\n",
       "<table border=\"1\" class=\"dataframe\">\n",
       "  <thead>\n",
       "    <tr style=\"text-align: right;\">\n",
       "      <th></th>\n",
       "      <th>user_id</th>\n",
       "      <th>month</th>\n",
       "      <th>duration</th>\n",
       "    </tr>\n",
       "  </thead>\n",
       "  <tbody>\n",
       "    <tr>\n",
       "      <th>0</th>\n",
       "      <td>1000</td>\n",
       "      <td>5</td>\n",
       "      <td>159</td>\n",
       "    </tr>\n",
       "    <tr>\n",
       "      <th>1</th>\n",
       "      <td>1000</td>\n",
       "      <td>6</td>\n",
       "      <td>172</td>\n",
       "    </tr>\n",
       "    <tr>\n",
       "      <th>2</th>\n",
       "      <td>1000</td>\n",
       "      <td>7</td>\n",
       "      <td>340</td>\n",
       "    </tr>\n",
       "    <tr>\n",
       "      <th>3</th>\n",
       "      <td>1000</td>\n",
       "      <td>8</td>\n",
       "      <td>408</td>\n",
       "    </tr>\n",
       "    <tr>\n",
       "      <th>4</th>\n",
       "      <td>1000</td>\n",
       "      <td>9</td>\n",
       "      <td>466</td>\n",
       "    </tr>\n",
       "    <tr>\n",
       "      <th>...</th>\n",
       "      <td>...</td>\n",
       "      <td>...</td>\n",
       "      <td>...</td>\n",
       "    </tr>\n",
       "    <tr>\n",
       "      <th>3169</th>\n",
       "      <td>1498</td>\n",
       "      <td>10</td>\n",
       "      <td>247</td>\n",
       "    </tr>\n",
       "    <tr>\n",
       "      <th>3170</th>\n",
       "      <td>1499</td>\n",
       "      <td>9</td>\n",
       "      <td>70</td>\n",
       "    </tr>\n",
       "    <tr>\n",
       "      <th>3171</th>\n",
       "      <td>1499</td>\n",
       "      <td>10</td>\n",
       "      <td>449</td>\n",
       "    </tr>\n",
       "    <tr>\n",
       "      <th>3172</th>\n",
       "      <td>1499</td>\n",
       "      <td>11</td>\n",
       "      <td>612</td>\n",
       "    </tr>\n",
       "    <tr>\n",
       "      <th>3173</th>\n",
       "      <td>1499</td>\n",
       "      <td>12</td>\n",
       "      <td>492</td>\n",
       "    </tr>\n",
       "  </tbody>\n",
       "</table>\n",
       "<p>3174 rows × 3 columns</p>\n",
       "</div>"
      ],
      "text/plain": [
       "      user_id  month  duration\n",
       "0        1000      5       159\n",
       "1        1000      6       172\n",
       "2        1000      7       340\n",
       "3        1000      8       408\n",
       "4        1000      9       466\n",
       "...       ...    ...       ...\n",
       "3169     1498     10       247\n",
       "3170     1499      9        70\n",
       "3171     1499     10       449\n",
       "3172     1499     11       612\n",
       "3173     1499     12       492\n",
       "\n",
       "[3174 rows x 3 columns]"
      ]
     },
     "execution_count": 37,
     "metadata": {},
     "output_type": "execute_result"
    }
   ],
   "source": [
    "#Количество израсходованных минут за месяц\n",
    "spent_minutes = month_amount(calls, 'duration', 'sum')\n",
    "spent_minutes"
   ]
  },
  {
   "cell_type": "code",
   "execution_count": 38,
   "metadata": {},
   "outputs": [
    {
     "data": {
      "text/html": [
       "<div>\n",
       "<style scoped>\n",
       "    .dataframe tbody tr th:only-of-type {\n",
       "        vertical-align: middle;\n",
       "    }\n",
       "\n",
       "    .dataframe tbody tr th {\n",
       "        vertical-align: top;\n",
       "    }\n",
       "\n",
       "    .dataframe thead th {\n",
       "        text-align: right;\n",
       "    }\n",
       "</style>\n",
       "<table border=\"1\" class=\"dataframe\">\n",
       "  <thead>\n",
       "    <tr style=\"text-align: right;\">\n",
       "      <th></th>\n",
       "      <th>user_id</th>\n",
       "      <th>month</th>\n",
       "      <th>count_msg</th>\n",
       "    </tr>\n",
       "  </thead>\n",
       "  <tbody>\n",
       "    <tr>\n",
       "      <th>0</th>\n",
       "      <td>1000</td>\n",
       "      <td>5</td>\n",
       "      <td>22</td>\n",
       "    </tr>\n",
       "    <tr>\n",
       "      <th>1</th>\n",
       "      <td>1000</td>\n",
       "      <td>6</td>\n",
       "      <td>60</td>\n",
       "    </tr>\n",
       "    <tr>\n",
       "      <th>2</th>\n",
       "      <td>1000</td>\n",
       "      <td>7</td>\n",
       "      <td>75</td>\n",
       "    </tr>\n",
       "    <tr>\n",
       "      <th>3</th>\n",
       "      <td>1000</td>\n",
       "      <td>8</td>\n",
       "      <td>81</td>\n",
       "    </tr>\n",
       "    <tr>\n",
       "      <th>4</th>\n",
       "      <td>1000</td>\n",
       "      <td>9</td>\n",
       "      <td>57</td>\n",
       "    </tr>\n",
       "    <tr>\n",
       "      <th>...</th>\n",
       "      <td>...</td>\n",
       "      <td>...</td>\n",
       "      <td>...</td>\n",
       "    </tr>\n",
       "    <tr>\n",
       "      <th>2712</th>\n",
       "      <td>1498</td>\n",
       "      <td>10</td>\n",
       "      <td>42</td>\n",
       "    </tr>\n",
       "    <tr>\n",
       "      <th>2713</th>\n",
       "      <td>1499</td>\n",
       "      <td>9</td>\n",
       "      <td>11</td>\n",
       "    </tr>\n",
       "    <tr>\n",
       "      <th>2714</th>\n",
       "      <td>1499</td>\n",
       "      <td>10</td>\n",
       "      <td>48</td>\n",
       "    </tr>\n",
       "    <tr>\n",
       "      <th>2715</th>\n",
       "      <td>1499</td>\n",
       "      <td>11</td>\n",
       "      <td>59</td>\n",
       "    </tr>\n",
       "    <tr>\n",
       "      <th>2716</th>\n",
       "      <td>1499</td>\n",
       "      <td>12</td>\n",
       "      <td>66</td>\n",
       "    </tr>\n",
       "  </tbody>\n",
       "</table>\n",
       "<p>2717 rows × 3 columns</p>\n",
       "</div>"
      ],
      "text/plain": [
       "      user_id  month  count_msg\n",
       "0        1000      5         22\n",
       "1        1000      6         60\n",
       "2        1000      7         75\n",
       "3        1000      8         81\n",
       "4        1000      9         57\n",
       "...       ...    ...        ...\n",
       "2712     1498     10         42\n",
       "2713     1499      9         11\n",
       "2714     1499     10         48\n",
       "2715     1499     11         59\n",
       "2716     1499     12         66\n",
       "\n",
       "[2717 rows x 3 columns]"
      ]
     },
     "execution_count": 38,
     "metadata": {},
     "output_type": "execute_result"
    }
   ],
   "source": [
    "#Количество отправленных сообщений за месяц\n",
    "messages_made = month_amount(messages, 'id', 'count')\n",
    "messages_made.rename(columns={'id': 'count_msg'}, inplace=True)\n",
    "messages_made"
   ]
  },
  {
   "cell_type": "code",
   "execution_count": 39,
   "metadata": {
    "scrolled": true
   },
   "outputs": [
    {
     "data": {
      "text/html": [
       "<div>\n",
       "<style scoped>\n",
       "    .dataframe tbody tr th:only-of-type {\n",
       "        vertical-align: middle;\n",
       "    }\n",
       "\n",
       "    .dataframe tbody tr th {\n",
       "        vertical-align: top;\n",
       "    }\n",
       "\n",
       "    .dataframe thead th {\n",
       "        text-align: right;\n",
       "    }\n",
       "</style>\n",
       "<table border=\"1\" class=\"dataframe\">\n",
       "  <thead>\n",
       "    <tr style=\"text-align: right;\">\n",
       "      <th></th>\n",
       "      <th>user_id</th>\n",
       "      <th>month</th>\n",
       "      <th>mb_used</th>\n",
       "      <th>gb_used</th>\n",
       "    </tr>\n",
       "  </thead>\n",
       "  <tbody>\n",
       "    <tr>\n",
       "      <th>0</th>\n",
       "      <td>1000</td>\n",
       "      <td>5</td>\n",
       "      <td>2253.49</td>\n",
       "      <td>3</td>\n",
       "    </tr>\n",
       "    <tr>\n",
       "      <th>1</th>\n",
       "      <td>1000</td>\n",
       "      <td>6</td>\n",
       "      <td>23233.77</td>\n",
       "      <td>23</td>\n",
       "    </tr>\n",
       "    <tr>\n",
       "      <th>2</th>\n",
       "      <td>1000</td>\n",
       "      <td>7</td>\n",
       "      <td>14003.64</td>\n",
       "      <td>14</td>\n",
       "    </tr>\n",
       "    <tr>\n",
       "      <th>3</th>\n",
       "      <td>1000</td>\n",
       "      <td>8</td>\n",
       "      <td>14055.93</td>\n",
       "      <td>14</td>\n",
       "    </tr>\n",
       "    <tr>\n",
       "      <th>4</th>\n",
       "      <td>1000</td>\n",
       "      <td>9</td>\n",
       "      <td>14568.91</td>\n",
       "      <td>15</td>\n",
       "    </tr>\n",
       "    <tr>\n",
       "      <th>...</th>\n",
       "      <td>...</td>\n",
       "      <td>...</td>\n",
       "      <td>...</td>\n",
       "      <td>...</td>\n",
       "    </tr>\n",
       "    <tr>\n",
       "      <th>3198</th>\n",
       "      <td>1498</td>\n",
       "      <td>10</td>\n",
       "      <td>20579.36</td>\n",
       "      <td>21</td>\n",
       "    </tr>\n",
       "    <tr>\n",
       "      <th>3199</th>\n",
       "      <td>1499</td>\n",
       "      <td>9</td>\n",
       "      <td>1845.75</td>\n",
       "      <td>2</td>\n",
       "    </tr>\n",
       "    <tr>\n",
       "      <th>3200</th>\n",
       "      <td>1499</td>\n",
       "      <td>10</td>\n",
       "      <td>17788.51</td>\n",
       "      <td>18</td>\n",
       "    </tr>\n",
       "    <tr>\n",
       "      <th>3201</th>\n",
       "      <td>1499</td>\n",
       "      <td>11</td>\n",
       "      <td>17963.31</td>\n",
       "      <td>18</td>\n",
       "    </tr>\n",
       "    <tr>\n",
       "      <th>3202</th>\n",
       "      <td>1499</td>\n",
       "      <td>12</td>\n",
       "      <td>13055.58</td>\n",
       "      <td>13</td>\n",
       "    </tr>\n",
       "  </tbody>\n",
       "</table>\n",
       "<p>3203 rows × 4 columns</p>\n",
       "</div>"
      ],
      "text/plain": [
       "      user_id  month   mb_used  gb_used\n",
       "0        1000      5   2253.49        3\n",
       "1        1000      6  23233.77       23\n",
       "2        1000      7  14003.64       14\n",
       "3        1000      8  14055.93       14\n",
       "4        1000      9  14568.91       15\n",
       "...       ...    ...       ...      ...\n",
       "3198     1498     10  20579.36       21\n",
       "3199     1499      9   1845.75        2\n",
       "3200     1499     10  17788.51       18\n",
       "3201     1499     11  17963.31       18\n",
       "3202     1499     12  13055.58       13\n",
       "\n",
       "[3203 rows x 4 columns]"
      ]
     },
     "execution_count": 39,
     "metadata": {},
     "output_type": "execute_result"
    }
   ],
   "source": [
    "#Объём трафика за месяц\n",
    "traffic_made = month_amount(internet, 'mb_used', 'sum')\n",
    "#округлим значения мегабайт до гигабайтов\n",
    "traffic_made['gb_used'] = traffic_made['mb_used']/1024\n",
    "traffic_made['gb_used'] = np.ceil(traffic_made['gb_used']).astype('int')\n",
    "traffic_made"
   ]
  },
  {
   "cell_type": "code",
   "execution_count": 40,
   "metadata": {},
   "outputs": [
    {
     "data": {
      "text/html": [
       "<div>\n",
       "<style scoped>\n",
       "    .dataframe tbody tr th:only-of-type {\n",
       "        vertical-align: middle;\n",
       "    }\n",
       "\n",
       "    .dataframe tbody tr th {\n",
       "        vertical-align: top;\n",
       "    }\n",
       "\n",
       "    .dataframe thead th {\n",
       "        text-align: right;\n",
       "    }\n",
       "</style>\n",
       "<table border=\"1\" class=\"dataframe\">\n",
       "  <thead>\n",
       "    <tr style=\"text-align: right;\">\n",
       "      <th></th>\n",
       "      <th>user_id</th>\n",
       "      <th>month</th>\n",
       "      <th>mb_used</th>\n",
       "      <th>gb_used</th>\n",
       "      <th>count_msg</th>\n",
       "      <th>duration</th>\n",
       "      <th>duration_count</th>\n",
       "      <th>age</th>\n",
       "      <th>churn_date</th>\n",
       "      <th>city</th>\n",
       "      <th>...</th>\n",
       "      <th>reg_date</th>\n",
       "      <th>tariff</th>\n",
       "      <th>messages_included</th>\n",
       "      <th>mb_per_month_included</th>\n",
       "      <th>minutes_included</th>\n",
       "      <th>rub_monthly_fee</th>\n",
       "      <th>rub_per_gb</th>\n",
       "      <th>rub_per_message</th>\n",
       "      <th>rub_per_minute</th>\n",
       "      <th>gb_per_month_included</th>\n",
       "    </tr>\n",
       "  </thead>\n",
       "  <tbody>\n",
       "    <tr>\n",
       "      <th>0</th>\n",
       "      <td>1000</td>\n",
       "      <td>5.0</td>\n",
       "      <td>2253.49</td>\n",
       "      <td>3.0</td>\n",
       "      <td>22.0</td>\n",
       "      <td>159.0</td>\n",
       "      <td>22.0</td>\n",
       "      <td>52</td>\n",
       "      <td>NaT</td>\n",
       "      <td>Краснодар</td>\n",
       "      <td>...</td>\n",
       "      <td>2018-05-25</td>\n",
       "      <td>ultra</td>\n",
       "      <td>1000</td>\n",
       "      <td>30720</td>\n",
       "      <td>3000</td>\n",
       "      <td>1950</td>\n",
       "      <td>150</td>\n",
       "      <td>1</td>\n",
       "      <td>1</td>\n",
       "      <td>30</td>\n",
       "    </tr>\n",
       "    <tr>\n",
       "      <th>1</th>\n",
       "      <td>1000</td>\n",
       "      <td>6.0</td>\n",
       "      <td>23233.77</td>\n",
       "      <td>23.0</td>\n",
       "      <td>60.0</td>\n",
       "      <td>172.0</td>\n",
       "      <td>43.0</td>\n",
       "      <td>52</td>\n",
       "      <td>NaT</td>\n",
       "      <td>Краснодар</td>\n",
       "      <td>...</td>\n",
       "      <td>2018-05-25</td>\n",
       "      <td>ultra</td>\n",
       "      <td>1000</td>\n",
       "      <td>30720</td>\n",
       "      <td>3000</td>\n",
       "      <td>1950</td>\n",
       "      <td>150</td>\n",
       "      <td>1</td>\n",
       "      <td>1</td>\n",
       "      <td>30</td>\n",
       "    </tr>\n",
       "    <tr>\n",
       "      <th>2</th>\n",
       "      <td>1000</td>\n",
       "      <td>7.0</td>\n",
       "      <td>14003.64</td>\n",
       "      <td>14.0</td>\n",
       "      <td>75.0</td>\n",
       "      <td>340.0</td>\n",
       "      <td>47.0</td>\n",
       "      <td>52</td>\n",
       "      <td>NaT</td>\n",
       "      <td>Краснодар</td>\n",
       "      <td>...</td>\n",
       "      <td>2018-05-25</td>\n",
       "      <td>ultra</td>\n",
       "      <td>1000</td>\n",
       "      <td>30720</td>\n",
       "      <td>3000</td>\n",
       "      <td>1950</td>\n",
       "      <td>150</td>\n",
       "      <td>1</td>\n",
       "      <td>1</td>\n",
       "      <td>30</td>\n",
       "    </tr>\n",
       "    <tr>\n",
       "      <th>3</th>\n",
       "      <td>1000</td>\n",
       "      <td>8.0</td>\n",
       "      <td>14055.93</td>\n",
       "      <td>14.0</td>\n",
       "      <td>81.0</td>\n",
       "      <td>408.0</td>\n",
       "      <td>52.0</td>\n",
       "      <td>52</td>\n",
       "      <td>NaT</td>\n",
       "      <td>Краснодар</td>\n",
       "      <td>...</td>\n",
       "      <td>2018-05-25</td>\n",
       "      <td>ultra</td>\n",
       "      <td>1000</td>\n",
       "      <td>30720</td>\n",
       "      <td>3000</td>\n",
       "      <td>1950</td>\n",
       "      <td>150</td>\n",
       "      <td>1</td>\n",
       "      <td>1</td>\n",
       "      <td>30</td>\n",
       "    </tr>\n",
       "    <tr>\n",
       "      <th>4</th>\n",
       "      <td>1000</td>\n",
       "      <td>9.0</td>\n",
       "      <td>14568.91</td>\n",
       "      <td>15.0</td>\n",
       "      <td>57.0</td>\n",
       "      <td>466.0</td>\n",
       "      <td>58.0</td>\n",
       "      <td>52</td>\n",
       "      <td>NaT</td>\n",
       "      <td>Краснодар</td>\n",
       "      <td>...</td>\n",
       "      <td>2018-05-25</td>\n",
       "      <td>ultra</td>\n",
       "      <td>1000</td>\n",
       "      <td>30720</td>\n",
       "      <td>3000</td>\n",
       "      <td>1950</td>\n",
       "      <td>150</td>\n",
       "      <td>1</td>\n",
       "      <td>1</td>\n",
       "      <td>30</td>\n",
       "    </tr>\n",
       "    <tr>\n",
       "      <th>...</th>\n",
       "      <td>...</td>\n",
       "      <td>...</td>\n",
       "      <td>...</td>\n",
       "      <td>...</td>\n",
       "      <td>...</td>\n",
       "      <td>...</td>\n",
       "      <td>...</td>\n",
       "      <td>...</td>\n",
       "      <td>...</td>\n",
       "      <td>...</td>\n",
       "      <td>...</td>\n",
       "      <td>...</td>\n",
       "      <td>...</td>\n",
       "      <td>...</td>\n",
       "      <td>...</td>\n",
       "      <td>...</td>\n",
       "      <td>...</td>\n",
       "      <td>...</td>\n",
       "      <td>...</td>\n",
       "      <td>...</td>\n",
       "      <td>...</td>\n",
       "    </tr>\n",
       "    <tr>\n",
       "      <th>3211</th>\n",
       "      <td>1499</td>\n",
       "      <td>9.0</td>\n",
       "      <td>1845.75</td>\n",
       "      <td>2.0</td>\n",
       "      <td>11.0</td>\n",
       "      <td>70.0</td>\n",
       "      <td>9.0</td>\n",
       "      <td>35</td>\n",
       "      <td>NaT</td>\n",
       "      <td>Пермь</td>\n",
       "      <td>...</td>\n",
       "      <td>2018-09-27</td>\n",
       "      <td>smart</td>\n",
       "      <td>50</td>\n",
       "      <td>15360</td>\n",
       "      <td>500</td>\n",
       "      <td>550</td>\n",
       "      <td>200</td>\n",
       "      <td>3</td>\n",
       "      <td>3</td>\n",
       "      <td>15</td>\n",
       "    </tr>\n",
       "    <tr>\n",
       "      <th>3212</th>\n",
       "      <td>1499</td>\n",
       "      <td>10.0</td>\n",
       "      <td>17788.51</td>\n",
       "      <td>18.0</td>\n",
       "      <td>48.0</td>\n",
       "      <td>449.0</td>\n",
       "      <td>68.0</td>\n",
       "      <td>35</td>\n",
       "      <td>NaT</td>\n",
       "      <td>Пермь</td>\n",
       "      <td>...</td>\n",
       "      <td>2018-09-27</td>\n",
       "      <td>smart</td>\n",
       "      <td>50</td>\n",
       "      <td>15360</td>\n",
       "      <td>500</td>\n",
       "      <td>550</td>\n",
       "      <td>200</td>\n",
       "      <td>3</td>\n",
       "      <td>3</td>\n",
       "      <td>15</td>\n",
       "    </tr>\n",
       "    <tr>\n",
       "      <th>3213</th>\n",
       "      <td>1499</td>\n",
       "      <td>11.0</td>\n",
       "      <td>17963.31</td>\n",
       "      <td>18.0</td>\n",
       "      <td>59.0</td>\n",
       "      <td>612.0</td>\n",
       "      <td>74.0</td>\n",
       "      <td>35</td>\n",
       "      <td>NaT</td>\n",
       "      <td>Пермь</td>\n",
       "      <td>...</td>\n",
       "      <td>2018-09-27</td>\n",
       "      <td>smart</td>\n",
       "      <td>50</td>\n",
       "      <td>15360</td>\n",
       "      <td>500</td>\n",
       "      <td>550</td>\n",
       "      <td>200</td>\n",
       "      <td>3</td>\n",
       "      <td>3</td>\n",
       "      <td>15</td>\n",
       "    </tr>\n",
       "    <tr>\n",
       "      <th>3214</th>\n",
       "      <td>1499</td>\n",
       "      <td>12.0</td>\n",
       "      <td>13055.58</td>\n",
       "      <td>13.0</td>\n",
       "      <td>66.0</td>\n",
       "      <td>492.0</td>\n",
       "      <td>69.0</td>\n",
       "      <td>35</td>\n",
       "      <td>NaT</td>\n",
       "      <td>Пермь</td>\n",
       "      <td>...</td>\n",
       "      <td>2018-09-27</td>\n",
       "      <td>smart</td>\n",
       "      <td>50</td>\n",
       "      <td>15360</td>\n",
       "      <td>500</td>\n",
       "      <td>550</td>\n",
       "      <td>200</td>\n",
       "      <td>3</td>\n",
       "      <td>3</td>\n",
       "      <td>15</td>\n",
       "    </tr>\n",
       "    <tr>\n",
       "      <th>3215</th>\n",
       "      <td>1371</td>\n",
       "      <td>NaN</td>\n",
       "      <td>NaN</td>\n",
       "      <td>NaN</td>\n",
       "      <td>NaN</td>\n",
       "      <td>NaN</td>\n",
       "      <td>NaN</td>\n",
       "      <td>50</td>\n",
       "      <td>2018-12-30</td>\n",
       "      <td>Омск</td>\n",
       "      <td>...</td>\n",
       "      <td>2018-12-25</td>\n",
       "      <td>smart</td>\n",
       "      <td>50</td>\n",
       "      <td>15360</td>\n",
       "      <td>500</td>\n",
       "      <td>550</td>\n",
       "      <td>200</td>\n",
       "      <td>3</td>\n",
       "      <td>3</td>\n",
       "      <td>15</td>\n",
       "    </tr>\n",
       "  </tbody>\n",
       "</table>\n",
       "<p>3216 rows × 22 columns</p>\n",
       "</div>"
      ],
      "text/plain": [
       "      user_id  month   mb_used  gb_used  count_msg  duration  duration_count  \\\n",
       "0        1000    5.0   2253.49      3.0       22.0     159.0            22.0   \n",
       "1        1000    6.0  23233.77     23.0       60.0     172.0            43.0   \n",
       "2        1000    7.0  14003.64     14.0       75.0     340.0            47.0   \n",
       "3        1000    8.0  14055.93     14.0       81.0     408.0            52.0   \n",
       "4        1000    9.0  14568.91     15.0       57.0     466.0            58.0   \n",
       "...       ...    ...       ...      ...        ...       ...             ...   \n",
       "3211     1499    9.0   1845.75      2.0       11.0      70.0             9.0   \n",
       "3212     1499   10.0  17788.51     18.0       48.0     449.0            68.0   \n",
       "3213     1499   11.0  17963.31     18.0       59.0     612.0            74.0   \n",
       "3214     1499   12.0  13055.58     13.0       66.0     492.0            69.0   \n",
       "3215     1371    NaN       NaN      NaN        NaN       NaN             NaN   \n",
       "\n",
       "      age churn_date       city  ...   reg_date tariff messages_included  \\\n",
       "0      52        NaT  Краснодар  ... 2018-05-25  ultra              1000   \n",
       "1      52        NaT  Краснодар  ... 2018-05-25  ultra              1000   \n",
       "2      52        NaT  Краснодар  ... 2018-05-25  ultra              1000   \n",
       "3      52        NaT  Краснодар  ... 2018-05-25  ultra              1000   \n",
       "4      52        NaT  Краснодар  ... 2018-05-25  ultra              1000   \n",
       "...   ...        ...        ...  ...        ...    ...               ...   \n",
       "3211   35        NaT      Пермь  ... 2018-09-27  smart                50   \n",
       "3212   35        NaT      Пермь  ... 2018-09-27  smart                50   \n",
       "3213   35        NaT      Пермь  ... 2018-09-27  smart                50   \n",
       "3214   35        NaT      Пермь  ... 2018-09-27  smart                50   \n",
       "3215   50 2018-12-30       Омск  ... 2018-12-25  smart                50   \n",
       "\n",
       "     mb_per_month_included  minutes_included  rub_monthly_fee  rub_per_gb  \\\n",
       "0                    30720              3000             1950         150   \n",
       "1                    30720              3000             1950         150   \n",
       "2                    30720              3000             1950         150   \n",
       "3                    30720              3000             1950         150   \n",
       "4                    30720              3000             1950         150   \n",
       "...                    ...               ...              ...         ...   \n",
       "3211                 15360               500              550         200   \n",
       "3212                 15360               500              550         200   \n",
       "3213                 15360               500              550         200   \n",
       "3214                 15360               500              550         200   \n",
       "3215                 15360               500              550         200   \n",
       "\n",
       "      rub_per_message  rub_per_minute  gb_per_month_included  \n",
       "0                   1               1                     30  \n",
       "1                   1               1                     30  \n",
       "2                   1               1                     30  \n",
       "3                   1               1                     30  \n",
       "4                   1               1                     30  \n",
       "...               ...             ...                    ...  \n",
       "3211                3               3                     15  \n",
       "3212                3               3                     15  \n",
       "3213                3               3                     15  \n",
       "3214                3               3                     15  \n",
       "3215                3               3                     15  \n",
       "\n",
       "[3216 rows x 22 columns]"
      ]
     },
     "execution_count": 40,
     "metadata": {},
     "output_type": "execute_result"
    }
   ],
   "source": [
    "# Соберём таблицу со всеми данными\n",
    "data = traffic_made.merge(messages_made, \n",
    "                          on = ['user_id', 'month'], \n",
    "                          how = 'outer').merge(spent_minutes, \n",
    "                                              on = ['user_id', 'month'], \n",
    "                                              how = 'outer').merge(calls_made,\n",
    "                                                                  on = ['user_id', 'month'], how = 'outer').merge(users, on = 'user_id', how = 'outer').merge(tarrifs, \n",
    "                                                                                                                     on = 'tariff')\n",
    "data"
   ]
  },
  {
   "cell_type": "code",
   "execution_count": 41,
   "metadata": {
    "scrolled": true
   },
   "outputs": [
    {
     "name": "stdout",
     "output_type": "stream",
     "text": [
      "<class 'pandas.core.frame.DataFrame'>\n",
      "Int64Index: 3216 entries, 0 to 3215\n",
      "Data columns (total 22 columns):\n",
      " #   Column                 Non-Null Count  Dtype         \n",
      "---  ------                 --------------  -----         \n",
      " 0   user_id                3216 non-null   int64         \n",
      " 1   month                  3214 non-null   float64       \n",
      " 2   mb_used                3203 non-null   float64       \n",
      " 3   gb_used                3203 non-null   float64       \n",
      " 4   count_msg              2717 non-null   float64       \n",
      " 5   duration               3174 non-null   float64       \n",
      " 6   duration_count         3174 non-null   float64       \n",
      " 7   age                    3216 non-null   int64         \n",
      " 8   churn_date             189 non-null    datetime64[ns]\n",
      " 9   city                   3216 non-null   object        \n",
      " 10  first_name             3216 non-null   object        \n",
      " 11  last_name              3216 non-null   object        \n",
      " 12  reg_date               3216 non-null   datetime64[ns]\n",
      " 13  tariff                 3216 non-null   object        \n",
      " 14  messages_included      3216 non-null   int64         \n",
      " 15  mb_per_month_included  3216 non-null   int64         \n",
      " 16  minutes_included       3216 non-null   int64         \n",
      " 17  rub_monthly_fee        3216 non-null   int64         \n",
      " 18  rub_per_gb             3216 non-null   int64         \n",
      " 19  rub_per_message        3216 non-null   int64         \n",
      " 20  rub_per_minute         3216 non-null   int64         \n",
      " 21  gb_per_month_included  3216 non-null   int64         \n",
      "dtypes: datetime64[ns](2), float64(6), int64(10), object(4)\n",
      "memory usage: 577.9+ KB\n"
     ]
    }
   ],
   "source": [
    "# Проверим полученную таблицу\n",
    "data.info()"
   ]
  },
  {
   "cell_type": "markdown",
   "metadata": {},
   "source": [
    "Видно, что есть пропущенные значения в столбце month, gb_used_ mb_used, count_msg, duration, duration_count. Их можно заполнить 0, т.к. пропуск = что действие не совершалось."
   ]
  },
  {
   "cell_type": "code",
   "execution_count": 42,
   "metadata": {
    "scrolled": false
   },
   "outputs": [
    {
     "data": {
      "text/html": [
       "<div>\n",
       "<style scoped>\n",
       "    .dataframe tbody tr th:only-of-type {\n",
       "        vertical-align: middle;\n",
       "    }\n",
       "\n",
       "    .dataframe tbody tr th {\n",
       "        vertical-align: top;\n",
       "    }\n",
       "\n",
       "    .dataframe thead th {\n",
       "        text-align: right;\n",
       "    }\n",
       "</style>\n",
       "<table border=\"1\" class=\"dataframe\">\n",
       "  <thead>\n",
       "    <tr style=\"text-align: right;\">\n",
       "      <th></th>\n",
       "      <th>user_id</th>\n",
       "      <th>month</th>\n",
       "      <th>mb_used</th>\n",
       "      <th>gb_used</th>\n",
       "      <th>count_msg</th>\n",
       "      <th>duration</th>\n",
       "      <th>duration_count</th>\n",
       "      <th>age</th>\n",
       "      <th>churn_date</th>\n",
       "      <th>city</th>\n",
       "      <th>...</th>\n",
       "      <th>reg_date</th>\n",
       "      <th>tariff</th>\n",
       "      <th>messages_included</th>\n",
       "      <th>mb_per_month_included</th>\n",
       "      <th>minutes_included</th>\n",
       "      <th>rub_monthly_fee</th>\n",
       "      <th>rub_per_gb</th>\n",
       "      <th>rub_per_message</th>\n",
       "      <th>rub_per_minute</th>\n",
       "      <th>gb_per_month_included</th>\n",
       "    </tr>\n",
       "  </thead>\n",
       "  <tbody>\n",
       "    <tr>\n",
       "      <th>985</th>\n",
       "      <td>1128</td>\n",
       "      <td>NaN</td>\n",
       "      <td>NaN</td>\n",
       "      <td>NaN</td>\n",
       "      <td>NaN</td>\n",
       "      <td>NaN</td>\n",
       "      <td>NaN</td>\n",
       "      <td>51</td>\n",
       "      <td>2018-12-23</td>\n",
       "      <td>Волжский</td>\n",
       "      <td>...</td>\n",
       "      <td>2018-12-15</td>\n",
       "      <td>ultra</td>\n",
       "      <td>1000</td>\n",
       "      <td>30720</td>\n",
       "      <td>3000</td>\n",
       "      <td>1950</td>\n",
       "      <td>150</td>\n",
       "      <td>1</td>\n",
       "      <td>1</td>\n",
       "      <td>30</td>\n",
       "    </tr>\n",
       "    <tr>\n",
       "      <th>3215</th>\n",
       "      <td>1371</td>\n",
       "      <td>NaN</td>\n",
       "      <td>NaN</td>\n",
       "      <td>NaN</td>\n",
       "      <td>NaN</td>\n",
       "      <td>NaN</td>\n",
       "      <td>NaN</td>\n",
       "      <td>50</td>\n",
       "      <td>2018-12-30</td>\n",
       "      <td>Омск</td>\n",
       "      <td>...</td>\n",
       "      <td>2018-12-25</td>\n",
       "      <td>smart</td>\n",
       "      <td>50</td>\n",
       "      <td>15360</td>\n",
       "      <td>500</td>\n",
       "      <td>550</td>\n",
       "      <td>200</td>\n",
       "      <td>3</td>\n",
       "      <td>3</td>\n",
       "      <td>15</td>\n",
       "    </tr>\n",
       "  </tbody>\n",
       "</table>\n",
       "<p>2 rows × 22 columns</p>\n",
       "</div>"
      ],
      "text/plain": [
       "      user_id  month  mb_used  gb_used  count_msg  duration  duration_count  \\\n",
       "985      1128    NaN      NaN      NaN        NaN       NaN             NaN   \n",
       "3215     1371    NaN      NaN      NaN        NaN       NaN             NaN   \n",
       "\n",
       "      age churn_date      city  ...   reg_date tariff messages_included  \\\n",
       "985    51 2018-12-23  Волжский  ... 2018-12-15  ultra              1000   \n",
       "3215   50 2018-12-30      Омск  ... 2018-12-25  smart                50   \n",
       "\n",
       "     mb_per_month_included  minutes_included  rub_monthly_fee  rub_per_gb  \\\n",
       "985                  30720              3000             1950         150   \n",
       "3215                 15360               500              550         200   \n",
       "\n",
       "      rub_per_message  rub_per_minute  gb_per_month_included  \n",
       "985                 1               1                     30  \n",
       "3215                3               3                     15  \n",
       "\n",
       "[2 rows x 22 columns]"
      ]
     },
     "execution_count": 42,
     "metadata": {},
     "output_type": "execute_result"
    }
   ],
   "source": [
    "#Рассмотрим пропуски в столбце месяц\n",
    "data[data['month'].isna()]"
   ]
  },
  {
   "cell_type": "markdown",
   "metadata": {},
   "source": [
    "Видно, что два абонента не пользовались услугами оператора. Они подключили тарифы в декабре и в том же месяце прекратили пользоваться оператором"
   ]
  },
  {
   "cell_type": "code",
   "execution_count": 43,
   "metadata": {},
   "outputs": [],
   "source": [
    "#Рассмотрим пропуски в столбце месяц\n",
    "data['month'] = data['month'].fillna(12)"
   ]
  },
  {
   "cell_type": "code",
   "execution_count": 44,
   "metadata": {},
   "outputs": [],
   "source": [
    "#Заполним пропуски в таблице 0\n",
    "data = data.fillna(0)"
   ]
  },
  {
   "cell_type": "code",
   "execution_count": 45,
   "metadata": {},
   "outputs": [
    {
     "name": "stdout",
     "output_type": "stream",
     "text": [
      "<class 'pandas.core.frame.DataFrame'>\n",
      "Int64Index: 3216 entries, 0 to 3215\n",
      "Data columns (total 22 columns):\n",
      " #   Column                 Non-Null Count  Dtype         \n",
      "---  ------                 --------------  -----         \n",
      " 0   user_id                3216 non-null   int64         \n",
      " 1   month                  3216 non-null   float64       \n",
      " 2   mb_used                3216 non-null   float64       \n",
      " 3   gb_used                3216 non-null   float64       \n",
      " 4   count_msg              3216 non-null   float64       \n",
      " 5   duration               3216 non-null   float64       \n",
      " 6   duration_count         3216 non-null   float64       \n",
      " 7   age                    3216 non-null   int64         \n",
      " 8   churn_date             3216 non-null   object        \n",
      " 9   city                   3216 non-null   object        \n",
      " 10  first_name             3216 non-null   object        \n",
      " 11  last_name              3216 non-null   object        \n",
      " 12  reg_date               3216 non-null   datetime64[ns]\n",
      " 13  tariff                 3216 non-null   object        \n",
      " 14  messages_included      3216 non-null   int64         \n",
      " 15  mb_per_month_included  3216 non-null   int64         \n",
      " 16  minutes_included       3216 non-null   int64         \n",
      " 17  rub_monthly_fee        3216 non-null   int64         \n",
      " 18  rub_per_gb             3216 non-null   int64         \n",
      " 19  rub_per_message        3216 non-null   int64         \n",
      " 20  rub_per_minute         3216 non-null   int64         \n",
      " 21  gb_per_month_included  3216 non-null   int64         \n",
      "dtypes: datetime64[ns](1), float64(6), int64(10), object(5)\n",
      "memory usage: 577.9+ KB\n"
     ]
    }
   ],
   "source": [
    "data.info()"
   ]
  },
  {
   "cell_type": "code",
   "execution_count": 46,
   "metadata": {},
   "outputs": [],
   "source": [
    "#Пересчитаем по формуле ((бесплатны лимит - потраченный) * цену единицы) и добавим столбцы с прибылью сверх тарифа по звонкам, сообщениям и интернету\n",
    "data['calls_revenue'] = ((data['duration'] - data['minutes_included']) * data['rub_per_minute'])\n",
    "data['messages_revenue'] = ((data['count_msg'] - data['messages_included']) * data['rub_per_message'])\n",
    "data['gb_revenue'] = ((data['gb_used'] - data['gb_per_month_included']) * data['rub_per_gb'])"
   ]
  },
  {
   "cell_type": "code",
   "execution_count": 47,
   "metadata": {},
   "outputs": [],
   "source": [
    "#Для верного подсчёта прибыли сверх тарифа, заменим отрицательные значения на 0\n",
    "data['messages_revenue'] = data['messages_revenue'].clip(lower = 0)\n",
    "data['calls_revenue'] = data['calls_revenue'].clip(lower = 0)\n",
    "data['gb_revenue'] = data['gb_revenue'].clip(lower = 0)"
   ]
  },
  {
   "cell_type": "code",
   "execution_count": 48,
   "metadata": {},
   "outputs": [
    {
     "data": {
      "text/plain": [
       "user_id                  0\n",
       "month                    0\n",
       "mb_used                  0\n",
       "gb_used                  0\n",
       "count_msg                0\n",
       "duration                 0\n",
       "duration_count           0\n",
       "age                      0\n",
       "churn_date               0\n",
       "city                     0\n",
       "first_name               0\n",
       "last_name                0\n",
       "reg_date                 0\n",
       "tariff                   0\n",
       "messages_included        0\n",
       "mb_per_month_included    0\n",
       "minutes_included         0\n",
       "rub_monthly_fee          0\n",
       "rub_per_gb               0\n",
       "rub_per_message          0\n",
       "rub_per_minute           0\n",
       "gb_per_month_included    0\n",
       "calls_revenue            0\n",
       "messages_revenue         0\n",
       "gb_revenue               0\n",
       "dtype: int64"
      ]
     },
     "execution_count": 48,
     "metadata": {},
     "output_type": "execute_result"
    }
   ],
   "source": [
    "data.isna().sum()"
   ]
  },
  {
   "cell_type": "code",
   "execution_count": 49,
   "metadata": {},
   "outputs": [],
   "source": [
    "#Добавим новый столбец revenue, где суммируем прибыль с учетом стоимости тарифа и сверх тарифа.\n",
    "data['revenue'] = data['rub_monthly_fee'] + data['calls_revenue'] + data['messages_revenue'] + data['gb_revenue']"
   ]
  },
  {
   "cell_type": "code",
   "execution_count": 50,
   "metadata": {},
   "outputs": [
    {
     "data": {
      "text/html": [
       "<div>\n",
       "<style scoped>\n",
       "    .dataframe tbody tr th:only-of-type {\n",
       "        vertical-align: middle;\n",
       "    }\n",
       "\n",
       "    .dataframe tbody tr th {\n",
       "        vertical-align: top;\n",
       "    }\n",
       "\n",
       "    .dataframe thead th {\n",
       "        text-align: right;\n",
       "    }\n",
       "</style>\n",
       "<table border=\"1\" class=\"dataframe\">\n",
       "  <thead>\n",
       "    <tr style=\"text-align: right;\">\n",
       "      <th></th>\n",
       "      <th>user_id</th>\n",
       "      <th>month</th>\n",
       "      <th>mb_used</th>\n",
       "      <th>gb_used</th>\n",
       "      <th>count_msg</th>\n",
       "      <th>duration</th>\n",
       "      <th>duration_count</th>\n",
       "      <th>age</th>\n",
       "      <th>churn_date</th>\n",
       "      <th>city</th>\n",
       "      <th>...</th>\n",
       "      <th>minutes_included</th>\n",
       "      <th>rub_monthly_fee</th>\n",
       "      <th>rub_per_gb</th>\n",
       "      <th>rub_per_message</th>\n",
       "      <th>rub_per_minute</th>\n",
       "      <th>gb_per_month_included</th>\n",
       "      <th>calls_revenue</th>\n",
       "      <th>messages_revenue</th>\n",
       "      <th>gb_revenue</th>\n",
       "      <th>revenue</th>\n",
       "    </tr>\n",
       "  </thead>\n",
       "  <tbody>\n",
       "    <tr>\n",
       "      <th>0</th>\n",
       "      <td>1000</td>\n",
       "      <td>5.0</td>\n",
       "      <td>2253.49</td>\n",
       "      <td>3.0</td>\n",
       "      <td>22.0</td>\n",
       "      <td>159.0</td>\n",
       "      <td>22.0</td>\n",
       "      <td>52</td>\n",
       "      <td>0</td>\n",
       "      <td>Краснодар</td>\n",
       "      <td>...</td>\n",
       "      <td>3000</td>\n",
       "      <td>1950</td>\n",
       "      <td>150</td>\n",
       "      <td>1</td>\n",
       "      <td>1</td>\n",
       "      <td>30</td>\n",
       "      <td>0.0</td>\n",
       "      <td>0.0</td>\n",
       "      <td>0.0</td>\n",
       "      <td>1950.0</td>\n",
       "    </tr>\n",
       "    <tr>\n",
       "      <th>1</th>\n",
       "      <td>1000</td>\n",
       "      <td>6.0</td>\n",
       "      <td>23233.77</td>\n",
       "      <td>23.0</td>\n",
       "      <td>60.0</td>\n",
       "      <td>172.0</td>\n",
       "      <td>43.0</td>\n",
       "      <td>52</td>\n",
       "      <td>0</td>\n",
       "      <td>Краснодар</td>\n",
       "      <td>...</td>\n",
       "      <td>3000</td>\n",
       "      <td>1950</td>\n",
       "      <td>150</td>\n",
       "      <td>1</td>\n",
       "      <td>1</td>\n",
       "      <td>30</td>\n",
       "      <td>0.0</td>\n",
       "      <td>0.0</td>\n",
       "      <td>0.0</td>\n",
       "      <td>1950.0</td>\n",
       "    </tr>\n",
       "    <tr>\n",
       "      <th>2</th>\n",
       "      <td>1000</td>\n",
       "      <td>7.0</td>\n",
       "      <td>14003.64</td>\n",
       "      <td>14.0</td>\n",
       "      <td>75.0</td>\n",
       "      <td>340.0</td>\n",
       "      <td>47.0</td>\n",
       "      <td>52</td>\n",
       "      <td>0</td>\n",
       "      <td>Краснодар</td>\n",
       "      <td>...</td>\n",
       "      <td>3000</td>\n",
       "      <td>1950</td>\n",
       "      <td>150</td>\n",
       "      <td>1</td>\n",
       "      <td>1</td>\n",
       "      <td>30</td>\n",
       "      <td>0.0</td>\n",
       "      <td>0.0</td>\n",
       "      <td>0.0</td>\n",
       "      <td>1950.0</td>\n",
       "    </tr>\n",
       "    <tr>\n",
       "      <th>3</th>\n",
       "      <td>1000</td>\n",
       "      <td>8.0</td>\n",
       "      <td>14055.93</td>\n",
       "      <td>14.0</td>\n",
       "      <td>81.0</td>\n",
       "      <td>408.0</td>\n",
       "      <td>52.0</td>\n",
       "      <td>52</td>\n",
       "      <td>0</td>\n",
       "      <td>Краснодар</td>\n",
       "      <td>...</td>\n",
       "      <td>3000</td>\n",
       "      <td>1950</td>\n",
       "      <td>150</td>\n",
       "      <td>1</td>\n",
       "      <td>1</td>\n",
       "      <td>30</td>\n",
       "      <td>0.0</td>\n",
       "      <td>0.0</td>\n",
       "      <td>0.0</td>\n",
       "      <td>1950.0</td>\n",
       "    </tr>\n",
       "    <tr>\n",
       "      <th>4</th>\n",
       "      <td>1000</td>\n",
       "      <td>9.0</td>\n",
       "      <td>14568.91</td>\n",
       "      <td>15.0</td>\n",
       "      <td>57.0</td>\n",
       "      <td>466.0</td>\n",
       "      <td>58.0</td>\n",
       "      <td>52</td>\n",
       "      <td>0</td>\n",
       "      <td>Краснодар</td>\n",
       "      <td>...</td>\n",
       "      <td>3000</td>\n",
       "      <td>1950</td>\n",
       "      <td>150</td>\n",
       "      <td>1</td>\n",
       "      <td>1</td>\n",
       "      <td>30</td>\n",
       "      <td>0.0</td>\n",
       "      <td>0.0</td>\n",
       "      <td>0.0</td>\n",
       "      <td>1950.0</td>\n",
       "    </tr>\n",
       "    <tr>\n",
       "      <th>...</th>\n",
       "      <td>...</td>\n",
       "      <td>...</td>\n",
       "      <td>...</td>\n",
       "      <td>...</td>\n",
       "      <td>...</td>\n",
       "      <td>...</td>\n",
       "      <td>...</td>\n",
       "      <td>...</td>\n",
       "      <td>...</td>\n",
       "      <td>...</td>\n",
       "      <td>...</td>\n",
       "      <td>...</td>\n",
       "      <td>...</td>\n",
       "      <td>...</td>\n",
       "      <td>...</td>\n",
       "      <td>...</td>\n",
       "      <td>...</td>\n",
       "      <td>...</td>\n",
       "      <td>...</td>\n",
       "      <td>...</td>\n",
       "      <td>...</td>\n",
       "    </tr>\n",
       "    <tr>\n",
       "      <th>3211</th>\n",
       "      <td>1499</td>\n",
       "      <td>9.0</td>\n",
       "      <td>1845.75</td>\n",
       "      <td>2.0</td>\n",
       "      <td>11.0</td>\n",
       "      <td>70.0</td>\n",
       "      <td>9.0</td>\n",
       "      <td>35</td>\n",
       "      <td>0</td>\n",
       "      <td>Пермь</td>\n",
       "      <td>...</td>\n",
       "      <td>500</td>\n",
       "      <td>550</td>\n",
       "      <td>200</td>\n",
       "      <td>3</td>\n",
       "      <td>3</td>\n",
       "      <td>15</td>\n",
       "      <td>0.0</td>\n",
       "      <td>0.0</td>\n",
       "      <td>0.0</td>\n",
       "      <td>550.0</td>\n",
       "    </tr>\n",
       "    <tr>\n",
       "      <th>3212</th>\n",
       "      <td>1499</td>\n",
       "      <td>10.0</td>\n",
       "      <td>17788.51</td>\n",
       "      <td>18.0</td>\n",
       "      <td>48.0</td>\n",
       "      <td>449.0</td>\n",
       "      <td>68.0</td>\n",
       "      <td>35</td>\n",
       "      <td>0</td>\n",
       "      <td>Пермь</td>\n",
       "      <td>...</td>\n",
       "      <td>500</td>\n",
       "      <td>550</td>\n",
       "      <td>200</td>\n",
       "      <td>3</td>\n",
       "      <td>3</td>\n",
       "      <td>15</td>\n",
       "      <td>0.0</td>\n",
       "      <td>0.0</td>\n",
       "      <td>600.0</td>\n",
       "      <td>1150.0</td>\n",
       "    </tr>\n",
       "    <tr>\n",
       "      <th>3213</th>\n",
       "      <td>1499</td>\n",
       "      <td>11.0</td>\n",
       "      <td>17963.31</td>\n",
       "      <td>18.0</td>\n",
       "      <td>59.0</td>\n",
       "      <td>612.0</td>\n",
       "      <td>74.0</td>\n",
       "      <td>35</td>\n",
       "      <td>0</td>\n",
       "      <td>Пермь</td>\n",
       "      <td>...</td>\n",
       "      <td>500</td>\n",
       "      <td>550</td>\n",
       "      <td>200</td>\n",
       "      <td>3</td>\n",
       "      <td>3</td>\n",
       "      <td>15</td>\n",
       "      <td>336.0</td>\n",
       "      <td>27.0</td>\n",
       "      <td>600.0</td>\n",
       "      <td>1513.0</td>\n",
       "    </tr>\n",
       "    <tr>\n",
       "      <th>3214</th>\n",
       "      <td>1499</td>\n",
       "      <td>12.0</td>\n",
       "      <td>13055.58</td>\n",
       "      <td>13.0</td>\n",
       "      <td>66.0</td>\n",
       "      <td>492.0</td>\n",
       "      <td>69.0</td>\n",
       "      <td>35</td>\n",
       "      <td>0</td>\n",
       "      <td>Пермь</td>\n",
       "      <td>...</td>\n",
       "      <td>500</td>\n",
       "      <td>550</td>\n",
       "      <td>200</td>\n",
       "      <td>3</td>\n",
       "      <td>3</td>\n",
       "      <td>15</td>\n",
       "      <td>0.0</td>\n",
       "      <td>48.0</td>\n",
       "      <td>0.0</td>\n",
       "      <td>598.0</td>\n",
       "    </tr>\n",
       "    <tr>\n",
       "      <th>3215</th>\n",
       "      <td>1371</td>\n",
       "      <td>12.0</td>\n",
       "      <td>0.00</td>\n",
       "      <td>0.0</td>\n",
       "      <td>0.0</td>\n",
       "      <td>0.0</td>\n",
       "      <td>0.0</td>\n",
       "      <td>50</td>\n",
       "      <td>2018-12-30 00:00:00</td>\n",
       "      <td>Омск</td>\n",
       "      <td>...</td>\n",
       "      <td>500</td>\n",
       "      <td>550</td>\n",
       "      <td>200</td>\n",
       "      <td>3</td>\n",
       "      <td>3</td>\n",
       "      <td>15</td>\n",
       "      <td>0.0</td>\n",
       "      <td>0.0</td>\n",
       "      <td>0.0</td>\n",
       "      <td>550.0</td>\n",
       "    </tr>\n",
       "  </tbody>\n",
       "</table>\n",
       "<p>3216 rows × 26 columns</p>\n",
       "</div>"
      ],
      "text/plain": [
       "      user_id  month   mb_used  gb_used  count_msg  duration  duration_count  \\\n",
       "0        1000    5.0   2253.49      3.0       22.0     159.0            22.0   \n",
       "1        1000    6.0  23233.77     23.0       60.0     172.0            43.0   \n",
       "2        1000    7.0  14003.64     14.0       75.0     340.0            47.0   \n",
       "3        1000    8.0  14055.93     14.0       81.0     408.0            52.0   \n",
       "4        1000    9.0  14568.91     15.0       57.0     466.0            58.0   \n",
       "...       ...    ...       ...      ...        ...       ...             ...   \n",
       "3211     1499    9.0   1845.75      2.0       11.0      70.0             9.0   \n",
       "3212     1499   10.0  17788.51     18.0       48.0     449.0            68.0   \n",
       "3213     1499   11.0  17963.31     18.0       59.0     612.0            74.0   \n",
       "3214     1499   12.0  13055.58     13.0       66.0     492.0            69.0   \n",
       "3215     1371   12.0      0.00      0.0        0.0       0.0             0.0   \n",
       "\n",
       "      age           churn_date       city  ... minutes_included  \\\n",
       "0      52                    0  Краснодар  ...             3000   \n",
       "1      52                    0  Краснодар  ...             3000   \n",
       "2      52                    0  Краснодар  ...             3000   \n",
       "3      52                    0  Краснодар  ...             3000   \n",
       "4      52                    0  Краснодар  ...             3000   \n",
       "...   ...                  ...        ...  ...              ...   \n",
       "3211   35                    0      Пермь  ...              500   \n",
       "3212   35                    0      Пермь  ...              500   \n",
       "3213   35                    0      Пермь  ...              500   \n",
       "3214   35                    0      Пермь  ...              500   \n",
       "3215   50  2018-12-30 00:00:00       Омск  ...              500   \n",
       "\n",
       "     rub_monthly_fee rub_per_gb rub_per_message  rub_per_minute  \\\n",
       "0               1950        150               1               1   \n",
       "1               1950        150               1               1   \n",
       "2               1950        150               1               1   \n",
       "3               1950        150               1               1   \n",
       "4               1950        150               1               1   \n",
       "...              ...        ...             ...             ...   \n",
       "3211             550        200               3               3   \n",
       "3212             550        200               3               3   \n",
       "3213             550        200               3               3   \n",
       "3214             550        200               3               3   \n",
       "3215             550        200               3               3   \n",
       "\n",
       "      gb_per_month_included  calls_revenue  messages_revenue  gb_revenue  \\\n",
       "0                        30            0.0               0.0         0.0   \n",
       "1                        30            0.0               0.0         0.0   \n",
       "2                        30            0.0               0.0         0.0   \n",
       "3                        30            0.0               0.0         0.0   \n",
       "4                        30            0.0               0.0         0.0   \n",
       "...                     ...            ...               ...         ...   \n",
       "3211                     15            0.0               0.0         0.0   \n",
       "3212                     15            0.0               0.0       600.0   \n",
       "3213                     15          336.0              27.0       600.0   \n",
       "3214                     15            0.0              48.0         0.0   \n",
       "3215                     15            0.0               0.0         0.0   \n",
       "\n",
       "      revenue  \n",
       "0      1950.0  \n",
       "1      1950.0  \n",
       "2      1950.0  \n",
       "3      1950.0  \n",
       "4      1950.0  \n",
       "...       ...  \n",
       "3211    550.0  \n",
       "3212   1150.0  \n",
       "3213   1513.0  \n",
       "3214    598.0  \n",
       "3215    550.0  \n",
       "\n",
       "[3216 rows x 26 columns]"
      ]
     },
     "execution_count": 50,
     "metadata": {},
     "output_type": "execute_result"
    }
   ],
   "source": [
    "data"
   ]
  },
  {
   "cell_type": "code",
   "execution_count": 51,
   "metadata": {},
   "outputs": [
    {
     "data": {
      "text/plain": [
       "4916951.0"
      ]
     },
     "execution_count": 51,
     "metadata": {},
     "output_type": "execute_result"
    }
   ],
   "source": [
    "# check\n",
    "data['revenue'].sum()"
   ]
  },
  {
   "cell_type": "code",
   "execution_count": 52,
   "metadata": {},
   "outputs": [
    {
     "data": {
      "text/html": [
       "<div>\n",
       "<style scoped>\n",
       "    .dataframe tbody tr th:only-of-type {\n",
       "        vertical-align: middle;\n",
       "    }\n",
       "\n",
       "    .dataframe tbody tr th {\n",
       "        vertical-align: top;\n",
       "    }\n",
       "\n",
       "    .dataframe thead th {\n",
       "        text-align: right;\n",
       "    }\n",
       "</style>\n",
       "<table border=\"1\" class=\"dataframe\">\n",
       "  <thead>\n",
       "    <tr style=\"text-align: right;\">\n",
       "      <th></th>\n",
       "      <th>user_id</th>\n",
       "      <th>month</th>\n",
       "      <th>gb_used</th>\n",
       "      <th>count_msg</th>\n",
       "      <th>duration</th>\n",
       "      <th>reg_date</th>\n",
       "      <th>tariff</th>\n",
       "      <th>calls_revenue</th>\n",
       "      <th>messages_revenue</th>\n",
       "      <th>gb_revenue</th>\n",
       "      <th>revenue</th>\n",
       "    </tr>\n",
       "  </thead>\n",
       "  <tbody>\n",
       "    <tr>\n",
       "      <th>3202</th>\n",
       "      <td>1496</td>\n",
       "      <td>11.0</td>\n",
       "      <td>25.0</td>\n",
       "      <td>46.0</td>\n",
       "      <td>662.0</td>\n",
       "      <td>2018-01-27</td>\n",
       "      <td>smart</td>\n",
       "      <td>486.0</td>\n",
       "      <td>0.0</td>\n",
       "      <td>2000.0</td>\n",
       "      <td>3036.0</td>\n",
       "    </tr>\n",
       "    <tr>\n",
       "      <th>3203</th>\n",
       "      <td>1496</td>\n",
       "      <td>12.0</td>\n",
       "      <td>21.0</td>\n",
       "      <td>51.0</td>\n",
       "      <td>518.0</td>\n",
       "      <td>2018-01-27</td>\n",
       "      <td>smart</td>\n",
       "      <td>54.0</td>\n",
       "      <td>3.0</td>\n",
       "      <td>1200.0</td>\n",
       "      <td>1807.0</td>\n",
       "    </tr>\n",
       "    <tr>\n",
       "      <th>3206</th>\n",
       "      <td>1497</td>\n",
       "      <td>12.0</td>\n",
       "      <td>20.0</td>\n",
       "      <td>17.0</td>\n",
       "      <td>545.0</td>\n",
       "      <td>2018-10-09</td>\n",
       "      <td>smart</td>\n",
       "      <td>135.0</td>\n",
       "      <td>0.0</td>\n",
       "      <td>1000.0</td>\n",
       "      <td>1685.0</td>\n",
       "    </tr>\n",
       "    <tr>\n",
       "      <th>3213</th>\n",
       "      <td>1499</td>\n",
       "      <td>11.0</td>\n",
       "      <td>18.0</td>\n",
       "      <td>59.0</td>\n",
       "      <td>612.0</td>\n",
       "      <td>2018-09-27</td>\n",
       "      <td>smart</td>\n",
       "      <td>336.0</td>\n",
       "      <td>27.0</td>\n",
       "      <td>600.0</td>\n",
       "      <td>1513.0</td>\n",
       "    </tr>\n",
       "  </tbody>\n",
       "</table>\n",
       "</div>"
      ],
      "text/plain": [
       "      user_id  month  gb_used  count_msg  duration   reg_date tariff  \\\n",
       "3202     1496   11.0     25.0       46.0     662.0 2018-01-27  smart   \n",
       "3203     1496   12.0     21.0       51.0     518.0 2018-01-27  smart   \n",
       "3206     1497   12.0     20.0       17.0     545.0 2018-10-09  smart   \n",
       "3213     1499   11.0     18.0       59.0     612.0 2018-09-27  smart   \n",
       "\n",
       "      calls_revenue  messages_revenue  gb_revenue  revenue  \n",
       "3202          486.0               0.0      2000.0   3036.0  \n",
       "3203           54.0               3.0      1200.0   1807.0  \n",
       "3206          135.0               0.0      1000.0   1685.0  \n",
       "3213          336.0              27.0       600.0   1513.0  "
      ]
     },
     "execution_count": 52,
     "metadata": {},
     "output_type": "execute_result"
    }
   ],
   "source": [
    "# check\n",
    "data[data['duration'] > 500][['user_id', 'month', 'gb_used', 'count_msg', 'duration',\n",
    "        'reg_date', 'tariff', 'calls_revenue', 'messages_revenue',\n",
    "       'gb_revenue', 'revenue']].tail(4)"
   ]
  },
  {
   "cell_type": "code",
   "execution_count": 53,
   "metadata": {
    "scrolled": true
   },
   "outputs": [
    {
     "name": "stdout",
     "output_type": "stream",
     "text": [
      "<class 'pandas.core.frame.DataFrame'>\n",
      "Int64Index: 3216 entries, 0 to 3215\n",
      "Data columns (total 26 columns):\n",
      " #   Column                 Non-Null Count  Dtype         \n",
      "---  ------                 --------------  -----         \n",
      " 0   user_id                3216 non-null   int64         \n",
      " 1   month                  3216 non-null   float64       \n",
      " 2   mb_used                3216 non-null   float64       \n",
      " 3   gb_used                3216 non-null   float64       \n",
      " 4   count_msg              3216 non-null   float64       \n",
      " 5   duration               3216 non-null   float64       \n",
      " 6   duration_count         3216 non-null   float64       \n",
      " 7   age                    3216 non-null   int64         \n",
      " 8   churn_date             3216 non-null   object        \n",
      " 9   city                   3216 non-null   object        \n",
      " 10  first_name             3216 non-null   object        \n",
      " 11  last_name              3216 non-null   object        \n",
      " 12  reg_date               3216 non-null   datetime64[ns]\n",
      " 13  tariff                 3216 non-null   object        \n",
      " 14  messages_included      3216 non-null   int64         \n",
      " 15  mb_per_month_included  3216 non-null   int64         \n",
      " 16  minutes_included       3216 non-null   int64         \n",
      " 17  rub_monthly_fee        3216 non-null   int64         \n",
      " 18  rub_per_gb             3216 non-null   int64         \n",
      " 19  rub_per_message        3216 non-null   int64         \n",
      " 20  rub_per_minute         3216 non-null   int64         \n",
      " 21  gb_per_month_included  3216 non-null   int64         \n",
      " 22  calls_revenue          3216 non-null   float64       \n",
      " 23  messages_revenue       3216 non-null   float64       \n",
      " 24  gb_revenue             3216 non-null   float64       \n",
      " 25  revenue                3216 non-null   float64       \n",
      "dtypes: datetime64[ns](1), float64(10), int64(10), object(5)\n",
      "memory usage: 678.4+ KB\n"
     ]
    }
   ],
   "source": [
    "# check\n",
    "data.info()"
   ]
  },
  {
   "cell_type": "markdown",
   "metadata": {},
   "source": [
    "## Анализ данных"
   ]
  },
  {
   "cell_type": "code",
   "execution_count": 54,
   "metadata": {},
   "outputs": [],
   "source": [
    "#Сохраним в переменной total_revenue общую прибыль с каждого тарифа отдельно по звонкам/сообщениям/интернету и общую стоимость\n",
    "total_revenue = data.pivot_table(index = ['tariff'], values = ['calls_revenue', 'messages_revenue', 'gb_revenue', 'revenue'], aggfunc=['sum'])"
   ]
  },
  {
   "cell_type": "code",
   "execution_count": 55,
   "metadata": {},
   "outputs": [
    {
     "data": {
      "text/html": [
       "<div>\n",
       "<style scoped>\n",
       "    .dataframe tbody tr th:only-of-type {\n",
       "        vertical-align: middle;\n",
       "    }\n",
       "\n",
       "    .dataframe tbody tr th {\n",
       "        vertical-align: top;\n",
       "    }\n",
       "\n",
       "    .dataframe thead tr th {\n",
       "        text-align: left;\n",
       "    }\n",
       "\n",
       "    .dataframe thead tr:last-of-type th {\n",
       "        text-align: right;\n",
       "    }\n",
       "</style>\n",
       "<table border=\"1\" class=\"dataframe\">\n",
       "  <thead>\n",
       "    <tr>\n",
       "      <th></th>\n",
       "      <th colspan=\"4\" halign=\"left\">sum</th>\n",
       "    </tr>\n",
       "    <tr>\n",
       "      <th></th>\n",
       "      <th>calls_revenue</th>\n",
       "      <th>gb_revenue</th>\n",
       "      <th>messages_revenue</th>\n",
       "      <th>revenue</th>\n",
       "    </tr>\n",
       "    <tr>\n",
       "      <th>tariff</th>\n",
       "      <th></th>\n",
       "      <th></th>\n",
       "      <th></th>\n",
       "      <th></th>\n",
       "    </tr>\n",
       "  </thead>\n",
       "  <tbody>\n",
       "    <tr>\n",
       "      <th>smart</th>\n",
       "      <td>278217.0</td>\n",
       "      <td>1332400.0</td>\n",
       "      <td>38784.0</td>\n",
       "      <td>2875901.0</td>\n",
       "    </tr>\n",
       "    <tr>\n",
       "      <th>ultra</th>\n",
       "      <td>0.0</td>\n",
       "      <td>118350.0</td>\n",
       "      <td>0.0</td>\n",
       "      <td>2041050.0</td>\n",
       "    </tr>\n",
       "  </tbody>\n",
       "</table>\n",
       "</div>"
      ],
      "text/plain": [
       "                 sum                                       \n",
       "       calls_revenue gb_revenue messages_revenue    revenue\n",
       "tariff                                                     \n",
       "smart       278217.0  1332400.0          38784.0  2875901.0\n",
       "ultra            0.0   118350.0              0.0  2041050.0"
      ]
     },
     "execution_count": 55,
     "metadata": {},
     "output_type": "execute_result"
    }
   ],
   "source": [
    "total_revenue"
   ]
  },
  {
   "cell_type": "markdown",
   "metadata": {},
   "source": [
    "Как видно, из таблицы, основной доход приносит тариф Smart и он существенно больше тарифа Ultra. Основной доход тарифа смарт - превышение трафика. В тарифе ультра нет переплат за сообщения и звонки. "
   ]
  },
  {
   "cell_type": "code",
   "execution_count": 56,
   "metadata": {},
   "outputs": [],
   "source": [
    "#Сохраним в переменную sum_ultra таблицу пользователей с тарифом Ultra\n",
    "sum_ultra = data[data['tariff'] == 'ultra']"
   ]
  },
  {
   "cell_type": "code",
   "execution_count": 57,
   "metadata": {},
   "outputs": [],
   "source": [
    "#Сохраним в переменную sum_smart таблицу пользователей с тарифом Smart\n",
    "sum_smart = data[data['tariff'] == 'smart']"
   ]
  },
  {
   "cell_type": "code",
   "execution_count": 58,
   "metadata": {},
   "outputs": [
    {
     "data": {
      "text/plain": [
       "Text(0.5, 0, 'Количество минут')"
      ]
     },
     "execution_count": 58,
     "metadata": {},
     "output_type": "execute_result"
    },
    {
     "data": {
      "image/png": "[encoded data removed]",
      "text/plain": [
       "<Figure size 432x288 with 1 Axes>"
      ]
     },
     "metadata": {
      "needs_background": "light"
     },
     "output_type": "display_data"
    }
   ],
   "source": [
    "# Построим гистограмму с количеством минут для тарифа ультра\n",
    "sum_ultra['duration'].hist(bins=20, range = (0, 2000)).set_xlabel('Количество минут')"
   ]
  },
  {
   "cell_type": "markdown",
   "metadata": {},
   "source": [
    "Видим, что небольшая часть пользователей не пользуются сотовой связью, либо же используют не больше 250 минут.\n",
    "Пик количества минут находится около 500-600 минут и держится до 700 минут, далее резкий спад, хвост приближается к 0 после 1250 минут. Распределение Пуассона."
   ]
  },
  {
   "cell_type": "code",
   "execution_count": 59,
   "metadata": {
    "scrolled": true
   },
   "outputs": [
    {
     "data": {
      "text/plain": [
       "Text(0.5, 0, 'Количество сообщений')"
      ]
     },
     "execution_count": 59,
     "metadata": {},
     "output_type": "execute_result"
    },
    {
     "data": {
      "image/png": "[encoded data removed]",
      "text/plain": [
       "<Figure size 432x288 with 1 Axes>"
      ]
     },
     "metadata": {
      "needs_background": "light"
     },
     "output_type": "display_data"
    }
   ],
   "source": [
    "#Построим гистограмму с количеством сообщений для тарифа ультра\n",
    "sum_ultra['count_msg'].hist(bins=15, range = (0, 250)).set_xlabel('Количество сообщений')"
   ]
  },
  {
   "cell_type": "markdown",
   "metadata": {},
   "source": [
    "Видим, что очень много пользователей не отправляют сообщения, либо же отправляют не больше 15.\n",
    "Те, кто пользуется отправкой сообщений отправляет около 20-50 сообщений, хвост приближается к 0 после 150 сообщений. Распределение Пуассона"
   ]
  },
  {
   "cell_type": "code",
   "execution_count": 60,
   "metadata": {},
   "outputs": [
    {
     "data": {
      "text/plain": [
       "Text(0.5, 0, 'Количество гб')"
      ]
     },
     "execution_count": 60,
     "metadata": {},
     "output_type": "execute_result"
    },
    {
     "data": {
      "image/png": "[encoded data removed]",
      "text/plain": [
       "<Figure size 432x288 with 1 Axes>"
      ]
     },
     "metadata": {
      "needs_background": "light"
     },
     "output_type": "display_data"
    }
   ],
   "source": [
    "#Построим гистограмму с кол-ством мегабайт для тарифа\n",
    "sum_ultra['gb_used'].hist(bins=15, range = (0, 60)).set_xlabel('Количество гб')"
   ]
  },
  {
   "cell_type": "markdown",
   "metadata": {},
   "source": [
    "Видим, что небольшая часть пользователей не использует интернет.\n",
    "Пик гигабайт приходит на 18-23 гб, хвост приближается к 0 после 40 гб. Распределение нормальное."
   ]
  },
  {
   "cell_type": "code",
   "execution_count": 61,
   "metadata": {},
   "outputs": [
    {
     "data": {
      "text/plain": [
       "Text(0.5, 0, 'Количество минут')"
      ]
     },
     "execution_count": 61,
     "metadata": {},
     "output_type": "execute_result"
    },
    {
     "data": {
      "image/png": "[encoded data removed]",
      "text/plain": [
       "<Figure size 432x288 with 1 Axes>"
      ]
     },
     "metadata": {
      "needs_background": "light"
     },
     "output_type": "display_data"
    }
   ],
   "source": [
    "#Построим гистограмму с количеством минут для тарифа смарт\n",
    "sum_smart['duration'].hist(bins=35, range = (0, 1200)).set_xlabel('Количество минут')"
   ]
  },
  {
   "cell_type": "markdown",
   "metadata": {},
   "source": [
    "Видим, что пик затрат минут как раз приходится на лимит тарифа: 350 - 550 минут, но довольно много пользователей тратят больше лимита, доходя до 600 - 750 минут, встречаются и около 1000. Распределение нормальное."
   ]
  },
  {
   "cell_type": "code",
   "execution_count": 62,
   "metadata": {},
   "outputs": [
    {
     "data": {
      "text/plain": [
       "Text(0.5, 0, 'Количество сообщений')"
      ]
     },
     "execution_count": 62,
     "metadata": {},
     "output_type": "execute_result"
    },
    {
     "data": {
      "image/png": "[encoded data removed]",
      "text/plain": [
       "<Figure size 432x288 with 1 Axes>"
      ]
     },
     "metadata": {
      "needs_background": "light"
     },
     "output_type": "display_data"
    }
   ],
   "source": [
    "#Построим гистограмму с количеством сообщений для тарифа смарт\n",
    "sum_smart['count_msg'].hist(bins=15, range = (0, 150)).set_xlabel('Количество сообщений')"
   ]
  },
  {
   "cell_type": "markdown",
   "metadata": {},
   "source": [
    "Видим, что много пользователей не отправляют сообщения, либо отправляют не более 10-ти.\n",
    "Несмотря на лимит в 50 сообщений, не мало пользователей превышают его и довольно много встречаются отправки 50-80 сообщений, есть выше 100 сообщений. Распределение Пуассона"
   ]
  },
  {
   "cell_type": "code",
   "execution_count": 63,
   "metadata": {},
   "outputs": [
    {
     "data": {
      "text/plain": [
       "Text(0.5, 0, 'Количество ГБ')"
      ]
     },
     "execution_count": 63,
     "metadata": {},
     "output_type": "execute_result"
    },
    {
     "data": {
      "image/png": "[encoded data removed]",
      "text/plain": [
       "<Figure size 432x288 with 1 Axes>"
      ]
     },
     "metadata": {
      "needs_background": "light"
     },
     "output_type": "display_data"
    }
   ],
   "source": [
    "sum_smart['gb_used'].hist(bins=15, range = (0, 40)).set_xlabel('Количество ГБ')"
   ]
  },
  {
   "cell_type": "markdown",
   "metadata": {},
   "source": [
    "Видим, что небольшая часть пользователей не пользуются интернетом, либо же используют не больше 17 гб.\n",
    "Пик припадает на уровне 23 гб, но много пользователей превышают данный лимит и хвост доходит к 0 только ближе к 27 гб. Нормальное распределение"
   ]
  },
  {
   "cell_type": "code",
   "execution_count": 64,
   "metadata": {},
   "outputs": [
    {
     "data": {
      "text/html": [
       "<div>\n",
       "<style scoped>\n",
       "    .dataframe tbody tr th:only-of-type {\n",
       "        vertical-align: middle;\n",
       "    }\n",
       "\n",
       "    .dataframe tbody tr th {\n",
       "        vertical-align: top;\n",
       "    }\n",
       "\n",
       "    .dataframe thead tr th {\n",
       "        text-align: left;\n",
       "    }\n",
       "\n",
       "    .dataframe thead tr:last-of-type th {\n",
       "        text-align: right;\n",
       "    }\n",
       "</style>\n",
       "<table border=\"1\" class=\"dataframe\">\n",
       "  <thead>\n",
       "    <tr>\n",
       "      <th></th>\n",
       "      <th colspan=\"3\" halign=\"left\">mean</th>\n",
       "      <th colspan=\"3\" halign=\"left\">var</th>\n",
       "      <th colspan=\"3\" halign=\"left\">std</th>\n",
       "    </tr>\n",
       "    <tr>\n",
       "      <th></th>\n",
       "      <th>count_msg</th>\n",
       "      <th>duration</th>\n",
       "      <th>gb_used</th>\n",
       "      <th>count_msg</th>\n",
       "      <th>duration</th>\n",
       "      <th>gb_used</th>\n",
       "      <th>count_msg</th>\n",
       "      <th>duration</th>\n",
       "      <th>gb_used</th>\n",
       "    </tr>\n",
       "    <tr>\n",
       "      <th>tariff</th>\n",
       "      <th></th>\n",
       "      <th></th>\n",
       "      <th></th>\n",
       "      <th></th>\n",
       "      <th></th>\n",
       "      <th></th>\n",
       "      <th></th>\n",
       "      <th></th>\n",
       "      <th></th>\n",
       "    </tr>\n",
       "  </thead>\n",
       "  <tbody>\n",
       "    <tr>\n",
       "      <th>smart</th>\n",
       "      <td>33.37</td>\n",
       "      <td>417.75</td>\n",
       "      <td>16.32</td>\n",
       "      <td>796.96</td>\n",
       "      <td>36281.39</td>\n",
       "      <td>33.13</td>\n",
       "      <td>28.23</td>\n",
       "      <td>190.48</td>\n",
       "      <td>5.76</td>\n",
       "    </tr>\n",
       "    <tr>\n",
       "      <th>ultra</th>\n",
       "      <td>49.31</td>\n",
       "      <td>526.09</td>\n",
       "      <td>19.47</td>\n",
       "      <td>2285.42</td>\n",
       "      <td>101052.49</td>\n",
       "      <td>97.38</td>\n",
       "      <td>47.81</td>\n",
       "      <td>317.89</td>\n",
       "      <td>9.87</td>\n",
       "    </tr>\n",
       "  </tbody>\n",
       "</table>\n",
       "</div>"
      ],
      "text/plain": [
       "            mean                        var                          std  \\\n",
       "       count_msg duration gb_used count_msg   duration gb_used count_msg   \n",
       "tariff                                                                     \n",
       "smart      33.37   417.75   16.32    796.96   36281.39   33.13     28.23   \n",
       "ultra      49.31   526.09   19.47   2285.42  101052.49   97.38     47.81   \n",
       "\n",
       "                         \n",
       "       duration gb_used  \n",
       "tariff                   \n",
       "smart    190.48    5.76  \n",
       "ultra    317.89    9.87  "
      ]
     },
     "execution_count": 64,
     "metadata": {},
     "output_type": "execute_result"
    }
   ],
   "source": [
    "#Посчитаем среднее количество, дисперсию и стандартное отклонение по каждому тарифу.\n",
    "variance = data.pivot_table(index = ['tariff'], values = ['duration', 'count_msg', 'gb_used'], aggfunc=['mean', 'var', 'std']).round(2)\n",
    "variance"
   ]
  },
  {
   "cell_type": "markdown",
   "metadata": {},
   "source": [
    "### Общие выводы по распределениям\n",
    "Пользователи тарифа Smart часто не укладываются в лимиты, чаще всего по количеству минут и очень много по лимиту трафика.\n",
    "Пользователи тарифа Ultra практически не превышают лимитов, кроме трафика.\n",
    "Пользователи двух тарифов используют примерно одинаковые объемы интернета.\n",
    "В двух тарифах довольно много людей либо не пользуются отправкой сообщений, либо же используют в небольших количествах до 10-15 сообщений.\n",
    "Пользователи тарифа Ultra чаще всего не используют весь лимит по звонкам и сообщениям."
   ]
  },
  {
   "cell_type": "markdown",
   "metadata": {},
   "source": [
    "## Проверка гипотез"
   ]
  },
  {
   "cell_type": "markdown",
   "metadata": {},
   "source": [
    "Начнём с формулировки нулевой гипотезы. H₀ всегда формулируется так, чтобы использовать знак равенства. H₀ - среднее рассматриваемой генеральной совокупности равно второй. Исходя из H₀ формулируется альтернативная гипотеза H₁. Для этой H₀ - среднее генеральной совокупности не равно второй. H0 - средняя выручка пользователей тарифов «Ультра» и «Смарт» равны. H1 - средняя выручка пользователей тарифов «Ультра» и «Смарт» не равны.\n",
    "\n",
    "\n",
    "Критический уровень статистической значимости присвоим значением 0.05."
   ]
  },
  {
   "cell_type": "code",
   "execution_count": 65,
   "metadata": {
    "scrolled": false
   },
   "outputs": [
    {
     "name": "stdout",
     "output_type": "stream",
     "text": [
      "cреднее Smart:  1289.6417040358745\n",
      "cреднее Ultra:  2070.030425963489\n",
      "p-значение: 8.081909555489933e-161\n",
      "Отвергаем нулевую гипотезу\n"
     ]
    }
   ],
   "source": [
    "smart = sum_smart['revenue']\n",
    "ultra = sum_ultra['revenue']\n",
    "\n",
    "print('cреднее Smart: ', smart.mean())\n",
    "print('cреднее Ultra: ', ultra.mean())\n",
    "alpha = .05 \n",
    "\n",
    "results = st.ttest_ind(\n",
    "    smart, \n",
    "    ultra)\n",
    "\n",
    "print('p-значение:', results.pvalue)\n",
    "\n",
    "if (results.pvalue < alpha):\n",
    "    print(\"Отвергаем нулевую гипотезу\")\n",
    "else:\n",
    "    print(\"Не получилось отвергнуть нулевую гипотезу\")"
   ]
  },
  {
   "cell_type": "markdown",
   "metadata": {},
   "source": [
    "Можем сказать, что выручка по двум тарифам сильно различается. Т.к. гипотеза-то наша двухсторонняя: мы не знаем, в какую сторону количество выручки отличается. Однако посчитав среднее количество выручки для обоих тарифов, с уверенностью можем сказать: cредняя выручка из тарифа Ultra выше."
   ]
  },
  {
   "cell_type": "markdown",
   "metadata": {},
   "source": [
    "### Проверка гипотезы, что средняя выручка пользователей из Москвы отличается от выручки пользователей из других регионов"
   ]
  },
  {
   "cell_type": "markdown",
   "metadata": {},
   "source": [
    "Начнём с формулировки нулевой гипотезы. H₀ всегда формулируется так, чтобы использовать знак равенства. H₀ - среднее рассматриваемой генеральной совокупности равно второй. Исходя из H₀ формулируется альтернативная гипотеза H₁. Для этой H₀ - среднее генеральной совокупности не равно второй. Средние генеральных совокупностей интернет трафика почти равны. H0 - средняя выручка пользователей из Москвы равна средней выручке пользователей из других регионов. H1 - средняя выручка пользователей из Москвы не равна средней выручке пользователей из других регионов. \n",
    "\n",
    "Критический уровень статистической значимости присвоим значением 0.05."
   ]
  },
  {
   "cell_type": "code",
   "execution_count": 66,
   "metadata": {},
   "outputs": [],
   "source": [
    "#Сохраним moscow_tariff список пользователей из Москвы.\n",
    "moscow_tariff = data[(data['city'] == 'Москва')]"
   ]
  },
  {
   "cell_type": "code",
   "execution_count": 67,
   "metadata": {},
   "outputs": [],
   "source": [
    "#Сохраним other_tariff список пользователей из других регионов.\n",
    "other_tariff = data[(data['city'] != 'Москва')]"
   ]
  },
  {
   "cell_type": "code",
   "execution_count": 68,
   "metadata": {},
   "outputs": [
    {
     "name": "stdout",
     "output_type": "stream",
     "text": [
      "Выручка по Москве:  1546.7135842880523\n",
      "Выручка с других регионов:  1524.7251439539348\n",
      "p-значение: 0.5400751614511182\n",
      "Не получилось отвергнуть нулевую гипотезу\n"
     ]
    }
   ],
   "source": [
    "#Проверим, отличается ли среднняя выручка по пользователям Москвы и других регионов.\n",
    "\n",
    "moscow = moscow_tariff['revenue']\n",
    "other = other_tariff['revenue']\n",
    "\n",
    "print('Выручка по Москве: ', moscow.mean())\n",
    "print('Выручка с других регионов: ', other.mean())\n",
    "alpha = 0.05\n",
    "\n",
    "results = st.ttest_ind(\n",
    "    moscow, \n",
    "    other) \n",
    "\n",
    "print('p-значение:', results.pvalue)\n",
    "\n",
    "if (results.pvalue < alpha):\n",
    "    print(\"Отвергаем нулевую гипотезу\")\n",
    "else:\n",
    "    print(\"Не получилось отвергнуть нулевую гипотезу\")"
   ]
  },
  {
   "cell_type": "markdown",
   "metadata": {},
   "source": [
    "Можем сказать, что выручка по Москве и других регионам почти не различается. Вернее, только исходя из проверки гипотезы мы не можем сказать, что больше, — только что количество выручки почти одинаково и входит в диапазон статистической значимости. Потому что гипотеза-то наша двухсторонняя: мы не знаем, в какую сторону оно отличается. Однако посчитав среднее количество выручки для Москвы и других регионов, с уверенностью можем сказать: выручка не отличается существенно."
   ]
  },
  {
   "cell_type": "code",
   "execution_count": 69,
   "metadata": {},
   "outputs": [
    {
     "name": "stdout",
     "output_type": "stream",
     "text": [
      "p-значение: 0.1912450522572209\n",
      "Не получилось отвергнуть нулевую гипотезу\n"
     ]
    }
   ],
   "source": [
    "# Приведены два датасета: сумма покупок, совершённых за месяц посетителями ...\n",
    "\n",
    "sample_1 = [3071, 3636, 3454, 3151, 2185, 3259, 1727, 2263, 2015,\n",
    "2582, 4815, 633, 3186, 887, 2028, 3589, 2564, 1422, 1785,\n",
    "3180, 1770, 2716, 2546, 1848, 4644, 3134, 475, 2686,\n",
    "1838, 3352]\n",
    "sample_2 = [1211, 1228, 2157, 3699, 600, 1898, 1688, 1420, 5048, 3007,\n",
    "509, 3777, 5583, 3949, 121, 1674, 4300, 1338, 3066,\n",
    "3562, 1010, 2311, 462, 863, 2021, 528, 1849, 255,\n",
    "1740, 2596]\n",
    "alpha = .05 # критический уровень статистической значимости\n",
    "# если p-value окажется меньше него - отвергнем гипотезу\n",
    "results = st.ttest_ind(\n",
    "sample_1,\n",
    "sample_2)\n",
    "print('p-значение:', results.pvalue)\n",
    "if (results.pvalue < alpha):\n",
    "    print(\"Отвергаем нулевую гипотезу\")\n",
    "else:\n",
    "\n",
    "    print(\"Не получилось отвергнуть нулевую гипотезу\")"
   ]
  },
  {
   "cell_type": "code",
   "execution_count": 70,
   "metadata": {},
   "outputs": [],
   "source": [
    "#Сохраним moscow_tariff_ultra список пользователей из Москвы с тарифом Ультра\n",
    "moscow_tariff_ultra = data[(data['city'] == 'Москва') & (data['tariff'] == 'ultra')]"
   ]
  },
  {
   "cell_type": "code",
   "execution_count": 71,
   "metadata": {},
   "outputs": [],
   "source": [
    "#Сохраним other_tariff_ultra список пользователей из других регионов с тарифом Ультра\n",
    "other_tariff_ultra = data[(data['city'] != 'Москва') & (data['tariff'] == 'ultra')]"
   ]
  },
  {
   "cell_type": "code",
   "execution_count": 72,
   "metadata": {},
   "outputs": [
    {
     "name": "stdout",
     "output_type": "stream",
     "text": [
      "Выручка по Москве тарифа Ultra:  2074.0\n",
      "Выручка с других регионов тарифа Ultra:  2068.856767411301\n",
      "p-значение: 0.8570628563121833\n",
      "Не получилось отвергнуть нулевую гипотезу\n"
     ]
    }
   ],
   "source": [
    "#Проверим, отличается ли среднняя выручка по тарифу Ультра пользователей Москвы и других регионов.\n",
    "moscow = moscow_tariff_ultra['revenue']\n",
    "other = other_tariff_ultra['revenue']\n",
    "\n",
    "print('Выручка по Москве тарифа Ultra: ', moscow.mean())\n",
    "print('Выручка с других регионов тарифа Ultra: ', other.mean())\n",
    "alpha = 0.05\n",
    "\n",
    "results = st.ttest_ind(\n",
    "    moscow, \n",
    "    other)\n",
    "\n",
    "print('p-значение:', results.pvalue)\n",
    "\n",
    "if (results.pvalue < alpha):\n",
    "    print(\"Отвергаем нулевую гипотезу\")\n",
    "else:\n",
    "    print(\"Не получилось отвергнуть нулевую гипотезу\")"
   ]
  },
  {
   "cell_type": "markdown",
   "metadata": {},
   "source": [
    "Можем сказать, что выручка по Москве и другим регионам почти не различается. Вернее, только исходя из проверки гипотезы мы не можем сказать, что больше, — только что количество выручки отличается. Потому что гипотеза-то наша двухсторонняя: мы не знаем, в какую сторону оно отличается. Однако посчитав среднее количество выручки для обоих тарифов, с уверенностью можем сказать: cредняя выручка по Москве из тарифа Ultra примерна равна."
   ]
  },
  {
   "cell_type": "code",
   "execution_count": 73,
   "metadata": {},
   "outputs": [],
   "source": [
    "#Сохраним moscow_tariff_smart список пользователей из Москвы с тарифом Смарт\n",
    "moscow_tariff_smart = data[(data['city'] == 'Москва') & (data['tariff'] == 'smart')]"
   ]
  },
  {
   "cell_type": "code",
   "execution_count": 74,
   "metadata": {},
   "outputs": [],
   "source": [
    "#Сохраним other_tariff_smart список пользователей из других регионов с тарифом Смарт.\n",
    "other_tariff_smart = data[(data['city'] != 'Москва') & (data['tariff'] == 'smart')]"
   ]
  },
  {
   "cell_type": "code",
   "execution_count": 75,
   "metadata": {},
   "outputs": [
    {
     "name": "stdout",
     "output_type": "stream",
     "text": [
      "cреднее до:  1239.3575129533679\n",
      "cреднее после:  1300.1675704989154\n",
      "p-значение: 0.18439170052928663\n",
      "Не получилось отвергнуть нулевую гипотезу\n"
     ]
    }
   ],
   "source": [
    "#Проверим, отличается ли среднняя выручка по тарифу Смарт пользователей Москвы и других регионов\n",
    "moscow = moscow_tariff_smart['revenue']\n",
    "other = other_tariff_smart['revenue']\n",
    "\n",
    "print('cреднее до: ', moscow.mean())\n",
    "print('cреднее после: ', other.mean())\n",
    "alpha = 0.05\n",
    "\n",
    "results = st.ttest_ind(\n",
    "    moscow, \n",
    "    other)\n",
    "\n",
    "print('p-значение:', results.pvalue)\n",
    "\n",
    "if (results.pvalue < alpha):\n",
    "    print(\"Отвергаем нулевую гипотезу\")\n",
    "else:\n",
    "    print(\"Не получилось отвергнуть нулевую гипотезу\")"
   ]
  },
  {
   "cell_type": "markdown",
   "metadata": {},
   "source": [
    "Можем сказать, что выручка по Москве и других регионам, по тарифу Смарт, почти не различается. Вернее, только исходя из проверки гипотезы мы не можем сказать, что больше, — только что количество выручки почти одинаково и входит в диапазон статистической значимости. Потому что гипотеза-то наша двухсторонняя: мы не знаем, в какую сторону оно отличается. Однако, посчитав среднее количество выручки для Москвы и других регионов, с уверенностью можем сказать: выручка не отличается существенно."
   ]
  },
  {
   "cell_type": "markdown",
   "metadata": {},
   "source": [
    "## Общие выводы с анализа перспективного тарифа для телеком компании\n",
    "Пользователи больше предпочитают тариф Smart.\n",
    "Больше всего приносит дополнительного дохода тариф Smart.\n",
    "Самым прибильным сегментом является - интернет, при том в двух тарифах.\n",
    "Общая прибыль больше всего у тарифа Smart.\n",
    "Пользователи тарифа Smart часто не укладываются в лимиты, чаще всего по количеству минут и очень много по трафику.\n",
    "Пользователи тарифа Ultra практически не превышают лимитов, кроме трафика.\n",
    "Пользователи двух тарифов используют примерно одинаковые объемы интернета.\n",
    "В двух тарифах довольно много людей либо не пользуются отправкой сообщений, либо же используют в небольших количествах до 10-15 сообщений.\n",
    "Пользователи тарифа Ultra чаще всего не используют весь лимит по звонкам и сообщениям.\n",
    "Несмотря на то, что больше прибыли приносит тариф Smart, среднняя выручка выше у ultra.\n",
    "Разница в средней выручки из Москвы и других регонов - незначительная, это относится и к сравнению тарифов по Москве и регионам.\n",
    "Больше денег приносит тариф Smart.\n",
    "Тариф смарт лучше\n",
    "Тариф ультра приносит доход в основном из-за абонентской платы, т.к. абоненты редко превышают лимит."
   ]
  },
  {
   "cell_type": "code",
   "execution_count": 76,
   "metadata": {},
   "outputs": [
    {
     "data": {
      "text/plain": [
       "tariff\n",
       "smart    2875901.0\n",
       "ultra    2041050.0\n",
       "Name: revenue, dtype: float64"
      ]
     },
     "execution_count": 76,
     "metadata": {},
     "output_type": "execute_result"
    }
   ],
   "source": [
    "total_revenue['sum']['revenue']"
   ]
  },
  {
   "cell_type": "code",
   "execution_count": 77,
   "metadata": {
    "scrolled": true
   },
   "outputs": [
    {
     "data": {
      "text/plain": [
       "Index(['user_id', 'month', 'mb_used', 'gb_used', 'count_msg', 'duration',\n",
       "       'duration_count', 'age', 'churn_date', 'city', 'first_name',\n",
       "       'last_name', 'reg_date', 'tariff', 'messages_included',\n",
       "       'mb_per_month_included', 'minutes_included', 'rub_monthly_fee',\n",
       "       'rub_per_gb', 'rub_per_message', 'rub_per_minute',\n",
       "       'gb_per_month_included', 'calls_revenue', 'messages_revenue',\n",
       "       'gb_revenue', 'revenue'],\n",
       "      dtype='object')"
      ]
     },
     "execution_count": 77,
     "metadata": {},
     "output_type": "execute_result"
    }
   ],
   "source": [
    "# check\n",
    "data.columns"
   ]
  },
  {
   "cell_type": "code",
   "execution_count": 78,
   "metadata": {},
   "outputs": [],
   "source": [
    "import seaborn as sns\n",
    "import matplotlib.pyplot as plt"
   ]
  },
  {
   "cell_type": "code",
   "execution_count": 79,
   "metadata": {},
   "outputs": [
    {
     "data": {
      "image/png": "[encoded data removed]",
      "text/plain": [
       "<Figure size 864x144 with 1 Axes>"
      ]
     },
     "metadata": {
      "needs_background": "light"
     },
     "output_type": "display_data"
    },
    {
     "data": {
      "image/png": "[encoded data removed]",
      "text/plain": [
       "<Figure size 864x144 with 1 Axes>"
      ]
     },
     "metadata": {
      "needs_background": "light"
     },
     "output_type": "display_data"
    },
    {
     "data": {
      "image/png": "[encoded data removed]",
      "text/plain": [
       "<Figure size 864x144 with 1 Axes>"
      ]
     },
     "metadata": {
      "needs_background": "light"
     },
     "output_type": "display_data"
    },
    {
     "data": {
      "image/png": "[encoded data removed]",
      "text/plain": [
       "<Figure size 864x144 with 1 Axes>"
      ]
     },
     "metadata": {
      "needs_background": "light"
     },
     "output_type": "display_data"
    },
    {
     "data": {
      "image/png": "[encoded data removed]",
      "text/plain": [
       "<Figure size 864x144 with 1 Axes>"
      ]
     },
     "metadata": {
      "needs_background": "light"
     },
     "output_type": "display_data"
    },
    {
     "data": {
      "image/png": "[encoded data removed]",
      "text/plain": [
       "<Figure size 864x144 with 1 Axes>"
      ]
     },
     "metadata": {
      "needs_background": "light"
     },
     "output_type": "display_data"
    },
    {
     "data": {
      "image/png": "[encoded data removed]",
      "text/plain": [
       "<Figure size 864x144 with 1 Axes>"
      ]
     },
     "metadata": {
      "needs_background": "light"
     },
     "output_type": "display_data"
    },
    {
     "data": {
      "image/png": "[encoded data removed]",
      "text/plain": [
       "<Figure size 864x144 with 1 Axes>"
      ]
     },
     "metadata": {
      "needs_background": "light"
     },
     "output_type": "display_data"
    }
   ],
   "source": [
    "\n",
    "for column in ['gb_used', 'count_msg', 'duration',\n",
    "       'duration_count', 'calls_revenue', 'messages_revenue',\n",
    "       'gb_revenue', 'revenue']:    \n",
    "    g = sns.catplot(y='tariff', x=column, kind=\"box\", data= data, orient='h', palette = 'pastel')\n",
    "    g.fig.set_figwidth(12)\n",
    "    g.fig.set_figheight(2)"
   ]
  },
  {
   "cell_type": "code",
   "execution_count": 80,
   "metadata": {},
   "outputs": [
    {
     "data": {
      "image/png": "[encoded data removed]",
      "text/plain": [
       "<Figure size 720x288 with 1 Axes>"
      ]
     },
     "metadata": {
      "needs_background": "light"
     },
     "output_type": "display_data"
    }
   ],
   "source": [
    "(data\n",
    " .pivot_table(index='tariff', columns='month', values='user_id', aggfunc='count')\n",
    " .T\n",
    " .plot(kind='line', figsize=(10,4),  style = 'o-')\n",
    ")\n",
    "plt.title('Рост кол-ва клиентов по 2-м тарифам за год'+ \"\\n\")\n",
    "plt.xlabel('Месяц')\n",
    "plt.ylabel('кол-во');"
   ]
  },
  {
   "cell_type": "code",
   "execution_count": 81,
   "metadata": {
    "colab": {
     "base_uri": "https://localhost:8080/",
     "height": 330
    },
    "id": "V4Vo2tdzJ3G6",
    "outputId": "9cfd13a1-35e4-4421-9f10-349b8932486b"
   },
   "outputs": [
    {
     "data": {
      "image/png": "[encoded data removed]",
      "text/plain": [
       "<Figure size 720x288 with 1 Axes>"
      ]
     },
     "metadata": {
      "needs_background": "light"
     },
     "output_type": "display_data"
    }
   ],
   "source": [
    "(data\n",
    " .pivot_table(index='tariff', columns='month', values='revenue', aggfunc='mean')\n",
    " .T\n",
    " .plot(kind='line', figsize=(10,4),  style = 'o-')\n",
    ")\n",
    "plt.title('Средняя ежемесячная выручка от одного абонента'+ \"\\n\")\n",
    "plt.xlabel('Месяц')\n",
    "plt.ylabel('Рубли');"
   ]
  },
  {
   "cell_type": "code",
   "execution_count": 82,
   "metadata": {},
   "outputs": [
    {
     "data": {
      "image/png": "[encoded data removed]",
      "text/plain": [
       "<Figure size 720x288 with 1 Axes>"
      ]
     },
     "metadata": {
      "needs_background": "light"
     },
     "output_type": "display_data"
    }
   ],
   "source": [
    "(data\n",
    " .pivot_table(index='tariff', columns='month', values='revenue', aggfunc='sum')\n",
    " .T\n",
    " .plot(kind='line', figsize=(10,4),  style = 'o-')\n",
    ")\n",
    "plt.title('Суммарная ежемесячная выручка по 2-м тарифам'+ \"\\n\")\n",
    "plt.xlabel('Месяц')\n",
    "plt.ylabel('Рубли');"
   ]
  },
  {
   "cell_type": "code",
   "execution_count": 83,
   "metadata": {},
   "outputs": [
    {
     "name": "stdout",
     "output_type": "stream",
     "text": [
      "Кол-во клентов покинувших компанию за год 38\n",
      "Кол-во клентов покинувших компанию за посл. 4 мес. 2018 г. на двух тарифах 35\n",
      "%  от общего кол-ва всех клиентов, покинувших компанию за посл. 4 мес. 2018 г. на двух тарифах 92.1\n",
      "Распределение оттока клиентов на тарифах за посл. 4 мес. 2018 г.\n"
     ]
    },
    {
     "data": {
      "text/html": [
       "<div>\n",
       "<style scoped>\n",
       "    .dataframe tbody tr th:only-of-type {\n",
       "        vertical-align: middle;\n",
       "    }\n",
       "\n",
       "    .dataframe tbody tr th {\n",
       "        vertical-align: top;\n",
       "    }\n",
       "\n",
       "    .dataframe thead th {\n",
       "        text-align: right;\n",
       "    }\n",
       "</style>\n",
       "<table border=\"1\" class=\"dataframe\">\n",
       "  <thead>\n",
       "    <tr style=\"text-align: right;\">\n",
       "      <th></th>\n",
       "      <th>churn_date</th>\n",
       "    </tr>\n",
       "    <tr>\n",
       "      <th>tariff</th>\n",
       "      <th></th>\n",
       "    </tr>\n",
       "  </thead>\n",
       "  <tbody>\n",
       "    <tr>\n",
       "      <th>smart</th>\n",
       "      <td>22</td>\n",
       "    </tr>\n",
       "    <tr>\n",
       "      <th>ultra</th>\n",
       "      <td>13</td>\n",
       "    </tr>\n",
       "  </tbody>\n",
       "</table>\n",
       "</div>"
      ],
      "text/plain": [
       "        churn_date\n",
       "tariff            \n",
       "smart           22\n",
       "ultra           13"
      ]
     },
     "execution_count": 83,
     "metadata": {},
     "output_type": "execute_result"
    }
   ],
   "source": [
    "# отток клиентов\n",
    "df_users = pd.read_csv('/datasets/users.csv')\n",
    "\n",
    "print ('Кол-во клентов покинувших компанию за год', df_users.churn_date.notna().sum())\n",
    "\n",
    "print ('Кол-во клентов покинувших компанию за посл. 4 мес. 2018 г. на двух тарифах',\n",
    "       df_users.query('churn_date > \"2018-09-25\"').churn_date.notna().sum()\n",
    "      )\n",
    "print ('%  от общего кол-ва всех клиентов, покинувших компанию за посл. 4 мес. 2018 г. на двух тарифах',\n",
    "    (df_users.query('churn_date > \"2018-09-25\"').churn_date.notna().sum()/df_users.churn_date.notna().sum()*100).round(1)\n",
    ")\n",
    "\n",
    "print ('Распределение оттока клиентов на тарифах за посл. 4 мес. 2018 г.')\n",
    "df_users.query('churn_date > \"2018-09-25\"').groupby('tariff')['churn_date'].count().to_frame()"
   ]
  }
 ],
 "metadata": {
  "ExecuteTimeLog": [
   {
    "duration": 674,
    "start_time": "2022-05-29T20:18:12.886Z"
   },
   {
    "duration": 3,
    "start_time": "2022-05-29T20:18:19.809Z"
   },
   {
    "duration": 477,
    "start_time": "2022-05-29T20:18:24.651Z"
   },
   {
    "duration": 456,
    "start_time": "2022-05-29T20:18:28.914Z"
   },
   {
    "duration": 1774,
    "start_time": "2022-05-29T20:20:57.284Z"
   },
   {
    "duration": 645,
    "start_time": "2022-05-29T20:21:08.532Z"
   },
   {
    "duration": 570,
    "start_time": "2022-05-29T20:21:15.060Z"
   },
   {
    "duration": 13,
    "start_time": "2022-05-29T20:21:53.463Z"
   },
   {
    "duration": 31,
    "start_time": "2022-05-29T20:22:27.515Z"
   },
   {
    "duration": 11,
    "start_time": "2022-05-29T20:22:50.620Z"
   },
   {
    "duration": 10,
    "start_time": "2022-05-29T20:23:26.451Z"
   },
   {
    "duration": 23,
    "start_time": "2022-05-29T20:23:49.265Z"
   },
   {
    "duration": 8,
    "start_time": "2022-05-29T20:24:02.261Z"
   },
   {
    "duration": 7,
    "start_time": "2022-05-29T20:24:16.944Z"
   },
   {
    "duration": 14,
    "start_time": "2022-05-29T20:25:43.605Z"
   },
   {
    "duration": 9,
    "start_time": "2022-05-29T20:26:06.755Z"
   },
   {
    "duration": 9,
    "start_time": "2022-05-29T20:26:11.172Z"
   },
   {
    "duration": 27,
    "start_time": "2022-05-29T20:28:12.622Z"
   },
   {
    "duration": 25,
    "start_time": "2022-05-29T20:28:27.048Z"
   },
   {
    "duration": 28,
    "start_time": "2022-05-29T20:34:39.477Z"
   },
   {
    "duration": 10,
    "start_time": "2022-05-29T20:34:59.722Z"
   },
   {
    "duration": 11,
    "start_time": "2022-05-29T20:35:21.013Z"
   },
   {
    "duration": 18,
    "start_time": "2022-05-29T20:40:12.064Z"
   },
   {
    "duration": 23,
    "start_time": "2022-05-29T20:40:25.269Z"
   },
   {
    "duration": 22,
    "start_time": "2022-05-29T20:41:12.329Z"
   },
   {
    "duration": 21,
    "start_time": "2022-05-29T20:42:12.437Z"
   },
   {
    "duration": 17,
    "start_time": "2022-05-29T20:43:10.170Z"
   },
   {
    "duration": 21,
    "start_time": "2022-05-29T20:43:20.596Z"
   },
   {
    "duration": 6,
    "start_time": "2022-05-29T20:43:25.970Z"
   },
   {
    "duration": 6,
    "start_time": "2022-05-29T20:43:31.266Z"
   },
   {
    "duration": 4,
    "start_time": "2022-05-29T20:45:55.785Z"
   },
   {
    "duration": 15,
    "start_time": "2022-05-29T20:46:18.706Z"
   },
   {
    "duration": 73,
    "start_time": "2022-05-29T20:47:45.526Z"
   },
   {
    "duration": 4,
    "start_time": "2022-05-29T21:00:32.362Z"
   },
   {
    "duration": 20,
    "start_time": "2022-05-29T21:00:49.360Z"
   },
   {
    "duration": 3,
    "start_time": "2022-05-29T21:01:36.125Z"
   },
   {
    "duration": 54,
    "start_time": "2022-05-29T21:01:36.977Z"
   },
   {
    "duration": 49,
    "start_time": "2022-05-29T21:11:41.379Z"
   },
   {
    "duration": 535,
    "start_time": "2022-05-29T21:12:59.755Z"
   },
   {
    "duration": 14,
    "start_time": "2022-05-29T21:13:29.943Z"
   },
   {
    "duration": 20,
    "start_time": "2022-05-29T21:13:43.787Z"
   },
   {
    "duration": 4,
    "start_time": "2022-05-29T21:14:21.585Z"
   },
   {
    "duration": 33,
    "start_time": "2022-05-29T21:21:20.869Z"
   },
   {
    "duration": 763,
    "start_time": "2022-05-29T21:21:24.852Z"
   },
   {
    "duration": 12,
    "start_time": "2022-05-29T21:22:23.205Z"
   },
   {
    "duration": 707,
    "start_time": "2022-05-29T21:22:57.712Z"
   },
   {
    "duration": 7,
    "start_time": "2022-05-29T21:25:42.657Z"
   },
   {
    "duration": 44,
    "start_time": "2022-05-29T21:25:46.220Z"
   },
   {
    "duration": 759,
    "start_time": "2022-05-29T21:25:58.949Z"
   },
   {
    "duration": 693,
    "start_time": "2022-05-29T21:26:11.013Z"
   },
   {
    "duration": 43,
    "start_time": "2022-05-29T21:27:03.857Z"
   },
   {
    "duration": 25,
    "start_time": "2022-05-29T21:27:21.956Z"
   },
   {
    "duration": 52,
    "start_time": "2022-05-29T21:27:24.289Z"
   },
   {
    "duration": 12,
    "start_time": "2022-05-29T21:28:28.649Z"
   },
   {
    "duration": 46,
    "start_time": "2022-05-29T21:28:30.276Z"
   },
   {
    "duration": 25,
    "start_time": "2022-05-29T21:28:46.969Z"
   },
   {
    "duration": 705,
    "start_time": "2022-05-29T21:29:59.081Z"
   },
   {
    "duration": 444,
    "start_time": "2022-05-29T21:30:20.449Z"
   },
   {
    "duration": 3,
    "start_time": "2022-05-29T21:30:21.469Z"
   },
   {
    "duration": 272,
    "start_time": "2022-05-29T21:30:22.513Z"
   },
   {
    "duration": 442,
    "start_time": "2022-05-29T21:30:23.201Z"
   },
   {
    "duration": 422,
    "start_time": "2022-05-29T21:30:24.262Z"
   },
   {
    "duration": 3,
    "start_time": "2022-05-29T21:30:26.997Z"
   },
   {
    "duration": 16,
    "start_time": "2022-05-29T21:30:28.758Z"
   },
   {
    "duration": 80,
    "start_time": "2022-05-29T21:30:47.449Z"
   },
   {
    "duration": 4,
    "start_time": "2022-05-29T21:30:51.846Z"
   },
   {
    "duration": 3,
    "start_time": "2022-05-29T21:31:01.007Z"
   },
   {
    "duration": 45,
    "start_time": "2022-05-29T21:31:02.857Z"
   },
   {
    "duration": 680,
    "start_time": "2022-05-29T21:31:13.965Z"
   },
   {
    "duration": 6,
    "start_time": "2022-05-29T21:34:48.254Z"
   },
   {
    "duration": 3,
    "start_time": "2022-05-29T21:42:04.340Z"
   },
   {
    "duration": 106,
    "start_time": "2022-05-29T21:47:32.701Z"
   },
   {
    "duration": 68,
    "start_time": "2022-05-29T21:47:46.543Z"
   },
   {
    "duration": 73,
    "start_time": "2022-05-29T21:48:10.417Z"
   },
   {
    "duration": 0,
    "start_time": "2022-05-29T21:51:39.560Z"
   },
   {
    "duration": 0,
    "start_time": "2022-05-29T21:51:39.562Z"
   },
   {
    "duration": 9,
    "start_time": "2022-05-29T21:51:44.597Z"
   },
   {
    "duration": 35,
    "start_time": "2022-05-29T21:52:19.233Z"
   },
   {
    "duration": 7,
    "start_time": "2022-05-29T21:52:24.225Z"
   },
   {
    "duration": 17,
    "start_time": "2022-05-29T21:53:09.362Z"
   },
   {
    "duration": 6,
    "start_time": "2022-05-29T21:53:14.438Z"
   },
   {
    "duration": 19,
    "start_time": "2022-05-29T21:53:29.034Z"
   },
   {
    "duration": 21,
    "start_time": "2022-05-29T21:53:40.210Z"
   },
   {
    "duration": 10,
    "start_time": "2022-05-29T21:54:09.342Z"
   },
   {
    "duration": 23,
    "start_time": "2022-05-29T21:55:17.730Z"
   },
   {
    "duration": 38,
    "start_time": "2022-05-29T21:55:34.229Z"
   },
   {
    "duration": 18,
    "start_time": "2022-05-29T21:55:45.297Z"
   },
   {
    "duration": 4,
    "start_time": "2022-05-29T21:56:02.146Z"
   },
   {
    "duration": 5,
    "start_time": "2022-05-29T21:56:26.114Z"
   },
   {
    "duration": 56,
    "start_time": "2022-05-29T21:56:54.382Z"
   },
   {
    "duration": 6,
    "start_time": "2022-05-29T21:57:53.178Z"
   },
   {
    "duration": 11,
    "start_time": "2022-05-29T22:05:19.416Z"
   },
   {
    "duration": 13,
    "start_time": "2022-05-29T22:16:31.546Z"
   },
   {
    "duration": 22,
    "start_time": "2022-05-29T22:16:37.551Z"
   },
   {
    "duration": 10,
    "start_time": "2022-05-29T22:16:46.772Z"
   },
   {
    "duration": 6,
    "start_time": "2022-05-29T22:16:51.428Z"
   },
   {
    "duration": 10,
    "start_time": "2022-05-29T22:27:42.034Z"
   },
   {
    "duration": 11,
    "start_time": "2022-05-29T22:27:49.134Z"
   },
   {
    "duration": 7,
    "start_time": "2022-05-29T22:28:34.774Z"
   },
   {
    "duration": 34,
    "start_time": "2022-05-29T22:28:51.361Z"
   },
   {
    "duration": 28,
    "start_time": "2022-05-29T22:29:06.210Z"
   },
   {
    "duration": 26,
    "start_time": "2022-05-29T22:29:19.998Z"
   },
   {
    "duration": 9,
    "start_time": "2022-05-29T22:32:11.790Z"
   },
   {
    "duration": 26393,
    "start_time": "2022-05-29T22:36:06.925Z"
   },
   {
    "duration": 4,
    "start_time": "2022-05-29T22:38:03.989Z"
   },
   {
    "duration": 3,
    "start_time": "2022-05-29T22:39:12.728Z"
   },
   {
    "duration": 3,
    "start_time": "2022-05-29T22:39:32.340Z"
   },
   {
    "duration": 33,
    "start_time": "2022-05-29T22:40:19.868Z"
   },
   {
    "duration": 61892,
    "start_time": "2022-05-29T22:41:04.568Z"
   },
   {
    "duration": 16,
    "start_time": "2022-05-29T22:42:55.420Z"
   },
   {
    "duration": 476,
    "start_time": "2022-05-29T22:43:37.851Z"
   },
   {
    "duration": 3,
    "start_time": "2022-05-29T22:43:38.329Z"
   },
   {
    "duration": 282,
    "start_time": "2022-05-29T22:43:38.333Z"
   },
   {
    "duration": 403,
    "start_time": "2022-05-29T22:43:38.617Z"
   },
   {
    "duration": 2,
    "start_time": "2022-05-29T22:43:39.022Z"
   },
   {
    "duration": 422,
    "start_time": "2022-05-29T22:43:39.026Z"
   },
   {
    "duration": 3,
    "start_time": "2022-05-29T22:43:39.450Z"
   },
   {
    "duration": 7,
    "start_time": "2022-05-29T22:43:39.454Z"
   },
   {
    "duration": 21,
    "start_time": "2022-05-29T22:43:39.463Z"
   },
   {
    "duration": 66,
    "start_time": "2022-05-29T22:43:39.487Z"
   },
   {
    "duration": 5,
    "start_time": "2022-05-29T22:43:39.554Z"
   },
   {
    "duration": 24,
    "start_time": "2022-05-29T22:43:39.560Z"
   },
   {
    "duration": 46,
    "start_time": "2022-05-29T22:43:39.585Z"
   },
   {
    "duration": 666,
    "start_time": "2022-05-29T22:43:39.632Z"
   },
   {
    "duration": 38,
    "start_time": "2022-05-29T22:43:40.299Z"
   },
   {
    "duration": 52,
    "start_time": "2022-05-29T22:43:40.339Z"
   },
   {
    "duration": 21,
    "start_time": "2022-05-29T22:43:40.392Z"
   },
   {
    "duration": 5,
    "start_time": "2022-05-29T22:43:40.415Z"
   },
   {
    "duration": 8,
    "start_time": "2022-05-29T22:43:40.422Z"
   },
   {
    "duration": 100,
    "start_time": "2022-05-29T22:43:40.431Z"
   },
   {
    "duration": 23,
    "start_time": "2022-05-29T22:43:40.533Z"
   },
   {
    "duration": 18,
    "start_time": "2022-05-29T22:43:49.907Z"
   },
   {
    "duration": 15,
    "start_time": "2022-05-29T22:44:35.003Z"
   },
   {
    "duration": 34,
    "start_time": "2022-05-29T22:50:48.699Z"
   },
   {
    "duration": 189,
    "start_time": "2022-05-29T22:50:52.462Z"
   },
   {
    "duration": 4,
    "start_time": "2022-05-29T22:54:57.065Z"
   },
   {
    "duration": 139,
    "start_time": "2022-05-29T22:56:37.844Z"
   },
   {
    "duration": 30,
    "start_time": "2022-05-29T22:57:06.438Z"
   },
   {
    "duration": 199,
    "start_time": "2022-05-29T22:59:03.494Z"
   },
   {
    "duration": 32,
    "start_time": "2022-05-29T23:22:18.159Z"
   },
   {
    "duration": 30,
    "start_time": "2022-05-29T23:22:18.742Z"
   },
   {
    "duration": 27,
    "start_time": "2022-05-29T23:22:19.274Z"
   },
   {
    "duration": 35,
    "start_time": "2022-05-29T23:23:22.556Z"
   },
   {
    "duration": 48,
    "start_time": "2022-05-29T23:23:26.090Z"
   },
   {
    "duration": 51,
    "start_time": "2022-05-29T23:23:36.576Z"
   },
   {
    "duration": 37,
    "start_time": "2022-05-29T23:25:48.064Z"
   },
   {
    "duration": 47,
    "start_time": "2022-05-29T23:26:04.352Z"
   },
   {
    "duration": 2,
    "start_time": "2022-05-29T23:29:24.243Z"
   },
   {
    "duration": 9,
    "start_time": "2022-05-29T23:29:51.875Z"
   },
   {
    "duration": 2,
    "start_time": "2022-05-29T23:29:58.183Z"
   },
   {
    "duration": 4,
    "start_time": "2022-05-29T23:30:06.518Z"
   },
   {
    "duration": 7,
    "start_time": "2022-05-29T23:30:15.268Z"
   },
   {
    "duration": 5,
    "start_time": "2022-05-29T23:30:27.198Z"
   },
   {
    "duration": 7,
    "start_time": "2022-05-29T23:30:30.155Z"
   },
   {
    "duration": 4,
    "start_time": "2022-05-29T23:30:33.397Z"
   },
   {
    "duration": 5,
    "start_time": "2022-05-29T23:31:05.283Z"
   },
   {
    "duration": 29,
    "start_time": "2022-05-29T23:31:10.195Z"
   },
   {
    "duration": 29,
    "start_time": "2022-05-29T23:31:11.778Z"
   },
   {
    "duration": 47,
    "start_time": "2022-05-29T23:32:33.775Z"
   },
   {
    "duration": 7,
    "start_time": "2022-05-29T23:34:55.743Z"
   },
   {
    "duration": 18980,
    "start_time": "2022-05-29T23:35:22.155Z"
   },
   {
    "duration": 38,
    "start_time": "2022-05-29T23:39:40.345Z"
   },
   {
    "duration": 4,
    "start_time": "2022-05-29T23:39:54.425Z"
   },
   {
    "duration": 7,
    "start_time": "2022-05-29T23:39:59.221Z"
   },
   {
    "duration": 596,
    "start_time": "2022-05-29T23:41:31.375Z"
   },
   {
    "duration": 3,
    "start_time": "2022-05-29T23:41:31.973Z"
   },
   {
    "duration": 283,
    "start_time": "2022-05-29T23:41:31.983Z"
   },
   {
    "duration": 471,
    "start_time": "2022-05-29T23:41:32.267Z"
   },
   {
    "duration": 2,
    "start_time": "2022-05-29T23:41:32.740Z"
   },
   {
    "duration": 11,
    "start_time": "2022-05-29T23:41:32.744Z"
   },
   {
    "duration": 435,
    "start_time": "2022-05-29T23:41:32.757Z"
   },
   {
    "duration": 2,
    "start_time": "2022-05-29T23:41:33.194Z"
   },
   {
    "duration": 28,
    "start_time": "2022-05-29T23:41:33.198Z"
   },
   {
    "duration": 32,
    "start_time": "2022-05-29T23:41:33.228Z"
   },
   {
    "duration": 68,
    "start_time": "2022-05-29T23:41:33.262Z"
   },
   {
    "duration": 4,
    "start_time": "2022-05-29T23:41:33.332Z"
   },
   {
    "duration": 10,
    "start_time": "2022-05-29T23:41:33.338Z"
   },
   {
    "duration": 51,
    "start_time": "2022-05-29T23:41:33.351Z"
   },
   {
    "duration": 684,
    "start_time": "2022-05-29T23:41:33.404Z"
   },
   {
    "duration": 33,
    "start_time": "2022-05-29T23:41:34.090Z"
   },
   {
    "duration": 23,
    "start_time": "2022-05-29T23:41:34.125Z"
   },
   {
    "duration": 42,
    "start_time": "2022-05-29T23:41:34.149Z"
   },
   {
    "duration": 4,
    "start_time": "2022-05-29T23:41:34.192Z"
   },
   {
    "duration": 15,
    "start_time": "2022-05-29T23:41:34.198Z"
   },
   {
    "duration": 17,
    "start_time": "2022-05-29T23:41:34.215Z"
   },
   {
    "duration": 208,
    "start_time": "2022-05-29T23:41:34.233Z"
   },
   {
    "duration": 22,
    "start_time": "2022-05-29T23:41:34.442Z"
   },
   {
    "duration": 29,
    "start_time": "2022-05-29T23:41:34.466Z"
   },
   {
    "duration": 15,
    "start_time": "2022-05-29T23:41:34.497Z"
   },
   {
    "duration": 7,
    "start_time": "2022-05-29T23:41:34.514Z"
   },
   {
    "duration": 14,
    "start_time": "2022-05-29T23:41:34.523Z"
   },
   {
    "duration": 69,
    "start_time": "2022-05-29T23:41:34.539Z"
   },
   {
    "duration": 46,
    "start_time": "2022-05-29T23:41:34.610Z"
   },
   {
    "duration": 59,
    "start_time": "2022-05-29T23:41:34.658Z"
   },
   {
    "duration": 27,
    "start_time": "2022-05-29T23:41:34.719Z"
   },
   {
    "duration": 9,
    "start_time": "2022-05-29T23:41:49.373Z"
   },
   {
    "duration": 9,
    "start_time": "2022-05-29T23:41:57.110Z"
   },
   {
    "duration": 384,
    "start_time": "2022-05-29T23:43:10.332Z"
   },
   {
    "duration": 3,
    "start_time": "2022-05-29T23:43:10.718Z"
   },
   {
    "duration": 259,
    "start_time": "2022-05-29T23:43:10.809Z"
   },
   {
    "duration": 463,
    "start_time": "2022-05-29T23:43:11.070Z"
   },
   {
    "duration": 3,
    "start_time": "2022-05-29T23:43:11.535Z"
   },
   {
    "duration": 10,
    "start_time": "2022-05-29T23:43:11.539Z"
   },
   {
    "duration": 438,
    "start_time": "2022-05-29T23:43:11.551Z"
   },
   {
    "duration": 3,
    "start_time": "2022-05-29T23:43:11.991Z"
   },
   {
    "duration": 4,
    "start_time": "2022-05-29T23:43:12.019Z"
   },
   {
    "duration": 19,
    "start_time": "2022-05-29T23:43:12.259Z"
   },
   {
    "duration": 69,
    "start_time": "2022-05-29T23:43:12.551Z"
   },
   {
    "duration": 4,
    "start_time": "2022-05-29T23:43:12.707Z"
   },
   {
    "duration": 3,
    "start_time": "2022-05-29T23:43:13.851Z"
   },
   {
    "duration": 44,
    "start_time": "2022-05-29T23:43:14.006Z"
   },
   {
    "duration": 660,
    "start_time": "2022-05-29T23:43:14.180Z"
   },
   {
    "duration": 33,
    "start_time": "2022-05-29T23:43:15.171Z"
   },
   {
    "duration": 24,
    "start_time": "2022-05-29T23:43:16.450Z"
   },
   {
    "duration": 18,
    "start_time": "2022-05-29T23:43:16.660Z"
   },
   {
    "duration": 4,
    "start_time": "2022-05-29T23:43:16.960Z"
   },
   {
    "duration": 5,
    "start_time": "2022-05-29T23:43:17.276Z"
   },
   {
    "duration": 6,
    "start_time": "2022-05-29T23:43:20.348Z"
   },
   {
    "duration": 196,
    "start_time": "2022-05-29T23:43:22.496Z"
   },
   {
    "duration": 24,
    "start_time": "2022-05-29T23:43:28.768Z"
   },
   {
    "duration": 18,
    "start_time": "2022-05-29T23:43:29.156Z"
   },
   {
    "duration": 15,
    "start_time": "2022-05-29T23:43:29.902Z"
   },
   {
    "duration": 24,
    "start_time": "2022-05-29T23:43:47.252Z"
   },
   {
    "duration": 28,
    "start_time": "2022-05-29T23:44:25.588Z"
   },
   {
    "duration": 16,
    "start_time": "2022-05-29T23:44:55.593Z"
   },
   {
    "duration": 414,
    "start_time": "2022-05-29T23:46:58.323Z"
   },
   {
    "duration": 3,
    "start_time": "2022-05-29T23:46:58.739Z"
   },
   {
    "duration": 280,
    "start_time": "2022-05-29T23:46:58.743Z"
   },
   {
    "duration": 435,
    "start_time": "2022-05-29T23:46:59.025Z"
   },
   {
    "duration": 2,
    "start_time": "2022-05-29T23:46:59.462Z"
   },
   {
    "duration": 6,
    "start_time": "2022-05-29T23:46:59.466Z"
   },
   {
    "duration": 461,
    "start_time": "2022-05-29T23:46:59.474Z"
   },
   {
    "duration": 3,
    "start_time": "2022-05-29T23:46:59.937Z"
   },
   {
    "duration": 9,
    "start_time": "2022-05-29T23:46:59.941Z"
   },
   {
    "duration": 22,
    "start_time": "2022-05-29T23:46:59.952Z"
   },
   {
    "duration": 75,
    "start_time": "2022-05-29T23:46:59.976Z"
   },
   {
    "duration": 4,
    "start_time": "2022-05-29T23:47:00.053Z"
   },
   {
    "duration": 21,
    "start_time": "2022-05-29T23:47:00.059Z"
   },
   {
    "duration": 59,
    "start_time": "2022-05-29T23:47:00.081Z"
   },
   {
    "duration": 764,
    "start_time": "2022-05-29T23:47:00.142Z"
   },
   {
    "duration": 38,
    "start_time": "2022-05-29T23:47:00.908Z"
   },
   {
    "duration": 52,
    "start_time": "2022-05-29T23:47:00.948Z"
   },
   {
    "duration": 23,
    "start_time": "2022-05-29T23:47:01.002Z"
   },
   {
    "duration": 8,
    "start_time": "2022-05-29T23:47:01.027Z"
   },
   {
    "duration": 14,
    "start_time": "2022-05-29T23:47:01.037Z"
   },
   {
    "duration": 33,
    "start_time": "2022-05-29T23:47:01.053Z"
   },
   {
    "duration": 223,
    "start_time": "2022-05-29T23:47:01.088Z"
   },
   {
    "duration": 24,
    "start_time": "2022-05-29T23:47:01.313Z"
   },
   {
    "duration": 35,
    "start_time": "2022-05-29T23:47:01.339Z"
   },
   {
    "duration": 16,
    "start_time": "2022-05-29T23:47:01.375Z"
   },
   {
    "duration": 28,
    "start_time": "2022-05-29T23:47:01.393Z"
   },
   {
    "duration": 3,
    "start_time": "2022-05-29T23:47:01.423Z"
   },
   {
    "duration": 101,
    "start_time": "2022-05-29T23:47:01.431Z"
   },
   {
    "duration": 63,
    "start_time": "2022-05-29T23:47:01.534Z"
   },
   {
    "duration": 53,
    "start_time": "2022-05-29T23:47:01.599Z"
   },
   {
    "duration": 44,
    "start_time": "2022-05-29T23:47:01.655Z"
   },
   {
    "duration": 421,
    "start_time": "2022-05-29T23:47:32.200Z"
   },
   {
    "duration": 3,
    "start_time": "2022-05-29T23:47:32.623Z"
   },
   {
    "duration": 265,
    "start_time": "2022-05-29T23:47:32.628Z"
   },
   {
    "duration": 435,
    "start_time": "2022-05-29T23:47:32.895Z"
   },
   {
    "duration": 3,
    "start_time": "2022-05-29T23:47:33.333Z"
   },
   {
    "duration": 9,
    "start_time": "2022-05-29T23:47:33.338Z"
   },
   {
    "duration": 435,
    "start_time": "2022-05-29T23:47:33.349Z"
   },
   {
    "duration": 3,
    "start_time": "2022-05-29T23:47:33.786Z"
   },
   {
    "duration": 8,
    "start_time": "2022-05-29T23:47:33.790Z"
   },
   {
    "duration": 20,
    "start_time": "2022-05-29T23:47:33.800Z"
   },
   {
    "duration": 88,
    "start_time": "2022-05-29T23:47:33.822Z"
   },
   {
    "duration": 5,
    "start_time": "2022-05-29T23:47:33.912Z"
   },
   {
    "duration": 6,
    "start_time": "2022-05-29T23:47:33.918Z"
   },
   {
    "duration": 61,
    "start_time": "2022-05-29T23:47:33.926Z"
   },
   {
    "duration": 704,
    "start_time": "2022-05-29T23:47:33.989Z"
   },
   {
    "duration": 31,
    "start_time": "2022-05-29T23:47:34.695Z"
   },
   {
    "duration": 23,
    "start_time": "2022-05-29T23:47:34.728Z"
   },
   {
    "duration": 43,
    "start_time": "2022-05-29T23:47:34.752Z"
   },
   {
    "duration": 3,
    "start_time": "2022-05-29T23:47:34.797Z"
   },
   {
    "duration": 7,
    "start_time": "2022-05-29T23:47:34.802Z"
   },
   {
    "duration": 8,
    "start_time": "2022-05-29T23:47:34.810Z"
   },
   {
    "duration": 212,
    "start_time": "2022-05-29T23:47:34.820Z"
   },
   {
    "duration": 21,
    "start_time": "2022-05-29T23:47:35.035Z"
   },
   {
    "duration": 32,
    "start_time": "2022-05-29T23:47:35.058Z"
   },
   {
    "duration": 15,
    "start_time": "2022-05-29T23:47:35.092Z"
   },
   {
    "duration": 17,
    "start_time": "2022-05-29T23:47:35.109Z"
   },
   {
    "duration": 4,
    "start_time": "2022-05-29T23:47:35.127Z"
   },
   {
    "duration": 82,
    "start_time": "2022-05-29T23:47:35.135Z"
   },
   {
    "duration": 48,
    "start_time": "2022-05-29T23:47:35.219Z"
   },
   {
    "duration": 61,
    "start_time": "2022-05-29T23:47:35.269Z"
   },
   {
    "duration": 29,
    "start_time": "2022-05-29T23:47:35.332Z"
   },
   {
    "duration": 428,
    "start_time": "2022-05-29T23:48:03.397Z"
   },
   {
    "duration": 3,
    "start_time": "2022-05-29T23:48:03.826Z"
   },
   {
    "duration": 268,
    "start_time": "2022-05-29T23:48:03.830Z"
   },
   {
    "duration": 433,
    "start_time": "2022-05-29T23:48:04.100Z"
   },
   {
    "duration": 3,
    "start_time": "2022-05-29T23:48:04.535Z"
   },
   {
    "duration": 6,
    "start_time": "2022-05-29T23:48:04.539Z"
   },
   {
    "duration": 413,
    "start_time": "2022-05-29T23:48:04.546Z"
   },
   {
    "duration": 3,
    "start_time": "2022-05-29T23:48:04.961Z"
   },
   {
    "duration": 12,
    "start_time": "2022-05-29T23:48:04.966Z"
   },
   {
    "duration": 30,
    "start_time": "2022-05-29T23:48:04.979Z"
   },
   {
    "duration": 74,
    "start_time": "2022-05-29T23:48:05.011Z"
   },
   {
    "duration": 4,
    "start_time": "2022-05-29T23:48:05.087Z"
   },
   {
    "duration": 22,
    "start_time": "2022-05-29T23:48:05.093Z"
   },
   {
    "duration": 56,
    "start_time": "2022-05-29T23:48:05.119Z"
   },
   {
    "duration": 667,
    "start_time": "2022-05-29T23:48:05.177Z"
   },
   {
    "duration": 61,
    "start_time": "2022-05-29T23:48:05.845Z"
   },
   {
    "duration": 24,
    "start_time": "2022-05-29T23:48:05.908Z"
   },
   {
    "duration": 20,
    "start_time": "2022-05-29T23:48:05.933Z"
   },
   {
    "duration": 4,
    "start_time": "2022-05-29T23:48:05.954Z"
   },
   {
    "duration": 28,
    "start_time": "2022-05-29T23:48:05.959Z"
   },
   {
    "duration": 9,
    "start_time": "2022-05-29T23:48:05.989Z"
   },
   {
    "duration": 224,
    "start_time": "2022-05-29T23:48:05.999Z"
   },
   {
    "duration": 22,
    "start_time": "2022-05-29T23:48:06.225Z"
   },
   {
    "duration": 18,
    "start_time": "2022-05-29T23:48:06.249Z"
   },
   {
    "duration": 16,
    "start_time": "2022-05-29T23:48:06.284Z"
   },
   {
    "duration": 15,
    "start_time": "2022-05-29T23:48:06.302Z"
   },
   {
    "duration": 3,
    "start_time": "2022-05-29T23:48:06.319Z"
   },
   {
    "duration": 77,
    "start_time": "2022-05-29T23:48:06.323Z"
   },
   {
    "duration": 50,
    "start_time": "2022-05-29T23:48:06.401Z"
   },
   {
    "duration": 62,
    "start_time": "2022-05-29T23:48:06.453Z"
   },
   {
    "duration": 28,
    "start_time": "2022-05-29T23:48:06.516Z"
   },
   {
    "duration": 5,
    "start_time": "2022-05-29T23:48:25.407Z"
   },
   {
    "duration": 412,
    "start_time": "2022-05-29T23:50:05.206Z"
   },
   {
    "duration": 2,
    "start_time": "2022-05-29T23:50:05.621Z"
   },
   {
    "duration": 275,
    "start_time": "2022-05-29T23:50:05.624Z"
   },
   {
    "duration": 430,
    "start_time": "2022-05-29T23:50:05.902Z"
   },
   {
    "duration": 2,
    "start_time": "2022-05-29T23:50:06.334Z"
   },
   {
    "duration": 5,
    "start_time": "2022-05-29T23:50:06.338Z"
   },
   {
    "duration": 443,
    "start_time": "2022-05-29T23:50:06.345Z"
   },
   {
    "duration": 3,
    "start_time": "2022-05-29T23:50:06.789Z"
   },
   {
    "duration": 7,
    "start_time": "2022-05-29T23:50:06.793Z"
   },
   {
    "duration": 18,
    "start_time": "2022-05-29T23:50:06.803Z"
   },
   {
    "duration": 88,
    "start_time": "2022-05-29T23:50:06.823Z"
   },
   {
    "duration": 4,
    "start_time": "2022-05-29T23:50:06.913Z"
   },
   {
    "duration": 7,
    "start_time": "2022-05-29T23:50:06.919Z"
   },
   {
    "duration": 61,
    "start_time": "2022-05-29T23:50:06.927Z"
   },
   {
    "duration": 717,
    "start_time": "2022-05-29T23:50:06.990Z"
   },
   {
    "duration": 32,
    "start_time": "2022-05-29T23:50:07.708Z"
   },
   {
    "duration": 50,
    "start_time": "2022-05-29T23:50:07.742Z"
   },
   {
    "duration": 20,
    "start_time": "2022-05-29T23:50:07.793Z"
   },
   {
    "duration": 9,
    "start_time": "2022-05-29T23:50:07.815Z"
   },
   {
    "duration": 35,
    "start_time": "2022-05-29T23:50:07.826Z"
   },
   {
    "duration": 19,
    "start_time": "2022-05-29T23:50:07.863Z"
   },
   {
    "duration": 229,
    "start_time": "2022-05-29T23:50:07.886Z"
   },
   {
    "duration": 21,
    "start_time": "2022-05-29T23:50:08.117Z"
   },
   {
    "duration": 18,
    "start_time": "2022-05-29T23:50:08.140Z"
   },
   {
    "duration": 28,
    "start_time": "2022-05-29T23:50:08.160Z"
   },
   {
    "duration": 7,
    "start_time": "2022-05-29T23:50:08.190Z"
   },
   {
    "duration": 26,
    "start_time": "2022-05-29T23:50:08.198Z"
   },
   {
    "duration": 67,
    "start_time": "2022-05-29T23:50:08.227Z"
   },
   {
    "duration": 50,
    "start_time": "2022-05-29T23:50:08.296Z"
   },
   {
    "duration": 64,
    "start_time": "2022-05-29T23:50:08.348Z"
   },
   {
    "duration": 24,
    "start_time": "2022-05-29T23:50:08.414Z"
   },
   {
    "duration": 37,
    "start_time": "2022-05-29T23:50:21.927Z"
   },
   {
    "duration": 60,
    "start_time": "2022-05-29T23:53:21.746Z"
   },
   {
    "duration": 36,
    "start_time": "2022-05-29T23:58:44.041Z"
   },
   {
    "duration": 101,
    "start_time": "2022-05-29T23:58:47.389Z"
   },
   {
    "duration": 75,
    "start_time": "2022-05-29T23:59:54.590Z"
   },
   {
    "duration": 158,
    "start_time": "2022-05-30T00:03:38.316Z"
   },
   {
    "duration": 128,
    "start_time": "2022-05-30T00:05:28.783Z"
   },
   {
    "duration": 4,
    "start_time": "2022-05-30T00:06:51.417Z"
   },
   {
    "duration": 16,
    "start_time": "2022-05-30T00:07:44.577Z"
   },
   {
    "duration": 9,
    "start_time": "2022-05-30T00:08:41.762Z"
   },
   {
    "duration": 13,
    "start_time": "2022-05-30T00:09:08.865Z"
   },
   {
    "duration": 13,
    "start_time": "2022-05-30T00:09:24.253Z"
   },
   {
    "duration": 8,
    "start_time": "2022-05-30T00:09:34.826Z"
   },
   {
    "duration": 14,
    "start_time": "2022-05-30T00:09:55.787Z"
   },
   {
    "duration": 453,
    "start_time": "2022-05-30T00:10:57.402Z"
   },
   {
    "duration": 3,
    "start_time": "2022-05-30T00:10:57.858Z"
   },
   {
    "duration": 297,
    "start_time": "2022-05-30T00:10:57.863Z"
   },
   {
    "duration": 482,
    "start_time": "2022-05-30T00:10:58.162Z"
   },
   {
    "duration": 2,
    "start_time": "2022-05-30T00:10:58.647Z"
   },
   {
    "duration": 5,
    "start_time": "2022-05-30T00:10:58.651Z"
   },
   {
    "duration": 471,
    "start_time": "2022-05-30T00:10:58.657Z"
   },
   {
    "duration": 3,
    "start_time": "2022-05-30T00:10:59.130Z"
   },
   {
    "duration": 8,
    "start_time": "2022-05-30T00:10:59.134Z"
   },
   {
    "duration": 19,
    "start_time": "2022-05-30T00:10:59.144Z"
   },
   {
    "duration": 69,
    "start_time": "2022-05-30T00:10:59.165Z"
   },
   {
    "duration": 4,
    "start_time": "2022-05-30T00:10:59.235Z"
   },
   {
    "duration": 7,
    "start_time": "2022-05-30T00:10:59.240Z"
   },
   {
    "duration": 60,
    "start_time": "2022-05-30T00:10:59.249Z"
   },
   {
    "duration": 634,
    "start_time": "2022-05-30T00:10:59.311Z"
   },
   {
    "duration": 60,
    "start_time": "2022-05-30T00:10:59.947Z"
   },
   {
    "duration": 24,
    "start_time": "2022-05-30T00:11:00.008Z"
   },
   {
    "duration": 19,
    "start_time": "2022-05-30T00:11:00.034Z"
   },
   {
    "duration": 31,
    "start_time": "2022-05-30T00:11:00.055Z"
   },
   {
    "duration": 16,
    "start_time": "2022-05-30T00:11:00.088Z"
   },
   {
    "duration": 22,
    "start_time": "2022-05-30T00:11:00.105Z"
   },
   {
    "duration": 231,
    "start_time": "2022-05-30T00:11:00.129Z"
   },
   {
    "duration": 32,
    "start_time": "2022-05-30T00:11:00.362Z"
   },
   {
    "duration": 19,
    "start_time": "2022-05-30T00:11:00.396Z"
   },
   {
    "duration": 16,
    "start_time": "2022-05-30T00:11:00.417Z"
   },
   {
    "duration": 8,
    "start_time": "2022-05-30T00:11:00.435Z"
   },
   {
    "duration": 188,
    "start_time": "2022-05-30T00:11:00.444Z"
   },
   {
    "duration": 4,
    "start_time": "2022-05-30T00:11:00.634Z"
   },
   {
    "duration": 75,
    "start_time": "2022-05-30T00:11:00.640Z"
   },
   {
    "duration": 3,
    "start_time": "2022-05-30T00:11:00.717Z"
   },
   {
    "duration": 108,
    "start_time": "2022-05-30T00:11:00.722Z"
   },
   {
    "duration": 42,
    "start_time": "2022-05-30T00:11:00.832Z"
   },
   {
    "duration": 45,
    "start_time": "2022-05-30T00:11:00.883Z"
   },
   {
    "duration": 56,
    "start_time": "2022-05-30T00:11:00.929Z"
   },
   {
    "duration": 16,
    "start_time": "2022-05-30T00:11:27.211Z"
   },
   {
    "duration": 4,
    "start_time": "2022-05-30T00:12:39.119Z"
   },
   {
    "duration": 3,
    "start_time": "2022-05-30T00:12:48.282Z"
   },
   {
    "duration": 4,
    "start_time": "2022-05-30T00:13:28.298Z"
   },
   {
    "duration": 3,
    "start_time": "2022-05-30T00:14:11.059Z"
   },
   {
    "duration": 111,
    "start_time": "2022-05-30T00:15:48.987Z"
   },
   {
    "duration": 218,
    "start_time": "2022-05-30T00:16:17.662Z"
   },
   {
    "duration": 8,
    "start_time": "2022-05-30T00:20:13.511Z"
   },
   {
    "duration": 10,
    "start_time": "2022-05-30T00:20:18.118Z"
   },
   {
    "duration": 9,
    "start_time": "2022-05-30T00:22:40.643Z"
   },
   {
    "duration": 9,
    "start_time": "2022-05-30T00:25:34.020Z"
   },
   {
    "duration": 111,
    "start_time": "2022-05-30T00:25:41.064Z"
   },
   {
    "duration": 72,
    "start_time": "2022-05-30T00:25:43.851Z"
   },
   {
    "duration": 11,
    "start_time": "2022-05-30T00:26:00.119Z"
   },
   {
    "duration": 37,
    "start_time": "2022-05-30T00:26:22.074Z"
   },
   {
    "duration": 407,
    "start_time": "2022-05-30T08:44:40.920Z"
   },
   {
    "duration": 3,
    "start_time": "2022-05-30T08:44:41.329Z"
   },
   {
    "duration": 451,
    "start_time": "2022-05-30T08:44:41.333Z"
   },
   {
    "duration": 457,
    "start_time": "2022-05-30T08:44:41.786Z"
   },
   {
    "duration": 3,
    "start_time": "2022-05-30T08:44:42.244Z"
   },
   {
    "duration": 11,
    "start_time": "2022-05-30T08:44:42.248Z"
   },
   {
    "duration": 1155,
    "start_time": "2022-05-30T08:44:42.260Z"
   },
   {
    "duration": 3,
    "start_time": "2022-05-30T08:44:43.416Z"
   },
   {
    "duration": 7,
    "start_time": "2022-05-30T08:44:43.421Z"
   },
   {
    "duration": 25,
    "start_time": "2022-05-30T08:44:43.431Z"
   },
   {
    "duration": 66,
    "start_time": "2022-05-30T08:44:43.458Z"
   },
   {
    "duration": 4,
    "start_time": "2022-05-30T08:44:43.525Z"
   },
   {
    "duration": 7,
    "start_time": "2022-05-30T08:44:43.530Z"
   },
   {
    "duration": 61,
    "start_time": "2022-05-30T08:44:43.538Z"
   },
   {
    "duration": 692,
    "start_time": "2022-05-30T08:44:43.601Z"
   },
   {
    "duration": 41,
    "start_time": "2022-05-30T08:44:44.295Z"
   },
   {
    "duration": 25,
    "start_time": "2022-05-30T08:44:44.338Z"
   },
   {
    "duration": 31,
    "start_time": "2022-05-30T08:44:44.385Z"
   },
   {
    "duration": 4,
    "start_time": "2022-05-30T08:44:44.418Z"
   },
   {
    "duration": 8,
    "start_time": "2022-05-30T08:44:44.424Z"
   },
   {
    "duration": 9,
    "start_time": "2022-05-30T08:44:44.433Z"
   },
   {
    "duration": 231,
    "start_time": "2022-05-30T08:44:44.444Z"
   },
   {
    "duration": 30,
    "start_time": "2022-05-30T08:44:44.677Z"
   },
   {
    "duration": 17,
    "start_time": "2022-05-30T08:44:44.708Z"
   },
   {
    "duration": 16,
    "start_time": "2022-05-30T08:44:44.727Z"
   },
   {
    "duration": 7,
    "start_time": "2022-05-30T08:44:44.745Z"
   },
   {
    "duration": 174,
    "start_time": "2022-05-30T08:44:44.754Z"
   },
   {
    "duration": 3,
    "start_time": "2022-05-30T08:44:44.931Z"
   },
   {
    "duration": 50,
    "start_time": "2022-05-30T08:44:44.936Z"
   },
   {
    "duration": 3,
    "start_time": "2022-05-30T08:44:44.988Z"
   },
   {
    "duration": 72,
    "start_time": "2022-05-30T08:44:44.993Z"
   },
   {
    "duration": 47,
    "start_time": "2022-05-30T08:44:45.066Z"
   },
   {
    "duration": 46,
    "start_time": "2022-05-30T08:44:45.115Z"
   },
   {
    "duration": 36,
    "start_time": "2022-05-30T08:44:45.162Z"
   },
   {
    "duration": 153,
    "start_time": "2022-05-30T08:44:45.200Z"
   },
   {
    "duration": 70,
    "start_time": "2022-05-30T08:44:56.061Z"
   },
   {
    "duration": 130,
    "start_time": "2022-05-30T08:46:04.041Z"
   },
   {
    "duration": 5,
    "start_time": "2022-05-30T08:46:30.607Z"
   },
   {
    "duration": 68,
    "start_time": "2022-05-30T08:46:45.986Z"
   },
   {
    "duration": 48,
    "start_time": "2022-05-30T08:47:21.356Z"
   },
   {
    "duration": 42,
    "start_time": "2022-05-30T08:48:19.529Z"
   },
   {
    "duration": 51,
    "start_time": "2022-05-30T08:48:36.264Z"
   },
   {
    "duration": 9,
    "start_time": "2022-05-30T08:49:12.549Z"
   },
   {
    "duration": 580,
    "start_time": "2022-05-30T08:49:47.384Z"
   },
   {
    "duration": 12,
    "start_time": "2022-05-30T08:49:52.481Z"
   },
   {
    "duration": 17,
    "start_time": "2022-05-30T08:50:09.198Z"
   },
   {
    "duration": 108,
    "start_time": "2022-05-30T08:50:33.861Z"
   },
   {
    "duration": 4,
    "start_time": "2022-05-30T08:50:35.952Z"
   },
   {
    "duration": 463,
    "start_time": "2022-05-30T08:51:30.316Z"
   },
   {
    "duration": 3,
    "start_time": "2022-05-30T08:51:30.781Z"
   },
   {
    "duration": 268,
    "start_time": "2022-05-30T08:51:30.785Z"
   },
   {
    "duration": 480,
    "start_time": "2022-05-30T08:51:31.055Z"
   },
   {
    "duration": 3,
    "start_time": "2022-05-30T08:51:31.537Z"
   },
   {
    "duration": 14,
    "start_time": "2022-05-30T08:51:31.541Z"
   },
   {
    "duration": 450,
    "start_time": "2022-05-30T08:51:31.557Z"
   },
   {
    "duration": 3,
    "start_time": "2022-05-30T08:51:32.009Z"
   },
   {
    "duration": 9,
    "start_time": "2022-05-30T08:51:32.013Z"
   },
   {
    "duration": 23,
    "start_time": "2022-05-30T08:51:32.024Z"
   },
   {
    "duration": 92,
    "start_time": "2022-05-30T08:51:32.049Z"
   },
   {
    "duration": 5,
    "start_time": "2022-05-30T08:51:32.143Z"
   },
   {
    "duration": 19,
    "start_time": "2022-05-30T08:51:32.150Z"
   },
   {
    "duration": 57,
    "start_time": "2022-05-30T08:51:32.172Z"
   },
   {
    "duration": 699,
    "start_time": "2022-05-30T08:51:32.231Z"
   },
   {
    "duration": 70,
    "start_time": "2022-05-30T08:51:32.931Z"
   },
   {
    "duration": 23,
    "start_time": "2022-05-30T08:51:33.002Z"
   },
   {
    "duration": 20,
    "start_time": "2022-05-30T08:51:33.027Z"
   },
   {
    "duration": 4,
    "start_time": "2022-05-30T08:51:33.049Z"
   },
   {
    "duration": 10,
    "start_time": "2022-05-30T08:51:33.054Z"
   },
   {
    "duration": 23,
    "start_time": "2022-05-30T08:51:33.065Z"
   },
   {
    "duration": 206,
    "start_time": "2022-05-30T08:51:33.090Z"
   },
   {
    "duration": 22,
    "start_time": "2022-05-30T08:51:33.298Z"
   },
   {
    "duration": 25,
    "start_time": "2022-05-30T08:51:33.321Z"
   },
   {
    "duration": 14,
    "start_time": "2022-05-30T08:51:33.347Z"
   },
   {
    "duration": 22,
    "start_time": "2022-05-30T08:51:33.363Z"
   },
   {
    "duration": 145,
    "start_time": "2022-05-30T08:51:33.386Z"
   },
   {
    "duration": 3,
    "start_time": "2022-05-30T08:51:33.533Z"
   },
   {
    "duration": 15,
    "start_time": "2022-05-30T08:51:33.537Z"
   },
   {
    "duration": 54,
    "start_time": "2022-05-30T08:51:33.553Z"
   },
   {
    "duration": 3,
    "start_time": "2022-05-30T08:51:33.609Z"
   },
   {
    "duration": 50,
    "start_time": "2022-05-30T08:51:33.613Z"
   },
   {
    "duration": 53,
    "start_time": "2022-05-30T08:51:33.664Z"
   },
   {
    "duration": 43,
    "start_time": "2022-05-30T08:51:33.718Z"
   },
   {
    "duration": 35,
    "start_time": "2022-05-30T08:51:33.763Z"
   },
   {
    "duration": 145,
    "start_time": "2022-05-30T08:51:33.800Z"
   },
   {
    "duration": 4,
    "start_time": "2022-05-30T08:51:33.947Z"
   },
   {
    "duration": 83,
    "start_time": "2022-05-30T08:51:33.953Z"
   },
   {
    "duration": 110,
    "start_time": "2022-05-30T08:52:47.373Z"
   },
   {
    "duration": 10,
    "start_time": "2022-05-30T08:52:54.262Z"
   },
   {
    "duration": 75,
    "start_time": "2022-05-30T08:53:00.272Z"
   },
   {
    "duration": 58,
    "start_time": "2022-05-30T08:53:18.359Z"
   },
   {
    "duration": 44,
    "start_time": "2022-05-30T08:54:06.950Z"
   },
   {
    "duration": 53,
    "start_time": "2022-05-30T08:54:47.027Z"
   },
   {
    "duration": 8,
    "start_time": "2022-05-30T08:56:43.403Z"
   },
   {
    "duration": 27,
    "start_time": "2022-05-30T08:56:46.911Z"
   },
   {
    "duration": 29,
    "start_time": "2022-05-30T08:56:48.871Z"
   },
   {
    "duration": 5,
    "start_time": "2022-05-30T08:58:04.270Z"
   },
   {
    "duration": 424,
    "start_time": "2022-05-30T09:00:38.058Z"
   },
   {
    "duration": 46,
    "start_time": "2022-05-30T09:01:10.938Z"
   },
   {
    "duration": 466,
    "start_time": "2022-05-30T09:01:40.958Z"
   },
   {
    "duration": 410,
    "start_time": "2022-05-30T09:03:05.123Z"
   },
   {
    "duration": 3,
    "start_time": "2022-05-30T09:03:05.535Z"
   },
   {
    "duration": 328,
    "start_time": "2022-05-30T09:03:05.540Z"
   },
   {
    "duration": 489,
    "start_time": "2022-05-30T09:03:05.870Z"
   },
   {
    "duration": 2,
    "start_time": "2022-05-30T09:03:06.361Z"
   },
   {
    "duration": 10,
    "start_time": "2022-05-30T09:03:06.365Z"
   },
   {
    "duration": 441,
    "start_time": "2022-05-30T09:03:06.377Z"
   },
   {
    "duration": 3,
    "start_time": "2022-05-30T09:03:06.820Z"
   },
   {
    "duration": 16,
    "start_time": "2022-05-30T09:03:06.825Z"
   },
   {
    "duration": 27,
    "start_time": "2022-05-30T09:03:06.845Z"
   },
   {
    "duration": 71,
    "start_time": "2022-05-30T09:03:06.874Z"
   },
   {
    "duration": 5,
    "start_time": "2022-05-30T09:03:06.946Z"
   },
   {
    "duration": 7,
    "start_time": "2022-05-30T09:03:06.953Z"
   },
   {
    "duration": 63,
    "start_time": "2022-05-30T09:03:06.962Z"
   },
   {
    "duration": 774,
    "start_time": "2022-05-30T09:03:07.027Z"
   },
   {
    "duration": 33,
    "start_time": "2022-05-30T09:03:07.803Z"
   },
   {
    "duration": 56,
    "start_time": "2022-05-30T09:03:07.838Z"
   },
   {
    "duration": 27,
    "start_time": "2022-05-30T09:03:07.896Z"
   },
   {
    "duration": 5,
    "start_time": "2022-05-30T09:03:07.926Z"
   },
   {
    "duration": 16,
    "start_time": "2022-05-30T09:03:07.933Z"
   },
   {
    "duration": 25,
    "start_time": "2022-05-30T09:03:07.952Z"
   },
   {
    "duration": 219,
    "start_time": "2022-05-30T09:03:07.980Z"
   },
   {
    "duration": 22,
    "start_time": "2022-05-30T09:03:08.200Z"
   },
   {
    "duration": 16,
    "start_time": "2022-05-30T09:03:08.223Z"
   },
   {
    "duration": 16,
    "start_time": "2022-05-30T09:03:08.241Z"
   },
   {
    "duration": 31,
    "start_time": "2022-05-30T09:03:08.259Z"
   },
   {
    "duration": 154,
    "start_time": "2022-05-30T09:03:08.292Z"
   },
   {
    "duration": 3,
    "start_time": "2022-05-30T09:03:08.450Z"
   },
   {
    "duration": 13,
    "start_time": "2022-05-30T09:03:08.455Z"
   },
   {
    "duration": 56,
    "start_time": "2022-05-30T09:03:08.470Z"
   },
   {
    "duration": 4,
    "start_time": "2022-05-30T09:03:08.527Z"
   },
   {
    "duration": 62,
    "start_time": "2022-05-30T09:03:08.532Z"
   },
   {
    "duration": 39,
    "start_time": "2022-05-30T09:03:08.596Z"
   },
   {
    "duration": 62,
    "start_time": "2022-05-30T09:03:08.636Z"
   },
   {
    "duration": 19,
    "start_time": "2022-05-30T09:03:08.700Z"
   },
   {
    "duration": 168,
    "start_time": "2022-05-30T09:03:08.721Z"
   },
   {
    "duration": 7,
    "start_time": "2022-05-30T09:03:08.891Z"
   },
   {
    "duration": 71,
    "start_time": "2022-05-30T09:03:08.900Z"
   },
   {
    "duration": 39,
    "start_time": "2022-05-30T09:03:08.973Z"
   },
   {
    "duration": 2,
    "start_time": "2022-05-30T09:03:09.015Z"
   },
   {
    "duration": 485,
    "start_time": "2022-05-30T09:04:04.408Z"
   },
   {
    "duration": 438,
    "start_time": "2022-05-30T09:04:23.931Z"
   },
   {
    "duration": 8,
    "start_time": "2022-05-30T09:05:29.595Z"
   },
   {
    "duration": 30,
    "start_time": "2022-05-30T09:06:12.511Z"
   },
   {
    "duration": 6,
    "start_time": "2022-05-30T09:11:17.355Z"
   },
   {
    "duration": 27,
    "start_time": "2022-05-30T09:11:20.766Z"
   },
   {
    "duration": 9,
    "start_time": "2022-05-30T09:12:14.327Z"
   },
   {
    "duration": 134,
    "start_time": "2022-05-30T09:13:23.271Z"
   },
   {
    "duration": 30,
    "start_time": "2022-05-30T09:14:14.511Z"
   },
   {
    "duration": 6,
    "start_time": "2022-05-30T09:14:21.130Z"
   },
   {
    "duration": 11,
    "start_time": "2022-05-30T09:14:31.146Z"
   },
   {
    "duration": 33,
    "start_time": "2022-05-30T09:14:41.106Z"
   },
   {
    "duration": 51,
    "start_time": "2022-05-30T09:15:42.234Z"
   },
   {
    "duration": 26,
    "start_time": "2022-05-30T09:18:43.167Z"
   },
   {
    "duration": 10,
    "start_time": "2022-05-30T09:22:50.048Z"
   },
   {
    "duration": 7,
    "start_time": "2022-05-30T09:23:10.699Z"
   },
   {
    "duration": 24,
    "start_time": "2022-05-30T09:23:18.253Z"
   },
   {
    "duration": 5,
    "start_time": "2022-05-30T09:26:01.912Z"
   },
   {
    "duration": 38,
    "start_time": "2022-05-30T09:26:07.553Z"
   },
   {
    "duration": 6,
    "start_time": "2022-05-30T09:26:16.919Z"
   },
   {
    "duration": 4,
    "start_time": "2022-05-30T09:26:36.599Z"
   },
   {
    "duration": 27,
    "start_time": "2022-05-30T09:26:45.900Z"
   },
   {
    "duration": 494,
    "start_time": "2022-05-30T09:28:15.971Z"
   },
   {
    "duration": 4,
    "start_time": "2022-05-30T09:28:16.466Z"
   },
   {
    "duration": 326,
    "start_time": "2022-05-30T09:28:16.471Z"
   },
   {
    "duration": 525,
    "start_time": "2022-05-30T09:28:16.801Z"
   },
   {
    "duration": 3,
    "start_time": "2022-05-30T09:28:17.327Z"
   },
   {
    "duration": 17,
    "start_time": "2022-05-30T09:28:17.332Z"
   },
   {
    "duration": 510,
    "start_time": "2022-05-30T09:28:17.351Z"
   },
   {
    "duration": 4,
    "start_time": "2022-05-30T09:28:17.863Z"
   },
   {
    "duration": 30,
    "start_time": "2022-05-30T09:28:17.869Z"
   },
   {
    "duration": 44,
    "start_time": "2022-05-30T09:28:17.904Z"
   },
   {
    "duration": 116,
    "start_time": "2022-05-30T09:28:17.950Z"
   },
   {
    "duration": 5,
    "start_time": "2022-05-30T09:28:18.068Z"
   },
   {
    "duration": 19,
    "start_time": "2022-05-30T09:28:18.089Z"
   },
   {
    "duration": 90,
    "start_time": "2022-05-30T09:28:18.110Z"
   },
   {
    "duration": 725,
    "start_time": "2022-05-30T09:28:18.203Z"
   },
   {
    "duration": 79,
    "start_time": "2022-05-30T09:28:18.930Z"
   },
   {
    "duration": 30,
    "start_time": "2022-05-30T09:28:19.012Z"
   },
   {
    "duration": 21,
    "start_time": "2022-05-30T09:28:19.043Z"
   },
   {
    "duration": 19,
    "start_time": "2022-05-30T09:28:19.066Z"
   },
   {
    "duration": 16,
    "start_time": "2022-05-30T09:28:19.087Z"
   },
   {
    "duration": 13,
    "start_time": "2022-05-30T09:28:19.107Z"
   },
   {
    "duration": 215,
    "start_time": "2022-05-30T09:28:19.122Z"
   },
   {
    "duration": 22,
    "start_time": "2022-05-30T09:28:19.338Z"
   },
   {
    "duration": 31,
    "start_time": "2022-05-30T09:28:19.362Z"
   },
   {
    "duration": 22,
    "start_time": "2022-05-30T09:28:19.396Z"
   },
   {
    "duration": 7,
    "start_time": "2022-05-30T09:28:19.420Z"
   },
   {
    "duration": 178,
    "start_time": "2022-05-30T09:28:19.429Z"
   },
   {
    "duration": 3,
    "start_time": "2022-05-30T09:28:19.611Z"
   },
   {
    "duration": 20,
    "start_time": "2022-05-30T09:28:19.616Z"
   },
   {
    "duration": 56,
    "start_time": "2022-05-30T09:28:19.637Z"
   },
   {
    "duration": 5,
    "start_time": "2022-05-30T09:28:19.696Z"
   },
   {
    "duration": 54,
    "start_time": "2022-05-30T09:28:19.703Z"
   },
   {
    "duration": 52,
    "start_time": "2022-05-30T09:28:19.759Z"
   },
   {
    "duration": 42,
    "start_time": "2022-05-30T09:28:19.813Z"
   },
   {
    "duration": 39,
    "start_time": "2022-05-30T09:28:19.856Z"
   },
   {
    "duration": 159,
    "start_time": "2022-05-30T09:28:19.897Z"
   },
   {
    "duration": 60,
    "start_time": "2022-05-30T09:28:20.058Z"
   },
   {
    "duration": 64,
    "start_time": "2022-05-30T09:28:20.120Z"
   },
   {
    "duration": 32,
    "start_time": "2022-05-30T09:28:20.186Z"
   },
   {
    "duration": 3,
    "start_time": "2022-05-30T09:28:20.220Z"
   },
   {
    "duration": 12,
    "start_time": "2022-05-30T09:28:36.837Z"
   },
   {
    "duration": 127,
    "start_time": "2022-05-30T09:28:49.167Z"
   },
   {
    "duration": 32,
    "start_time": "2022-05-30T09:28:55.863Z"
   },
   {
    "duration": 36,
    "start_time": "2022-05-30T09:29:05.123Z"
   },
   {
    "duration": 26,
    "start_time": "2022-05-30T09:34:24.021Z"
   },
   {
    "duration": 17,
    "start_time": "2022-05-30T09:34:25.862Z"
   },
   {
    "duration": 12,
    "start_time": "2022-05-30T09:34:44.960Z"
   },
   {
    "duration": 58,
    "start_time": "2022-05-30T16:14:26.417Z"
   },
   {
    "duration": 405,
    "start_time": "2022-05-30T16:14:34.561Z"
   },
   {
    "duration": 3,
    "start_time": "2022-05-30T16:14:34.968Z"
   },
   {
    "duration": 428,
    "start_time": "2022-05-30T16:14:34.972Z"
   },
   {
    "duration": 473,
    "start_time": "2022-05-30T16:14:35.402Z"
   },
   {
    "duration": 2,
    "start_time": "2022-05-30T16:14:35.877Z"
   },
   {
    "duration": 9,
    "start_time": "2022-05-30T16:14:35.881Z"
   },
   {
    "duration": 954,
    "start_time": "2022-05-30T16:14:35.892Z"
   },
   {
    "duration": 3,
    "start_time": "2022-05-30T16:14:36.848Z"
   },
   {
    "duration": 13,
    "start_time": "2022-05-30T16:14:36.852Z"
   },
   {
    "duration": 20,
    "start_time": "2022-05-30T16:14:36.868Z"
   },
   {
    "duration": 71,
    "start_time": "2022-05-30T16:14:36.889Z"
   },
   {
    "duration": 4,
    "start_time": "2022-05-30T16:14:36.962Z"
   },
   {
    "duration": 16,
    "start_time": "2022-05-30T16:14:36.967Z"
   },
   {
    "duration": 50,
    "start_time": "2022-05-30T16:14:36.985Z"
   },
   {
    "duration": 624,
    "start_time": "2022-05-30T16:14:37.037Z"
   },
   {
    "duration": 64,
    "start_time": "2022-05-30T16:14:37.662Z"
   },
   {
    "duration": 28,
    "start_time": "2022-05-30T16:14:37.729Z"
   },
   {
    "duration": 19,
    "start_time": "2022-05-30T16:14:37.759Z"
   },
   {
    "duration": 4,
    "start_time": "2022-05-30T16:14:37.780Z"
   },
   {
    "duration": 9,
    "start_time": "2022-05-30T16:14:37.786Z"
   },
   {
    "duration": 29,
    "start_time": "2022-05-30T16:14:37.797Z"
   },
   {
    "duration": 206,
    "start_time": "2022-05-30T16:14:37.828Z"
   },
   {
    "duration": 22,
    "start_time": "2022-05-30T16:14:38.036Z"
   },
   {
    "duration": 17,
    "start_time": "2022-05-30T16:14:38.059Z"
   },
   {
    "duration": 23,
    "start_time": "2022-05-30T16:14:38.078Z"
   },
   {
    "duration": 23,
    "start_time": "2022-05-30T16:14:38.103Z"
   },
   {
    "duration": 145,
    "start_time": "2022-05-30T16:14:38.128Z"
   },
   {
    "duration": 3,
    "start_time": "2022-05-30T16:14:38.277Z"
   },
   {
    "duration": 19,
    "start_time": "2022-05-30T16:14:38.281Z"
   },
   {
    "duration": 49,
    "start_time": "2022-05-30T16:14:38.301Z"
   },
   {
    "duration": 4,
    "start_time": "2022-05-30T16:14:38.352Z"
   },
   {
    "duration": 54,
    "start_time": "2022-05-30T16:14:38.357Z"
   },
   {
    "duration": 51,
    "start_time": "2022-05-30T16:14:38.412Z"
   },
   {
    "duration": 44,
    "start_time": "2022-05-30T16:14:38.464Z"
   },
   {
    "duration": 35,
    "start_time": "2022-05-30T16:14:38.509Z"
   },
   {
    "duration": 151,
    "start_time": "2022-05-30T16:14:38.545Z"
   },
   {
    "duration": 63,
    "start_time": "2022-05-30T16:14:38.698Z"
   },
   {
    "duration": 48,
    "start_time": "2022-05-30T16:14:38.763Z"
   },
   {
    "duration": 24,
    "start_time": "2022-05-30T16:14:38.813Z"
   },
   {
    "duration": 6,
    "start_time": "2022-05-30T16:14:38.839Z"
   },
   {
    "duration": 29,
    "start_time": "2022-05-30T16:16:07.222Z"
   },
   {
    "duration": 27,
    "start_time": "2022-05-30T16:16:10.190Z"
   },
   {
    "duration": 13,
    "start_time": "2022-05-30T16:16:23.778Z"
   },
   {
    "duration": 8,
    "start_time": "2022-05-30T16:17:58.761Z"
   },
   {
    "duration": 11,
    "start_time": "2022-05-30T16:18:21.478Z"
   },
   {
    "duration": 30,
    "start_time": "2022-05-30T16:19:33.001Z"
   },
   {
    "duration": 111,
    "start_time": "2022-05-30T16:29:05.777Z"
   },
   {
    "duration": 8,
    "start_time": "2022-05-30T16:29:11.984Z"
   },
   {
    "duration": 10,
    "start_time": "2022-05-30T16:29:21.087Z"
   },
   {
    "duration": 5,
    "start_time": "2022-05-30T16:29:23.176Z"
   },
   {
    "duration": 5,
    "start_time": "2022-05-30T16:29:37.869Z"
   },
   {
    "duration": 5,
    "start_time": "2022-05-30T16:29:49.976Z"
   },
   {
    "duration": 23,
    "start_time": "2022-05-30T16:30:14.271Z"
   },
   {
    "duration": 25,
    "start_time": "2022-05-30T16:33:38.876Z"
   },
   {
    "duration": 16,
    "start_time": "2022-05-30T16:33:43.156Z"
   },
   {
    "duration": 17,
    "start_time": "2022-05-30T16:34:04.780Z"
   },
   {
    "duration": 12,
    "start_time": "2022-05-30T16:34:07.512Z"
   },
   {
    "duration": 35,
    "start_time": "2022-05-30T16:37:11.458Z"
   },
   {
    "duration": 37,
    "start_time": "2022-05-30T16:37:19.236Z"
   },
   {
    "duration": 60,
    "start_time": "2022-05-30T16:37:32.332Z"
   },
   {
    "duration": 38,
    "start_time": "2022-05-30T16:37:37.285Z"
   },
   {
    "duration": 18,
    "start_time": "2022-05-30T16:39:25.607Z"
   },
   {
    "duration": 18,
    "start_time": "2022-05-30T16:39:29.724Z"
   },
   {
    "duration": 53,
    "start_time": "2022-05-30T16:39:31.948Z"
   },
   {
    "duration": 37,
    "start_time": "2022-05-30T16:39:36.441Z"
   },
   {
    "duration": 122,
    "start_time": "2022-05-30T16:41:51.228Z"
   },
   {
    "duration": 22,
    "start_time": "2022-05-30T16:42:22.308Z"
   },
   {
    "duration": 46,
    "start_time": "2022-05-30T16:43:19.646Z"
   },
   {
    "duration": 21,
    "start_time": "2022-05-30T16:46:00.943Z"
   },
   {
    "duration": 34,
    "start_time": "2022-05-30T16:46:53.738Z"
   },
   {
    "duration": 9,
    "start_time": "2022-05-30T16:49:20.244Z"
   },
   {
    "duration": 10,
    "start_time": "2022-05-30T16:49:25.834Z"
   },
   {
    "duration": 403,
    "start_time": "2022-05-30T16:49:28.059Z"
   },
   {
    "duration": 51,
    "start_time": "2022-05-30T16:49:36.284Z"
   },
   {
    "duration": 15,
    "start_time": "2022-05-30T16:49:44.468Z"
   },
   {
    "duration": 604,
    "start_time": "2022-05-30T16:50:10.372Z"
   },
   {
    "duration": 6,
    "start_time": "2022-05-30T16:50:17.088Z"
   },
   {
    "duration": 4,
    "start_time": "2022-05-30T16:50:57.068Z"
   },
   {
    "duration": 19,
    "start_time": "2022-05-30T16:51:47.725Z"
   },
   {
    "duration": 17,
    "start_time": "2022-05-30T16:51:51.696Z"
   },
   {
    "duration": 14,
    "start_time": "2022-05-30T16:52:27.473Z"
   },
   {
    "duration": 17,
    "start_time": "2022-05-30T16:52:34.501Z"
   },
   {
    "duration": 20,
    "start_time": "2022-05-30T16:52:38.477Z"
   },
   {
    "duration": 10,
    "start_time": "2022-05-30T16:58:57.310Z"
   },
   {
    "duration": 22,
    "start_time": "2022-05-30T16:59:01.402Z"
   },
   {
    "duration": 33,
    "start_time": "2022-05-30T16:59:35.114Z"
   },
   {
    "duration": 22,
    "start_time": "2022-05-30T17:00:18.550Z"
   },
   {
    "duration": 382,
    "start_time": "2022-05-30T17:00:41.674Z"
   },
   {
    "duration": 4,
    "start_time": "2022-05-30T17:00:42.060Z"
   },
   {
    "duration": 288,
    "start_time": "2022-05-30T17:00:42.066Z"
   },
   {
    "duration": 415,
    "start_time": "2022-05-30T17:00:42.356Z"
   },
   {
    "duration": 3,
    "start_time": "2022-05-30T17:00:42.773Z"
   },
   {
    "duration": 9,
    "start_time": "2022-05-30T17:00:42.777Z"
   },
   {
    "duration": 456,
    "start_time": "2022-05-30T17:00:42.788Z"
   },
   {
    "duration": 3,
    "start_time": "2022-05-30T17:00:43.246Z"
   },
   {
    "duration": 14,
    "start_time": "2022-05-30T17:00:43.251Z"
   },
   {
    "duration": 25,
    "start_time": "2022-05-30T17:00:43.267Z"
   },
   {
    "duration": 89,
    "start_time": "2022-05-30T17:00:43.294Z"
   },
   {
    "duration": 6,
    "start_time": "2022-05-30T17:00:43.385Z"
   },
   {
    "duration": 18,
    "start_time": "2022-05-30T17:00:43.399Z"
   },
   {
    "duration": 64,
    "start_time": "2022-05-30T17:00:43.425Z"
   },
   {
    "duration": 593,
    "start_time": "2022-05-30T17:00:43.491Z"
   },
   {
    "duration": 61,
    "start_time": "2022-05-30T17:00:44.085Z"
   },
   {
    "duration": 38,
    "start_time": "2022-05-30T17:00:44.148Z"
   },
   {
    "duration": 50,
    "start_time": "2022-05-30T17:00:44.187Z"
   },
   {
    "duration": 6,
    "start_time": "2022-05-30T17:00:44.240Z"
   },
   {
    "duration": 10,
    "start_time": "2022-05-30T17:00:44.248Z"
   },
   {
    "duration": 10,
    "start_time": "2022-05-30T17:00:44.260Z"
   },
   {
    "duration": 235,
    "start_time": "2022-05-30T17:00:44.271Z"
   },
   {
    "duration": 30,
    "start_time": "2022-05-30T17:00:44.509Z"
   },
   {
    "duration": 47,
    "start_time": "2022-05-30T17:00:44.541Z"
   },
   {
    "duration": 25,
    "start_time": "2022-05-30T17:00:44.591Z"
   },
   {
    "duration": 38,
    "start_time": "2022-05-30T17:00:44.618Z"
   },
   {
    "duration": 184,
    "start_time": "2022-05-30T17:00:44.658Z"
   },
   {
    "duration": 5,
    "start_time": "2022-05-30T17:00:44.844Z"
   },
   {
    "duration": 15,
    "start_time": "2022-05-30T17:00:44.852Z"
   },
   {
    "duration": 10,
    "start_time": "2022-05-30T17:00:44.870Z"
   },
   {
    "duration": 59,
    "start_time": "2022-05-30T17:00:44.881Z"
   },
   {
    "duration": 43,
    "start_time": "2022-05-30T17:00:44.942Z"
   },
   {
    "duration": 65,
    "start_time": "2022-05-30T17:00:44.987Z"
   },
   {
    "duration": 50,
    "start_time": "2022-05-30T17:00:45.053Z"
   },
   {
    "duration": 43,
    "start_time": "2022-05-30T17:00:45.105Z"
   },
   {
    "duration": 5,
    "start_time": "2022-05-30T17:00:45.149Z"
   },
   {
    "duration": 30,
    "start_time": "2022-05-30T17:02:12.564Z"
   },
   {
    "duration": 449,
    "start_time": "2022-05-30T17:02:45.646Z"
   },
   {
    "duration": 7,
    "start_time": "2022-05-30T17:02:52.567Z"
   },
   {
    "duration": 12,
    "start_time": "2022-05-30T17:02:59.159Z"
   },
   {
    "duration": 10,
    "start_time": "2022-05-30T17:03:01.333Z"
   },
   {
    "duration": 12,
    "start_time": "2022-05-30T17:03:04.708Z"
   },
   {
    "duration": 28,
    "start_time": "2022-05-30T17:04:41.361Z"
   },
   {
    "duration": 11,
    "start_time": "2022-05-30T17:05:21.673Z"
   },
   {
    "duration": 8,
    "start_time": "2022-05-30T17:05:25.863Z"
   },
   {
    "duration": 33,
    "start_time": "2022-05-30T17:05:46.208Z"
   },
   {
    "duration": 10,
    "start_time": "2022-05-30T17:06:07.501Z"
   },
   {
    "duration": 6,
    "start_time": "2022-05-30T17:06:10.400Z"
   },
   {
    "duration": 4,
    "start_time": "2022-05-30T17:09:11.771Z"
   },
   {
    "duration": 7,
    "start_time": "2022-05-30T17:09:13.401Z"
   },
   {
    "duration": 6,
    "start_time": "2022-05-30T17:11:10.903Z"
   },
   {
    "duration": 7,
    "start_time": "2022-05-30T17:11:22.069Z"
   },
   {
    "duration": 9,
    "start_time": "2022-05-30T17:11:33.352Z"
   },
   {
    "duration": 6,
    "start_time": "2022-05-30T17:11:37.261Z"
   },
   {
    "duration": 3,
    "start_time": "2022-05-30T17:15:11.810Z"
   },
   {
    "duration": 33,
    "start_time": "2022-05-30T17:15:13.049Z"
   },
   {
    "duration": 37,
    "start_time": "2022-05-30T17:15:23.446Z"
   },
   {
    "duration": 32,
    "start_time": "2022-05-30T17:15:24.798Z"
   },
   {
    "duration": 39,
    "start_time": "2022-05-30T17:15:49.318Z"
   },
   {
    "duration": 21,
    "start_time": "2022-05-30T17:16:26.677Z"
   },
   {
    "duration": 5,
    "start_time": "2022-05-30T17:16:49.477Z"
   },
   {
    "duration": 35,
    "start_time": "2022-05-30T17:17:17.097Z"
   },
   {
    "duration": 5,
    "start_time": "2022-05-30T17:17:17.800Z"
   },
   {
    "duration": 39,
    "start_time": "2022-05-30T17:17:27.237Z"
   },
   {
    "duration": 6,
    "start_time": "2022-05-30T17:17:52.706Z"
   },
   {
    "duration": 7,
    "start_time": "2022-05-30T17:17:53.493Z"
   },
   {
    "duration": 9,
    "start_time": "2022-05-30T17:18:48.766Z"
   },
   {
    "duration": 39,
    "start_time": "2022-05-30T17:18:51.993Z"
   },
   {
    "duration": 5,
    "start_time": "2022-05-30T17:19:44.861Z"
   },
   {
    "duration": 21,
    "start_time": "2022-05-30T17:19:46.865Z"
   },
   {
    "duration": 30,
    "start_time": "2022-05-30T17:22:41.180Z"
   },
   {
    "duration": 39,
    "start_time": "2022-05-30T17:22:58.512Z"
   },
   {
    "duration": 32,
    "start_time": "2022-05-30T17:24:20.997Z"
   },
   {
    "duration": 6,
    "start_time": "2022-05-30T17:25:14.720Z"
   },
   {
    "duration": 24,
    "start_time": "2022-05-30T17:25:23.685Z"
   },
   {
    "duration": 8,
    "start_time": "2022-05-30T17:25:32.361Z"
   },
   {
    "duration": 24,
    "start_time": "2022-05-30T17:26:07.576Z"
   },
   {
    "duration": 15,
    "start_time": "2022-05-30T17:26:28.163Z"
   },
   {
    "duration": 7,
    "start_time": "2022-05-30T17:26:43.439Z"
   },
   {
    "duration": 6,
    "start_time": "2022-05-30T17:26:48.833Z"
   },
   {
    "duration": 7,
    "start_time": "2022-05-30T17:27:08.508Z"
   },
   {
    "duration": 8,
    "start_time": "2022-05-30T17:27:11.596Z"
   },
   {
    "duration": 12,
    "start_time": "2022-05-30T17:28:46.901Z"
   },
   {
    "duration": 14,
    "start_time": "2022-05-30T17:29:04.359Z"
   },
   {
    "duration": 31,
    "start_time": "2022-05-30T17:29:14.758Z"
   },
   {
    "duration": 13,
    "start_time": "2022-05-30T17:29:18.704Z"
   },
   {
    "duration": 445,
    "start_time": "2022-05-30T17:32:55.058Z"
   },
   {
    "duration": 21,
    "start_time": "2022-05-30T17:37:45.233Z"
   },
   {
    "duration": 37,
    "start_time": "2022-05-30T17:37:47.090Z"
   },
   {
    "duration": 392,
    "start_time": "2022-05-30T17:38:04.564Z"
   },
   {
    "duration": 2,
    "start_time": "2022-05-30T17:38:04.958Z"
   },
   {
    "duration": 295,
    "start_time": "2022-05-30T17:38:04.962Z"
   },
   {
    "duration": 429,
    "start_time": "2022-05-30T17:38:05.259Z"
   },
   {
    "duration": 3,
    "start_time": "2022-05-30T17:38:05.690Z"
   },
   {
    "duration": 10,
    "start_time": "2022-05-30T17:38:05.694Z"
   },
   {
    "duration": 434,
    "start_time": "2022-05-30T17:38:05.706Z"
   },
   {
    "duration": 3,
    "start_time": "2022-05-30T17:38:06.142Z"
   },
   {
    "duration": 10,
    "start_time": "2022-05-30T17:38:06.146Z"
   },
   {
    "duration": 24,
    "start_time": "2022-05-30T17:38:06.158Z"
   },
   {
    "duration": 75,
    "start_time": "2022-05-30T17:38:06.183Z"
   },
   {
    "duration": 6,
    "start_time": "2022-05-30T17:38:06.260Z"
   },
   {
    "duration": 11,
    "start_time": "2022-05-30T17:38:06.267Z"
   },
   {
    "duration": 55,
    "start_time": "2022-05-30T17:38:06.283Z"
   },
   {
    "duration": 710,
    "start_time": "2022-05-30T17:38:06.339Z"
   },
   {
    "duration": 33,
    "start_time": "2022-05-30T17:38:07.051Z"
   },
   {
    "duration": 54,
    "start_time": "2022-05-30T17:38:07.086Z"
   },
   {
    "duration": 20,
    "start_time": "2022-05-30T17:38:07.142Z"
   },
   {
    "duration": 5,
    "start_time": "2022-05-30T17:38:07.163Z"
   },
   {
    "duration": 7,
    "start_time": "2022-05-30T17:38:07.169Z"
   },
   {
    "duration": 8,
    "start_time": "2022-05-30T17:38:07.177Z"
   },
   {
    "duration": 229,
    "start_time": "2022-05-30T17:38:07.186Z"
   },
   {
    "duration": 28,
    "start_time": "2022-05-30T17:38:07.417Z"
   },
   {
    "duration": 17,
    "start_time": "2022-05-30T17:38:07.447Z"
   },
   {
    "duration": 15,
    "start_time": "2022-05-30T17:38:07.466Z"
   },
   {
    "duration": 9,
    "start_time": "2022-05-30T17:38:07.483Z"
   },
   {
    "duration": 4,
    "start_time": "2022-05-30T17:38:07.493Z"
   },
   {
    "duration": 37,
    "start_time": "2022-05-30T17:38:07.498Z"
   },
   {
    "duration": 6,
    "start_time": "2022-05-30T17:38:07.537Z"
   },
   {
    "duration": 58,
    "start_time": "2022-05-30T17:38:07.544Z"
   },
   {
    "duration": 33,
    "start_time": "2022-05-30T17:38:07.604Z"
   },
   {
    "duration": 31,
    "start_time": "2022-05-30T17:38:07.639Z"
   },
   {
    "duration": 26,
    "start_time": "2022-05-30T17:38:07.672Z"
   },
   {
    "duration": 34,
    "start_time": "2022-05-30T17:38:07.700Z"
   },
   {
    "duration": 18,
    "start_time": "2022-05-30T17:38:07.735Z"
   },
   {
    "duration": 2,
    "start_time": "2022-05-30T17:38:07.755Z"
   },
   {
    "duration": 148,
    "start_time": "2022-05-30T17:38:07.759Z"
   },
   {
    "duration": 18,
    "start_time": "2022-05-30T17:39:39.836Z"
   },
   {
    "duration": 21,
    "start_time": "2022-05-30T17:44:44.315Z"
   },
   {
    "duration": 23,
    "start_time": "2022-05-30T17:44:49.903Z"
   },
   {
    "duration": 418,
    "start_time": "2022-05-30T17:45:10.829Z"
   },
   {
    "duration": 3,
    "start_time": "2022-05-30T17:45:11.249Z"
   },
   {
    "duration": 271,
    "start_time": "2022-05-30T17:45:11.253Z"
   },
   {
    "duration": 443,
    "start_time": "2022-05-30T17:45:11.527Z"
   },
   {
    "duration": 3,
    "start_time": "2022-05-30T17:45:11.972Z"
   },
   {
    "duration": 5,
    "start_time": "2022-05-30T17:45:11.978Z"
   },
   {
    "duration": 440,
    "start_time": "2022-05-30T17:45:11.985Z"
   },
   {
    "duration": 4,
    "start_time": "2022-05-30T17:45:12.426Z"
   },
   {
    "duration": 9,
    "start_time": "2022-05-30T17:45:12.431Z"
   },
   {
    "duration": 28,
    "start_time": "2022-05-30T17:45:12.443Z"
   },
   {
    "duration": 88,
    "start_time": "2022-05-30T17:45:12.473Z"
   },
   {
    "duration": 5,
    "start_time": "2022-05-30T17:45:12.563Z"
   },
   {
    "duration": 12,
    "start_time": "2022-05-30T17:45:12.569Z"
   },
   {
    "duration": 85,
    "start_time": "2022-05-30T17:45:12.582Z"
   },
   {
    "duration": 700,
    "start_time": "2022-05-30T17:45:12.669Z"
   },
   {
    "duration": 69,
    "start_time": "2022-05-30T17:45:13.371Z"
   },
   {
    "duration": 22,
    "start_time": "2022-05-30T17:45:13.442Z"
   },
   {
    "duration": 32,
    "start_time": "2022-05-30T17:45:13.467Z"
   },
   {
    "duration": 4,
    "start_time": "2022-05-30T17:45:13.502Z"
   },
   {
    "duration": 14,
    "start_time": "2022-05-30T17:45:13.525Z"
   },
   {
    "duration": 11,
    "start_time": "2022-05-30T17:45:13.541Z"
   },
   {
    "duration": 220,
    "start_time": "2022-05-30T17:45:13.554Z"
   },
   {
    "duration": 21,
    "start_time": "2022-05-30T17:45:13.776Z"
   },
   {
    "duration": 30,
    "start_time": "2022-05-30T17:45:13.799Z"
   },
   {
    "duration": 15,
    "start_time": "2022-05-30T17:45:13.830Z"
   },
   {
    "duration": 8,
    "start_time": "2022-05-30T17:45:13.846Z"
   },
   {
    "duration": 3,
    "start_time": "2022-05-30T17:45:13.856Z"
   },
   {
    "duration": 18,
    "start_time": "2022-05-30T17:45:13.863Z"
   },
   {
    "duration": 4,
    "start_time": "2022-05-30T17:45:13.883Z"
   },
   {
    "duration": 71,
    "start_time": "2022-05-30T17:45:13.889Z"
   },
   {
    "duration": 43,
    "start_time": "2022-05-30T17:45:13.962Z"
   },
   {
    "duration": 48,
    "start_time": "2022-05-30T17:45:14.007Z"
   },
   {
    "duration": 26,
    "start_time": "2022-05-30T17:45:14.057Z"
   },
   {
    "duration": 47,
    "start_time": "2022-05-30T17:45:14.085Z"
   },
   {
    "duration": 3,
    "start_time": "2022-05-30T17:45:14.134Z"
   },
   {
    "duration": 15,
    "start_time": "2022-05-30T17:45:14.138Z"
   },
   {
    "duration": 23,
    "start_time": "2022-05-30T17:45:18.089Z"
   },
   {
    "duration": 110,
    "start_time": "2022-05-30T17:45:53.218Z"
   },
   {
    "duration": 14,
    "start_time": "2022-05-30T17:46:38.853Z"
   },
   {
    "duration": 33,
    "start_time": "2022-05-30T17:47:28.691Z"
   },
   {
    "duration": 8,
    "start_time": "2022-05-30T17:47:52.042Z"
   },
   {
    "duration": 5,
    "start_time": "2022-05-30T17:48:48.716Z"
   },
   {
    "duration": 22,
    "start_time": "2022-05-30T17:48:52.237Z"
   },
   {
    "duration": 8,
    "start_time": "2022-05-30T17:49:18.662Z"
   },
   {
    "duration": 44,
    "start_time": "2022-05-30T17:49:23.957Z"
   },
   {
    "duration": 12,
    "start_time": "2022-05-30T17:49:55.083Z"
   },
   {
    "duration": 450,
    "start_time": "2022-05-30T17:55:47.919Z"
   },
   {
    "duration": 2,
    "start_time": "2022-05-30T17:55:48.371Z"
   },
   {
    "duration": 278,
    "start_time": "2022-05-30T17:55:50.123Z"
   },
   {
    "duration": 471,
    "start_time": "2022-05-30T17:55:50.402Z"
   },
   {
    "duration": 3,
    "start_time": "2022-05-30T17:55:50.874Z"
   },
   {
    "duration": 15,
    "start_time": "2022-05-30T17:55:50.879Z"
   },
   {
    "duration": 414,
    "start_time": "2022-05-30T17:55:50.896Z"
   },
   {
    "duration": 3,
    "start_time": "2022-05-30T17:55:51.312Z"
   },
   {
    "duration": 5,
    "start_time": "2022-05-30T17:55:51.317Z"
   },
   {
    "duration": 17,
    "start_time": "2022-05-30T17:55:51.324Z"
   },
   {
    "duration": 84,
    "start_time": "2022-05-30T17:55:51.343Z"
   },
   {
    "duration": 5,
    "start_time": "2022-05-30T17:55:51.428Z"
   },
   {
    "duration": 8,
    "start_time": "2022-05-30T17:55:51.434Z"
   },
   {
    "duration": 49,
    "start_time": "2022-05-30T17:55:51.443Z"
   },
   {
    "duration": 633,
    "start_time": "2022-05-30T17:55:51.494Z"
   },
   {
    "duration": 35,
    "start_time": "2022-05-30T17:55:52.130Z"
   },
   {
    "duration": 25,
    "start_time": "2022-05-30T17:55:52.167Z"
   },
   {
    "duration": 38,
    "start_time": "2022-05-30T17:55:52.194Z"
   },
   {
    "duration": 3,
    "start_time": "2022-05-30T17:55:52.234Z"
   },
   {
    "duration": 8,
    "start_time": "2022-05-30T17:55:52.238Z"
   },
   {
    "duration": 13,
    "start_time": "2022-05-30T17:55:52.248Z"
   },
   {
    "duration": 188,
    "start_time": "2022-05-30T17:55:52.263Z"
   },
   {
    "duration": 22,
    "start_time": "2022-05-30T17:55:52.452Z"
   },
   {
    "duration": 17,
    "start_time": "2022-05-30T17:55:52.476Z"
   },
   {
    "duration": 33,
    "start_time": "2022-05-30T17:55:52.495Z"
   },
   {
    "duration": 8,
    "start_time": "2022-05-30T17:55:52.530Z"
   },
   {
    "duration": 3,
    "start_time": "2022-05-30T17:55:52.540Z"
   },
   {
    "duration": 13,
    "start_time": "2022-05-30T17:55:52.545Z"
   },
   {
    "duration": 3,
    "start_time": "2022-05-30T17:55:52.559Z"
   },
   {
    "duration": 39,
    "start_time": "2022-05-30T17:55:52.564Z"
   },
   {
    "duration": 50,
    "start_time": "2022-05-30T17:55:52.604Z"
   },
   {
    "duration": 31,
    "start_time": "2022-05-30T17:55:52.655Z"
   },
   {
    "duration": 49,
    "start_time": "2022-05-30T17:55:52.688Z"
   },
   {
    "duration": 26,
    "start_time": "2022-05-30T17:55:52.738Z"
   },
   {
    "duration": 20,
    "start_time": "2022-05-30T17:55:52.766Z"
   },
   {
    "duration": 159,
    "start_time": "2022-05-30T17:55:52.788Z"
   },
   {
    "duration": 24,
    "start_time": "2022-05-30T17:55:58.630Z"
   },
   {
    "duration": 13,
    "start_time": "2022-05-30T17:56:45.827Z"
   },
   {
    "duration": 422,
    "start_time": "2022-05-30T17:57:12.487Z"
   },
   {
    "duration": 3,
    "start_time": "2022-05-30T17:57:12.912Z"
   },
   {
    "duration": 328,
    "start_time": "2022-05-30T17:57:12.917Z"
   },
   {
    "duration": 485,
    "start_time": "2022-05-30T17:57:13.247Z"
   },
   {
    "duration": 3,
    "start_time": "2022-05-30T17:57:13.735Z"
   },
   {
    "duration": 3,
    "start_time": "2022-05-30T17:57:13.740Z"
   },
   {
    "duration": 470,
    "start_time": "2022-05-30T17:57:13.746Z"
   },
   {
    "duration": 3,
    "start_time": "2022-05-30T17:57:14.218Z"
   },
   {
    "duration": 31,
    "start_time": "2022-05-30T17:57:14.223Z"
   },
   {
    "duration": 27,
    "start_time": "2022-05-30T17:57:14.257Z"
   },
   {
    "duration": 91,
    "start_time": "2022-05-30T17:57:14.286Z"
   },
   {
    "duration": 14,
    "start_time": "2022-05-30T17:57:14.379Z"
   },
   {
    "duration": 29,
    "start_time": "2022-05-30T17:57:14.395Z"
   },
   {
    "duration": 113,
    "start_time": "2022-05-30T17:57:14.429Z"
   },
   {
    "duration": 838,
    "start_time": "2022-05-30T17:57:14.544Z"
   },
   {
    "duration": 81,
    "start_time": "2022-05-30T17:57:15.384Z"
   },
   {
    "duration": 23,
    "start_time": "2022-05-30T17:57:15.467Z"
   },
   {
    "duration": 36,
    "start_time": "2022-05-30T17:57:15.491Z"
   },
   {
    "duration": 19,
    "start_time": "2022-05-30T17:57:15.532Z"
   },
   {
    "duration": 11,
    "start_time": "2022-05-30T17:57:15.553Z"
   },
   {
    "duration": 9,
    "start_time": "2022-05-30T17:57:15.566Z"
   },
   {
    "duration": 209,
    "start_time": "2022-05-30T17:57:15.577Z"
   },
   {
    "duration": 22,
    "start_time": "2022-05-30T17:57:15.788Z"
   },
   {
    "duration": 35,
    "start_time": "2022-05-30T17:57:15.812Z"
   },
   {
    "duration": 27,
    "start_time": "2022-05-30T17:57:15.850Z"
   },
   {
    "duration": 9,
    "start_time": "2022-05-30T17:57:15.879Z"
   },
   {
    "duration": 6,
    "start_time": "2022-05-30T17:57:15.889Z"
   },
   {
    "duration": 29,
    "start_time": "2022-05-30T17:57:15.897Z"
   },
   {
    "duration": 24,
    "start_time": "2022-05-30T17:57:15.928Z"
   },
   {
    "duration": 48,
    "start_time": "2022-05-30T17:57:15.954Z"
   },
   {
    "duration": 42,
    "start_time": "2022-05-30T17:57:16.004Z"
   },
   {
    "duration": 33,
    "start_time": "2022-05-30T17:57:16.048Z"
   },
   {
    "duration": 44,
    "start_time": "2022-05-30T17:57:16.083Z"
   },
   {
    "duration": 32,
    "start_time": "2022-05-30T17:57:16.129Z"
   },
   {
    "duration": 22,
    "start_time": "2022-05-30T17:57:16.163Z"
   },
   {
    "duration": 18,
    "start_time": "2022-05-30T17:57:16.188Z"
   },
   {
    "duration": 6,
    "start_time": "2022-05-30T17:57:16.226Z"
   },
   {
    "duration": 32,
    "start_time": "2022-05-30T17:57:27.618Z"
   },
   {
    "duration": 35,
    "start_time": "2022-05-30T18:02:45.049Z"
   },
   {
    "duration": 469,
    "start_time": "2022-05-30T18:03:10.776Z"
   },
   {
    "duration": 3,
    "start_time": "2022-05-30T18:03:11.248Z"
   },
   {
    "duration": 315,
    "start_time": "2022-05-30T18:03:11.253Z"
   },
   {
    "duration": 480,
    "start_time": "2022-05-30T18:03:11.570Z"
   },
   {
    "duration": 3,
    "start_time": "2022-05-30T18:03:12.053Z"
   },
   {
    "duration": 5,
    "start_time": "2022-05-30T18:03:12.057Z"
   },
   {
    "duration": 413,
    "start_time": "2022-05-30T18:03:12.063Z"
   },
   {
    "duration": 3,
    "start_time": "2022-05-30T18:03:12.477Z"
   },
   {
    "duration": 7,
    "start_time": "2022-05-30T18:03:12.482Z"
   },
   {
    "duration": 18,
    "start_time": "2022-05-30T18:03:12.491Z"
   },
   {
    "duration": 67,
    "start_time": "2022-05-30T18:03:12.511Z"
   },
   {
    "duration": 4,
    "start_time": "2022-05-30T18:03:12.579Z"
   },
   {
    "duration": 6,
    "start_time": "2022-05-30T18:03:12.585Z"
   },
   {
    "duration": 53,
    "start_time": "2022-05-30T18:03:12.594Z"
   },
   {
    "duration": 610,
    "start_time": "2022-05-30T18:03:12.649Z"
   },
   {
    "duration": 65,
    "start_time": "2022-05-30T18:03:13.261Z"
   },
   {
    "duration": 23,
    "start_time": "2022-05-30T18:03:13.328Z"
   },
   {
    "duration": 20,
    "start_time": "2022-05-30T18:03:13.352Z"
   },
   {
    "duration": 3,
    "start_time": "2022-05-30T18:03:13.374Z"
   },
   {
    "duration": 9,
    "start_time": "2022-05-30T18:03:13.379Z"
   },
   {
    "duration": 23,
    "start_time": "2022-05-30T18:03:13.390Z"
   },
   {
    "duration": 188,
    "start_time": "2022-05-30T18:03:13.415Z"
   },
   {
    "duration": 27,
    "start_time": "2022-05-30T18:03:13.604Z"
   },
   {
    "duration": 16,
    "start_time": "2022-05-30T18:03:13.632Z"
   },
   {
    "duration": 14,
    "start_time": "2022-05-30T18:03:13.650Z"
   },
   {
    "duration": 6,
    "start_time": "2022-05-30T18:03:13.666Z"
   },
   {
    "duration": 3,
    "start_time": "2022-05-30T18:03:13.674Z"
   },
   {
    "duration": 12,
    "start_time": "2022-05-30T18:03:13.678Z"
   },
   {
    "duration": 8,
    "start_time": "2022-05-30T18:03:13.691Z"
   },
   {
    "duration": 52,
    "start_time": "2022-05-30T18:03:13.700Z"
   },
   {
    "duration": 32,
    "start_time": "2022-05-30T18:03:13.754Z"
   },
   {
    "duration": 53,
    "start_time": "2022-05-30T18:03:13.788Z"
   },
   {
    "duration": 26,
    "start_time": "2022-05-30T18:03:13.843Z"
   },
   {
    "duration": 14,
    "start_time": "2022-05-30T18:03:13.871Z"
   },
   {
    "duration": 3,
    "start_time": "2022-05-30T18:03:13.887Z"
   },
   {
    "duration": 36,
    "start_time": "2022-05-30T18:03:13.891Z"
   },
   {
    "duration": 13,
    "start_time": "2022-05-30T18:03:43.611Z"
   },
   {
    "duration": 15,
    "start_time": "2022-05-30T18:05:29.953Z"
   },
   {
    "duration": 43,
    "start_time": "2022-05-30T18:05:33.891Z"
   },
   {
    "duration": 32,
    "start_time": "2022-05-30T18:06:13.392Z"
   },
   {
    "duration": 31,
    "start_time": "2022-05-30T18:06:18.385Z"
   },
   {
    "duration": 8,
    "start_time": "2022-05-30T18:07:19.778Z"
   },
   {
    "duration": 7,
    "start_time": "2022-05-30T18:08:33.300Z"
   },
   {
    "duration": 614,
    "start_time": "2022-05-30T18:09:54.836Z"
   },
   {
    "duration": 469,
    "start_time": "2022-05-30T18:10:26.602Z"
   },
   {
    "duration": 445,
    "start_time": "2022-05-30T18:10:31.934Z"
   },
   {
    "duration": 6,
    "start_time": "2022-05-30T18:10:37.201Z"
   },
   {
    "duration": 5,
    "start_time": "2022-05-30T18:10:40.299Z"
   },
   {
    "duration": 18,
    "start_time": "2022-05-30T18:11:34.696Z"
   },
   {
    "duration": 12,
    "start_time": "2022-05-30T18:15:00.296Z"
   },
   {
    "duration": 44,
    "start_time": "2022-05-30T18:15:04.702Z"
   },
   {
    "duration": 11,
    "start_time": "2022-05-30T18:15:20.743Z"
   },
   {
    "duration": 5,
    "start_time": "2022-05-30T18:15:31.274Z"
   },
   {
    "duration": 14,
    "start_time": "2022-05-30T18:15:39.724Z"
   },
   {
    "duration": 5,
    "start_time": "2022-05-30T18:15:54.119Z"
   },
   {
    "duration": 30,
    "start_time": "2022-05-30T18:17:25.516Z"
   },
   {
    "duration": 14,
    "start_time": "2022-05-30T18:17:29.577Z"
   },
   {
    "duration": 5,
    "start_time": "2022-05-30T18:17:36.913Z"
   },
   {
    "duration": 26,
    "start_time": "2022-05-30T18:18:13.952Z"
   },
   {
    "duration": 24,
    "start_time": "2022-05-30T18:18:18.673Z"
   },
   {
    "duration": 904,
    "start_time": "2022-05-30T18:28:44.314Z"
   },
   {
    "duration": 22,
    "start_time": "2022-05-30T18:28:50.436Z"
   },
   {
    "duration": 374,
    "start_time": "2022-05-30T18:29:34.777Z"
   },
   {
    "duration": 3,
    "start_time": "2022-05-30T18:29:35.153Z"
   },
   {
    "duration": 273,
    "start_time": "2022-05-30T18:29:35.157Z"
   },
   {
    "duration": 442,
    "start_time": "2022-05-30T18:29:35.433Z"
   },
   {
    "duration": 3,
    "start_time": "2022-05-30T18:29:35.876Z"
   },
   {
    "duration": 5,
    "start_time": "2022-05-30T18:29:35.880Z"
   },
   {
    "duration": 445,
    "start_time": "2022-05-30T18:29:35.887Z"
   },
   {
    "duration": 3,
    "start_time": "2022-05-30T18:29:36.334Z"
   },
   {
    "duration": 6,
    "start_time": "2022-05-30T18:29:36.339Z"
   },
   {
    "duration": 20,
    "start_time": "2022-05-30T18:29:36.347Z"
   },
   {
    "duration": 77,
    "start_time": "2022-05-30T18:29:36.369Z"
   },
   {
    "duration": 4,
    "start_time": "2022-05-30T18:29:36.448Z"
   },
   {
    "duration": 7,
    "start_time": "2022-05-30T18:29:36.453Z"
   },
   {
    "duration": 46,
    "start_time": "2022-05-30T18:29:36.461Z"
   },
   {
    "duration": 626,
    "start_time": "2022-05-30T18:29:36.526Z"
   },
   {
    "duration": 34,
    "start_time": "2022-05-30T18:29:37.154Z"
   },
   {
    "duration": 48,
    "start_time": "2022-05-30T18:29:37.189Z"
   },
   {
    "duration": 20,
    "start_time": "2022-05-30T18:29:37.238Z"
   },
   {
    "duration": 4,
    "start_time": "2022-05-30T18:29:37.260Z"
   },
   {
    "duration": 9,
    "start_time": "2022-05-30T18:29:37.265Z"
   },
   {
    "duration": 21,
    "start_time": "2022-05-30T18:29:37.275Z"
   },
   {
    "duration": 198,
    "start_time": "2022-05-30T18:29:37.298Z"
   },
   {
    "duration": 31,
    "start_time": "2022-05-30T18:29:37.498Z"
   },
   {
    "duration": 19,
    "start_time": "2022-05-30T18:29:37.530Z"
   },
   {
    "duration": 15,
    "start_time": "2022-05-30T18:29:37.551Z"
   },
   {
    "duration": 7,
    "start_time": "2022-05-30T18:29:37.567Z"
   },
   {
    "duration": 3,
    "start_time": "2022-05-30T18:29:37.575Z"
   },
   {
    "duration": 14,
    "start_time": "2022-05-30T18:29:37.581Z"
   },
   {
    "duration": 4,
    "start_time": "2022-05-30T18:29:37.605Z"
   },
   {
    "duration": 34,
    "start_time": "2022-05-30T18:29:37.626Z"
   },
   {
    "duration": 33,
    "start_time": "2022-05-30T18:29:37.662Z"
   },
   {
    "duration": 59,
    "start_time": "2022-05-30T18:29:37.697Z"
   },
   {
    "duration": 26,
    "start_time": "2022-05-30T18:29:37.758Z"
   },
   {
    "duration": 48,
    "start_time": "2022-05-30T18:29:37.786Z"
   },
   {
    "duration": 20,
    "start_time": "2022-05-30T18:29:37.836Z"
   },
   {
    "duration": 7,
    "start_time": "2022-05-30T18:29:37.857Z"
   },
   {
    "duration": 6,
    "start_time": "2022-05-30T18:29:37.866Z"
   },
   {
    "duration": 7,
    "start_time": "2022-05-30T18:29:37.874Z"
   },
   {
    "duration": 13,
    "start_time": "2022-05-30T18:29:37.883Z"
   },
   {
    "duration": 46,
    "start_time": "2022-05-30T18:36:08.336Z"
   },
   {
    "duration": 170,
    "start_time": "2022-05-30T18:37:56.004Z"
   },
   {
    "duration": 9,
    "start_time": "2022-05-30T18:38:03.501Z"
   },
   {
    "duration": 35,
    "start_time": "2022-05-30T18:38:06.241Z"
   },
   {
    "duration": 385,
    "start_time": "2022-05-30T18:40:41.569Z"
   },
   {
    "duration": 10,
    "start_time": "2022-05-30T18:40:57.664Z"
   },
   {
    "duration": 50,
    "start_time": "2022-05-30T18:41:03.420Z"
   },
   {
    "duration": 17,
    "start_time": "2022-05-30T18:42:53.748Z"
   },
   {
    "duration": 9,
    "start_time": "2022-05-30T18:43:38.528Z"
   },
   {
    "duration": 5,
    "start_time": "2022-05-30T18:45:29.334Z"
   },
   {
    "duration": 53,
    "start_time": "2022-05-30T18:45:33.469Z"
   },
   {
    "duration": 16,
    "start_time": "2022-05-30T18:52:59.256Z"
   },
   {
    "duration": 16,
    "start_time": "2022-05-30T18:53:01.954Z"
   },
   {
    "duration": 4,
    "start_time": "2022-05-30T18:55:23.469Z"
   },
   {
    "duration": 43,
    "start_time": "2022-05-30T18:55:54.494Z"
   },
   {
    "duration": 4,
    "start_time": "2022-05-30T18:57:10.575Z"
   },
   {
    "duration": 58,
    "start_time": "2022-05-30T18:58:46.079Z"
   },
   {
    "duration": 481,
    "start_time": "2022-05-30T18:59:01.328Z"
   },
   {
    "duration": 2,
    "start_time": "2022-05-30T18:59:01.811Z"
   },
   {
    "duration": 328,
    "start_time": "2022-05-30T18:59:01.815Z"
   },
   {
    "duration": 420,
    "start_time": "2022-05-30T18:59:02.145Z"
   },
   {
    "duration": 3,
    "start_time": "2022-05-30T18:59:02.567Z"
   },
   {
    "duration": 16,
    "start_time": "2022-05-30T18:59:02.571Z"
   },
   {
    "duration": 899,
    "start_time": "2022-05-30T18:59:02.589Z"
   },
   {
    "duration": 3,
    "start_time": "2022-05-30T18:59:03.490Z"
   },
   {
    "duration": 9,
    "start_time": "2022-05-30T18:59:03.494Z"
   },
   {
    "duration": 22,
    "start_time": "2022-05-30T18:59:03.506Z"
   },
   {
    "duration": 64,
    "start_time": "2022-05-30T18:59:03.529Z"
   },
   {
    "duration": 4,
    "start_time": "2022-05-30T18:59:03.595Z"
   },
   {
    "duration": 26,
    "start_time": "2022-05-30T18:59:03.600Z"
   },
   {
    "duration": 45,
    "start_time": "2022-05-30T18:59:03.627Z"
   },
   {
    "duration": 675,
    "start_time": "2022-05-30T18:59:03.673Z"
   },
   {
    "duration": 30,
    "start_time": "2022-05-30T18:59:04.349Z"
   },
   {
    "duration": 66,
    "start_time": "2022-05-30T18:59:04.382Z"
   },
   {
    "duration": 25,
    "start_time": "2022-05-30T18:59:04.450Z"
   },
   {
    "duration": 8,
    "start_time": "2022-05-30T18:59:04.477Z"
   },
   {
    "duration": 19,
    "start_time": "2022-05-30T18:59:04.486Z"
   },
   {
    "duration": 24,
    "start_time": "2022-05-30T18:59:04.507Z"
   },
   {
    "duration": 234,
    "start_time": "2022-05-30T18:59:04.533Z"
   },
   {
    "duration": 21,
    "start_time": "2022-05-30T18:59:04.769Z"
   },
   {
    "duration": 15,
    "start_time": "2022-05-30T18:59:04.792Z"
   },
   {
    "duration": 27,
    "start_time": "2022-05-30T18:59:04.809Z"
   },
   {
    "duration": 9,
    "start_time": "2022-05-30T18:59:04.838Z"
   },
   {
    "duration": 3,
    "start_time": "2022-05-30T18:59:04.849Z"
   },
   {
    "duration": 15,
    "start_time": "2022-05-30T18:59:04.855Z"
   },
   {
    "duration": 4,
    "start_time": "2022-05-30T18:59:04.872Z"
   },
   {
    "duration": 80,
    "start_time": "2022-05-30T18:59:04.878Z"
   },
   {
    "duration": 34,
    "start_time": "2022-05-30T18:59:04.960Z"
   },
   {
    "duration": 52,
    "start_time": "2022-05-30T18:59:04.996Z"
   },
   {
    "duration": 26,
    "start_time": "2022-05-30T18:59:05.049Z"
   },
   {
    "duration": 75,
    "start_time": "2022-05-30T18:59:05.076Z"
   },
   {
    "duration": 143,
    "start_time": "2022-05-30T18:59:05.153Z"
   },
   {
    "duration": 0,
    "start_time": "2022-05-30T18:59:05.298Z"
   },
   {
    "duration": 0,
    "start_time": "2022-05-30T18:59:05.299Z"
   },
   {
    "duration": 0,
    "start_time": "2022-05-30T18:59:05.300Z"
   },
   {
    "duration": 0,
    "start_time": "2022-05-30T18:59:05.301Z"
   },
   {
    "duration": 0,
    "start_time": "2022-05-30T18:59:05.302Z"
   },
   {
    "duration": 0,
    "start_time": "2022-05-30T18:59:05.304Z"
   },
   {
    "duration": 0,
    "start_time": "2022-05-30T18:59:05.305Z"
   },
   {
    "duration": 0,
    "start_time": "2022-05-30T18:59:05.306Z"
   },
   {
    "duration": 0,
    "start_time": "2022-05-30T18:59:05.307Z"
   },
   {
    "duration": 0,
    "start_time": "2022-05-30T18:59:05.326Z"
   },
   {
    "duration": 448,
    "start_time": "2022-05-30T18:59:55.613Z"
   },
   {
    "duration": 2,
    "start_time": "2022-05-30T18:59:56.063Z"
   },
   {
    "duration": 262,
    "start_time": "2022-05-30T18:59:56.067Z"
   },
   {
    "duration": 449,
    "start_time": "2022-05-30T18:59:56.331Z"
   },
   {
    "duration": 3,
    "start_time": "2022-05-30T18:59:56.783Z"
   },
   {
    "duration": 6,
    "start_time": "2022-05-30T18:59:56.787Z"
   },
   {
    "duration": 401,
    "start_time": "2022-05-30T18:59:56.795Z"
   },
   {
    "duration": 4,
    "start_time": "2022-05-30T18:59:57.197Z"
   },
   {
    "duration": 12,
    "start_time": "2022-05-30T18:59:57.203Z"
   },
   {
    "duration": 32,
    "start_time": "2022-05-30T18:59:57.217Z"
   },
   {
    "duration": 100,
    "start_time": "2022-05-30T18:59:57.252Z"
   },
   {
    "duration": 4,
    "start_time": "2022-05-30T18:59:57.354Z"
   },
   {
    "duration": 10,
    "start_time": "2022-05-30T18:59:57.359Z"
   },
   {
    "duration": 93,
    "start_time": "2022-05-30T18:59:57.373Z"
   },
   {
    "duration": 578,
    "start_time": "2022-05-30T18:59:57.468Z"
   },
   {
    "duration": 28,
    "start_time": "2022-05-30T18:59:58.047Z"
   },
   {
    "duration": 21,
    "start_time": "2022-05-30T18:59:58.077Z"
   },
   {
    "duration": 20,
    "start_time": "2022-05-30T18:59:58.125Z"
   },
   {
    "duration": 4,
    "start_time": "2022-05-30T18:59:58.146Z"
   },
   {
    "duration": 7,
    "start_time": "2022-05-30T18:59:58.152Z"
   },
   {
    "duration": 8,
    "start_time": "2022-05-30T18:59:58.161Z"
   },
   {
    "duration": 207,
    "start_time": "2022-05-30T18:59:58.170Z"
   },
   {
    "duration": 23,
    "start_time": "2022-05-30T18:59:58.380Z"
   },
   {
    "duration": 27,
    "start_time": "2022-05-30T18:59:58.405Z"
   },
   {
    "duration": 15,
    "start_time": "2022-05-30T18:59:58.434Z"
   },
   {
    "duration": 8,
    "start_time": "2022-05-30T18:59:58.451Z"
   },
   {
    "duration": 12,
    "start_time": "2022-05-30T18:59:58.461Z"
   },
   {
    "duration": 22,
    "start_time": "2022-05-30T18:59:58.474Z"
   },
   {
    "duration": 5,
    "start_time": "2022-05-30T18:59:58.498Z"
   },
   {
    "duration": 63,
    "start_time": "2022-05-30T18:59:58.505Z"
   },
   {
    "duration": 31,
    "start_time": "2022-05-30T18:59:58.570Z"
   },
   {
    "duration": 50,
    "start_time": "2022-05-30T18:59:58.603Z"
   },
   {
    "duration": 27,
    "start_time": "2022-05-30T18:59:58.654Z"
   },
   {
    "duration": 73,
    "start_time": "2022-05-30T18:59:58.683Z"
   },
   {
    "duration": 485,
    "start_time": "2022-05-30T18:59:58.758Z"
   },
   {
    "duration": 0,
    "start_time": "2022-05-30T18:59:59.245Z"
   },
   {
    "duration": 0,
    "start_time": "2022-05-30T18:59:59.247Z"
   },
   {
    "duration": 0,
    "start_time": "2022-05-30T18:59:59.248Z"
   },
   {
    "duration": 0,
    "start_time": "2022-05-30T18:59:59.250Z"
   },
   {
    "duration": 0,
    "start_time": "2022-05-30T18:59:59.250Z"
   },
   {
    "duration": 0,
    "start_time": "2022-05-30T18:59:59.252Z"
   },
   {
    "duration": 0,
    "start_time": "2022-05-30T18:59:59.253Z"
   },
   {
    "duration": 0,
    "start_time": "2022-05-30T18:59:59.254Z"
   },
   {
    "duration": 0,
    "start_time": "2022-05-30T18:59:59.255Z"
   },
   {
    "duration": 0,
    "start_time": "2022-05-30T18:59:59.256Z"
   },
   {
    "duration": 427,
    "start_time": "2022-05-30T19:01:38.630Z"
   },
   {
    "duration": 3,
    "start_time": "2022-05-30T19:01:39.059Z"
   },
   {
    "duration": 308,
    "start_time": "2022-05-30T19:01:39.064Z"
   },
   {
    "duration": 461,
    "start_time": "2022-05-30T19:01:39.374Z"
   },
   {
    "duration": 3,
    "start_time": "2022-05-30T19:01:39.837Z"
   },
   {
    "duration": 7,
    "start_time": "2022-05-30T19:01:39.842Z"
   },
   {
    "duration": 419,
    "start_time": "2022-05-30T19:01:39.851Z"
   },
   {
    "duration": 3,
    "start_time": "2022-05-30T19:01:40.272Z"
   },
   {
    "duration": 18,
    "start_time": "2022-05-30T19:01:40.277Z"
   },
   {
    "duration": 26,
    "start_time": "2022-05-30T19:01:40.296Z"
   },
   {
    "duration": 65,
    "start_time": "2022-05-30T19:01:40.323Z"
   },
   {
    "duration": 4,
    "start_time": "2022-05-30T19:01:40.390Z"
   },
   {
    "duration": 7,
    "start_time": "2022-05-30T19:01:40.396Z"
   },
   {
    "duration": 58,
    "start_time": "2022-05-30T19:01:40.406Z"
   },
   {
    "duration": 597,
    "start_time": "2022-05-30T19:01:40.466Z"
   },
   {
    "duration": 62,
    "start_time": "2022-05-30T19:01:41.064Z"
   },
   {
    "duration": 22,
    "start_time": "2022-05-30T19:01:41.128Z"
   },
   {
    "duration": 19,
    "start_time": "2022-05-30T19:01:41.151Z"
   },
   {
    "duration": 3,
    "start_time": "2022-05-30T19:01:41.172Z"
   },
   {
    "duration": 9,
    "start_time": "2022-05-30T19:01:41.176Z"
   },
   {
    "duration": 11,
    "start_time": "2022-05-30T19:01:41.186Z"
   },
   {
    "duration": 206,
    "start_time": "2022-05-30T19:01:41.198Z"
   },
   {
    "duration": 39,
    "start_time": "2022-05-30T19:01:41.407Z"
   },
   {
    "duration": 21,
    "start_time": "2022-05-30T19:01:41.448Z"
   },
   {
    "duration": 14,
    "start_time": "2022-05-30T19:01:41.470Z"
   },
   {
    "duration": 13,
    "start_time": "2022-05-30T19:01:41.486Z"
   },
   {
    "duration": 7,
    "start_time": "2022-05-30T19:01:41.500Z"
   },
   {
    "duration": 23,
    "start_time": "2022-05-30T19:01:41.508Z"
   },
   {
    "duration": 13,
    "start_time": "2022-05-30T19:01:41.532Z"
   },
   {
    "duration": 43,
    "start_time": "2022-05-30T19:01:41.546Z"
   },
   {
    "duration": 37,
    "start_time": "2022-05-30T19:01:41.592Z"
   },
   {
    "duration": 30,
    "start_time": "2022-05-30T19:01:41.631Z"
   },
   {
    "duration": 25,
    "start_time": "2022-05-30T19:01:41.663Z"
   },
   {
    "duration": 165,
    "start_time": "2022-05-30T19:01:41.690Z"
   },
   {
    "duration": 0,
    "start_time": "2022-05-30T19:01:41.856Z"
   },
   {
    "duration": 0,
    "start_time": "2022-05-30T19:01:41.858Z"
   },
   {
    "duration": 0,
    "start_time": "2022-05-30T19:01:41.859Z"
   },
   {
    "duration": 0,
    "start_time": "2022-05-30T19:01:41.860Z"
   },
   {
    "duration": 0,
    "start_time": "2022-05-30T19:01:41.861Z"
   },
   {
    "duration": 0,
    "start_time": "2022-05-30T19:01:41.863Z"
   },
   {
    "duration": 0,
    "start_time": "2022-05-30T19:01:41.864Z"
   },
   {
    "duration": 0,
    "start_time": "2022-05-30T19:01:41.865Z"
   },
   {
    "duration": 0,
    "start_time": "2022-05-30T19:01:41.866Z"
   },
   {
    "duration": 0,
    "start_time": "2022-05-30T19:01:41.867Z"
   },
   {
    "duration": 0,
    "start_time": "2022-05-30T19:01:41.869Z"
   },
   {
    "duration": 45,
    "start_time": "2022-05-30T19:02:08.950Z"
   },
   {
    "duration": 27,
    "start_time": "2022-05-30T19:02:48.822Z"
   },
   {
    "duration": 25,
    "start_time": "2022-05-30T19:03:55.817Z"
   },
   {
    "duration": 88,
    "start_time": "2022-05-30T19:04:45.547Z"
   },
   {
    "duration": 465,
    "start_time": "2022-05-30T19:05:13.677Z"
   },
   {
    "duration": 3,
    "start_time": "2022-05-30T19:05:14.144Z"
   },
   {
    "duration": 300,
    "start_time": "2022-05-30T19:05:14.149Z"
   },
   {
    "duration": 530,
    "start_time": "2022-05-30T19:05:14.452Z"
   },
   {
    "duration": 3,
    "start_time": "2022-05-30T19:05:14.984Z"
   },
   {
    "duration": 11,
    "start_time": "2022-05-30T19:05:14.988Z"
   },
   {
    "duration": 460,
    "start_time": "2022-05-30T19:05:15.001Z"
   },
   {
    "duration": 2,
    "start_time": "2022-05-30T19:05:15.464Z"
   },
   {
    "duration": 15,
    "start_time": "2022-05-30T19:05:15.468Z"
   },
   {
    "duration": 20,
    "start_time": "2022-05-30T19:05:15.485Z"
   },
   {
    "duration": 86,
    "start_time": "2022-05-30T19:05:15.507Z"
   },
   {
    "duration": 4,
    "start_time": "2022-05-30T19:05:15.594Z"
   },
   {
    "duration": 9,
    "start_time": "2022-05-30T19:05:15.600Z"
   },
   {
    "duration": 44,
    "start_time": "2022-05-30T19:05:15.626Z"
   },
   {
    "duration": 804,
    "start_time": "2022-05-30T19:05:15.672Z"
   },
   {
    "duration": 85,
    "start_time": "2022-05-30T19:05:16.478Z"
   },
   {
    "duration": 29,
    "start_time": "2022-05-30T19:05:16.566Z"
   },
   {
    "duration": 42,
    "start_time": "2022-05-30T19:05:16.597Z"
   },
   {
    "duration": 5,
    "start_time": "2022-05-30T19:05:16.641Z"
   },
   {
    "duration": 12,
    "start_time": "2022-05-30T19:05:16.648Z"
   },
   {
    "duration": 10,
    "start_time": "2022-05-30T19:05:16.662Z"
   },
   {
    "duration": 246,
    "start_time": "2022-05-30T19:05:16.674Z"
   },
   {
    "duration": 28,
    "start_time": "2022-05-30T19:05:16.932Z"
   },
   {
    "duration": 21,
    "start_time": "2022-05-30T19:05:16.962Z"
   },
   {
    "duration": 15,
    "start_time": "2022-05-30T19:05:16.985Z"
   },
   {
    "duration": 24,
    "start_time": "2022-05-30T19:05:17.002Z"
   },
   {
    "duration": 5,
    "start_time": "2022-05-30T19:05:17.028Z"
   },
   {
    "duration": 25,
    "start_time": "2022-05-30T19:05:17.034Z"
   },
   {
    "duration": 8,
    "start_time": "2022-05-30T19:05:17.060Z"
   },
   {
    "duration": 40,
    "start_time": "2022-05-30T19:05:17.070Z"
   },
   {
    "duration": 35,
    "start_time": "2022-05-30T19:05:17.125Z"
   },
   {
    "duration": 33,
    "start_time": "2022-05-30T19:05:17.161Z"
   },
   {
    "duration": 49,
    "start_time": "2022-05-30T19:05:17.196Z"
   },
   {
    "duration": 45,
    "start_time": "2022-05-30T19:05:17.247Z"
   },
   {
    "duration": 8,
    "start_time": "2022-05-30T19:05:17.294Z"
   },
   {
    "duration": 32,
    "start_time": "2022-05-30T19:05:17.303Z"
   },
   {
    "duration": 23,
    "start_time": "2022-05-30T19:05:17.337Z"
   },
   {
    "duration": 15,
    "start_time": "2022-05-30T19:05:17.362Z"
   },
   {
    "duration": 43,
    "start_time": "2022-05-30T19:05:17.379Z"
   },
   {
    "duration": 18,
    "start_time": "2022-05-30T19:05:17.434Z"
   },
   {
    "duration": 18,
    "start_time": "2022-05-30T19:05:17.457Z"
   },
   {
    "duration": 7,
    "start_time": "2022-05-30T19:05:17.478Z"
   },
   {
    "duration": 10,
    "start_time": "2022-05-30T19:05:17.487Z"
   },
   {
    "duration": 329,
    "start_time": "2022-05-30T19:05:17.499Z"
   },
   {
    "duration": 40,
    "start_time": "2022-05-30T19:05:17.830Z"
   },
   {
    "duration": 192,
    "start_time": "2022-05-30T19:08:45.257Z"
   },
   {
    "duration": 152,
    "start_time": "2022-05-30T19:08:48.744Z"
   },
   {
    "duration": 1136,
    "start_time": "2022-05-30T19:10:46.322Z"
   },
   {
    "duration": 166,
    "start_time": "2022-05-30T19:11:00.850Z"
   },
   {
    "duration": 138,
    "start_time": "2022-05-30T19:11:30.672Z"
   },
   {
    "duration": 150,
    "start_time": "2022-05-30T19:13:21.593Z"
   },
   {
    "duration": 152,
    "start_time": "2022-05-30T19:14:05.870Z"
   },
   {
    "duration": 160,
    "start_time": "2022-05-30T19:14:10.553Z"
   },
   {
    "duration": 135,
    "start_time": "2022-05-30T19:14:16.265Z"
   },
   {
    "duration": 173,
    "start_time": "2022-05-30T19:15:01.706Z"
   },
   {
    "duration": 163,
    "start_time": "2022-05-30T19:29:05.006Z"
   },
   {
    "duration": 282,
    "start_time": "2022-05-30T19:29:39.703Z"
   },
   {
    "duration": 474,
    "start_time": "2022-05-30T19:30:09.406Z"
   },
   {
    "duration": 182,
    "start_time": "2022-05-30T19:30:19.151Z"
   },
   {
    "duration": 136,
    "start_time": "2022-05-30T19:31:53.558Z"
   },
   {
    "duration": 155,
    "start_time": "2022-05-30T19:31:58.100Z"
   },
   {
    "duration": 36,
    "start_time": "2022-05-30T19:33:43.202Z"
   },
   {
    "duration": 2,
    "start_time": "2022-05-30T19:39:02.324Z"
   },
   {
    "duration": 8,
    "start_time": "2022-05-30T19:39:10.583Z"
   },
   {
    "duration": 9,
    "start_time": "2022-05-30T19:40:29.840Z"
   },
   {
    "duration": 6,
    "start_time": "2022-05-30T19:44:45.208Z"
   },
   {
    "duration": 5,
    "start_time": "2022-05-30T19:52:16.926Z"
   },
   {
    "duration": 6,
    "start_time": "2022-05-30T19:52:31.975Z"
   },
   {
    "duration": 9,
    "start_time": "2022-05-30T19:52:59.623Z"
   },
   {
    "duration": 8,
    "start_time": "2022-05-30T19:53:54.934Z"
   },
   {
    "duration": 10,
    "start_time": "2022-05-30T19:56:13.300Z"
   },
   {
    "duration": 335,
    "start_time": "2022-05-30T19:56:18.735Z"
   },
   {
    "duration": 6,
    "start_time": "2022-05-30T19:56:28.683Z"
   },
   {
    "duration": 7,
    "start_time": "2022-05-30T19:56:51.632Z"
   },
   {
    "duration": 7,
    "start_time": "2022-05-30T19:58:21.019Z"
   },
   {
    "duration": 7,
    "start_time": "2022-05-30T19:58:37.411Z"
   },
   {
    "duration": 7,
    "start_time": "2022-05-30T20:00:06.174Z"
   },
   {
    "duration": 5,
    "start_time": "2022-05-30T20:00:14.206Z"
   },
   {
    "duration": 6,
    "start_time": "2022-05-30T20:00:14.568Z"
   },
   {
    "duration": 7,
    "start_time": "2022-05-30T20:00:16.725Z"
   },
   {
    "duration": 7,
    "start_time": "2022-05-30T20:00:30.520Z"
   },
   {
    "duration": 6,
    "start_time": "2022-05-30T20:02:53.402Z"
   },
   {
    "duration": 10,
    "start_time": "2022-05-30T20:04:23.103Z"
   },
   {
    "duration": 6,
    "start_time": "2022-05-30T20:04:29.718Z"
   },
   {
    "duration": 7,
    "start_time": "2022-05-30T20:05:06.798Z"
   },
   {
    "duration": 427,
    "start_time": "2022-05-31T09:18:42.684Z"
   },
   {
    "duration": 388,
    "start_time": "2022-05-31T09:18:43.112Z"
   },
   {
    "duration": 2,
    "start_time": "2022-05-31T09:18:43.502Z"
   },
   {
    "duration": 427,
    "start_time": "2022-05-31T09:18:43.506Z"
   },
   {
    "duration": 67,
    "start_time": "2022-05-31T09:18:43.936Z"
   },
   {
    "duration": 3,
    "start_time": "2022-05-31T09:18:44.004Z"
   },
   {
    "duration": 10,
    "start_time": "2022-05-31T09:18:44.009Z"
   },
   {
    "duration": 996,
    "start_time": "2022-05-31T09:18:44.021Z"
   },
   {
    "duration": 2,
    "start_time": "2022-05-31T09:18:45.019Z"
   },
   {
    "duration": 8,
    "start_time": "2022-05-31T09:18:45.023Z"
   },
   {
    "duration": 24,
    "start_time": "2022-05-31T09:18:45.033Z"
   },
   {
    "duration": 68,
    "start_time": "2022-05-31T09:18:45.059Z"
   },
   {
    "duration": 3,
    "start_time": "2022-05-31T09:18:45.129Z"
   },
   {
    "duration": 8,
    "start_time": "2022-05-31T09:18:45.135Z"
   },
   {
    "duration": 49,
    "start_time": "2022-05-31T09:18:45.145Z"
   },
   {
    "duration": 620,
    "start_time": "2022-05-31T09:18:45.196Z"
   },
   {
    "duration": 63,
    "start_time": "2022-05-31T09:18:45.817Z"
   },
   {
    "duration": 23,
    "start_time": "2022-05-31T09:18:45.882Z"
   },
   {
    "duration": 19,
    "start_time": "2022-05-31T09:18:45.906Z"
   },
   {
    "duration": 4,
    "start_time": "2022-05-31T09:18:45.927Z"
   },
   {
    "duration": 8,
    "start_time": "2022-05-31T09:18:45.932Z"
   },
   {
    "duration": 8,
    "start_time": "2022-05-31T09:18:45.941Z"
   },
   {
    "duration": 208,
    "start_time": "2022-05-31T09:18:45.951Z"
   },
   {
    "duration": 31,
    "start_time": "2022-05-31T09:18:46.161Z"
   },
   {
    "duration": 18,
    "start_time": "2022-05-31T09:18:46.194Z"
   },
   {
    "duration": 15,
    "start_time": "2022-05-31T09:18:46.214Z"
   },
   {
    "duration": 7,
    "start_time": "2022-05-31T09:18:46.230Z"
   },
   {
    "duration": 4,
    "start_time": "2022-05-31T09:18:46.239Z"
   },
   {
    "duration": 35,
    "start_time": "2022-05-31T09:18:46.244Z"
   },
   {
    "duration": 3,
    "start_time": "2022-05-31T09:18:46.282Z"
   },
   {
    "duration": 40,
    "start_time": "2022-05-31T09:18:46.287Z"
   },
   {
    "duration": 31,
    "start_time": "2022-05-31T09:18:46.329Z"
   },
   {
    "duration": 31,
    "start_time": "2022-05-31T09:18:46.379Z"
   },
   {
    "duration": 26,
    "start_time": "2022-05-31T09:18:46.412Z"
   },
   {
    "duration": 73,
    "start_time": "2022-05-31T09:18:46.440Z"
   },
   {
    "duration": 8,
    "start_time": "2022-05-31T09:18:46.515Z"
   },
   {
    "duration": 12,
    "start_time": "2022-05-31T09:18:46.524Z"
   },
   {
    "duration": 15,
    "start_time": "2022-05-31T09:18:46.538Z"
   },
   {
    "duration": 5,
    "start_time": "2022-05-31T09:18:46.555Z"
   },
   {
    "duration": 32,
    "start_time": "2022-05-31T09:18:46.583Z"
   },
   {
    "duration": 13,
    "start_time": "2022-05-31T09:18:46.620Z"
   },
   {
    "duration": 10,
    "start_time": "2022-05-31T09:18:46.635Z"
   },
   {
    "duration": 6,
    "start_time": "2022-05-31T09:18:46.646Z"
   },
   {
    "duration": 4,
    "start_time": "2022-05-31T09:18:46.681Z"
   },
   {
    "duration": 235,
    "start_time": "2022-05-31T09:18:46.687Z"
   },
   {
    "duration": 157,
    "start_time": "2022-05-31T09:18:46.924Z"
   },
   {
    "duration": 155,
    "start_time": "2022-05-31T09:18:47.083Z"
   },
   {
    "duration": 190,
    "start_time": "2022-05-31T09:18:47.241Z"
   },
   {
    "duration": 181,
    "start_time": "2022-05-31T09:18:47.433Z"
   },
   {
    "duration": 175,
    "start_time": "2022-05-31T09:18:47.616Z"
   },
   {
    "duration": 29,
    "start_time": "2022-05-31T09:18:47.793Z"
   },
   {
    "duration": 33,
    "start_time": "2022-05-31T09:18:47.824Z"
   },
   {
    "duration": 25,
    "start_time": "2022-05-31T09:18:47.859Z"
   },
   {
    "duration": 6,
    "start_time": "2022-05-31T09:18:47.885Z"
   },
   {
    "duration": 5,
    "start_time": "2022-05-31T09:18:47.893Z"
   },
   {
    "duration": 7,
    "start_time": "2022-05-31T09:18:47.899Z"
   },
   {
    "duration": 4,
    "start_time": "2022-05-31T09:18:47.907Z"
   },
   {
    "duration": 6,
    "start_time": "2022-05-31T09:18:47.913Z"
   },
   {
    "duration": 9,
    "start_time": "2022-05-31T09:18:47.921Z"
   },
   {
    "duration": 5,
    "start_time": "2022-05-31T09:18:47.932Z"
   },
   {
    "duration": 7,
    "start_time": "2022-05-31T09:18:47.939Z"
   },
   {
    "duration": 36,
    "start_time": "2022-05-31T09:18:47.948Z"
   },
   {
    "duration": 4,
    "start_time": "2022-05-31T09:28:43.919Z"
   },
   {
    "duration": 4,
    "start_time": "2022-05-31T09:29:07.098Z"
   },
   {
    "duration": 5,
    "start_time": "2022-05-31T09:29:15.610Z"
   },
   {
    "duration": 23,
    "start_time": "2022-05-31T09:29:59.292Z"
   },
   {
    "duration": 15,
    "start_time": "2022-05-31T09:30:29.506Z"
   },
   {
    "duration": 11,
    "start_time": "2022-05-31T09:31:40.647Z"
   },
   {
    "duration": 6,
    "start_time": "2022-05-31T09:39:23.999Z"
   },
   {
    "duration": 5,
    "start_time": "2022-05-31T09:40:23.082Z"
   },
   {
    "duration": 5,
    "start_time": "2022-05-31T09:40:29.441Z"
   },
   {
    "duration": 59,
    "start_time": "2022-05-31T10:54:09.403Z"
   },
   {
    "duration": 370,
    "start_time": "2022-05-31T10:54:17.037Z"
   },
   {
    "duration": 389,
    "start_time": "2022-05-31T10:54:17.409Z"
   },
   {
    "duration": 2,
    "start_time": "2022-05-31T10:54:17.800Z"
   },
   {
    "duration": 429,
    "start_time": "2022-05-31T10:54:17.804Z"
   },
   {
    "duration": 59,
    "start_time": "2022-05-31T10:54:18.235Z"
   },
   {
    "duration": 3,
    "start_time": "2022-05-31T10:54:18.295Z"
   },
   {
    "duration": 2,
    "start_time": "2022-05-31T10:54:18.329Z"
   },
   {
    "duration": 960,
    "start_time": "2022-05-31T10:54:18.929Z"
   },
   {
    "duration": 3,
    "start_time": "2022-05-31T10:54:19.891Z"
   },
   {
    "duration": 12,
    "start_time": "2022-05-31T10:54:19.895Z"
   },
   {
    "duration": 26,
    "start_time": "2022-05-31T10:54:19.909Z"
   },
   {
    "duration": 63,
    "start_time": "2022-05-31T10:54:20.262Z"
   },
   {
    "duration": 4,
    "start_time": "2022-05-31T10:54:21.076Z"
   },
   {
    "duration": 190,
    "start_time": "2022-05-31T10:54:23.633Z"
   },
   {
    "duration": 11,
    "start_time": "2022-05-31T10:55:23.838Z"
   },
   {
    "duration": 9,
    "start_time": "2022-05-31T10:55:37.958Z"
   },
   {
    "duration": 190,
    "start_time": "2022-05-31T10:57:43.362Z"
   },
   {
    "duration": 157,
    "start_time": "2022-05-31T10:58:00.266Z"
   },
   {
    "duration": 157,
    "start_time": "2022-05-31T10:58:04.608Z"
   },
   {
    "duration": 5,
    "start_time": "2022-05-31T10:59:47.970Z"
   },
   {
    "duration": 9,
    "start_time": "2022-05-31T10:59:57.474Z"
   },
   {
    "duration": 6,
    "start_time": "2022-05-31T11:00:02.906Z"
   },
   {
    "duration": 5,
    "start_time": "2022-05-31T11:00:13.252Z"
   },
   {
    "duration": 160,
    "start_time": "2022-05-31T11:00:44.778Z"
   },
   {
    "duration": 4,
    "start_time": "2022-05-31T11:03:48.555Z"
   },
   {
    "duration": 5,
    "start_time": "2022-05-31T11:04:22.858Z"
   },
   {
    "duration": 385,
    "start_time": "2022-05-31T11:33:15.698Z"
   },
   {
    "duration": 346,
    "start_time": "2022-05-31T11:33:16.613Z"
   },
   {
    "duration": 3,
    "start_time": "2022-05-31T11:33:17.373Z"
   },
   {
    "duration": 254,
    "start_time": "2022-05-31T11:33:18.822Z"
   },
   {
    "duration": 53,
    "start_time": "2022-05-31T11:33:19.489Z"
   },
   {
    "duration": 3,
    "start_time": "2022-05-31T11:33:20.097Z"
   },
   {
    "duration": 3,
    "start_time": "2022-05-31T11:33:21.009Z"
   },
   {
    "duration": 395,
    "start_time": "2022-05-31T11:33:21.665Z"
   },
   {
    "duration": 2,
    "start_time": "2022-05-31T11:33:22.497Z"
   },
   {
    "duration": 3,
    "start_time": "2022-05-31T11:33:23.265Z"
   },
   {
    "duration": 16,
    "start_time": "2022-05-31T11:33:24.021Z"
   },
   {
    "duration": 66,
    "start_time": "2022-05-31T11:33:24.789Z"
   },
   {
    "duration": 4,
    "start_time": "2022-05-31T11:33:25.346Z"
   },
   {
    "duration": 175,
    "start_time": "2022-05-31T11:33:26.529Z"
   },
   {
    "duration": 224,
    "start_time": "2022-05-31T11:33:27.437Z"
   },
   {
    "duration": 5,
    "start_time": "2022-05-31T11:33:28.085Z"
   },
   {
    "duration": 5,
    "start_time": "2022-05-31T11:33:28.634Z"
   },
   {
    "duration": 5,
    "start_time": "2022-05-31T11:33:29.137Z"
   },
   {
    "duration": 3,
    "start_time": "2022-05-31T11:33:34.669Z"
   },
   {
    "duration": 46,
    "start_time": "2022-05-31T11:33:37.062Z"
   },
   {
    "duration": 549,
    "start_time": "2022-05-31T11:33:39.765Z"
   },
   {
    "duration": 31,
    "start_time": "2022-05-31T11:33:44.401Z"
   },
   {
    "duration": 21,
    "start_time": "2022-05-31T11:33:44.802Z"
   },
   {
    "duration": 18,
    "start_time": "2022-05-31T11:33:45.005Z"
   },
   {
    "duration": 4,
    "start_time": "2022-05-31T11:33:45.173Z"
   },
   {
    "duration": 4,
    "start_time": "2022-05-31T11:33:45.597Z"
   },
   {
    "duration": 5,
    "start_time": "2022-05-31T11:33:46.186Z"
   },
   {
    "duration": 162,
    "start_time": "2022-05-31T11:33:48.173Z"
   },
   {
    "duration": 21,
    "start_time": "2022-05-31T11:33:48.509Z"
   },
   {
    "duration": 16,
    "start_time": "2022-05-31T11:33:50.321Z"
   },
   {
    "duration": 14,
    "start_time": "2022-05-31T11:33:50.588Z"
   },
   {
    "duration": 2,
    "start_time": "2022-05-31T11:33:53.105Z"
   },
   {
    "duration": 3,
    "start_time": "2022-05-31T11:33:56.625Z"
   },
   {
    "duration": 13,
    "start_time": "2022-05-31T11:34:30.566Z"
   },
   {
    "duration": 3,
    "start_time": "2022-05-31T11:34:33.277Z"
   },
   {
    "duration": 31,
    "start_time": "2022-05-31T11:34:34.152Z"
   },
   {
    "duration": 30,
    "start_time": "2022-05-31T11:34:36.369Z"
   },
   {
    "duration": 28,
    "start_time": "2022-05-31T11:34:39.034Z"
   },
   {
    "duration": 30,
    "start_time": "2022-05-31T11:34:52.606Z"
   },
   {
    "duration": 46,
    "start_time": "2022-05-31T11:36:13.918Z"
   },
   {
    "duration": 13,
    "start_time": "2022-05-31T11:36:47.729Z"
   },
   {
    "duration": 18,
    "start_time": "2022-05-31T11:39:51.874Z"
   },
   {
    "duration": 3,
    "start_time": "2022-05-31T11:45:18.275Z"
   },
   {
    "duration": 33,
    "start_time": "2022-05-31T11:47:40.188Z"
   },
   {
    "duration": 12,
    "start_time": "2022-05-31T11:47:45.412Z"
   },
   {
    "duration": 7,
    "start_time": "2022-05-31T11:48:08.434Z"
   },
   {
    "duration": 6,
    "start_time": "2022-05-31T11:48:09.911Z"
   },
   {
    "duration": 8,
    "start_time": "2022-05-31T11:48:11.690Z"
   },
   {
    "duration": 4,
    "start_time": "2022-05-31T11:48:15.154Z"
   },
   {
    "duration": 30,
    "start_time": "2022-05-31T11:48:16.583Z"
   },
   {
    "duration": 6,
    "start_time": "2022-05-31T11:48:39.127Z"
   },
   {
    "duration": 4,
    "start_time": "2022-05-31T11:48:43.010Z"
   },
   {
    "duration": 30,
    "start_time": "2022-05-31T11:49:35.438Z"
   },
   {
    "duration": 638,
    "start_time": "2022-05-31T11:50:04.122Z"
   },
   {
    "duration": 4,
    "start_time": "2022-05-31T11:50:45.500Z"
   },
   {
    "duration": 18,
    "start_time": "2022-05-31T11:50:55.066Z"
   },
   {
    "duration": 12,
    "start_time": "2022-05-31T11:51:54.022Z"
   },
   {
    "duration": 10,
    "start_time": "2022-05-31T11:52:38.158Z"
   },
   {
    "duration": 10,
    "start_time": "2022-05-31T11:52:39.142Z"
   },
   {
    "duration": 4,
    "start_time": "2022-05-31T11:52:44.168Z"
   },
   {
    "duration": 4,
    "start_time": "2022-05-31T11:52:44.854Z"
   },
   {
    "duration": 147,
    "start_time": "2022-05-31T11:52:47.238Z"
   },
   {
    "duration": 154,
    "start_time": "2022-05-31T11:54:17.878Z"
   },
   {
    "duration": 167,
    "start_time": "2022-05-31T11:54:26.543Z"
   },
   {
    "duration": 148,
    "start_time": "2022-05-31T11:55:08.007Z"
   },
   {
    "duration": 147,
    "start_time": "2022-05-31T11:55:24.947Z"
   },
   {
    "duration": 144,
    "start_time": "2022-05-31T11:56:17.654Z"
   },
   {
    "duration": 148,
    "start_time": "2022-05-31T11:56:21.451Z"
   },
   {
    "duration": 158,
    "start_time": "2022-05-31T11:56:29.466Z"
   },
   {
    "duration": 144,
    "start_time": "2022-05-31T11:56:36.327Z"
   },
   {
    "duration": 222,
    "start_time": "2022-05-31T12:00:39.991Z"
   },
   {
    "duration": 126,
    "start_time": "2022-05-31T12:00:48.239Z"
   },
   {
    "duration": 146,
    "start_time": "2022-05-31T12:02:49.963Z"
   },
   {
    "duration": 144,
    "start_time": "2022-05-31T12:03:30.787Z"
   },
   {
    "duration": 165,
    "start_time": "2022-05-31T12:03:38.857Z"
   },
   {
    "duration": 144,
    "start_time": "2022-05-31T12:03:41.364Z"
   },
   {
    "duration": 167,
    "start_time": "2022-05-31T12:03:56.935Z"
   },
   {
    "duration": 164,
    "start_time": "2022-05-31T12:04:05.139Z"
   },
   {
    "duration": 162,
    "start_time": "2022-05-31T12:04:41.935Z"
   },
   {
    "duration": 144,
    "start_time": "2022-05-31T12:04:57.395Z"
   },
   {
    "duration": 149,
    "start_time": "2022-05-31T12:05:18.123Z"
   },
   {
    "duration": 284,
    "start_time": "2022-05-31T12:05:23.491Z"
   },
   {
    "duration": 141,
    "start_time": "2022-05-31T12:05:27.153Z"
   },
   {
    "duration": 141,
    "start_time": "2022-05-31T12:05:29.963Z"
   },
   {
    "duration": 29,
    "start_time": "2022-05-31T12:06:20.843Z"
   },
   {
    "duration": 11,
    "start_time": "2022-05-31T12:06:49.671Z"
   },
   {
    "duration": 9,
    "start_time": "2022-05-31T12:07:48.284Z"
   },
   {
    "duration": 26,
    "start_time": "2022-05-31T12:08:00.103Z"
   },
   {
    "duration": 26,
    "start_time": "2022-05-31T12:10:02.835Z"
   },
   {
    "duration": 32,
    "start_time": "2022-05-31T12:12:17.008Z"
   },
   {
    "duration": 34,
    "start_time": "2022-05-31T12:14:35.452Z"
   },
   {
    "duration": 38,
    "start_time": "2022-05-31T12:14:43.076Z"
   },
   {
    "duration": 131,
    "start_time": "2022-05-31T12:16:11.907Z"
   },
   {
    "duration": 6,
    "start_time": "2022-05-31T12:22:30.837Z"
   },
   {
    "duration": 4,
    "start_time": "2022-05-31T12:27:53.781Z"
   },
   {
    "duration": 4,
    "start_time": "2022-05-31T12:27:55.297Z"
   },
   {
    "duration": 6,
    "start_time": "2022-05-31T12:28:00.347Z"
   },
   {
    "duration": 4,
    "start_time": "2022-05-31T12:30:57.198Z"
   },
   {
    "duration": 5,
    "start_time": "2022-05-31T12:30:57.665Z"
   },
   {
    "duration": 10,
    "start_time": "2022-05-31T12:31:02.415Z"
   },
   {
    "duration": 4,
    "start_time": "2022-05-31T12:31:34.490Z"
   },
   {
    "duration": 5,
    "start_time": "2022-05-31T12:31:36.187Z"
   },
   {
    "duration": 7,
    "start_time": "2022-05-31T12:31:41.506Z"
   },
   {
    "duration": 15,
    "start_time": "2022-05-31T12:39:29.652Z"
   },
   {
    "duration": 364,
    "start_time": "2022-05-31T12:39:38.528Z"
   },
   {
    "duration": 11,
    "start_time": "2022-05-31T12:40:07.219Z"
   },
   {
    "duration": 653,
    "start_time": "2022-05-31T12:41:55.969Z"
   },
   {
    "duration": 10,
    "start_time": "2022-05-31T12:42:03.496Z"
   },
   {
    "duration": 11,
    "start_time": "2022-05-31T12:42:09.923Z"
   },
   {
    "duration": 11,
    "start_time": "2022-05-31T12:42:13.751Z"
   },
   {
    "duration": 5,
    "start_time": "2022-05-31T12:42:20.491Z"
   },
   {
    "duration": 15,
    "start_time": "2022-05-31T12:42:25.991Z"
   },
   {
    "duration": 125,
    "start_time": "2022-05-31T12:42:34.528Z"
   },
   {
    "duration": 10,
    "start_time": "2022-05-31T12:44:31.347Z"
   },
   {
    "duration": 361,
    "start_time": "2022-05-31T12:44:39.600Z"
   },
   {
    "duration": 12,
    "start_time": "2022-05-31T12:46:20.880Z"
   },
   {
    "duration": 10,
    "start_time": "2022-05-31T12:46:33.080Z"
   },
   {
    "duration": 5,
    "start_time": "2022-05-31T12:46:46.043Z"
   },
   {
    "duration": 21,
    "start_time": "2022-05-31T12:48:25.167Z"
   },
   {
    "duration": 11,
    "start_time": "2022-05-31T12:48:36.501Z"
   },
   {
    "duration": 5,
    "start_time": "2022-05-31T12:48:41.608Z"
   },
   {
    "duration": 12,
    "start_time": "2022-05-31T12:48:59.092Z"
   },
   {
    "duration": 11,
    "start_time": "2022-05-31T12:49:12.756Z"
   },
   {
    "duration": 9,
    "start_time": "2022-05-31T12:49:21.971Z"
   },
   {
    "duration": 8,
    "start_time": "2022-05-31T12:49:40.891Z"
   },
   {
    "duration": 5,
    "start_time": "2022-05-31T12:49:43.241Z"
   },
   {
    "duration": 6,
    "start_time": "2022-05-31T12:49:44.627Z"
   },
   {
    "duration": 13,
    "start_time": "2022-05-31T12:49:48.284Z"
   },
   {
    "duration": 5,
    "start_time": "2022-05-31T12:49:55.420Z"
   },
   {
    "duration": 137,
    "start_time": "2022-05-31T12:50:05.137Z"
   },
   {
    "duration": 8,
    "start_time": "2022-05-31T12:50:08.940Z"
   },
   {
    "duration": 6,
    "start_time": "2022-05-31T12:53:09.728Z"
   },
   {
    "duration": 32,
    "start_time": "2022-05-31T12:54:59.111Z"
   },
   {
    "duration": 10,
    "start_time": "2022-05-31T12:55:24.288Z"
   },
   {
    "duration": 4,
    "start_time": "2022-05-31T12:55:31.912Z"
   },
   {
    "duration": 5,
    "start_time": "2022-05-31T12:55:48.044Z"
   },
   {
    "duration": 5,
    "start_time": "2022-05-31T12:55:50.668Z"
   },
   {
    "duration": 3,
    "start_time": "2022-05-31T12:56:39.899Z"
   },
   {
    "duration": 37,
    "start_time": "2022-05-31T12:56:45.841Z"
   },
   {
    "duration": 24,
    "start_time": "2022-05-31T12:57:24.684Z"
   },
   {
    "duration": 74,
    "start_time": "2022-06-01T09:56:55.559Z"
   },
   {
    "duration": 488,
    "start_time": "2022-06-01T09:57:42.132Z"
   },
   {
    "duration": 438,
    "start_time": "2022-06-01T09:57:42.622Z"
   },
   {
    "duration": 2,
    "start_time": "2022-06-01T09:57:43.062Z"
   },
   {
    "duration": 292,
    "start_time": "2022-06-01T09:57:43.066Z"
   },
   {
    "duration": 72,
    "start_time": "2022-06-01T09:57:43.361Z"
   },
   {
    "duration": 3,
    "start_time": "2022-06-01T09:57:43.435Z"
   },
   {
    "duration": 7,
    "start_time": "2022-06-01T09:57:43.440Z"
   },
   {
    "duration": 495,
    "start_time": "2022-06-01T09:57:43.448Z"
   },
   {
    "duration": 3,
    "start_time": "2022-06-01T09:57:43.945Z"
   },
   {
    "duration": 11,
    "start_time": "2022-06-01T09:57:43.950Z"
   },
   {
    "duration": 21,
    "start_time": "2022-06-01T09:57:43.964Z"
   },
   {
    "duration": 94,
    "start_time": "2022-06-01T09:57:43.987Z"
   },
   {
    "duration": 5,
    "start_time": "2022-06-01T09:57:44.083Z"
   },
   {
    "duration": 211,
    "start_time": "2022-06-01T09:57:44.091Z"
   },
   {
    "duration": 270,
    "start_time": "2022-06-01T09:57:44.304Z"
   },
   {
    "duration": 6,
    "start_time": "2022-06-01T09:57:44.576Z"
   },
   {
    "duration": 14,
    "start_time": "2022-06-01T09:57:44.583Z"
   },
   {
    "duration": 7,
    "start_time": "2022-06-01T09:57:44.599Z"
   },
   {
    "duration": 15,
    "start_time": "2022-06-01T09:57:44.608Z"
   },
   {
    "duration": 67,
    "start_time": "2022-06-01T09:57:44.625Z"
   },
   {
    "duration": 783,
    "start_time": "2022-06-01T09:57:44.694Z"
   },
   {
    "duration": 34,
    "start_time": "2022-06-01T09:57:45.479Z"
   },
   {
    "duration": 54,
    "start_time": "2022-06-01T09:57:45.515Z"
   },
   {
    "duration": 22,
    "start_time": "2022-06-01T09:57:45.571Z"
   },
   {
    "duration": 4,
    "start_time": "2022-06-01T09:57:45.595Z"
   },
   {
    "duration": 9,
    "start_time": "2022-06-01T09:57:45.601Z"
   },
   {
    "duration": 9,
    "start_time": "2022-06-01T09:57:45.612Z"
   },
   {
    "duration": 253,
    "start_time": "2022-06-01T09:57:45.623Z"
   },
   {
    "duration": 29,
    "start_time": "2022-06-01T09:57:45.879Z"
   },
   {
    "duration": 21,
    "start_time": "2022-06-01T09:57:45.909Z"
   },
   {
    "duration": 43,
    "start_time": "2022-06-01T09:57:45.932Z"
   },
   {
    "duration": 3,
    "start_time": "2022-06-01T09:57:45.977Z"
   },
   {
    "duration": 12,
    "start_time": "2022-06-01T09:57:45.981Z"
   },
   {
    "duration": 19,
    "start_time": "2022-06-01T09:57:45.995Z"
   },
   {
    "duration": 4,
    "start_time": "2022-06-01T09:57:46.016Z"
   },
   {
    "duration": 53,
    "start_time": "2022-06-01T09:57:46.022Z"
   },
   {
    "duration": 34,
    "start_time": "2022-06-01T09:57:46.077Z"
   },
   {
    "duration": 53,
    "start_time": "2022-06-01T09:57:46.113Z"
   },
   {
    "duration": 33,
    "start_time": "2022-06-01T09:57:46.168Z"
   },
   {
    "duration": 74,
    "start_time": "2022-06-01T09:57:46.203Z"
   },
   {
    "duration": 21,
    "start_time": "2022-06-01T09:57:46.282Z"
   },
   {
    "duration": 30,
    "start_time": "2022-06-01T09:57:46.305Z"
   },
   {
    "duration": 27,
    "start_time": "2022-06-01T09:57:46.338Z"
   },
   {
    "duration": 70,
    "start_time": "2022-06-01T09:57:46.368Z"
   },
   {
    "duration": 20,
    "start_time": "2022-06-01T09:57:46.441Z"
   },
   {
    "duration": 9,
    "start_time": "2022-06-01T09:57:46.464Z"
   },
   {
    "duration": 9,
    "start_time": "2022-06-01T09:57:46.475Z"
   },
   {
    "duration": 13,
    "start_time": "2022-06-01T09:57:46.486Z"
   },
   {
    "duration": 5,
    "start_time": "2022-06-01T09:57:46.501Z"
   },
   {
    "duration": 72,
    "start_time": "2022-06-01T09:57:46.508Z"
   },
   {
    "duration": 5,
    "start_time": "2022-06-01T09:57:46.582Z"
   },
   {
    "duration": 24,
    "start_time": "2022-06-01T09:57:46.589Z"
   },
   {
    "duration": 15,
    "start_time": "2022-06-01T09:57:46.615Z"
   },
   {
    "duration": 41,
    "start_time": "2022-06-01T09:57:46.633Z"
   },
   {
    "duration": 16,
    "start_time": "2022-06-01T09:57:46.676Z"
   },
   {
    "duration": 15,
    "start_time": "2022-06-01T09:57:46.694Z"
   },
   {
    "duration": 11,
    "start_time": "2022-06-01T09:57:46.711Z"
   },
   {
    "duration": 208,
    "start_time": "2022-06-01T09:57:46.724Z"
   },
   {
    "duration": 188,
    "start_time": "2022-06-01T09:57:46.934Z"
   },
   {
    "duration": 211,
    "start_time": "2022-06-01T09:57:47.125Z"
   },
   {
    "duration": 312,
    "start_time": "2022-06-01T09:57:47.338Z"
   },
   {
    "duration": 216,
    "start_time": "2022-06-01T09:57:47.653Z"
   },
   {
    "duration": 251,
    "start_time": "2022-06-01T09:57:47.871Z"
   },
   {
    "duration": 66,
    "start_time": "2022-06-01T09:57:48.125Z"
   },
   {
    "duration": 10,
    "start_time": "2022-06-01T09:57:48.193Z"
   },
   {
    "duration": 46,
    "start_time": "2022-06-01T09:57:48.206Z"
   },
   {
    "duration": 15,
    "start_time": "2022-06-01T09:57:48.254Z"
   },
   {
    "duration": 12,
    "start_time": "2022-06-01T09:57:48.271Z"
   },
   {
    "duration": 13,
    "start_time": "2022-06-01T09:57:48.286Z"
   },
   {
    "duration": 13,
    "start_time": "2022-06-01T09:57:48.301Z"
   },
   {
    "duration": 11,
    "start_time": "2022-06-01T09:57:48.316Z"
   },
   {
    "duration": 40,
    "start_time": "2022-06-01T09:57:48.329Z"
   },
   {
    "duration": 22,
    "start_time": "2022-06-01T09:57:48.373Z"
   },
   {
    "duration": 10,
    "start_time": "2022-06-01T09:57:48.398Z"
   },
   {
    "duration": 11,
    "start_time": "2022-06-01T09:57:48.410Z"
   },
   {
    "duration": 11,
    "start_time": "2022-06-01T09:57:48.423Z"
   },
   {
    "duration": 10,
    "start_time": "2022-06-01T09:57:48.435Z"
   },
   {
    "duration": 5,
    "start_time": "2022-06-01T09:57:54.345Z"
   },
   {
    "duration": 59,
    "start_time": "2022-06-01T09:59:13.139Z"
   },
   {
    "duration": 192,
    "start_time": "2022-06-01T09:59:26.757Z"
   },
   {
    "duration": 188,
    "start_time": "2022-06-01T09:59:42.215Z"
   },
   {
    "duration": 184,
    "start_time": "2022-06-01T09:59:46.062Z"
   },
   {
    "duration": 142,
    "start_time": "2022-06-01T10:00:26.888Z"
   },
   {
    "duration": 3,
    "start_time": "2022-06-01T10:00:33.448Z"
   },
   {
    "duration": 286,
    "start_time": "2022-06-01T10:00:34.590Z"
   },
   {
    "duration": 2439,
    "start_time": "2022-06-01T10:00:36.400Z"
   },
   {
    "duration": 496,
    "start_time": "2022-06-01T10:03:25.897Z"
   },
   {
    "duration": 421,
    "start_time": "2022-06-01T10:03:26.395Z"
   },
   {
    "duration": 3,
    "start_time": "2022-06-01T10:03:26.818Z"
   },
   {
    "duration": 304,
    "start_time": "2022-06-01T10:03:26.822Z"
   },
   {
    "duration": 66,
    "start_time": "2022-06-01T10:03:27.128Z"
   },
   {
    "duration": 3,
    "start_time": "2022-06-01T10:03:27.195Z"
   },
   {
    "duration": 7,
    "start_time": "2022-06-01T10:03:27.200Z"
   },
   {
    "duration": 468,
    "start_time": "2022-06-01T10:03:27.209Z"
   },
   {
    "duration": 2,
    "start_time": "2022-06-01T10:03:27.679Z"
   },
   {
    "duration": 7,
    "start_time": "2022-06-01T10:03:27.683Z"
   },
   {
    "duration": 25,
    "start_time": "2022-06-01T10:03:27.691Z"
   },
   {
    "duration": 88,
    "start_time": "2022-06-01T10:03:27.718Z"
   },
   {
    "duration": 5,
    "start_time": "2022-06-01T10:03:27.807Z"
   },
   {
    "duration": 212,
    "start_time": "2022-06-01T10:03:27.815Z"
   },
   {
    "duration": 276,
    "start_time": "2022-06-01T10:03:28.029Z"
   },
   {
    "duration": 6,
    "start_time": "2022-06-01T10:03:28.306Z"
   },
   {
    "duration": 5,
    "start_time": "2022-06-01T10:03:28.314Z"
   },
   {
    "duration": 8,
    "start_time": "2022-06-01T10:03:28.321Z"
   },
   {
    "duration": 34,
    "start_time": "2022-06-01T10:03:28.331Z"
   },
   {
    "duration": 77,
    "start_time": "2022-06-01T10:03:28.367Z"
   },
   {
    "duration": 841,
    "start_time": "2022-06-01T10:03:28.446Z"
   },
   {
    "duration": 34,
    "start_time": "2022-06-01T10:03:29.289Z"
   },
   {
    "duration": 52,
    "start_time": "2022-06-01T10:03:29.325Z"
   },
   {
    "duration": 20,
    "start_time": "2022-06-01T10:03:29.379Z"
   },
   {
    "duration": 4,
    "start_time": "2022-06-01T10:03:29.401Z"
   },
   {
    "duration": 12,
    "start_time": "2022-06-01T10:03:29.407Z"
   },
   {
    "duration": 11,
    "start_time": "2022-06-01T10:03:29.421Z"
   },
   {
    "duration": 257,
    "start_time": "2022-06-01T10:03:29.434Z"
   },
   {
    "duration": 24,
    "start_time": "2022-06-01T10:03:29.692Z"
   },
   {
    "duration": 20,
    "start_time": "2022-06-01T10:03:29.718Z"
   },
   {
    "duration": 36,
    "start_time": "2022-06-01T10:03:29.740Z"
   },
   {
    "duration": 4,
    "start_time": "2022-06-01T10:03:29.778Z"
   },
   {
    "duration": 17,
    "start_time": "2022-06-01T10:03:29.784Z"
   },
   {
    "duration": 25,
    "start_time": "2022-06-01T10:03:29.803Z"
   },
   {
    "duration": 4,
    "start_time": "2022-06-01T10:03:29.830Z"
   },
   {
    "duration": 51,
    "start_time": "2022-06-01T10:03:29.836Z"
   },
   {
    "duration": 35,
    "start_time": "2022-06-01T10:03:29.889Z"
   },
   {
    "duration": 47,
    "start_time": "2022-06-01T10:03:29.925Z"
   },
   {
    "duration": 40,
    "start_time": "2022-06-01T10:03:29.974Z"
   },
   {
    "duration": 81,
    "start_time": "2022-06-01T10:03:30.017Z"
   },
   {
    "duration": 15,
    "start_time": "2022-06-01T10:03:30.105Z"
   },
   {
    "duration": 35,
    "start_time": "2022-06-01T10:03:30.122Z"
   },
   {
    "duration": 7,
    "start_time": "2022-06-01T10:03:30.159Z"
   },
   {
    "duration": 50,
    "start_time": "2022-06-01T10:03:30.169Z"
   },
   {
    "duration": 15,
    "start_time": "2022-06-01T10:03:30.220Z"
   },
   {
    "duration": 28,
    "start_time": "2022-06-01T10:03:30.237Z"
   },
   {
    "duration": 31,
    "start_time": "2022-06-01T10:03:30.267Z"
   },
   {
    "duration": 21,
    "start_time": "2022-06-01T10:03:30.300Z"
   },
   {
    "duration": 23,
    "start_time": "2022-06-01T10:03:30.322Z"
   },
   {
    "duration": 46,
    "start_time": "2022-06-01T10:03:30.347Z"
   },
   {
    "duration": 5,
    "start_time": "2022-06-01T10:03:30.395Z"
   },
   {
    "duration": 27,
    "start_time": "2022-06-01T10:03:30.402Z"
   },
   {
    "duration": 13,
    "start_time": "2022-06-01T10:03:30.431Z"
   },
   {
    "duration": 18,
    "start_time": "2022-06-01T10:03:30.464Z"
   },
   {
    "duration": 26,
    "start_time": "2022-06-01T10:03:30.484Z"
   },
   {
    "duration": 19,
    "start_time": "2022-06-01T10:03:30.512Z"
   },
   {
    "duration": 38,
    "start_time": "2022-06-01T10:03:30.533Z"
   },
   {
    "duration": 214,
    "start_time": "2022-06-01T10:03:30.573Z"
   },
   {
    "duration": 173,
    "start_time": "2022-06-01T10:03:30.789Z"
   },
   {
    "duration": 177,
    "start_time": "2022-06-01T10:03:30.965Z"
   },
   {
    "duration": 208,
    "start_time": "2022-06-01T10:03:31.144Z"
   },
   {
    "duration": 174,
    "start_time": "2022-06-01T10:03:31.354Z"
   },
   {
    "duration": 175,
    "start_time": "2022-06-01T10:03:31.530Z"
   },
   {
    "duration": 38,
    "start_time": "2022-06-01T10:03:31.707Z"
   },
   {
    "duration": 22,
    "start_time": "2022-06-01T10:03:31.747Z"
   },
   {
    "duration": 16,
    "start_time": "2022-06-01T10:03:31.771Z"
   },
   {
    "duration": 11,
    "start_time": "2022-06-01T10:03:31.789Z"
   },
   {
    "duration": 11,
    "start_time": "2022-06-01T10:03:31.802Z"
   },
   {
    "duration": 7,
    "start_time": "2022-06-01T10:03:31.814Z"
   },
   {
    "duration": 15,
    "start_time": "2022-06-01T10:03:31.823Z"
   },
   {
    "duration": 16,
    "start_time": "2022-06-01T10:03:31.841Z"
   },
   {
    "duration": 14,
    "start_time": "2022-06-01T10:03:31.859Z"
   },
   {
    "duration": 12,
    "start_time": "2022-06-01T10:03:31.875Z"
   },
   {
    "duration": 13,
    "start_time": "2022-06-01T10:03:31.889Z"
   },
   {
    "duration": 15,
    "start_time": "2022-06-01T10:03:31.903Z"
   },
   {
    "duration": 10,
    "start_time": "2022-06-01T10:03:31.920Z"
   },
   {
    "duration": 10,
    "start_time": "2022-06-01T10:03:31.932Z"
   },
   {
    "duration": 10,
    "start_time": "2022-06-01T10:03:31.944Z"
   },
   {
    "duration": 2458,
    "start_time": "2022-06-01T10:03:31.956Z"
   },
   {
    "duration": 206,
    "start_time": "2022-06-01T10:03:34.417Z"
   },
   {
    "duration": 199,
    "start_time": "2022-06-01T10:03:34.625Z"
   },
   {
    "duration": 198,
    "start_time": "2022-06-01T10:03:34.826Z"
   },
   {
    "duration": 56,
    "start_time": "2022-06-01T10:03:35.026Z"
   }
  ],
  "kernelspec": {
   "display_name": "Python 3 (ipykernel)",
   "language": "python",
   "name": "python3"
  },
  "language_info": {
   "codemirror_mode": {
    "name": "ipython",
    "version": 3
   },
   "file_extension": ".py",
   "mimetype": "text/x-python",
   "name": "python",
   "nbconvert_exporter": "python",
   "pygments_lexer": "ipython3",
   "version": "3.9.5"
  },
  "toc": {
   "base_numbering": 1,
   "nav_menu": {},
   "number_sections": true,
   "sideBar": true,
   "skip_h1_title": true,
   "title_cell": "Table of Contents",
   "title_sidebar": "Contents",
   "toc_cell": false,
   "toc_position": {},
   "toc_section_display": true,
   "toc_window_display": true
  }
 },
 "nbformat": 4,
 "nbformat_minor": 2
}
