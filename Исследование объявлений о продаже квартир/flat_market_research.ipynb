{
 "cells": [
  {
   "cell_type": "markdown",
   "metadata": {
    "toc": true
   },
   "source": [
    "<h1>Содержание<span class=\"tocSkip\"></span></h1>\n",
    "<div class=\"toc\"><ul class=\"toc-item\"><li><span><a href=\"#Изучение-данных-из-файла\" data-toc-modified-id=\"Изучение-данных-из-файла-1\"><span class=\"toc-item-num\">1&nbsp;&nbsp;</span>Изучение данных из файла</a></span><ul class=\"toc-item\"><li><span><a href=\"#Вывод\" data-toc-modified-id=\"Вывод-1.1\"><span class=\"toc-item-num\">1.1&nbsp;&nbsp;</span>Вывод</a></span></li></ul></li><li><span><a href=\"#Предобработка-данных\" data-toc-modified-id=\"Предобработка-данных-2\"><span class=\"toc-item-num\">2&nbsp;&nbsp;</span>Предобработка данных</a></span></li><li><span><a href=\"#Расчёты-и-добавление-результатов-в-таблицу\" data-toc-modified-id=\"Расчёты-и-добавление-результатов-в-таблицу-3\"><span class=\"toc-item-num\">3&nbsp;&nbsp;</span>Расчёты и добавление результатов в таблицу</a></span></li><li><span><a href=\"#Исследовательский-анализ-данных\" data-toc-modified-id=\"Исследовательский-анализ-данных-4\"><span class=\"toc-item-num\">4&nbsp;&nbsp;</span>Исследовательский анализ данных</a></span></li><li><span><a href=\"#Общий-вывод\" data-toc-modified-id=\"Общий-вывод-5\"><span class=\"toc-item-num\">5&nbsp;&nbsp;</span>Общий вывод</a></span></li><li><span><a href=\"#Чек-лист-готовности-проекта\" data-toc-modified-id=\"Чек-лист-готовности-проекта-6\"><span class=\"toc-item-num\">6&nbsp;&nbsp;</span>Чек-лист готовности проекта</a></span></li></ul></div>"
   ]
  },
  {
   "cell_type": "markdown",
   "metadata": {},
   "source": [
    "# Исследование объявлений о продаже квартир\n",
    "\n",
    "В вашем распоряжении данные сервиса Яндекc Недвижимость — архив объявлений о продаже квартир в Санкт-Петербурге и соседних населённых пунктах за несколько лет. Нужно научиться определять рыночную стоимость объектов недвижимости. Ваша задача — установить параметры. Это позволит построить автоматизированную систему: она отследит аномалии и мошенническую деятельность. \n",
    "\n",
    "По каждой квартире на продажу доступны два вида данных. Первые вписаны пользователем, вторые получены автоматически на основе картографических данных. Например, расстояние до центра, аэропорта, ближайшего парка и водоёма. "
   ]
  },
  {
   "cell_type": "markdown",
   "metadata": {},
   "source": [
    "## Изучение данных из файла"
   ]
  },
  {
   "cell_type": "code",
   "execution_count": 1,
   "metadata": {},
   "outputs": [],
   "source": [
    "# импорт библиотеки pandas\n",
    "import pandas as pd"
   ]
  },
  {
   "cell_type": "code",
   "execution_count": 2,
   "metadata": {},
   "outputs": [],
   "source": [
    "import warnings\n",
    "warnings.filterwarnings(\"ignore\")"
   ]
  },
  {
   "cell_type": "code",
   "execution_count": 3,
   "metadata": {},
   "outputs": [],
   "source": [
    "import matplotlib.pyplot as plt"
   ]
  },
  {
   "cell_type": "code",
   "execution_count": 4,
   "metadata": {},
   "outputs": [],
   "source": [
    "import seaborn"
   ]
  },
  {
   "cell_type": "code",
   "execution_count": 5,
   "metadata": {},
   "outputs": [],
   "source": [
    "# чтение файла с данными и сохранение в df\n",
    "df = pd.read_csv('/datasets/real_estate_data.csv')"
   ]
  },
  {
   "cell_type": "code",
   "execution_count": 6,
   "metadata": {},
   "outputs": [
    {
     "data": {
      "text/html": [
       "<div>\n",
       "<style scoped>\n",
       "    .dataframe tbody tr th:only-of-type {\n",
       "        vertical-align: middle;\n",
       "    }\n",
       "\n",
       "    .dataframe tbody tr th {\n",
       "        vertical-align: top;\n",
       "    }\n",
       "\n",
       "    .dataframe thead th {\n",
       "        text-align: right;\n",
       "    }\n",
       "</style>\n",
       "<table border=\"1\" class=\"dataframe\">\n",
       "  <thead>\n",
       "    <tr style=\"text-align: right;\">\n",
       "      <th></th>\n",
       "      <th>total_images\\tlast_price\\ttotal_area\\tfirst_day_exposition\\trooms\\tceiling_height\\tfloors_total\\tliving_area\\tfloor\\tis_apartment\\tstudio\\topen_plan\\tkitchen_area\\tbalcony\\tlocality_name\\tairports_nearest\\tcityCenters_nearest\\tparks_around3000\\tparks_nearest\\tponds_around3000\\tponds_nearest\\tdays_exposition</th>\n",
       "    </tr>\n",
       "  </thead>\n",
       "  <tbody>\n",
       "    <tr>\n",
       "      <th>0</th>\n",
       "      <td>20\\t13000000.0\\t108.0\\t2019-03-07T00:00:00\\t3\\...</td>\n",
       "    </tr>\n",
       "    <tr>\n",
       "      <th>1</th>\n",
       "      <td>7\\t3350000.0\\t40.4\\t2018-12-04T00:00:00\\t1\\t\\t...</td>\n",
       "    </tr>\n",
       "    <tr>\n",
       "      <th>2</th>\n",
       "      <td>10\\t5196000.0\\t56.0\\t2015-08-20T00:00:00\\t2\\t\\...</td>\n",
       "    </tr>\n",
       "    <tr>\n",
       "      <th>3</th>\n",
       "      <td>0\\t64900000.0\\t159.0\\t2015-07-24T00:00:00\\t3\\t...</td>\n",
       "    </tr>\n",
       "    <tr>\n",
       "      <th>4</th>\n",
       "      <td>2\\t10000000.0\\t100.0\\t2018-06-19T00:00:00\\t2\\t...</td>\n",
       "    </tr>\n",
       "    <tr>\n",
       "      <th>5</th>\n",
       "      <td>10\\t2890000.0\\t30.4\\t2018-09-10T00:00:00\\t1\\t\\...</td>\n",
       "    </tr>\n",
       "    <tr>\n",
       "      <th>6</th>\n",
       "      <td>6\\t3700000.0\\t37.3\\t2017-11-02T00:00:00\\t1\\t\\t...</td>\n",
       "    </tr>\n",
       "    <tr>\n",
       "      <th>7</th>\n",
       "      <td>5\\t7915000.0\\t71.6\\t2019-04-18T00:00:00\\t2\\t\\t...</td>\n",
       "    </tr>\n",
       "    <tr>\n",
       "      <th>8</th>\n",
       "      <td>20\\t2900000.0\\t33.16\\t2018-05-23T00:00:00\\t1\\t...</td>\n",
       "    </tr>\n",
       "    <tr>\n",
       "      <th>9</th>\n",
       "      <td>18\\t5400000.0\\t61.0\\t2017-02-26T00:00:00\\t3\\t2...</td>\n",
       "    </tr>\n",
       "  </tbody>\n",
       "</table>\n",
       "</div>"
      ],
      "text/plain": [
       "  total_images\\tlast_price\\ttotal_area\\tfirst_day_exposition\\trooms\\tceiling_height\\tfloors_total\\tliving_area\\tfloor\\tis_apartment\\tstudio\\topen_plan\\tkitchen_area\\tbalcony\\tlocality_name\\tairports_nearest\\tcityCenters_nearest\\tparks_around3000\\tparks_nearest\\tponds_around3000\\tponds_nearest\\tdays_exposition\n",
       "0  20\\t13000000.0\\t108.0\\t2019-03-07T00:00:00\\t3\\...                                                                                                                                                                                                                                                                  \n",
       "1  7\\t3350000.0\\t40.4\\t2018-12-04T00:00:00\\t1\\t\\t...                                                                                                                                                                                                                                                                  \n",
       "2  10\\t5196000.0\\t56.0\\t2015-08-20T00:00:00\\t2\\t\\...                                                                                                                                                                                                                                                                  \n",
       "3  0\\t64900000.0\\t159.0\\t2015-07-24T00:00:00\\t3\\t...                                                                                                                                                                                                                                                                  \n",
       "4  2\\t10000000.0\\t100.0\\t2018-06-19T00:00:00\\t2\\t...                                                                                                                                                                                                                                                                  \n",
       "5  10\\t2890000.0\\t30.4\\t2018-09-10T00:00:00\\t1\\t\\...                                                                                                                                                                                                                                                                  \n",
       "6  6\\t3700000.0\\t37.3\\t2017-11-02T00:00:00\\t1\\t\\t...                                                                                                                                                                                                                                                                  \n",
       "7  5\\t7915000.0\\t71.6\\t2019-04-18T00:00:00\\t2\\t\\t...                                                                                                                                                                                                                                                                  \n",
       "8  20\\t2900000.0\\t33.16\\t2018-05-23T00:00:00\\t1\\t...                                                                                                                                                                                                                                                                  \n",
       "9  18\\t5400000.0\\t61.0\\t2017-02-26T00:00:00\\t3\\t2...                                                                                                                                                                                                                                                                  "
      ]
     },
     "execution_count": 6,
     "metadata": {},
     "output_type": "execute_result"
    }
   ],
   "source": [
    "# получение первых 10 строк таблицы df\n",
    "df.head(10)"
   ]
  },
  {
   "cell_type": "markdown",
   "metadata": {},
   "source": [
    "Данные склеились в одну строку вместо того, чтобы разбиться по колонкам. Это произошло из-за разделителей в формате csv."
   ]
  },
  {
   "cell_type": "code",
   "execution_count": 7,
   "metadata": {},
   "outputs": [],
   "source": [
    "# Приведём данные к нормальному виду\n",
    "df = pd.read_csv('/datasets/real_estate_data.csv', sep='\\t', decimal=',')"
   ]
  },
  {
   "cell_type": "code",
   "execution_count": 8,
   "metadata": {},
   "outputs": [
    {
     "name": "stdout",
     "output_type": "stream",
     "text": [
      "<class 'pandas.core.frame.DataFrame'>\n",
      "RangeIndex: 23699 entries, 0 to 23698\n",
      "Data columns (total 22 columns):\n",
      " #   Column                Non-Null Count  Dtype \n",
      "---  ------                --------------  ----- \n",
      " 0   total_images          23699 non-null  int64 \n",
      " 1   last_price            23699 non-null  object\n",
      " 2   total_area            23699 non-null  object\n",
      " 3   first_day_exposition  23699 non-null  object\n",
      " 4   rooms                 23699 non-null  int64 \n",
      " 5   ceiling_height        14504 non-null  object\n",
      " 6   floors_total          23613 non-null  object\n",
      " 7   living_area           21796 non-null  object\n",
      " 8   floor                 23699 non-null  int64 \n",
      " 9   is_apartment          2775 non-null   object\n",
      " 10  studio                23699 non-null  bool  \n",
      " 11  open_plan             23699 non-null  bool  \n",
      " 12  kitchen_area          21421 non-null  object\n",
      " 13  balcony               12180 non-null  object\n",
      " 14  locality_name         23650 non-null  object\n",
      " 15  airports_nearest      18157 non-null  object\n",
      " 16  cityCenters_nearest   18180 non-null  object\n",
      " 17  parks_around3000      18181 non-null  object\n",
      " 18  parks_nearest         8079 non-null   object\n",
      " 19  ponds_around3000      18181 non-null  object\n",
      " 20  ponds_nearest         9110 non-null   object\n",
      " 21  days_exposition       20518 non-null  object\n",
      "dtypes: bool(2), int64(3), object(17)\n",
      "memory usage: 3.7+ MB\n"
     ]
    }
   ],
   "source": [
    "df.info()"
   ]
  },
  {
   "cell_type": "code",
   "execution_count": 9,
   "metadata": {},
   "outputs": [
    {
     "data": {
      "text/html": [
       "<div>\n",
       "<style scoped>\n",
       "    .dataframe tbody tr th:only-of-type {\n",
       "        vertical-align: middle;\n",
       "    }\n",
       "\n",
       "    .dataframe tbody tr th {\n",
       "        vertical-align: top;\n",
       "    }\n",
       "\n",
       "    .dataframe thead th {\n",
       "        text-align: right;\n",
       "    }\n",
       "</style>\n",
       "<table border=\"1\" class=\"dataframe\">\n",
       "  <thead>\n",
       "    <tr style=\"text-align: right;\">\n",
       "      <th></th>\n",
       "      <th>total_images</th>\n",
       "      <th>last_price</th>\n",
       "      <th>total_area</th>\n",
       "      <th>first_day_exposition</th>\n",
       "      <th>rooms</th>\n",
       "      <th>ceiling_height</th>\n",
       "      <th>floors_total</th>\n",
       "      <th>living_area</th>\n",
       "      <th>floor</th>\n",
       "      <th>is_apartment</th>\n",
       "      <th>...</th>\n",
       "      <th>kitchen_area</th>\n",
       "      <th>balcony</th>\n",
       "      <th>locality_name</th>\n",
       "      <th>airports_nearest</th>\n",
       "      <th>cityCenters_nearest</th>\n",
       "      <th>parks_around3000</th>\n",
       "      <th>parks_nearest</th>\n",
       "      <th>ponds_around3000</th>\n",
       "      <th>ponds_nearest</th>\n",
       "      <th>days_exposition</th>\n",
       "    </tr>\n",
       "  </thead>\n",
       "  <tbody>\n",
       "    <tr>\n",
       "      <th>0</th>\n",
       "      <td>20</td>\n",
       "      <td>13000000.0</td>\n",
       "      <td>108.0</td>\n",
       "      <td>2019-03-07T00:00:00</td>\n",
       "      <td>3</td>\n",
       "      <td>2.7</td>\n",
       "      <td>16.0</td>\n",
       "      <td>51.0</td>\n",
       "      <td>8</td>\n",
       "      <td>NaN</td>\n",
       "      <td>...</td>\n",
       "      <td>25.0</td>\n",
       "      <td>NaN</td>\n",
       "      <td>Санкт-Петербург</td>\n",
       "      <td>18863.0</td>\n",
       "      <td>16028.0</td>\n",
       "      <td>1.0</td>\n",
       "      <td>482.0</td>\n",
       "      <td>2.0</td>\n",
       "      <td>755.0</td>\n",
       "      <td>NaN</td>\n",
       "    </tr>\n",
       "    <tr>\n",
       "      <th>1</th>\n",
       "      <td>7</td>\n",
       "      <td>3350000.0</td>\n",
       "      <td>40.4</td>\n",
       "      <td>2018-12-04T00:00:00</td>\n",
       "      <td>1</td>\n",
       "      <td>NaN</td>\n",
       "      <td>11.0</td>\n",
       "      <td>18.6</td>\n",
       "      <td>1</td>\n",
       "      <td>NaN</td>\n",
       "      <td>...</td>\n",
       "      <td>11.0</td>\n",
       "      <td>2.0</td>\n",
       "      <td>посёлок Шушары</td>\n",
       "      <td>12817.0</td>\n",
       "      <td>18603.0</td>\n",
       "      <td>0.0</td>\n",
       "      <td>NaN</td>\n",
       "      <td>0.0</td>\n",
       "      <td>NaN</td>\n",
       "      <td>81.0</td>\n",
       "    </tr>\n",
       "    <tr>\n",
       "      <th>2</th>\n",
       "      <td>10</td>\n",
       "      <td>5196000.0</td>\n",
       "      <td>56.0</td>\n",
       "      <td>2015-08-20T00:00:00</td>\n",
       "      <td>2</td>\n",
       "      <td>NaN</td>\n",
       "      <td>5.0</td>\n",
       "      <td>34.3</td>\n",
       "      <td>4</td>\n",
       "      <td>NaN</td>\n",
       "      <td>...</td>\n",
       "      <td>8.3</td>\n",
       "      <td>0.0</td>\n",
       "      <td>Санкт-Петербург</td>\n",
       "      <td>21741.0</td>\n",
       "      <td>13933.0</td>\n",
       "      <td>1.0</td>\n",
       "      <td>90.0</td>\n",
       "      <td>2.0</td>\n",
       "      <td>574.0</td>\n",
       "      <td>558.0</td>\n",
       "    </tr>\n",
       "    <tr>\n",
       "      <th>3</th>\n",
       "      <td>0</td>\n",
       "      <td>64900000.0</td>\n",
       "      <td>159.0</td>\n",
       "      <td>2015-07-24T00:00:00</td>\n",
       "      <td>3</td>\n",
       "      <td>NaN</td>\n",
       "      <td>14.0</td>\n",
       "      <td>NaN</td>\n",
       "      <td>9</td>\n",
       "      <td>NaN</td>\n",
       "      <td>...</td>\n",
       "      <td>NaN</td>\n",
       "      <td>0.0</td>\n",
       "      <td>Санкт-Петербург</td>\n",
       "      <td>28098.0</td>\n",
       "      <td>6800.0</td>\n",
       "      <td>2.0</td>\n",
       "      <td>84.0</td>\n",
       "      <td>3.0</td>\n",
       "      <td>234.0</td>\n",
       "      <td>424.0</td>\n",
       "    </tr>\n",
       "    <tr>\n",
       "      <th>4</th>\n",
       "      <td>2</td>\n",
       "      <td>10000000.0</td>\n",
       "      <td>100.0</td>\n",
       "      <td>2018-06-19T00:00:00</td>\n",
       "      <td>2</td>\n",
       "      <td>3.03</td>\n",
       "      <td>14.0</td>\n",
       "      <td>32.0</td>\n",
       "      <td>13</td>\n",
       "      <td>NaN</td>\n",
       "      <td>...</td>\n",
       "      <td>41.0</td>\n",
       "      <td>NaN</td>\n",
       "      <td>Санкт-Петербург</td>\n",
       "      <td>31856.0</td>\n",
       "      <td>8098.0</td>\n",
       "      <td>2.0</td>\n",
       "      <td>112.0</td>\n",
       "      <td>1.0</td>\n",
       "      <td>48.0</td>\n",
       "      <td>121.0</td>\n",
       "    </tr>\n",
       "    <tr>\n",
       "      <th>5</th>\n",
       "      <td>10</td>\n",
       "      <td>2890000.0</td>\n",
       "      <td>30.4</td>\n",
       "      <td>2018-09-10T00:00:00</td>\n",
       "      <td>1</td>\n",
       "      <td>NaN</td>\n",
       "      <td>12.0</td>\n",
       "      <td>14.4</td>\n",
       "      <td>5</td>\n",
       "      <td>NaN</td>\n",
       "      <td>...</td>\n",
       "      <td>9.1</td>\n",
       "      <td>NaN</td>\n",
       "      <td>городской посёлок Янино-1</td>\n",
       "      <td>NaN</td>\n",
       "      <td>NaN</td>\n",
       "      <td>NaN</td>\n",
       "      <td>NaN</td>\n",
       "      <td>NaN</td>\n",
       "      <td>NaN</td>\n",
       "      <td>55.0</td>\n",
       "    </tr>\n",
       "    <tr>\n",
       "      <th>6</th>\n",
       "      <td>6</td>\n",
       "      <td>3700000.0</td>\n",
       "      <td>37.3</td>\n",
       "      <td>2017-11-02T00:00:00</td>\n",
       "      <td>1</td>\n",
       "      <td>NaN</td>\n",
       "      <td>26.0</td>\n",
       "      <td>10.6</td>\n",
       "      <td>6</td>\n",
       "      <td>NaN</td>\n",
       "      <td>...</td>\n",
       "      <td>14.4</td>\n",
       "      <td>1.0</td>\n",
       "      <td>посёлок Парголово</td>\n",
       "      <td>52996.0</td>\n",
       "      <td>19143.0</td>\n",
       "      <td>0.0</td>\n",
       "      <td>NaN</td>\n",
       "      <td>0.0</td>\n",
       "      <td>NaN</td>\n",
       "      <td>155.0</td>\n",
       "    </tr>\n",
       "    <tr>\n",
       "      <th>7</th>\n",
       "      <td>5</td>\n",
       "      <td>7915000.0</td>\n",
       "      <td>71.6</td>\n",
       "      <td>2019-04-18T00:00:00</td>\n",
       "      <td>2</td>\n",
       "      <td>NaN</td>\n",
       "      <td>24.0</td>\n",
       "      <td>NaN</td>\n",
       "      <td>22</td>\n",
       "      <td>NaN</td>\n",
       "      <td>...</td>\n",
       "      <td>18.9</td>\n",
       "      <td>2.0</td>\n",
       "      <td>Санкт-Петербург</td>\n",
       "      <td>23982.0</td>\n",
       "      <td>11634.0</td>\n",
       "      <td>0.0</td>\n",
       "      <td>NaN</td>\n",
       "      <td>0.0</td>\n",
       "      <td>NaN</td>\n",
       "      <td>NaN</td>\n",
       "    </tr>\n",
       "    <tr>\n",
       "      <th>8</th>\n",
       "      <td>20</td>\n",
       "      <td>2900000.0</td>\n",
       "      <td>33.16</td>\n",
       "      <td>2018-05-23T00:00:00</td>\n",
       "      <td>1</td>\n",
       "      <td>NaN</td>\n",
       "      <td>27.0</td>\n",
       "      <td>15.43</td>\n",
       "      <td>26</td>\n",
       "      <td>NaN</td>\n",
       "      <td>...</td>\n",
       "      <td>8.81</td>\n",
       "      <td>NaN</td>\n",
       "      <td>посёлок Мурино</td>\n",
       "      <td>NaN</td>\n",
       "      <td>NaN</td>\n",
       "      <td>NaN</td>\n",
       "      <td>NaN</td>\n",
       "      <td>NaN</td>\n",
       "      <td>NaN</td>\n",
       "      <td>189.00000000000003</td>\n",
       "    </tr>\n",
       "    <tr>\n",
       "      <th>9</th>\n",
       "      <td>18</td>\n",
       "      <td>5400000.0</td>\n",
       "      <td>61.0</td>\n",
       "      <td>2017-02-26T00:00:00</td>\n",
       "      <td>3</td>\n",
       "      <td>2.5</td>\n",
       "      <td>9.0</td>\n",
       "      <td>43.6</td>\n",
       "      <td>7</td>\n",
       "      <td>NaN</td>\n",
       "      <td>...</td>\n",
       "      <td>6.5</td>\n",
       "      <td>2.0</td>\n",
       "      <td>Санкт-Петербург</td>\n",
       "      <td>50898.0</td>\n",
       "      <td>15008.0</td>\n",
       "      <td>0.0</td>\n",
       "      <td>NaN</td>\n",
       "      <td>0.0</td>\n",
       "      <td>NaN</td>\n",
       "      <td>289.0</td>\n",
       "    </tr>\n",
       "  </tbody>\n",
       "</table>\n",
       "<p>10 rows × 22 columns</p>\n",
       "</div>"
      ],
      "text/plain": [
       "   total_images  last_price total_area first_day_exposition  rooms  \\\n",
       "0            20  13000000.0      108.0  2019-03-07T00:00:00      3   \n",
       "1             7   3350000.0       40.4  2018-12-04T00:00:00      1   \n",
       "2            10   5196000.0       56.0  2015-08-20T00:00:00      2   \n",
       "3             0  64900000.0      159.0  2015-07-24T00:00:00      3   \n",
       "4             2  10000000.0      100.0  2018-06-19T00:00:00      2   \n",
       "5            10   2890000.0       30.4  2018-09-10T00:00:00      1   \n",
       "6             6   3700000.0       37.3  2017-11-02T00:00:00      1   \n",
       "7             5   7915000.0       71.6  2019-04-18T00:00:00      2   \n",
       "8            20   2900000.0      33.16  2018-05-23T00:00:00      1   \n",
       "9            18   5400000.0       61.0  2017-02-26T00:00:00      3   \n",
       "\n",
       "  ceiling_height floors_total living_area  floor is_apartment  ...  \\\n",
       "0            2.7         16.0        51.0      8          NaN  ...   \n",
       "1            NaN         11.0        18.6      1          NaN  ...   \n",
       "2            NaN          5.0        34.3      4          NaN  ...   \n",
       "3            NaN         14.0         NaN      9          NaN  ...   \n",
       "4           3.03         14.0        32.0     13          NaN  ...   \n",
       "5            NaN         12.0        14.4      5          NaN  ...   \n",
       "6            NaN         26.0        10.6      6          NaN  ...   \n",
       "7            NaN         24.0         NaN     22          NaN  ...   \n",
       "8            NaN         27.0       15.43     26          NaN  ...   \n",
       "9            2.5          9.0        43.6      7          NaN  ...   \n",
       "\n",
       "   kitchen_area  balcony              locality_name airports_nearest  \\\n",
       "0          25.0      NaN            Санкт-Петербург          18863.0   \n",
       "1          11.0      2.0             посёлок Шушары          12817.0   \n",
       "2           8.3      0.0            Санкт-Петербург          21741.0   \n",
       "3           NaN      0.0            Санкт-Петербург          28098.0   \n",
       "4          41.0      NaN            Санкт-Петербург          31856.0   \n",
       "5           9.1      NaN  городской посёлок Янино-1              NaN   \n",
       "6          14.4      1.0          посёлок Парголово          52996.0   \n",
       "7          18.9      2.0            Санкт-Петербург          23982.0   \n",
       "8          8.81      NaN             посёлок Мурино              NaN   \n",
       "9           6.5      2.0            Санкт-Петербург          50898.0   \n",
       "\n",
       "  cityCenters_nearest parks_around3000 parks_nearest ponds_around3000  \\\n",
       "0             16028.0              1.0         482.0              2.0   \n",
       "1             18603.0              0.0           NaN              0.0   \n",
       "2             13933.0              1.0          90.0              2.0   \n",
       "3              6800.0              2.0          84.0              3.0   \n",
       "4              8098.0              2.0         112.0              1.0   \n",
       "5                 NaN              NaN           NaN              NaN   \n",
       "6             19143.0              0.0           NaN              0.0   \n",
       "7             11634.0              0.0           NaN              0.0   \n",
       "8                 NaN              NaN           NaN              NaN   \n",
       "9             15008.0              0.0           NaN              0.0   \n",
       "\n",
       "  ponds_nearest     days_exposition  \n",
       "0         755.0                 NaN  \n",
       "1           NaN                81.0  \n",
       "2         574.0               558.0  \n",
       "3         234.0               424.0  \n",
       "4          48.0               121.0  \n",
       "5           NaN                55.0  \n",
       "6           NaN               155.0  \n",
       "7           NaN                 NaN  \n",
       "8           NaN  189.00000000000003  \n",
       "9           NaN               289.0  \n",
       "\n",
       "[10 rows x 22 columns]"
      ]
     },
     "execution_count": 9,
     "metadata": {},
     "output_type": "execute_result"
    }
   ],
   "source": [
    "# получение первых 10 строк таблицы df\n",
    "df.head(10)"
   ]
  },
  {
   "cell_type": "markdown",
   "metadata": {},
   "source": [
    "### Вывод"
   ]
  },
  {
   "cell_type": "markdown",
   "metadata": {},
   "source": [
    "Присланные данные склеились в одну строку вместо того, чтобы разбиться по колонкам. Это произошло из-за разделителей в формате csv. В данных 22 столбца, разное количество строк, разный формат, пропущенные значения. В названии столбца cityCenters_nearest строчные буквы сочетаются с прописными. Время публикации объявления можно преобразовать в подходящий формат.<br>\n",
    "Столбцы:<br>\n",
    "airports_nearest — расстояние до ближайшего аэропорта в метрах (м)<br>\n",
    "balcony — число балконов<br>\n",
    "ceiling_height — высота потолков (м)<br>\n",
    "cityCenters_nearest — расстояние до центра города (м)<br>\n",
    "days_exposition — сколько дней было размещено объявление (от публикации до снятия)<br>\n",
    "first_day_exposition — дата публикации<br>\n",
    "floor — этаж<br>\n",
    "floors_total — всего этажей в доме<br>\n",
    "is_apartment — апартаменты (булев тип)<br>\n",
    "kitchen_area — площадь кухни в квадратных метрах (м²)<br>\n",
    "last_price — цена на момент снятия с публикации<br>\n",
    "living_area — жилая площадь в квадратных метрах (м²)<br>\n",
    "locality_name — название населённого пункта<br>\n",
    "open_plan — свободная планировка (булев тип)<br>\n",
    "parks_around3000 — число парков в радиусе 3 км<br>\n",
    "parks_nearest — расстояние до ближайшего парка (м)<br>\n",
    "ponds_around3000 — число водоёмов в радиусе 3 км<br>\n",
    "ponds_nearest — расстояние до ближайшего водоёма (м)<br>\n",
    "rooms — число комнат<br>\n",
    "studio — квартира-студия (булев тип)<br>\n",
    "total_area — площадь квартиры в квадратных метрах (м²)<br>\n",
    "total_images — число фотографий квартиры в объявлении<br>"
   ]
  },
  {
   "cell_type": "markdown",
   "metadata": {},
   "source": [
    "Так как количество пропусков в столбцах разное, то, скорее всего, пропуски просто решили не указывать.\n",
    "Так как по условию расстояние до центра, аэропорта, ближайшего парка и водоёма получены автоматически на основе картографических данных, то а количество пропусков в них примерно равно, то пропуски вызваны тем, что система не смогла определить их.<br>\n",
    "Высота потолков, скорее всего, продавцы считают это малозначимой информацией\n",
    "Количество этажей - всего 86 пропусков\n",
    "Жил.площаль - эти пропуски нельзя ни убрать, ни заполнить, так как они имеют большое влияние на стоимость\n",
    "Название населенного пункта - всего 49 пропусков </div>"
   ]
  },
  {
   "cell_type": "markdown",
   "metadata": {},
   "source": [
    "## Предобработка данных"
   ]
  },
  {
   "cell_type": "code",
   "execution_count": 10,
   "metadata": {
    "scrolled": false
   },
   "outputs": [
    {
     "data": {
      "text/plain": [
       "total_images                0\n",
       "last_price                  0\n",
       "total_area                  0\n",
       "first_day_exposition        0\n",
       "rooms                       0\n",
       "ceiling_height           9195\n",
       "floors_total               86\n",
       "living_area              1903\n",
       "floor                       0\n",
       "is_apartment            20924\n",
       "studio                      0\n",
       "open_plan                   0\n",
       "kitchen_area             2278\n",
       "balcony                 11519\n",
       "locality_name              49\n",
       "airports_nearest         5542\n",
       "cityCenters_nearest      5519\n",
       "parks_around3000         5518\n",
       "parks_nearest           15620\n",
       "ponds_around3000         5518\n",
       "ponds_nearest           14589\n",
       "days_exposition          3181\n",
       "dtype: int64"
      ]
     },
     "execution_count": 10,
     "metadata": {},
     "output_type": "execute_result"
    }
   ],
   "source": [
    "# подсчёт пропусков\n",
    "df.isna().sum()"
   ]
  },
  {
   "cell_type": "markdown",
   "metadata": {},
   "source": [
    "ceiling_height - высота потолков нет подходящей замены пропусков <br>\n",
    "floors_total  - количество этажей нет подходящей замены пропусков <br>\n",
    "living_area   - жил. площадь нет подходящей замены пропусков <br>\n",
    "is_apartment  - нет подходящей замены пропусков <br>\n",
    "kitchen_area  - площадь кухни нет подходящей замены пропусков <br>\n",
    "locality_name  - название населенного пункта нет подходящей замены пропусков <br>\n",
    "airports_nearest  - расстояние до ближайшего аэропорта нет подходящей замены пропусков <br>\n",
    "cityCenters_nearest  - расстояние до центра города нет подходящей замены пропусков <br>\n",
    "parks_around3000    - количество парков в радиусе 3 км нет подходящей замены пропусков <br>\n",
    "parks_nearest     - парки рядом нет подходящей замены пропусков <br>\n",
    "ponds_around3000    - водоемы в радиусе 3 км нет подходящей замены пропусков <br>\n",
    "ponds_nearest       - ближайшие водоемы нет подходящей замены пропусков <br>\n",
    "days_exposition     - длительность размещения объявления нет подходящей замены пропусков <br>"
   ]
  },
  {
   "cell_type": "code",
   "execution_count": 11,
   "metadata": {},
   "outputs": [
    {
     "data": {
      "text/html": [
       "<div>\n",
       "<style scoped>\n",
       "    .dataframe tbody tr th:only-of-type {\n",
       "        vertical-align: middle;\n",
       "    }\n",
       "\n",
       "    .dataframe tbody tr th {\n",
       "        vertical-align: top;\n",
       "    }\n",
       "\n",
       "    .dataframe thead th {\n",
       "        text-align: right;\n",
       "    }\n",
       "</style>\n",
       "<table border=\"1\" class=\"dataframe\">\n",
       "  <thead>\n",
       "    <tr style=\"text-align: right;\">\n",
       "      <th></th>\n",
       "      <th>total_images</th>\n",
       "      <th>last_price</th>\n",
       "      <th>total_area</th>\n",
       "      <th>first_day_exposition</th>\n",
       "      <th>rooms</th>\n",
       "      <th>ceiling_height</th>\n",
       "      <th>floors_total</th>\n",
       "      <th>living_area</th>\n",
       "      <th>floor</th>\n",
       "      <th>is_apartment</th>\n",
       "      <th>...</th>\n",
       "      <th>kitchen_area</th>\n",
       "      <th>balcony</th>\n",
       "      <th>locality_name</th>\n",
       "      <th>airports_nearest</th>\n",
       "      <th>cityCenters_nearest</th>\n",
       "      <th>parks_around3000</th>\n",
       "      <th>parks_nearest</th>\n",
       "      <th>ponds_around3000</th>\n",
       "      <th>ponds_nearest</th>\n",
       "      <th>days_exposition</th>\n",
       "    </tr>\n",
       "  </thead>\n",
       "  <tbody>\n",
       "    <tr>\n",
       "      <th>0</th>\n",
       "      <td>20</td>\n",
       "      <td>13000000.0</td>\n",
       "      <td>108.0</td>\n",
       "      <td>2019-03-07T00:00:00</td>\n",
       "      <td>3</td>\n",
       "      <td>2.7</td>\n",
       "      <td>16.0</td>\n",
       "      <td>51.0</td>\n",
       "      <td>8</td>\n",
       "      <td>NaN</td>\n",
       "      <td>...</td>\n",
       "      <td>25.0</td>\n",
       "      <td>NaN</td>\n",
       "      <td>Санкт-Петербург</td>\n",
       "      <td>18863.0</td>\n",
       "      <td>16028.0</td>\n",
       "      <td>1.0</td>\n",
       "      <td>482.0</td>\n",
       "      <td>2.0</td>\n",
       "      <td>755.0</td>\n",
       "      <td>NaN</td>\n",
       "    </tr>\n",
       "    <tr>\n",
       "      <th>1</th>\n",
       "      <td>7</td>\n",
       "      <td>3350000.0</td>\n",
       "      <td>40.4</td>\n",
       "      <td>2018-12-04T00:00:00</td>\n",
       "      <td>1</td>\n",
       "      <td>NaN</td>\n",
       "      <td>11.0</td>\n",
       "      <td>18.6</td>\n",
       "      <td>1</td>\n",
       "      <td>NaN</td>\n",
       "      <td>...</td>\n",
       "      <td>11.0</td>\n",
       "      <td>2.0</td>\n",
       "      <td>посёлок Шушары</td>\n",
       "      <td>12817.0</td>\n",
       "      <td>18603.0</td>\n",
       "      <td>0.0</td>\n",
       "      <td>NaN</td>\n",
       "      <td>0.0</td>\n",
       "      <td>NaN</td>\n",
       "      <td>81.0</td>\n",
       "    </tr>\n",
       "    <tr>\n",
       "      <th>2</th>\n",
       "      <td>10</td>\n",
       "      <td>5196000.0</td>\n",
       "      <td>56.0</td>\n",
       "      <td>2015-08-20T00:00:00</td>\n",
       "      <td>2</td>\n",
       "      <td>NaN</td>\n",
       "      <td>5.0</td>\n",
       "      <td>34.3</td>\n",
       "      <td>4</td>\n",
       "      <td>NaN</td>\n",
       "      <td>...</td>\n",
       "      <td>8.3</td>\n",
       "      <td>0.0</td>\n",
       "      <td>Санкт-Петербург</td>\n",
       "      <td>21741.0</td>\n",
       "      <td>13933.0</td>\n",
       "      <td>1.0</td>\n",
       "      <td>90.0</td>\n",
       "      <td>2.0</td>\n",
       "      <td>574.0</td>\n",
       "      <td>558.0</td>\n",
       "    </tr>\n",
       "    <tr>\n",
       "      <th>3</th>\n",
       "      <td>0</td>\n",
       "      <td>64900000.0</td>\n",
       "      <td>159.0</td>\n",
       "      <td>2015-07-24T00:00:00</td>\n",
       "      <td>3</td>\n",
       "      <td>NaN</td>\n",
       "      <td>14.0</td>\n",
       "      <td>NaN</td>\n",
       "      <td>9</td>\n",
       "      <td>NaN</td>\n",
       "      <td>...</td>\n",
       "      <td>NaN</td>\n",
       "      <td>0.0</td>\n",
       "      <td>Санкт-Петербург</td>\n",
       "      <td>28098.0</td>\n",
       "      <td>6800.0</td>\n",
       "      <td>2.0</td>\n",
       "      <td>84.0</td>\n",
       "      <td>3.0</td>\n",
       "      <td>234.0</td>\n",
       "      <td>424.0</td>\n",
       "    </tr>\n",
       "    <tr>\n",
       "      <th>4</th>\n",
       "      <td>2</td>\n",
       "      <td>10000000.0</td>\n",
       "      <td>100.0</td>\n",
       "      <td>2018-06-19T00:00:00</td>\n",
       "      <td>2</td>\n",
       "      <td>3.03</td>\n",
       "      <td>14.0</td>\n",
       "      <td>32.0</td>\n",
       "      <td>13</td>\n",
       "      <td>NaN</td>\n",
       "      <td>...</td>\n",
       "      <td>41.0</td>\n",
       "      <td>NaN</td>\n",
       "      <td>Санкт-Петербург</td>\n",
       "      <td>31856.0</td>\n",
       "      <td>8098.0</td>\n",
       "      <td>2.0</td>\n",
       "      <td>112.0</td>\n",
       "      <td>1.0</td>\n",
       "      <td>48.0</td>\n",
       "      <td>121.0</td>\n",
       "    </tr>\n",
       "  </tbody>\n",
       "</table>\n",
       "<p>5 rows × 22 columns</p>\n",
       "</div>"
      ],
      "text/plain": [
       "   total_images  last_price total_area first_day_exposition  rooms  \\\n",
       "0            20  13000000.0      108.0  2019-03-07T00:00:00      3   \n",
       "1             7   3350000.0       40.4  2018-12-04T00:00:00      1   \n",
       "2            10   5196000.0       56.0  2015-08-20T00:00:00      2   \n",
       "3             0  64900000.0      159.0  2015-07-24T00:00:00      3   \n",
       "4             2  10000000.0      100.0  2018-06-19T00:00:00      2   \n",
       "\n",
       "  ceiling_height floors_total living_area  floor is_apartment  ...  \\\n",
       "0            2.7         16.0        51.0      8          NaN  ...   \n",
       "1            NaN         11.0        18.6      1          NaN  ...   \n",
       "2            NaN          5.0        34.3      4          NaN  ...   \n",
       "3            NaN         14.0         NaN      9          NaN  ...   \n",
       "4           3.03         14.0        32.0     13          NaN  ...   \n",
       "\n",
       "   kitchen_area  balcony    locality_name airports_nearest  \\\n",
       "0          25.0      NaN  Санкт-Петербург          18863.0   \n",
       "1          11.0      2.0   посёлок Шушары          12817.0   \n",
       "2           8.3      0.0  Санкт-Петербург          21741.0   \n",
       "3           NaN      0.0  Санкт-Петербург          28098.0   \n",
       "4          41.0      NaN  Санкт-Петербург          31856.0   \n",
       "\n",
       "  cityCenters_nearest parks_around3000 parks_nearest ponds_around3000  \\\n",
       "0             16028.0              1.0         482.0              2.0   \n",
       "1             18603.0              0.0           NaN              0.0   \n",
       "2             13933.0              1.0          90.0              2.0   \n",
       "3              6800.0              2.0          84.0              3.0   \n",
       "4              8098.0              2.0         112.0              1.0   \n",
       "\n",
       "  ponds_nearest days_exposition  \n",
       "0         755.0             NaN  \n",
       "1           NaN            81.0  \n",
       "2         574.0           558.0  \n",
       "3         234.0           424.0  \n",
       "4          48.0           121.0  \n",
       "\n",
       "[5 rows x 22 columns]"
      ]
     },
     "execution_count": 11,
     "metadata": {},
     "output_type": "execute_result"
    }
   ],
   "source": [
    "df.head()"
   ]
  },
  {
   "cell_type": "markdown",
   "metadata": {},
   "source": [
    "Для некоторых пропущенных значений можно предположить логичную замену. Например, если человек не указал число балконов — скорее всего, их нет. Такие пропуски правильно заменить на 0. Для других типов данных нет подходящего значения на замену. В этом случае правильно оставить эти значения пустыми."
   ]
  },
  {
   "cell_type": "code",
   "execution_count": 12,
   "metadata": {},
   "outputs": [],
   "source": [
    "# Заполняем пропуски в столбце balcony\n",
    "df['balcony'] = df['balcony'].fillna(0)"
   ]
  },
  {
   "cell_type": "code",
   "execution_count": 13,
   "metadata": {},
   "outputs": [
    {
     "data": {
      "text/plain": [
       "0"
      ]
     },
     "execution_count": 13,
     "metadata": {},
     "output_type": "execute_result"
    }
   ],
   "source": [
    "# подсчёт пропусков\n",
    "df['balcony'].isna().sum()"
   ]
  },
  {
   "cell_type": "code",
   "execution_count": 14,
   "metadata": {},
   "outputs": [],
   "source": [
    "#Переименуем стоблбец cityCenters_nearest\n",
    "df = df.rename(columns={'cityCenters_nearest' : 'citycenters_nearest'})"
   ]
  },
  {
   "cell_type": "code",
   "execution_count": 15,
   "metadata": {},
   "outputs": [
    {
     "data": {
      "text/plain": [
       "Index(['total_images', 'last_price', 'total_area', 'first_day_exposition',\n",
       "       'rooms', 'ceiling_height', 'floors_total', 'living_area', 'floor',\n",
       "       'is_apartment', 'studio', 'open_plan', 'kitchen_area', 'balcony',\n",
       "       'locality_name', 'airports_nearest', 'citycenters_nearest',\n",
       "       'parks_around3000', 'parks_nearest', 'ponds_around3000',\n",
       "       'ponds_nearest', 'days_exposition'],\n",
       "      dtype='object')"
      ]
     },
     "execution_count": 15,
     "metadata": {},
     "output_type": "execute_result"
    }
   ],
   "source": [
    "df.columns"
   ]
  },
  {
   "cell_type": "code",
   "execution_count": 16,
   "metadata": {
    "scrolled": false
   },
   "outputs": [
    {
     "data": {
      "text/plain": [
       "10    1798\n",
       "9     1725\n",
       "20    1694\n",
       "8     1585\n",
       "7     1521\n",
       "6     1482\n",
       "11    1362\n",
       "5     1301\n",
       "12    1225\n",
       "0     1059\n",
       "13    1015\n",
       "4      986\n",
       "14     986\n",
       "15     948\n",
       "1      872\n",
       "3      769\n",
       "16     761\n",
       "17     650\n",
       "18     642\n",
       "2      640\n",
       "19     603\n",
       "23      16\n",
       "21      12\n",
       "24       8\n",
       "22       8\n",
       "26       5\n",
       "28       4\n",
       "32       4\n",
       "29       3\n",
       "50       3\n",
       "27       2\n",
       "35       2\n",
       "30       2\n",
       "31       2\n",
       "39       1\n",
       "25       1\n",
       "42       1\n",
       "37       1\n",
       "Name: total_images, dtype: int64"
      ]
     },
     "metadata": {},
     "output_type": "display_data"
    },
    {
     "data": {
      "text/plain": [
       "4500000.0     342\n",
       "3500000.0     291\n",
       "4000000.0     260\n",
       "4300000.0     260\n",
       "4200000.0     259\n",
       "             ... \n",
       "2874906.0       1\n",
       "36001900.0      1\n",
       "5812504.0       1\n",
       "4479300.0       1\n",
       "2235000.0       1\n",
       "Name: last_price, Length: 2978, dtype: int64"
      ]
     },
     "metadata": {},
     "output_type": "display_data"
    },
    {
     "data": {
      "text/plain": [
       "45.0      419\n",
       "42.0      383\n",
       "60.0      347\n",
       "31.0      346\n",
       "44.0      345\n",
       "         ... \n",
       "114.55      1\n",
       "127.9       1\n",
       "152.8       1\n",
       "28.71       1\n",
       "138.5       1\n",
       "Name: total_area, Length: 2182, dtype: int64"
      ]
     },
     "metadata": {},
     "output_type": "display_data"
    },
    {
     "data": {
      "text/plain": [
       "2018-02-01T00:00:00    368\n",
       "2017-11-10T00:00:00    240\n",
       "2017-10-13T00:00:00    124\n",
       "2017-09-27T00:00:00    111\n",
       "2018-03-26T00:00:00     97\n",
       "                      ... \n",
       "2017-01-28T00:00:00      1\n",
       "2015-03-01T00:00:00      1\n",
       "2016-10-30T00:00:00      1\n",
       "2015-09-08T00:00:00      1\n",
       "2016-09-12T00:00:00      1\n",
       "Name: first_day_exposition, Length: 1491, dtype: int64"
      ]
     },
     "metadata": {},
     "output_type": "display_data"
    },
    {
     "data": {
      "text/plain": [
       "1     8047\n",
       "2     7940\n",
       "3     5814\n",
       "4     1180\n",
       "5      326\n",
       "0      197\n",
       "6      105\n",
       "7       59\n",
       "8       12\n",
       "9        8\n",
       "10       3\n",
       "11       2\n",
       "14       2\n",
       "19       1\n",
       "16       1\n",
       "12       1\n",
       "15       1\n",
       "Name: rooms, dtype: int64"
      ]
     },
     "metadata": {},
     "output_type": "display_data"
    },
    {
     "data": {
      "text/plain": [
       "2.5     3515\n",
       "2.6     1646\n",
       "2.7     1574\n",
       "3.0     1112\n",
       "2.8      993\n",
       "        ... \n",
       "3.83       1\n",
       "3.42       1\n",
       "3.58       1\n",
       "24.0       1\n",
       "2.25       1\n",
       "Name: ceiling_height, Length: 183, dtype: int64"
      ]
     },
     "metadata": {},
     "output_type": "display_data"
    },
    {
     "data": {
      "text/plain": [
       "5.0     5788\n",
       "9.0     3761\n",
       "16.0    1376\n",
       "12.0    1362\n",
       "4.0     1200\n",
       "10.0    1174\n",
       "25.0    1075\n",
       "6.0      914\n",
       "17.0     833\n",
       "3.0      668\n",
       "7.0      592\n",
       "14.0     553\n",
       "18.0     505\n",
       "24.0     469\n",
       "8.0      390\n",
       "2.0      383\n",
       "15.0     365\n",
       "23.0     352\n",
       "19.0     339\n",
       "22.0     286\n",
       "20.0     271\n",
       "13.0     229\n",
       "11.0     203\n",
       "27.0     164\n",
       "21.0     158\n",
       "26.0     124\n",
       "1.0       25\n",
       "35.0      24\n",
       "28.0      21\n",
       "36.0       3\n",
       "33.0       1\n",
       "60.0       1\n",
       "37.0       1\n",
       "29.0       1\n",
       "34.0       1\n",
       "52.0       1\n",
       "Name: floors_total, dtype: int64"
      ]
     },
     "metadata": {},
     "output_type": "display_data"
    },
    {
     "data": {
      "text/plain": [
       "18.0     882\n",
       "17.0     675\n",
       "30.0     598\n",
       "16.0     486\n",
       "20.0     481\n",
       "        ... \n",
       "100.7      1\n",
       "89.3       1\n",
       "124.9      1\n",
       "77.4       1\n",
       "50.25      1\n",
       "Name: living_area, Length: 1782, dtype: int64"
      ]
     },
     "metadata": {},
     "output_type": "display_data"
    },
    {
     "data": {
      "text/plain": [
       "2     3368\n",
       "3     3073\n",
       "1     2917\n",
       "4     2804\n",
       "5     2621\n",
       "6     1305\n",
       "7     1218\n",
       "8     1083\n",
       "9     1051\n",
       "10     687\n",
       "12     526\n",
       "11     523\n",
       "13     379\n",
       "15     343\n",
       "14     337\n",
       "16     315\n",
       "17     227\n",
       "18     178\n",
       "19     147\n",
       "21     125\n",
       "22     113\n",
       "20     110\n",
       "23     100\n",
       "24      63\n",
       "25      46\n",
       "26      24\n",
       "27      10\n",
       "28       1\n",
       "29       1\n",
       "32       1\n",
       "30       1\n",
       "33       1\n",
       "31       1\n",
       "Name: floor, dtype: int64"
      ]
     },
     "metadata": {},
     "output_type": "display_data"
    },
    {
     "data": {
      "text/plain": [
       "False    2725\n",
       "True       50\n",
       "Name: is_apartment, dtype: int64"
      ]
     },
     "metadata": {},
     "output_type": "display_data"
    },
    {
     "data": {
      "text/plain": [
       "False    23550\n",
       "True       149\n",
       "Name: studio, dtype: int64"
      ]
     },
     "metadata": {},
     "output_type": "display_data"
    },
    {
     "data": {
      "text/plain": [
       "False    23632\n",
       "True        67\n",
       "Name: open_plan, dtype: int64"
      ]
     },
     "metadata": {},
     "output_type": "display_data"
    },
    {
     "data": {
      "text/plain": [
       "6.0      1300\n",
       "10.0     1262\n",
       "8.0      1110\n",
       "9.0      1101\n",
       "7.0      1062\n",
       "         ... \n",
       "2.89        1\n",
       "16.05       1\n",
       "32.9        1\n",
       "6.03        1\n",
       "8.77        1\n",
       "Name: kitchen_area, Length: 971, dtype: int64"
      ]
     },
     "metadata": {},
     "output_type": "display_data"
    },
    {
     "data": {
      "text/plain": [
       "0      11519\n",
       "1.0     4195\n",
       "0.0     3758\n",
       "2.0     3659\n",
       "5.0      304\n",
       "4.0      183\n",
       "3.0       81\n",
       "Name: balcony, dtype: int64"
      ]
     },
     "metadata": {},
     "output_type": "display_data"
    },
    {
     "data": {
      "text/plain": [
       "Санкт-Петербург                     15721\n",
       "посёлок Мурино                        522\n",
       "посёлок Шушары                        440\n",
       "Всеволожск                            398\n",
       "Пушкин                                369\n",
       "                                    ...  \n",
       "деревня Терпилицы                       1\n",
       "садовое товарищество Новая Ропша        1\n",
       "деревня Котлы                           1\n",
       "посёлок Плоское                         1\n",
       "деревня Хапо-Ое                         1\n",
       "Name: locality_name, Length: 364, dtype: int64"
      ]
     },
     "metadata": {},
     "output_type": "display_data"
    },
    {
     "data": {
      "text/plain": [
       "37434.0    61\n",
       "21928.0    32\n",
       "39946.0    30\n",
       "44870.0    30\n",
       "18732.0    27\n",
       "           ..\n",
       "25020.0     1\n",
       "18703.0     1\n",
       "16128.0     1\n",
       "44967.0     1\n",
       "24177.0     1\n",
       "Name: airports_nearest, Length: 8275, dtype: int64"
      ]
     },
     "metadata": {},
     "output_type": "display_data"
    },
    {
     "data": {
      "text/plain": [
       "8460.0     61\n",
       "20802.0    32\n",
       "10720.0    30\n",
       "8434.0     27\n",
       "20444.0    27\n",
       "           ..\n",
       "48853.0     1\n",
       "3608.0      1\n",
       "26766.0     1\n",
       "22723.0     1\n",
       "18024.0     1\n",
       "Name: citycenters_nearest, Length: 7642, dtype: int64"
      ]
     },
     "metadata": {},
     "output_type": "display_data"
    },
    {
     "data": {
      "text/plain": [
       "0.0    10106\n",
       "1.0     5681\n",
       "2.0     1747\n",
       "3.0      647\n",
       "Name: parks_around3000, dtype: int64"
      ]
     },
     "metadata": {},
     "output_type": "display_data"
    },
    {
     "data": {
      "text/plain": [
       "441.0     67\n",
       "173.0     41\n",
       "392.0     41\n",
       "456.0     40\n",
       "471.0     32\n",
       "          ..\n",
       "760.0      1\n",
       "887.0      1\n",
       "775.0      1\n",
       "993.0      1\n",
       "1361.0     1\n",
       "Name: parks_nearest, Length: 995, dtype: int64"
      ]
     },
     "metadata": {},
     "output_type": "display_data"
    },
    {
     "data": {
      "text/plain": [
       "0.0    9071\n",
       "1.0    5717\n",
       "2.0    1892\n",
       "3.0    1501\n",
       "Name: ponds_around3000, dtype: int64"
      ]
     },
     "metadata": {},
     "output_type": "display_data"
    },
    {
     "data": {
      "text/plain": [
       "427.0     70\n",
       "454.0     41\n",
       "153.0     40\n",
       "433.0     39\n",
       "474.0     37\n",
       "          ..\n",
       "947.0      1\n",
       "74.0       1\n",
       "1075.0     1\n",
       "1293.0     1\n",
       "984.0      1\n",
       "Name: ponds_nearest, Length: 1096, dtype: int64"
      ]
     },
     "metadata": {},
     "output_type": "display_data"
    },
    {
     "data": {
      "text/plain": [
       "45.00000000000001    880\n",
       "60.0                 538\n",
       "7.0                  234\n",
       "30.0                 208\n",
       "90.00000000000001    204\n",
       "                    ... \n",
       "1146.0                 1\n",
       "1151.0                 1\n",
       "1011.0                 1\n",
       "831.0                  1\n",
       "1066.0                 1\n",
       "Name: days_exposition, Length: 1141, dtype: int64"
      ]
     },
     "metadata": {},
     "output_type": "display_data"
    }
   ],
   "source": [
    "# Проверка столбцов\n",
    "for i in df:\n",
    "    display(df[i].value_counts())"
   ]
  },
  {
   "cell_type": "code",
   "execution_count": 17,
   "metadata": {
    "scrolled": false
   },
   "outputs": [
    {
     "name": "stdout",
     "output_type": "stream",
     "text": [
      "<class 'pandas.core.frame.DataFrame'>\n",
      "RangeIndex: 23699 entries, 0 to 23698\n",
      "Data columns (total 22 columns):\n",
      " #   Column                Non-Null Count  Dtype \n",
      "---  ------                --------------  ----- \n",
      " 0   total_images          23699 non-null  int64 \n",
      " 1   last_price            23699 non-null  object\n",
      " 2   total_area            23699 non-null  object\n",
      " 3   first_day_exposition  23699 non-null  object\n",
      " 4   rooms                 23699 non-null  int64 \n",
      " 5   ceiling_height        14504 non-null  object\n",
      " 6   floors_total          23613 non-null  object\n",
      " 7   living_area           21796 non-null  object\n",
      " 8   floor                 23699 non-null  int64 \n",
      " 9   is_apartment          2775 non-null   object\n",
      " 10  studio                23699 non-null  bool  \n",
      " 11  open_plan             23699 non-null  bool  \n",
      " 12  kitchen_area          21421 non-null  object\n",
      " 13  balcony               23699 non-null  object\n",
      " 14  locality_name         23650 non-null  object\n",
      " 15  airports_nearest      18157 non-null  object\n",
      " 16  citycenters_nearest   18180 non-null  object\n",
      " 17  parks_around3000      18181 non-null  object\n",
      " 18  parks_nearest         8079 non-null   object\n",
      " 19  ponds_around3000      18181 non-null  object\n",
      " 20  ponds_nearest         9110 non-null   object\n",
      " 21  days_exposition       20518 non-null  object\n",
      "dtypes: bool(2), int64(3), object(17)\n",
      "memory usage: 3.7+ MB\n"
     ]
    }
   ],
   "source": [
    "df.info()"
   ]
  },
  {
   "cell_type": "markdown",
   "metadata": {},
   "source": [
    "Переведём все столбцы с численными значениями и без пропусков в формат float32. Так как во многих столбцах есть пропуски, то изменить тип даннах на int нельзя."
   ]
  },
  {
   "cell_type": "code",
   "execution_count": 18,
   "metadata": {},
   "outputs": [],
   "source": [
    "list_int = ['last_price', 'balcony', 'floor']\n",
    "for column in list_int:\n",
    "    df[column] = df[column].astype('int', errors='ignore')"
   ]
  },
  {
   "cell_type": "code",
   "execution_count": 19,
   "metadata": {},
   "outputs": [],
   "source": [
    "df['last_price'] = df['last_price'].astype('float32')"
   ]
  },
  {
   "cell_type": "code",
   "execution_count": 20,
   "metadata": {},
   "outputs": [],
   "source": [
    "df['total_area'] = df['total_area'].astype('float32')"
   ]
  },
  {
   "cell_type": "code",
   "execution_count": 21,
   "metadata": {},
   "outputs": [],
   "source": [
    "df['floors_total'] = df['floors_total'].astype('float32')"
   ]
  },
  {
   "cell_type": "code",
   "execution_count": 22,
   "metadata": {},
   "outputs": [],
   "source": [
    "df['kitchen_area'] = df['kitchen_area'].astype('float32')"
   ]
  },
  {
   "cell_type": "code",
   "execution_count": 23,
   "metadata": {},
   "outputs": [],
   "source": [
    "df['living_area'] = df['living_area'].astype('float32')"
   ]
  },
  {
   "cell_type": "code",
   "execution_count": 24,
   "metadata": {},
   "outputs": [],
   "source": [
    "df['ceiling_height'] = df['ceiling_height'].astype('float32')"
   ]
  },
  {
   "cell_type": "code",
   "execution_count": 25,
   "metadata": {},
   "outputs": [],
   "source": [
    "df['days_exposition'] = df['days_exposition'].astype('float32')"
   ]
  },
  {
   "cell_type": "code",
   "execution_count": 26,
   "metadata": {},
   "outputs": [],
   "source": [
    "df['citycenters_nearest'] = df['citycenters_nearest'].astype('float32')"
   ]
  },
  {
   "cell_type": "code",
   "execution_count": 27,
   "metadata": {},
   "outputs": [
    {
     "name": "stdout",
     "output_type": "stream",
     "text": [
      "<class 'pandas.core.frame.DataFrame'>\n",
      "RangeIndex: 23699 entries, 0 to 23698\n",
      "Data columns (total 22 columns):\n",
      " #   Column                Non-Null Count  Dtype  \n",
      "---  ------                --------------  -----  \n",
      " 0   total_images          23699 non-null  int64  \n",
      " 1   last_price            23699 non-null  float32\n",
      " 2   total_area            23699 non-null  float32\n",
      " 3   first_day_exposition  23699 non-null  object \n",
      " 4   rooms                 23699 non-null  int64  \n",
      " 5   ceiling_height        14504 non-null  float32\n",
      " 6   floors_total          23613 non-null  float32\n",
      " 7   living_area           21796 non-null  float32\n",
      " 8   floor                 23699 non-null  int64  \n",
      " 9   is_apartment          2775 non-null   object \n",
      " 10  studio                23699 non-null  bool   \n",
      " 11  open_plan             23699 non-null  bool   \n",
      " 12  kitchen_area          21421 non-null  float32\n",
      " 13  balcony               23699 non-null  object \n",
      " 14  locality_name         23650 non-null  object \n",
      " 15  airports_nearest      18157 non-null  object \n",
      " 16  citycenters_nearest   18180 non-null  float32\n",
      " 17  parks_around3000      18181 non-null  object \n",
      " 18  parks_nearest         8079 non-null   object \n",
      " 19  ponds_around3000      18181 non-null  object \n",
      " 20  ponds_nearest         9110 non-null   object \n",
      " 21  days_exposition       20518 non-null  float32\n",
      "dtypes: bool(2), float32(8), int64(3), object(9)\n",
      "memory usage: 2.9+ MB\n"
     ]
    }
   ],
   "source": [
    "df.info()"
   ]
  },
  {
   "cell_type": "code",
   "execution_count": 28,
   "metadata": {},
   "outputs": [],
   "source": [
    "#Приведем дату к нормальному виду\n",
    "df['first_day_exposition'] = pd.to_datetime(df['first_day_exposition'], format = '%Y-%m-%dT%H:%M')"
   ]
  },
  {
   "cell_type": "code",
   "execution_count": 29,
   "metadata": {},
   "outputs": [
    {
     "data": {
      "text/plain": [
       "0   2019-03-07\n",
       "1   2018-12-04\n",
       "2   2015-08-20\n",
       "3   2015-07-24\n",
       "4   2018-06-19\n",
       "Name: first_day_exposition, dtype: datetime64[ns]"
      ]
     },
     "execution_count": 29,
     "metadata": {},
     "output_type": "execute_result"
    }
   ],
   "source": [
    "df['first_day_exposition'].head()"
   ]
  },
  {
   "cell_type": "code",
   "execution_count": 30,
   "metadata": {},
   "outputs": [
    {
     "data": {
      "text/plain": [
       "0"
      ]
     },
     "execution_count": 30,
     "metadata": {},
     "output_type": "execute_result"
    }
   ],
   "source": [
    "# подсчёт явных дубликатов\n",
    "df.duplicated().sum()"
   ]
  },
  {
   "cell_type": "markdown",
   "metadata": {},
   "source": [
    "В данных много пропусков, которые мешают обработке и которые нельзя заполнить."
   ]
  },
  {
   "cell_type": "markdown",
   "metadata": {},
   "source": [
    "## Расчёты и добавление результатов в таблицу"
   ]
  },
  {
   "cell_type": "code",
   "execution_count": 31,
   "metadata": {},
   "outputs": [],
   "source": [
    "#Создаем столбец с ценой за квадратный метр\n",
    "df['metr_price'] = df['last_price'] / df['total_area']"
   ]
  },
  {
   "cell_type": "code",
   "execution_count": 32,
   "metadata": {},
   "outputs": [],
   "source": [
    "#Создаем столбец с днем недели\n",
    "df['weekday'] = df['first_day_exposition'].dt.weekday"
   ]
  },
  {
   "cell_type": "code",
   "execution_count": 33,
   "metadata": {},
   "outputs": [],
   "source": [
    "#Создаем столбец с месяцем\n",
    "df['month'] = df['first_day_exposition'].dt.month"
   ]
  },
  {
   "cell_type": "code",
   "execution_count": 34,
   "metadata": {},
   "outputs": [],
   "source": [
    "#Создаем столбец с годом\n",
    "df['year'] = df['first_day_exposition'].dt.year"
   ]
  },
  {
   "cell_type": "code",
   "execution_count": 35,
   "metadata": {},
   "outputs": [],
   "source": [
    "# Создание функции категоризации этажа квартиры, которая на вход принимает значения из стобца 'floor' и возвращает категорию\n",
    "def cat_floor(floor):\n",
    "    flat_floor = floor['floor']\n",
    "    last_floor = floor['floors_total']\n",
    "    if flat_floor == 1:\n",
    "        return 'Первый'\n",
    "    elif flat_floor == last_floor:\n",
    "        return 'Последний'\n",
    "    return 'Другой'\n",
    "df['floor_cat'] = df.apply(cat_floor, axis=1)"
   ]
  },
  {
   "cell_type": "code",
   "execution_count": 36,
   "metadata": {},
   "outputs": [
    {
     "data": {
      "text/plain": [
       "Другой       17446\n",
       "Последний     3336\n",
       "Первый        2917\n",
       "Name: floor_cat, dtype: int64"
      ]
     },
     "execution_count": 36,
     "metadata": {},
     "output_type": "execute_result"
    }
   ],
   "source": [
    "df['floor_cat'].value_counts()"
   ]
  },
  {
   "cell_type": "code",
   "execution_count": 37,
   "metadata": {},
   "outputs": [],
   "source": [
    "df['live_ratio'] = df['living_area'] / df['total_area']"
   ]
  },
  {
   "cell_type": "code",
   "execution_count": 38,
   "metadata": {},
   "outputs": [],
   "source": [
    "df['kitchen_ratio'] = df['kitchen_area'] / df['total_area']"
   ]
  },
  {
   "cell_type": "code",
   "execution_count": 39,
   "metadata": {
    "scrolled": true
   },
   "outputs": [
    {
     "data": {
      "text/html": [
       "<div>\n",
       "<style scoped>\n",
       "    .dataframe tbody tr th:only-of-type {\n",
       "        vertical-align: middle;\n",
       "    }\n",
       "\n",
       "    .dataframe tbody tr th {\n",
       "        vertical-align: top;\n",
       "    }\n",
       "\n",
       "    .dataframe thead th {\n",
       "        text-align: right;\n",
       "    }\n",
       "</style>\n",
       "<table border=\"1\" class=\"dataframe\">\n",
       "  <thead>\n",
       "    <tr style=\"text-align: right;\">\n",
       "      <th></th>\n",
       "      <th>total_images</th>\n",
       "      <th>last_price</th>\n",
       "      <th>total_area</th>\n",
       "      <th>first_day_exposition</th>\n",
       "      <th>rooms</th>\n",
       "      <th>ceiling_height</th>\n",
       "      <th>floors_total</th>\n",
       "      <th>living_area</th>\n",
       "      <th>floor</th>\n",
       "      <th>is_apartment</th>\n",
       "      <th>...</th>\n",
       "      <th>ponds_around3000</th>\n",
       "      <th>ponds_nearest</th>\n",
       "      <th>days_exposition</th>\n",
       "      <th>metr_price</th>\n",
       "      <th>weekday</th>\n",
       "      <th>month</th>\n",
       "      <th>year</th>\n",
       "      <th>floor_cat</th>\n",
       "      <th>live_ratio</th>\n",
       "      <th>kitchen_ratio</th>\n",
       "    </tr>\n",
       "  </thead>\n",
       "  <tbody>\n",
       "    <tr>\n",
       "      <th>0</th>\n",
       "      <td>20</td>\n",
       "      <td>13000000.0</td>\n",
       "      <td>108.000000</td>\n",
       "      <td>2019-03-07</td>\n",
       "      <td>3</td>\n",
       "      <td>2.70</td>\n",
       "      <td>16.0</td>\n",
       "      <td>51.000000</td>\n",
       "      <td>8</td>\n",
       "      <td>NaN</td>\n",
       "      <td>...</td>\n",
       "      <td>2.0</td>\n",
       "      <td>755.0</td>\n",
       "      <td>NaN</td>\n",
       "      <td>120370.367188</td>\n",
       "      <td>3</td>\n",
       "      <td>3</td>\n",
       "      <td>2019</td>\n",
       "      <td>Другой</td>\n",
       "      <td>0.472222</td>\n",
       "      <td>0.231481</td>\n",
       "    </tr>\n",
       "    <tr>\n",
       "      <th>1</th>\n",
       "      <td>7</td>\n",
       "      <td>3350000.0</td>\n",
       "      <td>40.400002</td>\n",
       "      <td>2018-12-04</td>\n",
       "      <td>1</td>\n",
       "      <td>NaN</td>\n",
       "      <td>11.0</td>\n",
       "      <td>18.600000</td>\n",
       "      <td>1</td>\n",
       "      <td>NaN</td>\n",
       "      <td>...</td>\n",
       "      <td>0.0</td>\n",
       "      <td>NaN</td>\n",
       "      <td>81.0</td>\n",
       "      <td>82920.789062</td>\n",
       "      <td>1</td>\n",
       "      <td>12</td>\n",
       "      <td>2018</td>\n",
       "      <td>Первый</td>\n",
       "      <td>0.460396</td>\n",
       "      <td>0.272277</td>\n",
       "    </tr>\n",
       "    <tr>\n",
       "      <th>2</th>\n",
       "      <td>10</td>\n",
       "      <td>5196000.0</td>\n",
       "      <td>56.000000</td>\n",
       "      <td>2015-08-20</td>\n",
       "      <td>2</td>\n",
       "      <td>NaN</td>\n",
       "      <td>5.0</td>\n",
       "      <td>34.299999</td>\n",
       "      <td>4</td>\n",
       "      <td>NaN</td>\n",
       "      <td>...</td>\n",
       "      <td>2.0</td>\n",
       "      <td>574.0</td>\n",
       "      <td>558.0</td>\n",
       "      <td>92785.710938</td>\n",
       "      <td>3</td>\n",
       "      <td>8</td>\n",
       "      <td>2015</td>\n",
       "      <td>Другой</td>\n",
       "      <td>0.612500</td>\n",
       "      <td>0.148214</td>\n",
       "    </tr>\n",
       "    <tr>\n",
       "      <th>3</th>\n",
       "      <td>0</td>\n",
       "      <td>64900000.0</td>\n",
       "      <td>159.000000</td>\n",
       "      <td>2015-07-24</td>\n",
       "      <td>3</td>\n",
       "      <td>NaN</td>\n",
       "      <td>14.0</td>\n",
       "      <td>NaN</td>\n",
       "      <td>9</td>\n",
       "      <td>NaN</td>\n",
       "      <td>...</td>\n",
       "      <td>3.0</td>\n",
       "      <td>234.0</td>\n",
       "      <td>424.0</td>\n",
       "      <td>408176.093750</td>\n",
       "      <td>4</td>\n",
       "      <td>7</td>\n",
       "      <td>2015</td>\n",
       "      <td>Другой</td>\n",
       "      <td>NaN</td>\n",
       "      <td>NaN</td>\n",
       "    </tr>\n",
       "    <tr>\n",
       "      <th>4</th>\n",
       "      <td>2</td>\n",
       "      <td>10000000.0</td>\n",
       "      <td>100.000000</td>\n",
       "      <td>2018-06-19</td>\n",
       "      <td>2</td>\n",
       "      <td>3.03</td>\n",
       "      <td>14.0</td>\n",
       "      <td>32.000000</td>\n",
       "      <td>13</td>\n",
       "      <td>NaN</td>\n",
       "      <td>...</td>\n",
       "      <td>1.0</td>\n",
       "      <td>48.0</td>\n",
       "      <td>121.0</td>\n",
       "      <td>100000.000000</td>\n",
       "      <td>1</td>\n",
       "      <td>6</td>\n",
       "      <td>2018</td>\n",
       "      <td>Другой</td>\n",
       "      <td>0.320000</td>\n",
       "      <td>0.410000</td>\n",
       "    </tr>\n",
       "  </tbody>\n",
       "</table>\n",
       "<p>5 rows × 29 columns</p>\n",
       "</div>"
      ],
      "text/plain": [
       "   total_images  last_price  total_area first_day_exposition  rooms  \\\n",
       "0            20  13000000.0  108.000000           2019-03-07      3   \n",
       "1             7   3350000.0   40.400002           2018-12-04      1   \n",
       "2            10   5196000.0   56.000000           2015-08-20      2   \n",
       "3             0  64900000.0  159.000000           2015-07-24      3   \n",
       "4             2  10000000.0  100.000000           2018-06-19      2   \n",
       "\n",
       "   ceiling_height  floors_total  living_area  floor is_apartment  ...  \\\n",
       "0            2.70          16.0    51.000000      8          NaN  ...   \n",
       "1             NaN          11.0    18.600000      1          NaN  ...   \n",
       "2             NaN           5.0    34.299999      4          NaN  ...   \n",
       "3             NaN          14.0          NaN      9          NaN  ...   \n",
       "4            3.03          14.0    32.000000     13          NaN  ...   \n",
       "\n",
       "   ponds_around3000  ponds_nearest  days_exposition     metr_price weekday  \\\n",
       "0               2.0          755.0              NaN  120370.367188       3   \n",
       "1               0.0            NaN             81.0   82920.789062       1   \n",
       "2               2.0          574.0            558.0   92785.710938       3   \n",
       "3               3.0          234.0            424.0  408176.093750       4   \n",
       "4               1.0           48.0            121.0  100000.000000       1   \n",
       "\n",
       "  month  year floor_cat live_ratio kitchen_ratio  \n",
       "0     3  2019    Другой   0.472222      0.231481  \n",
       "1    12  2018    Первый   0.460396      0.272277  \n",
       "2     8  2015    Другой   0.612500      0.148214  \n",
       "3     7  2015    Другой        NaN           NaN  \n",
       "4     6  2018    Другой   0.320000      0.410000  \n",
       "\n",
       "[5 rows x 29 columns]"
      ]
     },
     "execution_count": 39,
     "metadata": {},
     "output_type": "execute_result"
    }
   ],
   "source": [
    "df.head()"
   ]
  },
  {
   "cell_type": "markdown",
   "metadata": {},
   "source": [
    "## Исследовательский анализ данных"
   ]
  },
  {
   "cell_type": "code",
   "execution_count": 40,
   "metadata": {},
   "outputs": [
    {
     "data": {
      "image/png": "[encoded data removed]",
      "text/plain": [
       "<Figure size 432x288 with 1 Axes>"
      ]
     },
     "metadata": {
      "needs_background": "light"
     },
     "output_type": "display_data"
    }
   ],
   "source": [
    "df['total_area'].hist(range = (0,350),bins=50);"
   ]
  },
  {
   "cell_type": "markdown",
   "metadata": {},
   "source": [
    "Из графика видно, что основная масса объявлений с квартирами около 50 м2"
   ]
  },
  {
   "cell_type": "code",
   "execution_count": 41,
   "metadata": {},
   "outputs": [
    {
     "data": {
      "image/png": "[encoded data removed]",
      "text/plain": [
       "<Figure size 432x288 with 1 Axes>"
      ]
     },
     "metadata": {
      "needs_background": "light"
     },
     "output_type": "display_data"
    }
   ],
   "source": [
    "(df['last_price'] / 10000).hist(range = (0,5000), bins = 100);"
   ]
  },
  {
   "cell_type": "markdown",
   "metadata": {},
   "source": [
    "Из графика видно, что в среднем квартиры продаются за 5кк, но есть и выбросы в районе 0"
   ]
  },
  {
   "cell_type": "code",
   "execution_count": 42,
   "metadata": {
    "scrolled": true
   },
   "outputs": [
    {
     "data": {
      "image/png": "[encoded data removed]",
      "text/plain": [
       "<Figure size 432x288 with 1 Axes>"
      ]
     },
     "metadata": {
      "needs_background": "light"
     },
     "output_type": "display_data"
    }
   ],
   "source": [
    "df['rooms'].hist(range = (0,10), bins = 100);"
   ]
  },
  {
   "cell_type": "markdown",
   "metadata": {},
   "source": [
    "Из графика видно, что в основном продают 1-3 комнатные квартиры, но есть и выбросы в районе 0"
   ]
  },
  {
   "cell_type": "code",
   "execution_count": 43,
   "metadata": {
    "scrolled": true
   },
   "outputs": [
    {
     "data": {
      "image/png": "[encoded data removed]",
      "text/plain": [
       "<Figure size 432x288 with 1 Axes>"
      ]
     },
     "metadata": {
      "needs_background": "light"
     },
     "output_type": "display_data"
    }
   ],
   "source": [
    "df['ceiling_height'].hist(range = (1,4.5), bins = 100);"
   ]
  },
  {
   "cell_type": "markdown",
   "metadata": {},
   "source": [
    "Из графика видно, что в основном высота потолка 2-4 метра, но есть и выбросы в районе более 4 метров"
   ]
  },
  {
   "cell_type": "code",
   "execution_count": 44,
   "metadata": {},
   "outputs": [
    {
     "data": {
      "image/png": "[encoded data removed]",
      "text/plain": [
       "<Figure size 432x288 with 1 Axes>"
      ]
     },
     "metadata": {
      "needs_background": "light"
     },
     "output_type": "display_data"
    }
   ],
   "source": [
    "df['days_exposition'].hist(range = (0,1400), bins = 100);"
   ]
  },
  {
   "cell_type": "code",
   "execution_count": 45,
   "metadata": {},
   "outputs": [
    {
     "data": {
      "image/png": "[encoded data removed]",
      "text/plain": [
       "<Figure size 432x288 with 1 Axes>"
      ]
     },
     "metadata": {
      "needs_background": "light"
     },
     "output_type": "display_data"
    }
   ],
   "source": [
    "df['days_exposition'].hist(range = (0,400), bins = 100);"
   ]
  },
  {
   "cell_type": "code",
   "execution_count": 46,
   "metadata": {},
   "outputs": [
    {
     "data": {
      "image/png": "[encoded data removed]",
      "text/plain": [
       "<Figure size 432x288 with 1 Axes>"
      ]
     },
     "metadata": {
      "needs_background": "light"
     },
     "output_type": "display_data"
    }
   ],
   "source": [
    "df['days_exposition'].hist(range = (0,100), bins = 100);"
   ]
  },
  {
   "cell_type": "code",
   "execution_count": 47,
   "metadata": {},
   "outputs": [
    {
     "data": {
      "image/png": "[encoded data removed]",
      "text/plain": [
       "<Figure size 432x288 with 1 Axes>"
      ]
     },
     "metadata": {
      "needs_background": "light"
     },
     "output_type": "display_data"
    }
   ],
   "source": [
    "df['days_exposition'].hist(range = (800,1400), bins = 100);"
   ]
  },
  {
   "cell_type": "code",
   "execution_count": 48,
   "metadata": {},
   "outputs": [
    {
     "name": "stdout",
     "output_type": "stream",
     "text": [
      "Среднее время продажи квартиры: 180.88864\n",
      "Медианное время продажи квартиры: 95.0\n"
     ]
    }
   ],
   "source": [
    "print('Среднее время продажи квартиры:', df['days_exposition'].mean())\n",
    "print('Медианное время продажи квартиры:', df['days_exposition'].median())"
   ]
  },
  {
   "cell_type": "markdown",
   "metadata": {},
   "source": [
    "Продажа занимает в среднем 180 дней, долгая продажа, если квартира продаётся дольше 180 дней, быстрая продажа, если меньше 95 дней"
   ]
  },
  {
   "cell_type": "code",
   "execution_count": 49,
   "metadata": {
    "scrolled": true
   },
   "outputs": [
    {
     "data": {
      "image/png": "[encoded data removed]",
      "text/plain": [
       "<Figure size 432x288 with 1 Axes>"
      ]
     },
     "metadata": {
      "needs_background": "light"
     },
     "output_type": "display_data"
    }
   ],
   "source": [
    "df.boxplot(column='total_area')\n",
    "plt.show()"
   ]
  },
  {
   "cell_type": "markdown",
   "metadata": {},
   "source": [
    "Выбросы в столбце 'total_area' больше 550м2"
   ]
  },
  {
   "cell_type": "code",
   "execution_count": 50,
   "metadata": {},
   "outputs": [
    {
     "name": "stdout",
     "output_type": "stream",
     "text": [
      "32\n"
     ]
    }
   ],
   "source": [
    "#Количество выбросов\n",
    "print(df.loc[df['total_area'] > 550]['total_area'].count() + \n",
    "df.loc[df['total_area'] < 20]['total_area'].count())"
   ]
  },
  {
   "cell_type": "code",
   "execution_count": 51,
   "metadata": {},
   "outputs": [],
   "source": [
    "df_copy = df.copy()"
   ]
  },
  {
   "cell_type": "code",
   "execution_count": 52,
   "metadata": {},
   "outputs": [],
   "source": [
    "df = df.query('20 < total_area < 550')"
   ]
  },
  {
   "cell_type": "code",
   "execution_count": 53,
   "metadata": {
    "scrolled": true
   },
   "outputs": [
    {
     "data": {
      "image/png": "[encoded data removed]",
      "text/plain": [
       "<Figure size 432x288 with 1 Axes>"
      ]
     },
     "metadata": {
      "needs_background": "light"
     },
     "output_type": "display_data"
    }
   ],
   "source": [
    "df.boxplot(column='last_price')\n",
    "plt.show()"
   ]
  },
  {
   "cell_type": "markdown",
   "metadata": {},
   "source": [
    "Выбросы в столбце 'last_price' больше 45000000"
   ]
  },
  {
   "cell_type": "code",
   "execution_count": 54,
   "metadata": {},
   "outputs": [
    {
     "name": "stdout",
     "output_type": "stream",
     "text": [
      "170\n"
     ]
    }
   ],
   "source": [
    "#Количество выбросов\n",
    "print(df.loc[df['last_price'] > 45000000]['last_price'].count() + df.loc[df['last_price'] < 500000]['last_price'].count())"
   ]
  },
  {
   "cell_type": "code",
   "execution_count": 55,
   "metadata": {},
   "outputs": [
    {
     "data": {
      "image/png": "[encoded data removed]",
      "text/plain": [
       "<Figure size 432x288 with 1 Axes>"
      ]
     },
     "metadata": {
      "needs_background": "light"
     },
     "output_type": "display_data"
    }
   ],
   "source": [
    "df['last_price'].hist(range = (0,45000000), bins = 100);"
   ]
  },
  {
   "cell_type": "code",
   "execution_count": 56,
   "metadata": {},
   "outputs": [],
   "source": [
    "df = df.query('500000 < last_price < 45000000')"
   ]
  },
  {
   "cell_type": "code",
   "execution_count": 57,
   "metadata": {
    "scrolled": true
   },
   "outputs": [
    {
     "data": {
      "image/png": "[encoded data removed]",
      "text/plain": [
       "<Figure size 432x288 with 1 Axes>"
      ]
     },
     "metadata": {
      "needs_background": "light"
     },
     "output_type": "display_data"
    }
   ],
   "source": [
    "df.boxplot(column='rooms')\n",
    "plt.show()"
   ]
  },
  {
   "cell_type": "code",
   "execution_count": 58,
   "metadata": {},
   "outputs": [
    {
     "name": "stdout",
     "output_type": "stream",
     "text": [
      "68\n"
     ]
    }
   ],
   "source": [
    "#Количество выбросов\n",
    "print(df.loc[df['rooms'] > 6]['rooms'].count())"
   ]
  },
  {
   "cell_type": "code",
   "execution_count": 59,
   "metadata": {},
   "outputs": [],
   "source": [
    "df = df.query('rooms <= 6')"
   ]
  },
  {
   "cell_type": "code",
   "execution_count": 60,
   "metadata": {},
   "outputs": [
    {
     "data": {
      "image/png": "[encoded data removed]",
      "text/plain": [
       "<Figure size 432x288 with 1 Axes>"
      ]
     },
     "metadata": {
      "needs_background": "light"
     },
     "output_type": "display_data"
    }
   ],
   "source": [
    "df.boxplot(column='rooms')\n",
    "plt.show()"
   ]
  },
  {
   "cell_type": "code",
   "execution_count": 61,
   "metadata": {
    "scrolled": false
   },
   "outputs": [
    {
     "data": {
      "image/png": "[encoded data removed]",
      "text/plain": [
       "<Figure size 432x288 with 1 Axes>"
      ]
     },
     "metadata": {
      "needs_background": "light"
     },
     "output_type": "display_data"
    }
   ],
   "source": [
    "df.boxplot(column='ceiling_height')\n",
    "plt.show()"
   ]
  },
  {
   "cell_type": "code",
   "execution_count": 62,
   "metadata": {},
   "outputs": [
    {
     "name": "stdout",
     "output_type": "stream",
     "text": [
      "22\n"
     ]
    }
   ],
   "source": [
    "print(df.loc[df['ceiling_height'] > 20]['ceiling_height'].count())"
   ]
  },
  {
   "cell_type": "code",
   "execution_count": 63,
   "metadata": {},
   "outputs": [
    {
     "name": "stdout",
     "output_type": "stream",
     "text": [
      "38\n"
     ]
    }
   ],
   "source": [
    "print(df.loc[df['ceiling_height'] > 4.5]['ceiling_height'].count() + df.loc[df['ceiling_height'] < 2]['ceiling_height'].count())"
   ]
  },
  {
   "cell_type": "code",
   "execution_count": 64,
   "metadata": {},
   "outputs": [],
   "source": [
    "# Заполним высоту потолков средними значениями\n",
    "df['ceiling_height'] = df['ceiling_height'].fillna(df['ceiling_height'].median())"
   ]
  },
  {
   "cell_type": "code",
   "execution_count": 65,
   "metadata": {},
   "outputs": [],
   "source": [
    "df = df.query('2<ceiling_height<4.5')"
   ]
  },
  {
   "cell_type": "code",
   "execution_count": 66,
   "metadata": {},
   "outputs": [
    {
     "data": {
      "image/png": "[encoded data removed]",
      "text/plain": [
       "<Figure size 432x288 with 1 Axes>"
      ]
     },
     "metadata": {
      "needs_background": "light"
     },
     "output_type": "display_data"
    }
   ],
   "source": [
    "df.boxplot(column='ceiling_height')\n",
    "plt.show()"
   ]
  },
  {
   "cell_type": "code",
   "execution_count": 67,
   "metadata": {},
   "outputs": [
    {
     "name": "stdout",
     "output_type": "stream",
     "text": [
      "0.9856112072239335\n"
     ]
    }
   ],
   "source": [
    "print(len(df)/len(df_copy))"
   ]
  },
  {
   "cell_type": "code",
   "execution_count": 68,
   "metadata": {},
   "outputs": [
    {
     "name": "stdout",
     "output_type": "stream",
     "text": [
      "Зависимость цены от площади: 0.7823138804698959\n"
     ]
    }
   ],
   "source": [
    "print('Зависимость цены от площади:', df['total_area'].corr(df['last_price']))"
   ]
  },
  {
   "cell_type": "markdown",
   "metadata": {},
   "source": [
    "Чем больше площадь, тем выше цена"
   ]
  },
  {
   "cell_type": "code",
   "execution_count": 69,
   "metadata": {},
   "outputs": [
    {
     "name": "stdout",
     "output_type": "stream",
     "text": [
      "Зависимость цены от количества комнат: 0.4900374733878503\n"
     ]
    }
   ],
   "source": [
    "print('Зависимость цены от количества комнат:', df['rooms'].corr(df['last_price']))"
   ]
  },
  {
   "cell_type": "markdown",
   "metadata": {},
   "source": [
    "Зависимость цены от количества комнат меньше, чем от площади, но чем больше комнат, тем выше цена"
   ]
  },
  {
   "cell_type": "code",
   "execution_count": 70,
   "metadata": {
    "scrolled": true
   },
   "outputs": [
    {
     "name": "stdout",
     "output_type": "stream",
     "text": [
      "Зависимость цены от расстояния до центра города: -0.3340201376936738\n"
     ]
    }
   ],
   "source": [
    "print('Зависимость цены от расстояния до центра города:', df['citycenters_nearest'].corr(df['last_price']))"
   ]
  },
  {
   "cell_type": "markdown",
   "metadata": {},
   "source": [
    "Зависимость небольшая, но она есть. Чем меньше расстояние до центра, тем выше цена"
   ]
  },
  {
   "cell_type": "code",
   "execution_count": 71,
   "metadata": {},
   "outputs": [
    {
     "data": {
      "image/png": "[encoded data removed]",
      "text/plain": [
       "<Figure size 720x720 with 20 Axes>"
      ]
     },
     "metadata": {
      "needs_background": "light"
     },
     "output_type": "display_data"
    }
   ],
   "source": [
    "seaborn.pairplot(df[['last_price', 'total_area', 'rooms', 'citycenters_nearest']]);"
   ]
  },
  {
   "cell_type": "code",
   "execution_count": 72,
   "metadata": {},
   "outputs": [
    {
     "data": {
      "image/png": "[encoded data removed]",
      "text/plain": [
       "<Figure size 432x288 with 1 Axes>"
      ]
     },
     "metadata": {
      "needs_background": "light"
     },
     "output_type": "display_data"
    }
   ],
   "source": [
    "df.pivot_table(index = \"floor_cat\", values = \"last_price\", aggfunc = ['mean']).plot(kind='bar');"
   ]
  },
  {
   "cell_type": "markdown",
   "metadata": {},
   "source": [
    "Средняя цена первого этажа ниже остальных этажей, средняя цена последнего этажа ниже, чем у других. Люди предпочитают не первый и не последний этаж"
   ]
  },
  {
   "cell_type": "code",
   "execution_count": 73,
   "metadata": {},
   "outputs": [
    {
     "data": {
      "image/png": "[encoded data removed]",
      "text/plain": [
       "<Figure size 432x288 with 1 Axes>"
      ]
     },
     "metadata": {
      "needs_background": "light"
     },
     "output_type": "display_data"
    }
   ],
   "source": [
    "df.pivot_table(index = \"year\", values = \"last_price\", aggfunc = ['mean']).plot(kind = 'bar');"
   ]
  },
  {
   "cell_type": "markdown",
   "metadata": {},
   "source": [
    "с 2015 года цены держатся примерно на одном уровне. Скачок в 2014 году, скорее всего, был вызван ростом курса доллара."
   ]
  },
  {
   "cell_type": "code",
   "execution_count": 74,
   "metadata": {
    "scrolled": false
   },
   "outputs": [
    {
     "data": {
      "text/plain": [
       "<AxesSubplot:xlabel='month'>"
      ]
     },
     "execution_count": 74,
     "metadata": {},
     "output_type": "execute_result"
    },
    {
     "data": {
      "image/png": "[encoded data removed]",
      "text/plain": [
       "<Figure size 432x288 with 1 Axes>"
      ]
     },
     "metadata": {
      "needs_background": "light"
     },
     "output_type": "display_data"
    }
   ],
   "source": [
    "df.pivot_table(index = \"month\", values = \"last_price\", aggfunc = ['mean']).plot(kind = 'bar')"
   ]
  },
  {
   "cell_type": "markdown",
   "metadata": {},
   "source": [
    "Летом самые низкие цены в июне и марте"
   ]
  },
  {
   "cell_type": "code",
   "execution_count": 75,
   "metadata": {},
   "outputs": [
    {
     "data": {
      "image/png": "[encoded data removed]",
      "text/plain": [
       "<Figure size 432x288 with 1 Axes>"
      ]
     },
     "metadata": {
      "needs_background": "light"
     },
     "output_type": "display_data"
    }
   ],
   "source": [
    "df.pivot_table(index = \"weekday\", values = \"last_price\", aggfunc = ['mean']).plot(kind = 'bar');"
   ]
  },
  {
   "cell_type": "markdown",
   "metadata": {},
   "source": [
    "Зависимости цены от дня недели нет"
   ]
  },
  {
   "cell_type": "code",
   "execution_count": 76,
   "metadata": {
    "scrolled": true
   },
   "outputs": [
    {
     "data": {
      "text/plain": [
       "Санкт-Петербург      15436\n",
       "посёлок Мурино         519\n",
       "посёлок Шушары         439\n",
       "Всеволожск             396\n",
       "Пушкин                 367\n",
       "Колпино                337\n",
       "посёлок Парголово      326\n",
       "Гатчина                306\n",
       "деревня Кудрово        298\n",
       "Выборг                 234\n",
       "Name: locality_name, dtype: int64"
      ]
     },
     "execution_count": 76,
     "metadata": {},
     "output_type": "execute_result"
    }
   ],
   "source": [
    "# Выбор 10 населённых пунктов с наибольшим числом объявлений.\n",
    "df['locality_name'].value_counts().head(10)"
   ]
  },
  {
   "cell_type": "code",
   "execution_count": 77,
   "metadata": {},
   "outputs": [],
   "source": [
    "# Список и срез 10 населённых пунктов с наибольшим числом объявлений.\n",
    "list =  df['locality_name'].value_counts().head(10).index\n",
    "top_ten = df.query('locality_name in @list')"
   ]
  },
  {
   "cell_type": "code",
   "execution_count": 78,
   "metadata": {},
   "outputs": [
    {
     "data": {
      "text/html": [
       "<div>\n",
       "<style scoped>\n",
       "    .dataframe tbody tr th:only-of-type {\n",
       "        vertical-align: middle;\n",
       "    }\n",
       "\n",
       "    .dataframe tbody tr th {\n",
       "        vertical-align: top;\n",
       "    }\n",
       "\n",
       "    .dataframe thead th {\n",
       "        text-align: right;\n",
       "    }\n",
       "</style>\n",
       "<table border=\"1\" class=\"dataframe\">\n",
       "  <thead>\n",
       "    <tr style=\"text-align: right;\">\n",
       "      <th></th>\n",
       "      <th>metr_price</th>\n",
       "    </tr>\n",
       "    <tr>\n",
       "      <th>locality_name</th>\n",
       "      <th></th>\n",
       "    </tr>\n",
       "  </thead>\n",
       "  <tbody>\n",
       "    <tr>\n",
       "      <th>Выборг</th>\n",
       "      <td>58190.128906</td>\n",
       "    </tr>\n",
       "    <tr>\n",
       "      <th>Всеволожск</th>\n",
       "      <td>68747.648438</td>\n",
       "    </tr>\n",
       "    <tr>\n",
       "      <th>Гатчина</th>\n",
       "      <td>68757.679688</td>\n",
       "    </tr>\n",
       "    <tr>\n",
       "      <th>Колпино</th>\n",
       "      <td>75333.296875</td>\n",
       "    </tr>\n",
       "    <tr>\n",
       "      <th>посёлок Шушары</th>\n",
       "      <td>78655.593750</td>\n",
       "    </tr>\n",
       "    <tr>\n",
       "      <th>посёлок Мурино</th>\n",
       "      <td>85721.820312</td>\n",
       "    </tr>\n",
       "    <tr>\n",
       "      <th>посёлок Парголово</th>\n",
       "      <td>90332.265625</td>\n",
       "    </tr>\n",
       "    <tr>\n",
       "      <th>деревня Кудрово</th>\n",
       "      <td>92481.851562</td>\n",
       "    </tr>\n",
       "    <tr>\n",
       "      <th>Пушкин</th>\n",
       "      <td>103056.031250</td>\n",
       "    </tr>\n",
       "    <tr>\n",
       "      <th>Санкт-Петербург</th>\n",
       "      <td>111780.171875</td>\n",
       "    </tr>\n",
       "  </tbody>\n",
       "</table>\n",
       "</div>"
      ],
      "text/plain": [
       "                      metr_price\n",
       "locality_name                   \n",
       "Выборг              58190.128906\n",
       "Всеволожск          68747.648438\n",
       "Гатчина             68757.679688\n",
       "Колпино             75333.296875\n",
       "посёлок Шушары      78655.593750\n",
       "посёлок Мурино      85721.820312\n",
       "посёлок Парголово   90332.265625\n",
       "деревня Кудрово     92481.851562\n",
       "Пушкин             103056.031250\n",
       "Санкт-Петербург    111780.171875"
      ]
     },
     "execution_count": 78,
     "metadata": {},
     "output_type": "execute_result"
    }
   ],
   "source": [
    "# Средняя цена квадратного метра для каждого населённого пункта.\n",
    "top_ten.pivot_table(index = 'locality_name', values = 'metr_price', aggfunc = 'mean').sort_values(by = 'metr_price')"
   ]
  },
  {
   "cell_type": "code",
   "execution_count": 79,
   "metadata": {},
   "outputs": [
    {
     "data": {
      "text/html": [
       "<div>\n",
       "<style scoped>\n",
       "    .dataframe tbody tr th:only-of-type {\n",
       "        vertical-align: middle;\n",
       "    }\n",
       "\n",
       "    .dataframe tbody tr th {\n",
       "        vertical-align: top;\n",
       "    }\n",
       "\n",
       "    .dataframe thead th {\n",
       "        text-align: right;\n",
       "    }\n",
       "</style>\n",
       "<table border=\"1\" class=\"dataframe\">\n",
       "  <thead>\n",
       "    <tr style=\"text-align: right;\">\n",
       "      <th></th>\n",
       "      <th>last_price</th>\n",
       "    </tr>\n",
       "    <tr>\n",
       "      <th>locality_name</th>\n",
       "      <th></th>\n",
       "    </tr>\n",
       "  </thead>\n",
       "  <tbody>\n",
       "    <tr>\n",
       "      <th>Выборг</th>\n",
       "      <td>3246508.50</td>\n",
       "    </tr>\n",
       "    <tr>\n",
       "      <th>Гатчина</th>\n",
       "      <td>3487971.75</td>\n",
       "    </tr>\n",
       "    <tr>\n",
       "      <th>посёлок Мурино</th>\n",
       "      <td>3676801.00</td>\n",
       "    </tr>\n",
       "    <tr>\n",
       "      <th>Всеволожск</th>\n",
       "      <td>3799492.25</td>\n",
       "    </tr>\n",
       "    <tr>\n",
       "      <th>Колпино</th>\n",
       "      <td>3866288.50</td>\n",
       "    </tr>\n",
       "    <tr>\n",
       "      <th>посёлок Шушары</th>\n",
       "      <td>4114022.75</td>\n",
       "    </tr>\n",
       "    <tr>\n",
       "      <th>деревня Кудрово</th>\n",
       "      <td>4242326.00</td>\n",
       "    </tr>\n",
       "    <tr>\n",
       "      <th>посёлок Парголово</th>\n",
       "      <td>4477609.00</td>\n",
       "    </tr>\n",
       "    <tr>\n",
       "      <th>Пушкин</th>\n",
       "      <td>6383853.50</td>\n",
       "    </tr>\n",
       "    <tr>\n",
       "      <th>Санкт-Петербург</th>\n",
       "      <td>7108624.00</td>\n",
       "    </tr>\n",
       "  </tbody>\n",
       "</table>\n",
       "</div>"
      ],
      "text/plain": [
       "                   last_price\n",
       "locality_name                \n",
       "Выборг             3246508.50\n",
       "Гатчина            3487971.75\n",
       "посёлок Мурино     3676801.00\n",
       "Всеволожск         3799492.25\n",
       "Колпино            3866288.50\n",
       "посёлок Шушары     4114022.75\n",
       "деревня Кудрово    4242326.00\n",
       "посёлок Парголово  4477609.00\n",
       "Пушкин             6383853.50\n",
       "Санкт-Петербург    7108624.00"
      ]
     },
     "execution_count": 79,
     "metadata": {},
     "output_type": "execute_result"
    }
   ],
   "source": [
    "# Нахождение средней цены квартиры в ТОП-10 локаций\n",
    "top_ten.pivot_table(index = 'locality_name', values = 'last_price', aggfunc = 'mean').sort_values(by = 'last_price')"
   ]
  },
  {
   "cell_type": "markdown",
   "metadata": {},
   "source": [
    "Самая высокая стоимость жилья в Санкт-Петербурге и самая низкая в Выборге"
   ]
  },
  {
   "cell_type": "code",
   "execution_count": 80,
   "metadata": {},
   "outputs": [
    {
     "data": {
      "text/html": [
       "<div>\n",
       "<style scoped>\n",
       "    .dataframe tbody tr th:only-of-type {\n",
       "        vertical-align: middle;\n",
       "    }\n",
       "\n",
       "    .dataframe tbody tr th {\n",
       "        vertical-align: top;\n",
       "    }\n",
       "\n",
       "    .dataframe thead th {\n",
       "        text-align: right;\n",
       "    }\n",
       "</style>\n",
       "<table border=\"1\" class=\"dataframe\">\n",
       "  <thead>\n",
       "    <tr style=\"text-align: right;\">\n",
       "      <th></th>\n",
       "      <th>total_images</th>\n",
       "      <th>last_price</th>\n",
       "      <th>total_area</th>\n",
       "      <th>first_day_exposition</th>\n",
       "      <th>rooms</th>\n",
       "      <th>ceiling_height</th>\n",
       "      <th>floors_total</th>\n",
       "      <th>living_area</th>\n",
       "      <th>floor</th>\n",
       "      <th>is_apartment</th>\n",
       "      <th>...</th>\n",
       "      <th>ponds_around3000</th>\n",
       "      <th>ponds_nearest</th>\n",
       "      <th>days_exposition</th>\n",
       "      <th>metr_price</th>\n",
       "      <th>weekday</th>\n",
       "      <th>month</th>\n",
       "      <th>year</th>\n",
       "      <th>floor_cat</th>\n",
       "      <th>live_ratio</th>\n",
       "      <th>kitchen_ratio</th>\n",
       "    </tr>\n",
       "  </thead>\n",
       "  <tbody>\n",
       "    <tr>\n",
       "      <th>0</th>\n",
       "      <td>20</td>\n",
       "      <td>13000000.0</td>\n",
       "      <td>108.000000</td>\n",
       "      <td>2019-03-07</td>\n",
       "      <td>3</td>\n",
       "      <td>2.70</td>\n",
       "      <td>16.0</td>\n",
       "      <td>51.000000</td>\n",
       "      <td>8</td>\n",
       "      <td>NaN</td>\n",
       "      <td>...</td>\n",
       "      <td>2.0</td>\n",
       "      <td>755.0</td>\n",
       "      <td>NaN</td>\n",
       "      <td>120370.367188</td>\n",
       "      <td>3</td>\n",
       "      <td>3</td>\n",
       "      <td>2019</td>\n",
       "      <td>Другой</td>\n",
       "      <td>0.472222</td>\n",
       "      <td>0.231481</td>\n",
       "    </tr>\n",
       "    <tr>\n",
       "      <th>2</th>\n",
       "      <td>10</td>\n",
       "      <td>5196000.0</td>\n",
       "      <td>56.000000</td>\n",
       "      <td>2015-08-20</td>\n",
       "      <td>2</td>\n",
       "      <td>2.65</td>\n",
       "      <td>5.0</td>\n",
       "      <td>34.299999</td>\n",
       "      <td>4</td>\n",
       "      <td>NaN</td>\n",
       "      <td>...</td>\n",
       "      <td>2.0</td>\n",
       "      <td>574.0</td>\n",
       "      <td>558.0</td>\n",
       "      <td>92785.710938</td>\n",
       "      <td>3</td>\n",
       "      <td>8</td>\n",
       "      <td>2015</td>\n",
       "      <td>Другой</td>\n",
       "      <td>0.612500</td>\n",
       "      <td>0.148214</td>\n",
       "    </tr>\n",
       "    <tr>\n",
       "      <th>4</th>\n",
       "      <td>2</td>\n",
       "      <td>10000000.0</td>\n",
       "      <td>100.000000</td>\n",
       "      <td>2018-06-19</td>\n",
       "      <td>2</td>\n",
       "      <td>3.03</td>\n",
       "      <td>14.0</td>\n",
       "      <td>32.000000</td>\n",
       "      <td>13</td>\n",
       "      <td>NaN</td>\n",
       "      <td>...</td>\n",
       "      <td>1.0</td>\n",
       "      <td>48.0</td>\n",
       "      <td>121.0</td>\n",
       "      <td>100000.000000</td>\n",
       "      <td>1</td>\n",
       "      <td>6</td>\n",
       "      <td>2018</td>\n",
       "      <td>Другой</td>\n",
       "      <td>0.320000</td>\n",
       "      <td>0.410000</td>\n",
       "    </tr>\n",
       "    <tr>\n",
       "      <th>7</th>\n",
       "      <td>5</td>\n",
       "      <td>7915000.0</td>\n",
       "      <td>71.599998</td>\n",
       "      <td>2019-04-18</td>\n",
       "      <td>2</td>\n",
       "      <td>2.65</td>\n",
       "      <td>24.0</td>\n",
       "      <td>NaN</td>\n",
       "      <td>22</td>\n",
       "      <td>NaN</td>\n",
       "      <td>...</td>\n",
       "      <td>0.0</td>\n",
       "      <td>NaN</td>\n",
       "      <td>NaN</td>\n",
       "      <td>110544.695312</td>\n",
       "      <td>3</td>\n",
       "      <td>4</td>\n",
       "      <td>2019</td>\n",
       "      <td>Другой</td>\n",
       "      <td>NaN</td>\n",
       "      <td>0.263966</td>\n",
       "    </tr>\n",
       "    <tr>\n",
       "      <th>9</th>\n",
       "      <td>18</td>\n",
       "      <td>5400000.0</td>\n",
       "      <td>61.000000</td>\n",
       "      <td>2017-02-26</td>\n",
       "      <td>3</td>\n",
       "      <td>2.50</td>\n",
       "      <td>9.0</td>\n",
       "      <td>43.599998</td>\n",
       "      <td>7</td>\n",
       "      <td>NaN</td>\n",
       "      <td>...</td>\n",
       "      <td>0.0</td>\n",
       "      <td>NaN</td>\n",
       "      <td>289.0</td>\n",
       "      <td>88524.593750</td>\n",
       "      <td>6</td>\n",
       "      <td>2</td>\n",
       "      <td>2017</td>\n",
       "      <td>Другой</td>\n",
       "      <td>0.714754</td>\n",
       "      <td>0.106557</td>\n",
       "    </tr>\n",
       "  </tbody>\n",
       "</table>\n",
       "<p>5 rows × 29 columns</p>\n",
       "</div>"
      ],
      "text/plain": [
       "   total_images  last_price  total_area first_day_exposition  rooms  \\\n",
       "0            20  13000000.0  108.000000           2019-03-07      3   \n",
       "2            10   5196000.0   56.000000           2015-08-20      2   \n",
       "4             2  10000000.0  100.000000           2018-06-19      2   \n",
       "7             5   7915000.0   71.599998           2019-04-18      2   \n",
       "9            18   5400000.0   61.000000           2017-02-26      3   \n",
       "\n",
       "   ceiling_height  floors_total  living_area  floor is_apartment  ...  \\\n",
       "0            2.70          16.0    51.000000      8          NaN  ...   \n",
       "2            2.65           5.0    34.299999      4          NaN  ...   \n",
       "4            3.03          14.0    32.000000     13          NaN  ...   \n",
       "7            2.65          24.0          NaN     22          NaN  ...   \n",
       "9            2.50           9.0    43.599998      7          NaN  ...   \n",
       "\n",
       "   ponds_around3000  ponds_nearest  days_exposition     metr_price weekday  \\\n",
       "0               2.0          755.0              NaN  120370.367188       3   \n",
       "2               2.0          574.0            558.0   92785.710938       3   \n",
       "4               1.0           48.0            121.0  100000.000000       1   \n",
       "7               0.0            NaN              NaN  110544.695312       3   \n",
       "9               0.0            NaN            289.0   88524.593750       6   \n",
       "\n",
       "  month  year floor_cat live_ratio kitchen_ratio  \n",
       "0     3  2019    Другой   0.472222      0.231481  \n",
       "2     8  2015    Другой   0.612500      0.148214  \n",
       "4     6  2018    Другой   0.320000      0.410000  \n",
       "7     4  2019    Другой        NaN      0.263966  \n",
       "9     2  2017    Другой   0.714754      0.106557  \n",
       "\n",
       "[5 rows x 29 columns]"
      ]
     },
     "execution_count": 80,
     "metadata": {},
     "output_type": "execute_result"
    }
   ],
   "source": [
    "# Выделяем квартиры в Санкт-Петербурге\n",
    "spb_flat = df.query('locality_name == \"Санкт-Петербург\"')\n",
    "spb_flat.head()"
   ]
  },
  {
   "cell_type": "code",
   "execution_count": 81,
   "metadata": {},
   "outputs": [
    {
     "data": {
      "text/plain": [
       "58"
      ]
     },
     "execution_count": 81,
     "metadata": {},
     "output_type": "execute_result"
    }
   ],
   "source": [
    "# Количество объявлений без расстояния до центра в СПБ\n",
    "spb_flat['citycenters_nearest'].isna().sum()"
   ]
  },
  {
   "cell_type": "code",
   "execution_count": 82,
   "metadata": {
    "scrolled": true
   },
   "outputs": [],
   "source": [
    "# Перевод метров в километры\n",
    "spb_flat['centr_ratio'] = spb_flat['citycenters_nearest']/1000"
   ]
  },
  {
   "cell_type": "code",
   "execution_count": 83,
   "metadata": {},
   "outputs": [],
   "source": [
    "spb_flat['centr_ratio'] = spb_flat['centr_ratio'].fillna(spb_flat['centr_ratio'].median())"
   ]
  },
  {
   "cell_type": "code",
   "execution_count": 84,
   "metadata": {},
   "outputs": [],
   "source": [
    "spb_flat['centr_ratio'] = spb_flat['centr_ratio'].astype('int', errors = 'ignore')"
   ]
  },
  {
   "cell_type": "code",
   "execution_count": 85,
   "metadata": {},
   "outputs": [
    {
     "data": {
      "text/html": [
       "<div>\n",
       "<style scoped>\n",
       "    .dataframe tbody tr th:only-of-type {\n",
       "        vertical-align: middle;\n",
       "    }\n",
       "\n",
       "    .dataframe tbody tr th {\n",
       "        vertical-align: top;\n",
       "    }\n",
       "\n",
       "    .dataframe thead th {\n",
       "        text-align: right;\n",
       "    }\n",
       "</style>\n",
       "<table border=\"1\" class=\"dataframe\">\n",
       "  <thead>\n",
       "    <tr style=\"text-align: right;\">\n",
       "      <th></th>\n",
       "      <th>total_images</th>\n",
       "      <th>last_price</th>\n",
       "      <th>total_area</th>\n",
       "      <th>first_day_exposition</th>\n",
       "      <th>rooms</th>\n",
       "      <th>ceiling_height</th>\n",
       "      <th>floors_total</th>\n",
       "      <th>living_area</th>\n",
       "      <th>floor</th>\n",
       "      <th>is_apartment</th>\n",
       "      <th>...</th>\n",
       "      <th>ponds_nearest</th>\n",
       "      <th>days_exposition</th>\n",
       "      <th>metr_price</th>\n",
       "      <th>weekday</th>\n",
       "      <th>month</th>\n",
       "      <th>year</th>\n",
       "      <th>floor_cat</th>\n",
       "      <th>live_ratio</th>\n",
       "      <th>kitchen_ratio</th>\n",
       "      <th>centr_ratio</th>\n",
       "    </tr>\n",
       "  </thead>\n",
       "  <tbody>\n",
       "    <tr>\n",
       "      <th>0</th>\n",
       "      <td>20</td>\n",
       "      <td>13000000.0</td>\n",
       "      <td>108.000000</td>\n",
       "      <td>2019-03-07</td>\n",
       "      <td>3</td>\n",
       "      <td>2.70</td>\n",
       "      <td>16.0</td>\n",
       "      <td>51.000000</td>\n",
       "      <td>8</td>\n",
       "      <td>NaN</td>\n",
       "      <td>...</td>\n",
       "      <td>755.0</td>\n",
       "      <td>NaN</td>\n",
       "      <td>120370.367188</td>\n",
       "      <td>3</td>\n",
       "      <td>3</td>\n",
       "      <td>2019</td>\n",
       "      <td>Другой</td>\n",
       "      <td>0.472222</td>\n",
       "      <td>0.231481</td>\n",
       "      <td>16</td>\n",
       "    </tr>\n",
       "    <tr>\n",
       "      <th>2</th>\n",
       "      <td>10</td>\n",
       "      <td>5196000.0</td>\n",
       "      <td>56.000000</td>\n",
       "      <td>2015-08-20</td>\n",
       "      <td>2</td>\n",
       "      <td>2.65</td>\n",
       "      <td>5.0</td>\n",
       "      <td>34.299999</td>\n",
       "      <td>4</td>\n",
       "      <td>NaN</td>\n",
       "      <td>...</td>\n",
       "      <td>574.0</td>\n",
       "      <td>558.0</td>\n",
       "      <td>92785.710938</td>\n",
       "      <td>3</td>\n",
       "      <td>8</td>\n",
       "      <td>2015</td>\n",
       "      <td>Другой</td>\n",
       "      <td>0.612500</td>\n",
       "      <td>0.148214</td>\n",
       "      <td>13</td>\n",
       "    </tr>\n",
       "    <tr>\n",
       "      <th>4</th>\n",
       "      <td>2</td>\n",
       "      <td>10000000.0</td>\n",
       "      <td>100.000000</td>\n",
       "      <td>2018-06-19</td>\n",
       "      <td>2</td>\n",
       "      <td>3.03</td>\n",
       "      <td>14.0</td>\n",
       "      <td>32.000000</td>\n",
       "      <td>13</td>\n",
       "      <td>NaN</td>\n",
       "      <td>...</td>\n",
       "      <td>48.0</td>\n",
       "      <td>121.0</td>\n",
       "      <td>100000.000000</td>\n",
       "      <td>1</td>\n",
       "      <td>6</td>\n",
       "      <td>2018</td>\n",
       "      <td>Другой</td>\n",
       "      <td>0.320000</td>\n",
       "      <td>0.410000</td>\n",
       "      <td>8</td>\n",
       "    </tr>\n",
       "    <tr>\n",
       "      <th>7</th>\n",
       "      <td>5</td>\n",
       "      <td>7915000.0</td>\n",
       "      <td>71.599998</td>\n",
       "      <td>2019-04-18</td>\n",
       "      <td>2</td>\n",
       "      <td>2.65</td>\n",
       "      <td>24.0</td>\n",
       "      <td>NaN</td>\n",
       "      <td>22</td>\n",
       "      <td>NaN</td>\n",
       "      <td>...</td>\n",
       "      <td>NaN</td>\n",
       "      <td>NaN</td>\n",
       "      <td>110544.695312</td>\n",
       "      <td>3</td>\n",
       "      <td>4</td>\n",
       "      <td>2019</td>\n",
       "      <td>Другой</td>\n",
       "      <td>NaN</td>\n",
       "      <td>0.263966</td>\n",
       "      <td>11</td>\n",
       "    </tr>\n",
       "    <tr>\n",
       "      <th>9</th>\n",
       "      <td>18</td>\n",
       "      <td>5400000.0</td>\n",
       "      <td>61.000000</td>\n",
       "      <td>2017-02-26</td>\n",
       "      <td>3</td>\n",
       "      <td>2.50</td>\n",
       "      <td>9.0</td>\n",
       "      <td>43.599998</td>\n",
       "      <td>7</td>\n",
       "      <td>NaN</td>\n",
       "      <td>...</td>\n",
       "      <td>NaN</td>\n",
       "      <td>289.0</td>\n",
       "      <td>88524.593750</td>\n",
       "      <td>6</td>\n",
       "      <td>2</td>\n",
       "      <td>2017</td>\n",
       "      <td>Другой</td>\n",
       "      <td>0.714754</td>\n",
       "      <td>0.106557</td>\n",
       "      <td>15</td>\n",
       "    </tr>\n",
       "  </tbody>\n",
       "</table>\n",
       "<p>5 rows × 30 columns</p>\n",
       "</div>"
      ],
      "text/plain": [
       "   total_images  last_price  total_area first_day_exposition  rooms  \\\n",
       "0            20  13000000.0  108.000000           2019-03-07      3   \n",
       "2            10   5196000.0   56.000000           2015-08-20      2   \n",
       "4             2  10000000.0  100.000000           2018-06-19      2   \n",
       "7             5   7915000.0   71.599998           2019-04-18      2   \n",
       "9            18   5400000.0   61.000000           2017-02-26      3   \n",
       "\n",
       "   ceiling_height  floors_total  living_area  floor is_apartment  ...  \\\n",
       "0            2.70          16.0    51.000000      8          NaN  ...   \n",
       "2            2.65           5.0    34.299999      4          NaN  ...   \n",
       "4            3.03          14.0    32.000000     13          NaN  ...   \n",
       "7            2.65          24.0          NaN     22          NaN  ...   \n",
       "9            2.50           9.0    43.599998      7          NaN  ...   \n",
       "\n",
       "   ponds_nearest  days_exposition     metr_price weekday month  year  \\\n",
       "0          755.0              NaN  120370.367188       3     3  2019   \n",
       "2          574.0            558.0   92785.710938       3     8  2015   \n",
       "4           48.0            121.0  100000.000000       1     6  2018   \n",
       "7            NaN              NaN  110544.695312       3     4  2019   \n",
       "9            NaN            289.0   88524.593750       6     2  2017   \n",
       "\n",
       "   floor_cat live_ratio kitchen_ratio centr_ratio  \n",
       "0     Другой   0.472222      0.231481          16  \n",
       "2     Другой   0.612500      0.148214          13  \n",
       "4     Другой   0.320000      0.410000           8  \n",
       "7     Другой        NaN      0.263966          11  \n",
       "9     Другой   0.714754      0.106557          15  \n",
       "\n",
       "[5 rows x 30 columns]"
      ]
     },
     "execution_count": 85,
     "metadata": {},
     "output_type": "execute_result"
    }
   ],
   "source": [
    "spb_flat.head()"
   ]
  },
  {
   "cell_type": "code",
   "execution_count": 86,
   "metadata": {},
   "outputs": [
    {
     "data": {
      "image/png": "[encoded data removed]",
      "text/plain": [
       "<Figure size 432x288 with 1 Axes>"
      ]
     },
     "metadata": {
      "needs_background": "light"
     },
     "output_type": "display_data"
    }
   ],
   "source": [
    "# средняя цена для каждого километра\n",
    "spb_flat.pivot_table(index = 'centr_ratio', values = 'last_price', aggfunc = 'mean').plot(y = 'last_price');"
   ]
  },
  {
   "cell_type": "markdown",
   "metadata": {},
   "source": [
    "Центральая зона - 7 км"
   ]
  },
  {
   "cell_type": "markdown",
   "metadata": {},
   "source": [
    "<p>\n",
    "<div class=\"alert-success\">\n",
    "<b>Комментарий ревьюера ✔️</b>\n",
    "\n",
    "Согласна с определением центра 👍"
   ]
  },
  {
   "cell_type": "code",
   "execution_count": 87,
   "metadata": {},
   "outputs": [
    {
     "data": {
      "text/html": [
       "<div>\n",
       "<style scoped>\n",
       "    .dataframe tbody tr th:only-of-type {\n",
       "        vertical-align: middle;\n",
       "    }\n",
       "\n",
       "    .dataframe tbody tr th {\n",
       "        vertical-align: top;\n",
       "    }\n",
       "\n",
       "    .dataframe thead th {\n",
       "        text-align: right;\n",
       "    }\n",
       "</style>\n",
       "<table border=\"1\" class=\"dataframe\">\n",
       "  <thead>\n",
       "    <tr style=\"text-align: right;\">\n",
       "      <th></th>\n",
       "      <th>total_images</th>\n",
       "      <th>last_price</th>\n",
       "      <th>total_area</th>\n",
       "      <th>first_day_exposition</th>\n",
       "      <th>rooms</th>\n",
       "      <th>ceiling_height</th>\n",
       "      <th>floors_total</th>\n",
       "      <th>living_area</th>\n",
       "      <th>floor</th>\n",
       "      <th>is_apartment</th>\n",
       "      <th>...</th>\n",
       "      <th>ponds_nearest</th>\n",
       "      <th>days_exposition</th>\n",
       "      <th>metr_price</th>\n",
       "      <th>weekday</th>\n",
       "      <th>month</th>\n",
       "      <th>year</th>\n",
       "      <th>floor_cat</th>\n",
       "      <th>live_ratio</th>\n",
       "      <th>kitchen_ratio</th>\n",
       "      <th>centr_ratio</th>\n",
       "    </tr>\n",
       "  </thead>\n",
       "  <tbody>\n",
       "    <tr>\n",
       "      <th>24</th>\n",
       "      <td>8</td>\n",
       "      <td>6500000.0</td>\n",
       "      <td>97.199997</td>\n",
       "      <td>2015-10-31</td>\n",
       "      <td>2</td>\n",
       "      <td>2.65</td>\n",
       "      <td>3.0</td>\n",
       "      <td>46.5</td>\n",
       "      <td>1</td>\n",
       "      <td>NaN</td>\n",
       "      <td>...</td>\n",
       "      <td>124.0</td>\n",
       "      <td>265.0</td>\n",
       "      <td>66872.429688</td>\n",
       "      <td>5</td>\n",
       "      <td>10</td>\n",
       "      <td>2015</td>\n",
       "      <td>Первый</td>\n",
       "      <td>0.478395</td>\n",
       "      <td>0.201646</td>\n",
       "      <td>2</td>\n",
       "    </tr>\n",
       "    <tr>\n",
       "      <th>35</th>\n",
       "      <td>6</td>\n",
       "      <td>15500000.0</td>\n",
       "      <td>149.000000</td>\n",
       "      <td>2017-06-26</td>\n",
       "      <td>5</td>\n",
       "      <td>2.65</td>\n",
       "      <td>5.0</td>\n",
       "      <td>104.0</td>\n",
       "      <td>4</td>\n",
       "      <td>NaN</td>\n",
       "      <td>...</td>\n",
       "      <td>779.0</td>\n",
       "      <td>644.0</td>\n",
       "      <td>104026.843750</td>\n",
       "      <td>0</td>\n",
       "      <td>6</td>\n",
       "      <td>2017</td>\n",
       "      <td>Другой</td>\n",
       "      <td>0.697987</td>\n",
       "      <td>0.114094</td>\n",
       "      <td>3</td>\n",
       "    </tr>\n",
       "    <tr>\n",
       "      <th>52</th>\n",
       "      <td>20</td>\n",
       "      <td>11795000.0</td>\n",
       "      <td>136.000000</td>\n",
       "      <td>2017-09-22</td>\n",
       "      <td>6</td>\n",
       "      <td>3.00</td>\n",
       "      <td>2.0</td>\n",
       "      <td>94.0</td>\n",
       "      <td>2</td>\n",
       "      <td>NaN</td>\n",
       "      <td>...</td>\n",
       "      <td>NaN</td>\n",
       "      <td>NaN</td>\n",
       "      <td>86727.937500</td>\n",
       "      <td>4</td>\n",
       "      <td>9</td>\n",
       "      <td>2017</td>\n",
       "      <td>Последний</td>\n",
       "      <td>0.691176</td>\n",
       "      <td>0.080882</td>\n",
       "      <td>6</td>\n",
       "    </tr>\n",
       "    <tr>\n",
       "      <th>61</th>\n",
       "      <td>18</td>\n",
       "      <td>7990000.0</td>\n",
       "      <td>74.000000</td>\n",
       "      <td>2017-08-24</td>\n",
       "      <td>2</td>\n",
       "      <td>2.65</td>\n",
       "      <td>4.0</td>\n",
       "      <td>43.0</td>\n",
       "      <td>4</td>\n",
       "      <td>NaN</td>\n",
       "      <td>...</td>\n",
       "      <td>NaN</td>\n",
       "      <td>609.0</td>\n",
       "      <td>107972.976562</td>\n",
       "      <td>3</td>\n",
       "      <td>8</td>\n",
       "      <td>2017</td>\n",
       "      <td>Последний</td>\n",
       "      <td>0.581081</td>\n",
       "      <td>0.270270</td>\n",
       "      <td>4</td>\n",
       "    </tr>\n",
       "    <tr>\n",
       "      <th>63</th>\n",
       "      <td>2</td>\n",
       "      <td>20000000.0</td>\n",
       "      <td>118.000000</td>\n",
       "      <td>2018-09-11</td>\n",
       "      <td>3</td>\n",
       "      <td>3.00</td>\n",
       "      <td>9.0</td>\n",
       "      <td>68.0</td>\n",
       "      <td>7</td>\n",
       "      <td>NaN</td>\n",
       "      <td>...</td>\n",
       "      <td>779.0</td>\n",
       "      <td>37.0</td>\n",
       "      <td>169491.531250</td>\n",
       "      <td>1</td>\n",
       "      <td>9</td>\n",
       "      <td>2018</td>\n",
       "      <td>Другой</td>\n",
       "      <td>0.576271</td>\n",
       "      <td>0.135593</td>\n",
       "      <td>4</td>\n",
       "    </tr>\n",
       "  </tbody>\n",
       "</table>\n",
       "<p>5 rows × 30 columns</p>\n",
       "</div>"
      ],
      "text/plain": [
       "    total_images  last_price  total_area first_day_exposition  rooms  \\\n",
       "24             8   6500000.0   97.199997           2015-10-31      2   \n",
       "35             6  15500000.0  149.000000           2017-06-26      5   \n",
       "52            20  11795000.0  136.000000           2017-09-22      6   \n",
       "61            18   7990000.0   74.000000           2017-08-24      2   \n",
       "63             2  20000000.0  118.000000           2018-09-11      3   \n",
       "\n",
       "    ceiling_height  floors_total  living_area  floor is_apartment  ...  \\\n",
       "24            2.65           3.0         46.5      1          NaN  ...   \n",
       "35            2.65           5.0        104.0      4          NaN  ...   \n",
       "52            3.00           2.0         94.0      2          NaN  ...   \n",
       "61            2.65           4.0         43.0      4          NaN  ...   \n",
       "63            3.00           9.0         68.0      7          NaN  ...   \n",
       "\n",
       "    ponds_nearest  days_exposition     metr_price weekday month  year  \\\n",
       "24          124.0            265.0   66872.429688       5    10  2015   \n",
       "35          779.0            644.0  104026.843750       0     6  2017   \n",
       "52            NaN              NaN   86727.937500       4     9  2017   \n",
       "61            NaN            609.0  107972.976562       3     8  2017   \n",
       "63          779.0             37.0  169491.531250       1     9  2018   \n",
       "\n",
       "    floor_cat live_ratio kitchen_ratio centr_ratio  \n",
       "24     Первый   0.478395      0.201646           2  \n",
       "35     Другой   0.697987      0.114094           3  \n",
       "52  Последний   0.691176      0.080882           6  \n",
       "61  Последний   0.581081      0.270270           4  \n",
       "63     Другой   0.576271      0.135593           4  \n",
       "\n",
       "[5 rows x 30 columns]"
      ]
     },
     "execution_count": 87,
     "metadata": {},
     "output_type": "execute_result"
    }
   ],
   "source": [
    "spb_center = spb_flat.query('centr_ratio < 7')\n",
    "spb_center.head()"
   ]
  },
  {
   "cell_type": "code",
   "execution_count": 88,
   "metadata": {
    "scrolled": true
   },
   "outputs": [
    {
     "data": {
      "image/png": "[encoded data removed]",
      "text/plain": [
       "<Figure size 432x288 with 1 Axes>"
      ]
     },
     "metadata": {
      "needs_background": "light"
     },
     "output_type": "display_data"
    }
   ],
   "source": [
    "ax = spb_center.plot(kind='hist',\n",
    "    y='total_area',\n",
    "\n",
    "    range=(0, 300),\n",
    "    bins=100,\n",
    "    linewidth=5,\n",
    "    alpha=0.7,\n",
    "    label='filtered',\n",
    "     )\n",
    "df.plot(\n",
    "    kind='hist',\n",
    "    y='total_area',\n",
    "    range=(0, 300),\n",
    "    bins=100,\n",
    "    linewidth=5,\n",
    "    alpha=0.7,\n",
    "    label='orig',\n",
    "    ax = ax,\n",
    "    grid=True,\n",
    "    legend=True);"
   ]
  },
  {
   "cell_type": "markdown",
   "metadata": {},
   "source": [
    "Площадь продаваемых квартир в центре больше, чем по всем объявлениям (50-100 против 25-60)"
   ]
  },
  {
   "cell_type": "code",
   "execution_count": 89,
   "metadata": {},
   "outputs": [
    {
     "data": {
      "image/png": "[encoded data removed]",
      "text/plain": [
       "<Figure size 432x288 with 1 Axes>"
      ]
     },
     "metadata": {
      "needs_background": "light"
     },
     "output_type": "display_data"
    }
   ],
   "source": [
    "prio = spb_center.plot(kind='hist',\n",
    "    y='last_price',\n",
    "\n",
    "    range=(1000000,40000000),\n",
    "    bins=10,\n",
    "    label='filtered',\n",
    "     )\n",
    "df.plot(\n",
    "    kind='hist',\n",
    "    y='last_price',\n",
    "   \n",
    "    range=(1000000,40000000),\n",
    "    bins=10,\n",
    "    linewidth=5,\n",
    "    alpha=0.7,\n",
    "    label='orig',\n",
    "    ax = prio,\n",
    "    grid=True,\n",
    "    legend=True);\n"
   ]
  },
  {
   "cell_type": "markdown",
   "metadata": {},
   "source": [
    "Квартиры в центре дороже, их продают в среднем от 5 до 12 млн, а по общей базе в среднем до 5 млн."
   ]
  },
  {
   "cell_type": "code",
   "execution_count": 90,
   "metadata": {},
   "outputs": [
    {
     "data": {
      "image/png": "[encoded data removed]",
      "text/plain": [
       "<Figure size 432x288 with 1 Axes>"
      ]
     },
     "metadata": {
      "needs_background": "light"
     },
     "output_type": "display_data"
    }
   ],
   "source": [
    "priu = spb_center.plot(kind='hist',\n",
    "    y='rooms',\n",
    "\n",
    "    range=(1,6),\n",
    "    bins=100,\n",
    "    label='filtered',\n",
    "     )\n",
    "df.plot(\n",
    "    kind='hist',\n",
    "    y='rooms',\n",
    "   \n",
    "    range=(1,6),\n",
    "    bins=100,\n",
    "    linewidth=5,\n",
    "    alpha=0.7,\n",
    "    label='orig',\n",
    "    ax = priu,\n",
    "    grid=True,\n",
    "    legend=True);\n"
   ]
  },
  {
   "cell_type": "markdown",
   "metadata": {},
   "source": [
    "В центре, в основном, продаются двух-трёхкомнатные квартиры, а по общей базе - 1-2 комнатные."
   ]
  },
  {
   "cell_type": "code",
   "execution_count": 91,
   "metadata": {},
   "outputs": [
    {
     "data": {
      "image/png": "[encoded data removed]",
      "text/plain": [
       "<Figure size 432x288 with 1 Axes>"
      ]
     },
     "metadata": {
      "needs_background": "light"
     },
     "output_type": "display_data"
    }
   ],
   "source": [
    "prius = spb_center.plot(kind='hist',\n",
    "    y='ceiling_height',\n",
    "\n",
    "    range=(2,5),\n",
    "    bins=30,\n",
    "    label='filtered',\n",
    "     )\n",
    "df.plot(\n",
    "    kind='hist',\n",
    "    y='ceiling_height',\n",
    "   \n",
    "    range=(2,5),\n",
    "    bins=30,\n",
    "    linewidth=5,\n",
    "    alpha=0.7,\n",
    "    label='orig',\n",
    "    ax = prius,\n",
    "    grid=True,\n",
    "    legend=True);"
   ]
  },
  {
   "cell_type": "markdown",
   "metadata": {},
   "source": [
    "В центре, в основном, высота потолков 2.7, 3.1. По всей базе 2.5-2.7."
   ]
  },
  {
   "cell_type": "code",
   "execution_count": 92,
   "metadata": {},
   "outputs": [
    {
     "name": "stdout",
     "output_type": "stream",
     "text": [
      "Зависимость цены от числа комнат: 0.40623889523806256\n",
      "Зависимость цены от удаленности от центра: -0.020773150048962505\n",
      "Зависимость цены от высоты потолков: 0.1616505578825261\n",
      "Зависимость цены от площади: 0.7054956389545132\n"
     ]
    }
   ],
   "source": [
    "print('Зависимость цены от числа комнат:', spb_center['last_price'].corr(spb_center['rooms']))\n",
    "print('Зависимость цены от удаленности от центра:', spb_center['last_price'].corr(spb_center['citycenters_nearest']))\n",
    "print('Зависимость цены от высоты потолков:', spb_center['last_price'].corr(spb_center['ceiling_height']))\n",
    "print('Зависимость цены от площади:', spb_center['last_price'].corr(spb_center['total_area']))"
   ]
  },
  {
   "cell_type": "markdown",
   "metadata": {},
   "source": [
    "Цена квартиры в центре зависит от числа комнат, площади. Чем больше площадь, число комнат, тем выше цена квартиры. Удаленность от центра и высота потолков почти не влияет на цену."
   ]
  },
  {
   "cell_type": "code",
   "execution_count": 93,
   "metadata": {},
   "outputs": [
    {
     "data": {
      "image/png": "[encoded data removed]",
      "text/plain": [
       "<Figure size 432x288 with 1 Axes>"
      ]
     },
     "metadata": {
      "needs_background": "light"
     },
     "output_type": "display_data"
    }
   ],
   "source": [
    "# Зависимость цены от этажа\n",
    "spb_center.pivot_table(index = \"floor_cat\", values = \"last_price\", aggfunc = ['mean']).plot(kind = 'bar');"
   ]
  },
  {
   "cell_type": "code",
   "execution_count": 94,
   "metadata": {},
   "outputs": [
    {
     "data": {
      "image/png": "[encoded data removed]",
      "text/plain": [
       "<Figure size 432x288 with 1 Axes>"
      ]
     },
     "metadata": {
      "needs_background": "light"
     },
     "output_type": "display_data"
    }
   ],
   "source": [
    "# Зависимость цены от даты публикации\n",
    "spb_center.pivot_table(index = \"weekday\", values = \"last_price\", aggfunc = ['mean']).plot(kind='bar');"
   ]
  },
  {
   "cell_type": "markdown",
   "metadata": {},
   "source": [
    "Самые высокие цены в воскресенье, самые низкие во вторник"
   ]
  },
  {
   "cell_type": "code",
   "execution_count": 95,
   "metadata": {},
   "outputs": [
    {
     "data": {
      "image/png": "[encoded data removed]",
      "text/plain": [
       "<Figure size 432x288 with 1 Axes>"
      ]
     },
     "metadata": {
      "needs_background": "light"
     },
     "output_type": "display_data"
    }
   ],
   "source": [
    "# Зависимость цены от даты публикации\n",
    "spb_center.pivot_table(index = \"month\", values = \"last_price\", aggfunc = ['mean']).plot(kind='bar');"
   ]
  },
  {
   "cell_type": "markdown",
   "metadata": {},
   "source": [
    "Цена падает с января по июнь и растет с июля по ноябрь"
   ]
  },
  {
   "cell_type": "code",
   "execution_count": 96,
   "metadata": {
    "scrolled": true
   },
   "outputs": [
    {
     "data": {
      "image/png": "[encoded data removed]",
      "text/plain": [
       "<Figure size 432x288 with 1 Axes>"
      ]
     },
     "metadata": {
      "needs_background": "light"
     },
     "output_type": "display_data"
    }
   ],
   "source": [
    "# Зависимость цены от даты публикации\n",
    "spb_center.pivot_table(index = \"year\", values = \"last_price\", aggfunc = ['mean']).plot(kind='bar');"
   ]
  },
  {
   "cell_type": "code",
   "execution_count": 97,
   "metadata": {},
   "outputs": [
    {
     "data": {
      "image/png": "[encoded data removed]",
      "text/plain": [
       "<Figure size 432x288 with 1 Axes>"
      ]
     },
     "metadata": {
      "needs_background": "light"
     },
     "output_type": "display_data"
    }
   ],
   "source": [
    "# Зависимость цены квадратного метра от даты публикации\n",
    "spb_center.pivot_table(index = \"year\", values = \"metr_price\", aggfunc = ['mean']).plot(kind='bar');"
   ]
  },
  {
   "cell_type": "markdown",
   "metadata": {},
   "source": [
    "с 2015 года цена на квадратный метр растёт ежегодно"
   ]
  },
  {
   "cell_type": "code",
   "execution_count": 98,
   "metadata": {},
   "outputs": [
    {
     "data": {
      "text/plain": [
       "0.41617953732995017"
      ]
     },
     "execution_count": 98,
     "metadata": {},
     "output_type": "execute_result"
    }
   ],
   "source": [
    "#Зависимость цены от высоты потолков для всей базы\n",
    "df['last_price'].corr(df['ceiling_height'])"
   ]
  },
  {
   "cell_type": "markdown",
   "metadata": {},
   "source": [
    "Площадь продаваемых квартир в центре больше, чем по всем объявлениям (50-100 против 25-60), квартиры в центре дороже, их продают в среднем от 5 до 10 млн, а по общей базе в среднем до 5 млн. В центре, в основном, продаются двух-трёхкомнатные квартиры, а по общей базе - 1-2 комнатные. Высота потолков квартир в центре почти не влияет на стоимость квартиры, в то время как по всей базе высота потолков влияет на стоимость квартиры. Самые дешёвые квартиры на первом этаже, но на последнем дешевле, чем на других. Дата размещения не оказывает существенного влияния на цену. Удалённость от центра в центральном районе не влияет на цену. Цена квартиры зависит от: площади, этажа, числа комнат, удалённости от центра, высоты потолков."
   ]
  },
  {
   "cell_type": "markdown",
   "metadata": {},
   "source": [
    "## Общий вывод"
   ]
  },
  {
   "cell_type": "markdown",
   "metadata": {},
   "source": [
    "Площадь продаваемых квартир в центре больше, чем по всем объявлениям (50-100 против 25-60), квартиры в центре дороже, их продают в среднем от 5 до 10 млн, а по общей базе в среднем до 5 млн. В центре, в основном, продаются двух-трёхкомнатные квартиры, а по общей базе - 1-2 комнатные. Высота потолков квартир в центре почти не влияет на стоимость квартиры, в то время как по всей базе высота потолков влияет на стоимость квартиры. Самые дешёвые квартиры на первом этаже, но на последнем дешевле, чем на других. Дата размещения не оказывает существенного влияния на цену. Удалённость от центра в центральном районе не влияет на цену. Цена квартиры зависит от: площади, этажа, числа комнат, удалённости от центра, высоты потолков."
   ]
  }
 ],
 "metadata": {
  "ExecuteTimeLog": [
   {
    "duration": 407,
    "start_time": "2022-05-15T23:09:41.829Z"
   },
   {
    "duration": 79,
    "start_time": "2022-05-15T23:10:32.254Z"
   },
   {
    "duration": 13,
    "start_time": "2022-05-15T23:10:42.134Z"
   },
   {
    "duration": 8,
    "start_time": "2022-05-15T23:11:01.849Z"
   },
   {
    "duration": 15,
    "start_time": "2022-05-15T23:11:16.781Z"
   },
   {
    "duration": 41,
    "start_time": "2022-05-15T23:11:23.511Z"
   },
   {
    "duration": 12,
    "start_time": "2022-05-15T23:11:32.894Z"
   },
   {
    "duration": 76,
    "start_time": "2022-05-15T23:14:48.448Z"
   },
   {
    "duration": 7,
    "start_time": "2022-05-15T23:15:09.658Z"
   },
   {
    "duration": 110,
    "start_time": "2022-05-15T23:15:18.262Z"
   },
   {
    "duration": 21,
    "start_time": "2022-05-15T23:15:20.418Z"
   },
   {
    "duration": 100,
    "start_time": "2022-05-15T23:16:19.793Z"
   },
   {
    "duration": 102,
    "start_time": "2022-05-15T23:16:39.361Z"
   },
   {
    "duration": 28,
    "start_time": "2022-05-15T23:16:44.501Z"
   },
   {
    "duration": 19,
    "start_time": "2022-05-15T23:19:12.030Z"
   },
   {
    "duration": 21,
    "start_time": "2022-05-15T23:22:33.695Z"
   },
   {
    "duration": 21,
    "start_time": "2022-05-15T23:24:58.970Z"
   },
   {
    "duration": 26,
    "start_time": "2022-05-15T23:26:54.798Z"
   },
   {
    "duration": 20,
    "start_time": "2022-05-15T23:26:58.277Z"
   },
   {
    "duration": 20,
    "start_time": "2022-05-15T23:28:57.889Z"
   },
   {
    "duration": 5,
    "start_time": "2022-05-15T23:34:07.525Z"
   },
   {
    "duration": 6,
    "start_time": "2022-05-15T23:34:29.664Z"
   },
   {
    "duration": 5,
    "start_time": "2022-05-15T23:34:36.469Z"
   },
   {
    "duration": 5,
    "start_time": "2022-05-15T23:53:42.709Z"
   },
   {
    "duration": 5,
    "start_time": "2022-05-15T23:54:02.149Z"
   },
   {
    "duration": 6,
    "start_time": "2022-05-15T23:54:22.152Z"
   },
   {
    "duration": 6,
    "start_time": "2022-05-15T23:54:43.258Z"
   },
   {
    "duration": 72,
    "start_time": "2022-05-15T23:55:01.281Z"
   },
   {
    "duration": 70,
    "start_time": "2022-05-15T23:55:07.513Z"
   },
   {
    "duration": 6,
    "start_time": "2022-05-15T23:55:32.437Z"
   },
   {
    "duration": 7,
    "start_time": "2022-05-15T23:58:23.844Z"
   },
   {
    "duration": 5,
    "start_time": "2022-05-15T23:58:34.170Z"
   },
   {
    "duration": 132,
    "start_time": "2022-05-16T00:03:35.849Z"
   },
   {
    "duration": 125,
    "start_time": "2022-05-16T00:04:52.750Z"
   },
   {
    "duration": 186,
    "start_time": "2022-05-16T00:05:15.142Z"
   },
   {
    "duration": 163,
    "start_time": "2022-05-16T00:05:24.681Z"
   },
   {
    "duration": 152,
    "start_time": "2022-05-16T00:06:42.006Z"
   },
   {
    "duration": 177,
    "start_time": "2022-05-16T00:06:53.342Z"
   },
   {
    "duration": 132,
    "start_time": "2022-05-16T00:06:56.927Z"
   },
   {
    "duration": 106,
    "start_time": "2022-05-16T00:07:16.878Z"
   },
   {
    "duration": 146,
    "start_time": "2022-05-16T00:07:51.222Z"
   },
   {
    "duration": 111,
    "start_time": "2022-05-16T00:09:52.618Z"
   },
   {
    "duration": 114,
    "start_time": "2022-05-16T00:10:02.649Z"
   },
   {
    "duration": 8,
    "start_time": "2022-05-16T00:21:29.522Z"
   },
   {
    "duration": 22,
    "start_time": "2022-05-16T00:21:34.841Z"
   },
   {
    "duration": 126,
    "start_time": "2022-05-16T00:22:04.337Z"
   },
   {
    "duration": 96,
    "start_time": "2022-05-16T00:28:09.769Z"
   },
   {
    "duration": 664,
    "start_time": "2022-05-16T00:30:36.556Z"
   },
   {
    "duration": 7,
    "start_time": "2022-05-16T00:31:20.566Z"
   },
   {
    "duration": 8,
    "start_time": "2022-05-16T00:31:25.028Z"
   },
   {
    "duration": 699,
    "start_time": "2022-05-16T00:32:15.141Z"
   },
   {
    "duration": 658,
    "start_time": "2022-05-16T00:32:22.837Z"
   },
   {
    "duration": 701,
    "start_time": "2022-05-16T01:10:11.043Z"
   },
   {
    "duration": 8,
    "start_time": "2022-05-16T01:12:13.433Z"
   },
   {
    "duration": 735,
    "start_time": "2022-05-16T01:12:44.512Z"
   },
   {
    "duration": 768,
    "start_time": "2022-05-16T01:13:00.731Z"
   },
   {
    "duration": 658,
    "start_time": "2022-05-16T01:13:23.994Z"
   },
   {
    "duration": 716,
    "start_time": "2022-05-16T01:14:11.596Z"
   },
   {
    "duration": 42,
    "start_time": "2022-05-16T01:15:41.476Z"
   },
   {
    "duration": 15,
    "start_time": "2022-05-16T01:16:00.613Z"
   },
   {
    "duration": 727,
    "start_time": "2022-05-16T01:16:06.825Z"
   },
   {
    "duration": 691,
    "start_time": "2022-05-16T01:16:12.273Z"
   },
   {
    "duration": 8,
    "start_time": "2022-05-16T01:17:47.342Z"
   },
   {
    "duration": 6,
    "start_time": "2022-05-16T01:17:52.636Z"
   },
   {
    "duration": 15,
    "start_time": "2022-05-16T01:18:32.844Z"
   },
   {
    "duration": 5,
    "start_time": "2022-05-16T01:18:53.148Z"
   },
   {
    "duration": 27,
    "start_time": "2022-05-16T01:26:20.778Z"
   },
   {
    "duration": 788,
    "start_time": "2022-05-16T01:30:15.481Z"
   },
   {
    "duration": 697,
    "start_time": "2022-05-16T01:31:20.301Z"
   },
   {
    "duration": 725,
    "start_time": "2022-05-16T01:31:35.912Z"
   },
   {
    "duration": 4,
    "start_time": "2022-05-16T01:33:45.840Z"
   },
   {
    "duration": 42,
    "start_time": "2022-05-16T01:34:26.099Z"
   },
   {
    "duration": 19,
    "start_time": "2022-05-16T01:34:32.983Z"
   },
   {
    "duration": 13,
    "start_time": "2022-05-16T01:35:11.724Z"
   },
   {
    "duration": 17,
    "start_time": "2022-05-16T01:35:14.072Z"
   },
   {
    "duration": 6,
    "start_time": "2022-05-16T01:35:31.935Z"
   },
   {
    "duration": 13,
    "start_time": "2022-05-16T01:36:57.344Z"
   },
   {
    "duration": 4,
    "start_time": "2022-05-16T01:39:35.376Z"
   },
   {
    "duration": 3,
    "start_time": "2022-05-16T01:40:03.700Z"
   },
   {
    "duration": 62,
    "start_time": "2022-05-16T01:44:35.074Z"
   },
   {
    "duration": 49,
    "start_time": "2022-05-16T01:44:43.707Z"
   },
   {
    "duration": 6,
    "start_time": "2022-05-16T01:44:51.945Z"
   },
   {
    "duration": 8,
    "start_time": "2022-05-16T01:45:03.864Z"
   },
   {
    "duration": 57,
    "start_time": "2022-05-16T01:45:48.307Z"
   },
   {
    "duration": 63,
    "start_time": "2022-05-16T01:46:05.921Z"
   },
   {
    "duration": 16,
    "start_time": "2022-05-16T01:46:27.100Z"
   },
   {
    "duration": 9,
    "start_time": "2022-05-16T01:49:04.753Z"
   },
   {
    "duration": 6,
    "start_time": "2022-05-16T01:49:10.803Z"
   },
   {
    "duration": 51,
    "start_time": "2022-05-16T01:50:31.888Z"
   },
   {
    "duration": 8,
    "start_time": "2022-05-16T01:50:31.942Z"
   },
   {
    "duration": 5,
    "start_time": "2022-05-16T01:50:34.011Z"
   },
   {
    "duration": 21,
    "start_time": "2022-05-16T01:55:51.527Z"
   },
   {
    "duration": 14,
    "start_time": "2022-05-16T01:56:30.062Z"
   },
   {
    "duration": 4,
    "start_time": "2022-05-16T01:57:44.640Z"
   },
   {
    "duration": 28,
    "start_time": "2022-05-16T01:57:50.499Z"
   },
   {
    "duration": 5,
    "start_time": "2022-05-16T01:57:55.720Z"
   },
   {
    "duration": 11,
    "start_time": "2022-05-16T01:58:10.280Z"
   },
   {
    "duration": 9,
    "start_time": "2022-05-16T01:58:15.680Z"
   },
   {
    "duration": 4,
    "start_time": "2022-05-16T01:58:54.363Z"
   },
   {
    "duration": 4,
    "start_time": "2022-05-16T01:59:15.263Z"
   },
   {
    "duration": 6,
    "start_time": "2022-05-16T02:00:09.576Z"
   },
   {
    "duration": 4,
    "start_time": "2022-05-16T02:00:24.957Z"
   },
   {
    "duration": 5,
    "start_time": "2022-05-16T02:00:39.591Z"
   },
   {
    "duration": 7,
    "start_time": "2022-05-16T02:01:21.303Z"
   },
   {
    "duration": 5,
    "start_time": "2022-05-16T02:01:32.100Z"
   },
   {
    "duration": 23,
    "start_time": "2022-05-16T02:01:37.068Z"
   },
   {
    "duration": 17,
    "start_time": "2022-05-16T02:02:15.963Z"
   },
   {
    "duration": 3,
    "start_time": "2022-05-16T02:05:30.476Z"
   },
   {
    "duration": 16,
    "start_time": "2022-05-16T02:09:41.868Z"
   },
   {
    "duration": 5,
    "start_time": "2022-05-16T02:10:35.663Z"
   },
   {
    "duration": 4,
    "start_time": "2022-05-16T02:11:26.227Z"
   },
   {
    "duration": 18,
    "start_time": "2022-05-16T02:11:33.923Z"
   },
   {
    "duration": 40,
    "start_time": "2022-05-16T02:12:23.348Z"
   },
   {
    "duration": 37,
    "start_time": "2022-05-16T02:12:36.475Z"
   },
   {
    "duration": 38,
    "start_time": "2022-05-16T02:12:45.248Z"
   },
   {
    "duration": 7,
    "start_time": "2022-05-16T02:13:09.233Z"
   },
   {
    "duration": 7,
    "start_time": "2022-05-16T02:13:20.154Z"
   },
   {
    "duration": 4,
    "start_time": "2022-05-16T02:13:24.655Z"
   },
   {
    "duration": 10,
    "start_time": "2022-05-16T02:14:42.367Z"
   },
   {
    "duration": 8,
    "start_time": "2022-05-16T02:14:53.838Z"
   },
   {
    "duration": 7,
    "start_time": "2022-05-16T02:15:05.259Z"
   },
   {
    "duration": 8,
    "start_time": "2022-05-16T02:15:06.835Z"
   },
   {
    "duration": 42,
    "start_time": "2022-05-16T02:15:37.372Z"
   },
   {
    "duration": 7,
    "start_time": "2022-05-16T02:15:46.018Z"
   },
   {
    "duration": 15,
    "start_time": "2022-05-16T02:15:51.983Z"
   },
   {
    "duration": 87,
    "start_time": "2022-05-16T02:16:22.139Z"
   },
   {
    "duration": 86,
    "start_time": "2022-05-16T02:17:27.759Z"
   },
   {
    "duration": 284,
    "start_time": "2022-05-16T02:20:32.179Z"
   },
   {
    "duration": 370,
    "start_time": "2022-05-16T02:21:14.336Z"
   },
   {
    "duration": 8,
    "start_time": "2022-05-16T02:21:32.731Z"
   },
   {
    "duration": 8,
    "start_time": "2022-05-16T02:21:40.439Z"
   },
   {
    "duration": 418,
    "start_time": "2022-05-16T02:22:19.234Z"
   },
   {
    "duration": 82,
    "start_time": "2022-05-16T02:22:20.314Z"
   },
   {
    "duration": 13,
    "start_time": "2022-05-16T02:22:21.394Z"
   },
   {
    "duration": 102,
    "start_time": "2022-05-16T02:22:24.698Z"
   },
   {
    "duration": 26,
    "start_time": "2022-05-16T02:22:25.253Z"
   },
   {
    "duration": 21,
    "start_time": "2022-05-16T02:22:27.393Z"
   },
   {
    "duration": 22,
    "start_time": "2022-05-16T02:22:30.763Z"
   },
   {
    "duration": 20,
    "start_time": "2022-05-16T02:22:34.522Z"
   },
   {
    "duration": 5,
    "start_time": "2022-05-16T02:22:38.010Z"
   },
   {
    "duration": 5,
    "start_time": "2022-05-16T02:22:39.337Z"
   },
   {
    "duration": 5,
    "start_time": "2022-05-16T02:22:41.301Z"
   },
   {
    "duration": 4,
    "start_time": "2022-05-16T02:22:42.194Z"
   },
   {
    "duration": 101,
    "start_time": "2022-05-16T02:22:44.450Z"
   },
   {
    "duration": 26,
    "start_time": "2022-05-16T02:22:47.278Z"
   },
   {
    "duration": 54,
    "start_time": "2022-05-16T02:22:51.881Z"
   },
   {
    "duration": 4,
    "start_time": "2022-05-16T02:22:53.090Z"
   },
   {
    "duration": 4,
    "start_time": "2022-05-16T02:22:53.917Z"
   },
   {
    "duration": 16,
    "start_time": "2022-05-16T02:22:54.553Z"
   },
   {
    "duration": 5,
    "start_time": "2022-05-16T02:23:05.434Z"
   },
   {
    "duration": 1417,
    "start_time": "2022-05-16T02:23:08.865Z"
   },
   {
    "duration": 7,
    "start_time": "2022-05-16T02:23:27.042Z"
   },
   {
    "duration": 5,
    "start_time": "2022-05-16T02:23:29.141Z"
   },
   {
    "duration": 24,
    "start_time": "2022-05-16T02:23:31.446Z"
   },
   {
    "duration": 8,
    "start_time": "2022-05-16T02:23:35.154Z"
   },
   {
    "duration": 6,
    "start_time": "2022-05-16T02:23:36.653Z"
   },
   {
    "duration": 6,
    "start_time": "2022-05-16T02:23:37.401Z"
   },
   {
    "duration": 6,
    "start_time": "2022-05-16T02:23:39.126Z"
   },
   {
    "duration": 327,
    "start_time": "2022-05-16T02:23:42.470Z"
   },
   {
    "duration": 8,
    "start_time": "2022-05-16T02:23:44.293Z"
   },
   {
    "duration": 4,
    "start_time": "2022-05-16T02:25:29.123Z"
   },
   {
    "duration": 4,
    "start_time": "2022-05-16T02:26:08.554Z"
   },
   {
    "duration": 17,
    "start_time": "2022-05-16T02:26:13.685Z"
   },
   {
    "duration": 24,
    "start_time": "2022-05-16T02:27:05.190Z"
   },
   {
    "duration": 15,
    "start_time": "2022-05-16T02:27:56.989Z"
   },
   {
    "duration": 8,
    "start_time": "2022-05-16T02:28:00.865Z"
   },
   {
    "duration": 22,
    "start_time": "2022-05-16T02:28:04.038Z"
   },
   {
    "duration": 582,
    "start_time": "2022-05-16T02:29:41.150Z"
   },
   {
    "duration": 255,
    "start_time": "2022-05-16T02:29:47.537Z"
   },
   {
    "duration": 111,
    "start_time": "2022-05-16T02:29:52.913Z"
   },
   {
    "duration": 131,
    "start_time": "2022-05-16T02:32:02.834Z"
   },
   {
    "duration": 132,
    "start_time": "2022-05-16T02:32:11.274Z"
   },
   {
    "duration": 231,
    "start_time": "2022-05-16T02:32:13.870Z"
   },
   {
    "duration": 132,
    "start_time": "2022-05-16T02:32:18.781Z"
   },
   {
    "duration": 202,
    "start_time": "2022-05-16T02:32:24.289Z"
   },
   {
    "duration": 132,
    "start_time": "2022-05-16T02:32:28.849Z"
   },
   {
    "duration": 194,
    "start_time": "2022-05-16T02:32:55.414Z"
   },
   {
    "duration": 180,
    "start_time": "2022-05-16T02:33:03.900Z"
   },
   {
    "duration": 140,
    "start_time": "2022-05-16T02:33:07.913Z"
   },
   {
    "duration": 117,
    "start_time": "2022-05-16T02:33:43.901Z"
   },
   {
    "duration": 203,
    "start_time": "2022-05-16T02:33:47.777Z"
   },
   {
    "duration": 227,
    "start_time": "2022-05-16T02:33:56.321Z"
   },
   {
    "duration": 126,
    "start_time": "2022-05-16T02:34:05.413Z"
   },
   {
    "duration": 184,
    "start_time": "2022-05-16T02:34:30.074Z"
   },
   {
    "duration": 126,
    "start_time": "2022-05-16T02:34:34.009Z"
   },
   {
    "duration": 0,
    "start_time": "2022-05-16T02:35:41.903Z"
   },
   {
    "duration": 7,
    "start_time": "2022-05-16T02:36:32.553Z"
   },
   {
    "duration": 6,
    "start_time": "2022-05-16T02:36:56.805Z"
   },
   {
    "duration": 6,
    "start_time": "2022-05-16T02:37:03.201Z"
   },
   {
    "duration": 6,
    "start_time": "2022-05-16T02:37:06.597Z"
   },
   {
    "duration": 4496,
    "start_time": "2022-05-16T02:37:18.997Z"
   },
   {
    "duration": 129,
    "start_time": "2022-05-16T02:37:36.521Z"
   },
   {
    "duration": 123,
    "start_time": "2022-05-16T02:38:25.285Z"
   },
   {
    "duration": 121,
    "start_time": "2022-05-16T02:38:31.813Z"
   },
   {
    "duration": 120,
    "start_time": "2022-05-16T02:38:37.693Z"
   },
   {
    "duration": 215,
    "start_time": "2022-05-16T02:38:42.069Z"
   },
   {
    "duration": 209,
    "start_time": "2022-05-16T02:38:49.466Z"
   },
   {
    "duration": 216,
    "start_time": "2022-05-16T02:39:33.645Z"
   },
   {
    "duration": 118,
    "start_time": "2022-05-16T02:39:36.269Z"
   },
   {
    "duration": 125,
    "start_time": "2022-05-16T02:40:43.505Z"
   },
   {
    "duration": 139,
    "start_time": "2022-05-16T02:40:50.717Z"
   },
   {
    "duration": 120,
    "start_time": "2022-05-16T02:41:37.241Z"
   },
   {
    "duration": 126,
    "start_time": "2022-05-16T02:42:23.298Z"
   },
   {
    "duration": 117,
    "start_time": "2022-05-16T02:42:33.032Z"
   },
   {
    "duration": 118,
    "start_time": "2022-05-16T02:42:43.738Z"
   },
   {
    "duration": 124,
    "start_time": "2022-05-16T02:42:49.107Z"
   },
   {
    "duration": 124,
    "start_time": "2022-05-16T02:42:55.713Z"
   },
   {
    "duration": 114,
    "start_time": "2022-05-16T02:42:58.101Z"
   },
   {
    "duration": 223,
    "start_time": "2022-05-16T02:43:30.901Z"
   },
   {
    "duration": 204,
    "start_time": "2022-05-16T02:43:55.177Z"
   },
   {
    "duration": 225,
    "start_time": "2022-05-16T02:44:00.265Z"
   },
   {
    "duration": 231,
    "start_time": "2022-05-16T02:44:16.484Z"
   },
   {
    "duration": 211,
    "start_time": "2022-05-16T02:44:20.097Z"
   },
   {
    "duration": 154,
    "start_time": "2022-05-16T02:44:24.585Z"
   },
   {
    "duration": 123,
    "start_time": "2022-05-16T02:44:28.313Z"
   },
   {
    "duration": 139,
    "start_time": "2022-05-16T02:44:33.070Z"
   },
   {
    "duration": 158,
    "start_time": "2022-05-16T02:44:38.317Z"
   },
   {
    "duration": 144,
    "start_time": "2022-05-16T02:44:42.465Z"
   },
   {
    "duration": 140,
    "start_time": "2022-05-16T02:45:24.617Z"
   },
   {
    "duration": 793,
    "start_time": "2022-05-16T02:45:33.465Z"
   },
   {
    "duration": 117,
    "start_time": "2022-05-16T02:45:37.893Z"
   },
   {
    "duration": 124,
    "start_time": "2022-05-16T02:45:45.817Z"
   },
   {
    "duration": 125,
    "start_time": "2022-05-16T02:45:47.925Z"
   },
   {
    "duration": 126,
    "start_time": "2022-05-16T02:45:51.005Z"
   },
   {
    "duration": 152,
    "start_time": "2022-05-16T02:45:55.738Z"
   },
   {
    "duration": 209,
    "start_time": "2022-05-16T02:46:00.053Z"
   },
   {
    "duration": 126,
    "start_time": "2022-05-16T02:46:05.161Z"
   },
   {
    "duration": 131,
    "start_time": "2022-05-16T02:46:08.197Z"
   },
   {
    "duration": 155,
    "start_time": "2022-05-16T02:46:10.538Z"
   },
   {
    "duration": 156,
    "start_time": "2022-05-16T02:46:22.274Z"
   },
   {
    "duration": 151,
    "start_time": "2022-05-16T02:46:26.001Z"
   },
   {
    "duration": 129,
    "start_time": "2022-05-16T02:46:32.193Z"
   },
   {
    "duration": 145,
    "start_time": "2022-05-16T02:50:22.509Z"
   },
   {
    "duration": 123,
    "start_time": "2022-05-16T02:50:44.902Z"
   },
   {
    "duration": 213,
    "start_time": "2022-05-16T02:50:47.457Z"
   },
   {
    "duration": 520,
    "start_time": "2022-05-16T02:50:58.922Z"
   },
   {
    "duration": 209,
    "start_time": "2022-05-16T02:51:06.965Z"
   },
   {
    "duration": 185,
    "start_time": "2022-05-16T02:51:34.077Z"
   },
   {
    "duration": 319,
    "start_time": "2022-05-16T02:51:56.257Z"
   },
   {
    "duration": 205,
    "start_time": "2022-05-16T02:52:01.449Z"
   },
   {
    "duration": 121,
    "start_time": "2022-05-16T02:52:06.693Z"
   },
   {
    "duration": 141,
    "start_time": "2022-05-16T02:52:12.630Z"
   },
   {
    "duration": 223,
    "start_time": "2022-05-16T02:52:18.838Z"
   },
   {
    "duration": 209,
    "start_time": "2022-05-16T02:52:25.761Z"
   },
   {
    "duration": 222,
    "start_time": "2022-05-16T02:52:29.254Z"
   },
   {
    "duration": 123,
    "start_time": "2022-05-16T02:52:31.913Z"
   },
   {
    "duration": 130,
    "start_time": "2022-05-16T02:52:50.034Z"
   },
   {
    "duration": 116,
    "start_time": "2022-05-16T02:52:55.341Z"
   },
   {
    "duration": 143,
    "start_time": "2022-05-16T02:52:58.681Z"
   },
   {
    "duration": 124,
    "start_time": "2022-05-16T02:53:18.441Z"
   },
   {
    "duration": 138,
    "start_time": "2022-05-16T02:56:34.602Z"
   },
   {
    "duration": 5,
    "start_time": "2022-05-16T02:59:33.322Z"
   },
   {
    "duration": 6,
    "start_time": "2022-05-16T02:59:39.066Z"
   },
   {
    "duration": 44,
    "start_time": "2022-05-16T03:03:30.329Z"
   },
   {
    "duration": 53,
    "start_time": "2022-05-16T12:59:07.773Z"
   },
   {
    "duration": 594,
    "start_time": "2022-05-16T12:59:16.995Z"
   },
   {
    "duration": 91,
    "start_time": "2022-05-16T12:59:18.114Z"
   },
   {
    "duration": 15,
    "start_time": "2022-05-16T12:59:18.909Z"
   },
   {
    "duration": 93,
    "start_time": "2022-05-16T12:59:21.717Z"
   },
   {
    "duration": 31,
    "start_time": "2022-05-16T12:59:22.269Z"
   },
   {
    "duration": 33,
    "start_time": "2022-05-16T12:59:24.774Z"
   },
   {
    "duration": 38,
    "start_time": "2022-05-16T12:59:27.913Z"
   },
   {
    "duration": 31,
    "start_time": "2022-05-16T12:59:30.978Z"
   },
   {
    "duration": 6,
    "start_time": "2022-05-16T12:59:33.345Z"
   },
   {
    "duration": 7,
    "start_time": "2022-05-16T12:59:34.313Z"
   },
   {
    "duration": 5,
    "start_time": "2022-05-16T12:59:34.768Z"
   },
   {
    "duration": 5,
    "start_time": "2022-05-16T12:59:35.237Z"
   },
   {
    "duration": 128,
    "start_time": "2022-05-16T12:59:36.749Z"
   },
   {
    "duration": 31,
    "start_time": "2022-05-16T12:59:42.917Z"
   },
   {
    "duration": 85,
    "start_time": "2022-05-16T12:59:45.180Z"
   },
   {
    "duration": 4,
    "start_time": "2022-05-16T12:59:46.013Z"
   },
   {
    "duration": 4,
    "start_time": "2022-05-16T12:59:46.353Z"
   },
   {
    "duration": 25,
    "start_time": "2022-05-16T12:59:46.729Z"
   },
   {
    "duration": 14,
    "start_time": "2022-05-16T12:59:49.509Z"
   },
   {
    "duration": 6,
    "start_time": "2022-05-16T12:59:49.864Z"
   },
   {
    "duration": 36,
    "start_time": "2022-05-16T12:59:50.429Z"
   },
   {
    "duration": 8,
    "start_time": "2022-05-16T12:59:52.517Z"
   },
   {
    "duration": 6,
    "start_time": "2022-05-16T12:59:52.897Z"
   },
   {
    "duration": 6,
    "start_time": "2022-05-16T12:59:53.264Z"
   },
   {
    "duration": 6,
    "start_time": "2022-05-16T12:59:53.611Z"
   },
   {
    "duration": 317,
    "start_time": "2022-05-16T12:59:54.465Z"
   },
   {
    "duration": 8,
    "start_time": "2022-05-16T12:59:55.888Z"
   },
   {
    "duration": 5,
    "start_time": "2022-05-16T12:59:56.424Z"
   },
   {
    "duration": 6,
    "start_time": "2022-05-16T12:59:56.834Z"
   },
   {
    "duration": 21,
    "start_time": "2022-05-16T12:59:57.752Z"
   },
   {
    "duration": 657,
    "start_time": "2022-05-16T13:00:00.705Z"
   },
   {
    "duration": 210,
    "start_time": "2022-05-16T13:00:03.341Z"
   },
   {
    "duration": 221,
    "start_time": "2022-05-16T13:00:05.857Z"
   },
   {
    "duration": 123,
    "start_time": "2022-05-16T13:00:08.757Z"
   },
   {
    "duration": 144,
    "start_time": "2022-05-16T13:00:11.104Z"
   },
   {
    "duration": 6,
    "start_time": "2022-05-16T13:00:13.877Z"
   },
   {
    "duration": 48,
    "start_time": "2022-05-16T13:00:16.117Z"
   },
   {
    "duration": 12,
    "start_time": "2022-05-16T13:00:26.932Z"
   },
   {
    "duration": 13,
    "start_time": "2022-05-16T13:00:35.457Z"
   },
   {
    "duration": 14,
    "start_time": "2022-05-16T13:00:49.119Z"
   },
   {
    "duration": 29,
    "start_time": "2022-05-16T13:00:55.364Z"
   },
   {
    "duration": 27,
    "start_time": "2022-05-16T13:02:01.034Z"
   },
   {
    "duration": 24,
    "start_time": "2022-05-16T13:02:37.565Z"
   },
   {
    "duration": 11,
    "start_time": "2022-05-16T13:02:50.497Z"
   },
   {
    "duration": 11,
    "start_time": "2022-05-16T13:03:24.295Z"
   },
   {
    "duration": 13,
    "start_time": "2022-05-16T13:03:30.357Z"
   },
   {
    "duration": 49,
    "start_time": "2022-05-16T13:03:49.133Z"
   },
   {
    "duration": 13,
    "start_time": "2022-05-16T13:04:01.860Z"
   },
   {
    "duration": 9,
    "start_time": "2022-05-16T13:04:08.401Z"
   },
   {
    "duration": 9,
    "start_time": "2022-05-16T13:04:12.972Z"
   },
   {
    "duration": 8,
    "start_time": "2022-05-16T13:04:28.917Z"
   },
   {
    "duration": 8,
    "start_time": "2022-05-16T13:04:31.700Z"
   },
   {
    "duration": 220,
    "start_time": "2022-05-16T13:12:00.973Z"
   },
   {
    "duration": 231,
    "start_time": "2022-05-16T13:12:26.368Z"
   },
   {
    "duration": 295,
    "start_time": "2022-05-16T13:12:35.668Z"
   },
   {
    "duration": 227,
    "start_time": "2022-05-16T13:12:49.500Z"
   },
   {
    "duration": 125,
    "start_time": "2022-05-16T13:12:56.221Z"
   },
   {
    "duration": 222,
    "start_time": "2022-05-16T13:13:00.600Z"
   },
   {
    "duration": 219,
    "start_time": "2022-05-16T13:13:18.376Z"
   },
   {
    "duration": 7,
    "start_time": "2022-05-16T13:15:27.832Z"
   },
   {
    "duration": 6,
    "start_time": "2022-05-16T13:15:32.048Z"
   },
   {
    "duration": 7,
    "start_time": "2022-05-16T13:15:48.564Z"
   },
   {
    "duration": 7,
    "start_time": "2022-05-16T13:18:18.308Z"
   },
   {
    "duration": 7,
    "start_time": "2022-05-16T13:18:49.748Z"
   },
   {
    "duration": 7,
    "start_time": "2022-05-16T13:19:04.334Z"
   },
   {
    "duration": 68,
    "start_time": "2022-05-16T13:20:20.137Z"
   },
   {
    "duration": 11,
    "start_time": "2022-05-16T13:21:12.213Z"
   },
   {
    "duration": 7,
    "start_time": "2022-05-16T13:22:31.092Z"
   },
   {
    "duration": 8,
    "start_time": "2022-05-16T13:23:00.477Z"
   },
   {
    "duration": 13,
    "start_time": "2022-05-16T13:23:31.021Z"
   },
   {
    "duration": 7,
    "start_time": "2022-05-16T13:23:48.620Z"
   },
   {
    "duration": 8,
    "start_time": "2022-05-16T13:24:19.070Z"
   },
   {
    "duration": 7,
    "start_time": "2022-05-16T13:24:21.253Z"
   },
   {
    "duration": 113,
    "start_time": "2022-05-16T13:24:40.349Z"
   },
   {
    "duration": 132,
    "start_time": "2022-05-16T13:24:51.524Z"
   },
   {
    "duration": 11,
    "start_time": "2022-05-16T13:25:22.780Z"
   },
   {
    "duration": 16,
    "start_time": "2022-05-16T13:25:29.836Z"
   },
   {
    "duration": 145,
    "start_time": "2022-05-16T13:26:45.761Z"
   },
   {
    "duration": 6,
    "start_time": "2022-05-16T13:27:16.011Z"
   },
   {
    "duration": 8,
    "start_time": "2022-05-16T13:27:31.620Z"
   },
   {
    "duration": 120,
    "start_time": "2022-05-16T13:28:12.161Z"
   },
   {
    "duration": 11,
    "start_time": "2022-05-16T13:28:49.025Z"
   },
   {
    "duration": 12,
    "start_time": "2022-05-16T13:29:22.781Z"
   },
   {
    "duration": 6,
    "start_time": "2022-05-16T13:29:36.599Z"
   },
   {
    "duration": 126,
    "start_time": "2022-05-16T13:31:18.169Z"
   },
   {
    "duration": 131,
    "start_time": "2022-05-16T13:31:30.342Z"
   },
   {
    "duration": 107,
    "start_time": "2022-05-16T13:31:39.068Z"
   },
   {
    "duration": 229,
    "start_time": "2022-05-16T13:31:54.945Z"
   },
   {
    "duration": 208,
    "start_time": "2022-05-16T13:32:15.724Z"
   },
   {
    "duration": 215,
    "start_time": "2022-05-16T13:32:22.600Z"
   },
   {
    "duration": 6,
    "start_time": "2022-05-16T13:33:26.558Z"
   },
   {
    "duration": 6,
    "start_time": "2022-05-16T13:33:33.524Z"
   },
   {
    "duration": 6,
    "start_time": "2022-05-16T13:33:54.166Z"
   },
   {
    "duration": 7,
    "start_time": "2022-05-16T13:34:47.389Z"
   },
   {
    "duration": 7,
    "start_time": "2022-05-16T13:35:21.561Z"
   },
   {
    "duration": 10,
    "start_time": "2022-05-16T13:36:03.625Z"
   },
   {
    "duration": 215,
    "start_time": "2022-05-16T13:36:42.468Z"
   },
   {
    "duration": 329,
    "start_time": "2022-05-16T13:36:59.508Z"
   },
   {
    "duration": 210,
    "start_time": "2022-05-16T13:49:14.178Z"
   },
   {
    "duration": 493,
    "start_time": "2022-05-17T11:42:54.179Z"
   },
   {
    "duration": 95,
    "start_time": "2022-05-17T11:42:54.810Z"
   },
   {
    "duration": 20,
    "start_time": "2022-05-17T11:42:55.730Z"
   },
   {
    "duration": 137,
    "start_time": "2022-05-17T11:42:58.971Z"
   },
   {
    "duration": 39,
    "start_time": "2022-05-17T11:42:59.638Z"
   },
   {
    "duration": 34,
    "start_time": "2022-05-17T11:43:01.478Z"
   },
   {
    "duration": 28,
    "start_time": "2022-05-17T11:43:05.304Z"
   },
   {
    "duration": 33,
    "start_time": "2022-05-17T11:43:08.909Z"
   },
   {
    "duration": 7,
    "start_time": "2022-05-17T11:43:13.790Z"
   },
   {
    "duration": 8,
    "start_time": "2022-05-17T11:43:14.313Z"
   },
   {
    "duration": 12,
    "start_time": "2022-05-17T11:43:15.142Z"
   },
   {
    "duration": 8,
    "start_time": "2022-05-17T11:43:15.761Z"
   },
   {
    "duration": 43,
    "start_time": "2022-05-17T11:43:27.847Z"
   },
   {
    "duration": 147,
    "start_time": "2022-05-17T11:43:30.799Z"
   },
   {
    "duration": 7,
    "start_time": "2022-05-17T11:43:31.877Z"
   },
   {
    "duration": 7,
    "start_time": "2022-05-17T11:43:32.293Z"
   },
   {
    "duration": 19,
    "start_time": "2022-05-17T11:43:35.281Z"
   },
   {
    "duration": 11,
    "start_time": "2022-05-17T11:43:36.037Z"
   },
   {
    "duration": 11,
    "start_time": "2022-05-17T11:43:40.274Z"
   },
   {
    "duration": 8,
    "start_time": "2022-05-17T11:43:40.726Z"
   },
   {
    "duration": 8,
    "start_time": "2022-05-17T11:43:41.537Z"
   },
   {
    "duration": 9,
    "start_time": "2022-05-17T11:43:41.933Z"
   },
   {
    "duration": 603,
    "start_time": "2022-05-17T11:43:42.448Z"
   },
   {
    "duration": 11,
    "start_time": "2022-05-17T11:43:43.717Z"
   },
   {
    "duration": 6,
    "start_time": "2022-05-17T11:43:44.505Z"
   },
   {
    "duration": 6,
    "start_time": "2022-05-17T11:43:44.929Z"
   },
   {
    "duration": 37,
    "start_time": "2022-05-17T11:43:45.821Z"
   },
   {
    "duration": 961,
    "start_time": "2022-05-17T11:43:48.738Z"
   },
   {
    "duration": 500,
    "start_time": "2022-05-17T11:43:51.841Z"
   },
   {
    "duration": 388,
    "start_time": "2022-05-17T11:43:54.716Z"
   },
   {
    "duration": 475,
    "start_time": "2022-05-17T11:43:57.969Z"
   },
   {
    "duration": 405,
    "start_time": "2022-05-17T11:44:00.622Z"
   },
   {
    "duration": 400,
    "start_time": "2022-05-17T11:44:03.038Z"
   },
   {
    "duration": 477,
    "start_time": "2022-05-17T11:44:09.301Z"
   },
   {
    "duration": 8,
    "start_time": "2022-05-17T11:44:12.113Z"
   },
   {
    "duration": 13,
    "start_time": "2022-05-17T11:44:14.653Z"
   },
   {
    "duration": 9,
    "start_time": "2022-05-17T11:44:15.689Z"
   },
   {
    "duration": 12,
    "start_time": "2022-05-17T11:44:16.671Z"
   },
   {
    "duration": 3420,
    "start_time": "2022-05-17T13:24:28.017Z"
   },
   {
    "duration": 73,
    "start_time": "2022-05-17T13:26:40.223Z"
   },
   {
    "duration": 9,
    "start_time": "2022-05-17T13:26:43.685Z"
   },
   {
    "duration": 547,
    "start_time": "2022-05-17T13:26:57.274Z"
   },
   {
    "duration": 101,
    "start_time": "2022-05-17T13:26:57.824Z"
   },
   {
    "duration": 31,
    "start_time": "2022-05-17T13:26:57.927Z"
   },
   {
    "duration": 178,
    "start_time": "2022-05-17T13:26:57.961Z"
   },
   {
    "duration": 56,
    "start_time": "2022-05-17T13:26:58.143Z"
   },
   {
    "duration": 38,
    "start_time": "2022-05-17T13:26:58.202Z"
   },
   {
    "duration": 43,
    "start_time": "2022-05-17T13:26:58.260Z"
   },
   {
    "duration": 55,
    "start_time": "2022-05-17T13:26:58.306Z"
   },
   {
    "duration": 24,
    "start_time": "2022-05-17T13:26:58.363Z"
   },
   {
    "duration": 14,
    "start_time": "2022-05-17T13:26:58.390Z"
   },
   {
    "duration": 10,
    "start_time": "2022-05-17T13:26:58.406Z"
   },
   {
    "duration": 10,
    "start_time": "2022-05-17T13:26:58.418Z"
   },
   {
    "duration": 257,
    "start_time": "2022-05-17T13:26:58.431Z"
   },
   {
    "duration": 64,
    "start_time": "2022-05-17T13:26:58.695Z"
   },
   {
    "duration": 98,
    "start_time": "2022-05-17T13:26:58.761Z"
   },
   {
    "duration": 6,
    "start_time": "2022-05-17T13:26:58.861Z"
   },
   {
    "duration": 57,
    "start_time": "2022-05-17T13:26:58.869Z"
   },
   {
    "duration": 28,
    "start_time": "2022-05-17T13:26:58.928Z"
   },
   {
    "duration": 11,
    "start_time": "2022-05-17T13:26:58.959Z"
   },
   {
    "duration": 14,
    "start_time": "2022-05-17T13:26:58.973Z"
   },
   {
    "duration": 74,
    "start_time": "2022-05-17T13:26:58.990Z"
   },
   {
    "duration": 10,
    "start_time": "2022-05-17T13:26:59.066Z"
   },
   {
    "duration": 10,
    "start_time": "2022-05-17T13:26:59.078Z"
   },
   {
    "duration": 11,
    "start_time": "2022-05-17T13:26:59.091Z"
   },
   {
    "duration": 11,
    "start_time": "2022-05-17T13:26:59.104Z"
   },
   {
    "duration": 562,
    "start_time": "2022-05-17T13:26:59.118Z"
   },
   {
    "duration": 11,
    "start_time": "2022-05-17T13:26:59.682Z"
   },
   {
    "duration": 19,
    "start_time": "2022-05-17T13:26:59.695Z"
   },
   {
    "duration": 9,
    "start_time": "2022-05-17T13:26:59.717Z"
   },
   {
    "duration": 55,
    "start_time": "2022-05-17T13:26:59.728Z"
   },
   {
    "duration": 653,
    "start_time": "2022-05-17T13:26:59.785Z"
   },
   {
    "duration": 444,
    "start_time": "2022-05-17T13:27:00.440Z"
   },
   {
    "duration": 433,
    "start_time": "2022-05-17T13:27:00.887Z"
   },
   {
    "duration": 428,
    "start_time": "2022-05-17T13:27:01.322Z"
   },
   {
    "duration": 419,
    "start_time": "2022-05-17T13:27:01.759Z"
   },
   {
    "duration": 444,
    "start_time": "2022-05-17T13:27:02.180Z"
   },
   {
    "duration": 709,
    "start_time": "2022-05-17T13:27:02.627Z"
   },
   {
    "duration": 622,
    "start_time": "2022-05-17T13:27:03.340Z"
   },
   {
    "duration": 12,
    "start_time": "2022-05-17T13:27:03.965Z"
   },
   {
    "duration": 24,
    "start_time": "2022-05-17T13:27:03.980Z"
   },
   {
    "duration": 27,
    "start_time": "2022-05-17T13:27:04.011Z"
   },
   {
    "duration": 60,
    "start_time": "2022-05-17T13:27:04.040Z"
   },
   {
    "duration": 54,
    "start_time": "2022-05-17T13:27:04.103Z"
   },
   {
    "duration": 10,
    "start_time": "2022-05-17T13:27:04.160Z"
   },
   {
    "duration": 70,
    "start_time": "2022-05-17T13:27:04.172Z"
   },
   {
    "duration": 23,
    "start_time": "2022-05-17T13:27:04.244Z"
   },
   {
    "duration": 42,
    "start_time": "2022-05-17T13:27:04.270Z"
   },
   {
    "duration": 21,
    "start_time": "2022-05-17T13:27:04.315Z"
   },
   {
    "duration": 33,
    "start_time": "2022-05-17T13:27:04.339Z"
   },
   {
    "duration": 44,
    "start_time": "2022-05-17T13:27:04.374Z"
   },
   {
    "duration": 52,
    "start_time": "2022-05-17T13:27:04.421Z"
   },
   {
    "duration": 27,
    "start_time": "2022-05-17T13:27:04.477Z"
   },
   {
    "duration": 55,
    "start_time": "2022-05-17T13:27:04.507Z"
   },
   {
    "duration": 31,
    "start_time": "2022-05-17T13:27:04.564Z"
   },
   {
    "duration": 20,
    "start_time": "2022-05-17T13:27:04.598Z"
   },
   {
    "duration": 43,
    "start_time": "2022-05-17T13:27:04.621Z"
   },
   {
    "duration": 383,
    "start_time": "2022-05-17T13:27:04.667Z"
   },
   {
    "duration": 354,
    "start_time": "2022-05-17T13:27:42.339Z"
   },
   {
    "duration": 106,
    "start_time": "2022-05-17T13:28:58.320Z"
   },
   {
    "duration": 6,
    "start_time": "2022-05-17T13:29:02.419Z"
   },
   {
    "duration": 6,
    "start_time": "2022-05-17T13:30:09.696Z"
   },
   {
    "duration": 2489,
    "start_time": "2022-05-17T13:31:19.026Z"
   },
   {
    "duration": 6,
    "start_time": "2022-05-17T13:31:27.899Z"
   },
   {
    "duration": 34,
    "start_time": "2022-05-17T13:34:45.627Z"
   },
   {
    "duration": 562,
    "start_time": "2022-05-17T13:35:01.288Z"
   },
   {
    "duration": 14,
    "start_time": "2022-05-17T13:36:11.341Z"
   },
   {
    "duration": 13,
    "start_time": "2022-05-17T13:36:44.263Z"
   },
   {
    "duration": 14,
    "start_time": "2022-05-17T13:36:59.366Z"
   },
   {
    "duration": 10,
    "start_time": "2022-05-17T13:37:15.963Z"
   },
   {
    "duration": 11,
    "start_time": "2022-05-17T13:38:29.502Z"
   },
   {
    "duration": 21,
    "start_time": "2022-05-17T13:38:31.838Z"
   },
   {
    "duration": 20,
    "start_time": "2022-05-17T13:38:48.202Z"
   },
   {
    "duration": 309,
    "start_time": "2022-05-17T13:39:51.747Z"
   },
   {
    "duration": 25,
    "start_time": "2022-05-17T13:40:00.679Z"
   },
   {
    "duration": 44,
    "start_time": "2022-05-17T13:43:24.499Z"
   },
   {
    "duration": 22,
    "start_time": "2022-05-17T13:43:41.995Z"
   },
   {
    "duration": 320,
    "start_time": "2022-05-17T13:45:18.830Z"
   },
   {
    "duration": 671,
    "start_time": "2022-05-17T13:45:52.622Z"
   },
   {
    "duration": 326,
    "start_time": "2022-05-17T13:46:32.674Z"
   },
   {
    "duration": 297,
    "start_time": "2022-05-17T13:46:37.217Z"
   },
   {
    "duration": 261,
    "start_time": "2022-05-17T13:47:11.611Z"
   },
   {
    "duration": 367,
    "start_time": "2022-05-17T13:47:27.254Z"
   },
   {
    "duration": 503,
    "start_time": "2022-05-17T13:48:06.502Z"
   },
   {
    "duration": 8,
    "start_time": "2022-05-17T13:48:41.266Z"
   },
   {
    "duration": 23,
    "start_time": "2022-05-17T13:49:25.599Z"
   },
   {
    "duration": 7,
    "start_time": "2022-05-17T13:51:30.599Z"
   },
   {
    "duration": 23,
    "start_time": "2022-05-17T13:51:39.094Z"
   },
   {
    "duration": 7,
    "start_time": "2022-05-17T13:52:16.863Z"
   },
   {
    "duration": 7,
    "start_time": "2022-05-17T13:52:50.822Z"
   },
   {
    "duration": 25,
    "start_time": "2022-05-17T13:52:54.044Z"
   },
   {
    "duration": 23,
    "start_time": "2022-05-17T13:53:22.975Z"
   },
   {
    "duration": 19,
    "start_time": "2022-05-17T13:54:04.647Z"
   },
   {
    "duration": 25,
    "start_time": "2022-05-17T13:54:48.430Z"
   },
   {
    "duration": 24,
    "start_time": "2022-05-17T13:55:03.629Z"
   },
   {
    "duration": 27,
    "start_time": "2022-05-17T13:55:15.992Z"
   },
   {
    "duration": 32,
    "start_time": "2022-05-17T13:55:20.655Z"
   },
   {
    "duration": 30,
    "start_time": "2022-05-17T13:55:27.747Z"
   },
   {
    "duration": 17,
    "start_time": "2022-05-17T13:55:55.991Z"
   },
   {
    "duration": 13,
    "start_time": "2022-05-17T13:56:06.173Z"
   },
   {
    "duration": 28,
    "start_time": "2022-05-17T13:56:15.815Z"
   },
   {
    "duration": 13,
    "start_time": "2022-05-17T13:56:43.199Z"
   },
   {
    "duration": 10,
    "start_time": "2022-05-17T13:57:00.832Z"
   },
   {
    "duration": 11,
    "start_time": "2022-05-17T13:57:10.569Z"
   },
   {
    "duration": 29,
    "start_time": "2022-05-17T13:58:05.056Z"
   },
   {
    "duration": 18,
    "start_time": "2022-05-17T13:58:22.987Z"
   },
   {
    "duration": 10,
    "start_time": "2022-05-17T13:58:26.891Z"
   },
   {
    "duration": 12,
    "start_time": "2022-05-17T14:03:30.164Z"
   },
   {
    "duration": 12,
    "start_time": "2022-05-17T14:03:56.991Z"
   },
   {
    "duration": 14,
    "start_time": "2022-05-17T14:04:11.148Z"
   },
   {
    "duration": 11,
    "start_time": "2022-05-17T14:04:15.538Z"
   },
   {
    "duration": 10,
    "start_time": "2022-05-17T14:04:32.550Z"
   },
   {
    "duration": 12,
    "start_time": "2022-05-17T14:04:41.147Z"
   },
   {
    "duration": 10,
    "start_time": "2022-05-17T14:04:48.888Z"
   },
   {
    "duration": 9,
    "start_time": "2022-05-17T14:04:53.614Z"
   },
   {
    "duration": 15,
    "start_time": "2022-05-17T14:05:15.535Z"
   },
   {
    "duration": 10,
    "start_time": "2022-05-17T14:05:19.596Z"
   },
   {
    "duration": 69,
    "start_time": "2022-05-17T14:10:46.129Z"
   },
   {
    "duration": 9,
    "start_time": "2022-05-17T14:11:01.380Z"
   },
   {
    "duration": 9,
    "start_time": "2022-05-17T14:11:06.083Z"
   },
   {
    "duration": 9,
    "start_time": "2022-05-17T14:11:12.167Z"
   },
   {
    "duration": 10,
    "start_time": "2022-05-17T14:11:15.735Z"
   },
   {
    "duration": 11,
    "start_time": "2022-05-17T14:12:58.958Z"
   },
   {
    "duration": 11,
    "start_time": "2022-05-17T14:13:03.377Z"
   },
   {
    "duration": 11,
    "start_time": "2022-05-17T14:13:08.015Z"
   },
   {
    "duration": 21,
    "start_time": "2022-05-17T14:13:09.362Z"
   },
   {
    "duration": 6,
    "start_time": "2022-05-17T14:14:25.295Z"
   },
   {
    "duration": 56,
    "start_time": "2022-05-17T14:16:15.534Z"
   },
   {
    "duration": 12,
    "start_time": "2022-05-17T14:16:42.381Z"
   },
   {
    "duration": 21,
    "start_time": "2022-05-17T14:16:46.278Z"
   },
   {
    "duration": 22,
    "start_time": "2022-05-17T14:17:00.198Z"
   },
   {
    "duration": 28,
    "start_time": "2022-05-17T14:17:07.574Z"
   },
   {
    "duration": 19,
    "start_time": "2022-05-17T14:17:27.694Z"
   },
   {
    "duration": 17,
    "start_time": "2022-05-17T14:18:04.091Z"
   },
   {
    "duration": 19,
    "start_time": "2022-05-17T14:18:28.991Z"
   },
   {
    "duration": 23,
    "start_time": "2022-05-17T15:28:50.656Z"
   },
   {
    "duration": 11,
    "start_time": "2022-05-17T15:35:04.092Z"
   },
   {
    "duration": 59,
    "start_time": "2022-05-17T15:35:13.414Z"
   },
   {
    "duration": 6,
    "start_time": "2022-05-17T15:36:35.554Z"
   },
   {
    "duration": 8,
    "start_time": "2022-05-17T15:36:49.130Z"
   },
   {
    "duration": 20,
    "start_time": "2022-05-17T15:37:00.384Z"
   },
   {
    "duration": 9,
    "start_time": "2022-05-17T15:37:10.437Z"
   },
   {
    "duration": 6,
    "start_time": "2022-05-17T15:38:02.202Z"
   },
   {
    "duration": 6,
    "start_time": "2022-05-17T15:38:07.485Z"
   },
   {
    "duration": 10,
    "start_time": "2022-05-17T15:38:23.894Z"
   },
   {
    "duration": 10,
    "start_time": "2022-05-17T15:38:36.981Z"
   },
   {
    "duration": 10,
    "start_time": "2022-05-17T16:27:52.743Z"
   },
   {
    "duration": 68,
    "start_time": "2022-05-17T16:27:56.543Z"
   },
   {
    "duration": 10,
    "start_time": "2022-05-17T16:27:59.690Z"
   },
   {
    "duration": 12,
    "start_time": "2022-05-17T16:29:13.363Z"
   },
   {
    "duration": 11,
    "start_time": "2022-05-17T16:29:36.931Z"
   },
   {
    "duration": 12,
    "start_time": "2022-05-17T16:29:43.131Z"
   },
   {
    "duration": 44,
    "start_time": "2022-05-17T16:57:12.700Z"
   },
   {
    "duration": 361,
    "start_time": "2022-05-17T16:57:28.012Z"
   },
   {
    "duration": 83,
    "start_time": "2022-05-17T16:57:28.375Z"
   },
   {
    "duration": 12,
    "start_time": "2022-05-17T16:57:28.460Z"
   },
   {
    "duration": 99,
    "start_time": "2022-05-17T16:57:28.474Z"
   },
   {
    "duration": 24,
    "start_time": "2022-05-17T16:57:28.574Z"
   },
   {
    "duration": 18,
    "start_time": "2022-05-17T16:57:28.600Z"
   },
   {
    "duration": 21,
    "start_time": "2022-05-17T16:57:28.620Z"
   },
   {
    "duration": 37,
    "start_time": "2022-05-17T16:57:28.642Z"
   },
   {
    "duration": 5,
    "start_time": "2022-05-17T16:57:28.680Z"
   },
   {
    "duration": 8,
    "start_time": "2022-05-17T16:57:28.687Z"
   },
   {
    "duration": 7,
    "start_time": "2022-05-17T16:57:28.697Z"
   },
   {
    "duration": 8,
    "start_time": "2022-05-17T16:57:28.705Z"
   },
   {
    "duration": 156,
    "start_time": "2022-05-17T16:57:28.715Z"
   },
   {
    "duration": 22,
    "start_time": "2022-05-17T16:57:28.873Z"
   },
   {
    "duration": 69,
    "start_time": "2022-05-17T16:57:28.897Z"
   },
   {
    "duration": 0,
    "start_time": "2022-05-17T16:57:28.969Z"
   },
   {
    "duration": 0,
    "start_time": "2022-05-17T16:57:28.971Z"
   },
   {
    "duration": 0,
    "start_time": "2022-05-17T16:57:28.972Z"
   },
   {
    "duration": 0,
    "start_time": "2022-05-17T16:57:28.973Z"
   },
   {
    "duration": 0,
    "start_time": "2022-05-17T16:57:28.974Z"
   },
   {
    "duration": 0,
    "start_time": "2022-05-17T16:57:28.975Z"
   },
   {
    "duration": 0,
    "start_time": "2022-05-17T16:57:28.975Z"
   },
   {
    "duration": 0,
    "start_time": "2022-05-17T16:57:28.977Z"
   },
   {
    "duration": 0,
    "start_time": "2022-05-17T16:57:28.977Z"
   },
   {
    "duration": 0,
    "start_time": "2022-05-17T16:57:28.978Z"
   },
   {
    "duration": 0,
    "start_time": "2022-05-17T16:57:28.979Z"
   },
   {
    "duration": 0,
    "start_time": "2022-05-17T16:57:28.980Z"
   },
   {
    "duration": 0,
    "start_time": "2022-05-17T16:57:28.981Z"
   },
   {
    "duration": 0,
    "start_time": "2022-05-17T16:57:28.982Z"
   },
   {
    "duration": 0,
    "start_time": "2022-05-17T16:57:28.983Z"
   },
   {
    "duration": 0,
    "start_time": "2022-05-17T16:57:28.984Z"
   },
   {
    "duration": 0,
    "start_time": "2022-05-17T16:57:28.985Z"
   },
   {
    "duration": 0,
    "start_time": "2022-05-17T16:57:28.985Z"
   },
   {
    "duration": 0,
    "start_time": "2022-05-17T16:57:28.986Z"
   },
   {
    "duration": 0,
    "start_time": "2022-05-17T16:57:28.987Z"
   },
   {
    "duration": 0,
    "start_time": "2022-05-17T16:57:28.988Z"
   },
   {
    "duration": 0,
    "start_time": "2022-05-17T16:57:28.989Z"
   },
   {
    "duration": 0,
    "start_time": "2022-05-17T16:57:28.990Z"
   },
   {
    "duration": 0,
    "start_time": "2022-05-17T16:57:28.991Z"
   },
   {
    "duration": 0,
    "start_time": "2022-05-17T16:57:28.992Z"
   },
   {
    "duration": 0,
    "start_time": "2022-05-17T16:57:28.993Z"
   },
   {
    "duration": 0,
    "start_time": "2022-05-17T16:57:28.994Z"
   },
   {
    "duration": 0,
    "start_time": "2022-05-17T16:57:28.995Z"
   },
   {
    "duration": 0,
    "start_time": "2022-05-17T16:57:28.996Z"
   },
   {
    "duration": 0,
    "start_time": "2022-05-17T16:57:28.997Z"
   },
   {
    "duration": 0,
    "start_time": "2022-05-17T16:57:28.998Z"
   },
   {
    "duration": 0,
    "start_time": "2022-05-17T16:57:28.999Z"
   },
   {
    "duration": 0,
    "start_time": "2022-05-17T16:57:28.999Z"
   },
   {
    "duration": 0,
    "start_time": "2022-05-17T16:57:29.000Z"
   },
   {
    "duration": 0,
    "start_time": "2022-05-17T16:57:29.002Z"
   },
   {
    "duration": 0,
    "start_time": "2022-05-17T16:57:29.003Z"
   },
   {
    "duration": 0,
    "start_time": "2022-05-17T16:57:29.004Z"
   },
   {
    "duration": 0,
    "start_time": "2022-05-17T16:57:29.004Z"
   },
   {
    "duration": 0,
    "start_time": "2022-05-17T16:57:29.005Z"
   },
   {
    "duration": 0,
    "start_time": "2022-05-17T16:57:29.005Z"
   },
   {
    "duration": 0,
    "start_time": "2022-05-17T16:57:29.006Z"
   },
   {
    "duration": 0,
    "start_time": "2022-05-17T16:57:29.006Z"
   },
   {
    "duration": 0,
    "start_time": "2022-05-17T16:57:29.007Z"
   },
   {
    "duration": 0,
    "start_time": "2022-05-17T16:57:29.065Z"
   },
   {
    "duration": 0,
    "start_time": "2022-05-17T16:57:29.066Z"
   },
   {
    "duration": 0,
    "start_time": "2022-05-17T16:57:29.067Z"
   },
   {
    "duration": 0,
    "start_time": "2022-05-17T16:57:29.068Z"
   },
   {
    "duration": 0,
    "start_time": "2022-05-17T16:57:29.069Z"
   },
   {
    "duration": 0,
    "start_time": "2022-05-17T16:57:29.070Z"
   },
   {
    "duration": 0,
    "start_time": "2022-05-17T16:57:29.071Z"
   },
   {
    "duration": 0,
    "start_time": "2022-05-17T16:57:29.072Z"
   },
   {
    "duration": 0,
    "start_time": "2022-05-17T16:57:29.073Z"
   },
   {
    "duration": 0,
    "start_time": "2022-05-17T16:57:29.074Z"
   },
   {
    "duration": 0,
    "start_time": "2022-05-17T16:57:29.075Z"
   },
   {
    "duration": 0,
    "start_time": "2022-05-17T16:57:29.076Z"
   },
   {
    "duration": 7,
    "start_time": "2022-05-17T16:59:33.538Z"
   },
   {
    "duration": 20,
    "start_time": "2022-05-17T16:59:44.719Z"
   },
   {
    "duration": 22,
    "start_time": "2022-05-17T16:59:49.434Z"
   },
   {
    "duration": 11,
    "start_time": "2022-05-17T16:59:51.918Z"
   },
   {
    "duration": 7,
    "start_time": "2022-05-17T16:59:52.823Z"
   },
   {
    "duration": 38,
    "start_time": "2022-05-17T16:59:53.314Z"
   },
   {
    "duration": 61,
    "start_time": "2022-05-17T16:59:55.450Z"
   },
   {
    "duration": 8,
    "start_time": "2022-05-17T17:00:21.339Z"
   },
   {
    "duration": 4,
    "start_time": "2022-05-17T17:00:25.927Z"
   },
   {
    "duration": 5,
    "start_time": "2022-05-17T17:00:27.570Z"
   },
   {
    "duration": 5,
    "start_time": "2022-05-17T17:00:27.911Z"
   },
   {
    "duration": 5,
    "start_time": "2022-05-17T17:00:28.187Z"
   },
   {
    "duration": 289,
    "start_time": "2022-05-17T17:00:32.663Z"
   },
   {
    "duration": 7,
    "start_time": "2022-05-17T17:00:34.327Z"
   },
   {
    "duration": 17,
    "start_time": "2022-05-17T17:01:04.407Z"
   },
   {
    "duration": 3,
    "start_time": "2022-05-17T17:01:13.056Z"
   },
   {
    "duration": 7,
    "start_time": "2022-05-17T17:01:17.682Z"
   },
   {
    "duration": 249,
    "start_time": "2022-05-17T17:01:20.187Z"
   },
   {
    "duration": 7,
    "start_time": "2022-05-17T17:01:21.119Z"
   },
   {
    "duration": 7,
    "start_time": "2022-05-17T17:01:48.514Z"
   },
   {
    "duration": 6,
    "start_time": "2022-05-17T17:01:49.207Z"
   },
   {
    "duration": 4,
    "start_time": "2022-05-17T17:01:57.479Z"
   },
   {
    "duration": 4,
    "start_time": "2022-05-17T17:01:57.983Z"
   },
   {
    "duration": 642,
    "start_time": "2022-05-17T17:02:03.299Z"
   },
   {
    "duration": 187,
    "start_time": "2022-05-17T17:02:05.654Z"
   },
   {
    "duration": 195,
    "start_time": "2022-05-17T17:02:06.083Z"
   },
   {
    "duration": 387,
    "start_time": "2022-05-17T17:02:06.446Z"
   },
   {
    "duration": 11363,
    "start_time": "2022-05-17T17:02:06.835Z"
   },
   {
    "duration": 5193,
    "start_time": "2022-05-17T17:02:18.200Z"
   },
   {
    "duration": 2395,
    "start_time": "2022-05-17T17:02:23.394Z"
   },
   {
    "duration": 4661,
    "start_time": "2022-05-17T17:02:25.791Z"
   },
   {
    "duration": 31,
    "start_time": "2022-05-17T17:02:30.453Z"
   },
   {
    "duration": 7,
    "start_time": "2022-05-17T17:03:18.755Z"
   },
   {
    "duration": 9,
    "start_time": "2022-05-17T17:03:36.683Z"
   },
   {
    "duration": 11,
    "start_time": "2022-05-17T17:03:44.910Z"
   },
   {
    "duration": 211,
    "start_time": "2022-05-17T17:03:54.895Z"
   },
   {
    "duration": 208,
    "start_time": "2022-05-17T17:03:58.146Z"
   },
   {
    "duration": 205,
    "start_time": "2022-05-17T17:04:01.459Z"
   },
   {
    "duration": 188,
    "start_time": "2022-05-17T17:04:03.612Z"
   },
   {
    "duration": 207,
    "start_time": "2022-05-17T17:04:05.866Z"
   },
   {
    "duration": 6,
    "start_time": "2022-05-17T17:04:08.579Z"
   },
   {
    "duration": 7,
    "start_time": "2022-05-17T17:04:11.179Z"
   },
   {
    "duration": 6,
    "start_time": "2022-05-17T17:04:12.743Z"
   },
   {
    "duration": 6,
    "start_time": "2022-05-17T17:04:13.191Z"
   },
   {
    "duration": 13,
    "start_time": "2022-05-17T17:04:13.946Z"
   },
   {
    "duration": 5,
    "start_time": "2022-05-17T17:04:14.691Z"
   },
   {
    "duration": 6,
    "start_time": "2022-05-17T17:04:15.154Z"
   },
   {
    "duration": 7,
    "start_time": "2022-05-17T17:04:15.606Z"
   },
   {
    "duration": 11,
    "start_time": "2022-05-17T17:04:17.122Z"
   },
   {
    "duration": 6,
    "start_time": "2022-05-17T17:04:19.478Z"
   },
   {
    "duration": 6,
    "start_time": "2022-05-17T17:04:19.958Z"
   },
   {
    "duration": 7,
    "start_time": "2022-05-17T17:04:20.570Z"
   },
   {
    "duration": 10,
    "start_time": "2022-05-17T17:04:23.320Z"
   },
   {
    "duration": 5,
    "start_time": "2022-05-17T17:04:25.243Z"
   },
   {
    "duration": 6,
    "start_time": "2022-05-17T17:04:46.150Z"
   },
   {
    "duration": 6,
    "start_time": "2022-05-17T17:04:46.650Z"
   },
   {
    "duration": 7,
    "start_time": "2022-05-17T17:04:47.907Z"
   },
   {
    "duration": 9,
    "start_time": "2022-05-17T17:04:49.524Z"
   },
   {
    "duration": 5,
    "start_time": "2022-05-17T17:04:49.947Z"
   },
   {
    "duration": 5,
    "start_time": "2022-05-17T17:04:50.906Z"
   },
   {
    "duration": 560,
    "start_time": "2022-05-17T17:04:53.839Z"
   },
   {
    "duration": 5,
    "start_time": "2022-05-17T17:05:21.463Z"
   },
   {
    "duration": 44,
    "start_time": "2022-05-17T17:48:57.978Z"
   },
   {
    "duration": 388,
    "start_time": "2022-05-17T17:49:04.815Z"
   },
   {
    "duration": 70,
    "start_time": "2022-05-17T17:49:05.205Z"
   },
   {
    "duration": 14,
    "start_time": "2022-05-17T17:49:05.277Z"
   },
   {
    "duration": 136,
    "start_time": "2022-05-17T17:49:05.293Z"
   },
   {
    "duration": 54,
    "start_time": "2022-05-17T17:49:05.432Z"
   },
   {
    "duration": 31,
    "start_time": "2022-05-17T17:49:05.488Z"
   },
   {
    "duration": 23,
    "start_time": "2022-05-17T17:49:05.521Z"
   },
   {
    "duration": 22,
    "start_time": "2022-05-17T17:49:05.545Z"
   },
   {
    "duration": 10,
    "start_time": "2022-05-17T17:49:05.568Z"
   },
   {
    "duration": 9,
    "start_time": "2022-05-17T17:49:05.581Z"
   },
   {
    "duration": 11,
    "start_time": "2022-05-17T17:49:05.591Z"
   },
   {
    "duration": 10,
    "start_time": "2022-05-17T17:49:05.603Z"
   },
   {
    "duration": 107,
    "start_time": "2022-05-17T17:49:05.615Z"
   },
   {
    "duration": 51,
    "start_time": "2022-05-17T17:49:05.724Z"
   },
   {
    "duration": 21,
    "start_time": "2022-05-17T17:49:05.778Z"
   },
   {
    "duration": 16,
    "start_time": "2022-05-17T17:49:05.801Z"
   },
   {
    "duration": 11,
    "start_time": "2022-05-17T17:49:05.818Z"
   },
   {
    "duration": 11,
    "start_time": "2022-05-17T17:49:05.830Z"
   },
   {
    "duration": 25,
    "start_time": "2022-05-17T17:49:05.842Z"
   },
   {
    "duration": 7,
    "start_time": "2022-05-17T17:49:05.869Z"
   },
   {
    "duration": 11,
    "start_time": "2022-05-17T17:49:05.877Z"
   },
   {
    "duration": 7,
    "start_time": "2022-05-17T17:49:05.890Z"
   },
   {
    "duration": 23,
    "start_time": "2022-05-17T17:49:05.899Z"
   },
   {
    "duration": 8,
    "start_time": "2022-05-17T17:49:05.923Z"
   },
   {
    "duration": 30,
    "start_time": "2022-05-17T17:49:05.933Z"
   },
   {
    "duration": 27,
    "start_time": "2022-05-17T17:49:05.965Z"
   },
   {
    "duration": 6,
    "start_time": "2022-05-17T17:49:05.993Z"
   },
   {
    "duration": 12,
    "start_time": "2022-05-17T17:49:06.003Z"
   },
   {
    "duration": 6,
    "start_time": "2022-05-17T17:49:06.016Z"
   },
   {
    "duration": 6,
    "start_time": "2022-05-17T17:49:06.023Z"
   },
   {
    "duration": 333,
    "start_time": "2022-05-17T17:49:06.031Z"
   },
   {
    "duration": 6,
    "start_time": "2022-05-17T17:49:06.366Z"
   },
   {
    "duration": 5,
    "start_time": "2022-05-17T17:49:06.373Z"
   },
   {
    "duration": 5,
    "start_time": "2022-05-17T17:49:06.380Z"
   },
   {
    "duration": 22,
    "start_time": "2022-05-17T17:49:06.387Z"
   },
   {
    "duration": 555,
    "start_time": "2022-05-17T17:49:06.411Z"
   },
   {
    "duration": 205,
    "start_time": "2022-05-17T17:49:06.967Z"
   },
   {
    "duration": 212,
    "start_time": "2022-05-17T17:49:07.174Z"
   },
   {
    "duration": 215,
    "start_time": "2022-05-17T17:49:07.388Z"
   },
   {
    "duration": 215,
    "start_time": "2022-05-17T17:49:07.605Z"
   },
   {
    "duration": 211,
    "start_time": "2022-05-17T17:49:07.821Z"
   },
   {
    "duration": 267,
    "start_time": "2022-05-17T17:49:08.034Z"
   },
   {
    "duration": 205,
    "start_time": "2022-05-17T17:49:08.303Z"
   },
   {
    "duration": 5,
    "start_time": "2022-05-17T17:49:08.509Z"
   },
   {
    "duration": 15,
    "start_time": "2022-05-17T17:49:08.515Z"
   },
   {
    "duration": 4,
    "start_time": "2022-05-17T17:49:08.531Z"
   },
   {
    "duration": 8,
    "start_time": "2022-05-17T17:49:08.537Z"
   },
   {
    "duration": 10,
    "start_time": "2022-05-17T17:49:08.546Z"
   },
   {
    "duration": 7,
    "start_time": "2022-05-17T17:49:08.557Z"
   },
   {
    "duration": 7,
    "start_time": "2022-05-17T17:49:08.565Z"
   },
   {
    "duration": 8,
    "start_time": "2022-05-17T17:49:08.573Z"
   },
   {
    "duration": 9,
    "start_time": "2022-05-17T17:49:08.583Z"
   },
   {
    "duration": 5,
    "start_time": "2022-05-17T17:49:08.594Z"
   },
   {
    "duration": 5,
    "start_time": "2022-05-17T17:49:08.601Z"
   },
   {
    "duration": 6,
    "start_time": "2022-05-17T17:49:08.607Z"
   },
   {
    "duration": 11,
    "start_time": "2022-05-17T17:49:08.615Z"
   },
   {
    "duration": 4,
    "start_time": "2022-05-17T17:49:08.628Z"
   },
   {
    "duration": 6,
    "start_time": "2022-05-17T17:49:08.633Z"
   },
   {
    "duration": 6,
    "start_time": "2022-05-17T17:49:08.640Z"
   },
   {
    "duration": 7,
    "start_time": "2022-05-17T17:49:08.648Z"
   },
   {
    "duration": 8,
    "start_time": "2022-05-17T17:49:08.657Z"
   },
   {
    "duration": 4,
    "start_time": "2022-05-17T17:49:08.666Z"
   },
   {
    "duration": 4,
    "start_time": "2022-05-17T17:49:08.671Z"
   },
   {
    "duration": 5,
    "start_time": "2022-05-17T17:49:08.677Z"
   },
   {
    "duration": 16,
    "start_time": "2022-05-17T17:49:08.683Z"
   },
   {
    "duration": 3,
    "start_time": "2022-05-17T17:49:08.701Z"
   },
   {
    "duration": 13,
    "start_time": "2022-05-17T17:49:08.706Z"
   },
   {
    "duration": 4,
    "start_time": "2022-05-17T17:49:08.720Z"
   },
   {
    "duration": 14,
    "start_time": "2022-05-17T17:49:08.726Z"
   },
   {
    "duration": 4,
    "start_time": "2022-05-17T17:49:08.741Z"
   },
   {
    "duration": 24,
    "start_time": "2022-05-17T17:49:08.746Z"
   },
   {
    "duration": 6,
    "start_time": "2022-05-17T17:49:08.771Z"
   },
   {
    "duration": 8,
    "start_time": "2022-05-17T17:49:08.778Z"
   },
   {
    "duration": 113,
    "start_time": "2022-05-17T17:49:08.787Z"
   },
   {
    "duration": 0,
    "start_time": "2022-05-17T17:49:08.901Z"
   },
   {
    "duration": 0,
    "start_time": "2022-05-17T17:49:08.902Z"
   },
   {
    "duration": 0,
    "start_time": "2022-05-17T17:49:08.903Z"
   },
   {
    "duration": 13,
    "start_time": "2022-05-17T17:49:20.464Z"
   },
   {
    "duration": 14,
    "start_time": "2022-05-17T17:49:24.760Z"
   },
   {
    "duration": 38,
    "start_time": "2022-05-17T17:49:28.332Z"
   },
   {
    "duration": 4,
    "start_time": "2022-05-17T17:49:46.830Z"
   },
   {
    "duration": 5,
    "start_time": "2022-05-17T17:50:18.908Z"
   },
   {
    "duration": 5,
    "start_time": "2022-05-17T17:50:53.235Z"
   },
   {
    "duration": 5,
    "start_time": "2022-05-17T17:51:37.832Z"
   },
   {
    "duration": 4,
    "start_time": "2022-05-17T17:51:48.931Z"
   },
   {
    "duration": 11,
    "start_time": "2022-05-17T17:52:38.596Z"
   },
   {
    "duration": 4,
    "start_time": "2022-05-17T17:52:50.069Z"
   },
   {
    "duration": 16,
    "start_time": "2022-05-17T17:53:12.441Z"
   },
   {
    "duration": 14,
    "start_time": "2022-05-17T17:53:37.633Z"
   },
   {
    "duration": 5,
    "start_time": "2022-05-17T17:54:03.924Z"
   },
   {
    "duration": 21,
    "start_time": "2022-05-17T17:54:12.883Z"
   },
   {
    "duration": 4,
    "start_time": "2022-05-17T17:54:52.028Z"
   },
   {
    "duration": 4,
    "start_time": "2022-05-17T17:54:54.627Z"
   },
   {
    "duration": 13,
    "start_time": "2022-05-17T17:57:57.732Z"
   },
   {
    "duration": 268,
    "start_time": "2022-05-17T17:59:11.065Z"
   },
   {
    "duration": 8,
    "start_time": "2022-05-17T18:00:23.416Z"
   },
   {
    "duration": 9,
    "start_time": "2022-05-17T18:00:27.307Z"
   },
   {
    "duration": 2076,
    "start_time": "2022-05-17T18:00:29.995Z"
   },
   {
    "duration": 14,
    "start_time": "2022-05-17T18:00:38.720Z"
   },
   {
    "duration": 118,
    "start_time": "2022-05-17T18:00:52.368Z"
   },
   {
    "duration": 7,
    "start_time": "2022-05-17T18:03:39.168Z"
   },
   {
    "duration": 17,
    "start_time": "2022-05-17T18:03:48.299Z"
   },
   {
    "duration": 35,
    "start_time": "2022-05-17T18:04:28.189Z"
   },
   {
    "duration": 25,
    "start_time": "2022-05-17T18:07:10.054Z"
   },
   {
    "duration": 216,
    "start_time": "2022-05-17T18:07:12.347Z"
   },
   {
    "duration": 142,
    "start_time": "2022-05-17T18:07:23.046Z"
   },
   {
    "duration": 114,
    "start_time": "2022-05-17T18:07:25.643Z"
   },
   {
    "duration": 277,
    "start_time": "2022-05-17T18:07:30.259Z"
   },
   {
    "duration": 301,
    "start_time": "2022-05-17T18:08:39.049Z"
   },
   {
    "duration": 338,
    "start_time": "2022-05-17T18:10:03.139Z"
   },
   {
    "duration": 138,
    "start_time": "2022-05-17T18:13:13.364Z"
   },
   {
    "duration": 283,
    "start_time": "2022-05-17T18:13:52.540Z"
   },
   {
    "duration": 8,
    "start_time": "2022-05-17T18:18:04.657Z"
   },
   {
    "duration": 10,
    "start_time": "2022-05-17T18:18:12.496Z"
   },
   {
    "duration": 1278,
    "start_time": "2022-05-17T18:18:23.908Z"
   },
   {
    "duration": 254,
    "start_time": "2022-05-17T18:18:44.495Z"
   },
   {
    "duration": 226,
    "start_time": "2022-05-17T18:19:13.376Z"
   },
   {
    "duration": 226,
    "start_time": "2022-05-17T18:19:48.356Z"
   },
   {
    "duration": 114,
    "start_time": "2022-05-17T18:20:34.477Z"
   },
   {
    "duration": 123,
    "start_time": "2022-05-17T18:20:38.408Z"
   },
   {
    "duration": 195,
    "start_time": "2022-05-17T18:22:47.985Z"
   },
   {
    "duration": 251,
    "start_time": "2022-05-17T18:23:52.914Z"
   },
   {
    "duration": 359,
    "start_time": "2022-05-17T18:24:20.649Z"
   },
   {
    "duration": 364,
    "start_time": "2022-05-17T18:24:29.681Z"
   },
   {
    "duration": 363,
    "start_time": "2022-05-17T18:24:39.449Z"
   },
   {
    "duration": 228,
    "start_time": "2022-05-17T18:25:30.265Z"
   },
   {
    "duration": 137,
    "start_time": "2022-05-17T18:25:41.715Z"
   },
   {
    "duration": 378,
    "start_time": "2022-05-17T18:25:59.000Z"
   },
   {
    "duration": 223,
    "start_time": "2022-05-17T18:26:03.080Z"
   },
   {
    "duration": 214,
    "start_time": "2022-05-17T18:26:17.832Z"
   },
   {
    "duration": 379,
    "start_time": "2022-05-17T18:26:47.929Z"
   },
   {
    "duration": 355,
    "start_time": "2022-05-17T18:27:47.216Z"
   },
   {
    "duration": 570,
    "start_time": "2022-05-17T18:31:00.212Z"
   },
   {
    "duration": 22,
    "start_time": "2022-05-17T18:33:58.097Z"
   },
   {
    "duration": 364,
    "start_time": "2022-05-17T18:34:04.449Z"
   },
   {
    "duration": 170,
    "start_time": "2022-05-17T18:34:16.266Z"
   },
   {
    "duration": 244,
    "start_time": "2022-05-17T18:35:45.965Z"
   },
   {
    "duration": 355,
    "start_time": "2022-05-17T18:35:56.633Z"
   },
   {
    "duration": 361,
    "start_time": "2022-05-17T18:36:07.088Z"
   },
   {
    "duration": 662,
    "start_time": "2022-05-17T18:36:10.216Z"
   },
   {
    "duration": 376,
    "start_time": "2022-05-17T18:36:33.495Z"
   },
   {
    "duration": 158,
    "start_time": "2022-05-17T18:36:40.285Z"
   },
   {
    "duration": 363,
    "start_time": "2022-05-17T18:37:09.037Z"
   },
   {
    "duration": 164,
    "start_time": "2022-05-17T18:37:24.857Z"
   },
   {
    "duration": 156,
    "start_time": "2022-05-17T18:37:38.193Z"
   },
   {
    "duration": 152,
    "start_time": "2022-05-17T18:37:48.621Z"
   },
   {
    "duration": 371,
    "start_time": "2022-05-17T18:37:59.961Z"
   },
   {
    "duration": 360,
    "start_time": "2022-05-17T18:38:21.970Z"
   },
   {
    "duration": 311,
    "start_time": "2022-05-17T18:38:43.664Z"
   },
   {
    "duration": 363,
    "start_time": "2022-05-17T18:38:47.801Z"
   },
   {
    "duration": 370,
    "start_time": "2022-05-17T18:38:55.672Z"
   },
   {
    "duration": 151,
    "start_time": "2022-05-17T18:39:02.796Z"
   },
   {
    "duration": 151,
    "start_time": "2022-05-17T18:39:09.039Z"
   },
   {
    "duration": 361,
    "start_time": "2022-05-17T18:39:28.844Z"
   },
   {
    "duration": 14,
    "start_time": "2022-05-17T18:44:46.821Z"
   },
   {
    "duration": 127,
    "start_time": "2022-05-17T18:45:05.925Z"
   },
   {
    "duration": 133,
    "start_time": "2022-05-17T18:45:14.137Z"
   },
   {
    "duration": 130,
    "start_time": "2022-05-17T18:45:22.597Z"
   },
   {
    "duration": 13,
    "start_time": "2022-05-17T18:46:56.249Z"
   },
   {
    "duration": 5,
    "start_time": "2022-05-17T18:47:42.078Z"
   },
   {
    "duration": 5,
    "start_time": "2022-05-17T18:48:07.109Z"
   },
   {
    "duration": 259,
    "start_time": "2022-05-17T18:48:25.153Z"
   },
   {
    "duration": 122,
    "start_time": "2022-05-17T18:48:37.484Z"
   },
   {
    "duration": 208,
    "start_time": "2022-05-17T18:49:02.561Z"
   },
   {
    "duration": 240,
    "start_time": "2022-05-17T18:53:37.221Z"
   },
   {
    "duration": 279,
    "start_time": "2022-05-17T18:53:51.525Z"
   },
   {
    "duration": 214,
    "start_time": "2022-05-17T18:54:35.442Z"
   },
   {
    "duration": 165,
    "start_time": "2022-05-17T18:54:43.485Z"
   },
   {
    "duration": 1642,
    "start_time": "2022-05-17T18:58:42.868Z"
   },
   {
    "duration": 265,
    "start_time": "2022-05-17T18:58:48.531Z"
   },
   {
    "duration": 381,
    "start_time": "2022-05-17T18:58:54.076Z"
   },
   {
    "duration": 270,
    "start_time": "2022-05-17T18:59:34.640Z"
   },
   {
    "duration": 692,
    "start_time": "2022-05-17T18:59:40.208Z"
   },
   {
    "duration": 129,
    "start_time": "2022-05-17T19:04:29.519Z"
   },
   {
    "duration": 12,
    "start_time": "2022-05-17T19:06:34.284Z"
   },
   {
    "duration": 6,
    "start_time": "2022-05-17T19:06:43.704Z"
   },
   {
    "duration": 7,
    "start_time": "2022-05-17T19:07:16.335Z"
   },
   {
    "duration": 5,
    "start_time": "2022-05-17T19:07:37.899Z"
   },
   {
    "duration": 6,
    "start_time": "2022-05-17T19:07:55.388Z"
   },
   {
    "duration": 3,
    "start_time": "2022-05-18T14:08:29.874Z"
   },
   {
    "duration": 84,
    "start_time": "2022-05-18T14:08:29.879Z"
   },
   {
    "duration": 6,
    "start_time": "2022-05-18T14:08:29.965Z"
   },
   {
    "duration": 100,
    "start_time": "2022-05-18T14:08:29.972Z"
   },
   {
    "duration": 44,
    "start_time": "2022-05-18T14:08:30.074Z"
   },
   {
    "duration": 22,
    "start_time": "2022-05-18T14:08:30.119Z"
   },
   {
    "duration": 24,
    "start_time": "2022-05-18T14:08:30.143Z"
   },
   {
    "duration": 42,
    "start_time": "2022-05-18T14:08:30.169Z"
   },
   {
    "duration": 4,
    "start_time": "2022-05-18T14:08:30.220Z"
   },
   {
    "duration": 12,
    "start_time": "2022-05-18T14:08:30.226Z"
   },
   {
    "duration": 8,
    "start_time": "2022-05-18T14:08:30.242Z"
   },
   {
    "duration": 8,
    "start_time": "2022-05-18T14:08:30.252Z"
   },
   {
    "duration": 170,
    "start_time": "2022-05-18T14:08:30.261Z"
   },
   {
    "duration": 36,
    "start_time": "2022-05-18T14:08:30.433Z"
   },
   {
    "duration": 17,
    "start_time": "2022-05-18T14:08:30.471Z"
   },
   {
    "duration": 34,
    "start_time": "2022-05-18T14:08:30.490Z"
   },
   {
    "duration": 10,
    "start_time": "2022-05-18T14:08:30.526Z"
   },
   {
    "duration": 18,
    "start_time": "2022-05-18T14:08:30.537Z"
   },
   {
    "duration": 15,
    "start_time": "2022-05-18T14:08:30.557Z"
   },
   {
    "duration": 7,
    "start_time": "2022-05-18T14:08:30.573Z"
   },
   {
    "duration": 9,
    "start_time": "2022-05-18T14:08:30.582Z"
   },
   {
    "duration": 26,
    "start_time": "2022-05-18T14:08:30.592Z"
   },
   {
    "duration": 26,
    "start_time": "2022-05-18T14:08:30.620Z"
   },
   {
    "duration": 19,
    "start_time": "2022-05-18T14:08:30.647Z"
   },
   {
    "duration": 8,
    "start_time": "2022-05-18T14:08:30.668Z"
   },
   {
    "duration": 34,
    "start_time": "2022-05-18T14:08:30.678Z"
   },
   {
    "duration": 5,
    "start_time": "2022-05-18T14:08:30.713Z"
   },
   {
    "duration": 16,
    "start_time": "2022-05-18T14:08:30.719Z"
   },
   {
    "duration": 10,
    "start_time": "2022-05-18T14:08:30.740Z"
   },
   {
    "duration": 16,
    "start_time": "2022-05-18T14:08:30.752Z"
   },
   {
    "duration": 306,
    "start_time": "2022-05-18T14:08:30.770Z"
   },
   {
    "duration": 7,
    "start_time": "2022-05-18T14:08:31.078Z"
   },
   {
    "duration": 19,
    "start_time": "2022-05-18T14:08:31.087Z"
   },
   {
    "duration": 29,
    "start_time": "2022-05-18T14:08:31.108Z"
   },
   {
    "duration": 38,
    "start_time": "2022-05-18T14:08:31.139Z"
   },
   {
    "duration": 213,
    "start_time": "2022-05-18T14:08:31.179Z"
   },
   {
    "duration": 254,
    "start_time": "2022-05-18T14:08:31.394Z"
   },
   {
    "duration": 296,
    "start_time": "2022-05-18T14:08:31.650Z"
   },
   {
    "duration": 254,
    "start_time": "2022-05-18T14:08:31.949Z"
   },
   {
    "duration": 373,
    "start_time": "2022-05-18T14:08:32.212Z"
   },
   {
    "duration": 242,
    "start_time": "2022-05-18T14:08:32.587Z"
   },
   {
    "duration": 238,
    "start_time": "2022-05-18T14:08:32.830Z"
   },
   {
    "duration": 225,
    "start_time": "2022-05-18T14:08:33.070Z"
   },
   {
    "duration": 13,
    "start_time": "2022-05-18T14:08:33.296Z"
   },
   {
    "duration": 23,
    "start_time": "2022-05-18T14:08:33.312Z"
   },
   {
    "duration": 6,
    "start_time": "2022-05-18T14:08:33.336Z"
   },
   {
    "duration": 23,
    "start_time": "2022-05-18T14:08:33.343Z"
   },
   {
    "duration": 23,
    "start_time": "2022-05-18T14:08:33.367Z"
   },
   {
    "duration": 5,
    "start_time": "2022-05-18T14:08:33.391Z"
   },
   {
    "duration": 32,
    "start_time": "2022-05-18T14:08:33.398Z"
   },
   {
    "duration": 29,
    "start_time": "2022-05-18T14:08:33.431Z"
   },
   {
    "duration": 13,
    "start_time": "2022-05-18T14:08:33.461Z"
   },
   {
    "duration": 23,
    "start_time": "2022-05-18T14:08:33.475Z"
   },
   {
    "duration": 31,
    "start_time": "2022-05-18T14:08:33.500Z"
   },
   {
    "duration": 24,
    "start_time": "2022-05-18T14:08:33.532Z"
   },
   {
    "duration": 22,
    "start_time": "2022-05-18T14:08:33.557Z"
   },
   {
    "duration": 22,
    "start_time": "2022-05-18T14:08:33.581Z"
   },
   {
    "duration": 32,
    "start_time": "2022-05-18T14:08:33.604Z"
   },
   {
    "duration": 29,
    "start_time": "2022-05-18T14:08:33.637Z"
   },
   {
    "duration": 21,
    "start_time": "2022-05-18T14:08:33.667Z"
   },
   {
    "duration": 42,
    "start_time": "2022-05-18T14:08:33.689Z"
   },
   {
    "duration": 11,
    "start_time": "2022-05-18T14:08:33.733Z"
   },
   {
    "duration": 23,
    "start_time": "2022-05-18T14:08:33.745Z"
   },
   {
    "duration": 25,
    "start_time": "2022-05-18T14:08:33.770Z"
   },
   {
    "duration": 43,
    "start_time": "2022-05-18T14:08:33.797Z"
   },
   {
    "duration": 21,
    "start_time": "2022-05-18T14:08:33.841Z"
   },
   {
    "duration": 35,
    "start_time": "2022-05-18T14:08:33.864Z"
   },
   {
    "duration": 10,
    "start_time": "2022-05-18T14:08:33.901Z"
   },
   {
    "duration": 53,
    "start_time": "2022-05-18T14:08:33.912Z"
   },
   {
    "duration": 4,
    "start_time": "2022-05-18T14:08:33.967Z"
   },
   {
    "duration": 20,
    "start_time": "2022-05-18T14:08:33.973Z"
   },
   {
    "duration": 5,
    "start_time": "2022-05-18T14:08:33.995Z"
   },
   {
    "duration": 17,
    "start_time": "2022-05-18T14:08:34.005Z"
   },
   {
    "duration": 15,
    "start_time": "2022-05-18T14:08:34.024Z"
   },
   {
    "duration": 14,
    "start_time": "2022-05-18T14:08:34.041Z"
   },
   {
    "duration": 60,
    "start_time": "2022-05-18T14:08:34.057Z"
   },
   {
    "duration": 5,
    "start_time": "2022-05-18T14:08:34.119Z"
   },
   {
    "duration": 8,
    "start_time": "2022-05-18T14:08:34.126Z"
   },
   {
    "duration": 13,
    "start_time": "2022-05-18T14:08:34.135Z"
   },
   {
    "duration": 0,
    "start_time": "2022-05-18T14:08:34.150Z"
   },
   {
    "duration": 0,
    "start_time": "2022-05-18T14:08:34.152Z"
   },
   {
    "duration": 0,
    "start_time": "2022-05-18T14:08:34.153Z"
   },
   {
    "duration": 0,
    "start_time": "2022-05-18T14:08:34.155Z"
   },
   {
    "duration": 0,
    "start_time": "2022-05-18T14:08:34.156Z"
   },
   {
    "duration": 0,
    "start_time": "2022-05-18T14:08:34.157Z"
   },
   {
    "duration": 0,
    "start_time": "2022-05-18T14:08:34.159Z"
   },
   {
    "duration": 0,
    "start_time": "2022-05-18T14:08:34.160Z"
   },
   {
    "duration": 0,
    "start_time": "2022-05-18T14:08:34.161Z"
   },
   {
    "duration": 0,
    "start_time": "2022-05-18T14:08:34.163Z"
   },
   {
    "duration": 0,
    "start_time": "2022-05-18T14:08:34.164Z"
   },
   {
    "duration": 4,
    "start_time": "2022-05-18T14:13:35.546Z"
   },
   {
    "duration": 17,
    "start_time": "2022-05-18T14:13:45.399Z"
   },
   {
    "duration": 39,
    "start_time": "2022-05-18T14:36:29.451Z"
   },
   {
    "duration": 53,
    "start_time": "2022-05-18T14:38:45.547Z"
   },
   {
    "duration": 49,
    "start_time": "2022-05-18T15:31:46.741Z"
   },
   {
    "duration": 6,
    "start_time": "2022-05-18T15:37:52.485Z"
   },
   {
    "duration": 7,
    "start_time": "2022-05-18T15:41:22.321Z"
   },
   {
    "duration": 706,
    "start_time": "2022-05-18T19:01:43.572Z"
   },
   {
    "duration": 123,
    "start_time": "2022-05-18T19:01:44.280Z"
   },
   {
    "duration": 13,
    "start_time": "2022-05-18T19:01:44.404Z"
   },
   {
    "duration": 111,
    "start_time": "2022-05-18T19:01:44.419Z"
   },
   {
    "duration": 31,
    "start_time": "2022-05-18T19:01:44.532Z"
   },
   {
    "duration": 25,
    "start_time": "2022-05-18T19:01:44.565Z"
   },
   {
    "duration": 39,
    "start_time": "2022-05-18T19:01:44.592Z"
   },
   {
    "duration": 19,
    "start_time": "2022-05-18T19:01:44.634Z"
   },
   {
    "duration": 11,
    "start_time": "2022-05-18T19:01:44.655Z"
   },
   {
    "duration": 13,
    "start_time": "2022-05-18T19:01:44.669Z"
   },
   {
    "duration": 7,
    "start_time": "2022-05-18T19:01:44.684Z"
   },
   {
    "duration": 7,
    "start_time": "2022-05-18T19:01:44.694Z"
   },
   {
    "duration": 166,
    "start_time": "2022-05-18T19:01:44.703Z"
   },
   {
    "duration": 26,
    "start_time": "2022-05-18T19:01:44.871Z"
   },
   {
    "duration": 6,
    "start_time": "2022-05-18T19:01:44.928Z"
   },
   {
    "duration": 18,
    "start_time": "2022-05-18T19:01:44.936Z"
   },
   {
    "duration": 22,
    "start_time": "2022-05-18T19:01:44.957Z"
   },
   {
    "duration": 19,
    "start_time": "2022-05-18T19:01:44.982Z"
   },
   {
    "duration": 11,
    "start_time": "2022-05-18T19:01:45.004Z"
   },
   {
    "duration": 25,
    "start_time": "2022-05-18T19:01:45.016Z"
   },
   {
    "duration": 29,
    "start_time": "2022-05-18T19:01:45.043Z"
   },
   {
    "duration": 24,
    "start_time": "2022-05-18T19:01:45.074Z"
   },
   {
    "duration": 34,
    "start_time": "2022-05-18T19:01:45.100Z"
   },
   {
    "duration": 12,
    "start_time": "2022-05-18T19:01:45.136Z"
   },
   {
    "duration": 15,
    "start_time": "2022-05-18T19:01:45.150Z"
   },
   {
    "duration": 38,
    "start_time": "2022-05-18T19:01:45.168Z"
   },
   {
    "duration": 103,
    "start_time": "2022-05-18T19:01:45.207Z"
   },
   {
    "duration": 0,
    "start_time": "2022-05-18T19:01:45.314Z"
   },
   {
    "duration": 0,
    "start_time": "2022-05-18T19:01:45.315Z"
   },
   {
    "duration": 0,
    "start_time": "2022-05-18T19:01:45.327Z"
   },
   {
    "duration": 0,
    "start_time": "2022-05-18T19:01:45.329Z"
   },
   {
    "duration": 0,
    "start_time": "2022-05-18T19:01:45.330Z"
   },
   {
    "duration": 0,
    "start_time": "2022-05-18T19:01:45.332Z"
   },
   {
    "duration": 0,
    "start_time": "2022-05-18T19:01:45.333Z"
   },
   {
    "duration": 0,
    "start_time": "2022-05-18T19:01:45.334Z"
   },
   {
    "duration": 0,
    "start_time": "2022-05-18T19:01:45.335Z"
   },
   {
    "duration": 0,
    "start_time": "2022-05-18T19:01:45.336Z"
   },
   {
    "duration": 1,
    "start_time": "2022-05-18T19:01:45.337Z"
   },
   {
    "duration": 0,
    "start_time": "2022-05-18T19:01:45.339Z"
   },
   {
    "duration": 0,
    "start_time": "2022-05-18T19:01:45.340Z"
   },
   {
    "duration": 0,
    "start_time": "2022-05-18T19:01:45.342Z"
   },
   {
    "duration": 0,
    "start_time": "2022-05-18T19:01:45.343Z"
   },
   {
    "duration": 0,
    "start_time": "2022-05-18T19:01:45.345Z"
   },
   {
    "duration": 0,
    "start_time": "2022-05-18T19:01:45.346Z"
   },
   {
    "duration": 0,
    "start_time": "2022-05-18T19:01:45.348Z"
   },
   {
    "duration": 0,
    "start_time": "2022-05-18T19:01:45.349Z"
   },
   {
    "duration": 0,
    "start_time": "2022-05-18T19:01:45.350Z"
   },
   {
    "duration": 0,
    "start_time": "2022-05-18T19:01:45.351Z"
   },
   {
    "duration": 0,
    "start_time": "2022-05-18T19:01:45.353Z"
   },
   {
    "duration": 0,
    "start_time": "2022-05-18T19:01:45.354Z"
   },
   {
    "duration": 0,
    "start_time": "2022-05-18T19:01:45.355Z"
   },
   {
    "duration": 0,
    "start_time": "2022-05-18T19:01:45.356Z"
   },
   {
    "duration": 0,
    "start_time": "2022-05-18T19:01:45.358Z"
   },
   {
    "duration": 0,
    "start_time": "2022-05-18T19:01:45.359Z"
   },
   {
    "duration": 0,
    "start_time": "2022-05-18T19:01:45.360Z"
   },
   {
    "duration": 0,
    "start_time": "2022-05-18T19:01:45.362Z"
   },
   {
    "duration": 0,
    "start_time": "2022-05-18T19:01:45.363Z"
   },
   {
    "duration": 0,
    "start_time": "2022-05-18T19:01:45.364Z"
   },
   {
    "duration": 0,
    "start_time": "2022-05-18T19:01:45.365Z"
   },
   {
    "duration": 0,
    "start_time": "2022-05-18T19:01:45.366Z"
   },
   {
    "duration": 0,
    "start_time": "2022-05-18T19:01:45.367Z"
   },
   {
    "duration": 0,
    "start_time": "2022-05-18T19:01:45.368Z"
   },
   {
    "duration": 0,
    "start_time": "2022-05-18T19:01:45.369Z"
   },
   {
    "duration": 0,
    "start_time": "2022-05-18T19:01:45.370Z"
   },
   {
    "duration": 0,
    "start_time": "2022-05-18T19:01:45.371Z"
   },
   {
    "duration": 0,
    "start_time": "2022-05-18T19:01:45.371Z"
   },
   {
    "duration": 0,
    "start_time": "2022-05-18T19:01:45.372Z"
   },
   {
    "duration": 0,
    "start_time": "2022-05-18T19:01:45.372Z"
   },
   {
    "duration": 0,
    "start_time": "2022-05-18T19:01:45.373Z"
   },
   {
    "duration": 0,
    "start_time": "2022-05-18T19:01:45.427Z"
   },
   {
    "duration": 0,
    "start_time": "2022-05-18T19:01:45.429Z"
   },
   {
    "duration": 0,
    "start_time": "2022-05-18T19:01:45.431Z"
   },
   {
    "duration": 0,
    "start_time": "2022-05-18T19:01:45.432Z"
   },
   {
    "duration": 0,
    "start_time": "2022-05-18T19:01:45.433Z"
   },
   {
    "duration": 0,
    "start_time": "2022-05-18T19:01:45.434Z"
   },
   {
    "duration": 0,
    "start_time": "2022-05-18T19:01:45.435Z"
   },
   {
    "duration": 0,
    "start_time": "2022-05-18T19:01:45.437Z"
   },
   {
    "duration": 0,
    "start_time": "2022-05-18T19:01:45.439Z"
   },
   {
    "duration": 0,
    "start_time": "2022-05-18T19:01:45.440Z"
   },
   {
    "duration": 1,
    "start_time": "2022-05-18T19:01:45.441Z"
   },
   {
    "duration": 0,
    "start_time": "2022-05-18T19:01:45.443Z"
   },
   {
    "duration": 0,
    "start_time": "2022-05-18T19:01:45.444Z"
   },
   {
    "duration": 0,
    "start_time": "2022-05-18T19:01:45.446Z"
   },
   {
    "duration": 0,
    "start_time": "2022-05-18T19:01:45.447Z"
   },
   {
    "duration": 0,
    "start_time": "2022-05-18T19:01:45.447Z"
   },
   {
    "duration": 0,
    "start_time": "2022-05-18T19:01:45.449Z"
   },
   {
    "duration": 0,
    "start_time": "2022-05-18T19:01:45.450Z"
   },
   {
    "duration": 0,
    "start_time": "2022-05-18T19:01:45.451Z"
   },
   {
    "duration": 0,
    "start_time": "2022-05-18T19:01:45.452Z"
   },
   {
    "duration": 0,
    "start_time": "2022-05-18T19:01:45.454Z"
   },
   {
    "duration": 11,
    "start_time": "2022-05-18T19:03:23.008Z"
   },
   {
    "duration": 5,
    "start_time": "2022-05-18T19:03:27.465Z"
   },
   {
    "duration": 6,
    "start_time": "2022-05-18T19:03:28.251Z"
   },
   {
    "duration": 6,
    "start_time": "2022-05-18T19:03:28.539Z"
   },
   {
    "duration": 6,
    "start_time": "2022-05-18T19:03:28.890Z"
   },
   {
    "duration": 273,
    "start_time": "2022-05-18T19:03:29.343Z"
   },
   {
    "duration": 7,
    "start_time": "2022-05-18T19:03:29.890Z"
   },
   {
    "duration": 5,
    "start_time": "2022-05-18T19:03:32.310Z"
   },
   {
    "duration": 6,
    "start_time": "2022-05-18T19:03:34.177Z"
   },
   {
    "duration": 29,
    "start_time": "2022-05-18T19:03:35.490Z"
   },
   {
    "duration": 680,
    "start_time": "2022-05-18T19:04:31.362Z"
   },
   {
    "duration": 216,
    "start_time": "2022-05-18T19:04:32.678Z"
   },
   {
    "duration": 294,
    "start_time": "2022-05-18T19:04:33.956Z"
   },
   {
    "duration": 236,
    "start_time": "2022-05-18T19:04:34.427Z"
   },
   {
    "duration": 256,
    "start_time": "2022-05-18T19:04:35.123Z"
   },
   {
    "duration": 223,
    "start_time": "2022-05-18T19:04:35.432Z"
   },
   {
    "duration": 226,
    "start_time": "2022-05-18T19:04:35.657Z"
   },
   {
    "duration": 230,
    "start_time": "2022-05-18T19:04:35.885Z"
   },
   {
    "duration": 16,
    "start_time": "2022-05-18T19:04:36.116Z"
   },
   {
    "duration": 15,
    "start_time": "2022-05-18T19:04:40.511Z"
   },
   {
    "duration": 7,
    "start_time": "2022-05-18T19:05:22.237Z"
   },
   {
    "duration": 7,
    "start_time": "2022-05-18T19:05:24.216Z"
   },
   {
    "duration": 8,
    "start_time": "2022-05-18T19:05:24.763Z"
   },
   {
    "duration": 98,
    "start_time": "2022-05-18T19:05:27.646Z"
   },
   {
    "duration": 7,
    "start_time": "2022-05-18T19:05:29.085Z"
   },
   {
    "duration": 6,
    "start_time": "2022-05-18T19:05:30.986Z"
   },
   {
    "duration": 12,
    "start_time": "2022-05-18T19:05:31.759Z"
   },
   {
    "duration": 13,
    "start_time": "2022-05-18T19:05:34.011Z"
   },
   {
    "duration": 8,
    "start_time": "2022-05-18T19:05:36.255Z"
   },
   {
    "duration": 7,
    "start_time": "2022-05-18T19:05:36.747Z"
   },
   {
    "duration": 9,
    "start_time": "2022-05-18T19:05:37.227Z"
   },
   {
    "duration": 8,
    "start_time": "2022-05-18T19:05:39.487Z"
   },
   {
    "duration": 6,
    "start_time": "2022-05-18T19:05:39.734Z"
   },
   {
    "duration": 6,
    "start_time": "2022-05-18T19:05:42.358Z"
   },
   {
    "duration": 7,
    "start_time": "2022-05-18T19:05:43.874Z"
   },
   {
    "duration": 9,
    "start_time": "2022-05-18T19:05:45.103Z"
   },
   {
    "duration": 14,
    "start_time": "2022-05-18T19:05:50.176Z"
   },
   {
    "duration": 44,
    "start_time": "2022-05-18T19:06:20.655Z"
   },
   {
    "duration": 25,
    "start_time": "2022-05-18T19:06:36.149Z"
   },
   {
    "duration": 16,
    "start_time": "2022-05-18T19:06:54.255Z"
   },
   {
    "duration": 4,
    "start_time": "2022-05-18T19:07:06.216Z"
   },
   {
    "duration": 4,
    "start_time": "2022-05-18T19:07:19.949Z"
   },
   {
    "duration": 147,
    "start_time": "2022-05-18T19:08:17.327Z"
   },
   {
    "duration": 139,
    "start_time": "2022-05-18T19:08:32.362Z"
   },
   {
    "duration": 374,
    "start_time": "2022-05-18T19:10:09.942Z"
   },
   {
    "duration": 397,
    "start_time": "2022-05-18T19:10:19.608Z"
   },
   {
    "duration": 131,
    "start_time": "2022-05-18T19:10:24.498Z"
   },
   {
    "duration": 144,
    "start_time": "2022-05-18T19:12:44.170Z"
   },
   {
    "duration": 160,
    "start_time": "2022-05-18T19:14:23.310Z"
   },
   {
    "duration": 138,
    "start_time": "2022-05-18T19:15:38.374Z"
   },
   {
    "duration": 3,
    "start_time": "2022-05-18T19:16:41.974Z"
   },
   {
    "duration": 2,
    "start_time": "2022-05-18T19:28:36.142Z"
   },
   {
    "duration": 93,
    "start_time": "2022-05-18T19:29:38.808Z"
   },
   {
    "duration": 109,
    "start_time": "2022-05-18T19:30:30.178Z"
   },
   {
    "duration": 152,
    "start_time": "2022-05-18T19:30:58.246Z"
   },
   {
    "duration": 105,
    "start_time": "2022-05-18T19:31:32.649Z"
   },
   {
    "duration": 373,
    "start_time": "2022-05-18T19:31:53.990Z"
   },
   {
    "duration": 3,
    "start_time": "2022-05-18T19:31:54.465Z"
   },
   {
    "duration": 254,
    "start_time": "2022-05-18T19:31:55.754Z"
   },
   {
    "duration": 73,
    "start_time": "2022-05-18T19:31:59.541Z"
   },
   {
    "duration": 10,
    "start_time": "2022-05-18T19:31:59.958Z"
   },
   {
    "duration": 102,
    "start_time": "2022-05-18T19:32:01.417Z"
   },
   {
    "duration": 28,
    "start_time": "2022-05-18T19:32:01.737Z"
   },
   {
    "duration": 29,
    "start_time": "2022-05-18T19:32:02.281Z"
   },
   {
    "duration": 23,
    "start_time": "2022-05-18T19:32:05.721Z"
   },
   {
    "duration": 25,
    "start_time": "2022-05-18T19:32:06.885Z"
   },
   {
    "duration": 7,
    "start_time": "2022-05-18T19:32:07.860Z"
   },
   {
    "duration": 8,
    "start_time": "2022-05-18T19:32:08.270Z"
   },
   {
    "duration": 5,
    "start_time": "2022-05-18T19:32:09.182Z"
   },
   {
    "duration": 5,
    "start_time": "2022-05-18T19:32:09.669Z"
   },
   {
    "duration": 94,
    "start_time": "2022-05-18T19:32:10.181Z"
   },
   {
    "duration": 26,
    "start_time": "2022-05-18T19:32:10.754Z"
   },
   {
    "duration": 6,
    "start_time": "2022-05-18T19:32:12.594Z"
   },
   {
    "duration": 23,
    "start_time": "2022-05-18T19:32:13.261Z"
   },
   {
    "duration": 11,
    "start_time": "2022-05-18T19:32:15.975Z"
   },
   {
    "duration": 14,
    "start_time": "2022-05-18T19:32:16.223Z"
   },
   {
    "duration": 9,
    "start_time": "2022-05-18T19:32:16.370Z"
   },
   {
    "duration": 7,
    "start_time": "2022-05-18T19:32:16.513Z"
   },
   {
    "duration": 6,
    "start_time": "2022-05-18T19:32:16.646Z"
   },
   {
    "duration": 7,
    "start_time": "2022-05-18T19:32:16.780Z"
   },
   {
    "duration": 9,
    "start_time": "2022-05-18T19:32:16.925Z"
   },
   {
    "duration": 21,
    "start_time": "2022-05-18T19:32:17.345Z"
   },
   {
    "duration": 9,
    "start_time": "2022-05-18T19:32:17.849Z"
   },
   {
    "duration": 5,
    "start_time": "2022-05-18T19:32:18.741Z"
   },
   {
    "duration": 34,
    "start_time": "2022-05-18T19:32:19.241Z"
   },
   {
    "duration": 5,
    "start_time": "2022-05-18T19:32:46.030Z"
   },
   {
    "duration": 6,
    "start_time": "2022-05-18T19:32:46.517Z"
   },
   {
    "duration": 6,
    "start_time": "2022-05-18T19:32:47.017Z"
   },
   {
    "duration": 5,
    "start_time": "2022-05-18T19:32:47.435Z"
   },
   {
    "duration": 266,
    "start_time": "2022-05-18T19:32:47.896Z"
   },
   {
    "duration": 7,
    "start_time": "2022-05-18T19:32:48.801Z"
   },
   {
    "duration": 5,
    "start_time": "2022-05-18T19:32:49.341Z"
   },
   {
    "duration": 4,
    "start_time": "2022-05-18T19:32:49.790Z"
   },
   {
    "duration": 31,
    "start_time": "2022-05-18T19:32:50.330Z"
   },
   {
    "duration": 227,
    "start_time": "2022-05-18T19:33:18.057Z"
   },
   {
    "duration": 244,
    "start_time": "2022-05-18T19:33:20.974Z"
   },
   {
    "duration": 237,
    "start_time": "2022-05-18T19:33:21.849Z"
   },
   {
    "duration": 295,
    "start_time": "2022-05-18T19:33:22.772Z"
   },
   {
    "duration": 255,
    "start_time": "2022-05-18T19:33:24.573Z"
   },
   {
    "duration": 232,
    "start_time": "2022-05-18T19:33:25.009Z"
   },
   {
    "duration": 216,
    "start_time": "2022-05-18T19:33:25.573Z"
   },
   {
    "duration": 290,
    "start_time": "2022-05-18T19:33:26.073Z"
   },
   {
    "duration": 7,
    "start_time": "2022-05-18T19:33:26.897Z"
   },
   {
    "duration": 106,
    "start_time": "2022-05-18T19:33:35.657Z"
   },
   {
    "duration": 206,
    "start_time": "2022-05-18T19:35:15.970Z"
   },
   {
    "duration": 15,
    "start_time": "2022-05-18T19:36:38.112Z"
   },
   {
    "duration": 6,
    "start_time": "2022-05-18T19:37:12.030Z"
   },
   {
    "duration": 12,
    "start_time": "2022-05-18T19:38:00.198Z"
   },
   {
    "duration": 135,
    "start_time": "2022-05-18T19:38:06.278Z"
   },
   {
    "duration": 7,
    "start_time": "2022-05-18T19:38:33.646Z"
   },
   {
    "duration": 6,
    "start_time": "2022-05-18T19:39:29.558Z"
   },
   {
    "duration": 8,
    "start_time": "2022-05-18T19:39:32.946Z"
   },
   {
    "duration": 12,
    "start_time": "2022-05-18T19:39:37.095Z"
   },
   {
    "duration": 8,
    "start_time": "2022-05-18T19:39:38.690Z"
   },
   {
    "duration": 187,
    "start_time": "2022-05-18T19:39:54.875Z"
   },
   {
    "duration": 168,
    "start_time": "2022-05-18T19:40:52.494Z"
   },
   {
    "duration": 7,
    "start_time": "2022-05-18T19:41:01.531Z"
   },
   {
    "duration": 9,
    "start_time": "2022-05-18T19:41:07.131Z"
   },
   {
    "duration": 16,
    "start_time": "2022-05-18T19:42:08.990Z"
   },
   {
    "duration": 457,
    "start_time": "2022-05-18T19:42:25.090Z"
   },
   {
    "duration": 3,
    "start_time": "2022-05-18T19:42:25.549Z"
   },
   {
    "duration": 295,
    "start_time": "2022-05-18T19:42:25.555Z"
   },
   {
    "duration": 103,
    "start_time": "2022-05-18T19:42:26.634Z"
   },
   {
    "duration": 13,
    "start_time": "2022-05-18T19:42:26.778Z"
   },
   {
    "duration": 95,
    "start_time": "2022-05-18T19:42:27.045Z"
   },
   {
    "duration": 32,
    "start_time": "2022-05-18T19:42:27.161Z"
   },
   {
    "duration": 40,
    "start_time": "2022-05-18T19:42:27.286Z"
   },
   {
    "duration": 24,
    "start_time": "2022-05-18T19:42:28.006Z"
   },
   {
    "duration": 29,
    "start_time": "2022-05-18T19:42:28.282Z"
   },
   {
    "duration": 6,
    "start_time": "2022-05-18T19:42:28.534Z"
   },
   {
    "duration": 8,
    "start_time": "2022-05-18T19:42:28.666Z"
   },
   {
    "duration": 6,
    "start_time": "2022-05-18T19:42:28.930Z"
   },
   {
    "duration": 4,
    "start_time": "2022-05-18T19:42:29.087Z"
   },
   {
    "duration": 152,
    "start_time": "2022-05-18T19:42:29.217Z"
   },
   {
    "duration": 30,
    "start_time": "2022-05-18T19:42:29.371Z"
   },
   {
    "duration": 5,
    "start_time": "2022-05-18T19:42:29.785Z"
   },
   {
    "duration": 16,
    "start_time": "2022-05-18T19:42:29.970Z"
   },
   {
    "duration": 10,
    "start_time": "2022-05-18T19:42:30.890Z"
   },
   {
    "duration": 13,
    "start_time": "2022-05-18T19:42:31.294Z"
   },
   {
    "duration": 11,
    "start_time": "2022-05-18T19:42:31.429Z"
   },
   {
    "duration": 9,
    "start_time": "2022-05-18T19:42:31.561Z"
   },
   {
    "duration": 6,
    "start_time": "2022-05-18T19:42:31.692Z"
   },
   {
    "duration": 10,
    "start_time": "2022-05-18T19:42:31.821Z"
   },
   {
    "duration": 12,
    "start_time": "2022-05-18T19:42:31.953Z"
   },
   {
    "duration": 31,
    "start_time": "2022-05-18T19:42:32.082Z"
   },
   {
    "duration": 12,
    "start_time": "2022-05-18T19:42:32.226Z"
   },
   {
    "duration": 6,
    "start_time": "2022-05-18T19:42:32.353Z"
   },
   {
    "duration": 42,
    "start_time": "2022-05-18T19:42:32.509Z"
   },
   {
    "duration": 6,
    "start_time": "2022-05-18T19:42:34.471Z"
   },
   {
    "duration": 6,
    "start_time": "2022-05-18T19:42:34.606Z"
   },
   {
    "duration": 6,
    "start_time": "2022-05-18T19:42:34.739Z"
   },
   {
    "duration": 7,
    "start_time": "2022-05-18T19:42:34.879Z"
   },
   {
    "duration": 284,
    "start_time": "2022-05-18T19:42:35.018Z"
   },
   {
    "duration": 7,
    "start_time": "2022-05-18T19:42:35.305Z"
   },
   {
    "duration": 16,
    "start_time": "2022-05-18T19:42:35.314Z"
   },
   {
    "duration": 5,
    "start_time": "2022-05-18T19:42:35.774Z"
   },
   {
    "duration": 33,
    "start_time": "2022-05-18T19:42:35.962Z"
   },
   {
    "duration": 237,
    "start_time": "2022-05-18T19:42:36.758Z"
   },
   {
    "duration": 236,
    "start_time": "2022-05-18T19:42:37.593Z"
   },
   {
    "duration": 274,
    "start_time": "2022-05-18T19:42:37.962Z"
   },
   {
    "duration": 363,
    "start_time": "2022-05-18T19:42:38.254Z"
   },
   {
    "duration": 262,
    "start_time": "2022-05-18T19:42:39.059Z"
   },
   {
    "duration": 295,
    "start_time": "2022-05-18T19:42:39.328Z"
   },
   {
    "duration": 369,
    "start_time": "2022-05-18T19:42:39.627Z"
   },
   {
    "duration": 321,
    "start_time": "2022-05-18T19:42:39.999Z"
   },
   {
    "duration": 7,
    "start_time": "2022-05-18T19:42:43.790Z"
   },
   {
    "duration": 159,
    "start_time": "2022-05-18T19:42:45.129Z"
   },
   {
    "duration": 13,
    "start_time": "2022-05-18T19:42:50.445Z"
   },
   {
    "duration": 9,
    "start_time": "2022-05-18T19:43:03.536Z"
   },
   {
    "duration": 9,
    "start_time": "2022-05-18T19:43:10.583Z"
   },
   {
    "duration": 8,
    "start_time": "2022-05-18T19:43:25.418Z"
   },
   {
    "duration": 127,
    "start_time": "2022-05-18T19:43:50.247Z"
   },
   {
    "duration": 31,
    "start_time": "2022-05-18T19:44:03.887Z"
   },
   {
    "duration": 9,
    "start_time": "2022-05-18T19:44:18.062Z"
   },
   {
    "duration": 123,
    "start_time": "2022-05-18T19:44:38.243Z"
   },
   {
    "duration": 190,
    "start_time": "2022-05-18T19:45:14.731Z"
   },
   {
    "duration": 7,
    "start_time": "2022-05-18T19:45:52.795Z"
   },
   {
    "duration": 10,
    "start_time": "2022-05-18T19:46:42.464Z"
   },
   {
    "duration": 8,
    "start_time": "2022-05-18T19:47:01.155Z"
   },
   {
    "duration": 10,
    "start_time": "2022-05-18T19:48:08.159Z"
   },
   {
    "duration": 100,
    "start_time": "2022-05-18T19:48:09.154Z"
   },
   {
    "duration": 234,
    "start_time": "2022-05-18T19:49:53.886Z"
   },
   {
    "duration": 5,
    "start_time": "2022-05-18T19:50:19.294Z"
   },
   {
    "duration": 40,
    "start_time": "2022-05-18T19:51:02.175Z"
   },
   {
    "duration": 241,
    "start_time": "2022-05-18T19:51:26.013Z"
   },
   {
    "duration": 268,
    "start_time": "2022-05-18T19:52:38.407Z"
   },
   {
    "duration": 1501,
    "start_time": "2022-05-18T19:52:52.830Z"
   },
   {
    "duration": 223,
    "start_time": "2022-05-18T19:52:56.947Z"
   },
   {
    "duration": 421,
    "start_time": "2022-05-18T19:58:23.923Z"
   },
   {
    "duration": 3,
    "start_time": "2022-05-18T19:58:24.345Z"
   },
   {
    "duration": 270,
    "start_time": "2022-05-18T19:58:24.929Z"
   },
   {
    "duration": 87,
    "start_time": "2022-05-18T19:58:25.392Z"
   },
   {
    "duration": 13,
    "start_time": "2022-05-18T19:58:25.542Z"
   },
   {
    "duration": 93,
    "start_time": "2022-05-18T19:58:25.763Z"
   },
   {
    "duration": 25,
    "start_time": "2022-05-18T19:58:25.887Z"
   },
   {
    "duration": 31,
    "start_time": "2022-05-18T19:58:26.020Z"
   },
   {
    "duration": 33,
    "start_time": "2022-05-18T19:58:27.127Z"
   },
   {
    "duration": 21,
    "start_time": "2022-05-18T19:58:27.801Z"
   },
   {
    "duration": 8,
    "start_time": "2022-05-18T19:58:28.123Z"
   },
   {
    "duration": 7,
    "start_time": "2022-05-18T19:58:28.325Z"
   },
   {
    "duration": 5,
    "start_time": "2022-05-18T19:58:28.659Z"
   },
   {
    "duration": 4,
    "start_time": "2022-05-18T19:58:28.800Z"
   },
   {
    "duration": 116,
    "start_time": "2022-05-18T19:58:28.938Z"
   },
   {
    "duration": 22,
    "start_time": "2022-05-18T19:58:29.059Z"
   },
   {
    "duration": 6,
    "start_time": "2022-05-18T19:58:29.655Z"
   },
   {
    "duration": 12,
    "start_time": "2022-05-18T19:58:29.904Z"
   },
   {
    "duration": 11,
    "start_time": "2022-05-18T19:58:31.244Z"
   },
   {
    "duration": 12,
    "start_time": "2022-05-18T19:58:31.688Z"
   },
   {
    "duration": 23,
    "start_time": "2022-05-18T19:58:31.920Z"
   },
   {
    "duration": 10,
    "start_time": "2022-05-18T19:58:32.123Z"
   },
   {
    "duration": 9,
    "start_time": "2022-05-18T19:58:32.340Z"
   },
   {
    "duration": 11,
    "start_time": "2022-05-18T19:58:32.588Z"
   },
   {
    "duration": 7,
    "start_time": "2022-05-18T19:58:32.784Z"
   },
   {
    "duration": 19,
    "start_time": "2022-05-18T19:58:32.960Z"
   },
   {
    "duration": 12,
    "start_time": "2022-05-18T19:58:33.576Z"
   },
   {
    "duration": 5,
    "start_time": "2022-05-18T19:58:33.945Z"
   },
   {
    "duration": 30,
    "start_time": "2022-05-18T19:58:34.242Z"
   },
   {
    "duration": 5,
    "start_time": "2022-05-18T19:58:36.155Z"
   },
   {
    "duration": 6,
    "start_time": "2022-05-18T19:58:36.417Z"
   },
   {
    "duration": 6,
    "start_time": "2022-05-18T19:58:36.591Z"
   },
   {
    "duration": 6,
    "start_time": "2022-05-18T19:58:36.887Z"
   },
   {
    "duration": 273,
    "start_time": "2022-05-18T19:58:37.408Z"
   },
   {
    "duration": 8,
    "start_time": "2022-05-18T19:58:41.816Z"
   },
   {
    "duration": 4,
    "start_time": "2022-05-18T19:58:43.296Z"
   },
   {
    "duration": 5,
    "start_time": "2022-05-18T19:58:43.772Z"
   },
   {
    "duration": 31,
    "start_time": "2022-05-18T19:58:44.245Z"
   },
   {
    "duration": 248,
    "start_time": "2022-05-18T19:58:46.223Z"
   },
   {
    "duration": 218,
    "start_time": "2022-05-18T19:58:47.744Z"
   },
   {
    "duration": 241,
    "start_time": "2022-05-18T19:58:51.743Z"
   },
   {
    "duration": 334,
    "start_time": "2022-05-18T19:59:01.488Z"
   },
   {
    "duration": 303,
    "start_time": "2022-05-18T19:59:39.204Z"
   },
   {
    "duration": 250,
    "start_time": "2022-05-18T19:59:50.164Z"
   },
   {
    "duration": 245,
    "start_time": "2022-05-18T19:59:53.320Z"
   },
   {
    "duration": 260,
    "start_time": "2022-05-18T19:59:53.942Z"
   },
   {
    "duration": 7,
    "start_time": "2022-05-18T19:59:55.801Z"
   },
   {
    "duration": 128,
    "start_time": "2022-05-18T19:59:58.108Z"
   },
   {
    "duration": 13,
    "start_time": "2022-05-18T20:00:00.739Z"
   },
   {
    "duration": 5,
    "start_time": "2022-05-18T20:00:29.180Z"
   },
   {
    "duration": 12,
    "start_time": "2022-05-18T20:00:31.737Z"
   },
   {
    "duration": 224,
    "start_time": "2022-05-18T20:00:35.110Z"
   },
   {
    "duration": 6,
    "start_time": "2022-05-18T20:00:38.342Z"
   },
   {
    "duration": 312,
    "start_time": "2022-05-18T20:00:46.196Z"
   },
   {
    "duration": 6,
    "start_time": "2022-05-18T20:01:21.125Z"
   },
   {
    "duration": 11,
    "start_time": "2022-05-18T20:01:32.618Z"
   },
   {
    "duration": 104,
    "start_time": "2022-05-18T20:01:34.408Z"
   },
   {
    "duration": 5,
    "start_time": "2022-05-18T20:02:21.340Z"
   },
   {
    "duration": 7,
    "start_time": "2022-05-18T20:02:30.581Z"
   },
   {
    "duration": 6,
    "start_time": "2022-05-18T20:02:38.541Z"
   },
   {
    "duration": 5,
    "start_time": "2022-05-18T20:04:04.554Z"
   },
   {
    "duration": 5,
    "start_time": "2022-05-18T20:04:42.394Z"
   },
   {
    "duration": 114,
    "start_time": "2022-05-18T20:05:01.093Z"
   },
   {
    "duration": 11,
    "start_time": "2022-05-18T20:05:17.919Z"
   },
   {
    "duration": 103,
    "start_time": "2022-05-18T20:05:20.379Z"
   },
   {
    "duration": 6,
    "start_time": "2022-05-18T20:05:55.729Z"
   },
   {
    "duration": 104,
    "start_time": "2022-05-18T20:06:01.979Z"
   },
   {
    "duration": 14,
    "start_time": "2022-05-18T20:06:28.724Z"
   },
   {
    "duration": 9,
    "start_time": "2022-05-18T20:06:46.205Z"
   },
   {
    "duration": 5,
    "start_time": "2022-05-18T20:06:53.189Z"
   },
   {
    "duration": 5,
    "start_time": "2022-05-18T20:07:02.572Z"
   },
   {
    "duration": 105,
    "start_time": "2022-05-18T20:07:09.764Z"
   },
   {
    "duration": 10,
    "start_time": "2022-05-18T20:07:38.441Z"
   },
   {
    "duration": 6,
    "start_time": "2022-05-18T20:07:43.076Z"
   },
   {
    "duration": 10,
    "start_time": "2022-05-18T20:07:49.280Z"
   },
   {
    "duration": 112,
    "start_time": "2022-05-18T20:07:57.049Z"
   },
   {
    "duration": 5,
    "start_time": "2022-05-18T20:08:09.177Z"
   },
   {
    "duration": 10,
    "start_time": "2022-05-18T20:08:21.894Z"
   },
   {
    "duration": 152,
    "start_time": "2022-05-18T20:08:26.515Z"
   },
   {
    "duration": 6,
    "start_time": "2022-05-18T20:08:43.172Z"
   },
   {
    "duration": 8,
    "start_time": "2022-05-18T20:09:00.258Z"
   },
   {
    "duration": 136,
    "start_time": "2022-05-18T20:09:05.061Z"
   },
   {
    "duration": 6,
    "start_time": "2022-05-18T20:09:38.978Z"
   },
   {
    "duration": 12,
    "start_time": "2022-05-18T20:09:43.904Z"
   },
   {
    "duration": 127,
    "start_time": "2022-05-18T20:09:44.765Z"
   },
   {
    "duration": 6,
    "start_time": "2022-05-18T20:10:05.392Z"
   },
   {
    "duration": 113,
    "start_time": "2022-05-18T20:10:39.479Z"
   },
   {
    "duration": 5,
    "start_time": "2022-05-18T20:10:50.132Z"
   },
   {
    "duration": 4,
    "start_time": "2022-05-18T20:12:29.291Z"
   },
   {
    "duration": 3,
    "start_time": "2022-05-18T20:12:34.341Z"
   },
   {
    "duration": 441,
    "start_time": "2022-05-18T20:13:40.433Z"
   },
   {
    "duration": 3,
    "start_time": "2022-05-18T20:13:40.880Z"
   },
   {
    "duration": 280,
    "start_time": "2022-05-18T20:13:41.415Z"
   },
   {
    "duration": 87,
    "start_time": "2022-05-18T20:13:42.196Z"
   },
   {
    "duration": 12,
    "start_time": "2022-05-18T20:13:42.371Z"
   },
   {
    "duration": 94,
    "start_time": "2022-05-18T20:13:42.655Z"
   },
   {
    "duration": 34,
    "start_time": "2022-05-18T20:13:42.776Z"
   },
   {
    "duration": 25,
    "start_time": "2022-05-18T20:13:42.903Z"
   },
   {
    "duration": 32,
    "start_time": "2022-05-18T20:13:43.666Z"
   },
   {
    "duration": 27,
    "start_time": "2022-05-18T20:13:43.981Z"
   },
   {
    "duration": 4,
    "start_time": "2022-05-18T20:13:44.252Z"
   },
   {
    "duration": 5,
    "start_time": "2022-05-18T20:13:44.387Z"
   },
   {
    "duration": 4,
    "start_time": "2022-05-18T20:13:44.744Z"
   },
   {
    "duration": 7,
    "start_time": "2022-05-18T20:13:44.946Z"
   },
   {
    "duration": 131,
    "start_time": "2022-05-18T20:13:45.615Z"
   },
   {
    "duration": 29,
    "start_time": "2022-05-18T20:13:45.841Z"
   },
   {
    "duration": 4,
    "start_time": "2022-05-18T20:13:47.716Z"
   },
   {
    "duration": 11,
    "start_time": "2022-05-18T20:13:47.907Z"
   },
   {
    "duration": 8,
    "start_time": "2022-05-18T20:13:48.363Z"
   },
   {
    "duration": 10,
    "start_time": "2022-05-18T20:13:48.495Z"
   },
   {
    "duration": 7,
    "start_time": "2022-05-18T20:13:48.842Z"
   },
   {
    "duration": 7,
    "start_time": "2022-05-18T20:13:49.004Z"
   },
   {
    "duration": 6,
    "start_time": "2022-05-18T20:13:49.155Z"
   },
   {
    "duration": 10,
    "start_time": "2022-05-18T20:13:49.283Z"
   },
   {
    "duration": 7,
    "start_time": "2022-05-18T20:13:49.443Z"
   },
   {
    "duration": 20,
    "start_time": "2022-05-18T20:13:49.587Z"
   },
   {
    "duration": 9,
    "start_time": "2022-05-18T20:13:49.779Z"
   },
   {
    "duration": 6,
    "start_time": "2022-05-18T20:13:50.365Z"
   },
   {
    "duration": 33,
    "start_time": "2022-05-18T20:13:50.882Z"
   },
   {
    "duration": 5,
    "start_time": "2022-05-18T20:13:52.799Z"
   },
   {
    "duration": 5,
    "start_time": "2022-05-18T20:13:53.179Z"
   },
   {
    "duration": 5,
    "start_time": "2022-05-18T20:13:53.484Z"
   },
   {
    "duration": 5,
    "start_time": "2022-05-18T20:13:53.695Z"
   },
   {
    "duration": 283,
    "start_time": "2022-05-18T20:13:54.072Z"
   },
   {
    "duration": 6,
    "start_time": "2022-05-18T20:13:54.399Z"
   },
   {
    "duration": 5,
    "start_time": "2022-05-18T20:13:54.743Z"
   },
   {
    "duration": 4,
    "start_time": "2022-05-18T20:13:55.212Z"
   },
   {
    "duration": 25,
    "start_time": "2022-05-18T20:13:55.549Z"
   },
   {
    "duration": 214,
    "start_time": "2022-05-18T20:13:57.060Z"
   },
   {
    "duration": 235,
    "start_time": "2022-05-18T20:13:57.723Z"
   },
   {
    "duration": 249,
    "start_time": "2022-05-18T20:13:58.093Z"
   },
   {
    "duration": 297,
    "start_time": "2022-05-18T20:13:58.358Z"
   },
   {
    "duration": 243,
    "start_time": "2022-05-18T20:13:58.720Z"
   },
   {
    "duration": 257,
    "start_time": "2022-05-18T20:14:04.897Z"
   },
   {
    "duration": 245,
    "start_time": "2022-05-18T20:14:05.242Z"
   },
   {
    "duration": 249,
    "start_time": "2022-05-18T20:14:07.795Z"
   },
   {
    "duration": 6,
    "start_time": "2022-05-18T20:14:08.707Z"
   },
   {
    "duration": 114,
    "start_time": "2022-05-18T20:14:13.288Z"
   },
   {
    "duration": 13,
    "start_time": "2022-05-18T20:14:20.847Z"
   },
   {
    "duration": 6,
    "start_time": "2022-05-18T20:14:21.915Z"
   },
   {
    "duration": 11,
    "start_time": "2022-05-18T20:14:24.144Z"
   },
   {
    "duration": 19,
    "start_time": "2022-05-18T20:14:24.543Z"
   },
   {
    "duration": 231,
    "start_time": "2022-05-18T20:14:30.440Z"
   },
   {
    "duration": 13,
    "start_time": "2022-05-18T20:14:33.629Z"
   },
   {
    "duration": 280,
    "start_time": "2022-05-18T20:14:37.385Z"
   },
   {
    "duration": 21,
    "start_time": "2022-05-18T20:14:41.820Z"
   },
   {
    "duration": 19,
    "start_time": "2022-05-18T20:14:48.307Z"
   },
   {
    "duration": 110,
    "start_time": "2022-05-18T20:14:54.051Z"
   },
   {
    "duration": 6,
    "start_time": "2022-05-18T20:14:57.755Z"
   },
   {
    "duration": 8,
    "start_time": "2022-05-18T20:15:03.656Z"
   },
   {
    "duration": 123,
    "start_time": "2022-05-18T20:15:04.695Z"
   },
   {
    "duration": 29,
    "start_time": "2022-05-18T20:15:12.424Z"
   },
   {
    "duration": 121,
    "start_time": "2022-05-18T20:15:16.115Z"
   },
   {
    "duration": 5,
    "start_time": "2022-05-18T20:15:18.015Z"
   },
   {
    "duration": 7,
    "start_time": "2022-05-18T20:15:19.644Z"
   },
   {
    "duration": 112,
    "start_time": "2022-05-18T20:15:22.250Z"
   },
   {
    "duration": 6,
    "start_time": "2022-05-18T20:15:27.059Z"
   },
   {
    "duration": 10,
    "start_time": "2022-05-18T20:15:28.980Z"
   },
   {
    "duration": 27,
    "start_time": "2022-05-18T20:15:35.264Z"
   },
   {
    "duration": 3,
    "start_time": "2022-05-19T07:13:18.839Z"
   },
   {
    "duration": 26,
    "start_time": "2022-05-19T07:13:18.845Z"
   },
   {
    "duration": 15,
    "start_time": "2022-05-19T07:13:18.873Z"
   },
   {
    "duration": 95,
    "start_time": "2022-05-19T07:13:18.892Z"
   },
   {
    "duration": 6,
    "start_time": "2022-05-19T07:13:18.990Z"
   },
   {
    "duration": 137,
    "start_time": "2022-05-19T07:13:18.998Z"
   },
   {
    "duration": 22,
    "start_time": "2022-05-19T07:13:19.137Z"
   },
   {
    "duration": 40,
    "start_time": "2022-05-19T07:13:19.161Z"
   },
   {
    "duration": 48,
    "start_time": "2022-05-19T07:13:19.203Z"
   },
   {
    "duration": 26,
    "start_time": "2022-05-19T07:13:19.252Z"
   },
   {
    "duration": 12,
    "start_time": "2022-05-19T07:13:19.281Z"
   },
   {
    "duration": 28,
    "start_time": "2022-05-19T07:13:19.294Z"
   },
   {
    "duration": 21,
    "start_time": "2022-05-19T07:13:19.323Z"
   },
   {
    "duration": 15,
    "start_time": "2022-05-19T07:13:19.346Z"
   },
   {
    "duration": 100,
    "start_time": "2022-05-19T07:13:19.363Z"
   },
   {
    "duration": 48,
    "start_time": "2022-05-19T07:13:19.465Z"
   },
   {
    "duration": 15,
    "start_time": "2022-05-19T07:13:19.514Z"
   },
   {
    "duration": 9,
    "start_time": "2022-05-19T07:13:19.530Z"
   },
   {
    "duration": 25,
    "start_time": "2022-05-19T07:13:19.540Z"
   },
   {
    "duration": 17,
    "start_time": "2022-05-19T07:13:19.566Z"
   },
   {
    "duration": 23,
    "start_time": "2022-05-19T07:13:19.584Z"
   },
   {
    "duration": 17,
    "start_time": "2022-05-19T07:13:19.609Z"
   },
   {
    "duration": 7,
    "start_time": "2022-05-19T07:13:19.627Z"
   },
   {
    "duration": 15,
    "start_time": "2022-05-19T07:13:19.636Z"
   },
   {
    "duration": 30,
    "start_time": "2022-05-19T07:13:19.653Z"
   },
   {
    "duration": 38,
    "start_time": "2022-05-19T07:13:19.684Z"
   },
   {
    "duration": 17,
    "start_time": "2022-05-19T07:13:19.723Z"
   },
   {
    "duration": 22,
    "start_time": "2022-05-19T07:13:19.741Z"
   },
   {
    "duration": 34,
    "start_time": "2022-05-19T07:13:19.767Z"
   },
   {
    "duration": 3,
    "start_time": "2022-05-19T07:13:19.802Z"
   },
   {
    "duration": 14,
    "start_time": "2022-05-19T07:13:19.806Z"
   },
   {
    "duration": 10,
    "start_time": "2022-05-19T07:13:19.822Z"
   },
   {
    "duration": 27,
    "start_time": "2022-05-19T07:13:19.833Z"
   },
   {
    "duration": 382,
    "start_time": "2022-05-19T07:13:19.861Z"
   },
   {
    "duration": 7,
    "start_time": "2022-05-19T07:13:20.245Z"
   },
   {
    "duration": 18,
    "start_time": "2022-05-19T07:13:20.254Z"
   },
   {
    "duration": 21,
    "start_time": "2022-05-19T07:13:20.274Z"
   },
   {
    "duration": 41,
    "start_time": "2022-05-19T07:13:20.296Z"
   },
   {
    "duration": 201,
    "start_time": "2022-05-19T07:13:20.338Z"
   },
   {
    "duration": 253,
    "start_time": "2022-05-19T07:13:20.541Z"
   },
   {
    "duration": 228,
    "start_time": "2022-05-19T07:13:20.795Z"
   },
   {
    "duration": 240,
    "start_time": "2022-05-19T07:13:21.025Z"
   },
   {
    "duration": 352,
    "start_time": "2022-05-19T07:13:21.266Z"
   },
   {
    "duration": 266,
    "start_time": "2022-05-19T07:13:21.620Z"
   },
   {
    "duration": 212,
    "start_time": "2022-05-19T07:13:21.888Z"
   },
   {
    "duration": 225,
    "start_time": "2022-05-19T07:13:22.102Z"
   },
   {
    "duration": 5,
    "start_time": "2022-05-19T07:13:22.329Z"
   },
   {
    "duration": 115,
    "start_time": "2022-05-19T07:13:22.336Z"
   },
   {
    "duration": 10,
    "start_time": "2022-05-19T07:13:22.453Z"
   },
   {
    "duration": 10,
    "start_time": "2022-05-19T07:13:22.465Z"
   },
   {
    "duration": 23,
    "start_time": "2022-05-19T07:13:22.476Z"
   },
   {
    "duration": 120,
    "start_time": "2022-05-19T07:13:22.500Z"
   },
   {
    "duration": 7,
    "start_time": "2022-05-19T07:13:22.621Z"
   },
   {
    "duration": 237,
    "start_time": "2022-05-19T07:13:22.630Z"
   },
   {
    "duration": 10,
    "start_time": "2022-05-19T07:13:22.869Z"
   },
   {
    "duration": 115,
    "start_time": "2022-05-19T07:13:22.880Z"
   },
   {
    "duration": 5,
    "start_time": "2022-05-19T07:13:22.997Z"
   },
   {
    "duration": 12,
    "start_time": "2022-05-19T07:13:23.003Z"
   },
   {
    "duration": 107,
    "start_time": "2022-05-19T07:13:23.016Z"
   },
   {
    "duration": 102,
    "start_time": "2022-05-19T07:13:23.124Z"
   },
   {
    "duration": 4,
    "start_time": "2022-05-19T07:13:23.228Z"
   },
   {
    "duration": 11,
    "start_time": "2022-05-19T07:13:23.233Z"
   },
   {
    "duration": 246,
    "start_time": "2022-05-19T07:13:23.245Z"
   },
   {
    "duration": 5,
    "start_time": "2022-05-19T07:13:23.493Z"
   },
   {
    "duration": 13,
    "start_time": "2022-05-19T07:13:23.500Z"
   },
   {
    "duration": 99,
    "start_time": "2022-05-19T07:13:23.514Z"
   },
   {
    "duration": 6,
    "start_time": "2022-05-19T07:13:23.615Z"
   },
   {
    "duration": 16,
    "start_time": "2022-05-19T07:13:23.623Z"
   },
   {
    "duration": 101,
    "start_time": "2022-05-19T07:13:23.641Z"
   },
   {
    "duration": 3,
    "start_time": "2022-05-19T07:13:23.744Z"
   },
   {
    "duration": 8,
    "start_time": "2022-05-19T07:13:23.749Z"
   },
   {
    "duration": 5,
    "start_time": "2022-05-19T07:13:23.758Z"
   },
   {
    "duration": 5,
    "start_time": "2022-05-19T07:13:23.764Z"
   },
   {
    "duration": 144,
    "start_time": "2022-05-19T07:13:23.770Z"
   },
   {
    "duration": 137,
    "start_time": "2022-05-19T07:13:23.915Z"
   },
   {
    "duration": 167,
    "start_time": "2022-05-19T07:13:24.054Z"
   },
   {
    "duration": 165,
    "start_time": "2022-05-19T07:13:24.222Z"
   },
   {
    "duration": 9,
    "start_time": "2022-05-19T07:13:24.388Z"
   },
   {
    "duration": 18,
    "start_time": "2022-05-19T07:13:24.399Z"
   },
   {
    "duration": 14,
    "start_time": "2022-05-19T07:13:24.419Z"
   },
   {
    "duration": 13,
    "start_time": "2022-05-19T07:13:24.434Z"
   },
   {
    "duration": 24,
    "start_time": "2022-05-19T07:13:24.448Z"
   },
   {
    "duration": 4,
    "start_time": "2022-05-19T07:13:24.495Z"
   },
   {
    "duration": 5,
    "start_time": "2022-05-19T07:13:24.501Z"
   },
   {
    "duration": 14,
    "start_time": "2022-05-19T07:13:24.508Z"
   },
   {
    "duration": 0,
    "start_time": "2022-05-19T07:13:24.523Z"
   },
   {
    "duration": 0,
    "start_time": "2022-05-19T07:13:24.524Z"
   },
   {
    "duration": 0,
    "start_time": "2022-05-19T07:13:24.526Z"
   },
   {
    "duration": 0,
    "start_time": "2022-05-19T07:13:24.526Z"
   },
   {
    "duration": 0,
    "start_time": "2022-05-19T07:13:24.527Z"
   },
   {
    "duration": 0,
    "start_time": "2022-05-19T07:13:24.528Z"
   },
   {
    "duration": 0,
    "start_time": "2022-05-19T07:13:24.529Z"
   },
   {
    "duration": 0,
    "start_time": "2022-05-19T07:13:24.530Z"
   },
   {
    "duration": 0,
    "start_time": "2022-05-19T07:13:24.531Z"
   },
   {
    "duration": 0,
    "start_time": "2022-05-19T07:13:24.531Z"
   },
   {
    "duration": 0,
    "start_time": "2022-05-19T07:13:24.533Z"
   },
   {
    "duration": 4,
    "start_time": "2022-05-19T07:29:39.072Z"
   },
   {
    "duration": 12,
    "start_time": "2022-05-19T07:29:50.146Z"
   },
   {
    "duration": 52,
    "start_time": "2022-05-19T07:34:20.784Z"
   },
   {
    "duration": 2,
    "start_time": "2022-05-19T07:34:31.109Z"
   },
   {
    "duration": 31,
    "start_time": "2022-05-19T07:34:31.114Z"
   },
   {
    "duration": 41,
    "start_time": "2022-05-19T07:34:31.147Z"
   },
   {
    "duration": 85,
    "start_time": "2022-05-19T07:34:31.189Z"
   },
   {
    "duration": 6,
    "start_time": "2022-05-19T07:34:31.276Z"
   },
   {
    "duration": 116,
    "start_time": "2022-05-19T07:34:31.283Z"
   },
   {
    "duration": 26,
    "start_time": "2022-05-19T07:34:31.401Z"
   },
   {
    "duration": 50,
    "start_time": "2022-05-19T07:34:31.429Z"
   },
   {
    "duration": 40,
    "start_time": "2022-05-19T07:34:31.480Z"
   },
   {
    "duration": 45,
    "start_time": "2022-05-19T07:34:31.521Z"
   },
   {
    "duration": 22,
    "start_time": "2022-05-19T07:34:31.568Z"
   },
   {
    "duration": 59,
    "start_time": "2022-05-19T07:34:31.592Z"
   },
   {
    "duration": 50,
    "start_time": "2022-05-19T07:34:31.652Z"
   },
   {
    "duration": 42,
    "start_time": "2022-05-19T07:34:31.703Z"
   },
   {
    "duration": 164,
    "start_time": "2022-05-19T07:34:31.747Z"
   },
   {
    "duration": 29,
    "start_time": "2022-05-19T07:34:31.912Z"
   },
   {
    "duration": 46,
    "start_time": "2022-05-19T07:34:31.942Z"
   },
   {
    "duration": 63,
    "start_time": "2022-05-19T07:34:31.989Z"
   },
   {
    "duration": 46,
    "start_time": "2022-05-19T07:34:32.055Z"
   },
   {
    "duration": 56,
    "start_time": "2022-05-19T07:34:32.103Z"
   },
   {
    "duration": 32,
    "start_time": "2022-05-19T07:34:32.161Z"
   },
   {
    "duration": 31,
    "start_time": "2022-05-19T07:34:32.194Z"
   },
   {
    "duration": 34,
    "start_time": "2022-05-19T07:34:32.226Z"
   },
   {
    "duration": 46,
    "start_time": "2022-05-19T07:34:32.261Z"
   },
   {
    "duration": 36,
    "start_time": "2022-05-19T07:34:32.309Z"
   },
   {
    "duration": 30,
    "start_time": "2022-05-19T07:34:32.347Z"
   },
   {
    "duration": 17,
    "start_time": "2022-05-19T07:34:32.378Z"
   },
   {
    "duration": 17,
    "start_time": "2022-05-19T07:34:32.397Z"
   },
   {
    "duration": 37,
    "start_time": "2022-05-19T07:34:32.419Z"
   },
   {
    "duration": 17,
    "start_time": "2022-05-19T07:34:32.458Z"
   },
   {
    "duration": 25,
    "start_time": "2022-05-19T07:34:32.476Z"
   },
   {
    "duration": 26,
    "start_time": "2022-05-19T07:34:32.503Z"
   },
   {
    "duration": 31,
    "start_time": "2022-05-19T07:34:32.531Z"
   },
   {
    "duration": 269,
    "start_time": "2022-05-19T07:34:32.563Z"
   },
   {
    "duration": 7,
    "start_time": "2022-05-19T07:34:32.833Z"
   },
   {
    "duration": 24,
    "start_time": "2022-05-19T07:34:32.842Z"
   },
   {
    "duration": 28,
    "start_time": "2022-05-19T07:34:32.867Z"
   },
   {
    "duration": 36,
    "start_time": "2022-05-19T07:34:32.897Z"
   },
   {
    "duration": 178,
    "start_time": "2022-05-19T07:34:32.935Z"
   },
   {
    "duration": 223,
    "start_time": "2022-05-19T07:34:33.115Z"
   },
   {
    "duration": 235,
    "start_time": "2022-05-19T07:34:33.340Z"
   },
   {
    "duration": 413,
    "start_time": "2022-05-19T07:34:33.577Z"
   },
   {
    "duration": 247,
    "start_time": "2022-05-19T07:34:33.994Z"
   },
   {
    "duration": 244,
    "start_time": "2022-05-19T07:34:34.243Z"
   },
   {
    "duration": 211,
    "start_time": "2022-05-19T07:34:34.494Z"
   },
   {
    "duration": 227,
    "start_time": "2022-05-19T07:34:34.706Z"
   },
   {
    "duration": 6,
    "start_time": "2022-05-19T07:34:34.935Z"
   },
   {
    "duration": 118,
    "start_time": "2022-05-19T07:34:34.942Z"
   },
   {
    "duration": 8,
    "start_time": "2022-05-19T07:34:35.061Z"
   },
   {
    "duration": 10,
    "start_time": "2022-05-19T07:34:35.070Z"
   },
   {
    "duration": 19,
    "start_time": "2022-05-19T07:34:35.082Z"
   },
   {
    "duration": 153,
    "start_time": "2022-05-19T07:34:35.102Z"
   },
   {
    "duration": 6,
    "start_time": "2022-05-19T07:34:35.257Z"
   },
   {
    "duration": 235,
    "start_time": "2022-05-19T07:34:35.265Z"
   },
   {
    "duration": 11,
    "start_time": "2022-05-19T07:34:35.501Z"
   },
   {
    "duration": 114,
    "start_time": "2022-05-19T07:34:35.514Z"
   },
   {
    "duration": 5,
    "start_time": "2022-05-19T07:34:35.630Z"
   },
   {
    "duration": 51,
    "start_time": "2022-05-19T07:34:35.636Z"
   },
   {
    "duration": 116,
    "start_time": "2022-05-19T07:34:35.689Z"
   },
   {
    "duration": 101,
    "start_time": "2022-05-19T07:34:35.808Z"
   },
   {
    "duration": 5,
    "start_time": "2022-05-19T07:34:35.911Z"
   },
   {
    "duration": 38,
    "start_time": "2022-05-19T07:34:35.918Z"
   },
   {
    "duration": 301,
    "start_time": "2022-05-19T07:34:35.957Z"
   },
   {
    "duration": 5,
    "start_time": "2022-05-19T07:34:36.260Z"
   },
   {
    "duration": 12,
    "start_time": "2022-05-19T07:34:36.266Z"
   },
   {
    "duration": 96,
    "start_time": "2022-05-19T07:34:36.279Z"
   },
   {
    "duration": 6,
    "start_time": "2022-05-19T07:34:36.376Z"
   },
   {
    "duration": 16,
    "start_time": "2022-05-19T07:34:36.383Z"
   },
   {
    "duration": 93,
    "start_time": "2022-05-19T07:34:36.401Z"
   },
   {
    "duration": 3,
    "start_time": "2022-05-19T07:34:36.495Z"
   },
   {
    "duration": 8,
    "start_time": "2022-05-19T07:34:36.499Z"
   },
   {
    "duration": 9,
    "start_time": "2022-05-19T07:34:36.508Z"
   },
   {
    "duration": 7,
    "start_time": "2022-05-19T07:34:36.519Z"
   },
   {
    "duration": 135,
    "start_time": "2022-05-19T07:34:36.527Z"
   },
   {
    "duration": 162,
    "start_time": "2022-05-19T07:34:36.664Z"
   },
   {
    "duration": 176,
    "start_time": "2022-05-19T07:34:36.828Z"
   },
   {
    "duration": 143,
    "start_time": "2022-05-19T07:34:37.006Z"
   },
   {
    "duration": 6,
    "start_time": "2022-05-19T07:34:37.151Z"
   },
   {
    "duration": 9,
    "start_time": "2022-05-19T07:34:37.159Z"
   },
   {
    "duration": 26,
    "start_time": "2022-05-19T07:34:37.170Z"
   },
   {
    "duration": 13,
    "start_time": "2022-05-19T07:34:37.197Z"
   },
   {
    "duration": 25,
    "start_time": "2022-05-19T07:34:37.211Z"
   },
   {
    "duration": 5,
    "start_time": "2022-05-19T07:34:37.241Z"
   },
   {
    "duration": 6,
    "start_time": "2022-05-19T07:34:37.247Z"
   },
   {
    "duration": 41,
    "start_time": "2022-05-19T07:34:37.254Z"
   },
   {
    "duration": 0,
    "start_time": "2022-05-19T07:34:37.296Z"
   },
   {
    "duration": 0,
    "start_time": "2022-05-19T07:34:37.297Z"
   },
   {
    "duration": 0,
    "start_time": "2022-05-19T07:34:37.298Z"
   },
   {
    "duration": 0,
    "start_time": "2022-05-19T07:34:37.299Z"
   },
   {
    "duration": 0,
    "start_time": "2022-05-19T07:34:37.300Z"
   },
   {
    "duration": 0,
    "start_time": "2022-05-19T07:34:37.301Z"
   },
   {
    "duration": 0,
    "start_time": "2022-05-19T07:34:37.302Z"
   },
   {
    "duration": 0,
    "start_time": "2022-05-19T07:34:37.303Z"
   },
   {
    "duration": 0,
    "start_time": "2022-05-19T07:34:37.304Z"
   },
   {
    "duration": 0,
    "start_time": "2022-05-19T07:34:37.305Z"
   },
   {
    "duration": 0,
    "start_time": "2022-05-19T07:34:37.306Z"
   },
   {
    "duration": 77,
    "start_time": "2022-05-19T12:59:46.409Z"
   },
   {
    "duration": 509,
    "start_time": "2022-05-19T12:59:55.821Z"
   },
   {
    "duration": 2,
    "start_time": "2022-05-19T12:59:56.332Z"
   },
   {
    "duration": 462,
    "start_time": "2022-05-19T12:59:56.477Z"
   },
   {
    "duration": 341,
    "start_time": "2022-05-19T12:59:56.941Z"
   },
   {
    "duration": 12,
    "start_time": "2022-05-19T12:59:57.283Z"
   },
   {
    "duration": 99,
    "start_time": "2022-05-19T12:59:57.297Z"
   },
   {
    "duration": 25,
    "start_time": "2022-05-19T12:59:57.398Z"
   },
   {
    "duration": 26,
    "start_time": "2022-05-19T12:59:57.426Z"
   },
   {
    "duration": 25,
    "start_time": "2022-05-19T12:59:58.246Z"
   },
   {
    "duration": 24,
    "start_time": "2022-05-19T12:59:58.508Z"
   },
   {
    "duration": 5,
    "start_time": "2022-05-19T12:59:58.779Z"
   },
   {
    "duration": 7,
    "start_time": "2022-05-19T12:59:58.911Z"
   },
   {
    "duration": 5,
    "start_time": "2022-05-19T12:59:59.191Z"
   },
   {
    "duration": 4,
    "start_time": "2022-05-19T12:59:59.342Z"
   },
   {
    "duration": 121,
    "start_time": "2022-05-19T12:59:59.477Z"
   },
   {
    "duration": 23,
    "start_time": "2022-05-19T12:59:59.601Z"
   },
   {
    "duration": 5,
    "start_time": "2022-05-19T13:00:00.032Z"
   },
   {
    "duration": 15,
    "start_time": "2022-05-19T13:00:00.185Z"
   },
   {
    "duration": 11,
    "start_time": "2022-05-19T13:00:00.759Z"
   },
   {
    "duration": 12,
    "start_time": "2022-05-19T13:00:00.911Z"
   },
   {
    "duration": 11,
    "start_time": "2022-05-19T13:00:01.055Z"
   },
   {
    "duration": 10,
    "start_time": "2022-05-19T13:00:01.211Z"
   },
   {
    "duration": 8,
    "start_time": "2022-05-19T13:00:01.365Z"
   },
   {
    "duration": 7,
    "start_time": "2022-05-19T13:00:01.500Z"
   },
   {
    "duration": 10,
    "start_time": "2022-05-19T13:00:01.656Z"
   },
   {
    "duration": 25,
    "start_time": "2022-05-19T13:00:01.836Z"
   },
   {
    "duration": 11,
    "start_time": "2022-05-19T13:00:02.012Z"
   },
   {
    "duration": 5,
    "start_time": "2022-05-19T13:00:02.211Z"
   },
   {
    "duration": 27,
    "start_time": "2022-05-19T13:00:08.184Z"
   },
   {
    "duration": 6,
    "start_time": "2022-05-19T13:00:10.453Z"
   },
   {
    "duration": 9,
    "start_time": "2022-05-19T13:00:10.758Z"
   },
   {
    "duration": 6,
    "start_time": "2022-05-19T13:00:11.015Z"
   },
   {
    "duration": 6,
    "start_time": "2022-05-19T13:00:11.208Z"
   },
   {
    "duration": 331,
    "start_time": "2022-05-19T13:00:11.352Z"
   },
   {
    "duration": 9,
    "start_time": "2022-05-19T13:00:11.686Z"
   },
   {
    "duration": 10,
    "start_time": "2022-05-19T13:00:11.697Z"
   },
   {
    "duration": 4,
    "start_time": "2022-05-19T13:00:11.942Z"
   },
   {
    "duration": 29,
    "start_time": "2022-05-19T13:00:12.201Z"
   },
   {
    "duration": 229,
    "start_time": "2022-05-19T13:00:13.368Z"
   },
   {
    "duration": 287,
    "start_time": "2022-05-19T13:00:13.758Z"
   },
   {
    "duration": 277,
    "start_time": "2022-05-19T13:00:14.047Z"
   },
   {
    "duration": 320,
    "start_time": "2022-05-19T13:00:14.326Z"
   },
   {
    "duration": 244,
    "start_time": "2022-05-19T13:00:16.374Z"
   },
   {
    "duration": 246,
    "start_time": "2022-05-19T13:00:16.620Z"
   },
   {
    "duration": 215,
    "start_time": "2022-05-19T13:00:16.868Z"
   },
   {
    "duration": 235,
    "start_time": "2022-05-19T13:00:17.084Z"
   },
   {
    "duration": 6,
    "start_time": "2022-05-19T13:00:17.322Z"
   },
   {
    "duration": 98,
    "start_time": "2022-05-19T13:00:20.155Z"
   },
   {
    "duration": 13,
    "start_time": "2022-05-19T13:00:27.316Z"
   },
   {
    "duration": 6,
    "start_time": "2022-05-19T13:00:27.908Z"
   },
   {
    "duration": 15,
    "start_time": "2022-05-19T13:00:28.457Z"
   },
   {
    "duration": 249,
    "start_time": "2022-05-19T13:00:29.356Z"
   },
   {
    "duration": 7,
    "start_time": "2022-05-19T13:00:36.642Z"
   },
   {
    "duration": 207,
    "start_time": "2022-05-19T13:00:39.881Z"
   },
   {
    "duration": 10,
    "start_time": "2022-05-19T13:00:42.472Z"
   },
   {
    "duration": 101,
    "start_time": "2022-05-19T13:00:44.220Z"
   },
   {
    "duration": 6,
    "start_time": "2022-05-19T13:00:45.480Z"
   },
   {
    "duration": 9,
    "start_time": "2022-05-19T13:00:46.212Z"
   },
   {
    "duration": 119,
    "start_time": "2022-05-19T13:00:52.560Z"
   },
   {
    "duration": 111,
    "start_time": "2022-05-19T13:00:53.307Z"
   },
   {
    "duration": 4,
    "start_time": "2022-05-19T13:00:56.013Z"
   },
   {
    "duration": 5,
    "start_time": "2022-05-19T13:00:57.313Z"
   },
   {
    "duration": 63,
    "start_time": "2022-05-19T13:03:04.586Z"
   },
   {
    "duration": 12,
    "start_time": "2022-05-19T13:03:15.658Z"
   },
   {
    "duration": 7,
    "start_time": "2022-05-19T13:04:40.673Z"
   },
   {
    "duration": 11,
    "start_time": "2022-05-19T13:04:56.867Z"
   },
   {
    "duration": 133,
    "start_time": "2022-05-19T13:04:58.096Z"
   },
   {
    "duration": 4,
    "start_time": "2022-05-19T13:05:12.488Z"
   },
   {
    "duration": 13,
    "start_time": "2022-05-19T13:06:07.058Z"
   },
   {
    "duration": 5,
    "start_time": "2022-05-19T13:06:08.098Z"
   },
   {
    "duration": 10,
    "start_time": "2022-05-19T13:06:10.258Z"
   },
   {
    "duration": 747,
    "start_time": "2022-05-19T13:07:16.258Z"
   },
   {
    "duration": 4,
    "start_time": "2022-05-19T13:07:37.454Z"
   },
   {
    "duration": 67,
    "start_time": "2022-05-19T13:07:42.027Z"
   },
   {
    "duration": 2283,
    "start_time": "2022-05-19T13:07:44.915Z"
   },
   {
    "duration": 4149,
    "start_time": "2022-05-19T13:08:18.820Z"
   },
   {
    "duration": 148,
    "start_time": "2022-05-19T13:08:36.996Z"
   },
   {
    "duration": 178,
    "start_time": "2022-05-19T13:08:40.579Z"
   },
   {
    "duration": 169,
    "start_time": "2022-05-19T13:09:09.873Z"
   },
   {
    "duration": 155,
    "start_time": "2022-05-19T13:09:13.158Z"
   },
   {
    "duration": 9,
    "start_time": "2022-05-19T13:09:30.777Z"
   },
   {
    "duration": 15,
    "start_time": "2022-05-19T13:10:04.249Z"
   },
   {
    "duration": 19,
    "start_time": "2022-05-19T13:10:11.921Z"
   },
   {
    "duration": 20,
    "start_time": "2022-05-19T13:10:14.384Z"
   },
   {
    "duration": 31,
    "start_time": "2022-05-19T13:10:25.308Z"
   },
   {
    "duration": 5,
    "start_time": "2022-05-19T13:10:31.280Z"
   },
   {
    "duration": 5,
    "start_time": "2022-05-19T13:10:35.408Z"
   },
   {
    "duration": 23,
    "start_time": "2022-05-19T13:10:38.912Z"
   },
   {
    "duration": 12,
    "start_time": "2022-05-19T13:11:41.688Z"
   },
   {
    "duration": 12,
    "start_time": "2022-05-19T13:11:44.920Z"
   },
   {
    "duration": 5,
    "start_time": "2022-05-19T13:11:54.716Z"
   },
   {
    "duration": 4,
    "start_time": "2022-05-19T13:11:59.179Z"
   },
   {
    "duration": 31,
    "start_time": "2022-05-19T13:12:31.140Z"
   },
   {
    "duration": 141,
    "start_time": "2022-05-19T13:12:34.583Z"
   },
   {
    "duration": 27,
    "start_time": "2022-05-19T13:12:49.183Z"
   },
   {
    "duration": 492,
    "start_time": "2022-05-19T13:13:02.471Z"
   },
   {
    "duration": 314,
    "start_time": "2022-05-19T13:13:20.548Z"
   },
   {
    "duration": 184,
    "start_time": "2022-05-19T13:13:35.307Z"
   },
   {
    "duration": 210,
    "start_time": "2022-05-19T13:13:46.008Z"
   },
   {
    "duration": 662,
    "start_time": "2022-05-19T13:13:50.166Z"
   },
   {
    "duration": 462,
    "start_time": "2022-05-19T13:13:58.793Z"
   },
   {
    "duration": 507,
    "start_time": "2022-05-19T13:14:07.004Z"
   },
   {
    "duration": 8,
    "start_time": "2022-05-19T13:14:14.091Z"
   },
   {
    "duration": 163,
    "start_time": "2022-05-19T13:14:18.467Z"
   },
   {
    "duration": 504,
    "start_time": "2022-05-19T13:14:20.895Z"
   },
   {
    "duration": 6,
    "start_time": "2022-05-19T13:14:24.035Z"
   },
   {
    "duration": 264,
    "start_time": "2022-05-19T13:15:27.352Z"
   },
   {
    "duration": 411,
    "start_time": "2022-05-19T14:43:58.281Z"
   },
   {
    "duration": 3,
    "start_time": "2022-05-19T14:43:58.694Z"
   },
   {
    "duration": 268,
    "start_time": "2022-05-19T14:43:58.698Z"
   },
   {
    "duration": 457,
    "start_time": "2022-05-19T14:43:58.967Z"
   },
   {
    "duration": 73,
    "start_time": "2022-05-19T14:43:59.426Z"
   },
   {
    "duration": 11,
    "start_time": "2022-05-19T14:43:59.500Z"
   },
   {
    "duration": 101,
    "start_time": "2022-05-19T14:43:59.513Z"
   },
   {
    "duration": 26,
    "start_time": "2022-05-19T14:43:59.616Z"
   },
   {
    "duration": 22,
    "start_time": "2022-05-19T14:43:59.644Z"
   },
   {
    "duration": 23,
    "start_time": "2022-05-19T14:43:59.669Z"
   },
   {
    "duration": 19,
    "start_time": "2022-05-19T14:43:59.726Z"
   },
   {
    "duration": 10,
    "start_time": "2022-05-19T14:43:59.747Z"
   },
   {
    "duration": 28,
    "start_time": "2022-05-19T14:43:59.758Z"
   },
   {
    "duration": 11,
    "start_time": "2022-05-19T14:43:59.790Z"
   },
   {
    "duration": 19,
    "start_time": "2022-05-19T14:43:59.803Z"
   },
   {
    "duration": 135,
    "start_time": "2022-05-19T14:43:59.824Z"
   },
   {
    "duration": 23,
    "start_time": "2022-05-19T14:43:59.960Z"
   },
   {
    "duration": 4,
    "start_time": "2022-05-19T14:43:59.985Z"
   },
   {
    "duration": 43,
    "start_time": "2022-05-19T14:43:59.991Z"
   },
   {
    "duration": 20,
    "start_time": "2022-05-19T14:44:00.035Z"
   },
   {
    "duration": 17,
    "start_time": "2022-05-19T14:44:00.056Z"
   },
   {
    "duration": 17,
    "start_time": "2022-05-19T14:44:00.075Z"
   },
   {
    "duration": 15,
    "start_time": "2022-05-19T14:44:00.094Z"
   },
   {
    "duration": 13,
    "start_time": "2022-05-19T14:44:00.110Z"
   },
   {
    "duration": 12,
    "start_time": "2022-05-19T14:44:00.125Z"
   },
   {
    "duration": 39,
    "start_time": "2022-05-19T14:44:00.138Z"
   },
   {
    "duration": 35,
    "start_time": "2022-05-19T14:44:00.179Z"
   },
   {
    "duration": 14,
    "start_time": "2022-05-19T14:44:00.216Z"
   },
   {
    "duration": 24,
    "start_time": "2022-05-19T14:44:00.232Z"
   },
   {
    "duration": 62,
    "start_time": "2022-05-19T14:44:00.258Z"
   },
   {
    "duration": 5,
    "start_time": "2022-05-19T14:44:00.321Z"
   },
   {
    "duration": 19,
    "start_time": "2022-05-19T14:44:00.328Z"
   },
   {
    "duration": 15,
    "start_time": "2022-05-19T14:44:00.348Z"
   },
   {
    "duration": 8,
    "start_time": "2022-05-19T14:44:00.365Z"
   },
   {
    "duration": 339,
    "start_time": "2022-05-19T14:44:00.375Z"
   },
   {
    "duration": 11,
    "start_time": "2022-05-19T14:44:00.716Z"
   },
   {
    "duration": 23,
    "start_time": "2022-05-19T14:44:00.728Z"
   },
   {
    "duration": 43,
    "start_time": "2022-05-19T14:44:00.753Z"
   },
   {
    "duration": 47,
    "start_time": "2022-05-19T14:44:00.797Z"
   },
   {
    "duration": 230,
    "start_time": "2022-05-19T14:44:00.846Z"
   },
   {
    "duration": 259,
    "start_time": "2022-05-19T14:44:01.080Z"
   },
   {
    "duration": 267,
    "start_time": "2022-05-19T14:44:01.341Z"
   },
   {
    "duration": 311,
    "start_time": "2022-05-19T14:44:01.610Z"
   },
   {
    "duration": 384,
    "start_time": "2022-05-19T14:44:01.923Z"
   },
   {
    "duration": 278,
    "start_time": "2022-05-19T14:44:02.309Z"
   },
   {
    "duration": 233,
    "start_time": "2022-05-19T14:44:02.589Z"
   },
   {
    "duration": 253,
    "start_time": "2022-05-19T14:44:02.826Z"
   },
   {
    "duration": 6,
    "start_time": "2022-05-19T14:44:03.080Z"
   },
   {
    "duration": 119,
    "start_time": "2022-05-19T14:44:03.088Z"
   },
   {
    "duration": 27,
    "start_time": "2022-05-19T14:44:03.208Z"
   },
   {
    "duration": 6,
    "start_time": "2022-05-19T14:44:03.236Z"
   },
   {
    "duration": 20,
    "start_time": "2022-05-19T14:44:03.244Z"
   },
   {
    "duration": 145,
    "start_time": "2022-05-19T14:44:03.266Z"
   },
   {
    "duration": 18,
    "start_time": "2022-05-19T14:44:03.414Z"
   },
   {
    "duration": 263,
    "start_time": "2022-05-19T14:44:03.434Z"
   },
   {
    "duration": 12,
    "start_time": "2022-05-19T14:44:03.698Z"
   },
   {
    "duration": 255,
    "start_time": "2022-05-19T14:44:03.712Z"
   },
   {
    "duration": 7,
    "start_time": "2022-05-19T14:44:03.968Z"
   },
   {
    "duration": 17,
    "start_time": "2022-05-19T14:44:03.977Z"
   },
   {
    "duration": 126,
    "start_time": "2022-05-19T14:44:03.996Z"
   },
   {
    "duration": 113,
    "start_time": "2022-05-19T14:44:04.128Z"
   },
   {
    "duration": 6,
    "start_time": "2022-05-19T14:44:04.243Z"
   },
   {
    "duration": 18,
    "start_time": "2022-05-19T14:44:04.250Z"
   },
   {
    "duration": 16,
    "start_time": "2022-05-19T14:44:04.270Z"
   },
   {
    "duration": 26,
    "start_time": "2022-05-19T14:44:04.287Z"
   },
   {
    "duration": 115,
    "start_time": "2022-05-19T14:44:04.315Z"
   },
   {
    "duration": 3,
    "start_time": "2022-05-19T14:44:04.432Z"
   },
   {
    "duration": 30,
    "start_time": "2022-05-19T14:44:04.437Z"
   },
   {
    "duration": 13,
    "start_time": "2022-05-19T14:44:04.468Z"
   },
   {
    "duration": 39,
    "start_time": "2022-05-19T14:44:04.482Z"
   },
   {
    "duration": 3721,
    "start_time": "2022-05-19T14:44:04.523Z"
   },
   {
    "duration": 181,
    "start_time": "2022-05-19T14:44:08.246Z"
   },
   {
    "duration": 184,
    "start_time": "2022-05-19T14:44:08.429Z"
   },
   {
    "duration": 211,
    "start_time": "2022-05-19T14:44:08.615Z"
   },
   {
    "duration": 168,
    "start_time": "2022-05-19T14:44:08.829Z"
   },
   {
    "duration": 8,
    "start_time": "2022-05-19T14:44:08.999Z"
   },
   {
    "duration": 29,
    "start_time": "2022-05-19T14:44:09.009Z"
   },
   {
    "duration": 18,
    "start_time": "2022-05-19T14:44:09.040Z"
   },
   {
    "duration": 15,
    "start_time": "2022-05-19T14:44:09.059Z"
   },
   {
    "duration": 68,
    "start_time": "2022-05-19T14:44:09.076Z"
   },
   {
    "duration": 6,
    "start_time": "2022-05-19T14:44:09.146Z"
   },
   {
    "duration": 19,
    "start_time": "2022-05-19T14:44:09.154Z"
   },
   {
    "duration": 9,
    "start_time": "2022-05-19T14:44:09.175Z"
   },
   {
    "duration": 8,
    "start_time": "2022-05-19T14:44:09.186Z"
   },
   {
    "duration": 57,
    "start_time": "2022-05-19T14:44:09.195Z"
   },
   {
    "duration": 179,
    "start_time": "2022-05-19T14:44:09.255Z"
   },
   {
    "duration": 40,
    "start_time": "2022-05-19T14:44:09.436Z"
   },
   {
    "duration": 484,
    "start_time": "2022-05-19T14:44:09.478Z"
   },
   {
    "duration": 257,
    "start_time": "2022-05-19T14:44:09.964Z"
   },
   {
    "duration": 501,
    "start_time": "2022-05-19T14:44:10.227Z"
   },
   {
    "duration": 493,
    "start_time": "2022-05-19T14:44:10.730Z"
   },
   {
    "duration": 9,
    "start_time": "2022-05-19T14:44:11.225Z"
   },
   {
    "duration": 199,
    "start_time": "2022-05-19T14:44:11.235Z"
   },
   {
    "duration": 366,
    "start_time": "2022-05-19T14:44:11.436Z"
   },
   {
    "duration": 6,
    "start_time": "2022-05-19T14:44:11.803Z"
   },
   {
    "duration": 177,
    "start_time": "2022-05-19T15:10:24.005Z"
   },
   {
    "duration": 233,
    "start_time": "2022-05-19T15:10:26.210Z"
   },
   {
    "duration": 175,
    "start_time": "2022-05-19T15:12:11.565Z"
   },
   {
    "duration": 213,
    "start_time": "2022-05-19T15:12:18.119Z"
   },
   {
    "duration": 407,
    "start_time": "2022-05-19T15:12:59.251Z"
   },
   {
    "duration": 113,
    "start_time": "2022-05-19T15:25:39.913Z"
   },
   {
    "duration": 271,
    "start_time": "2022-05-19T15:25:46.823Z"
   },
   {
    "duration": 158,
    "start_time": "2022-05-19T15:26:12.326Z"
   },
   {
    "duration": 171,
    "start_time": "2022-05-19T15:26:17.957Z"
   },
   {
    "duration": 512,
    "start_time": "2022-05-20T14:34:29.155Z"
   },
   {
    "duration": 3,
    "start_time": "2022-05-20T14:34:29.670Z"
   },
   {
    "duration": 574,
    "start_time": "2022-05-20T14:34:29.675Z"
   },
   {
    "duration": 547,
    "start_time": "2022-05-20T14:34:30.252Z"
   },
   {
    "duration": 154,
    "start_time": "2022-05-20T14:34:30.801Z"
   },
   {
    "duration": 18,
    "start_time": "2022-05-20T14:34:30.957Z"
   },
   {
    "duration": 150,
    "start_time": "2022-05-20T14:34:30.977Z"
   },
   {
    "duration": 30,
    "start_time": "2022-05-20T14:34:31.129Z"
   },
   {
    "duration": 62,
    "start_time": "2022-05-20T14:34:31.164Z"
   },
   {
    "duration": 66,
    "start_time": "2022-05-20T14:34:31.230Z"
   },
   {
    "duration": 37,
    "start_time": "2022-05-20T14:34:31.298Z"
   },
   {
    "duration": 16,
    "start_time": "2022-05-20T14:34:31.337Z"
   },
   {
    "duration": 12,
    "start_time": "2022-05-20T14:34:31.355Z"
   },
   {
    "duration": 40,
    "start_time": "2022-05-20T14:34:31.369Z"
   },
   {
    "duration": 11,
    "start_time": "2022-05-20T14:34:31.410Z"
   },
   {
    "duration": 164,
    "start_time": "2022-05-20T14:34:31.423Z"
   },
   {
    "duration": 29,
    "start_time": "2022-05-20T14:34:31.589Z"
   },
   {
    "duration": 9,
    "start_time": "2022-05-20T14:34:31.620Z"
   },
   {
    "duration": 22,
    "start_time": "2022-05-20T14:34:31.630Z"
   },
   {
    "duration": 18,
    "start_time": "2022-05-20T14:34:31.653Z"
   },
   {
    "duration": 34,
    "start_time": "2022-05-20T14:34:31.673Z"
   },
   {
    "duration": 8,
    "start_time": "2022-05-20T14:34:31.709Z"
   },
   {
    "duration": 8,
    "start_time": "2022-05-20T14:34:31.719Z"
   },
   {
    "duration": 9,
    "start_time": "2022-05-20T14:34:31.729Z"
   },
   {
    "duration": 11,
    "start_time": "2022-05-20T14:34:31.740Z"
   },
   {
    "duration": 14,
    "start_time": "2022-05-20T14:34:31.753Z"
   },
   {
    "duration": 43,
    "start_time": "2022-05-20T14:34:31.769Z"
   },
   {
    "duration": 9,
    "start_time": "2022-05-20T14:34:31.816Z"
   },
   {
    "duration": 9,
    "start_time": "2022-05-20T14:34:31.827Z"
   },
   {
    "duration": 52,
    "start_time": "2022-05-20T14:34:31.838Z"
   },
   {
    "duration": 6,
    "start_time": "2022-05-20T14:34:31.894Z"
   },
   {
    "duration": 11,
    "start_time": "2022-05-20T14:34:31.902Z"
   },
   {
    "duration": 6,
    "start_time": "2022-05-20T14:34:31.916Z"
   },
   {
    "duration": 8,
    "start_time": "2022-05-20T14:34:31.924Z"
   },
   {
    "duration": 461,
    "start_time": "2022-05-20T14:34:31.934Z"
   },
   {
    "duration": 8,
    "start_time": "2022-05-20T14:34:32.396Z"
   },
   {
    "duration": 9,
    "start_time": "2022-05-20T14:34:32.406Z"
   },
   {
    "duration": 18,
    "start_time": "2022-05-20T14:34:32.417Z"
   },
   {
    "duration": 32,
    "start_time": "2022-05-20T14:34:32.437Z"
   },
   {
    "duration": 271,
    "start_time": "2022-05-20T14:34:32.471Z"
   },
   {
    "duration": 316,
    "start_time": "2022-05-20T14:34:32.744Z"
   },
   {
    "duration": 335,
    "start_time": "2022-05-20T14:34:33.069Z"
   },
   {
    "duration": 335,
    "start_time": "2022-05-20T14:34:33.406Z"
   },
   {
    "duration": 408,
    "start_time": "2022-05-20T14:34:33.743Z"
   },
   {
    "duration": 318,
    "start_time": "2022-05-20T14:34:34.152Z"
   },
   {
    "duration": 287,
    "start_time": "2022-05-20T14:34:34.472Z"
   },
   {
    "duration": 299,
    "start_time": "2022-05-20T14:34:34.761Z"
   },
   {
    "duration": 10,
    "start_time": "2022-05-20T14:34:35.062Z"
   },
   {
    "duration": 148,
    "start_time": "2022-05-20T14:34:35.079Z"
   },
   {
    "duration": 12,
    "start_time": "2022-05-20T14:34:35.229Z"
   },
   {
    "duration": 6,
    "start_time": "2022-05-20T14:34:35.243Z"
   },
   {
    "duration": 27,
    "start_time": "2022-05-20T14:34:35.250Z"
   },
   {
    "duration": 157,
    "start_time": "2022-05-20T14:34:35.281Z"
   },
   {
    "duration": 8,
    "start_time": "2022-05-20T14:34:35.440Z"
   },
   {
    "duration": 406,
    "start_time": "2022-05-20T14:34:35.450Z"
   },
   {
    "duration": 28,
    "start_time": "2022-05-20T14:34:35.858Z"
   },
   {
    "duration": 140,
    "start_time": "2022-05-20T14:34:35.888Z"
   },
   {
    "duration": 6,
    "start_time": "2022-05-20T14:34:36.029Z"
   },
   {
    "duration": 14,
    "start_time": "2022-05-20T14:34:36.037Z"
   },
   {
    "duration": 160,
    "start_time": "2022-05-20T14:34:36.053Z"
   },
   {
    "duration": 132,
    "start_time": "2022-05-20T14:34:36.215Z"
   },
   {
    "duration": 7,
    "start_time": "2022-05-20T14:34:36.348Z"
   },
   {
    "duration": 21,
    "start_time": "2022-05-20T14:34:36.356Z"
   },
   {
    "duration": 22,
    "start_time": "2022-05-20T14:34:36.381Z"
   },
   {
    "duration": 11,
    "start_time": "2022-05-20T14:34:36.405Z"
   },
   {
    "duration": 129,
    "start_time": "2022-05-20T14:34:36.417Z"
   },
   {
    "duration": 3,
    "start_time": "2022-05-20T14:34:36.548Z"
   },
   {
    "duration": 17,
    "start_time": "2022-05-20T14:34:36.553Z"
   },
   {
    "duration": 32,
    "start_time": "2022-05-20T14:34:36.573Z"
   },
   {
    "duration": 10,
    "start_time": "2022-05-20T14:34:36.607Z"
   },
   {
    "duration": 4471,
    "start_time": "2022-05-20T14:34:36.620Z"
   },
   {
    "duration": 171,
    "start_time": "2022-05-20T14:34:41.093Z"
   },
   {
    "duration": 190,
    "start_time": "2022-05-20T14:34:41.266Z"
   },
   {
    "duration": 243,
    "start_time": "2022-05-20T14:34:41.458Z"
   },
   {
    "duration": 197,
    "start_time": "2022-05-20T14:34:41.702Z"
   },
   {
    "duration": 8,
    "start_time": "2022-05-20T14:34:41.900Z"
   },
   {
    "duration": 15,
    "start_time": "2022-05-20T14:34:41.910Z"
   },
   {
    "duration": 16,
    "start_time": "2022-05-20T14:34:41.926Z"
   },
   {
    "duration": 213,
    "start_time": "2022-05-20T14:34:41.966Z"
   },
   {
    "duration": 39,
    "start_time": "2022-05-20T14:34:42.181Z"
   },
   {
    "duration": 4,
    "start_time": "2022-05-20T14:34:42.222Z"
   },
   {
    "duration": 3,
    "start_time": "2022-05-20T14:34:42.232Z"
   },
   {
    "duration": 10,
    "start_time": "2022-05-20T14:34:42.237Z"
   },
   {
    "duration": 5,
    "start_time": "2022-05-20T14:34:42.265Z"
   },
   {
    "duration": 49,
    "start_time": "2022-05-20T14:34:42.272Z"
   },
   {
    "duration": 186,
    "start_time": "2022-05-20T14:34:42.322Z"
   },
   {
    "duration": 30,
    "start_time": "2022-05-20T14:34:42.509Z"
   },
   {
    "duration": 351,
    "start_time": "2022-05-20T14:34:42.541Z"
   },
   {
    "duration": 258,
    "start_time": "2022-05-20T14:34:42.895Z"
   },
   {
    "duration": 587,
    "start_time": "2022-05-20T14:34:43.155Z"
   },
   {
    "duration": 569,
    "start_time": "2022-05-20T14:34:43.744Z"
   },
   {
    "duration": 7,
    "start_time": "2022-05-20T14:34:44.315Z"
   },
   {
    "duration": 204,
    "start_time": "2022-05-20T14:34:44.324Z"
   },
   {
    "duration": 567,
    "start_time": "2022-05-20T14:34:44.530Z"
   },
   {
    "duration": 6,
    "start_time": "2022-05-20T14:34:45.099Z"
   },
   {
    "duration": 175,
    "start_time": "2022-05-20T14:35:27.048Z"
   },
   {
    "duration": 12,
    "start_time": "2022-05-20T14:35:47.489Z"
   },
   {
    "duration": 9,
    "start_time": "2022-05-20T14:38:22.690Z"
   },
   {
    "duration": 172,
    "start_time": "2022-05-20T14:39:08.341Z"
   },
   {
    "duration": 182,
    "start_time": "2022-05-20T14:39:22.411Z"
   },
   {
    "duration": 189,
    "start_time": "2022-05-20T14:39:34.203Z"
   },
   {
    "duration": 196,
    "start_time": "2022-05-20T14:39:45.123Z"
   },
   {
    "duration": 272,
    "start_time": "2022-05-20T14:42:53.459Z"
   },
   {
    "duration": 328,
    "start_time": "2022-05-20T14:43:05.247Z"
   },
   {
    "duration": 331,
    "start_time": "2022-05-20T14:44:30.928Z"
   },
   {
    "duration": 264,
    "start_time": "2022-05-20T14:44:53.430Z"
   },
   {
    "duration": 566,
    "start_time": "2022-05-20T14:45:00.742Z"
   },
   {
    "duration": 201,
    "start_time": "2022-05-20T14:49:34.692Z"
   },
   {
    "duration": 357,
    "start_time": "2022-05-20T14:49:41.016Z"
   },
   {
    "duration": 185,
    "start_time": "2022-05-20T14:52:23.388Z"
   },
   {
    "duration": 232,
    "start_time": "2022-05-20T14:53:08.814Z"
   },
   {
    "duration": 425,
    "start_time": "2022-05-20T20:25:08.863Z"
   },
   {
    "duration": 15,
    "start_time": "2022-05-20T20:25:09.289Z"
   },
   {
    "duration": 431,
    "start_time": "2022-05-20T20:25:09.306Z"
   },
   {
    "duration": 423,
    "start_time": "2022-05-20T20:25:09.740Z"
   },
   {
    "duration": 298,
    "start_time": "2022-05-20T20:25:10.165Z"
   },
   {
    "duration": 10,
    "start_time": "2022-05-20T20:25:10.464Z"
   },
   {
    "duration": 91,
    "start_time": "2022-05-20T20:25:10.475Z"
   },
   {
    "duration": 27,
    "start_time": "2022-05-20T20:25:10.568Z"
   },
   {
    "duration": 25,
    "start_time": "2022-05-20T20:25:10.596Z"
   },
   {
    "duration": 19,
    "start_time": "2022-05-20T20:25:10.625Z"
   },
   {
    "duration": 18,
    "start_time": "2022-05-20T20:25:10.646Z"
   },
   {
    "duration": 6,
    "start_time": "2022-05-20T20:25:10.665Z"
   },
   {
    "duration": 30,
    "start_time": "2022-05-20T20:25:10.672Z"
   },
   {
    "duration": 6,
    "start_time": "2022-05-20T20:25:10.704Z"
   },
   {
    "duration": 4,
    "start_time": "2022-05-20T20:25:10.711Z"
   },
   {
    "duration": 125,
    "start_time": "2022-05-20T20:25:10.716Z"
   },
   {
    "duration": 21,
    "start_time": "2022-05-20T20:25:10.842Z"
   },
   {
    "duration": 4,
    "start_time": "2022-05-20T20:25:10.864Z"
   },
   {
    "duration": 42,
    "start_time": "2022-05-20T20:25:10.870Z"
   },
   {
    "duration": 9,
    "start_time": "2022-05-20T20:25:10.914Z"
   },
   {
    "duration": 10,
    "start_time": "2022-05-20T20:25:10.925Z"
   },
   {
    "duration": 9,
    "start_time": "2022-05-20T20:25:10.937Z"
   },
   {
    "duration": 7,
    "start_time": "2022-05-20T20:25:10.948Z"
   },
   {
    "duration": 6,
    "start_time": "2022-05-20T20:25:10.957Z"
   },
   {
    "duration": 11,
    "start_time": "2022-05-20T20:25:10.965Z"
   },
   {
    "duration": 32,
    "start_time": "2022-05-20T20:25:10.977Z"
   },
   {
    "duration": 18,
    "start_time": "2022-05-20T20:25:11.011Z"
   },
   {
    "duration": 7,
    "start_time": "2022-05-20T20:25:11.033Z"
   },
   {
    "duration": 5,
    "start_time": "2022-05-20T20:25:11.042Z"
   },
   {
    "duration": 30,
    "start_time": "2022-05-20T20:25:11.048Z"
   },
   {
    "duration": 25,
    "start_time": "2022-05-20T20:25:11.080Z"
   },
   {
    "duration": 12,
    "start_time": "2022-05-20T20:25:11.107Z"
   },
   {
    "duration": 7,
    "start_time": "2022-05-20T20:25:11.121Z"
   },
   {
    "duration": 6,
    "start_time": "2022-05-20T20:25:11.131Z"
   },
   {
    "duration": 416,
    "start_time": "2022-05-20T20:25:11.139Z"
   },
   {
    "duration": 7,
    "start_time": "2022-05-20T20:25:11.556Z"
   },
   {
    "duration": 6,
    "start_time": "2022-05-20T20:25:11.564Z"
   },
   {
    "duration": 6,
    "start_time": "2022-05-20T20:25:11.571Z"
   },
   {
    "duration": 35,
    "start_time": "2022-05-20T20:25:11.578Z"
   },
   {
    "duration": 224,
    "start_time": "2022-05-20T20:25:11.615Z"
   },
   {
    "duration": 231,
    "start_time": "2022-05-20T20:25:11.841Z"
   },
   {
    "duration": 222,
    "start_time": "2022-05-20T20:25:12.073Z"
   },
   {
    "duration": 224,
    "start_time": "2022-05-20T20:25:12.301Z"
   },
   {
    "duration": 298,
    "start_time": "2022-05-20T20:25:12.527Z"
   },
   {
    "duration": 229,
    "start_time": "2022-05-20T20:25:12.827Z"
   },
   {
    "duration": 208,
    "start_time": "2022-05-20T20:25:13.057Z"
   },
   {
    "duration": 223,
    "start_time": "2022-05-20T20:25:13.266Z"
   },
   {
    "duration": 12,
    "start_time": "2022-05-20T20:25:13.490Z"
   },
   {
    "duration": 106,
    "start_time": "2022-05-20T20:25:13.504Z"
   },
   {
    "duration": 11,
    "start_time": "2022-05-20T20:25:13.612Z"
   },
   {
    "duration": 5,
    "start_time": "2022-05-20T20:25:13.625Z"
   },
   {
    "duration": 12,
    "start_time": "2022-05-20T20:25:13.631Z"
   },
   {
    "duration": 135,
    "start_time": "2022-05-20T20:25:13.644Z"
   },
   {
    "duration": 8,
    "start_time": "2022-05-20T20:25:13.781Z"
   },
   {
    "duration": 229,
    "start_time": "2022-05-20T20:25:13.801Z"
   },
   {
    "duration": 12,
    "start_time": "2022-05-20T20:25:14.032Z"
   },
   {
    "duration": 208,
    "start_time": "2022-05-20T20:25:14.046Z"
   },
   {
    "duration": 5,
    "start_time": "2022-05-20T20:25:14.256Z"
   },
   {
    "duration": 10,
    "start_time": "2022-05-20T20:25:14.262Z"
   },
   {
    "duration": 112,
    "start_time": "2022-05-20T20:25:14.273Z"
   },
   {
    "duration": 99,
    "start_time": "2022-05-20T20:25:14.387Z"
   },
   {
    "duration": 17,
    "start_time": "2022-05-20T20:25:14.487Z"
   },
   {
    "duration": 8,
    "start_time": "2022-05-20T20:25:14.506Z"
   },
   {
    "duration": 7,
    "start_time": "2022-05-20T20:25:14.516Z"
   },
   {
    "duration": 9,
    "start_time": "2022-05-20T20:25:14.525Z"
   },
   {
    "duration": 106,
    "start_time": "2022-05-20T20:25:14.536Z"
   },
   {
    "duration": 3,
    "start_time": "2022-05-20T20:25:14.644Z"
   },
   {
    "duration": 6,
    "start_time": "2022-05-20T20:25:14.648Z"
   },
   {
    "duration": 6,
    "start_time": "2022-05-20T20:25:14.656Z"
   },
   {
    "duration": 7,
    "start_time": "2022-05-20T20:25:14.664Z"
   },
   {
    "duration": 3448,
    "start_time": "2022-05-20T20:25:14.672Z"
   },
   {
    "duration": 131,
    "start_time": "2022-05-20T20:25:18.122Z"
   },
   {
    "duration": 135,
    "start_time": "2022-05-20T20:25:18.255Z"
   },
   {
    "duration": 186,
    "start_time": "2022-05-20T20:25:18.402Z"
   },
   {
    "duration": 163,
    "start_time": "2022-05-20T20:25:18.589Z"
   },
   {
    "duration": 8,
    "start_time": "2022-05-20T20:25:18.753Z"
   },
   {
    "duration": 14,
    "start_time": "2022-05-20T20:25:18.762Z"
   },
   {
    "duration": 29,
    "start_time": "2022-05-20T20:25:18.778Z"
   },
   {
    "duration": 14,
    "start_time": "2022-05-20T20:25:18.808Z"
   },
   {
    "duration": 25,
    "start_time": "2022-05-20T20:25:18.823Z"
   },
   {
    "duration": 4,
    "start_time": "2022-05-20T20:25:18.850Z"
   },
   {
    "duration": 4,
    "start_time": "2022-05-20T20:25:18.858Z"
   },
   {
    "duration": 6,
    "start_time": "2022-05-20T20:25:18.864Z"
   },
   {
    "duration": 31,
    "start_time": "2022-05-20T20:25:18.871Z"
   },
   {
    "duration": 28,
    "start_time": "2022-05-20T20:25:18.904Z"
   },
   {
    "duration": 155,
    "start_time": "2022-05-20T20:25:18.933Z"
   },
   {
    "duration": 30,
    "start_time": "2022-05-20T20:25:19.090Z"
   },
   {
    "duration": 584,
    "start_time": "2022-05-20T20:25:19.121Z"
   },
   {
    "duration": 213,
    "start_time": "2022-05-20T20:25:19.706Z"
   },
   {
    "duration": 440,
    "start_time": "2022-05-20T20:25:19.921Z"
   },
   {
    "duration": 240,
    "start_time": "2022-05-20T20:25:20.363Z"
   },
   {
    "duration": 8,
    "start_time": "2022-05-20T20:25:20.605Z"
   },
   {
    "duration": 147,
    "start_time": "2022-05-20T20:25:20.615Z"
   },
   {
    "duration": 165,
    "start_time": "2022-05-20T20:25:20.763Z"
   },
   {
    "duration": 384,
    "start_time": "2022-05-20T20:25:20.929Z"
   },
   {
    "duration": 175,
    "start_time": "2022-05-20T20:25:21.315Z"
   },
   {
    "duration": 157,
    "start_time": "2022-05-20T20:25:21.492Z"
   },
   {
    "duration": 5,
    "start_time": "2022-05-20T20:25:21.651Z"
   },
   {
    "duration": 2,
    "start_time": "2022-05-23T01:40:05.335Z"
   },
   {
    "duration": 7,
    "start_time": "2022-05-23T01:40:05.342Z"
   },
   {
    "duration": 8,
    "start_time": "2022-05-23T01:40:05.351Z"
   },
   {
    "duration": 7,
    "start_time": "2022-05-23T01:40:05.361Z"
   },
   {
    "duration": 84,
    "start_time": "2022-05-23T01:40:05.370Z"
   },
   {
    "duration": 7,
    "start_time": "2022-05-23T01:40:05.456Z"
   },
   {
    "duration": 106,
    "start_time": "2022-05-23T01:40:05.465Z"
   },
   {
    "duration": 24,
    "start_time": "2022-05-23T01:40:05.573Z"
   },
   {
    "duration": 44,
    "start_time": "2022-05-23T01:40:05.598Z"
   },
   {
    "duration": 21,
    "start_time": "2022-05-23T01:40:05.644Z"
   },
   {
    "duration": 22,
    "start_time": "2022-05-23T01:40:05.666Z"
   },
   {
    "duration": 36,
    "start_time": "2022-05-23T01:40:05.690Z"
   },
   {
    "duration": 6,
    "start_time": "2022-05-23T01:40:05.727Z"
   },
   {
    "duration": 8,
    "start_time": "2022-05-23T01:40:05.736Z"
   },
   {
    "duration": 5,
    "start_time": "2022-05-23T01:40:05.745Z"
   },
   {
    "duration": 125,
    "start_time": "2022-05-23T01:40:05.752Z"
   },
   {
    "duration": 50,
    "start_time": "2022-05-23T01:40:05.879Z"
   },
   {
    "duration": 5,
    "start_time": "2022-05-23T01:40:05.930Z"
   },
   {
    "duration": 10,
    "start_time": "2022-05-23T01:40:05.936Z"
   },
   {
    "duration": 6,
    "start_time": "2022-05-23T01:40:05.948Z"
   },
   {
    "duration": 10,
    "start_time": "2022-05-23T01:40:05.955Z"
   },
   {
    "duration": 7,
    "start_time": "2022-05-23T01:40:05.966Z"
   },
   {
    "duration": 8,
    "start_time": "2022-05-23T01:40:05.974Z"
   },
   {
    "duration": 6,
    "start_time": "2022-05-23T01:40:05.984Z"
   },
   {
    "duration": 8,
    "start_time": "2022-05-23T01:40:05.991Z"
   },
   {
    "duration": 8,
    "start_time": "2022-05-23T01:40:06.025Z"
   },
   {
    "duration": 23,
    "start_time": "2022-05-23T01:40:06.034Z"
   },
   {
    "duration": 8,
    "start_time": "2022-05-23T01:40:06.058Z"
   },
   {
    "duration": 10,
    "start_time": "2022-05-23T01:40:06.067Z"
   },
   {
    "duration": 30,
    "start_time": "2022-05-23T01:40:06.078Z"
   },
   {
    "duration": 19,
    "start_time": "2022-05-23T01:40:06.109Z"
   },
   {
    "duration": 11,
    "start_time": "2022-05-23T01:40:06.130Z"
   },
   {
    "duration": 8,
    "start_time": "2022-05-23T01:40:06.142Z"
   },
   {
    "duration": 6,
    "start_time": "2022-05-23T01:40:06.151Z"
   },
   {
    "duration": 510,
    "start_time": "2022-05-23T01:40:06.158Z"
   },
   {
    "duration": 7,
    "start_time": "2022-05-23T01:40:06.670Z"
   },
   {
    "duration": 8,
    "start_time": "2022-05-23T01:40:06.679Z"
   },
   {
    "duration": 5,
    "start_time": "2022-05-23T01:40:06.693Z"
   },
   {
    "duration": 43,
    "start_time": "2022-05-23T01:40:06.699Z"
   },
   {
    "duration": 201,
    "start_time": "2022-05-23T01:40:06.743Z"
   },
   {
    "duration": 228,
    "start_time": "2022-05-23T01:40:06.946Z"
   },
   {
    "duration": 238,
    "start_time": "2022-05-23T01:40:07.176Z"
   },
   {
    "duration": 254,
    "start_time": "2022-05-23T01:40:07.416Z"
   },
   {
    "duration": 236,
    "start_time": "2022-05-23T01:40:07.672Z"
   },
   {
    "duration": 240,
    "start_time": "2022-05-23T01:40:07.910Z"
   },
   {
    "duration": 219,
    "start_time": "2022-05-23T01:40:08.152Z"
   },
   {
    "duration": 243,
    "start_time": "2022-05-23T01:40:08.373Z"
   },
   {
    "duration": 12,
    "start_time": "2022-05-23T01:40:08.618Z"
   },
   {
    "duration": 120,
    "start_time": "2022-05-23T01:40:08.632Z"
   },
   {
    "duration": 9,
    "start_time": "2022-05-23T01:40:08.754Z"
   },
   {
    "duration": 6,
    "start_time": "2022-05-23T01:40:08.765Z"
   },
   {
    "duration": 10,
    "start_time": "2022-05-23T01:40:08.773Z"
   },
   {
    "duration": 141,
    "start_time": "2022-05-23T01:40:08.785Z"
   },
   {
    "duration": 6,
    "start_time": "2022-05-23T01:40:08.928Z"
   },
   {
    "duration": 231,
    "start_time": "2022-05-23T01:40:08.936Z"
   },
   {
    "duration": 10,
    "start_time": "2022-05-23T01:40:09.168Z"
   },
   {
    "duration": 122,
    "start_time": "2022-05-23T01:40:09.180Z"
   },
   {
    "duration": 6,
    "start_time": "2022-05-23T01:40:09.304Z"
   },
   {
    "duration": 20,
    "start_time": "2022-05-23T01:40:09.311Z"
   },
   {
    "duration": 393,
    "start_time": "2022-05-23T01:40:09.333Z"
   },
   {
    "duration": 105,
    "start_time": "2022-05-23T01:40:09.728Z"
   },
   {
    "duration": 6,
    "start_time": "2022-05-23T01:40:09.834Z"
   },
   {
    "duration": 10,
    "start_time": "2022-05-23T01:40:09.841Z"
   },
   {
    "duration": 7,
    "start_time": "2022-05-23T01:40:09.852Z"
   },
   {
    "duration": 13,
    "start_time": "2022-05-23T01:40:09.860Z"
   },
   {
    "duration": 131,
    "start_time": "2022-05-23T01:40:09.874Z"
   },
   {
    "duration": 3,
    "start_time": "2022-05-23T01:40:10.007Z"
   },
   {
    "duration": 17,
    "start_time": "2022-05-23T01:40:10.012Z"
   },
   {
    "duration": 18,
    "start_time": "2022-05-23T01:40:10.031Z"
   },
   {
    "duration": 15,
    "start_time": "2022-05-23T01:40:10.051Z"
   },
   {
    "duration": 3229,
    "start_time": "2022-05-23T01:40:10.068Z"
   },
   {
    "duration": 147,
    "start_time": "2022-05-23T01:40:13.299Z"
   },
   {
    "duration": 150,
    "start_time": "2022-05-23T01:40:13.448Z"
   },
   {
    "duration": 180,
    "start_time": "2022-05-23T01:40:13.600Z"
   },
   {
    "duration": 147,
    "start_time": "2022-05-23T01:40:13.781Z"
   },
   {
    "duration": 7,
    "start_time": "2022-05-23T01:40:13.929Z"
   },
   {
    "duration": 15,
    "start_time": "2022-05-23T01:40:13.938Z"
   },
   {
    "duration": 21,
    "start_time": "2022-05-23T01:40:13.954Z"
   },
   {
    "duration": 13,
    "start_time": "2022-05-23T01:40:13.976Z"
   },
   {
    "duration": 47,
    "start_time": "2022-05-23T01:40:13.990Z"
   },
   {
    "duration": 4,
    "start_time": "2022-05-23T01:40:14.039Z"
   },
   {
    "duration": 12,
    "start_time": "2022-05-23T01:40:14.044Z"
   },
   {
    "duration": 7,
    "start_time": "2022-05-23T01:40:14.057Z"
   },
   {
    "duration": 9,
    "start_time": "2022-05-23T01:40:14.066Z"
   },
   {
    "duration": 25,
    "start_time": "2022-05-23T01:40:14.076Z"
   },
   {
    "duration": 160,
    "start_time": "2022-05-23T01:40:14.103Z"
   },
   {
    "duration": 28,
    "start_time": "2022-05-23T01:40:14.265Z"
   },
   {
    "duration": 852,
    "start_time": "2022-05-23T01:40:14.294Z"
   },
   {
    "duration": 201,
    "start_time": "2022-05-23T01:40:15.148Z"
   },
   {
    "duration": 451,
    "start_time": "2022-05-23T01:40:15.350Z"
   },
   {
    "duration": 250,
    "start_time": "2022-05-23T01:40:15.802Z"
   },
   {
    "duration": 8,
    "start_time": "2022-05-23T01:40:16.053Z"
   },
   {
    "duration": 142,
    "start_time": "2022-05-23T01:40:16.063Z"
   },
   {
    "duration": 149,
    "start_time": "2022-05-23T01:40:16.207Z"
   },
   {
    "duration": 180,
    "start_time": "2022-05-23T01:40:16.358Z"
   },
   {
    "duration": 166,
    "start_time": "2022-05-23T01:40:16.539Z"
   },
   {
    "duration": 184,
    "start_time": "2022-05-23T01:40:16.706Z"
   },
   {
    "duration": 6,
    "start_time": "2022-05-23T01:40:16.892Z"
   },
   {
    "duration": 38,
    "start_time": "2022-05-23T01:40:53.570Z"
   },
   {
    "duration": 12,
    "start_time": "2022-05-23T01:41:03.078Z"
   },
   {
    "duration": 11,
    "start_time": "2022-05-23T01:41:19.689Z"
   },
   {
    "duration": 11,
    "start_time": "2022-05-23T01:41:27.706Z"
   },
   {
    "duration": 10,
    "start_time": "2022-05-23T01:42:36.251Z"
   },
   {
    "duration": 16,
    "start_time": "2022-05-23T01:42:41.718Z"
   },
   {
    "duration": 10,
    "start_time": "2022-05-23T01:43:16.899Z"
   },
   {
    "duration": 12,
    "start_time": "2022-05-23T01:43:30.677Z"
   },
   {
    "duration": 28,
    "start_time": "2022-05-23T01:43:37.151Z"
   },
   {
    "duration": 16,
    "start_time": "2022-05-23T01:43:44.689Z"
   },
   {
    "duration": 16,
    "start_time": "2022-05-23T01:43:48.783Z"
   },
   {
    "duration": 484,
    "start_time": "2022-09-30T20:21:47.645Z"
   },
   {
    "duration": 3,
    "start_time": "2022-09-30T20:21:48.131Z"
   },
   {
    "duration": 440,
    "start_time": "2022-09-30T20:21:48.135Z"
   },
   {
    "duration": 557,
    "start_time": "2022-09-30T20:21:48.577Z"
   },
   {
    "duration": 315,
    "start_time": "2022-09-30T20:21:49.136Z"
   },
   {
    "duration": 12,
    "start_time": "2022-09-30T20:21:49.453Z"
   },
   {
    "duration": 115,
    "start_time": "2022-09-30T20:21:49.466Z"
   },
   {
    "duration": 34,
    "start_time": "2022-09-30T20:21:49.583Z"
   },
   {
    "duration": 38,
    "start_time": "2022-09-30T20:21:49.620Z"
   },
   {
    "duration": 20,
    "start_time": "2022-09-30T20:21:49.662Z"
   },
   {
    "duration": 21,
    "start_time": "2022-09-30T20:21:49.683Z"
   },
   {
    "duration": 9,
    "start_time": "2022-09-30T20:21:49.706Z"
   },
   {
    "duration": 12,
    "start_time": "2022-09-30T20:21:49.716Z"
   },
   {
    "duration": 27,
    "start_time": "2022-09-30T20:21:49.730Z"
   },
   {
    "duration": 6,
    "start_time": "2022-09-30T20:21:49.759Z"
   },
   {
    "duration": 120,
    "start_time": "2022-09-30T20:21:49.767Z"
   },
   {
    "duration": 26,
    "start_time": "2022-09-30T20:21:49.889Z"
   },
   {
    "duration": 5,
    "start_time": "2022-09-30T20:21:49.917Z"
   },
   {
    "duration": 42,
    "start_time": "2022-09-30T20:21:49.923Z"
   },
   {
    "duration": 10,
    "start_time": "2022-09-30T20:21:49.967Z"
   },
   {
    "duration": 11,
    "start_time": "2022-09-30T20:21:49.978Z"
   },
   {
    "duration": 7,
    "start_time": "2022-09-30T20:21:49.991Z"
   },
   {
    "duration": 11,
    "start_time": "2022-09-30T20:21:49.999Z"
   },
   {
    "duration": 13,
    "start_time": "2022-09-30T20:21:50.012Z"
   },
   {
    "duration": 13,
    "start_time": "2022-09-30T20:21:50.026Z"
   },
   {
    "duration": 6,
    "start_time": "2022-09-30T20:21:50.055Z"
   },
   {
    "duration": 23,
    "start_time": "2022-09-30T20:21:50.063Z"
   },
   {
    "duration": 12,
    "start_time": "2022-09-30T20:21:50.092Z"
   },
   {
    "duration": 13,
    "start_time": "2022-09-30T20:21:50.106Z"
   },
   {
    "duration": 50,
    "start_time": "2022-09-30T20:21:50.120Z"
   },
   {
    "duration": 5,
    "start_time": "2022-09-30T20:21:50.173Z"
   },
   {
    "duration": 15,
    "start_time": "2022-09-30T20:21:50.180Z"
   },
   {
    "duration": 7,
    "start_time": "2022-09-30T20:21:50.197Z"
   },
   {
    "duration": 6,
    "start_time": "2022-09-30T20:21:50.206Z"
   },
   {
    "duration": 295,
    "start_time": "2022-09-30T20:21:50.213Z"
   },
   {
    "duration": 7,
    "start_time": "2022-09-30T20:21:50.510Z"
   },
   {
    "duration": 6,
    "start_time": "2022-09-30T20:21:50.519Z"
   },
   {
    "duration": 6,
    "start_time": "2022-09-30T20:21:50.526Z"
   },
   {
    "duration": 44,
    "start_time": "2022-09-30T20:21:50.534Z"
   },
   {
    "duration": 230,
    "start_time": "2022-09-30T20:21:50.580Z"
   },
   {
    "duration": 262,
    "start_time": "2022-09-30T20:21:50.812Z"
   },
   {
    "duration": 373,
    "start_time": "2022-09-30T20:21:51.076Z"
   },
   {
    "duration": 322,
    "start_time": "2022-09-30T20:21:51.453Z"
   },
   {
    "duration": 277,
    "start_time": "2022-09-30T20:21:51.777Z"
   },
   {
    "duration": 275,
    "start_time": "2022-09-30T20:21:52.055Z"
   },
   {
    "duration": 244,
    "start_time": "2022-09-30T20:21:52.332Z"
   },
   {
    "duration": 268,
    "start_time": "2022-09-30T20:21:52.578Z"
   },
   {
    "duration": 11,
    "start_time": "2022-09-30T20:21:52.847Z"
   },
   {
    "duration": 223,
    "start_time": "2022-09-30T20:21:52.860Z"
   },
   {
    "duration": 13,
    "start_time": "2022-09-30T20:21:53.085Z"
   },
   {
    "duration": 6,
    "start_time": "2022-09-30T20:21:53.101Z"
   },
   {
    "duration": 20,
    "start_time": "2022-09-30T20:21:53.109Z"
   },
   {
    "duration": 136,
    "start_time": "2022-09-30T20:21:53.131Z"
   },
   {
    "duration": 7,
    "start_time": "2022-09-30T20:21:53.269Z"
   },
   {
    "duration": 262,
    "start_time": "2022-09-30T20:21:53.277Z"
   },
   {
    "duration": 19,
    "start_time": "2022-09-30T20:21:53.541Z"
   },
   {
    "duration": 130,
    "start_time": "2022-09-30T20:21:53.561Z"
   },
   {
    "duration": 6,
    "start_time": "2022-09-30T20:21:53.693Z"
   },
   {
    "duration": 13,
    "start_time": "2022-09-30T20:21:53.701Z"
   },
   {
    "duration": 122,
    "start_time": "2022-09-30T20:21:53.716Z"
   },
   {
    "duration": 116,
    "start_time": "2022-09-30T20:21:53.840Z"
   },
   {
    "duration": 6,
    "start_time": "2022-09-30T20:21:53.957Z"
   },
   {
    "duration": 9,
    "start_time": "2022-09-30T20:21:53.965Z"
   },
   {
    "duration": 7,
    "start_time": "2022-09-30T20:21:53.976Z"
   },
   {
    "duration": 12,
    "start_time": "2022-09-30T20:21:53.985Z"
   },
   {
    "duration": 136,
    "start_time": "2022-09-30T20:21:53.998Z"
   },
   {
    "duration": 4,
    "start_time": "2022-09-30T20:21:54.136Z"
   },
   {
    "duration": 15,
    "start_time": "2022-09-30T20:21:54.142Z"
   },
   {
    "duration": 8,
    "start_time": "2022-09-30T20:21:54.158Z"
   },
   {
    "duration": 6,
    "start_time": "2022-09-30T20:21:54.168Z"
   },
   {
    "duration": 3769,
    "start_time": "2022-09-30T20:21:54.176Z"
   },
   {
    "duration": 150,
    "start_time": "2022-09-30T20:21:57.947Z"
   },
   {
    "duration": 345,
    "start_time": "2022-09-30T20:21:58.099Z"
   },
   {
    "duration": 216,
    "start_time": "2022-09-30T20:21:58.446Z"
   },
   {
    "duration": 167,
    "start_time": "2022-09-30T20:21:58.664Z"
   },
   {
    "duration": 20,
    "start_time": "2022-09-30T20:21:58.833Z"
   },
   {
    "duration": 17,
    "start_time": "2022-09-30T20:21:58.855Z"
   },
   {
    "duration": 28,
    "start_time": "2022-09-30T20:21:58.874Z"
   },
   {
    "duration": 32,
    "start_time": "2022-09-30T20:21:58.904Z"
   },
   {
    "duration": 40,
    "start_time": "2022-09-30T20:21:58.938Z"
   },
   {
    "duration": 6,
    "start_time": "2022-09-30T20:21:58.980Z"
   },
   {
    "duration": 37,
    "start_time": "2022-09-30T20:21:58.992Z"
   },
   {
    "duration": 26,
    "start_time": "2022-09-30T20:21:59.031Z"
   },
   {
    "duration": 15,
    "start_time": "2022-09-30T20:21:59.059Z"
   },
   {
    "duration": 47,
    "start_time": "2022-09-30T20:21:59.076Z"
   },
   {
    "duration": 161,
    "start_time": "2022-09-30T20:21:59.125Z"
   },
   {
    "duration": 29,
    "start_time": "2022-09-30T20:21:59.288Z"
   },
   {
    "duration": 508,
    "start_time": "2022-09-30T20:21:59.318Z"
   },
   {
    "duration": 204,
    "start_time": "2022-09-30T20:21:59.828Z"
   },
   {
    "duration": 485,
    "start_time": "2022-09-30T20:22:00.033Z"
   },
   {
    "duration": 436,
    "start_time": "2022-09-30T20:22:00.520Z"
   },
   {
    "duration": 9,
    "start_time": "2022-09-30T20:22:00.958Z"
   },
   {
    "duration": 170,
    "start_time": "2022-09-30T20:22:00.968Z"
   },
   {
    "duration": 187,
    "start_time": "2022-09-30T20:22:01.140Z"
   },
   {
    "duration": 244,
    "start_time": "2022-09-30T20:22:01.328Z"
   },
   {
    "duration": 205,
    "start_time": "2022-09-30T20:22:01.575Z"
   },
   {
    "duration": 191,
    "start_time": "2022-09-30T20:22:01.783Z"
   },
   {
    "duration": 6,
    "start_time": "2022-09-30T20:22:01.975Z"
   },
   {
    "duration": 433,
    "start_time": "2022-09-30T20:22:40.469Z"
   },
   {
    "duration": 3,
    "start_time": "2022-09-30T20:22:40.904Z"
   },
   {
    "duration": 232,
    "start_time": "2022-09-30T20:22:40.908Z"
   },
   {
    "duration": 615,
    "start_time": "2022-09-30T20:22:41.142Z"
   },
   {
    "duration": 89,
    "start_time": "2022-09-30T20:22:41.760Z"
   },
   {
    "duration": 11,
    "start_time": "2022-09-30T20:22:41.851Z"
   },
   {
    "duration": 100,
    "start_time": "2022-09-30T20:22:41.864Z"
   },
   {
    "duration": 25,
    "start_time": "2022-09-30T20:22:41.965Z"
   },
   {
    "duration": 21,
    "start_time": "2022-09-30T20:22:41.992Z"
   },
   {
    "duration": 21,
    "start_time": "2022-09-30T20:22:42.014Z"
   },
   {
    "duration": 17,
    "start_time": "2022-09-30T20:22:42.054Z"
   },
   {
    "duration": 9,
    "start_time": "2022-09-30T20:22:42.073Z"
   },
   {
    "duration": 12,
    "start_time": "2022-09-30T20:22:42.083Z"
   },
   {
    "duration": 10,
    "start_time": "2022-09-30T20:22:42.098Z"
   },
   {
    "duration": 4,
    "start_time": "2022-09-30T20:22:42.109Z"
   },
   {
    "duration": 109,
    "start_time": "2022-09-30T20:22:42.115Z"
   },
   {
    "duration": 23,
    "start_time": "2022-09-30T20:22:42.255Z"
   },
   {
    "duration": 18,
    "start_time": "2022-09-30T20:22:42.279Z"
   },
   {
    "duration": 32,
    "start_time": "2022-09-30T20:22:42.298Z"
   },
   {
    "duration": 18,
    "start_time": "2022-09-30T20:22:42.332Z"
   },
   {
    "duration": 18,
    "start_time": "2022-09-30T20:22:42.352Z"
   },
   {
    "duration": 18,
    "start_time": "2022-09-30T20:22:42.372Z"
   },
   {
    "duration": 7,
    "start_time": "2022-09-30T20:22:42.392Z"
   },
   {
    "duration": 10,
    "start_time": "2022-09-30T20:22:42.401Z"
   },
   {
    "duration": 8,
    "start_time": "2022-09-30T20:22:42.413Z"
   },
   {
    "duration": 9,
    "start_time": "2022-09-30T20:22:42.422Z"
   },
   {
    "duration": 22,
    "start_time": "2022-09-30T20:22:42.433Z"
   },
   {
    "duration": 8,
    "start_time": "2022-09-30T20:22:42.457Z"
   },
   {
    "duration": 17,
    "start_time": "2022-09-30T20:22:42.466Z"
   },
   {
    "duration": 34,
    "start_time": "2022-09-30T20:22:42.485Z"
   },
   {
    "duration": 4,
    "start_time": "2022-09-30T20:22:42.521Z"
   },
   {
    "duration": 16,
    "start_time": "2022-09-30T20:22:42.526Z"
   },
   {
    "duration": 18,
    "start_time": "2022-09-30T20:22:42.544Z"
   },
   {
    "duration": 12,
    "start_time": "2022-09-30T20:22:42.564Z"
   },
   {
    "duration": 281,
    "start_time": "2022-09-30T20:22:42.578Z"
   },
   {
    "duration": 7,
    "start_time": "2022-09-30T20:22:42.861Z"
   },
   {
    "duration": 25,
    "start_time": "2022-09-30T20:22:42.869Z"
   },
   {
    "duration": 7,
    "start_time": "2022-09-30T20:22:42.896Z"
   },
   {
    "duration": 27,
    "start_time": "2022-09-30T20:22:42.904Z"
   },
   {
    "duration": 207,
    "start_time": "2022-09-30T20:22:42.932Z"
   },
   {
    "duration": 251,
    "start_time": "2022-09-30T20:22:43.143Z"
   },
   {
    "duration": 367,
    "start_time": "2022-09-30T20:22:43.396Z"
   },
   {
    "duration": 307,
    "start_time": "2022-09-30T20:22:43.765Z"
   },
   {
    "duration": 298,
    "start_time": "2022-09-30T20:22:44.074Z"
   },
   {
    "duration": 252,
    "start_time": "2022-09-30T20:22:44.375Z"
   },
   {
    "duration": 233,
    "start_time": "2022-09-30T20:22:44.629Z"
   },
   {
    "duration": 267,
    "start_time": "2022-09-30T20:22:44.863Z"
   },
   {
    "duration": 6,
    "start_time": "2022-09-30T20:22:45.132Z"
   },
   {
    "duration": 261,
    "start_time": "2022-09-30T20:22:45.140Z"
   },
   {
    "duration": 14,
    "start_time": "2022-09-30T20:22:45.403Z"
   },
   {
    "duration": 7,
    "start_time": "2022-09-30T20:22:45.419Z"
   },
   {
    "duration": 35,
    "start_time": "2022-09-30T20:22:45.428Z"
   },
   {
    "duration": 142,
    "start_time": "2022-09-30T20:22:45.465Z"
   },
   {
    "duration": 8,
    "start_time": "2022-09-30T20:22:45.609Z"
   },
   {
    "duration": 250,
    "start_time": "2022-09-30T20:22:45.619Z"
   },
   {
    "duration": 11,
    "start_time": "2022-09-30T20:22:45.871Z"
   },
   {
    "duration": 137,
    "start_time": "2022-09-30T20:22:45.884Z"
   },
   {
    "duration": 7,
    "start_time": "2022-09-30T20:22:46.023Z"
   },
   {
    "duration": 22,
    "start_time": "2022-09-30T20:22:46.032Z"
   },
   {
    "duration": 125,
    "start_time": "2022-09-30T20:22:46.056Z"
   },
   {
    "duration": 113,
    "start_time": "2022-09-30T20:22:46.184Z"
   },
   {
    "duration": 6,
    "start_time": "2022-09-30T20:22:46.298Z"
   },
   {
    "duration": 13,
    "start_time": "2022-09-30T20:22:46.305Z"
   },
   {
    "duration": 9,
    "start_time": "2022-09-30T20:22:46.320Z"
   },
   {
    "duration": 24,
    "start_time": "2022-09-30T20:22:46.330Z"
   },
   {
    "duration": 139,
    "start_time": "2022-09-30T20:22:46.356Z"
   },
   {
    "duration": 4,
    "start_time": "2022-09-30T20:22:46.497Z"
   },
   {
    "duration": 14,
    "start_time": "2022-09-30T20:22:46.503Z"
   },
   {
    "duration": 8,
    "start_time": "2022-09-30T20:22:46.519Z"
   },
   {
    "duration": 25,
    "start_time": "2022-09-30T20:22:46.529Z"
   },
   {
    "duration": 3460,
    "start_time": "2022-09-30T20:22:46.556Z"
   },
   {
    "duration": 275,
    "start_time": "2022-09-30T20:22:50.018Z"
   },
   {
    "duration": 143,
    "start_time": "2022-09-30T20:22:50.295Z"
   },
   {
    "duration": 183,
    "start_time": "2022-09-30T20:22:50.440Z"
   },
   {
    "duration": 159,
    "start_time": "2022-09-30T20:22:50.625Z"
   },
   {
    "duration": 8,
    "start_time": "2022-09-30T20:22:50.785Z"
   },
   {
    "duration": 20,
    "start_time": "2022-09-30T20:22:50.794Z"
   },
   {
    "duration": 15,
    "start_time": "2022-09-30T20:22:50.815Z"
   },
   {
    "duration": 30,
    "start_time": "2022-09-30T20:22:50.831Z"
   },
   {
    "duration": 26,
    "start_time": "2022-09-30T20:22:50.863Z"
   },
   {
    "duration": 4,
    "start_time": "2022-09-30T20:22:50.891Z"
   },
   {
    "duration": 6,
    "start_time": "2022-09-30T20:22:50.897Z"
   },
   {
    "duration": 8,
    "start_time": "2022-09-30T20:22:50.905Z"
   },
   {
    "duration": 12,
    "start_time": "2022-09-30T20:22:50.914Z"
   },
   {
    "duration": 43,
    "start_time": "2022-09-30T20:22:50.928Z"
   },
   {
    "duration": 140,
    "start_time": "2022-09-30T20:22:50.972Z"
   },
   {
    "duration": 50,
    "start_time": "2022-09-30T20:22:51.114Z"
   },
   {
    "duration": 589,
    "start_time": "2022-09-30T20:22:51.166Z"
   },
   {
    "duration": 226,
    "start_time": "2022-09-30T20:22:51.757Z"
   },
   {
    "duration": 604,
    "start_time": "2022-09-30T20:22:51.985Z"
   },
   {
    "duration": 254,
    "start_time": "2022-09-30T20:22:52.590Z"
   },
   {
    "duration": 11,
    "start_time": "2022-09-30T20:22:52.846Z"
   },
   {
    "duration": 140,
    "start_time": "2022-09-30T20:22:52.859Z"
   },
   {
    "duration": 157,
    "start_time": "2022-09-30T20:22:53.000Z"
   },
   {
    "duration": 182,
    "start_time": "2022-09-30T20:22:53.159Z"
   },
   {
    "duration": 154,
    "start_time": "2022-09-30T20:22:53.343Z"
   },
   {
    "duration": 162,
    "start_time": "2022-09-30T20:22:53.499Z"
   },
   {
    "duration": 6,
    "start_time": "2022-09-30T20:22:53.662Z"
   }
  ],
  "kernelspec": {
   "display_name": "Python 3 (ipykernel)",
   "language": "python",
   "name": "python3"
  },
  "language_info": {
   "codemirror_mode": {
    "name": "ipython",
    "version": 3
   },
   "file_extension": ".py",
   "mimetype": "text/x-python",
   "name": "python",
   "nbconvert_exporter": "python",
   "pygments_lexer": "ipython3",
   "version": "3.9.5"
  },
  "toc": {
   "base_numbering": 1,
   "nav_menu": {},
   "number_sections": true,
   "sideBar": true,
   "skip_h1_title": true,
   "title_cell": "Содержание",
   "title_sidebar": "Contents",
   "toc_cell": true,
   "toc_position": {
    "height": "calc(100% - 180px)",
    "left": "10px",
    "top": "150px",
    "width": "197.4px"
   },
   "toc_section_display": true,
   "toc_window_display": true
  }
 },
 "nbformat": 4,
 "nbformat_minor": 4
}
