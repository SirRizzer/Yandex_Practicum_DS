{
 "cells": [
  {
   "cell_type": "markdown",
   "metadata": {},
   "source": [
    "<h1>Содержание<span class=\"tocSkip\"></span></h1>\n",
    "<div class=\"toc\"><ul class=\"toc-item\"><li><span><a href=\"#Подготовка-данных\" data-toc-modified-id=\"Подготовка-данных-1\"><span class=\"toc-item-num\">1&nbsp;&nbsp;</span>Подготовка данных</a></span><ul class=\"toc-item\"><li><span><a href=\"#Подготовка-к-обучению\" data-toc-modified-id=\"Подготовка-к-обучению-1.1\"><span class=\"toc-item-num\">1.1&nbsp;&nbsp;</span>Подготовка к обучению</a></span></li><li><span><a href=\"#Вывод\" data-toc-modified-id=\"Вывод-1.2\"><span class=\"toc-item-num\">1.2&nbsp;&nbsp;</span>Вывод</a></span></li></ul></li><li><span><a href=\"#Обучение-моделей\" data-toc-modified-id=\"Обучение-моделей-2\"><span class=\"toc-item-num\">2&nbsp;&nbsp;</span>Обучение моделей</a></span><ul class=\"toc-item\"><li><span><a href=\"#LinearRegression\" data-toc-modified-id=\"LinearRegression-2.1\"><span class=\"toc-item-num\">2.1&nbsp;&nbsp;</span>LinearRegression</a></span></li><li><span><a href=\"#LightGBM\" data-toc-modified-id=\"LightGBM-2.2\"><span class=\"toc-item-num\">2.2&nbsp;&nbsp;</span>LightGBM</a></span></li><li><span><a href=\"#Catboost\" data-toc-modified-id=\"Catboost-2.3\"><span class=\"toc-item-num\">2.3&nbsp;&nbsp;</span>Catboost</a></span></li></ul></li><li><span><a href=\"#Анализ-моделей\" data-toc-modified-id=\"Анализ-моделей-3\"><span class=\"toc-item-num\">3&nbsp;&nbsp;</span>Анализ моделей</a></span></li><li><span><a href=\"#Вывод\" data-toc-modified-id=\"Вывод-4\"><span class=\"toc-item-num\">4&nbsp;&nbsp;</span>Вывод</a></span></li><li><span><a href=\"#Чек-лист-проверки\" data-toc-modified-id=\"Чек-лист-проверки-5\"><span class=\"toc-item-num\">5&nbsp;&nbsp;</span>Чек-лист проверки</a></span></li></ul></div>"
   ]
  },
  {
   "cell_type": "markdown",
   "metadata": {},
   "source": [
    "# Определение стоимости автомобилей"
   ]
  },
  {
   "cell_type": "markdown",
   "metadata": {},
   "source": [
    "Сервис по продаже автомобилей с пробегом «Не бит, не крашен» разрабатывает приложение для привлечения новых клиентов. В нём можно быстро узнать рыночную стоимость своего автомобиля. В вашем распоряжении исторические данные: технические характеристики, комплектации и цены автомобилей. Вам нужно построить модель для определения стоимости. \n",
    "\n",
    "Заказчику важны:\n",
    "\n",
    "- качество предсказания;\n",
    "- скорость предсказания;\n",
    "- время обучения."
   ]
  },
  {
   "cell_type": "markdown",
   "metadata": {},
   "source": [
    "## Подготовка данных"
   ]
  },
  {
   "cell_type": "code",
   "execution_count": 6,
   "metadata": {},
   "outputs": [],
   "source": [
    "import pandas as pd\n",
    "import matplotlib.pyplot as plt\n",
    "import numpy as np\n",
    "import warnings\n",
    "import time\n",
    "from sklearn.metrics import make_scorer\n",
    "import pandas_profiling\n",
    "from sklearn.model_selection import train_test_split\n",
    "from sklearn.preprocessing import OrdinalEncoder \n",
    "from sklearn.linear_model import LinearRegression\n",
    "from catboost import CatBoostRegressor\n",
    "from lightgbm import LGBMRegressor\n",
    "from sklearn.metrics import mean_squared_error as mse\n",
    "from sklearn.preprocessing import StandardScaler\n",
    "from sklearn.model_selection import GridSearchCV\n",
    "import warnings\n",
    "warnings.filterwarnings(\"ignore\")"
   ]
  },
  {
   "cell_type": "code",
   "execution_count": 7,
   "metadata": {},
   "outputs": [],
   "source": [
    "data = pd.read_csv('/datasets/autos.csv')"
   ]
  },
  {
   "cell_type": "code",
   "execution_count": 3,
   "metadata": {},
   "outputs": [],
   "source": [
    "start_len = len(data)"
   ]
  },
  {
   "cell_type": "code",
   "execution_count": 4,
   "metadata": {},
   "outputs": [],
   "source": [
    "#Функция информации о таблицах\n",
    "def check(df):\n",
    "\n",
    "    print('Первые пять строк: \\n', df.head())\n",
    "    print('########################')\n",
    "    print('Информация о талице: \\n', df.info())\n",
    "    print('########################')\n",
    "    \n",
    "    display(pd.DataFrame(round((df.isna().mean()*100),2), columns=['NaNs, %']).sort_values(by='NaNs, %', ascending=False).style.format(\n",
    "    '{:.2f}').background_gradient('coolwarm'))\n",
    "    print('########################')\n",
    "    print('Количество дупликатов в таблице: \\n', df.duplicated().sum())\n",
    "    print('########################')"
   ]
  },
  {
   "cell_type": "code",
   "execution_count": 5,
   "metadata": {
    "scrolled": true
   },
   "outputs": [
    {
     "name": "stdout",
     "output_type": "stream",
     "text": [
      "Первые пять строк: \n",
      "            DateCrawled  Price VehicleType  RegistrationYear Gearbox  Power  \\\n",
      "0  2016-03-24 11:52:17    480         NaN              1993  manual      0   \n",
      "1  2016-03-24 10:58:45  18300       coupe              2011  manual    190   \n",
      "2  2016-03-14 12:52:21   9800         suv              2004    auto    163   \n",
      "3  2016-03-17 16:54:04   1500       small              2001  manual     75   \n",
      "4  2016-03-31 17:25:20   3600       small              2008  manual     69   \n",
      "\n",
      "   Model  Kilometer  RegistrationMonth  FuelType       Brand NotRepaired  \\\n",
      "0   golf     150000                  0    petrol  volkswagen         NaN   \n",
      "1    NaN     125000                  5  gasoline        audi         yes   \n",
      "2  grand     125000                  8  gasoline        jeep         NaN   \n",
      "3   golf     150000                  6    petrol  volkswagen          no   \n",
      "4  fabia      90000                  7  gasoline       skoda          no   \n",
      "\n",
      "           DateCreated  NumberOfPictures  PostalCode             LastSeen  \n",
      "0  2016-03-24 00:00:00                 0       70435  2016-04-07 03:16:57  \n",
      "1  2016-03-24 00:00:00                 0       66954  2016-04-07 01:46:50  \n",
      "2  2016-03-14 00:00:00                 0       90480  2016-04-05 12:47:46  \n",
      "3  2016-03-17 00:00:00                 0       91074  2016-03-17 17:40:17  \n",
      "4  2016-03-31 00:00:00                 0       60437  2016-04-06 10:17:21  \n",
      "########################\n",
      "<class 'pandas.core.frame.DataFrame'>\n",
      "RangeIndex: 354369 entries, 0 to 354368\n",
      "Data columns (total 16 columns):\n",
      " #   Column             Non-Null Count   Dtype \n",
      "---  ------             --------------   ----- \n",
      " 0   DateCrawled        354369 non-null  object\n",
      " 1   Price              354369 non-null  int64 \n",
      " 2   VehicleType        316879 non-null  object\n",
      " 3   RegistrationYear   354369 non-null  int64 \n",
      " 4   Gearbox            334536 non-null  object\n",
      " 5   Power              354369 non-null  int64 \n",
      " 6   Model              334664 non-null  object\n",
      " 7   Kilometer          354369 non-null  int64 \n",
      " 8   RegistrationMonth  354369 non-null  int64 \n",
      " 9   FuelType           321474 non-null  object\n",
      " 10  Brand              354369 non-null  object\n",
      " 11  NotRepaired        283215 non-null  object\n",
      " 12  DateCreated        354369 non-null  object\n",
      " 13  NumberOfPictures   354369 non-null  int64 \n",
      " 14  PostalCode         354369 non-null  int64 \n",
      " 15  LastSeen           354369 non-null  object\n",
      "dtypes: int64(7), object(9)\n",
      "memory usage: 43.3+ MB\n",
      "Информация о талице: \n",
      " None\n",
      "########################\n"
     ]
    },
    {
     "data": {
      "text/html": [
       "<style  type=\"text/css\" >\n",
       "#T_d8266_row0_col0{\n",
       "            background-color:  #b40426;\n",
       "            color:  #f1f1f1;\n",
       "        }#T_d8266_row1_col0{\n",
       "            background-color:  #e3d9d3;\n",
       "            color:  #000000;\n",
       "        }#T_d8266_row2_col0{\n",
       "            background-color:  #d3dbe7;\n",
       "            color:  #000000;\n",
       "        }#T_d8266_row3_col0{\n",
       "            background-color:  #97b8ff;\n",
       "            color:  #000000;\n",
       "        }#T_d8266_row4_col0{\n",
       "            background-color:  #96b7ff;\n",
       "            color:  #000000;\n",
       "        }#T_d8266_row5_col0,#T_d8266_row6_col0,#T_d8266_row7_col0,#T_d8266_row8_col0,#T_d8266_row9_col0,#T_d8266_row10_col0,#T_d8266_row11_col0,#T_d8266_row12_col0,#T_d8266_row13_col0,#T_d8266_row14_col0,#T_d8266_row15_col0{\n",
       "            background-color:  #3b4cc0;\n",
       "            color:  #f1f1f1;\n",
       "        }</style><table id=\"T_d8266_\" ><thead>    <tr>        <th class=\"blank level0\" ></th>        <th class=\"col_heading level0 col0\" >NaNs, %</th>    </tr></thead><tbody>\n",
       "                <tr>\n",
       "                        <th id=\"T_d8266_level0_row0\" class=\"row_heading level0 row0\" >NotRepaired</th>\n",
       "                        <td id=\"T_d8266_row0_col0\" class=\"data row0 col0\" >20.08</td>\n",
       "            </tr>\n",
       "            <tr>\n",
       "                        <th id=\"T_d8266_level0_row1\" class=\"row_heading level0 row1\" >VehicleType</th>\n",
       "                        <td id=\"T_d8266_row1_col0\" class=\"data row1 col0\" >10.58</td>\n",
       "            </tr>\n",
       "            <tr>\n",
       "                        <th id=\"T_d8266_level0_row2\" class=\"row_heading level0 row2\" >FuelType</th>\n",
       "                        <td id=\"T_d8266_row2_col0\" class=\"data row2 col0\" >9.28</td>\n",
       "            </tr>\n",
       "            <tr>\n",
       "                        <th id=\"T_d8266_level0_row3\" class=\"row_heading level0 row3\" >Gearbox</th>\n",
       "                        <td id=\"T_d8266_row3_col0\" class=\"data row3 col0\" >5.60</td>\n",
       "            </tr>\n",
       "            <tr>\n",
       "                        <th id=\"T_d8266_level0_row4\" class=\"row_heading level0 row4\" >Model</th>\n",
       "                        <td id=\"T_d8266_row4_col0\" class=\"data row4 col0\" >5.56</td>\n",
       "            </tr>\n",
       "            <tr>\n",
       "                        <th id=\"T_d8266_level0_row5\" class=\"row_heading level0 row5\" >DateCrawled</th>\n",
       "                        <td id=\"T_d8266_row5_col0\" class=\"data row5 col0\" >0.00</td>\n",
       "            </tr>\n",
       "            <tr>\n",
       "                        <th id=\"T_d8266_level0_row6\" class=\"row_heading level0 row6\" >Price</th>\n",
       "                        <td id=\"T_d8266_row6_col0\" class=\"data row6 col0\" >0.00</td>\n",
       "            </tr>\n",
       "            <tr>\n",
       "                        <th id=\"T_d8266_level0_row7\" class=\"row_heading level0 row7\" >RegistrationYear</th>\n",
       "                        <td id=\"T_d8266_row7_col0\" class=\"data row7 col0\" >0.00</td>\n",
       "            </tr>\n",
       "            <tr>\n",
       "                        <th id=\"T_d8266_level0_row8\" class=\"row_heading level0 row8\" >Power</th>\n",
       "                        <td id=\"T_d8266_row8_col0\" class=\"data row8 col0\" >0.00</td>\n",
       "            </tr>\n",
       "            <tr>\n",
       "                        <th id=\"T_d8266_level0_row9\" class=\"row_heading level0 row9\" >Kilometer</th>\n",
       "                        <td id=\"T_d8266_row9_col0\" class=\"data row9 col0\" >0.00</td>\n",
       "            </tr>\n",
       "            <tr>\n",
       "                        <th id=\"T_d8266_level0_row10\" class=\"row_heading level0 row10\" >RegistrationMonth</th>\n",
       "                        <td id=\"T_d8266_row10_col0\" class=\"data row10 col0\" >0.00</td>\n",
       "            </tr>\n",
       "            <tr>\n",
       "                        <th id=\"T_d8266_level0_row11\" class=\"row_heading level0 row11\" >Brand</th>\n",
       "                        <td id=\"T_d8266_row11_col0\" class=\"data row11 col0\" >0.00</td>\n",
       "            </tr>\n",
       "            <tr>\n",
       "                        <th id=\"T_d8266_level0_row12\" class=\"row_heading level0 row12\" >DateCreated</th>\n",
       "                        <td id=\"T_d8266_row12_col0\" class=\"data row12 col0\" >0.00</td>\n",
       "            </tr>\n",
       "            <tr>\n",
       "                        <th id=\"T_d8266_level0_row13\" class=\"row_heading level0 row13\" >NumberOfPictures</th>\n",
       "                        <td id=\"T_d8266_row13_col0\" class=\"data row13 col0\" >0.00</td>\n",
       "            </tr>\n",
       "            <tr>\n",
       "                        <th id=\"T_d8266_level0_row14\" class=\"row_heading level0 row14\" >PostalCode</th>\n",
       "                        <td id=\"T_d8266_row14_col0\" class=\"data row14 col0\" >0.00</td>\n",
       "            </tr>\n",
       "            <tr>\n",
       "                        <th id=\"T_d8266_level0_row15\" class=\"row_heading level0 row15\" >LastSeen</th>\n",
       "                        <td id=\"T_d8266_row15_col0\" class=\"data row15 col0\" >0.00</td>\n",
       "            </tr>\n",
       "    </tbody></table>"
      ],
      "text/plain": [
       "<pandas.io.formats.style.Styler at 0x7f323ef0abe0>"
      ]
     },
     "metadata": {},
     "output_type": "display_data"
    },
    {
     "name": "stdout",
     "output_type": "stream",
     "text": [
      "########################\n",
      "Количество дупликатов в таблице: \n",
      " 4\n",
      "########################\n"
     ]
    }
   ],
   "source": [
    "check(data)"
   ]
  },
  {
   "cell_type": "code",
   "execution_count": 6,
   "metadata": {},
   "outputs": [
    {
     "data": {
      "text/html": [
       "<div>\n",
       "<style scoped>\n",
       "    .dataframe tbody tr th:only-of-type {\n",
       "        vertical-align: middle;\n",
       "    }\n",
       "\n",
       "    .dataframe tbody tr th {\n",
       "        vertical-align: top;\n",
       "    }\n",
       "\n",
       "    .dataframe thead th {\n",
       "        text-align: right;\n",
       "    }\n",
       "</style>\n",
       "<table border=\"1\" class=\"dataframe\">\n",
       "  <thead>\n",
       "    <tr style=\"text-align: right;\">\n",
       "      <th></th>\n",
       "      <th>Price</th>\n",
       "      <th>VehicleType</th>\n",
       "      <th>RegistrationYear</th>\n",
       "      <th>Gearbox</th>\n",
       "      <th>Power</th>\n",
       "      <th>Model</th>\n",
       "      <th>Kilometer</th>\n",
       "      <th>FuelType</th>\n",
       "      <th>Brand</th>\n",
       "      <th>NotRepaired</th>\n",
       "    </tr>\n",
       "  </thead>\n",
       "  <tbody>\n",
       "    <tr>\n",
       "      <th>0</th>\n",
       "      <td>480</td>\n",
       "      <td>NaN</td>\n",
       "      <td>1993</td>\n",
       "      <td>manual</td>\n",
       "      <td>0</td>\n",
       "      <td>golf</td>\n",
       "      <td>150000</td>\n",
       "      <td>petrol</td>\n",
       "      <td>volkswagen</td>\n",
       "      <td>NaN</td>\n",
       "    </tr>\n",
       "    <tr>\n",
       "      <th>1</th>\n",
       "      <td>18300</td>\n",
       "      <td>coupe</td>\n",
       "      <td>2011</td>\n",
       "      <td>manual</td>\n",
       "      <td>190</td>\n",
       "      <td>NaN</td>\n",
       "      <td>125000</td>\n",
       "      <td>gasoline</td>\n",
       "      <td>audi</td>\n",
       "      <td>yes</td>\n",
       "    </tr>\n",
       "    <tr>\n",
       "      <th>2</th>\n",
       "      <td>9800</td>\n",
       "      <td>suv</td>\n",
       "      <td>2004</td>\n",
       "      <td>auto</td>\n",
       "      <td>163</td>\n",
       "      <td>grand</td>\n",
       "      <td>125000</td>\n",
       "      <td>gasoline</td>\n",
       "      <td>jeep</td>\n",
       "      <td>NaN</td>\n",
       "    </tr>\n",
       "    <tr>\n",
       "      <th>3</th>\n",
       "      <td>1500</td>\n",
       "      <td>small</td>\n",
       "      <td>2001</td>\n",
       "      <td>manual</td>\n",
       "      <td>75</td>\n",
       "      <td>golf</td>\n",
       "      <td>150000</td>\n",
       "      <td>petrol</td>\n",
       "      <td>volkswagen</td>\n",
       "      <td>no</td>\n",
       "    </tr>\n",
       "    <tr>\n",
       "      <th>4</th>\n",
       "      <td>3600</td>\n",
       "      <td>small</td>\n",
       "      <td>2008</td>\n",
       "      <td>manual</td>\n",
       "      <td>69</td>\n",
       "      <td>fabia</td>\n",
       "      <td>90000</td>\n",
       "      <td>gasoline</td>\n",
       "      <td>skoda</td>\n",
       "      <td>no</td>\n",
       "    </tr>\n",
       "    <tr>\n",
       "      <th>...</th>\n",
       "      <td>...</td>\n",
       "      <td>...</td>\n",
       "      <td>...</td>\n",
       "      <td>...</td>\n",
       "      <td>...</td>\n",
       "      <td>...</td>\n",
       "      <td>...</td>\n",
       "      <td>...</td>\n",
       "      <td>...</td>\n",
       "      <td>...</td>\n",
       "    </tr>\n",
       "    <tr>\n",
       "      <th>354364</th>\n",
       "      <td>0</td>\n",
       "      <td>NaN</td>\n",
       "      <td>2005</td>\n",
       "      <td>manual</td>\n",
       "      <td>0</td>\n",
       "      <td>colt</td>\n",
       "      <td>150000</td>\n",
       "      <td>petrol</td>\n",
       "      <td>mitsubishi</td>\n",
       "      <td>yes</td>\n",
       "    </tr>\n",
       "    <tr>\n",
       "      <th>354365</th>\n",
       "      <td>2200</td>\n",
       "      <td>NaN</td>\n",
       "      <td>2005</td>\n",
       "      <td>NaN</td>\n",
       "      <td>0</td>\n",
       "      <td>NaN</td>\n",
       "      <td>20000</td>\n",
       "      <td>NaN</td>\n",
       "      <td>sonstige_autos</td>\n",
       "      <td>NaN</td>\n",
       "    </tr>\n",
       "    <tr>\n",
       "      <th>354366</th>\n",
       "      <td>1199</td>\n",
       "      <td>convertible</td>\n",
       "      <td>2000</td>\n",
       "      <td>auto</td>\n",
       "      <td>101</td>\n",
       "      <td>fortwo</td>\n",
       "      <td>125000</td>\n",
       "      <td>petrol</td>\n",
       "      <td>smart</td>\n",
       "      <td>no</td>\n",
       "    </tr>\n",
       "    <tr>\n",
       "      <th>354367</th>\n",
       "      <td>9200</td>\n",
       "      <td>bus</td>\n",
       "      <td>1996</td>\n",
       "      <td>manual</td>\n",
       "      <td>102</td>\n",
       "      <td>transporter</td>\n",
       "      <td>150000</td>\n",
       "      <td>gasoline</td>\n",
       "      <td>volkswagen</td>\n",
       "      <td>no</td>\n",
       "    </tr>\n",
       "    <tr>\n",
       "      <th>354368</th>\n",
       "      <td>3400</td>\n",
       "      <td>wagon</td>\n",
       "      <td>2002</td>\n",
       "      <td>manual</td>\n",
       "      <td>100</td>\n",
       "      <td>golf</td>\n",
       "      <td>150000</td>\n",
       "      <td>gasoline</td>\n",
       "      <td>volkswagen</td>\n",
       "      <td>NaN</td>\n",
       "    </tr>\n",
       "  </tbody>\n",
       "</table>\n",
       "<p>354369 rows × 10 columns</p>\n",
       "</div>"
      ],
      "text/plain": [
       "        Price  VehicleType  RegistrationYear Gearbox  Power        Model  \\\n",
       "0         480          NaN              1993  manual      0         golf   \n",
       "1       18300        coupe              2011  manual    190          NaN   \n",
       "2        9800          suv              2004    auto    163        grand   \n",
       "3        1500        small              2001  manual     75         golf   \n",
       "4        3600        small              2008  manual     69        fabia   \n",
       "...       ...          ...               ...     ...    ...          ...   \n",
       "354364      0          NaN              2005  manual      0         colt   \n",
       "354365   2200          NaN              2005     NaN      0          NaN   \n",
       "354366   1199  convertible              2000    auto    101       fortwo   \n",
       "354367   9200          bus              1996  manual    102  transporter   \n",
       "354368   3400        wagon              2002  manual    100         golf   \n",
       "\n",
       "        Kilometer  FuelType           Brand NotRepaired  \n",
       "0          150000    petrol      volkswagen         NaN  \n",
       "1          125000  gasoline            audi         yes  \n",
       "2          125000  gasoline            jeep         NaN  \n",
       "3          150000    petrol      volkswagen          no  \n",
       "4           90000  gasoline           skoda          no  \n",
       "...           ...       ...             ...         ...  \n",
       "354364     150000    petrol      mitsubishi         yes  \n",
       "354365      20000       NaN  sonstige_autos         NaN  \n",
       "354366     125000    petrol           smart          no  \n",
       "354367     150000  gasoline      volkswagen          no  \n",
       "354368     150000  gasoline      volkswagen         NaN  \n",
       "\n",
       "[354369 rows x 10 columns]"
      ]
     },
     "execution_count": 6,
     "metadata": {},
     "output_type": "execute_result"
    }
   ],
   "source": [
    "#Удалим ненужные для обучения столбцы\n",
    "data = data.drop(columns=['LastSeen', 'DateCrawled', 'RegistrationMonth', 'DateCreated', 'NumberOfPictures', 'PostalCode'])\n",
    "data"
   ]
  },
  {
   "cell_type": "code",
   "execution_count": 7,
   "metadata": {},
   "outputs": [],
   "source": [
    "data.columns = data.columns.str.lower()"
   ]
  },
  {
   "cell_type": "code",
   "execution_count": 8,
   "metadata": {},
   "outputs": [
    {
     "name": "stdout",
     "output_type": "stream",
     "text": [
      "price : [    0     1     2 ... 19998 19999 20000]\n",
      "\n"
     ]
    },
    {
     "data": {
      "image/png": "[encoded data removed]",
      "text/plain": [
       "<Figure size 432x288 with 1 Axes>"
      ]
     },
     "metadata": {
      "needs_background": "light"
     },
     "output_type": "display_data"
    },
    {
     "name": "stdout",
     "output_type": "stream",
     "text": [
      "vehicletype : ['bus' 'convertible' 'coupe' 'other' 'sedan' 'small' 'suv' 'wagon' nan]\n",
      "\n",
      "registrationyear : [1000 1001 1039 1111 1200 1234 1253 1255 1300 1400 1500 1600 1602 1688\n",
      " 1800 1910 1915 1919 1920 1923 1925 1927 1928 1929 1930 1931 1932 1933\n",
      " 1934 1935 1936 1937 1938 1940 1941 1942 1943 1944 1945 1946 1947 1948\n",
      " 1949 1950 1951 1952 1953 1954 1955 1956 1957 1958 1959 1960 1961 1962\n",
      " 1963 1964 1965 1966 1967 1968 1969 1970 1971 1972 1973 1974 1975 1976\n",
      " 1977 1978 1979 1980 1981 1982 1983 1984 1985 1986 1987 1988 1989 1990\n",
      " 1991 1992 1993 1994 1995 1996 1997 1998 1999 2000 2001 2002 2003 2004\n",
      " 2005 2006 2007 2008 2009 2010 2011 2012 2013 2014 2015 2016 2017 2018\n",
      " 2019 2066 2200 2222 2290 2500 2800 2900 3000 3200 3500 3700 3800 4000\n",
      " 4100 4500 4800 5000 5300 5555 5600 5900 5911 6000 6500 7000 7100 7500\n",
      " 7800 8000 8200 8455 8500 8888 9000 9229 9450 9996 9999]\n",
      "\n"
     ]
    },
    {
     "data": {
      "image/png": "[encoded data removed]",
      "text/plain": [
       "<Figure size 432x288 with 1 Axes>"
      ]
     },
     "metadata": {
      "needs_background": "light"
     },
     "output_type": "display_data"
    },
    {
     "name": "stdout",
     "output_type": "stream",
     "text": [
      "gearbox : ['auto' 'manual' nan]\n",
      "\n",
      "power : [    0     1     2     3     4     5     6     7     8     9    10    11\n",
      "    12    13    14    15    16    17    18    19    20    21    22    23\n",
      "    24    25    26    27    28    29    30    31    32    33    34    35\n",
      "    36    37    38    39    40    41    42    43    44    45    46    47\n",
      "    48    49    50    51    52    53    54    55    56    57    58    59\n",
      "    60    61    62    63    64    65    66    67    68    69    70    71\n",
      "    72    73    74    75    76    77    78    79    80    81    82    83\n",
      "    84    85    86    87    88    89    90    91    92    93    94    95\n",
      "    96    97    98    99   100   101   102   103   104   105   106   107\n",
      "   108   109   110   111   112   113   114   115   116   117   118   119\n",
      "   120   121   122   123   124   125   126   127   128   129   130   131\n",
      "   132   133   134   135   136   137   138   139   140   141   142   143\n",
      "   144   145   146   147   148   149   150   151   152   153   154   155\n",
      "   156   157   158   159   160   161   162   163   164   165   166   167\n",
      "   168   169   170   171   172   173   174   175   176   177   178   179\n",
      "   180   181   182   183   184   185   186   187   188   189   190   191\n",
      "   192   193   194   195   196   197   198   199   200   201   202   203\n",
      "   204   205   206   207   208   209   210   211   212   213   214   215\n",
      "   216   217   218   219   220   221   222   223   224   225   226   227\n",
      "   228   229   230   231   232   233   234   235   236   237   238   239\n",
      "   240   241   242   243   244   245   246   247   248   249   250   251\n",
      "   252   253   254   255   256   257   258   259   260   261   262   264\n",
      "   265   266   267   268   269   270   271   272   273   274   275   276\n",
      "   277   278   279   280   281   282   283   284   285   286   287   288\n",
      "   289   290   292   293   294   295   296   297   298   299   300   301\n",
      "   303   304   305   306   307   308   309   310   311   313   314   315\n",
      "   316   317   318   320   321   322   323   324   325   326   327   328\n",
      "   329   330   331   332   333   334   335   336   337   338   339   340\n",
      "   341   343   344   345   346   347   348   349   350   351   352   353\n",
      "   354   355   356   357   358   360   361   362   363   364   365   367\n",
      "   368   370   371   374   375   376   377   379   380   381   382   385\n",
      "   386   387   388   390   392   394   396   398   399   400   401   402\n",
      "   405   408   409   411   416   420   421   425   426   428   430   431\n",
      "   435   440   442   445   449   450   454   457   459   460   475   476\n",
      "   485   487   489   490   500   504   505   507   508   510   514   515\n",
      "   517   519   520   521   525   530   540   541   544   550   551   553\n",
      "   560   572   574   579   580   584   585   599   600   601   602   603\n",
      "   604   606   607   610   612   620   640   645   650   651   671   678\n",
      "   682   685   696   700   702   703   732   743   750   751   754   771\n",
      "   776   800   805   808   850   851   871   900   901   902   903   907\n",
      "   909   923   950   952   953   960   998   999  1000  1001  1002  1003\n",
      "  1004  1005  1011  1012  1016  1017  1021  1024  1054  1055  1056  1062\n",
      "  1079  1082  1090  1100  1102  1103  1105  1111  1115  1120  1149  1151\n",
      "  1158  1160  1162  1164  1199  1200  1202  1221  1223  1230  1239  1240\n",
      "  1241  1250  1252  1256  1275  1288  1299  1300  1312  1317  1324  1339\n",
      "  1351  1360  1362  1363  1367  1390  1394  1398  1399  1400  1401  1403\n",
      "  1405  1416  1432  1433  1436  1500  1501  1502  1503  1506  1521  1548\n",
      "  1595  1596  1597  1598  1600  1625  1631  1653  1659  1689  1700  1701\n",
      "  1703  1704  1707  1753  1771  1779  1780  1781  1783  1793  1796  1799\n",
      "  1800  1801  1870  1895  1896  1900  1910  1920  1922  1933  1937  1968\n",
      "  1986  1988  1992  1993  1995  1998  1999  2000  2004  2005  2007  2009\n",
      "  2016  2017  2018  2172  2200  2201  2331  2340  2389  2402  2461  2598\n",
      "  2729  2789  2792  2799  3000  3199  3454  3500  3750  4400  4507  4700\n",
      "  5000  5411  5420  5575  5809  5815  5867  6006  6010  6011  6012  6018\n",
      "  6045  6062  6226  6512  6920  7508  7511  7512  7515  7518  7529  7544\n",
      "  8011  8259  8404  8500  9000  9007  9010  9011  9012  9013  9710 10000\n",
      " 10110 10218 10311 10317 10520 10522 10710 10910 10912 11011 11025 11111\n",
      " 11509 11530 11635 12012 12510 12512 12684 13616 13636 14009 15001 15016\n",
      " 15017 15020 15033 16011 16051 16311 16312 17011 17019 17410 17700 17932\n",
      " 19208 19211 19312 20000]\n",
      "\n"
     ]
    },
    {
     "data": {
      "image/png": "[encoded data removed]",
      "text/plain": [
       "<Figure size 432x288 with 1 Axes>"
      ]
     },
     "metadata": {
      "needs_background": "light"
     },
     "output_type": "display_data"
    },
    {
     "name": "stdout",
     "output_type": "stream",
     "text": [
      "model : ['100' '145' '147' '156' '159' '1_reihe' '1er' '200' '2_reihe' '300c'\n",
      " '3_reihe' '3er' '4_reihe' '500' '5_reihe' '5er' '601' '6_reihe' '6er'\n",
      " '7er' '80' '850' '90' '900' '9000' '911' 'a1' 'a2' 'a3' 'a4' 'a5' 'a6'\n",
      " 'a8' 'a_klasse' 'accord' 'agila' 'alhambra' 'almera' 'altea' 'amarok'\n",
      " 'antara' 'arosa' 'astra' 'auris' 'avensis' 'aveo' 'aygo' 'b_klasse'\n",
      " 'b_max' 'beetle' 'berlingo' 'bora' 'boxster' 'bravo' 'c1' 'c2' 'c3' 'c4'\n",
      " 'c5' 'c_klasse' 'c_max' 'c_reihe' 'caddy' 'calibra' 'captiva' 'carisma'\n",
      " 'carnival' 'cayenne' 'cc' 'ceed' 'charade' 'cherokee' 'citigo' 'civic'\n",
      " 'cl' 'clio' 'clk' 'clubman' 'colt' 'combo' 'cooper' 'cordoba' 'corolla'\n",
      " 'corsa' 'cr_reihe' 'croma' 'crossfire' 'cuore' 'cx_reihe' 'defender'\n",
      " 'delta' 'discovery' 'doblo' 'ducato' 'duster' 'e_klasse' 'elefantino'\n",
      " 'eos' 'escort' 'espace' 'exeo' 'fabia' 'fiesta' 'focus' 'forester'\n",
      " 'forfour' 'fortwo' 'fox' 'freelander' 'fusion' 'g_klasse' 'galant'\n",
      " 'galaxy' 'getz' 'gl' 'glk' 'golf' 'grand' 'i3' 'i_reihe' 'ibiza'\n",
      " 'impreza' 'insignia' 'jazz' 'jetta' 'jimny' 'juke' 'justy' 'ka' 'kadett'\n",
      " 'kaefer' 'kalina' 'kalos' 'kangoo' 'kappa' 'kuga' 'laguna' 'lancer'\n",
      " 'lanos' 'legacy' 'leon' 'lodgy' 'logan' 'lupo' 'lybra' 'm_klasse'\n",
      " 'm_reihe' 'materia' 'matiz' 'megane' 'meriva' 'micra' 'mii' 'modus'\n",
      " 'mondeo' 'move' 'musa' 'mustang' 'mx_reihe' 'navara' 'niva' 'note'\n",
      " 'nubira' 'octavia' 'omega' 'one' 'other' 'outlander' 'pajero' 'panda'\n",
      " 'passat' 'phaeton' 'picanto' 'polo' 'primera' 'ptcruiser' 'punto' 'q3'\n",
      " 'q5' 'q7' 'qashqai' 'r19' 'range_rover' 'range_rover_evoque'\n",
      " 'range_rover_sport' 'rangerover' 'rav' 'rio' 'roadster' 'roomster'\n",
      " 'rx_reihe' 's60' 's_klasse' 's_max' 's_type' 'samara' 'sandero' 'santa'\n",
      " 'scenic' 'scirocco' 'seicento' 'serie_1' 'serie_2' 'serie_3' 'sharan'\n",
      " 'signum' 'sirion' 'sl' 'slk' 'sorento' 'spark' 'spider' 'sportage'\n",
      " 'sprinter' 'stilo' 'superb' 'swift' 'terios' 'tigra' 'tiguan' 'toledo'\n",
      " 'touareg' 'touran' 'transit' 'transporter' 'tt' 'tucson' 'twingo' 'up'\n",
      " 'v40' 'v50' 'v60' 'v70' 'v_klasse' 'vectra' 'verso' 'viano' 'vito'\n",
      " 'vivaro' 'voyager' 'wrangler' 'x_reihe' 'x_trail' 'x_type' 'xc_reihe'\n",
      " 'yaris' 'yeti' 'ypsilon' 'z_reihe' 'zafira' nan]\n",
      "\n",
      "kilometer : [  5000  10000  20000  30000  40000  50000  60000  70000  80000  90000\n",
      " 100000 125000 150000]\n",
      "\n"
     ]
    },
    {
     "data": {
      "image/png": "[encoded data removed]",
      "text/plain": [
       "<Figure size 432x288 with 1 Axes>"
      ]
     },
     "metadata": {
      "needs_background": "light"
     },
     "output_type": "display_data"
    },
    {
     "name": "stdout",
     "output_type": "stream",
     "text": [
      "fueltype : ['cng' 'electric' 'gasoline' 'hybrid' 'lpg' 'other' 'petrol' nan]\n",
      "\n",
      "brand : ['alfa_romeo' 'audi' 'bmw' 'chevrolet' 'chrysler' 'citroen' 'dacia'\n",
      " 'daewoo' 'daihatsu' 'fiat' 'ford' 'honda' 'hyundai' 'jaguar' 'jeep' 'kia'\n",
      " 'lada' 'lancia' 'land_rover' 'mazda' 'mercedes_benz' 'mini' 'mitsubishi'\n",
      " 'nissan' 'opel' 'peugeot' 'porsche' 'renault' 'rover' 'saab' 'seat'\n",
      " 'skoda' 'smart' 'sonstige_autos' 'subaru' 'suzuki' 'toyota' 'trabant'\n",
      " 'volkswagen' 'volvo']\n",
      "\n",
      "notrepaired : ['no' 'yes' nan]\n",
      "\n"
     ]
    }
   ],
   "source": [
    "#Посмотрим значения в колонках\n",
    "def inf(col):\n",
    "    for i in col:\n",
    "        print(i, ':', data[i].sort_values().unique())\n",
    "        print()\n",
    "        if data[i].dtypes == 'int64':\n",
    "            plt.boxplot(data[i])\n",
    "            plt.show()\n",
    "    \n",
    "inf(data.columns)\n"
   ]
  },
  {
   "cell_type": "markdown",
   "metadata": {},
   "source": [
    "Видно, что есть цены 0 и ниже 100 евро за машину, что маловероятно. В столбцах registrationyear, power есть аномальные значения В столбцах vehicletype, gearbox, model, fueltype, notrepaired заполним nan unknown"
   ]
  },
  {
   "cell_type": "code",
   "execution_count": 9,
   "metadata": {},
   "outputs": [],
   "source": [
    "def fill(column):\n",
    "    for i in column:\n",
    "        data[i] = data[i].fillna('unknown')\n",
    "fill(['vehicletype', 'notrepaired', 'fueltype', 'gearbox', 'model'])"
   ]
  },
  {
   "cell_type": "code",
   "execution_count": 10,
   "metadata": {},
   "outputs": [
    {
     "name": "stdout",
     "output_type": "stream",
     "text": [
      "Первые пять строк: \n",
      "    price vehicletype  registrationyear gearbox  power    model  kilometer  \\\n",
      "0    480     unknown              1993  manual      0     golf     150000   \n",
      "1  18300       coupe              2011  manual    190  unknown     125000   \n",
      "2   9800         suv              2004    auto    163    grand     125000   \n",
      "3   1500       small              2001  manual     75     golf     150000   \n",
      "4   3600       small              2008  manual     69    fabia      90000   \n",
      "\n",
      "   fueltype       brand notrepaired  \n",
      "0    petrol  volkswagen     unknown  \n",
      "1  gasoline        audi         yes  \n",
      "2  gasoline        jeep     unknown  \n",
      "3    petrol  volkswagen          no  \n",
      "4  gasoline       skoda          no  \n",
      "########################\n",
      "<class 'pandas.core.frame.DataFrame'>\n",
      "RangeIndex: 354369 entries, 0 to 354368\n",
      "Data columns (total 10 columns):\n",
      " #   Column            Non-Null Count   Dtype \n",
      "---  ------            --------------   ----- \n",
      " 0   price             354369 non-null  int64 \n",
      " 1   vehicletype       354369 non-null  object\n",
      " 2   registrationyear  354369 non-null  int64 \n",
      " 3   gearbox           354369 non-null  object\n",
      " 4   power             354369 non-null  int64 \n",
      " 5   model             354369 non-null  object\n",
      " 6   kilometer         354369 non-null  int64 \n",
      " 7   fueltype          354369 non-null  object\n",
      " 8   brand             354369 non-null  object\n",
      " 9   notrepaired       354369 non-null  object\n",
      "dtypes: int64(4), object(6)\n",
      "memory usage: 27.0+ MB\n",
      "Информация о талице: \n",
      " None\n",
      "########################\n"
     ]
    },
    {
     "data": {
      "text/html": [
       "<style  type=\"text/css\" >\n",
       "#T_239de_row0_col0,#T_239de_row1_col0,#T_239de_row2_col0,#T_239de_row3_col0,#T_239de_row4_col0,#T_239de_row5_col0,#T_239de_row6_col0,#T_239de_row7_col0,#T_239de_row8_col0,#T_239de_row9_col0{\n",
       "            background-color:  #3b4cc0;\n",
       "            color:  #f1f1f1;\n",
       "        }</style><table id=\"T_239de_\" ><thead>    <tr>        <th class=\"blank level0\" ></th>        <th class=\"col_heading level0 col0\" >NaNs, %</th>    </tr></thead><tbody>\n",
       "                <tr>\n",
       "                        <th id=\"T_239de_level0_row0\" class=\"row_heading level0 row0\" >price</th>\n",
       "                        <td id=\"T_239de_row0_col0\" class=\"data row0 col0\" >0.00</td>\n",
       "            </tr>\n",
       "            <tr>\n",
       "                        <th id=\"T_239de_level0_row1\" class=\"row_heading level0 row1\" >vehicletype</th>\n",
       "                        <td id=\"T_239de_row1_col0\" class=\"data row1 col0\" >0.00</td>\n",
       "            </tr>\n",
       "            <tr>\n",
       "                        <th id=\"T_239de_level0_row2\" class=\"row_heading level0 row2\" >registrationyear</th>\n",
       "                        <td id=\"T_239de_row2_col0\" class=\"data row2 col0\" >0.00</td>\n",
       "            </tr>\n",
       "            <tr>\n",
       "                        <th id=\"T_239de_level0_row3\" class=\"row_heading level0 row3\" >gearbox</th>\n",
       "                        <td id=\"T_239de_row3_col0\" class=\"data row3 col0\" >0.00</td>\n",
       "            </tr>\n",
       "            <tr>\n",
       "                        <th id=\"T_239de_level0_row4\" class=\"row_heading level0 row4\" >power</th>\n",
       "                        <td id=\"T_239de_row4_col0\" class=\"data row4 col0\" >0.00</td>\n",
       "            </tr>\n",
       "            <tr>\n",
       "                        <th id=\"T_239de_level0_row5\" class=\"row_heading level0 row5\" >model</th>\n",
       "                        <td id=\"T_239de_row5_col0\" class=\"data row5 col0\" >0.00</td>\n",
       "            </tr>\n",
       "            <tr>\n",
       "                        <th id=\"T_239de_level0_row6\" class=\"row_heading level0 row6\" >kilometer</th>\n",
       "                        <td id=\"T_239de_row6_col0\" class=\"data row6 col0\" >0.00</td>\n",
       "            </tr>\n",
       "            <tr>\n",
       "                        <th id=\"T_239de_level0_row7\" class=\"row_heading level0 row7\" >fueltype</th>\n",
       "                        <td id=\"T_239de_row7_col0\" class=\"data row7 col0\" >0.00</td>\n",
       "            </tr>\n",
       "            <tr>\n",
       "                        <th id=\"T_239de_level0_row8\" class=\"row_heading level0 row8\" >brand</th>\n",
       "                        <td id=\"T_239de_row8_col0\" class=\"data row8 col0\" >0.00</td>\n",
       "            </tr>\n",
       "            <tr>\n",
       "                        <th id=\"T_239de_level0_row9\" class=\"row_heading level0 row9\" >notrepaired</th>\n",
       "                        <td id=\"T_239de_row9_col0\" class=\"data row9 col0\" >0.00</td>\n",
       "            </tr>\n",
       "    </tbody></table>"
      ],
      "text/plain": [
       "<pandas.io.formats.style.Styler at 0x7f3213e1f250>"
      ]
     },
     "metadata": {},
     "output_type": "display_data"
    },
    {
     "name": "stdout",
     "output_type": "stream",
     "text": [
      "########################\n",
      "Количество дупликатов в таблице: \n",
      " 45040\n",
      "########################\n"
     ]
    }
   ],
   "source": [
    "check(data)"
   ]
  },
  {
   "cell_type": "code",
   "execution_count": 11,
   "metadata": {},
   "outputs": [],
   "source": [
    "data = data.drop_duplicates()"
   ]
  },
  {
   "cell_type": "code",
   "execution_count": 12,
   "metadata": {},
   "outputs": [
    {
     "data": {
      "text/plain": [
       "0        8904\n",
       "1        1075\n",
       "2          12\n",
       "3           7\n",
       "4           1\n",
       "         ... \n",
       "19995       9\n",
       "19997       1\n",
       "19998       5\n",
       "19999     252\n",
       "20000     223\n",
       "Name: price, Length: 3731, dtype: int64"
      ]
     },
     "execution_count": 12,
     "metadata": {},
     "output_type": "execute_result"
    }
   ],
   "source": [
    "data['price'].value_counts().sort_index()"
   ]
  },
  {
   "cell_type": "markdown",
   "metadata": {},
   "source": [
    "Видим, что много значений 0, и около него, так что рассмотрим до 100 евро"
   ]
  },
  {
   "cell_type": "code",
   "execution_count": 13,
   "metadata": {},
   "outputs": [
    {
     "data": {
      "text/plain": [
       "0     8904\n",
       "1     1075\n",
       "2       12\n",
       "3        7\n",
       "4        1\n",
       "5       26\n",
       "7        3\n",
       "8        6\n",
       "9        7\n",
       "10      81\n",
       "11       5\n",
       "12       7\n",
       "13       7\n",
       "14       5\n",
       "15      26\n",
       "16       2\n",
       "17       5\n",
       "18       3\n",
       "19       3\n",
       "20      49\n",
       "21       1\n",
       "24       1\n",
       "25      33\n",
       "26       1\n",
       "27       1\n",
       "29       2\n",
       "30      55\n",
       "32       1\n",
       "33       1\n",
       "35      18\n",
       "38       1\n",
       "39       6\n",
       "40      40\n",
       "45      16\n",
       "47       1\n",
       "49      11\n",
       "50     316\n",
       "55      20\n",
       "58       1\n",
       "59       5\n",
       "60      58\n",
       "65      17\n",
       "66       1\n",
       "69       3\n",
       "70      67\n",
       "74       1\n",
       "75      52\n",
       "77       1\n",
       "79       4\n",
       "80     140\n",
       "85      11\n",
       "88       1\n",
       "89       2\n",
       "90      39\n",
       "95      13\n",
       "98       2\n",
       "99     104\n",
       "Name: price, dtype: int64"
      ]
     },
     "execution_count": 13,
     "metadata": {},
     "output_type": "execute_result"
    }
   ],
   "source": [
    "data[data['price']<100]['price'].value_counts().sort_index()"
   ]
  },
  {
   "cell_type": "code",
   "execution_count": 14,
   "metadata": {
    "scrolled": true
   },
   "outputs": [
    {
     "data": {
      "text/plain": [
       "<AxesSubplot:>"
      ]
     },
     "execution_count": 14,
     "metadata": {},
     "output_type": "execute_result"
    },
    {
     "data": {
      "image/png": "[encoded data removed]",
      "text/plain": [
       "<Figure size 432x288 with 1 Axes>"
      ]
     },
     "metadata": {
      "needs_background": "light"
     },
     "output_type": "display_data"
    }
   ],
   "source": [
    "data[data['price']<100]['price'].hist(bins = 100)"
   ]
  },
  {
   "cell_type": "code",
   "execution_count": 15,
   "metadata": {},
   "outputs": [],
   "source": [
    "#Удалим строки, где price <1\n",
    "data = data[data['price']>1]"
   ]
  },
  {
   "cell_type": "code",
   "execution_count": 16,
   "metadata": {},
   "outputs": [
    {
     "data": {
      "text/plain": [
       "0        32552\n",
       "1           24\n",
       "2            9\n",
       "3            9\n",
       "4           26\n",
       "         ...  \n",
       "17932        1\n",
       "19208        1\n",
       "19211        1\n",
       "19312        1\n",
       "20000        1\n",
       "Name: power, Length: 698, dtype: int64"
      ]
     },
     "execution_count": 16,
     "metadata": {},
     "output_type": "execute_result"
    }
   ],
   "source": [
    "data['power'].value_counts().sort_index()"
   ]
  },
  {
   "cell_type": "markdown",
   "metadata": {},
   "source": [
    "Видим, что много строк, где мощность равна нулю или около него, так же есть выборы, где мощность более 1000"
   ]
  },
  {
   "cell_type": "code",
   "execution_count": 17,
   "metadata": {},
   "outputs": [
    {
     "data": {
      "text/plain": [
       "<AxesSubplot:>"
      ]
     },
     "execution_count": 17,
     "metadata": {},
     "output_type": "execute_result"
    },
    {
     "data": {
      "image/png": "[encoded data removed]",
      "text/plain": [
       "<Figure size 432x288 with 1 Axes>"
      ]
     },
     "metadata": {
      "needs_background": "light"
     },
     "output_type": "display_data"
    }
   ],
   "source": [
    "data[data['power']<1000]['power'].hist(bins = 30)"
   ]
  },
  {
   "cell_type": "markdown",
   "metadata": {},
   "source": [
    "Видим, что больше 450 мощности - это выбросы"
   ]
  },
  {
   "cell_type": "code",
   "execution_count": 18,
   "metadata": {},
   "outputs": [
    {
     "data": {
      "text/plain": [
       "33232"
      ]
     },
     "execution_count": 18,
     "metadata": {},
     "output_type": "execute_result"
    }
   ],
   "source": [
    "#Количество строк с мощностью меньше 10 и больше 450\n",
    "len(data[(data['power']>450) | (data['power']<10)]['power'])"
   ]
  },
  {
   "cell_type": "code",
   "execution_count": 19,
   "metadata": {
    "scrolled": true
   },
   "outputs": [
    {
     "data": {
      "image/png": "[encoded data removed]",
      "text/plain": [
       "<Figure size 432x288 with 1 Axes>"
      ]
     },
     "metadata": {
      "needs_background": "light"
     },
     "output_type": "display_data"
    }
   ],
   "source": [
    "data = data[(data['power']<500) & (data['power']>10)]\n",
    "plt.boxplot(data['power'])\n",
    "plt.show()"
   ]
  },
  {
   "cell_type": "code",
   "execution_count": 20,
   "metadata": {},
   "outputs": [
    {
     "data": {
      "text/plain": [
       "1000    2\n",
       "1234    1\n",
       "1500    1\n",
       "1800    2\n",
       "1910    5\n",
       "       ..\n",
       "5000    6\n",
       "5911    1\n",
       "6000    2\n",
       "8200    1\n",
       "9999    1\n",
       "Name: registrationyear, Length: 105, dtype: int64"
      ]
     },
     "execution_count": 20,
     "metadata": {},
     "output_type": "execute_result"
    }
   ],
   "source": [
    "data['registrationyear'].value_counts().sort_index()"
   ]
  },
  {
   "cell_type": "code",
   "execution_count": 21,
   "metadata": {},
   "outputs": [
    {
     "data": {
      "text/plain": [
       "<AxesSubplot:>"
      ]
     },
     "execution_count": 21,
     "metadata": {},
     "output_type": "execute_result"
    },
    {
     "data": {
      "image/png": "[encoded data removed]",
      "text/plain": [
       "<Figure size 432x288 with 1 Axes>"
      ]
     },
     "metadata": {
      "needs_background": "light"
     },
     "output_type": "display_data"
    }
   ],
   "source": [
    "data[(data['registrationyear']>1950) & (data['registrationyear']<2022)]['registrationyear'].hist(bins = 90)"
   ]
  },
  {
   "cell_type": "code",
   "execution_count": 22,
   "metadata": {},
   "outputs": [],
   "source": [
    "data = data[(data['registrationyear']>1960) & (data['registrationyear']<2016)]"
   ]
  },
  {
   "cell_type": "code",
   "execution_count": 23,
   "metadata": {},
   "outputs": [
    {
     "name": "stdout",
     "output_type": "stream",
     "text": [
      "Первые пять строк: \n",
      "    price vehicletype  registrationyear gearbox  power    model  kilometer  \\\n",
      "1  18300       coupe              2011  manual    190  unknown     125000   \n",
      "2   9800         suv              2004    auto    163    grand     125000   \n",
      "3   1500       small              2001  manual     75     golf     150000   \n",
      "4   3600       small              2008  manual     69    fabia      90000   \n",
      "5    650       sedan              1995  manual    102      3er     150000   \n",
      "\n",
      "   fueltype       brand notrepaired  \n",
      "1  gasoline        audi         yes  \n",
      "2  gasoline        jeep     unknown  \n",
      "3    petrol  volkswagen          no  \n",
      "4  gasoline       skoda          no  \n",
      "5    petrol         bmw         yes  \n",
      "########################\n",
      "<class 'pandas.core.frame.DataFrame'>\n",
      "Int64Index: 250378 entries, 1 to 354368\n",
      "Data columns (total 10 columns):\n",
      " #   Column            Non-Null Count   Dtype \n",
      "---  ------            --------------   ----- \n",
      " 0   price             250378 non-null  int64 \n",
      " 1   vehicletype       250378 non-null  object\n",
      " 2   registrationyear  250378 non-null  int64 \n",
      " 3   gearbox           250378 non-null  object\n",
      " 4   power             250378 non-null  int64 \n",
      " 5   model             250378 non-null  object\n",
      " 6   kilometer         250378 non-null  int64 \n",
      " 7   fueltype          250378 non-null  object\n",
      " 8   brand             250378 non-null  object\n",
      " 9   notrepaired       250378 non-null  object\n",
      "dtypes: int64(4), object(6)\n",
      "memory usage: 21.0+ MB\n",
      "Информация о талице: \n",
      " None\n",
      "########################\n"
     ]
    },
    {
     "data": {
      "text/html": [
       "<style  type=\"text/css\" >\n",
       "#T_7726e_row0_col0,#T_7726e_row1_col0,#T_7726e_row2_col0,#T_7726e_row3_col0,#T_7726e_row4_col0,#T_7726e_row5_col0,#T_7726e_row6_col0,#T_7726e_row7_col0,#T_7726e_row8_col0,#T_7726e_row9_col0{\n",
       "            background-color:  #3b4cc0;\n",
       "            color:  #f1f1f1;\n",
       "        }</style><table id=\"T_7726e_\" ><thead>    <tr>        <th class=\"blank level0\" ></th>        <th class=\"col_heading level0 col0\" >NaNs, %</th>    </tr></thead><tbody>\n",
       "                <tr>\n",
       "                        <th id=\"T_7726e_level0_row0\" class=\"row_heading level0 row0\" >price</th>\n",
       "                        <td id=\"T_7726e_row0_col0\" class=\"data row0 col0\" >0.00</td>\n",
       "            </tr>\n",
       "            <tr>\n",
       "                        <th id=\"T_7726e_level0_row1\" class=\"row_heading level0 row1\" >vehicletype</th>\n",
       "                        <td id=\"T_7726e_row1_col0\" class=\"data row1 col0\" >0.00</td>\n",
       "            </tr>\n",
       "            <tr>\n",
       "                        <th id=\"T_7726e_level0_row2\" class=\"row_heading level0 row2\" >registrationyear</th>\n",
       "                        <td id=\"T_7726e_row2_col0\" class=\"data row2 col0\" >0.00</td>\n",
       "            </tr>\n",
       "            <tr>\n",
       "                        <th id=\"T_7726e_level0_row3\" class=\"row_heading level0 row3\" >gearbox</th>\n",
       "                        <td id=\"T_7726e_row3_col0\" class=\"data row3 col0\" >0.00</td>\n",
       "            </tr>\n",
       "            <tr>\n",
       "                        <th id=\"T_7726e_level0_row4\" class=\"row_heading level0 row4\" >power</th>\n",
       "                        <td id=\"T_7726e_row4_col0\" class=\"data row4 col0\" >0.00</td>\n",
       "            </tr>\n",
       "            <tr>\n",
       "                        <th id=\"T_7726e_level0_row5\" class=\"row_heading level0 row5\" >model</th>\n",
       "                        <td id=\"T_7726e_row5_col0\" class=\"data row5 col0\" >0.00</td>\n",
       "            </tr>\n",
       "            <tr>\n",
       "                        <th id=\"T_7726e_level0_row6\" class=\"row_heading level0 row6\" >kilometer</th>\n",
       "                        <td id=\"T_7726e_row6_col0\" class=\"data row6 col0\" >0.00</td>\n",
       "            </tr>\n",
       "            <tr>\n",
       "                        <th id=\"T_7726e_level0_row7\" class=\"row_heading level0 row7\" >fueltype</th>\n",
       "                        <td id=\"T_7726e_row7_col0\" class=\"data row7 col0\" >0.00</td>\n",
       "            </tr>\n",
       "            <tr>\n",
       "                        <th id=\"T_7726e_level0_row8\" class=\"row_heading level0 row8\" >brand</th>\n",
       "                        <td id=\"T_7726e_row8_col0\" class=\"data row8 col0\" >0.00</td>\n",
       "            </tr>\n",
       "            <tr>\n",
       "                        <th id=\"T_7726e_level0_row9\" class=\"row_heading level0 row9\" >notrepaired</th>\n",
       "                        <td id=\"T_7726e_row9_col0\" class=\"data row9 col0\" >0.00</td>\n",
       "            </tr>\n",
       "    </tbody></table>"
      ],
      "text/plain": [
       "<pandas.io.formats.style.Styler at 0x7f3216daaf70>"
      ]
     },
     "metadata": {},
     "output_type": "display_data"
    },
    {
     "name": "stdout",
     "output_type": "stream",
     "text": [
      "########################\n",
      "Количество дупликатов в таблице: \n",
      " 0\n",
      "########################\n"
     ]
    }
   ],
   "source": [
    "check(data)"
   ]
  },
  {
   "cell_type": "code",
   "execution_count": 24,
   "metadata": {
    "scrolled": true
   },
   "outputs": [
    {
     "name": "stdout",
     "output_type": "stream",
     "text": [
      "Удалено данных: 29.35% или 103991 строк\n"
     ]
    }
   ],
   "source": [
    "print('Удалено данных:', f\"{1-len(data)/start_len:.2%}\", 'или', start_len- len(data), 'строк')"
   ]
  },
  {
   "cell_type": "markdown",
   "metadata": {},
   "source": [
    "### Подготовка к обучению"
   ]
  },
  {
   "cell_type": "markdown",
   "metadata": {},
   "source": [
    "Так как в столбце model много значений, то преобразуем его методом ordinal, а остальные методом OHE"
   ]
  },
  {
   "cell_type": "code",
   "execution_count": 30,
   "metadata": {
    "scrolled": true
   },
   "outputs": [],
   "source": [
    "#Преобразуем столбец model\n",
    "encoder = OrdinalEncoder()\n",
    "encoder.fit(data[['model']])\n",
    "data['model'] = encoder.transform(data[['model']])"
   ]
  },
  {
   "cell_type": "code",
   "execution_count": 34,
   "metadata": {},
   "outputs": [
    {
     "data": {
      "text/html": [
       "<div>\n",
       "<style scoped>\n",
       "    .dataframe tbody tr th:only-of-type {\n",
       "        vertical-align: middle;\n",
       "    }\n",
       "\n",
       "    .dataframe tbody tr th {\n",
       "        vertical-align: top;\n",
       "    }\n",
       "\n",
       "    .dataframe thead th {\n",
       "        text-align: right;\n",
       "    }\n",
       "</style>\n",
       "<table border=\"1\" class=\"dataframe\">\n",
       "  <thead>\n",
       "    <tr style=\"text-align: right;\">\n",
       "      <th></th>\n",
       "      <th>price</th>\n",
       "      <th>registrationyear</th>\n",
       "      <th>power</th>\n",
       "      <th>model</th>\n",
       "      <th>kilometer</th>\n",
       "      <th>vehicletype_convertible</th>\n",
       "      <th>vehicletype_coupe</th>\n",
       "      <th>vehicletype_other</th>\n",
       "      <th>vehicletype_sedan</th>\n",
       "      <th>vehicletype_small</th>\n",
       "      <th>...</th>\n",
       "      <th>brand_smart</th>\n",
       "      <th>brand_sonstige_autos</th>\n",
       "      <th>brand_subaru</th>\n",
       "      <th>brand_suzuki</th>\n",
       "      <th>brand_toyota</th>\n",
       "      <th>brand_trabant</th>\n",
       "      <th>brand_volkswagen</th>\n",
       "      <th>brand_volvo</th>\n",
       "      <th>notrepaired_unknown</th>\n",
       "      <th>notrepaired_yes</th>\n",
       "    </tr>\n",
       "  </thead>\n",
       "  <tbody>\n",
       "    <tr>\n",
       "      <th>1</th>\n",
       "      <td>18300</td>\n",
       "      <td>2011</td>\n",
       "      <td>190</td>\n",
       "      <td>227.0</td>\n",
       "      <td>125000</td>\n",
       "      <td>0</td>\n",
       "      <td>1</td>\n",
       "      <td>0</td>\n",
       "      <td>0</td>\n",
       "      <td>0</td>\n",
       "      <td>...</td>\n",
       "      <td>0</td>\n",
       "      <td>0</td>\n",
       "      <td>0</td>\n",
       "      <td>0</td>\n",
       "      <td>0</td>\n",
       "      <td>0</td>\n",
       "      <td>0</td>\n",
       "      <td>0</td>\n",
       "      <td>0</td>\n",
       "      <td>1</td>\n",
       "    </tr>\n",
       "    <tr>\n",
       "      <th>2</th>\n",
       "      <td>9800</td>\n",
       "      <td>2004</td>\n",
       "      <td>163</td>\n",
       "      <td>117.0</td>\n",
       "      <td>125000</td>\n",
       "      <td>0</td>\n",
       "      <td>0</td>\n",
       "      <td>0</td>\n",
       "      <td>0</td>\n",
       "      <td>0</td>\n",
       "      <td>...</td>\n",
       "      <td>0</td>\n",
       "      <td>0</td>\n",
       "      <td>0</td>\n",
       "      <td>0</td>\n",
       "      <td>0</td>\n",
       "      <td>0</td>\n",
       "      <td>0</td>\n",
       "      <td>0</td>\n",
       "      <td>1</td>\n",
       "      <td>0</td>\n",
       "    </tr>\n",
       "    <tr>\n",
       "      <th>3</th>\n",
       "      <td>1500</td>\n",
       "      <td>2001</td>\n",
       "      <td>75</td>\n",
       "      <td>116.0</td>\n",
       "      <td>150000</td>\n",
       "      <td>0</td>\n",
       "      <td>0</td>\n",
       "      <td>0</td>\n",
       "      <td>0</td>\n",
       "      <td>1</td>\n",
       "      <td>...</td>\n",
       "      <td>0</td>\n",
       "      <td>0</td>\n",
       "      <td>0</td>\n",
       "      <td>0</td>\n",
       "      <td>0</td>\n",
       "      <td>0</td>\n",
       "      <td>1</td>\n",
       "      <td>0</td>\n",
       "      <td>0</td>\n",
       "      <td>0</td>\n",
       "    </tr>\n",
       "    <tr>\n",
       "      <th>4</th>\n",
       "      <td>3600</td>\n",
       "      <td>2008</td>\n",
       "      <td>69</td>\n",
       "      <td>101.0</td>\n",
       "      <td>90000</td>\n",
       "      <td>0</td>\n",
       "      <td>0</td>\n",
       "      <td>0</td>\n",
       "      <td>0</td>\n",
       "      <td>1</td>\n",
       "      <td>...</td>\n",
       "      <td>0</td>\n",
       "      <td>0</td>\n",
       "      <td>0</td>\n",
       "      <td>0</td>\n",
       "      <td>0</td>\n",
       "      <td>0</td>\n",
       "      <td>0</td>\n",
       "      <td>0</td>\n",
       "      <td>0</td>\n",
       "      <td>0</td>\n",
       "    </tr>\n",
       "    <tr>\n",
       "      <th>5</th>\n",
       "      <td>650</td>\n",
       "      <td>1995</td>\n",
       "      <td>102</td>\n",
       "      <td>11.0</td>\n",
       "      <td>150000</td>\n",
       "      <td>0</td>\n",
       "      <td>0</td>\n",
       "      <td>0</td>\n",
       "      <td>1</td>\n",
       "      <td>0</td>\n",
       "      <td>...</td>\n",
       "      <td>0</td>\n",
       "      <td>0</td>\n",
       "      <td>0</td>\n",
       "      <td>0</td>\n",
       "      <td>0</td>\n",
       "      <td>0</td>\n",
       "      <td>0</td>\n",
       "      <td>0</td>\n",
       "      <td>0</td>\n",
       "      <td>1</td>\n",
       "    </tr>\n",
       "    <tr>\n",
       "      <th>...</th>\n",
       "      <td>...</td>\n",
       "      <td>...</td>\n",
       "      <td>...</td>\n",
       "      <td>...</td>\n",
       "      <td>...</td>\n",
       "      <td>...</td>\n",
       "      <td>...</td>\n",
       "      <td>...</td>\n",
       "      <td>...</td>\n",
       "      <td>...</td>\n",
       "      <td>...</td>\n",
       "      <td>...</td>\n",
       "      <td>...</td>\n",
       "      <td>...</td>\n",
       "      <td>...</td>\n",
       "      <td>...</td>\n",
       "      <td>...</td>\n",
       "      <td>...</td>\n",
       "      <td>...</td>\n",
       "      <td>...</td>\n",
       "      <td>...</td>\n",
       "    </tr>\n",
       "    <tr>\n",
       "      <th>354357</th>\n",
       "      <td>1690</td>\n",
       "      <td>2004</td>\n",
       "      <td>55</td>\n",
       "      <td>101.0</td>\n",
       "      <td>150000</td>\n",
       "      <td>0</td>\n",
       "      <td>0</td>\n",
       "      <td>0</td>\n",
       "      <td>0</td>\n",
       "      <td>0</td>\n",
       "      <td>...</td>\n",
       "      <td>0</td>\n",
       "      <td>0</td>\n",
       "      <td>0</td>\n",
       "      <td>0</td>\n",
       "      <td>0</td>\n",
       "      <td>0</td>\n",
       "      <td>0</td>\n",
       "      <td>0</td>\n",
       "      <td>1</td>\n",
       "      <td>0</td>\n",
       "    </tr>\n",
       "    <tr>\n",
       "      <th>354362</th>\n",
       "      <td>3200</td>\n",
       "      <td>2004</td>\n",
       "      <td>225</td>\n",
       "      <td>140.0</td>\n",
       "      <td>150000</td>\n",
       "      <td>0</td>\n",
       "      <td>0</td>\n",
       "      <td>0</td>\n",
       "      <td>1</td>\n",
       "      <td>0</td>\n",
       "      <td>...</td>\n",
       "      <td>0</td>\n",
       "      <td>0</td>\n",
       "      <td>0</td>\n",
       "      <td>0</td>\n",
       "      <td>0</td>\n",
       "      <td>0</td>\n",
       "      <td>0</td>\n",
       "      <td>0</td>\n",
       "      <td>0</td>\n",
       "      <td>1</td>\n",
       "    </tr>\n",
       "    <tr>\n",
       "      <th>354366</th>\n",
       "      <td>1199</td>\n",
       "      <td>2000</td>\n",
       "      <td>101</td>\n",
       "      <td>106.0</td>\n",
       "      <td>125000</td>\n",
       "      <td>1</td>\n",
       "      <td>0</td>\n",
       "      <td>0</td>\n",
       "      <td>0</td>\n",
       "      <td>0</td>\n",
       "      <td>...</td>\n",
       "      <td>1</td>\n",
       "      <td>0</td>\n",
       "      <td>0</td>\n",
       "      <td>0</td>\n",
       "      <td>0</td>\n",
       "      <td>0</td>\n",
       "      <td>0</td>\n",
       "      <td>0</td>\n",
       "      <td>0</td>\n",
       "      <td>0</td>\n",
       "    </tr>\n",
       "    <tr>\n",
       "      <th>354367</th>\n",
       "      <td>9200</td>\n",
       "      <td>1996</td>\n",
       "      <td>102</td>\n",
       "      <td>223.0</td>\n",
       "      <td>150000</td>\n",
       "      <td>0</td>\n",
       "      <td>0</td>\n",
       "      <td>0</td>\n",
       "      <td>0</td>\n",
       "      <td>0</td>\n",
       "      <td>...</td>\n",
       "      <td>0</td>\n",
       "      <td>0</td>\n",
       "      <td>0</td>\n",
       "      <td>0</td>\n",
       "      <td>0</td>\n",
       "      <td>0</td>\n",
       "      <td>1</td>\n",
       "      <td>0</td>\n",
       "      <td>0</td>\n",
       "      <td>0</td>\n",
       "    </tr>\n",
       "    <tr>\n",
       "      <th>354368</th>\n",
       "      <td>3400</td>\n",
       "      <td>2002</td>\n",
       "      <td>100</td>\n",
       "      <td>116.0</td>\n",
       "      <td>150000</td>\n",
       "      <td>0</td>\n",
       "      <td>0</td>\n",
       "      <td>0</td>\n",
       "      <td>0</td>\n",
       "      <td>0</td>\n",
       "      <td>...</td>\n",
       "      <td>0</td>\n",
       "      <td>0</td>\n",
       "      <td>0</td>\n",
       "      <td>0</td>\n",
       "      <td>0</td>\n",
       "      <td>0</td>\n",
       "      <td>1</td>\n",
       "      <td>0</td>\n",
       "      <td>1</td>\n",
       "      <td>0</td>\n",
       "    </tr>\n",
       "  </tbody>\n",
       "</table>\n",
       "<p>250378 rows × 63 columns</p>\n",
       "</div>"
      ],
      "text/plain": [
       "        price  registrationyear  power  model  kilometer  \\\n",
       "1       18300              2011    190  227.0     125000   \n",
       "2        9800              2004    163  117.0     125000   \n",
       "3        1500              2001     75  116.0     150000   \n",
       "4        3600              2008     69  101.0      90000   \n",
       "5         650              1995    102   11.0     150000   \n",
       "...       ...               ...    ...    ...        ...   \n",
       "354357   1690              2004     55  101.0     150000   \n",
       "354362   3200              2004    225  140.0     150000   \n",
       "354366   1199              2000    101  106.0     125000   \n",
       "354367   9200              1996    102  223.0     150000   \n",
       "354368   3400              2002    100  116.0     150000   \n",
       "\n",
       "        vehicletype_convertible  vehicletype_coupe  vehicletype_other  \\\n",
       "1                             0                  1                  0   \n",
       "2                             0                  0                  0   \n",
       "3                             0                  0                  0   \n",
       "4                             0                  0                  0   \n",
       "5                             0                  0                  0   \n",
       "...                         ...                ...                ...   \n",
       "354357                        0                  0                  0   \n",
       "354362                        0                  0                  0   \n",
       "354366                        1                  0                  0   \n",
       "354367                        0                  0                  0   \n",
       "354368                        0                  0                  0   \n",
       "\n",
       "        vehicletype_sedan  vehicletype_small  ...  brand_smart  \\\n",
       "1                       0                  0  ...            0   \n",
       "2                       0                  0  ...            0   \n",
       "3                       0                  1  ...            0   \n",
       "4                       0                  1  ...            0   \n",
       "5                       1                  0  ...            0   \n",
       "...                   ...                ...  ...          ...   \n",
       "354357                  0                  0  ...            0   \n",
       "354362                  1                  0  ...            0   \n",
       "354366                  0                  0  ...            1   \n",
       "354367                  0                  0  ...            0   \n",
       "354368                  0                  0  ...            0   \n",
       "\n",
       "        brand_sonstige_autos  brand_subaru  brand_suzuki  brand_toyota  \\\n",
       "1                          0             0             0             0   \n",
       "2                          0             0             0             0   \n",
       "3                          0             0             0             0   \n",
       "4                          0             0             0             0   \n",
       "5                          0             0             0             0   \n",
       "...                      ...           ...           ...           ...   \n",
       "354357                     0             0             0             0   \n",
       "354362                     0             0             0             0   \n",
       "354366                     0             0             0             0   \n",
       "354367                     0             0             0             0   \n",
       "354368                     0             0             0             0   \n",
       "\n",
       "        brand_trabant  brand_volkswagen  brand_volvo  notrepaired_unknown  \\\n",
       "1                   0                 0            0                    0   \n",
       "2                   0                 0            0                    1   \n",
       "3                   0                 1            0                    0   \n",
       "4                   0                 0            0                    0   \n",
       "5                   0                 0            0                    0   \n",
       "...               ...               ...          ...                  ...   \n",
       "354357              0                 0            0                    1   \n",
       "354362              0                 0            0                    0   \n",
       "354366              0                 0            0                    0   \n",
       "354367              0                 1            0                    0   \n",
       "354368              0                 1            0                    1   \n",
       "\n",
       "        notrepaired_yes  \n",
       "1                     1  \n",
       "2                     0  \n",
       "3                     0  \n",
       "4                     0  \n",
       "5                     1  \n",
       "...                 ...  \n",
       "354357                0  \n",
       "354362                1  \n",
       "354366                0  \n",
       "354367                0  \n",
       "354368                0  \n",
       "\n",
       "[250378 rows x 63 columns]"
      ]
     },
     "execution_count": 34,
     "metadata": {},
     "output_type": "execute_result"
    }
   ],
   "source": [
    "#Преобразуем остальные категории в числа\n",
    "one_hot_list = ['vehicletype','gearbox', 'fueltype', 'brand', 'notrepaired']\n",
    "df = data.copy()\n",
    "tenure_one_hot = pd.get_dummies(df[one_hot_list], drop_first=True)\n",
    "df = df.drop(one_hot_list,axis = 1)\n",
    "df = df.join(tenure_one_hot, how='left')\n",
    "df"
   ]
  },
  {
   "cell_type": "code",
   "execution_count": 35,
   "metadata": {},
   "outputs": [],
   "source": [
    "features = df.drop(\"price\", axis=1)\n",
    "target = df[\"price\"]"
   ]
  },
  {
   "cell_type": "code",
   "execution_count": 36,
   "metadata": {},
   "outputs": [],
   "source": [
    "#Отделение тестовой части\n",
    "x, features_test, y, target_test = train_test_split(features, target, test_size=0.2, train_size=0.8)"
   ]
  },
  {
   "cell_type": "code",
   "execution_count": 37,
   "metadata": {},
   "outputs": [],
   "source": [
    "#Отделения валидационной и обучающей выборки\n",
    "features_train, features_valid, target_train, target_valid = train_test_split(x, y, test_size = 0.25, train_size =0.75)"
   ]
  },
  {
   "cell_type": "code",
   "execution_count": 38,
   "metadata": {},
   "outputs": [],
   "source": [
    "#Скалирование\n",
    "scaler = StandardScaler()\n",
    "scaler.fit(features_train) \n",
    "features_train_scaled = scaler.transform(features_train)\n",
    "features_valid_scaled = scaler.transform(features_valid)\n",
    "features_test_scaled = scaler.transform(features_test)"
   ]
  },
  {
   "cell_type": "code",
   "execution_count": 39,
   "metadata": {},
   "outputs": [],
   "source": [
    "#Преобразуем nparray в dataframe\n",
    "def nptodf(data, ind, column):\n",
    "    frame = pd.DataFrame(data, index = ind.index, columns = column.columns)\n",
    "    return frame\n",
    "features_train_scaled = nptodf(features_train_scaled, target_train, features)\n",
    "features_valid_scaled = nptodf(features_valid_scaled, target_valid, features)\n",
    "features_test_scaled = nptodf(features_test_scaled, target_test, features)"
   ]
  },
  {
   "cell_type": "code",
   "execution_count": 40,
   "metadata": {},
   "outputs": [
    {
     "name": "stdout",
     "output_type": "stream",
     "text": [
      "Процент выборки: 0.5999968048310954 , Количество строк и столбцов: (150226, 62)\n",
      "Процент выборки: 0.2000015975844523 , Количество строк и столбцов: (50076, 62)\n",
      "Процент выборки: 0.5999968048310954 , Количество строк и столбцов: (150226,)\n",
      "Процент выборки: 0.2000015975844523 , Количество строк и столбцов: (50076,)\n",
      "Процент выборки: 0.2000015975844523 , Количество строк и столбцов: (50076, 62)\n",
      "Процент выборки: 0.2000015975844523 , Количество строк и столбцов: (50076,)\n"
     ]
    }
   ],
   "source": [
    "#Проверка разделения\n",
    "def check(data):\n",
    "    res = len(data)/len(df)\n",
    "    print('Процент выборки:', res, ', Количество строк и столбцов:', data.shape)\n",
    "    \n",
    "data_list = [features_train_scaled, features_valid_scaled, target_train, target_valid, features_test_scaled, target_test]\n",
    "for i in data_list:\n",
    "    check(i)"
   ]
  },
  {
   "cell_type": "markdown",
   "metadata": {},
   "source": [
    "### Вывод"
   ]
  },
  {
   "cell_type": "markdown",
   "metadata": {},
   "source": [
    "- Были загружены и исследованы данные\n",
    "- Удалены аномальные значения, выбросы, лишние признаки\n",
    "- Было произведено encoding категориальных значений\n",
    "- Было произведено разделение выборок и их скалирование"
   ]
  },
  {
   "cell_type": "markdown",
   "metadata": {},
   "source": [
    "## Обучение моделей"
   ]
  },
  {
   "cell_type": "code",
   "execution_count": 41,
   "metadata": {},
   "outputs": [],
   "source": [
    "def rmse(predict, actual):\n",
    "    predict = np.array(predict)\n",
    "    actual = np.array(actual)\n",
    "\n",
    "    distance = predict - actual\n",
    "\n",
    "    square_distance = distance ** 2\n",
    "\n",
    "    mean_square_distance = square_distance.mean()\n",
    "\n",
    "    score = np.sqrt(mean_square_distance)\n",
    "\n",
    "    return score\n",
    "\n",
    "rmse_score = make_scorer(rmse, greater_is_better = False)"
   ]
  },
  {
   "cell_type": "markdown",
   "metadata": {},
   "source": [
    "### LinearRegression"
   ]
  },
  {
   "cell_type": "code",
   "execution_count": 42,
   "metadata": {},
   "outputs": [
    {
     "name": "stdout",
     "output_type": "stream",
     "text": [
      "RMSE LinearRegression: 2744.3311436110585\n"
     ]
    }
   ],
   "source": [
    "model_lr = LinearRegression().fit(features_train_scaled, target_train)\n",
    "lr_pred = model_lr.predict(features_valid_scaled)\n",
    "rmse_lr = np.sqrt(mse(target_valid, lr_pred))\n",
    "print('RMSE LinearRegression:', rmse_lr)"
   ]
  },
  {
   "cell_type": "code",
   "execution_count": 43,
   "metadata": {},
   "outputs": [
    {
     "name": "stdout",
     "output_type": "stream",
     "text": [
      "Fitting 4 folds for each of 8 candidates, totalling 32 fits\n",
      "[CV] END ....copy_X=True, fit_intercept=True, normalize=True; total time=   1.4s\n",
      "[CV] END ....copy_X=True, fit_intercept=True, normalize=True; total time=   1.5s\n",
      "[CV] END ....copy_X=True, fit_intercept=True, normalize=True; total time=   1.4s\n",
      "[CV] END ....copy_X=True, fit_intercept=True, normalize=True; total time=   1.6s\n",
      "[CV] END ...copy_X=True, fit_intercept=True, normalize=False; total time=   1.4s\n",
      "[CV] END ...copy_X=True, fit_intercept=True, normalize=False; total time=   1.4s\n",
      "[CV] END ...copy_X=True, fit_intercept=True, normalize=False; total time=   1.4s\n",
      "[CV] END ...copy_X=True, fit_intercept=True, normalize=False; total time=   1.4s\n",
      "[CV] END ...copy_X=True, fit_intercept=False, normalize=True; total time=   1.4s\n",
      "[CV] END ...copy_X=True, fit_intercept=False, normalize=True; total time=   1.4s\n",
      "[CV] END ...copy_X=True, fit_intercept=False, normalize=True; total time=   1.3s\n",
      "[CV] END ...copy_X=True, fit_intercept=False, normalize=True; total time=   1.9s\n",
      "[CV] END ..copy_X=True, fit_intercept=False, normalize=False; total time=   1.3s\n",
      "[CV] END ..copy_X=True, fit_intercept=False, normalize=False; total time=   1.4s\n",
      "[CV] END ..copy_X=True, fit_intercept=False, normalize=False; total time=   1.5s\n",
      "[CV] END ..copy_X=True, fit_intercept=False, normalize=False; total time=   1.5s\n",
      "[CV] END ...copy_X=False, fit_intercept=True, normalize=True; total time=   1.7s\n",
      "[CV] END ...copy_X=False, fit_intercept=True, normalize=True; total time=   1.4s\n",
      "[CV] END ...copy_X=False, fit_intercept=True, normalize=True; total time=   1.3s\n",
      "[CV] END ...copy_X=False, fit_intercept=True, normalize=True; total time=   1.4s\n",
      "[CV] END ..copy_X=False, fit_intercept=True, normalize=False; total time=   1.7s\n",
      "[CV] END ..copy_X=False, fit_intercept=True, normalize=False; total time=   1.3s\n",
      "[CV] END ..copy_X=False, fit_intercept=True, normalize=False; total time=   1.5s\n",
      "[CV] END ..copy_X=False, fit_intercept=True, normalize=False; total time=   1.3s\n",
      "[CV] END ..copy_X=False, fit_intercept=False, normalize=True; total time=   1.5s\n",
      "[CV] END ..copy_X=False, fit_intercept=False, normalize=True; total time=   1.1s\n",
      "[CV] END ..copy_X=False, fit_intercept=False, normalize=True; total time=   2.3s\n",
      "[CV] END ..copy_X=False, fit_intercept=False, normalize=True; total time=   1.3s\n",
      "[CV] END .copy_X=False, fit_intercept=False, normalize=False; total time=   1.3s\n",
      "[CV] END .copy_X=False, fit_intercept=False, normalize=False; total time=   1.4s\n",
      "[CV] END .copy_X=False, fit_intercept=False, normalize=False; total time=   1.3s\n",
      "[CV] END .copy_X=False, fit_intercept=False, normalize=False; total time=   1.4s\n",
      "CPU times: user 29 s, sys: 19.2 s, total: 48.2 s\n",
      "Wall time: 48.4 s\n"
     ]
    },
    {
     "data": {
      "text/plain": [
       "{'copy_X': True, 'fit_intercept': True, 'normalize': True}"
      ]
     },
     "execution_count": 43,
     "metadata": {},
     "output_type": "execute_result"
    }
   ],
   "source": [
    "%%time\n",
    "parameters = {'fit_intercept':[True,False], 'normalize':[True,False], 'copy_X':[True, False]}\n",
    "grid = GridSearchCV(model_lr,parameters, cv=4, scoring = rmse_score, verbose=2)\n",
    "grid.fit(features_train_scaled, target_train)\n",
    "grid.best_params_"
   ]
  },
  {
   "cell_type": "code",
   "execution_count": 44,
   "metadata": {},
   "outputs": [
    {
     "name": "stdout",
     "output_type": "stream",
     "text": [
      "CPU times: user 1.23 s, sys: 671 ms, total: 1.9 s\n",
      "Wall time: 1.91 s\n"
     ]
    }
   ],
   "source": [
    "%%time\n",
    "lr_tuned = LinearRegression(**grid.best_params_).fit(features_train_scaled, target_train)"
   ]
  },
  {
   "cell_type": "code",
   "execution_count": 45,
   "metadata": {},
   "outputs": [
    {
     "name": "stdout",
     "output_type": "stream",
     "text": [
      "CPU times: user 9.76 ms, sys: 3.26 ms, total: 13 ms\n",
      "Wall time: 5.21 ms\n"
     ]
    }
   ],
   "source": [
    "%%time\n",
    "lr_pred = lr_tuned.predict(features_valid_scaled)"
   ]
  },
  {
   "cell_type": "code",
   "execution_count": 46,
   "metadata": {},
   "outputs": [
    {
     "name": "stdout",
     "output_type": "stream",
     "text": [
      "LinearRegression RMSE: 2744.33\n"
     ]
    }
   ],
   "source": [
    "rmse_lr_tuned = np.sqrt(mse(target_valid, lr_pred))\n",
    "print(\"LinearRegression RMSE: %.2f\" % rmse_lr_tuned) "
   ]
  },
  {
   "cell_type": "code",
   "execution_count": 88,
   "metadata": {},
   "outputs": [],
   "source": [
    "importances_lr = pd.DataFrame(data={\n",
    "    'Attribute': features_train_scaled.columns,\n",
    "    'Importance': lr_tuned.coef_\n",
    "})\n",
    "importances_lr = importances_lr.sort_values(by='Importance', ascending=False)"
   ]
  },
  {
   "cell_type": "code",
   "execution_count": 89,
   "metadata": {},
   "outputs": [],
   "source": [
    "plt.rcParams[\"figure.figsize\"] = (20,8)"
   ]
  },
  {
   "cell_type": "code",
   "execution_count": 90,
   "metadata": {},
   "outputs": [
    {
     "data": {
      "image/png": "[encoded data removed]",
      "text/plain": [
       "<Figure size 1440x576 with 1 Axes>"
      ]
     },
     "metadata": {
      "needs_background": "light"
     },
     "output_type": "display_data"
    }
   ],
   "source": [
    "plt.bar(x=importances_lr['Attribute'], height=importances_lr['Importance'], color='#087E8B')\n",
    "plt.title('Важность признаков', size=20)\n",
    "plt.xticks(rotation='vertical')\n",
    "plt.show()"
   ]
  },
  {
   "cell_type": "markdown",
   "metadata": {},
   "source": [
    "### LightGBM"
   ]
  },
  {
   "cell_type": "code",
   "execution_count": 47,
   "metadata": {},
   "outputs": [
    {
     "name": "stdout",
     "output_type": "stream",
     "text": [
      "RMSE LightGBM: 1671.3396851939362\n",
      "CPU times: user 5.88 s, sys: 0 ns, total: 5.88 s\n",
      "Wall time: 5.91 s\n"
     ]
    }
   ],
   "source": [
    "%%time\n",
    "lgb_model = LGBMRegressor().fit(features_train_scaled, target_train)\n",
    "y_pred = lgb_model.predict(features_valid_scaled)\n",
    "rmse_lgbm = np.sqrt(mse(target_valid, y_pred))\n",
    "print('RMSE LightGBM:', rmse_lgbm)"
   ]
  },
  {
   "cell_type": "code",
   "execution_count": 48,
   "metadata": {},
   "outputs": [
    {
     "name": "stdout",
     "output_type": "stream",
     "text": [
      "Fitting 4 folds for each of 4 candidates, totalling 16 fits\n",
      "[CV] END ....................max_depth=12, n_estimators=1000; total time=  31.8s\n",
      "[CV] END ....................max_depth=12, n_estimators=1000; total time=  25.1s\n",
      "[CV] END ....................max_depth=12, n_estimators=1000; total time=  24.2s\n",
      "[CV] END ....................max_depth=12, n_estimators=1000; total time=  28.9s\n",
      "[CV] END ....................max_depth=12, n_estimators=1200; total time=  29.8s\n",
      "[CV] END ....................max_depth=12, n_estimators=1200; total time= 2.8min\n",
      "[CV] END ....................max_depth=12, n_estimators=1200; total time=  37.2s\n",
      "[CV] END ....................max_depth=12, n_estimators=1200; total time=  29.7s\n",
      "[CV] END ....................max_depth=14, n_estimators=1000; total time=  27.7s\n",
      "[CV] END ....................max_depth=14, n_estimators=1000; total time=  30.0s\n",
      "[CV] END ....................max_depth=14, n_estimators=1000; total time=  35.9s\n",
      "[CV] END ....................max_depth=14, n_estimators=1000; total time=  25.9s\n",
      "[CV] END ....................max_depth=14, n_estimators=1200; total time=  34.7s\n",
      "[CV] END ....................max_depth=14, n_estimators=1200; total time=  32.0s\n",
      "[CV] END ....................max_depth=14, n_estimators=1200; total time=  29.4s\n",
      "[CV] END ....................max_depth=14, n_estimators=1200; total time=  32.3s\n",
      "CPU times: user 10min 45s, sys: 3.75 s, total: 10min 49s\n",
      "Wall time: 10min 55s\n"
     ]
    },
    {
     "data": {
      "text/plain": [
       "{'max_depth': 12, 'n_estimators': 1000}"
      ]
     },
     "execution_count": 48,
     "metadata": {},
     "output_type": "execute_result"
    }
   ],
   "source": [
    "%%time\n",
    "lgbm_params = {\"n_estimators\": [1000, 1200],\n",
    "               \"max_depth\": [12, 14]\n",
    "              }\n",
    "\n",
    "lgbm_cv_model = GridSearchCV(lgb_model,\n",
    "                             lgbm_params,\n",
    "                             cv=4,\n",
    "                             scoring = rmse,\n",
    "                             n_jobs=-1,\n",
    "                             verbose=2).fit(features_train_scaled, target_train)\n",
    "\n",
    "lgbm_cv_model.best_params_"
   ]
  },
  {
   "cell_type": "code",
   "execution_count": 49,
   "metadata": {},
   "outputs": [
    {
     "name": "stdout",
     "output_type": "stream",
     "text": [
      "CPU times: user 29.2 s, sys: 218 ms, total: 29.4 s\n",
      "Wall time: 29.6 s\n"
     ]
    }
   ],
   "source": [
    "%%time\n",
    "lgbm_tuned = LGBMRegressor(**lgbm_cv_model.best_params_).fit(features_train_scaled, target_train)"
   ]
  },
  {
   "cell_type": "code",
   "execution_count": 50,
   "metadata": {},
   "outputs": [
    {
     "name": "stdout",
     "output_type": "stream",
     "text": [
      "CPU times: user 4.99 s, sys: 10.9 ms, total: 5 s\n",
      "Wall time: 4.96 s\n"
     ]
    }
   ],
   "source": [
    "%%time\n",
    "y_pred = lgbm_tuned.predict(features_valid_scaled)"
   ]
  },
  {
   "cell_type": "code",
   "execution_count": 51,
   "metadata": {},
   "outputs": [
    {
     "name": "stdout",
     "output_type": "stream",
     "text": [
      "RMSE: 1572.38\n"
     ]
    }
   ],
   "source": [
    "rmse_lgb = np.sqrt(mse(target_valid, y_pred))\n",
    "print(\"RMSE: %.2f\" % rmse_lgb) "
   ]
  },
  {
   "cell_type": "code",
   "execution_count": 92,
   "metadata": {},
   "outputs": [],
   "source": [
    "importances_lgb = pd.DataFrame(data={\n",
    "    'Attribute': features_train_scaled.columns,\n",
    "    'Importance': lgbm_tuned.feature_importances_\n",
    "})\n",
    "importances_lgb = importances_lgb.sort_values(by='Importance', ascending=False)"
   ]
  },
  {
   "cell_type": "code",
   "execution_count": 93,
   "metadata": {},
   "outputs": [
    {
     "data": {
      "image/png": "[encoded data removed]",
      "text/plain": [
       "<Figure size 1440x576 with 1 Axes>"
      ]
     },
     "metadata": {
      "needs_background": "light"
     },
     "output_type": "display_data"
    }
   ],
   "source": [
    "plt.bar(x=importances_lgb['Attribute'], height=importances_lgb['Importance'], color='#087E8B')\n",
    "plt.title('Важность признаков', size=20)\n",
    "plt.xticks(rotation='vertical')\n",
    "plt.show()"
   ]
  },
  {
   "cell_type": "markdown",
   "metadata": {},
   "source": [
    "### Catboost"
   ]
  },
  {
   "cell_type": "code",
   "execution_count": 52,
   "metadata": {
    "scrolled": true
   },
   "outputs": [
    {
     "name": "stdout",
     "output_type": "stream",
     "text": [
      "Learning rate set to 0.090387\n",
      "0:\tlearn: 4390.5992191\ttotal: 71.6ms\tremaining: 1m 11s\n",
      "1:\tlearn: 4131.4962914\ttotal: 93.1ms\tremaining: 46.4s\n",
      "2:\tlearn: 3902.5996134\ttotal: 114ms\tremaining: 37.9s\n",
      "3:\tlearn: 3700.2952287\ttotal: 134ms\tremaining: 33.4s\n",
      "4:\tlearn: 3518.5989049\ttotal: 154ms\tremaining: 30.6s\n",
      "5:\tlearn: 3356.5625268\ttotal: 176ms\tremaining: 29.1s\n",
      "6:\tlearn: 3216.4953022\ttotal: 196ms\tremaining: 27.7s\n",
      "7:\tlearn: 3089.7396944\ttotal: 216ms\tremaining: 26.8s\n",
      "8:\tlearn: 2976.9427577\ttotal: 235ms\tremaining: 25.9s\n",
      "9:\tlearn: 2876.0196170\ttotal: 254ms\tremaining: 25.2s\n",
      "10:\tlearn: 2782.5998130\ttotal: 275ms\tremaining: 24.7s\n",
      "11:\tlearn: 2701.2623294\ttotal: 296ms\tremaining: 24.3s\n",
      "12:\tlearn: 2630.2004623\ttotal: 316ms\tremaining: 24s\n",
      "13:\tlearn: 2570.4810743\ttotal: 337ms\tremaining: 23.7s\n",
      "14:\tlearn: 2513.6902032\ttotal: 357ms\tremaining: 23.5s\n",
      "15:\tlearn: 2462.7805315\ttotal: 377ms\tremaining: 23.2s\n",
      "16:\tlearn: 2419.7775415\ttotal: 398ms\tremaining: 23s\n",
      "17:\tlearn: 2379.9753331\ttotal: 417ms\tremaining: 22.8s\n",
      "18:\tlearn: 2343.2744041\ttotal: 438ms\tremaining: 22.6s\n",
      "19:\tlearn: 2304.8867848\ttotal: 458ms\tremaining: 22.4s\n",
      "20:\tlearn: 2275.4346961\ttotal: 478ms\tremaining: 22.3s\n",
      "21:\tlearn: 2248.1928651\ttotal: 497ms\tremaining: 22.1s\n",
      "22:\tlearn: 2224.4001282\ttotal: 517ms\tremaining: 22s\n",
      "23:\tlearn: 2203.0733614\ttotal: 536ms\tremaining: 21.8s\n",
      "24:\tlearn: 2180.8110544\ttotal: 556ms\tremaining: 21.7s\n",
      "25:\tlearn: 2155.9362194\ttotal: 576ms\tremaining: 21.6s\n",
      "26:\tlearn: 2139.0424043\ttotal: 601ms\tremaining: 21.7s\n",
      "27:\tlearn: 2119.9119809\ttotal: 621ms\tremaining: 21.6s\n",
      "28:\tlearn: 2104.6842146\ttotal: 640ms\tremaining: 21.4s\n",
      "29:\tlearn: 2090.2016939\ttotal: 660ms\tremaining: 21.3s\n",
      "30:\tlearn: 2077.6974691\ttotal: 680ms\tremaining: 21.2s\n",
      "31:\tlearn: 2064.5042373\ttotal: 699ms\tremaining: 21.1s\n",
      "32:\tlearn: 2052.1204877\ttotal: 718ms\tremaining: 21s\n",
      "33:\tlearn: 2039.0363698\ttotal: 737ms\tremaining: 20.9s\n",
      "34:\tlearn: 2028.7844069\ttotal: 756ms\tremaining: 20.8s\n",
      "35:\tlearn: 2019.0582764\ttotal: 775ms\tremaining: 20.8s\n",
      "36:\tlearn: 2009.5771826\ttotal: 795ms\tremaining: 20.7s\n",
      "37:\tlearn: 2001.0853848\ttotal: 817ms\tremaining: 20.7s\n",
      "38:\tlearn: 1993.4821955\ttotal: 836ms\tremaining: 20.6s\n",
      "39:\tlearn: 1985.0632321\ttotal: 858ms\tremaining: 20.6s\n",
      "40:\tlearn: 1978.4729689\ttotal: 878ms\tremaining: 20.5s\n",
      "41:\tlearn: 1972.2042276\ttotal: 897ms\tremaining: 20.5s\n",
      "42:\tlearn: 1962.2338553\ttotal: 916ms\tremaining: 20.4s\n",
      "43:\tlearn: 1954.1640040\ttotal: 935ms\tremaining: 20.3s\n",
      "44:\tlearn: 1945.6902692\ttotal: 957ms\tremaining: 20.3s\n",
      "45:\tlearn: 1939.5982514\ttotal: 976ms\tremaining: 20.2s\n",
      "46:\tlearn: 1934.4211643\ttotal: 995ms\tremaining: 20.2s\n",
      "47:\tlearn: 1929.3101302\ttotal: 1.01s\tremaining: 20.1s\n",
      "48:\tlearn: 1923.1375068\ttotal: 1.03s\tremaining: 20s\n",
      "49:\tlearn: 1917.9999535\ttotal: 1.05s\tremaining: 20s\n",
      "50:\tlearn: 1913.0900070\ttotal: 1.07s\tremaining: 19.9s\n",
      "51:\tlearn: 1907.8811120\ttotal: 1.09s\tremaining: 19.9s\n",
      "52:\tlearn: 1902.8926751\ttotal: 1.11s\tremaining: 19.8s\n",
      "53:\tlearn: 1898.9075853\ttotal: 1.13s\tremaining: 19.8s\n",
      "54:\tlearn: 1895.4203263\ttotal: 1.15s\tremaining: 19.7s\n",
      "55:\tlearn: 1888.6283468\ttotal: 1.17s\tremaining: 19.7s\n",
      "56:\tlearn: 1885.3292534\ttotal: 1.19s\tremaining: 19.6s\n",
      "57:\tlearn: 1881.3988491\ttotal: 1.21s\tremaining: 19.6s\n",
      "58:\tlearn: 1876.7611855\ttotal: 1.23s\tremaining: 19.5s\n",
      "59:\tlearn: 1873.6614851\ttotal: 1.24s\tremaining: 19.5s\n",
      "60:\tlearn: 1869.4223254\ttotal: 1.26s\tremaining: 19.4s\n",
      "61:\tlearn: 1865.7671096\ttotal: 1.28s\tremaining: 19.4s\n",
      "62:\tlearn: 1862.9050951\ttotal: 1.3s\tremaining: 19.4s\n",
      "63:\tlearn: 1859.6433746\ttotal: 1.32s\tremaining: 19.3s\n",
      "64:\tlearn: 1856.6765228\ttotal: 1.34s\tremaining: 19.3s\n",
      "65:\tlearn: 1853.2089758\ttotal: 1.36s\tremaining: 19.2s\n",
      "66:\tlearn: 1850.7971141\ttotal: 1.38s\tremaining: 19.2s\n",
      "67:\tlearn: 1847.5268530\ttotal: 1.4s\tremaining: 19.1s\n",
      "68:\tlearn: 1844.9097543\ttotal: 1.42s\tremaining: 19.1s\n",
      "69:\tlearn: 1843.1264203\ttotal: 1.43s\tremaining: 19s\n",
      "70:\tlearn: 1840.4969739\ttotal: 1.45s\tremaining: 19s\n",
      "71:\tlearn: 1837.7161030\ttotal: 1.47s\tremaining: 19s\n",
      "72:\tlearn: 1835.5682843\ttotal: 1.49s\tremaining: 18.9s\n",
      "73:\tlearn: 1831.9375128\ttotal: 1.51s\tremaining: 18.9s\n",
      "74:\tlearn: 1830.1978013\ttotal: 1.52s\tremaining: 18.8s\n",
      "75:\tlearn: 1828.1876378\ttotal: 1.54s\tremaining: 18.8s\n",
      "76:\tlearn: 1826.3049164\ttotal: 1.56s\tremaining: 18.7s\n",
      "77:\tlearn: 1823.1854173\ttotal: 1.58s\tremaining: 18.7s\n",
      "78:\tlearn: 1820.8604270\ttotal: 1.6s\tremaining: 18.7s\n",
      "79:\tlearn: 1817.4809951\ttotal: 1.62s\tremaining: 18.7s\n",
      "80:\tlearn: 1815.6222284\ttotal: 1.64s\tremaining: 18.7s\n",
      "81:\tlearn: 1814.3102746\ttotal: 1.66s\tremaining: 18.6s\n",
      "82:\tlearn: 1811.8683279\ttotal: 1.68s\tremaining: 18.6s\n",
      "83:\tlearn: 1810.2694217\ttotal: 1.7s\tremaining: 18.5s\n",
      "84:\tlearn: 1807.7148671\ttotal: 1.72s\tremaining: 18.5s\n",
      "85:\tlearn: 1806.5645478\ttotal: 1.74s\tremaining: 18.5s\n",
      "86:\tlearn: 1804.7753846\ttotal: 1.76s\tremaining: 18.4s\n",
      "87:\tlearn: 1802.9593013\ttotal: 1.77s\tremaining: 18.4s\n",
      "88:\tlearn: 1801.4263075\ttotal: 1.79s\tremaining: 18.4s\n",
      "89:\tlearn: 1799.6310727\ttotal: 1.81s\tremaining: 18.3s\n",
      "90:\tlearn: 1798.2199394\ttotal: 1.83s\tremaining: 18.3s\n",
      "91:\tlearn: 1795.8684226\ttotal: 1.85s\tremaining: 18.3s\n",
      "92:\tlearn: 1793.6214445\ttotal: 1.87s\tremaining: 18.2s\n",
      "93:\tlearn: 1791.2414195\ttotal: 1.89s\tremaining: 18.2s\n",
      "94:\tlearn: 1789.3005210\ttotal: 1.91s\tremaining: 18.2s\n",
      "95:\tlearn: 1787.0125620\ttotal: 1.93s\tremaining: 18.2s\n",
      "96:\tlearn: 1785.9842794\ttotal: 1.95s\tremaining: 18.2s\n",
      "97:\tlearn: 1783.6543531\ttotal: 1.98s\tremaining: 18.2s\n",
      "98:\tlearn: 1781.6045019\ttotal: 2s\tremaining: 18.2s\n",
      "99:\tlearn: 1780.5897523\ttotal: 2.02s\tremaining: 18.2s\n",
      "100:\tlearn: 1779.0945229\ttotal: 2.04s\tremaining: 18.1s\n",
      "101:\tlearn: 1777.7410447\ttotal: 2.06s\tremaining: 18.1s\n",
      "102:\tlearn: 1775.1817383\ttotal: 2.08s\tremaining: 18.1s\n",
      "103:\tlearn: 1773.4087514\ttotal: 2.1s\tremaining: 18.1s\n",
      "104:\tlearn: 1771.1848913\ttotal: 2.13s\tremaining: 18.1s\n",
      "105:\tlearn: 1769.9979081\ttotal: 2.15s\tremaining: 18.1s\n",
      "106:\tlearn: 1768.2451692\ttotal: 2.17s\tremaining: 18.1s\n",
      "107:\tlearn: 1766.8003636\ttotal: 2.19s\tremaining: 18s\n",
      "108:\tlearn: 1765.1545710\ttotal: 2.2s\tremaining: 18s\n",
      "109:\tlearn: 1763.5500423\ttotal: 2.23s\tremaining: 18s\n",
      "110:\tlearn: 1761.9345652\ttotal: 2.24s\tremaining: 18s\n",
      "111:\tlearn: 1760.3474665\ttotal: 2.26s\tremaining: 17.9s\n",
      "112:\tlearn: 1758.9369482\ttotal: 2.28s\tremaining: 17.9s\n",
      "113:\tlearn: 1758.0323182\ttotal: 2.3s\tremaining: 17.9s\n",
      "114:\tlearn: 1756.0814612\ttotal: 2.32s\tremaining: 17.9s\n",
      "115:\tlearn: 1755.1578842\ttotal: 2.34s\tremaining: 17.8s\n",
      "116:\tlearn: 1753.2632164\ttotal: 2.36s\tremaining: 17.8s\n",
      "117:\tlearn: 1751.4811620\ttotal: 2.38s\tremaining: 17.8s\n",
      "118:\tlearn: 1750.3783540\ttotal: 2.4s\tremaining: 17.8s\n",
      "119:\tlearn: 1749.1878817\ttotal: 2.42s\tremaining: 17.7s\n",
      "120:\tlearn: 1747.9287163\ttotal: 2.44s\tremaining: 17.7s\n",
      "121:\tlearn: 1746.5538106\ttotal: 2.46s\tremaining: 17.7s\n",
      "122:\tlearn: 1745.0168098\ttotal: 2.48s\tremaining: 17.7s\n",
      "123:\tlearn: 1743.7351747\ttotal: 2.5s\tremaining: 17.6s\n",
      "124:\tlearn: 1742.6155237\ttotal: 2.52s\tremaining: 17.6s\n",
      "125:\tlearn: 1741.5518336\ttotal: 2.54s\tremaining: 17.6s\n",
      "126:\tlearn: 1740.4577790\ttotal: 2.56s\tremaining: 17.6s\n",
      "127:\tlearn: 1738.9517248\ttotal: 2.58s\tremaining: 17.6s\n",
      "128:\tlearn: 1738.0336274\ttotal: 2.6s\tremaining: 17.5s\n",
      "129:\tlearn: 1737.1393208\ttotal: 2.62s\tremaining: 17.5s\n",
      "130:\tlearn: 1736.1702481\ttotal: 2.64s\tremaining: 17.5s\n",
      "131:\tlearn: 1734.5587587\ttotal: 2.66s\tremaining: 17.5s\n",
      "132:\tlearn: 1733.4455728\ttotal: 2.68s\tremaining: 17.5s\n",
      "133:\tlearn: 1732.0159121\ttotal: 2.7s\tremaining: 17.4s\n",
      "134:\tlearn: 1730.7460999\ttotal: 2.72s\tremaining: 17.4s\n",
      "135:\tlearn: 1729.9260096\ttotal: 2.74s\tremaining: 17.4s\n",
      "136:\tlearn: 1728.8962280\ttotal: 2.76s\tremaining: 17.4s\n",
      "137:\tlearn: 1727.7038088\ttotal: 2.78s\tremaining: 17.4s\n",
      "138:\tlearn: 1726.5231241\ttotal: 2.8s\tremaining: 17.3s\n",
      "139:\tlearn: 1725.8845378\ttotal: 2.82s\tremaining: 17.3s\n",
      "140:\tlearn: 1724.7155028\ttotal: 2.83s\tremaining: 17.3s\n",
      "141:\tlearn: 1723.5960517\ttotal: 2.85s\tremaining: 17.3s\n",
      "142:\tlearn: 1722.8941171\ttotal: 2.87s\tremaining: 17.2s\n",
      "143:\tlearn: 1722.1105774\ttotal: 2.89s\tremaining: 17.2s\n",
      "144:\tlearn: 1721.1554727\ttotal: 2.91s\tremaining: 17.2s\n",
      "145:\tlearn: 1720.0098706\ttotal: 2.93s\tremaining: 17.2s\n",
      "146:\tlearn: 1718.9152411\ttotal: 2.95s\tremaining: 17.1s\n",
      "147:\tlearn: 1718.0985049\ttotal: 2.97s\tremaining: 17.1s\n",
      "148:\tlearn: 1717.4023077\ttotal: 2.99s\tremaining: 17.1s\n",
      "149:\tlearn: 1716.0565475\ttotal: 3.01s\tremaining: 17.1s\n",
      "150:\tlearn: 1714.7160372\ttotal: 3.03s\tremaining: 17.1s\n",
      "151:\tlearn: 1713.7411829\ttotal: 3.05s\tremaining: 17s\n",
      "152:\tlearn: 1712.7330047\ttotal: 3.07s\tremaining: 17s\n",
      "153:\tlearn: 1711.5443598\ttotal: 3.09s\tremaining: 17s\n",
      "154:\tlearn: 1710.5746651\ttotal: 3.11s\tremaining: 17s\n",
      "155:\tlearn: 1709.6049440\ttotal: 3.13s\tremaining: 17s\n",
      "156:\tlearn: 1708.8236495\ttotal: 3.15s\tremaining: 16.9s\n",
      "157:\tlearn: 1708.2503350\ttotal: 3.17s\tremaining: 16.9s\n",
      "158:\tlearn: 1707.3768172\ttotal: 3.19s\tremaining: 16.9s\n",
      "159:\tlearn: 1706.3969031\ttotal: 3.21s\tremaining: 16.8s\n",
      "160:\tlearn: 1705.7181586\ttotal: 3.23s\tremaining: 16.8s\n",
      "161:\tlearn: 1704.5753760\ttotal: 3.25s\tremaining: 16.8s\n",
      "162:\tlearn: 1703.9550521\ttotal: 3.27s\tremaining: 16.8s\n",
      "163:\tlearn: 1702.9952370\ttotal: 3.28s\tremaining: 16.7s\n",
      "164:\tlearn: 1702.1088296\ttotal: 3.3s\tremaining: 16.7s\n",
      "165:\tlearn: 1701.3208360\ttotal: 3.32s\tremaining: 16.7s\n",
      "166:\tlearn: 1700.5123996\ttotal: 3.34s\tremaining: 16.7s\n",
      "167:\tlearn: 1699.7675722\ttotal: 3.36s\tremaining: 16.7s\n",
      "168:\tlearn: 1698.9587242\ttotal: 3.38s\tremaining: 16.6s\n",
      "169:\tlearn: 1698.3665130\ttotal: 3.4s\tremaining: 16.6s\n",
      "170:\tlearn: 1697.6404990\ttotal: 3.42s\tremaining: 16.6s\n",
      "171:\tlearn: 1696.9654565\ttotal: 3.44s\tremaining: 16.5s\n",
      "172:\tlearn: 1696.1016554\ttotal: 3.46s\tremaining: 16.5s\n",
      "173:\tlearn: 1695.5451697\ttotal: 3.48s\tremaining: 16.5s\n",
      "174:\tlearn: 1694.8801466\ttotal: 3.49s\tremaining: 16.5s\n",
      "175:\tlearn: 1694.1627069\ttotal: 3.51s\tremaining: 16.4s\n",
      "176:\tlearn: 1693.4632786\ttotal: 3.53s\tremaining: 16.4s\n",
      "177:\tlearn: 1692.8650765\ttotal: 3.55s\tremaining: 16.4s\n",
      "178:\tlearn: 1692.3640043\ttotal: 3.57s\tremaining: 16.4s\n",
      "179:\tlearn: 1691.6651549\ttotal: 3.59s\tremaining: 16.3s\n",
      "180:\tlearn: 1690.8513667\ttotal: 3.6s\tremaining: 16.3s\n",
      "181:\tlearn: 1690.2492782\ttotal: 3.63s\tremaining: 16.3s\n",
      "182:\tlearn: 1689.3735021\ttotal: 3.65s\tremaining: 16.3s\n",
      "183:\tlearn: 1688.8155720\ttotal: 3.67s\tremaining: 16.3s\n",
      "184:\tlearn: 1688.1312794\ttotal: 3.68s\tremaining: 16.2s\n",
      "185:\tlearn: 1687.3230824\ttotal: 3.7s\tremaining: 16.2s\n",
      "186:\tlearn: 1686.3297062\ttotal: 3.72s\tremaining: 16.2s\n",
      "187:\tlearn: 1685.5010202\ttotal: 3.74s\tremaining: 16.2s\n",
      "188:\tlearn: 1684.8111510\ttotal: 3.76s\tremaining: 16.1s\n",
      "189:\tlearn: 1684.3487376\ttotal: 3.78s\tremaining: 16.1s\n",
      "190:\tlearn: 1683.7407713\ttotal: 3.8s\tremaining: 16.1s\n",
      "191:\tlearn: 1683.0469219\ttotal: 3.82s\tremaining: 16.1s\n",
      "192:\tlearn: 1682.6478797\ttotal: 3.83s\tremaining: 16s\n",
      "193:\tlearn: 1682.0336215\ttotal: 3.85s\tremaining: 16s\n",
      "194:\tlearn: 1681.1072834\ttotal: 3.88s\tremaining: 16s\n",
      "195:\tlearn: 1680.2919595\ttotal: 3.9s\tremaining: 16s\n",
      "196:\tlearn: 1679.9342876\ttotal: 3.92s\tremaining: 16s\n",
      "197:\tlearn: 1679.3830396\ttotal: 3.93s\tremaining: 15.9s\n",
      "198:\tlearn: 1678.5179430\ttotal: 3.95s\tremaining: 15.9s\n",
      "199:\tlearn: 1677.8754389\ttotal: 3.97s\tremaining: 15.9s\n",
      "200:\tlearn: 1677.1155888\ttotal: 3.99s\tremaining: 15.9s\n",
      "201:\tlearn: 1676.3423753\ttotal: 4.01s\tremaining: 15.9s\n",
      "202:\tlearn: 1675.7793227\ttotal: 4.03s\tremaining: 15.8s\n",
      "203:\tlearn: 1675.0878099\ttotal: 4.05s\tremaining: 15.8s\n",
      "204:\tlearn: 1674.6404389\ttotal: 4.07s\tremaining: 15.8s\n",
      "205:\tlearn: 1673.8801555\ttotal: 4.09s\tremaining: 15.8s\n",
      "206:\tlearn: 1673.4924011\ttotal: 4.11s\tremaining: 15.7s\n",
      "207:\tlearn: 1672.9751710\ttotal: 4.13s\tremaining: 15.7s\n",
      "208:\tlearn: 1672.2822549\ttotal: 4.15s\tremaining: 15.7s\n",
      "209:\tlearn: 1671.8050087\ttotal: 4.17s\tremaining: 15.7s\n",
      "210:\tlearn: 1671.2232955\ttotal: 4.18s\tremaining: 15.6s\n",
      "211:\tlearn: 1670.8278002\ttotal: 4.2s\tremaining: 15.6s\n",
      "212:\tlearn: 1670.1000467\ttotal: 4.22s\tremaining: 15.6s\n",
      "213:\tlearn: 1669.4703658\ttotal: 4.24s\tremaining: 15.6s\n",
      "214:\tlearn: 1668.7101970\ttotal: 4.26s\tremaining: 15.6s\n",
      "215:\tlearn: 1668.2306778\ttotal: 4.28s\tremaining: 15.5s\n",
      "216:\tlearn: 1667.4762525\ttotal: 4.3s\tremaining: 15.5s\n",
      "217:\tlearn: 1666.8483500\ttotal: 4.32s\tremaining: 15.5s\n",
      "218:\tlearn: 1666.1332527\ttotal: 4.34s\tremaining: 15.5s\n",
      "219:\tlearn: 1665.6737979\ttotal: 4.36s\tremaining: 15.5s\n",
      "220:\tlearn: 1665.1475422\ttotal: 4.38s\tremaining: 15.4s\n",
      "221:\tlearn: 1664.5630292\ttotal: 4.4s\tremaining: 15.4s\n",
      "222:\tlearn: 1663.8691398\ttotal: 4.42s\tremaining: 15.4s\n",
      "223:\tlearn: 1663.2657701\ttotal: 4.44s\tremaining: 15.4s\n",
      "224:\tlearn: 1662.6799029\ttotal: 4.46s\tremaining: 15.3s\n",
      "225:\tlearn: 1662.2146532\ttotal: 4.47s\tremaining: 15.3s\n",
      "226:\tlearn: 1661.6280716\ttotal: 4.49s\tremaining: 15.3s\n",
      "227:\tlearn: 1661.2183569\ttotal: 4.51s\tremaining: 15.3s\n",
      "228:\tlearn: 1660.7563356\ttotal: 4.53s\tremaining: 15.3s\n",
      "229:\tlearn: 1660.2102014\ttotal: 4.55s\tremaining: 15.2s\n",
      "230:\tlearn: 1659.8270186\ttotal: 4.57s\tremaining: 15.2s\n",
      "231:\tlearn: 1659.3754438\ttotal: 4.59s\tremaining: 15.2s\n",
      "232:\tlearn: 1658.8506997\ttotal: 4.61s\tremaining: 15.2s\n",
      "233:\tlearn: 1658.2867966\ttotal: 4.63s\tremaining: 15.2s\n",
      "234:\tlearn: 1657.7134573\ttotal: 4.65s\tremaining: 15.1s\n",
      "235:\tlearn: 1657.2021554\ttotal: 4.67s\tremaining: 15.1s\n",
      "236:\tlearn: 1656.4688353\ttotal: 4.68s\tremaining: 15.1s\n",
      "237:\tlearn: 1655.9966787\ttotal: 4.7s\tremaining: 15.1s\n",
      "238:\tlearn: 1655.5277135\ttotal: 4.72s\tremaining: 15s\n",
      "239:\tlearn: 1655.1283862\ttotal: 4.74s\tremaining: 15s\n",
      "240:\tlearn: 1654.8286034\ttotal: 4.76s\tremaining: 15s\n",
      "241:\tlearn: 1654.3021701\ttotal: 4.78s\tremaining: 15s\n",
      "242:\tlearn: 1653.6378879\ttotal: 4.79s\tremaining: 14.9s\n",
      "243:\tlearn: 1653.2329354\ttotal: 4.81s\tremaining: 14.9s\n",
      "244:\tlearn: 1652.7421402\ttotal: 4.83s\tremaining: 14.9s\n",
      "245:\tlearn: 1652.2737614\ttotal: 4.85s\tremaining: 14.9s\n",
      "246:\tlearn: 1651.8791820\ttotal: 4.87s\tremaining: 14.8s\n",
      "247:\tlearn: 1651.4350042\ttotal: 4.89s\tremaining: 14.8s\n",
      "248:\tlearn: 1651.0815312\ttotal: 4.91s\tremaining: 14.8s\n",
      "249:\tlearn: 1650.4158393\ttotal: 4.92s\tremaining: 14.8s\n",
      "250:\tlearn: 1649.7990588\ttotal: 4.94s\tremaining: 14.8s\n",
      "251:\tlearn: 1649.4569726\ttotal: 4.96s\tremaining: 14.7s\n",
      "252:\tlearn: 1648.7789821\ttotal: 4.98s\tremaining: 14.7s\n",
      "253:\tlearn: 1648.3676299\ttotal: 5s\tremaining: 14.7s\n",
      "254:\tlearn: 1647.9046549\ttotal: 5.02s\tremaining: 14.7s\n",
      "255:\tlearn: 1647.4321180\ttotal: 5.04s\tremaining: 14.6s\n",
      "256:\tlearn: 1647.1167537\ttotal: 5.06s\tremaining: 14.6s\n",
      "257:\tlearn: 1646.7993712\ttotal: 5.08s\tremaining: 14.6s\n",
      "258:\tlearn: 1646.2723584\ttotal: 5.09s\tremaining: 14.6s\n",
      "259:\tlearn: 1645.7824778\ttotal: 5.11s\tremaining: 14.6s\n",
      "260:\tlearn: 1645.2150503\ttotal: 5.13s\tremaining: 14.5s\n",
      "261:\tlearn: 1644.8683122\ttotal: 5.15s\tremaining: 14.5s\n",
      "262:\tlearn: 1644.4420440\ttotal: 5.17s\tremaining: 14.5s\n",
      "263:\tlearn: 1644.0517765\ttotal: 5.19s\tremaining: 14.5s\n",
      "264:\tlearn: 1643.5294052\ttotal: 5.2s\tremaining: 14.4s\n",
      "265:\tlearn: 1642.9861973\ttotal: 5.22s\tremaining: 14.4s\n",
      "266:\tlearn: 1642.5498641\ttotal: 5.24s\tremaining: 14.4s\n",
      "267:\tlearn: 1641.9810833\ttotal: 5.26s\tremaining: 14.4s\n",
      "268:\tlearn: 1641.5288667\ttotal: 5.28s\tremaining: 14.3s\n",
      "269:\tlearn: 1641.0863080\ttotal: 5.3s\tremaining: 14.3s\n",
      "270:\tlearn: 1640.8556048\ttotal: 5.32s\tremaining: 14.3s\n",
      "271:\tlearn: 1640.4644480\ttotal: 5.34s\tremaining: 14.3s\n",
      "272:\tlearn: 1639.7896575\ttotal: 5.36s\tremaining: 14.3s\n",
      "273:\tlearn: 1639.2822929\ttotal: 5.37s\tremaining: 14.2s\n",
      "274:\tlearn: 1638.9000777\ttotal: 5.39s\tremaining: 14.2s\n",
      "275:\tlearn: 1638.5443880\ttotal: 5.41s\tremaining: 14.2s\n",
      "276:\tlearn: 1638.2640025\ttotal: 5.43s\tremaining: 14.2s\n",
      "277:\tlearn: 1637.9546284\ttotal: 5.45s\tremaining: 14.1s\n",
      "278:\tlearn: 1637.5210371\ttotal: 5.47s\tremaining: 14.1s\n",
      "279:\tlearn: 1637.1536645\ttotal: 5.49s\tremaining: 14.1s\n",
      "280:\tlearn: 1636.7332383\ttotal: 5.5s\tremaining: 14.1s\n",
      "281:\tlearn: 1636.1540262\ttotal: 5.53s\tremaining: 14.1s\n",
      "282:\tlearn: 1635.7979657\ttotal: 5.54s\tremaining: 14s\n",
      "283:\tlearn: 1635.3970096\ttotal: 5.56s\tremaining: 14s\n",
      "284:\tlearn: 1635.0281555\ttotal: 5.58s\tremaining: 14s\n",
      "285:\tlearn: 1634.7504135\ttotal: 5.6s\tremaining: 14s\n",
      "286:\tlearn: 1634.2071674\ttotal: 5.62s\tremaining: 14s\n",
      "287:\tlearn: 1633.9352569\ttotal: 5.64s\tremaining: 13.9s\n",
      "288:\tlearn: 1633.5504184\ttotal: 5.66s\tremaining: 13.9s\n",
      "289:\tlearn: 1633.2059280\ttotal: 5.68s\tremaining: 13.9s\n",
      "290:\tlearn: 1632.7912074\ttotal: 5.7s\tremaining: 13.9s\n",
      "291:\tlearn: 1632.4381419\ttotal: 5.72s\tremaining: 13.9s\n",
      "292:\tlearn: 1631.9756658\ttotal: 5.74s\tremaining: 13.9s\n",
      "293:\tlearn: 1631.4725824\ttotal: 5.76s\tremaining: 13.8s\n",
      "294:\tlearn: 1631.1939281\ttotal: 5.78s\tremaining: 13.8s\n",
      "295:\tlearn: 1630.7460256\ttotal: 5.8s\tremaining: 13.8s\n",
      "296:\tlearn: 1630.3384161\ttotal: 5.83s\tremaining: 13.8s\n",
      "297:\tlearn: 1630.0026111\ttotal: 5.84s\tremaining: 13.8s\n",
      "298:\tlearn: 1629.6648045\ttotal: 5.87s\tremaining: 13.8s\n",
      "299:\tlearn: 1629.3620363\ttotal: 5.89s\tremaining: 13.7s\n",
      "300:\tlearn: 1628.7769243\ttotal: 5.91s\tremaining: 13.7s\n",
      "301:\tlearn: 1628.4202066\ttotal: 5.93s\tremaining: 13.7s\n",
      "302:\tlearn: 1628.0757343\ttotal: 5.95s\tremaining: 13.7s\n",
      "303:\tlearn: 1627.8179064\ttotal: 5.97s\tremaining: 13.7s\n",
      "304:\tlearn: 1627.3271671\ttotal: 5.99s\tremaining: 13.6s\n",
      "305:\tlearn: 1626.8605095\ttotal: 6.01s\tremaining: 13.6s\n",
      "306:\tlearn: 1626.5266096\ttotal: 6.03s\tremaining: 13.6s\n",
      "307:\tlearn: 1626.1653328\ttotal: 6.05s\tremaining: 13.6s\n",
      "308:\tlearn: 1625.7356841\ttotal: 6.07s\tremaining: 13.6s\n",
      "309:\tlearn: 1625.4392106\ttotal: 6.09s\tremaining: 13.6s\n",
      "310:\tlearn: 1625.1775170\ttotal: 6.11s\tremaining: 13.5s\n",
      "311:\tlearn: 1624.9215881\ttotal: 6.12s\tremaining: 13.5s\n",
      "312:\tlearn: 1624.4793292\ttotal: 6.14s\tremaining: 13.5s\n",
      "313:\tlearn: 1624.2025427\ttotal: 6.16s\tremaining: 13.5s\n",
      "314:\tlearn: 1623.9892470\ttotal: 6.18s\tremaining: 13.4s\n",
      "315:\tlearn: 1623.6529237\ttotal: 6.2s\tremaining: 13.4s\n",
      "316:\tlearn: 1623.1217191\ttotal: 6.22s\tremaining: 13.4s\n",
      "317:\tlearn: 1622.8811189\ttotal: 6.24s\tremaining: 13.4s\n",
      "318:\tlearn: 1622.5087324\ttotal: 6.26s\tremaining: 13.4s\n",
      "319:\tlearn: 1622.1543962\ttotal: 6.28s\tremaining: 13.3s\n",
      "320:\tlearn: 1621.8377299\ttotal: 6.29s\tremaining: 13.3s\n",
      "321:\tlearn: 1621.3929981\ttotal: 6.31s\tremaining: 13.3s\n",
      "322:\tlearn: 1621.0785605\ttotal: 6.33s\tremaining: 13.3s\n",
      "323:\tlearn: 1620.7812298\ttotal: 6.35s\tremaining: 13.3s\n",
      "324:\tlearn: 1620.3475692\ttotal: 6.37s\tremaining: 13.2s\n",
      "325:\tlearn: 1620.0707560\ttotal: 6.39s\tremaining: 13.2s\n",
      "326:\tlearn: 1619.8229356\ttotal: 6.41s\tremaining: 13.2s\n",
      "327:\tlearn: 1619.6100280\ttotal: 6.43s\tremaining: 13.2s\n",
      "328:\tlearn: 1619.3201624\ttotal: 6.45s\tremaining: 13.2s\n",
      "329:\tlearn: 1619.0162596\ttotal: 6.47s\tremaining: 13.1s\n",
      "330:\tlearn: 1618.7278697\ttotal: 6.49s\tremaining: 13.1s\n",
      "331:\tlearn: 1618.3005207\ttotal: 6.51s\tremaining: 13.1s\n",
      "332:\tlearn: 1617.9693779\ttotal: 6.53s\tremaining: 13.1s\n",
      "333:\tlearn: 1617.6355763\ttotal: 6.55s\tremaining: 13.1s\n",
      "334:\tlearn: 1617.3578966\ttotal: 6.57s\tremaining: 13s\n",
      "335:\tlearn: 1617.1331919\ttotal: 6.59s\tremaining: 13s\n",
      "336:\tlearn: 1616.8982688\ttotal: 6.61s\tremaining: 13s\n",
      "337:\tlearn: 1616.5889697\ttotal: 6.63s\tremaining: 13s\n",
      "338:\tlearn: 1616.2008034\ttotal: 6.65s\tremaining: 13s\n",
      "339:\tlearn: 1615.7730264\ttotal: 6.67s\tremaining: 13s\n",
      "340:\tlearn: 1615.4829030\ttotal: 6.69s\tremaining: 12.9s\n",
      "341:\tlearn: 1615.1779350\ttotal: 6.71s\tremaining: 12.9s\n",
      "342:\tlearn: 1614.8720728\ttotal: 6.73s\tremaining: 12.9s\n",
      "343:\tlearn: 1614.6349456\ttotal: 6.75s\tremaining: 12.9s\n",
      "344:\tlearn: 1614.3556918\ttotal: 6.77s\tremaining: 12.9s\n",
      "345:\tlearn: 1614.1411332\ttotal: 6.79s\tremaining: 12.8s\n",
      "346:\tlearn: 1613.8152929\ttotal: 6.81s\tremaining: 12.8s\n",
      "347:\tlearn: 1613.5033427\ttotal: 6.83s\tremaining: 12.8s\n",
      "348:\tlearn: 1613.2683133\ttotal: 6.85s\tremaining: 12.8s\n",
      "349:\tlearn: 1613.0859489\ttotal: 6.88s\tremaining: 12.8s\n",
      "350:\tlearn: 1612.9232394\ttotal: 6.89s\tremaining: 12.7s\n",
      "351:\tlearn: 1612.6735715\ttotal: 6.91s\tremaining: 12.7s\n",
      "352:\tlearn: 1612.4458727\ttotal: 6.93s\tremaining: 12.7s\n",
      "353:\tlearn: 1612.0910938\ttotal: 6.95s\tremaining: 12.7s\n",
      "354:\tlearn: 1611.8636115\ttotal: 6.97s\tremaining: 12.7s\n",
      "355:\tlearn: 1611.5763118\ttotal: 6.99s\tremaining: 12.6s\n",
      "356:\tlearn: 1611.1994976\ttotal: 7.01s\tremaining: 12.6s\n",
      "357:\tlearn: 1610.9671279\ttotal: 7.03s\tremaining: 12.6s\n",
      "358:\tlearn: 1610.6411717\ttotal: 7.05s\tremaining: 12.6s\n",
      "359:\tlearn: 1610.3919307\ttotal: 7.07s\tremaining: 12.6s\n",
      "360:\tlearn: 1610.0120615\ttotal: 7.09s\tremaining: 12.5s\n",
      "361:\tlearn: 1609.7548038\ttotal: 7.11s\tremaining: 12.5s\n",
      "362:\tlearn: 1609.5956158\ttotal: 7.13s\tremaining: 12.5s\n",
      "363:\tlearn: 1609.3030920\ttotal: 7.14s\tremaining: 12.5s\n",
      "364:\tlearn: 1608.8974344\ttotal: 7.17s\tremaining: 12.5s\n",
      "365:\tlearn: 1608.7324075\ttotal: 7.18s\tremaining: 12.4s\n",
      "366:\tlearn: 1608.4981536\ttotal: 7.2s\tremaining: 12.4s\n",
      "367:\tlearn: 1607.7870687\ttotal: 7.22s\tremaining: 12.4s\n",
      "368:\tlearn: 1607.5076381\ttotal: 7.24s\tremaining: 12.4s\n",
      "369:\tlearn: 1607.1863855\ttotal: 7.26s\tremaining: 12.4s\n",
      "370:\tlearn: 1606.8249545\ttotal: 7.28s\tremaining: 12.3s\n",
      "371:\tlearn: 1606.5835373\ttotal: 7.3s\tremaining: 12.3s\n",
      "372:\tlearn: 1606.3524466\ttotal: 7.31s\tremaining: 12.3s\n",
      "373:\tlearn: 1606.0056507\ttotal: 7.33s\tremaining: 12.3s\n",
      "374:\tlearn: 1605.7657681\ttotal: 7.35s\tremaining: 12.3s\n",
      "375:\tlearn: 1605.3002507\ttotal: 7.37s\tremaining: 12.2s\n",
      "376:\tlearn: 1605.0045580\ttotal: 7.39s\tremaining: 12.2s\n",
      "377:\tlearn: 1604.6093407\ttotal: 7.41s\tremaining: 12.2s\n",
      "378:\tlearn: 1604.3678667\ttotal: 7.43s\tremaining: 12.2s\n",
      "379:\tlearn: 1604.0958927\ttotal: 7.45s\tremaining: 12.2s\n",
      "380:\tlearn: 1603.8184778\ttotal: 7.47s\tremaining: 12.1s\n",
      "381:\tlearn: 1603.5685686\ttotal: 7.49s\tremaining: 12.1s\n",
      "382:\tlearn: 1603.2867363\ttotal: 7.51s\tremaining: 12.1s\n",
      "383:\tlearn: 1603.0403040\ttotal: 7.53s\tremaining: 12.1s\n",
      "384:\tlearn: 1602.7869560\ttotal: 7.55s\tremaining: 12.1s\n",
      "385:\tlearn: 1602.5100586\ttotal: 7.57s\tremaining: 12s\n",
      "386:\tlearn: 1602.3387048\ttotal: 7.58s\tremaining: 12s\n",
      "387:\tlearn: 1602.0218284\ttotal: 7.6s\tremaining: 12s\n",
      "388:\tlearn: 1601.8030593\ttotal: 7.63s\tremaining: 12s\n",
      "389:\tlearn: 1601.6508791\ttotal: 7.64s\tremaining: 12s\n",
      "390:\tlearn: 1601.4181763\ttotal: 7.66s\tremaining: 11.9s\n",
      "391:\tlearn: 1601.0876405\ttotal: 7.68s\tremaining: 11.9s\n",
      "392:\tlearn: 1600.8595502\ttotal: 7.7s\tremaining: 11.9s\n",
      "393:\tlearn: 1600.5074825\ttotal: 7.72s\tremaining: 11.9s\n",
      "394:\tlearn: 1600.2683032\ttotal: 7.74s\tremaining: 11.9s\n",
      "395:\tlearn: 1600.0774636\ttotal: 7.76s\tremaining: 11.8s\n",
      "396:\tlearn: 1599.7982061\ttotal: 7.78s\tremaining: 11.8s\n",
      "397:\tlearn: 1599.5026241\ttotal: 7.8s\tremaining: 11.8s\n",
      "398:\tlearn: 1599.2774738\ttotal: 7.82s\tremaining: 11.8s\n",
      "399:\tlearn: 1599.0106905\ttotal: 7.84s\tremaining: 11.8s\n",
      "400:\tlearn: 1598.6010581\ttotal: 7.86s\tremaining: 11.7s\n",
      "401:\tlearn: 1598.3382420\ttotal: 7.87s\tremaining: 11.7s\n",
      "402:\tlearn: 1598.1996892\ttotal: 7.89s\tremaining: 11.7s\n",
      "403:\tlearn: 1597.9779229\ttotal: 7.91s\tremaining: 11.7s\n",
      "404:\tlearn: 1597.7387652\ttotal: 7.93s\tremaining: 11.6s\n",
      "405:\tlearn: 1597.5222361\ttotal: 7.95s\tremaining: 11.6s\n",
      "406:\tlearn: 1597.2826085\ttotal: 7.97s\tremaining: 11.6s\n",
      "407:\tlearn: 1597.0605488\ttotal: 7.99s\tremaining: 11.6s\n",
      "408:\tlearn: 1596.6840328\ttotal: 8.01s\tremaining: 11.6s\n",
      "409:\tlearn: 1596.4968238\ttotal: 8.03s\tremaining: 11.6s\n",
      "410:\tlearn: 1596.2988293\ttotal: 8.04s\tremaining: 11.5s\n",
      "411:\tlearn: 1596.1154205\ttotal: 8.06s\tremaining: 11.5s\n",
      "412:\tlearn: 1595.8912407\ttotal: 8.09s\tremaining: 11.5s\n",
      "413:\tlearn: 1595.6917739\ttotal: 8.1s\tremaining: 11.5s\n",
      "414:\tlearn: 1595.4581514\ttotal: 8.12s\tremaining: 11.4s\n",
      "415:\tlearn: 1595.2118724\ttotal: 8.14s\tremaining: 11.4s\n",
      "416:\tlearn: 1594.9112809\ttotal: 8.17s\tremaining: 11.4s\n",
      "417:\tlearn: 1594.6737523\ttotal: 8.19s\tremaining: 11.4s\n",
      "418:\tlearn: 1594.4409791\ttotal: 8.22s\tremaining: 11.4s\n",
      "419:\tlearn: 1594.0874945\ttotal: 8.24s\tremaining: 11.4s\n",
      "420:\tlearn: 1593.8275452\ttotal: 8.26s\tremaining: 11.4s\n",
      "421:\tlearn: 1593.6130414\ttotal: 8.28s\tremaining: 11.3s\n",
      "422:\tlearn: 1593.2998683\ttotal: 8.3s\tremaining: 11.3s\n",
      "423:\tlearn: 1593.1460679\ttotal: 8.33s\tremaining: 11.3s\n",
      "424:\tlearn: 1592.9215001\ttotal: 8.35s\tremaining: 11.3s\n",
      "425:\tlearn: 1592.5625160\ttotal: 8.37s\tremaining: 11.3s\n",
      "426:\tlearn: 1592.2567648\ttotal: 8.4s\tremaining: 11.3s\n",
      "427:\tlearn: 1592.0013272\ttotal: 8.42s\tremaining: 11.3s\n",
      "428:\tlearn: 1591.7483058\ttotal: 8.44s\tremaining: 11.2s\n",
      "429:\tlearn: 1591.5869222\ttotal: 8.46s\tremaining: 11.2s\n",
      "430:\tlearn: 1591.3521413\ttotal: 8.47s\tremaining: 11.2s\n",
      "431:\tlearn: 1591.0934661\ttotal: 8.49s\tremaining: 11.2s\n",
      "432:\tlearn: 1590.8421421\ttotal: 8.51s\tremaining: 11.1s\n",
      "433:\tlearn: 1590.5421433\ttotal: 8.53s\tremaining: 11.1s\n",
      "434:\tlearn: 1590.3225474\ttotal: 8.55s\tremaining: 11.1s\n",
      "435:\tlearn: 1590.1331030\ttotal: 8.57s\tremaining: 11.1s\n",
      "436:\tlearn: 1589.9453636\ttotal: 8.59s\tremaining: 11.1s\n",
      "437:\tlearn: 1589.6761961\ttotal: 8.61s\tremaining: 11s\n",
      "438:\tlearn: 1589.3882475\ttotal: 8.63s\tremaining: 11s\n",
      "439:\tlearn: 1589.1322768\ttotal: 8.64s\tremaining: 11s\n",
      "440:\tlearn: 1588.9041225\ttotal: 8.66s\tremaining: 11s\n",
      "441:\tlearn: 1588.7711495\ttotal: 8.68s\tremaining: 11s\n",
      "442:\tlearn: 1588.5291388\ttotal: 8.7s\tremaining: 10.9s\n",
      "443:\tlearn: 1588.2029377\ttotal: 8.72s\tremaining: 10.9s\n",
      "444:\tlearn: 1587.8845149\ttotal: 8.74s\tremaining: 10.9s\n",
      "445:\tlearn: 1587.7003733\ttotal: 8.76s\tremaining: 10.9s\n",
      "446:\tlearn: 1587.3950101\ttotal: 8.78s\tremaining: 10.9s\n",
      "447:\tlearn: 1587.1994934\ttotal: 8.79s\tremaining: 10.8s\n",
      "448:\tlearn: 1586.9645921\ttotal: 8.81s\tremaining: 10.8s\n",
      "449:\tlearn: 1586.8182214\ttotal: 8.83s\tremaining: 10.8s\n",
      "450:\tlearn: 1586.6246781\ttotal: 8.85s\tremaining: 10.8s\n",
      "451:\tlearn: 1586.4310173\ttotal: 8.87s\tremaining: 10.8s\n",
      "452:\tlearn: 1586.1466463\ttotal: 8.89s\tremaining: 10.7s\n",
      "453:\tlearn: 1585.9605923\ttotal: 8.9s\tremaining: 10.7s\n",
      "454:\tlearn: 1585.7746179\ttotal: 8.92s\tremaining: 10.7s\n",
      "455:\tlearn: 1585.6135888\ttotal: 8.94s\tremaining: 10.7s\n",
      "456:\tlearn: 1585.3355224\ttotal: 8.96s\tremaining: 10.7s\n",
      "457:\tlearn: 1585.1201363\ttotal: 8.99s\tremaining: 10.6s\n",
      "458:\tlearn: 1584.9213444\ttotal: 9.01s\tremaining: 10.6s\n",
      "459:\tlearn: 1584.6831373\ttotal: 9.02s\tremaining: 10.6s\n",
      "460:\tlearn: 1584.3462281\ttotal: 9.04s\tremaining: 10.6s\n",
      "461:\tlearn: 1584.1493271\ttotal: 9.06s\tremaining: 10.6s\n",
      "462:\tlearn: 1583.7170302\ttotal: 9.08s\tremaining: 10.5s\n",
      "463:\tlearn: 1583.5082670\ttotal: 9.1s\tremaining: 10.5s\n",
      "464:\tlearn: 1583.3455443\ttotal: 9.12s\tremaining: 10.5s\n",
      "465:\tlearn: 1583.1724809\ttotal: 9.14s\tremaining: 10.5s\n",
      "466:\tlearn: 1582.9313746\ttotal: 9.15s\tremaining: 10.4s\n",
      "467:\tlearn: 1582.6323822\ttotal: 9.17s\tremaining: 10.4s\n",
      "468:\tlearn: 1582.3201781\ttotal: 9.19s\tremaining: 10.4s\n",
      "469:\tlearn: 1582.0980030\ttotal: 9.21s\tremaining: 10.4s\n",
      "470:\tlearn: 1581.9211163\ttotal: 9.23s\tremaining: 10.4s\n",
      "471:\tlearn: 1581.6826597\ttotal: 9.25s\tremaining: 10.3s\n",
      "472:\tlearn: 1581.2606428\ttotal: 9.27s\tremaining: 10.3s\n",
      "473:\tlearn: 1581.0522935\ttotal: 9.29s\tremaining: 10.3s\n",
      "474:\tlearn: 1580.9102905\ttotal: 9.3s\tremaining: 10.3s\n",
      "475:\tlearn: 1580.6853033\ttotal: 9.32s\tremaining: 10.3s\n",
      "476:\tlearn: 1580.5044519\ttotal: 9.34s\tremaining: 10.2s\n",
      "477:\tlearn: 1580.2305197\ttotal: 9.36s\tremaining: 10.2s\n",
      "478:\tlearn: 1580.0558784\ttotal: 9.38s\tremaining: 10.2s\n",
      "479:\tlearn: 1579.8181022\ttotal: 9.4s\tremaining: 10.2s\n",
      "480:\tlearn: 1579.4446475\ttotal: 9.42s\tremaining: 10.2s\n",
      "481:\tlearn: 1579.2518694\ttotal: 9.44s\tremaining: 10.1s\n",
      "482:\tlearn: 1578.9866274\ttotal: 9.46s\tremaining: 10.1s\n",
      "483:\tlearn: 1578.8218616\ttotal: 9.48s\tremaining: 10.1s\n",
      "484:\tlearn: 1578.5939030\ttotal: 9.5s\tremaining: 10.1s\n",
      "485:\tlearn: 1578.4516833\ttotal: 9.52s\tremaining: 10.1s\n",
      "486:\tlearn: 1578.2360309\ttotal: 9.54s\tremaining: 10s\n",
      "487:\tlearn: 1577.9294809\ttotal: 9.56s\tremaining: 10s\n",
      "488:\tlearn: 1577.7554128\ttotal: 9.57s\tremaining: 10s\n",
      "489:\tlearn: 1577.5166675\ttotal: 9.59s\tremaining: 9.99s\n",
      "490:\tlearn: 1577.2426523\ttotal: 9.62s\tremaining: 9.97s\n",
      "491:\tlearn: 1577.0013033\ttotal: 9.64s\tremaining: 9.95s\n",
      "492:\tlearn: 1576.8097249\ttotal: 9.66s\tremaining: 9.93s\n",
      "493:\tlearn: 1576.5832289\ttotal: 9.68s\tremaining: 9.91s\n",
      "494:\tlearn: 1576.3806297\ttotal: 9.7s\tremaining: 9.89s\n",
      "495:\tlearn: 1576.2141340\ttotal: 9.72s\tremaining: 9.87s\n",
      "496:\tlearn: 1575.9729486\ttotal: 9.74s\tremaining: 9.85s\n",
      "497:\tlearn: 1575.8226260\ttotal: 9.76s\tremaining: 9.83s\n",
      "498:\tlearn: 1575.5963160\ttotal: 9.78s\tremaining: 9.81s\n",
      "499:\tlearn: 1575.4120991\ttotal: 9.79s\tremaining: 9.79s\n",
      "500:\tlearn: 1575.1749394\ttotal: 9.81s\tremaining: 9.78s\n",
      "501:\tlearn: 1575.0154356\ttotal: 9.83s\tremaining: 9.75s\n",
      "502:\tlearn: 1574.7667949\ttotal: 9.85s\tremaining: 9.73s\n",
      "503:\tlearn: 1574.6201484\ttotal: 9.87s\tremaining: 9.71s\n",
      "504:\tlearn: 1574.4694432\ttotal: 9.89s\tremaining: 9.69s\n",
      "505:\tlearn: 1574.1190345\ttotal: 9.91s\tremaining: 9.67s\n",
      "506:\tlearn: 1573.9965111\ttotal: 9.93s\tremaining: 9.65s\n",
      "507:\tlearn: 1573.8226060\ttotal: 9.95s\tremaining: 9.63s\n",
      "508:\tlearn: 1573.5263919\ttotal: 9.97s\tremaining: 9.61s\n",
      "509:\tlearn: 1573.2869210\ttotal: 9.99s\tremaining: 9.59s\n",
      "510:\tlearn: 1572.9814651\ttotal: 10s\tremaining: 9.57s\n",
      "511:\tlearn: 1572.7354260\ttotal: 10s\tremaining: 9.55s\n",
      "512:\tlearn: 1572.5411089\ttotal: 10s\tremaining: 9.54s\n",
      "513:\tlearn: 1572.2260813\ttotal: 10.1s\tremaining: 9.52s\n",
      "514:\tlearn: 1572.0442047\ttotal: 10.1s\tremaining: 9.5s\n",
      "515:\tlearn: 1571.8585862\ttotal: 10.1s\tremaining: 9.48s\n",
      "516:\tlearn: 1571.7349951\ttotal: 10.1s\tremaining: 9.46s\n",
      "517:\tlearn: 1571.5888000\ttotal: 10.1s\tremaining: 9.43s\n",
      "518:\tlearn: 1571.4290533\ttotal: 10.2s\tremaining: 9.41s\n",
      "519:\tlearn: 1571.2574324\ttotal: 10.2s\tremaining: 9.39s\n",
      "520:\tlearn: 1570.9918276\ttotal: 10.2s\tremaining: 9.37s\n",
      "521:\tlearn: 1570.7495997\ttotal: 10.2s\tremaining: 9.36s\n",
      "522:\tlearn: 1570.4071522\ttotal: 10.2s\tremaining: 9.34s\n",
      "523:\tlearn: 1570.2535693\ttotal: 10.3s\tremaining: 9.32s\n",
      "524:\tlearn: 1570.1116355\ttotal: 10.3s\tremaining: 9.3s\n",
      "525:\tlearn: 1569.8770183\ttotal: 10.3s\tremaining: 9.28s\n",
      "526:\tlearn: 1569.7774791\ttotal: 10.3s\tremaining: 9.26s\n",
      "527:\tlearn: 1569.6168839\ttotal: 10.3s\tremaining: 9.24s\n",
      "528:\tlearn: 1569.4299042\ttotal: 10.4s\tremaining: 9.22s\n",
      "529:\tlearn: 1569.2438119\ttotal: 10.4s\tremaining: 9.2s\n",
      "530:\tlearn: 1569.0703341\ttotal: 10.4s\tremaining: 9.18s\n",
      "531:\tlearn: 1568.9518501\ttotal: 10.4s\tremaining: 9.16s\n",
      "532:\tlearn: 1568.7880852\ttotal: 10.4s\tremaining: 9.14s\n",
      "533:\tlearn: 1568.6306754\ttotal: 10.5s\tremaining: 9.13s\n",
      "534:\tlearn: 1568.4450365\ttotal: 10.5s\tremaining: 9.11s\n",
      "535:\tlearn: 1568.2517432\ttotal: 10.5s\tremaining: 9.09s\n",
      "536:\tlearn: 1567.9410602\ttotal: 10.5s\tremaining: 9.08s\n",
      "537:\tlearn: 1567.7753338\ttotal: 10.5s\tremaining: 9.06s\n",
      "538:\tlearn: 1567.6335718\ttotal: 10.6s\tremaining: 9.04s\n",
      "539:\tlearn: 1567.4722724\ttotal: 10.6s\tremaining: 9.02s\n",
      "540:\tlearn: 1567.2391033\ttotal: 10.6s\tremaining: 9s\n",
      "541:\tlearn: 1567.0860663\ttotal: 10.6s\tremaining: 8.98s\n",
      "542:\tlearn: 1566.8437880\ttotal: 10.6s\tremaining: 8.96s\n",
      "543:\tlearn: 1566.5946317\ttotal: 10.7s\tremaining: 8.94s\n",
      "544:\tlearn: 1566.4627226\ttotal: 10.7s\tremaining: 8.92s\n",
      "545:\tlearn: 1566.2460173\ttotal: 10.7s\tremaining: 8.9s\n",
      "546:\tlearn: 1565.9845624\ttotal: 10.7s\tremaining: 8.88s\n",
      "547:\tlearn: 1565.6526952\ttotal: 10.7s\tremaining: 8.86s\n",
      "548:\tlearn: 1565.4039616\ttotal: 10.8s\tremaining: 8.84s\n",
      "549:\tlearn: 1565.1140531\ttotal: 10.8s\tremaining: 8.82s\n",
      "550:\tlearn: 1564.8620883\ttotal: 10.8s\tremaining: 8.8s\n",
      "551:\tlearn: 1564.7316927\ttotal: 10.8s\tremaining: 8.78s\n",
      "552:\tlearn: 1564.5550178\ttotal: 10.8s\tremaining: 8.76s\n",
      "553:\tlearn: 1564.1837000\ttotal: 10.9s\tremaining: 8.74s\n",
      "554:\tlearn: 1563.6588226\ttotal: 10.9s\tremaining: 8.72s\n",
      "555:\tlearn: 1563.4473624\ttotal: 10.9s\tremaining: 8.71s\n",
      "556:\tlearn: 1563.3290922\ttotal: 10.9s\tremaining: 8.69s\n",
      "557:\tlearn: 1563.0463720\ttotal: 10.9s\tremaining: 8.66s\n",
      "558:\tlearn: 1562.7803011\ttotal: 11s\tremaining: 8.64s\n",
      "559:\tlearn: 1562.6262449\ttotal: 11s\tremaining: 8.63s\n",
      "560:\tlearn: 1562.4537601\ttotal: 11s\tremaining: 8.6s\n",
      "561:\tlearn: 1562.3035884\ttotal: 11s\tremaining: 8.58s\n",
      "562:\tlearn: 1562.0340753\ttotal: 11s\tremaining: 8.56s\n",
      "563:\tlearn: 1561.7905891\ttotal: 11.1s\tremaining: 8.54s\n",
      "564:\tlearn: 1561.6401896\ttotal: 11.1s\tremaining: 8.52s\n",
      "565:\tlearn: 1561.4260166\ttotal: 11.1s\tremaining: 8.51s\n",
      "566:\tlearn: 1561.2117422\ttotal: 11.1s\tremaining: 8.49s\n",
      "567:\tlearn: 1561.0077863\ttotal: 11.1s\tremaining: 8.47s\n",
      "568:\tlearn: 1560.8973998\ttotal: 11.2s\tremaining: 8.45s\n",
      "569:\tlearn: 1560.7819691\ttotal: 11.2s\tremaining: 8.43s\n",
      "570:\tlearn: 1560.6561583\ttotal: 11.2s\tremaining: 8.4s\n",
      "571:\tlearn: 1560.5521726\ttotal: 11.2s\tremaining: 8.38s\n",
      "572:\tlearn: 1560.3948473\ttotal: 11.2s\tremaining: 8.36s\n",
      "573:\tlearn: 1560.1781058\ttotal: 11.2s\tremaining: 8.34s\n",
      "574:\tlearn: 1559.9729582\ttotal: 11.3s\tremaining: 8.32s\n",
      "575:\tlearn: 1559.7826981\ttotal: 11.3s\tremaining: 8.3s\n",
      "576:\tlearn: 1559.6646848\ttotal: 11.3s\tremaining: 8.28s\n",
      "577:\tlearn: 1559.5570069\ttotal: 11.3s\tremaining: 8.26s\n",
      "578:\tlearn: 1559.3319814\ttotal: 11.3s\tremaining: 8.24s\n",
      "579:\tlearn: 1559.2148607\ttotal: 11.4s\tremaining: 8.22s\n",
      "580:\tlearn: 1558.9258538\ttotal: 11.4s\tremaining: 8.2s\n",
      "581:\tlearn: 1558.8108393\ttotal: 11.4s\tremaining: 8.18s\n",
      "582:\tlearn: 1558.6838922\ttotal: 11.4s\tremaining: 8.16s\n",
      "583:\tlearn: 1558.4852286\ttotal: 11.4s\tremaining: 8.14s\n",
      "584:\tlearn: 1558.2385422\ttotal: 11.5s\tremaining: 8.12s\n",
      "585:\tlearn: 1558.0599175\ttotal: 11.5s\tremaining: 8.1s\n",
      "586:\tlearn: 1557.8975506\ttotal: 11.5s\tremaining: 8.09s\n",
      "587:\tlearn: 1557.7542422\ttotal: 11.5s\tremaining: 8.07s\n",
      "588:\tlearn: 1557.5957631\ttotal: 11.5s\tremaining: 8.04s\n",
      "589:\tlearn: 1557.3032883\ttotal: 11.5s\tremaining: 8.03s\n",
      "590:\tlearn: 1557.1440688\ttotal: 11.6s\tremaining: 8s\n",
      "591:\tlearn: 1556.8776126\ttotal: 11.6s\tremaining: 7.99s\n",
      "592:\tlearn: 1556.6652465\ttotal: 11.6s\tremaining: 7.96s\n",
      "593:\tlearn: 1556.5377123\ttotal: 11.6s\tremaining: 7.95s\n",
      "594:\tlearn: 1556.4128282\ttotal: 11.6s\tremaining: 7.93s\n",
      "595:\tlearn: 1556.0631480\ttotal: 11.7s\tremaining: 7.91s\n",
      "596:\tlearn: 1555.9210416\ttotal: 11.7s\tremaining: 7.89s\n",
      "597:\tlearn: 1555.8304618\ttotal: 11.7s\tremaining: 7.87s\n",
      "598:\tlearn: 1555.5547388\ttotal: 11.7s\tremaining: 7.85s\n",
      "599:\tlearn: 1555.3632725\ttotal: 11.7s\tremaining: 7.83s\n",
      "600:\tlearn: 1555.1141068\ttotal: 11.8s\tremaining: 7.81s\n",
      "601:\tlearn: 1555.0048288\ttotal: 11.8s\tremaining: 7.78s\n",
      "602:\tlearn: 1554.9155289\ttotal: 11.8s\tremaining: 7.76s\n",
      "603:\tlearn: 1554.7650419\ttotal: 11.8s\tremaining: 7.74s\n",
      "604:\tlearn: 1554.5563203\ttotal: 11.8s\tremaining: 7.72s\n",
      "605:\tlearn: 1554.4692460\ttotal: 11.8s\tremaining: 7.7s\n",
      "606:\tlearn: 1554.2056503\ttotal: 11.9s\tremaining: 7.68s\n",
      "607:\tlearn: 1553.8761092\ttotal: 11.9s\tremaining: 7.67s\n",
      "608:\tlearn: 1553.6473486\ttotal: 11.9s\tremaining: 7.64s\n",
      "609:\tlearn: 1553.4398058\ttotal: 11.9s\tremaining: 7.62s\n",
      "610:\tlearn: 1553.2440888\ttotal: 11.9s\tremaining: 7.6s\n",
      "611:\tlearn: 1553.1433218\ttotal: 12s\tremaining: 7.58s\n",
      "612:\tlearn: 1552.8783114\ttotal: 12s\tremaining: 7.56s\n",
      "613:\tlearn: 1552.7612109\ttotal: 12s\tremaining: 7.54s\n",
      "614:\tlearn: 1552.6037997\ttotal: 12s\tremaining: 7.52s\n",
      "615:\tlearn: 1552.4248159\ttotal: 12s\tremaining: 7.5s\n",
      "616:\tlearn: 1552.3299900\ttotal: 12.1s\tremaining: 7.48s\n",
      "617:\tlearn: 1552.2466973\ttotal: 12.1s\tremaining: 7.46s\n",
      "618:\tlearn: 1552.0430570\ttotal: 12.1s\tremaining: 7.44s\n",
      "619:\tlearn: 1551.8751408\ttotal: 12.1s\tremaining: 7.42s\n",
      "620:\tlearn: 1551.6533886\ttotal: 12.1s\tremaining: 7.4s\n",
      "621:\tlearn: 1551.5369907\ttotal: 12.1s\tremaining: 7.38s\n",
      "622:\tlearn: 1551.3947766\ttotal: 12.2s\tremaining: 7.36s\n",
      "623:\tlearn: 1551.2463522\ttotal: 12.2s\tremaining: 7.34s\n",
      "624:\tlearn: 1551.1113066\ttotal: 12.2s\tremaining: 7.32s\n",
      "625:\tlearn: 1551.0001726\ttotal: 12.2s\tremaining: 7.3s\n",
      "626:\tlearn: 1550.9187410\ttotal: 12.2s\tremaining: 7.28s\n",
      "627:\tlearn: 1550.6623938\ttotal: 12.3s\tremaining: 7.26s\n",
      "628:\tlearn: 1550.5557376\ttotal: 12.3s\tremaining: 7.24s\n",
      "629:\tlearn: 1550.1406902\ttotal: 12.3s\tremaining: 7.22s\n",
      "630:\tlearn: 1549.9700539\ttotal: 12.3s\tremaining: 7.2s\n",
      "631:\tlearn: 1549.8449567\ttotal: 12.3s\tremaining: 7.18s\n",
      "632:\tlearn: 1549.7343694\ttotal: 12.3s\tremaining: 7.16s\n",
      "633:\tlearn: 1549.5201251\ttotal: 12.4s\tremaining: 7.14s\n",
      "634:\tlearn: 1549.3321429\ttotal: 12.4s\tremaining: 7.12s\n",
      "635:\tlearn: 1549.1859255\ttotal: 12.4s\tremaining: 7.1s\n",
      "636:\tlearn: 1548.9853637\ttotal: 12.4s\tremaining: 7.08s\n",
      "637:\tlearn: 1548.7605684\ttotal: 12.4s\tremaining: 7.06s\n",
      "638:\tlearn: 1548.6884464\ttotal: 12.5s\tremaining: 7.04s\n",
      "639:\tlearn: 1548.5422046\ttotal: 12.5s\tremaining: 7.02s\n",
      "640:\tlearn: 1548.3001114\ttotal: 12.5s\tremaining: 7s\n",
      "641:\tlearn: 1548.0989959\ttotal: 12.5s\tremaining: 6.98s\n",
      "642:\tlearn: 1547.8705000\ttotal: 12.5s\tremaining: 6.96s\n",
      "643:\tlearn: 1547.6615284\ttotal: 12.6s\tremaining: 6.94s\n",
      "644:\tlearn: 1547.5012703\ttotal: 12.6s\tremaining: 6.92s\n",
      "645:\tlearn: 1547.3966383\ttotal: 12.6s\tremaining: 6.9s\n",
      "646:\tlearn: 1547.3156877\ttotal: 12.6s\tremaining: 6.88s\n",
      "647:\tlearn: 1547.2015415\ttotal: 12.6s\tremaining: 6.87s\n",
      "648:\tlearn: 1547.1046916\ttotal: 12.7s\tremaining: 6.84s\n",
      "649:\tlearn: 1546.9291827\ttotal: 12.7s\tremaining: 6.83s\n",
      "650:\tlearn: 1546.6882884\ttotal: 12.7s\tremaining: 6.8s\n",
      "651:\tlearn: 1546.5535689\ttotal: 12.7s\tremaining: 6.79s\n",
      "652:\tlearn: 1546.3978253\ttotal: 12.7s\tremaining: 6.76s\n",
      "653:\tlearn: 1546.2746733\ttotal: 12.7s\tremaining: 6.74s\n",
      "654:\tlearn: 1546.0817571\ttotal: 12.8s\tremaining: 6.72s\n",
      "655:\tlearn: 1545.8966787\ttotal: 12.8s\tremaining: 6.7s\n",
      "656:\tlearn: 1545.7095278\ttotal: 12.8s\tremaining: 6.68s\n",
      "657:\tlearn: 1545.5903687\ttotal: 12.8s\tremaining: 6.66s\n",
      "658:\tlearn: 1545.4855698\ttotal: 12.8s\tremaining: 6.64s\n",
      "659:\tlearn: 1545.3303811\ttotal: 12.9s\tremaining: 6.62s\n",
      "660:\tlearn: 1545.1011416\ttotal: 12.9s\tremaining: 6.6s\n",
      "661:\tlearn: 1544.9488746\ttotal: 12.9s\tremaining: 6.58s\n",
      "662:\tlearn: 1544.7739970\ttotal: 12.9s\tremaining: 6.56s\n",
      "663:\tlearn: 1544.6410327\ttotal: 12.9s\tremaining: 6.54s\n",
      "664:\tlearn: 1544.5216188\ttotal: 12.9s\tremaining: 6.52s\n",
      "665:\tlearn: 1544.3662533\ttotal: 13s\tremaining: 6.5s\n",
      "666:\tlearn: 1544.1498392\ttotal: 13s\tremaining: 6.48s\n",
      "667:\tlearn: 1544.0258810\ttotal: 13s\tremaining: 6.46s\n",
      "668:\tlearn: 1543.9266159\ttotal: 13s\tremaining: 6.44s\n",
      "669:\tlearn: 1543.7955168\ttotal: 13s\tremaining: 6.42s\n",
      "670:\tlearn: 1543.6535564\ttotal: 13.1s\tremaining: 6.4s\n",
      "671:\tlearn: 1543.4649226\ttotal: 13.1s\tremaining: 6.38s\n",
      "672:\tlearn: 1543.3850101\ttotal: 13.1s\tremaining: 6.36s\n",
      "673:\tlearn: 1543.2876568\ttotal: 13.1s\tremaining: 6.34s\n",
      "674:\tlearn: 1543.1421285\ttotal: 13.1s\tremaining: 6.32s\n",
      "675:\tlearn: 1543.0528296\ttotal: 13.2s\tremaining: 6.3s\n",
      "676:\tlearn: 1542.8787829\ttotal: 13.2s\tremaining: 6.28s\n",
      "677:\tlearn: 1542.6709792\ttotal: 13.2s\tremaining: 6.26s\n",
      "678:\tlearn: 1542.5172950\ttotal: 13.2s\tremaining: 6.25s\n",
      "679:\tlearn: 1542.2817253\ttotal: 13.2s\tremaining: 6.23s\n",
      "680:\tlearn: 1542.1511487\ttotal: 13.3s\tremaining: 6.21s\n",
      "681:\tlearn: 1541.9406438\ttotal: 13.3s\tremaining: 6.19s\n",
      "682:\tlearn: 1541.8140723\ttotal: 13.3s\tremaining: 6.17s\n",
      "683:\tlearn: 1541.5240374\ttotal: 13.3s\tremaining: 6.15s\n",
      "684:\tlearn: 1541.3974299\ttotal: 13.3s\tremaining: 6.13s\n",
      "685:\tlearn: 1541.2860316\ttotal: 13.3s\tremaining: 6.11s\n",
      "686:\tlearn: 1541.1426340\ttotal: 13.4s\tremaining: 6.09s\n",
      "687:\tlearn: 1540.9025857\ttotal: 13.4s\tremaining: 6.07s\n",
      "688:\tlearn: 1540.7463584\ttotal: 13.4s\tremaining: 6.05s\n",
      "689:\tlearn: 1540.5387731\ttotal: 13.4s\tremaining: 6.03s\n",
      "690:\tlearn: 1540.2948195\ttotal: 13.4s\tremaining: 6.01s\n",
      "691:\tlearn: 1540.1179836\ttotal: 13.5s\tremaining: 5.99s\n",
      "692:\tlearn: 1539.9990307\ttotal: 13.5s\tremaining: 5.97s\n",
      "693:\tlearn: 1539.8139215\ttotal: 13.5s\tremaining: 5.95s\n",
      "694:\tlearn: 1539.7251057\ttotal: 13.5s\tremaining: 5.93s\n",
      "695:\tlearn: 1539.4881784\ttotal: 13.5s\tremaining: 5.92s\n",
      "696:\tlearn: 1539.4094515\ttotal: 13.6s\tremaining: 5.9s\n",
      "697:\tlearn: 1539.2636326\ttotal: 13.6s\tremaining: 5.88s\n",
      "698:\tlearn: 1539.0951322\ttotal: 13.6s\tremaining: 5.86s\n",
      "699:\tlearn: 1538.9594354\ttotal: 13.6s\tremaining: 5.84s\n",
      "700:\tlearn: 1538.8830574\ttotal: 13.6s\tremaining: 5.82s\n",
      "701:\tlearn: 1538.7630549\ttotal: 13.7s\tremaining: 5.8s\n",
      "702:\tlearn: 1538.5820314\ttotal: 13.7s\tremaining: 5.78s\n",
      "703:\tlearn: 1538.3978530\ttotal: 13.7s\tremaining: 5.76s\n",
      "704:\tlearn: 1538.2063486\ttotal: 13.7s\tremaining: 5.74s\n",
      "705:\tlearn: 1538.0241397\ttotal: 13.7s\tremaining: 5.72s\n",
      "706:\tlearn: 1537.8964186\ttotal: 13.8s\tremaining: 5.7s\n",
      "707:\tlearn: 1537.7748546\ttotal: 13.8s\tremaining: 5.68s\n",
      "708:\tlearn: 1537.7069483\ttotal: 13.8s\tremaining: 5.66s\n",
      "709:\tlearn: 1537.5632343\ttotal: 13.8s\tremaining: 5.64s\n",
      "710:\tlearn: 1537.3973197\ttotal: 13.8s\tremaining: 5.63s\n",
      "711:\tlearn: 1537.2914284\ttotal: 13.9s\tremaining: 5.61s\n",
      "712:\tlearn: 1537.1699456\ttotal: 13.9s\tremaining: 5.58s\n",
      "713:\tlearn: 1536.8533487\ttotal: 13.9s\tremaining: 5.57s\n",
      "714:\tlearn: 1536.6874967\ttotal: 13.9s\tremaining: 5.55s\n",
      "715:\tlearn: 1536.5737240\ttotal: 13.9s\tremaining: 5.53s\n",
      "716:\tlearn: 1536.4247546\ttotal: 14s\tremaining: 5.51s\n",
      "717:\tlearn: 1536.2887448\ttotal: 14s\tremaining: 5.49s\n",
      "718:\tlearn: 1536.0971187\ttotal: 14s\tremaining: 5.47s\n",
      "719:\tlearn: 1536.0269948\ttotal: 14s\tremaining: 5.45s\n",
      "720:\tlearn: 1535.8594676\ttotal: 14s\tremaining: 5.43s\n",
      "721:\tlearn: 1535.7692767\ttotal: 14s\tremaining: 5.41s\n",
      "722:\tlearn: 1535.6124047\ttotal: 14.1s\tremaining: 5.39s\n",
      "723:\tlearn: 1535.4315678\ttotal: 14.1s\tremaining: 5.37s\n",
      "724:\tlearn: 1535.2805503\ttotal: 14.1s\tremaining: 5.35s\n",
      "725:\tlearn: 1535.2238848\ttotal: 14.1s\tremaining: 5.33s\n",
      "726:\tlearn: 1535.0894200\ttotal: 14.1s\tremaining: 5.31s\n",
      "727:\tlearn: 1534.9840801\ttotal: 14.2s\tremaining: 5.29s\n",
      "728:\tlearn: 1534.8370640\ttotal: 14.2s\tremaining: 5.27s\n",
      "729:\tlearn: 1534.7532114\ttotal: 14.2s\tremaining: 5.25s\n",
      "730:\tlearn: 1534.6450716\ttotal: 14.2s\tremaining: 5.23s\n",
      "731:\tlearn: 1534.5680818\ttotal: 14.2s\tremaining: 5.21s\n",
      "732:\tlearn: 1534.4015708\ttotal: 14.3s\tremaining: 5.19s\n",
      "733:\tlearn: 1534.3061738\ttotal: 14.3s\tremaining: 5.17s\n",
      "734:\tlearn: 1534.2107070\ttotal: 14.3s\tremaining: 5.15s\n",
      "735:\tlearn: 1534.0265040\ttotal: 14.3s\tremaining: 5.13s\n",
      "736:\tlearn: 1533.9079889\ttotal: 14.3s\tremaining: 5.12s\n",
      "737:\tlearn: 1533.7999356\ttotal: 14.4s\tremaining: 5.09s\n",
      "738:\tlearn: 1533.6542019\ttotal: 14.4s\tremaining: 5.08s\n",
      "739:\tlearn: 1533.4601474\ttotal: 14.4s\tremaining: 5.06s\n",
      "740:\tlearn: 1533.2408160\ttotal: 14.4s\tremaining: 5.04s\n",
      "741:\tlearn: 1533.0407557\ttotal: 14.4s\tremaining: 5.02s\n",
      "742:\tlearn: 1532.9026725\ttotal: 14.5s\tremaining: 5s\n",
      "743:\tlearn: 1532.6940748\ttotal: 14.5s\tremaining: 4.98s\n",
      "744:\tlearn: 1532.5344844\ttotal: 14.5s\tremaining: 4.96s\n",
      "745:\tlearn: 1532.3705426\ttotal: 14.5s\tremaining: 4.94s\n",
      "746:\tlearn: 1532.2397686\ttotal: 14.5s\tremaining: 4.92s\n",
      "747:\tlearn: 1532.0798693\ttotal: 14.5s\tremaining: 4.9s\n",
      "748:\tlearn: 1532.0091591\ttotal: 14.6s\tremaining: 4.88s\n",
      "749:\tlearn: 1531.8205906\ttotal: 14.6s\tremaining: 4.86s\n",
      "750:\tlearn: 1531.6717305\ttotal: 14.6s\tremaining: 4.84s\n",
      "751:\tlearn: 1531.4953862\ttotal: 14.6s\tremaining: 4.82s\n",
      "752:\tlearn: 1531.2906398\ttotal: 14.6s\tremaining: 4.8s\n",
      "753:\tlearn: 1531.1253562\ttotal: 14.7s\tremaining: 4.78s\n",
      "754:\tlearn: 1530.9366508\ttotal: 14.7s\tremaining: 4.76s\n",
      "755:\tlearn: 1530.8379946\ttotal: 14.7s\tremaining: 4.75s\n",
      "756:\tlearn: 1530.5592833\ttotal: 14.7s\tremaining: 4.72s\n",
      "757:\tlearn: 1530.4603415\ttotal: 14.7s\tremaining: 4.71s\n",
      "758:\tlearn: 1530.3184569\ttotal: 14.8s\tremaining: 4.69s\n",
      "759:\tlearn: 1530.1737284\ttotal: 14.8s\tremaining: 4.67s\n",
      "760:\tlearn: 1530.0548875\ttotal: 14.8s\tremaining: 4.65s\n",
      "761:\tlearn: 1529.8696152\ttotal: 14.8s\tremaining: 4.63s\n",
      "762:\tlearn: 1529.7160814\ttotal: 14.8s\tremaining: 4.61s\n",
      "763:\tlearn: 1529.6155334\ttotal: 14.9s\tremaining: 4.59s\n",
      "764:\tlearn: 1529.4377671\ttotal: 14.9s\tremaining: 4.57s\n",
      "765:\tlearn: 1529.3435639\ttotal: 14.9s\tremaining: 4.55s\n",
      "766:\tlearn: 1529.2494618\ttotal: 14.9s\tremaining: 4.53s\n",
      "767:\tlearn: 1529.1399271\ttotal: 14.9s\tremaining: 4.51s\n",
      "768:\tlearn: 1529.0034707\ttotal: 15s\tremaining: 4.49s\n",
      "769:\tlearn: 1528.8547696\ttotal: 15s\tremaining: 4.47s\n",
      "770:\tlearn: 1528.6902301\ttotal: 15s\tremaining: 4.45s\n",
      "771:\tlearn: 1528.5729612\ttotal: 15s\tremaining: 4.43s\n",
      "772:\tlearn: 1528.4844461\ttotal: 15s\tremaining: 4.41s\n",
      "773:\tlearn: 1528.2944316\ttotal: 15s\tremaining: 4.39s\n",
      "774:\tlearn: 1528.1048605\ttotal: 15.1s\tremaining: 4.37s\n",
      "775:\tlearn: 1527.9344943\ttotal: 15.1s\tremaining: 4.35s\n",
      "776:\tlearn: 1527.7774168\ttotal: 15.1s\tremaining: 4.33s\n",
      "777:\tlearn: 1527.6367498\ttotal: 15.1s\tremaining: 4.31s\n",
      "778:\tlearn: 1527.4270257\ttotal: 15.1s\tremaining: 4.29s\n",
      "779:\tlearn: 1527.3086576\ttotal: 15.2s\tremaining: 4.28s\n",
      "780:\tlearn: 1527.1883337\ttotal: 15.2s\tremaining: 4.26s\n",
      "781:\tlearn: 1527.0520048\ttotal: 15.2s\tremaining: 4.24s\n",
      "782:\tlearn: 1526.8981456\ttotal: 15.2s\tremaining: 4.22s\n",
      "783:\tlearn: 1526.6816604\ttotal: 15.2s\tremaining: 4.2s\n",
      "784:\tlearn: 1526.5783637\ttotal: 15.3s\tremaining: 4.18s\n",
      "785:\tlearn: 1526.4414430\ttotal: 15.3s\tremaining: 4.16s\n",
      "786:\tlearn: 1526.2688525\ttotal: 15.3s\tremaining: 4.14s\n",
      "787:\tlearn: 1526.1331404\ttotal: 15.3s\tremaining: 4.12s\n",
      "788:\tlearn: 1525.9291428\ttotal: 15.3s\tremaining: 4.1s\n",
      "789:\tlearn: 1525.8478784\ttotal: 15.3s\tremaining: 4.08s\n",
      "790:\tlearn: 1525.7298427\ttotal: 15.4s\tremaining: 4.06s\n",
      "791:\tlearn: 1525.6339782\ttotal: 15.4s\tremaining: 4.04s\n",
      "792:\tlearn: 1525.5087058\ttotal: 15.4s\tremaining: 4.02s\n",
      "793:\tlearn: 1525.3952812\ttotal: 15.4s\tremaining: 4s\n",
      "794:\tlearn: 1525.2261223\ttotal: 15.5s\tremaining: 3.99s\n",
      "795:\tlearn: 1525.0887955\ttotal: 15.5s\tremaining: 3.97s\n",
      "796:\tlearn: 1524.9092711\ttotal: 15.5s\tremaining: 3.95s\n",
      "797:\tlearn: 1524.7850612\ttotal: 15.5s\tremaining: 3.93s\n",
      "798:\tlearn: 1524.6963201\ttotal: 15.5s\tremaining: 3.91s\n",
      "799:\tlearn: 1524.5890273\ttotal: 15.6s\tremaining: 3.89s\n",
      "800:\tlearn: 1524.4999996\ttotal: 15.6s\tremaining: 3.87s\n",
      "801:\tlearn: 1524.3680381\ttotal: 15.6s\tremaining: 3.85s\n",
      "802:\tlearn: 1524.1025609\ttotal: 15.6s\tremaining: 3.83s\n",
      "803:\tlearn: 1524.0122828\ttotal: 15.6s\tremaining: 3.81s\n",
      "804:\tlearn: 1523.8409322\ttotal: 15.7s\tremaining: 3.79s\n",
      "805:\tlearn: 1523.6867041\ttotal: 15.7s\tremaining: 3.77s\n",
      "806:\tlearn: 1523.5581124\ttotal: 15.7s\tremaining: 3.75s\n",
      "807:\tlearn: 1523.4530676\ttotal: 15.7s\tremaining: 3.73s\n",
      "808:\tlearn: 1523.3162904\ttotal: 15.7s\tremaining: 3.71s\n",
      "809:\tlearn: 1523.0881494\ttotal: 15.8s\tremaining: 3.69s\n",
      "810:\tlearn: 1522.9838182\ttotal: 15.8s\tremaining: 3.68s\n",
      "811:\tlearn: 1522.9330909\ttotal: 15.8s\tremaining: 3.66s\n",
      "812:\tlearn: 1522.7580885\ttotal: 15.8s\tremaining: 3.64s\n",
      "813:\tlearn: 1522.6143753\ttotal: 15.8s\tremaining: 3.62s\n",
      "814:\tlearn: 1522.4993611\ttotal: 15.9s\tremaining: 3.6s\n",
      "815:\tlearn: 1522.3130739\ttotal: 15.9s\tremaining: 3.58s\n",
      "816:\tlearn: 1522.1175754\ttotal: 15.9s\tremaining: 3.56s\n",
      "817:\tlearn: 1522.0534941\ttotal: 15.9s\tremaining: 3.54s\n",
      "818:\tlearn: 1521.9119204\ttotal: 15.9s\tremaining: 3.52s\n",
      "819:\tlearn: 1521.7356770\ttotal: 16s\tremaining: 3.5s\n",
      "820:\tlearn: 1521.6097487\ttotal: 16s\tremaining: 3.48s\n",
      "821:\tlearn: 1521.4938190\ttotal: 16s\tremaining: 3.46s\n",
      "822:\tlearn: 1521.3761651\ttotal: 16s\tremaining: 3.45s\n",
      "823:\tlearn: 1521.1518628\ttotal: 16s\tremaining: 3.43s\n",
      "824:\tlearn: 1520.9816191\ttotal: 16.1s\tremaining: 3.41s\n",
      "825:\tlearn: 1520.8567297\ttotal: 16.1s\tremaining: 3.39s\n",
      "826:\tlearn: 1520.7406389\ttotal: 16.1s\tremaining: 3.37s\n",
      "827:\tlearn: 1520.6408306\ttotal: 16.1s\tremaining: 3.35s\n",
      "828:\tlearn: 1520.4988481\ttotal: 16.1s\tremaining: 3.33s\n",
      "829:\tlearn: 1520.3765775\ttotal: 16.2s\tremaining: 3.31s\n",
      "830:\tlearn: 1520.2884351\ttotal: 16.2s\tremaining: 3.29s\n",
      "831:\tlearn: 1520.1677156\ttotal: 16.2s\tremaining: 3.27s\n",
      "832:\tlearn: 1520.0687874\ttotal: 16.2s\tremaining: 3.25s\n",
      "833:\tlearn: 1519.9555150\ttotal: 16.2s\tremaining: 3.23s\n",
      "834:\tlearn: 1519.8944245\ttotal: 16.3s\tremaining: 3.21s\n",
      "835:\tlearn: 1519.7727809\ttotal: 16.3s\tremaining: 3.19s\n",
      "836:\tlearn: 1519.6782483\ttotal: 16.3s\tremaining: 3.17s\n",
      "837:\tlearn: 1519.5506050\ttotal: 16.3s\tremaining: 3.15s\n",
      "838:\tlearn: 1519.4399029\ttotal: 16.3s\tremaining: 3.13s\n",
      "839:\tlearn: 1519.3252546\ttotal: 16.3s\tremaining: 3.11s\n",
      "840:\tlearn: 1519.1518743\ttotal: 16.4s\tremaining: 3.09s\n",
      "841:\tlearn: 1519.0158104\ttotal: 16.4s\tremaining: 3.08s\n",
      "842:\tlearn: 1518.8358252\ttotal: 16.4s\tremaining: 3.06s\n",
      "843:\tlearn: 1518.7171032\ttotal: 16.4s\tremaining: 3.04s\n",
      "844:\tlearn: 1518.5100716\ttotal: 16.5s\tremaining: 3.02s\n",
      "845:\tlearn: 1518.3636390\ttotal: 16.5s\tremaining: 3s\n",
      "846:\tlearn: 1518.2808078\ttotal: 16.5s\tremaining: 2.98s\n",
      "847:\tlearn: 1518.1498542\ttotal: 16.5s\tremaining: 2.96s\n",
      "848:\tlearn: 1517.9718307\ttotal: 16.5s\tremaining: 2.94s\n",
      "849:\tlearn: 1517.8362434\ttotal: 16.6s\tremaining: 2.92s\n",
      "850:\tlearn: 1517.7503538\ttotal: 16.6s\tremaining: 2.9s\n",
      "851:\tlearn: 1517.6599295\ttotal: 16.6s\tremaining: 2.88s\n",
      "852:\tlearn: 1517.5481861\ttotal: 16.6s\tremaining: 2.86s\n",
      "853:\tlearn: 1517.4342278\ttotal: 16.6s\tremaining: 2.84s\n",
      "854:\tlearn: 1517.3653107\ttotal: 16.7s\tremaining: 2.82s\n",
      "855:\tlearn: 1517.2799505\ttotal: 16.7s\tremaining: 2.8s\n",
      "856:\tlearn: 1517.1248773\ttotal: 16.7s\tremaining: 2.78s\n",
      "857:\tlearn: 1517.0382293\ttotal: 16.7s\tremaining: 2.77s\n",
      "858:\tlearn: 1516.8790275\ttotal: 16.7s\tremaining: 2.75s\n",
      "859:\tlearn: 1516.7460104\ttotal: 16.7s\tremaining: 2.73s\n",
      "860:\tlearn: 1516.6339168\ttotal: 16.8s\tremaining: 2.71s\n",
      "861:\tlearn: 1516.5473786\ttotal: 16.8s\tremaining: 2.69s\n",
      "862:\tlearn: 1516.4183988\ttotal: 16.8s\tremaining: 2.67s\n",
      "863:\tlearn: 1516.3073582\ttotal: 16.8s\tremaining: 2.65s\n",
      "864:\tlearn: 1516.1321509\ttotal: 16.8s\tremaining: 2.63s\n",
      "865:\tlearn: 1516.0757635\ttotal: 16.9s\tremaining: 2.61s\n",
      "866:\tlearn: 1515.9375987\ttotal: 16.9s\tremaining: 2.59s\n",
      "867:\tlearn: 1515.7180497\ttotal: 16.9s\tremaining: 2.57s\n",
      "868:\tlearn: 1515.6058985\ttotal: 16.9s\tremaining: 2.55s\n",
      "869:\tlearn: 1515.4919062\ttotal: 16.9s\tremaining: 2.53s\n",
      "870:\tlearn: 1515.4217339\ttotal: 16.9s\tremaining: 2.51s\n",
      "871:\tlearn: 1515.3292027\ttotal: 17s\tremaining: 2.49s\n",
      "872:\tlearn: 1515.1800146\ttotal: 17s\tremaining: 2.47s\n",
      "873:\tlearn: 1515.0643186\ttotal: 17s\tremaining: 2.45s\n",
      "874:\tlearn: 1515.0022611\ttotal: 17s\tremaining: 2.43s\n",
      "875:\tlearn: 1514.8899902\ttotal: 17s\tremaining: 2.41s\n",
      "876:\tlearn: 1514.7485089\ttotal: 17.1s\tremaining: 2.39s\n",
      "877:\tlearn: 1514.6435550\ttotal: 17.1s\tremaining: 2.37s\n",
      "878:\tlearn: 1514.5621908\ttotal: 17.1s\tremaining: 2.35s\n",
      "879:\tlearn: 1514.4621912\ttotal: 17.1s\tremaining: 2.33s\n",
      "880:\tlearn: 1514.2928018\ttotal: 17.1s\tremaining: 2.31s\n",
      "881:\tlearn: 1514.2049818\ttotal: 17.2s\tremaining: 2.29s\n",
      "882:\tlearn: 1514.0615169\ttotal: 17.2s\tremaining: 2.27s\n",
      "883:\tlearn: 1513.9921482\ttotal: 17.2s\tremaining: 2.26s\n",
      "884:\tlearn: 1513.8667991\ttotal: 17.2s\tremaining: 2.24s\n",
      "885:\tlearn: 1513.7773186\ttotal: 17.2s\tremaining: 2.22s\n",
      "886:\tlearn: 1513.6326387\ttotal: 17.2s\tremaining: 2.2s\n",
      "887:\tlearn: 1513.5499707\ttotal: 17.3s\tremaining: 2.18s\n",
      "888:\tlearn: 1513.4690075\ttotal: 17.3s\tremaining: 2.16s\n",
      "889:\tlearn: 1513.3907315\ttotal: 17.3s\tremaining: 2.14s\n",
      "890:\tlearn: 1513.3289119\ttotal: 17.3s\tremaining: 2.12s\n",
      "891:\tlearn: 1513.2361873\ttotal: 17.3s\tremaining: 2.1s\n",
      "892:\tlearn: 1513.0629678\ttotal: 17.4s\tremaining: 2.08s\n",
      "893:\tlearn: 1512.9944040\ttotal: 17.4s\tremaining: 2.06s\n",
      "894:\tlearn: 1512.8678716\ttotal: 17.4s\tremaining: 2.04s\n",
      "895:\tlearn: 1512.7857570\ttotal: 17.4s\tremaining: 2.02s\n",
      "896:\tlearn: 1512.6836245\ttotal: 17.4s\tremaining: 2s\n",
      "897:\tlearn: 1512.5941980\ttotal: 17.5s\tremaining: 1.98s\n",
      "898:\tlearn: 1512.5062777\ttotal: 17.5s\tremaining: 1.96s\n",
      "899:\tlearn: 1512.4101712\ttotal: 17.5s\tremaining: 1.94s\n",
      "900:\tlearn: 1512.2650363\ttotal: 17.5s\tremaining: 1.92s\n",
      "901:\tlearn: 1512.2085462\ttotal: 17.5s\tremaining: 1.9s\n",
      "902:\tlearn: 1512.1094338\ttotal: 17.5s\tremaining: 1.89s\n",
      "903:\tlearn: 1511.9687322\ttotal: 17.6s\tremaining: 1.86s\n",
      "904:\tlearn: 1511.8233135\ttotal: 17.6s\tremaining: 1.85s\n",
      "905:\tlearn: 1511.7066668\ttotal: 17.6s\tremaining: 1.83s\n",
      "906:\tlearn: 1511.5676996\ttotal: 17.6s\tremaining: 1.81s\n",
      "907:\tlearn: 1511.4878614\ttotal: 17.6s\tremaining: 1.79s\n",
      "908:\tlearn: 1511.3184989\ttotal: 17.7s\tremaining: 1.77s\n",
      "909:\tlearn: 1511.1336942\ttotal: 17.7s\tremaining: 1.75s\n",
      "910:\tlearn: 1511.0763506\ttotal: 17.7s\tremaining: 1.73s\n",
      "911:\tlearn: 1511.0010945\ttotal: 17.7s\tremaining: 1.71s\n",
      "912:\tlearn: 1510.9148153\ttotal: 17.7s\tremaining: 1.69s\n",
      "913:\tlearn: 1510.7353279\ttotal: 17.8s\tremaining: 1.67s\n",
      "914:\tlearn: 1510.6169721\ttotal: 17.8s\tremaining: 1.65s\n",
      "915:\tlearn: 1510.5129530\ttotal: 17.8s\tremaining: 1.63s\n",
      "916:\tlearn: 1510.4013255\ttotal: 17.8s\tremaining: 1.61s\n",
      "917:\tlearn: 1510.3033841\ttotal: 17.8s\tremaining: 1.59s\n",
      "918:\tlearn: 1510.2086384\ttotal: 17.9s\tremaining: 1.57s\n",
      "919:\tlearn: 1510.0706137\ttotal: 17.9s\tremaining: 1.55s\n",
      "920:\tlearn: 1509.9676865\ttotal: 17.9s\tremaining: 1.54s\n",
      "921:\tlearn: 1509.8463610\ttotal: 17.9s\tremaining: 1.52s\n",
      "922:\tlearn: 1509.7743185\ttotal: 18s\tremaining: 1.5s\n",
      "923:\tlearn: 1509.6781294\ttotal: 18s\tremaining: 1.48s\n",
      "924:\tlearn: 1509.5732493\ttotal: 18s\tremaining: 1.46s\n",
      "925:\tlearn: 1509.4588129\ttotal: 18s\tremaining: 1.44s\n",
      "926:\tlearn: 1509.3893693\ttotal: 18s\tremaining: 1.42s\n",
      "927:\tlearn: 1509.3088043\ttotal: 18.1s\tremaining: 1.4s\n",
      "928:\tlearn: 1509.0329837\ttotal: 18.1s\tremaining: 1.38s\n",
      "929:\tlearn: 1508.9864836\ttotal: 18.1s\tremaining: 1.36s\n",
      "930:\tlearn: 1508.8295654\ttotal: 18.1s\tremaining: 1.34s\n",
      "931:\tlearn: 1508.7194856\ttotal: 18.1s\tremaining: 1.32s\n",
      "932:\tlearn: 1508.6531028\ttotal: 18.2s\tremaining: 1.3s\n",
      "933:\tlearn: 1508.6087601\ttotal: 18.2s\tremaining: 1.28s\n",
      "934:\tlearn: 1508.5298464\ttotal: 18.2s\tremaining: 1.26s\n",
      "935:\tlearn: 1508.4659164\ttotal: 18.2s\tremaining: 1.25s\n",
      "936:\tlearn: 1508.4059662\ttotal: 18.2s\tremaining: 1.23s\n",
      "937:\tlearn: 1508.3208631\ttotal: 18.3s\tremaining: 1.21s\n",
      "938:\tlearn: 1508.2149169\ttotal: 18.3s\tremaining: 1.19s\n",
      "939:\tlearn: 1508.0535026\ttotal: 18.3s\tremaining: 1.17s\n",
      "940:\tlearn: 1507.9772569\ttotal: 18.3s\tremaining: 1.15s\n",
      "941:\tlearn: 1507.8407872\ttotal: 18.3s\tremaining: 1.13s\n",
      "942:\tlearn: 1507.7054901\ttotal: 18.4s\tremaining: 1.11s\n",
      "943:\tlearn: 1507.5807497\ttotal: 18.4s\tremaining: 1.09s\n",
      "944:\tlearn: 1507.4659085\ttotal: 18.4s\tremaining: 1.07s\n",
      "945:\tlearn: 1507.3593889\ttotal: 18.4s\tremaining: 1.05s\n",
      "946:\tlearn: 1507.2331049\ttotal: 18.4s\tremaining: 1.03s\n",
      "947:\tlearn: 1507.0766221\ttotal: 18.5s\tremaining: 1.01s\n",
      "948:\tlearn: 1506.9491925\ttotal: 18.5s\tremaining: 993ms\n",
      "949:\tlearn: 1506.8341941\ttotal: 18.5s\tremaining: 973ms\n",
      "950:\tlearn: 1506.7805429\ttotal: 18.5s\tremaining: 954ms\n",
      "951:\tlearn: 1506.6210068\ttotal: 18.5s\tremaining: 934ms\n",
      "952:\tlearn: 1506.5355513\ttotal: 18.5s\tremaining: 915ms\n",
      "953:\tlearn: 1506.3982305\ttotal: 18.6s\tremaining: 895ms\n",
      "954:\tlearn: 1506.3373918\ttotal: 18.6s\tremaining: 876ms\n",
      "955:\tlearn: 1506.2082390\ttotal: 18.6s\tremaining: 857ms\n",
      "956:\tlearn: 1506.0924899\ttotal: 18.6s\tremaining: 837ms\n",
      "957:\tlearn: 1505.8904320\ttotal: 18.7s\tremaining: 818ms\n",
      "958:\tlearn: 1505.7914491\ttotal: 18.7s\tremaining: 799ms\n",
      "959:\tlearn: 1505.6902306\ttotal: 18.7s\tremaining: 779ms\n",
      "960:\tlearn: 1505.5666673\ttotal: 18.7s\tremaining: 760ms\n",
      "961:\tlearn: 1505.4916658\ttotal: 18.7s\tremaining: 740ms\n",
      "962:\tlearn: 1505.3213547\ttotal: 18.8s\tremaining: 721ms\n",
      "963:\tlearn: 1505.2350810\ttotal: 18.8s\tremaining: 701ms\n",
      "964:\tlearn: 1505.1545049\ttotal: 18.8s\tremaining: 682ms\n",
      "965:\tlearn: 1505.0050966\ttotal: 18.8s\tremaining: 663ms\n",
      "966:\tlearn: 1504.9350182\ttotal: 18.8s\tremaining: 643ms\n",
      "967:\tlearn: 1504.8371105\ttotal: 18.9s\tremaining: 623ms\n",
      "968:\tlearn: 1504.7688117\ttotal: 18.9s\tremaining: 604ms\n",
      "969:\tlearn: 1504.6643379\ttotal: 18.9s\tremaining: 584ms\n",
      "970:\tlearn: 1504.5405927\ttotal: 18.9s\tremaining: 565ms\n",
      "971:\tlearn: 1504.4643469\ttotal: 18.9s\tremaining: 545ms\n",
      "972:\tlearn: 1504.3580367\ttotal: 19s\tremaining: 526ms\n",
      "973:\tlearn: 1504.3008507\ttotal: 19s\tremaining: 506ms\n",
      "974:\tlearn: 1504.2435047\ttotal: 19s\tremaining: 487ms\n",
      "975:\tlearn: 1504.0890565\ttotal: 19s\tremaining: 468ms\n",
      "976:\tlearn: 1504.0446714\ttotal: 19s\tremaining: 448ms\n",
      "977:\tlearn: 1504.0005020\ttotal: 19.1s\tremaining: 429ms\n",
      "978:\tlearn: 1503.8157066\ttotal: 19.1s\tremaining: 409ms\n",
      "979:\tlearn: 1503.7392467\ttotal: 19.1s\tremaining: 390ms\n",
      "980:\tlearn: 1503.6258439\ttotal: 19.1s\tremaining: 370ms\n",
      "981:\tlearn: 1503.5460540\ttotal: 19.1s\tremaining: 351ms\n",
      "982:\tlearn: 1503.4222856\ttotal: 19.2s\tremaining: 331ms\n",
      "983:\tlearn: 1503.3548773\ttotal: 19.2s\tremaining: 312ms\n",
      "984:\tlearn: 1503.2127401\ttotal: 19.2s\tremaining: 292ms\n",
      "985:\tlearn: 1503.1174779\ttotal: 19.2s\tremaining: 273ms\n",
      "986:\tlearn: 1502.9929497\ttotal: 19.2s\tremaining: 253ms\n",
      "987:\tlearn: 1502.9012516\ttotal: 19.3s\tremaining: 234ms\n",
      "988:\tlearn: 1502.8265481\ttotal: 19.3s\tremaining: 214ms\n",
      "989:\tlearn: 1502.6831186\ttotal: 19.3s\tremaining: 195ms\n",
      "990:\tlearn: 1502.4995212\ttotal: 19.3s\tremaining: 176ms\n",
      "991:\tlearn: 1502.4012684\ttotal: 19.4s\tremaining: 156ms\n",
      "992:\tlearn: 1502.2727462\ttotal: 19.4s\tremaining: 137ms\n",
      "993:\tlearn: 1502.2100601\ttotal: 19.4s\tremaining: 117ms\n",
      "994:\tlearn: 1502.1052631\ttotal: 19.4s\tremaining: 97.6ms\n",
      "995:\tlearn: 1502.0254467\ttotal: 19.4s\tremaining: 78ms\n",
      "996:\tlearn: 1501.8904280\ttotal: 19.5s\tremaining: 58.5ms\n",
      "997:\tlearn: 1501.7702651\ttotal: 19.5s\tremaining: 39ms\n",
      "998:\tlearn: 1501.5801485\ttotal: 19.5s\tremaining: 19.5ms\n",
      "999:\tlearn: 1501.4841803\ttotal: 19.5s\tremaining: 0us\n",
      "CPU times: user 19.8 s, sys: 328 ms, total: 20.1 s\n",
      "Wall time: 20.9 s\n"
     ]
    }
   ],
   "source": [
    "%%time\n",
    "cbr_model = CatBoostRegressor().fit(features_train_scaled, target_train)"
   ]
  },
  {
   "cell_type": "code",
   "execution_count": 57,
   "metadata": {},
   "outputs": [
    {
     "name": "stdout",
     "output_type": "stream",
     "text": [
      "CPU times: user 62.7 ms, sys: 154 µs, total: 62.8 ms\n",
      "Wall time: 61 ms\n"
     ]
    }
   ],
   "source": [
    "%%time\n",
    "cbr_pred = cbr_model.predict(features_valid_scaled)"
   ]
  },
  {
   "cell_type": "code",
   "execution_count": 58,
   "metadata": {},
   "outputs": [
    {
     "name": "stdout",
     "output_type": "stream",
     "text": [
      "RMSE CatBoostRegressor: 1598.3085777568895\n"
     ]
    }
   ],
   "source": [
    "rmse_cbr = np.sqrt(mse(target_valid, cbr_pred))\n",
    "print('RMSE CatBoostRegressor:', rmse_cbr)"
   ]
  },
  {
   "cell_type": "code",
   "execution_count": 55,
   "metadata": {},
   "outputs": [
    {
     "name": "stdout",
     "output_type": "stream",
     "text": [
      "0:\tlearn: 4577.5512554\ttotal: 18.5ms\tremaining: 18.4s\n",
      "100:\tlearn: 2055.0036356\ttotal: 1.53s\tremaining: 13.6s\n",
      "200:\tlearn: 1851.3261365\ttotal: 2.98s\tremaining: 11.8s\n",
      "300:\tlearn: 1775.4916692\ttotal: 4.42s\tremaining: 10.3s\n",
      "400:\tlearn: 1729.8723971\ttotal: 5.87s\tremaining: 8.77s\n",
      "500:\tlearn: 1694.1532437\ttotal: 7.37s\tremaining: 7.34s\n",
      "600:\tlearn: 1669.1346825\ttotal: 8.84s\tremaining: 5.87s\n",
      "700:\tlearn: 1649.2735770\ttotal: 10.3s\tremaining: 4.41s\n",
      "800:\tlearn: 1632.2511882\ttotal: 11.8s\tremaining: 2.92s\n",
      "900:\tlearn: 1617.4752611\ttotal: 13.2s\tremaining: 1.45s\n",
      "999:\tlearn: 1604.7736263\ttotal: 14.6s\tremaining: 0us\n",
      "0:\tlearn: 4577.3467252\ttotal: 15.7ms\tremaining: 15.6s\n",
      "100:\tlearn: 2060.7849710\ttotal: 1.56s\tremaining: 13.9s\n",
      "200:\tlearn: 1855.5467966\ttotal: 3.1s\tremaining: 12.3s\n",
      "300:\tlearn: 1780.2333941\ttotal: 4.53s\tremaining: 10.5s\n",
      "400:\tlearn: 1732.7029168\ttotal: 5.99s\tremaining: 8.95s\n",
      "500:\tlearn: 1699.0381610\ttotal: 7.41s\tremaining: 7.38s\n",
      "600:\tlearn: 1673.9941118\ttotal: 8.83s\tremaining: 5.87s\n",
      "700:\tlearn: 1653.7097126\ttotal: 10.3s\tremaining: 4.38s\n",
      "800:\tlearn: 1637.1097956\ttotal: 11.7s\tremaining: 2.91s\n",
      "900:\tlearn: 1622.1783744\ttotal: 13.2s\tremaining: 1.45s\n",
      "999:\tlearn: 1609.5411140\ttotal: 14.6s\tremaining: 0us\n",
      "0:\tlearn: 4586.8842237\ttotal: 15.6ms\tremaining: 15.6s\n",
      "100:\tlearn: 2057.9352693\ttotal: 1.52s\tremaining: 13.5s\n",
      "200:\tlearn: 1856.7602369\ttotal: 3.06s\tremaining: 12.2s\n",
      "300:\tlearn: 1780.6688907\ttotal: 4.56s\tremaining: 10.6s\n",
      "400:\tlearn: 1735.2273979\ttotal: 6.04s\tremaining: 9.02s\n",
      "500:\tlearn: 1699.3030011\ttotal: 7.56s\tremaining: 7.53s\n",
      "600:\tlearn: 1673.3409266\ttotal: 9.07s\tremaining: 6.02s\n",
      "700:\tlearn: 1653.9511406\ttotal: 10.5s\tremaining: 4.48s\n",
      "800:\tlearn: 1636.7373368\ttotal: 11.9s\tremaining: 2.96s\n",
      "900:\tlearn: 1621.7573380\ttotal: 13.3s\tremaining: 1.47s\n",
      "999:\tlearn: 1608.2596660\ttotal: 14.8s\tremaining: 0us\n",
      "0:\tlearn: 4573.1039355\ttotal: 17.4ms\tremaining: 17.4s\n",
      "100:\tlearn: 2051.7059822\ttotal: 1.58s\tremaining: 14.1s\n",
      "200:\tlearn: 1848.1573697\ttotal: 3.01s\tremaining: 12s\n",
      "300:\tlearn: 1771.4193878\ttotal: 4.43s\tremaining: 10.3s\n",
      "400:\tlearn: 1725.5696975\ttotal: 5.86s\tremaining: 8.75s\n",
      "500:\tlearn: 1690.5407595\ttotal: 7.3s\tremaining: 7.27s\n",
      "600:\tlearn: 1664.9524100\ttotal: 8.73s\tremaining: 5.79s\n",
      "700:\tlearn: 1645.3736231\ttotal: 10.2s\tremaining: 4.34s\n",
      "800:\tlearn: 1628.7358559\ttotal: 11.7s\tremaining: 2.9s\n",
      "900:\tlearn: 1614.5148940\ttotal: 13.1s\tremaining: 1.44s\n",
      "999:\tlearn: 1601.5722034\ttotal: 14.5s\tremaining: 0us\n",
      "0:\tlearn: 4357.5288304\ttotal: 15.2ms\tremaining: 15.1s\n",
      "100:\tlearn: 1762.6593962\ttotal: 1.49s\tremaining: 13.2s\n",
      "200:\tlearn: 1656.6618674\ttotal: 2.9s\tremaining: 11.5s\n",
      "300:\tlearn: 1605.1158678\ttotal: 4.35s\tremaining: 10.1s\n",
      "400:\tlearn: 1570.6459330\ttotal: 5.83s\tremaining: 8.7s\n",
      "500:\tlearn: 1544.4289200\ttotal: 7.3s\tremaining: 7.28s\n",
      "600:\tlearn: 1521.9645997\ttotal: 8.74s\tremaining: 5.8s\n",
      "700:\tlearn: 1503.3133522\ttotal: 10.2s\tremaining: 4.35s\n",
      "800:\tlearn: 1486.3868316\ttotal: 11.7s\tremaining: 2.9s\n",
      "900:\tlearn: 1472.3749933\ttotal: 13.1s\tremaining: 1.44s\n",
      "999:\tlearn: 1459.0599797\ttotal: 14.7s\tremaining: 0us\n",
      "0:\tlearn: 4359.2029443\ttotal: 15.3ms\tremaining: 15.3s\n",
      "100:\tlearn: 1765.6824253\ttotal: 1.51s\tremaining: 13.5s\n",
      "200:\tlearn: 1661.8132309\ttotal: 2.97s\tremaining: 11.8s\n",
      "300:\tlearn: 1609.6316494\ttotal: 4.41s\tremaining: 10.2s\n",
      "400:\tlearn: 1573.4258550\ttotal: 5.84s\tremaining: 8.73s\n",
      "500:\tlearn: 1545.3903220\ttotal: 7.48s\tremaining: 7.45s\n",
      "600:\tlearn: 1523.0175972\ttotal: 9.6s\tremaining: 6.37s\n",
      "700:\tlearn: 1502.9450478\ttotal: 11.1s\tremaining: 4.73s\n",
      "800:\tlearn: 1486.7413576\ttotal: 12.6s\tremaining: 3.12s\n",
      "900:\tlearn: 1472.4971642\ttotal: 14s\tremaining: 1.54s\n",
      "999:\tlearn: 1459.6057075\ttotal: 15.4s\tremaining: 0us\n",
      "0:\tlearn: 4365.8076785\ttotal: 15.9ms\tremaining: 15.9s\n",
      "100:\tlearn: 1769.1803461\ttotal: 3.15s\tremaining: 28s\n",
      "200:\tlearn: 1663.5271428\ttotal: 4.67s\tremaining: 18.6s\n",
      "300:\tlearn: 1610.8950772\ttotal: 6.11s\tremaining: 14.2s\n",
      "400:\tlearn: 1574.8083364\ttotal: 7.61s\tremaining: 11.4s\n",
      "500:\tlearn: 1547.3802993\ttotal: 9.08s\tremaining: 9.05s\n",
      "600:\tlearn: 1524.7658674\ttotal: 11.5s\tremaining: 7.6s\n",
      "700:\tlearn: 1505.1686616\ttotal: 12.9s\tremaining: 5.51s\n",
      "800:\tlearn: 1489.1549423\ttotal: 14.4s\tremaining: 3.57s\n",
      "900:\tlearn: 1474.4406703\ttotal: 15.8s\tremaining: 1.74s\n",
      "999:\tlearn: 1461.6194037\ttotal: 17.2s\tremaining: 0us\n",
      "0:\tlearn: 4354.5686502\ttotal: 15.4ms\tremaining: 15.4s\n",
      "100:\tlearn: 1753.6576625\ttotal: 1.46s\tremaining: 13s\n",
      "200:\tlearn: 1652.5147132\ttotal: 2.91s\tremaining: 11.6s\n",
      "300:\tlearn: 1602.1478792\ttotal: 4.4s\tremaining: 10.2s\n",
      "400:\tlearn: 1568.1389901\ttotal: 5.86s\tremaining: 8.76s\n",
      "500:\tlearn: 1541.5376998\ttotal: 8.09s\tremaining: 8.06s\n",
      "600:\tlearn: 1519.0091005\ttotal: 10.5s\tremaining: 6.99s\n",
      "700:\tlearn: 1499.7303162\ttotal: 12s\tremaining: 5.12s\n",
      "800:\tlearn: 1483.6349558\ttotal: 13.5s\tremaining: 3.37s\n",
      "900:\tlearn: 1468.9816338\ttotal: 15s\tremaining: 1.65s\n",
      "999:\tlearn: 1455.4784924\ttotal: 16.5s\tremaining: 0us\n",
      "0:\tlearn: 4577.6424096\ttotal: 15.5ms\tremaining: 15.5s\n",
      "100:\tlearn: 2055.7033599\ttotal: 1.56s\tremaining: 13.9s\n",
      "200:\tlearn: 1853.9870583\ttotal: 3.04s\tremaining: 12.1s\n",
      "300:\tlearn: 1780.1598557\ttotal: 4.51s\tremaining: 10.5s\n",
      "400:\tlearn: 1735.2725603\ttotal: 6.03s\tremaining: 9.01s\n",
      "500:\tlearn: 1700.3322436\ttotal: 7.53s\tremaining: 7.5s\n",
      "600:\tlearn: 1675.6891422\ttotal: 9.01s\tremaining: 5.98s\n",
      "700:\tlearn: 1655.9356725\ttotal: 10.5s\tremaining: 4.46s\n",
      "800:\tlearn: 1639.2949169\ttotal: 11.9s\tremaining: 2.96s\n",
      "900:\tlearn: 1624.7273778\ttotal: 13.4s\tremaining: 1.48s\n",
      "999:\tlearn: 1612.6484527\ttotal: 14.9s\tremaining: 0us\n",
      "0:\tlearn: 4577.4667755\ttotal: 16.9ms\tremaining: 16.8s\n",
      "100:\tlearn: 2064.1074459\ttotal: 2.42s\tremaining: 21.5s\n",
      "200:\tlearn: 1860.5592313\ttotal: 3.89s\tremaining: 15.4s\n",
      "300:\tlearn: 1785.5920070\ttotal: 5.36s\tremaining: 12.4s\n",
      "400:\tlearn: 1738.3722847\ttotal: 6.84s\tremaining: 10.2s\n",
      "500:\tlearn: 1704.5142405\ttotal: 8.34s\tremaining: 8.31s\n",
      "600:\tlearn: 1679.7507768\ttotal: 10.4s\tremaining: 6.87s\n",
      "700:\tlearn: 1660.2533891\ttotal: 12.3s\tremaining: 5.24s\n",
      "800:\tlearn: 1643.9531749\ttotal: 13.8s\tremaining: 3.42s\n",
      "900:\tlearn: 1630.2516564\ttotal: 16.1s\tremaining: 1.77s\n",
      "999:\tlearn: 1617.7565757\ttotal: 17.6s\tremaining: 0us\n",
      "0:\tlearn: 4586.9774206\ttotal: 15.5ms\tremaining: 15.5s\n",
      "100:\tlearn: 2060.1889665\ttotal: 1.61s\tremaining: 14.3s\n",
      "200:\tlearn: 1859.6316287\ttotal: 3.09s\tremaining: 12.3s\n",
      "300:\tlearn: 1785.2934279\ttotal: 4.55s\tremaining: 10.6s\n",
      "400:\tlearn: 1739.7037067\ttotal: 6.75s\tremaining: 10.1s\n",
      "500:\tlearn: 1704.7812405\ttotal: 8.44s\tremaining: 8.41s\n",
      "600:\tlearn: 1680.5010056\ttotal: 9.92s\tremaining: 6.58s\n",
      "700:\tlearn: 1660.7375748\ttotal: 11.4s\tremaining: 4.87s\n",
      "800:\tlearn: 1643.7711989\ttotal: 12.9s\tremaining: 3.21s\n",
      "900:\tlearn: 1629.9841875\ttotal: 14.4s\tremaining: 1.58s\n",
      "999:\tlearn: 1617.3569552\ttotal: 15.9s\tremaining: 0us\n",
      "0:\tlearn: 4573.2172508\ttotal: 15.4ms\tremaining: 15.3s\n",
      "100:\tlearn: 2049.8949327\ttotal: 1.55s\tremaining: 13.8s\n",
      "200:\tlearn: 1851.0016679\ttotal: 3.04s\tremaining: 12.1s\n",
      "300:\tlearn: 1773.5622946\ttotal: 4.63s\tremaining: 10.8s\n",
      "400:\tlearn: 1727.5446142\ttotal: 6.13s\tremaining: 9.16s\n",
      "500:\tlearn: 1694.8047123\ttotal: 7.67s\tremaining: 7.64s\n",
      "600:\tlearn: 1670.8015045\ttotal: 9.22s\tremaining: 6.12s\n",
      "700:\tlearn: 1650.8191260\ttotal: 10.7s\tremaining: 4.56s\n",
      "800:\tlearn: 1634.7718264\ttotal: 12.2s\tremaining: 3.03s\n",
      "900:\tlearn: 1621.3116254\ttotal: 13.8s\tremaining: 1.52s\n",
      "999:\tlearn: 1609.3102861\ttotal: 15.3s\tremaining: 0us\n",
      "0:\tlearn: 4357.8250988\ttotal: 15.4ms\tremaining: 15.4s\n",
      "100:\tlearn: 1766.2516416\ttotal: 1.52s\tremaining: 13.5s\n",
      "200:\tlearn: 1661.9025142\ttotal: 3.02s\tremaining: 12s\n",
      "300:\tlearn: 1612.0110271\ttotal: 4.52s\tremaining: 10.5s\n",
      "400:\tlearn: 1579.3172155\ttotal: 6s\tremaining: 8.96s\n",
      "500:\tlearn: 1553.8595674\ttotal: 7.55s\tremaining: 7.52s\n",
      "600:\tlearn: 1532.3541328\ttotal: 9.06s\tremaining: 6.01s\n",
      "700:\tlearn: 1514.7736710\ttotal: 10.6s\tremaining: 4.52s\n",
      "800:\tlearn: 1499.7727811\ttotal: 12.1s\tremaining: 3.01s\n",
      "900:\tlearn: 1486.2457570\ttotal: 13.6s\tremaining: 1.5s\n",
      "999:\tlearn: 1474.3994406\ttotal: 15.9s\tremaining: 0us\n",
      "0:\tlearn: 4359.5939823\ttotal: 16.2ms\tremaining: 16.1s\n",
      "100:\tlearn: 1771.4068245\ttotal: 1.63s\tremaining: 14.5s\n",
      "200:\tlearn: 1668.0113363\ttotal: 3.12s\tremaining: 12.4s\n",
      "300:\tlearn: 1617.9880592\ttotal: 4.62s\tremaining: 10.7s\n",
      "400:\tlearn: 1583.9412339\ttotal: 6.18s\tremaining: 9.23s\n",
      "500:\tlearn: 1556.8092436\ttotal: 7.71s\tremaining: 7.67s\n",
      "600:\tlearn: 1535.7752658\ttotal: 9.25s\tremaining: 6.14s\n",
      "700:\tlearn: 1517.1350641\ttotal: 10.8s\tremaining: 4.61s\n",
      "800:\tlearn: 1501.5033716\ttotal: 12.3s\tremaining: 3.06s\n",
      "900:\tlearn: 1487.6176621\ttotal: 13.9s\tremaining: 1.52s\n",
      "999:\tlearn: 1476.2238253\ttotal: 15.3s\tremaining: 0us\n",
      "0:\tlearn: 4366.1106446\ttotal: 15.6ms\tremaining: 15.6s\n",
      "100:\tlearn: 1767.8773065\ttotal: 1.57s\tremaining: 14s\n",
      "200:\tlearn: 1666.0604358\ttotal: 3.15s\tremaining: 12.5s\n",
      "300:\tlearn: 1617.7642800\ttotal: 4.68s\tremaining: 10.9s\n",
      "400:\tlearn: 1583.0547071\ttotal: 6.18s\tremaining: 9.23s\n",
      "500:\tlearn: 1557.7513827\ttotal: 7.69s\tremaining: 7.66s\n",
      "600:\tlearn: 1536.9423095\ttotal: 9.72s\tremaining: 6.45s\n",
      "700:\tlearn: 1519.4101985\ttotal: 11.6s\tremaining: 4.93s\n",
      "800:\tlearn: 1505.0022147\ttotal: 13.1s\tremaining: 3.26s\n",
      "900:\tlearn: 1492.4854330\ttotal: 15.2s\tremaining: 1.66s\n",
      "999:\tlearn: 1480.6881198\ttotal: 16.9s\tremaining: 0us\n",
      "0:\tlearn: 4354.9370248\ttotal: 16.3ms\tremaining: 16.3s\n",
      "100:\tlearn: 1756.0039418\ttotal: 1.53s\tremaining: 13.6s\n",
      "200:\tlearn: 1656.8284648\ttotal: 3.07s\tremaining: 12.2s\n",
      "300:\tlearn: 1608.5989189\ttotal: 4.86s\tremaining: 11.3s\n",
      "400:\tlearn: 1575.6424269\ttotal: 6.97s\tremaining: 10.4s\n",
      "500:\tlearn: 1550.7611167\ttotal: 8.43s\tremaining: 8.39s\n",
      "600:\tlearn: 1529.9079638\ttotal: 10.9s\tremaining: 7.21s\n",
      "700:\tlearn: 1512.0873752\ttotal: 12.6s\tremaining: 5.37s\n",
      "800:\tlearn: 1497.1634607\ttotal: 14.3s\tremaining: 3.56s\n",
      "900:\tlearn: 1483.7869552\ttotal: 16.2s\tremaining: 1.78s\n",
      "999:\tlearn: 1472.4101081\ttotal: 18.3s\tremaining: 0us\n",
      "0:\tlearn: 4574.7045563\ttotal: 22.7ms\tremaining: 22.6s\n",
      "100:\tlearn: 1938.3213190\ttotal: 2.14s\tremaining: 19.1s\n",
      "200:\tlearn: 1764.1069245\ttotal: 4.15s\tremaining: 16.5s\n",
      "300:\tlearn: 1696.6268492\ttotal: 6.18s\tremaining: 14.3s\n",
      "400:\tlearn: 1653.9841893\ttotal: 8.13s\tremaining: 12.1s\n",
      "500:\tlearn: 1621.8863476\ttotal: 10.1s\tremaining: 10s\n",
      "600:\tlearn: 1596.3594699\ttotal: 12s\tremaining: 7.94s\n",
      "700:\tlearn: 1575.1452224\ttotal: 13.9s\tremaining: 5.93s\n",
      "800:\tlearn: 1556.8695192\ttotal: 15.8s\tremaining: 3.93s\n",
      "900:\tlearn: 1540.9581016\ttotal: 17.7s\tremaining: 1.94s\n",
      "999:\tlearn: 1526.6914726\ttotal: 19.5s\tremaining: 0us\n",
      "0:\tlearn: 4572.1220885\ttotal: 21.1ms\tremaining: 21.1s\n",
      "100:\tlearn: 1945.0284463\ttotal: 1.99s\tremaining: 17.7s\n",
      "200:\tlearn: 1768.7658943\ttotal: 4.1s\tremaining: 16.3s\n",
      "300:\tlearn: 1701.7001003\ttotal: 6.09s\tremaining: 14.2s\n",
      "400:\tlearn: 1657.1736911\ttotal: 8.05s\tremaining: 12s\n",
      "500:\tlearn: 1623.4251412\ttotal: 9.93s\tremaining: 9.89s\n",
      "600:\tlearn: 1598.4002660\ttotal: 11.8s\tremaining: 7.83s\n",
      "700:\tlearn: 1577.4662115\ttotal: 13.8s\tremaining: 5.87s\n",
      "800:\tlearn: 1560.4236990\ttotal: 15.7s\tremaining: 3.9s\n",
      "900:\tlearn: 1544.3026642\ttotal: 17.6s\tremaining: 1.93s\n",
      "999:\tlearn: 1530.4638632\ttotal: 19.4s\tremaining: 0us\n",
      "0:\tlearn: 4584.0566961\ttotal: 20ms\tremaining: 20s\n",
      "100:\tlearn: 1945.1576098\ttotal: 2.02s\tremaining: 18s\n",
      "200:\tlearn: 1767.3845895\ttotal: 4.09s\tremaining: 16.3s\n",
      "300:\tlearn: 1701.4540073\ttotal: 5.99s\tremaining: 13.9s\n",
      "400:\tlearn: 1657.2462459\ttotal: 7.91s\tremaining: 11.8s\n",
      "500:\tlearn: 1624.0515839\ttotal: 9.76s\tremaining: 9.72s\n",
      "600:\tlearn: 1599.7355601\ttotal: 11.6s\tremaining: 7.72s\n",
      "700:\tlearn: 1578.4806168\ttotal: 13.6s\tremaining: 5.8s\n",
      "800:\tlearn: 1559.4842255\ttotal: 15.5s\tremaining: 3.86s\n",
      "900:\tlearn: 1543.2629451\ttotal: 17.4s\tremaining: 1.92s\n",
      "999:\tlearn: 1528.0610372\ttotal: 19.3s\tremaining: 0us\n",
      "0:\tlearn: 4567.9958931\ttotal: 19.6ms\tremaining: 19.6s\n",
      "100:\tlearn: 1937.7306681\ttotal: 2.01s\tremaining: 17.9s\n",
      "200:\tlearn: 1761.0792355\ttotal: 4.01s\tremaining: 16s\n",
      "300:\tlearn: 1692.7569742\ttotal: 6.01s\tremaining: 14s\n",
      "400:\tlearn: 1649.2421481\ttotal: 8s\tremaining: 12s\n",
      "500:\tlearn: 1617.0944323\ttotal: 10.1s\tremaining: 10.1s\n",
      "600:\tlearn: 1591.7671098\ttotal: 12.3s\tremaining: 8.13s\n",
      "700:\tlearn: 1570.6368531\ttotal: 14.4s\tremaining: 6.15s\n",
      "800:\tlearn: 1553.0638286\ttotal: 16.5s\tremaining: 4.1s\n",
      "900:\tlearn: 1537.2830389\ttotal: 18.3s\tremaining: 2.02s\n",
      "999:\tlearn: 1523.0431684\ttotal: 20.2s\tremaining: 0us\n",
      "0:\tlearn: 4347.9000866\ttotal: 20.4ms\tremaining: 20.4s\n",
      "100:\tlearn: 1682.2924436\ttotal: 1.94s\tremaining: 17.3s\n",
      "200:\tlearn: 1582.7857237\ttotal: 3.86s\tremaining: 15.3s\n",
      "300:\tlearn: 1527.0560331\ttotal: 5.68s\tremaining: 13.2s\n",
      "400:\tlearn: 1485.2199923\ttotal: 7.53s\tremaining: 11.3s\n",
      "500:\tlearn: 1453.2226353\ttotal: 9.43s\tremaining: 9.39s\n",
      "600:\tlearn: 1427.5765416\ttotal: 11.4s\tremaining: 7.54s\n",
      "700:\tlearn: 1405.1761791\ttotal: 13.3s\tremaining: 5.66s\n",
      "800:\tlearn: 1385.4242701\ttotal: 15.1s\tremaining: 3.76s\n",
      "900:\tlearn: 1368.1404870\ttotal: 17s\tremaining: 1.87s\n",
      "999:\tlearn: 1351.8400632\ttotal: 18.9s\tremaining: 0us\n",
      "0:\tlearn: 4341.5321898\ttotal: 30.8ms\tremaining: 30.8s\n",
      "100:\tlearn: 1687.3610174\ttotal: 1.99s\tremaining: 17.7s\n",
      "200:\tlearn: 1583.5647099\ttotal: 4.02s\tremaining: 16s\n",
      "300:\tlearn: 1529.2022923\ttotal: 5.87s\tremaining: 13.6s\n",
      "400:\tlearn: 1488.1007869\ttotal: 7.76s\tremaining: 11.6s\n",
      "500:\tlearn: 1455.7919531\ttotal: 9.72s\tremaining: 9.68s\n",
      "600:\tlearn: 1429.9905550\ttotal: 11.6s\tremaining: 7.73s\n",
      "700:\tlearn: 1407.9174184\ttotal: 13.6s\tremaining: 5.82s\n",
      "800:\tlearn: 1388.8886918\ttotal: 15.5s\tremaining: 3.85s\n",
      "900:\tlearn: 1371.7890247\ttotal: 17.4s\tremaining: 1.91s\n",
      "999:\tlearn: 1355.8517302\ttotal: 19.3s\tremaining: 0us\n",
      "0:\tlearn: 4356.2422457\ttotal: 20.3ms\tremaining: 20.3s\n",
      "100:\tlearn: 1684.5412629\ttotal: 2.02s\tremaining: 18s\n",
      "200:\tlearn: 1583.2564748\ttotal: 3.98s\tremaining: 15.8s\n",
      "300:\tlearn: 1527.7428640\ttotal: 5.92s\tremaining: 13.8s\n",
      "400:\tlearn: 1486.7261375\ttotal: 7.79s\tremaining: 11.6s\n",
      "500:\tlearn: 1455.1303241\ttotal: 9.69s\tremaining: 9.65s\n",
      "600:\tlearn: 1428.2176600\ttotal: 11.6s\tremaining: 7.72s\n",
      "700:\tlearn: 1404.0554188\ttotal: 13.5s\tremaining: 5.77s\n",
      "800:\tlearn: 1383.6647050\ttotal: 15.4s\tremaining: 3.82s\n",
      "900:\tlearn: 1366.6164894\ttotal: 17.2s\tremaining: 1.89s\n",
      "999:\tlearn: 1350.8875644\ttotal: 19.1s\tremaining: 0us\n",
      "0:\tlearn: 4337.2904652\ttotal: 25.7ms\tremaining: 25.7s\n",
      "100:\tlearn: 1677.3486677\ttotal: 1.98s\tremaining: 17.6s\n",
      "200:\tlearn: 1577.2799777\ttotal: 3.9s\tremaining: 15.5s\n",
      "300:\tlearn: 1523.5570792\ttotal: 5.78s\tremaining: 13.4s\n",
      "400:\tlearn: 1483.0953257\ttotal: 7.64s\tremaining: 11.4s\n",
      "500:\tlearn: 1451.3366888\ttotal: 9.51s\tremaining: 9.47s\n",
      "600:\tlearn: 1424.7363535\ttotal: 11.5s\tremaining: 7.65s\n",
      "700:\tlearn: 1401.9504023\ttotal: 13.5s\tremaining: 5.74s\n",
      "800:\tlearn: 1382.9679671\ttotal: 15.4s\tremaining: 3.83s\n",
      "900:\tlearn: 1365.7654332\ttotal: 17.3s\tremaining: 1.9s\n",
      "999:\tlearn: 1350.0336143\ttotal: 19.2s\tremaining: 0us\n",
      "0:\tlearn: 4574.9056745\ttotal: 20.4ms\tremaining: 20.4s\n",
      "100:\tlearn: 1943.8595383\ttotal: 2.16s\tremaining: 19.2s\n",
      "200:\tlearn: 1768.2505555\ttotal: 4.04s\tremaining: 16s\n",
      "300:\tlearn: 1703.0938404\ttotal: 5.88s\tremaining: 13.7s\n",
      "400:\tlearn: 1660.8057744\ttotal: 7.78s\tremaining: 11.6s\n",
      "500:\tlearn: 1629.2718498\ttotal: 9.74s\tremaining: 9.7s\n",
      "600:\tlearn: 1604.9087020\ttotal: 11.6s\tremaining: 7.7s\n",
      "700:\tlearn: 1585.2630025\ttotal: 13.5s\tremaining: 5.76s\n",
      "800:\tlearn: 1567.8381518\ttotal: 15.4s\tremaining: 3.84s\n",
      "900:\tlearn: 1553.5352663\ttotal: 17.4s\tremaining: 1.91s\n",
      "999:\tlearn: 1540.6355274\ttotal: 19.4s\tremaining: 0us\n",
      "0:\tlearn: 4572.3599182\ttotal: 21.2ms\tremaining: 21.2s\n",
      "100:\tlearn: 1950.2284792\ttotal: 2.13s\tremaining: 19s\n",
      "200:\tlearn: 1772.9557216\ttotal: 4.01s\tremaining: 15.9s\n",
      "300:\tlearn: 1707.4932498\ttotal: 5.97s\tremaining: 13.9s\n",
      "400:\tlearn: 1665.3433195\ttotal: 7.87s\tremaining: 11.7s\n",
      "500:\tlearn: 1633.0634510\ttotal: 9.88s\tremaining: 9.84s\n",
      "600:\tlearn: 1609.6108237\ttotal: 11.8s\tremaining: 7.81s\n",
      "700:\tlearn: 1590.8113690\ttotal: 13.6s\tremaining: 5.8s\n",
      "800:\tlearn: 1573.6786798\ttotal: 15.5s\tremaining: 3.85s\n",
      "900:\tlearn: 1558.3053653\ttotal: 17.3s\tremaining: 1.9s\n",
      "999:\tlearn: 1545.0101098\ttotal: 19.2s\tremaining: 0us\n",
      "0:\tlearn: 4584.2630699\ttotal: 20.9ms\tremaining: 20.9s\n",
      "100:\tlearn: 1948.9726514\ttotal: 2.08s\tremaining: 18.5s\n",
      "200:\tlearn: 1774.7612649\ttotal: 3.98s\tremaining: 15.8s\n",
      "300:\tlearn: 1708.8771913\ttotal: 5.93s\tremaining: 13.8s\n",
      "400:\tlearn: 1667.2339382\ttotal: 7.85s\tremaining: 11.7s\n",
      "500:\tlearn: 1635.2013180\ttotal: 9.89s\tremaining: 9.85s\n",
      "600:\tlearn: 1610.3233882\ttotal: 11.8s\tremaining: 7.86s\n",
      "700:\tlearn: 1590.2984398\ttotal: 13.7s\tremaining: 5.85s\n",
      "800:\tlearn: 1573.3644686\ttotal: 15.7s\tremaining: 3.9s\n",
      "900:\tlearn: 1558.4167473\ttotal: 17.6s\tremaining: 1.94s\n",
      "999:\tlearn: 1545.0832013\ttotal: 19.6s\tremaining: 0us\n",
      "0:\tlearn: 4568.2242231\ttotal: 22.1ms\tremaining: 22.1s\n",
      "100:\tlearn: 1942.3875077\ttotal: 1.99s\tremaining: 17.7s\n",
      "200:\tlearn: 1765.0841919\ttotal: 3.87s\tremaining: 15.4s\n",
      "300:\tlearn: 1699.5180825\ttotal: 5.76s\tremaining: 13.4s\n",
      "400:\tlearn: 1657.9064073\ttotal: 7.75s\tremaining: 11.6s\n",
      "500:\tlearn: 1625.7628116\ttotal: 9.65s\tremaining: 9.61s\n",
      "600:\tlearn: 1602.6691601\ttotal: 11.6s\tremaining: 7.69s\n",
      "700:\tlearn: 1583.2299817\ttotal: 13.5s\tremaining: 5.75s\n",
      "800:\tlearn: 1566.2833538\ttotal: 15.4s\tremaining: 3.83s\n",
      "900:\tlearn: 1551.4440180\ttotal: 17.4s\tremaining: 1.91s\n",
      "999:\tlearn: 1538.9709110\ttotal: 19.2s\tremaining: 0us\n",
      "0:\tlearn: 4348.5551533\ttotal: 21ms\tremaining: 21s\n",
      "100:\tlearn: 1689.5983265\ttotal: 1.92s\tremaining: 17.1s\n",
      "200:\tlearn: 1592.8762541\ttotal: 3.79s\tremaining: 15.1s\n",
      "300:\tlearn: 1541.3892243\ttotal: 5.69s\tremaining: 13.2s\n",
      "400:\tlearn: 1504.3477807\ttotal: 7.65s\tremaining: 11.4s\n",
      "500:\tlearn: 1474.2433278\ttotal: 9.53s\tremaining: 9.49s\n",
      "600:\tlearn: 1450.1854349\ttotal: 11.4s\tremaining: 7.59s\n",
      "700:\tlearn: 1429.7256151\ttotal: 13.3s\tremaining: 5.68s\n",
      "800:\tlearn: 1411.3867275\ttotal: 15.2s\tremaining: 3.78s\n",
      "900:\tlearn: 1394.4855343\ttotal: 17.2s\tremaining: 1.89s\n",
      "999:\tlearn: 1380.2983206\ttotal: 19s\tremaining: 0us\n",
      "0:\tlearn: 4342.3091101\ttotal: 20ms\tremaining: 19.9s\n",
      "100:\tlearn: 1690.3413727\ttotal: 1.91s\tremaining: 17s\n",
      "200:\tlearn: 1595.7048688\ttotal: 3.79s\tremaining: 15.1s\n",
      "300:\tlearn: 1545.2996317\ttotal: 5.67s\tremaining: 13.2s\n",
      "400:\tlearn: 1508.6728173\ttotal: 7.59s\tremaining: 11.3s\n",
      "500:\tlearn: 1479.5922889\ttotal: 9.52s\tremaining: 9.48s\n",
      "600:\tlearn: 1456.0428971\ttotal: 11.4s\tremaining: 7.54s\n",
      "700:\tlearn: 1433.9983940\ttotal: 13.3s\tremaining: 5.65s\n",
      "800:\tlearn: 1416.2342839\ttotal: 15.1s\tremaining: 3.75s\n",
      "900:\tlearn: 1400.3789578\ttotal: 17.2s\tremaining: 1.89s\n",
      "999:\tlearn: 1385.9175234\ttotal: 19.2s\tremaining: 0us\n",
      "0:\tlearn: 4356.9145853\ttotal: 19.8ms\tremaining: 19.8s\n",
      "100:\tlearn: 1690.9351165\ttotal: 1.93s\tremaining: 17.2s\n",
      "200:\tlearn: 1594.6896082\ttotal: 3.79s\tremaining: 15.1s\n",
      "300:\tlearn: 1543.8072209\ttotal: 5.68s\tremaining: 13.2s\n",
      "400:\tlearn: 1507.2123641\ttotal: 7.64s\tremaining: 11.4s\n",
      "500:\tlearn: 1477.4027958\ttotal: 9.6s\tremaining: 9.56s\n",
      "600:\tlearn: 1453.6708615\ttotal: 11.5s\tremaining: 7.63s\n",
      "700:\tlearn: 1433.7893781\ttotal: 13.4s\tremaining: 5.7s\n",
      "800:\tlearn: 1415.1183344\ttotal: 15.2s\tremaining: 3.79s\n",
      "900:\tlearn: 1398.4279262\ttotal: 17.2s\tremaining: 1.89s\n",
      "999:\tlearn: 1384.2913962\ttotal: 19.1s\tremaining: 0us\n",
      "0:\tlearn: 4338.0354899\ttotal: 19.5ms\tremaining: 19.5s\n",
      "100:\tlearn: 1687.4971248\ttotal: 1.89s\tremaining: 16.8s\n",
      "200:\tlearn: 1588.7554956\ttotal: 3.78s\tremaining: 15s\n",
      "300:\tlearn: 1538.3065570\ttotal: 5.78s\tremaining: 13.4s\n",
      "400:\tlearn: 1501.7864147\ttotal: 7.79s\tremaining: 11.6s\n",
      "500:\tlearn: 1472.8285231\ttotal: 9.77s\tremaining: 9.73s\n",
      "600:\tlearn: 1448.7295333\ttotal: 11.7s\tremaining: 7.75s\n",
      "700:\tlearn: 1427.5775448\ttotal: 13.6s\tremaining: 5.81s\n",
      "800:\tlearn: 1409.9018944\ttotal: 15.5s\tremaining: 3.84s\n",
      "900:\tlearn: 1394.2880979\ttotal: 17.4s\tremaining: 1.91s\n",
      "999:\tlearn: 1380.7957820\ttotal: 19.3s\tremaining: 0us\n",
      "0:\tlearn: 4579.1458150\ttotal: 22.9ms\tremaining: 22.8s\n",
      "100:\tlearn: 2054.6941843\ttotal: 2.15s\tremaining: 19.2s\n",
      "200:\tlearn: 1854.0526809\ttotal: 4.14s\tremaining: 16.5s\n",
      "300:\tlearn: 1778.9632176\ttotal: 6.17s\tremaining: 14.3s\n",
      "400:\tlearn: 1734.0183907\ttotal: 8.17s\tremaining: 12.2s\n",
      "500:\tlearn: 1701.0414926\ttotal: 10.2s\tremaining: 10.1s\n",
      "600:\tlearn: 1675.7804668\ttotal: 12.1s\tremaining: 8.06s\n",
      "700:\tlearn: 1656.6964654\ttotal: 14.1s\tremaining: 6.02s\n",
      "800:\tlearn: 1640.8935596\ttotal: 16.1s\tremaining: 4s\n",
      "900:\tlearn: 1627.0547986\ttotal: 18.1s\tremaining: 1.99s\n",
      "999:\tlearn: 1614.9021532\ttotal: 20s\tremaining: 0us\n",
      "CPU times: user 9min 33s, sys: 7.7 s, total: 9min 41s\n",
      "Wall time: 10min 23s\n"
     ]
    },
    {
     "data": {
      "text/plain": [
       "{'depth': 6, 'iterations': 1000, 'l2_leaf_reg': 1, 'learning_rate': 0.03}"
      ]
     },
     "execution_count": 55,
     "metadata": {},
     "output_type": "execute_result"
    }
   ],
   "source": [
    "%%time\n",
    "parameters_cb = {'iterations': [1000],\n",
    "        'learning_rate': [0.03, 0.1],\n",
    "        'depth': [6, 8],\n",
    "        'l2_leaf_reg': [1, 3]\n",
    "              }\n",
    "model_CBR = CatBoostRegressor(loss_function='RMSE', eval_metric = 'RMSE', verbose = 100)\n",
    "cb_model = GridSearchCV(estimator = model_CBR, param_grid = parameters_cb, cv = 4, n_jobs=-1, scoring=rmse)\n",
    "cb_model.fit(features_train_scaled, target_train)\n",
    "cb_model.best_params_"
   ]
  },
  {
   "cell_type": "code",
   "execution_count": 56,
   "metadata": {},
   "outputs": [
    {
     "name": "stdout",
     "output_type": "stream",
     "text": [
      "0:\tlearn: 4579.1458150\ttotal: 31.6ms\tremaining: 31.6s\n",
      "1:\tlearn: 4485.9955067\ttotal: 55ms\tremaining: 27.4s\n",
      "2:\tlearn: 4395.0260280\ttotal: 79.7ms\tremaining: 26.5s\n",
      "3:\tlearn: 4310.0941079\ttotal: 101ms\tremaining: 25.1s\n",
      "4:\tlearn: 4225.9421094\ttotal: 125ms\tremaining: 24.8s\n",
      "5:\tlearn: 4146.3648712\ttotal: 149ms\tremaining: 24.7s\n",
      "6:\tlearn: 4069.8735532\ttotal: 175ms\tremaining: 24.8s\n",
      "7:\tlearn: 3995.1593492\ttotal: 201ms\tremaining: 24.9s\n",
      "8:\tlearn: 3923.5480488\ttotal: 223ms\tremaining: 24.5s\n",
      "9:\tlearn: 3854.2689686\ttotal: 244ms\tremaining: 24.2s\n",
      "10:\tlearn: 3787.4795926\ttotal: 266ms\tremaining: 23.9s\n",
      "11:\tlearn: 3722.5575298\ttotal: 288ms\tremaining: 23.7s\n",
      "12:\tlearn: 3661.1366155\ttotal: 308ms\tremaining: 23.4s\n",
      "13:\tlearn: 3602.2509072\ttotal: 332ms\tremaining: 23.4s\n",
      "14:\tlearn: 3545.1057270\ttotal: 354ms\tremaining: 23.2s\n",
      "15:\tlearn: 3489.7376389\ttotal: 376ms\tremaining: 23.1s\n",
      "16:\tlearn: 3437.1860756\ttotal: 398ms\tremaining: 23s\n",
      "17:\tlearn: 3386.2760276\ttotal: 419ms\tremaining: 22.9s\n",
      "18:\tlearn: 3336.3537213\ttotal: 441ms\tremaining: 22.8s\n",
      "19:\tlearn: 3289.5912674\ttotal: 463ms\tremaining: 22.7s\n",
      "20:\tlearn: 3243.4950474\ttotal: 485ms\tremaining: 22.6s\n",
      "21:\tlearn: 3198.9700705\ttotal: 506ms\tremaining: 22.5s\n",
      "22:\tlearn: 3156.0062706\ttotal: 527ms\tremaining: 22.4s\n",
      "23:\tlearn: 3115.0226091\ttotal: 549ms\tremaining: 22.3s\n",
      "24:\tlearn: 3076.3841226\ttotal: 569ms\tremaining: 22.2s\n",
      "25:\tlearn: 3038.9469856\ttotal: 589ms\tremaining: 22.1s\n",
      "26:\tlearn: 3001.3827021\ttotal: 608ms\tremaining: 21.9s\n",
      "27:\tlearn: 2965.5551941\ttotal: 629ms\tremaining: 21.8s\n",
      "28:\tlearn: 2932.0931803\ttotal: 650ms\tremaining: 21.8s\n",
      "29:\tlearn: 2899.6830725\ttotal: 672ms\tremaining: 21.7s\n",
      "30:\tlearn: 2868.5877600\ttotal: 693ms\tremaining: 21.7s\n",
      "31:\tlearn: 2838.2810221\ttotal: 714ms\tremaining: 21.6s\n",
      "32:\tlearn: 2810.4890294\ttotal: 734ms\tremaining: 21.5s\n",
      "33:\tlearn: 2781.9637557\ttotal: 754ms\tremaining: 21.4s\n",
      "34:\tlearn: 2754.6593093\ttotal: 774ms\tremaining: 21.4s\n",
      "35:\tlearn: 2728.4771520\ttotal: 797ms\tremaining: 21.3s\n",
      "36:\tlearn: 2703.7099671\ttotal: 818ms\tremaining: 21.3s\n",
      "37:\tlearn: 2679.0144561\ttotal: 839ms\tremaining: 21.2s\n",
      "38:\tlearn: 2655.4392921\ttotal: 859ms\tremaining: 21.2s\n",
      "39:\tlearn: 2633.9698863\ttotal: 884ms\tremaining: 21.2s\n",
      "40:\tlearn: 2612.9857075\ttotal: 907ms\tremaining: 21.2s\n",
      "41:\tlearn: 2591.6859940\ttotal: 931ms\tremaining: 21.2s\n",
      "42:\tlearn: 2571.4617338\ttotal: 955ms\tremaining: 21.3s\n",
      "43:\tlearn: 2552.3406692\ttotal: 975ms\tremaining: 21.2s\n",
      "44:\tlearn: 2533.7000083\ttotal: 995ms\tremaining: 21.1s\n",
      "45:\tlearn: 2516.3711280\ttotal: 1.01s\tremaining: 21.1s\n",
      "46:\tlearn: 2499.7904035\ttotal: 1.04s\tremaining: 21s\n",
      "47:\tlearn: 2482.8561935\ttotal: 1.06s\tremaining: 21s\n",
      "48:\tlearn: 2467.4649428\ttotal: 1.08s\tremaining: 21s\n",
      "49:\tlearn: 2451.9059725\ttotal: 1.1s\tremaining: 21s\n",
      "50:\tlearn: 2437.2865701\ttotal: 1.12s\tremaining: 20.9s\n",
      "51:\tlearn: 2423.2859118\ttotal: 1.14s\tremaining: 20.9s\n",
      "52:\tlearn: 2409.5523283\ttotal: 1.16s\tremaining: 20.8s\n",
      "53:\tlearn: 2395.9889682\ttotal: 1.18s\tremaining: 20.7s\n",
      "54:\tlearn: 2382.8482221\ttotal: 1.21s\tremaining: 20.8s\n",
      "55:\tlearn: 2370.8704182\ttotal: 1.23s\tremaining: 20.8s\n",
      "56:\tlearn: 2358.6493219\ttotal: 1.25s\tremaining: 20.7s\n",
      "57:\tlearn: 2347.2225029\ttotal: 1.27s\tremaining: 20.7s\n",
      "58:\tlearn: 2335.8533319\ttotal: 1.3s\tremaining: 20.8s\n",
      "59:\tlearn: 2324.9848527\ttotal: 1.33s\tremaining: 20.8s\n",
      "60:\tlearn: 2314.6924814\ttotal: 1.35s\tremaining: 20.8s\n",
      "61:\tlearn: 2304.5082941\ttotal: 1.37s\tremaining: 20.7s\n",
      "62:\tlearn: 2294.5682702\ttotal: 1.39s\tremaining: 20.7s\n",
      "63:\tlearn: 2285.3555853\ttotal: 1.41s\tremaining: 20.6s\n",
      "64:\tlearn: 2275.9738715\ttotal: 1.43s\tremaining: 20.6s\n",
      "65:\tlearn: 2267.0701242\ttotal: 1.45s\tremaining: 20.5s\n",
      "66:\tlearn: 2257.9264312\ttotal: 1.47s\tremaining: 20.5s\n",
      "67:\tlearn: 2249.1548419\ttotal: 1.5s\tremaining: 20.5s\n",
      "68:\tlearn: 2241.1986083\ttotal: 1.51s\tremaining: 20.4s\n",
      "69:\tlearn: 2233.0229532\ttotal: 1.53s\tremaining: 20.4s\n",
      "70:\tlearn: 2222.8835834\ttotal: 1.55s\tremaining: 20.3s\n",
      "71:\tlearn: 2215.4986930\ttotal: 1.57s\tremaining: 20.3s\n",
      "72:\tlearn: 2208.3191577\ttotal: 1.59s\tremaining: 20.2s\n",
      "73:\tlearn: 2199.4570248\ttotal: 1.61s\tremaining: 20.2s\n",
      "74:\tlearn: 2192.7030041\ttotal: 1.63s\tremaining: 20.1s\n",
      "75:\tlearn: 2183.8988614\ttotal: 1.65s\tremaining: 20.1s\n",
      "76:\tlearn: 2175.8706107\ttotal: 1.67s\tremaining: 20.1s\n",
      "77:\tlearn: 2169.2819875\ttotal: 1.69s\tremaining: 20s\n",
      "78:\tlearn: 2163.0316232\ttotal: 1.71s\tremaining: 20s\n",
      "79:\tlearn: 2157.1491793\ttotal: 1.73s\tremaining: 19.9s\n",
      "80:\tlearn: 2151.4525228\ttotal: 1.75s\tremaining: 19.9s\n",
      "81:\tlearn: 2145.1692387\ttotal: 1.77s\tremaining: 19.8s\n",
      "82:\tlearn: 2139.3471653\ttotal: 1.79s\tremaining: 19.8s\n",
      "83:\tlearn: 2134.1486282\ttotal: 1.81s\tremaining: 19.8s\n",
      "84:\tlearn: 2128.8068319\ttotal: 1.83s\tremaining: 19.7s\n",
      "85:\tlearn: 2122.1356026\ttotal: 1.85s\tremaining: 19.7s\n",
      "86:\tlearn: 2116.4868888\ttotal: 1.87s\tremaining: 19.6s\n",
      "87:\tlearn: 2111.3123912\ttotal: 1.89s\tremaining: 19.6s\n",
      "88:\tlearn: 2106.4671227\ttotal: 1.91s\tremaining: 19.6s\n",
      "89:\tlearn: 2101.5874935\ttotal: 1.93s\tremaining: 19.5s\n",
      "90:\tlearn: 2096.9011955\ttotal: 1.95s\tremaining: 19.5s\n",
      "91:\tlearn: 2091.9574816\ttotal: 1.97s\tremaining: 19.5s\n",
      "92:\tlearn: 2087.4925892\ttotal: 1.99s\tremaining: 19.4s\n",
      "93:\tlearn: 2083.1339679\ttotal: 2.01s\tremaining: 19.4s\n",
      "94:\tlearn: 2078.4833504\ttotal: 2.03s\tremaining: 19.4s\n",
      "95:\tlearn: 2073.9485364\ttotal: 2.05s\tremaining: 19.3s\n",
      "96:\tlearn: 2070.2692185\ttotal: 2.07s\tremaining: 19.3s\n",
      "97:\tlearn: 2066.5919740\ttotal: 2.09s\tremaining: 19.3s\n",
      "98:\tlearn: 2062.8286570\ttotal: 2.11s\tremaining: 19.2s\n",
      "99:\tlearn: 2058.7425289\ttotal: 2.13s\tremaining: 19.2s\n",
      "100:\tlearn: 2054.6941843\ttotal: 2.15s\tremaining: 19.2s\n",
      "101:\tlearn: 2051.2419680\ttotal: 2.17s\tremaining: 19.1s\n",
      "102:\tlearn: 2047.4232481\ttotal: 2.19s\tremaining: 19.1s\n",
      "103:\tlearn: 2043.9123639\ttotal: 2.21s\tremaining: 19s\n",
      "104:\tlearn: 2039.1982771\ttotal: 2.23s\tremaining: 19s\n",
      "105:\tlearn: 2035.6816572\ttotal: 2.25s\tremaining: 19s\n",
      "106:\tlearn: 2031.6069104\ttotal: 2.27s\tremaining: 18.9s\n",
      "107:\tlearn: 2028.0945799\ttotal: 2.29s\tremaining: 18.9s\n",
      "108:\tlearn: 2024.8258384\ttotal: 2.31s\tremaining: 18.9s\n",
      "109:\tlearn: 2021.0731909\ttotal: 2.33s\tremaining: 18.8s\n",
      "110:\tlearn: 2018.2157636\ttotal: 2.35s\tremaining: 18.8s\n",
      "111:\tlearn: 2015.4401338\ttotal: 2.37s\tremaining: 18.8s\n",
      "112:\tlearn: 2011.9382706\ttotal: 2.39s\tremaining: 18.7s\n",
      "113:\tlearn: 2009.2427015\ttotal: 2.41s\tremaining: 18.7s\n",
      "114:\tlearn: 2006.4076054\ttotal: 2.43s\tremaining: 18.7s\n",
      "115:\tlearn: 2003.9627331\ttotal: 2.46s\tremaining: 18.7s\n",
      "116:\tlearn: 2001.2994548\ttotal: 2.48s\tremaining: 18.7s\n",
      "117:\tlearn: 1998.2783675\ttotal: 2.5s\tremaining: 18.7s\n",
      "118:\tlearn: 1995.1763137\ttotal: 2.52s\tremaining: 18.7s\n",
      "119:\tlearn: 1992.5279402\ttotal: 2.54s\tremaining: 18.6s\n",
      "120:\tlearn: 1989.9717619\ttotal: 2.57s\tremaining: 18.6s\n",
      "121:\tlearn: 1987.1215584\ttotal: 2.59s\tremaining: 18.6s\n",
      "122:\tlearn: 1984.2874443\ttotal: 2.61s\tremaining: 18.6s\n",
      "123:\tlearn: 1982.0386624\ttotal: 2.63s\tremaining: 18.6s\n",
      "124:\tlearn: 1979.5425912\ttotal: 2.66s\tremaining: 18.6s\n",
      "125:\tlearn: 1977.2951117\ttotal: 2.67s\tremaining: 18.6s\n",
      "126:\tlearn: 1974.9687352\ttotal: 2.69s\tremaining: 18.5s\n",
      "127:\tlearn: 1972.9715714\ttotal: 2.71s\tremaining: 18.5s\n",
      "128:\tlearn: 1969.8060804\ttotal: 2.74s\tremaining: 18.5s\n",
      "129:\tlearn: 1966.5895942\ttotal: 2.76s\tremaining: 18.5s\n",
      "130:\tlearn: 1964.0651335\ttotal: 2.78s\tremaining: 18.4s\n",
      "131:\tlearn: 1962.1583668\ttotal: 2.8s\tremaining: 18.4s\n",
      "132:\tlearn: 1960.3370380\ttotal: 2.82s\tremaining: 18.4s\n",
      "133:\tlearn: 1958.0288752\ttotal: 2.84s\tremaining: 18.3s\n",
      "134:\tlearn: 1955.2656228\ttotal: 2.85s\tremaining: 18.3s\n",
      "135:\tlearn: 1953.5165755\ttotal: 2.88s\tremaining: 18.3s\n",
      "136:\tlearn: 1951.2515106\ttotal: 2.89s\tremaining: 18.2s\n",
      "137:\tlearn: 1949.5976226\ttotal: 2.91s\tremaining: 18.2s\n",
      "138:\tlearn: 1947.5545203\ttotal: 2.94s\tremaining: 18.2s\n",
      "139:\tlearn: 1945.7322535\ttotal: 2.96s\tremaining: 18.2s\n",
      "140:\tlearn: 1943.6388725\ttotal: 2.98s\tremaining: 18.1s\n",
      "141:\tlearn: 1941.5392412\ttotal: 3s\tremaining: 18.1s\n",
      "142:\tlearn: 1939.4908660\ttotal: 3.02s\tremaining: 18.1s\n",
      "143:\tlearn: 1937.3511985\ttotal: 3.04s\tremaining: 18.1s\n",
      "144:\tlearn: 1935.6795643\ttotal: 3.06s\tremaining: 18s\n",
      "145:\tlearn: 1933.9309057\ttotal: 3.08s\tremaining: 18s\n",
      "146:\tlearn: 1932.4849112\ttotal: 3.1s\tremaining: 18s\n",
      "147:\tlearn: 1929.7633300\ttotal: 3.12s\tremaining: 17.9s\n",
      "148:\tlearn: 1927.0111404\ttotal: 3.14s\tremaining: 17.9s\n",
      "149:\tlearn: 1925.0170392\ttotal: 3.16s\tremaining: 17.9s\n",
      "150:\tlearn: 1923.5751230\ttotal: 3.18s\tremaining: 17.9s\n",
      "151:\tlearn: 1921.0773275\ttotal: 3.2s\tremaining: 17.9s\n",
      "152:\tlearn: 1918.6084381\ttotal: 3.22s\tremaining: 17.8s\n",
      "153:\tlearn: 1917.3817236\ttotal: 3.24s\tremaining: 17.8s\n",
      "154:\tlearn: 1915.4231412\ttotal: 3.26s\tremaining: 17.8s\n",
      "155:\tlearn: 1913.8550700\ttotal: 3.28s\tremaining: 17.8s\n",
      "156:\tlearn: 1912.2742866\ttotal: 3.3s\tremaining: 17.7s\n",
      "157:\tlearn: 1910.6379188\ttotal: 3.32s\tremaining: 17.7s\n",
      "158:\tlearn: 1908.4390366\ttotal: 3.34s\tremaining: 17.7s\n",
      "159:\tlearn: 1906.7253945\ttotal: 3.37s\tremaining: 17.7s\n",
      "160:\tlearn: 1904.9956638\ttotal: 3.38s\tremaining: 17.6s\n",
      "161:\tlearn: 1903.7748682\ttotal: 3.4s\tremaining: 17.6s\n",
      "162:\tlearn: 1902.5592291\ttotal: 3.42s\tremaining: 17.6s\n",
      "163:\tlearn: 1900.7670411\ttotal: 3.44s\tremaining: 17.6s\n",
      "164:\tlearn: 1899.3808514\ttotal: 3.46s\tremaining: 17.5s\n",
      "165:\tlearn: 1898.2665705\ttotal: 3.48s\tremaining: 17.5s\n",
      "166:\tlearn: 1897.0916535\ttotal: 3.5s\tremaining: 17.5s\n",
      "167:\tlearn: 1895.5265033\ttotal: 3.52s\tremaining: 17.5s\n",
      "168:\tlearn: 1893.3663286\ttotal: 3.54s\tremaining: 17.4s\n",
      "169:\tlearn: 1891.3976763\ttotal: 3.56s\tremaining: 17.4s\n",
      "170:\tlearn: 1890.2846794\ttotal: 3.58s\tremaining: 17.4s\n",
      "171:\tlearn: 1888.3503693\ttotal: 3.6s\tremaining: 17.3s\n",
      "172:\tlearn: 1887.1828902\ttotal: 3.62s\tremaining: 17.3s\n",
      "173:\tlearn: 1885.6670166\ttotal: 3.64s\tremaining: 17.3s\n",
      "174:\tlearn: 1884.6957933\ttotal: 3.66s\tremaining: 17.3s\n",
      "175:\tlearn: 1883.6560775\ttotal: 3.68s\tremaining: 17.2s\n",
      "176:\tlearn: 1882.5567481\ttotal: 3.7s\tremaining: 17.2s\n",
      "177:\tlearn: 1880.7885171\ttotal: 3.72s\tremaining: 17.2s\n",
      "178:\tlearn: 1879.2218700\ttotal: 3.74s\tremaining: 17.2s\n",
      "179:\tlearn: 1877.5148512\ttotal: 3.76s\tremaining: 17.1s\n",
      "180:\tlearn: 1876.1027834\ttotal: 3.78s\tremaining: 17.1s\n",
      "181:\tlearn: 1874.9689189\ttotal: 3.8s\tremaining: 17.1s\n",
      "182:\tlearn: 1873.9395449\ttotal: 3.82s\tremaining: 17.1s\n",
      "183:\tlearn: 1873.0129852\ttotal: 3.84s\tremaining: 17s\n",
      "184:\tlearn: 1871.8826541\ttotal: 3.86s\tremaining: 17s\n",
      "185:\tlearn: 1870.9181909\ttotal: 3.88s\tremaining: 17s\n",
      "186:\tlearn: 1869.9002293\ttotal: 3.9s\tremaining: 17s\n",
      "187:\tlearn: 1868.9056050\ttotal: 3.92s\tremaining: 16.9s\n",
      "188:\tlearn: 1867.9682005\ttotal: 3.94s\tremaining: 16.9s\n",
      "189:\tlearn: 1867.0041002\ttotal: 3.96s\tremaining: 16.9s\n",
      "190:\tlearn: 1865.3177835\ttotal: 3.98s\tremaining: 16.8s\n",
      "191:\tlearn: 1864.3741023\ttotal: 4s\tremaining: 16.8s\n",
      "192:\tlearn: 1863.1351674\ttotal: 4.02s\tremaining: 16.8s\n",
      "193:\tlearn: 1861.5687858\ttotal: 4.04s\tremaining: 16.8s\n",
      "194:\tlearn: 1860.6390855\ttotal: 4.06s\tremaining: 16.8s\n",
      "195:\tlearn: 1859.4957167\ttotal: 4.08s\tremaining: 16.7s\n",
      "196:\tlearn: 1858.0984567\ttotal: 4.1s\tremaining: 16.7s\n",
      "197:\tlearn: 1857.0885915\ttotal: 4.12s\tremaining: 16.7s\n",
      "198:\tlearn: 1855.8736956\ttotal: 4.14s\tremaining: 16.7s\n",
      "199:\tlearn: 1854.8370168\ttotal: 4.16s\tremaining: 16.7s\n",
      "200:\tlearn: 1854.0526809\ttotal: 4.18s\tremaining: 16.6s\n",
      "201:\tlearn: 1852.6742424\ttotal: 4.2s\tremaining: 16.6s\n",
      "202:\tlearn: 1851.6426290\ttotal: 4.22s\tremaining: 16.6s\n",
      "203:\tlearn: 1850.8930591\ttotal: 4.24s\tremaining: 16.5s\n",
      "204:\tlearn: 1849.7274938\ttotal: 4.26s\tremaining: 16.5s\n",
      "205:\tlearn: 1848.6884034\ttotal: 4.28s\tremaining: 16.5s\n",
      "206:\tlearn: 1847.3616173\ttotal: 4.3s\tremaining: 16.5s\n",
      "207:\tlearn: 1846.1954489\ttotal: 4.32s\tremaining: 16.4s\n",
      "208:\tlearn: 1845.4030087\ttotal: 4.34s\tremaining: 16.4s\n",
      "209:\tlearn: 1844.1797881\ttotal: 4.36s\tremaining: 16.4s\n",
      "210:\tlearn: 1843.2386837\ttotal: 4.38s\tremaining: 16.4s\n",
      "211:\tlearn: 1842.3803760\ttotal: 4.4s\tremaining: 16.4s\n",
      "212:\tlearn: 1841.3606623\ttotal: 4.42s\tremaining: 16.3s\n",
      "213:\tlearn: 1840.5274535\ttotal: 4.44s\tremaining: 16.3s\n",
      "214:\tlearn: 1839.5840612\ttotal: 4.46s\tremaining: 16.3s\n",
      "215:\tlearn: 1838.9211864\ttotal: 4.48s\tremaining: 16.2s\n",
      "216:\tlearn: 1837.3963769\ttotal: 4.5s\tremaining: 16.2s\n",
      "217:\tlearn: 1836.0931170\ttotal: 4.52s\tremaining: 16.2s\n",
      "218:\tlearn: 1835.0034377\ttotal: 4.54s\tremaining: 16.2s\n",
      "219:\tlearn: 1833.9847819\ttotal: 4.56s\tremaining: 16.2s\n",
      "220:\tlearn: 1833.3964509\ttotal: 4.58s\tremaining: 16.1s\n",
      "221:\tlearn: 1832.7633721\ttotal: 4.6s\tremaining: 16.1s\n",
      "222:\tlearn: 1832.0524820\ttotal: 4.62s\tremaining: 16.1s\n",
      "223:\tlearn: 1831.0777036\ttotal: 4.64s\tremaining: 16.1s\n",
      "224:\tlearn: 1830.2617909\ttotal: 4.66s\tremaining: 16.1s\n",
      "225:\tlearn: 1829.4979614\ttotal: 4.68s\tremaining: 16s\n",
      "226:\tlearn: 1828.8872961\ttotal: 4.7s\tremaining: 16s\n",
      "227:\tlearn: 1827.8947993\ttotal: 4.72s\tremaining: 16s\n",
      "228:\tlearn: 1827.3196847\ttotal: 4.74s\tremaining: 16s\n",
      "229:\tlearn: 1826.5659065\ttotal: 4.76s\tremaining: 15.9s\n",
      "230:\tlearn: 1825.6069547\ttotal: 4.78s\tremaining: 15.9s\n",
      "231:\tlearn: 1825.0206576\ttotal: 4.8s\tremaining: 15.9s\n",
      "232:\tlearn: 1824.2134438\ttotal: 4.82s\tremaining: 15.9s\n",
      "233:\tlearn: 1823.0910655\ttotal: 4.84s\tremaining: 15.8s\n",
      "234:\tlearn: 1822.6135676\ttotal: 4.86s\tremaining: 15.8s\n",
      "235:\tlearn: 1821.7980824\ttotal: 4.88s\tremaining: 15.8s\n",
      "236:\tlearn: 1821.2090130\ttotal: 4.89s\tremaining: 15.8s\n",
      "237:\tlearn: 1820.4796666\ttotal: 4.91s\tremaining: 15.7s\n",
      "238:\tlearn: 1819.7191462\ttotal: 4.93s\tremaining: 15.7s\n",
      "239:\tlearn: 1818.7678296\ttotal: 4.95s\tremaining: 15.7s\n",
      "240:\tlearn: 1817.9278479\ttotal: 4.97s\tremaining: 15.7s\n",
      "241:\tlearn: 1817.1755515\ttotal: 4.99s\tremaining: 15.6s\n",
      "242:\tlearn: 1816.6553185\ttotal: 5.01s\tremaining: 15.6s\n",
      "243:\tlearn: 1815.9506864\ttotal: 5.03s\tremaining: 15.6s\n",
      "244:\tlearn: 1815.4073749\ttotal: 5.05s\tremaining: 15.6s\n",
      "245:\tlearn: 1814.8222472\ttotal: 5.07s\tremaining: 15.5s\n",
      "246:\tlearn: 1813.8282125\ttotal: 5.09s\tremaining: 15.5s\n",
      "247:\tlearn: 1813.0391210\ttotal: 5.12s\tremaining: 15.5s\n",
      "248:\tlearn: 1812.1347503\ttotal: 5.13s\tremaining: 15.5s\n",
      "249:\tlearn: 1811.1795798\ttotal: 5.16s\tremaining: 15.5s\n",
      "250:\tlearn: 1810.6587063\ttotal: 5.18s\tremaining: 15.5s\n",
      "251:\tlearn: 1809.6069518\ttotal: 5.2s\tremaining: 15.4s\n",
      "252:\tlearn: 1808.9044076\ttotal: 5.22s\tremaining: 15.4s\n",
      "253:\tlearn: 1808.4260259\ttotal: 5.24s\tremaining: 15.4s\n",
      "254:\tlearn: 1807.6155107\ttotal: 5.26s\tremaining: 15.4s\n",
      "255:\tlearn: 1807.0045572\ttotal: 5.28s\tremaining: 15.4s\n",
      "256:\tlearn: 1806.1967140\ttotal: 5.3s\tremaining: 15.3s\n",
      "257:\tlearn: 1805.6675112\ttotal: 5.32s\tremaining: 15.3s\n",
      "258:\tlearn: 1805.0967638\ttotal: 5.34s\tremaining: 15.3s\n",
      "259:\tlearn: 1804.5655145\ttotal: 5.36s\tremaining: 15.3s\n",
      "260:\tlearn: 1803.6842761\ttotal: 5.38s\tremaining: 15.2s\n",
      "261:\tlearn: 1803.0762778\ttotal: 5.4s\tremaining: 15.2s\n",
      "262:\tlearn: 1802.4995861\ttotal: 5.42s\tremaining: 15.2s\n",
      "263:\tlearn: 1801.9269610\ttotal: 5.44s\tremaining: 15.2s\n",
      "264:\tlearn: 1801.3419122\ttotal: 5.46s\tremaining: 15.1s\n",
      "265:\tlearn: 1800.6513216\ttotal: 5.48s\tremaining: 15.1s\n",
      "266:\tlearn: 1800.2309311\ttotal: 5.5s\tremaining: 15.1s\n",
      "267:\tlearn: 1799.5299416\ttotal: 5.52s\tremaining: 15.1s\n",
      "268:\tlearn: 1799.0687919\ttotal: 5.54s\tremaining: 15.1s\n",
      "269:\tlearn: 1798.1516221\ttotal: 5.56s\tremaining: 15s\n",
      "270:\tlearn: 1797.6778141\ttotal: 5.58s\tremaining: 15s\n",
      "271:\tlearn: 1796.7531301\ttotal: 5.6s\tremaining: 15s\n",
      "272:\tlearn: 1796.1707709\ttotal: 5.62s\tremaining: 15s\n",
      "273:\tlearn: 1795.4743505\ttotal: 5.64s\tremaining: 14.9s\n",
      "274:\tlearn: 1794.7011001\ttotal: 5.66s\tremaining: 14.9s\n",
      "275:\tlearn: 1794.3097414\ttotal: 5.68s\tremaining: 14.9s\n",
      "276:\tlearn: 1793.5967026\ttotal: 5.7s\tremaining: 14.9s\n",
      "277:\tlearn: 1792.5705350\ttotal: 5.72s\tremaining: 14.9s\n",
      "278:\tlearn: 1791.9639341\ttotal: 5.74s\tremaining: 14.8s\n",
      "279:\tlearn: 1791.1925840\ttotal: 5.76s\tremaining: 14.8s\n",
      "280:\tlearn: 1790.8025515\ttotal: 5.78s\tremaining: 14.8s\n",
      "281:\tlearn: 1790.1200124\ttotal: 5.8s\tremaining: 14.8s\n",
      "282:\tlearn: 1789.5749134\ttotal: 5.82s\tremaining: 14.7s\n",
      "283:\tlearn: 1789.0889415\ttotal: 5.84s\tremaining: 14.7s\n",
      "284:\tlearn: 1788.2559280\ttotal: 5.86s\tremaining: 14.7s\n",
      "285:\tlearn: 1787.7547575\ttotal: 5.88s\tremaining: 14.7s\n",
      "286:\tlearn: 1787.1665866\ttotal: 5.9s\tremaining: 14.7s\n",
      "287:\tlearn: 1786.6710431\ttotal: 5.92s\tremaining: 14.6s\n",
      "288:\tlearn: 1786.0327564\ttotal: 5.94s\tremaining: 14.6s\n",
      "289:\tlearn: 1785.5189140\ttotal: 5.96s\tremaining: 14.6s\n",
      "290:\tlearn: 1785.0178417\ttotal: 5.97s\tremaining: 14.6s\n",
      "291:\tlearn: 1784.3199586\ttotal: 6s\tremaining: 14.5s\n",
      "292:\tlearn: 1783.7751581\ttotal: 6.02s\tremaining: 14.5s\n",
      "293:\tlearn: 1783.0732852\ttotal: 6.04s\tremaining: 14.5s\n",
      "294:\tlearn: 1782.2611379\ttotal: 6.06s\tremaining: 14.5s\n",
      "295:\tlearn: 1781.8466851\ttotal: 6.08s\tremaining: 14.5s\n",
      "296:\tlearn: 1781.3000977\ttotal: 6.1s\tremaining: 14.4s\n",
      "297:\tlearn: 1780.6670244\ttotal: 6.12s\tremaining: 14.4s\n",
      "298:\tlearn: 1780.1253109\ttotal: 6.14s\tremaining: 14.4s\n",
      "299:\tlearn: 1779.7040700\ttotal: 6.16s\tremaining: 14.4s\n",
      "300:\tlearn: 1778.9632176\ttotal: 6.18s\tremaining: 14.4s\n",
      "301:\tlearn: 1778.3249366\ttotal: 6.2s\tremaining: 14.3s\n",
      "302:\tlearn: 1777.7318170\ttotal: 6.22s\tremaining: 14.3s\n",
      "303:\tlearn: 1777.1029740\ttotal: 6.25s\tremaining: 14.3s\n",
      "304:\tlearn: 1776.6539411\ttotal: 6.27s\tremaining: 14.3s\n",
      "305:\tlearn: 1776.2308510\ttotal: 6.29s\tremaining: 14.3s\n",
      "306:\tlearn: 1775.6354698\ttotal: 6.31s\tremaining: 14.2s\n",
      "307:\tlearn: 1775.2864789\ttotal: 6.33s\tremaining: 14.2s\n",
      "308:\tlearn: 1774.9038189\ttotal: 6.35s\tremaining: 14.2s\n",
      "309:\tlearn: 1774.3834993\ttotal: 6.37s\tremaining: 14.2s\n",
      "310:\tlearn: 1773.9557958\ttotal: 6.39s\tremaining: 14.2s\n",
      "311:\tlearn: 1773.4187951\ttotal: 6.41s\tremaining: 14.1s\n",
      "312:\tlearn: 1772.9517528\ttotal: 6.44s\tremaining: 14.1s\n",
      "313:\tlearn: 1772.4988725\ttotal: 6.46s\tremaining: 14.1s\n",
      "314:\tlearn: 1771.9100111\ttotal: 6.48s\tremaining: 14.1s\n",
      "315:\tlearn: 1771.5138536\ttotal: 6.5s\tremaining: 14.1s\n",
      "316:\tlearn: 1771.1345884\ttotal: 6.52s\tremaining: 14.1s\n",
      "317:\tlearn: 1770.7969749\ttotal: 6.54s\tremaining: 14s\n",
      "318:\tlearn: 1770.0913553\ttotal: 6.57s\tremaining: 14s\n",
      "319:\tlearn: 1769.5036573\ttotal: 6.58s\tremaining: 14s\n",
      "320:\tlearn: 1768.9358286\ttotal: 6.61s\tremaining: 14s\n",
      "321:\tlearn: 1768.5062996\ttotal: 6.63s\tremaining: 14s\n",
      "322:\tlearn: 1767.9324918\ttotal: 6.65s\tremaining: 13.9s\n",
      "323:\tlearn: 1767.4819635\ttotal: 6.67s\tremaining: 13.9s\n",
      "324:\tlearn: 1766.7283017\ttotal: 6.69s\tremaining: 13.9s\n",
      "325:\tlearn: 1766.0640774\ttotal: 6.71s\tremaining: 13.9s\n",
      "326:\tlearn: 1765.5406850\ttotal: 6.73s\tremaining: 13.9s\n",
      "327:\tlearn: 1765.2366476\ttotal: 6.75s\tremaining: 13.8s\n",
      "328:\tlearn: 1764.8880510\ttotal: 6.77s\tremaining: 13.8s\n",
      "329:\tlearn: 1764.4359266\ttotal: 6.79s\tremaining: 13.8s\n",
      "330:\tlearn: 1763.9961054\ttotal: 6.81s\tremaining: 13.8s\n",
      "331:\tlearn: 1763.3990766\ttotal: 6.84s\tremaining: 13.8s\n",
      "332:\tlearn: 1762.9484513\ttotal: 6.86s\tremaining: 13.7s\n",
      "333:\tlearn: 1762.6369301\ttotal: 6.88s\tremaining: 13.7s\n",
      "334:\tlearn: 1762.0797075\ttotal: 6.9s\tremaining: 13.7s\n",
      "335:\tlearn: 1761.4409029\ttotal: 6.92s\tremaining: 13.7s\n",
      "336:\tlearn: 1761.0089043\ttotal: 6.94s\tremaining: 13.7s\n",
      "337:\tlearn: 1760.6208891\ttotal: 6.96s\tremaining: 13.6s\n",
      "338:\tlearn: 1760.2326376\ttotal: 6.99s\tremaining: 13.6s\n",
      "339:\tlearn: 1759.6270510\ttotal: 7.01s\tremaining: 13.6s\n",
      "340:\tlearn: 1758.9199360\ttotal: 7.03s\tremaining: 13.6s\n",
      "341:\tlearn: 1758.3173783\ttotal: 7.06s\tremaining: 13.6s\n",
      "342:\tlearn: 1757.9205382\ttotal: 7.08s\tremaining: 13.6s\n",
      "343:\tlearn: 1757.3866228\ttotal: 7.1s\tremaining: 13.5s\n",
      "344:\tlearn: 1756.9177024\ttotal: 7.12s\tremaining: 13.5s\n",
      "345:\tlearn: 1756.5996259\ttotal: 7.14s\tremaining: 13.5s\n",
      "346:\tlearn: 1756.1557904\ttotal: 7.16s\tremaining: 13.5s\n",
      "347:\tlearn: 1755.6703318\ttotal: 7.18s\tremaining: 13.5s\n",
      "348:\tlearn: 1755.2668037\ttotal: 7.2s\tremaining: 13.4s\n",
      "349:\tlearn: 1754.8580218\ttotal: 7.22s\tremaining: 13.4s\n",
      "350:\tlearn: 1754.4751931\ttotal: 7.24s\tremaining: 13.4s\n",
      "351:\tlearn: 1754.0798081\ttotal: 7.26s\tremaining: 13.4s\n",
      "352:\tlearn: 1753.6519311\ttotal: 7.28s\tremaining: 13.3s\n",
      "353:\tlearn: 1753.3831325\ttotal: 7.3s\tremaining: 13.3s\n",
      "354:\tlearn: 1752.8800101\ttotal: 7.32s\tremaining: 13.3s\n",
      "355:\tlearn: 1752.5605317\ttotal: 7.34s\tremaining: 13.3s\n",
      "356:\tlearn: 1752.2303028\ttotal: 7.36s\tremaining: 13.3s\n",
      "357:\tlearn: 1751.7353357\ttotal: 7.38s\tremaining: 13.2s\n",
      "358:\tlearn: 1751.3643828\ttotal: 7.4s\tremaining: 13.2s\n",
      "359:\tlearn: 1751.0345070\ttotal: 7.43s\tremaining: 13.2s\n",
      "360:\tlearn: 1750.2274644\ttotal: 7.45s\tremaining: 13.2s\n",
      "361:\tlearn: 1749.9836377\ttotal: 7.47s\tremaining: 13.2s\n",
      "362:\tlearn: 1749.5368189\ttotal: 7.5s\tremaining: 13.2s\n",
      "363:\tlearn: 1749.1128242\ttotal: 7.52s\tremaining: 13.1s\n",
      "364:\tlearn: 1748.6503724\ttotal: 7.54s\tremaining: 13.1s\n",
      "365:\tlearn: 1748.2127707\ttotal: 7.57s\tremaining: 13.1s\n",
      "366:\tlearn: 1747.8587327\ttotal: 7.59s\tremaining: 13.1s\n",
      "367:\tlearn: 1747.3881680\ttotal: 7.61s\tremaining: 13.1s\n",
      "368:\tlearn: 1746.9939548\ttotal: 7.64s\tremaining: 13.1s\n",
      "369:\tlearn: 1746.4656141\ttotal: 7.66s\tremaining: 13s\n",
      "370:\tlearn: 1745.9153059\ttotal: 7.69s\tremaining: 13s\n",
      "371:\tlearn: 1745.3180235\ttotal: 7.71s\tremaining: 13s\n",
      "372:\tlearn: 1745.0147713\ttotal: 7.73s\tremaining: 13s\n",
      "373:\tlearn: 1744.5865183\ttotal: 7.75s\tremaining: 13s\n",
      "374:\tlearn: 1744.1979844\ttotal: 7.77s\tremaining: 13s\n",
      "375:\tlearn: 1743.6985721\ttotal: 7.79s\tremaining: 12.9s\n",
      "376:\tlearn: 1743.3359437\ttotal: 7.82s\tremaining: 12.9s\n",
      "377:\tlearn: 1742.8965739\ttotal: 7.83s\tremaining: 12.9s\n",
      "378:\tlearn: 1742.5605851\ttotal: 7.85s\tremaining: 12.9s\n",
      "379:\tlearn: 1742.3154923\ttotal: 7.87s\tremaining: 12.8s\n",
      "380:\tlearn: 1741.9984638\ttotal: 7.89s\tremaining: 12.8s\n",
      "381:\tlearn: 1741.3913060\ttotal: 7.91s\tremaining: 12.8s\n",
      "382:\tlearn: 1741.0407416\ttotal: 7.93s\tremaining: 12.8s\n",
      "383:\tlearn: 1740.6229068\ttotal: 7.95s\tremaining: 12.8s\n",
      "384:\tlearn: 1740.2397563\ttotal: 7.97s\tremaining: 12.7s\n",
      "385:\tlearn: 1739.7146658\ttotal: 7.99s\tremaining: 12.7s\n",
      "386:\tlearn: 1739.1655114\ttotal: 8.01s\tremaining: 12.7s\n",
      "387:\tlearn: 1738.7108287\ttotal: 8.03s\tremaining: 12.7s\n",
      "388:\tlearn: 1738.3744923\ttotal: 8.05s\tremaining: 12.6s\n",
      "389:\tlearn: 1738.0478232\ttotal: 8.07s\tremaining: 12.6s\n",
      "390:\tlearn: 1737.6486192\ttotal: 8.09s\tremaining: 12.6s\n",
      "391:\tlearn: 1737.3688532\ttotal: 8.11s\tremaining: 12.6s\n",
      "392:\tlearn: 1737.0756736\ttotal: 8.13s\tremaining: 12.6s\n",
      "393:\tlearn: 1736.4531285\ttotal: 8.15s\tremaining: 12.5s\n",
      "394:\tlearn: 1736.1802523\ttotal: 8.17s\tremaining: 12.5s\n",
      "395:\tlearn: 1735.8233356\ttotal: 8.19s\tremaining: 12.5s\n",
      "396:\tlearn: 1735.5708271\ttotal: 8.21s\tremaining: 12.5s\n",
      "397:\tlearn: 1735.2511061\ttotal: 8.23s\tremaining: 12.4s\n",
      "398:\tlearn: 1734.8599365\ttotal: 8.25s\tremaining: 12.4s\n",
      "399:\tlearn: 1734.4195259\ttotal: 8.28s\tremaining: 12.4s\n",
      "400:\tlearn: 1734.0183907\ttotal: 8.29s\tremaining: 12.4s\n",
      "401:\tlearn: 1733.6683833\ttotal: 8.31s\tremaining: 12.4s\n",
      "402:\tlearn: 1733.1584525\ttotal: 8.33s\tremaining: 12.3s\n",
      "403:\tlearn: 1732.7806876\ttotal: 8.35s\tremaining: 12.3s\n",
      "404:\tlearn: 1732.3638147\ttotal: 8.37s\tremaining: 12.3s\n",
      "405:\tlearn: 1732.0500306\ttotal: 8.39s\tremaining: 12.3s\n",
      "406:\tlearn: 1731.6103989\ttotal: 8.41s\tremaining: 12.3s\n",
      "407:\tlearn: 1731.1714525\ttotal: 8.43s\tremaining: 12.2s\n",
      "408:\tlearn: 1730.7033537\ttotal: 8.45s\tremaining: 12.2s\n",
      "409:\tlearn: 1730.3407210\ttotal: 8.47s\tremaining: 12.2s\n",
      "410:\tlearn: 1729.9507392\ttotal: 8.49s\tremaining: 12.2s\n",
      "411:\tlearn: 1729.5000769\ttotal: 8.51s\tremaining: 12.1s\n",
      "412:\tlearn: 1729.1910839\ttotal: 8.53s\tremaining: 12.1s\n",
      "413:\tlearn: 1728.8450420\ttotal: 8.55s\tremaining: 12.1s\n",
      "414:\tlearn: 1728.5233576\ttotal: 8.57s\tremaining: 12.1s\n",
      "415:\tlearn: 1728.0566057\ttotal: 8.59s\tremaining: 12.1s\n",
      "416:\tlearn: 1727.6277957\ttotal: 8.61s\tremaining: 12s\n",
      "417:\tlearn: 1727.2311872\ttotal: 8.63s\tremaining: 12s\n",
      "418:\tlearn: 1726.8524280\ttotal: 8.65s\tremaining: 12s\n",
      "419:\tlearn: 1726.5077609\ttotal: 8.67s\tremaining: 12s\n",
      "420:\tlearn: 1726.1885673\ttotal: 8.69s\tremaining: 12s\n",
      "421:\tlearn: 1725.8129257\ttotal: 8.71s\tremaining: 11.9s\n",
      "422:\tlearn: 1725.3356887\ttotal: 8.73s\tremaining: 11.9s\n",
      "423:\tlearn: 1725.0573921\ttotal: 8.75s\tremaining: 11.9s\n",
      "424:\tlearn: 1724.6617983\ttotal: 8.78s\tremaining: 11.9s\n",
      "425:\tlearn: 1724.2713153\ttotal: 8.79s\tremaining: 11.9s\n",
      "426:\tlearn: 1723.9053793\ttotal: 8.81s\tremaining: 11.8s\n",
      "427:\tlearn: 1723.4377448\ttotal: 8.84s\tremaining: 11.8s\n",
      "428:\tlearn: 1723.1284159\ttotal: 8.86s\tremaining: 11.8s\n",
      "429:\tlearn: 1722.7313074\ttotal: 8.88s\tremaining: 11.8s\n",
      "430:\tlearn: 1722.3569268\ttotal: 8.9s\tremaining: 11.7s\n",
      "431:\tlearn: 1722.0140895\ttotal: 8.92s\tremaining: 11.7s\n",
      "432:\tlearn: 1721.6971718\ttotal: 8.94s\tremaining: 11.7s\n",
      "433:\tlearn: 1721.4061987\ttotal: 8.96s\tremaining: 11.7s\n",
      "434:\tlearn: 1721.0913940\ttotal: 8.98s\tremaining: 11.7s\n",
      "435:\tlearn: 1720.7013096\ttotal: 9s\tremaining: 11.6s\n",
      "436:\tlearn: 1720.4481647\ttotal: 9.03s\tremaining: 11.6s\n",
      "437:\tlearn: 1720.0931167\ttotal: 9.05s\tremaining: 11.6s\n",
      "438:\tlearn: 1719.7407021\ttotal: 9.07s\tremaining: 11.6s\n",
      "439:\tlearn: 1719.3578460\ttotal: 9.09s\tremaining: 11.6s\n",
      "440:\tlearn: 1719.0447607\ttotal: 9.11s\tremaining: 11.5s\n",
      "441:\tlearn: 1718.7994743\ttotal: 9.13s\tremaining: 11.5s\n",
      "442:\tlearn: 1718.4454158\ttotal: 9.14s\tremaining: 11.5s\n",
      "443:\tlearn: 1718.1004547\ttotal: 9.17s\tremaining: 11.5s\n",
      "444:\tlearn: 1717.6880981\ttotal: 9.19s\tremaining: 11.5s\n",
      "445:\tlearn: 1717.4451936\ttotal: 9.21s\tremaining: 11.4s\n",
      "446:\tlearn: 1717.0929797\ttotal: 9.23s\tremaining: 11.4s\n",
      "447:\tlearn: 1716.8038045\ttotal: 9.24s\tremaining: 11.4s\n",
      "448:\tlearn: 1716.5201945\ttotal: 9.27s\tremaining: 11.4s\n",
      "449:\tlearn: 1716.1070554\ttotal: 9.28s\tremaining: 11.3s\n",
      "450:\tlearn: 1715.6871786\ttotal: 9.3s\tremaining: 11.3s\n",
      "451:\tlearn: 1715.3855129\ttotal: 9.32s\tremaining: 11.3s\n",
      "452:\tlearn: 1715.0905029\ttotal: 9.35s\tremaining: 11.3s\n",
      "453:\tlearn: 1714.6987046\ttotal: 9.37s\tremaining: 11.3s\n",
      "454:\tlearn: 1714.3811699\ttotal: 9.39s\tremaining: 11.2s\n",
      "455:\tlearn: 1714.0748970\ttotal: 9.41s\tremaining: 11.2s\n",
      "456:\tlearn: 1713.6958089\ttotal: 9.43s\tremaining: 11.2s\n",
      "457:\tlearn: 1713.4645577\ttotal: 9.45s\tremaining: 11.2s\n",
      "458:\tlearn: 1713.2105690\ttotal: 9.47s\tremaining: 11.2s\n",
      "459:\tlearn: 1712.9978571\ttotal: 9.49s\tremaining: 11.1s\n",
      "460:\tlearn: 1712.8097581\ttotal: 9.51s\tremaining: 11.1s\n",
      "461:\tlearn: 1712.5630978\ttotal: 9.53s\tremaining: 11.1s\n",
      "462:\tlearn: 1712.2769479\ttotal: 9.55s\tremaining: 11.1s\n",
      "463:\tlearn: 1711.9236163\ttotal: 9.57s\tremaining: 11.1s\n",
      "464:\tlearn: 1711.5362118\ttotal: 9.59s\tremaining: 11s\n",
      "465:\tlearn: 1711.2834240\ttotal: 9.61s\tremaining: 11s\n",
      "466:\tlearn: 1711.0550753\ttotal: 9.63s\tremaining: 11s\n",
      "467:\tlearn: 1710.7185069\ttotal: 9.65s\tremaining: 11s\n",
      "468:\tlearn: 1710.4955516\ttotal: 9.67s\tremaining: 10.9s\n",
      "469:\tlearn: 1710.1807132\ttotal: 9.69s\tremaining: 10.9s\n",
      "470:\tlearn: 1709.9648218\ttotal: 9.71s\tremaining: 10.9s\n",
      "471:\tlearn: 1709.7042899\ttotal: 9.73s\tremaining: 10.9s\n",
      "472:\tlearn: 1709.4320387\ttotal: 9.76s\tremaining: 10.9s\n",
      "473:\tlearn: 1709.1548426\ttotal: 9.78s\tremaining: 10.8s\n",
      "474:\tlearn: 1708.8428780\ttotal: 9.8s\tremaining: 10.8s\n",
      "475:\tlearn: 1708.5221781\ttotal: 9.83s\tremaining: 10.8s\n",
      "476:\tlearn: 1708.0917724\ttotal: 9.85s\tremaining: 10.8s\n",
      "477:\tlearn: 1707.7157515\ttotal: 9.87s\tremaining: 10.8s\n",
      "478:\tlearn: 1707.4739663\ttotal: 9.89s\tremaining: 10.8s\n",
      "479:\tlearn: 1707.1375715\ttotal: 9.91s\tremaining: 10.7s\n",
      "480:\tlearn: 1706.9097481\ttotal: 9.93s\tremaining: 10.7s\n",
      "481:\tlearn: 1706.6114211\ttotal: 9.95s\tremaining: 10.7s\n",
      "482:\tlearn: 1706.2500301\ttotal: 9.97s\tremaining: 10.7s\n",
      "483:\tlearn: 1705.8154723\ttotal: 9.99s\tremaining: 10.6s\n",
      "484:\tlearn: 1705.5563502\ttotal: 10s\tremaining: 10.6s\n",
      "485:\tlearn: 1705.2213798\ttotal: 10s\tremaining: 10.6s\n",
      "486:\tlearn: 1704.9542702\ttotal: 10s\tremaining: 10.6s\n",
      "487:\tlearn: 1704.6433470\ttotal: 10.1s\tremaining: 10.6s\n",
      "488:\tlearn: 1704.3015289\ttotal: 10.1s\tremaining: 10.5s\n",
      "489:\tlearn: 1704.0745844\ttotal: 10.1s\tremaining: 10.5s\n",
      "490:\tlearn: 1703.7427804\ttotal: 10.1s\tremaining: 10.5s\n",
      "491:\tlearn: 1703.4794082\ttotal: 10.1s\tremaining: 10.5s\n",
      "492:\tlearn: 1703.1821343\ttotal: 10.2s\tremaining: 10.5s\n",
      "493:\tlearn: 1702.8565532\ttotal: 10.2s\tremaining: 10.4s\n",
      "494:\tlearn: 1702.5972402\ttotal: 10.2s\tremaining: 10.4s\n",
      "495:\tlearn: 1702.3263990\ttotal: 10.2s\tremaining: 10.4s\n",
      "496:\tlearn: 1702.1113974\ttotal: 10.2s\tremaining: 10.4s\n",
      "497:\tlearn: 1701.8510114\ttotal: 10.3s\tremaining: 10.3s\n",
      "498:\tlearn: 1701.6308024\ttotal: 10.3s\tremaining: 10.3s\n",
      "499:\tlearn: 1701.2508350\ttotal: 10.3s\tremaining: 10.3s\n",
      "500:\tlearn: 1701.0414926\ttotal: 10.3s\tremaining: 10.3s\n",
      "501:\tlearn: 1700.7758460\ttotal: 10.3s\tremaining: 10.3s\n",
      "502:\tlearn: 1700.4876553\ttotal: 10.4s\tremaining: 10.2s\n",
      "503:\tlearn: 1700.1676285\ttotal: 10.4s\tremaining: 10.2s\n",
      "504:\tlearn: 1699.8975565\ttotal: 10.4s\tremaining: 10.2s\n",
      "505:\tlearn: 1699.6825633\ttotal: 10.4s\tremaining: 10.2s\n",
      "506:\tlearn: 1699.4908418\ttotal: 10.4s\tremaining: 10.2s\n",
      "507:\tlearn: 1699.2208134\ttotal: 10.5s\tremaining: 10.1s\n",
      "508:\tlearn: 1698.9117948\ttotal: 10.5s\tremaining: 10.1s\n",
      "509:\tlearn: 1698.7301783\ttotal: 10.5s\tremaining: 10.1s\n",
      "510:\tlearn: 1698.4239099\ttotal: 10.5s\tremaining: 10.1s\n",
      "511:\tlearn: 1698.1521920\ttotal: 10.6s\tremaining: 10.1s\n",
      "512:\tlearn: 1697.9078958\ttotal: 10.6s\tremaining: 10s\n",
      "513:\tlearn: 1697.6394059\ttotal: 10.6s\tremaining: 10s\n",
      "514:\tlearn: 1697.3029548\ttotal: 10.6s\tremaining: 10s\n",
      "515:\tlearn: 1696.9859263\ttotal: 10.6s\tremaining: 9.98s\n",
      "516:\tlearn: 1696.7756143\ttotal: 10.7s\tremaining: 9.96s\n",
      "517:\tlearn: 1696.4951778\ttotal: 10.7s\tremaining: 9.94s\n",
      "518:\tlearn: 1696.1622488\ttotal: 10.7s\tremaining: 9.92s\n",
      "519:\tlearn: 1695.8760618\ttotal: 10.7s\tremaining: 9.89s\n",
      "520:\tlearn: 1695.5542641\ttotal: 10.7s\tremaining: 9.87s\n",
      "521:\tlearn: 1695.3027661\ttotal: 10.8s\tremaining: 9.85s\n",
      "522:\tlearn: 1695.1102900\ttotal: 10.8s\tremaining: 9.83s\n",
      "523:\tlearn: 1694.8279080\ttotal: 10.8s\tremaining: 9.81s\n",
      "524:\tlearn: 1694.5890844\ttotal: 10.8s\tremaining: 9.79s\n",
      "525:\tlearn: 1694.2092642\ttotal: 10.8s\tremaining: 9.77s\n",
      "526:\tlearn: 1693.8667621\ttotal: 10.9s\tremaining: 9.75s\n",
      "527:\tlearn: 1693.5546638\ttotal: 10.9s\tremaining: 9.73s\n",
      "528:\tlearn: 1693.3719834\ttotal: 10.9s\tremaining: 9.71s\n",
      "529:\tlearn: 1693.0380880\ttotal: 10.9s\tremaining: 9.69s\n",
      "530:\tlearn: 1692.8082956\ttotal: 10.9s\tremaining: 9.67s\n",
      "531:\tlearn: 1692.6258217\ttotal: 11s\tremaining: 9.65s\n",
      "532:\tlearn: 1692.3723948\ttotal: 11s\tremaining: 9.63s\n",
      "533:\tlearn: 1692.1311540\ttotal: 11s\tremaining: 9.61s\n",
      "534:\tlearn: 1691.8949862\ttotal: 11s\tremaining: 9.59s\n",
      "535:\tlearn: 1691.6506120\ttotal: 11.1s\tremaining: 9.57s\n",
      "536:\tlearn: 1691.4371785\ttotal: 11.1s\tremaining: 9.54s\n",
      "537:\tlearn: 1691.1858846\ttotal: 11.1s\tremaining: 9.52s\n",
      "538:\tlearn: 1690.8785694\ttotal: 11.1s\tremaining: 9.5s\n",
      "539:\tlearn: 1690.6091802\ttotal: 11.1s\tremaining: 9.48s\n",
      "540:\tlearn: 1690.2950882\ttotal: 11.1s\tremaining: 9.46s\n",
      "541:\tlearn: 1690.0820534\ttotal: 11.2s\tremaining: 9.44s\n",
      "542:\tlearn: 1689.7891287\ttotal: 11.2s\tremaining: 9.41s\n",
      "543:\tlearn: 1689.5220334\ttotal: 11.2s\tremaining: 9.39s\n",
      "544:\tlearn: 1689.3135844\ttotal: 11.2s\tremaining: 9.37s\n",
      "545:\tlearn: 1689.0134622\ttotal: 11.2s\tremaining: 9.35s\n",
      "546:\tlearn: 1688.7693228\ttotal: 11.3s\tremaining: 9.33s\n",
      "547:\tlearn: 1688.4572178\ttotal: 11.3s\tremaining: 9.31s\n",
      "548:\tlearn: 1688.2234520\ttotal: 11.3s\tremaining: 9.29s\n",
      "549:\tlearn: 1687.9234865\ttotal: 11.3s\tremaining: 9.27s\n",
      "550:\tlearn: 1687.6702112\ttotal: 11.3s\tremaining: 9.25s\n",
      "551:\tlearn: 1687.4551588\ttotal: 11.4s\tremaining: 9.23s\n",
      "552:\tlearn: 1687.2710807\ttotal: 11.4s\tremaining: 9.21s\n",
      "553:\tlearn: 1686.9647673\ttotal: 11.4s\tremaining: 9.18s\n",
      "554:\tlearn: 1686.7099286\ttotal: 11.4s\tremaining: 9.16s\n",
      "555:\tlearn: 1686.4854227\ttotal: 11.5s\tremaining: 9.14s\n",
      "556:\tlearn: 1686.3097580\ttotal: 11.5s\tremaining: 9.12s\n",
      "557:\tlearn: 1685.9671251\ttotal: 11.5s\tremaining: 9.1s\n",
      "558:\tlearn: 1685.7217249\ttotal: 11.5s\tremaining: 9.09s\n",
      "559:\tlearn: 1685.4246249\ttotal: 11.5s\tremaining: 9.06s\n",
      "560:\tlearn: 1685.2490822\ttotal: 11.6s\tremaining: 9.04s\n",
      "561:\tlearn: 1685.0342445\ttotal: 11.6s\tremaining: 9.03s\n",
      "562:\tlearn: 1684.7304679\ttotal: 11.6s\tremaining: 9.01s\n",
      "563:\tlearn: 1684.3771429\ttotal: 11.6s\tremaining: 8.98s\n",
      "564:\tlearn: 1684.1521811\ttotal: 11.6s\tremaining: 8.96s\n",
      "565:\tlearn: 1683.8922851\ttotal: 11.7s\tremaining: 8.94s\n",
      "566:\tlearn: 1683.6390422\ttotal: 11.7s\tremaining: 8.92s\n",
      "567:\tlearn: 1683.4272384\ttotal: 11.7s\tremaining: 8.9s\n",
      "568:\tlearn: 1683.1190737\ttotal: 11.7s\tremaining: 8.88s\n",
      "569:\tlearn: 1682.8706243\ttotal: 11.7s\tremaining: 8.86s\n",
      "570:\tlearn: 1682.6804794\ttotal: 11.8s\tremaining: 8.83s\n",
      "571:\tlearn: 1682.4105956\ttotal: 11.8s\tremaining: 8.81s\n",
      "572:\tlearn: 1682.1307552\ttotal: 11.8s\tremaining: 8.79s\n",
      "573:\tlearn: 1681.9738584\ttotal: 11.8s\tremaining: 8.77s\n",
      "574:\tlearn: 1681.7623950\ttotal: 11.8s\tremaining: 8.75s\n",
      "575:\tlearn: 1681.5744374\ttotal: 11.9s\tremaining: 8.73s\n",
      "576:\tlearn: 1681.3515850\ttotal: 11.9s\tremaining: 8.71s\n",
      "577:\tlearn: 1681.1659265\ttotal: 11.9s\tremaining: 8.69s\n",
      "578:\tlearn: 1680.8349278\ttotal: 11.9s\tremaining: 8.66s\n",
      "579:\tlearn: 1680.6275830\ttotal: 11.9s\tremaining: 8.64s\n",
      "580:\tlearn: 1680.3904354\ttotal: 12s\tremaining: 8.62s\n",
      "581:\tlearn: 1680.0973874\ttotal: 12s\tremaining: 8.6s\n",
      "582:\tlearn: 1679.8372599\ttotal: 12s\tremaining: 8.58s\n",
      "583:\tlearn: 1679.6205395\ttotal: 12s\tremaining: 8.56s\n",
      "584:\tlearn: 1679.4150406\ttotal: 12s\tremaining: 8.54s\n",
      "585:\tlearn: 1679.2001725\ttotal: 12.1s\tremaining: 8.52s\n",
      "586:\tlearn: 1679.0093968\ttotal: 12.1s\tremaining: 8.5s\n",
      "587:\tlearn: 1678.7731818\ttotal: 12.1s\tremaining: 8.48s\n",
      "588:\tlearn: 1678.6041251\ttotal: 12.1s\tremaining: 8.46s\n",
      "589:\tlearn: 1678.4417377\ttotal: 12.1s\tremaining: 8.44s\n",
      "590:\tlearn: 1678.0055241\ttotal: 12.2s\tremaining: 8.42s\n",
      "591:\tlearn: 1677.7063676\ttotal: 12.2s\tremaining: 8.4s\n",
      "592:\tlearn: 1677.5121558\ttotal: 12.2s\tremaining: 8.38s\n",
      "593:\tlearn: 1677.2269374\ttotal: 12.2s\tremaining: 8.35s\n",
      "594:\tlearn: 1677.0527845\ttotal: 12.2s\tremaining: 8.33s\n",
      "595:\tlearn: 1676.8319836\ttotal: 12.3s\tremaining: 8.31s\n",
      "596:\tlearn: 1676.6038453\ttotal: 12.3s\tremaining: 8.29s\n",
      "597:\tlearn: 1676.3714782\ttotal: 12.3s\tremaining: 8.27s\n",
      "598:\tlearn: 1676.1459963\ttotal: 12.3s\tremaining: 8.25s\n",
      "599:\tlearn: 1675.9673355\ttotal: 12.3s\tremaining: 8.23s\n",
      "600:\tlearn: 1675.7804668\ttotal: 12.4s\tremaining: 8.2s\n",
      "601:\tlearn: 1675.4632462\ttotal: 12.4s\tremaining: 8.18s\n",
      "602:\tlearn: 1675.2375860\ttotal: 12.4s\tremaining: 8.16s\n",
      "603:\tlearn: 1674.9136661\ttotal: 12.4s\tremaining: 8.15s\n",
      "604:\tlearn: 1674.6705186\ttotal: 12.4s\tremaining: 8.13s\n",
      "605:\tlearn: 1674.4482109\ttotal: 12.5s\tremaining: 8.11s\n",
      "606:\tlearn: 1674.2419150\ttotal: 12.5s\tremaining: 8.08s\n",
      "607:\tlearn: 1674.0472275\ttotal: 12.5s\tremaining: 8.06s\n",
      "608:\tlearn: 1673.8953216\ttotal: 12.5s\tremaining: 8.04s\n",
      "609:\tlearn: 1673.6946355\ttotal: 12.5s\tremaining: 8.02s\n",
      "610:\tlearn: 1673.4929576\ttotal: 12.6s\tremaining: 8s\n",
      "611:\tlearn: 1673.3109043\ttotal: 12.6s\tremaining: 7.98s\n",
      "612:\tlearn: 1673.1162807\ttotal: 12.6s\tremaining: 7.96s\n",
      "613:\tlearn: 1672.8883806\ttotal: 12.6s\tremaining: 7.94s\n",
      "614:\tlearn: 1672.7309456\ttotal: 12.7s\tremaining: 7.92s\n",
      "615:\tlearn: 1672.5700129\ttotal: 12.7s\tremaining: 7.9s\n",
      "616:\tlearn: 1672.3178421\ttotal: 12.7s\tremaining: 7.88s\n",
      "617:\tlearn: 1672.1432473\ttotal: 12.7s\tremaining: 7.86s\n",
      "618:\tlearn: 1671.9494018\ttotal: 12.7s\tremaining: 7.84s\n",
      "619:\tlearn: 1671.7587010\ttotal: 12.8s\tremaining: 7.82s\n",
      "620:\tlearn: 1671.4792924\ttotal: 12.8s\tremaining: 7.8s\n",
      "621:\tlearn: 1671.2889790\ttotal: 12.8s\tremaining: 7.78s\n",
      "622:\tlearn: 1671.0963275\ttotal: 12.8s\tremaining: 7.75s\n",
      "623:\tlearn: 1670.8005134\ttotal: 12.8s\tremaining: 7.73s\n",
      "624:\tlearn: 1670.6205776\ttotal: 12.9s\tremaining: 7.71s\n",
      "625:\tlearn: 1670.4204918\ttotal: 12.9s\tremaining: 7.69s\n",
      "626:\tlearn: 1670.2327223\ttotal: 12.9s\tremaining: 7.67s\n",
      "627:\tlearn: 1670.0517184\ttotal: 12.9s\tremaining: 7.65s\n",
      "628:\tlearn: 1669.8701946\ttotal: 12.9s\tremaining: 7.63s\n",
      "629:\tlearn: 1669.6867994\ttotal: 12.9s\tremaining: 7.61s\n",
      "630:\tlearn: 1669.5530939\ttotal: 13s\tremaining: 7.58s\n",
      "631:\tlearn: 1669.4047537\ttotal: 13s\tremaining: 7.56s\n",
      "632:\tlearn: 1669.2660324\ttotal: 13s\tremaining: 7.54s\n",
      "633:\tlearn: 1669.1048869\ttotal: 13s\tremaining: 7.52s\n",
      "634:\tlearn: 1668.9423073\ttotal: 13s\tremaining: 7.5s\n",
      "635:\tlearn: 1668.7573633\ttotal: 13.1s\tremaining: 7.48s\n",
      "636:\tlearn: 1668.5334111\ttotal: 13.1s\tremaining: 7.46s\n",
      "637:\tlearn: 1668.3967627\ttotal: 13.1s\tremaining: 7.44s\n",
      "638:\tlearn: 1668.1165171\ttotal: 13.1s\tremaining: 7.42s\n",
      "639:\tlearn: 1667.9832779\ttotal: 13.1s\tremaining: 7.39s\n",
      "640:\tlearn: 1667.6933499\ttotal: 13.2s\tremaining: 7.37s\n",
      "641:\tlearn: 1667.4457215\ttotal: 13.2s\tremaining: 7.35s\n",
      "642:\tlearn: 1667.2744022\ttotal: 13.2s\tremaining: 7.33s\n",
      "643:\tlearn: 1667.0658686\ttotal: 13.2s\tremaining: 7.31s\n",
      "644:\tlearn: 1666.8619074\ttotal: 13.2s\tremaining: 7.29s\n",
      "645:\tlearn: 1666.6855812\ttotal: 13.3s\tremaining: 7.27s\n",
      "646:\tlearn: 1666.5082561\ttotal: 13.3s\tremaining: 7.24s\n",
      "647:\tlearn: 1666.2929229\ttotal: 13.3s\tremaining: 7.22s\n",
      "648:\tlearn: 1666.0819684\ttotal: 13.3s\tremaining: 7.2s\n",
      "649:\tlearn: 1665.9457492\ttotal: 13.3s\tremaining: 7.18s\n",
      "650:\tlearn: 1665.7165515\ttotal: 13.4s\tremaining: 7.16s\n",
      "651:\tlearn: 1665.5275340\ttotal: 13.4s\tremaining: 7.14s\n",
      "652:\tlearn: 1665.3636053\ttotal: 13.4s\tremaining: 7.12s\n",
      "653:\tlearn: 1665.1102502\ttotal: 13.4s\tremaining: 7.1s\n",
      "654:\tlearn: 1664.8546004\ttotal: 13.4s\tremaining: 7.08s\n",
      "655:\tlearn: 1664.5700692\ttotal: 13.5s\tremaining: 7.06s\n",
      "656:\tlearn: 1664.4357244\ttotal: 13.5s\tremaining: 7.04s\n",
      "657:\tlearn: 1664.2694768\ttotal: 13.5s\tremaining: 7.01s\n",
      "658:\tlearn: 1664.0431776\ttotal: 13.5s\tremaining: 6.99s\n",
      "659:\tlearn: 1663.8674530\ttotal: 13.5s\tremaining: 6.97s\n",
      "660:\tlearn: 1663.6972609\ttotal: 13.6s\tremaining: 6.95s\n",
      "661:\tlearn: 1663.5486606\ttotal: 13.6s\tremaining: 6.93s\n",
      "662:\tlearn: 1663.4043964\ttotal: 13.6s\tremaining: 6.91s\n",
      "663:\tlearn: 1663.1639237\ttotal: 13.6s\tremaining: 6.89s\n",
      "664:\tlearn: 1662.9623619\ttotal: 13.6s\tremaining: 6.87s\n",
      "665:\tlearn: 1662.7931155\ttotal: 13.7s\tremaining: 6.85s\n",
      "666:\tlearn: 1662.6266982\ttotal: 13.7s\tremaining: 6.82s\n",
      "667:\tlearn: 1662.4454593\ttotal: 13.7s\tremaining: 6.8s\n",
      "668:\tlearn: 1662.2246504\ttotal: 13.7s\tremaining: 6.78s\n",
      "669:\tlearn: 1662.0728990\ttotal: 13.7s\tremaining: 6.76s\n",
      "670:\tlearn: 1661.8766207\ttotal: 13.7s\tremaining: 6.74s\n",
      "671:\tlearn: 1661.7689066\ttotal: 13.8s\tremaining: 6.72s\n",
      "672:\tlearn: 1661.6430801\ttotal: 13.8s\tremaining: 6.7s\n",
      "673:\tlearn: 1661.4579927\ttotal: 13.8s\tremaining: 6.68s\n",
      "674:\tlearn: 1661.2915700\ttotal: 13.8s\tremaining: 6.66s\n",
      "675:\tlearn: 1661.0541530\ttotal: 13.8s\tremaining: 6.63s\n",
      "676:\tlearn: 1660.9313584\ttotal: 13.9s\tremaining: 6.61s\n",
      "677:\tlearn: 1660.7396219\ttotal: 13.9s\tremaining: 6.59s\n",
      "678:\tlearn: 1660.5621408\ttotal: 13.9s\tremaining: 6.57s\n",
      "679:\tlearn: 1660.3224569\ttotal: 13.9s\tremaining: 6.55s\n",
      "680:\tlearn: 1660.1919695\ttotal: 13.9s\tremaining: 6.53s\n",
      "681:\tlearn: 1660.0071890\ttotal: 14s\tremaining: 6.51s\n",
      "682:\tlearn: 1659.8506636\ttotal: 14s\tremaining: 6.49s\n",
      "683:\tlearn: 1659.7224641\ttotal: 14s\tremaining: 6.47s\n",
      "684:\tlearn: 1659.5337535\ttotal: 14s\tremaining: 6.45s\n",
      "685:\tlearn: 1659.3506051\ttotal: 14s\tremaining: 6.42s\n",
      "686:\tlearn: 1659.2157347\ttotal: 14.1s\tremaining: 6.4s\n",
      "687:\tlearn: 1659.0509616\ttotal: 14.1s\tremaining: 6.38s\n",
      "688:\tlearn: 1658.8775272\ttotal: 14.1s\tremaining: 6.36s\n",
      "689:\tlearn: 1658.6857083\ttotal: 14.1s\tremaining: 6.34s\n",
      "690:\tlearn: 1658.4998722\ttotal: 14.1s\tremaining: 6.32s\n",
      "691:\tlearn: 1658.3395660\ttotal: 14.1s\tremaining: 6.3s\n",
      "692:\tlearn: 1658.0865284\ttotal: 14.2s\tremaining: 6.28s\n",
      "693:\tlearn: 1657.9387145\ttotal: 14.2s\tremaining: 6.25s\n",
      "694:\tlearn: 1657.8031427\ttotal: 14.2s\tremaining: 6.23s\n",
      "695:\tlearn: 1657.6734205\ttotal: 14.2s\tremaining: 6.21s\n",
      "696:\tlearn: 1657.4618191\ttotal: 14.2s\tremaining: 6.19s\n",
      "697:\tlearn: 1657.3073595\ttotal: 14.3s\tremaining: 6.17s\n",
      "698:\tlearn: 1657.1066925\ttotal: 14.3s\tremaining: 6.15s\n",
      "699:\tlearn: 1656.8902932\ttotal: 14.3s\tremaining: 6.13s\n",
      "700:\tlearn: 1656.6964654\ttotal: 14.3s\tremaining: 6.11s\n",
      "701:\tlearn: 1656.5198712\ttotal: 14.3s\tremaining: 6.09s\n",
      "702:\tlearn: 1656.3768438\ttotal: 14.4s\tremaining: 6.07s\n",
      "703:\tlearn: 1656.2071655\ttotal: 14.4s\tremaining: 6.05s\n",
      "704:\tlearn: 1656.0659783\ttotal: 14.4s\tremaining: 6.03s\n",
      "705:\tlearn: 1655.9132242\ttotal: 14.4s\tremaining: 6.01s\n",
      "706:\tlearn: 1655.8127335\ttotal: 14.4s\tremaining: 5.99s\n",
      "707:\tlearn: 1655.6504231\ttotal: 14.5s\tremaining: 5.96s\n",
      "708:\tlearn: 1655.5432813\ttotal: 14.5s\tremaining: 5.94s\n",
      "709:\tlearn: 1655.4120935\ttotal: 14.5s\tremaining: 5.92s\n",
      "710:\tlearn: 1655.1951472\ttotal: 14.5s\tremaining: 5.9s\n",
      "711:\tlearn: 1654.9727223\ttotal: 14.5s\tremaining: 5.88s\n",
      "712:\tlearn: 1654.8131416\ttotal: 14.6s\tremaining: 5.86s\n",
      "713:\tlearn: 1654.6640521\ttotal: 14.6s\tremaining: 5.84s\n",
      "714:\tlearn: 1654.5435161\ttotal: 14.6s\tremaining: 5.82s\n",
      "715:\tlearn: 1654.3681057\ttotal: 14.6s\tremaining: 5.8s\n",
      "716:\tlearn: 1654.1803279\ttotal: 14.6s\tremaining: 5.78s\n",
      "717:\tlearn: 1654.0057582\ttotal: 14.7s\tremaining: 5.76s\n",
      "718:\tlearn: 1653.8590067\ttotal: 14.7s\tremaining: 5.74s\n",
      "719:\tlearn: 1653.6167472\ttotal: 14.7s\tremaining: 5.72s\n",
      "720:\tlearn: 1653.4136143\ttotal: 14.7s\tremaining: 5.7s\n",
      "721:\tlearn: 1653.2366868\ttotal: 14.7s\tremaining: 5.68s\n",
      "722:\tlearn: 1653.1037974\ttotal: 14.8s\tremaining: 5.66s\n",
      "723:\tlearn: 1652.8842992\ttotal: 14.8s\tremaining: 5.64s\n",
      "724:\tlearn: 1652.7638574\ttotal: 14.8s\tremaining: 5.62s\n",
      "725:\tlearn: 1652.6088625\ttotal: 14.8s\tremaining: 5.6s\n",
      "726:\tlearn: 1652.4593128\ttotal: 14.8s\tremaining: 5.58s\n",
      "727:\tlearn: 1652.3056330\ttotal: 14.9s\tremaining: 5.55s\n",
      "728:\tlearn: 1652.1385192\ttotal: 14.9s\tremaining: 5.53s\n",
      "729:\tlearn: 1651.9326181\ttotal: 14.9s\tremaining: 5.51s\n",
      "730:\tlearn: 1651.7566112\ttotal: 14.9s\tremaining: 5.49s\n",
      "731:\tlearn: 1651.6465065\ttotal: 14.9s\tremaining: 5.47s\n",
      "732:\tlearn: 1651.5247761\ttotal: 15s\tremaining: 5.45s\n",
      "733:\tlearn: 1651.4267040\ttotal: 15s\tremaining: 5.43s\n",
      "734:\tlearn: 1651.2293068\ttotal: 15s\tremaining: 5.41s\n",
      "735:\tlearn: 1651.0092956\ttotal: 15s\tremaining: 5.39s\n",
      "736:\tlearn: 1650.8518047\ttotal: 15s\tremaining: 5.37s\n",
      "737:\tlearn: 1650.7194591\ttotal: 15.1s\tremaining: 5.35s\n",
      "738:\tlearn: 1650.5866449\ttotal: 15.1s\tremaining: 5.33s\n",
      "739:\tlearn: 1650.4792730\ttotal: 15.1s\tremaining: 5.31s\n",
      "740:\tlearn: 1650.3459437\ttotal: 15.1s\tremaining: 5.29s\n",
      "741:\tlearn: 1650.2156783\ttotal: 15.1s\tremaining: 5.26s\n",
      "742:\tlearn: 1650.0094494\ttotal: 15.2s\tremaining: 5.24s\n",
      "743:\tlearn: 1649.8500279\ttotal: 15.2s\tremaining: 5.22s\n",
      "744:\tlearn: 1649.7228677\ttotal: 15.2s\tremaining: 5.2s\n",
      "745:\tlearn: 1649.5389691\ttotal: 15.2s\tremaining: 5.18s\n",
      "746:\tlearn: 1649.3517598\ttotal: 15.2s\tremaining: 5.16s\n",
      "747:\tlearn: 1649.1095237\ttotal: 15.3s\tremaining: 5.14s\n",
      "748:\tlearn: 1648.9963613\ttotal: 15.3s\tremaining: 5.12s\n",
      "749:\tlearn: 1648.8475652\ttotal: 15.3s\tremaining: 5.1s\n",
      "750:\tlearn: 1648.6496017\ttotal: 15.3s\tremaining: 5.08s\n",
      "751:\tlearn: 1648.4984799\ttotal: 15.3s\tremaining: 5.06s\n",
      "752:\tlearn: 1648.3054496\ttotal: 15.4s\tremaining: 5.04s\n",
      "753:\tlearn: 1648.1783875\ttotal: 15.4s\tremaining: 5.02s\n",
      "754:\tlearn: 1648.0287041\ttotal: 15.4s\tremaining: 5s\n",
      "755:\tlearn: 1647.8903819\ttotal: 15.4s\tremaining: 4.98s\n",
      "756:\tlearn: 1647.6866302\ttotal: 15.4s\tremaining: 4.96s\n",
      "757:\tlearn: 1647.5252304\ttotal: 15.5s\tremaining: 4.94s\n",
      "758:\tlearn: 1647.2946739\ttotal: 15.5s\tremaining: 4.92s\n",
      "759:\tlearn: 1647.1163403\ttotal: 15.5s\tremaining: 4.9s\n",
      "760:\tlearn: 1646.9172318\ttotal: 15.5s\tremaining: 4.88s\n",
      "761:\tlearn: 1646.6971641\ttotal: 15.6s\tremaining: 4.86s\n",
      "762:\tlearn: 1646.4980687\ttotal: 15.6s\tremaining: 4.84s\n",
      "763:\tlearn: 1646.3689915\ttotal: 15.6s\tremaining: 4.82s\n",
      "764:\tlearn: 1646.2204698\ttotal: 15.6s\tremaining: 4.8s\n",
      "765:\tlearn: 1646.0849880\ttotal: 15.6s\tremaining: 4.78s\n",
      "766:\tlearn: 1645.8926264\ttotal: 15.7s\tremaining: 4.75s\n",
      "767:\tlearn: 1645.7081595\ttotal: 15.7s\tremaining: 4.74s\n",
      "768:\tlearn: 1645.5933042\ttotal: 15.7s\tremaining: 4.71s\n",
      "769:\tlearn: 1645.5091727\ttotal: 15.7s\tremaining: 4.69s\n",
      "770:\tlearn: 1645.3509423\ttotal: 15.7s\tremaining: 4.67s\n",
      "771:\tlearn: 1645.1386265\ttotal: 15.8s\tremaining: 4.65s\n",
      "772:\tlearn: 1644.9432840\ttotal: 15.8s\tremaining: 4.63s\n",
      "773:\tlearn: 1644.8280885\ttotal: 15.8s\tremaining: 4.61s\n",
      "774:\tlearn: 1644.5633774\ttotal: 15.8s\tremaining: 4.59s\n",
      "775:\tlearn: 1644.3840722\ttotal: 15.8s\tremaining: 4.57s\n",
      "776:\tlearn: 1644.2218247\ttotal: 15.9s\tremaining: 4.55s\n",
      "777:\tlearn: 1644.1231148\ttotal: 15.9s\tremaining: 4.53s\n",
      "778:\tlearn: 1643.9727235\ttotal: 15.9s\tremaining: 4.51s\n",
      "779:\tlearn: 1643.8657224\ttotal: 15.9s\tremaining: 4.49s\n",
      "780:\tlearn: 1643.7331800\ttotal: 15.9s\tremaining: 4.47s\n",
      "781:\tlearn: 1643.5443408\ttotal: 16s\tremaining: 4.45s\n",
      "782:\tlearn: 1643.4293911\ttotal: 16s\tremaining: 4.43s\n",
      "783:\tlearn: 1643.3129477\ttotal: 16s\tremaining: 4.41s\n",
      "784:\tlearn: 1643.2079546\ttotal: 16s\tremaining: 4.39s\n",
      "785:\tlearn: 1643.0750685\ttotal: 16s\tremaining: 4.37s\n",
      "786:\tlearn: 1642.9057346\ttotal: 16.1s\tremaining: 4.35s\n",
      "787:\tlearn: 1642.7134829\ttotal: 16.1s\tremaining: 4.33s\n",
      "788:\tlearn: 1642.6114134\ttotal: 16.1s\tremaining: 4.3s\n",
      "789:\tlearn: 1642.4774792\ttotal: 16.1s\tremaining: 4.28s\n",
      "790:\tlearn: 1642.2640709\ttotal: 16.1s\tremaining: 4.26s\n",
      "791:\tlearn: 1642.1372351\ttotal: 16.2s\tremaining: 4.24s\n",
      "792:\tlearn: 1642.0079439\ttotal: 16.2s\tremaining: 4.22s\n",
      "793:\tlearn: 1641.8730347\ttotal: 16.2s\tremaining: 4.2s\n",
      "794:\tlearn: 1641.7348261\ttotal: 16.2s\tremaining: 4.18s\n",
      "795:\tlearn: 1641.6009714\ttotal: 16.2s\tremaining: 4.16s\n",
      "796:\tlearn: 1641.4267891\ttotal: 16.3s\tremaining: 4.14s\n",
      "797:\tlearn: 1641.3222670\ttotal: 16.3s\tremaining: 4.12s\n",
      "798:\tlearn: 1641.1945471\ttotal: 16.3s\tremaining: 4.1s\n",
      "799:\tlearn: 1641.0553095\ttotal: 16.3s\tremaining: 4.08s\n",
      "800:\tlearn: 1640.8935596\ttotal: 16.3s\tremaining: 4.06s\n",
      "801:\tlearn: 1640.6995771\ttotal: 16.3s\tremaining: 4.04s\n",
      "802:\tlearn: 1640.5550588\ttotal: 16.4s\tremaining: 4.01s\n",
      "803:\tlearn: 1640.3426026\ttotal: 16.4s\tremaining: 4s\n",
      "804:\tlearn: 1640.1807038\ttotal: 16.4s\tremaining: 3.97s\n",
      "805:\tlearn: 1640.0395930\ttotal: 16.4s\tremaining: 3.95s\n",
      "806:\tlearn: 1639.9115638\ttotal: 16.4s\tremaining: 3.93s\n",
      "807:\tlearn: 1639.7596627\ttotal: 16.5s\tremaining: 3.91s\n",
      "808:\tlearn: 1639.6531546\ttotal: 16.5s\tremaining: 3.89s\n",
      "809:\tlearn: 1639.4897150\ttotal: 16.5s\tremaining: 3.87s\n",
      "810:\tlearn: 1639.2739844\ttotal: 16.5s\tremaining: 3.85s\n",
      "811:\tlearn: 1639.1551792\ttotal: 16.5s\tremaining: 3.83s\n",
      "812:\tlearn: 1639.0242565\ttotal: 16.6s\tremaining: 3.81s\n",
      "813:\tlearn: 1638.8825687\ttotal: 16.6s\tremaining: 3.79s\n",
      "814:\tlearn: 1638.7406702\ttotal: 16.6s\tremaining: 3.77s\n",
      "815:\tlearn: 1638.5463398\ttotal: 16.6s\tremaining: 3.75s\n",
      "816:\tlearn: 1638.4062209\ttotal: 16.6s\tremaining: 3.73s\n",
      "817:\tlearn: 1638.2731728\ttotal: 16.7s\tremaining: 3.71s\n",
      "818:\tlearn: 1638.1739521\ttotal: 16.7s\tremaining: 3.69s\n",
      "819:\tlearn: 1638.0789517\ttotal: 16.7s\tremaining: 3.67s\n",
      "820:\tlearn: 1637.9364468\ttotal: 16.7s\tremaining: 3.65s\n",
      "821:\tlearn: 1637.7931092\ttotal: 16.7s\tremaining: 3.63s\n",
      "822:\tlearn: 1637.6355323\ttotal: 16.8s\tremaining: 3.61s\n",
      "823:\tlearn: 1637.5027310\ttotal: 16.8s\tremaining: 3.58s\n",
      "824:\tlearn: 1637.3886639\ttotal: 16.8s\tremaining: 3.56s\n",
      "825:\tlearn: 1637.2752103\ttotal: 16.8s\tremaining: 3.54s\n",
      "826:\tlearn: 1637.1496955\ttotal: 16.8s\tremaining: 3.52s\n",
      "827:\tlearn: 1637.0408216\ttotal: 16.9s\tremaining: 3.5s\n",
      "828:\tlearn: 1636.8909129\ttotal: 16.9s\tremaining: 3.48s\n",
      "829:\tlearn: 1636.7250908\ttotal: 16.9s\tremaining: 3.46s\n",
      "830:\tlearn: 1636.6057983\ttotal: 16.9s\tremaining: 3.44s\n",
      "831:\tlearn: 1636.4957620\ttotal: 16.9s\tremaining: 3.42s\n",
      "832:\tlearn: 1636.4044284\ttotal: 17s\tremaining: 3.4s\n",
      "833:\tlearn: 1636.3102875\ttotal: 17s\tremaining: 3.38s\n",
      "834:\tlearn: 1636.1748583\ttotal: 17s\tremaining: 3.36s\n",
      "835:\tlearn: 1636.0701297\ttotal: 17s\tremaining: 3.34s\n",
      "836:\tlearn: 1635.9246238\ttotal: 17s\tremaining: 3.32s\n",
      "837:\tlearn: 1635.7620693\ttotal: 17.1s\tremaining: 3.3s\n",
      "838:\tlearn: 1635.5907770\ttotal: 17.1s\tremaining: 3.28s\n",
      "839:\tlearn: 1635.4201695\ttotal: 17.1s\tremaining: 3.26s\n",
      "840:\tlearn: 1635.2326009\ttotal: 17.1s\tremaining: 3.24s\n",
      "841:\tlearn: 1635.1244129\ttotal: 17.1s\tremaining: 3.22s\n",
      "842:\tlearn: 1634.9351029\ttotal: 17.2s\tremaining: 3.2s\n",
      "843:\tlearn: 1634.8193923\ttotal: 17.2s\tremaining: 3.18s\n",
      "844:\tlearn: 1634.6614853\ttotal: 17.2s\tremaining: 3.16s\n",
      "845:\tlearn: 1634.4242929\ttotal: 17.2s\tremaining: 3.14s\n",
      "846:\tlearn: 1634.3038504\ttotal: 17.3s\tremaining: 3.12s\n",
      "847:\tlearn: 1634.1588417\ttotal: 17.3s\tremaining: 3.1s\n",
      "848:\tlearn: 1634.0619214\ttotal: 17.3s\tremaining: 3.08s\n",
      "849:\tlearn: 1633.8952029\ttotal: 17.3s\tremaining: 3.06s\n",
      "850:\tlearn: 1633.7625619\ttotal: 17.4s\tremaining: 3.04s\n",
      "851:\tlearn: 1633.6441549\ttotal: 17.4s\tremaining: 3.02s\n",
      "852:\tlearn: 1633.5151662\ttotal: 17.4s\tremaining: 3s\n",
      "853:\tlearn: 1633.3691265\ttotal: 17.4s\tremaining: 2.98s\n",
      "854:\tlearn: 1633.2359564\ttotal: 17.4s\tremaining: 2.96s\n",
      "855:\tlearn: 1633.0903959\ttotal: 17.5s\tremaining: 2.94s\n",
      "856:\tlearn: 1632.9775740\ttotal: 17.5s\tremaining: 2.92s\n",
      "857:\tlearn: 1632.8527131\ttotal: 17.5s\tremaining: 2.9s\n",
      "858:\tlearn: 1632.7029245\ttotal: 17.5s\tremaining: 2.87s\n",
      "859:\tlearn: 1632.5526116\ttotal: 17.5s\tremaining: 2.85s\n",
      "860:\tlearn: 1632.4586361\ttotal: 17.6s\tremaining: 2.83s\n",
      "861:\tlearn: 1632.3544059\ttotal: 17.6s\tremaining: 2.81s\n",
      "862:\tlearn: 1632.1931768\ttotal: 17.6s\tremaining: 2.79s\n",
      "863:\tlearn: 1631.9865663\ttotal: 17.6s\tremaining: 2.77s\n",
      "864:\tlearn: 1631.8195415\ttotal: 17.6s\tremaining: 2.75s\n",
      "865:\tlearn: 1631.7193342\ttotal: 17.6s\tremaining: 2.73s\n",
      "866:\tlearn: 1631.5985269\ttotal: 17.7s\tremaining: 2.71s\n",
      "867:\tlearn: 1631.4805502\ttotal: 17.7s\tremaining: 2.69s\n",
      "868:\tlearn: 1631.3426959\ttotal: 17.7s\tremaining: 2.67s\n",
      "869:\tlearn: 1631.2516935\ttotal: 17.7s\tremaining: 2.65s\n",
      "870:\tlearn: 1631.1702878\ttotal: 17.7s\tremaining: 2.63s\n",
      "871:\tlearn: 1631.0293584\ttotal: 17.8s\tremaining: 2.61s\n",
      "872:\tlearn: 1630.8104352\ttotal: 17.8s\tremaining: 2.59s\n",
      "873:\tlearn: 1630.6788267\ttotal: 17.8s\tremaining: 2.57s\n",
      "874:\tlearn: 1630.5875028\ttotal: 17.8s\tremaining: 2.55s\n",
      "875:\tlearn: 1630.4997459\ttotal: 17.8s\tremaining: 2.52s\n",
      "876:\tlearn: 1630.2936123\ttotal: 17.9s\tremaining: 2.5s\n",
      "877:\tlearn: 1630.1279534\ttotal: 17.9s\tremaining: 2.48s\n",
      "878:\tlearn: 1629.9939421\ttotal: 17.9s\tremaining: 2.46s\n",
      "879:\tlearn: 1629.8633522\ttotal: 17.9s\tremaining: 2.44s\n",
      "880:\tlearn: 1629.6777235\ttotal: 17.9s\tremaining: 2.42s\n",
      "881:\tlearn: 1629.5777584\ttotal: 18s\tremaining: 2.4s\n",
      "882:\tlearn: 1629.4270461\ttotal: 18s\tremaining: 2.38s\n",
      "883:\tlearn: 1629.3220709\ttotal: 18s\tremaining: 2.36s\n",
      "884:\tlearn: 1629.1926258\ttotal: 18s\tremaining: 2.34s\n",
      "885:\tlearn: 1629.0499274\ttotal: 18s\tremaining: 2.32s\n",
      "886:\tlearn: 1628.9028453\ttotal: 18.1s\tremaining: 2.3s\n",
      "887:\tlearn: 1628.8126707\ttotal: 18.1s\tremaining: 2.28s\n",
      "888:\tlearn: 1628.7192312\ttotal: 18.1s\tremaining: 2.26s\n",
      "889:\tlearn: 1628.5437038\ttotal: 18.1s\tremaining: 2.24s\n",
      "890:\tlearn: 1628.4346308\ttotal: 18.1s\tremaining: 2.22s\n",
      "891:\tlearn: 1628.2831903\ttotal: 18.2s\tremaining: 2.2s\n",
      "892:\tlearn: 1628.0643919\ttotal: 18.2s\tremaining: 2.18s\n",
      "893:\tlearn: 1627.9284638\ttotal: 18.2s\tremaining: 2.16s\n",
      "894:\tlearn: 1627.8048615\ttotal: 18.2s\tremaining: 2.14s\n",
      "895:\tlearn: 1627.6913742\ttotal: 18.2s\tremaining: 2.12s\n",
      "896:\tlearn: 1627.5123553\ttotal: 18.3s\tremaining: 2.1s\n",
      "897:\tlearn: 1627.4224352\ttotal: 18.3s\tremaining: 2.08s\n",
      "898:\tlearn: 1627.2854964\ttotal: 18.3s\tremaining: 2.06s\n",
      "899:\tlearn: 1627.1775302\ttotal: 18.3s\tremaining: 2.03s\n",
      "900:\tlearn: 1627.0547986\ttotal: 18.3s\tremaining: 2.01s\n",
      "901:\tlearn: 1626.9656953\ttotal: 18.4s\tremaining: 1.99s\n",
      "902:\tlearn: 1626.8437980\ttotal: 18.4s\tremaining: 1.97s\n",
      "903:\tlearn: 1626.7454007\ttotal: 18.4s\tremaining: 1.95s\n",
      "904:\tlearn: 1626.5931456\ttotal: 18.4s\tremaining: 1.93s\n",
      "905:\tlearn: 1626.4882170\ttotal: 18.4s\tremaining: 1.91s\n",
      "906:\tlearn: 1626.3797265\ttotal: 18.4s\tremaining: 1.89s\n",
      "907:\tlearn: 1626.2881772\ttotal: 18.5s\tremaining: 1.87s\n",
      "908:\tlearn: 1626.1872737\ttotal: 18.5s\tremaining: 1.85s\n",
      "909:\tlearn: 1626.0579109\ttotal: 18.5s\tremaining: 1.83s\n",
      "910:\tlearn: 1625.9207792\ttotal: 18.5s\tremaining: 1.81s\n",
      "911:\tlearn: 1625.7662043\ttotal: 18.6s\tremaining: 1.79s\n",
      "912:\tlearn: 1625.6754072\ttotal: 18.6s\tremaining: 1.77s\n",
      "913:\tlearn: 1625.5719722\ttotal: 18.6s\tremaining: 1.75s\n",
      "914:\tlearn: 1625.4650217\ttotal: 18.6s\tremaining: 1.73s\n",
      "915:\tlearn: 1625.2805484\ttotal: 18.6s\tremaining: 1.71s\n",
      "916:\tlearn: 1625.1070251\ttotal: 18.7s\tremaining: 1.69s\n",
      "917:\tlearn: 1624.9801997\ttotal: 18.7s\tremaining: 1.67s\n",
      "918:\tlearn: 1624.8218349\ttotal: 18.7s\tremaining: 1.65s\n",
      "919:\tlearn: 1624.6859250\ttotal: 18.7s\tremaining: 1.63s\n",
      "920:\tlearn: 1624.5723727\ttotal: 18.7s\tremaining: 1.61s\n",
      "921:\tlearn: 1624.3606922\ttotal: 18.8s\tremaining: 1.59s\n",
      "922:\tlearn: 1624.2508633\ttotal: 18.8s\tremaining: 1.57s\n",
      "923:\tlearn: 1624.1228247\ttotal: 18.8s\tremaining: 1.55s\n",
      "924:\tlearn: 1623.9664756\ttotal: 18.8s\tremaining: 1.53s\n",
      "925:\tlearn: 1623.7859967\ttotal: 18.9s\tremaining: 1.51s\n",
      "926:\tlearn: 1623.6584333\ttotal: 18.9s\tremaining: 1.49s\n",
      "927:\tlearn: 1623.5572554\ttotal: 18.9s\tremaining: 1.47s\n",
      "928:\tlearn: 1623.4190145\ttotal: 18.9s\tremaining: 1.45s\n",
      "929:\tlearn: 1623.2783392\ttotal: 18.9s\tremaining: 1.42s\n",
      "930:\tlearn: 1623.1490350\ttotal: 18.9s\tremaining: 1.4s\n",
      "931:\tlearn: 1623.0691873\ttotal: 19s\tremaining: 1.38s\n",
      "932:\tlearn: 1622.9106391\ttotal: 19s\tremaining: 1.36s\n",
      "933:\tlearn: 1622.8126352\ttotal: 19s\tremaining: 1.34s\n",
      "934:\tlearn: 1622.6686825\ttotal: 19s\tremaining: 1.32s\n",
      "935:\tlearn: 1622.5055497\ttotal: 19s\tremaining: 1.3s\n",
      "936:\tlearn: 1622.3560538\ttotal: 19.1s\tremaining: 1.28s\n",
      "937:\tlearn: 1622.2374367\ttotal: 19.1s\tremaining: 1.26s\n",
      "938:\tlearn: 1622.0783296\ttotal: 19.1s\tremaining: 1.24s\n",
      "939:\tlearn: 1621.9138112\ttotal: 19.1s\tremaining: 1.22s\n",
      "940:\tlearn: 1621.8065485\ttotal: 19.1s\tremaining: 1.2s\n",
      "941:\tlearn: 1621.7039899\ttotal: 19.2s\tremaining: 1.18s\n",
      "942:\tlearn: 1621.5667825\ttotal: 19.2s\tremaining: 1.16s\n",
      "943:\tlearn: 1621.4723206\ttotal: 19.2s\tremaining: 1.14s\n",
      "944:\tlearn: 1621.3182659\ttotal: 19.2s\tremaining: 1.12s\n",
      "945:\tlearn: 1621.1492151\ttotal: 19.3s\tremaining: 1.1s\n",
      "946:\tlearn: 1620.9955231\ttotal: 19.3s\tremaining: 1.08s\n",
      "947:\tlearn: 1620.8962632\ttotal: 19.3s\tremaining: 1.06s\n",
      "948:\tlearn: 1620.7965576\ttotal: 19.3s\tremaining: 1.04s\n",
      "949:\tlearn: 1620.7151100\ttotal: 19.3s\tremaining: 1.02s\n",
      "950:\tlearn: 1620.5380137\ttotal: 19.4s\tremaining: 997ms\n",
      "951:\tlearn: 1620.4211473\ttotal: 19.4s\tremaining: 977ms\n",
      "952:\tlearn: 1620.3023296\ttotal: 19.4s\tremaining: 956ms\n",
      "953:\tlearn: 1620.1983935\ttotal: 19.4s\tremaining: 936ms\n",
      "954:\tlearn: 1620.0723567\ttotal: 19.4s\tremaining: 916ms\n",
      "955:\tlearn: 1619.9374935\ttotal: 19.5s\tremaining: 896ms\n",
      "956:\tlearn: 1619.8218746\ttotal: 19.5s\tremaining: 876ms\n",
      "957:\tlearn: 1619.6919295\ttotal: 19.5s\tremaining: 856ms\n",
      "958:\tlearn: 1619.6011981\ttotal: 19.5s\tremaining: 835ms\n",
      "959:\tlearn: 1619.5069255\ttotal: 19.6s\tremaining: 815ms\n",
      "960:\tlearn: 1619.4148900\ttotal: 19.6s\tremaining: 795ms\n",
      "961:\tlearn: 1619.3093420\ttotal: 19.6s\tremaining: 774ms\n",
      "962:\tlearn: 1619.1787633\ttotal: 19.6s\tremaining: 754ms\n",
      "963:\tlearn: 1619.0981567\ttotal: 19.6s\tremaining: 734ms\n",
      "964:\tlearn: 1618.9829661\ttotal: 19.7s\tremaining: 713ms\n",
      "965:\tlearn: 1618.8400497\ttotal: 19.7s\tremaining: 693ms\n",
      "966:\tlearn: 1618.7191637\ttotal: 19.7s\tremaining: 673ms\n",
      "967:\tlearn: 1618.6072779\ttotal: 19.7s\tremaining: 652ms\n",
      "968:\tlearn: 1618.5341124\ttotal: 19.8s\tremaining: 632ms\n",
      "969:\tlearn: 1618.4392283\ttotal: 19.8s\tremaining: 611ms\n",
      "970:\tlearn: 1618.3185608\ttotal: 19.8s\tremaining: 591ms\n",
      "971:\tlearn: 1618.1605465\ttotal: 19.8s\tremaining: 571ms\n",
      "972:\tlearn: 1618.0524078\ttotal: 19.8s\tremaining: 550ms\n",
      "973:\tlearn: 1617.9436142\ttotal: 19.9s\tremaining: 530ms\n",
      "974:\tlearn: 1617.8371665\ttotal: 19.9s\tremaining: 510ms\n",
      "975:\tlearn: 1617.7470489\ttotal: 19.9s\tremaining: 489ms\n",
      "976:\tlearn: 1617.5927329\ttotal: 19.9s\tremaining: 469ms\n",
      "977:\tlearn: 1617.4743059\ttotal: 19.9s\tremaining: 448ms\n",
      "978:\tlearn: 1617.3860506\ttotal: 20s\tremaining: 428ms\n",
      "979:\tlearn: 1617.2777368\ttotal: 20s\tremaining: 408ms\n",
      "980:\tlearn: 1617.1639553\ttotal: 20s\tremaining: 387ms\n",
      "981:\tlearn: 1616.9743717\ttotal: 20s\tremaining: 367ms\n",
      "982:\tlearn: 1616.8840035\ttotal: 20s\tremaining: 347ms\n",
      "983:\tlearn: 1616.7755330\ttotal: 20.1s\tremaining: 326ms\n",
      "984:\tlearn: 1616.6753710\ttotal: 20.1s\tremaining: 306ms\n",
      "985:\tlearn: 1616.5609989\ttotal: 20.1s\tremaining: 285ms\n",
      "986:\tlearn: 1616.4005877\ttotal: 20.1s\tremaining: 265ms\n",
      "987:\tlearn: 1616.2814215\ttotal: 20.1s\tremaining: 245ms\n",
      "988:\tlearn: 1616.1782425\ttotal: 20.2s\tremaining: 224ms\n",
      "989:\tlearn: 1616.1110812\ttotal: 20.2s\tremaining: 204ms\n",
      "990:\tlearn: 1615.9914905\ttotal: 20.2s\tremaining: 183ms\n",
      "991:\tlearn: 1615.8487142\ttotal: 20.2s\tremaining: 163ms\n",
      "992:\tlearn: 1615.7448248\ttotal: 20.2s\tremaining: 143ms\n",
      "993:\tlearn: 1615.6575285\ttotal: 20.3s\tremaining: 122ms\n",
      "994:\tlearn: 1615.4701394\ttotal: 20.3s\tremaining: 102ms\n",
      "995:\tlearn: 1615.3715420\ttotal: 20.3s\tremaining: 81.5ms\n",
      "996:\tlearn: 1615.2634917\ttotal: 20.3s\tremaining: 61.1ms\n",
      "997:\tlearn: 1615.1716084\ttotal: 20.3s\tremaining: 40.8ms\n",
      "998:\tlearn: 1615.0081354\ttotal: 20.4s\tremaining: 20.4ms\n",
      "999:\tlearn: 1614.9021532\ttotal: 20.4s\tremaining: 0us\n",
      "CPU times: user 20.6 s, sys: 369 ms, total: 21 s\n",
      "Wall time: 22 s\n"
     ]
    }
   ],
   "source": [
    "%%time\n",
    "cb_tuned = CatBoostRegressor(**cb_model.best_params_).fit(features_train_scaled, target_train)"
   ]
  },
  {
   "cell_type": "code",
   "execution_count": 59,
   "metadata": {},
   "outputs": [
    {
     "name": "stdout",
     "output_type": "stream",
     "text": [
      "CPU times: user 68.4 ms, sys: 206 µs, total: 68.6 ms\n",
      "Wall time: 67.1 ms\n"
     ]
    }
   ],
   "source": [
    "%%time\n",
    "y_pred_cat = cb_tuned.predict(features_valid_scaled)"
   ]
  },
  {
   "cell_type": "code",
   "execution_count": 60,
   "metadata": {},
   "outputs": [
    {
     "name": "stdout",
     "output_type": "stream",
     "text": [
      "RMSE: 1658.06\n"
     ]
    }
   ],
   "source": [
    "cbr_rmse = np.sqrt(mse(target_valid, y_pred_cat))\n",
    "print(\"RMSE: %.2f\" % cbr_rmse) "
   ]
  },
  {
   "cell_type": "code",
   "execution_count": 94,
   "metadata": {},
   "outputs": [],
   "source": [
    "importances_cat = pd.DataFrame(data={\n",
    "    'Attribute': features_train_scaled.columns,\n",
    "    'Importance': cb_tuned.feature_importances_\n",
    "})\n",
    "importances_cat = importances_cat.sort_values(by='Importance', ascending=False)"
   ]
  },
  {
   "cell_type": "code",
   "execution_count": 95,
   "metadata": {},
   "outputs": [
    {
     "data": {
      "image/png": "[encoded data removed]",
      "text/plain": [
       "<Figure size 1440x576 with 1 Axes>"
      ]
     },
     "metadata": {
      "needs_background": "light"
     },
     "output_type": "display_data"
    }
   ],
   "source": [
    "plt.bar(x=importances_cat['Attribute'], height=importances_cat['Importance'], color='#087E8B')\n",
    "plt.title('Важность признаков', size=20)\n",
    "plt.xticks(rotation='vertical')\n",
    "plt.show()"
   ]
  },
  {
   "cell_type": "markdown",
   "metadata": {},
   "source": [
    "## Анализ моделей"
   ]
  },
  {
   "cell_type": "code",
   "execution_count": 63,
   "metadata": {},
   "outputs": [
    {
     "name": "stdout",
     "output_type": "stream",
     "text": [
      "LinearRegression:\n",
      "RMSE:2744.331143611059, скорость предсказания: 13 ms, время обучения: 1.9 s\n",
      "LightGBM:\n",
      "RMSE:1572.3783433280976, скорость предсказания: 5 s, время обучения: 29.4 s\n",
      "Catboost:\n",
      "RMSE:1658.0570329370557, скорость предсказания: 68.6 ms, время обучения: 21 s\n"
     ]
    }
   ],
   "source": [
    "print('LinearRegression:', end = '')\n",
    "print()\n",
    "print(f'RMSE:{rmse_lr_tuned}, скорость предсказания: 13 ms, время обучения: 1.9 s')\n",
    "print('LightGBM:', end = '')\n",
    "print()\n",
    "print(f'RMSE:{rmse_lgb}, скорость предсказания: 5 s, время обучения: 29.4 s')\n",
    "print('Catboost:', end = '')\n",
    "print()\n",
    "print(f'RMSE:{cbr_rmse}, скорость предсказания: 68.6 ms, время обучения: 21 s')"
   ]
  },
  {
   "cell_type": "markdown",
   "metadata": {},
   "source": [
    "Лучшая модель - LighGBM"
   ]
  },
  {
   "cell_type": "code",
   "execution_count": 96,
   "metadata": {},
   "outputs": [
    {
     "name": "stdout",
     "output_type": "stream",
     "text": [
      "CPU times: user 5.03 s, sys: 8.91 ms, total: 5.04 s\n",
      "Wall time: 4.97 s\n"
     ]
    }
   ],
   "source": [
    "%%time\n",
    "final_lgb_pred = lgbm_tuned.predict(features_test_scaled)"
   ]
  },
  {
   "cell_type": "code",
   "execution_count": 97,
   "metadata": {},
   "outputs": [
    {
     "name": "stdout",
     "output_type": "stream",
     "text": [
      "RMSE: 1578.86\n"
     ]
    }
   ],
   "source": [
    "final_lgb_rmse = np.sqrt(mse(target_test, final_lgb_pred))\n",
    "print(\"RMSE: %.2f\" % final_lgb_rmse)"
   ]
  },
  {
   "cell_type": "markdown",
   "metadata": {},
   "source": [
    "## Вывод"
   ]
  },
  {
   "cell_type": "markdown",
   "metadata": {},
   "source": [
    "- В данных были пропуски, лишние признаки, аномальные значения и выбросы\n",
    "- Было обучено две модели градиентного бустинга и одна регрессии\n",
    "- Наилучшая модель по времени - catboost\n",
    "- Наилучшая модель по RMSE - lightgbm\n",
    "- Худшая модель по всем показателям - linearregression"
   ]
  }
 ],
 "metadata": {
  "ExecuteTimeLog": [
   {
    "duration": 2001,
    "start_time": "2022-09-01T08:20:22.262Z"
   },
   {
    "duration": 3261,
    "start_time": "2022-09-01T08:21:19.082Z"
   },
   {
    "duration": 5,
    "start_time": "2022-09-01T08:21:29.155Z"
   },
   {
    "duration": 863,
    "start_time": "2022-09-01T08:21:40.360Z"
   },
   {
    "duration": 4,
    "start_time": "2022-09-01T08:21:46.702Z"
   },
   {
    "duration": 791,
    "start_time": "2022-09-01T08:21:55.247Z"
   },
   {
    "duration": 7,
    "start_time": "2022-09-01T08:23:21.812Z"
   },
   {
    "duration": 21,
    "start_time": "2022-09-01T08:23:43.670Z"
   },
   {
    "duration": 5,
    "start_time": "2022-09-01T08:24:09.855Z"
   },
   {
    "duration": 134,
    "start_time": "2022-09-01T08:24:55.828Z"
   },
   {
    "duration": 151,
    "start_time": "2022-09-01T08:25:06.012Z"
   },
   {
    "duration": 122,
    "start_time": "2022-09-01T08:25:13.094Z"
   },
   {
    "duration": 150,
    "start_time": "2022-09-01T08:25:28.615Z"
   },
   {
    "duration": 204,
    "start_time": "2022-09-01T08:26:16.482Z"
   },
   {
    "duration": 108,
    "start_time": "2022-09-01T08:26:22.067Z"
   },
   {
    "duration": 185,
    "start_time": "2022-09-01T08:26:58.032Z"
   },
   {
    "duration": 192,
    "start_time": "2022-09-01T08:27:07.643Z"
   },
   {
    "duration": 191,
    "start_time": "2022-09-01T08:27:14.411Z"
   },
   {
    "duration": 253,
    "start_time": "2022-09-01T08:27:21.712Z"
   },
   {
    "duration": 187,
    "start_time": "2022-09-01T08:27:40.569Z"
   },
   {
    "duration": 200,
    "start_time": "2022-09-01T08:27:52.006Z"
   },
   {
    "duration": 278,
    "start_time": "2022-09-01T08:27:54.751Z"
   },
   {
    "duration": 134,
    "start_time": "2022-09-01T08:28:52.703Z"
   },
   {
    "duration": 116,
    "start_time": "2022-09-01T08:29:15.075Z"
   },
   {
    "duration": 151,
    "start_time": "2022-09-01T08:30:04.068Z"
   },
   {
    "duration": 186,
    "start_time": "2022-09-01T08:30:51.483Z"
   },
   {
    "duration": 184,
    "start_time": "2022-09-01T08:31:19.059Z"
   },
   {
    "duration": 113,
    "start_time": "2022-09-01T08:32:48.008Z"
   },
   {
    "duration": 158,
    "start_time": "2022-09-01T08:35:23.428Z"
   },
   {
    "duration": 726,
    "start_time": "2022-09-01T08:35:32.513Z"
   },
   {
    "duration": 847,
    "start_time": "2022-09-01T08:35:46.696Z"
   },
   {
    "duration": 685,
    "start_time": "2022-09-01T08:35:47.546Z"
   },
   {
    "duration": 31,
    "start_time": "2022-09-01T08:36:55.104Z"
   },
   {
    "duration": 50,
    "start_time": "2022-09-01T08:37:04.101Z"
   },
   {
    "duration": 1479,
    "start_time": "2022-09-01T08:38:03.377Z"
   },
   {
    "duration": 32,
    "start_time": "2022-09-01T08:38:09.632Z"
   },
   {
    "duration": 122,
    "start_time": "2022-09-01T08:38:40.546Z"
   },
   {
    "duration": 213,
    "start_time": "2022-09-01T08:39:01.736Z"
   },
   {
    "duration": 137,
    "start_time": "2022-09-01T08:39:22.957Z"
   },
   {
    "duration": 137,
    "start_time": "2022-09-01T08:39:50.264Z"
   },
   {
    "duration": 154,
    "start_time": "2022-09-01T08:39:55.890Z"
   },
   {
    "duration": 265,
    "start_time": "2022-09-01T08:40:09.635Z"
   },
   {
    "duration": 840,
    "start_time": "2022-09-01T08:40:35.061Z"
   },
   {
    "duration": 4,
    "start_time": "2022-09-01T08:40:35.903Z"
   },
   {
    "duration": 697,
    "start_time": "2022-09-01T08:40:36.463Z"
   },
   {
    "duration": 640,
    "start_time": "2022-09-01T08:40:37.977Z"
   },
   {
    "duration": 690,
    "start_time": "2022-09-01T08:40:40.536Z"
   },
   {
    "duration": 39,
    "start_time": "2022-09-01T08:40:43.030Z"
   },
   {
    "duration": 138,
    "start_time": "2022-09-01T08:40:57.698Z"
   },
   {
    "duration": 5,
    "start_time": "2022-09-01T08:41:53.831Z"
   },
   {
    "duration": 82,
    "start_time": "2022-09-01T08:42:16.147Z"
   },
   {
    "duration": 3,
    "start_time": "2022-09-01T08:42:22.461Z"
   },
   {
    "duration": 5,
    "start_time": "2022-09-01T08:42:28.658Z"
   },
   {
    "duration": 11,
    "start_time": "2022-09-01T08:42:48.236Z"
   },
   {
    "duration": 10,
    "start_time": "2022-09-01T08:44:05.752Z"
   },
   {
    "duration": 5,
    "start_time": "2022-09-01T08:44:11.475Z"
   },
   {
    "duration": 4,
    "start_time": "2022-09-01T08:44:15.104Z"
   },
   {
    "duration": 9,
    "start_time": "2022-09-01T08:44:19.612Z"
   },
   {
    "duration": 11,
    "start_time": "2022-09-01T08:45:28.258Z"
   },
   {
    "duration": 3,
    "start_time": "2022-09-01T08:45:55.736Z"
   },
   {
    "duration": 11,
    "start_time": "2022-09-01T08:46:08.001Z"
   },
   {
    "duration": 4,
    "start_time": "2022-09-01T08:47:14.840Z"
   },
   {
    "duration": 4,
    "start_time": "2022-09-01T08:47:22.180Z"
   },
   {
    "duration": 1359,
    "start_time": "2022-09-01T08:48:00.293Z"
   },
   {
    "duration": 0,
    "start_time": "2022-09-01T08:48:01.654Z"
   },
   {
    "duration": 1503,
    "start_time": "2022-09-01T08:48:19.029Z"
   },
   {
    "duration": 945,
    "start_time": "2022-09-01T08:48:21.379Z"
   },
   {
    "duration": 4,
    "start_time": "2022-09-01T08:48:23.469Z"
   },
   {
    "duration": 821,
    "start_time": "2022-09-01T08:48:25.467Z"
   },
   {
    "duration": 538,
    "start_time": "2022-09-01T08:48:30.956Z"
   },
   {
    "duration": 4,
    "start_time": "2022-09-01T08:48:32.834Z"
   },
   {
    "duration": 1519,
    "start_time": "2022-09-01T08:48:36.624Z"
   },
   {
    "duration": 1721,
    "start_time": "2022-09-01T08:48:58.105Z"
   },
   {
    "duration": 14,
    "start_time": "2022-09-01T08:49:14.080Z"
   },
   {
    "duration": 1328,
    "start_time": "2022-09-01T08:49:25.364Z"
   },
   {
    "duration": 1204,
    "start_time": "2022-09-01T08:49:33.833Z"
   },
   {
    "duration": 1624,
    "start_time": "2022-09-01T08:49:43.815Z"
   },
   {
    "duration": 1490,
    "start_time": "2022-09-01T08:51:05.925Z"
   },
   {
    "duration": 837,
    "start_time": "2022-09-01T08:51:07.418Z"
   },
   {
    "duration": 4,
    "start_time": "2022-09-01T08:51:08.317Z"
   },
   {
    "duration": 844,
    "start_time": "2022-09-01T08:51:09.510Z"
   },
   {
    "duration": 527,
    "start_time": "2022-09-01T08:51:10.774Z"
   },
   {
    "duration": 3,
    "start_time": "2022-09-01T08:51:12.022Z"
   },
   {
    "duration": 22,
    "start_time": "2022-09-01T08:51:13.769Z"
   },
   {
    "duration": 737,
    "start_time": "2022-09-01T08:51:14.645Z"
   },
   {
    "duration": 1439,
    "start_time": "2022-09-01T08:51:30.111Z"
   },
   {
    "duration": 42,
    "start_time": "2022-09-01T08:51:35.690Z"
   },
   {
    "duration": 202,
    "start_time": "2022-09-01T08:51:47.629Z"
   },
   {
    "duration": 1504,
    "start_time": "2022-09-01T08:52:01.161Z"
   },
   {
    "duration": 135,
    "start_time": "2022-09-01T08:52:07.486Z"
   },
   {
    "duration": 264,
    "start_time": "2022-09-01T08:53:05.194Z"
   },
   {
    "duration": 499,
    "start_time": "2022-09-01T08:53:28.981Z"
   },
   {
    "duration": 11,
    "start_time": "2022-09-01T08:59:58.252Z"
   },
   {
    "duration": 16,
    "start_time": "2022-09-01T09:00:13.655Z"
   },
   {
    "duration": 1542,
    "start_time": "2022-09-01T09:00:32.173Z"
   },
   {
    "duration": 881,
    "start_time": "2022-09-01T09:00:33.717Z"
   },
   {
    "duration": 4,
    "start_time": "2022-09-01T09:00:34.600Z"
   },
   {
    "duration": 829,
    "start_time": "2022-09-01T09:00:34.629Z"
   },
   {
    "duration": 557,
    "start_time": "2022-09-01T09:00:35.460Z"
   },
   {
    "duration": 63,
    "start_time": "2022-09-01T09:00:37.711Z"
   },
   {
    "duration": 3,
    "start_time": "2022-09-01T09:01:03.969Z"
   },
   {
    "duration": 25,
    "start_time": "2022-09-01T09:01:05.117Z"
   },
   {
    "duration": 391,
    "start_time": "2022-09-01T09:01:06.169Z"
   },
   {
    "duration": 92,
    "start_time": "2022-09-01T09:03:05.386Z"
   },
   {
    "duration": 348,
    "start_time": "2022-09-01T09:03:10.654Z"
   },
   {
    "duration": 166,
    "start_time": "2022-09-01T09:04:14.802Z"
   },
   {
    "duration": 151,
    "start_time": "2022-09-01T09:04:15.678Z"
   },
   {
    "duration": 112,
    "start_time": "2022-09-01T09:04:28.558Z"
   },
   {
    "duration": 384,
    "start_time": "2022-09-01T09:04:37.192Z"
   },
   {
    "duration": 19,
    "start_time": "2022-09-01T09:04:45.204Z"
   },
   {
    "duration": 75,
    "start_time": "2022-09-01T09:04:47.564Z"
   },
   {
    "duration": 127,
    "start_time": "2022-09-01T09:05:25.546Z"
   },
   {
    "duration": 152,
    "start_time": "2022-09-01T09:05:37.847Z"
   },
   {
    "duration": 462,
    "start_time": "2022-09-01T09:05:42.186Z"
   },
   {
    "duration": 126,
    "start_time": "2022-09-01T09:05:48.499Z"
   },
   {
    "duration": 129,
    "start_time": "2022-09-01T09:06:29.172Z"
   },
   {
    "duration": 266,
    "start_time": "2022-09-01T09:06:40.863Z"
   },
   {
    "duration": 146,
    "start_time": "2022-09-01T09:06:56.408Z"
   },
   {
    "duration": 1526,
    "start_time": "2022-09-01T09:07:24.255Z"
   },
   {
    "duration": 5,
    "start_time": "2022-09-01T09:07:30.608Z"
   },
   {
    "duration": 6,
    "start_time": "2022-09-01T09:07:37.915Z"
   },
   {
    "duration": 11,
    "start_time": "2022-09-01T09:07:45.674Z"
   },
   {
    "duration": 5,
    "start_time": "2022-09-01T09:07:51.022Z"
   },
   {
    "duration": 6,
    "start_time": "2022-09-01T09:07:57.987Z"
   },
   {
    "duration": 5,
    "start_time": "2022-09-01T09:08:01.535Z"
   },
   {
    "duration": 119,
    "start_time": "2022-09-01T09:08:44.267Z"
   },
   {
    "duration": 116,
    "start_time": "2022-09-01T09:09:25.660Z"
   },
   {
    "duration": 107,
    "start_time": "2022-09-01T09:09:52.351Z"
   },
   {
    "duration": 269,
    "start_time": "2022-09-01T09:10:05.055Z"
   },
   {
    "duration": 811,
    "start_time": "2022-09-01T09:10:12.731Z"
   },
   {
    "duration": 254,
    "start_time": "2022-09-01T09:10:27.272Z"
   },
   {
    "duration": 1534,
    "start_time": "2022-09-01T09:10:57.419Z"
   },
   {
    "duration": 884,
    "start_time": "2022-09-01T09:10:58.955Z"
   },
   {
    "duration": 6,
    "start_time": "2022-09-01T09:10:59.841Z"
   },
   {
    "duration": 860,
    "start_time": "2022-09-01T09:10:59.848Z"
   },
   {
    "duration": 66,
    "start_time": "2022-09-01T09:11:00.709Z"
   },
   {
    "duration": 3,
    "start_time": "2022-09-01T09:11:00.862Z"
   },
   {
    "duration": 95,
    "start_time": "2022-09-01T09:11:01.374Z"
   },
   {
    "duration": 446,
    "start_time": "2022-09-01T09:11:01.795Z"
   },
   {
    "duration": 184,
    "start_time": "2022-09-01T09:11:02.243Z"
   },
   {
    "duration": 154,
    "start_time": "2022-09-01T09:11:02.618Z"
   },
   {
    "duration": 355,
    "start_time": "2022-09-01T09:11:02.947Z"
   },
   {
    "duration": 197,
    "start_time": "2022-09-01T09:11:07.865Z"
   },
   {
    "duration": 120,
    "start_time": "2022-09-01T09:11:12.587Z"
   },
   {
    "duration": 78,
    "start_time": "2022-09-01T09:11:21.439Z"
   },
   {
    "duration": 20,
    "start_time": "2022-09-01T09:11:53.233Z"
   },
   {
    "duration": 19,
    "start_time": "2022-09-01T09:12:31.698Z"
   },
   {
    "duration": 19,
    "start_time": "2022-09-01T09:12:49.345Z"
   },
   {
    "duration": 22,
    "start_time": "2022-09-01T09:13:05.155Z"
   },
   {
    "duration": 291,
    "start_time": "2022-09-01T09:20:32.878Z"
   },
   {
    "duration": 14694,
    "start_time": "2022-09-01T09:21:56.228Z"
   },
   {
    "duration": 5,
    "start_time": "2022-09-01T09:22:23.216Z"
   },
   {
    "duration": 102,
    "start_time": "2022-09-01T09:22:38.768Z"
   },
   {
    "duration": 119,
    "start_time": "2022-09-01T09:22:44.670Z"
   },
   {
    "duration": 125,
    "start_time": "2022-09-01T09:23:05.209Z"
   },
   {
    "duration": 117,
    "start_time": "2022-09-01T09:23:15.240Z"
   },
   {
    "duration": 112,
    "start_time": "2022-09-01T09:23:23.128Z"
   },
   {
    "duration": 121,
    "start_time": "2022-09-01T09:23:29.112Z"
   },
   {
    "duration": 1599,
    "start_time": "2022-09-01T09:23:59.600Z"
   },
   {
    "duration": 955,
    "start_time": "2022-09-01T09:24:01.201Z"
   },
   {
    "duration": 4,
    "start_time": "2022-09-01T09:24:02.158Z"
   },
   {
    "duration": 837,
    "start_time": "2022-09-01T09:24:02.164Z"
   },
   {
    "duration": 66,
    "start_time": "2022-09-01T09:24:03.003Z"
   },
   {
    "duration": 3,
    "start_time": "2022-09-01T09:24:03.398Z"
   },
   {
    "duration": 128,
    "start_time": "2022-09-01T09:24:04.613Z"
   },
   {
    "duration": 114,
    "start_time": "2022-09-01T09:28:28.870Z"
   },
   {
    "duration": 17,
    "start_time": "2022-09-01T09:28:36.218Z"
   },
   {
    "duration": 357,
    "start_time": "2022-09-01T09:28:45.137Z"
   },
   {
    "duration": 134,
    "start_time": "2022-09-01T09:29:23.883Z"
   },
   {
    "duration": 123,
    "start_time": "2022-09-01T09:29:32.845Z"
   },
   {
    "duration": 217,
    "start_time": "2022-09-01T09:29:45.037Z"
   },
   {
    "duration": 128,
    "start_time": "2022-09-01T09:30:44.908Z"
   },
   {
    "duration": 143,
    "start_time": "2022-09-01T09:30:56.885Z"
   },
   {
    "duration": 140,
    "start_time": "2022-09-01T09:31:05.394Z"
   },
   {
    "duration": 126,
    "start_time": "2022-09-01T09:31:11.009Z"
   },
   {
    "duration": 131,
    "start_time": "2022-09-01T09:31:46.568Z"
   },
   {
    "duration": 756,
    "start_time": "2022-09-01T09:32:19.614Z"
   },
   {
    "duration": 93,
    "start_time": "2022-09-01T09:33:11.066Z"
   },
   {
    "duration": 420,
    "start_time": "2022-09-01T09:33:11.837Z"
   },
   {
    "duration": 196,
    "start_time": "2022-09-01T09:33:16.763Z"
   },
   {
    "duration": 26,
    "start_time": "2022-09-01T09:33:34.011Z"
   },
   {
    "duration": 7,
    "start_time": "2022-09-01T09:34:14.966Z"
   },
   {
    "duration": 6,
    "start_time": "2022-09-01T09:34:40.745Z"
   },
   {
    "duration": 12,
    "start_time": "2022-09-01T09:34:48.920Z"
   },
   {
    "duration": 34,
    "start_time": "2022-09-01T09:34:53.260Z"
   },
   {
    "duration": 1976,
    "start_time": "2022-09-01T09:35:16.784Z"
   },
   {
    "duration": 3695,
    "start_time": "2022-09-01T09:35:31.120Z"
   },
   {
    "duration": 941,
    "start_time": "2022-09-01T09:35:34.819Z"
   },
   {
    "duration": 5,
    "start_time": "2022-09-01T09:35:35.762Z"
   },
   {
    "duration": 904,
    "start_time": "2022-09-01T09:35:35.769Z"
   },
   {
    "duration": 75,
    "start_time": "2022-09-01T09:35:36.675Z"
   },
   {
    "duration": 5,
    "start_time": "2022-09-01T09:35:43.599Z"
   },
   {
    "duration": 2478,
    "start_time": "2022-09-01T09:35:45.087Z"
   },
   {
    "duration": 93,
    "start_time": "2022-09-01T09:36:49.067Z"
   },
   {
    "duration": 366,
    "start_time": "2022-09-01T09:36:50.550Z"
   },
   {
    "duration": 172,
    "start_time": "2022-09-01T09:36:51.482Z"
   },
   {
    "duration": 26,
    "start_time": "2022-09-01T09:36:53.490Z"
   },
   {
    "duration": 322,
    "start_time": "2022-09-01T09:36:57.134Z"
   },
   {
    "duration": 27,
    "start_time": "2022-09-01T09:37:29.899Z"
   },
   {
    "duration": 313,
    "start_time": "2022-09-01T09:37:38.731Z"
   },
   {
    "duration": 2,
    "start_time": "2022-09-01T09:38:09.707Z"
   },
   {
    "duration": 1560,
    "start_time": "2022-09-01T09:38:41.179Z"
   },
   {
    "duration": 845,
    "start_time": "2022-09-01T09:38:42.741Z"
   },
   {
    "duration": 4,
    "start_time": "2022-09-01T09:38:43.588Z"
   },
   {
    "duration": 12,
    "start_time": "2022-09-01T09:38:43.593Z"
   },
   {
    "duration": 823,
    "start_time": "2022-09-01T09:38:43.607Z"
   },
   {
    "duration": 69,
    "start_time": "2022-09-01T09:38:44.432Z"
   },
   {
    "duration": 4,
    "start_time": "2022-09-01T09:38:44.503Z"
   },
   {
    "duration": 2174,
    "start_time": "2022-09-01T09:38:44.509Z"
   },
   {
    "duration": 95,
    "start_time": "2022-09-01T09:38:46.684Z"
   },
   {
    "duration": 375,
    "start_time": "2022-09-01T09:38:46.792Z"
   },
   {
    "duration": 184,
    "start_time": "2022-09-01T09:38:47.169Z"
   },
   {
    "duration": 26,
    "start_time": "2022-09-01T09:38:47.355Z"
   },
   {
    "duration": 332,
    "start_time": "2022-09-01T09:38:47.392Z"
   },
   {
    "duration": 22,
    "start_time": "2022-09-01T09:38:47.726Z"
   },
   {
    "duration": 296,
    "start_time": "2022-09-01T09:38:47.749Z"
   },
   {
    "duration": 4,
    "start_time": "2022-09-01T09:38:48.047Z"
   },
   {
    "duration": 4,
    "start_time": "2022-09-01T09:39:31.550Z"
   },
   {
    "duration": 4,
    "start_time": "2022-09-01T09:39:44.520Z"
   },
   {
    "duration": 4,
    "start_time": "2022-09-01T09:40:02.171Z"
   },
   {
    "duration": 3,
    "start_time": "2022-09-01T09:40:20.319Z"
   },
   {
    "duration": 162,
    "start_time": "2022-09-01T09:40:50.369Z"
   },
   {
    "duration": 114,
    "start_time": "2022-09-01T09:41:47.569Z"
   },
   {
    "duration": 4,
    "start_time": "2022-09-01T09:41:50.847Z"
   },
   {
    "duration": 3,
    "start_time": "2022-09-01T09:41:56.750Z"
   },
   {
    "duration": 5,
    "start_time": "2022-09-01T09:42:32.330Z"
   },
   {
    "duration": 4,
    "start_time": "2022-09-01T09:42:39.474Z"
   },
   {
    "duration": 1536,
    "start_time": "2022-09-01T09:44:03.169Z"
   },
   {
    "duration": 904,
    "start_time": "2022-09-01T09:44:04.707Z"
   },
   {
    "duration": 3,
    "start_time": "2022-09-01T09:44:05.613Z"
   },
   {
    "duration": 13,
    "start_time": "2022-09-01T09:44:05.618Z"
   },
   {
    "duration": 839,
    "start_time": "2022-09-01T09:44:05.634Z"
   },
   {
    "duration": 75,
    "start_time": "2022-09-01T09:44:06.476Z"
   },
   {
    "duration": 3,
    "start_time": "2022-09-01T09:44:06.553Z"
   },
   {
    "duration": 2250,
    "start_time": "2022-09-01T09:44:06.563Z"
   },
   {
    "duration": 98,
    "start_time": "2022-09-01T09:44:08.816Z"
   },
   {
    "duration": 376,
    "start_time": "2022-09-01T09:44:08.915Z"
   },
   {
    "duration": 206,
    "start_time": "2022-09-01T09:44:09.294Z"
   },
   {
    "duration": 28,
    "start_time": "2022-09-01T09:44:09.502Z"
   },
   {
    "duration": 328,
    "start_time": "2022-09-01T09:44:09.532Z"
   },
   {
    "duration": 0,
    "start_time": "2022-09-01T09:44:09.862Z"
   },
   {
    "duration": 0,
    "start_time": "2022-09-01T09:44:09.863Z"
   },
   {
    "duration": 0,
    "start_time": "2022-09-01T09:44:09.864Z"
   },
   {
    "duration": 249,
    "start_time": "2022-09-01T09:44:38.343Z"
   },
   {
    "duration": 20,
    "start_time": "2022-09-01T09:44:52.830Z"
   },
   {
    "duration": 263,
    "start_time": "2022-09-01T09:44:53.246Z"
   },
   {
    "duration": 4,
    "start_time": "2022-09-01T09:44:56.742Z"
   },
   {
    "duration": 1568,
    "start_time": "2022-09-01T11:39:58.271Z"
   },
   {
    "duration": 920,
    "start_time": "2022-09-01T11:39:59.841Z"
   },
   {
    "duration": 3,
    "start_time": "2022-09-01T11:40:00.763Z"
   },
   {
    "duration": 13,
    "start_time": "2022-09-01T11:40:00.768Z"
   },
   {
    "duration": 839,
    "start_time": "2022-09-01T11:40:00.782Z"
   },
   {
    "duration": 73,
    "start_time": "2022-09-01T11:40:01.623Z"
   },
   {
    "duration": 3,
    "start_time": "2022-09-01T11:40:01.698Z"
   },
   {
    "duration": 2275,
    "start_time": "2022-09-01T11:40:01.703Z"
   },
   {
    "duration": 103,
    "start_time": "2022-09-01T11:40:03.980Z"
   },
   {
    "duration": 365,
    "start_time": "2022-09-01T11:40:04.085Z"
   },
   {
    "duration": 169,
    "start_time": "2022-09-01T11:40:04.452Z"
   },
   {
    "duration": 24,
    "start_time": "2022-09-01T11:40:04.623Z"
   },
   {
    "duration": 326,
    "start_time": "2022-09-01T11:40:04.649Z"
   },
   {
    "duration": 29,
    "start_time": "2022-09-01T11:40:04.977Z"
   },
   {
    "duration": 275,
    "start_time": "2022-09-01T11:40:05.007Z"
   },
   {
    "duration": 11,
    "start_time": "2022-09-01T11:40:05.283Z"
   },
   {
    "duration": 4,
    "start_time": "2022-09-01T11:43:24.845Z"
   },
   {
    "duration": 112,
    "start_time": "2022-09-01T11:43:39.498Z"
   },
   {
    "duration": 5,
    "start_time": "2022-09-01T11:44:10.674Z"
   },
   {
    "duration": 1753,
    "start_time": "2022-09-01T11:44:11.087Z"
   },
   {
    "duration": 4,
    "start_time": "2022-09-01T11:44:27.954Z"
   },
   {
    "duration": 349,
    "start_time": "2022-09-01T11:44:28.523Z"
   },
   {
    "duration": 4,
    "start_time": "2022-09-01T11:44:46.168Z"
   },
   {
    "duration": 357,
    "start_time": "2022-09-01T11:44:46.717Z"
   },
   {
    "duration": 4,
    "start_time": "2022-09-01T11:45:30.432Z"
   },
   {
    "duration": 15467,
    "start_time": "2022-09-01T11:45:31.136Z"
   },
   {
    "duration": 4,
    "start_time": "2022-09-01T11:45:53.638Z"
   },
   {
    "duration": 3,
    "start_time": "2022-09-01T11:45:57.321Z"
   },
   {
    "duration": 4,
    "start_time": "2022-09-01T11:46:00.402Z"
   },
   {
    "duration": 4,
    "start_time": "2022-09-01T11:47:07.763Z"
   },
   {
    "duration": 4,
    "start_time": "2022-09-01T11:47:40.264Z"
   },
   {
    "duration": 4,
    "start_time": "2022-09-01T11:47:56.058Z"
   },
   {
    "duration": 1730,
    "start_time": "2022-09-01T11:48:11.636Z"
   },
   {
    "duration": 2666,
    "start_time": "2022-09-01T11:48:13.368Z"
   },
   {
    "duration": 2,
    "start_time": "2022-09-01T11:48:16.036Z"
   },
   {
    "duration": 6,
    "start_time": "2022-09-01T11:48:16.040Z"
   },
   {
    "duration": 888,
    "start_time": "2022-09-01T11:48:16.048Z"
   },
   {
    "duration": 75,
    "start_time": "2022-09-01T11:48:16.937Z"
   },
   {
    "duration": 4,
    "start_time": "2022-09-01T11:48:17.013Z"
   },
   {
    "duration": 2539,
    "start_time": "2022-09-01T11:48:17.018Z"
   },
   {
    "duration": 111,
    "start_time": "2022-09-01T11:48:19.559Z"
   },
   {
    "duration": 424,
    "start_time": "2022-09-01T11:48:19.673Z"
   },
   {
    "duration": 184,
    "start_time": "2022-09-01T11:48:20.103Z"
   },
   {
    "duration": 28,
    "start_time": "2022-09-01T11:48:20.289Z"
   },
   {
    "duration": 342,
    "start_time": "2022-09-01T11:48:20.319Z"
   },
   {
    "duration": 20,
    "start_time": "2022-09-01T11:48:20.663Z"
   },
   {
    "duration": 297,
    "start_time": "2022-09-01T11:48:20.692Z"
   },
   {
    "duration": 8,
    "start_time": "2022-09-01T11:48:20.998Z"
   },
   {
    "duration": 12,
    "start_time": "2022-09-01T11:48:21.009Z"
   },
   {
    "duration": 11539,
    "start_time": "2022-09-01T11:48:21.023Z"
   },
   {
    "duration": 3,
    "start_time": "2022-09-01T11:48:32.564Z"
   },
   {
    "duration": 19,
    "start_time": "2022-09-01T11:48:32.569Z"
   },
   {
    "duration": 1583,
    "start_time": "2022-09-01T11:48:39.959Z"
   },
   {
    "duration": 1007,
    "start_time": "2022-09-01T11:48:41.544Z"
   },
   {
    "duration": 3,
    "start_time": "2022-09-01T11:48:42.552Z"
   },
   {
    "duration": 10,
    "start_time": "2022-09-01T11:48:42.557Z"
   },
   {
    "duration": 881,
    "start_time": "2022-09-01T11:48:42.569Z"
   },
   {
    "duration": 72,
    "start_time": "2022-09-01T11:48:43.451Z"
   },
   {
    "duration": 3,
    "start_time": "2022-09-01T11:48:43.525Z"
   },
   {
    "duration": 2413,
    "start_time": "2022-09-01T11:48:43.530Z"
   },
   {
    "duration": 116,
    "start_time": "2022-09-01T11:48:45.945Z"
   },
   {
    "duration": 396,
    "start_time": "2022-09-01T11:48:46.063Z"
   },
   {
    "duration": 197,
    "start_time": "2022-09-01T11:48:46.461Z"
   },
   {
    "duration": 38,
    "start_time": "2022-09-01T11:48:46.660Z"
   },
   {
    "duration": 355,
    "start_time": "2022-09-01T11:48:46.699Z"
   },
   {
    "duration": 37,
    "start_time": "2022-09-01T11:48:47.056Z"
   },
   {
    "duration": 282,
    "start_time": "2022-09-01T11:48:47.100Z"
   },
   {
    "duration": 7,
    "start_time": "2022-09-01T11:48:47.392Z"
   },
   {
    "duration": 4,
    "start_time": "2022-09-01T11:48:47.409Z"
   },
   {
    "duration": 8,
    "start_time": "2022-09-01T11:48:47.414Z"
   },
   {
    "duration": 12062,
    "start_time": "2022-09-01T11:48:47.424Z"
   },
   {
    "duration": 27,
    "start_time": "2022-09-01T11:50:13.771Z"
   },
   {
    "duration": 29,
    "start_time": "2022-09-01T11:50:29.238Z"
   },
   {
    "duration": 3,
    "start_time": "2022-09-01T11:55:22.696Z"
   },
   {
    "duration": 3,
    "start_time": "2022-09-01T11:55:29.505Z"
   },
   {
    "duration": 123,
    "start_time": "2022-09-01T11:55:35.597Z"
   },
   {
    "duration": 414,
    "start_time": "2022-09-01T11:55:48.235Z"
   },
   {
    "duration": 450,
    "start_time": "2022-09-01T11:56:04.911Z"
   },
   {
    "duration": 32,
    "start_time": "2022-09-01T11:56:08.393Z"
   },
   {
    "duration": 541,
    "start_time": "2022-09-01T11:57:35.143Z"
   },
   {
    "duration": 23,
    "start_time": "2022-09-01T11:57:38.494Z"
   },
   {
    "duration": 1548,
    "start_time": "2022-09-01T11:58:32.244Z"
   },
   {
    "duration": 863,
    "start_time": "2022-09-01T11:58:33.794Z"
   },
   {
    "duration": 2,
    "start_time": "2022-09-01T11:58:34.659Z"
   },
   {
    "duration": 7,
    "start_time": "2022-09-01T11:58:34.663Z"
   },
   {
    "duration": 851,
    "start_time": "2022-09-01T11:58:34.672Z"
   },
   {
    "duration": 73,
    "start_time": "2022-09-01T11:58:35.525Z"
   },
   {
    "duration": 3,
    "start_time": "2022-09-01T11:58:35.600Z"
   },
   {
    "duration": 2271,
    "start_time": "2022-09-01T11:58:35.605Z"
   },
   {
    "duration": 98,
    "start_time": "2022-09-01T11:58:37.878Z"
   },
   {
    "duration": 364,
    "start_time": "2022-09-01T11:58:37.977Z"
   },
   {
    "duration": 180,
    "start_time": "2022-09-01T11:58:38.343Z"
   },
   {
    "duration": 25,
    "start_time": "2022-09-01T11:58:38.525Z"
   },
   {
    "duration": 321,
    "start_time": "2022-09-01T11:58:38.552Z"
   },
   {
    "duration": 29,
    "start_time": "2022-09-01T11:58:38.876Z"
   },
   {
    "duration": 285,
    "start_time": "2022-09-01T11:58:38.907Z"
   },
   {
    "duration": 4,
    "start_time": "2022-09-01T11:58:39.194Z"
   },
   {
    "duration": 6,
    "start_time": "2022-09-01T11:58:39.201Z"
   },
   {
    "duration": 11,
    "start_time": "2022-09-01T11:58:39.208Z"
   },
   {
    "duration": 909,
    "start_time": "2022-09-01T11:58:39.221Z"
   },
   {
    "duration": 4,
    "start_time": "2022-09-01T11:58:40.131Z"
   },
   {
    "duration": 130,
    "start_time": "2022-09-01T11:58:40.136Z"
   },
   {
    "duration": 0,
    "start_time": "2022-09-01T11:58:40.268Z"
   },
   {
    "duration": 29,
    "start_time": "2022-09-01T11:59:29.084Z"
   },
   {
    "duration": 3,
    "start_time": "2022-09-01T12:00:42.757Z"
   },
   {
    "duration": 528,
    "start_time": "2022-09-01T12:00:43.415Z"
   },
   {
    "duration": 21,
    "start_time": "2022-09-01T12:00:44.884Z"
   },
   {
    "duration": 565,
    "start_time": "2022-09-01T12:00:57.214Z"
   },
   {
    "duration": 9,
    "start_time": "2022-09-01T12:01:36.011Z"
   },
   {
    "duration": 551,
    "start_time": "2022-09-01T12:01:46.685Z"
   },
   {
    "duration": 8,
    "start_time": "2022-09-01T12:01:51.042Z"
   },
   {
    "duration": 41,
    "start_time": "2022-09-01T12:02:24.090Z"
   },
   {
    "duration": 31,
    "start_time": "2022-09-01T12:02:27.786Z"
   },
   {
    "duration": 11,
    "start_time": "2022-09-01T12:02:35.543Z"
   },
   {
    "duration": 5,
    "start_time": "2022-09-01T12:03:00.785Z"
   },
   {
    "duration": 67,
    "start_time": "2022-09-01T12:03:04.482Z"
   },
   {
    "duration": 4,
    "start_time": "2022-09-01T12:03:26.937Z"
   },
   {
    "duration": 6,
    "start_time": "2022-09-01T12:03:33.283Z"
   },
   {
    "duration": 12,
    "start_time": "2022-09-01T12:04:06.131Z"
   },
   {
    "duration": 12,
    "start_time": "2022-09-01T12:04:32.890Z"
   },
   {
    "duration": 5,
    "start_time": "2022-09-01T12:06:14.223Z"
   },
   {
    "duration": 12,
    "start_time": "2022-09-01T12:06:31.035Z"
   },
   {
    "duration": 78,
    "start_time": "2022-09-01T12:06:40.930Z"
   },
   {
    "duration": 120,
    "start_time": "2022-09-01T12:06:46.977Z"
   },
   {
    "duration": 127,
    "start_time": "2022-09-01T12:07:56.868Z"
   },
   {
    "duration": 54,
    "start_time": "2022-09-01T12:09:50.139Z"
   },
   {
    "duration": 88,
    "start_time": "2022-09-01T12:10:07.510Z"
   },
   {
    "duration": 11,
    "start_time": "2022-09-01T12:12:37.005Z"
   },
   {
    "duration": 4,
    "start_time": "2022-09-01T12:13:12.780Z"
   },
   {
    "duration": 12,
    "start_time": "2022-09-01T12:13:17.127Z"
   },
   {
    "duration": 44,
    "start_time": "2022-09-01T12:14:13.707Z"
   },
   {
    "duration": 10,
    "start_time": "2022-09-01T12:14:47.265Z"
   },
   {
    "duration": 3,
    "start_time": "2022-09-01T12:15:30.781Z"
   },
   {
    "duration": 4,
    "start_time": "2022-09-01T12:15:35.467Z"
   },
   {
    "duration": 4,
    "start_time": "2022-09-01T12:15:48.073Z"
   },
   {
    "duration": 3,
    "start_time": "2022-09-01T12:15:52.934Z"
   },
   {
    "duration": 2,
    "start_time": "2022-09-01T12:17:40.638Z"
   },
   {
    "duration": 13,
    "start_time": "2022-09-01T12:17:42.076Z"
   },
   {
    "duration": 3,
    "start_time": "2022-09-01T12:17:49.822Z"
   },
   {
    "duration": 11,
    "start_time": "2022-09-01T12:17:50.738Z"
   },
   {
    "duration": 3,
    "start_time": "2022-09-01T12:22:20.655Z"
   },
   {
    "duration": 15,
    "start_time": "2022-09-01T12:28:02.107Z"
   },
   {
    "duration": 2002,
    "start_time": "2022-09-01T12:30:23.600Z"
   },
   {
    "duration": 2239,
    "start_time": "2022-09-01T12:31:20.960Z"
   },
   {
    "duration": 2293,
    "start_time": "2022-09-01T12:31:30.999Z"
   },
   {
    "duration": 12,
    "start_time": "2022-09-01T12:33:11.972Z"
   },
   {
    "duration": 4,
    "start_time": "2022-09-01T12:33:22.482Z"
   },
   {
    "duration": 5,
    "start_time": "2022-09-01T12:33:29.747Z"
   },
   {
    "duration": 25380,
    "start_time": "2022-09-01T12:33:36.424Z"
   },
   {
    "duration": 23922,
    "start_time": "2022-09-01T12:34:34.183Z"
   },
   {
    "duration": 3,
    "start_time": "2022-09-01T12:36:40.592Z"
   },
   {
    "duration": 4446,
    "start_time": "2022-09-01T12:36:45.851Z"
   },
   {
    "duration": 4,
    "start_time": "2022-09-01T12:36:56.812Z"
   },
   {
    "duration": 4047,
    "start_time": "2022-09-01T12:36:57.053Z"
   },
   {
    "duration": 4,
    "start_time": "2022-09-01T12:37:11.742Z"
   },
   {
    "duration": 3845,
    "start_time": "2022-09-01T12:37:12.255Z"
   },
   {
    "duration": 282,
    "start_time": "2022-09-01T12:38:34.920Z"
   },
   {
    "duration": 3,
    "start_time": "2022-09-01T12:41:30.236Z"
   },
   {
    "duration": 3478,
    "start_time": "2022-09-01T12:41:37.122Z"
   },
   {
    "duration": 19,
    "start_time": "2022-09-01T12:45:00.039Z"
   },
   {
    "duration": 9,
    "start_time": "2022-09-01T12:45:14.350Z"
   },
   {
    "duration": 9,
    "start_time": "2022-09-01T12:46:51.123Z"
   },
   {
    "duration": 4765,
    "start_time": "2022-09-01T12:47:18.828Z"
   },
   {
    "duration": 403444,
    "start_time": "2022-09-01T12:47:37.683Z"
   },
   {
    "duration": 9153,
    "start_time": "2022-09-01T12:54:22.965Z"
   },
   {
    "duration": 63943,
    "start_time": "2022-09-01T12:54:33.355Z"
   },
   {
    "duration": 126799,
    "start_time": "2022-09-01T12:55:38.398Z"
   },
   {
    "duration": 109355,
    "start_time": "2022-09-01T12:57:47.440Z"
   },
   {
    "duration": 51162,
    "start_time": "2022-09-01T12:59:43.182Z"
   },
   {
    "duration": 107553,
    "start_time": "2022-09-01T13:00:35.551Z"
   },
   {
    "duration": 9374,
    "start_time": "2022-09-01T13:04:59.220Z"
   },
   {
    "duration": 736,
    "start_time": "2022-09-01T13:05:25.262Z"
   },
   {
    "duration": 662,
    "start_time": "2022-09-01T13:06:11.249Z"
   },
   {
    "duration": 474827,
    "start_time": "2022-09-01T13:07:23.483Z"
   },
   {
    "duration": 16493,
    "start_time": "2022-09-01T13:16:02.104Z"
   },
   {
    "duration": 2327,
    "start_time": "2022-09-01T13:16:22.871Z"
   },
   {
    "duration": 1065231,
    "start_time": "2022-09-01T13:16:30.672Z"
   },
   {
    "duration": 33093,
    "start_time": "2022-09-01T13:34:39.612Z"
   },
   {
    "duration": 7495,
    "start_time": "2022-09-01T13:36:28.629Z"
   },
   {
    "duration": 11,
    "start_time": "2022-09-01T13:37:19.953Z"
   },
   {
    "duration": 9,
    "start_time": "2022-09-01T13:37:31.916Z"
   },
   {
    "duration": 13,
    "start_time": "2022-09-01T13:38:59.742Z"
   },
   {
    "duration": 12,
    "start_time": "2022-09-01T13:39:07.094Z"
   },
   {
    "duration": 10,
    "start_time": "2022-09-01T13:39:11.797Z"
   },
   {
    "duration": 31,
    "start_time": "2022-09-01T13:39:32.730Z"
   },
   {
    "duration": 8,
    "start_time": "2022-09-01T13:39:39.057Z"
   },
   {
    "duration": 247,
    "start_time": "2022-09-01T13:40:08.153Z"
   },
   {
    "duration": 54,
    "start_time": "2022-09-01T13:40:15.889Z"
   },
   {
    "duration": 13,
    "start_time": "2022-09-01T13:40:24.761Z"
   },
   {
    "duration": 14,
    "start_time": "2022-09-01T13:40:56.446Z"
   },
   {
    "duration": 10,
    "start_time": "2022-09-01T13:41:11.065Z"
   },
   {
    "duration": 129,
    "start_time": "2022-09-01T13:41:16.570Z"
   },
   {
    "duration": 54,
    "start_time": "2022-09-01T13:42:22.546Z"
   },
   {
    "duration": 46,
    "start_time": "2022-09-01T13:42:37.549Z"
   },
   {
    "duration": 122,
    "start_time": "2022-09-01T13:42:54.277Z"
   },
   {
    "duration": 140,
    "start_time": "2022-09-01T13:46:14.457Z"
   },
   {
    "duration": 45,
    "start_time": "2022-09-01T13:50:18.452Z"
   },
   {
    "duration": 46,
    "start_time": "2022-09-01T13:50:31.645Z"
   },
   {
    "duration": 78,
    "start_time": "2022-09-01T13:50:35.620Z"
   },
   {
    "duration": 210,
    "start_time": "2022-09-01T13:51:35.782Z"
   },
   {
    "duration": 58,
    "start_time": "2022-09-01T13:51:38.633Z"
   },
   {
    "duration": 6419,
    "start_time": "2022-09-01T13:52:00.100Z"
   },
   {
    "duration": 87,
    "start_time": "2022-09-01T13:52:56.157Z"
   },
   {
    "duration": 6494,
    "start_time": "2022-09-01T13:54:02.429Z"
   },
   {
    "duration": 141,
    "start_time": "2022-09-01T13:54:45.237Z"
   },
   {
    "duration": 6485,
    "start_time": "2022-09-01T13:54:58.938Z"
   },
   {
    "duration": 6489,
    "start_time": "2022-09-01T13:55:24.536Z"
   },
   {
    "duration": 44,
    "start_time": "2022-09-01T13:55:50.666Z"
   },
   {
    "duration": 8,
    "start_time": "2022-09-01T13:55:57.565Z"
   },
   {
    "duration": 9,
    "start_time": "2022-09-01T13:58:22.919Z"
   },
   {
    "duration": 54,
    "start_time": "2022-09-01T13:58:51.486Z"
   },
   {
    "duration": 2,
    "start_time": "2022-09-01T13:59:05.923Z"
   },
   {
    "duration": 4,
    "start_time": "2022-09-01T14:00:25.836Z"
   },
   {
    "duration": 6482,
    "start_time": "2022-09-01T14:00:39.048Z"
   },
   {
    "duration": 45,
    "start_time": "2022-09-01T14:00:50.545Z"
   },
   {
    "duration": 15,
    "start_time": "2022-09-01T14:00:57.128Z"
   },
   {
    "duration": 45559,
    "start_time": "2022-09-01T14:01:18.659Z"
   },
   {
    "duration": 0,
    "start_time": "2022-09-01T14:02:04.220Z"
   },
   {
    "duration": 97,
    "start_time": "2022-09-01T14:02:14.185Z"
   },
   {
    "duration": 83,
    "start_time": "2022-09-01T14:02:24.642Z"
   },
   {
    "duration": 45,
    "start_time": "2022-09-01T14:02:45.941Z"
   },
   {
    "duration": 91,
    "start_time": "2022-09-01T14:03:00.113Z"
   },
   {
    "duration": 83,
    "start_time": "2022-09-01T14:03:21.682Z"
   },
   {
    "duration": 47,
    "start_time": "2022-09-01T14:03:52.725Z"
   },
   {
    "duration": 112,
    "start_time": "2022-09-01T14:04:05.929Z"
   },
   {
    "duration": 101,
    "start_time": "2022-09-01T14:04:34.766Z"
   },
   {
    "duration": 98,
    "start_time": "2022-09-01T14:04:40.702Z"
   },
   {
    "duration": 62,
    "start_time": "2022-09-01T14:06:45.746Z"
   },
   {
    "duration": 123,
    "start_time": "2022-09-01T14:07:04.870Z"
   },
   {
    "duration": 87,
    "start_time": "2022-09-01T14:09:04.955Z"
   },
   {
    "duration": 84,
    "start_time": "2022-09-01T14:09:20.002Z"
   },
   {
    "duration": 0,
    "start_time": "2022-09-01T14:10:33.912Z"
   },
   {
    "duration": 0,
    "start_time": "2022-09-01T14:10:33.913Z"
   },
   {
    "duration": 1544,
    "start_time": "2022-09-01T14:10:44.215Z"
   },
   {
    "duration": 919,
    "start_time": "2022-09-01T14:10:45.761Z"
   },
   {
    "duration": 3,
    "start_time": "2022-09-01T14:10:46.682Z"
   },
   {
    "duration": 5,
    "start_time": "2022-09-01T14:10:46.692Z"
   },
   {
    "duration": 928,
    "start_time": "2022-09-01T14:10:46.699Z"
   },
   {
    "duration": 74,
    "start_time": "2022-09-01T14:10:47.629Z"
   },
   {
    "duration": 3,
    "start_time": "2022-09-01T14:10:47.704Z"
   },
   {
    "duration": 2367,
    "start_time": "2022-09-01T14:10:47.709Z"
   },
   {
    "duration": 101,
    "start_time": "2022-09-01T14:10:50.078Z"
   },
   {
    "duration": 388,
    "start_time": "2022-09-01T14:10:50.192Z"
   },
   {
    "duration": 182,
    "start_time": "2022-09-01T14:10:50.591Z"
   },
   {
    "duration": 20,
    "start_time": "2022-09-01T14:10:50.775Z"
   },
   {
    "duration": 256,
    "start_time": "2022-09-01T14:10:50.797Z"
   },
   {
    "duration": 21,
    "start_time": "2022-09-01T14:10:51.055Z"
   },
   {
    "duration": 297,
    "start_time": "2022-09-01T14:10:51.078Z"
   },
   {
    "duration": 4,
    "start_time": "2022-09-01T14:10:51.377Z"
   },
   {
    "duration": 5,
    "start_time": "2022-09-01T14:10:51.393Z"
   },
   {
    "duration": 631,
    "start_time": "2022-09-01T14:10:51.400Z"
   },
   {
    "duration": 10,
    "start_time": "2022-09-01T14:10:52.034Z"
   },
   {
    "duration": 74,
    "start_time": "2022-09-01T14:10:52.046Z"
   },
   {
    "duration": 38,
    "start_time": "2022-09-01T14:10:52.125Z"
   },
   {
    "duration": 82,
    "start_time": "2022-09-01T14:10:52.165Z"
   },
   {
    "duration": 4,
    "start_time": "2022-09-01T14:10:52.249Z"
   },
   {
    "duration": 9,
    "start_time": "2022-09-01T14:10:52.255Z"
   },
   {
    "duration": 26,
    "start_time": "2022-09-01T14:10:52.266Z"
   },
   {
    "duration": 180,
    "start_time": "2022-09-01T14:10:52.294Z"
   },
   {
    "duration": 6532,
    "start_time": "2022-09-01T14:11:20.963Z"
   },
   {
    "duration": 258,
    "start_time": "2022-09-01T14:11:32.579Z"
   },
   {
    "duration": 52,
    "start_time": "2022-09-01T14:11:38.958Z"
   },
   {
    "duration": 0,
    "start_time": "2022-09-01T14:12:36.494Z"
   },
   {
    "duration": 1802,
    "start_time": "2022-09-01T14:17:14.029Z"
   },
   {
    "duration": 899,
    "start_time": "2022-09-01T14:17:15.833Z"
   },
   {
    "duration": 2,
    "start_time": "2022-09-01T14:17:16.734Z"
   },
   {
    "duration": 17,
    "start_time": "2022-09-01T14:17:16.738Z"
   },
   {
    "duration": 843,
    "start_time": "2022-09-01T14:17:16.758Z"
   },
   {
    "duration": 62,
    "start_time": "2022-09-01T14:17:17.604Z"
   },
   {
    "duration": 4,
    "start_time": "2022-09-01T14:17:17.668Z"
   },
   {
    "duration": 2350,
    "start_time": "2022-09-01T14:17:17.691Z"
   },
   {
    "duration": 104,
    "start_time": "2022-09-01T14:17:20.043Z"
   },
   {
    "duration": 372,
    "start_time": "2022-09-01T14:17:20.149Z"
   },
   {
    "duration": 175,
    "start_time": "2022-09-01T14:17:20.523Z"
   },
   {
    "duration": 16,
    "start_time": "2022-09-01T14:17:20.700Z"
   },
   {
    "duration": 284,
    "start_time": "2022-09-01T14:17:20.718Z"
   },
   {
    "duration": 23,
    "start_time": "2022-09-01T14:17:21.006Z"
   },
   {
    "duration": 296,
    "start_time": "2022-09-01T14:17:21.031Z"
   },
   {
    "duration": 4,
    "start_time": "2022-09-01T14:17:21.329Z"
   },
   {
    "duration": 5,
    "start_time": "2022-09-01T14:17:21.335Z"
   },
   {
    "duration": 640,
    "start_time": "2022-09-01T14:17:21.342Z"
   },
   {
    "duration": 16,
    "start_time": "2022-09-01T14:17:21.983Z"
   },
   {
    "duration": 73,
    "start_time": "2022-09-01T14:17:22.002Z"
   },
   {
    "duration": 52,
    "start_time": "2022-09-01T14:17:22.078Z"
   },
   {
    "duration": 97,
    "start_time": "2022-09-01T14:17:22.132Z"
   },
   {
    "duration": 5,
    "start_time": "2022-09-01T14:17:22.231Z"
   },
   {
    "duration": 22,
    "start_time": "2022-09-01T14:17:22.238Z"
   },
   {
    "duration": 4,
    "start_time": "2022-09-01T14:17:22.262Z"
   },
   {
    "duration": 257,
    "start_time": "2022-09-01T14:17:22.268Z"
   },
   {
    "duration": 0,
    "start_time": "2022-09-01T14:17:22.527Z"
   },
   {
    "duration": 0,
    "start_time": "2022-09-01T14:17:22.529Z"
   },
   {
    "duration": 0,
    "start_time": "2022-09-01T14:17:22.530Z"
   },
   {
    "duration": 0,
    "start_time": "2022-09-01T14:17:22.531Z"
   },
   {
    "duration": 0,
    "start_time": "2022-09-01T14:17:22.532Z"
   },
   {
    "duration": 0,
    "start_time": "2022-09-01T14:17:22.533Z"
   },
   {
    "duration": 1,
    "start_time": "2022-09-01T14:17:22.534Z"
   },
   {
    "duration": 0,
    "start_time": "2022-09-01T14:17:22.536Z"
   },
   {
    "duration": 0,
    "start_time": "2022-09-01T14:17:22.537Z"
   },
   {
    "duration": 101,
    "start_time": "2022-09-01T14:17:34.894Z"
   },
   {
    "duration": 6492,
    "start_time": "2022-09-01T14:17:38.232Z"
   },
   {
    "duration": 46,
    "start_time": "2022-09-01T14:17:50.761Z"
   },
   {
    "duration": 14,
    "start_time": "2022-09-01T14:17:52.670Z"
   },
   {
    "duration": 56974,
    "start_time": "2022-09-01T14:17:56.527Z"
   },
   {
    "duration": 1554,
    "start_time": "2022-09-01T14:39:55.859Z"
   },
   {
    "duration": 895,
    "start_time": "2022-09-01T14:39:57.415Z"
   },
   {
    "duration": 3,
    "start_time": "2022-09-01T14:39:58.313Z"
   },
   {
    "duration": 7,
    "start_time": "2022-09-01T14:39:58.318Z"
   },
   {
    "duration": 903,
    "start_time": "2022-09-01T14:39:58.327Z"
   },
   {
    "duration": 75,
    "start_time": "2022-09-01T14:39:59.233Z"
   },
   {
    "duration": 3,
    "start_time": "2022-09-01T14:39:59.310Z"
   },
   {
    "duration": 2368,
    "start_time": "2022-09-01T14:39:59.315Z"
   },
   {
    "duration": 94,
    "start_time": "2022-09-01T14:40:07.829Z"
   },
   {
    "duration": 359,
    "start_time": "2022-09-01T14:40:08.252Z"
   },
   {
    "duration": 171,
    "start_time": "2022-09-01T14:40:12.564Z"
   },
   {
    "duration": 6,
    "start_time": "2022-09-01T14:40:21.363Z"
   },
   {
    "duration": 9,
    "start_time": "2022-09-01T14:40:28.613Z"
   },
   {
    "duration": 14,
    "start_time": "2022-09-01T14:40:35.508Z"
   },
   {
    "duration": 15,
    "start_time": "2022-09-01T14:41:32.174Z"
   },
   {
    "duration": 11,
    "start_time": "2022-09-01T14:41:50.308Z"
   },
   {
    "duration": 28,
    "start_time": "2022-09-01T14:43:30.366Z"
   },
   {
    "duration": 8,
    "start_time": "2022-09-01T14:43:48.971Z"
   },
   {
    "duration": 1514,
    "start_time": "2022-09-01T15:29:49.174Z"
   },
   {
    "duration": 824,
    "start_time": "2022-09-01T15:29:50.690Z"
   },
   {
    "duration": 3,
    "start_time": "2022-09-01T15:29:51.516Z"
   },
   {
    "duration": 12,
    "start_time": "2022-09-01T15:29:51.521Z"
   },
   {
    "duration": 866,
    "start_time": "2022-09-01T15:29:51.534Z"
   },
   {
    "duration": 53,
    "start_time": "2022-09-01T15:29:52.402Z"
   },
   {
    "duration": 6,
    "start_time": "2022-09-01T15:29:52.457Z"
   },
   {
    "duration": 2267,
    "start_time": "2022-09-01T15:29:52.464Z"
   },
   {
    "duration": 103,
    "start_time": "2022-09-01T15:29:54.734Z"
   },
   {
    "duration": 369,
    "start_time": "2022-09-01T15:29:54.839Z"
   },
   {
    "duration": 171,
    "start_time": "2022-09-01T15:29:55.210Z"
   },
   {
    "duration": 11,
    "start_time": "2022-09-01T15:30:07.614Z"
   },
   {
    "duration": 15,
    "start_time": "2022-09-01T15:30:13.774Z"
   },
   {
    "duration": 132,
    "start_time": "2022-09-01T15:30:24.334Z"
   },
   {
    "duration": 192,
    "start_time": "2022-09-01T15:30:31.782Z"
   },
   {
    "duration": 140,
    "start_time": "2022-09-01T15:30:45.534Z"
   },
   {
    "duration": 120,
    "start_time": "2022-09-01T15:30:56.294Z"
   },
   {
    "duration": 165,
    "start_time": "2022-09-01T15:30:59.694Z"
   },
   {
    "duration": 10,
    "start_time": "2022-09-01T15:31:11.214Z"
   },
   {
    "duration": 153,
    "start_time": "2022-09-01T15:31:24.094Z"
   },
   {
    "duration": 136,
    "start_time": "2022-09-01T15:31:35.110Z"
   },
   {
    "duration": 124,
    "start_time": "2022-09-01T15:31:44.533Z"
   },
   {
    "duration": 242,
    "start_time": "2022-09-01T15:31:47.814Z"
   },
   {
    "duration": 330,
    "start_time": "2022-09-01T15:31:57.574Z"
   },
   {
    "duration": 27,
    "start_time": "2022-09-01T15:32:29.094Z"
   },
   {
    "duration": 9,
    "start_time": "2022-09-01T15:32:31.246Z"
   },
   {
    "duration": 254,
    "start_time": "2022-09-01T15:33:04.413Z"
   },
   {
    "duration": 267,
    "start_time": "2022-09-01T15:33:14.262Z"
   },
   {
    "duration": 227,
    "start_time": "2022-09-01T15:33:21.933Z"
   },
   {
    "duration": 229,
    "start_time": "2022-09-01T15:33:46.774Z"
   },
   {
    "duration": 196,
    "start_time": "2022-09-01T15:33:55.302Z"
   },
   {
    "duration": 240,
    "start_time": "2022-09-01T15:34:26.671Z"
   },
   {
    "duration": 167,
    "start_time": "2022-09-01T15:34:32.046Z"
   },
   {
    "duration": 1433,
    "start_time": "2022-09-01T15:34:35.654Z"
   },
   {
    "duration": 326,
    "start_time": "2022-09-01T15:34:42.293Z"
   },
   {
    "duration": 201,
    "start_time": "2022-09-01T15:34:50.894Z"
   },
   {
    "duration": 527,
    "start_time": "2022-09-01T15:34:59.374Z"
   },
   {
    "duration": 151,
    "start_time": "2022-09-01T15:35:09.934Z"
   },
   {
    "duration": 155,
    "start_time": "2022-09-01T15:35:12.973Z"
   },
   {
    "duration": 150,
    "start_time": "2022-09-01T15:35:15.693Z"
   },
   {
    "duration": 173,
    "start_time": "2022-09-01T15:35:18.934Z"
   },
   {
    "duration": 9,
    "start_time": "2022-09-01T15:36:26.254Z"
   },
   {
    "duration": 499,
    "start_time": "2022-09-01T15:37:18.700Z"
   },
   {
    "duration": 200,
    "start_time": "2022-09-01T15:37:36.652Z"
   },
   {
    "duration": 6,
    "start_time": "2022-09-01T15:38:22.923Z"
   },
   {
    "duration": 7,
    "start_time": "2022-09-01T15:38:37.124Z"
   },
   {
    "duration": 6,
    "start_time": "2022-09-01T15:39:14.237Z"
   },
   {
    "duration": 94,
    "start_time": "2022-09-01T15:39:24.836Z"
   },
   {
    "duration": 14,
    "start_time": "2022-09-01T15:39:27.669Z"
   },
   {
    "duration": 93,
    "start_time": "2022-09-01T15:39:43.544Z"
   },
   {
    "duration": 11,
    "start_time": "2022-09-01T15:40:09.878Z"
   },
   {
    "duration": 11,
    "start_time": "2022-09-01T15:40:32.203Z"
   },
   {
    "duration": 1438,
    "start_time": "2022-09-01T21:06:44.428Z"
   },
   {
    "duration": 2777,
    "start_time": "2022-09-01T21:06:45.867Z"
   },
   {
    "duration": 3,
    "start_time": "2022-09-01T21:06:49.307Z"
   },
   {
    "duration": 4,
    "start_time": "2022-09-01T21:06:50.066Z"
   },
   {
    "duration": 625,
    "start_time": "2022-09-01T21:06:51.425Z"
   },
   {
    "duration": 52,
    "start_time": "2022-09-01T21:06:52.373Z"
   },
   {
    "duration": 3,
    "start_time": "2022-09-01T21:06:54.163Z"
   },
   {
    "duration": 1812,
    "start_time": "2022-09-01T21:06:55.768Z"
   },
   {
    "duration": 70,
    "start_time": "2022-09-01T21:06:57.928Z"
   },
   {
    "duration": 275,
    "start_time": "2022-09-01T21:06:59.043Z"
   },
   {
    "duration": 157,
    "start_time": "2022-09-01T21:06:59.971Z"
   },
   {
    "duration": 9,
    "start_time": "2022-09-01T21:07:01.061Z"
   },
   {
    "duration": 10,
    "start_time": "2022-09-01T21:07:02.440Z"
   },
   {
    "duration": 210,
    "start_time": "2022-09-01T21:07:03.220Z"
   },
   {
    "duration": 22,
    "start_time": "2022-09-01T21:07:05.087Z"
   },
   {
    "duration": 141,
    "start_time": "2022-09-01T21:07:16.120Z"
   },
   {
    "duration": 161,
    "start_time": "2022-09-01T21:07:22.485Z"
   },
   {
    "duration": 9,
    "start_time": "2022-09-01T21:07:51.291Z"
   },
   {
    "duration": 103,
    "start_time": "2022-09-01T21:10:04.961Z"
   },
   {
    "duration": 7,
    "start_time": "2022-09-01T21:10:47.817Z"
   },
   {
    "duration": 113,
    "start_time": "2022-09-01T21:12:09.745Z"
   },
   {
    "duration": 145,
    "start_time": "2022-09-01T21:12:29.649Z"
   },
   {
    "duration": 124,
    "start_time": "2022-09-01T21:12:58.268Z"
   },
   {
    "duration": 158,
    "start_time": "2022-09-01T21:13:27.913Z"
   },
   {
    "duration": 221,
    "start_time": "2022-09-01T21:13:32.980Z"
   },
   {
    "duration": 310,
    "start_time": "2022-09-01T21:14:08.164Z"
   },
   {
    "duration": 17,
    "start_time": "2022-09-01T21:14:22.013Z"
   },
   {
    "duration": 198,
    "start_time": "2022-09-01T21:14:25.152Z"
   },
   {
    "duration": 4,
    "start_time": "2022-09-01T21:14:29.496Z"
   },
   {
    "duration": 3,
    "start_time": "2022-09-01T21:14:43.512Z"
   },
   {
    "duration": 458,
    "start_time": "2022-09-01T21:14:43.839Z"
   },
   {
    "duration": 9,
    "start_time": "2022-09-01T21:14:44.298Z"
   },
   {
    "duration": 41,
    "start_time": "2022-09-01T21:14:44.309Z"
   },
   {
    "duration": 26,
    "start_time": "2022-09-01T21:14:44.507Z"
   },
   {
    "duration": 57,
    "start_time": "2022-09-01T21:14:45.451Z"
   },
   {
    "duration": 4,
    "start_time": "2022-09-01T21:14:46.247Z"
   },
   {
    "duration": 5,
    "start_time": "2022-09-01T21:14:47.095Z"
   },
   {
    "duration": 4,
    "start_time": "2022-09-01T21:14:51.007Z"
   },
   {
    "duration": 67,
    "start_time": "2022-09-01T21:14:52.544Z"
   },
   {
    "duration": 6391,
    "start_time": "2022-09-01T21:14:54.431Z"
   },
   {
    "duration": 40,
    "start_time": "2022-09-01T21:15:05.047Z"
   },
   {
    "duration": 7,
    "start_time": "2022-09-01T21:15:08.975Z"
   },
   {
    "duration": 3763,
    "start_time": "2022-09-01T21:15:12.160Z"
   },
   {
    "duration": 39,
    "start_time": "2022-09-01T21:15:19.390Z"
   },
   {
    "duration": 379820,
    "start_time": "2022-09-01T21:15:27.296Z"
   },
   {
    "duration": 23048,
    "start_time": "2022-09-01T21:28:44.767Z"
   },
   {
    "duration": 5125,
    "start_time": "2022-09-01T21:29:12.086Z"
   },
   {
    "duration": 5065,
    "start_time": "2022-09-01T21:29:22.360Z"
   },
   {
    "duration": 81,
    "start_time": "2022-09-01T21:29:53.588Z"
   },
   {
    "duration": 203654,
    "start_time": "2022-09-01T21:30:03.039Z"
   },
   {
    "duration": 220708,
    "start_time": "2022-09-01T21:35:05.775Z"
   },
   {
    "duration": 201001,
    "start_time": "2022-09-01T21:39:50.147Z"
   },
   {
    "duration": 21103,
    "start_time": "2022-09-01T21:45:26.118Z"
   },
   {
    "duration": 67341,
    "start_time": "2022-09-01T21:52:54.248Z"
   },
   {
    "duration": 446046,
    "start_time": "2022-09-01T21:59:48.401Z"
   },
   {
    "duration": 104032,
    "start_time": "2022-09-01T22:07:54.463Z"
   },
   {
    "duration": 195398,
    "start_time": "2022-09-01T22:09:45.580Z"
   },
   {
    "duration": 1149,
    "start_time": "2022-09-01T22:13:05.970Z"
   },
   {
    "duration": 12,
    "start_time": "2022-09-01T22:13:11.806Z"
   },
   {
    "duration": 80,
    "start_time": "2022-09-01T22:15:42.612Z"
   },
   {
    "duration": 4143,
    "start_time": "2022-09-01T22:15:55.253Z"
   },
   {
    "duration": 25,
    "start_time": "2022-09-01T22:16:04.987Z"
   },
   {
    "duration": 191586,
    "start_time": "2022-09-01T22:19:21.725Z"
   },
   {
    "duration": 2486,
    "start_time": "2022-09-01T22:22:41.325Z"
   },
   {
    "duration": 13,
    "start_time": "2022-09-01T22:22:47.032Z"
   },
   {
    "duration": 1607,
    "start_time": "2022-09-02T06:35:33.488Z"
   },
   {
    "duration": 1107,
    "start_time": "2022-09-02T06:35:35.097Z"
   },
   {
    "duration": 1367,
    "start_time": "2022-09-02T06:36:21.412Z"
   },
   {
    "duration": 818,
    "start_time": "2022-09-02T06:36:22.781Z"
   },
   {
    "duration": 3,
    "start_time": "2022-09-02T06:36:23.601Z"
   },
   {
    "duration": 8,
    "start_time": "2022-09-02T06:36:23.606Z"
   },
   {
    "duration": 782,
    "start_time": "2022-09-02T06:36:23.616Z"
   },
   {
    "duration": 60,
    "start_time": "2022-09-02T06:36:24.402Z"
   },
   {
    "duration": 5,
    "start_time": "2022-09-02T06:36:24.464Z"
   },
   {
    "duration": 2027,
    "start_time": "2022-09-02T06:36:24.526Z"
   },
   {
    "duration": 87,
    "start_time": "2022-09-02T06:36:26.555Z"
   },
   {
    "duration": 315,
    "start_time": "2022-09-02T06:36:26.644Z"
   },
   {
    "duration": 175,
    "start_time": "2022-09-02T06:36:26.961Z"
   },
   {
    "duration": 11,
    "start_time": "2022-09-02T06:36:38.289Z"
   },
   {
    "duration": 11,
    "start_time": "2022-09-02T06:36:41.137Z"
   },
   {
    "duration": 242,
    "start_time": "2022-09-02T06:36:44.937Z"
   },
   {
    "duration": 26,
    "start_time": "2022-09-02T06:36:48.673Z"
   },
   {
    "duration": 10,
    "start_time": "2022-09-02T06:36:49.482Z"
   },
   {
    "duration": 184,
    "start_time": "2022-09-02T06:36:56.645Z"
   },
   {
    "duration": 11,
    "start_time": "2022-09-02T06:37:04.479Z"
   },
   {
    "duration": 115,
    "start_time": "2022-09-02T06:37:05.510Z"
   },
   {
    "duration": 8,
    "start_time": "2022-09-02T06:37:09.544Z"
   },
   {
    "duration": 318,
    "start_time": "2022-09-02T06:37:18.293Z"
   },
   {
    "duration": 22,
    "start_time": "2022-09-02T06:37:27.503Z"
   },
   {
    "duration": 248,
    "start_time": "2022-09-02T06:37:28.101Z"
   },
   {
    "duration": 4,
    "start_time": "2022-09-02T06:37:28.697Z"
   },
   {
    "duration": 2,
    "start_time": "2022-09-02T06:37:31.722Z"
   },
   {
    "duration": 511,
    "start_time": "2022-09-02T06:37:31.973Z"
   },
   {
    "duration": 8,
    "start_time": "2022-09-02T06:37:32.486Z"
   },
   {
    "duration": 45,
    "start_time": "2022-09-02T06:37:52.310Z"
   },
   {
    "duration": 29,
    "start_time": "2022-09-02T06:37:52.663Z"
   },
   {
    "duration": 65,
    "start_time": "2022-09-02T06:37:53.071Z"
   },
   {
    "duration": 4,
    "start_time": "2022-09-02T06:37:54.210Z"
   },
   {
    "duration": 6,
    "start_time": "2022-09-02T06:37:54.794Z"
   },
   {
    "duration": 4,
    "start_time": "2022-09-02T06:37:57.118Z"
   },
   {
    "duration": 146,
    "start_time": "2022-09-02T06:37:59.157Z"
   },
   {
    "duration": 6431,
    "start_time": "2022-09-02T06:38:00.702Z"
   },
   {
    "duration": 43,
    "start_time": "2022-09-02T06:38:08.501Z"
   },
   {
    "duration": 13,
    "start_time": "2022-09-02T06:38:10.426Z"
   },
   {
    "duration": 19405,
    "start_time": "2022-09-02T06:38:15.197Z"
   },
   {
    "duration": 1063545,
    "start_time": "2022-09-02T06:38:41.570Z"
   },
   {
    "duration": 29238,
    "start_time": "2022-09-02T06:56:37.178Z"
   },
   {
    "duration": 5374,
    "start_time": "2022-09-02T06:57:11.229Z"
   },
   {
    "duration": 23895,
    "start_time": "2022-09-02T06:57:24.692Z"
   },
   {
    "duration": 159942,
    "start_time": "2022-09-02T06:58:08.547Z"
   },
   {
    "duration": 5399,
    "start_time": "2022-09-02T07:00:49.916Z"
   },
   {
    "duration": 2152667,
    "start_time": "2022-09-02T07:00:58.310Z"
   },
   {
    "duration": 88001,
    "start_time": "2022-09-02T07:38:51.400Z"
   },
   {
    "duration": 50,
    "start_time": "2022-09-02T07:40:19.403Z"
   },
   {
    "duration": 664879,
    "start_time": "2022-09-02T07:42:26.810Z"
   },
   {
    "duration": 23761,
    "start_time": "2022-09-02T07:54:26.364Z"
   },
   {
    "duration": 59,
    "start_time": "2022-09-02T07:54:52.764Z"
   },
   {
    "duration": 10,
    "start_time": "2022-09-02T07:57:16.743Z"
   },
   {
    "duration": 8,
    "start_time": "2022-09-02T07:57:32.924Z"
   },
   {
    "duration": 68,
    "start_time": "2022-09-02T07:57:55.566Z"
   },
   {
    "duration": 12,
    "start_time": "2022-09-02T07:57:58.944Z"
   },
   {
    "duration": 70,
    "start_time": "2022-09-02T07:58:19.867Z"
   },
   {
    "duration": 5285,
    "start_time": "2022-09-02T07:58:43.432Z"
   },
   {
    "duration": 64,
    "start_time": "2022-09-02T07:59:15.221Z"
   },
   {
    "duration": 61,
    "start_time": "2022-09-02T07:59:43.805Z"
   },
   {
    "duration": 64,
    "start_time": "2022-09-02T07:59:58.771Z"
   },
   {
    "duration": 11,
    "start_time": "2022-09-02T08:01:58.993Z"
   },
   {
    "duration": 3,
    "start_time": "2022-09-02T08:02:12.705Z"
   },
   {
    "duration": 4,
    "start_time": "2022-09-02T08:02:25.681Z"
   },
   {
    "duration": 1454,
    "start_time": "2022-09-02T08:17:57.330Z"
   },
   {
    "duration": 857,
    "start_time": "2022-09-02T08:17:58.786Z"
   },
   {
    "duration": 3,
    "start_time": "2022-09-02T08:17:59.645Z"
   },
   {
    "duration": 6,
    "start_time": "2022-09-02T08:17:59.649Z"
   },
   {
    "duration": 757,
    "start_time": "2022-09-02T08:17:59.657Z"
   },
   {
    "duration": 57,
    "start_time": "2022-09-02T08:18:00.416Z"
   },
   {
    "duration": 3,
    "start_time": "2022-09-02T08:18:00.475Z"
   },
   {
    "duration": 2120,
    "start_time": "2022-09-02T08:18:00.480Z"
   },
   {
    "duration": 82,
    "start_time": "2022-09-02T08:18:02.603Z"
   },
   {
    "duration": 348,
    "start_time": "2022-09-02T08:18:02.688Z"
   },
   {
    "duration": 181,
    "start_time": "2022-09-02T08:18:03.038Z"
   },
   {
    "duration": 10,
    "start_time": "2022-09-02T08:18:03.221Z"
   },
   {
    "duration": 37,
    "start_time": "2022-09-02T08:18:03.232Z"
   },
   {
    "duration": 248,
    "start_time": "2022-09-02T08:18:03.271Z"
   },
   {
    "duration": 24,
    "start_time": "2022-09-02T08:18:03.521Z"
   },
   {
    "duration": 23,
    "start_time": "2022-09-02T08:18:03.547Z"
   },
   {
    "duration": 203,
    "start_time": "2022-09-02T08:18:03.572Z"
   },
   {
    "duration": 11,
    "start_time": "2022-09-02T08:18:03.777Z"
   },
   {
    "duration": 158,
    "start_time": "2022-09-02T08:18:03.790Z"
   },
   {
    "duration": 10,
    "start_time": "2022-09-02T08:18:03.950Z"
   },
   {
    "duration": 294,
    "start_time": "2022-09-02T08:18:03.962Z"
   },
   {
    "duration": 20,
    "start_time": "2022-09-02T08:18:04.258Z"
   },
   {
    "duration": 267,
    "start_time": "2022-09-02T08:18:04.280Z"
   },
   {
    "duration": 4,
    "start_time": "2022-09-02T08:18:04.549Z"
   },
   {
    "duration": 29,
    "start_time": "2022-09-02T08:18:04.555Z"
   },
   {
    "duration": 540,
    "start_time": "2022-09-02T08:18:04.586Z"
   },
   {
    "duration": 8,
    "start_time": "2022-09-02T08:18:05.128Z"
   },
   {
    "duration": 43,
    "start_time": "2022-09-02T08:18:05.140Z"
   },
   {
    "duration": 39,
    "start_time": "2022-09-02T08:18:05.185Z"
   },
   {
    "duration": 81,
    "start_time": "2022-09-02T08:18:05.226Z"
   },
   {
    "duration": 4,
    "start_time": "2022-09-02T08:18:05.309Z"
   },
   {
    "duration": 9,
    "start_time": "2022-09-02T08:18:05.315Z"
   },
   {
    "duration": 4,
    "start_time": "2022-09-02T08:18:05.326Z"
   },
   {
    "duration": 80,
    "start_time": "2022-09-02T08:18:05.332Z"
   },
   {
    "duration": 6515,
    "start_time": "2022-09-02T08:18:05.414Z"
   },
   {
    "duration": 95,
    "start_time": "2022-09-02T08:18:11.931Z"
   },
   {
    "duration": 79,
    "start_time": "2022-09-02T08:18:12.028Z"
   },
   {
    "duration": 4811,
    "start_time": "2022-09-02T08:18:12.109Z"
   },
   {
    "duration": 526993,
    "start_time": "2022-09-02T08:18:16.922Z"
   },
   {
    "duration": 35301,
    "start_time": "2022-09-02T08:27:03.917Z"
   },
   {
    "duration": 5383,
    "start_time": "2022-09-02T08:27:39.220Z"
   },
   {
    "duration": 23009,
    "start_time": "2022-09-02T08:27:44.605Z"
   },
   {
    "duration": 646023,
    "start_time": "2022-09-02T08:28:07.616Z"
   },
   {
    "duration": 23437,
    "start_time": "2022-09-02T08:38:53.640Z"
   },
   {
    "duration": 67,
    "start_time": "2022-09-02T08:39:17.079Z"
   },
   {
    "duration": 56,
    "start_time": "2022-09-02T08:39:17.148Z"
   },
   {
    "duration": 5425,
    "start_time": "2022-09-02T08:39:17.206Z"
   },
   {
    "duration": 123,
    "start_time": "2022-09-02T08:39:22.633Z"
   },
   {
    "duration": 66,
    "start_time": "2022-09-02T11:04:28.920Z"
   },
   {
    "duration": 6,
    "start_time": "2022-09-02T11:04:39.170Z"
   },
   {
    "duration": 1684,
    "start_time": "2022-09-02T11:04:42.254Z"
   },
   {
    "duration": 1135,
    "start_time": "2022-09-02T11:04:43.940Z"
   },
   {
    "duration": 4,
    "start_time": "2022-09-02T11:04:45.077Z"
   },
   {
    "duration": 12,
    "start_time": "2022-09-02T11:04:45.082Z"
   },
   {
    "duration": 756,
    "start_time": "2022-09-02T11:04:47.154Z"
   },
   {
    "duration": 80,
    "start_time": "2022-09-02T11:04:50.566Z"
   },
   {
    "duration": 11,
    "start_time": "2022-09-02T11:05:19.290Z"
   },
   {
    "duration": 64,
    "start_time": "2022-09-02T11:05:44.342Z"
   },
   {
    "duration": 3,
    "start_time": "2022-09-02T11:05:49.406Z"
   },
   {
    "duration": 2074,
    "start_time": "2022-09-02T11:05:50.186Z"
   },
   {
    "duration": 80,
    "start_time": "2022-09-02T11:05:54.418Z"
   },
   {
    "duration": 322,
    "start_time": "2022-09-02T11:05:58.291Z"
   },
   {
    "duration": 170,
    "start_time": "2022-09-02T11:06:02.212Z"
   },
   {
    "duration": 9,
    "start_time": "2022-09-02T11:06:03.681Z"
   },
   {
    "duration": 12,
    "start_time": "2022-09-02T11:06:05.993Z"
   },
   {
    "duration": 290,
    "start_time": "2022-09-02T11:06:08.990Z"
   },
   {
    "duration": 24,
    "start_time": "2022-09-02T11:06:24.049Z"
   },
   {
    "duration": 9,
    "start_time": "2022-09-02T11:06:27.733Z"
   },
   {
    "duration": 199,
    "start_time": "2022-09-02T11:06:30.673Z"
   },
   {
    "duration": 11,
    "start_time": "2022-09-02T11:06:33.312Z"
   },
   {
    "duration": 8,
    "start_time": "2022-09-02T11:09:16.962Z"
   },
   {
    "duration": 299,
    "start_time": "2022-09-02T11:09:17.437Z"
   },
   {
    "duration": 20,
    "start_time": "2022-09-02T11:09:29.797Z"
   },
   {
    "duration": 288,
    "start_time": "2022-09-02T11:09:48.921Z"
   },
   {
    "duration": 4,
    "start_time": "2022-09-02T11:09:52.367Z"
   },
   {
    "duration": 3,
    "start_time": "2022-09-02T11:09:57.847Z"
   },
   {
    "duration": 584,
    "start_time": "2022-09-02T11:09:58.421Z"
   },
   {
    "duration": 17,
    "start_time": "2022-09-02T11:16:52.225Z"
   },
   {
    "duration": 12,
    "start_time": "2022-09-02T11:20:27.845Z"
   },
   {
    "duration": 63,
    "start_time": "2022-09-02T11:20:38.479Z"
   },
   {
    "duration": 76,
    "start_time": "2022-09-02T11:21:06.030Z"
   },
   {
    "duration": 86,
    "start_time": "2022-09-02T11:21:34.611Z"
   },
   {
    "duration": 71,
    "start_time": "2022-09-02T11:21:42.203Z"
   },
   {
    "duration": 11,
    "start_time": "2022-09-02T11:22:29.438Z"
   },
   {
    "duration": 6,
    "start_time": "2022-09-02T11:22:38.174Z"
   },
   {
    "duration": 5,
    "start_time": "2022-09-02T11:23:10.514Z"
   },
   {
    "duration": 4527,
    "start_time": "2022-09-02T11:25:47.933Z"
   },
   {
    "duration": 23,
    "start_time": "2022-09-02T11:26:04.662Z"
   },
   {
    "duration": 20,
    "start_time": "2022-09-02T11:26:08.162Z"
   },
   {
    "duration": 4275,
    "start_time": "2022-09-02T11:26:34.103Z"
   },
   {
    "duration": 22,
    "start_time": "2022-09-02T11:26:41.229Z"
   },
   {
    "duration": 84,
    "start_time": "2022-09-02T11:30:14.307Z"
   },
   {
    "duration": 934,
    "start_time": "2022-09-02T11:30:29.264Z"
   },
   {
    "duration": 1416,
    "start_time": "2022-09-02T11:31:20.192Z"
   },
   {
    "duration": 1516,
    "start_time": "2022-09-02T11:31:48.617Z"
   },
   {
    "duration": 0,
    "start_time": "2022-09-02T11:31:50.135Z"
   },
   {
    "duration": 0,
    "start_time": "2022-09-02T11:31:50.137Z"
   },
   {
    "duration": 0,
    "start_time": "2022-09-02T11:31:50.138Z"
   },
   {
    "duration": 0,
    "start_time": "2022-09-02T11:31:50.139Z"
   },
   {
    "duration": 0,
    "start_time": "2022-09-02T11:31:50.141Z"
   },
   {
    "duration": 8,
    "start_time": "2022-09-02T11:31:50.253Z"
   },
   {
    "duration": 10,
    "start_time": "2022-09-02T11:31:50.364Z"
   },
   {
    "duration": 15,
    "start_time": "2022-09-02T11:31:50.628Z"
   },
   {
    "duration": 1418,
    "start_time": "2022-09-02T11:32:06.591Z"
   },
   {
    "duration": 848,
    "start_time": "2022-09-02T11:32:08.169Z"
   },
   {
    "duration": 4,
    "start_time": "2022-09-02T11:32:09.019Z"
   },
   {
    "duration": 6,
    "start_time": "2022-09-02T11:32:09.097Z"
   },
   {
    "duration": 763,
    "start_time": "2022-09-02T11:32:24.323Z"
   },
   {
    "duration": 60,
    "start_time": "2022-09-02T11:32:26.201Z"
   },
   {
    "duration": 4,
    "start_time": "2022-09-02T11:32:27.222Z"
   },
   {
    "duration": 2163,
    "start_time": "2022-09-02T11:32:28.037Z"
   },
   {
    "duration": 102,
    "start_time": "2022-09-02T11:32:30.203Z"
   },
   {
    "duration": 314,
    "start_time": "2022-09-02T11:32:32.078Z"
   },
   {
    "duration": 168,
    "start_time": "2022-09-02T11:32:32.809Z"
   },
   {
    "duration": 10,
    "start_time": "2022-09-02T11:32:35.011Z"
   },
   {
    "duration": 12,
    "start_time": "2022-09-02T11:32:36.321Z"
   },
   {
    "duration": 246,
    "start_time": "2022-09-02T11:32:36.540Z"
   },
   {
    "duration": 34,
    "start_time": "2022-09-02T11:32:36.788Z"
   },
   {
    "duration": 8,
    "start_time": "2022-09-02T11:32:38.181Z"
   },
   {
    "duration": 199,
    "start_time": "2022-09-02T11:32:38.655Z"
   },
   {
    "duration": 12,
    "start_time": "2022-09-02T11:32:39.341Z"
   },
   {
    "duration": 118,
    "start_time": "2022-09-02T11:32:39.768Z"
   },
   {
    "duration": 8,
    "start_time": "2022-09-02T11:32:41.123Z"
   },
   {
    "duration": 285,
    "start_time": "2022-09-02T11:32:41.312Z"
   },
   {
    "duration": 19,
    "start_time": "2022-09-02T11:32:52.229Z"
   },
   {
    "duration": 223,
    "start_time": "2022-09-02T11:32:53.416Z"
   },
   {
    "duration": 4,
    "start_time": "2022-09-02T11:32:54.301Z"
   },
   {
    "duration": 21,
    "start_time": "2022-09-02T11:33:07.448Z"
   },
   {
    "duration": 1295,
    "start_time": "2022-09-02T11:33:13.093Z"
   },
   {
    "duration": 2799,
    "start_time": "2022-09-02T11:34:23.565Z"
   },
   {
    "duration": 134,
    "start_time": "2022-09-02T11:35:18.075Z"
   },
   {
    "duration": 1670,
    "start_time": "2022-09-02T11:36:08.534Z"
   },
   {
    "duration": 12,
    "start_time": "2022-09-02T11:36:33.190Z"
   },
   {
    "duration": 1350,
    "start_time": "2022-09-02T11:36:38.462Z"
   },
   {
    "duration": 13,
    "start_time": "2022-09-02T11:37:05.902Z"
   },
   {
    "duration": 1415,
    "start_time": "2022-09-02T11:37:17.789Z"
   },
   {
    "duration": 121,
    "start_time": "2022-09-02T11:38:15.949Z"
   },
   {
    "duration": 4,
    "start_time": "2022-09-02T11:38:35.101Z"
   },
   {
    "duration": 10,
    "start_time": "2022-09-02T11:38:48.538Z"
   },
   {
    "duration": 100,
    "start_time": "2022-09-02T11:39:00.685Z"
   },
   {
    "duration": 109,
    "start_time": "2022-09-02T11:40:17.182Z"
   },
   {
    "duration": 99,
    "start_time": "2022-09-02T11:40:42.774Z"
   },
   {
    "duration": 48,
    "start_time": "2022-09-02T11:41:29.678Z"
   },
   {
    "duration": 61,
    "start_time": "2022-09-02T11:41:35.888Z"
   },
   {
    "duration": 416,
    "start_time": "2022-09-02T11:43:35.446Z"
   },
   {
    "duration": 563,
    "start_time": "2022-09-02T11:43:40.525Z"
   },
   {
    "duration": 68,
    "start_time": "2022-09-02T11:44:12.086Z"
   },
   {
    "duration": 551,
    "start_time": "2022-09-02T11:45:37.603Z"
   },
   {
    "duration": 99,
    "start_time": "2022-09-02T11:46:27.559Z"
   },
   {
    "duration": 9,
    "start_time": "2022-09-02T11:46:36.165Z"
   },
   {
    "duration": 4,
    "start_time": "2022-09-02T11:46:38.185Z"
   },
   {
    "duration": 4,
    "start_time": "2022-09-02T11:46:38.813Z"
   },
   {
    "duration": 26,
    "start_time": "2022-09-02T11:48:16.412Z"
   },
   {
    "duration": 24,
    "start_time": "2022-09-02T11:48:41.167Z"
   },
   {
    "duration": 557,
    "start_time": "2022-09-02T11:50:55.432Z"
   },
   {
    "duration": 36,
    "start_time": "2022-09-02T11:53:56.386Z"
   },
   {
    "duration": 14,
    "start_time": "2022-09-02T11:54:12.331Z"
   },
   {
    "duration": 1611,
    "start_time": "2022-09-02T11:57:30.902Z"
   },
   {
    "duration": 849,
    "start_time": "2022-09-02T11:57:32.937Z"
   },
   {
    "duration": 3,
    "start_time": "2022-09-02T11:57:33.789Z"
   },
   {
    "duration": 12,
    "start_time": "2022-09-02T11:57:33.793Z"
   },
   {
    "duration": 773,
    "start_time": "2022-09-02T11:57:33.904Z"
   },
   {
    "duration": 64,
    "start_time": "2022-09-02T11:57:36.881Z"
   },
   {
    "duration": 3,
    "start_time": "2022-09-02T11:57:41.186Z"
   },
   {
    "duration": 2157,
    "start_time": "2022-09-02T11:57:41.497Z"
   },
   {
    "duration": 87,
    "start_time": "2022-09-02T11:57:43.685Z"
   },
   {
    "duration": 343,
    "start_time": "2022-09-02T11:57:46.582Z"
   },
   {
    "duration": 173,
    "start_time": "2022-09-02T11:57:46.961Z"
   },
   {
    "duration": 13,
    "start_time": "2022-09-02T11:57:47.357Z"
   },
   {
    "duration": 12,
    "start_time": "2022-09-02T11:57:49.545Z"
   },
   {
    "duration": 257,
    "start_time": "2022-09-02T11:57:49.756Z"
   },
   {
    "duration": 25,
    "start_time": "2022-09-02T11:57:51.658Z"
   },
   {
    "duration": 11,
    "start_time": "2022-09-02T11:57:52.409Z"
   },
   {
    "duration": 198,
    "start_time": "2022-09-02T11:57:54.231Z"
   },
   {
    "duration": 11,
    "start_time": "2022-09-02T11:57:54.513Z"
   },
   {
    "duration": 124,
    "start_time": "2022-09-02T11:57:56.425Z"
   },
   {
    "duration": 9,
    "start_time": "2022-09-02T11:57:57.145Z"
   },
   {
    "duration": 309,
    "start_time": "2022-09-02T11:57:57.281Z"
   },
   {
    "duration": 20,
    "start_time": "2022-09-02T11:57:57.874Z"
   },
   {
    "duration": 252,
    "start_time": "2022-09-02T11:57:59.780Z"
   },
   {
    "duration": 4,
    "start_time": "2022-09-02T11:58:00.841Z"
   },
   {
    "duration": 114,
    "start_time": "2022-09-02T11:58:04.871Z"
   },
   {
    "duration": 19,
    "start_time": "2022-09-02T11:58:09.595Z"
   },
   {
    "duration": 19,
    "start_time": "2022-09-02T11:58:19.341Z"
   },
   {
    "duration": 31,
    "start_time": "2022-09-02T11:58:58.273Z"
   },
   {
    "duration": 28,
    "start_time": "2022-09-02T11:59:03.858Z"
   },
   {
    "duration": 70,
    "start_time": "2022-09-02T11:59:13.083Z"
   },
   {
    "duration": 24,
    "start_time": "2022-09-02T11:59:16.419Z"
   },
   {
    "duration": 25,
    "start_time": "2022-09-02T12:01:12.570Z"
   },
   {
    "duration": 227,
    "start_time": "2022-09-02T12:01:24.035Z"
   },
   {
    "duration": 204,
    "start_time": "2022-09-02T12:01:46.583Z"
   },
   {
    "duration": 28,
    "start_time": "2022-09-02T12:02:16.324Z"
   },
   {
    "duration": 59,
    "start_time": "2022-09-02T12:02:17.585Z"
   },
   {
    "duration": 51,
    "start_time": "2022-09-02T12:02:18.334Z"
   },
   {
    "duration": 303,
    "start_time": "2022-09-02T12:02:20.618Z"
   },
   {
    "duration": 4,
    "start_time": "2022-09-02T12:02:23.092Z"
   },
   {
    "duration": 7,
    "start_time": "2022-09-02T12:02:24.285Z"
   },
   {
    "duration": 4,
    "start_time": "2022-09-02T12:02:27.522Z"
   },
   {
    "duration": 1753,
    "start_time": "2022-09-02T12:02:32.354Z"
   },
   {
    "duration": 48401,
    "start_time": "2022-09-02T12:02:35.106Z"
   },
   {
    "duration": 1911,
    "start_time": "2022-09-02T12:03:40.796Z"
   },
   {
    "duration": 9,
    "start_time": "2022-09-02T12:03:47.071Z"
   },
   {
    "duration": 5,
    "start_time": "2022-09-02T12:03:50.014Z"
   },
   {
    "duration": 5913,
    "start_time": "2022-09-02T12:04:21.100Z"
   },
   {
    "duration": 655073,
    "start_time": "2022-09-02T12:04:34.134Z"
   },
   {
    "duration": 29588,
    "start_time": "2022-09-02T12:15:57.326Z"
   },
   {
    "duration": 5013,
    "start_time": "2022-09-02T12:17:03.690Z"
   },
   {
    "duration": 5,
    "start_time": "2022-09-02T12:17:23.233Z"
   },
   {
    "duration": 20946,
    "start_time": "2022-09-02T12:17:49.897Z"
   },
   {
    "duration": 68,
    "start_time": "2022-09-02T12:18:16.142Z"
   },
   {
    "duration": 5,
    "start_time": "2022-09-02T12:18:20.558Z"
   },
   {
    "duration": 623852,
    "start_time": "2022-09-02T12:18:29.958Z"
   },
   {
    "duration": 22019,
    "start_time": "2022-09-02T12:30:40.500Z"
   },
   {
    "duration": 65,
    "start_time": "2022-09-02T12:31:20.515Z"
   },
   {
    "duration": 5,
    "start_time": "2022-09-02T12:31:43.886Z"
   },
   {
    "duration": 71,
    "start_time": "2022-09-02T12:31:56.277Z"
   },
   {
    "duration": 4,
    "start_time": "2022-09-02T12:32:14.745Z"
   },
   {
    "duration": 106,
    "start_time": "2022-09-02T12:32:30.687Z"
   },
   {
    "duration": 5,
    "start_time": "2022-09-02T12:32:41.021Z"
   },
   {
    "duration": 5,
    "start_time": "2022-09-02T12:32:56.696Z"
   },
   {
    "duration": 7,
    "start_time": "2022-09-02T12:33:10.824Z"
   },
   {
    "duration": 1289,
    "start_time": "2022-09-02T12:33:25.750Z"
   },
   {
    "duration": 12,
    "start_time": "2022-09-02T12:34:01.714Z"
   },
   {
    "duration": 5,
    "start_time": "2022-09-02T12:34:44.757Z"
   },
   {
    "duration": 1124,
    "start_time": "2022-09-02T12:34:46.992Z"
   },
   {
    "duration": 10,
    "start_time": "2022-09-02T12:36:30.288Z"
   },
   {
    "duration": 6,
    "start_time": "2022-09-02T12:36:45.563Z"
   },
   {
    "duration": 1141,
    "start_time": "2022-09-02T12:36:49.864Z"
   },
   {
    "duration": 5,
    "start_time": "2022-09-02T12:37:00.889Z"
   },
   {
    "duration": 1115,
    "start_time": "2022-09-02T12:37:03.288Z"
   },
   {
    "duration": 1267,
    "start_time": "2022-09-02T12:37:12.581Z"
   },
   {
    "duration": 3,
    "start_time": "2022-09-02T12:37:36.965Z"
   },
   {
    "duration": 1180,
    "start_time": "2022-09-02T12:37:37.528Z"
   },
   {
    "duration": 3,
    "start_time": "2022-09-02T12:37:49.740Z"
   },
   {
    "duration": 1202,
    "start_time": "2022-09-02T12:37:50.836Z"
   },
   {
    "duration": 5,
    "start_time": "2022-09-02T12:39:05.624Z"
   },
   {
    "duration": 3,
    "start_time": "2022-09-02T12:39:07.668Z"
   },
   {
    "duration": 1251,
    "start_time": "2022-09-02T12:39:08.437Z"
   },
   {
    "duration": 5,
    "start_time": "2022-09-02T12:39:18.696Z"
   },
   {
    "duration": 3,
    "start_time": "2022-09-02T12:39:19.147Z"
   },
   {
    "duration": 1161,
    "start_time": "2022-09-02T12:39:19.652Z"
   },
   {
    "duration": 7,
    "start_time": "2022-09-02T12:39:29.011Z"
   },
   {
    "duration": 3,
    "start_time": "2022-09-02T12:39:38.834Z"
   },
   {
    "duration": 1228,
    "start_time": "2022-09-02T12:39:38.994Z"
   },
   {
    "duration": 5,
    "start_time": "2022-09-02T12:39:43.001Z"
   },
   {
    "duration": 3,
    "start_time": "2022-09-02T12:39:43.416Z"
   },
   {
    "duration": 1299,
    "start_time": "2022-09-02T12:39:43.833Z"
   },
   {
    "duration": 11,
    "start_time": "2022-09-02T12:40:58.829Z"
   },
   {
    "duration": 5,
    "start_time": "2022-09-02T12:41:10.802Z"
   },
   {
    "duration": 1200,
    "start_time": "2022-09-02T12:41:28.722Z"
   },
   {
    "duration": 5,
    "start_time": "2022-09-02T12:42:21.171Z"
   },
   {
    "duration": 1170,
    "start_time": "2022-09-02T12:42:40.823Z"
   },
   {
    "duration": 4976,
    "start_time": "2022-09-02T12:43:50.450Z"
   },
   {
    "duration": 5,
    "start_time": "2022-09-02T12:43:57.725Z"
   },
   {
    "duration": 13856,
    "start_time": "2022-09-02T14:27:40.987Z"
   },
   {
    "duration": 3617,
    "start_time": "2022-09-02T14:28:09.509Z"
   },
   {
    "duration": 164,
    "start_time": "2022-09-02T14:28:25.005Z"
   },
   {
    "duration": 3184,
    "start_time": "2022-09-02T14:28:31.440Z"
   },
   {
    "duration": 39958,
    "start_time": "2022-09-02T14:28:39.960Z"
   },
   {
    "duration": 5,
    "start_time": "2022-09-02T14:32:04.757Z"
   },
   {
    "duration": 737,
    "start_time": "2022-09-02T14:32:11.276Z"
   },
   {
    "duration": 38526,
    "start_time": "2022-09-02T14:32:24.428Z"
   }
  ],
  "kernelspec": {
   "display_name": "Python 3 (ipykernel)",
   "language": "python",
   "name": "python3"
  },
  "language_info": {
   "codemirror_mode": {
    "name": "ipython",
    "version": 3
   },
   "file_extension": ".py",
   "mimetype": "text/x-python",
   "name": "python",
   "nbconvert_exporter": "python",
   "pygments_lexer": "ipython3",
   "version": "3.9.5"
  },
  "toc": {
   "base_numbering": 1,
   "nav_menu": {
    "height": "222px",
    "width": "236px"
   },
   "number_sections": true,
   "sideBar": true,
   "skip_h1_title": true,
   "title_cell": "Table of Contents",
   "title_sidebar": "Contents",
   "toc_cell": true,
   "toc_position": {
    "height": "calc(100% - 180px)",
    "left": "10px",
    "top": "150px",
    "width": "261.523px"
   },
   "toc_section_display": true,
   "toc_window_display": true
  }
 },
 "nbformat": 4,
 "nbformat_minor": 2
}
