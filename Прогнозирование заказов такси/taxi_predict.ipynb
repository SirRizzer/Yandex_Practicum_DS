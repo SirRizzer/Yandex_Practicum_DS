{
 "cells": [
  {
   "cell_type": "markdown",
   "metadata": {
    "toc": true
   },
   "source": [
    "<h1>Содержание<span class=\"tocSkip\"></span></h1>\n",
    "<div class=\"toc\"><ul class=\"toc-item\"><li><span><a href=\"#Подготовка\" data-toc-modified-id=\"Подготовка-1\"><span class=\"toc-item-num\">1&nbsp;&nbsp;</span>Подготовка</a></span><ul class=\"toc-item\"><li><span><a href=\"#Вывод\" data-toc-modified-id=\"Вывод-1.1\"><span class=\"toc-item-num\">1.1&nbsp;&nbsp;</span>Вывод</a></span></li></ul></li><li><span><a href=\"#Анализ\" data-toc-modified-id=\"Анализ-2\"><span class=\"toc-item-num\">2&nbsp;&nbsp;</span>Анализ</a></span><ul class=\"toc-item\"><li><span><a href=\"#Вывод\" data-toc-modified-id=\"Вывод-2.1\"><span class=\"toc-item-num\">2.1&nbsp;&nbsp;</span>Вывод</a></span></li></ul></li><li><span><a href=\"#Обучение\" data-toc-modified-id=\"Обучение-3\"><span class=\"toc-item-num\">3&nbsp;&nbsp;</span>Обучение</a></span><ul class=\"toc-item\"><li><span><a href=\"#LinearRegression\" data-toc-modified-id=\"LinearRegression-3.1\"><span class=\"toc-item-num\">3.1&nbsp;&nbsp;</span>LinearRegression</a></span></li><li><span><a href=\"#LightGBM\" data-toc-modified-id=\"LightGBM-3.2\"><span class=\"toc-item-num\">3.2&nbsp;&nbsp;</span>LightGBM</a></span></li><li><span><a href=\"#CatBoostRegressor\" data-toc-modified-id=\"CatBoostRegressor-3.3\"><span class=\"toc-item-num\">3.3&nbsp;&nbsp;</span>CatBoostRegressor</a></span></li><li><span><a href=\"#Вывод\" data-toc-modified-id=\"Вывод-3.4\"><span class=\"toc-item-num\">3.4&nbsp;&nbsp;</span>Вывод</a></span></li></ul></li><li><span><a href=\"#Тестирование\" data-toc-modified-id=\"Тестирование-4\"><span class=\"toc-item-num\">4&nbsp;&nbsp;</span>Тестирование</a></span></li></ul></div>"
   ]
  },
  {
   "cell_type": "markdown",
   "metadata": {},
   "source": [
    "#  Прогнозирование заказов такси"
   ]
  },
  {
   "cell_type": "markdown",
   "metadata": {},
   "source": [
    "Компания «Чётенькое такси» собрала исторические данные о заказах такси в аэропортах. Чтобы привлекать больше водителей в период пиковой нагрузки, нужно спрогнозировать количество заказов такси на следующий час. Постройте модель для такого предсказания.\n",
    "\n",
    "Значение метрики *RMSE* на тестовой выборке должно быть не больше 48.\n",
    "\n",
    "Вам нужно:\n",
    "\n",
    "1. Загрузить данные и выполнить их ресемплирование по одному часу.\n",
    "2. Проанализировать данные.\n",
    "3. Обучить разные модели с различными гиперпараметрами. Сделать тестовую выборку размером 10% от исходных данных.\n",
    "4. Проверить данные на тестовой выборке и сделать выводы.\n",
    "\n",
    "\n",
    "Данные лежат в файле `taxi.csv`. Количество заказов находится в столбце `num_orders` (от англ. *number of orders*, «число заказов»)."
   ]
  },
  {
   "cell_type": "markdown",
   "metadata": {},
   "source": [
    "## Подготовка"
   ]
  },
  {
   "cell_type": "code",
   "execution_count": 15,
   "metadata": {},
   "outputs": [],
   "source": [
    "import pandas as pd\n",
    "import matplotlib.pyplot as plt\n",
    "import numpy as np\n",
    "import warnings\n",
    "import time\n",
    "from sklearn.linear_model import LinearRegression\n",
    "from catboost import CatBoostRegressor\n",
    "from lightgbm import LGBMRegressor\n",
    "from sklearn.metrics import mean_squared_error as mse\n",
    "from sklearn.model_selection import TimeSeriesSplit, GridSearchCV, train_test_split\n",
    "from statsmodels.tsa.seasonal import seasonal_decompose\n",
    "import warnings\n",
    "warnings.filterwarnings(\"ignore\")"
   ]
  },
  {
   "cell_type": "code",
   "execution_count": 6,
   "metadata": {},
   "outputs": [],
   "source": [
    "data = pd.read_csv('/datasets/taxi.csv', index_col=[0], parse_dates=[0])"
   ]
  },
  {
   "cell_type": "code",
   "execution_count": 7,
   "metadata": {},
   "outputs": [],
   "source": [
    "data.sort_index(inplace=True)"
   ]
  },
  {
   "cell_type": "code",
   "execution_count": 24,
   "metadata": {},
   "outputs": [],
   "source": [
    "#Функция информации о таблицах\n",
    "def check(df):\n",
    "\n",
    "    print('Первые пять строк: \\n', df.head())\n",
    "    print('########################')\n",
    "    print('Информация о талице: \\n', df.info())\n",
    "    print('########################')\n",
    "    print('Описание данных: \\n', df.describe())\n",
    "    print('########################')\n",
    "    display(pd.DataFrame(round((df.isna().mean()*100),2), columns=['NaNs, %']).sort_values(by='NaNs, %', ascending=False).style.format(\n",
    "    '{:.2f}').background_gradient('coolwarm'))\n",
    "    print('########################')\n",
    "    print('Количество дупликатов в таблице: \\n', df.reset_index().duplicated().sum())\n",
    "    print('########################')"
   ]
  },
  {
   "cell_type": "code",
   "execution_count": 25,
   "metadata": {},
   "outputs": [
    {
     "name": "stdout",
     "output_type": "stream",
     "text": [
      "Первые пять строк: \n",
      "                      num_orders\n",
      "datetime                       \n",
      "2018-03-01 00:00:00           9\n",
      "2018-03-01 00:10:00          14\n",
      "2018-03-01 00:20:00          28\n",
      "2018-03-01 00:30:00          20\n",
      "2018-03-01 00:40:00          32\n",
      "########################\n",
      "<class 'pandas.core.frame.DataFrame'>\n",
      "DatetimeIndex: 26496 entries, 2018-03-01 00:00:00 to 2018-08-31 23:50:00\n",
      "Data columns (total 1 columns):\n",
      " #   Column      Non-Null Count  Dtype\n",
      "---  ------      --------------  -----\n",
      " 0   num_orders  26496 non-null  int64\n",
      "dtypes: int64(1)\n",
      "memory usage: 414.0 KB\n",
      "Информация о талице: \n",
      " None\n",
      "########################\n",
      "Описание данных: \n",
      "          num_orders\n",
      "count  26496.000000\n",
      "mean      14.070463\n",
      "std        9.211330\n",
      "min        0.000000\n",
      "25%        8.000000\n",
      "50%       13.000000\n",
      "75%       19.000000\n",
      "max      119.000000\n",
      "########################\n"
     ]
    },
    {
     "data": {
      "text/html": [
       "<style  type=\"text/css\" >\n",
       "#T_651b6_row0_col0{\n",
       "            background-color:  #3b4cc0;\n",
       "            color:  #f1f1f1;\n",
       "        }</style><table id=\"T_651b6_\" ><thead>    <tr>        <th class=\"blank level0\" ></th>        <th class=\"col_heading level0 col0\" >NaNs, %</th>    </tr></thead><tbody>\n",
       "                <tr>\n",
       "                        <th id=\"T_651b6_level0_row0\" class=\"row_heading level0 row0\" >num_orders</th>\n",
       "                        <td id=\"T_651b6_row0_col0\" class=\"data row0 col0\" >0.00</td>\n",
       "            </tr>\n",
       "    </tbody></table>"
      ],
      "text/plain": [
       "<pandas.io.formats.style.Styler at 0x7f9432241fa0>"
      ]
     },
     "metadata": {},
     "output_type": "display_data"
    },
    {
     "name": "stdout",
     "output_type": "stream",
     "text": [
      "########################\n",
      "Количество дупликатов в таблице: \n",
      " 0\n",
      "########################\n"
     ]
    }
   ],
   "source": [
    "check(data)"
   ]
  },
  {
   "cell_type": "code",
   "execution_count": 12,
   "metadata": {},
   "outputs": [],
   "source": [
    "df = data.resample('1H').sum()"
   ]
  },
  {
   "cell_type": "code",
   "execution_count": 13,
   "metadata": {},
   "outputs": [],
   "source": [
    "#Функция создания признаков\n",
    "def make_features(data, max_lag, rolling_mean_size):\n",
    "    frame = data.copy()\n",
    "    frame['month'] = frame.index.month\n",
    "    frame['day'] = frame.index.day\n",
    "    frame['dayofweek'] = frame.index.dayofweek\n",
    "    frame['hour'] = frame.index.hour\n",
    "    for lag in range(1, max_lag + 1):\n",
    "        frame['lag_{}'.format(lag)] = data['num_orders'].shift(lag)\n",
    "    frame['rolling_mean'] = frame['num_orders'].shift().rolling(rolling_mean_size).mean()\n",
    "    return frame\n",
    "frame = make_features(df, 7, 5)"
   ]
  },
  {
   "cell_type": "markdown",
   "metadata": {},
   "source": [
    "### Вывод"
   ]
  },
  {
   "cell_type": "markdown",
   "metadata": {},
   "source": [
    "- В данных нет пропусков, дупликатов\n",
    "- Был произведен ресемплинг 1 час\n",
    "- Созданы признаки с месяцем, днем, днем недели, часом, отстающие значения, скользящее среднее "
   ]
  },
  {
   "cell_type": "markdown",
   "metadata": {},
   "source": [
    "## Анализ"
   ]
  },
  {
   "cell_type": "code",
   "execution_count": 26,
   "metadata": {},
   "outputs": [
    {
     "name": "stdout",
     "output_type": "stream",
     "text": [
      "Первые пять строк: \n",
      "                      num_orders  month  day  dayofweek  hour  lag_1  lag_2  \\\n",
      "datetime                                                                     \n",
      "2018-03-01 00:00:00         124      3    1          3     0    NaN    NaN   \n",
      "2018-03-01 01:00:00          85      3    1          3     1  124.0    NaN   \n",
      "2018-03-01 02:00:00          71      3    1          3     2   85.0  124.0   \n",
      "2018-03-01 03:00:00          66      3    1          3     3   71.0   85.0   \n",
      "2018-03-01 04:00:00          43      3    1          3     4   66.0   71.0   \n",
      "\n",
      "                     lag_3  lag_4  lag_5  lag_6  lag_7  rolling_mean  \n",
      "datetime                                                              \n",
      "2018-03-01 00:00:00    NaN    NaN    NaN    NaN    NaN           NaN  \n",
      "2018-03-01 01:00:00    NaN    NaN    NaN    NaN    NaN           NaN  \n",
      "2018-03-01 02:00:00    NaN    NaN    NaN    NaN    NaN           NaN  \n",
      "2018-03-01 03:00:00  124.0    NaN    NaN    NaN    NaN           NaN  \n",
      "2018-03-01 04:00:00   85.0  124.0    NaN    NaN    NaN           NaN  \n",
      "########################\n",
      "<class 'pandas.core.frame.DataFrame'>\n",
      "DatetimeIndex: 4416 entries, 2018-03-01 00:00:00 to 2018-08-31 23:00:00\n",
      "Freq: H\n",
      "Data columns (total 13 columns):\n",
      " #   Column        Non-Null Count  Dtype  \n",
      "---  ------        --------------  -----  \n",
      " 0   num_orders    4416 non-null   int64  \n",
      " 1   month         4416 non-null   int64  \n",
      " 2   day           4416 non-null   int64  \n",
      " 3   dayofweek     4416 non-null   int64  \n",
      " 4   hour          4416 non-null   int64  \n",
      " 5   lag_1         4415 non-null   float64\n",
      " 6   lag_2         4414 non-null   float64\n",
      " 7   lag_3         4413 non-null   float64\n",
      " 8   lag_4         4412 non-null   float64\n",
      " 9   lag_5         4411 non-null   float64\n",
      " 10  lag_6         4410 non-null   float64\n",
      " 11  lag_7         4409 non-null   float64\n",
      " 12  rolling_mean  4411 non-null   float64\n",
      "dtypes: float64(8), int64(5)\n",
      "memory usage: 483.0 KB\n",
      "Информация о талице: \n",
      " None\n",
      "########################\n",
      "Описание данных: \n",
      "         num_orders        month          day    dayofweek        hour  \\\n",
      "count  4416.000000  4416.000000  4416.000000  4416.000000  4416.00000   \n",
      "mean     84.422781     5.505435    15.836957     3.005435    11.50000   \n",
      "std      45.023853     1.713306     8.855229     1.990684     6.92297   \n",
      "min       0.000000     3.000000     1.000000     0.000000     0.00000   \n",
      "25%      54.000000     4.000000     8.000000     1.000000     5.75000   \n",
      "50%      78.000000     5.500000    16.000000     3.000000    11.50000   \n",
      "75%     107.000000     7.000000    23.250000     5.000000    17.25000   \n",
      "max     462.000000     8.000000    31.000000     6.000000    23.00000   \n",
      "\n",
      "             lag_1        lag_2        lag_3        lag_4        lag_5  \\\n",
      "count  4415.000000  4414.000000  4413.000000  4412.000000  4411.000000   \n",
      "mean     84.395470    84.364069    84.347156    84.331369    84.319655   \n",
      "std      44.992356    44.949043    44.940088    44.932942    44.931299   \n",
      "min       0.000000     0.000000     0.000000     0.000000     0.000000   \n",
      "25%      54.000000    54.000000    54.000000    54.000000    54.000000   \n",
      "50%      78.000000    78.000000    78.000000    78.000000    78.000000   \n",
      "75%     107.000000   107.000000   107.000000   107.000000   107.000000   \n",
      "max     462.000000   462.000000   462.000000   462.000000   462.000000   \n",
      "\n",
      "             lag_6        lag_7  rolling_mean  \n",
      "count  4410.000000  4409.000000   4411.000000  \n",
      "mean     84.291837    84.261737     84.346316  \n",
      "std      44.898387    44.858959     34.297233  \n",
      "min       0.000000     0.000000     16.000000  \n",
      "25%      54.000000    54.000000     61.600000  \n",
      "50%      78.000000    78.000000     78.800000  \n",
      "75%     107.000000   107.000000    102.600000  \n",
      "max     462.000000   462.000000    286.200000  \n",
      "########################\n"
     ]
    },
    {
     "data": {
      "text/html": [
       "<style  type=\"text/css\" >\n",
       "#T_eaf5f_row0_col0{\n",
       "            background-color:  #b40426;\n",
       "            color:  #f1f1f1;\n",
       "        }#T_eaf5f_row1_col0{\n",
       "            background-color:  #dd5f4b;\n",
       "            color:  #000000;\n",
       "        }#T_eaf5f_row2_col0,#T_eaf5f_row3_col0{\n",
       "            background-color:  #f7b093;\n",
       "            color:  #000000;\n",
       "        }#T_eaf5f_row4_col0{\n",
       "            background-color:  #ecd3c5;\n",
       "            color:  #000000;\n",
       "        }#T_eaf5f_row5_col0{\n",
       "            background-color:  #ccd9ed;\n",
       "            color:  #000000;\n",
       "        }#T_eaf5f_row6_col0{\n",
       "            background-color:  #a3c2fe;\n",
       "            color:  #000000;\n",
       "        }#T_eaf5f_row7_col0{\n",
       "            background-color:  #6282ea;\n",
       "            color:  #000000;\n",
       "        }#T_eaf5f_row8_col0,#T_eaf5f_row9_col0,#T_eaf5f_row10_col0,#T_eaf5f_row11_col0,#T_eaf5f_row12_col0{\n",
       "            background-color:  #3b4cc0;\n",
       "            color:  #f1f1f1;\n",
       "        }</style><table id=\"T_eaf5f_\" ><thead>    <tr>        <th class=\"blank level0\" ></th>        <th class=\"col_heading level0 col0\" >NaNs, %</th>    </tr></thead><tbody>\n",
       "                <tr>\n",
       "                        <th id=\"T_eaf5f_level0_row0\" class=\"row_heading level0 row0\" >lag_7</th>\n",
       "                        <td id=\"T_eaf5f_row0_col0\" class=\"data row0 col0\" >0.16</td>\n",
       "            </tr>\n",
       "            <tr>\n",
       "                        <th id=\"T_eaf5f_level0_row1\" class=\"row_heading level0 row1\" >lag_6</th>\n",
       "                        <td id=\"T_eaf5f_row1_col0\" class=\"data row1 col0\" >0.14</td>\n",
       "            </tr>\n",
       "            <tr>\n",
       "                        <th id=\"T_eaf5f_level0_row2\" class=\"row_heading level0 row2\" >lag_5</th>\n",
       "                        <td id=\"T_eaf5f_row2_col0\" class=\"data row2 col0\" >0.11</td>\n",
       "            </tr>\n",
       "            <tr>\n",
       "                        <th id=\"T_eaf5f_level0_row3\" class=\"row_heading level0 row3\" >rolling_mean</th>\n",
       "                        <td id=\"T_eaf5f_row3_col0\" class=\"data row3 col0\" >0.11</td>\n",
       "            </tr>\n",
       "            <tr>\n",
       "                        <th id=\"T_eaf5f_level0_row4\" class=\"row_heading level0 row4\" >lag_4</th>\n",
       "                        <td id=\"T_eaf5f_row4_col0\" class=\"data row4 col0\" >0.09</td>\n",
       "            </tr>\n",
       "            <tr>\n",
       "                        <th id=\"T_eaf5f_level0_row5\" class=\"row_heading level0 row5\" >lag_3</th>\n",
       "                        <td id=\"T_eaf5f_row5_col0\" class=\"data row5 col0\" >0.07</td>\n",
       "            </tr>\n",
       "            <tr>\n",
       "                        <th id=\"T_eaf5f_level0_row6\" class=\"row_heading level0 row6\" >lag_2</th>\n",
       "                        <td id=\"T_eaf5f_row6_col0\" class=\"data row6 col0\" >0.05</td>\n",
       "            </tr>\n",
       "            <tr>\n",
       "                        <th id=\"T_eaf5f_level0_row7\" class=\"row_heading level0 row7\" >lag_1</th>\n",
       "                        <td id=\"T_eaf5f_row7_col0\" class=\"data row7 col0\" >0.02</td>\n",
       "            </tr>\n",
       "            <tr>\n",
       "                        <th id=\"T_eaf5f_level0_row8\" class=\"row_heading level0 row8\" >num_orders</th>\n",
       "                        <td id=\"T_eaf5f_row8_col0\" class=\"data row8 col0\" >0.00</td>\n",
       "            </tr>\n",
       "            <tr>\n",
       "                        <th id=\"T_eaf5f_level0_row9\" class=\"row_heading level0 row9\" >month</th>\n",
       "                        <td id=\"T_eaf5f_row9_col0\" class=\"data row9 col0\" >0.00</td>\n",
       "            </tr>\n",
       "            <tr>\n",
       "                        <th id=\"T_eaf5f_level0_row10\" class=\"row_heading level0 row10\" >day</th>\n",
       "                        <td id=\"T_eaf5f_row10_col0\" class=\"data row10 col0\" >0.00</td>\n",
       "            </tr>\n",
       "            <tr>\n",
       "                        <th id=\"T_eaf5f_level0_row11\" class=\"row_heading level0 row11\" >dayofweek</th>\n",
       "                        <td id=\"T_eaf5f_row11_col0\" class=\"data row11 col0\" >0.00</td>\n",
       "            </tr>\n",
       "            <tr>\n",
       "                        <th id=\"T_eaf5f_level0_row12\" class=\"row_heading level0 row12\" >hour</th>\n",
       "                        <td id=\"T_eaf5f_row12_col0\" class=\"data row12 col0\" >0.00</td>\n",
       "            </tr>\n",
       "    </tbody></table>"
      ],
      "text/plain": [
       "<pandas.io.formats.style.Styler at 0x7f94a8f996d0>"
      ]
     },
     "metadata": {},
     "output_type": "display_data"
    },
    {
     "name": "stdout",
     "output_type": "stream",
     "text": [
      "########################\n",
      "Количество дупликатов в таблице: \n",
      " 0\n",
      "########################\n"
     ]
    }
   ],
   "source": [
    "check(frame)"
   ]
  },
  {
   "cell_type": "code",
   "execution_count": 9,
   "metadata": {},
   "outputs": [
    {
     "data": {
      "image/png": "[encoded data removed]",
      "text/plain": [
       "<Figure size 432x720 with 3 Axes>"
      ]
     },
     "metadata": {
      "needs_background": "light"
     },
     "output_type": "display_data"
    }
   ],
   "source": [
    "#Построим графики количества заказов\n",
    "plt.figure(figsize=(6,10))\n",
    "plt.subplot(3,1,1)\n",
    "frame.groupby('month')['num_orders'].sum().plot();\n",
    "plt.subplot(3,1,2)\n",
    "frame.groupby('dayofweek')['num_orders'].sum().plot();\n",
    "plt.subplot(3,1,3)\n",
    "frame.groupby('hour')['num_orders'].sum().plot();"
   ]
  },
  {
   "cell_type": "code",
   "execution_count": 10,
   "metadata": {},
   "outputs": [],
   "source": [
    "decomposed = seasonal_decompose(df) "
   ]
  },
  {
   "cell_type": "code",
   "execution_count": 11,
   "metadata": {},
   "outputs": [
    {
     "data": {
      "image/png": "[encoded data removed]",
      "text/plain": [
       "<Figure size 432x288 with 1 Axes>"
      ]
     },
     "metadata": {
      "needs_background": "light"
     },
     "output_type": "display_data"
    }
   ],
   "source": [
    "decomposed.trend.plot(ax=plt.gca())\n",
    "plt.title('тренд')\n",
    "plt.tight_layout()"
   ]
  },
  {
   "cell_type": "code",
   "execution_count": 12,
   "metadata": {
    "scrolled": true
   },
   "outputs": [
    {
     "data": {
      "image/png": "[encoded data removed]",
      "text/plain": [
       "<Figure size 432x288 with 1 Axes>"
      ]
     },
     "metadata": {
      "needs_background": "light"
     },
     "output_type": "display_data"
    }
   ],
   "source": [
    "decomposed.resid.plot(ax=plt.gca())\n",
    "plt.title('остаток декомпозиции')\n",
    "plt.tight_layout()"
   ]
  },
  {
   "cell_type": "code",
   "execution_count": 13,
   "metadata": {},
   "outputs": [
    {
     "data": {
      "image/png": "[encoded data removed]",
      "text/plain": [
       "<Figure size 432x288 with 1 Axes>"
      ]
     },
     "metadata": {
      "needs_background": "light"
     },
     "output_type": "display_data"
    }
   ],
   "source": [
    "decomposed.seasonal['2018-03-01':'2018-03-15'].plot(ax=plt.gca())\n",
    "plt.title('Сезонность')\n",
    "plt.tight_layout()"
   ]
  },
  {
   "cell_type": "markdown",
   "metadata": {},
   "source": [
    "### Вывод"
   ]
  },
  {
   "cell_type": "markdown",
   "metadata": {},
   "source": [
    "- Временной ряд - стационарный\n",
    "- Количество заказов к осени увеличивается\n",
    "- Пик заказов в 20:00-24:00\n",
    "- Самый нагруженный день - пятница"
   ]
  },
  {
   "cell_type": "markdown",
   "metadata": {},
   "source": [
    "## Обучение"
   ]
  },
  {
   "cell_type": "code",
   "execution_count": 14,
   "metadata": {},
   "outputs": [],
   "source": [
    "train, test = train_test_split(frame, test_size=0.1, shuffle=False)"
   ]
  },
  {
   "cell_type": "code",
   "execution_count": 15,
   "metadata": {},
   "outputs": [
    {
     "name": "stdout",
     "output_type": "stream",
     "text": [
      "2018-03-01 00:00:00 2018-08-13 13:00:00\n",
      "2018-08-13 14:00:00 2018-08-31 23:00:00\n"
     ]
    }
   ],
   "source": [
    "#Проверка выборок\n",
    "print(train.index.min(), train.index.max())\n",
    "print(test.index.min(), test.index.max())"
   ]
  },
  {
   "cell_type": "code",
   "execution_count": 16,
   "metadata": {},
   "outputs": [
    {
     "name": "stdout",
     "output_type": "stream",
     "text": [
      "RMSE: 46.5265759475679\n"
     ]
    }
   ],
   "source": [
    "#Прогноз модели по прошлом ряду\n",
    "pred_previous = np.ones(test.shape)*test.shift(fill_value = train.iloc[-1]['num_orders'])\n",
    "print(\"RMSE:\", np.sqrt(mse(test, pred_previous)))"
   ]
  },
  {
   "cell_type": "code",
   "execution_count": 17,
   "metadata": {},
   "outputs": [],
   "source": [
    "train_features = train.drop(['num_orders'], axis =1).dropna()\n",
    "train_target = train.iloc[len(train)-len(train_features):]['num_orders']\n",
    "test_features = test.drop(['num_orders'], axis =1)\n",
    "test_target = test['num_orders']"
   ]
  },
  {
   "cell_type": "code",
   "execution_count": 18,
   "metadata": {},
   "outputs": [],
   "source": [
    "def learn(mod, params):\n",
    "    if mod == CatBoostRegressor:\n",
    "        model = CatBoostRegressor(logging_level='Silent')\n",
    "    else:\n",
    "        model = mod()\n",
    "    model.fit(train_features, train_target)\n",
    "    pred = model.predict(train_features)\n",
    "    rmse = np.sqrt(mse(train_target, pred))\n",
    "    print('RMSE base {}: {}'.format(model, '%.2f' % rmse))\n",
    "    parameters = params\n",
    "    tscv = TimeSeriesSplit(n_splits = 4)\n",
    "    grid = GridSearchCV(model, parameters, cv = tscv, scoring = 'neg_mean_squared_error', verbose = False)\n",
    "    grid.fit(train_features, train_target)\n",
    "    if mod == CatBoostRegressor:\n",
    "         model_tuned = mod(**grid.best_params_, logging_level='Silent').fit(train_features, train_target)\n",
    "    else:\n",
    "        model_tuned = mod(**grid.best_params_).fit(train_features, train_target)\n",
    "    tuned_pred = model_tuned.predict(train_features)\n",
    "    rmse_tuned = np.sqrt(mse(train_target, tuned_pred))\n",
    "    print()\n",
    "    print(\"RMSE tuned {}: {}\".format(model, '%.2f' % rmse_tuned))\n",
    "    print()\n",
    "    try:\n",
    "        importances = pd.DataFrame(data={\n",
    "        'Attribute': train_features.columns,\n",
    "        'Importance': model_tuned.feature_importances_\n",
    "        })\n",
    "        importances = importances.sort_values(by='Importance', ascending=False)\n",
    "        plt.bar(x=importances['Attribute'], height=importances['Importance'], color='#087E8B')\n",
    "        plt.title('Важность признаков', size=20)\n",
    "        plt.xticks(rotation='vertical')\n",
    "        plt.show()\n",
    "    except AttributeError:\n",
    "        importances = pd.DataFrame(data={\n",
    "        'Attribute': train_features.columns,\n",
    "        'Importance': model_tuned.coef_\n",
    "        })\n",
    "        importances = importances.sort_values(by='Importance', ascending=False)\n",
    "        plt.bar(x=importances['Attribute'], height=importances['Importance'], color='#087E8B')\n",
    "        plt.title('Важность признаков', size=20)\n",
    "        plt.xticks(rotation='vertical')\n",
    "        plt.show()\n",
    "    return model, model_tuned, rmse, rmse_tuned"
   ]
  },
  {
   "cell_type": "markdown",
   "metadata": {},
   "source": [
    "### LinearRegression"
   ]
  },
  {
   "cell_type": "code",
   "execution_count": 19,
   "metadata": {},
   "outputs": [
    {
     "name": "stdout",
     "output_type": "stream",
     "text": [
      "RMSE base LinearRegression(): 30.42\n",
      "\n",
      "RMSE tuned LinearRegression(): 30.44\n",
      "\n"
     ]
    },
    {
     "data": {
      "image/png": "[encoded data removed]",
      "text/plain": [
       "<Figure size 432x288 with 1 Axes>"
      ]
     },
     "metadata": {
      "needs_background": "light"
     },
     "output_type": "display_data"
    },
    {
     "name": "stdout",
     "output_type": "stream",
     "text": [
      "CPU times: user 810 ms, sys: 1.35 s, total: 2.16 s\n",
      "Wall time: 2.18 s\n"
     ]
    }
   ],
   "source": [
    "%%time\n",
    "lr_model, lr_model_tuned, lr_rmse, lr_rmse_tuned = learn(LinearRegression, {'fit_intercept':[True,False], 'normalize':[True,False], 'copy_X':[True, False]})"
   ]
  },
  {
   "cell_type": "markdown",
   "metadata": {},
   "source": [
    "### LightGBM"
   ]
  },
  {
   "cell_type": "code",
   "execution_count": 20,
   "metadata": {},
   "outputs": [
    {
     "name": "stdout",
     "output_type": "stream",
     "text": [
      "RMSE base LGBMRegressor(): 14.41\n",
      "\n",
      "RMSE tuned LGBMRegressor(): 16.70\n",
      "\n"
     ]
    },
    {
     "data": {
      "image/png": "[encoded data removed]",
      "text/plain": [
       "<Figure size 432x288 with 1 Axes>"
      ]
     },
     "metadata": {
      "needs_background": "light"
     },
     "output_type": "display_data"
    },
    {
     "name": "stdout",
     "output_type": "stream",
     "text": [
      "CPU times: user 18.8 s, sys: 0 ns, total: 18.8 s\n",
      "Wall time: 20.3 s\n"
     ]
    }
   ],
   "source": [
    "%%time\n",
    "lgb_model, lgb_model_tuned, lgb_rmse, lgb_rmse_tuned = learn(LGBMRegressor, {\"n_estimators\": [100, 200],\n",
    "               \"max_depth\": [2, 4, 6]\n",
    "              })"
   ]
  },
  {
   "cell_type": "markdown",
   "metadata": {},
   "source": [
    "### CatBoostRegressor"
   ]
  },
  {
   "cell_type": "code",
   "execution_count": 21,
   "metadata": {
    "scrolled": true
   },
   "outputs": [
    {
     "name": "stdout",
     "output_type": "stream",
     "text": [
      "RMSE base <catboost.core.CatBoostRegressor object at 0x7ff0e65d0ca0>: 12.89\n",
      "\n",
      "RMSE tuned <catboost.core.CatBoostRegressor object at 0x7ff0e65d0ca0>: 14.57\n",
      "\n"
     ]
    },
    {
     "data": {
      "image/png": "[encoded data removed]",
      "text/plain": [
       "<Figure size 432x288 with 1 Axes>"
      ]
     },
     "metadata": {
      "needs_background": "light"
     },
     "output_type": "display_data"
    },
    {
     "name": "stdout",
     "output_type": "stream",
     "text": [
      "CPU times: user 1min 37s, sys: 2.71 s, total: 1min 39s\n",
      "Wall time: 2min 4s\n"
     ]
    }
   ],
   "source": [
    "%%time\n",
    "cat_model, cat_model_tuned, cat_rmse, cat_rmse_tuned = learn(CatBoostRegressor, {'iterations': [1000],\n",
    "        'learning_rate': [0.03, 0.1],\n",
    "        'depth': [6, 8],\n",
    "        'l2_leaf_reg': [1, 3]                                                                                \n",
    "              })"
   ]
  },
  {
   "cell_type": "markdown",
   "metadata": {},
   "source": [
    "### Вывод"
   ]
  },
  {
   "cell_type": "code",
   "execution_count": 22,
   "metadata": {},
   "outputs": [
    {
     "data": {
      "text/plain": [
       "(30.42207274788726,\n",
       " 30.435723057747825,\n",
       " 14.412259849424178,\n",
       " 16.69712755232183,\n",
       " 12.89141797962129,\n",
       " 14.567500005602714)"
      ]
     },
     "execution_count": 22,
     "metadata": {},
     "output_type": "execute_result"
    }
   ],
   "source": [
    "lr_rmse, lr_rmse_tuned, lgb_rmse, lgb_rmse_tuned, cat_rmse, cat_rmse_tuned"
   ]
  },
  {
   "cell_type": "markdown",
   "metadata": {},
   "source": [
    "Наименьшее RMSE у базовой модели CatBoostRegressor, поэтому тестировать будем её"
   ]
  },
  {
   "cell_type": "markdown",
   "metadata": {},
   "source": [
    "## Тестирование"
   ]
  },
  {
   "cell_type": "code",
   "execution_count": 23,
   "metadata": {},
   "outputs": [
    {
     "name": "stdout",
     "output_type": "stream",
     "text": [
      "RMSE <catboost.core.CatBoostRegressor object at 0x7ff0e654ed60>: 43.42\n"
     ]
    }
   ],
   "source": [
    "#RMSE модели с гипермараметрами\n",
    "fin_pred_tun = cat_model_tuned.predict(test_features)\n",
    "rmse_tun = np.sqrt(mse(test_target, fin_pred_tun))\n",
    "print('RMSE {}: {}'.format(cat_model_tuned, '%.2f' % rmse_tun))"
   ]
  },
  {
   "cell_type": "code",
   "execution_count": 24,
   "metadata": {},
   "outputs": [
    {
     "name": "stdout",
     "output_type": "stream",
     "text": [
      "RMSE <catboost.core.CatBoostRegressor object at 0x7ff0e65d0ca0>: 44.77\n"
     ]
    }
   ],
   "source": [
    "#RMSE базовой модели\n",
    "fin_pred = cat_model.predict(test_features)\n",
    "rmse = np.sqrt(mse(test_target, fin_pred))\n",
    "print('RMSE {}: {}'.format(cat_model, '%.2f' % rmse))"
   ]
  },
  {
   "cell_type": "code",
   "execution_count": 25,
   "metadata": {},
   "outputs": [
    {
     "data": {
      "image/png": "[encoded data removed]",
      "text/plain": [
       "<Figure size 1440x360 with 1 Axes>"
      ]
     },
     "metadata": {
      "needs_background": "light"
     },
     "output_type": "display_data"
    }
   ],
   "source": [
    "fig, ax = plt.subplots(figsize=(20, 5))\n",
    "ax.plot(pd.Series(fin_pred_tun, index = test_target.index), label='График предсказанных рядов')\n",
    "ax.plot(test_target, label='График исходного ряда')\n",
    "legend = ax.legend(loc='upper right', shadow=True, fontsize= 12)"
   ]
  }
 ],
 "metadata": {
  "ExecuteTimeLog": [
   {
    "duration": 1656,
    "start_time": "2022-09-06T15:34:18.977Z"
   },
   {
    "duration": 144,
    "start_time": "2022-09-06T15:34:42.604Z"
   },
   {
    "duration": 18232,
    "start_time": "2022-09-06T15:34:54.193Z"
   },
   {
    "duration": 14,
    "start_time": "2022-09-06T15:35:28.721Z"
   },
   {
    "duration": 1537,
    "start_time": "2022-09-06T15:35:33.994Z"
   },
   {
    "duration": 3259,
    "start_time": "2022-09-06T15:35:38.967Z"
   },
   {
    "duration": 82,
    "start_time": "2022-09-06T15:38:36.119Z"
   },
   {
    "duration": 16,
    "start_time": "2022-09-06T15:38:45.009Z"
   },
   {
    "duration": 15,
    "start_time": "2022-09-06T15:38:48.551Z"
   },
   {
    "duration": 47,
    "start_time": "2022-09-06T15:39:49.249Z"
   },
   {
    "duration": 3,
    "start_time": "2022-09-06T15:39:59.414Z"
   },
   {
    "duration": 5,
    "start_time": "2022-09-06T15:40:05.612Z"
   },
   {
    "duration": 3,
    "start_time": "2022-09-06T15:40:28.971Z"
   },
   {
    "duration": 5,
    "start_time": "2022-09-06T15:40:31.342Z"
   },
   {
    "duration": 7,
    "start_time": "2022-09-06T15:41:04.141Z"
   },
   {
    "duration": 12,
    "start_time": "2022-09-06T15:41:08.371Z"
   },
   {
    "duration": 2583,
    "start_time": "2022-09-06T15:41:31.756Z"
   },
   {
    "duration": 254,
    "start_time": "2022-09-06T15:42:45.495Z"
   },
   {
    "duration": 95,
    "start_time": "2022-09-06T15:42:55.319Z"
   },
   {
    "duration": 219,
    "start_time": "2022-09-06T15:42:59.607Z"
   },
   {
    "duration": 15,
    "start_time": "2022-09-06T15:44:18.332Z"
   },
   {
    "duration": 35,
    "start_time": "2022-09-06T15:44:45.521Z"
   },
   {
    "duration": 24,
    "start_time": "2022-09-06T15:44:50.430Z"
   },
   {
    "duration": 11,
    "start_time": "2022-09-06T15:45:12.284Z"
   },
   {
    "duration": 604,
    "start_time": "2022-09-06T15:45:13.885Z"
   },
   {
    "duration": 345,
    "start_time": "2022-09-06T15:45:30.714Z"
   },
   {
    "duration": 366,
    "start_time": "2022-09-06T15:45:44.362Z"
   },
   {
    "duration": 13411,
    "start_time": "2022-09-07T12:20:18.492Z"
   },
   {
    "duration": 2195,
    "start_time": "2022-09-07T12:28:20.415Z"
   },
   {
    "duration": 148,
    "start_time": "2022-09-07T12:28:22.612Z"
   },
   {
    "duration": 3,
    "start_time": "2022-09-07T12:28:23.161Z"
   },
   {
    "duration": 2745,
    "start_time": "2022-09-07T12:28:25.238Z"
   },
   {
    "duration": 2366,
    "start_time": "2022-09-07T12:28:44.731Z"
   },
   {
    "duration": 142,
    "start_time": "2022-09-07T12:29:25.497Z"
   },
   {
    "duration": 7,
    "start_time": "2022-09-07T12:29:30.746Z"
   },
   {
    "duration": 6,
    "start_time": "2022-09-07T12:29:32.397Z"
   },
   {
    "duration": 10,
    "start_time": "2022-09-07T12:30:01.400Z"
   },
   {
    "duration": 7,
    "start_time": "2022-09-07T12:30:07.949Z"
   },
   {
    "duration": 9,
    "start_time": "2022-09-07T12:30:11.205Z"
   },
   {
    "duration": 116,
    "start_time": "2022-09-07T12:30:33.862Z"
   },
   {
    "duration": 2053,
    "start_time": "2022-09-07T12:31:04.274Z"
   },
   {
    "duration": 7,
    "start_time": "2022-09-07T12:31:21.390Z"
   },
   {
    "duration": 291,
    "start_time": "2022-09-07T12:31:22.513Z"
   },
   {
    "duration": 415,
    "start_time": "2022-09-07T12:31:26.309Z"
   },
   {
    "duration": 10,
    "start_time": "2022-09-07T12:36:55.821Z"
   },
   {
    "duration": 10,
    "start_time": "2022-09-07T12:37:12.790Z"
   },
   {
    "duration": 209,
    "start_time": "2022-09-07T12:37:45.229Z"
   },
   {
    "duration": 184,
    "start_time": "2022-09-07T12:39:36.531Z"
   },
   {
    "duration": 309,
    "start_time": "2022-09-07T12:40:12.325Z"
   },
   {
    "duration": 678,
    "start_time": "2022-09-07T12:42:07.534Z"
   },
   {
    "duration": 242,
    "start_time": "2022-09-07T12:44:27.738Z"
   },
   {
    "duration": 2005,
    "start_time": "2022-09-07T12:47:07.685Z"
   },
   {
    "duration": 1823,
    "start_time": "2022-09-07T12:47:09.692Z"
   },
   {
    "duration": 46,
    "start_time": "2022-09-07T12:47:11.517Z"
   },
   {
    "duration": 2,
    "start_time": "2022-09-07T12:47:11.565Z"
   },
   {
    "duration": 2458,
    "start_time": "2022-09-07T12:47:11.568Z"
   },
   {
    "duration": 7,
    "start_time": "2022-09-07T12:47:14.028Z"
   },
   {
    "duration": 2056,
    "start_time": "2022-09-07T12:47:14.037Z"
   },
   {
    "duration": 6,
    "start_time": "2022-09-07T12:47:16.095Z"
   },
   {
    "duration": 307,
    "start_time": "2022-09-07T12:47:16.102Z"
   },
   {
    "duration": 491,
    "start_time": "2022-09-07T12:47:16.411Z"
   },
   {
    "duration": 3,
    "start_time": "2022-09-07T12:47:16.904Z"
   },
   {
    "duration": 7,
    "start_time": "2022-09-07T12:47:16.908Z"
   },
   {
    "duration": 142,
    "start_time": "2022-09-07T12:48:49.790Z"
   },
   {
    "duration": 12,
    "start_time": "2022-09-07T12:49:28.165Z"
   },
   {
    "duration": 4,
    "start_time": "2022-09-07T12:49:39.490Z"
   },
   {
    "duration": 7,
    "start_time": "2022-09-07T12:49:53.086Z"
   },
   {
    "duration": 3,
    "start_time": "2022-09-07T12:51:13.869Z"
   },
   {
    "duration": 9,
    "start_time": "2022-09-07T12:51:17.434Z"
   },
   {
    "duration": 11,
    "start_time": "2022-09-07T12:54:14.726Z"
   },
   {
    "duration": 18,
    "start_time": "2022-09-07T12:54:23.341Z"
   },
   {
    "duration": 13,
    "start_time": "2022-09-07T12:55:07.773Z"
   },
   {
    "duration": 14,
    "start_time": "2022-09-07T12:55:21.781Z"
   },
   {
    "duration": 6,
    "start_time": "2022-09-07T12:55:34.473Z"
   },
   {
    "duration": 125,
    "start_time": "2022-09-07T12:55:39.861Z"
   },
   {
    "duration": 6,
    "start_time": "2022-09-07T12:55:51.453Z"
   },
   {
    "duration": 115,
    "start_time": "2022-09-07T12:55:58.489Z"
   },
   {
    "duration": 126,
    "start_time": "2022-09-07T12:56:03.576Z"
   },
   {
    "duration": 114,
    "start_time": "2022-09-07T12:56:07.665Z"
   },
   {
    "duration": 201,
    "start_time": "2022-09-07T12:56:10.460Z"
   },
   {
    "duration": 14,
    "start_time": "2022-09-07T12:56:44.222Z"
   },
   {
    "duration": 189,
    "start_time": "2022-09-07T12:57:46.510Z"
   },
   {
    "duration": 96,
    "start_time": "2022-09-07T12:58:01.037Z"
   },
   {
    "duration": 92,
    "start_time": "2022-09-07T12:58:09.113Z"
   },
   {
    "duration": 96,
    "start_time": "2022-09-07T12:58:26.248Z"
   },
   {
    "duration": 95,
    "start_time": "2022-09-07T12:59:07.681Z"
   },
   {
    "duration": 97,
    "start_time": "2022-09-07T12:59:19.690Z"
   },
   {
    "duration": 103,
    "start_time": "2022-09-07T12:59:41.581Z"
   },
   {
    "duration": 8,
    "start_time": "2022-09-07T13:00:10.091Z"
   },
   {
    "duration": 98,
    "start_time": "2022-09-07T13:00:14.773Z"
   },
   {
    "duration": 118,
    "start_time": "2022-09-07T13:00:26.410Z"
   },
   {
    "duration": 10,
    "start_time": "2022-09-07T13:00:51.565Z"
   },
   {
    "duration": 135,
    "start_time": "2022-09-07T13:00:59.741Z"
   },
   {
    "duration": 205,
    "start_time": "2022-09-07T13:01:11.461Z"
   },
   {
    "duration": 99,
    "start_time": "2022-09-07T13:01:19.101Z"
   },
   {
    "duration": 134,
    "start_time": "2022-09-07T13:01:24.365Z"
   },
   {
    "duration": 93,
    "start_time": "2022-09-07T13:01:37.921Z"
   },
   {
    "duration": 119,
    "start_time": "2022-09-07T13:01:42.937Z"
   },
   {
    "duration": 15,
    "start_time": "2022-09-07T13:01:53.101Z"
   },
   {
    "duration": 16,
    "start_time": "2022-09-07T13:01:57.568Z"
   },
   {
    "duration": 133,
    "start_time": "2022-09-07T13:02:08.557Z"
   },
   {
    "duration": 93,
    "start_time": "2022-09-07T13:02:12.029Z"
   },
   {
    "duration": 153,
    "start_time": "2022-09-07T13:02:15.221Z"
   },
   {
    "duration": 166,
    "start_time": "2022-09-07T13:02:39.518Z"
   },
   {
    "duration": 226,
    "start_time": "2022-09-07T13:02:49.865Z"
   },
   {
    "duration": 253,
    "start_time": "2022-09-07T13:05:24.801Z"
   },
   {
    "duration": 321,
    "start_time": "2022-09-07T13:05:37.190Z"
   },
   {
    "duration": 286,
    "start_time": "2022-09-07T13:05:46.649Z"
   },
   {
    "duration": 4,
    "start_time": "2022-09-07T13:09:17.581Z"
   },
   {
    "duration": 8,
    "start_time": "2022-09-07T13:09:33.654Z"
   },
   {
    "duration": 4,
    "start_time": "2022-09-07T13:11:20.189Z"
   },
   {
    "duration": 188,
    "start_time": "2022-09-07T13:11:40.945Z"
   },
   {
    "duration": 87,
    "start_time": "2022-09-07T13:12:36.570Z"
   },
   {
    "duration": 6,
    "start_time": "2022-09-07T13:12:41.625Z"
   },
   {
    "duration": 10,
    "start_time": "2022-09-07T13:12:49.238Z"
   },
   {
    "duration": 10,
    "start_time": "2022-09-07T13:12:56.898Z"
   },
   {
    "duration": 25,
    "start_time": "2022-09-07T13:13:01.656Z"
   },
   {
    "duration": 9,
    "start_time": "2022-09-07T13:13:16.693Z"
   },
   {
    "duration": 5,
    "start_time": "2022-09-07T13:13:36.905Z"
   },
   {
    "duration": 4,
    "start_time": "2022-09-07T13:13:37.541Z"
   },
   {
    "duration": 12,
    "start_time": "2022-09-07T13:13:38.310Z"
   },
   {
    "duration": 17,
    "start_time": "2022-09-07T13:13:41.275Z"
   },
   {
    "duration": 32,
    "start_time": "2022-09-07T13:14:21.849Z"
   },
   {
    "duration": 19,
    "start_time": "2022-09-07T13:14:25.077Z"
   },
   {
    "duration": 5,
    "start_time": "2022-09-07T13:14:36.407Z"
   },
   {
    "duration": 20,
    "start_time": "2022-09-07T13:14:44.857Z"
   },
   {
    "duration": 10,
    "start_time": "2022-09-07T13:15:36.742Z"
   },
   {
    "duration": 16,
    "start_time": "2022-09-07T13:15:37.829Z"
   },
   {
    "duration": 17,
    "start_time": "2022-09-07T13:16:04.045Z"
   },
   {
    "duration": 17,
    "start_time": "2022-09-07T13:16:10.873Z"
   },
   {
    "duration": 3,
    "start_time": "2022-09-07T13:16:43.747Z"
   },
   {
    "duration": 16,
    "start_time": "2022-09-07T13:16:54.598Z"
   },
   {
    "duration": 22,
    "start_time": "2022-09-07T13:17:06.033Z"
   },
   {
    "duration": 5,
    "start_time": "2022-09-07T13:17:14.602Z"
   },
   {
    "duration": 17,
    "start_time": "2022-09-07T13:17:28.189Z"
   },
   {
    "duration": 6,
    "start_time": "2022-09-07T13:18:13.894Z"
   },
   {
    "duration": 17,
    "start_time": "2022-09-07T13:18:17.529Z"
   },
   {
    "duration": 5,
    "start_time": "2022-09-07T13:18:24.434Z"
   },
   {
    "duration": 7,
    "start_time": "2022-09-07T13:18:30.895Z"
   },
   {
    "duration": 9,
    "start_time": "2022-09-07T13:18:56.941Z"
   },
   {
    "duration": 8,
    "start_time": "2022-09-07T13:18:57.505Z"
   },
   {
    "duration": 7,
    "start_time": "2022-09-07T13:19:53.954Z"
   },
   {
    "duration": 12,
    "start_time": "2022-09-07T13:28:31.868Z"
   },
   {
    "duration": 4,
    "start_time": "2022-09-07T13:28:58.331Z"
   },
   {
    "duration": 64,
    "start_time": "2022-09-07T13:29:03.199Z"
   },
   {
    "duration": 7,
    "start_time": "2022-09-07T13:32:06.824Z"
   },
   {
    "duration": 13,
    "start_time": "2022-09-07T13:32:07.456Z"
   },
   {
    "duration": 4,
    "start_time": "2022-09-07T13:32:23.216Z"
   },
   {
    "duration": 135,
    "start_time": "2022-09-07T13:32:37.712Z"
   },
   {
    "duration": 9,
    "start_time": "2022-09-07T13:32:46.517Z"
   },
   {
    "duration": 6,
    "start_time": "2022-09-07T13:32:47.411Z"
   },
   {
    "duration": 128,
    "start_time": "2022-09-07T13:32:48.204Z"
   },
   {
    "duration": 78,
    "start_time": "2022-09-07T13:33:09.447Z"
   },
   {
    "duration": 113,
    "start_time": "2022-09-07T13:33:19.196Z"
   },
   {
    "duration": 1975,
    "start_time": "2022-09-07T13:33:23.980Z"
   },
   {
    "duration": 7,
    "start_time": "2022-09-07T13:33:51.122Z"
   },
   {
    "duration": 8,
    "start_time": "2022-09-07T13:34:05.508Z"
   },
   {
    "duration": 3,
    "start_time": "2022-09-07T13:34:17.636Z"
   },
   {
    "duration": 12,
    "start_time": "2022-09-07T13:34:50.424Z"
   },
   {
    "duration": 13,
    "start_time": "2022-09-07T13:34:59.876Z"
   },
   {
    "duration": 4,
    "start_time": "2022-09-07T13:35:15.780Z"
   },
   {
    "duration": 264,
    "start_time": "2022-09-07T13:35:22.699Z"
   },
   {
    "duration": 714,
    "start_time": "2022-09-07T13:36:24.741Z"
   },
   {
    "duration": 157,
    "start_time": "2022-09-07T13:37:05.410Z"
   },
   {
    "duration": 6237,
    "start_time": "2022-09-07T13:37:15.124Z"
   },
   {
    "duration": 552,
    "start_time": "2022-09-07T13:37:38.013Z"
   },
   {
    "duration": 46623,
    "start_time": "2022-09-07T13:37:52.337Z"
   },
   {
    "duration": 476,
    "start_time": "2022-09-07T13:38:59.584Z"
   },
   {
    "duration": 13,
    "start_time": "2022-09-07T13:39:01.793Z"
   },
   {
    "duration": 4,
    "start_time": "2022-09-07T13:39:08.009Z"
   },
   {
    "duration": 10,
    "start_time": "2022-09-07T13:39:24.917Z"
   },
   {
    "duration": 5,
    "start_time": "2022-09-07T13:39:36.929Z"
   },
   {
    "duration": 114,
    "start_time": "2022-09-07T13:39:43.913Z"
   },
   {
    "duration": 5,
    "start_time": "2022-09-07T13:45:43.385Z"
   },
   {
    "duration": 7,
    "start_time": "2022-09-07T13:45:43.423Z"
   },
   {
    "duration": 2398,
    "start_time": "2022-09-07T13:46:02.961Z"
   },
   {
    "duration": 5,
    "start_time": "2022-09-07T13:46:29.518Z"
   },
   {
    "duration": 2266,
    "start_time": "2022-09-07T13:46:30.094Z"
   },
   {
    "duration": 4,
    "start_time": "2022-09-07T13:47:05.898Z"
   },
   {
    "duration": 6,
    "start_time": "2022-09-07T13:47:26.822Z"
   },
   {
    "duration": 2038,
    "start_time": "2022-09-07T13:47:27.320Z"
   },
   {
    "duration": 5,
    "start_time": "2022-09-07T13:47:38.670Z"
   },
   {
    "duration": 2170,
    "start_time": "2022-09-07T13:47:39.186Z"
   },
   {
    "duration": 4,
    "start_time": "2022-09-07T13:48:29.643Z"
   },
   {
    "duration": 2166,
    "start_time": "2022-09-07T13:48:30.390Z"
   },
   {
    "duration": 6,
    "start_time": "2022-09-07T13:49:59.279Z"
   },
   {
    "duration": 2224,
    "start_time": "2022-09-07T13:49:59.733Z"
   },
   {
    "duration": 6,
    "start_time": "2022-09-07T13:51:12.894Z"
   },
   {
    "duration": 2961,
    "start_time": "2022-09-07T13:51:13.605Z"
   },
   {
    "duration": 7,
    "start_time": "2022-09-07T13:52:52.950Z"
   },
   {
    "duration": 2481,
    "start_time": "2022-09-07T13:52:53.689Z"
   },
   {
    "duration": 6,
    "start_time": "2022-09-07T13:53:23.538Z"
   },
   {
    "duration": 2534,
    "start_time": "2022-09-07T13:53:24.344Z"
   },
   {
    "duration": 6,
    "start_time": "2022-09-07T13:53:34.962Z"
   },
   {
    "duration": 2645,
    "start_time": "2022-09-07T13:53:37.417Z"
   },
   {
    "duration": 7,
    "start_time": "2022-09-07T13:54:15.686Z"
   },
   {
    "duration": 2112,
    "start_time": "2022-09-07T13:54:16.234Z"
   },
   {
    "duration": 3,
    "start_time": "2022-09-07T13:54:33.898Z"
   },
   {
    "duration": 3,
    "start_time": "2022-09-07T13:54:55.894Z"
   },
   {
    "duration": 7,
    "start_time": "2022-09-07T13:55:20.010Z"
   },
   {
    "duration": 2277,
    "start_time": "2022-09-07T13:55:20.377Z"
   },
   {
    "duration": 134,
    "start_time": "2022-09-07T13:55:45.642Z"
   },
   {
    "duration": 80,
    "start_time": "2022-09-07T13:55:55.478Z"
   },
   {
    "duration": 82,
    "start_time": "2022-09-07T13:56:54.558Z"
   },
   {
    "duration": 114,
    "start_time": "2022-09-07T13:57:09.661Z"
   },
   {
    "duration": 7,
    "start_time": "2022-09-07T13:57:23.654Z"
   },
   {
    "duration": 2502,
    "start_time": "2022-09-07T13:57:24.366Z"
   },
   {
    "duration": 6,
    "start_time": "2022-09-07T13:58:22.031Z"
   },
   {
    "duration": 2199,
    "start_time": "2022-09-07T13:58:22.730Z"
   },
   {
    "duration": 7,
    "start_time": "2022-09-07T13:58:34.066Z"
   },
   {
    "duration": 2369,
    "start_time": "2022-09-07T13:58:35.126Z"
   },
   {
    "duration": 122,
    "start_time": "2022-09-07T13:59:41.826Z"
   },
   {
    "duration": 7,
    "start_time": "2022-09-07T14:00:00.638Z"
   },
   {
    "duration": 109,
    "start_time": "2022-09-07T14:00:02.050Z"
   },
   {
    "duration": 7,
    "start_time": "2022-09-07T14:00:10.349Z"
   },
   {
    "duration": 2138,
    "start_time": "2022-09-07T14:00:11.230Z"
   },
   {
    "duration": 7,
    "start_time": "2022-09-07T14:00:32.814Z"
   },
   {
    "duration": 3168,
    "start_time": "2022-09-07T14:00:33.393Z"
   },
   {
    "duration": 6,
    "start_time": "2022-09-07T14:01:14.492Z"
   },
   {
    "duration": 2092,
    "start_time": "2022-09-07T14:01:15.392Z"
   },
   {
    "duration": 6,
    "start_time": "2022-09-07T14:01:32.351Z"
   },
   {
    "duration": 2193,
    "start_time": "2022-09-07T14:01:32.870Z"
   },
   {
    "duration": 7,
    "start_time": "2022-09-07T14:02:27.581Z"
   },
   {
    "duration": 2893,
    "start_time": "2022-09-07T14:02:28.070Z"
   },
   {
    "duration": 7,
    "start_time": "2022-09-07T14:02:35.203Z"
   },
   {
    "duration": 2495,
    "start_time": "2022-09-07T14:02:37.061Z"
   },
   {
    "duration": 6,
    "start_time": "2022-09-07T14:02:50.774Z"
   },
   {
    "duration": 2320,
    "start_time": "2022-09-07T14:02:51.754Z"
   },
   {
    "duration": 7,
    "start_time": "2022-09-07T14:02:57.993Z"
   },
   {
    "duration": 3260,
    "start_time": "2022-09-07T14:02:58.406Z"
   },
   {
    "duration": 8,
    "start_time": "2022-09-07T14:03:07.518Z"
   },
   {
    "duration": 2177,
    "start_time": "2022-09-07T14:03:08.105Z"
   },
   {
    "duration": 7,
    "start_time": "2022-09-07T14:03:31.410Z"
   },
   {
    "duration": 2522,
    "start_time": "2022-09-07T14:03:31.746Z"
   },
   {
    "duration": 7,
    "start_time": "2022-09-07T14:04:12.859Z"
   },
   {
    "duration": 3254,
    "start_time": "2022-09-07T14:04:13.625Z"
   },
   {
    "duration": 55237,
    "start_time": "2022-09-07T14:05:30.118Z"
   },
   {
    "duration": 54489,
    "start_time": "2022-09-07T14:08:46.962Z"
   },
   {
    "duration": 16210,
    "start_time": "2022-09-07T14:09:44.543Z"
   },
   {
    "duration": 33901,
    "start_time": "2022-09-07T14:10:02.621Z"
   },
   {
    "duration": 7,
    "start_time": "2022-09-07T14:13:10.379Z"
   },
   {
    "duration": 2333,
    "start_time": "2022-09-07T14:13:11.022Z"
   },
   {
    "duration": 2226,
    "start_time": "2022-09-07T14:14:21.835Z"
   },
   {
    "duration": 2553,
    "start_time": "2022-09-07T14:14:36.704Z"
   },
   {
    "duration": 1864,
    "start_time": "2022-09-07T14:15:30.699Z"
   },
   {
    "duration": 2011,
    "start_time": "2022-09-07T14:15:49.246Z"
   },
   {
    "duration": 2434,
    "start_time": "2022-09-07T14:16:00.123Z"
   },
   {
    "duration": 7,
    "start_time": "2022-09-07T14:17:09.918Z"
   },
   {
    "duration": 2214,
    "start_time": "2022-09-07T14:17:11.355Z"
   },
   {
    "duration": 50259,
    "start_time": "2022-09-07T14:17:25.621Z"
   },
   {
    "duration": 135,
    "start_time": "2022-09-07T14:20:59.718Z"
   },
   {
    "duration": 77,
    "start_time": "2022-09-07T14:21:11.475Z"
   },
   {
    "duration": 2085,
    "start_time": "2022-09-07T14:21:17.871Z"
   },
   {
    "duration": 1956,
    "start_time": "2022-09-07T14:21:43.407Z"
   },
   {
    "duration": 1722,
    "start_time": "2022-09-07T14:21:47.542Z"
   },
   {
    "duration": 1646,
    "start_time": "2022-09-07T14:22:01.718Z"
   },
   {
    "duration": 1853,
    "start_time": "2022-09-07T14:22:19.303Z"
   },
   {
    "duration": 1873,
    "start_time": "2022-09-07T14:22:47.191Z"
   },
   {
    "duration": 2117,
    "start_time": "2022-09-07T14:23:16.747Z"
   },
   {
    "duration": 1804,
    "start_time": "2022-09-07T14:23:38.351Z"
   },
   {
    "duration": 2062,
    "start_time": "2022-09-07T14:24:49.103Z"
   },
   {
    "duration": 6,
    "start_time": "2022-09-07T14:25:19.296Z"
   },
   {
    "duration": 16,
    "start_time": "2022-09-07T14:25:20.291Z"
   },
   {
    "duration": 8,
    "start_time": "2022-09-07T14:26:25.052Z"
   },
   {
    "duration": 7,
    "start_time": "2022-09-07T14:26:43.388Z"
   },
   {
    "duration": 2409,
    "start_time": "2022-09-07T14:26:43.963Z"
   },
   {
    "duration": 50593,
    "start_time": "2022-09-07T14:26:50.893Z"
   },
   {
    "duration": 6,
    "start_time": "2022-09-07T14:28:57.936Z"
   },
   {
    "duration": 2268,
    "start_time": "2022-09-07T14:28:59.105Z"
   },
   {
    "duration": 19625,
    "start_time": "2022-09-07T14:29:05.668Z"
   },
   {
    "duration": 0,
    "start_time": "2022-09-07T14:30:54.260Z"
   },
   {
    "duration": 3458,
    "start_time": "2022-09-07T14:30:58.723Z"
   },
   {
    "duration": 6730,
    "start_time": "2022-09-07T14:31:05.627Z"
   },
   {
    "duration": 7,
    "start_time": "2022-09-07T14:31:34.016Z"
   },
   {
    "duration": 2490,
    "start_time": "2022-09-07T14:31:35.272Z"
   },
   {
    "duration": 43208,
    "start_time": "2022-09-07T14:31:45.724Z"
   },
   {
    "duration": 7,
    "start_time": "2022-09-07T14:33:09.588Z"
   },
   {
    "duration": 2207,
    "start_time": "2022-09-07T14:33:13.563Z"
   },
   {
    "duration": 0,
    "start_time": "2022-09-07T14:33:39.085Z"
   },
   {
    "duration": 2139,
    "start_time": "2022-09-07T14:37:15.544Z"
   },
   {
    "duration": 11,
    "start_time": "2022-09-07T14:39:24.663Z"
   },
   {
    "duration": 6,
    "start_time": "2022-09-07T14:39:28.333Z"
   },
   {
    "duration": 2234,
    "start_time": "2022-09-07T14:39:29.032Z"
   },
   {
    "duration": 7,
    "start_time": "2022-09-07T14:39:43.620Z"
   },
   {
    "duration": 2195,
    "start_time": "2022-09-07T14:39:44.069Z"
   },
   {
    "duration": 2209,
    "start_time": "2022-09-07T14:39:49.753Z"
   },
   {
    "duration": 5,
    "start_time": "2022-09-07T14:40:05.125Z"
   },
   {
    "duration": 2107,
    "start_time": "2022-09-07T14:41:45.438Z"
   },
   {
    "duration": 1894,
    "start_time": "2022-09-07T14:41:47.548Z"
   },
   {
    "duration": 47,
    "start_time": "2022-09-07T14:41:49.444Z"
   },
   {
    "duration": 2,
    "start_time": "2022-09-07T14:41:49.493Z"
   },
   {
    "duration": 2530,
    "start_time": "2022-09-07T14:41:49.496Z"
   },
   {
    "duration": 8,
    "start_time": "2022-09-07T14:41:52.028Z"
   },
   {
    "duration": 13,
    "start_time": "2022-09-07T14:41:52.038Z"
   },
   {
    "duration": 31946,
    "start_time": "2022-09-07T14:41:52.052Z"
   },
   {
    "duration": 500,
    "start_time": "2022-09-07T14:42:23.999Z"
   },
   {
    "duration": 172,
    "start_time": "2022-09-07T14:42:24.501Z"
   },
   {
    "duration": 0,
    "start_time": "2022-09-07T14:42:24.675Z"
   },
   {
    "duration": 0,
    "start_time": "2022-09-07T14:42:24.676Z"
   },
   {
    "duration": 0,
    "start_time": "2022-09-07T14:42:24.677Z"
   },
   {
    "duration": 0,
    "start_time": "2022-09-07T14:42:24.679Z"
   },
   {
    "duration": 0,
    "start_time": "2022-09-07T14:42:24.680Z"
   },
   {
    "duration": 0,
    "start_time": "2022-09-07T14:42:24.681Z"
   },
   {
    "duration": 0,
    "start_time": "2022-09-07T14:42:24.682Z"
   },
   {
    "duration": 0,
    "start_time": "2022-09-07T14:42:24.684Z"
   },
   {
    "duration": 0,
    "start_time": "2022-09-07T14:42:24.685Z"
   },
   {
    "duration": 0,
    "start_time": "2022-09-07T14:42:24.687Z"
   },
   {
    "duration": 22,
    "start_time": "2022-09-07T14:49:55.835Z"
   },
   {
    "duration": 11,
    "start_time": "2022-09-07T14:50:04.046Z"
   },
   {
    "duration": 5,
    "start_time": "2022-09-07T14:50:11.383Z"
   },
   {
    "duration": 23,
    "start_time": "2022-09-07T14:50:11.812Z"
   },
   {
    "duration": 18,
    "start_time": "2022-09-07T14:50:33.115Z"
   },
   {
    "duration": 1884,
    "start_time": "2022-09-07T14:51:02.155Z"
   },
   {
    "duration": 47,
    "start_time": "2022-09-07T14:51:04.908Z"
   },
   {
    "duration": 2,
    "start_time": "2022-09-07T14:51:05.494Z"
   },
   {
    "duration": 2607,
    "start_time": "2022-09-07T14:51:05.875Z"
   },
   {
    "duration": 8,
    "start_time": "2022-09-07T14:51:08.484Z"
   },
   {
    "duration": 14,
    "start_time": "2022-09-07T14:51:11.019Z"
   },
   {
    "duration": 269,
    "start_time": "2022-09-07T14:51:14.541Z"
   },
   {
    "duration": 8,
    "start_time": "2022-09-07T14:51:25.492Z"
   },
   {
    "duration": 11,
    "start_time": "2022-09-07T14:51:26.403Z"
   },
   {
    "duration": 1807,
    "start_time": "2022-09-07T14:51:42.023Z"
   },
   {
    "duration": 49,
    "start_time": "2022-09-07T14:51:43.832Z"
   },
   {
    "duration": 2,
    "start_time": "2022-09-07T14:51:43.883Z"
   },
   {
    "duration": 8,
    "start_time": "2022-09-07T14:51:46.144Z"
   },
   {
    "duration": 15,
    "start_time": "2022-09-07T14:51:46.797Z"
   },
   {
    "duration": 265,
    "start_time": "2022-09-07T14:51:49.702Z"
   },
   {
    "duration": 8,
    "start_time": "2022-09-07T14:51:54.159Z"
   },
   {
    "duration": 116,
    "start_time": "2022-09-07T14:51:54.832Z"
   },
   {
    "duration": 155,
    "start_time": "2022-09-07T14:51:57.727Z"
   },
   {
    "duration": 1868,
    "start_time": "2022-09-07T14:54:46.649Z"
   },
   {
    "duration": 48,
    "start_time": "2022-09-07T14:54:48.519Z"
   },
   {
    "duration": 2,
    "start_time": "2022-09-07T14:54:48.986Z"
   },
   {
    "duration": 8,
    "start_time": "2022-09-07T14:54:50.768Z"
   },
   {
    "duration": 13,
    "start_time": "2022-09-07T14:54:51.109Z"
   },
   {
    "duration": 296,
    "start_time": "2022-09-07T14:54:54.831Z"
   },
   {
    "duration": 173,
    "start_time": "2022-09-07T14:54:56.643Z"
   },
   {
    "duration": 26,
    "start_time": "2022-09-07T14:57:13.412Z"
   },
   {
    "duration": 111,
    "start_time": "2022-09-07T14:57:23.793Z"
   },
   {
    "duration": 17,
    "start_time": "2022-09-07T14:57:45.460Z"
   },
   {
    "duration": 24,
    "start_time": "2022-09-07T14:58:28.789Z"
   },
   {
    "duration": 4,
    "start_time": "2022-09-07T14:59:59.629Z"
   },
   {
    "duration": 12,
    "start_time": "2022-09-07T15:01:30.282Z"
   },
   {
    "duration": 23,
    "start_time": "2022-09-07T15:01:40.233Z"
   },
   {
    "duration": 20,
    "start_time": "2022-09-07T15:01:59.835Z"
   },
   {
    "duration": 21,
    "start_time": "2022-09-07T15:02:07.981Z"
   },
   {
    "duration": 12,
    "start_time": "2022-09-07T15:02:46.250Z"
   },
   {
    "duration": 6,
    "start_time": "2022-09-07T15:03:00.910Z"
   },
   {
    "duration": 6,
    "start_time": "2022-09-07T15:03:07.212Z"
   },
   {
    "duration": 317,
    "start_time": "2022-09-07T15:03:09.179Z"
   },
   {
    "duration": 270,
    "start_time": "2022-09-07T15:03:11.349Z"
   },
   {
    "duration": 7,
    "start_time": "2022-09-07T15:03:17.344Z"
   },
   {
    "duration": 6,
    "start_time": "2022-09-07T15:03:24.207Z"
   },
   {
    "duration": 322,
    "start_time": "2022-09-07T15:03:26.456Z"
   },
   {
    "duration": 6,
    "start_time": "2022-09-07T15:03:35.054Z"
   },
   {
    "duration": 313,
    "start_time": "2022-09-07T15:03:36.596Z"
   },
   {
    "duration": 13,
    "start_time": "2022-09-07T15:03:42.192Z"
   },
   {
    "duration": 256,
    "start_time": "2022-09-07T15:03:44.934Z"
   },
   {
    "duration": 6,
    "start_time": "2022-09-07T15:03:51.287Z"
   },
   {
    "duration": 299,
    "start_time": "2022-09-07T15:03:53.713Z"
   },
   {
    "duration": 407,
    "start_time": "2022-09-07T15:03:54.212Z"
   },
   {
    "duration": 4,
    "start_time": "2022-09-07T15:04:12.571Z"
   },
   {
    "duration": 4,
    "start_time": "2022-09-07T15:04:13.201Z"
   },
   {
    "duration": 8,
    "start_time": "2022-09-07T15:04:15.732Z"
   },
   {
    "duration": 8,
    "start_time": "2022-09-07T15:05:25.265Z"
   },
   {
    "duration": 6,
    "start_time": "2022-09-07T15:05:26.179Z"
   },
   {
    "duration": 88,
    "start_time": "2022-09-07T15:05:28.481Z"
   },
   {
    "duration": 7,
    "start_time": "2022-09-07T15:05:49.262Z"
   },
   {
    "duration": 7,
    "start_time": "2022-09-07T15:05:50.208Z"
   },
   {
    "duration": 94,
    "start_time": "2022-09-07T15:05:50.985Z"
   },
   {
    "duration": 5,
    "start_time": "2022-09-07T15:06:26.729Z"
   },
   {
    "duration": 6,
    "start_time": "2022-09-07T15:06:40.093Z"
   },
   {
    "duration": 9,
    "start_time": "2022-09-07T15:06:55.507Z"
   },
   {
    "duration": 6,
    "start_time": "2022-09-07T15:06:56.326Z"
   },
   {
    "duration": 2981,
    "start_time": "2022-09-07T15:06:57.075Z"
   },
   {
    "duration": 8,
    "start_time": "2022-09-07T15:07:19.984Z"
   },
   {
    "duration": 6,
    "start_time": "2022-09-07T15:07:21.525Z"
   },
   {
    "duration": 1889,
    "start_time": "2022-09-07T15:07:21.776Z"
   },
   {
    "duration": 18,
    "start_time": "2022-09-07T15:07:31.276Z"
   },
   {
    "duration": 7,
    "start_time": "2022-09-07T15:07:37.600Z"
   },
   {
    "duration": 8,
    "start_time": "2022-09-07T15:07:46.301Z"
   },
   {
    "duration": 8,
    "start_time": "2022-09-07T15:07:52.871Z"
   },
   {
    "duration": 7,
    "start_time": "2022-09-07T15:07:59.905Z"
   },
   {
    "duration": 5,
    "start_time": "2022-09-07T15:08:00.371Z"
   },
   {
    "duration": 21,
    "start_time": "2022-09-07T15:08:13.662Z"
   },
   {
    "duration": 7,
    "start_time": "2022-09-07T15:08:14.105Z"
   },
   {
    "duration": 7,
    "start_time": "2022-09-07T15:08:34.002Z"
   },
   {
    "duration": 5,
    "start_time": "2022-09-07T15:08:36.049Z"
   },
   {
    "duration": 7,
    "start_time": "2022-09-07T15:08:40.278Z"
   },
   {
    "duration": 1937,
    "start_time": "2022-09-07T15:08:41.227Z"
   },
   {
    "duration": 4,
    "start_time": "2022-09-07T15:10:20.733Z"
   },
   {
    "duration": 8,
    "start_time": "2022-09-07T15:10:23.626Z"
   },
   {
    "duration": 7,
    "start_time": "2022-09-07T15:10:25.230Z"
   },
   {
    "duration": 2090,
    "start_time": "2022-09-07T15:10:27.185Z"
   },
   {
    "duration": 1930,
    "start_time": "2022-09-07T15:10:49.811Z"
   },
   {
    "duration": 1796,
    "start_time": "2022-09-07T15:10:51.744Z"
   },
   {
    "duration": 47,
    "start_time": "2022-09-07T15:10:53.541Z"
   },
   {
    "duration": 3,
    "start_time": "2022-09-07T15:10:53.590Z"
   },
   {
    "duration": 2436,
    "start_time": "2022-09-07T15:10:53.594Z"
   },
   {
    "duration": 8,
    "start_time": "2022-09-07T15:10:56.032Z"
   },
   {
    "duration": 19,
    "start_time": "2022-09-07T15:10:56.041Z"
   },
   {
    "duration": 32435,
    "start_time": "2022-09-07T15:10:56.062Z"
   },
   {
    "duration": 516,
    "start_time": "2022-09-07T15:11:28.500Z"
   },
   {
    "duration": 7,
    "start_time": "2022-09-07T15:11:29.018Z"
   },
   {
    "duration": 348,
    "start_time": "2022-09-07T15:11:29.026Z"
   },
   {
    "duration": 325,
    "start_time": "2022-09-07T15:11:29.375Z"
   },
   {
    "duration": 4,
    "start_time": "2022-09-07T15:11:29.702Z"
   },
   {
    "duration": 5,
    "start_time": "2022-09-07T15:11:29.709Z"
   },
   {
    "duration": 14,
    "start_time": "2022-09-07T15:11:29.715Z"
   },
   {
    "duration": 26,
    "start_time": "2022-09-07T15:11:29.730Z"
   },
   {
    "duration": 8,
    "start_time": "2022-09-07T15:11:29.758Z"
   },
   {
    "duration": 2105,
    "start_time": "2022-09-07T15:11:29.767Z"
   },
   {
    "duration": 51099,
    "start_time": "2022-09-07T15:11:31.874Z"
   },
   {
    "duration": 156261,
    "start_time": "2022-09-07T15:12:22.974Z"
   },
   {
    "duration": 11,
    "start_time": "2022-09-07T15:17:12.277Z"
   },
   {
    "duration": 12,
    "start_time": "2022-09-07T15:17:57.394Z"
   },
   {
    "duration": 10,
    "start_time": "2022-09-07T15:18:02.584Z"
   },
   {
    "duration": 5,
    "start_time": "2022-09-07T15:18:16.777Z"
   },
   {
    "duration": 6,
    "start_time": "2022-09-07T15:20:43.318Z"
   },
   {
    "duration": 19,
    "start_time": "2022-09-07T15:20:58.426Z"
   },
   {
    "duration": 6,
    "start_time": "2022-09-07T15:21:05.717Z"
   },
   {
    "duration": 6,
    "start_time": "2022-09-07T15:21:10.683Z"
   },
   {
    "duration": 4,
    "start_time": "2022-09-07T15:21:14.475Z"
   },
   {
    "duration": 86,
    "start_time": "2022-09-07T15:21:40.068Z"
   },
   {
    "duration": 645,
    "start_time": "2022-09-07T15:21:50.722Z"
   },
   {
    "duration": 7,
    "start_time": "2022-09-07T15:22:46.349Z"
   },
   {
    "duration": 2188,
    "start_time": "2022-09-07T15:22:47.188Z"
   },
   {
    "duration": 58299,
    "start_time": "2022-09-07T15:22:49.378Z"
   },
   {
    "duration": 4,
    "start_time": "2022-09-07T15:30:36.348Z"
   },
   {
    "duration": 1958,
    "start_time": "2022-09-07T15:31:11.981Z"
   },
   {
    "duration": 1899,
    "start_time": "2022-09-07T15:31:13.941Z"
   },
   {
    "duration": 48,
    "start_time": "2022-09-07T15:31:15.841Z"
   },
   {
    "duration": 2,
    "start_time": "2022-09-07T15:31:15.891Z"
   },
   {
    "duration": 2596,
    "start_time": "2022-09-07T15:31:15.895Z"
   },
   {
    "duration": 7,
    "start_time": "2022-09-07T15:31:18.492Z"
   },
   {
    "duration": 14,
    "start_time": "2022-09-07T15:31:18.501Z"
   },
   {
    "duration": 31792,
    "start_time": "2022-09-07T15:31:18.516Z"
   },
   {
    "duration": 492,
    "start_time": "2022-09-07T15:31:50.310Z"
   },
   {
    "duration": 6,
    "start_time": "2022-09-07T15:31:50.805Z"
   },
   {
    "duration": 293,
    "start_time": "2022-09-07T15:31:50.812Z"
   },
   {
    "duration": 304,
    "start_time": "2022-09-07T15:31:51.107Z"
   },
   {
    "duration": 5,
    "start_time": "2022-09-07T15:31:51.412Z"
   },
   {
    "duration": 7,
    "start_time": "2022-09-07T15:31:51.418Z"
   },
   {
    "duration": 8,
    "start_time": "2022-09-07T15:31:51.427Z"
   },
   {
    "duration": 23,
    "start_time": "2022-09-07T15:31:51.436Z"
   },
   {
    "duration": 7,
    "start_time": "2022-09-07T15:31:51.460Z"
   },
   {
    "duration": 2193,
    "start_time": "2022-09-07T15:31:51.468Z"
   },
   {
    "duration": 44481,
    "start_time": "2022-09-07T15:31:53.662Z"
   },
   {
    "duration": 163312,
    "start_time": "2022-09-07T15:32:38.145Z"
   },
   {
    "duration": 8,
    "start_time": "2022-09-07T15:35:21.459Z"
   },
   {
    "duration": 7,
    "start_time": "2022-09-07T22:37:30.431Z"
   },
   {
    "duration": 167,
    "start_time": "2022-09-07T22:40:40.206Z"
   },
   {
    "duration": 5,
    "start_time": "2022-09-07T22:40:57.682Z"
   },
   {
    "duration": 4,
    "start_time": "2022-09-07T22:41:05.469Z"
   },
   {
    "duration": 6,
    "start_time": "2022-09-07T22:41:49.829Z"
   },
   {
    "duration": 3493,
    "start_time": "2022-09-07T22:41:51.714Z"
   },
   {
    "duration": 379906,
    "start_time": "2022-09-07T22:42:08.486Z"
   },
   {
    "duration": 7,
    "start_time": "2022-09-07T22:48:31.566Z"
   },
   {
    "duration": 2284,
    "start_time": "2022-09-07T22:48:31.574Z"
   },
   {
    "duration": 11,
    "start_time": "2022-09-07T22:48:35.668Z"
   },
   {
    "duration": 2276,
    "start_time": "2022-09-07T22:48:39.706Z"
   },
   {
    "duration": 7,
    "start_time": "2022-09-07T22:48:51.341Z"
   },
   {
    "duration": 3260,
    "start_time": "2022-09-07T22:48:51.548Z"
   },
   {
    "duration": 8,
    "start_time": "2022-09-07T22:49:18.592Z"
   },
   {
    "duration": 3100,
    "start_time": "2022-09-07T22:49:19.315Z"
   },
   {
    "duration": 4,
    "start_time": "2022-09-07T22:50:00.682Z"
   },
   {
    "duration": 2062,
    "start_time": "2022-09-07T22:50:18.777Z"
   },
   {
    "duration": 1894,
    "start_time": "2022-09-07T22:50:20.842Z"
   },
   {
    "duration": 58,
    "start_time": "2022-09-07T22:50:22.737Z"
   },
   {
    "duration": 3,
    "start_time": "2022-09-07T22:50:22.797Z"
   },
   {
    "duration": 2585,
    "start_time": "2022-09-07T22:50:22.801Z"
   },
   {
    "duration": 13,
    "start_time": "2022-09-07T22:50:25.388Z"
   },
   {
    "duration": 15,
    "start_time": "2022-09-07T22:50:25.403Z"
   },
   {
    "duration": 33677,
    "start_time": "2022-09-07T22:50:25.419Z"
   },
   {
    "duration": 528,
    "start_time": "2022-09-07T22:50:59.099Z"
   },
   {
    "duration": 6,
    "start_time": "2022-09-07T22:50:59.629Z"
   },
   {
    "duration": 346,
    "start_time": "2022-09-07T22:50:59.637Z"
   },
   {
    "duration": 349,
    "start_time": "2022-09-07T22:50:59.984Z"
   },
   {
    "duration": 6,
    "start_time": "2022-09-07T22:51:00.334Z"
   },
   {
    "duration": 15,
    "start_time": "2022-09-07T22:51:00.341Z"
   },
   {
    "duration": 25,
    "start_time": "2022-09-07T22:51:00.362Z"
   },
   {
    "duration": 23,
    "start_time": "2022-09-07T22:51:00.389Z"
   },
   {
    "duration": 22,
    "start_time": "2022-09-07T22:51:00.413Z"
   },
   {
    "duration": 2659,
    "start_time": "2022-09-07T22:51:00.436Z"
   },
   {
    "duration": 1686655,
    "start_time": "2022-09-07T22:51:03.097Z"
   },
   {
    "duration": 1986,
    "start_time": "2022-09-07T23:19:22.093Z"
   },
   {
    "duration": 1840,
    "start_time": "2022-09-07T23:19:24.082Z"
   },
   {
    "duration": 56,
    "start_time": "2022-09-07T23:19:25.924Z"
   },
   {
    "duration": 4,
    "start_time": "2022-09-07T23:19:25.981Z"
   },
   {
    "duration": 2625,
    "start_time": "2022-09-07T23:19:25.986Z"
   },
   {
    "duration": 11,
    "start_time": "2022-09-07T23:19:28.612Z"
   },
   {
    "duration": 31,
    "start_time": "2022-09-07T23:19:28.625Z"
   },
   {
    "duration": 33434,
    "start_time": "2022-09-07T23:19:28.657Z"
   },
   {
    "duration": 537,
    "start_time": "2022-09-07T23:20:02.092Z"
   },
   {
    "duration": 7,
    "start_time": "2022-09-07T23:20:02.632Z"
   },
   {
    "duration": 346,
    "start_time": "2022-09-07T23:20:02.640Z"
   },
   {
    "duration": 331,
    "start_time": "2022-09-07T23:20:02.987Z"
   },
   {
    "duration": 5,
    "start_time": "2022-09-07T23:20:03.320Z"
   },
   {
    "duration": 6,
    "start_time": "2022-09-07T23:20:03.326Z"
   },
   {
    "duration": 29,
    "start_time": "2022-09-07T23:20:03.333Z"
   },
   {
    "duration": 15,
    "start_time": "2022-09-07T23:20:03.367Z"
   },
   {
    "duration": 9,
    "start_time": "2022-09-07T23:20:03.384Z"
   },
   {
    "duration": 3409,
    "start_time": "2022-09-07T23:20:03.395Z"
   },
   {
    "duration": 390012,
    "start_time": "2022-09-07T23:20:06.805Z"
   },
   {
    "duration": 1982,
    "start_time": "2022-09-07T23:26:42.487Z"
   },
   {
    "duration": 1812,
    "start_time": "2022-09-07T23:26:44.471Z"
   },
   {
    "duration": 48,
    "start_time": "2022-09-07T23:26:46.285Z"
   },
   {
    "duration": 3,
    "start_time": "2022-09-07T23:26:46.335Z"
   },
   {
    "duration": 2666,
    "start_time": "2022-09-07T23:26:46.340Z"
   },
   {
    "duration": 8,
    "start_time": "2022-09-07T23:26:49.008Z"
   },
   {
    "duration": 14,
    "start_time": "2022-09-07T23:26:49.018Z"
   },
   {
    "duration": 33677,
    "start_time": "2022-09-07T23:26:49.034Z"
   },
   {
    "duration": 666,
    "start_time": "2022-09-07T23:27:22.713Z"
   },
   {
    "duration": 6,
    "start_time": "2022-09-07T23:27:23.381Z"
   },
   {
    "duration": 333,
    "start_time": "2022-09-07T23:27:23.388Z"
   },
   {
    "duration": 307,
    "start_time": "2022-09-07T23:27:23.723Z"
   },
   {
    "duration": 9,
    "start_time": "2022-09-07T23:27:24.054Z"
   },
   {
    "duration": 11,
    "start_time": "2022-09-07T23:27:24.065Z"
   },
   {
    "duration": 9,
    "start_time": "2022-09-07T23:27:24.078Z"
   },
   {
    "duration": 8,
    "start_time": "2022-09-07T23:27:24.088Z"
   },
   {
    "duration": 8,
    "start_time": "2022-09-07T23:27:24.097Z"
   },
   {
    "duration": 2728,
    "start_time": "2022-09-07T23:27:24.106Z"
   },
   {
    "duration": 2050,
    "start_time": "2022-09-07T23:29:21.420Z"
   },
   {
    "duration": 1862,
    "start_time": "2022-09-07T23:29:23.472Z"
   },
   {
    "duration": 56,
    "start_time": "2022-09-07T23:29:25.335Z"
   },
   {
    "duration": 3,
    "start_time": "2022-09-07T23:29:25.393Z"
   },
   {
    "duration": 2614,
    "start_time": "2022-09-07T23:29:25.397Z"
   },
   {
    "duration": 8,
    "start_time": "2022-09-07T23:29:28.012Z"
   },
   {
    "duration": 13,
    "start_time": "2022-09-07T23:29:28.022Z"
   },
   {
    "duration": 33561,
    "start_time": "2022-09-07T23:29:28.036Z"
   },
   {
    "duration": 579,
    "start_time": "2022-09-07T23:30:01.600Z"
   },
   {
    "duration": 6,
    "start_time": "2022-09-07T23:30:02.181Z"
   },
   {
    "duration": 324,
    "start_time": "2022-09-07T23:30:02.189Z"
   },
   {
    "duration": 314,
    "start_time": "2022-09-07T23:30:02.514Z"
   },
   {
    "duration": 4,
    "start_time": "2022-09-07T23:30:02.830Z"
   },
   {
    "duration": 7,
    "start_time": "2022-09-07T23:30:02.836Z"
   },
   {
    "duration": 11,
    "start_time": "2022-09-07T23:30:02.855Z"
   },
   {
    "duration": 12,
    "start_time": "2022-09-07T23:30:02.870Z"
   },
   {
    "duration": 7,
    "start_time": "2022-09-07T23:30:02.883Z"
   },
   {
    "duration": 3112,
    "start_time": "2022-09-07T23:30:02.891Z"
   },
   {
    "duration": 993578,
    "start_time": "2022-09-07T23:30:06.004Z"
   },
   {
    "duration": 15243,
    "start_time": "2022-09-08T05:43:52.179Z"
   },
   {
    "duration": 2390,
    "start_time": "2022-09-08T05:44:07.424Z"
   },
   {
    "duration": 120,
    "start_time": "2022-09-08T05:44:09.815Z"
   },
   {
    "duration": 3,
    "start_time": "2022-09-08T05:44:09.937Z"
   },
   {
    "duration": 3092,
    "start_time": "2022-09-08T05:44:09.942Z"
   },
   {
    "duration": 11,
    "start_time": "2022-09-08T05:44:13.036Z"
   },
   {
    "duration": 15,
    "start_time": "2022-09-08T05:44:13.048Z"
   },
   {
    "duration": 39024,
    "start_time": "2022-09-08T05:44:13.065Z"
   },
   {
    "duration": 604,
    "start_time": "2022-09-08T05:44:52.091Z"
   },
   {
    "duration": 7,
    "start_time": "2022-09-08T05:44:52.704Z"
   },
   {
    "duration": 372,
    "start_time": "2022-09-08T05:44:52.713Z"
   },
   {
    "duration": 389,
    "start_time": "2022-09-08T05:44:53.087Z"
   },
   {
    "duration": 5,
    "start_time": "2022-09-08T05:44:53.478Z"
   },
   {
    "duration": 48,
    "start_time": "2022-09-08T05:44:53.485Z"
   },
   {
    "duration": 27,
    "start_time": "2022-09-08T05:44:53.535Z"
   },
   {
    "duration": 23,
    "start_time": "2022-09-08T05:44:53.564Z"
   },
   {
    "duration": 11,
    "start_time": "2022-09-08T05:44:53.589Z"
   },
   {
    "duration": 3752,
    "start_time": "2022-09-08T05:44:53.602Z"
   },
   {
    "duration": 220150,
    "start_time": "2022-09-08T05:44:57.356Z"
   },
   {
    "duration": 184222,
    "start_time": "2022-09-08T05:48:37.508Z"
   },
   {
    "duration": 4,
    "start_time": "2022-09-08T05:58:05.009Z"
   },
   {
    "duration": 177,
    "start_time": "2022-09-08T05:59:39.133Z"
   },
   {
    "duration": 6,
    "start_time": "2022-09-08T05:59:42.796Z"
   },
   {
    "duration": 7,
    "start_time": "2022-09-08T05:59:58.405Z"
   },
   {
    "duration": 6,
    "start_time": "2022-09-08T06:00:21.393Z"
   },
   {
    "duration": 5,
    "start_time": "2022-09-08T06:00:28.030Z"
   },
   {
    "duration": 8,
    "start_time": "2022-09-08T06:00:35.717Z"
   },
   {
    "duration": 5,
    "start_time": "2022-09-08T06:03:48.785Z"
   },
   {
    "duration": 2405,
    "start_time": "2022-09-08T06:05:20.103Z"
   },
   {
    "duration": 2005,
    "start_time": "2022-09-08T06:05:22.511Z"
   },
   {
    "duration": 53,
    "start_time": "2022-09-08T06:05:24.518Z"
   },
   {
    "duration": 4,
    "start_time": "2022-09-08T06:05:24.573Z"
   },
   {
    "duration": 3044,
    "start_time": "2022-09-08T06:05:24.579Z"
   },
   {
    "duration": 10,
    "start_time": "2022-09-08T06:05:27.625Z"
   },
   {
    "duration": 15,
    "start_time": "2022-09-08T06:05:27.637Z"
   },
   {
    "duration": 38534,
    "start_time": "2022-09-08T06:05:27.654Z"
   },
   {
    "duration": 630,
    "start_time": "2022-09-08T06:06:06.190Z"
   },
   {
    "duration": 6,
    "start_time": "2022-09-08T06:06:06.822Z"
   },
   {
    "duration": 366,
    "start_time": "2022-09-08T06:06:06.830Z"
   },
   {
    "duration": 383,
    "start_time": "2022-09-08T06:06:07.198Z"
   },
   {
    "duration": 21,
    "start_time": "2022-09-08T06:06:07.583Z"
   },
   {
    "duration": 5,
    "start_time": "2022-09-08T06:06:07.605Z"
   },
   {
    "duration": 10,
    "start_time": "2022-09-08T06:06:07.612Z"
   },
   {
    "duration": 10,
    "start_time": "2022-09-08T06:06:07.624Z"
   },
   {
    "duration": 9,
    "start_time": "2022-09-08T06:06:07.636Z"
   },
   {
    "duration": 3006,
    "start_time": "2022-09-08T06:06:07.646Z"
   },
   {
    "duration": 541469,
    "start_time": "2022-09-08T06:06:10.654Z"
   },
   {
    "duration": 178620,
    "start_time": "2022-09-08T06:15:12.125Z"
   },
   {
    "duration": 4,
    "start_time": "2022-09-08T06:18:10.747Z"
   },
   {
    "duration": 11,
    "start_time": "2022-09-08T06:18:10.754Z"
   },
   {
    "duration": 6,
    "start_time": "2022-09-08T06:18:10.768Z"
   },
   {
    "duration": 41,
    "start_time": "2022-09-08T21:23:48.832Z"
   },
   {
    "duration": 768,
    "start_time": "2022-09-08T21:23:58.433Z"
   },
   {
    "duration": 13301,
    "start_time": "2022-09-08T21:24:13.932Z"
   },
   {
    "duration": 3509,
    "start_time": "2022-09-08T21:24:49.048Z"
   },
   {
    "duration": 143,
    "start_time": "2022-09-08T21:24:54.836Z"
   },
   {
    "duration": 3,
    "start_time": "2022-09-08T21:25:06.586Z"
   },
   {
    "duration": 2462,
    "start_time": "2022-09-08T21:25:10.176Z"
   },
   {
    "duration": 15,
    "start_time": "2022-09-08T21:25:12.640Z"
   },
   {
    "duration": 19,
    "start_time": "2022-09-08T21:25:49.824Z"
   },
   {
    "duration": 29,
    "start_time": "2022-09-08T21:25:53.964Z"
   },
   {
    "duration": 260,
    "start_time": "2022-09-08T21:26:28.332Z"
   },
   {
    "duration": 6,
    "start_time": "2022-09-08T21:26:38.329Z"
   },
   {
    "duration": 287,
    "start_time": "2022-09-08T21:26:39.112Z"
   },
   {
    "duration": 276,
    "start_time": "2022-09-08T21:26:43.347Z"
   },
   {
    "duration": 291,
    "start_time": "2022-09-08T21:26:46.325Z"
   },
   {
    "duration": 310,
    "start_time": "2022-09-08T21:26:56.205Z"
   },
   {
    "duration": 325,
    "start_time": "2022-09-08T21:28:49.897Z"
   },
   {
    "duration": 165,
    "start_time": "2022-09-08T21:29:40.254Z"
   },
   {
    "duration": 428,
    "start_time": "2022-09-08T21:29:57.685Z"
   },
   {
    "duration": 205,
    "start_time": "2022-09-08T21:30:46.185Z"
   },
   {
    "duration": 12,
    "start_time": "2022-09-08T21:30:54.925Z"
   },
   {
    "duration": 12,
    "start_time": "2022-09-08T21:31:01.188Z"
   },
   {
    "duration": 11,
    "start_time": "2022-09-08T21:31:06.876Z"
   },
   {
    "duration": 289,
    "start_time": "2022-09-08T21:31:10.428Z"
   },
   {
    "duration": 277,
    "start_time": "2022-09-08T21:31:48.818Z"
   },
   {
    "duration": 311,
    "start_time": "2022-09-08T21:31:54.896Z"
   },
   {
    "duration": 1267,
    "start_time": "2022-09-08T21:31:59.224Z"
   },
   {
    "duration": 309,
    "start_time": "2022-09-08T21:32:12.596Z"
   },
   {
    "duration": 263,
    "start_time": "2022-09-08T21:32:22.148Z"
   },
   {
    "duration": 5,
    "start_time": "2022-09-08T21:33:25.216Z"
   },
   {
    "duration": 4,
    "start_time": "2022-09-08T21:33:25.444Z"
   },
   {
    "duration": 8,
    "start_time": "2022-09-08T21:33:28.292Z"
   },
   {
    "duration": 7,
    "start_time": "2022-09-08T21:33:29.074Z"
   },
   {
    "duration": 4,
    "start_time": "2022-09-08T21:36:43.365Z"
   },
   {
    "duration": 6,
    "start_time": "2022-09-08T21:36:56.349Z"
   },
   {
    "duration": 2331,
    "start_time": "2022-09-08T21:37:00.645Z"
   },
   {
    "duration": 3,
    "start_time": "2022-09-08T21:38:43.998Z"
   },
   {
    "duration": 8,
    "start_time": "2022-09-08T21:38:49.669Z"
   },
   {
    "duration": 7,
    "start_time": "2022-09-08T21:40:55.023Z"
   },
   {
    "duration": 2595,
    "start_time": "2022-09-08T21:40:57.785Z"
   },
   {
    "duration": 43112,
    "start_time": "2022-09-08T21:41:12.861Z"
   },
   {
    "duration": 130441,
    "start_time": "2022-09-08T21:43:04.709Z"
   },
   {
    "duration": 4,
    "start_time": "2022-09-08T21:45:41.763Z"
   },
   {
    "duration": 7,
    "start_time": "2022-09-08T21:46:03.168Z"
   },
   {
    "duration": 5,
    "start_time": "2022-09-08T21:46:06.221Z"
   },
   {
    "duration": 10,
    "start_time": "2022-09-08T21:46:25.592Z"
   },
   {
    "duration": 9,
    "start_time": "2022-09-08T21:46:32.692Z"
   },
   {
    "duration": 127,
    "start_time": "2022-09-08T21:46:47.390Z"
   },
   {
    "duration": 155,
    "start_time": "2022-09-08T21:47:09.443Z"
   },
   {
    "duration": 157,
    "start_time": "2022-09-08T21:47:26.044Z"
   },
   {
    "duration": 200,
    "start_time": "2022-09-08T21:47:37.268Z"
   },
   {
    "duration": 294,
    "start_time": "2022-09-08T21:47:46.516Z"
   },
   {
    "duration": 208,
    "start_time": "2022-09-08T21:49:19.688Z"
   },
   {
    "duration": 149,
    "start_time": "2022-09-08T21:49:29.908Z"
   },
   {
    "duration": 148,
    "start_time": "2022-09-08T21:49:40.436Z"
   },
   {
    "duration": 148,
    "start_time": "2022-09-08T21:49:44.603Z"
   },
   {
    "duration": 157,
    "start_time": "2022-09-08T21:49:47.651Z"
   },
   {
    "duration": 118,
    "start_time": "2022-09-08T21:51:05.533Z"
   },
   {
    "duration": 146,
    "start_time": "2022-09-08T21:51:11.903Z"
   },
   {
    "duration": 149,
    "start_time": "2022-09-08T21:51:54.668Z"
   },
   {
    "duration": 155,
    "start_time": "2022-09-08T21:52:01.721Z"
   },
   {
    "duration": 155,
    "start_time": "2022-09-08T21:52:08.549Z"
   },
   {
    "duration": 150,
    "start_time": "2022-09-08T21:52:24.808Z"
   },
   {
    "duration": 1612,
    "start_time": "2022-09-08T21:52:44.139Z"
   },
   {
    "duration": 1694,
    "start_time": "2022-09-08T21:52:47.456Z"
   },
   {
    "duration": 6,
    "start_time": "2022-09-08T21:52:59.099Z"
   },
   {
    "duration": 4,
    "start_time": "2022-09-08T21:53:04.862Z"
   },
   {
    "duration": 112,
    "start_time": "2022-09-08T21:53:10.980Z"
   },
   {
    "duration": 119,
    "start_time": "2022-09-08T21:53:17.970Z"
   },
   {
    "duration": 116,
    "start_time": "2022-09-08T21:54:19.023Z"
   },
   {
    "duration": 157,
    "start_time": "2022-09-08T21:54:47.818Z"
   },
   {
    "duration": 387,
    "start_time": "2022-09-08T21:55:18.955Z"
   },
   {
    "duration": 194,
    "start_time": "2022-09-08T21:55:31.106Z"
   },
   {
    "duration": 215,
    "start_time": "2022-09-08T21:55:35.835Z"
   },
   {
    "duration": 189,
    "start_time": "2022-09-08T21:55:43.074Z"
   },
   {
    "duration": 5,
    "start_time": "2022-09-08T21:56:26.107Z"
   },
   {
    "duration": 4,
    "start_time": "2022-09-08T21:56:27.814Z"
   },
   {
    "duration": 184,
    "start_time": "2022-09-08T21:56:35.131Z"
   },
   {
    "duration": 192,
    "start_time": "2022-09-08T21:56:40.915Z"
   },
   {
    "duration": 183,
    "start_time": "2022-09-08T21:56:43.890Z"
   },
   {
    "duration": 1962,
    "start_time": "2022-09-08T21:57:04.868Z"
   },
   {
    "duration": 1806,
    "start_time": "2022-09-08T21:57:06.832Z"
   },
   {
    "duration": 48,
    "start_time": "2022-09-08T21:57:08.639Z"
   },
   {
    "duration": 3,
    "start_time": "2022-09-08T21:57:08.689Z"
   },
   {
    "duration": 2500,
    "start_time": "2022-09-08T21:57:08.694Z"
   },
   {
    "duration": 8,
    "start_time": "2022-09-08T21:57:11.196Z"
   },
   {
    "duration": 16,
    "start_time": "2022-09-08T21:57:11.206Z"
   },
   {
    "duration": 31687,
    "start_time": "2022-09-08T21:57:11.223Z"
   },
   {
    "duration": 0,
    "start_time": "2022-09-08T21:57:42.912Z"
   },
   {
    "duration": 0,
    "start_time": "2022-09-08T21:57:42.913Z"
   },
   {
    "duration": 0,
    "start_time": "2022-09-08T21:57:42.913Z"
   },
   {
    "duration": 0,
    "start_time": "2022-09-08T21:57:42.914Z"
   },
   {
    "duration": 0,
    "start_time": "2022-09-08T21:57:42.915Z"
   },
   {
    "duration": 0,
    "start_time": "2022-09-08T21:57:42.916Z"
   },
   {
    "duration": 0,
    "start_time": "2022-09-08T21:57:42.917Z"
   },
   {
    "duration": 0,
    "start_time": "2022-09-08T21:57:42.918Z"
   },
   {
    "duration": 0,
    "start_time": "2022-09-08T21:57:42.918Z"
   },
   {
    "duration": 0,
    "start_time": "2022-09-08T21:57:42.919Z"
   },
   {
    "duration": 0,
    "start_time": "2022-09-08T21:57:42.920Z"
   },
   {
    "duration": 0,
    "start_time": "2022-09-08T21:57:42.921Z"
   },
   {
    "duration": 0,
    "start_time": "2022-09-08T21:57:42.922Z"
   },
   {
    "duration": 0,
    "start_time": "2022-09-08T21:57:42.922Z"
   },
   {
    "duration": 0,
    "start_time": "2022-09-08T21:57:42.923Z"
   },
   {
    "duration": 0,
    "start_time": "2022-09-08T21:57:42.924Z"
   },
   {
    "duration": 0,
    "start_time": "2022-09-08T21:57:42.925Z"
   },
   {
    "duration": 19,
    "start_time": "2022-09-08T21:57:49.671Z"
   },
   {
    "duration": 11,
    "start_time": "2022-09-08T21:58:18.892Z"
   },
   {
    "duration": 21,
    "start_time": "2022-09-08T21:58:21.531Z"
   },
   {
    "duration": 9,
    "start_time": "2022-09-08T21:59:05.902Z"
   },
   {
    "duration": 24,
    "start_time": "2022-09-08T21:59:07.047Z"
   },
   {
    "duration": 20,
    "start_time": "2022-09-08T21:59:11.332Z"
   },
   {
    "duration": 1893,
    "start_time": "2022-09-08T21:59:22.346Z"
   },
   {
    "duration": 49,
    "start_time": "2022-09-08T21:59:26.350Z"
   },
   {
    "duration": 3,
    "start_time": "2022-09-08T21:59:27.066Z"
   },
   {
    "duration": 2608,
    "start_time": "2022-09-08T21:59:27.383Z"
   },
   {
    "duration": 9,
    "start_time": "2022-09-08T21:59:30.006Z"
   },
   {
    "duration": 20,
    "start_time": "2022-09-08T21:59:33.947Z"
   },
   {
    "duration": 20,
    "start_time": "2022-09-08T21:59:35.082Z"
   },
   {
    "duration": 9,
    "start_time": "2022-09-08T21:59:37.690Z"
   },
   {
    "duration": 8,
    "start_time": "2022-09-08T21:59:43.858Z"
   },
   {
    "duration": 1993,
    "start_time": "2022-09-08T22:00:48.436Z"
   },
   {
    "duration": 1801,
    "start_time": "2022-09-08T22:00:50.431Z"
   },
   {
    "duration": 48,
    "start_time": "2022-09-08T22:00:52.233Z"
   },
   {
    "duration": 3,
    "start_time": "2022-09-08T22:00:52.283Z"
   },
   {
    "duration": 2616,
    "start_time": "2022-09-08T22:00:52.287Z"
   },
   {
    "duration": 9,
    "start_time": "2022-09-08T22:00:54.905Z"
   },
   {
    "duration": 22,
    "start_time": "2022-09-08T22:00:54.915Z"
   },
   {
    "duration": 31907,
    "start_time": "2022-09-08T22:00:54.938Z"
   },
   {
    "duration": 554,
    "start_time": "2022-09-08T22:01:26.847Z"
   },
   {
    "duration": 8,
    "start_time": "2022-09-08T22:01:27.404Z"
   },
   {
    "duration": 346,
    "start_time": "2022-09-08T22:01:27.414Z"
   },
   {
    "duration": 355,
    "start_time": "2022-09-08T22:01:27.761Z"
   },
   {
    "duration": 292,
    "start_time": "2022-09-08T22:01:28.117Z"
   },
   {
    "duration": 4,
    "start_time": "2022-09-08T22:01:28.411Z"
   },
   {
    "duration": 6,
    "start_time": "2022-09-08T22:01:28.416Z"
   },
   {
    "duration": 10,
    "start_time": "2022-09-08T22:01:28.423Z"
   },
   {
    "duration": 24,
    "start_time": "2022-09-08T22:01:28.434Z"
   },
   {
    "duration": 6,
    "start_time": "2022-09-08T22:01:28.459Z"
   },
   {
    "duration": 2407,
    "start_time": "2022-09-08T22:01:28.466Z"
   },
   {
    "duration": 40280,
    "start_time": "2022-09-08T22:01:30.875Z"
   },
   {
    "duration": 136725,
    "start_time": "2022-09-08T22:02:11.157Z"
   },
   {
    "duration": 5,
    "start_time": "2022-09-08T22:04:27.884Z"
   },
   {
    "duration": 7,
    "start_time": "2022-09-08T22:04:27.890Z"
   },
   {
    "duration": 6,
    "start_time": "2022-09-08T22:04:27.899Z"
   },
   {
    "duration": 290,
    "start_time": "2022-09-08T22:04:27.906Z"
   },
   {
    "duration": 13152,
    "start_time": "2022-10-02T21:30:08.392Z"
   },
   {
    "duration": 2945,
    "start_time": "2022-10-02T21:30:21.546Z"
   },
   {
    "duration": 122,
    "start_time": "2022-10-02T21:30:24.493Z"
   },
   {
    "duration": 3,
    "start_time": "2022-10-02T21:30:24.617Z"
   },
   {
    "duration": 2686,
    "start_time": "2022-10-02T21:30:24.621Z"
   },
   {
    "duration": 9,
    "start_time": "2022-10-02T21:30:27.309Z"
   },
   {
    "duration": 15,
    "start_time": "2022-10-02T21:30:27.319Z"
   },
   {
    "duration": 34140,
    "start_time": "2022-10-02T21:30:27.335Z"
   },
   {
    "duration": 574,
    "start_time": "2022-10-02T21:31:01.478Z"
   },
   {
    "duration": 175,
    "start_time": "2022-10-02T21:31:02.055Z"
   },
   {
    "duration": 0,
    "start_time": "2022-10-02T21:31:02.232Z"
   },
   {
    "duration": 0,
    "start_time": "2022-10-02T21:31:02.232Z"
   },
   {
    "duration": 0,
    "start_time": "2022-10-02T21:31:02.233Z"
   },
   {
    "duration": 0,
    "start_time": "2022-10-02T21:31:02.235Z"
   },
   {
    "duration": 0,
    "start_time": "2022-10-02T21:31:02.236Z"
   },
   {
    "duration": 0,
    "start_time": "2022-10-02T21:31:02.237Z"
   },
   {
    "duration": 0,
    "start_time": "2022-10-02T21:31:02.238Z"
   },
   {
    "duration": 0,
    "start_time": "2022-10-02T21:31:02.239Z"
   },
   {
    "duration": 0,
    "start_time": "2022-10-02T21:31:02.240Z"
   },
   {
    "duration": 0,
    "start_time": "2022-10-02T21:31:02.241Z"
   },
   {
    "duration": 0,
    "start_time": "2022-10-02T21:31:02.242Z"
   },
   {
    "duration": 0,
    "start_time": "2022-10-02T21:31:02.243Z"
   },
   {
    "duration": 0,
    "start_time": "2022-10-02T21:31:02.244Z"
   },
   {
    "duration": 0,
    "start_time": "2022-10-02T21:31:02.245Z"
   },
   {
    "duration": 1964,
    "start_time": "2022-10-02T21:48:10.057Z"
   },
   {
    "duration": 1746,
    "start_time": "2022-10-02T21:48:12.023Z"
   },
   {
    "duration": 47,
    "start_time": "2022-10-02T21:48:13.771Z"
   },
   {
    "duration": 3,
    "start_time": "2022-10-02T21:48:13.819Z"
   },
   {
    "duration": 2617,
    "start_time": "2022-10-02T21:48:13.823Z"
   },
   {
    "duration": 8,
    "start_time": "2022-10-02T21:48:16.441Z"
   },
   {
    "duration": 15,
    "start_time": "2022-10-02T21:48:16.451Z"
   },
   {
    "duration": 32771,
    "start_time": "2022-10-02T21:48:16.467Z"
   },
   {
    "duration": 509,
    "start_time": "2022-10-02T21:48:49.239Z"
   },
   {
    "duration": 158,
    "start_time": "2022-10-02T21:48:49.750Z"
   },
   {
    "duration": 0,
    "start_time": "2022-10-02T21:48:49.909Z"
   },
   {
    "duration": 1,
    "start_time": "2022-10-02T21:48:49.910Z"
   },
   {
    "duration": 0,
    "start_time": "2022-10-02T21:48:49.911Z"
   },
   {
    "duration": 0,
    "start_time": "2022-10-02T21:48:49.912Z"
   },
   {
    "duration": 0,
    "start_time": "2022-10-02T21:48:49.913Z"
   },
   {
    "duration": 0,
    "start_time": "2022-10-02T21:48:49.913Z"
   },
   {
    "duration": 0,
    "start_time": "2022-10-02T21:48:49.914Z"
   },
   {
    "duration": 0,
    "start_time": "2022-10-02T21:48:49.915Z"
   },
   {
    "duration": 0,
    "start_time": "2022-10-02T21:48:49.916Z"
   },
   {
    "duration": 0,
    "start_time": "2022-10-02T21:48:49.917Z"
   },
   {
    "duration": 0,
    "start_time": "2022-10-02T21:48:49.918Z"
   },
   {
    "duration": 0,
    "start_time": "2022-10-02T21:48:49.918Z"
   },
   {
    "duration": 0,
    "start_time": "2022-10-02T21:48:49.919Z"
   },
   {
    "duration": 0,
    "start_time": "2022-10-02T21:48:49.920Z"
   },
   {
    "duration": 0,
    "start_time": "2022-10-02T21:48:49.920Z"
   },
   {
    "duration": 1926,
    "start_time": "2022-10-02T21:50:08.766Z"
   },
   {
    "duration": 1796,
    "start_time": "2022-10-02T21:50:10.694Z"
   },
   {
    "duration": 46,
    "start_time": "2022-10-02T21:50:12.492Z"
   },
   {
    "duration": 2,
    "start_time": "2022-10-02T21:50:12.540Z"
   },
   {
    "duration": 2596,
    "start_time": "2022-10-02T21:50:12.543Z"
   },
   {
    "duration": 9,
    "start_time": "2022-10-02T21:50:15.140Z"
   },
   {
    "duration": 15,
    "start_time": "2022-10-02T21:50:15.151Z"
   },
   {
    "duration": 33086,
    "start_time": "2022-10-02T21:50:15.167Z"
   },
   {
    "duration": 520,
    "start_time": "2022-10-02T21:50:48.255Z"
   },
   {
    "duration": 166,
    "start_time": "2022-10-02T21:50:48.777Z"
   },
   {
    "duration": 0,
    "start_time": "2022-10-02T21:50:48.945Z"
   },
   {
    "duration": 0,
    "start_time": "2022-10-02T21:50:48.946Z"
   },
   {
    "duration": 0,
    "start_time": "2022-10-02T21:50:48.947Z"
   },
   {
    "duration": 0,
    "start_time": "2022-10-02T21:50:48.948Z"
   },
   {
    "duration": 0,
    "start_time": "2022-10-02T21:50:48.948Z"
   },
   {
    "duration": 0,
    "start_time": "2022-10-02T21:50:48.949Z"
   },
   {
    "duration": 0,
    "start_time": "2022-10-02T21:50:48.950Z"
   },
   {
    "duration": 0,
    "start_time": "2022-10-02T21:50:48.952Z"
   },
   {
    "duration": 0,
    "start_time": "2022-10-02T21:50:48.952Z"
   },
   {
    "duration": 0,
    "start_time": "2022-10-02T21:50:48.953Z"
   },
   {
    "duration": 0,
    "start_time": "2022-10-02T21:50:48.954Z"
   },
   {
    "duration": 0,
    "start_time": "2022-10-02T21:50:48.955Z"
   },
   {
    "duration": 0,
    "start_time": "2022-10-02T21:50:48.956Z"
   },
   {
    "duration": 0,
    "start_time": "2022-10-02T21:50:48.956Z"
   },
   {
    "duration": 0,
    "start_time": "2022-10-02T21:50:48.957Z"
   },
   {
    "duration": 2000,
    "start_time": "2022-10-02T21:53:05.525Z"
   },
   {
    "duration": 1836,
    "start_time": "2022-10-02T21:53:07.529Z"
   },
   {
    "duration": 50,
    "start_time": "2022-10-02T21:53:09.366Z"
   },
   {
    "duration": 3,
    "start_time": "2022-10-02T21:53:09.417Z"
   },
   {
    "duration": 2622,
    "start_time": "2022-10-02T21:53:09.422Z"
   },
   {
    "duration": 8,
    "start_time": "2022-10-02T21:53:12.046Z"
   },
   {
    "duration": 76,
    "start_time": "2022-10-02T21:53:12.055Z"
   },
   {
    "duration": 34185,
    "start_time": "2022-10-02T21:53:12.132Z"
   },
   {
    "duration": 620,
    "start_time": "2022-10-02T21:53:46.319Z"
   },
   {
    "duration": 191,
    "start_time": "2022-10-02T21:53:46.940Z"
   },
   {
    "duration": 0,
    "start_time": "2022-10-02T21:53:47.133Z"
   },
   {
    "duration": 0,
    "start_time": "2022-10-02T21:53:47.135Z"
   },
   {
    "duration": 0,
    "start_time": "2022-10-02T21:53:47.136Z"
   },
   {
    "duration": 0,
    "start_time": "2022-10-02T21:53:47.137Z"
   },
   {
    "duration": 0,
    "start_time": "2022-10-02T21:53:47.138Z"
   },
   {
    "duration": 0,
    "start_time": "2022-10-02T21:53:47.140Z"
   },
   {
    "duration": 0,
    "start_time": "2022-10-02T21:53:47.141Z"
   },
   {
    "duration": 0,
    "start_time": "2022-10-02T21:53:47.142Z"
   },
   {
    "duration": 0,
    "start_time": "2022-10-02T21:53:47.143Z"
   },
   {
    "duration": 0,
    "start_time": "2022-10-02T21:53:47.144Z"
   },
   {
    "duration": 0,
    "start_time": "2022-10-02T21:53:47.145Z"
   },
   {
    "duration": 0,
    "start_time": "2022-10-02T21:53:47.146Z"
   },
   {
    "duration": 0,
    "start_time": "2022-10-02T21:53:47.147Z"
   },
   {
    "duration": 0,
    "start_time": "2022-10-02T21:53:47.149Z"
   },
   {
    "duration": 0,
    "start_time": "2022-10-02T21:53:47.150Z"
   },
   {
    "duration": 2156,
    "start_time": "2022-10-02T21:53:53.806Z"
   },
   {
    "duration": 4,
    "start_time": "2022-10-02T21:53:55.965Z"
   },
   {
    "duration": 48,
    "start_time": "2022-10-02T21:53:55.970Z"
   },
   {
    "duration": 3,
    "start_time": "2022-10-02T21:53:56.019Z"
   },
   {
    "duration": 2498,
    "start_time": "2022-10-02T21:53:56.024Z"
   },
   {
    "duration": 9,
    "start_time": "2022-10-02T21:53:58.524Z"
   },
   {
    "duration": 18,
    "start_time": "2022-10-02T21:53:58.535Z"
   },
   {
    "duration": 34496,
    "start_time": "2022-10-02T21:53:58.554Z"
   },
   {
    "duration": 571,
    "start_time": "2022-10-02T21:54:33.051Z"
   },
   {
    "duration": 14,
    "start_time": "2022-10-02T21:54:33.624Z"
   },
   {
    "duration": 0,
    "start_time": "2022-10-02T21:54:33.640Z"
   },
   {
    "duration": 0,
    "start_time": "2022-10-02T21:54:33.641Z"
   },
   {
    "duration": 0,
    "start_time": "2022-10-02T21:54:33.642Z"
   },
   {
    "duration": 0,
    "start_time": "2022-10-02T21:54:33.643Z"
   },
   {
    "duration": 0,
    "start_time": "2022-10-02T21:54:33.643Z"
   },
   {
    "duration": 0,
    "start_time": "2022-10-02T21:54:33.644Z"
   },
   {
    "duration": 0,
    "start_time": "2022-10-02T21:54:33.645Z"
   },
   {
    "duration": 0,
    "start_time": "2022-10-02T21:54:33.646Z"
   },
   {
    "duration": 0,
    "start_time": "2022-10-02T21:54:33.647Z"
   },
   {
    "duration": 0,
    "start_time": "2022-10-02T21:54:33.648Z"
   },
   {
    "duration": 0,
    "start_time": "2022-10-02T21:54:33.649Z"
   },
   {
    "duration": 0,
    "start_time": "2022-10-02T21:54:33.651Z"
   },
   {
    "duration": 0,
    "start_time": "2022-10-02T21:54:33.652Z"
   },
   {
    "duration": 0,
    "start_time": "2022-10-02T21:54:33.653Z"
   },
   {
    "duration": 0,
    "start_time": "2022-10-02T21:54:33.654Z"
   },
   {
    "duration": 7,
    "start_time": "2022-10-02T22:00:29.678Z"
   },
   {
    "duration": 5,
    "start_time": "2022-10-02T22:00:57.870Z"
   },
   {
    "duration": 7,
    "start_time": "2022-10-02T22:01:02.990Z"
   },
   {
    "duration": 343,
    "start_time": "2022-10-02T22:01:05.418Z"
   },
   {
    "duration": 309,
    "start_time": "2022-10-02T22:01:07.372Z"
   },
   {
    "duration": 308,
    "start_time": "2022-10-02T22:01:10.135Z"
   },
   {
    "duration": 2024,
    "start_time": "2022-10-02T22:01:51.959Z"
   },
   {
    "duration": 1816,
    "start_time": "2022-10-02T22:01:53.985Z"
   },
   {
    "duration": 47,
    "start_time": "2022-10-02T22:01:55.802Z"
   },
   {
    "duration": 2,
    "start_time": "2022-10-02T22:01:55.851Z"
   },
   {
    "duration": 2701,
    "start_time": "2022-10-02T22:01:55.855Z"
   },
   {
    "duration": 9,
    "start_time": "2022-10-02T22:01:58.557Z"
   },
   {
    "duration": 42,
    "start_time": "2022-10-02T22:01:58.568Z"
   },
   {
    "duration": 33866,
    "start_time": "2022-10-02T22:01:58.612Z"
   },
   {
    "duration": 539,
    "start_time": "2022-10-02T22:02:32.479Z"
   },
   {
    "duration": 8,
    "start_time": "2022-10-02T22:02:33.020Z"
   },
   {
    "duration": 328,
    "start_time": "2022-10-02T22:02:33.030Z"
   },
   {
    "duration": 317,
    "start_time": "2022-10-02T22:02:33.359Z"
   },
   {
    "duration": 285,
    "start_time": "2022-10-02T22:02:33.678Z"
   },
   {
    "duration": 5,
    "start_time": "2022-10-02T22:02:33.966Z"
   },
   {
    "duration": 9,
    "start_time": "2022-10-02T22:02:33.973Z"
   },
   {
    "duration": 36,
    "start_time": "2022-10-02T22:02:33.983Z"
   },
   {
    "duration": 12,
    "start_time": "2022-10-02T22:02:34.021Z"
   },
   {
    "duration": 9,
    "start_time": "2022-10-02T22:02:34.035Z"
   },
   {
    "duration": 2690,
    "start_time": "2022-10-02T22:02:34.046Z"
   },
   {
    "duration": 21300,
    "start_time": "2022-10-02T22:37:24.202Z"
   },
   {
    "duration": 17807,
    "start_time": "2022-10-02T22:37:45.504Z"
   },
   {
    "duration": 493,
    "start_time": "2022-10-02T22:38:03.313Z"
   },
   {
    "duration": 93,
    "start_time": "2022-10-02T22:38:03.810Z"
   },
   {
    "duration": 24395,
    "start_time": "2022-10-02T22:38:03.911Z"
   },
   {
    "duration": 195,
    "start_time": "2022-10-02T22:38:28.309Z"
   },
   {
    "duration": 593,
    "start_time": "2022-10-02T22:38:28.508Z"
   },
   {
    "duration": 330601,
    "start_time": "2022-10-02T22:38:29.104Z"
   },
   {
    "duration": 2892,
    "start_time": "2022-10-02T22:43:59.709Z"
   },
   {
    "duration": 101,
    "start_time": "2022-10-02T22:44:02.607Z"
   },
   {
    "duration": 2210,
    "start_time": "2022-10-02T22:44:02.804Z"
   },
   {
    "duration": 2289,
    "start_time": "2022-10-02T22:44:05.015Z"
   },
   {
    "duration": 1806,
    "start_time": "2022-10-02T22:44:07.306Z"
   },
   {
    "duration": 5,
    "start_time": "2022-10-02T22:44:09.204Z"
   },
   {
    "duration": 189,
    "start_time": "2022-10-02T22:44:09.212Z"
   },
   {
    "duration": 101,
    "start_time": "2022-10-02T22:44:09.408Z"
   },
   {
    "duration": 103,
    "start_time": "2022-10-02T22:44:09.606Z"
   },
   {
    "duration": 9,
    "start_time": "2022-10-02T22:44:09.801Z"
   },
   {
    "duration": 5109,
    "start_time": "2022-10-02T22:44:09.901Z"
   },
   {
    "duration": 1841904,
    "start_time": "2022-10-02T22:44:15.012Z"
   },
   {
    "duration": 3242,
    "start_time": "2022-10-02T23:14:56.918Z"
   },
   {
    "duration": 11,
    "start_time": "2022-10-02T23:15:00.161Z"
   },
   {
    "duration": 0,
    "start_time": "2022-10-02T23:15:00.174Z"
   },
   {
    "duration": 0,
    "start_time": "2022-10-02T23:15:00.175Z"
   },
   {
    "duration": 0,
    "start_time": "2022-10-02T23:15:00.176Z"
   },
   {
    "duration": 3008,
    "start_time": "2022-10-02T23:16:35.277Z"
   },
   {
    "duration": 7,
    "start_time": "2022-10-02T23:44:57.309Z"
   },
   {
    "duration": 11250,
    "start_time": "2022-10-02T23:45:06.525Z"
   },
   {
    "duration": 7,
    "start_time": "2022-10-02T23:45:33.656Z"
   },
   {
    "duration": 1946,
    "start_time": "2022-10-02T23:46:57.040Z"
   },
   {
    "duration": 1803,
    "start_time": "2022-10-02T23:46:58.988Z"
   },
   {
    "duration": 48,
    "start_time": "2022-10-02T23:47:00.792Z"
   },
   {
    "duration": 3,
    "start_time": "2022-10-02T23:47:00.842Z"
   },
   {
    "duration": 2605,
    "start_time": "2022-10-02T23:47:00.846Z"
   },
   {
    "duration": 11,
    "start_time": "2022-10-02T23:47:03.453Z"
   },
   {
    "duration": 45,
    "start_time": "2022-10-02T23:47:03.466Z"
   },
   {
    "duration": 32188,
    "start_time": "2022-10-02T23:47:03.513Z"
   },
   {
    "duration": 509,
    "start_time": "2022-10-02T23:47:35.703Z"
   },
   {
    "duration": 6,
    "start_time": "2022-10-02T23:47:36.214Z"
   },
   {
    "duration": 327,
    "start_time": "2022-10-02T23:47:36.222Z"
   },
   {
    "duration": 306,
    "start_time": "2022-10-02T23:47:36.551Z"
   },
   {
    "duration": 285,
    "start_time": "2022-10-02T23:47:36.859Z"
   },
   {
    "duration": 4,
    "start_time": "2022-10-02T23:47:37.146Z"
   },
   {
    "duration": 7,
    "start_time": "2022-10-02T23:47:37.151Z"
   },
   {
    "duration": 8,
    "start_time": "2022-10-02T23:47:37.160Z"
   },
   {
    "duration": 31,
    "start_time": "2022-10-02T23:47:37.169Z"
   },
   {
    "duration": 7,
    "start_time": "2022-10-02T23:47:37.202Z"
   },
   {
    "duration": 365,
    "start_time": "2022-10-02T23:47:37.211Z"
   },
   {
    "duration": 686,
    "start_time": "2022-10-02T23:47:37.578Z"
   },
   {
    "duration": 3112,
    "start_time": "2022-10-02T23:47:38.265Z"
   },
   {
    "duration": 12,
    "start_time": "2022-10-02T23:47:41.379Z"
   },
   {
    "duration": 0,
    "start_time": "2022-10-02T23:47:41.393Z"
   },
   {
    "duration": 0,
    "start_time": "2022-10-02T23:47:41.395Z"
   },
   {
    "duration": 0,
    "start_time": "2022-10-02T23:47:41.396Z"
   },
   {
    "duration": 6,
    "start_time": "2022-10-02T23:48:11.973Z"
   },
   {
    "duration": 7,
    "start_time": "2022-10-02T23:48:17.563Z"
   },
   {
    "duration": 55,
    "start_time": "2022-10-02T23:48:41.958Z"
   },
   {
    "duration": 29637,
    "start_time": "2022-10-02T23:48:47.719Z"
   },
   {
    "duration": 2987,
    "start_time": "2022-10-02T23:49:28.002Z"
   },
   {
    "duration": 2898,
    "start_time": "2022-10-02T23:49:34.285Z"
   },
   {
    "duration": 3351,
    "start_time": "2022-10-02T23:49:58.863Z"
   },
   {
    "duration": 2867,
    "start_time": "2022-10-02T23:50:19.016Z"
   },
   {
    "duration": 7,
    "start_time": "2022-10-02T23:50:37.623Z"
   },
   {
    "duration": 234,
    "start_time": "2022-10-02T23:50:39.679Z"
   },
   {
    "duration": 29,
    "start_time": "2022-10-02T23:51:36.657Z"
   },
   {
    "duration": 3085,
    "start_time": "2022-10-02T23:52:34.238Z"
   },
   {
    "duration": 7,
    "start_time": "2022-10-02T23:52:45.073Z"
   },
   {
    "duration": 2950,
    "start_time": "2022-10-02T23:52:49.901Z"
   },
   {
    "duration": 6,
    "start_time": "2022-10-02T23:53:04.008Z"
   },
   {
    "duration": 2862,
    "start_time": "2022-10-02T23:53:06.932Z"
   },
   {
    "duration": 3042,
    "start_time": "2022-10-02T23:53:14.455Z"
   },
   {
    "duration": 6,
    "start_time": "2022-10-02T23:56:38.788Z"
   },
   {
    "duration": 2975,
    "start_time": "2022-10-02T23:56:44.128Z"
   },
   {
    "duration": 7,
    "start_time": "2022-10-02T23:59:10.432Z"
   },
   {
    "duration": 3100,
    "start_time": "2022-10-02T23:59:13.137Z"
   },
   {
    "duration": 7,
    "start_time": "2022-10-02T23:59:26.216Z"
   },
   {
    "duration": 2409,
    "start_time": "2022-10-02T23:59:28.820Z"
   },
   {
    "duration": 7,
    "start_time": "2022-10-02T23:59:43.988Z"
   },
   {
    "duration": 2436,
    "start_time": "2022-10-02T23:59:46.193Z"
   },
   {
    "duration": 7,
    "start_time": "2022-10-02T23:59:56.344Z"
   },
   {
    "duration": 2086,
    "start_time": "2022-10-02T23:59:58.337Z"
   },
   {
    "duration": 11840,
    "start_time": "2022-10-03T00:00:19.221Z"
   },
   {
    "duration": 108804,
    "start_time": "2022-10-03T00:00:31.063Z"
   },
   {
    "duration": 120640,
    "start_time": "2022-10-03T00:02:32.373Z"
   },
   {
    "duration": 70157,
    "start_time": "2022-10-03T00:04:37.859Z"
   },
   {
    "duration": 8,
    "start_time": "2022-10-03T00:06:29.982Z"
   },
   {
    "duration": 2939,
    "start_time": "2022-10-03T00:06:33.501Z"
   },
   {
    "duration": 7,
    "start_time": "2022-10-03T00:06:52.557Z"
   },
   {
    "duration": 2930,
    "start_time": "2022-10-03T00:06:55.501Z"
   },
   {
    "duration": 6,
    "start_time": "2022-10-03T00:07:57.870Z"
   },
   {
    "duration": 206,
    "start_time": "2022-10-03T00:07:59.906Z"
   },
   {
    "duration": 2889,
    "start_time": "2022-10-03T00:08:05.783Z"
   },
   {
    "duration": 7,
    "start_time": "2022-10-03T00:09:25.990Z"
   },
   {
    "duration": 13057,
    "start_time": "2022-10-03T00:09:29.369Z"
   },
   {
    "duration": 59,
    "start_time": "2022-10-03T00:09:45.662Z"
   },
   {
    "duration": 11948,
    "start_time": "2022-10-03T00:09:50.246Z"
   },
   {
    "duration": 88,
    "start_time": "2022-10-03T00:10:25.711Z"
   },
   {
    "duration": 7,
    "start_time": "2022-10-03T00:10:33.887Z"
   },
   {
    "duration": 1727,
    "start_time": "2022-10-03T00:10:35.784Z"
   },
   {
    "duration": 7,
    "start_time": "2022-10-03T00:11:14.718Z"
   },
   {
    "duration": 1799,
    "start_time": "2022-10-03T00:11:16.611Z"
   },
   {
    "duration": 7,
    "start_time": "2022-10-03T00:13:28.427Z"
   },
   {
    "duration": 2946,
    "start_time": "2022-10-03T00:13:33.143Z"
   },
   {
    "duration": 6,
    "start_time": "2022-10-03T00:13:59.811Z"
   },
   {
    "duration": 52589,
    "start_time": "2022-10-03T00:14:03.231Z"
   },
   {
    "duration": 99,
    "start_time": "2022-10-03T00:15:00.999Z"
   },
   {
    "duration": 1855,
    "start_time": "2022-10-03T00:15:34.656Z"
   },
   {
    "duration": 71,
    "start_time": "2022-10-03T00:15:39.930Z"
   },
   {
    "duration": 7,
    "start_time": "2022-10-03T00:15:51.203Z"
   },
   {
    "duration": 2047,
    "start_time": "2022-10-03T00:15:53.344Z"
   },
   {
    "duration": 89,
    "start_time": "2022-10-03T00:16:31.312Z"
   },
   {
    "duration": 11669,
    "start_time": "2022-10-03T00:16:35.555Z"
   },
   {
    "duration": 27474,
    "start_time": "2022-10-03T00:16:55.848Z"
   },
   {
    "duration": 4,
    "start_time": "2022-10-03T00:18:05.784Z"
   },
   {
    "duration": 7,
    "start_time": "2022-10-03T00:18:15.847Z"
   },
   {
    "duration": 6,
    "start_time": "2022-10-03T00:18:18.912Z"
   },
   {
    "duration": 276,
    "start_time": "2022-10-03T00:18:23.211Z"
   },
   {
    "duration": 1982,
    "start_time": "2022-10-03T00:18:53.073Z"
   },
   {
    "duration": 1726,
    "start_time": "2022-10-03T00:18:55.057Z"
   },
   {
    "duration": 48,
    "start_time": "2022-10-03T00:18:56.786Z"
   },
   {
    "duration": 3,
    "start_time": "2022-10-03T00:18:56.837Z"
   },
   {
    "duration": 2510,
    "start_time": "2022-10-03T00:18:56.842Z"
   },
   {
    "duration": 8,
    "start_time": "2022-10-03T00:18:59.354Z"
   },
   {
    "duration": 40,
    "start_time": "2022-10-03T00:18:59.364Z"
   },
   {
    "duration": 32131,
    "start_time": "2022-10-03T00:18:59.406Z"
   },
   {
    "duration": 503,
    "start_time": "2022-10-03T00:19:31.540Z"
   },
   {
    "duration": 6,
    "start_time": "2022-10-03T00:19:32.045Z"
   },
   {
    "duration": 320,
    "start_time": "2022-10-03T00:19:32.053Z"
   },
   {
    "duration": 289,
    "start_time": "2022-10-03T00:19:32.375Z"
   },
   {
    "duration": 290,
    "start_time": "2022-10-03T00:19:32.667Z"
   },
   {
    "duration": 4,
    "start_time": "2022-10-03T00:19:32.959Z"
   },
   {
    "duration": 7,
    "start_time": "2022-10-03T00:19:32.965Z"
   },
   {
    "duration": 28,
    "start_time": "2022-10-03T00:19:32.973Z"
   },
   {
    "duration": 7,
    "start_time": "2022-10-03T00:19:33.002Z"
   },
   {
    "duration": 7,
    "start_time": "2022-10-03T00:19:33.011Z"
   },
   {
    "duration": 2127,
    "start_time": "2022-10-03T00:19:33.019Z"
   },
   {
    "duration": 12110,
    "start_time": "2022-10-03T00:19:35.147Z"
   },
   {
    "duration": 8643,
    "start_time": "2022-10-03T00:19:47.259Z"
   },
   {
    "duration": 11,
    "start_time": "2022-10-03T00:19:55.904Z"
   },
   {
    "duration": 0,
    "start_time": "2022-10-03T00:19:55.917Z"
   },
   {
    "duration": 0,
    "start_time": "2022-10-03T00:19:55.918Z"
   },
   {
    "duration": 0,
    "start_time": "2022-10-03T00:19:55.920Z"
   },
   {
    "duration": 7,
    "start_time": "2022-10-03T00:22:31.147Z"
   },
   {
    "duration": 62,
    "start_time": "2022-10-03T00:22:32.907Z"
   },
   {
    "duration": 8,
    "start_time": "2022-10-03T00:27:40.976Z"
   },
   {
    "duration": 58,
    "start_time": "2022-10-03T00:27:42.932Z"
   },
   {
    "duration": 1994,
    "start_time": "2022-10-03T00:27:47.640Z"
   },
   {
    "duration": 7,
    "start_time": "2022-10-03T00:28:55.581Z"
   },
   {
    "duration": 1897,
    "start_time": "2022-10-03T00:28:57.614Z"
   },
   {
    "duration": 1855,
    "start_time": "2022-10-03T00:29:39.456Z"
   },
   {
    "duration": 7,
    "start_time": "2022-10-03T00:29:50.057Z"
   },
   {
    "duration": 3423,
    "start_time": "2022-10-03T00:29:52.588Z"
   },
   {
    "duration": 2,
    "start_time": "2022-10-03T00:30:36.066Z"
   },
   {
    "duration": 11,
    "start_time": "2022-10-03T00:30:48.430Z"
   },
   {
    "duration": 3,
    "start_time": "2022-10-03T00:31:04.573Z"
   },
   {
    "duration": 3,
    "start_time": "2022-10-03T00:31:12.211Z"
   },
   {
    "duration": 4,
    "start_time": "2022-10-03T00:31:12.717Z"
   },
   {
    "duration": 7,
    "start_time": "2022-10-03T00:31:45.848Z"
   },
   {
    "duration": 1873,
    "start_time": "2022-10-03T00:31:49.637Z"
   },
   {
    "duration": 6,
    "start_time": "2022-10-03T00:32:05.993Z"
   },
   {
    "duration": 1794,
    "start_time": "2022-10-03T00:32:08.717Z"
   },
   {
    "duration": 10974,
    "start_time": "2022-10-03T00:32:55.337Z"
   },
   {
    "duration": 1987,
    "start_time": "2022-10-03T00:34:38.572Z"
   },
   {
    "duration": 1712,
    "start_time": "2022-10-03T00:34:40.562Z"
   },
   {
    "duration": 46,
    "start_time": "2022-10-03T00:34:42.275Z"
   },
   {
    "duration": 2,
    "start_time": "2022-10-03T00:34:42.323Z"
   },
   {
    "duration": 2552,
    "start_time": "2022-10-03T00:34:42.327Z"
   },
   {
    "duration": 24,
    "start_time": "2022-10-03T00:34:44.880Z"
   },
   {
    "duration": 15,
    "start_time": "2022-10-03T00:34:44.906Z"
   },
   {
    "duration": 32022,
    "start_time": "2022-10-03T00:34:44.923Z"
   },
   {
    "duration": 512,
    "start_time": "2022-10-03T00:35:16.947Z"
   },
   {
    "duration": 7,
    "start_time": "2022-10-03T00:35:17.460Z"
   },
   {
    "duration": 299,
    "start_time": "2022-10-03T00:35:17.468Z"
   },
   {
    "duration": 341,
    "start_time": "2022-10-03T00:35:17.768Z"
   },
   {
    "duration": 245,
    "start_time": "2022-10-03T00:35:18.110Z"
   },
   {
    "duration": 4,
    "start_time": "2022-10-03T00:35:18.357Z"
   },
   {
    "duration": 6,
    "start_time": "2022-10-03T00:35:18.363Z"
   },
   {
    "duration": 38,
    "start_time": "2022-10-03T00:35:18.370Z"
   },
   {
    "duration": 7,
    "start_time": "2022-10-03T00:35:18.410Z"
   },
   {
    "duration": 7,
    "start_time": "2022-10-03T00:35:18.418Z"
   },
   {
    "duration": 2048,
    "start_time": "2022-10-03T00:35:18.426Z"
   },
   {
    "duration": 14492,
    "start_time": "2022-10-03T00:35:20.475Z"
   },
   {
    "duration": 28176,
    "start_time": "2022-10-03T00:35:34.968Z"
   },
   {
    "duration": 9,
    "start_time": "2022-10-03T00:36:03.145Z"
   },
   {
    "duration": 0,
    "start_time": "2022-10-03T00:36:03.156Z"
   },
   {
    "duration": 0,
    "start_time": "2022-10-03T00:36:03.157Z"
   },
   {
    "duration": 0,
    "start_time": "2022-10-03T00:36:03.158Z"
   },
   {
    "duration": 0,
    "start_time": "2022-10-03T00:36:03.159Z"
   },
   {
    "duration": 0,
    "start_time": "2022-10-03T00:36:03.160Z"
   },
   {
    "duration": 7,
    "start_time": "2022-10-03T00:36:07.232Z"
   },
   {
    "duration": 3692,
    "start_time": "2022-10-03T00:36:12.342Z"
   },
   {
    "duration": 7,
    "start_time": "2022-10-03T00:37:22.365Z"
   },
   {
    "duration": 2002,
    "start_time": "2022-10-03T00:37:24.423Z"
   },
   {
    "duration": 7,
    "start_time": "2022-10-03T00:38:43.139Z"
   },
   {
    "duration": 1972,
    "start_time": "2022-10-03T00:38:45.566Z"
   },
   {
    "duration": 23291,
    "start_time": "2022-10-03T00:38:50.723Z"
   },
   {
    "duration": 7,
    "start_time": "2022-10-03T00:39:14.015Z"
   },
   {
    "duration": 7,
    "start_time": "2022-10-03T00:39:16.704Z"
   },
   {
    "duration": 28003,
    "start_time": "2022-10-03T00:39:20.017Z"
   },
   {
    "duration": 7,
    "start_time": "2022-10-03T00:41:28.289Z"
   },
   {
    "duration": 26637,
    "start_time": "2022-10-03T00:41:31.243Z"
   },
   {
    "duration": 12,
    "start_time": "2022-10-03T00:42:34.928Z"
   },
   {
    "duration": 4,
    "start_time": "2022-10-03T00:42:44.671Z"
   },
   {
    "duration": 3,
    "start_time": "2022-10-03T00:43:50.888Z"
   },
   {
    "duration": 4,
    "start_time": "2022-10-03T00:43:57.119Z"
   },
   {
    "duration": 4,
    "start_time": "2022-10-03T00:44:09.019Z"
   },
   {
    "duration": 4,
    "start_time": "2022-10-03T00:44:20.592Z"
   },
   {
    "duration": 4,
    "start_time": "2022-10-03T00:44:32.403Z"
   },
   {
    "duration": 15,
    "start_time": "2022-10-03T00:44:37.664Z"
   },
   {
    "duration": 4,
    "start_time": "2022-10-03T00:44:41.268Z"
   },
   {
    "duration": 7,
    "start_time": "2022-10-03T00:44:49.156Z"
   },
   {
    "duration": 28519,
    "start_time": "2022-10-03T00:44:55.697Z"
   },
   {
    "duration": 5881,
    "start_time": "2022-10-03T00:45:49.176Z"
   },
   {
    "duration": 7,
    "start_time": "2022-10-03T00:45:58.928Z"
   },
   {
    "duration": 124751,
    "start_time": "2022-10-03T00:46:03.116Z"
   },
   {
    "duration": 8,
    "start_time": "2022-10-03T00:53:40.322Z"
   },
   {
    "duration": 126839,
    "start_time": "2022-10-03T00:53:46.537Z"
   },
   {
    "duration": 8,
    "start_time": "2022-10-03T00:59:28.313Z"
   },
   {
    "duration": 126461,
    "start_time": "2022-10-03T00:59:33.313Z"
   },
   {
    "duration": 2020,
    "start_time": "2022-10-03T01:02:41.423Z"
   },
   {
    "duration": 1785,
    "start_time": "2022-10-03T01:02:43.445Z"
   },
   {
    "duration": 46,
    "start_time": "2022-10-03T01:02:45.232Z"
   },
   {
    "duration": 3,
    "start_time": "2022-10-03T01:02:45.279Z"
   },
   {
    "duration": 2690,
    "start_time": "2022-10-03T01:02:45.284Z"
   },
   {
    "duration": 24,
    "start_time": "2022-10-03T01:02:47.976Z"
   },
   {
    "duration": 13,
    "start_time": "2022-10-03T01:02:48.002Z"
   },
   {
    "duration": 32608,
    "start_time": "2022-10-03T01:02:48.016Z"
   },
   {
    "duration": 500,
    "start_time": "2022-10-03T01:03:20.627Z"
   },
   {
    "duration": 6,
    "start_time": "2022-10-03T01:03:21.130Z"
   },
   {
    "duration": 319,
    "start_time": "2022-10-03T01:03:21.137Z"
   },
   {
    "duration": 307,
    "start_time": "2022-10-03T01:03:21.458Z"
   },
   {
    "duration": 286,
    "start_time": "2022-10-03T01:03:21.766Z"
   },
   {
    "duration": 4,
    "start_time": "2022-10-03T01:03:22.054Z"
   },
   {
    "duration": 5,
    "start_time": "2022-10-03T01:03:22.059Z"
   },
   {
    "duration": 8,
    "start_time": "2022-10-03T01:03:22.065Z"
   },
   {
    "duration": 25,
    "start_time": "2022-10-03T01:03:22.075Z"
   },
   {
    "duration": 10,
    "start_time": "2022-10-03T01:03:22.102Z"
   },
   {
    "duration": 2195,
    "start_time": "2022-10-03T01:03:22.114Z"
   },
   {
    "duration": 20259,
    "start_time": "2022-10-03T01:03:24.311Z"
   },
   {
    "duration": 124661,
    "start_time": "2022-10-03T01:03:44.571Z"
   },
   {
    "duration": 3,
    "start_time": "2022-10-03T01:05:49.234Z"
   },
   {
    "duration": 10,
    "start_time": "2022-10-03T01:05:49.238Z"
   },
   {
    "duration": 5,
    "start_time": "2022-10-03T01:05:49.249Z"
   },
   {
    "duration": 274,
    "start_time": "2022-10-03T01:05:49.255Z"
   },
   {
    "duration": 10,
    "start_time": "2022-11-17T08:49:19.867Z"
   },
   {
    "duration": 47,
    "start_time": "2022-11-17T08:49:31.652Z"
   },
   {
    "duration": 6,
    "start_time": "2022-11-17T08:49:34.467Z"
   },
   {
    "duration": 869,
    "start_time": "2022-11-17T08:49:36.242Z"
   },
   {
    "duration": 0,
    "start_time": "2022-11-17T08:49:37.113Z"
   },
   {
    "duration": 7,
    "start_time": "2022-11-17T08:49:37.826Z"
   },
   {
    "duration": 266,
    "start_time": "2022-11-17T08:49:41.185Z"
   },
   {
    "duration": 3,
    "start_time": "2022-11-17T08:49:42.718Z"
   },
   {
    "duration": 5,
    "start_time": "2022-11-17T08:49:43.766Z"
   },
   {
    "duration": 75,
    "start_time": "2022-11-17T08:49:44.811Z"
   },
   {
    "duration": 10,
    "start_time": "2022-11-17T08:50:05.119Z"
   },
   {
    "duration": 10,
    "start_time": "2022-11-17T08:50:10.077Z"
   },
   {
    "duration": 17,
    "start_time": "2022-11-17T08:50:12.061Z"
   },
   {
    "duration": 17,
    "start_time": "2022-11-17T08:50:12.358Z"
   },
   {
    "duration": 81,
    "start_time": "2022-11-17T08:50:14.927Z"
   },
   {
    "duration": 933,
    "start_time": "2022-11-17T08:51:00.256Z"
   },
   {
    "duration": 6,
    "start_time": "2022-11-17T08:54:09.038Z"
   },
   {
    "duration": 34,
    "start_time": "2022-11-17T08:54:09.513Z"
   },
   {
    "duration": 9,
    "start_time": "2022-11-17T08:54:23.410Z"
   },
   {
    "duration": 13,
    "start_time": "2022-11-17T08:54:56.183Z"
   },
   {
    "duration": 10,
    "start_time": "2022-11-17T08:55:13.105Z"
   },
   {
    "duration": 12,
    "start_time": "2022-11-17T08:55:20.128Z"
   },
   {
    "duration": 5,
    "start_time": "2022-11-17T08:55:33.025Z"
   },
   {
    "duration": 30,
    "start_time": "2022-11-17T08:55:33.471Z"
   },
   {
    "duration": 6,
    "start_time": "2022-11-17T08:55:48.340Z"
   },
   {
    "duration": 33,
    "start_time": "2022-11-17T08:55:49.890Z"
   },
   {
    "duration": 68,
    "start_time": "2022-11-17T08:55:57.432Z"
   }
  ],
  "kernelspec": {
   "display_name": "Python 3 (ipykernel)",
   "language": "python",
   "name": "python3"
  },
  "language_info": {
   "codemirror_mode": {
    "name": "ipython",
    "version": 3
   },
   "file_extension": ".py",
   "mimetype": "text/x-python",
   "name": "python",
   "nbconvert_exporter": "python",
   "pygments_lexer": "ipython3",
   "version": "3.9.5"
  },
  "toc": {
   "base_numbering": 1,
   "nav_menu": {
    "height": "211px",
    "width": "357px"
   },
   "number_sections": true,
   "sideBar": true,
   "skip_h1_title": true,
   "title_cell": "Содержание",
   "title_sidebar": "Contents",
   "toc_cell": true,
   "toc_position": {
    "height": "calc(100% - 180px)",
    "left": "10px",
    "top": "150px",
    "width": "224.523px"
   },
   "toc_section_display": true,
   "toc_window_display": false
  }
 },
 "nbformat": 4,
 "nbformat_minor": 2
}
