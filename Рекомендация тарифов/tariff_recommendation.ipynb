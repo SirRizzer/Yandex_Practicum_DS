{
 "cells": [
  {
   "cell_type": "markdown",
   "metadata": {},
   "source": [
    "# Рекомендация тарифов"
   ]
  },
  {
   "cell_type": "markdown",
   "metadata": {},
   "source": [
    "В вашем распоряжении данные о поведении клиентов, которые уже перешли на эти тарифы. Нужно построить модель для задачи классификации, которая выберет подходящий тариф. Предобработка данных не понадобится — вы её уже сделали.\n",
    "\n",
    "Постройте модель с максимально большим значением *accuracy*."
   ]
  },
  {
   "cell_type": "markdown",
   "metadata": {},
   "source": [
    "## Откройте и изучите файл"
   ]
  },
  {
   "cell_type": "code",
   "execution_count": 1,
   "metadata": {},
   "outputs": [],
   "source": [
    "import pandas as pd\n",
    "from sklearn.tree import DecisionTreeClassifier\n",
    "from sklearn.metrics import accuracy_score \n",
    "from sklearn.ensemble import RandomForestClassifier \n",
    "from sklearn.model_selection import train_test_split \n",
    "from sklearn.linear_model import LogisticRegression \n",
    "import seaborn as sns\n",
    "import matplotlib.pyplot as plt\n",
    "from sklearn.metrics import classification_report\n",
    "from sklearn.dummy import DummyClassifier"
   ]
  },
  {
   "cell_type": "code",
   "execution_count": 2,
   "metadata": {},
   "outputs": [],
   "source": [
    "df = pd.read_csv('/datasets/users_behavior.csv')"
   ]
  },
  {
   "cell_type": "code",
   "execution_count": 3,
   "metadata": {},
   "outputs": [
    {
     "data": {
      "text/html": [
       "<div>\n",
       "<style scoped>\n",
       "    .dataframe tbody tr th:only-of-type {\n",
       "        vertical-align: middle;\n",
       "    }\n",
       "\n",
       "    .dataframe tbody tr th {\n",
       "        vertical-align: top;\n",
       "    }\n",
       "\n",
       "    .dataframe thead th {\n",
       "        text-align: right;\n",
       "    }\n",
       "</style>\n",
       "<table border=\"1\" class=\"dataframe\">\n",
       "  <thead>\n",
       "    <tr style=\"text-align: right;\">\n",
       "      <th></th>\n",
       "      <th>calls</th>\n",
       "      <th>minutes</th>\n",
       "      <th>messages</th>\n",
       "      <th>mb_used</th>\n",
       "      <th>is_ultra</th>\n",
       "    </tr>\n",
       "  </thead>\n",
       "  <tbody>\n",
       "    <tr>\n",
       "      <th>0</th>\n",
       "      <td>40.0</td>\n",
       "      <td>311.90</td>\n",
       "      <td>83.0</td>\n",
       "      <td>19915.42</td>\n",
       "      <td>0</td>\n",
       "    </tr>\n",
       "    <tr>\n",
       "      <th>1</th>\n",
       "      <td>85.0</td>\n",
       "      <td>516.75</td>\n",
       "      <td>56.0</td>\n",
       "      <td>22696.96</td>\n",
       "      <td>0</td>\n",
       "    </tr>\n",
       "    <tr>\n",
       "      <th>2</th>\n",
       "      <td>77.0</td>\n",
       "      <td>467.66</td>\n",
       "      <td>86.0</td>\n",
       "      <td>21060.45</td>\n",
       "      <td>0</td>\n",
       "    </tr>\n",
       "    <tr>\n",
       "      <th>3</th>\n",
       "      <td>106.0</td>\n",
       "      <td>745.53</td>\n",
       "      <td>81.0</td>\n",
       "      <td>8437.39</td>\n",
       "      <td>1</td>\n",
       "    </tr>\n",
       "    <tr>\n",
       "      <th>4</th>\n",
       "      <td>66.0</td>\n",
       "      <td>418.74</td>\n",
       "      <td>1.0</td>\n",
       "      <td>14502.75</td>\n",
       "      <td>0</td>\n",
       "    </tr>\n",
       "  </tbody>\n",
       "</table>\n",
       "</div>"
      ],
      "text/plain": [
       "   calls  minutes  messages   mb_used  is_ultra\n",
       "0   40.0   311.90      83.0  19915.42         0\n",
       "1   85.0   516.75      56.0  22696.96         0\n",
       "2   77.0   467.66      86.0  21060.45         0\n",
       "3  106.0   745.53      81.0   8437.39         1\n",
       "4   66.0   418.74       1.0  14502.75         0"
      ]
     },
     "execution_count": 3,
     "metadata": {},
     "output_type": "execute_result"
    }
   ],
   "source": [
    "df.head()"
   ]
  },
  {
   "cell_type": "code",
   "execution_count": 4,
   "metadata": {},
   "outputs": [
    {
     "name": "stdout",
     "output_type": "stream",
     "text": [
      "<class 'pandas.core.frame.DataFrame'>\n",
      "RangeIndex: 3214 entries, 0 to 3213\n",
      "Data columns (total 5 columns):\n",
      " #   Column    Non-Null Count  Dtype  \n",
      "---  ------    --------------  -----  \n",
      " 0   calls     3214 non-null   float64\n",
      " 1   minutes   3214 non-null   float64\n",
      " 2   messages  3214 non-null   float64\n",
      " 3   mb_used   3214 non-null   float64\n",
      " 4   is_ultra  3214 non-null   int64  \n",
      "dtypes: float64(4), int64(1)\n",
      "memory usage: 125.7 KB\n"
     ]
    }
   ],
   "source": [
    "df.info()"
   ]
  },
  {
   "cell_type": "code",
   "execution_count": 5,
   "metadata": {},
   "outputs": [
    {
     "data": {
      "text/html": [
       "<div>\n",
       "<style scoped>\n",
       "    .dataframe tbody tr th:only-of-type {\n",
       "        vertical-align: middle;\n",
       "    }\n",
       "\n",
       "    .dataframe tbody tr th {\n",
       "        vertical-align: top;\n",
       "    }\n",
       "\n",
       "    .dataframe thead th {\n",
       "        text-align: right;\n",
       "    }\n",
       "</style>\n",
       "<table border=\"1\" class=\"dataframe\">\n",
       "  <thead>\n",
       "    <tr style=\"text-align: right;\">\n",
       "      <th></th>\n",
       "      <th>calls</th>\n",
       "      <th>minutes</th>\n",
       "      <th>messages</th>\n",
       "      <th>mb_used</th>\n",
       "      <th>is_ultra</th>\n",
       "    </tr>\n",
       "  </thead>\n",
       "  <tbody>\n",
       "    <tr>\n",
       "      <th>count</th>\n",
       "      <td>3214.000000</td>\n",
       "      <td>3214.000000</td>\n",
       "      <td>3214.000000</td>\n",
       "      <td>3214.000000</td>\n",
       "      <td>3214.000000</td>\n",
       "    </tr>\n",
       "    <tr>\n",
       "      <th>mean</th>\n",
       "      <td>63.038892</td>\n",
       "      <td>438.208787</td>\n",
       "      <td>38.281269</td>\n",
       "      <td>17207.673836</td>\n",
       "      <td>0.306472</td>\n",
       "    </tr>\n",
       "    <tr>\n",
       "      <th>std</th>\n",
       "      <td>33.236368</td>\n",
       "      <td>234.569872</td>\n",
       "      <td>36.148326</td>\n",
       "      <td>7570.968246</td>\n",
       "      <td>0.461100</td>\n",
       "    </tr>\n",
       "    <tr>\n",
       "      <th>min</th>\n",
       "      <td>0.000000</td>\n",
       "      <td>0.000000</td>\n",
       "      <td>0.000000</td>\n",
       "      <td>0.000000</td>\n",
       "      <td>0.000000</td>\n",
       "    </tr>\n",
       "    <tr>\n",
       "      <th>25%</th>\n",
       "      <td>40.000000</td>\n",
       "      <td>274.575000</td>\n",
       "      <td>9.000000</td>\n",
       "      <td>12491.902500</td>\n",
       "      <td>0.000000</td>\n",
       "    </tr>\n",
       "    <tr>\n",
       "      <th>50%</th>\n",
       "      <td>62.000000</td>\n",
       "      <td>430.600000</td>\n",
       "      <td>30.000000</td>\n",
       "      <td>16943.235000</td>\n",
       "      <td>0.000000</td>\n",
       "    </tr>\n",
       "    <tr>\n",
       "      <th>75%</th>\n",
       "      <td>82.000000</td>\n",
       "      <td>571.927500</td>\n",
       "      <td>57.000000</td>\n",
       "      <td>21424.700000</td>\n",
       "      <td>1.000000</td>\n",
       "    </tr>\n",
       "    <tr>\n",
       "      <th>max</th>\n",
       "      <td>244.000000</td>\n",
       "      <td>1632.060000</td>\n",
       "      <td>224.000000</td>\n",
       "      <td>49745.730000</td>\n",
       "      <td>1.000000</td>\n",
       "    </tr>\n",
       "  </tbody>\n",
       "</table>\n",
       "</div>"
      ],
      "text/plain": [
       "             calls      minutes     messages       mb_used     is_ultra\n",
       "count  3214.000000  3214.000000  3214.000000   3214.000000  3214.000000\n",
       "mean     63.038892   438.208787    38.281269  17207.673836     0.306472\n",
       "std      33.236368   234.569872    36.148326   7570.968246     0.461100\n",
       "min       0.000000     0.000000     0.000000      0.000000     0.000000\n",
       "25%      40.000000   274.575000     9.000000  12491.902500     0.000000\n",
       "50%      62.000000   430.600000    30.000000  16943.235000     0.000000\n",
       "75%      82.000000   571.927500    57.000000  21424.700000     1.000000\n",
       "max     244.000000  1632.060000   224.000000  49745.730000     1.000000"
      ]
     },
     "execution_count": 5,
     "metadata": {},
     "output_type": "execute_result"
    }
   ],
   "source": [
    "df.describe()"
   ]
  },
  {
   "cell_type": "code",
   "execution_count": 6,
   "metadata": {},
   "outputs": [],
   "source": [
    "df['calls'] = df['calls'].astype('Int64')\n",
    "df['messages'] = df['messages'].astype('Int64')"
   ]
  },
  {
   "cell_type": "code",
   "execution_count": 7,
   "metadata": {},
   "outputs": [
    {
     "data": {
      "text/html": [
       "<div>\n",
       "<style scoped>\n",
       "    .dataframe tbody tr th:only-of-type {\n",
       "        vertical-align: middle;\n",
       "    }\n",
       "\n",
       "    .dataframe tbody tr th {\n",
       "        vertical-align: top;\n",
       "    }\n",
       "\n",
       "    .dataframe thead th {\n",
       "        text-align: right;\n",
       "    }\n",
       "</style>\n",
       "<table border=\"1\" class=\"dataframe\">\n",
       "  <thead>\n",
       "    <tr style=\"text-align: right;\">\n",
       "      <th></th>\n",
       "      <th>calls</th>\n",
       "      <th>minutes</th>\n",
       "      <th>messages</th>\n",
       "      <th>mb_used</th>\n",
       "      <th>is_ultra</th>\n",
       "    </tr>\n",
       "  </thead>\n",
       "  <tbody>\n",
       "    <tr>\n",
       "      <th>0</th>\n",
       "      <td>40</td>\n",
       "      <td>311.90</td>\n",
       "      <td>83</td>\n",
       "      <td>19915.42</td>\n",
       "      <td>0</td>\n",
       "    </tr>\n",
       "    <tr>\n",
       "      <th>1</th>\n",
       "      <td>85</td>\n",
       "      <td>516.75</td>\n",
       "      <td>56</td>\n",
       "      <td>22696.96</td>\n",
       "      <td>0</td>\n",
       "    </tr>\n",
       "    <tr>\n",
       "      <th>2</th>\n",
       "      <td>77</td>\n",
       "      <td>467.66</td>\n",
       "      <td>86</td>\n",
       "      <td>21060.45</td>\n",
       "      <td>0</td>\n",
       "    </tr>\n",
       "    <tr>\n",
       "      <th>3</th>\n",
       "      <td>106</td>\n",
       "      <td>745.53</td>\n",
       "      <td>81</td>\n",
       "      <td>8437.39</td>\n",
       "      <td>1</td>\n",
       "    </tr>\n",
       "    <tr>\n",
       "      <th>4</th>\n",
       "      <td>66</td>\n",
       "      <td>418.74</td>\n",
       "      <td>1</td>\n",
       "      <td>14502.75</td>\n",
       "      <td>0</td>\n",
       "    </tr>\n",
       "  </tbody>\n",
       "</table>\n",
       "</div>"
      ],
      "text/plain": [
       "   calls  minutes  messages   mb_used  is_ultra\n",
       "0     40   311.90        83  19915.42         0\n",
       "1     85   516.75        56  22696.96         0\n",
       "2     77   467.66        86  21060.45         0\n",
       "3    106   745.53        81   8437.39         1\n",
       "4     66   418.74         1  14502.75         0"
      ]
     },
     "execution_count": 7,
     "metadata": {},
     "output_type": "execute_result"
    }
   ],
   "source": [
    "df.head()"
   ]
  },
  {
   "cell_type": "code",
   "execution_count": 8,
   "metadata": {},
   "outputs": [
    {
     "data": {
      "text/plain": [
       "0"
      ]
     },
     "execution_count": 8,
     "metadata": {},
     "output_type": "execute_result"
    }
   ],
   "source": [
    "df.duplicated().sum()"
   ]
  },
  {
   "cell_type": "markdown",
   "metadata": {},
   "source": [
    "### Вывод\n",
    "- Пропущенных значений нет</br>\n",
    "- Типы столбцов в порядке</br>\n",
    "- Дубликатов нет</br>"
   ]
  },
  {
   "cell_type": "markdown",
   "metadata": {},
   "source": [
    "## Разбейте данные на выборки"
   ]
  },
  {
   "cell_type": "code",
   "execution_count": 9,
   "metadata": {},
   "outputs": [],
   "source": [
    "features = df.drop(['is_ultra'], axis = 1)\n",
    "target = df['is_ultra']"
   ]
  },
  {
   "cell_type": "markdown",
   "metadata": {},
   "source": [
    "Т.к. у нас один датасет, то делить его будем на 3 части: обучаемая(60%), валидационная (20%) и тестовая (20%)"
   ]
  },
  {
   "cell_type": "code",
   "execution_count": 10,
   "metadata": {},
   "outputs": [],
   "source": [
    "#Отделение тестовой части\n",
    "x, features_test, y, target_test = train_test_split(features, target, test_size=0.2, train_size=0.8)"
   ]
  },
  {
   "cell_type": "code",
   "execution_count": 11,
   "metadata": {},
   "outputs": [],
   "source": [
    "#Отделения валидационной и обучающей выборки\n",
    "features_train, features_valid, target_train, target_valid = train_test_split(x, y, test_size = 0.25, train_size =0.75)"
   ]
  },
  {
   "cell_type": "code",
   "execution_count": 12,
   "metadata": {},
   "outputs": [
    {
     "name": "stdout",
     "output_type": "stream",
     "text": [
      "Процент выборки: 0.5998755444928439 , Количество строк и столбцов: (1928, 4)\n",
      "Процент выборки: 0.2000622277535781 , Количество строк и столбцов: (643, 4)\n",
      "Процент выборки: 0.5998755444928439 , Количество строк и столбцов: (1928,)\n",
      "Процент выборки: 0.2000622277535781 , Количество строк и столбцов: (643,)\n",
      "Процент выборки: 0.2000622277535781 , Количество строк и столбцов: (643, 4)\n",
      "Процент выборки: 0.2000622277535781 , Количество строк и столбцов: (643,)\n"
     ]
    }
   ],
   "source": [
    "#Проверка разделения\n",
    "def check(data):\n",
    "    res = len(data)/len(df)\n",
    "    print('Процент выборки:', res, ', Количество строк и столбцов:', data.shape)\n",
    "    \n",
    "data_list = [features_train, features_valid, target_train, target_valid, features_test, target_test]\n",
    "for i in data_list:\n",
    "    check(i)"
   ]
  },
  {
   "cell_type": "markdown",
   "metadata": {},
   "source": [
    "## Исследуйте модели"
   ]
  },
  {
   "cell_type": "markdown",
   "metadata": {},
   "source": [
    "### Решающее дерево"
   ]
  },
  {
   "cell_type": "code",
   "execution_count": 13,
   "metadata": {
    "scrolled": false
   },
   "outputs": [
    {
     "name": "stdout",
     "output_type": "stream",
     "text": [
      "Лучший результат: 0.838258164852255 Гиперпараметры: max_depth: 7 , min_samples_leaf: 3 , min_samples_split: 15\n"
     ]
    }
   ],
   "source": [
    "best_model_dt = None\n",
    "best_model_dt_depth = 0\n",
    "best_model_dt_leaf = 0\n",
    "best_model_dt_split = 0\n",
    "best_result_dt = 0\n",
    "for depth in range(1, 13):\n",
    "    for i in range(1, 50):\n",
    "        for j in range(2, 30):\n",
    "            model_dt = DecisionTreeClassifier(random_state=12345, max_depth = depth, min_samples_leaf = i, min_samples_split = j) \n",
    "            model_dt.fit(features_train, target_train) \n",
    "            predictions_dt = model_dt.predict(features_valid) \n",
    "            result_dt = accuracy_score(target_valid, predictions_dt)\n",
    "            if result_dt > best_result_dt:\n",
    "                best_model_dt = model_dt\n",
    "                best_model_dt_depth = depth\n",
    "                best_model_dt_leaf = i\n",
    "                best_model_dt_split = j\n",
    "                best_result_dt = result_dt\n",
    "print(\"Лучший результат:\", best_result_dt, end='') \n",
    "print(\" Гиперпараметры:\", \"max_depth:\", best_model_dt_depth, \", min_samples_leaf:\", best_model_dt_leaf, \", min_samples_split:\", best_model_dt_split)"
   ]
  },
  {
   "cell_type": "markdown",
   "metadata": {},
   "source": [
    "### Случайный лес"
   ]
  },
  {
   "cell_type": "code",
   "execution_count": 14,
   "metadata": {},
   "outputs": [
    {
     "name": "stdout",
     "output_type": "stream",
     "text": [
      "Лучший результат: 0.8398133748055988 Гиперпараметры: n_estimators: 48 , max_depth: 9\n"
     ]
    }
   ],
   "source": [
    "best_model_rf = None\n",
    "best_model_rf_est = 0\n",
    "best_model_rf_depth = 0\n",
    "best_result_rf = 0\n",
    "rf_score_list = []\n",
    "rf_est = []\n",
    "rf_depth = []\n",
    "for est in range(1, 60):\n",
    "    for dpth in range(1, 30):\n",
    "        model_rf = RandomForestClassifier(random_state=12345, n_estimators=est, max_depth = dpth) \n",
    "        model_rf.fit(features_train, target_train) \n",
    "        predictions_rf = model_rf.predict(features_valid) \n",
    "        result_rf = model_rf.score(features_valid, target_valid)\n",
    "        rf_est.append(est)\n",
    "        rf_score_list.append(result_rf)\n",
    "        rf_depth.append(dpth)\n",
    "        if result_rf > best_result_rf:\n",
    "            best_model_rf = model_rf\n",
    "            best_result_rf = result_rf\n",
    "            best_model_rf_est = est\n",
    "            best_model_rf_depth = dpth\n",
    "print(\"Лучший результат:\", best_result_rf, end='') \n",
    "print(\" Гиперпараметры:\", \"n_estimators:\", best_model_rf_est, \", max_depth:\", best_model_rf_depth)"
   ]
  },
  {
   "cell_type": "code",
   "execution_count": 15,
   "metadata": {},
   "outputs": [
    {
     "data": {
      "image/png": "[encoded data removed]",
      "text/plain": [
       "<Figure size 864x432 with 1 Axes>"
      ]
     },
     "metadata": {
      "needs_background": "light"
     },
     "output_type": "display_data"
    }
   ],
   "source": [
    "rf_plt = pd.Series(rf_score_list, rf_est)\n",
    "plt.figure(figsize=(12,6))\n",
    "sns.lineplot(data=rf_plt)\n",
    "plt.title(\"Зависимость accuracy от n_estimators RandomForestClassifier\")\n",
    "plt.xlabel(\"n_estimators\")\n",
    "plt.ylabel(\"Accuracy\")\n",
    "plt.legend('')\n",
    "plt.show()"
   ]
  },
  {
   "cell_type": "code",
   "execution_count": 16,
   "metadata": {},
   "outputs": [
    {
     "data": {
      "image/png": "[encoded data removed]",
      "text/plain": [
       "<Figure size 864x432 with 1 Axes>"
      ]
     },
     "metadata": {
      "needs_background": "light"
     },
     "output_type": "display_data"
    }
   ],
   "source": [
    "rf_plt = pd.Series(rf_score_list, rf_depth)\n",
    "plt.figure(figsize=(12,6))\n",
    "sns.lineplot(data=rf_plt)\n",
    "plt.title(\"Зависимость accuracy от max_depth RandomForestClassifier\")\n",
    "plt.xlabel(\"max_depth\")\n",
    "plt.ylabel(\"Accuracy\")\n",
    "plt.legend('')\n",
    "plt.show()"
   ]
  },
  {
   "cell_type": "markdown",
   "metadata": {},
   "source": [
    "### Логистическая регрессия"
   ]
  },
  {
   "cell_type": "code",
   "execution_count": 17,
   "metadata": {},
   "outputs": [
    {
     "name": "stdout",
     "output_type": "stream",
     "text": [
      "Лучший результат: 0.7791601866251944 Гиперпараметры: n_estimators: 100\n"
     ]
    }
   ],
   "source": [
    "best_model_lg = None\n",
    "best_model_lg_it = 0\n",
    "best_result_lg = 0\n",
    "lg_score_list = []\n",
    "lg_it = []\n",
    "for it in range(100, 10000, 100):\n",
    "    model_lg = LogisticRegression(random_state=12345, solver='lbfgs', max_iter = it) \n",
    "    model_lg.fit(features_train, target_train) \n",
    "    predictions_lg = model_lg.predict(features_valid) \n",
    "    result_lg = model_lg.score(features_valid, target_valid)\n",
    "    lg_it.append(it)\n",
    "    lg_score_list.append(result_lg)\n",
    "    if result_lg > best_result_lg:\n",
    "        best_model_lg = model_lg\n",
    "        best_result_lg = result_lg\n",
    "        best_model_lg_it = it\n",
    "print(\"Лучший результат:\", best_result_lg, end='') \n",
    "print(\" Гиперпараметры:\", \"n_estimators:\", best_model_lg_it)"
   ]
  },
  {
   "cell_type": "code",
   "execution_count": 18,
   "metadata": {
    "scrolled": true
   },
   "outputs": [
    {
     "data": {
      "image/png": "[encoded data removed]",
      "text/plain": [
       "<Figure size 864x432 with 1 Axes>"
      ]
     },
     "metadata": {
      "needs_background": "light"
     },
     "output_type": "display_data"
    }
   ],
   "source": [
    "lg_plt = pd.Series(lg_score_list, lg_it)\n",
    "plt.figure(figsize=(12,6))\n",
    "sns.lineplot(data=lg_plt)\n",
    "plt.title(\"Зависимость accuracy от max_iter LogisticRegression\")\n",
    "plt.xlabel(\"max_iter\")\n",
    "plt.ylabel(\"Accuracy\")\n",
    "plt.legend('')\n",
    "plt.show()"
   ]
  },
  {
   "cell_type": "markdown",
   "metadata": {},
   "source": [
    "### Вывод"
   ]
  },
  {
   "cell_type": "markdown",
   "metadata": {},
   "source": [
    "- DecisionTree: Лучший результат: 0.838258164852255 Гиперпараметры: max_depth: 7 , min_samples_leaf: 3 , min_samples_split: 15\n",
    "- RandomForestClassifier: Лучший результат: 0.8398133748055988 Гиперпараметры: n_estimators: 48 , max_depth: 9\n",
    "- LogisticRegression: Лучший результат: 0.7791601866251944 Гиперпараметры: n_estimators: 100"
   ]
  },
  {
   "cell_type": "markdown",
   "metadata": {},
   "source": [
    "Основываясь на показателе точности, можно прийти к выводу, что наиболее качественные результаты прогнозирует Random Forest"
   ]
  },
  {
   "cell_type": "markdown",
   "metadata": {},
   "source": [
    "## Проверьте модель на тестовой выборке"
   ]
  },
  {
   "cell_type": "code",
   "execution_count": 19,
   "metadata": {},
   "outputs": [
    {
     "name": "stdout",
     "output_type": "stream",
     "text": [
      "Точность решающего дерева на тестовой выборке: 0.8055987558320373\n"
     ]
    }
   ],
   "source": [
    "#Проверка модели DecisionTreeClassifier на тестовой выборке \n",
    "predictions_dt_test = best_model_dt.predict(features_test) \n",
    "result_dt_test = accuracy_score(target_test, predictions_dt_test)\n",
    "print(\"Точность решающего дерева на тестовой выборке:\", result_dt_test)"
   ]
  },
  {
   "cell_type": "code",
   "execution_count": 20,
   "metadata": {},
   "outputs": [
    {
     "name": "stdout",
     "output_type": "stream",
     "text": [
      "Точность случайного леса на тестовой выборке: 0.807153965785381\n"
     ]
    }
   ],
   "source": [
    "#Проверка модели RandomForestClassifier на тестовой выборке\n",
    "predictions_rf_test = best_model_rf.predict(features_test)\n",
    "result_rf_test = accuracy_score(target_test, predictions_rf_test)\n",
    "print(\"Точность случайного леса на тестовой выборке:\", result_rf_test)"
   ]
  },
  {
   "cell_type": "code",
   "execution_count": 21,
   "metadata": {},
   "outputs": [
    {
     "name": "stdout",
     "output_type": "stream",
     "text": [
      "Точность Логистическая  регрессии на тестовой выборке: 0.7340590979782271\n"
     ]
    }
   ],
   "source": [
    "#Проверка модели LogisticRegression на тестовой выборке\n",
    "predictions_lg_test = best_model_lg.predict(features_test) \n",
    "result_lg_test = accuracy_score(target_test, predictions_lg_test)\n",
    "print(\"Точность Логистическая  регрессии на тестовой выборке:\", result_lg_test)"
   ]
  },
  {
   "cell_type": "markdown",
   "metadata": {},
   "source": [
    "### Вывод"
   ]
  },
  {
   "cell_type": "markdown",
   "metadata": {},
   "source": [
    "Наиболее точные предсказания делает Random Forest, это видно по точности предсказания на валидационной и на тестовой выборке"
   ]
  },
  {
   "cell_type": "markdown",
   "metadata": {},
   "source": [
    "## (бонус) Проверьте модели на адекватность"
   ]
  },
  {
   "cell_type": "code",
   "execution_count": 22,
   "metadata": {},
   "outputs": [
    {
     "name": "stdout",
     "output_type": "stream",
     "text": [
      "Решающее дерево:\n",
      "              precision    recall  f1-score   support\n",
      "\n",
      "     class 0       0.80      0.96      0.87       441\n",
      "     class 1       0.84      0.47      0.60       202\n",
      "\n",
      "    accuracy                           0.81       643\n",
      "   macro avg       0.82      0.71      0.74       643\n",
      "weighted avg       0.81      0.81      0.79       643\n",
      "\n"
     ]
    }
   ],
   "source": [
    "report = classification_report(target_test, best_model_dt.predict(features_test), target_names= ['class 0', 'class 1'])\n",
    "print(\"Решающее дерево:\")\n",
    "print(report)"
   ]
  },
  {
   "cell_type": "code",
   "execution_count": 23,
   "metadata": {},
   "outputs": [
    {
     "name": "stdout",
     "output_type": "stream",
     "text": [
      "Случайный лес:\n",
      "              precision    recall  f1-score   support\n",
      "\n",
      "     class 0       0.80      0.95      0.87       441\n",
      "     class 1       0.82      0.50      0.62       202\n",
      "\n",
      "    accuracy                           0.81       643\n",
      "   macro avg       0.81      0.72      0.74       643\n",
      "weighted avg       0.81      0.81      0.79       643\n",
      "\n"
     ]
    }
   ],
   "source": [
    "report = classification_report(target_test, best_model_rf.predict(features_test), target_names= ['class 0', 'class 1'])\n",
    "print(\"Случайный лес:\")\n",
    "print(report)"
   ]
  },
  {
   "cell_type": "code",
   "execution_count": 24,
   "metadata": {
    "scrolled": true
   },
   "outputs": [
    {
     "name": "stdout",
     "output_type": "stream",
     "text": [
      "Логистическая регрессия:\n",
      "              precision    recall  f1-score   support\n",
      "\n",
      "     class 0       0.73      0.96      0.83       441\n",
      "     class 1       0.74      0.24      0.36       202\n",
      "\n",
      "    accuracy                           0.73       643\n",
      "   macro avg       0.74      0.60      0.60       643\n",
      "weighted avg       0.74      0.73      0.68       643\n",
      "\n"
     ]
    }
   ],
   "source": [
    "report = classification_report(target_test, best_model_lg.predict(features_test), target_names= ['class 0', 'class 1'])\n",
    "print(\"Логистическая регрессия:\")\n",
    "print(report)"
   ]
  },
  {
   "cell_type": "code",
   "execution_count": 25,
   "metadata": {},
   "outputs": [
    {
     "name": "stdout",
     "output_type": "stream",
     "text": [
      "Точность Dummy: 0.6858475894245724\n"
     ]
    }
   ],
   "source": [
    "clf = DummyClassifier(strategy='most_frequent', random_state=0)\n",
    "clf.fit(features_train, target_train)\n",
    "DummyClassifier(random_state=0, strategy='most_frequent')\n",
    "score = clf.score(features_test, target_test)\n",
    "print('Точность Dummy:', score)"
   ]
  },
  {
   "cell_type": "markdown",
   "metadata": {},
   "source": [
    "### Вывод"
   ]
  },
  {
   "cell_type": "markdown",
   "metadata": {},
   "source": [
    "Обученные модели с подобранными гиперпараметрами дают точность выше, чем DummyClassifier"
   ]
  }
 ],
 "metadata": {
  "ExecuteTimeLog": [
   {
    "duration": 402,
    "start_time": "2022-06-26T07:57:03.058Z"
   },
   {
    "duration": 156,
    "start_time": "2022-06-26T07:57:15.131Z"
   },
   {
    "duration": 17,
    "start_time": "2022-06-26T07:57:22.950Z"
   },
   {
    "duration": 11,
    "start_time": "2022-06-26T07:57:30.503Z"
   },
   {
    "duration": 32,
    "start_time": "2022-06-26T07:58:49.896Z"
   },
   {
    "duration": 434,
    "start_time": "2022-06-26T07:59:15.432Z"
   },
   {
    "duration": 5,
    "start_time": "2022-06-26T08:00:25.308Z"
   },
   {
    "duration": 11,
    "start_time": "2022-06-26T08:00:30.083Z"
   },
   {
    "duration": 9,
    "start_time": "2022-06-26T08:00:33.568Z"
   },
   {
    "duration": 710,
    "start_time": "2022-06-26T08:02:12.995Z"
   },
   {
    "duration": 3,
    "start_time": "2022-06-26T08:05:33.911Z"
   },
   {
    "duration": 3,
    "start_time": "2022-06-26T08:06:18.758Z"
   },
   {
    "duration": 4,
    "start_time": "2022-06-26T08:18:20.309Z"
   },
   {
    "duration": 7,
    "start_time": "2022-06-26T08:20:19.463Z"
   },
   {
    "duration": 5,
    "start_time": "2022-06-26T08:27:11.943Z"
   },
   {
    "duration": 5,
    "start_time": "2022-06-26T08:27:12.518Z"
   },
   {
    "duration": 99,
    "start_time": "2022-06-26T08:27:29.079Z"
   },
   {
    "duration": 14,
    "start_time": "2022-06-26T08:27:46.444Z"
   },
   {
    "duration": 13,
    "start_time": "2022-06-26T08:27:55.235Z"
   },
   {
    "duration": 4,
    "start_time": "2022-06-26T08:28:05.935Z"
   },
   {
    "duration": 3,
    "start_time": "2022-06-26T08:29:41.568Z"
   },
   {
    "duration": 3,
    "start_time": "2022-06-26T08:29:47.022Z"
   },
   {
    "duration": 4,
    "start_time": "2022-06-26T08:30:40.683Z"
   },
   {
    "duration": 4,
    "start_time": "2022-06-26T08:41:33.781Z"
   },
   {
    "duration": 16,
    "start_time": "2022-06-26T08:42:06.997Z"
   },
   {
    "duration": 19,
    "start_time": "2022-06-26T08:42:27.234Z"
   },
   {
    "duration": 78,
    "start_time": "2022-06-26T08:43:15.125Z"
   },
   {
    "duration": 72,
    "start_time": "2022-06-26T08:43:18.698Z"
   },
   {
    "duration": 74,
    "start_time": "2022-06-26T08:43:33.601Z"
   },
   {
    "duration": 72,
    "start_time": "2022-06-26T08:46:34.866Z"
   },
   {
    "duration": 80,
    "start_time": "2022-06-26T08:46:47.830Z"
   },
   {
    "duration": 64,
    "start_time": "2022-06-26T08:47:31.542Z"
   },
   {
    "duration": 78,
    "start_time": "2022-06-26T08:47:36.829Z"
   },
   {
    "duration": 101,
    "start_time": "2022-06-26T08:48:17.287Z"
   },
   {
    "duration": 85,
    "start_time": "2022-06-26T08:48:30.595Z"
   },
   {
    "duration": 193,
    "start_time": "2022-06-26T08:49:35.726Z"
   },
   {
    "duration": 187,
    "start_time": "2022-06-26T08:49:54.232Z"
   },
   {
    "duration": 131,
    "start_time": "2022-06-26T08:52:06.435Z"
   },
   {
    "duration": 99,
    "start_time": "2022-06-26T08:52:10.893Z"
   },
   {
    "duration": 3,
    "start_time": "2022-06-26T08:52:34.183Z"
   },
   {
    "duration": 259,
    "start_time": "2022-06-26T08:52:37.612Z"
   },
   {
    "duration": 98,
    "start_time": "2022-06-26T08:54:07.299Z"
   },
   {
    "duration": 166,
    "start_time": "2022-06-26T08:54:12.752Z"
   },
   {
    "duration": 112,
    "start_time": "2022-06-26T08:54:23.411Z"
   },
   {
    "duration": 161,
    "start_time": "2022-06-26T08:54:26.148Z"
   },
   {
    "duration": 5,
    "start_time": "2022-06-26T08:57:33.493Z"
   },
   {
    "duration": 6,
    "start_time": "2022-06-26T08:58:11.013Z"
   },
   {
    "duration": 16,
    "start_time": "2022-06-26T09:00:40.535Z"
   },
   {
    "duration": 97,
    "start_time": "2022-06-26T09:01:02.419Z"
   },
   {
    "duration": 88,
    "start_time": "2022-06-26T09:01:38.648Z"
   },
   {
    "duration": 16,
    "start_time": "2022-06-26T09:02:29.781Z"
   },
   {
    "duration": 4538,
    "start_time": "2022-06-26T09:02:41.335Z"
   },
   {
    "duration": 3935,
    "start_time": "2022-06-26T09:03:02.930Z"
   },
   {
    "duration": 10,
    "start_time": "2022-06-26T09:04:55.208Z"
   },
   {
    "duration": 3874,
    "start_time": "2022-06-26T09:04:59.131Z"
   },
   {
    "duration": 852,
    "start_time": "2022-06-26T09:05:14.809Z"
   },
   {
    "duration": 4551,
    "start_time": "2022-06-26T09:06:12.114Z"
   },
   {
    "duration": 3848,
    "start_time": "2022-06-26T09:07:26.152Z"
   },
   {
    "duration": 3863,
    "start_time": "2022-06-26T09:08:10.352Z"
   },
   {
    "duration": 3929,
    "start_time": "2022-06-26T09:08:27.083Z"
   },
   {
    "duration": 4532,
    "start_time": "2022-06-26T09:09:28.507Z"
   },
   {
    "duration": 325,
    "start_time": "2022-06-26T09:10:29.510Z"
   },
   {
    "duration": 3822,
    "start_time": "2022-06-26T09:12:32.539Z"
   },
   {
    "duration": 18,
    "start_time": "2022-06-26T09:15:55.651Z"
   },
   {
    "duration": 3825,
    "start_time": "2022-06-26T09:16:07.958Z"
   },
   {
    "duration": 4128,
    "start_time": "2022-06-26T09:17:54.142Z"
   },
   {
    "duration": 15,
    "start_time": "2022-06-26T09:18:52.550Z"
   },
   {
    "duration": 334,
    "start_time": "2022-06-26T09:19:04.563Z"
   },
   {
    "duration": 53,
    "start_time": "2022-06-26T09:20:59.019Z"
   },
   {
    "duration": 336,
    "start_time": "2022-06-26T09:21:04.128Z"
   },
   {
    "duration": 289,
    "start_time": "2022-06-26T09:22:25.515Z"
   },
   {
    "duration": 852,
    "start_time": "2022-06-26T09:23:23.994Z"
   },
   {
    "duration": 3802,
    "start_time": "2022-06-26T09:25:07.517Z"
   },
   {
    "duration": 13,
    "start_time": "2022-06-26T09:25:19.727Z"
   },
   {
    "duration": 16,
    "start_time": "2022-06-26T09:25:41.570Z"
   },
   {
    "duration": 861,
    "start_time": "2022-06-26T09:26:07.581Z"
   },
   {
    "duration": 25,
    "start_time": "2022-06-26T09:28:36.226Z"
   },
   {
    "duration": 182,
    "start_time": "2022-06-26T09:30:52.666Z"
   },
   {
    "duration": 18,
    "start_time": "2022-06-26T09:31:26.247Z"
   },
   {
    "duration": 194,
    "start_time": "2022-06-26T09:31:37.432Z"
   },
   {
    "duration": 255,
    "start_time": "2022-06-26T09:32:33.210Z"
   },
   {
    "duration": 155,
    "start_time": "2022-06-26T09:32:46.748Z"
   },
   {
    "duration": 11,
    "start_time": "2022-06-26T09:32:52.582Z"
   },
   {
    "duration": 154,
    "start_time": "2022-06-26T09:33:35.613Z"
   },
   {
    "duration": 158,
    "start_time": "2022-06-26T09:34:04.599Z"
   },
   {
    "duration": 11,
    "start_time": "2022-06-26T09:34:42.193Z"
   },
   {
    "duration": 3878,
    "start_time": "2022-06-26T09:34:45.953Z"
   },
   {
    "duration": 159,
    "start_time": "2022-06-26T09:34:49.832Z"
   },
   {
    "duration": 157,
    "start_time": "2022-06-26T09:35:01.993Z"
   },
   {
    "duration": 169,
    "start_time": "2022-06-26T09:35:32.078Z"
   },
   {
    "duration": 156,
    "start_time": "2022-06-26T09:35:41.013Z"
   },
   {
    "duration": 388,
    "start_time": "2022-06-26T09:35:55.657Z"
   },
   {
    "duration": 950,
    "start_time": "2022-06-26T09:36:56.865Z"
   },
   {
    "duration": 4639,
    "start_time": "2022-06-26T09:37:43.220Z"
   },
   {
    "duration": 21,
    "start_time": "2022-06-26T09:40:27.292Z"
   },
   {
    "duration": 0,
    "start_time": "2022-06-26T09:42:42.971Z"
   },
   {
    "duration": 4,
    "start_time": "2022-06-26T09:42:58.712Z"
   },
   {
    "duration": 13,
    "start_time": "2022-06-26T09:42:58.718Z"
   },
   {
    "duration": 11,
    "start_time": "2022-06-26T09:42:58.733Z"
   },
   {
    "duration": 13,
    "start_time": "2022-06-26T09:42:58.746Z"
   },
   {
    "duration": 15,
    "start_time": "2022-06-26T09:42:58.763Z"
   },
   {
    "duration": 13,
    "start_time": "2022-06-26T09:42:58.780Z"
   },
   {
    "duration": 33,
    "start_time": "2022-06-26T09:42:58.795Z"
   },
   {
    "duration": 9,
    "start_time": "2022-06-26T09:42:58.830Z"
   },
   {
    "duration": 20,
    "start_time": "2022-06-26T09:42:58.841Z"
   },
   {
    "duration": 21,
    "start_time": "2022-06-26T09:42:58.863Z"
   },
   {
    "duration": 4,
    "start_time": "2022-06-26T09:42:58.886Z"
   },
   {
    "duration": 14,
    "start_time": "2022-06-26T09:42:58.892Z"
   },
   {
    "duration": 6,
    "start_time": "2022-06-26T09:42:58.907Z"
   },
   {
    "duration": 6,
    "start_time": "2022-06-26T09:42:58.915Z"
   },
   {
    "duration": 5,
    "start_time": "2022-06-26T09:42:58.923Z"
   },
   {
    "duration": 32,
    "start_time": "2022-06-26T09:42:58.929Z"
   },
   {
    "duration": 381,
    "start_time": "2022-06-26T09:43:19.509Z"
   },
   {
    "duration": 645,
    "start_time": "2022-06-26T09:43:19.892Z"
   },
   {
    "duration": 2,
    "start_time": "2022-06-26T09:43:20.539Z"
   },
   {
    "duration": 8,
    "start_time": "2022-06-26T09:43:20.543Z"
   },
   {
    "duration": 301,
    "start_time": "2022-06-26T09:43:20.553Z"
   },
   {
    "duration": 4,
    "start_time": "2022-06-26T09:43:20.856Z"
   },
   {
    "duration": 37,
    "start_time": "2022-06-26T09:43:20.861Z"
   },
   {
    "duration": 14,
    "start_time": "2022-06-26T09:43:20.900Z"
   },
   {
    "duration": 18,
    "start_time": "2022-06-26T09:43:20.916Z"
   },
   {
    "duration": 27,
    "start_time": "2022-06-26T09:43:20.935Z"
   },
   {
    "duration": 5,
    "start_time": "2022-06-26T09:43:20.965Z"
   },
   {
    "duration": 14,
    "start_time": "2022-06-26T09:43:20.972Z"
   },
   {
    "duration": 7,
    "start_time": "2022-06-26T09:43:20.988Z"
   },
   {
    "duration": 9,
    "start_time": "2022-06-26T09:43:20.998Z"
   },
   {
    "duration": 9,
    "start_time": "2022-06-26T09:43:21.008Z"
   },
   {
    "duration": 7,
    "start_time": "2022-06-26T09:43:21.019Z"
   },
   {
    "duration": 30627,
    "start_time": "2022-06-26T09:43:21.028Z"
   },
   {
    "duration": 3949,
    "start_time": "2022-06-26T09:44:41.775Z"
   },
   {
    "duration": 393,
    "start_time": "2022-06-26T09:45:04.265Z"
   },
   {
    "duration": 698,
    "start_time": "2022-06-26T09:45:04.660Z"
   },
   {
    "duration": 3,
    "start_time": "2022-06-26T09:45:05.359Z"
   },
   {
    "duration": 7,
    "start_time": "2022-06-26T09:45:05.363Z"
   },
   {
    "duration": 298,
    "start_time": "2022-06-26T09:45:05.372Z"
   },
   {
    "duration": 3,
    "start_time": "2022-06-26T09:45:05.671Z"
   },
   {
    "duration": 37,
    "start_time": "2022-06-26T09:45:05.675Z"
   },
   {
    "duration": 12,
    "start_time": "2022-06-26T09:45:05.714Z"
   },
   {
    "duration": 10,
    "start_time": "2022-06-26T09:45:05.728Z"
   },
   {
    "duration": 26,
    "start_time": "2022-06-26T09:45:05.739Z"
   },
   {
    "duration": 4,
    "start_time": "2022-06-26T09:45:05.767Z"
   },
   {
    "duration": 11,
    "start_time": "2022-06-26T09:45:05.772Z"
   },
   {
    "duration": 6,
    "start_time": "2022-06-26T09:45:05.785Z"
   },
   {
    "duration": 7,
    "start_time": "2022-06-26T09:45:05.793Z"
   },
   {
    "duration": 10,
    "start_time": "2022-06-26T09:45:05.801Z"
   },
   {
    "duration": 6,
    "start_time": "2022-06-26T09:45:05.813Z"
   },
   {
    "duration": 3808,
    "start_time": "2022-06-26T09:45:05.821Z"
   },
   {
    "duration": 104875,
    "start_time": "2022-06-26T09:46:28.412Z"
   },
   {
    "duration": 11,
    "start_time": "2022-06-26T10:21:48.234Z"
   },
   {
    "duration": 284,
    "start_time": "2022-06-26T10:24:54.734Z"
   },
   {
    "duration": 308,
    "start_time": "2022-06-26T10:25:02.232Z"
   },
   {
    "duration": 117,
    "start_time": "2022-06-26T10:25:56.266Z"
   },
   {
    "duration": 277,
    "start_time": "2022-06-26T10:26:03.806Z"
   },
   {
    "duration": 165,
    "start_time": "2022-06-26T10:26:45.835Z"
   },
   {
    "duration": 148,
    "start_time": "2022-06-26T10:27:53.602Z"
   },
   {
    "duration": 843,
    "start_time": "2022-06-26T10:28:01.306Z"
   },
   {
    "duration": 150,
    "start_time": "2022-06-26T10:28:02.393Z"
   },
   {
    "duration": 4849,
    "start_time": "2022-06-26T10:28:09.980Z"
   },
   {
    "duration": 156,
    "start_time": "2022-06-26T10:28:16.953Z"
   },
   {
    "duration": 19191,
    "start_time": "2022-06-26T10:28:29.583Z"
   },
   {
    "duration": 176,
    "start_time": "2022-06-26T10:29:02.918Z"
   },
   {
    "duration": 19177,
    "start_time": "2022-06-26T10:31:24.563Z"
   },
   {
    "duration": 19887,
    "start_time": "2022-06-26T10:33:24.607Z"
   },
   {
    "duration": 3,
    "start_time": "2022-06-26T10:37:00.538Z"
   },
   {
    "duration": 253,
    "start_time": "2022-06-26T10:39:07.580Z"
   },
   {
    "duration": 168,
    "start_time": "2022-06-26T10:39:38.571Z"
   },
   {
    "duration": 271,
    "start_time": "2022-06-26T10:39:52.478Z"
   },
   {
    "duration": 163,
    "start_time": "2022-06-26T10:39:57.903Z"
   },
   {
    "duration": 251,
    "start_time": "2022-06-26T10:40:04.301Z"
   },
   {
    "duration": 2408,
    "start_time": "2022-06-26T10:40:28.058Z"
   },
   {
    "duration": 148,
    "start_time": "2022-06-26T10:40:33.291Z"
   },
   {
    "duration": 6,
    "start_time": "2022-06-26T10:44:13.655Z"
   },
   {
    "duration": 46,
    "start_time": "2022-06-26T10:46:29.184Z"
   },
   {
    "duration": 440,
    "start_time": "2022-06-26T10:52:52.729Z"
   },
   {
    "duration": 753,
    "start_time": "2022-06-26T10:52:53.171Z"
   },
   {
    "duration": 2,
    "start_time": "2022-06-26T10:52:53.926Z"
   },
   {
    "duration": 30,
    "start_time": "2022-06-26T10:52:53.930Z"
   },
   {
    "duration": 27,
    "start_time": "2022-06-26T10:52:53.969Z"
   },
   {
    "duration": 19,
    "start_time": "2022-06-26T10:52:53.998Z"
   },
   {
    "duration": 328,
    "start_time": "2022-06-26T10:52:54.019Z"
   },
   {
    "duration": 2,
    "start_time": "2022-06-26T10:52:54.349Z"
   },
   {
    "duration": 45,
    "start_time": "2022-06-26T10:52:54.358Z"
   },
   {
    "duration": 13,
    "start_time": "2022-06-26T10:52:54.405Z"
   },
   {
    "duration": 14,
    "start_time": "2022-06-26T10:52:54.420Z"
   },
   {
    "duration": 36,
    "start_time": "2022-06-26T10:52:54.436Z"
   },
   {
    "duration": 5,
    "start_time": "2022-06-26T10:52:54.475Z"
   },
   {
    "duration": 10,
    "start_time": "2022-06-26T10:52:54.483Z"
   },
   {
    "duration": 8,
    "start_time": "2022-06-26T10:52:54.495Z"
   },
   {
    "duration": 5,
    "start_time": "2022-06-26T10:52:54.505Z"
   },
   {
    "duration": 7,
    "start_time": "2022-06-26T10:52:54.512Z"
   },
   {
    "duration": 9,
    "start_time": "2022-06-26T10:52:54.521Z"
   },
   {
    "duration": 46,
    "start_time": "2022-06-26T10:52:54.532Z"
   },
   {
    "duration": 113045,
    "start_time": "2022-06-26T10:52:54.580Z"
   },
   {
    "duration": 185340,
    "start_time": "2022-06-26T10:54:47.627Z"
   },
   {
    "duration": 1173,
    "start_time": "2022-06-26T10:57:52.971Z"
   },
   {
    "duration": 281,
    "start_time": "2022-06-26T10:57:54.146Z"
   },
   {
    "duration": 178,
    "start_time": "2022-06-26T10:57:54.428Z"
   },
   {
    "duration": 2811,
    "start_time": "2022-06-26T11:18:50.127Z"
   },
   {
    "duration": 437,
    "start_time": "2022-06-26T12:14:48.516Z"
   },
   {
    "duration": 759,
    "start_time": "2022-06-26T12:14:49.289Z"
   },
   {
    "duration": 3,
    "start_time": "2022-06-26T12:14:50.051Z"
   },
   {
    "duration": 25,
    "start_time": "2022-06-26T12:14:50.056Z"
   },
   {
    "duration": 13,
    "start_time": "2022-06-26T12:14:50.083Z"
   },
   {
    "duration": 3,
    "start_time": "2022-06-26T12:14:50.218Z"
   },
   {
    "duration": 455,
    "start_time": "2022-06-26T12:14:50.372Z"
   },
   {
    "duration": 3,
    "start_time": "2022-06-26T12:14:50.829Z"
   },
   {
    "duration": 108,
    "start_time": "2022-06-26T12:14:51.037Z"
   },
   {
    "duration": 15,
    "start_time": "2022-06-26T12:14:51.318Z"
   },
   {
    "duration": 13,
    "start_time": "2022-06-26T12:14:51.744Z"
   },
   {
    "duration": 26,
    "start_time": "2022-06-26T12:14:52.254Z"
   },
   {
    "duration": 6,
    "start_time": "2022-06-26T12:14:53.931Z"
   },
   {
    "duration": 10,
    "start_time": "2022-06-26T12:14:54.325Z"
   },
   {
    "duration": 7,
    "start_time": "2022-06-26T12:14:55.992Z"
   },
   {
    "duration": 4,
    "start_time": "2022-06-26T12:14:57.150Z"
   },
   {
    "duration": 6,
    "start_time": "2022-06-26T12:14:59.180Z"
   },
   {
    "duration": 6,
    "start_time": "2022-06-26T12:14:59.649Z"
   },
   {
    "duration": 6,
    "start_time": "2022-06-26T12:15:00.077Z"
   },
   {
    "duration": 18,
    "start_time": "2022-06-26T12:15:10.459Z"
   },
   {
    "duration": 38,
    "start_time": "2022-06-26T12:15:18.518Z"
   },
   {
    "duration": 45,
    "start_time": "2022-06-26T12:17:42.092Z"
   },
   {
    "duration": 34,
    "start_time": "2022-06-26T12:17:48.462Z"
   },
   {
    "duration": 62,
    "start_time": "2022-06-26T12:18:04.390Z"
   },
   {
    "duration": 40,
    "start_time": "2022-06-26T12:18:13.217Z"
   },
   {
    "duration": 137,
    "start_time": "2022-06-26T12:30:24.575Z"
   },
   {
    "duration": 34,
    "start_time": "2022-06-26T12:30:43.396Z"
   },
   {
    "duration": 34,
    "start_time": "2022-06-26T12:30:49.658Z"
   },
   {
    "duration": 63,
    "start_time": "2022-06-26T12:30:53.389Z"
   },
   {
    "duration": 39,
    "start_time": "2022-06-26T12:31:25.832Z"
   },
   {
    "duration": 52,
    "start_time": "2022-06-26T12:31:31.257Z"
   },
   {
    "duration": 37,
    "start_time": "2022-06-26T12:31:34.059Z"
   },
   {
    "duration": 36,
    "start_time": "2022-06-26T12:31:36.997Z"
   },
   {
    "duration": 33,
    "start_time": "2022-06-26T12:31:39.682Z"
   },
   {
    "duration": 40,
    "start_time": "2022-06-26T12:32:45.327Z"
   },
   {
    "duration": 37,
    "start_time": "2022-06-26T12:33:53.278Z"
   },
   {
    "duration": 33,
    "start_time": "2022-06-26T12:34:00.917Z"
   },
   {
    "duration": 33,
    "start_time": "2022-06-26T12:34:16.732Z"
   },
   {
    "duration": 13,
    "start_time": "2022-06-26T12:41:05.257Z"
   },
   {
    "duration": 2,
    "start_time": "2022-06-26T12:41:29.492Z"
   },
   {
    "duration": 10,
    "start_time": "2022-06-26T12:41:35.104Z"
   },
   {
    "duration": 10,
    "start_time": "2022-06-26T12:42:08.111Z"
   },
   {
    "duration": 10,
    "start_time": "2022-06-26T12:43:19.288Z"
   },
   {
    "duration": 11,
    "start_time": "2022-06-26T12:43:36.276Z"
   },
   {
    "duration": 9,
    "start_time": "2022-06-26T12:44:38.984Z"
   },
   {
    "duration": 9,
    "start_time": "2022-06-26T12:44:57.230Z"
   },
   {
    "duration": 12,
    "start_time": "2022-06-26T12:45:11.118Z"
   },
   {
    "duration": 6768,
    "start_time": "2022-06-26T12:47:24.513Z"
   },
   {
    "duration": 3219,
    "start_time": "2022-06-26T12:47:34.625Z"
   },
   {
    "duration": 402,
    "start_time": "2022-06-26T13:38:02.809Z"
   },
   {
    "duration": 777,
    "start_time": "2022-06-26T13:38:03.213Z"
   },
   {
    "duration": 7,
    "start_time": "2022-06-26T13:38:03.992Z"
   },
   {
    "duration": 34,
    "start_time": "2022-06-26T13:38:04.004Z"
   },
   {
    "duration": 5,
    "start_time": "2022-06-26T13:38:04.040Z"
   },
   {
    "duration": 8,
    "start_time": "2022-06-26T13:38:04.047Z"
   },
   {
    "duration": 505,
    "start_time": "2022-06-26T13:38:04.057Z"
   },
   {
    "duration": 3,
    "start_time": "2022-06-26T13:38:04.563Z"
   },
   {
    "duration": 9,
    "start_time": "2022-06-26T13:38:04.567Z"
   },
   {
    "duration": 79,
    "start_time": "2022-06-26T13:38:04.578Z"
   },
   {
    "duration": 25,
    "start_time": "2022-06-26T13:38:04.659Z"
   },
   {
    "duration": 14,
    "start_time": "2022-06-26T13:38:04.686Z"
   },
   {
    "duration": 28,
    "start_time": "2022-06-26T13:38:04.707Z"
   },
   {
    "duration": 5,
    "start_time": "2022-06-26T13:38:04.736Z"
   },
   {
    "duration": 13,
    "start_time": "2022-06-26T13:38:04.742Z"
   },
   {
    "duration": 12,
    "start_time": "2022-06-26T13:38:04.756Z"
   },
   {
    "duration": 3,
    "start_time": "2022-06-26T13:38:04.770Z"
   },
   {
    "duration": 8,
    "start_time": "2022-06-26T13:38:04.775Z"
   },
   {
    "duration": 6,
    "start_time": "2022-06-26T13:38:04.797Z"
   },
   {
    "duration": 14,
    "start_time": "2022-06-26T13:38:04.804Z"
   },
   {
    "duration": 103548,
    "start_time": "2022-06-26T13:38:04.819Z"
   },
   {
    "duration": 175521,
    "start_time": "2022-06-26T13:39:48.369Z"
   },
   {
    "duration": 1036,
    "start_time": "2022-06-26T13:42:43.891Z"
   },
   {
    "duration": 2418,
    "start_time": "2022-06-26T13:42:44.929Z"
   },
   {
    "duration": 267,
    "start_time": "2022-06-26T13:42:47.349Z"
   },
   {
    "duration": 18,
    "start_time": "2022-06-26T13:42:47.618Z"
   },
   {
    "duration": 42,
    "start_time": "2022-06-26T13:42:47.638Z"
   },
   {
    "duration": 50,
    "start_time": "2022-06-26T13:42:47.684Z"
   },
   {
    "duration": 10,
    "start_time": "2022-06-26T13:42:47.736Z"
   },
   {
    "duration": 13,
    "start_time": "2022-06-26T13:42:47.747Z"
   },
   {
    "duration": 14,
    "start_time": "2022-06-26T13:42:47.762Z"
   },
   {
    "duration": 1575,
    "start_time": "2022-06-26T21:06:02.245Z"
   },
   {
    "duration": 45,
    "start_time": "2022-06-26T21:06:06.407Z"
   },
   {
    "duration": 21,
    "start_time": "2022-06-26T21:06:06.950Z"
   },
   {
    "duration": 12,
    "start_time": "2022-06-26T21:06:08.422Z"
   },
   {
    "duration": 30,
    "start_time": "2022-06-26T21:06:10.043Z"
   },
   {
    "duration": 5,
    "start_time": "2022-06-26T21:06:10.484Z"
   },
   {
    "duration": 13,
    "start_time": "2022-06-26T21:06:12.470Z"
   },
   {
    "duration": 8,
    "start_time": "2022-06-26T21:06:13.845Z"
   },
   {
    "duration": 4,
    "start_time": "2022-06-26T21:06:25.508Z"
   },
   {
    "duration": 10,
    "start_time": "2022-06-26T21:06:28.171Z"
   },
   {
    "duration": 6,
    "start_time": "2022-06-26T21:06:28.590Z"
   },
   {
    "duration": 7,
    "start_time": "2022-06-26T21:06:30.513Z"
   },
   {
    "duration": 116380,
    "start_time": "2022-06-26T21:07:07.756Z"
   },
   {
    "duration": 199734,
    "start_time": "2022-06-26T21:09:42.170Z"
   },
   {
    "duration": 605,
    "start_time": "2022-06-26T21:15:08.912Z"
   },
   {
    "duration": 584,
    "start_time": "2022-06-26T21:15:27.174Z"
   },
   {
    "duration": 3196,
    "start_time": "2022-06-26T21:16:44.205Z"
   },
   {
    "duration": 6,
    "start_time": "2022-06-26T21:17:04.325Z"
   },
   {
    "duration": 21,
    "start_time": "2022-06-26T21:17:07.298Z"
   },
   {
    "duration": 6,
    "start_time": "2022-06-26T21:17:12.344Z"
   },
   {
    "duration": 7,
    "start_time": "2022-06-26T21:17:41.072Z"
   },
   {
    "duration": 10,
    "start_time": "2022-06-26T21:19:05.629Z"
   },
   {
    "duration": 18,
    "start_time": "2022-06-26T21:19:09.697Z"
   },
   {
    "duration": 12,
    "start_time": "2022-06-26T21:19:12.485Z"
   },
   {
    "duration": 3,
    "start_time": "2022-06-26T21:20:13.530Z"
   },
   {
    "duration": 7,
    "start_time": "2022-06-26T21:21:19.486Z"
   },
   {
    "duration": 6,
    "start_time": "2022-06-26T21:21:49.785Z"
   },
   {
    "duration": 1427,
    "start_time": "2022-06-26T21:24:01.729Z"
   },
   {
    "duration": 21,
    "start_time": "2022-06-26T21:24:03.158Z"
   },
   {
    "duration": 13,
    "start_time": "2022-06-26T21:24:03.181Z"
   },
   {
    "duration": 15,
    "start_time": "2022-06-26T21:24:03.196Z"
   },
   {
    "duration": 31,
    "start_time": "2022-06-26T21:24:03.213Z"
   },
   {
    "duration": 11,
    "start_time": "2022-06-26T21:24:03.252Z"
   },
   {
    "duration": 17,
    "start_time": "2022-06-26T21:24:03.264Z"
   },
   {
    "duration": 10,
    "start_time": "2022-06-26T21:24:03.283Z"
   },
   {
    "duration": 6,
    "start_time": "2022-06-26T21:24:03.295Z"
   },
   {
    "duration": 7,
    "start_time": "2022-06-26T21:24:03.304Z"
   },
   {
    "duration": 7,
    "start_time": "2022-06-26T21:24:03.313Z"
   },
   {
    "duration": 8,
    "start_time": "2022-06-26T21:24:03.322Z"
   },
   {
    "duration": 114117,
    "start_time": "2022-06-26T21:24:03.332Z"
   },
   {
    "duration": 191066,
    "start_time": "2022-06-26T21:25:57.450Z"
   },
   {
    "duration": 1073,
    "start_time": "2022-06-26T21:29:08.517Z"
   },
   {
    "duration": 595,
    "start_time": "2022-06-26T21:29:09.592Z"
   },
   {
    "duration": 3289,
    "start_time": "2022-06-26T21:29:10.189Z"
   },
   {
    "duration": 198,
    "start_time": "2022-06-26T21:29:13.480Z"
   },
   {
    "duration": 7,
    "start_time": "2022-06-26T21:29:13.680Z"
   },
   {
    "duration": 17,
    "start_time": "2022-06-26T21:29:13.689Z"
   },
   {
    "duration": 19,
    "start_time": "2022-06-26T21:29:13.709Z"
   },
   {
    "duration": 22,
    "start_time": "2022-06-26T21:29:13.730Z"
   },
   {
    "duration": 37,
    "start_time": "2022-06-26T21:29:13.754Z"
   },
   {
    "duration": 15,
    "start_time": "2022-06-26T21:29:13.792Z"
   },
   {
    "duration": 20,
    "start_time": "2022-06-26T21:29:13.808Z"
   }
  ],
  "kernelspec": {
   "display_name": "Python 3 (ipykernel)",
   "language": "python",
   "name": "python3"
  },
  "language_info": {
   "codemirror_mode": {
    "name": "ipython",
    "version": 3
   },
   "file_extension": ".py",
   "mimetype": "text/x-python",
   "name": "python",
   "nbconvert_exporter": "python",
   "pygments_lexer": "ipython3",
   "version": "3.9.5"
  },
  "toc": {
   "base_numbering": 1,
   "nav_menu": {},
   "number_sections": true,
   "sideBar": true,
   "skip_h1_title": true,
   "title_cell": "Table of Contents",
   "title_sidebar": "Contents",
   "toc_cell": false,
   "toc_position": {},
   "toc_section_display": true,
   "toc_window_display": false
  }
 },
 "nbformat": 4,
 "nbformat_minor": 2
}
