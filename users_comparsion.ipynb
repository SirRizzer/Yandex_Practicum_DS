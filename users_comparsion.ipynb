{
  "cells": [
    {
      "cell_type": "markdown",
      "metadata": {
        "id": "E0vqbgi9ay0H"
      },
      "source": [
        "# Яндекс.Музыка"
      ]
    },
    {
      "cell_type": "markdown",
      "metadata": {
        "id": "VUC88oWjTJw2"
      },
      "source": [
        "Сравнение Москвы и Петербурга окружено мифами. Например:\n",
        " * Москва — мегаполис, подчинённый жёсткому ритму рабочей недели;\n",
        " * Петербург — культурная столица, со своими вкусами.\n",
        "\n",
        "На данных Яндекс.Музыки вы сравните поведение пользователей двух столиц.\n",
        "\n",
        "**Цель исследования** — проверьте три гипотезы:\n",
        "1. Активность пользователей зависит от дня недели. Причём в Москве и Петербурге это проявляется по-разному.\n",
        "2. В понедельник утром в Москве преобладают одни жанры, а в Петербурге — другие. Так же и вечером пятницы преобладают разные жанры — в зависимости от города. \n",
        "3. Москва и Петербург предпочитают разные жанры музыки. В Москве чаще слушают поп-музыку, в Петербурге — русский рэп.\n",
        "\n",
        "**Ход исследования**\n",
        "\n",
        "Данные о поведении пользователей вы получите из файла `yandex_music_project.csv`. О качестве данных ничего не известно. Поэтому перед проверкой гипотез понадобится обзор данных. \n",
        "\n",
        "Вы проверите данные на ошибки и оцените их влияние на исследование. Затем, на этапе предобработки вы поищете возможность исправить самые критичные ошибки данных.\n",
        " \n",
        "Таким образом, исследование пройдёт в три этапа:\n",
        " 1. Обзор данных.\n",
        " 2. Предобработка данных.\n",
        " 3. Проверка гипотез.\n",
        "\n"
      ]
    },
    {
      "cell_type": "markdown",
      "metadata": {
        "id": "Ml1hmfXC_Zcs"
      },
      "source": [
        "## Обзор данных\n",
        "\n",
        "\n",
        "\n",
        "\n"
      ]
    },
    {
      "cell_type": "code",
      "execution_count": null,
      "metadata": {
        "id": "AXN7PHPN_Zcs"
      },
      "outputs": [],
      "source": [
        "# импорт библиотеки pandas\n",
        "import pandas as pd"
      ]
    },
    {
      "cell_type": "code",
      "execution_count": null,
      "metadata": {
        "id": "fFVu7vqh_Zct",
        "colab": {
          "base_uri": "https://localhost:8080/",
          "height": 328
        },
        "outputId": "64beb59b-be18-44e9-c7fb-de94a48b50fc"
      },
      "outputs": [
        {
          "output_type": "error",
          "ename": "FileNotFoundError",
          "evalue": "ignored",
          "traceback": [
            "\u001b[0;31m---------------------------------------------------------------------------\u001b[0m",
            "\u001b[0;31mFileNotFoundError\u001b[0m                         Traceback (most recent call last)",
            "\u001b[0;32m<ipython-input-2-d136e2940a4a>\u001b[0m in \u001b[0;36m<module>\u001b[0;34m\u001b[0m\n\u001b[1;32m      1\u001b[0m \u001b[0;31m# чтение файла с данными и сохранение в df\u001b[0m\u001b[0;34m\u001b[0m\u001b[0;34m\u001b[0m\u001b[0;34m\u001b[0m\u001b[0m\n\u001b[0;32m----> 2\u001b[0;31m \u001b[0mdf\u001b[0m \u001b[0;34m=\u001b[0m \u001b[0mpd\u001b[0m\u001b[0;34m.\u001b[0m\u001b[0mread_csv\u001b[0m\u001b[0;34m(\u001b[0m\u001b[0;34m'/datasets/yandex_music_project.csv'\u001b[0m\u001b[0;34m)\u001b[0m\u001b[0;34m\u001b[0m\u001b[0;34m\u001b[0m\u001b[0m\n\u001b[0m",
            "\u001b[0;32m/usr/local/lib/python3.7/dist-packages/pandas/util/_decorators.py\u001b[0m in \u001b[0;36mwrapper\u001b[0;34m(*args, **kwargs)\u001b[0m\n\u001b[1;32m    309\u001b[0m                     \u001b[0mstacklevel\u001b[0m\u001b[0;34m=\u001b[0m\u001b[0mstacklevel\u001b[0m\u001b[0;34m,\u001b[0m\u001b[0;34m\u001b[0m\u001b[0;34m\u001b[0m\u001b[0m\n\u001b[1;32m    310\u001b[0m                 )\n\u001b[0;32m--> 311\u001b[0;31m             \u001b[0;32mreturn\u001b[0m \u001b[0mfunc\u001b[0m\u001b[0;34m(\u001b[0m\u001b[0;34m*\u001b[0m\u001b[0margs\u001b[0m\u001b[0;34m,\u001b[0m \u001b[0;34m**\u001b[0m\u001b[0mkwargs\u001b[0m\u001b[0;34m)\u001b[0m\u001b[0;34m\u001b[0m\u001b[0;34m\u001b[0m\u001b[0m\n\u001b[0m\u001b[1;32m    312\u001b[0m \u001b[0;34m\u001b[0m\u001b[0m\n\u001b[1;32m    313\u001b[0m         \u001b[0;32mreturn\u001b[0m \u001b[0mwrapper\u001b[0m\u001b[0;34m\u001b[0m\u001b[0;34m\u001b[0m\u001b[0m\n",
            "\u001b[0;32m/usr/local/lib/python3.7/dist-packages/pandas/io/parsers/readers.py\u001b[0m in \u001b[0;36mread_csv\u001b[0;34m(filepath_or_buffer, sep, delimiter, header, names, index_col, usecols, squeeze, prefix, mangle_dupe_cols, dtype, engine, converters, true_values, false_values, skipinitialspace, skiprows, skipfooter, nrows, na_values, keep_default_na, na_filter, verbose, skip_blank_lines, parse_dates, infer_datetime_format, keep_date_col, date_parser, dayfirst, cache_dates, iterator, chunksize, compression, thousands, decimal, lineterminator, quotechar, quoting, doublequote, escapechar, comment, encoding, encoding_errors, dialect, error_bad_lines, warn_bad_lines, on_bad_lines, delim_whitespace, low_memory, memory_map, float_precision, storage_options)\u001b[0m\n\u001b[1;32m    584\u001b[0m     \u001b[0mkwds\u001b[0m\u001b[0;34m.\u001b[0m\u001b[0mupdate\u001b[0m\u001b[0;34m(\u001b[0m\u001b[0mkwds_defaults\u001b[0m\u001b[0;34m)\u001b[0m\u001b[0;34m\u001b[0m\u001b[0;34m\u001b[0m\u001b[0m\n\u001b[1;32m    585\u001b[0m \u001b[0;34m\u001b[0m\u001b[0m\n\u001b[0;32m--> 586\u001b[0;31m     \u001b[0;32mreturn\u001b[0m \u001b[0m_read\u001b[0m\u001b[0;34m(\u001b[0m\u001b[0mfilepath_or_buffer\u001b[0m\u001b[0;34m,\u001b[0m \u001b[0mkwds\u001b[0m\u001b[0;34m)\u001b[0m\u001b[0;34m\u001b[0m\u001b[0;34m\u001b[0m\u001b[0m\n\u001b[0m\u001b[1;32m    587\u001b[0m \u001b[0;34m\u001b[0m\u001b[0m\n\u001b[1;32m    588\u001b[0m \u001b[0;34m\u001b[0m\u001b[0m\n",
            "\u001b[0;32m/usr/local/lib/python3.7/dist-packages/pandas/io/parsers/readers.py\u001b[0m in \u001b[0;36m_read\u001b[0;34m(filepath_or_buffer, kwds)\u001b[0m\n\u001b[1;32m    480\u001b[0m \u001b[0;34m\u001b[0m\u001b[0m\n\u001b[1;32m    481\u001b[0m     \u001b[0;31m# Create the parser.\u001b[0m\u001b[0;34m\u001b[0m\u001b[0;34m\u001b[0m\u001b[0;34m\u001b[0m\u001b[0m\n\u001b[0;32m--> 482\u001b[0;31m     \u001b[0mparser\u001b[0m \u001b[0;34m=\u001b[0m \u001b[0mTextFileReader\u001b[0m\u001b[0;34m(\u001b[0m\u001b[0mfilepath_or_buffer\u001b[0m\u001b[0;34m,\u001b[0m \u001b[0;34m**\u001b[0m\u001b[0mkwds\u001b[0m\u001b[0;34m)\u001b[0m\u001b[0;34m\u001b[0m\u001b[0;34m\u001b[0m\u001b[0m\n\u001b[0m\u001b[1;32m    483\u001b[0m \u001b[0;34m\u001b[0m\u001b[0m\n\u001b[1;32m    484\u001b[0m     \u001b[0;32mif\u001b[0m \u001b[0mchunksize\u001b[0m \u001b[0;32mor\u001b[0m \u001b[0miterator\u001b[0m\u001b[0;34m:\u001b[0m\u001b[0;34m\u001b[0m\u001b[0;34m\u001b[0m\u001b[0m\n",
            "\u001b[0;32m/usr/local/lib/python3.7/dist-packages/pandas/io/parsers/readers.py\u001b[0m in \u001b[0;36m__init__\u001b[0;34m(self, f, engine, **kwds)\u001b[0m\n\u001b[1;32m    809\u001b[0m             \u001b[0mself\u001b[0m\u001b[0;34m.\u001b[0m\u001b[0moptions\u001b[0m\u001b[0;34m[\u001b[0m\u001b[0;34m\"has_index_names\"\u001b[0m\u001b[0;34m]\u001b[0m \u001b[0;34m=\u001b[0m \u001b[0mkwds\u001b[0m\u001b[0;34m[\u001b[0m\u001b[0;34m\"has_index_names\"\u001b[0m\u001b[0;34m]\u001b[0m\u001b[0;34m\u001b[0m\u001b[0;34m\u001b[0m\u001b[0m\n\u001b[1;32m    810\u001b[0m \u001b[0;34m\u001b[0m\u001b[0m\n\u001b[0;32m--> 811\u001b[0;31m         \u001b[0mself\u001b[0m\u001b[0;34m.\u001b[0m\u001b[0m_engine\u001b[0m \u001b[0;34m=\u001b[0m \u001b[0mself\u001b[0m\u001b[0;34m.\u001b[0m\u001b[0m_make_engine\u001b[0m\u001b[0;34m(\u001b[0m\u001b[0mself\u001b[0m\u001b[0;34m.\u001b[0m\u001b[0mengine\u001b[0m\u001b[0;34m)\u001b[0m\u001b[0;34m\u001b[0m\u001b[0;34m\u001b[0m\u001b[0m\n\u001b[0m\u001b[1;32m    812\u001b[0m \u001b[0;34m\u001b[0m\u001b[0m\n\u001b[1;32m    813\u001b[0m     \u001b[0;32mdef\u001b[0m \u001b[0mclose\u001b[0m\u001b[0;34m(\u001b[0m\u001b[0mself\u001b[0m\u001b[0;34m)\u001b[0m\u001b[0;34m:\u001b[0m\u001b[0;34m\u001b[0m\u001b[0;34m\u001b[0m\u001b[0m\n",
            "\u001b[0;32m/usr/local/lib/python3.7/dist-packages/pandas/io/parsers/readers.py\u001b[0m in \u001b[0;36m_make_engine\u001b[0;34m(self, engine)\u001b[0m\n\u001b[1;32m   1038\u001b[0m             )\n\u001b[1;32m   1039\u001b[0m         \u001b[0;31m# error: Too many arguments for \"ParserBase\"\u001b[0m\u001b[0;34m\u001b[0m\u001b[0;34m\u001b[0m\u001b[0;34m\u001b[0m\u001b[0m\n\u001b[0;32m-> 1040\u001b[0;31m         \u001b[0;32mreturn\u001b[0m \u001b[0mmapping\u001b[0m\u001b[0;34m[\u001b[0m\u001b[0mengine\u001b[0m\u001b[0;34m]\u001b[0m\u001b[0;34m(\u001b[0m\u001b[0mself\u001b[0m\u001b[0;34m.\u001b[0m\u001b[0mf\u001b[0m\u001b[0;34m,\u001b[0m \u001b[0;34m**\u001b[0m\u001b[0mself\u001b[0m\u001b[0;34m.\u001b[0m\u001b[0moptions\u001b[0m\u001b[0;34m)\u001b[0m  \u001b[0;31m# type: ignore[call-arg]\u001b[0m\u001b[0;34m\u001b[0m\u001b[0;34m\u001b[0m\u001b[0m\n\u001b[0m\u001b[1;32m   1041\u001b[0m \u001b[0;34m\u001b[0m\u001b[0m\n\u001b[1;32m   1042\u001b[0m     \u001b[0;32mdef\u001b[0m \u001b[0m_failover_to_python\u001b[0m\u001b[0;34m(\u001b[0m\u001b[0mself\u001b[0m\u001b[0;34m)\u001b[0m\u001b[0;34m:\u001b[0m\u001b[0;34m\u001b[0m\u001b[0;34m\u001b[0m\u001b[0m\n",
            "\u001b[0;32m/usr/local/lib/python3.7/dist-packages/pandas/io/parsers/c_parser_wrapper.py\u001b[0m in \u001b[0;36m__init__\u001b[0;34m(self, src, **kwds)\u001b[0m\n\u001b[1;32m     49\u001b[0m \u001b[0;34m\u001b[0m\u001b[0m\n\u001b[1;32m     50\u001b[0m         \u001b[0;31m# open handles\u001b[0m\u001b[0;34m\u001b[0m\u001b[0;34m\u001b[0m\u001b[0;34m\u001b[0m\u001b[0m\n\u001b[0;32m---> 51\u001b[0;31m         \u001b[0mself\u001b[0m\u001b[0;34m.\u001b[0m\u001b[0m_open_handles\u001b[0m\u001b[0;34m(\u001b[0m\u001b[0msrc\u001b[0m\u001b[0;34m,\u001b[0m \u001b[0mkwds\u001b[0m\u001b[0;34m)\u001b[0m\u001b[0;34m\u001b[0m\u001b[0;34m\u001b[0m\u001b[0m\n\u001b[0m\u001b[1;32m     52\u001b[0m         \u001b[0;32massert\u001b[0m \u001b[0mself\u001b[0m\u001b[0;34m.\u001b[0m\u001b[0mhandles\u001b[0m \u001b[0;32mis\u001b[0m \u001b[0;32mnot\u001b[0m \u001b[0;32mNone\u001b[0m\u001b[0;34m\u001b[0m\u001b[0;34m\u001b[0m\u001b[0m\n\u001b[1;32m     53\u001b[0m \u001b[0;34m\u001b[0m\u001b[0m\n",
            "\u001b[0;32m/usr/local/lib/python3.7/dist-packages/pandas/io/parsers/base_parser.py\u001b[0m in \u001b[0;36m_open_handles\u001b[0;34m(self, src, kwds)\u001b[0m\n\u001b[1;32m    227\u001b[0m             \u001b[0mmemory_map\u001b[0m\u001b[0;34m=\u001b[0m\u001b[0mkwds\u001b[0m\u001b[0;34m.\u001b[0m\u001b[0mget\u001b[0m\u001b[0;34m(\u001b[0m\u001b[0;34m\"memory_map\"\u001b[0m\u001b[0;34m,\u001b[0m \u001b[0;32mFalse\u001b[0m\u001b[0;34m)\u001b[0m\u001b[0;34m,\u001b[0m\u001b[0;34m\u001b[0m\u001b[0;34m\u001b[0m\u001b[0m\n\u001b[1;32m    228\u001b[0m             \u001b[0mstorage_options\u001b[0m\u001b[0;34m=\u001b[0m\u001b[0mkwds\u001b[0m\u001b[0;34m.\u001b[0m\u001b[0mget\u001b[0m\u001b[0;34m(\u001b[0m\u001b[0;34m\"storage_options\"\u001b[0m\u001b[0;34m,\u001b[0m \u001b[0;32mNone\u001b[0m\u001b[0;34m)\u001b[0m\u001b[0;34m,\u001b[0m\u001b[0;34m\u001b[0m\u001b[0;34m\u001b[0m\u001b[0m\n\u001b[0;32m--> 229\u001b[0;31m             \u001b[0merrors\u001b[0m\u001b[0;34m=\u001b[0m\u001b[0mkwds\u001b[0m\u001b[0;34m.\u001b[0m\u001b[0mget\u001b[0m\u001b[0;34m(\u001b[0m\u001b[0;34m\"encoding_errors\"\u001b[0m\u001b[0;34m,\u001b[0m \u001b[0;34m\"strict\"\u001b[0m\u001b[0;34m)\u001b[0m\u001b[0;34m,\u001b[0m\u001b[0;34m\u001b[0m\u001b[0;34m\u001b[0m\u001b[0m\n\u001b[0m\u001b[1;32m    230\u001b[0m         )\n\u001b[1;32m    231\u001b[0m \u001b[0;34m\u001b[0m\u001b[0m\n",
            "\u001b[0;32m/usr/local/lib/python3.7/dist-packages/pandas/io/common.py\u001b[0m in \u001b[0;36mget_handle\u001b[0;34m(path_or_buf, mode, encoding, compression, memory_map, is_text, errors, storage_options)\u001b[0m\n\u001b[1;32m    705\u001b[0m                 \u001b[0mencoding\u001b[0m\u001b[0;34m=\u001b[0m\u001b[0mioargs\u001b[0m\u001b[0;34m.\u001b[0m\u001b[0mencoding\u001b[0m\u001b[0;34m,\u001b[0m\u001b[0;34m\u001b[0m\u001b[0;34m\u001b[0m\u001b[0m\n\u001b[1;32m    706\u001b[0m                 \u001b[0merrors\u001b[0m\u001b[0;34m=\u001b[0m\u001b[0merrors\u001b[0m\u001b[0;34m,\u001b[0m\u001b[0;34m\u001b[0m\u001b[0;34m\u001b[0m\u001b[0m\n\u001b[0;32m--> 707\u001b[0;31m                 \u001b[0mnewline\u001b[0m\u001b[0;34m=\u001b[0m\u001b[0;34m\"\"\u001b[0m\u001b[0;34m,\u001b[0m\u001b[0;34m\u001b[0m\u001b[0;34m\u001b[0m\u001b[0m\n\u001b[0m\u001b[1;32m    708\u001b[0m             )\n\u001b[1;32m    709\u001b[0m         \u001b[0;32melse\u001b[0m\u001b[0;34m:\u001b[0m\u001b[0;34m\u001b[0m\u001b[0;34m\u001b[0m\u001b[0m\n",
            "\u001b[0;31mFileNotFoundError\u001b[0m: [Errno 2] No such file or directory: '/datasets/yandex_music_project.csv'"
          ]
        }
      ],
      "source": [
        "# чтение файла с данными и сохранение в df\n",
        "df = pd.read_csv('/datasets/yandex_music_project.csv')"
      ]
    },
    {
      "cell_type": "code",
      "execution_count": null,
      "metadata": {
        "id": "oWTVX3gW_Zct"
      },
      "outputs": [],
      "source": [
        "# получение первых 10 строк таблицы df\n",
        "df.head(10)"
      ]
    },
    {
      "cell_type": "code",
      "execution_count": null,
      "metadata": {
        "id": "hBIruEvRWbZx"
      },
      "outputs": [],
      "source": [
        "df.tail(5)"
      ]
    },
    {
      "cell_type": "code",
      "execution_count": null,
      "metadata": {
        "id": "DSf2kIb-_Zct"
      },
      "outputs": [],
      "source": [
        "# получение общей информации о данных в таблице df\n",
        "df.info()"
      ]
    },
    {
      "cell_type": "markdown",
      "metadata": {
        "id": "TaQ2Iwbr_Zct"
      },
      "source": [
        "Итак, в таблице семь столбцов. Тип данных во всех столбцах — `object`.\n",
        "\n",
        "Согласно документации к данным:\n",
        "* `userID` — идентификатор пользователя;\n",
        "* `Track` — название трека;  \n",
        "* `artist` — имя исполнителя;\n",
        "* `genre` — название жанра;\n",
        "* `City` — город пользователя;\n",
        "* `time` — время начала прослушивания;\n",
        "* `Day` — день недели.\n",
        "\n",
        "В названиях колонок видны три нарушения стиля:\n",
        "1. Строчные буквы сочетаются с прописными.\n",
        "2. Встречаются пробелы.\n",
        "3. Найдите ещё одну проблему в названии колонок и опишите её в этом пункте.<br>\n",
        "Ответ: Когда имя состоит из нескольких слов, их пишут через знак_подчёркивания.\n",
        "\n",
        "\n",
        "\n",
        "Количество значений в столбцах различается. Значит, в данных есть пропущенные значения.\n"
      ]
    },
    {
      "cell_type": "markdown",
      "metadata": {
        "id": "MCB6-dXG_Zct"
      },
      "source": [
        "**Выводы**\n",
        "\n",
        "В каждой строке таблицы — данные о прослушанном треке. Часть колонок описывает саму композицию: название, исполнителя и жанр. Остальные данные рассказывают о пользователе: из какого он города, когда он слушал музыку. \n",
        "\n",
        "Предварительно можно утверждать, что, данных достаточно для проверки гипотез. Но встречаются пропуски в данных, а в названиях колонок — расхождения с хорошим стилем.\n",
        "\n",
        "Чтобы двигаться дальше, нужно устранить проблемы в данных."
      ]
    },
    {
      "cell_type": "markdown",
      "metadata": {
        "id": "SjYF6Ub9_Zct"
      },
      "source": [
        "## Предобработка данных\n"
      ]
    },
    {
      "cell_type": "markdown",
      "metadata": {
        "id": "dIaKXr29_Zct"
      },
      "source": [
        "### Стиль заголовков\n"
      ]
    },
    {
      "cell_type": "code",
      "execution_count": null,
      "metadata": {
        "id": "oKOTdF_Q_Zct"
      },
      "outputs": [],
      "source": [
        "# перечень названий столбцов таблицы df\n",
        "df.columns"
      ]
    },
    {
      "cell_type": "code",
      "execution_count": null,
      "metadata": {
        "id": "ISlFqs5y_Zct"
      },
      "outputs": [],
      "source": [
        "# переименование столбцов\n",
        "df = df.rename(columns={'  userID' : 'user_id', 'Track' : 'track', '  City  ' : 'city', 'Day' : 'day'})"
      ]
    },
    {
      "cell_type": "code",
      "execution_count": null,
      "metadata": {
        "id": "d4NOAmTW_Zct"
      },
      "outputs": [],
      "source": [
        "# проверка результатов - перечень названий столбцов\n",
        "df.columns"
      ]
    },
    {
      "cell_type": "markdown",
      "metadata": {
        "id": "5ISfbcfY_Zct"
      },
      "source": [
        "### Пропуски значений\n"
      ]
    },
    {
      "cell_type": "code",
      "execution_count": null,
      "metadata": {
        "id": "RskX29qr_Zct"
      },
      "outputs": [],
      "source": [
        "# подсчёт пропусков\n",
        "df.isna().sum()"
      ]
    },
    {
      "cell_type": "markdown",
      "metadata": {
        "id": "qubhgnlO_Zct"
      },
      "source": [
        "Не все пропущенные значения влияют на исследование. Так в `track` и `artist` пропуски не важны для вашей работы. Достаточно заменить их явными обозначениями.\n",
        "\n",
        "Но пропуски в `genre` могут помешать сравнению музыкальных вкусов в Москве и Санкт-Петербурге. На практике было бы правильно установить причину пропусков и восстановить данные. Такой возможности нет в учебном проекте. Придётся:\n",
        "* заполнить и эти пропуски явными обозначениями,\n",
        "* оценить, насколько они повредят расчётам. "
      ]
    },
    {
      "cell_type": "code",
      "execution_count": null,
      "metadata": {
        "id": "KplB5qWs_Zct"
      },
      "outputs": [],
      "source": [
        "# перебор названий столбцов в цикле и замена пропущенных значений на 'unknown'\n",
        "columns_to_replace = ['track', 'artist', 'genre']\n",
        "for column in columns_to_replace:\n",
        "    df[column] = df[column].fillna('unknown')"
      ]
    },
    {
      "cell_type": "code",
      "execution_count": null,
      "metadata": {
        "id": "Tq4nYRX4_Zct"
      },
      "outputs": [],
      "source": [
        "# подсчёт пропусков\n",
        "df.isna().sum()"
      ]
    },
    {
      "cell_type": "markdown",
      "metadata": {
        "id": "BWKRtBJ3_Zct"
      },
      "source": [
        "### Дубликаты\n"
      ]
    },
    {
      "cell_type": "code",
      "execution_count": null,
      "metadata": {
        "id": "36eES_S0_Zct"
      },
      "outputs": [],
      "source": [
        "# подсчёт явных дубликатов\n",
        "df.duplicated().sum()"
      ]
    },
    {
      "cell_type": "code",
      "execution_count": null,
      "metadata": {
        "id": "exFHq6tt_Zct"
      },
      "outputs": [],
      "source": [
        "# удаление явных дубликатов (с удалением старых индексов и формированием новых)\n",
        "df = df.drop_duplicates().reset_index(drop=True)"
      ]
    },
    {
      "cell_type": "code",
      "execution_count": null,
      "metadata": {
        "id": "-8PuNWQ0_Zct"
      },
      "outputs": [],
      "source": [
        "# проверка на отсутствие дубликатов\n",
        "df.duplicated().sum()"
      ]
    },
    {
      "cell_type": "code",
      "execution_count": null,
      "metadata": {
        "id": "JIUcqzZN_Zct"
      },
      "outputs": [],
      "source": [
        "# Просмотр уникальных названий жанров\n",
        "df['genre'].sort_values().unique()"
      ]
    },
    {
      "cell_type": "code",
      "execution_count": null,
      "metadata": {
        "id": "ErNDkmns_Zct"
      },
      "outputs": [],
      "source": [
        "# Функция для замены неявных дубликатов\n",
        "def replace_wrong_values(wrong_values, correct_value): # на вход функции подаются список неправильных значений и строка с правильным значением\n",
        "    for wrong_value in wrong_values: # перебираем неправильные имена\n",
        "        df['genre'] = df['genre'].replace(wrong_value, correct_value) # и для каждого неправильного имени вызываем метод replace()\n"
      ]
    },
    {
      "cell_type": "code",
      "execution_count": null,
      "metadata": {
        "id": "YN5i2hpmSo09"
      },
      "outputs": [],
      "source": [
        "# Устранение неявных дубликатов\n",
        "wrong_values = ['hip', 'hop', 'hip-hop'] # список неправильных имён\n",
        "correct_value = 'hiphop' # правильное имя\n",
        "replace_wrong_values(wrong_values, correct_value) # вызов функции, replace() внутри будет вызван 3 раза"
      ]
    },
    {
      "cell_type": "code",
      "execution_count": null,
      "metadata": {
        "id": "wvixALnFG15m"
      },
      "outputs": [],
      "source": [
        "# Проверка на неявные дубликаты\n",
        "df['genre'].sort_values().unique()"
      ]
    },
    {
      "cell_type": "markdown",
      "metadata": {
        "id": "jz6a9-7HQUDd"
      },
      "source": [
        "**Выводы**\n",
        "\n",
        "Предобработка обнаружила три проблемы в данных:\n",
        "\n",
        "- нарушения в стиле заголовков,\n",
        "- пропущенные значения,\n",
        "- дубликаты — явные и неявные.\n",
        "\n",
        "Вы исправили заголовки, чтобы упростить работу с таблицей. Без дубликатов исследование станет более точным.\n",
        "\n",
        "Пропущенные значения вы заменили на `'unknown'`. Ещё предстоит увидеть, не повредят ли исследованию пропуски в колонке `genre`.\n",
        "\n",
        "Теперь можно перейти к проверке гипотез. "
      ]
    },
    {
      "cell_type": "markdown",
      "metadata": {
        "id": "WttZHXH0SqKk"
      },
      "source": [
        "## Проверка гипотез"
      ]
    },
    {
      "cell_type": "markdown",
      "metadata": {
        "id": "Im936VVi_Zcu"
      },
      "source": [
        "### Сравнение поведения пользователей двух столиц"
      ]
    },
    {
      "cell_type": "markdown",
      "metadata": {
        "id": "nwt_MuaL_Zcu"
      },
      "source": [
        "Первая гипотеза утверждает, что пользователи по-разному слушают музыку в Москве и Санкт-Петербурге. Проверим это предположение по данным о трёх днях недели — понедельнике, среде и пятнице. Для этого:\n",
        "\n",
        "* Разделим пользователей Москвы и Санкт-Петербурга\n",
        "* Сравним, сколько треков послушала каждая группа пользователей в понедельник, среду и пятницу.\n"
      ]
    },
    {
      "cell_type": "code",
      "execution_count": null,
      "metadata": {
        "id": "0_Qs96oh_Zcu"
      },
      "outputs": [],
      "source": [
        "# Подсчёт прослушиваний в каждом городе\n",
        "df.groupby('city').count()['genre']"
      ]
    },
    {
      "cell_type": "markdown",
      "metadata": {
        "id": "dzli3w8o_Zcu"
      },
      "source": [
        "В Москве прослушиваний больше, чем в Петербурге. Из этого не следует, что московские пользователи чаще слушают музыку. Просто самих пользователей в Москве больше.\n",
        "\n",
        "Теперь сгруппируем данные по дню недели и подсчитаем прослушивания в понедельник, среду и пятницу."
      ]
    },
    {
      "cell_type": "code",
      "execution_count": null,
      "metadata": {
        "id": "uZMKjiJz_Zcu"
      },
      "outputs": [],
      "source": [
        "# Подсчёт прослушиваний в каждый из трёх дней\n",
        "df.groupby('day').count()['genre']"
      ]
    },
    {
      "cell_type": "markdown",
      "metadata": {
        "id": "cC2tNrlL_Zcu"
      },
      "source": [
        "В среднем пользователи из двух городов менее активны по средам. Но картина может измениться, если рассмотреть каждый город в отдельности."
      ]
    },
    {
      "cell_type": "code",
      "execution_count": null,
      "metadata": {
        "id": "Nz3GdQB1_Zcu"
      },
      "outputs": [],
      "source": [
        "# <создание функции number_tracks()>\n",
        "# Объявляется функция с двумя параметрами: day, city.\n",
        "def number_tracks(day, city):\n",
        "# В переменной track_list сохраняются те строки таблицы df, для которых \n",
        "# значение в столбце 'day' равно параметру day и одновременно значение\n",
        "# в столбце 'city' равно параметру city (используйте последовательную фильтрацию\n",
        "# с помощью логической индексации).\n",
        "    track_list = df[df['day'] == day] # последовательная фильтрация для дня\n",
        "    track_list = track_list[track_list['city'] == city] # последовательная фильтрация для города\n",
        "# В переменной track_list_count сохраняется число значений столбца 'user_id',\n",
        "# рассчитанное методом count() для таблицы track_list.\n",
        "    track_list_count = track_list['user_id'].count()\n",
        "# Функция возвращает число - значение track_list_count.\n",
        "    return track_list_count\n",
        "# Функция для подсчёта прослушиваний для конкретного города и дня.\n",
        "# С помощью последовательной фильтрации с логической индексацией она \n",
        "# сначала получит из исходной таблицы строки с нужным днём,\n",
        "# затем из результата отфильтрует строки с нужным городом,\n",
        "# методом count() посчитает количество значений в колонке user_id. \n",
        "# Это количество функция вернёт в качестве результата"
      ]
    },
    {
      "cell_type": "code",
      "execution_count": null,
      "metadata": {
        "id": "rJcRATNQ_Zcu"
      },
      "outputs": [],
      "source": [
        "# количество прослушиваний в Москве по понедельникам\n",
        "number_tracks(day = 'Monday', city = 'Moscow')"
      ]
    },
    {
      "cell_type": "code",
      "execution_count": null,
      "metadata": {
        "id": "hq_ncZ5T_Zcu"
      },
      "outputs": [],
      "source": [
        "# количество прослушиваний в Санкт-Петербурге по понедельникам\n",
        "number_tracks(day = 'Monday', city = 'Saint-Petersburg')"
      ]
    },
    {
      "cell_type": "code",
      "execution_count": null,
      "metadata": {
        "id": "_NTy2VPU_Zcu"
      },
      "outputs": [],
      "source": [
        "# количество прослушиваний в Москве по средам\n",
        "number_tracks(day = 'Wednesday', city = 'Moscow')"
      ]
    },
    {
      "cell_type": "code",
      "execution_count": null,
      "metadata": {
        "id": "j2y3TAwo_Zcu"
      },
      "outputs": [],
      "source": [
        "# количество прослушиваний в Санкт-Петербурге по средам\n",
        "number_tracks(day = 'Wednesday', city = 'Saint-Petersburg')"
      ]
    },
    {
      "cell_type": "code",
      "execution_count": null,
      "metadata": {
        "id": "vYDw5u_K_Zcu"
      },
      "outputs": [],
      "source": [
        "# количество прослушиваний в Москве по пятницам\n",
        "number_tracks(day = 'Friday', city = 'Moscow')"
      ]
    },
    {
      "cell_type": "code",
      "execution_count": null,
      "metadata": {
        "id": "8_yzFtW3_Zcu"
      },
      "outputs": [],
      "source": [
        "# количество прослушиваний в Санкт-Петербурге по пятницам\n",
        "number_tracks(day = 'Friday', city = 'Saint-Petersburg')"
      ]
    },
    {
      "cell_type": "code",
      "execution_count": null,
      "metadata": {
        "id": "APAcLpOr_Zcu"
      },
      "outputs": [],
      "source": [
        "# Таблица с результатами\n",
        "data = [['Moscow', number_tracks(day = 'Monday', city = 'Moscow'), number_tracks(day = 'Wednesday', city = 'Moscow'), number_tracks(day = 'Friday', city = 'Moscow')], \n",
        "        ['Saint-Petersburg', number_tracks(day = 'Monday', city = 'Saint-Petersburg'), number_tracks(day = 'Wednesday', city = 'Saint-Petersburg'), number_tracks(day = 'Friday', city = 'Saint-Petersburg')]] # data для таблицы с результатами, которые получил с помощью функции number_tracks\n",
        "df_res = pd.DataFrame(data = data, columns = ['city', 'monday', 'wednesday', 'friday']) # создание таблицы\n",
        "df_res # вывод таблицы"
      ]
    },
    {
      "cell_type": "markdown",
      "metadata": {
        "id": "-EgPIHYu_Zcu"
      },
      "source": [
        "**Выводы**\n",
        "\n",
        "Данные показывают разницу поведения пользователей:\n",
        "\n",
        "- В Москве пик прослушиваний приходится на понедельник и пятницу, а в среду заметен спад.\n",
        "- В Петербурге, наоборот, больше слушают музыку по средам. Активность в понедельник и пятницу здесь почти в равной мере уступает среде.\n",
        "\n",
        "Значит, данные говорят в пользу первой гипотезы."
      ]
    },
    {
      "cell_type": "markdown",
      "metadata": {
        "id": "atZAxtq4_Zcu"
      },
      "source": [
        "### Музыка в начале и в конце недели"
      ]
    },
    {
      "cell_type": "markdown",
      "metadata": {
        "id": "eXrQqXFH_Zcu"
      },
      "source": [
        "Согласно второй гипотезе, утром в понедельник в Москве преобладают одни жанры, а в Петербурге — другие. Так же и вечером пятницы преобладают разные жанры — в зависимости от города."
      ]
    },
    {
      "cell_type": "markdown",
      "metadata": {
        "id": "S8UcW6Hw_Zcu"
      },
      "source": [
        "Сохраним таблицы с данными в две переменные:\n",
        "* по Москве — в `moscow_general`;\n",
        "* по Санкт-Петербургу — в `spb_general`."
      ]
    },
    {
      "cell_type": "code",
      "execution_count": null,
      "metadata": {
        "id": "qeaFfM_P_Zcu"
      },
      "outputs": [],
      "source": [
        "# получение таблицы moscow_general из тех строк таблицы df, \n",
        "# для которых значение в столбце 'city' равно 'Moscow'\n",
        "moscow_general = df[df['city']=='Moscow']\n",
        "moscow_general"
      ]
    },
    {
      "cell_type": "code",
      "execution_count": null,
      "metadata": {
        "id": "ORaVRKto_Zcu"
      },
      "outputs": [],
      "source": [
        "# получение таблицы spb_general из тех строк таблицы df,\n",
        "# для которых значение в столбце 'city' равно 'Saint-Petersburg'\n",
        "spb_general = df[df['city']=='Saint-Petersburg']\n",
        "spb_general"
      ]
    },
    {
      "cell_type": "code",
      "execution_count": null,
      "metadata": {
        "id": "laJT9BYl_Zcu"
      },
      "outputs": [],
      "source": [
        "# Объявление функции genre_weekday() с параметрами table, day, time1, time2,\n",
        "# которая возвращает информацию о самых популярных жанрах в указанный день в\n",
        "# заданное время:\n",
        "def genre_weekday(table, day, time1, time2):\n",
        "    # 1) в переменную genre_df сохраняются те строки переданного датафрейма table, для\n",
        "#    которых одновременно:\n",
        "#    - значение в столбце day равно значению аргумента day\n",
        "#    - значение в столбце time больше значения аргумента time1\n",
        "#    - значение в столбце time меньше значения аргумента time2\n",
        "#    Используйте последовательную фильтрацию с помощью логической индексации.\n",
        "    genre_df = table[table['day'] == day]\n",
        "    genre_df = genre_df[genre_df['time'] > time1]\n",
        "    genre_df = genre_df[genre_df['time'] < time2]\n",
        "# 2) сгруппировать датафрейм genre_df по столбцу genre, взять один из его\n",
        "#    столбцов и посчитать методом count() количество записей для каждого из\n",
        "#    присутствующих жанров, получившийся Series записать в переменную\n",
        "#    genre_df_count\n",
        "    genre_df_count = genre_df.groupby('genre')['track'].count()\n",
        "# 3) отсортировать genre_df_count по убыванию встречаемости и сохранить\n",
        "#    в переменную genre_df_sorted\n",
        "    genre_df_sorted = genre_df_count.sort_values(ascending=False) \n",
        "# 4) вернуть Series из 10 первых значений genre_df_sorted, это будут топ-10\n",
        "#    популярных жанров (в указанный день, в заданное время)\n",
        "    return genre_df_sorted[:10]"
      ]
    },
    {
      "cell_type": "markdown",
      "metadata": {
        "id": "la2s2_PF_Zcu"
      },
      "source": [
        "Cравним результаты функции `genre_weekday()` для Москвы и Санкт-Петербурга в понедельник утром (с 7:00 до 11:00) и в пятницу вечером (с 17:00 до 23:00):"
      ]
    },
    {
      "cell_type": "code",
      "execution_count": null,
      "metadata": {
        "id": "yz7itPUQ_Zcu"
      },
      "outputs": [],
      "source": [
        "# вызов функции для утра понедельника в Москве (вместо df — таблица moscow_general)\n",
        "# объекты, хранящие время, являются строками и сравниваются как строки\n",
        "# пример вызова: genre_weekday(moscow_general, 'Monday', '07:00', '11:00')\n",
        "genre_weekday(moscow_general, 'Monday', '07:00', '11:00')"
      ]
    },
    {
      "cell_type": "code",
      "execution_count": null,
      "metadata": {
        "id": "kwUcHPdy_Zcu"
      },
      "outputs": [],
      "source": [
        "# вызов функции для утра понедельника в Петербурге (вместо df — таблица spb_general)\n",
        "genre_weekday(spb_general, 'Monday', '07:00', '11:00')"
      ]
    },
    {
      "cell_type": "code",
      "execution_count": null,
      "metadata": {
        "id": "EzXVRE1o_Zcu"
      },
      "outputs": [],
      "source": [
        "# вызов функции для вечера пятницы в Москве\n",
        "genre_weekday(moscow_general, 'Friday', '17:00', '23:00')"
      ]
    },
    {
      "cell_type": "code",
      "execution_count": null,
      "metadata": {
        "id": "JZaEKu5v_Zcu"
      },
      "outputs": [],
      "source": [
        "# вызов функции для вечера пятницы в Петербурге\n",
        "genre_weekday(spb_general, 'Friday', '17:00', '23:00')"
      ]
    },
    {
      "cell_type": "markdown",
      "metadata": {
        "id": "wrCe4MNX_Zcu"
      },
      "source": [
        "**Выводы**\n",
        "\n",
        "Если сравнить топ-10 жанров в понедельник утром, можно сделать такие выводы:\n",
        "\n",
        "1. В Москве и Петербурге слушают похожую музыку. Единственное отличие — в московский рейтинг вошёл жанр “world”, а в петербургский — джаз и классика.\n",
        "\n",
        "2. В Москве пропущенных значений оказалось так много, что значение `'unknown'` заняло десятое место среди самых популярных жанров. Значит, пропущенные значения занимают существенную долю в данных и угрожают достоверности исследования.\n",
        "\n",
        "Вечер пятницы не меняет эту картину. Некоторые жанры поднимаются немного выше, другие спускаются, но в целом топ-10 остаётся тем же самым.\n",
        "\n",
        "Таким образом, вторая гипотеза подтвердилась лишь частично:\n",
        "* Пользователи слушают похожую музыку в начале недели и в конце.\n",
        "* Разница между Москвой и Петербургом не слишком выражена. В Москве чаще слушают русскую популярную музыку, в Петербурге — джаз.\n",
        "\n",
        "Однако пропуски в данных ставят под сомнение этот результат. В Москве их так много, что рейтинг топ-10 мог бы выглядеть иначе, если бы не утерянные  данные о жанрах."
      ]
    },
    {
      "cell_type": "markdown",
      "metadata": {
        "id": "JolODAqr_Zcu"
      },
      "source": [
        "### Жанровые предпочтения в Москве и Петербурге\n",
        "\n",
        "Гипотеза: Петербург — столица рэпа, музыку этого жанра там слушают чаще, чем в Москве.  А Москва — город контрастов, в котором, тем не менее, преобладает поп-музыка."
      ]
    },
    {
      "cell_type": "code",
      "execution_count": null,
      "metadata": {
        "id": "r19lIPke_Zcu"
      },
      "outputs": [],
      "source": [
        "# одной строкой: группировка таблицы moscow_general по столбцу 'genre', \n",
        "# подсчёт числа значений 'genre' в этой группировке методом count(), \n",
        "# сортировка получившегося Series в порядке убывания и сохранение в moscow_genres\n",
        "moscow_genres = moscow_general.groupby('genre')['genre'].count().sort_values(ascending=False)"
      ]
    },
    {
      "cell_type": "code",
      "execution_count": null,
      "metadata": {
        "id": "WhCSooF8_Zcv"
      },
      "outputs": [],
      "source": [
        "# просмотр первых 10 строк moscow_genres\n",
        "moscow_genres.head(10)"
      ]
    },
    {
      "cell_type": "code",
      "execution_count": null,
      "metadata": {
        "id": "gluLIpE7_Zcv"
      },
      "outputs": [],
      "source": [
        "# одной строкой: группировка таблицы spb_general по столбцу 'genre', \n",
        "# подсчёт числа значений 'genre' в этой группировке методом count(), \n",
        "# сортировка получившегося Series в порядке убывания и сохранение в spb_genres\n",
        "spb_genres = spb_general.groupby('genre')['genre'].count().sort_values(ascending=False)"
      ]
    },
    {
      "cell_type": "code",
      "execution_count": null,
      "metadata": {
        "id": "uaGJHjVU_Zcv"
      },
      "outputs": [],
      "source": [
        "# просмотр первых 10 строк spb_genres\n",
        "spb_genres.head(10)"
      ]
    },
    {
      "cell_type": "markdown",
      "metadata": {
        "id": "RY51YJYu_Zcv"
      },
      "source": [
        "**Выводы**"
      ]
    },
    {
      "cell_type": "markdown",
      "metadata": {
        "id": "nVhnJEm__Zcv"
      },
      "source": [
        "Гипотеза частично подтвердилась:\n",
        "* Поп-музыка — самый популярный жанр в Москве, как и предполагала гипотеза. Более того, в топ-10 жанров встречается близкий жанр — русская популярная музыка.\n",
        "* Вопреки ожиданиям, рэп одинаково популярен в Москве и Петербурге. \n"
      ]
    },
    {
      "cell_type": "markdown",
      "metadata": {
        "id": "ykKQ0N65_Zcv"
      },
      "source": [
        "## Итоги исследования"
      ]
    },
    {
      "cell_type": "markdown",
      "metadata": {
        "id": "tjUwbHb3_Zcv"
      },
      "source": [
        "Проверил три гипотезы и установил:\n",
        "\n",
        "1. День недели по-разному влияет на активность пользователей в Москве и Петербурге. \n",
        "\n",
        "Первая гипотеза полностью подтвердилась.\n",
        "\n",
        "2. Музыкальные предпочтения не сильно меняются в течение недели — будь то Москва или Петербург. Небольшие различия заметны в начале недели, по понедельникам:\n",
        "* в Москве слушают музыку жанра “world”,\n",
        "* в Петербурге — джаз и классику.\n",
        "\n",
        "Таким образом, вторая гипотеза подтвердилась лишь отчасти. Этот результат мог оказаться иным, если бы не пропуски в данных.\n",
        "\n",
        "3. Во вкусах пользователей Москвы и Петербурга больше общего чем различий. Вопреки ожиданиям, предпочтения жанров в Петербурге напоминают московские.\n",
        "\n",
        "Третья гипотеза не подтвердилась. Если различия в предпочтениях и существуют, на основной массе пользователей они незаметны.\n",
        "\n",
        "**На практике исследования содержат проверки статистических гипотез.**\n",
        "Из данных одного сервиса не всегда можно сделать вывод о всех жителях города.\n",
        "Проверки статистических гипотез покажут, насколько они достоверны, исходя из имеющихся данных. "
      ]
    }
  ],
  "metadata": {
    "ExecuteTimeLog": [
      {
        "duration": 383,
        "start_time": "2022-04-09T11:37:42.437Z"
      },
      {
        "duration": 101,
        "start_time": "2022-04-09T11:37:44.239Z"
      },
      {
        "duration": 55,
        "start_time": "2022-04-09T11:37:49.872Z"
      },
      {
        "duration": 144,
        "start_time": "2022-04-09T11:38:01.256Z"
      },
      {
        "duration": 15,
        "start_time": "2022-04-09T11:38:04.320Z"
      },
      {
        "duration": 24,
        "start_time": "2022-04-09T11:38:20.240Z"
      },
      {
        "duration": 25,
        "start_time": "2022-04-09T11:38:26.487Z"
      },
      {
        "duration": 25,
        "start_time": "2022-04-09T11:38:30.747Z"
      },
      {
        "duration": 2,
        "start_time": "2022-04-09T11:38:49.772Z"
      },
      {
        "duration": 3,
        "start_time": "2022-04-09T11:41:27.230Z"
      },
      {
        "duration": 13,
        "start_time": "2022-04-09T11:41:33.019Z"
      },
      {
        "duration": 3,
        "start_time": "2022-04-09T11:41:35.220Z"
      },
      {
        "duration": 20,
        "start_time": "2022-04-09T11:42:11.759Z"
      },
      {
        "duration": 18,
        "start_time": "2022-04-09T11:49:25.603Z"
      },
      {
        "duration": 19,
        "start_time": "2022-04-09T11:49:33.338Z"
      },
      {
        "duration": 12,
        "start_time": "2022-04-09T11:49:41.488Z"
      },
      {
        "duration": 19,
        "start_time": "2022-04-09T11:49:44.814Z"
      },
      {
        "duration": 1650,
        "start_time": "2022-04-09T11:50:27.839Z"
      },
      {
        "duration": 19,
        "start_time": "2022-04-09T11:50:30.125Z"
      },
      {
        "duration": 12,
        "start_time": "2022-04-09T11:50:39.539Z"
      },
      {
        "duration": 16,
        "start_time": "2022-04-09T11:51:10.963Z"
      },
      {
        "duration": 20,
        "start_time": "2022-04-09T11:51:12.647Z"
      },
      {
        "duration": 56,
        "start_time": "2022-04-09T11:51:37.439Z"
      },
      {
        "duration": 64,
        "start_time": "2022-04-09T11:51:53.263Z"
      },
      {
        "duration": 54,
        "start_time": "2022-04-09T11:52:00.931Z"
      },
      {
        "duration": 9,
        "start_time": "2022-04-09T11:53:25.003Z"
      },
      {
        "duration": 8,
        "start_time": "2022-04-09T11:53:29.750Z"
      },
      {
        "duration": 31,
        "start_time": "2022-04-09T11:53:51.647Z"
      },
      {
        "duration": 7,
        "start_time": "2022-04-09T12:01:31.267Z"
      },
      {
        "duration": 3,
        "start_time": "2022-04-09T12:01:36.527Z"
      },
      {
        "duration": 8,
        "start_time": "2022-04-09T12:01:38.282Z"
      },
      {
        "duration": 3,
        "start_time": "2022-04-09T12:01:56.442Z"
      },
      {
        "duration": 8,
        "start_time": "2022-04-09T12:01:57.755Z"
      },
      {
        "duration": 31,
        "start_time": "2022-04-09T12:02:37.730Z"
      },
      {
        "duration": 32,
        "start_time": "2022-04-09T12:02:47.278Z"
      },
      {
        "duration": 27,
        "start_time": "2022-04-09T12:05:51.538Z"
      },
      {
        "duration": 29,
        "start_time": "2022-04-09T12:07:37.155Z"
      },
      {
        "duration": 7,
        "start_time": "2022-04-09T12:12:56.630Z"
      },
      {
        "duration": 14,
        "start_time": "2022-04-09T12:13:21.011Z"
      },
      {
        "duration": 7,
        "start_time": "2022-04-09T12:13:38.434Z"
      },
      {
        "duration": 4,
        "start_time": "2022-04-09T12:14:20.918Z"
      },
      {
        "duration": 19,
        "start_time": "2022-04-09T12:14:23.966Z"
      },
      {
        "duration": 18,
        "start_time": "2022-04-09T12:15:01.447Z"
      },
      {
        "duration": 20,
        "start_time": "2022-04-09T12:15:20.335Z"
      },
      {
        "duration": 6,
        "start_time": "2022-04-09T12:16:33.582Z"
      },
      {
        "duration": 3,
        "start_time": "2022-04-09T12:16:35.471Z"
      },
      {
        "duration": 18,
        "start_time": "2022-04-09T12:16:37.122Z"
      },
      {
        "duration": 18,
        "start_time": "2022-04-09T12:16:41.230Z"
      },
      {
        "duration": 19,
        "start_time": "2022-04-09T12:16:48.254Z"
      },
      {
        "duration": 16,
        "start_time": "2022-04-09T12:18:36.297Z"
      },
      {
        "duration": 19,
        "start_time": "2022-04-09T12:20:26.339Z"
      },
      {
        "duration": 3,
        "start_time": "2022-04-09T12:22:16.451Z"
      },
      {
        "duration": 14,
        "start_time": "2022-04-09T12:22:19.046Z"
      },
      {
        "duration": 18,
        "start_time": "2022-04-09T12:22:21.175Z"
      },
      {
        "duration": 13,
        "start_time": "2022-04-09T12:22:23.150Z"
      },
      {
        "duration": 12,
        "start_time": "2022-04-09T12:22:24.913Z"
      },
      {
        "duration": 15,
        "start_time": "2022-04-09T12:22:28.850Z"
      },
      {
        "duration": 6,
        "start_time": "2022-04-09T12:22:32.310Z"
      },
      {
        "duration": 13,
        "start_time": "2022-04-09T12:22:38.855Z"
      },
      {
        "duration": 6,
        "start_time": "2022-04-09T12:28:27.338Z"
      },
      {
        "duration": 13,
        "start_time": "2022-04-09T12:28:39.231Z"
      },
      {
        "duration": 11,
        "start_time": "2022-04-09T12:29:13.363Z"
      },
      {
        "duration": 12,
        "start_time": "2022-04-09T12:29:50.922Z"
      },
      {
        "duration": 3,
        "start_time": "2022-04-09T12:30:13.532Z"
      },
      {
        "duration": 4,
        "start_time": "2022-04-09T12:30:15.264Z"
      },
      {
        "duration": 7,
        "start_time": "2022-04-09T12:30:21.198Z"
      },
      {
        "duration": 8,
        "start_time": "2022-04-09T12:30:54.074Z"
      },
      {
        "duration": 7,
        "start_time": "2022-04-09T12:32:15.467Z"
      },
      {
        "duration": 17,
        "start_time": "2022-04-09T12:34:40.963Z"
      },
      {
        "duration": 17,
        "start_time": "2022-04-09T12:35:19.099Z"
      },
      {
        "duration": 7,
        "start_time": "2022-04-09T12:40:56.623Z"
      },
      {
        "duration": 4,
        "start_time": "2022-04-09T12:41:07.359Z"
      },
      {
        "duration": 5,
        "start_time": "2022-04-09T12:41:14.031Z"
      },
      {
        "duration": 13,
        "start_time": "2022-04-09T12:41:31.170Z"
      },
      {
        "duration": 15,
        "start_time": "2022-04-09T12:44:37.150Z"
      },
      {
        "duration": 16,
        "start_time": "2022-04-09T12:45:02.050Z"
      },
      {
        "duration": 14,
        "start_time": "2022-04-09T12:45:45.154Z"
      },
      {
        "duration": 20,
        "start_time": "2022-04-09T12:47:04.378Z"
      },
      {
        "duration": 4,
        "start_time": "2022-04-09T12:47:23.659Z"
      },
      {
        "duration": 16,
        "start_time": "2022-04-09T12:47:26.342Z"
      },
      {
        "duration": 12,
        "start_time": "2022-04-09T12:47:49.859Z"
      },
      {
        "duration": 14,
        "start_time": "2022-04-09T12:48:17.142Z"
      },
      {
        "duration": 11,
        "start_time": "2022-04-09T12:48:44.474Z"
      },
      {
        "duration": 9,
        "start_time": "2022-04-09T12:50:13.226Z"
      },
      {
        "duration": 23,
        "start_time": "2022-04-09T12:50:33.202Z"
      },
      {
        "duration": 10,
        "start_time": "2022-04-09T12:50:37.270Z"
      },
      {
        "duration": 6,
        "start_time": "2022-04-09T12:51:25.454Z"
      },
      {
        "duration": 7,
        "start_time": "2022-04-09T12:51:28.202Z"
      },
      {
        "duration": 4,
        "start_time": "2022-04-09T12:51:32.839Z"
      },
      {
        "duration": 6,
        "start_time": "2022-04-09T12:51:50.898Z"
      },
      {
        "duration": 4,
        "start_time": "2022-04-09T12:51:59.018Z"
      },
      {
        "duration": 45,
        "start_time": "2022-04-19T09:16:05.544Z"
      },
      {
        "duration": 395,
        "start_time": "2022-04-19T09:16:13.335Z"
      },
      {
        "duration": 154,
        "start_time": "2022-04-19T09:16:13.732Z"
      },
      {
        "duration": 20,
        "start_time": "2022-04-19T09:16:13.887Z"
      },
      {
        "duration": 28,
        "start_time": "2022-04-19T09:16:13.910Z"
      },
      {
        "duration": 30,
        "start_time": "2022-04-19T09:16:13.940Z"
      },
      {
        "duration": 3,
        "start_time": "2022-04-19T09:16:13.971Z"
      },
      {
        "duration": 10,
        "start_time": "2022-04-19T09:16:13.976Z"
      },
      {
        "duration": 5,
        "start_time": "2022-04-19T09:16:13.988Z"
      },
      {
        "duration": 46,
        "start_time": "2022-04-19T09:16:13.995Z"
      },
      {
        "duration": 16,
        "start_time": "2022-04-19T09:16:14.044Z"
      },
      {
        "duration": 21,
        "start_time": "2022-04-19T09:16:14.062Z"
      },
      {
        "duration": 87,
        "start_time": "2022-04-19T09:16:14.085Z"
      },
      {
        "duration": 90,
        "start_time": "2022-04-19T09:16:14.174Z"
      },
      {
        "duration": 69,
        "start_time": "2022-04-19T09:16:14.265Z"
      },
      {
        "duration": 40,
        "start_time": "2022-04-19T09:16:14.336Z"
      },
      {
        "duration": 3,
        "start_time": "2022-04-19T09:16:14.378Z"
      },
      {
        "duration": 51,
        "start_time": "2022-04-19T09:16:14.382Z"
      },
      {
        "duration": 39,
        "start_time": "2022-04-19T09:16:14.434Z"
      },
      {
        "duration": 51,
        "start_time": "2022-04-19T09:16:14.474Z"
      },
      {
        "duration": 33,
        "start_time": "2022-04-19T09:16:14.528Z"
      },
      {
        "duration": 4,
        "start_time": "2022-04-19T09:16:14.563Z"
      },
      {
        "duration": 18,
        "start_time": "2022-04-19T09:16:14.568Z"
      },
      {
        "duration": 18,
        "start_time": "2022-04-19T09:16:14.588Z"
      },
      {
        "duration": 23,
        "start_time": "2022-04-19T09:16:14.607Z"
      },
      {
        "duration": 13,
        "start_time": "2022-04-19T09:16:14.631Z"
      },
      {
        "duration": 15,
        "start_time": "2022-04-19T09:16:14.645Z"
      },
      {
        "duration": 41,
        "start_time": "2022-04-19T09:16:14.662Z"
      },
      {
        "duration": 14,
        "start_time": "2022-04-19T09:16:14.707Z"
      },
      {
        "duration": 27,
        "start_time": "2022-04-19T09:16:14.723Z"
      },
      {
        "duration": 16,
        "start_time": "2022-04-19T09:16:14.751Z"
      },
      {
        "duration": 3,
        "start_time": "2022-04-19T09:16:14.769Z"
      },
      {
        "duration": 40,
        "start_time": "2022-04-19T09:16:14.774Z"
      },
      {
        "duration": 16,
        "start_time": "2022-04-19T09:16:14.816Z"
      },
      {
        "duration": 14,
        "start_time": "2022-04-19T09:16:14.833Z"
      },
      {
        "duration": 10,
        "start_time": "2022-04-19T09:16:14.849Z"
      },
      {
        "duration": 11,
        "start_time": "2022-04-19T09:16:14.861Z"
      },
      {
        "duration": 7,
        "start_time": "2022-04-19T09:16:14.874Z"
      },
      {
        "duration": 25,
        "start_time": "2022-04-19T09:16:14.882Z"
      },
      {
        "duration": 30,
        "start_time": "2022-04-19T09:16:14.908Z"
      },
      {
        "duration": 406,
        "start_time": "2022-04-19T11:09:03.559Z"
      },
      {
        "duration": 165,
        "start_time": "2022-04-19T11:09:05.180Z"
      },
      {
        "duration": 17,
        "start_time": "2022-04-19T11:09:12.916Z"
      },
      {
        "duration": 6,
        "start_time": "2022-04-19T11:09:27.906Z"
      },
      {
        "duration": 11,
        "start_time": "2022-04-19T11:09:35.809Z"
      },
      {
        "duration": 4,
        "start_time": "2022-04-19T11:09:40.676Z"
      },
      {
        "duration": 39,
        "start_time": "2022-04-19T11:10:08.897Z"
      },
      {
        "duration": 22,
        "start_time": "2022-04-19T11:10:26.353Z"
      },
      {
        "duration": 27,
        "start_time": "2022-04-19T11:10:31.041Z"
      },
      {
        "duration": 71,
        "start_time": "2022-04-19T11:10:40.565Z"
      },
      {
        "duration": 84,
        "start_time": "2022-04-19T11:10:43.520Z"
      },
      {
        "duration": 66,
        "start_time": "2022-04-19T11:10:46.115Z"
      },
      {
        "duration": 45,
        "start_time": "2022-04-19T11:10:49.668Z"
      },
      {
        "duration": 4,
        "start_time": "2022-04-19T11:10:54.052Z"
      },
      {
        "duration": 10,
        "start_time": "2022-04-19T11:10:56.897Z"
      },
      {
        "duration": 42,
        "start_time": "2022-04-19T11:11:02.957Z"
      },
      {
        "duration": 35,
        "start_time": "2022-04-19T11:11:42.733Z"
      },
      {
        "duration": 32,
        "start_time": "2022-04-19T11:11:59.208Z"
      },
      {
        "duration": 32,
        "start_time": "2022-04-19T11:12:23.937Z"
      },
      {
        "duration": 4,
        "start_time": "2022-04-19T11:12:41.753Z"
      },
      {
        "duration": 18,
        "start_time": "2022-04-19T11:12:45.278Z"
      },
      {
        "duration": 18,
        "start_time": "2022-04-19T11:12:46.923Z"
      },
      {
        "duration": 16,
        "start_time": "2022-04-19T11:12:48.925Z"
      },
      {
        "duration": 19,
        "start_time": "2022-04-19T11:13:20.077Z"
      },
      {
        "duration": 16,
        "start_time": "2022-04-19T11:13:21.883Z"
      },
      {
        "duration": 73,
        "start_time": "2022-04-19T11:16:34.291Z"
      },
      {
        "duration": 73,
        "start_time": "2022-04-19T11:16:42.300Z"
      },
      {
        "duration": 20,
        "start_time": "2022-04-19T11:17:10.906Z"
      },
      {
        "duration": 19,
        "start_time": "2022-04-19T11:17:16.820Z"
      },
      {
        "duration": 4,
        "start_time": "2022-04-19T11:17:54.283Z"
      },
      {
        "duration": 69,
        "start_time": "2022-04-19T11:18:06.667Z"
      },
      {
        "duration": 21,
        "start_time": "2022-04-19T11:18:18.897Z"
      },
      {
        "duration": 22,
        "start_time": "2022-04-19T11:18:24.927Z"
      },
      {
        "duration": 5,
        "start_time": "2022-04-19T11:18:29.791Z"
      },
      {
        "duration": 21,
        "start_time": "2022-04-19T11:18:33.120Z"
      },
      {
        "duration": 13,
        "start_time": "2022-04-19T11:18:38.359Z"
      },
      {
        "duration": 17,
        "start_time": "2022-04-19T11:18:40.484Z"
      },
      {
        "duration": 13,
        "start_time": "2022-04-19T11:18:42.371Z"
      },
      {
        "duration": 9,
        "start_time": "2022-04-19T11:18:48.212Z"
      },
      {
        "duration": 5,
        "start_time": "2022-04-19T11:19:00.358Z"
      },
      {
        "duration": 6,
        "start_time": "2022-04-19T11:19:03.969Z"
      },
      {
        "duration": 5,
        "start_time": "2022-04-19T11:19:08.860Z"
      }
    ],
    "colab": {
      "collapsed_sections": [],
      "provenance": []
    },
    "kernelspec": {
      "display_name": "Python 3 (ipykernel)",
      "language": "python",
      "name": "python3"
    },
    "language_info": {
      "codemirror_mode": {
        "name": "ipython",
        "version": 3
      },
      "file_extension": ".py",
      "mimetype": "text/x-python",
      "name": "python",
      "nbconvert_exporter": "python",
      "pygments_lexer": "ipython3",
      "version": "3.9.5"
    },
    "toc": {
      "base_numbering": 1,
      "nav_menu": {},
      "number_sections": true,
      "sideBar": true,
      "skip_h1_title": true,
      "title_cell": "Table of Contents",
      "title_sidebar": "Contents",
      "toc_cell": false,
      "toc_position": {
        "height": "calc(100% - 180px)",
        "left": "10px",
        "top": "150px",
        "width": "278.682px"
      },
      "toc_section_display": true,
      "toc_window_display": true
    }
  },
  "nbformat": 4,
  "nbformat_minor": 0
}